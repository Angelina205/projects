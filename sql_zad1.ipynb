{
 "cells": [
  {
   "cell_type": "markdown",
   "metadata": {},
   "source": [
    "Теперь можно познакомиться с данными, которые хранят таблицы.\n",
    "acquisition\n",
    "Содержит информацию о покупках одних компаний другими.\n",
    "Таблица включает такие поля:\n",
    "первичный ключ id — идентификатор или уникальный номер покупки;\n",
    "внешний ключ acquiring_company_id — ссылается на таблицу company — идентификатор компании-покупателя, то есть той, что покупает другую компанию;\n",
    "внешний ключ acquired_company_id — ссылается на таблицу company — идентификатор компании, которую покупают;\n",
    "term_code — способ оплаты сделки:\n",
    "cash — наличными;\n",
    "stock — акциями компании;\n",
    "cash_and_stock — смешанный тип оплаты: наличные и акции.\n",
    "price_amount — сумма покупки в долларах;\n",
    "acquired_at — дата совершения сделки;\n",
    "created_at — дата и время создания записи в таблице;\n",
    "updated_at — дата и время обновления записи в таблице.\n",
    "company\n",
    "Содержит информацию о компаниях-стартапах.\n",
    "первичный ключ id — идентификатор, или уникальный номер компании;\n",
    "name — название компании;\n",
    "category_code — категория деятельности компании, например:\n",
    "news — специализируется на работе с новостями;\n",
    "social — специализируется на социальной работе.\n",
    "status — статус компании:\n",
    "acquired — приобретена;\n",
    "operating — действует;\n",
    "ipo — вышла на IPO;\n",
    "closed — перестала существовать.\n",
    "founded_at — дата основания компании;\n",
    "closed_at — дата закрытия компании, которую указывают в том случае, если компании больше не существует;\n",
    "domain — домен сайта компании;\n",
    "network_username — профиль фонда в корпоративной сети биржи;\n",
    "country_code — код страны, например, USA для США, GBR для Великобритании;\n",
    "investment_rounds — число раундов, в которых компания участвовала как инвестор;\n",
    "funding_rounds — число раундов, в которых компания привлекала инвестиции;\n",
    "funding_total — сумма привлечённых инвестиций в долларах;\n",
    "milestones — количество важных этапов в истории компании;\n",
    "created_at — дата и время создания записи в таблице;\n",
    "updated_at — дата и время обновления записи в таблице.\n",
    "education\n",
    "Хранит информацию об уровне образования сотрудников компаний.\n",
    "первичный ключ id — уникальный номер записи с информацией об образовании;\n",
    "внешний ключ person_id — ссылается на таблицу people — идентификатор человека, информация о котором представлена в записи;\n",
    "degree_type — учебная степень, например:\n",
    "BA — Bachelor of Arts — бакалавр гуманитарных наук;\n",
    "MS — Master of Science — магистр естественных наук.\n",
    "instituition — учебное заведение, название университета;\n",
    "graduated_at — дата завершения обучения, выпуска;\n",
    "created_at — дата и время создания записи в таблице;\n",
    "updated_at — дата и время обновления записи в таблице.\n",
    "fund\n",
    "Хранит информацию о венчурных фондах. \n",
    "первичный ключ id — уникальный номер венчурного фонда;\n",
    "name — название венчурного фонда;\n",
    "founded_at — дата основания фонда;\n",
    "domain — домен сайта фонда;\n",
    "network_username — профиль фонда в корпоративной сети биржи;\n",
    "country_code — код страны фонда;\n",
    "investment_rounds — число инвестиционных раундов, в которых фонд принимал участие;\n",
    "invested_companies — число компаний, в которые инвестировал фонд;\n",
    "milestones — количество важных этапов в истории фонда;\n",
    "created_at — дата и время создания записи в таблице;\n",
    "updated_at — дата и время обновления записи в таблице.\n",
    "funding_round\n",
    "Содержит информацию о раундах инвестиций. \n",
    "первичный ключ id — уникальный номер инвестиционного раунда;\n",
    "внешний ключ company_id — ссылается на таблицу company — уникальный номер компании, участвовавшей в инвестиционном раунде;\n",
    "funded_at — дата проведения раунда;\n",
    "funding_round_type — тип инвестиционного раунда, например:\n",
    "venture — венчурный раунд;\n",
    "angel — ангельский раунд;\n",
    "series_a — раунд А.\n",
    "raised_amount — сумма инвестиций, которую привлекла компания в этом раунде в долларах;\n",
    "pre_money_valuation — предварительная, проведённая до инвестиций оценка стоимости компании в долларах;\n",
    "participants — количество участников инвестиционного раунда;\n",
    "is_first_round — является ли этот раунд первым для компании;\n",
    "is_last_round — является ли этот раунд последним для компании;\n",
    "created_at — дата и время создания записи в таблице;\n",
    "updated_at — дата и время обновления записи в таблице.\n",
    "investment\n",
    "Содержит информацию об инвестициях венчурных фондов в компании-стартапы.\n",
    "первичный ключ id — уникальный номер инвестиции;\n",
    "внешний ключ funding_round_id — ссылается на таблицу funding_round — уникальный номер раунда инвестиции;\n",
    "внешний ключ company_id — ссылается на таблицу company — уникальный номер компании-стартапа, в которую инвестируют;\n",
    "внешний ключ fund_id — ссылается на таблицу fund — уникальный номер фонда, инвестирующего в компанию-стартап;\n",
    "created_at — дата и время создания записи в таблице;\n",
    "updated_at — дата и время обновления записи в таблице.\n",
    "people\n",
    "Содержит информацию о сотрудниках компаний-стартапов.\n",
    "первичный ключ id — уникальный номер сотрудника;\n",
    "first_name — имя сотрудника;\n",
    "last_name — фамилия сотрудника;\n",
    "внешний ключ company_id — ссылается на таблицу company — уникальный номер компании-стартапа;\n",
    "network_username — профиль фонда в корпоративной сети биржи;\n",
    "created_at — дата и время создания записи в таблице;\n",
    "updated_at — дата и время обновления записи в таблице."
   ]
  },
  {
   "cell_type": "markdown",
   "metadata": {},
   "source": [
    "Отобразите все записи из таблицы company по компаниям, которые закрылись."
   ]
  },
  {
   "cell_type": "code",
   "execution_count": null,
   "metadata": {},
   "outputs": [],
   "source": [
    "SELECT *\n",
    "FROM company\n",
    "WHERE status = 'closed';"
   ]
  },
  {
   "cell_type": "markdown",
   "metadata": {},
   "source": [
    "Отобразите количество привлечённых средств для новостных компаний США. Используйте данные из таблицы company. Отсортируйте таблицу по убыванию значений в поле funding_total."
   ]
  },
  {
   "cell_type": "markdown",
   "metadata": {},
   "source": [
    "SELECT funding_total\n",
    "FROM company\n",
    "WHERE category_code = 'news' AND country_code = 'USA'\n",
    "ORDER BY funding_total DESC;"
   ]
  },
  {
   "cell_type": "markdown",
   "metadata": {},
   "source": [
    "Найдите общую сумму сделок по покупке одних компаний другими в долларах. Отберите сделки, которые осуществлялись только за наличные с 2011 по 2013 год включительно."
   ]
  },
  {
   "cell_type": "code",
   "execution_count": null,
   "metadata": {},
   "outputs": [],
   "source": [
    "SELECT SUM(price_amount)\n",
    "FROM acquisition\n",
    "WHERE term_code = 'cash' AND\n",
    "      EXTRACT(YEAR FROM acquired_at) BETWEEN 2011 AND 2013;"
   ]
  },
  {
   "cell_type": "markdown",
   "metadata": {},
   "source": [
    "\n",
    "Отобразите имя, фамилию и названия аккаунтов людей в поле network_username, у которых названия аккаунтов начинаются на 'Silver'."
   ]
  },
  {
   "cell_type": "code",
   "execution_count": null,
   "metadata": {},
   "outputs": [],
   "source": [
    "SELECT first_name,\n",
    "       last_name,\n",
    "       network_username\n",
    "FROM people\n",
    "WHERE network_username LIKE 'Silver%';"
   ]
  },
  {
   "cell_type": "markdown",
   "metadata": {},
   "source": [
    "Выведите на экран всю информацию о людях, у которых названия аккаунтов в поле network_username содержат подстроку 'money', а фамилия начинается на 'K'."
   ]
  },
  {
   "cell_type": "code",
   "execution_count": null,
   "metadata": {},
   "outputs": [],
   "source": [
    "SELECT *\n",
    "FROM people\n",
    "WHERE network_username LIKE '%money%' \n",
    "      AND last_name LIKE 'K%';"
   ]
  },
  {
   "cell_type": "markdown",
   "metadata": {},
   "source": [
    "\n",
    "Для каждой страны отобразите общую сумму привлечённых инвестиций, которые получили компании, зарегистрированные в этой стране. Страну, в которой зарегистрирована компания, можно определить по коду страны. Отсортируйте данные по убыванию суммы."
   ]
  },
  {
   "cell_type": "code",
   "execution_count": null,
   "metadata": {},
   "outputs": [],
   "source": [
    "SELECT country_code,\n",
    "SUM(funding_total)\n",
    "FROM company\n",
    "GROUP BY country_code\n",
    "ORDER BY SUM(funding_total) DESC;"
   ]
  },
  {
   "cell_type": "markdown",
   "metadata": {},
   "source": [
    "Составьте таблицу, в которую войдёт дата проведения раунда, а также минимальное и максимальное значения суммы инвестиций, привлечённых в эту дату.\n",
    "Оставьте в итоговой таблице только те записи, в которых минимальное значение суммы инвестиций не равно нулю и не равно максимальному значению."
   ]
  },
  {
   "cell_type": "code",
   "execution_count": null,
   "metadata": {},
   "outputs": [],
   "source": [
    "SELECT funded_at,\n",
    "MIN(raised_amount),\n",
    "MAX(raised_amount)\n",
    "FROM funding_round\n",
    "GROUP BY funded_at\n",
    "HAVING MIN(raised_amount) <> 0 AND MIN(raised_amount) <> MAX(raised_amount);"
   ]
  },
  {
   "cell_type": "markdown",
   "metadata": {},
   "source": [
    "Создайте поле с категориями:\n",
    "Для фондов, которые инвестируют в 100 и более компаний, назначьте категорию high_activity.\n",
    "Для фондов, которые инвестируют в 20 и более компаний до 100, назначьте категорию middle_activity.\n",
    "Если количество инвестируемых компаний фонда не достигает 20, назначьте категорию low_activity.\n",
    "Отобразите все поля таблицы fund и новое поле с категориями."
   ]
  },
  {
   "cell_type": "code",
   "execution_count": null,
   "metadata": {},
   "outputs": [],
   "source": [
    "SELECT*,\n",
    "CASE\n",
    "WHEN invested_companies >= 100 THEN 'high_activity'\n",
    "WHEN invested_companies < 20 THEN 'low_activity'\n",
    "ELSE 'middle_activity'\n",
    "END AS category\n",
    "FROM fund;"
   ]
  },
  {
   "cell_type": "markdown",
   "metadata": {},
   "source": [
    "Для каждой из категорий, назначенных в предыдущем задании, посчитайте округлённое до ближайшего целого числа среднее количество инвестиционных раундов, в которых фонд принимал участие. Выведите на экран категории и среднее число инвестиционных раундов. Отсортируйте таблицу по возрастанию среднего"
   ]
  },
  {
   "cell_type": "code",
   "execution_count": null,
   "metadata": {},
   "outputs": [],
   "source": [
    "SELECT\n",
    "CASE\n",
    "WHEN invested_companies>=100 THEN 'high_activity'\n",
    "WHEN invested_companies>=20 THEN 'middle_activity'\n",
    "ELSE 'low_activity'\n",
    "END AS activity,\n",
    "ROUND(AVG(investment_rounds))\n",
    "FROM fund\n",
    "GROUP BY activity\n",
    "ORDER BY ROUND(AVG(investment_rounds));"
   ]
  },
  {
   "cell_type": "markdown",
   "metadata": {},
   "source": [
    "\n",
    "Проанализируйте, в каких странах находятся фонды, которые чаще всего инвестируют в стартапы. \n",
    "Для каждой страны посчитайте минимальное, максимальное и среднее число компаний, в которые инвестировали фонды этой страны, основанные с 2010 по 2012 год включительно. Исключите страны с фондами, у которых минимальное число компаний, получивших инвестиции, равно нулю. \n",
    "Выгрузите десять самых активных стран-инвесторов: отсортируйте таблицу по среднему количеству компаний от большего к меньшему. Затем добавьте сортировку по коду страны в лексикографическом порядке."
   ]
  },
  {
   "cell_type": "code",
   "execution_count": null,
   "metadata": {},
   "outputs": [],
   "source": [
    "SELECT country_code,\n",
    "MIN(invested_companies),\n",
    "MAX(invested_companies),\n",
    "AVG(invested_companies)\n",
    "FROM fund\n",
    "WHERE EXTRACT (YEAR FROM founded_at) IN  (2010, 2011,2012)\n",
    "GROUP BY country_code\n",
    "HAVING MIN(invested_companies) >0\n",
    "ORDER BY AVG(invested_companies) DESC, country_code\n",
    "LIMIT 10;"
   ]
  },
  {
   "cell_type": "markdown",
   "metadata": {},
   "source": [
    "Отобразите имя и фамилию всех сотрудников стартапов. Добавьте поле с названием учебного заведения, которое окончил сотрудник, если эта информация известна."
   ]
  },
  {
   "cell_type": "code",
   "execution_count": null,
   "metadata": {},
   "outputs": [],
   "source": [
    "SELECT p.first_name,\n",
    "p.last_name,\n",
    "e.instituition\n",
    "FROM people AS p\n",
    "LEFT JOIN education AS e ON p.id = e.person_id;"
   ]
  },
  {
   "cell_type": "markdown",
   "metadata": {},
   "source": [
    "Для каждой компании найдите количество учебных заведений, которые окончили её сотрудники. Выведите название компании и число уникальных названий учебных заведений. Составьте топ-5 компаний по количеству университетов."
   ]
  },
  {
   "cell_type": "code",
   "execution_count": null,
   "metadata": {},
   "outputs": [],
   "source": [
    "SELECT c.name,\n",
    "COUNT(DISTINCT e.instituition)\n",
    "FROM company AS c\n",
    "JOIN people AS p ON c.id = p.company_id\n",
    "JOIN education AS e ON p.id = e.person_id\n",
    "GROUP BY c.name\n",
    "ORDER BY COUNT(DISTINCT e.instituition) DESC\n",
    "LIMIT 5;"
   ]
  },
  {
   "cell_type": "markdown",
   "metadata": {},
   "source": [
    "Составьте список с уникальными названиями закрытых компаний, для которых первый раунд финансирования оказался последним."
   ]
  },
  {
   "cell_type": "code",
   "execution_count": null,
   "metadata": {},
   "outputs": [],
   "source": [
    "SELECT name\n",
    "FROM company AS c\n",
    "JOIN funding_round AS fr ON c.id = fr.company_id\n",
    "WHERE STATUS ='closed'\n",
    "AND is_first_round = 1\n",
    "AND is_last_round = 1\n",
    "GROUP BY name;"
   ]
  },
  {
   "cell_type": "markdown",
   "metadata": {},
   "source": [
    "Составьте список уникальных номеров сотрудников, которые работают в компаниях, отобранных в предыдущем задании."
   ]
  },
  {
   "cell_type": "code",
   "execution_count": null,
   "metadata": {},
   "outputs": [],
   "source": [
    "SELECT DISTINCT p.id\n",
    "FROM people AS p\n",
    "WHERE p.company_id IN\n",
    "(SELECT c.id\n",
    "FROM company AS c\n",
    "JOIN funding_round AS fr ON c.id = fr.company_id\n",
    "WHERE STATUS ='closed'\n",
    "AND is_first_round = 1\n",
    "AND is_last_round = 1\n",
    "GROUP BY c.id);"
   ]
  },
  {
   "cell_type": "markdown",
   "metadata": {},
   "source": [
    "Составьте таблицу, куда войдут уникальные пары с номерами сотрудников из предыдущей задачи и учебным заведением, которое окончил сотрудник."
   ]
  },
  {
   "cell_type": "code",
   "execution_count": null,
   "metadata": {},
   "outputs": [],
   "source": [
    "SELECT p.id,\n",
    "e.instituition\n",
    "FROM people AS p\n",
    "LEFT JOIN education AS e ON p.id = e.person_id\n",
    "WHERE p.company_id IN\n",
    "(SELECT c.id\n",
    "FROM company AS c\n",
    "JOIN funding_round AS fr ON c.id = fr.company_id\n",
    "WHERE STATUS ='closed'\n",
    "AND is_first_round = 1\n",
    "AND is_last_round = 1\n",
    "GROUP BY c.id)\n",
    "GROUP BY p.id, e.instituition\n",
    "HAVING instituition IS NOT NULL;"
   ]
  },
  {
   "cell_type": "markdown",
   "metadata": {},
   "source": [
    "Посчитайте количество учебных заведений для каждого сотрудника из предыдущего задания. При подсчёте учитывайте, что некоторые сотрудники могли окончить одно и то же заведение дважды."
   ]
  },
  {
   "cell_type": "code",
   "execution_count": null,
   "metadata": {},
   "outputs": [],
   "source": [
    "SELECT p.id,\n",
    "COUNT(e.instituition)\n",
    "FROM people AS p\n",
    "LEFT JOIN education AS e ON p.id = e.person_id\n",
    "WHERE p.company_id IN\n",
    "(SELECT c.id\n",
    "FROM company AS c\n",
    "JOIN funding_round AS fr ON c.id = fr.company_id\n",
    "WHERE STATUS ='closed'\n",
    "AND is_first_round = 1\n",
    "AND is_last_round = 1\n",
    "GROUP BY c.id)\n",
    "GROUP BY p.id\n",
    "HAVING COUNT(DISTINCT e.instituition) >0;"
   ]
  },
  {
   "cell_type": "markdown",
   "metadata": {},
   "source": [
    "Дополните предыдущий запрос и выведите среднее число учебных заведений (всех, не только уникальных), которые окончили сотрудники разных компаний. Нужно вывести только одну запись, группировка здесь не понадобится."
   ]
  },
  {
   "cell_type": "code",
   "execution_count": null,
   "metadata": {},
   "outputs": [],
   "source": [
    "WITH base AS\n",
    "(SELECT p.id,\n",
    "COUNT(e.instituition)\n",
    "FROM people AS p\n",
    "LEFT JOIN education AS e ON p.id = e.person_id\n",
    "WHERE p.company_id IN\n",
    "(SELECT c.id\n",
    "FROM company AS c\n",
    "JOIN funding_round AS fr ON c.id = fr.company_id\n",
    "WHERE STATUS ='closed'\n",
    "AND is_first_round = 1\n",
    "AND is_last_round = 1\n",
    "GROUP BY c.id)\n",
    "GROUP BY p.id\n",
    "HAVING COUNT(DISTINCT e.instituition) >0)\n",
    "SELECT AVG(COUNT)\n",
    "FROM base;"
   ]
  },
  {
   "cell_type": "markdown",
   "metadata": {},
   "source": [
    "\n",
    "Напишите похожий запрос: выведите среднее число учебных заведений (всех, не только уникальных), которые окончили сотрудники Socialnet."
   ]
  },
  {
   "cell_type": "code",
   "execution_count": null,
   "metadata": {},
   "outputs": [],
   "source": [
    "WITH i AS (SELECT (p.id), COUNT(e.instituition)\n",
    "\t\t   FROM people AS p\n",
    "           LEFT JOIN education AS e ON p.id=e.person_id\n",
    "           WHERE company_id IN (SELECT id\n",
    "                                FROM company AS c\n",
    "                                WHERE name = 'Socialnet' )\n",
    "                            AND e.instituition IS NOT NULL\n",
    "\t\t   GROUP BY p.id)\n",
    "\n",
    "SELECT AVG(count)\n",
    "FROM i;"
   ]
  },
  {
   "cell_type": "markdown",
   "metadata": {},
   "source": [
    "\n",
    "Составьте таблицу из полей:\n",
    "name_of_fund — название фонда;\n",
    "name_of_company — название компании;\n",
    "amount — сумма инвестиций, которую привлекла компания в раунде.\n",
    "В таблицу войдут данные о компаниях, в истории которых было больше шести важных этапов, а раунды финансирования проходили с 2012 по 2013 год включительно."
   ]
  },
  {
   "cell_type": "code",
   "execution_count": null,
   "metadata": {},
   "outputs": [],
   "source": [
    "SELECT f.name AS name_of_fund,\n",
    "       c.name AS name_of_company,\n",
    "       fr.raised_amount AS amount\n",
    "       \n",
    "FROM investment AS i\n",
    "LEFT JOIN company AS c ON i.company_id=c.id\n",
    "LEFT JOIN fund AS f ON i.fund_id=f.id\n",
    "LEFT JOIN funding_round AS fr ON i.funding_round_id=fr.id\n",
    "WHERE i.company_id IN (SELECT id\n",
    "                     FROM company\n",
    "                     WHERE milestones > 6)\n",
    "                   AND EXTRACT(YEAR FROM funded_at) IN (2012, 2013);"
   ]
  },
  {
   "cell_type": "markdown",
   "metadata": {},
   "source": [
    "\n",
    "Выгрузите таблицу, в которой будут такие поля:\n",
    "название компании-покупателя;\n",
    "сумма сделки;\n",
    "название компании, которую купили;\n",
    "сумма инвестиций, вложенных в купленную компанию;\n",
    "доля, которая отображает, во сколько раз сумма покупки превысила сумму вложенных в компанию инвестиций, округлённая до ближайшего целого числа.\n",
    "Не учитывайте те сделки, в которых сумма покупки равна нулю. Если сумма инвестиций в компанию равна нулю, исключите такую компанию из таблицы. \n",
    "Отсортируйте таблицу по сумме сделки от большей к меньшей, а затем по названию купленной компании в лексикографическом порядке. Ограничьте таблицу первыми десятью записями."
   ]
  },
  {
   "cell_type": "code",
   "execution_count": null,
   "metadata": {},
   "outputs": [],
   "source": [
    "SELECT c.name AS acquiring_name,\n",
    "       a.price_amount,\n",
    "       c2.name AS acquired_name,\n",
    "       c2.funding_total,\n",
    "       ROUND((a.price_amount / c2.funding_total))\n",
    "\n",
    "FROM acquisition AS a\n",
    "LEFT JOIN company AS c ON a.acquiring_company_id=c.id\n",
    "LEFT JOIN company AS c2 ON a.acquired_company_id=c2.id\n",
    "WHERE a.price_amount != 0 AND c2.funding_total != 0\n",
    "ORDER BY  a.price_amount DESC, c2.name\n",
    "LIMIT 10;"
   ]
  },
  {
   "cell_type": "markdown",
   "metadata": {},
   "source": [
    "Выгрузите таблицу, в которую войдут названия компаний из категории social, получившие финансирование с 2010 по 2013 год включительно. Проверьте, что сумма инвестиций не равна нулю. Выведите также номер месяца, в котором проходил раунд финансирования."
   ]
  },
  {
   "cell_type": "code",
   "execution_count": null,
   "metadata": {},
   "outputs": [],
   "source": [
    "SELECT c.name,\n",
    "       EXTRACT(MONTH FROM fr.funded_at) AS funding_month\n",
    "FROM company AS c\n",
    "LEFT JOIN funding_round AS fr ON c.id = fr.company_id\n",
    "WHERE c.category_code = 'social' \n",
    "    AND EXTRACT(YEAR FROM fr.funded_at) BETWEEN 2010 AND 2013\n",
    "    AND fr.raised_amount > 0;"
   ]
  },
  {
   "cell_type": "markdown",
   "metadata": {},
   "source": [
    "Отберите данные по месяцам с 2010 по 2013 год, когда проходили инвестиционные раунды. Сгруппируйте данные по номеру месяца и получите таблицу, в которой будут поля:\n",
    "номер месяца, в котором проходили раунды;\n",
    "количество уникальных названий фондов из США, которые инвестировали в этом месяце;\n",
    "количество компаний, купленных за этот месяц;\n",
    "общая сумма сделок по покупкам в этом месяце."
   ]
  },
  {
   "cell_type": "code",
   "execution_count": null,
   "metadata": {},
   "outputs": [],
   "source": [
    "WITH fundings AS\n",
    "(SELECT EXTRACT(MONTH FROM CAST(fr.funded_at AS DATE)) AS funding_month,\n",
    "COUNT(DISTINCT f.id) AS us_funds\n",
    "FROM fund AS f\n",
    "LEFT JOIN investment AS i ON f.id = i.fund_id\n",
    "LEFT JOIN funding_round AS fr ON i.funding_round_id = fr.id\n",
    "WHERE f.country_code = 'USA'\n",
    "AND EXTRACT(YEAR FROM CAST(fr.funded_at AS DATE)) BETWEEN 2010 AND 2013\n",
    "GROUP BY funding_month),\n",
    "acquisitions AS\n",
    "(SELECT EXTRACT(MONTH FROM CAST(acquired_at AS DATE)) AS funding_month,\n",
    "COUNT(acquired_company_id) AS bought_co,\n",
    "SUM(price_amount) AS sum_total\n",
    "FROM acquisition\n",
    "WHERE EXTRACT(YEAR FROM CAST(acquired_at AS DATE)) BETWEEN 2010 AND 2013\n",
    "GROUP BY funding_month)\n",
    "SELECT fnd.funding_month, fnd.us_funds, acq.bought_co, acq.sum_total\n",
    "FROM fundings AS fnd\n",
    "LEFT JOIN acquisitions AS acq ON fnd.funding_month = acq.funding_month;"
   ]
  },
  {
   "cell_type": "markdown",
   "metadata": {},
   "source": [
    "Составьте сводную таблицу и выведите среднюю сумму инвестиций для стран, в которых есть стартапы, зарегистрированные в 2011, 2012 и 2013 годах. Данные за каждый год должны быть в отдельном поле. Отсортируйте таблицу по среднему значению инвестиций за 2011 год от большего к меньшему."
   ]
  },
  {
   "cell_type": "code",
   "execution_count": null,
   "metadata": {},
   "outputs": [],
   "source": [
    "WITH inv_2011 AS\n",
    "(SELECT country_code AS country,\n",
    "AVG(funding_total) AS y_2011\n",
    "FROM company\n",
    "WHERE EXTRACT(YEAR FROM founded_at::DATE) IN(2011, 2012, 2013)\n",
    "GROUP BY country, EXTRACT(YEAR FROM founded_at)\n",
    "HAVING EXTRACT(YEAR FROM founded_at) = '2011'),\n",
    "y_12 AS\n",
    "(SELECT country_code AS country,\n",
    "AVG(funding_total) AS y_2012\n",
    "FROM company\n",
    "WHERE EXTRACT(YEAR FROM founded_at::DATE) IN(2011, 2012, 2013)\n",
    "GROUP BY country, EXTRACT(YEAR FROM founded_at)\n",
    "HAVING EXTRACT(YEAR FROM founded_at) = '2012'),\n",
    "y_13 AS\n",
    "(SELECT country_code AS country,\n",
    "AVG(funding_total) AS y_2013\n",
    "FROM company\n",
    "WHERE EXTRACT(YEAR FROM founded_at::DATE) IN(2011, 2012, 2013)\n",
    "GROUP BY country, EXTRACT(YEAR FROM founded_at)\n",
    "HAVING EXTRACT(YEAR FROM founded_at) = '2013')\n",
    "SELECT inv_2011.country, y_2011, y_2012, y_2013\n",
    "FROM inv_2011\n",
    "JOIN y_12 ON inv_2011.country = y_12.country\n",
    "JOIN y_13 ON y_12.country = y_13.country\n",
    "ORDER BY y_2011 DESC;"
   ]
  }
 ],
 "metadata": {
  "kernelspec": {
   "display_name": "Python 3",
   "language": "python",
   "name": "python3"
  },
  "language_info": {
   "codemirror_mode": {
    "name": "ipython",
    "version": 3
   },
   "file_extension": ".py",
   "mimetype": "text/x-python",
   "name": "python",
   "nbconvert_exporter": "python",
   "pygments_lexer": "ipython3",
   "version": "3.10.0"
  }
 },
 "nbformat": 4,
 "nbformat_minor": 2
}
