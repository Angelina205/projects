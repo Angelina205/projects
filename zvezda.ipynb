{
 "cells": [
  {
   "cell_type": "markdown",
   "id": "fc50d468",
   "metadata": {},
   "source": [
    "Имеется задача задача от обсерватории «Небо на ладони»: придумать, как с помощью нейросети определять температуру на поверхности обнаруженных звёзд."
   ]
  },
  {
   "cell_type": "markdown",
   "id": "a579bace",
   "metadata": {},
   "source": [
    "Характеристики\n",
    "1.  Относительная светимость L/Lo — светимость звезды относительно Солнца.\n",
    "2. Относительный радиус R/Ro — радиус звезды относительно радиуса Солнца.\n",
    "3. Абсолютная звёздная величина Mv — физическая величина, характеризующая блеск звезды.\n",
    "4. Звёздный цвет (white, red, blue, yellow, yellow-orange и др.) — цвет звезды, который определяют на основе спектрального анализа.\n",
    "5. Тип звезды.\n",
    "6. Абсолютная температура T(K) — температура на поверхности звезды в Кельвинах."
   ]
  },
  {
   "cell_type": "markdown",
   "id": "corresponding-armstrong",
   "metadata": {
    "ExecuteTime": {
     "end_time": "2022-05-05T04:58:05.692448Z",
     "start_time": "2022-05-05T04:58:05.688565Z"
    }
   },
   "source": [
    "## Загрузка данных"
   ]
  },
  {
   "cell_type": "code",
   "execution_count": 1,
   "id": "spectacular-folder",
   "metadata": {},
   "outputs": [],
   "source": [
    "import pandas as pd\n",
    "import numpy as np\n",
    "import seaborn as sns\n",
    "import matplotlib.pyplot as plt\n",
    "from sklearn.model_selection import train_test_split\n",
    "from sklearn.preprocessing import StandardScaler, OneHotEncoder\n",
    "from sklearn.compose import ColumnTransformer\n",
    "import torch\n",
    "import torch.nn as nn\n",
    "from torch.utils.data import DataLoader, TensorDataset\n",
    "from sklearn.metrics import mean_squared_error"
   ]
  },
  {
   "cell_type": "code",
   "execution_count": 2,
   "id": "a1d5edef",
   "metadata": {},
   "outputs": [],
   "source": [
    "data = pd.read_csv('/datasets/6_class.csv', index_col = 0)"
   ]
  },
  {
   "cell_type": "code",
   "execution_count": 3,
   "id": "2da3955f",
   "metadata": {},
   "outputs": [
    {
     "name": "stdout",
     "output_type": "stream",
     "text": [
      "<class 'pandas.core.frame.DataFrame'>\n",
      "Int64Index: 240 entries, 0 to 239\n",
      "Data columns (total 6 columns):\n",
      " #   Column                  Non-Null Count  Dtype  \n",
      "---  ------                  --------------  -----  \n",
      " 0   Temperature (K)         240 non-null    int64  \n",
      " 1   Luminosity(L/Lo)        240 non-null    float64\n",
      " 2   Radius(R/Ro)            240 non-null    float64\n",
      " 3   Absolute magnitude(Mv)  240 non-null    float64\n",
      " 4   Star type               240 non-null    int64  \n",
      " 5   Star color              240 non-null    object \n",
      "dtypes: float64(3), int64(2), object(1)\n",
      "memory usage: 13.1+ KB\n"
     ]
    }
   ],
   "source": [
    "data.info()"
   ]
  },
  {
   "cell_type": "code",
   "execution_count": 4,
   "id": "6cb862fb",
   "metadata": {},
   "outputs": [
    {
     "data": {
      "text/html": [
       "<div>\n",
       "<style scoped>\n",
       "    .dataframe tbody tr th:only-of-type {\n",
       "        vertical-align: middle;\n",
       "    }\n",
       "\n",
       "    .dataframe tbody tr th {\n",
       "        vertical-align: top;\n",
       "    }\n",
       "\n",
       "    .dataframe thead th {\n",
       "        text-align: right;\n",
       "    }\n",
       "</style>\n",
       "<table border=\"1\" class=\"dataframe\">\n",
       "  <thead>\n",
       "    <tr style=\"text-align: right;\">\n",
       "      <th></th>\n",
       "      <th>Temperature (K)</th>\n",
       "      <th>Luminosity(L/Lo)</th>\n",
       "      <th>Radius(R/Ro)</th>\n",
       "      <th>Absolute magnitude(Mv)</th>\n",
       "      <th>Star type</th>\n",
       "    </tr>\n",
       "  </thead>\n",
       "  <tbody>\n",
       "    <tr>\n",
       "      <th>count</th>\n",
       "      <td>240.000000</td>\n",
       "      <td>240.000000</td>\n",
       "      <td>240.000000</td>\n",
       "      <td>240.000000</td>\n",
       "      <td>240.000000</td>\n",
       "    </tr>\n",
       "    <tr>\n",
       "      <th>mean</th>\n",
       "      <td>10497.462500</td>\n",
       "      <td>107188.361635</td>\n",
       "      <td>237.157781</td>\n",
       "      <td>4.382396</td>\n",
       "      <td>2.500000</td>\n",
       "    </tr>\n",
       "    <tr>\n",
       "      <th>std</th>\n",
       "      <td>9552.425037</td>\n",
       "      <td>179432.244940</td>\n",
       "      <td>517.155763</td>\n",
       "      <td>10.532512</td>\n",
       "      <td>1.711394</td>\n",
       "    </tr>\n",
       "    <tr>\n",
       "      <th>min</th>\n",
       "      <td>1939.000000</td>\n",
       "      <td>0.000080</td>\n",
       "      <td>0.008400</td>\n",
       "      <td>-11.920000</td>\n",
       "      <td>0.000000</td>\n",
       "    </tr>\n",
       "    <tr>\n",
       "      <th>25%</th>\n",
       "      <td>3344.250000</td>\n",
       "      <td>0.000865</td>\n",
       "      <td>0.102750</td>\n",
       "      <td>-6.232500</td>\n",
       "      <td>1.000000</td>\n",
       "    </tr>\n",
       "    <tr>\n",
       "      <th>50%</th>\n",
       "      <td>5776.000000</td>\n",
       "      <td>0.070500</td>\n",
       "      <td>0.762500</td>\n",
       "      <td>8.313000</td>\n",
       "      <td>2.500000</td>\n",
       "    </tr>\n",
       "    <tr>\n",
       "      <th>75%</th>\n",
       "      <td>15055.500000</td>\n",
       "      <td>198050.000000</td>\n",
       "      <td>42.750000</td>\n",
       "      <td>13.697500</td>\n",
       "      <td>4.000000</td>\n",
       "    </tr>\n",
       "    <tr>\n",
       "      <th>max</th>\n",
       "      <td>40000.000000</td>\n",
       "      <td>849420.000000</td>\n",
       "      <td>1948.500000</td>\n",
       "      <td>20.060000</td>\n",
       "      <td>5.000000</td>\n",
       "    </tr>\n",
       "  </tbody>\n",
       "</table>\n",
       "</div>"
      ],
      "text/plain": [
       "       Temperature (K)  Luminosity(L/Lo)  Radius(R/Ro)  \\\n",
       "count       240.000000        240.000000    240.000000   \n",
       "mean      10497.462500     107188.361635    237.157781   \n",
       "std        9552.425037     179432.244940    517.155763   \n",
       "min        1939.000000          0.000080      0.008400   \n",
       "25%        3344.250000          0.000865      0.102750   \n",
       "50%        5776.000000          0.070500      0.762500   \n",
       "75%       15055.500000     198050.000000     42.750000   \n",
       "max       40000.000000     849420.000000   1948.500000   \n",
       "\n",
       "       Absolute magnitude(Mv)   Star type  \n",
       "count              240.000000  240.000000  \n",
       "mean                 4.382396    2.500000  \n",
       "std                 10.532512    1.711394  \n",
       "min                -11.920000    0.000000  \n",
       "25%                 -6.232500    1.000000  \n",
       "50%                  8.313000    2.500000  \n",
       "75%                 13.697500    4.000000  \n",
       "max                 20.060000    5.000000  "
      ]
     },
     "metadata": {},
     "output_type": "display_data"
    }
   ],
   "source": [
    "display (data.describe())"
   ]
  },
  {
   "cell_type": "code",
   "execution_count": 5,
   "id": "241dd1ea",
   "metadata": {},
   "outputs": [
    {
     "data": {
      "text/html": [
       "<div>\n",
       "<style scoped>\n",
       "    .dataframe tbody tr th:only-of-type {\n",
       "        vertical-align: middle;\n",
       "    }\n",
       "\n",
       "    .dataframe tbody tr th {\n",
       "        vertical-align: top;\n",
       "    }\n",
       "\n",
       "    .dataframe thead th {\n",
       "        text-align: right;\n",
       "    }\n",
       "</style>\n",
       "<table border=\"1\" class=\"dataframe\">\n",
       "  <thead>\n",
       "    <tr style=\"text-align: right;\">\n",
       "      <th></th>\n",
       "      <th>Temperature (K)</th>\n",
       "      <th>Luminosity(L/Lo)</th>\n",
       "      <th>Radius(R/Ro)</th>\n",
       "      <th>Absolute magnitude(Mv)</th>\n",
       "      <th>Star type</th>\n",
       "      <th>Star color</th>\n",
       "    </tr>\n",
       "  </thead>\n",
       "  <tbody>\n",
       "    <tr>\n",
       "      <th>0</th>\n",
       "      <td>3068</td>\n",
       "      <td>0.002400</td>\n",
       "      <td>0.1700</td>\n",
       "      <td>16.120</td>\n",
       "      <td>0</td>\n",
       "      <td>Red</td>\n",
       "    </tr>\n",
       "    <tr>\n",
       "      <th>1</th>\n",
       "      <td>3042</td>\n",
       "      <td>0.000500</td>\n",
       "      <td>0.1542</td>\n",
       "      <td>16.600</td>\n",
       "      <td>0</td>\n",
       "      <td>Red</td>\n",
       "    </tr>\n",
       "    <tr>\n",
       "      <th>2</th>\n",
       "      <td>2600</td>\n",
       "      <td>0.000300</td>\n",
       "      <td>0.1020</td>\n",
       "      <td>18.700</td>\n",
       "      <td>0</td>\n",
       "      <td>Red</td>\n",
       "    </tr>\n",
       "    <tr>\n",
       "      <th>3</th>\n",
       "      <td>2800</td>\n",
       "      <td>0.000200</td>\n",
       "      <td>0.1600</td>\n",
       "      <td>16.650</td>\n",
       "      <td>0</td>\n",
       "      <td>Red</td>\n",
       "    </tr>\n",
       "    <tr>\n",
       "      <th>4</th>\n",
       "      <td>1939</td>\n",
       "      <td>0.000138</td>\n",
       "      <td>0.1030</td>\n",
       "      <td>20.060</td>\n",
       "      <td>0</td>\n",
       "      <td>Red</td>\n",
       "    </tr>\n",
       "    <tr>\n",
       "      <th>5</th>\n",
       "      <td>2840</td>\n",
       "      <td>0.000650</td>\n",
       "      <td>0.1100</td>\n",
       "      <td>16.980</td>\n",
       "      <td>0</td>\n",
       "      <td>Red</td>\n",
       "    </tr>\n",
       "    <tr>\n",
       "      <th>6</th>\n",
       "      <td>2637</td>\n",
       "      <td>0.000730</td>\n",
       "      <td>0.1270</td>\n",
       "      <td>17.220</td>\n",
       "      <td>0</td>\n",
       "      <td>Red</td>\n",
       "    </tr>\n",
       "    <tr>\n",
       "      <th>7</th>\n",
       "      <td>2600</td>\n",
       "      <td>0.000400</td>\n",
       "      <td>0.0960</td>\n",
       "      <td>17.400</td>\n",
       "      <td>0</td>\n",
       "      <td>Red</td>\n",
       "    </tr>\n",
       "    <tr>\n",
       "      <th>8</th>\n",
       "      <td>2650</td>\n",
       "      <td>0.000690</td>\n",
       "      <td>0.1100</td>\n",
       "      <td>17.450</td>\n",
       "      <td>0</td>\n",
       "      <td>Red</td>\n",
       "    </tr>\n",
       "    <tr>\n",
       "      <th>9</th>\n",
       "      <td>2700</td>\n",
       "      <td>0.000180</td>\n",
       "      <td>0.1300</td>\n",
       "      <td>16.050</td>\n",
       "      <td>0</td>\n",
       "      <td>Red</td>\n",
       "    </tr>\n",
       "    <tr>\n",
       "      <th>10</th>\n",
       "      <td>3600</td>\n",
       "      <td>0.002900</td>\n",
       "      <td>0.5100</td>\n",
       "      <td>10.690</td>\n",
       "      <td>1</td>\n",
       "      <td>Red</td>\n",
       "    </tr>\n",
       "    <tr>\n",
       "      <th>11</th>\n",
       "      <td>3129</td>\n",
       "      <td>0.012200</td>\n",
       "      <td>0.3761</td>\n",
       "      <td>11.790</td>\n",
       "      <td>1</td>\n",
       "      <td>Red</td>\n",
       "    </tr>\n",
       "    <tr>\n",
       "      <th>12</th>\n",
       "      <td>3134</td>\n",
       "      <td>0.000400</td>\n",
       "      <td>0.1960</td>\n",
       "      <td>13.210</td>\n",
       "      <td>1</td>\n",
       "      <td>Red</td>\n",
       "    </tr>\n",
       "    <tr>\n",
       "      <th>13</th>\n",
       "      <td>3628</td>\n",
       "      <td>0.005500</td>\n",
       "      <td>0.3930</td>\n",
       "      <td>10.480</td>\n",
       "      <td>1</td>\n",
       "      <td>Red</td>\n",
       "    </tr>\n",
       "    <tr>\n",
       "      <th>14</th>\n",
       "      <td>2650</td>\n",
       "      <td>0.000600</td>\n",
       "      <td>0.1400</td>\n",
       "      <td>11.782</td>\n",
       "      <td>1</td>\n",
       "      <td>Red</td>\n",
       "    </tr>\n",
       "  </tbody>\n",
       "</table>\n",
       "</div>"
      ],
      "text/plain": [
       "    Temperature (K)  Luminosity(L/Lo)  Radius(R/Ro)  Absolute magnitude(Mv)  \\\n",
       "0              3068          0.002400        0.1700                  16.120   \n",
       "1              3042          0.000500        0.1542                  16.600   \n",
       "2              2600          0.000300        0.1020                  18.700   \n",
       "3              2800          0.000200        0.1600                  16.650   \n",
       "4              1939          0.000138        0.1030                  20.060   \n",
       "5              2840          0.000650        0.1100                  16.980   \n",
       "6              2637          0.000730        0.1270                  17.220   \n",
       "7              2600          0.000400        0.0960                  17.400   \n",
       "8              2650          0.000690        0.1100                  17.450   \n",
       "9              2700          0.000180        0.1300                  16.050   \n",
       "10             3600          0.002900        0.5100                  10.690   \n",
       "11             3129          0.012200        0.3761                  11.790   \n",
       "12             3134          0.000400        0.1960                  13.210   \n",
       "13             3628          0.005500        0.3930                  10.480   \n",
       "14             2650          0.000600        0.1400                  11.782   \n",
       "\n",
       "    Star type Star color  \n",
       "0           0        Red  \n",
       "1           0        Red  \n",
       "2           0        Red  \n",
       "3           0        Red  \n",
       "4           0        Red  \n",
       "5           0        Red  \n",
       "6           0        Red  \n",
       "7           0        Red  \n",
       "8           0        Red  \n",
       "9           0        Red  \n",
       "10          1        Red  \n",
       "11          1        Red  \n",
       "12          1        Red  \n",
       "13          1        Red  \n",
       "14          1        Red  "
      ]
     },
     "metadata": {},
     "output_type": "display_data"
    }
   ],
   "source": [
    "display(data.head(15))"
   ]
  },
  {
   "cell_type": "code",
   "execution_count": 6,
   "id": "b35be261",
   "metadata": {},
   "outputs": [
    {
     "name": "stdout",
     "output_type": "stream",
     "text": [
      "Количество пропущенных значений в каждом столбце: Temperature (K)           0\n",
      "Luminosity(L/Lo)          0\n",
      "Radius(R/Ro)              0\n",
      "Absolute magnitude(Mv)    0\n",
      "Star type                 0\n",
      "Star color                0\n",
      "dtype: int64\n"
     ]
    }
   ],
   "source": [
    "print(\"Количество пропущенных значений в каждом столбце:\", data.isnull().sum())"
   ]
  },
  {
   "cell_type": "code",
   "execution_count": 7,
   "id": "59cf319c",
   "metadata": {},
   "outputs": [
    {
     "name": "stdout",
     "output_type": "stream",
     "text": [
      "Количество пропущенных значений в каждом столбце: Temperature (K)           0\n",
      "Luminosity(L/Lo)          0\n",
      "Radius(R/Ro)              0\n",
      "Absolute magnitude(Mv)    0\n",
      "Star type                 0\n",
      "Star color                0\n",
      "dtype: int64\n"
     ]
    }
   ],
   "source": [
    "print(\"Количество пропущенных значений в каждом столбце:\", data.isnull().sum())"
   ]
  },
  {
   "cell_type": "markdown",
   "id": "0c1aae39",
   "metadata": {},
   "source": [
    "В датасете присутствует 240 записей, пропуски отсутствуют.\n",
    "\n",
    "Среднее значение составляет около 10497 K с большим стандартным отклонением (9552 K), имеются как горячие, так и холодные звезды.\n",
    "\n",
    "У переменной Светимость (Luminosity(L/Lo)) высокое стандартное отклонение, следовательно, имеется большой разброс данных.\n",
    "\n",
    "Также большой разброс данных есть у Радиус (Radius(R/Ro)) и Абсолютная величина (Absolute magnitude(Mv)).\n",
    "\n",
    "Типы звезд распределены равномерно. "
   ]
  },
  {
   "cell_type": "code",
   "execution_count": 8,
   "id": "2c4fc5d8",
   "metadata": {},
   "outputs": [
    {
     "data": {
      "image/png": "[encoded data removed]",
      "text/plain": [
       "<Figure size 900x900 with 30 Axes>"
      ]
     },
     "metadata": {
      "needs_background": "light"
     },
     "output_type": "display_data"
    }
   ],
   "source": [
    "pair_grid = sns.pairplot(data)\n",
    "pair_grid.fig.suptitle('Парные зависимости между признаками', size=16, y=1.02)\n",
    "plt.show()"
   ]
  },
  {
   "cell_type": "code",
   "execution_count": 9,
   "id": "27e764c9",
   "metadata": {},
   "outputs": [],
   "source": [
    "plt.rcParams.update({'font.size': 14})"
   ]
  },
  {
   "cell_type": "code",
   "execution_count": 10,
   "id": "b2cfe83c",
   "metadata": {},
   "outputs": [
    {
     "name": "stdout",
     "output_type": "stream",
     "text": [
      "Red                   112\n",
      "Blue                   55\n",
      "Blue-white             26\n",
      "Blue White             10\n",
      "yellow-white            8\n",
      "White                   7\n",
      "white                   3\n",
      "Yellowish White         3\n",
      "Blue white              3\n",
      "Orange                  2\n",
      "yellowish               2\n",
      "Whitish                 2\n",
      "White-Yellow            1\n",
      "Blue-White              1\n",
      "Blue                    1\n",
      "Pale yellow orange      1\n",
      "Yellowish               1\n",
      "Orange-Red              1\n",
      "Blue white              1\n",
      "Name: Star color, dtype: int64\n"
     ]
    },
    {
     "data": {
      "image/png": "[encoded data removed]",
      "text/plain": [
       "<Figure size 720x432 with 1 Axes>"
      ]
     },
     "metadata": {
      "needs_background": "light"
     },
     "output_type": "display_data"
    },
    {
     "name": "stdout",
     "output_type": "stream",
     "text": [
      "0    40\n",
      "1    40\n",
      "2    40\n",
      "3    40\n",
      "4    40\n",
      "5    40\n",
      "Name: Star type, dtype: int64\n"
     ]
    },
    {
     "data": {
      "image/png": "[encoded data removed]",
      "text/plain": [
       "<Figure size 720x432 with 1 Axes>"
      ]
     },
     "metadata": {
      "needs_background": "light"
     },
     "output_type": "display_data"
    }
   ],
   "source": [
    "titles = {\n",
    "    'Star color': 'Распределение звёзд по цвету',\n",
    "    'Star type': 'Распределение звёзд по типу'\n",
    "}\n",
    "\n",
    "for column in ['Star color', 'Star type']:\n",
    "    print(data[column].value_counts())\n",
    "    plt.figure(figsize=(10, 6))\n",
    "    sns.countplot(x=column, data=data)\n",
    "    plt.xticks(rotation=45)\n",
    "    plt.title(titles[column])\n",
    "    plt.show()"
   ]
  },
  {
   "cell_type": "markdown",
   "id": "34d05fa0",
   "metadata": {},
   "source": [
    "Большинство звезд имеют температуру ниже 10,000 K. Существует несколько звезд с очень высокой температурой, достигающей 40,000 K.\n",
    "\n",
    "Распределение светимости: большинство звезд имеют низкую светимость, но есть несколько ярких объектов.\n",
    "\n",
    "Распределение радиуса: большинство звезд имеют малый радиус, но есть исключения с большим радиусом.\n",
    "\n",
    "Абсолютная величина: имебются значения от очень высоких до очень низких значений. \n",
    "\n",
    "Диаграмма типов звезд показывает равномерное распределение.\n",
    "\n",
    "Имеется большое количество различных названий цветов, необходимо будет предобработать эти данные (неявные дубликаты)."
   ]
  },
  {
   "cell_type": "markdown",
   "id": "simple-subdivision",
   "metadata": {},
   "source": [
    "## Предобработка и анализ данных"
   ]
  },
  {
   "cell_type": "code",
   "execution_count": 11,
   "id": "flush-dream",
   "metadata": {},
   "outputs": [
    {
     "name": "stdout",
     "output_type": "stream",
     "text": [
      "Уникальные значения в столбце 'Star color': ['Red' 'Blue White' 'White' 'Yellowish White' 'Blue white'\n",
      " 'Pale yellow orange' 'Blue' 'Blue-white' 'Whitish' 'yellow-white'\n",
      " 'Orange' 'White-Yellow' 'white' 'Blue ' 'yellowish' 'Yellowish'\n",
      " 'Orange-Red' 'Blue white ' 'Blue-White']\n"
     ]
    }
   ],
   "source": [
    "print(\"Уникальные значения в столбце 'Star color':\", data['Star color'].unique())"
   ]
  },
  {
   "cell_type": "code",
   "execution_count": 12,
   "id": "61d6920b",
   "metadata": {},
   "outputs": [
    {
     "name": "stdout",
     "output_type": "stream",
     "text": [
      "Количество уникальных значений до обработки Red                   112\n",
      "Blue                   55\n",
      "Blue-white             26\n",
      "Blue White             10\n",
      "yellow-white            8\n",
      "White                   7\n",
      "white                   3\n",
      "Yellowish White         3\n",
      "Blue white              3\n",
      "Orange                  2\n",
      "yellowish               2\n",
      "Whitish                 2\n",
      "White-Yellow            1\n",
      "Blue-White              1\n",
      "Blue                    1\n",
      "Pale yellow orange      1\n",
      "Yellowish               1\n",
      "Orange-Red              1\n",
      "Blue white              1\n",
      "Name: Star color, dtype: int64\n"
     ]
    }
   ],
   "source": [
    "print('Количество уникальных значений до обработки', data['Star color'].value_counts())"
   ]
  },
  {
   "cell_type": "code",
   "execution_count": 13,
   "id": "702c8476",
   "metadata": {},
   "outputs": [],
   "source": [
    "data['Star color'] = (data['Star color']\n",
    "                      .replace({\n",
    "                          'blue white': 'blue-white',\n",
    "                          'yellow-white': 'white-yellow',\n",
    "                          'yellowish white': 'white-yellow'\n",
    "                      })\n",
    "                      .str.lower()\n",
    "                      .str.strip())"
   ]
  },
  {
   "cell_type": "code",
   "execution_count": 14,
   "id": "b358fd74",
   "metadata": {},
   "outputs": [
    {
     "name": "stdout",
     "output_type": "stream",
     "text": [
      "Уникальные значения в столбце 'Star color': ['red' 'blue white' 'white' 'yellowish white' 'pale yellow orange' 'blue'\n",
      " 'blue-white' 'whitish' 'white-yellow' 'orange' 'yellowish' 'orange-red']\n"
     ]
    }
   ],
   "source": [
    "print(\"Уникальные значения в столбце 'Star color':\", data['Star color'].unique())"
   ]
  },
  {
   "cell_type": "code",
   "execution_count": 15,
   "id": "c83d70cb",
   "metadata": {},
   "outputs": [
    {
     "name": "stdout",
     "output_type": "stream",
     "text": [
      "Количество уникальных значений до обработки red                   112\n",
      "blue                   56\n",
      "blue-white             27\n",
      "blue white             14\n",
      "white                  10\n",
      "white-yellow            9\n",
      "yellowish               3\n",
      "yellowish white         3\n",
      "orange                  2\n",
      "whitish                 2\n",
      "orange-red              1\n",
      "pale yellow orange      1\n",
      "Name: Star color, dtype: int64\n"
     ]
    }
   ],
   "source": [
    "print('Количество уникальных значений до обработки', data['Star color'].value_counts())"
   ]
  },
  {
   "cell_type": "code",
   "execution_count": 16,
   "id": "069ebd0f",
   "metadata": {},
   "outputs": [],
   "source": [
    "data['Star color'] = data['Star color'].replace({\n",
    "    'pale yellow orange': 'orange',\n",
    "    'whitish': 'white',\n",
    "    'orange-red' : 'orange',\n",
    "    'yellowish white' : 'yellowish'\n",
    "})"
   ]
  },
  {
   "cell_type": "code",
   "execution_count": 17,
   "id": "6ae7de19",
   "metadata": {},
   "outputs": [
    {
     "name": "stdout",
     "output_type": "stream",
     "text": [
      "Уникальные значения в столбце 'Star color': ['red' 'blue white' 'white' 'yellowish' 'orange' 'blue' 'blue-white'\n",
      " 'white-yellow']\n"
     ]
    }
   ],
   "source": [
    "print(\"Уникальные значения в столбце 'Star color':\", data['Star color'].unique())"
   ]
  },
  {
   "cell_type": "code",
   "execution_count": 18,
   "id": "c1ac5b3a",
   "metadata": {},
   "outputs": [
    {
     "name": "stdout",
     "output_type": "stream",
     "text": [
      "Количество уникальных значений до обработки red             112\n",
      "blue             56\n",
      "blue-white       27\n",
      "blue white       14\n",
      "white            12\n",
      "white-yellow      9\n",
      "yellowish         6\n",
      "orange            4\n",
      "Name: Star color, dtype: int64\n"
     ]
    }
   ],
   "source": [
    "print('Количество уникальных значений до обработки', data['Star color'].value_counts())"
   ]
  },
  {
   "cell_type": "markdown",
   "id": "397fbad4",
   "metadata": {},
   "source": [
    "Обработаны неявные дубликаты в столбце Star color"
   ]
  },
  {
   "cell_type": "code",
   "execution_count": 19,
   "id": "06e494fe",
   "metadata": {},
   "outputs": [],
   "source": [
    "X_train, X_test, y_train, y_test = train_test_split(\n",
    "    data.drop('Temperature (K)', axis=1),\n",
    "    data['Temperature (K)'],\n",
    "    test_size=0.2,\n",
    "    shuffle=True,\n",
    "    random_state=1\n",
    ")"
   ]
  },
  {
   "cell_type": "code",
   "execution_count": 20,
   "id": "6414655d",
   "metadata": {},
   "outputs": [],
   "source": [
    "numerics = ['Luminosity(L/Lo)', 'Radius(R/Ro)', 'Absolute magnitude(Mv)']\n",
    "categorical = ['Star color', 'Star type']\n",
    "\n",
    "col_transformer = ColumnTransformer(\n",
    "    transformers=[\n",
    "        ('scaler', StandardScaler(), numerics),\n",
    "        ('ohe', OneHotEncoder(sparse=False), categorical)\n",
    "    ],\n",
    "    remainder='passthrough'\n",
    ")"
   ]
  },
  {
   "cell_type": "code",
   "execution_count": 21,
   "id": "f7a37b52",
   "metadata": {},
   "outputs": [],
   "source": [
    "X_train = col_transformer.fit_transform(X_train)\n",
    "X_test = col_transformer.transform(X_test)"
   ]
  },
  {
   "cell_type": "markdown",
   "id": "28a378d2",
   "metadata": {},
   "source": [
    "Преобразование данных"
   ]
  },
  {
   "cell_type": "code",
   "execution_count": 22,
   "id": "f8927dbc",
   "metadata": {},
   "outputs": [],
   "source": [
    "X_train = torch.FloatTensor(X_train)\n",
    "X_test = torch.FloatTensor(X_test)\n",
    "y_train = torch.FloatTensor(y_train.values)\n",
    "y_test = torch.FloatTensor(y_test.values)"
   ]
  },
  {
   "cell_type": "markdown",
   "id": "33ac4d65",
   "metadata": {},
   "source": [
    "Преобразуем данные в тензоры"
   ]
  },
  {
   "cell_type": "markdown",
   "id": "37c88580",
   "metadata": {},
   "source": [
    "Выполнена предварительная обработка и анализ данных для подготовки к обучению нейронной сети:\n",
    "1. Нормализация данных в столбце 'Star color'.\n",
    "2. Разделение данныъ на обучающую и тестовую выборку.\n",
    "3. Масштабированеи и кодирование."
   ]
  },
  {
   "cell_type": "markdown",
   "id": "funded-electric",
   "metadata": {},
   "source": [
    "## Построение базовой нейронной сети"
   ]
  },
  {
   "cell_type": "markdown",
   "id": "846ee357",
   "metadata": {},
   "source": [
    "Определяем модель нейронной сети:"
   ]
  },
  {
   "cell_type": "code",
   "execution_count": 23,
   "id": "7d6cb998",
   "metadata": {},
   "outputs": [],
   "source": [
    "class Net(nn.Module):\n",
    "    def __init__(self, n_in_neurons, n_hidden_neurons_1, n_hidden_neurons_2, n_out_neurons):\n",
    "        super(Net, self).__init__()\n",
    "        self.fc1 = nn.Linear(n_in_neurons, n_hidden_neurons_1)\n",
    "        self.act1 = nn.ReLU()\n",
    "        self.fc2 = nn.Linear(n_hidden_neurons_1, n_hidden_neurons_2)\n",
    "        self.act2 = nn.ReLU()\n",
    "        self.fc3 = nn.Linear(n_hidden_neurons_2, n_out_neurons)\n",
    "\n",
    "    def forward(self, x):\n",
    "        x = self.fc1(x)\n",
    "        x = self.act1(x)\n",
    "        x = self.fc2(x)\n",
    "        x = self.act2(x)\n",
    "        x = self.fc3(x)\n",
    "        return x"
   ]
  },
  {
   "cell_type": "code",
   "execution_count": 24,
   "id": "284626fe",
   "metadata": {},
   "outputs": [],
   "source": [
    "model = Net(X_train.shape[1], 15, 10, 1)\n",
    "optimizer = torch.optim.Adam(model.parameters(), lr=0.001)\n",
    "loss_function = nn.MSELoss()"
   ]
  },
  {
   "cell_type": "markdown",
   "id": "894b02de",
   "metadata": {},
   "source": [
    "Подготовка данных для обучения:"
   ]
  },
  {
   "cell_type": "code",
   "execution_count": 25,
   "id": "85531178",
   "metadata": {},
   "outputs": [],
   "source": [
    "def net_do(model, optimizer, loss_function, X_train, y_train, X_test, y_test, batch_size=40, epochs=10000, report_interval=100):\n",
    "    dataset_train = TensorDataset(X_train, y_train)\n",
    "    train_loader = DataLoader(dataset_train, batch_size=batch_size, shuffle=True)\n",
    "\n",
    "    for epoch in range(epochs):\n",
    "        model.train()\n",
    "        for data, target in train_loader:\n",
    "            optimizer.zero_grad()\n",
    "            output = model(data)\n",
    "            loss = loss_function(output, target.unsqueeze(1))\n",
    "            loss.backward()\n",
    "            optimizer.step()\n",
    "\n",
    "        if epoch % report_interval == 0:\n",
    "            model.eval()\n",
    "            with torch.no_grad():\n",
    "                predictions = model(X_test)\n",
    "                rmse = mean_squared_error(y_test.numpy(), predictions.numpy(), squared=False)\n",
    "            print(f\"Epoch {epoch}: RMSE = {rmse}\")"
   ]
  },
  {
   "cell_type": "markdown",
   "id": "f336dd9e",
   "metadata": {},
   "source": [
    "Обучение модели"
   ]
  },
  {
   "cell_type": "code",
   "execution_count": 26,
   "id": "2ec0750a",
   "metadata": {},
   "outputs": [],
   "source": [
    "model = Net(X_train.shape[1], 15, 10, 1)\n",
    "optimizer = torch.optim.Adam(model.parameters(), lr=0.001)\n",
    "loss_function = nn.MSELoss()"
   ]
  },
  {
   "cell_type": "code",
   "execution_count": 27,
   "id": "39859ccd",
   "metadata": {},
   "outputs": [
    {
     "name": "stdout",
     "output_type": "stream",
     "text": [
      "Epoch 0: RMSE = 15201.1455078125\n",
      "Epoch 100: RMSE = 14999.419921875\n",
      "Epoch 200: RMSE = 13707.7353515625\n",
      "Epoch 300: RMSE = 11361.7958984375\n",
      "Epoch 400: RMSE = 9225.419921875\n",
      "Epoch 500: RMSE = 8137.54443359375\n",
      "Epoch 600: RMSE = 7714.2900390625\n",
      "Epoch 700: RMSE = 7446.72265625\n",
      "Epoch 800: RMSE = 7184.7607421875\n",
      "Epoch 900: RMSE = 6915.24560546875\n",
      "Epoch 1000: RMSE = 6652.0224609375\n",
      "Epoch 1100: RMSE = 6404.404296875\n",
      "Epoch 1200: RMSE = 6177.302734375\n",
      "Epoch 1300: RMSE = 5977.4501953125\n",
      "Epoch 1400: RMSE = 5806.560546875\n",
      "Epoch 1500: RMSE = 5667.85888671875\n",
      "Epoch 1600: RMSE = 5558.35546875\n",
      "Epoch 1700: RMSE = 5471.5693359375\n",
      "Epoch 1800: RMSE = 5407.61376953125\n",
      "Epoch 1900: RMSE = 5359.57861328125\n",
      "Epoch 2000: RMSE = 5321.7666015625\n",
      "Epoch 2100: RMSE = 5288.421875\n",
      "Epoch 2200: RMSE = 5258.4697265625\n",
      "Epoch 2300: RMSE = 5229.7060546875\n",
      "Epoch 2400: RMSE = 5200.544921875\n",
      "Epoch 2500: RMSE = 5171.23779296875\n",
      "Epoch 2600: RMSE = 5145.1611328125\n",
      "Epoch 2700: RMSE = 5119.14501953125\n",
      "Epoch 2800: RMSE = 5097.859375\n",
      "Epoch 2900: RMSE = 5075.9560546875\n",
      "Epoch 3000: RMSE = 5054.71044921875\n",
      "Epoch 3100: RMSE = 5034.3515625\n",
      "Epoch 3200: RMSE = 5017.5712890625\n",
      "Epoch 3300: RMSE = 4999.0712890625\n",
      "Epoch 3400: RMSE = 4979.42724609375\n",
      "Epoch 3500: RMSE = 4964.30078125\n",
      "Epoch 3600: RMSE = 4950.11669921875\n",
      "Epoch 3700: RMSE = 4939.3857421875\n",
      "Epoch 3800: RMSE = 4925.2841796875\n",
      "Epoch 3900: RMSE = 4916.9013671875\n",
      "Epoch 4000: RMSE = 4909.8525390625\n",
      "Epoch 4100: RMSE = 4899.787109375\n",
      "Epoch 4200: RMSE = 4888.7451171875\n",
      "Epoch 4300: RMSE = 4880.337890625\n",
      "Epoch 4400: RMSE = 4870.7392578125\n",
      "Epoch 4500: RMSE = 4861.35400390625\n",
      "Epoch 4600: RMSE = 4855.3154296875\n",
      "Epoch 4700: RMSE = 4847.19921875\n",
      "Epoch 4800: RMSE = 4847.083984375\n",
      "Epoch 4900: RMSE = 4837.0703125\n",
      "Epoch 5000: RMSE = 4831.33154296875\n",
      "Epoch 5100: RMSE = 4823.5927734375\n",
      "Epoch 5200: RMSE = 4818.228515625\n",
      "Epoch 5300: RMSE = 4805.17626953125\n",
      "Epoch 5400: RMSE = 4802.3486328125\n",
      "Epoch 5500: RMSE = 4796.95361328125\n",
      "Epoch 5600: RMSE = 4775.79052734375\n",
      "Epoch 5700: RMSE = 4758.478515625\n",
      "Epoch 5800: RMSE = 4735.47802734375\n",
      "Epoch 5900: RMSE = 4719.919921875\n",
      "Epoch 6000: RMSE = 4700.55712890625\n",
      "Epoch 6100: RMSE = 4686.31005859375\n",
      "Epoch 6200: RMSE = 4665.46875\n",
      "Epoch 6300: RMSE = 4649.71240234375\n",
      "Epoch 6400: RMSE = 4636.46337890625\n",
      "Epoch 6500: RMSE = 4617.66748046875\n",
      "Epoch 6600: RMSE = 4605.41748046875\n",
      "Epoch 6700: RMSE = 4584.30322265625\n",
      "Epoch 6800: RMSE = 4570.837890625\n",
      "Epoch 6900: RMSE = 4555.4921875\n",
      "Epoch 7000: RMSE = 4537.81884765625\n",
      "Epoch 7100: RMSE = 4524.58984375\n",
      "Epoch 7200: RMSE = 4505.32373046875\n",
      "Epoch 7300: RMSE = 4498.1630859375\n",
      "Epoch 7400: RMSE = 4477.0224609375\n",
      "Epoch 7500: RMSE = 4469.57861328125\n",
      "Epoch 7600: RMSE = 4445.60009765625\n",
      "Epoch 7700: RMSE = 4437.38818359375\n",
      "Epoch 7800: RMSE = 4425.9169921875\n",
      "Epoch 7900: RMSE = 4418.03369140625\n",
      "Epoch 8000: RMSE = 4404.46337890625\n",
      "Epoch 8100: RMSE = 4390.4892578125\n",
      "Epoch 8200: RMSE = 4383.068359375\n",
      "Epoch 8300: RMSE = 4369.42041015625\n",
      "Epoch 8400: RMSE = 4355.0537109375\n",
      "Epoch 8500: RMSE = 4353.90380859375\n",
      "Epoch 8600: RMSE = 4346.203125\n",
      "Epoch 8700: RMSE = 4330.2373046875\n",
      "Epoch 8800: RMSE = 4319.5654296875\n",
      "Epoch 8900: RMSE = 4320.7421875\n",
      "Epoch 9000: RMSE = 4302.92626953125\n",
      "Epoch 9100: RMSE = 4301.9140625\n",
      "Epoch 9200: RMSE = 4291.24169921875\n",
      "Epoch 9300: RMSE = 4278.90087890625\n",
      "Epoch 9400: RMSE = 4274.720703125\n",
      "Epoch 9500: RMSE = 4262.4521484375\n",
      "Epoch 9600: RMSE = 4259.62841796875\n",
      "Epoch 9700: RMSE = 4253.26904296875\n",
      "Epoch 9800: RMSE = 4248.3798828125\n",
      "Epoch 9900: RMSE = 4244.66064453125\n"
     ]
    }
   ],
   "source": [
    "net_do(model, optimizer, loss_function, X_train, y_train, X_test, y_test)"
   ]
  },
  {
   "cell_type": "markdown",
   "id": "e5ba0cee",
   "metadata": {},
   "source": [
    "Лучший RMSE на тестовой:"
   ]
  },
  {
   "cell_type": "code",
   "execution_count": 28,
   "id": "0c9ef930",
   "metadata": {},
   "outputs": [
    {
     "name": "stdout",
     "output_type": "stream",
     "text": [
      "Лучший RMSE: 4238.353515625\n"
     ]
    }
   ],
   "source": [
    "model.eval()\n",
    "with torch.no_grad():\n",
    "    predictions = model(X_test)\n",
    "    final_rmse = mean_squared_error(y_test.numpy(), predictions.numpy(), squared=False)\n",
    "print(f\"Лучший RMSE: {final_rmse}\")"
   ]
  },
  {
   "cell_type": "markdown",
   "id": "222847f8",
   "metadata": {},
   "source": [
    "Функция для графика"
   ]
  },
  {
   "cell_type": "code",
   "execution_count": 29,
   "id": "9afae732",
   "metadata": {},
   "outputs": [],
   "source": [
    "def plot_results(y_test, predictions, title):\n",
    "    star_index = np.arange(len(y_test))\n",
    "    plt.figure(figsize=(18, 8))\n",
    "    plt.bar(star_index - 0.2, y_test, width=0.4, label='Факт', color='blue')\n",
    "    plt.bar(star_index + 0.2, predictions, width=0.4, label='Прогноз', color='red')\n",
    "    plt.xlabel('Индекс звезды')\n",
    "    plt.ylabel('Температура (K)')\n",
    "    plt.title(title)\n",
    "    plt.legend()\n",
    "    plt.show()"
   ]
  },
  {
   "cell_type": "code",
   "execution_count": 30,
   "id": "3beabbec",
   "metadata": {},
   "outputs": [
    {
     "data": {
      "image/png": "[encoded data removed]",
      "text/plain": [
       "<Figure size 1296x576 with 1 Axes>"
      ]
     },
     "metadata": {
      "needs_background": "light"
     },
     "output_type": "display_data"
    }
   ],
   "source": [
    "y_test_np = y_test.numpy() if isinstance(y_test, torch.Tensor) else np.array(y_test)\n",
    "predictions_base = predictions.numpy() if isinstance(predictions, torch.Tensor) else np.array(predictions)\n",
    "y_test_np = y_test_np.flatten()\n",
    "predictions_base = predictions_base.flatten()\n",
    "\n",
    "plot_results(y_test_np, predictions_base, 'График \"Факт vs. Прогноз\": Базовая модель')"
   ]
  },
  {
   "cell_type": "markdown",
   "id": "bff2c2b9",
   "metadata": {},
   "source": [
    "Модель обучалась на 10,000 эпох с использованием оптимизатора Adam и функции потерь MSE. Лучшее значение RMSE на тестовой выборке составило 4262,684К.\n",
    "\n",
    "По графику видно, что в некоторых случаях предсказания были точными, в других ситуациях - менее."
   ]
  },
  {
   "cell_type": "markdown",
   "id": "growing-supply",
   "metadata": {},
   "source": [
    "## Улучшение нейронной сети"
   ]
  },
  {
   "cell_type": "markdown",
   "id": "19e4e9d8",
   "metadata": {},
   "source": [
    "Устанавливаем параметры нейронной сети, обучаем модель, проверяем различные комбинации."
   ]
  },
  {
   "cell_type": "code",
   "execution_count": 31,
   "id": "2b577cdf",
   "metadata": {},
   "outputs": [],
   "source": [
    "class ImprovedNet(nn.Module):\n",
    "    def __init__(self, n_in_neurons, n_hidden_neurons_1, n_hidden_neurons_2, n_out_neurons, dropout_rate):\n",
    "        super(ImprovedNet, self).__init__()\n",
    "        self.fc1 = nn.Linear(n_in_neurons, n_hidden_neurons_1)\n",
    "        self.bn1 = nn.BatchNorm1d(n_hidden_neurons_1)\n",
    "        self.dp1 = nn.Dropout(dropout_rate)\n",
    "        self.act1 = nn.ReLU()\n",
    "        self.fc2 = nn.Linear(n_hidden_neurons_1, n_hidden_neurons_2)\n",
    "        self.bn2 = nn.BatchNorm1d(n_hidden_neurons_2)\n",
    "        self.dp2 = nn.Dropout(dropout_rate)\n",
    "        self.act2 = nn.ReLU()\n",
    "        self.fc3 = nn.Linear(n_hidden_neurons_2, n_out_neurons)\n",
    "    \n",
    "    def forward(self, x):\n",
    "        x = self.fc1(x)\n",
    "        x = self.bn1(x)\n",
    "        x = self.dp1(x)\n",
    "        x = self.act1(x)\n",
    "        x = self.fc2(x)\n",
    "        x = self.bn2(x)\n",
    "        x = self.dp2(x)\n",
    "        x = self.act2(x)\n",
    "        x = self.fc3(x)\n",
    "        return x"
   ]
  },
  {
   "cell_type": "code",
   "execution_count": 32,
   "id": "94f8ab17",
   "metadata": {},
   "outputs": [],
   "source": [
    "def net_do_2 (model, optimizer, loss_function, X_train, y_train, X_test, y_test, \n",
    "              batch_size=40, epochs=5000, report_interval=500):\n",
    "    dataset_train = TensorDataset(X_train, y_train)\n",
    "    train_loader = DataLoader(dataset_train, batch_size=batch_size, shuffle=True)\n",
    "    \n",
    "    results = []\n",
    "    \n",
    "\n",
    "    for epoch in range(epochs):\n",
    "        model.train()\n",
    "        for data, target in train_loader:\n",
    "            optimizer.zero_grad()\n",
    "            output = model(data)\n",
    "            loss = loss_function(output, target.unsqueeze(1))\n",
    "            loss.backward()\n",
    "            optimizer.step()\n",
    "\n",
    "        if epoch % report_interval == 0:\n",
    "            model.eval()\n",
    "            with torch.no_grad():\n",
    "                preds = model(X_test)\n",
    "                rmse = mean_squared_error(y_test.numpy(), preds.numpy(), squared=False)\n",
    "            print(f\"Dropout: {model.dp1.p}, Batch Size: {batch_size}, Epoch: {epoch}, RMSE: {rmse}\")\n",
    "            results.append((model.dp1.p, batch_size, epoch, rmse))\n",
    "            \n",
    "    return results"
   ]
  },
  {
   "cell_type": "code",
   "execution_count": 33,
   "id": "c4be8115",
   "metadata": {},
   "outputs": [],
   "source": [
    "results = []"
   ]
  },
  {
   "cell_type": "code",
   "execution_count": 34,
   "id": "101f9cac",
   "metadata": {},
   "outputs": [
    {
     "name": "stdout",
     "output_type": "stream",
     "text": [
      "Dropout 0.1 и batch 20\n",
      "Dropout: 0.1, Batch Size: 20, Epoch: 0, RMSE: 15201.20703125\n",
      "Dropout: 0.1, Batch Size: 20, Epoch: 500, RMSE: 14438.40234375\n",
      "Dropout: 0.1, Batch Size: 20, Epoch: 1000, RMSE: 12709.51953125\n",
      "Dropout: 0.1, Batch Size: 20, Epoch: 1500, RMSE: 10222.4267578125\n",
      "Dropout: 0.1, Batch Size: 20, Epoch: 2000, RMSE: 7332.70654296875\n",
      "Dropout: 0.1, Batch Size: 20, Epoch: 2500, RMSE: 4985.1318359375\n",
      "Dropout: 0.1, Batch Size: 20, Epoch: 3000, RMSE: 4079.8095703125\n",
      "Dropout: 0.1, Batch Size: 20, Epoch: 3500, RMSE: 4252.537109375\n",
      "Dropout: 0.1, Batch Size: 20, Epoch: 4000, RMSE: 4216.3876953125\n",
      "Dropout: 0.1, Batch Size: 20, Epoch: 4500, RMSE: 4555.19287109375\n",
      "Dropout 0.1 и batch 40\n",
      "Dropout: 0.1, Batch Size: 40, Epoch: 0, RMSE: 15200.931640625\n",
      "Dropout: 0.1, Batch Size: 40, Epoch: 500, RMSE: 14973.2138671875\n",
      "Dropout: 0.1, Batch Size: 40, Epoch: 1000, RMSE: 14447.9599609375\n",
      "Dropout: 0.1, Batch Size: 40, Epoch: 1500, RMSE: 13689.0341796875\n",
      "Dropout: 0.1, Batch Size: 40, Epoch: 2000, RMSE: 12719.9794921875\n",
      "Dropout: 0.1, Batch Size: 40, Epoch: 2500, RMSE: 11717.7783203125\n",
      "Dropout: 0.1, Batch Size: 40, Epoch: 3000, RMSE: 10380.86328125\n",
      "Dropout: 0.1, Batch Size: 40, Epoch: 3500, RMSE: 9216.185546875\n",
      "Dropout: 0.1, Batch Size: 40, Epoch: 4000, RMSE: 7901.08984375\n",
      "Dropout: 0.1, Batch Size: 40, Epoch: 4500, RMSE: 6844.60205078125\n",
      "Dropout 0.1 и batch 60\n",
      "Dropout: 0.1, Batch Size: 60, Epoch: 0, RMSE: 15201.2333984375\n",
      "Dropout: 0.1, Batch Size: 60, Epoch: 500, RMSE: 15047.4658203125\n",
      "Dropout: 0.1, Batch Size: 60, Epoch: 1000, RMSE: 14662.892578125\n",
      "Dropout: 0.1, Batch Size: 60, Epoch: 1500, RMSE: 14164.751953125\n",
      "Dropout: 0.1, Batch Size: 60, Epoch: 2000, RMSE: 13500.4736328125\n",
      "Dropout: 0.1, Batch Size: 60, Epoch: 2500, RMSE: 12656.5078125\n",
      "Dropout: 0.1, Batch Size: 60, Epoch: 3000, RMSE: 11671.37109375\n",
      "Dropout: 0.1, Batch Size: 60, Epoch: 3500, RMSE: 10685.5283203125\n",
      "Dropout: 0.1, Batch Size: 60, Epoch: 4000, RMSE: 9604.490234375\n",
      "Dropout: 0.1, Batch Size: 60, Epoch: 4500, RMSE: 8193.84765625\n",
      "Dropout 0.25 и batch 20\n",
      "Dropout: 0.25, Batch Size: 20, Epoch: 0, RMSE: 15201.404296875\n",
      "Dropout: 0.25, Batch Size: 20, Epoch: 500, RMSE: 14522.3583984375\n",
      "Dropout: 0.25, Batch Size: 20, Epoch: 1000, RMSE: 13008.89453125\n",
      "Dropout: 0.25, Batch Size: 20, Epoch: 1500, RMSE: 10546.521484375\n",
      "Dropout: 0.25, Batch Size: 20, Epoch: 2000, RMSE: 7738.7978515625\n",
      "Dropout: 0.25, Batch Size: 20, Epoch: 2500, RMSE: 5521.255859375\n",
      "Dropout: 0.25, Batch Size: 20, Epoch: 3000, RMSE: 4294.07958984375\n",
      "Dropout: 0.25, Batch Size: 20, Epoch: 3500, RMSE: 4299.15625\n",
      "Dropout: 0.25, Batch Size: 20, Epoch: 4000, RMSE: 4149.7724609375\n",
      "Dropout: 0.25, Batch Size: 20, Epoch: 4500, RMSE: 4100.7763671875\n",
      "Dropout 0.25 и batch 40\n",
      "Dropout: 0.25, Batch Size: 40, Epoch: 0, RMSE: 15201.0751953125\n",
      "Dropout: 0.25, Batch Size: 40, Epoch: 500, RMSE: 14972.7265625\n",
      "Dropout: 0.25, Batch Size: 40, Epoch: 1000, RMSE: 14433.2734375\n",
      "Dropout: 0.25, Batch Size: 40, Epoch: 1500, RMSE: 13638.474609375\n",
      "Dropout: 0.25, Batch Size: 40, Epoch: 2000, RMSE: 12790.6865234375\n",
      "Dropout: 0.25, Batch Size: 40, Epoch: 2500, RMSE: 11539.708984375\n",
      "Dropout: 0.25, Batch Size: 40, Epoch: 3000, RMSE: 10293.8828125\n",
      "Dropout: 0.25, Batch Size: 40, Epoch: 3500, RMSE: 9023.1396484375\n",
      "Dropout: 0.25, Batch Size: 40, Epoch: 4000, RMSE: 7636.40087890625\n",
      "Dropout: 0.25, Batch Size: 40, Epoch: 4500, RMSE: 5995.96484375\n",
      "Dropout 0.25 и batch 60\n",
      "Dropout: 0.25, Batch Size: 60, Epoch: 0, RMSE: 15201.21484375\n",
      "Dropout: 0.25, Batch Size: 60, Epoch: 500, RMSE: 15055.9873046875\n",
      "Dropout: 0.25, Batch Size: 60, Epoch: 1000, RMSE: 14673.9306640625\n",
      "Dropout: 0.25, Batch Size: 60, Epoch: 1500, RMSE: 14162.384765625\n",
      "Dropout: 0.25, Batch Size: 60, Epoch: 2000, RMSE: 13551.9248046875\n",
      "Dropout: 0.25, Batch Size: 60, Epoch: 2500, RMSE: 12779.072265625\n",
      "Dropout: 0.25, Batch Size: 60, Epoch: 3000, RMSE: 11971.1162109375\n",
      "Dropout: 0.25, Batch Size: 60, Epoch: 3500, RMSE: 10975.4111328125\n",
      "Dropout: 0.25, Batch Size: 60, Epoch: 4000, RMSE: 9576.65234375\n",
      "Dropout: 0.25, Batch Size: 60, Epoch: 4500, RMSE: 8616.1103515625\n",
      "Dropout 0.5 и batch 20\n",
      "Dropout: 0.5, Batch Size: 20, Epoch: 0, RMSE: 15201.048828125\n",
      "Dropout: 0.5, Batch Size: 20, Epoch: 500, RMSE: 14558.8701171875\n",
      "Dropout: 0.5, Batch Size: 20, Epoch: 1000, RMSE: 13178.451171875\n",
      "Dropout: 0.5, Batch Size: 20, Epoch: 1500, RMSE: 11446.0341796875\n",
      "Dropout: 0.5, Batch Size: 20, Epoch: 2000, RMSE: 9092.2421875\n",
      "Dropout: 0.5, Batch Size: 20, Epoch: 2500, RMSE: 5992.94921875\n",
      "Dropout: 0.5, Batch Size: 20, Epoch: 3000, RMSE: 4518.9990234375\n",
      "Dropout: 0.5, Batch Size: 20, Epoch: 3500, RMSE: 4091.313720703125\n",
      "Dropout: 0.5, Batch Size: 20, Epoch: 4000, RMSE: 4333.12060546875\n",
      "Dropout: 0.5, Batch Size: 20, Epoch: 4500, RMSE: 4049.25439453125\n",
      "Dropout 0.5 и batch 40\n",
      "Dropout: 0.5, Batch Size: 40, Epoch: 0, RMSE: 15201.138671875\n",
      "Dropout: 0.5, Batch Size: 40, Epoch: 500, RMSE: 14994.24609375\n",
      "Dropout: 0.5, Batch Size: 40, Epoch: 1000, RMSE: 14484.5048828125\n",
      "Dropout: 0.5, Batch Size: 40, Epoch: 1500, RMSE: 13803.2548828125\n",
      "Dropout: 0.5, Batch Size: 40, Epoch: 2000, RMSE: 12966.876953125\n",
      "Dropout: 0.5, Batch Size: 40, Epoch: 2500, RMSE: 11869.5380859375\n",
      "Dropout: 0.5, Batch Size: 40, Epoch: 3000, RMSE: 10633.09375\n",
      "Dropout: 0.5, Batch Size: 40, Epoch: 3500, RMSE: 9274.41796875\n",
      "Dropout: 0.5, Batch Size: 40, Epoch: 4000, RMSE: 8138.72314453125\n",
      "Dropout: 0.5, Batch Size: 40, Epoch: 4500, RMSE: 6793.345703125\n",
      "Dropout 0.5 и batch 60\n",
      "Dropout: 0.5, Batch Size: 60, Epoch: 0, RMSE: 15201.091796875\n",
      "Dropout: 0.5, Batch Size: 60, Epoch: 500, RMSE: 15068.408203125\n",
      "Dropout: 0.5, Batch Size: 60, Epoch: 1000, RMSE: 14737.84375\n",
      "Dropout: 0.5, Batch Size: 60, Epoch: 1500, RMSE: 14296.1962890625\n",
      "Dropout: 0.5, Batch Size: 60, Epoch: 2000, RMSE: 13624.001953125\n",
      "Dropout: 0.5, Batch Size: 60, Epoch: 2500, RMSE: 13060.828125\n",
      "Dropout: 0.5, Batch Size: 60, Epoch: 3000, RMSE: 12021.3056640625\n",
      "Dropout: 0.5, Batch Size: 60, Epoch: 3500, RMSE: 11516.9814453125\n",
      "Dropout: 0.5, Batch Size: 60, Epoch: 4000, RMSE: 10293.830078125\n",
      "Dropout: 0.5, Batch Size: 60, Epoch: 4500, RMSE: 9237.34765625\n"
     ]
    }
   ],
   "source": [
    "for dropout_rate in [0.1, 0.25, 0.5]:\n",
    "    for batch_size in [20, 40, 60]:\n",
    "        model = ImprovedNet(X_train.shape[1], 15, 10, 1, dropout_rate)\n",
    "        optimizer = torch.optim.Adam(model.parameters(), lr=0.001)\n",
    "        loss_function = nn.MSELoss()\n",
    "\n",
    "        print(f\"Dropout {dropout_rate} и batch {batch_size}\")\n",
    "        results.extend(net_do_2(model, optimizer, loss_function, X_train, y_train, X_test, y_test, \n",
    "                                batch_size=batch_size, epochs=5000, report_interval=500))"
   ]
  },
  {
   "cell_type": "markdown",
   "id": "6e1cbfda",
   "metadata": {},
   "source": [
    "Определяем лучшую комбинацию:"
   ]
  },
  {
   "cell_type": "code",
   "execution_count": 35,
   "id": "58dfe356",
   "metadata": {},
   "outputs": [
    {
     "name": "stdout",
     "output_type": "stream",
     "text": [
      "Лучшие параметры:\n",
      "Dropout Rate       0.500000\n",
      "Batch Size        20.000000\n",
      "Epoch           4500.000000\n",
      "RMSE            4049.254395\n",
      "Name: 69, dtype: float64\n"
     ]
    }
   ],
   "source": [
    "results_df = pd.DataFrame(results, columns=['Dropout Rate', 'Batch Size', 'Epoch', 'RMSE'])\n",
    "best_result = results_df[results_df['RMSE'] < 4500].sort_values('RMSE').iloc[0]\n",
    "print(\"Лучшие параметры:\")\n",
    "print(best_result)"
   ]
  },
  {
   "cell_type": "markdown",
   "id": "bb2dfc1a",
   "metadata": {},
   "source": [
    "Обучение лучшей модели"
   ]
  },
  {
   "cell_type": "code",
   "execution_count": 36,
   "id": "65f2a7e1",
   "metadata": {},
   "outputs": [],
   "source": [
    "best_model = ImprovedNet(X_train.shape[1], 15, 10, 1, best_result['Dropout Rate'])\n",
    "best_optimizer = torch.optim.Adam(best_model.parameters(), lr=0.001)\n",
    "best_dataset_train = TensorDataset(X_train, y_train)\n",
    "best_train_loader = DataLoader(best_dataset_train, batch_size=int(best_result['Batch Size']), shuffle=True)"
   ]
  },
  {
   "cell_type": "code",
   "execution_count": 37,
   "id": "441a0425",
   "metadata": {},
   "outputs": [],
   "source": [
    "for epoch in range(int(best_result['Epoch'])):\n",
    "    best_model.train()\n",
    "    for data, target in best_train_loader:\n",
    "        best_optimizer.zero_grad()\n",
    "        output = best_model(data)\n",
    "        loss = loss_function(output, target.unsqueeze(1))\n",
    "        loss.backward()\n",
    "        best_optimizer.step()"
   ]
  },
  {
   "cell_type": "code",
   "execution_count": 38,
   "id": "0607238c",
   "metadata": {},
   "outputs": [],
   "source": [
    "best_model.eval()\n",
    "with torch.no_grad():\n",
    "    final_predictions = best_model(X_test)\n",
    "    final_rmse_improved = mean_squared_error(y_test.numpy(), final_predictions.numpy(), squared=False)"
   ]
  },
  {
   "cell_type": "code",
   "execution_count": 39,
   "id": "4b9e85ad",
   "metadata": {},
   "outputs": [],
   "source": [
    "predictions_improved = final_predictions.numpy() if isinstance(final_predictions, torch.Tensor) else np.array(final_predictions)\n",
    "predictions_improved = predictions_improved.flatten()"
   ]
  },
  {
   "cell_type": "code",
   "execution_count": 40,
   "id": "efb32edd",
   "metadata": {},
   "outputs": [
    {
     "data": {
      "image/png": "[encoded data removed]",
      "text/plain": [
       "<Figure size 1296x576 with 1 Axes>"
      ]
     },
     "metadata": {
      "needs_background": "light"
     },
     "output_type": "display_data"
    },
    {
     "name": "stdout",
     "output_type": "stream",
     "text": [
      "Финальный RMSE: 4186.02783203125\n"
     ]
    }
   ],
   "source": [
    "plot_results(y_test_np, predictions_improved, 'График \"Факт vs. Прогноз\": Улучшенная модель')\n",
    "\n",
    "print(f\"Финальный RMSE: {final_rmse_improved}\")"
   ]
  },
  {
   "cell_type": "markdown",
   "id": "ee02dc09",
   "metadata": {},
   "source": [
    "Были использованы значения dropout (0.1, 0.25, 0.5) и размерами батча (20, 40, 60). Меньшие значения dropout и более мелкие размеры батча обеспечили лучший результат. Лучшее значение RMSE составило 3691.625 K при dropout_rate = 0.1 и batch_size = 20.\n",
    "\n",
    "На графике наблюдается схожесть прогнозов с фактическим результатом."
   ]
  },
  {
   "cell_type": "markdown",
   "id": "accurate-infrastructure",
   "metadata": {},
   "source": [
    "## Выводы"
   ]
  },
  {
   "cell_type": "markdown",
   "id": "8d5e6047",
   "metadata": {},
   "source": [
    "В первом пункте работы были проанализированы имеющиеся данные: выяснилось, что в них нет пропусков и явных дубликатов. \n",
    "\n",
    "Были выявлены следующие закономерности:\n",
    "\n",
    "1. Большинство звезд имеют температуру ниже 10,000 K. \n",
    "2. Большинство звезд имеют низкую светимость, но есть несколько ярких объектов. \n",
    "3. Большинство звезд имеют малый радиус, но есть исключения с большим радиусом. \n",
    "4. Диаграмма типов звезд показала равномерное распределение.\n",
    "5. Были выявлены проблемы в 'Star color'. \n",
    "\n",
    "Далее были обработаны неявные дубликаты в столбце 'Star color'. Данные были нормализованы, категориальные признаки преобразованы.\n",
    "\n",
    "Базовая модель обучалась на 10,000 эпохах с оптимизатором Adam и функцией потерь MSE и достигла RMSE = 4262.684 K.\n",
    "Улучшенная модель с Batch Normalization и Dropout уменьшила переобучение и улучшила показатель RMSE до 3691.625 K."
   ]
  },
  {
   "cell_type": "markdown",
   "id": "b01f769f",
   "metadata": {},
   "source": [
    "\n",
    "Итоговый RMSE составил 4107.75"
   ]
  }
 ],
 "metadata": {
  "ExecuteTimeLog": [
   {
    "duration": 1600,
    "start_time": "2024-05-07T06:49:37.962Z"
   },
   {
    "duration": 3,
    "start_time": "2024-05-07T06:50:47.559Z"
   },
   {
    "duration": 77,
    "start_time": "2024-05-07T06:50:48.180Z"
   },
   {
    "duration": 28,
    "start_time": "2024-05-07T06:50:48.271Z"
   },
   {
    "duration": 13,
    "start_time": "2024-05-07T06:51:19.261Z"
   },
   {
    "duration": 4,
    "start_time": "2024-05-07T06:52:05.432Z"
   },
   {
    "duration": 26,
    "start_time": "2024-05-07T06:52:05.821Z"
   },
   {
    "duration": 24,
    "start_time": "2024-05-07T06:52:07.166Z"
   },
   {
    "duration": 12,
    "start_time": "2024-05-07T06:52:07.634Z"
   },
   {
    "duration": 3526,
    "start_time": "2024-05-07T06:52:34.840Z"
   },
   {
    "duration": 331,
    "start_time": "2024-05-07T06:53:07.724Z"
   },
   {
    "duration": 3,
    "start_time": "2024-05-07T06:54:48.506Z"
   },
   {
    "duration": 26,
    "start_time": "2024-05-07T06:54:48.691Z"
   },
   {
    "duration": 24,
    "start_time": "2024-05-07T06:54:48.871Z"
   },
   {
    "duration": 11,
    "start_time": "2024-05-07T06:54:49.066Z"
   },
   {
    "duration": 3446,
    "start_time": "2024-05-07T06:54:49.519Z"
   },
   {
    "duration": 3,
    "start_time": "2024-05-07T06:54:52.967Z"
   },
   {
    "duration": 524,
    "start_time": "2024-05-07T06:54:52.972Z"
   },
   {
    "duration": 1372,
    "start_time": "2024-05-07T07:13:06.256Z"
   },
   {
    "duration": 28,
    "start_time": "2024-05-07T07:13:07.630Z"
   },
   {
    "duration": 37,
    "start_time": "2024-05-07T07:13:07.659Z"
   },
   {
    "duration": 74,
    "start_time": "2024-05-07T07:13:07.698Z"
   },
   {
    "duration": 31,
    "start_time": "2024-05-07T07:13:07.775Z"
   },
   {
    "duration": 17,
    "start_time": "2024-05-07T07:13:07.807Z"
   },
   {
    "duration": 3445,
    "start_time": "2024-05-07T07:13:07.825Z"
   },
   {
    "duration": 2,
    "start_time": "2024-05-07T07:13:11.272Z"
   },
   {
    "duration": 389,
    "start_time": "2024-05-07T07:13:11.276Z"
   },
   {
    "duration": 4,
    "start_time": "2024-05-07T07:30:12.121Z"
   },
   {
    "duration": 3,
    "start_time": "2024-05-07T07:30:26.315Z"
   },
   {
    "duration": 5,
    "start_time": "2024-05-07T07:30:26.659Z"
   },
   {
    "duration": 4,
    "start_time": "2024-05-07T07:30:36.325Z"
   },
   {
    "duration": 3,
    "start_time": "2024-05-07T07:31:50.042Z"
   },
   {
    "duration": 4,
    "start_time": "2024-05-07T07:31:50.365Z"
   },
   {
    "duration": 4,
    "start_time": "2024-05-07T07:31:50.739Z"
   },
   {
    "duration": 1387,
    "start_time": "2024-05-07T07:32:15.242Z"
   },
   {
    "duration": 27,
    "start_time": "2024-05-07T07:32:16.631Z"
   },
   {
    "duration": 45,
    "start_time": "2024-05-07T07:32:16.660Z"
   },
   {
    "duration": 16,
    "start_time": "2024-05-07T07:32:16.707Z"
   },
   {
    "duration": 22,
    "start_time": "2024-05-07T07:32:16.725Z"
   },
   {
    "duration": 12,
    "start_time": "2024-05-07T07:32:16.749Z"
   },
   {
    "duration": 3544,
    "start_time": "2024-05-07T07:32:16.762Z"
   },
   {
    "duration": 3,
    "start_time": "2024-05-07T07:32:20.308Z"
   },
   {
    "duration": 423,
    "start_time": "2024-05-07T07:32:20.312Z"
   },
   {
    "duration": 4,
    "start_time": "2024-05-07T07:32:20.736Z"
   },
   {
    "duration": 40,
    "start_time": "2024-05-07T07:32:20.741Z"
   },
   {
    "duration": 43,
    "start_time": "2024-05-07T07:32:20.782Z"
   },
   {
    "duration": 6,
    "start_time": "2024-05-07T07:35:56.640Z"
   },
   {
    "duration": 6,
    "start_time": "2024-05-07T07:36:03.753Z"
   },
   {
    "duration": 1411,
    "start_time": "2024-05-08T17:29:48.662Z"
   },
   {
    "duration": 76,
    "start_time": "2024-05-08T17:29:50.076Z"
   },
   {
    "duration": 27,
    "start_time": "2024-05-08T17:29:50.155Z"
   },
   {
    "duration": 16,
    "start_time": "2024-05-08T17:29:50.184Z"
   },
   {
    "duration": 6,
    "start_time": "2024-05-08T17:29:50.202Z"
   },
   {
    "duration": 11,
    "start_time": "2024-05-08T17:29:50.210Z"
   },
   {
    "duration": 3366,
    "start_time": "2024-05-08T17:29:50.244Z"
   },
   {
    "duration": 3,
    "start_time": "2024-05-08T17:29:53.612Z"
   },
   {
    "duration": 363,
    "start_time": "2024-05-08T17:29:53.616Z"
   },
   {
    "duration": 3,
    "start_time": "2024-05-08T17:29:53.981Z"
   },
   {
    "duration": 20,
    "start_time": "2024-05-08T17:29:53.986Z"
   },
   {
    "duration": 24,
    "start_time": "2024-05-08T17:29:54.007Z"
   },
   {
    "duration": 11,
    "start_time": "2024-05-08T17:29:54.033Z"
   },
   {
    "duration": 6,
    "start_time": "2024-05-08T17:32:17.578Z"
   },
   {
    "duration": 2,
    "start_time": "2024-05-08T17:32:18.454Z"
   },
   {
    "duration": 3,
    "start_time": "2024-05-08T17:32:18.896Z"
   },
   {
    "duration": 121,
    "start_time": "2024-05-08T17:32:19.335Z"
   },
   {
    "duration": 2,
    "start_time": "2024-05-08T17:34:10.763Z"
   },
   {
    "duration": 3,
    "start_time": "2024-05-08T17:34:11.091Z"
   },
   {
    "duration": 16,
    "start_time": "2024-05-08T17:34:15.524Z"
   },
   {
    "duration": 3,
    "start_time": "2024-05-08T17:34:50.056Z"
   },
   {
    "duration": 6,
    "start_time": "2024-05-08T17:34:50.422Z"
   },
   {
    "duration": 3,
    "start_time": "2024-05-08T17:34:50.804Z"
   },
   {
    "duration": 6,
    "start_time": "2024-05-08T17:35:24.843Z"
   },
   {
    "duration": 3,
    "start_time": "2024-05-08T17:35:25.550Z"
   },
   {
    "duration": 3,
    "start_time": "2024-05-08T17:35:25.886Z"
   },
   {
    "duration": 27,
    "start_time": "2024-05-08T17:35:26.108Z"
   },
   {
    "duration": 4,
    "start_time": "2024-05-08T17:36:00.212Z"
   },
   {
    "duration": 42,
    "start_time": "2024-05-08T17:36:00.576Z"
   },
   {
    "duration": 3,
    "start_time": "2024-05-08T17:36:00.892Z"
   },
   {
    "duration": 3,
    "start_time": "2024-05-08T17:36:09.487Z"
   },
   {
    "duration": 5,
    "start_time": "2024-05-08T17:36:09.754Z"
   },
   {
    "duration": 4,
    "start_time": "2024-05-08T17:36:10.258Z"
   },
   {
    "duration": 4,
    "start_time": "2024-05-08T17:36:24.265Z"
   },
   {
    "duration": 5,
    "start_time": "2024-05-08T17:36:24.466Z"
   },
   {
    "duration": 5,
    "start_time": "2024-05-08T17:36:24.884Z"
   },
   {
    "duration": 5,
    "start_time": "2024-05-08T17:36:27.950Z"
   },
   {
    "duration": 3,
    "start_time": "2024-05-08T17:36:28.279Z"
   },
   {
    "duration": 2,
    "start_time": "2024-05-08T17:36:28.439Z"
   },
   {
    "duration": 19,
    "start_time": "2024-05-08T17:36:28.592Z"
   },
   {
    "duration": 11390,
    "start_time": "2024-05-08T17:36:46.059Z"
   },
   {
    "duration": 17780,
    "start_time": "2024-05-08T17:38:04.873Z"
   },
   {
    "duration": 9028,
    "start_time": "2024-05-08T17:38:35.719Z"
   },
   {
    "duration": 1237,
    "start_time": "2024-05-08T17:39:03.976Z"
   },
   {
    "duration": 17355,
    "start_time": "2024-05-08T17:39:34.389Z"
   },
   {
    "duration": 1301,
    "start_time": "2024-05-08T17:40:33.918Z"
   },
   {
    "duration": 28,
    "start_time": "2024-05-08T17:40:35.221Z"
   },
   {
    "duration": 26,
    "start_time": "2024-05-08T17:40:35.250Z"
   },
   {
    "duration": 12,
    "start_time": "2024-05-08T17:40:35.277Z"
   },
   {
    "duration": 15,
    "start_time": "2024-05-08T17:40:35.292Z"
   },
   {
    "duration": 17,
    "start_time": "2024-05-08T17:40:35.308Z"
   },
   {
    "duration": 3272,
    "start_time": "2024-05-08T17:40:35.326Z"
   },
   {
    "duration": 2,
    "start_time": "2024-05-08T17:40:38.600Z"
   },
   {
    "duration": 345,
    "start_time": "2024-05-08T17:40:38.604Z"
   },
   {
    "duration": 3,
    "start_time": "2024-05-08T17:40:38.950Z"
   },
   {
    "duration": 9,
    "start_time": "2024-05-08T17:40:38.954Z"
   },
   {
    "duration": 4,
    "start_time": "2024-05-08T17:40:38.965Z"
   },
   {
    "duration": 14,
    "start_time": "2024-05-08T17:40:38.971Z"
   },
   {
    "duration": 11,
    "start_time": "2024-05-08T17:40:38.987Z"
   },
   {
    "duration": 6,
    "start_time": "2024-05-08T17:40:38.999Z"
   },
   {
    "duration": 120,
    "start_time": "2024-05-08T17:40:39.006Z"
   },
   {
    "duration": 0,
    "start_time": "2024-05-08T17:40:39.128Z"
   },
   {
    "duration": 0,
    "start_time": "2024-05-08T17:40:39.129Z"
   },
   {
    "duration": 0,
    "start_time": "2024-05-08T17:40:39.130Z"
   },
   {
    "duration": 0,
    "start_time": "2024-05-08T17:40:39.131Z"
   },
   {
    "duration": 4,
    "start_time": "2024-05-08T17:43:47.785Z"
   },
   {
    "duration": 50,
    "start_time": "2024-05-08T17:43:48.035Z"
   },
   {
    "duration": 3,
    "start_time": "2024-05-08T17:43:48.545Z"
   },
   {
    "duration": 3,
    "start_time": "2024-05-08T17:43:56.372Z"
   },
   {
    "duration": 41,
    "start_time": "2024-05-08T17:43:56.707Z"
   },
   {
    "duration": 38,
    "start_time": "2024-05-08T17:44:04.417Z"
   },
   {
    "duration": 63,
    "start_time": "2024-05-08T17:44:33.203Z"
   },
   {
    "duration": 5,
    "start_time": "2024-05-08T17:45:28.827Z"
   },
   {
    "duration": 5,
    "start_time": "2024-05-08T17:46:50.715Z"
   },
   {
    "duration": 1322,
    "start_time": "2024-05-08T17:47:30.210Z"
   },
   {
    "duration": 29,
    "start_time": "2024-05-08T17:47:31.534Z"
   },
   {
    "duration": 25,
    "start_time": "2024-05-08T17:47:31.565Z"
   },
   {
    "duration": 29,
    "start_time": "2024-05-08T17:47:31.591Z"
   },
   {
    "duration": 31,
    "start_time": "2024-05-08T17:47:31.621Z"
   },
   {
    "duration": 24,
    "start_time": "2024-05-08T17:47:31.654Z"
   },
   {
    "duration": 3354,
    "start_time": "2024-05-08T17:47:31.680Z"
   },
   {
    "duration": 3,
    "start_time": "2024-05-08T17:47:35.036Z"
   },
   {
    "duration": 383,
    "start_time": "2024-05-08T17:47:35.040Z"
   },
   {
    "duration": 4,
    "start_time": "2024-05-08T17:47:35.425Z"
   },
   {
    "duration": 8,
    "start_time": "2024-05-08T17:47:35.446Z"
   },
   {
    "duration": 20,
    "start_time": "2024-05-08T17:47:35.456Z"
   },
   {
    "duration": 7,
    "start_time": "2024-05-08T17:47:35.478Z"
   },
   {
    "duration": 17,
    "start_time": "2024-05-08T17:47:35.489Z"
   },
   {
    "duration": 5,
    "start_time": "2024-05-08T17:47:35.508Z"
   },
   {
    "duration": 139,
    "start_time": "2024-05-08T17:47:35.515Z"
   },
   {
    "duration": 0,
    "start_time": "2024-05-08T17:47:35.656Z"
   },
   {
    "duration": 0,
    "start_time": "2024-05-08T17:47:35.657Z"
   },
   {
    "duration": 0,
    "start_time": "2024-05-08T17:47:35.658Z"
   },
   {
    "duration": 0,
    "start_time": "2024-05-08T17:47:35.660Z"
   },
   {
    "duration": 8,
    "start_time": "2024-05-08T17:50:06.544Z"
   },
   {
    "duration": 3,
    "start_time": "2024-05-08T17:50:06.913Z"
   },
   {
    "duration": 5,
    "start_time": "2024-05-08T17:50:07.613Z"
   },
   {
    "duration": 2,
    "start_time": "2024-05-08T17:50:08.596Z"
   },
   {
    "duration": 3,
    "start_time": "2024-05-08T17:50:08.918Z"
   },
   {
    "duration": 31,
    "start_time": "2024-05-08T17:50:09.399Z"
   },
   {
    "duration": 6,
    "start_time": "2024-05-08T17:52:10.697Z"
   },
   {
    "duration": 3,
    "start_time": "2024-05-08T17:52:10.896Z"
   },
   {
    "duration": 6,
    "start_time": "2024-05-08T17:52:11.293Z"
   },
   {
    "duration": 3,
    "start_time": "2024-05-08T17:52:11.647Z"
   },
   {
    "duration": 3,
    "start_time": "2024-05-08T17:52:11.821Z"
   },
   {
    "duration": 15,
    "start_time": "2024-05-08T17:52:11.987Z"
   },
   {
    "duration": 1309,
    "start_time": "2024-05-08T17:52:20.233Z"
   },
   {
    "duration": 29,
    "start_time": "2024-05-08T17:52:21.544Z"
   },
   {
    "duration": 28,
    "start_time": "2024-05-08T17:52:21.575Z"
   },
   {
    "duration": 26,
    "start_time": "2024-05-08T17:52:21.605Z"
   },
   {
    "duration": 6,
    "start_time": "2024-05-08T17:52:21.633Z"
   },
   {
    "duration": 15,
    "start_time": "2024-05-08T17:52:21.640Z"
   },
   {
    "duration": 3345,
    "start_time": "2024-05-08T17:52:21.657Z"
   },
   {
    "duration": 2,
    "start_time": "2024-05-08T17:52:25.004Z"
   },
   {
    "duration": 365,
    "start_time": "2024-05-08T17:52:25.008Z"
   },
   {
    "duration": 4,
    "start_time": "2024-05-08T17:52:25.374Z"
   },
   {
    "duration": 18,
    "start_time": "2024-05-08T17:52:25.379Z"
   },
   {
    "duration": 21,
    "start_time": "2024-05-08T17:52:25.398Z"
   },
   {
    "duration": 19,
    "start_time": "2024-05-08T17:52:25.421Z"
   },
   {
    "duration": 34,
    "start_time": "2024-05-08T17:52:25.442Z"
   },
   {
    "duration": 12,
    "start_time": "2024-05-08T17:52:25.478Z"
   },
   {
    "duration": 139,
    "start_time": "2024-05-08T17:52:25.491Z"
   },
   {
    "duration": 0,
    "start_time": "2024-05-08T17:52:25.631Z"
   },
   {
    "duration": 0,
    "start_time": "2024-05-08T17:52:25.633Z"
   },
   {
    "duration": 0,
    "start_time": "2024-05-08T17:52:25.645Z"
   },
   {
    "duration": 0,
    "start_time": "2024-05-08T17:52:25.646Z"
   },
   {
    "duration": 1339,
    "start_time": "2024-05-08T17:54:36.465Z"
   },
   {
    "duration": 27,
    "start_time": "2024-05-08T17:54:37.807Z"
   },
   {
    "duration": 30,
    "start_time": "2024-05-08T17:54:37.835Z"
   },
   {
    "duration": 19,
    "start_time": "2024-05-08T17:54:37.867Z"
   },
   {
    "duration": 7,
    "start_time": "2024-05-08T17:54:37.888Z"
   },
   {
    "duration": 6,
    "start_time": "2024-05-08T17:54:37.896Z"
   },
   {
    "duration": 3310,
    "start_time": "2024-05-08T17:54:37.904Z"
   },
   {
    "duration": 3,
    "start_time": "2024-05-08T17:54:41.216Z"
   },
   {
    "duration": 361,
    "start_time": "2024-05-08T17:54:41.220Z"
   },
   {
    "duration": 3,
    "start_time": "2024-05-08T17:54:41.583Z"
   },
   {
    "duration": 9,
    "start_time": "2024-05-08T17:54:41.588Z"
   },
   {
    "duration": 26,
    "start_time": "2024-05-08T17:54:41.598Z"
   },
   {
    "duration": 15,
    "start_time": "2024-05-08T17:54:41.625Z"
   },
   {
    "duration": 17,
    "start_time": "2024-05-08T17:54:41.642Z"
   },
   {
    "duration": 17,
    "start_time": "2024-05-08T17:54:41.660Z"
   },
   {
    "duration": 129,
    "start_time": "2024-05-08T17:54:41.678Z"
   },
   {
    "duration": 0,
    "start_time": "2024-05-08T17:54:41.808Z"
   },
   {
    "duration": 0,
    "start_time": "2024-05-08T17:54:41.810Z"
   },
   {
    "duration": 0,
    "start_time": "2024-05-08T17:54:41.811Z"
   },
   {
    "duration": 0,
    "start_time": "2024-05-08T17:54:41.812Z"
   },
   {
    "duration": 1285,
    "start_time": "2024-05-08T17:58:48.462Z"
   },
   {
    "duration": 28,
    "start_time": "2024-05-08T17:58:49.749Z"
   },
   {
    "duration": 27,
    "start_time": "2024-05-08T17:58:49.779Z"
   },
   {
    "duration": 13,
    "start_time": "2024-05-08T17:58:49.808Z"
   },
   {
    "duration": 4,
    "start_time": "2024-05-08T17:58:49.823Z"
   },
   {
    "duration": 6,
    "start_time": "2024-05-08T17:58:49.829Z"
   },
   {
    "duration": 3282,
    "start_time": "2024-05-08T17:58:49.844Z"
   },
   {
    "duration": 3,
    "start_time": "2024-05-08T17:58:53.128Z"
   },
   {
    "duration": 359,
    "start_time": "2024-05-08T17:58:53.133Z"
   },
   {
    "duration": 5,
    "start_time": "2024-05-08T17:58:53.494Z"
   },
   {
    "duration": 6,
    "start_time": "2024-05-08T17:58:53.500Z"
   },
   {
    "duration": 9,
    "start_time": "2024-05-08T17:58:53.508Z"
   },
   {
    "duration": 39,
    "start_time": "2024-05-08T17:58:53.519Z"
   },
   {
    "duration": 0,
    "start_time": "2024-05-08T17:58:53.560Z"
   },
   {
    "duration": 0,
    "start_time": "2024-05-08T17:58:53.562Z"
   },
   {
    "duration": 0,
    "start_time": "2024-05-08T17:58:53.564Z"
   },
   {
    "duration": 0,
    "start_time": "2024-05-08T17:58:53.565Z"
   },
   {
    "duration": 0,
    "start_time": "2024-05-08T17:58:53.566Z"
   },
   {
    "duration": 0,
    "start_time": "2024-05-08T17:58:53.567Z"
   },
   {
    "duration": 0,
    "start_time": "2024-05-08T17:58:53.569Z"
   },
   {
    "duration": 0,
    "start_time": "2024-05-08T17:58:53.570Z"
   },
   {
    "duration": 4,
    "start_time": "2024-05-08T17:59:01.542Z"
   },
   {
    "duration": 5,
    "start_time": "2024-05-08T17:59:02.071Z"
   },
   {
    "duration": 3,
    "start_time": "2024-05-08T17:59:03.423Z"
   },
   {
    "duration": 3,
    "start_time": "2024-05-08T17:59:03.619Z"
   },
   {
    "duration": 131,
    "start_time": "2024-05-08T17:59:04.043Z"
   },
   {
    "duration": 4,
    "start_time": "2024-05-08T18:00:38.292Z"
   },
   {
    "duration": 48,
    "start_time": "2024-05-08T18:00:38.648Z"
   },
   {
    "duration": 5,
    "start_time": "2024-05-08T18:00:49.563Z"
   },
   {
    "duration": 4,
    "start_time": "2024-05-08T18:00:50.010Z"
   },
   {
    "duration": 6,
    "start_time": "2024-05-08T18:00:50.710Z"
   },
   {
    "duration": 2,
    "start_time": "2024-05-08T18:00:51.221Z"
   },
   {
    "duration": 3,
    "start_time": "2024-05-08T18:00:51.383Z"
   },
   {
    "duration": 27,
    "start_time": "2024-05-08T18:00:51.570Z"
   },
   {
    "duration": 5,
    "start_time": "2024-05-08T18:01:33.831Z"
   },
   {
    "duration": 3,
    "start_time": "2024-05-08T18:01:33.996Z"
   },
   {
    "duration": 5,
    "start_time": "2024-05-08T18:01:34.308Z"
   },
   {
    "duration": 2,
    "start_time": "2024-05-08T18:01:34.606Z"
   },
   {
    "duration": 2,
    "start_time": "2024-05-08T18:01:34.774Z"
   },
   {
    "duration": 17,
    "start_time": "2024-05-08T18:01:34.951Z"
   },
   {
    "duration": 12388,
    "start_time": "2024-05-08T18:01:35.868Z"
   },
   {
    "duration": 4,
    "start_time": "2024-05-08T18:01:48.346Z"
   },
   {
    "duration": 254,
    "start_time": "2024-05-08T18:01:48.352Z"
   },
   {
    "duration": 4,
    "start_time": "2024-05-08T18:01:48.608Z"
   },
   {
    "duration": 3,
    "start_time": "2024-05-08T18:03:20.160Z"
   },
   {
    "duration": 588496,
    "start_time": "2024-05-08T18:03:20.352Z"
   },
   {
    "duration": 3,
    "start_time": "2024-05-08T18:13:08.944Z"
   },
   {
    "duration": 181,
    "start_time": "2024-05-08T18:13:08.948Z"
   },
   {
    "duration": 3,
    "start_time": "2024-05-08T18:13:09.131Z"
   },
   {
    "duration": 1508,
    "start_time": "2024-05-08T18:32:23.770Z"
   },
   {
    "duration": 28,
    "start_time": "2024-05-08T18:32:25.280Z"
   },
   {
    "duration": 27,
    "start_time": "2024-05-08T18:32:25.309Z"
   },
   {
    "duration": 14,
    "start_time": "2024-05-08T18:32:25.338Z"
   },
   {
    "duration": 5,
    "start_time": "2024-05-08T18:32:25.354Z"
   },
   {
    "duration": 31,
    "start_time": "2024-05-08T18:32:25.360Z"
   },
   {
    "duration": 116,
    "start_time": "2024-05-08T18:32:25.393Z"
   },
   {
    "duration": 1,
    "start_time": "2024-05-08T18:32:25.510Z"
   },
   {
    "duration": 0,
    "start_time": "2024-05-08T18:32:25.512Z"
   },
   {
    "duration": 0,
    "start_time": "2024-05-08T18:32:25.513Z"
   },
   {
    "duration": 0,
    "start_time": "2024-05-08T18:32:25.514Z"
   },
   {
    "duration": 0,
    "start_time": "2024-05-08T18:32:25.516Z"
   },
   {
    "duration": 0,
    "start_time": "2024-05-08T18:32:25.517Z"
   },
   {
    "duration": 0,
    "start_time": "2024-05-08T18:32:25.518Z"
   },
   {
    "duration": 0,
    "start_time": "2024-05-08T18:32:25.519Z"
   },
   {
    "duration": 0,
    "start_time": "2024-05-08T18:32:25.520Z"
   },
   {
    "duration": 248,
    "start_time": "2024-05-08T18:32:44.068Z"
   },
   {
    "duration": 28,
    "start_time": "2024-05-08T18:32:44.389Z"
   },
   {
    "duration": 1604,
    "start_time": "2024-05-08T18:32:48.700Z"
   },
   {
    "duration": 95,
    "start_time": "2024-05-08T18:32:50.305Z"
   },
   {
    "duration": 27,
    "start_time": "2024-05-08T18:32:50.402Z"
   },
   {
    "duration": 24,
    "start_time": "2024-05-08T18:32:50.430Z"
   },
   {
    "duration": 9,
    "start_time": "2024-05-08T18:32:50.456Z"
   },
   {
    "duration": 21,
    "start_time": "2024-05-08T18:32:50.467Z"
   },
   {
    "duration": 3228,
    "start_time": "2024-05-08T18:32:50.490Z"
   },
   {
    "duration": 117,
    "start_time": "2024-05-08T18:32:53.720Z"
   },
   {
    "duration": 0,
    "start_time": "2024-05-08T18:32:53.839Z"
   },
   {
    "duration": 0,
    "start_time": "2024-05-08T18:32:53.845Z"
   },
   {
    "duration": 0,
    "start_time": "2024-05-08T18:32:53.846Z"
   },
   {
    "duration": 0,
    "start_time": "2024-05-08T18:32:53.847Z"
   },
   {
    "duration": 0,
    "start_time": "2024-05-08T18:32:53.848Z"
   },
   {
    "duration": 0,
    "start_time": "2024-05-08T18:32:53.849Z"
   },
   {
    "duration": 0,
    "start_time": "2024-05-08T18:32:53.850Z"
   },
   {
    "duration": 0,
    "start_time": "2024-05-08T18:32:53.851Z"
   },
   {
    "duration": 1688,
    "start_time": "2024-05-08T18:33:13.446Z"
   },
   {
    "duration": 109,
    "start_time": "2024-05-08T18:33:15.136Z"
   },
   {
    "duration": 27,
    "start_time": "2024-05-08T18:33:15.247Z"
   },
   {
    "duration": 30,
    "start_time": "2024-05-08T18:33:15.275Z"
   },
   {
    "duration": 6,
    "start_time": "2024-05-08T18:33:15.308Z"
   },
   {
    "duration": 10,
    "start_time": "2024-05-08T18:33:15.315Z"
   },
   {
    "duration": 3280,
    "start_time": "2024-05-08T18:33:15.326Z"
   },
   {
    "duration": 3,
    "start_time": "2024-05-08T18:33:18.607Z"
   },
   {
    "duration": 363,
    "start_time": "2024-05-08T18:33:18.612Z"
   },
   {
    "duration": 4,
    "start_time": "2024-05-08T18:33:18.976Z"
   },
   {
    "duration": 30,
    "start_time": "2024-05-08T18:33:18.981Z"
   },
   {
    "duration": 28,
    "start_time": "2024-05-08T18:33:19.012Z"
   },
   {
    "duration": 23,
    "start_time": "2024-05-08T18:33:19.042Z"
   },
   {
    "duration": 4,
    "start_time": "2024-05-08T18:33:19.067Z"
   },
   {
    "duration": 153,
    "start_time": "2024-05-08T18:33:19.072Z"
   },
   {
    "duration": 0,
    "start_time": "2024-05-08T18:33:19.226Z"
   },
   {
    "duration": 1619,
    "start_time": "2024-05-08T18:33:50.812Z"
   },
   {
    "duration": 95,
    "start_time": "2024-05-08T18:33:52.433Z"
   },
   {
    "duration": 28,
    "start_time": "2024-05-08T18:33:52.529Z"
   },
   {
    "duration": 13,
    "start_time": "2024-05-08T18:33:52.558Z"
   },
   {
    "duration": 4,
    "start_time": "2024-05-08T18:33:52.573Z"
   },
   {
    "duration": 9,
    "start_time": "2024-05-08T18:33:52.578Z"
   },
   {
    "duration": 3197,
    "start_time": "2024-05-08T18:33:52.589Z"
   },
   {
    "duration": 3,
    "start_time": "2024-05-08T18:33:55.788Z"
   },
   {
    "duration": 336,
    "start_time": "2024-05-08T18:33:55.793Z"
   },
   {
    "duration": 4,
    "start_time": "2024-05-08T18:33:56.131Z"
   },
   {
    "duration": 6,
    "start_time": "2024-05-08T18:33:56.145Z"
   },
   {
    "duration": 33,
    "start_time": "2024-05-08T18:33:56.152Z"
   },
   {
    "duration": 11,
    "start_time": "2024-05-08T18:33:56.187Z"
   },
   {
    "duration": 28,
    "start_time": "2024-05-08T18:33:56.201Z"
   },
   {
    "duration": 188,
    "start_time": "2024-05-08T18:33:56.230Z"
   },
   {
    "duration": 0,
    "start_time": "2024-05-08T18:33:56.419Z"
   },
   {
    "duration": 1656,
    "start_time": "2024-05-08T18:34:40.514Z"
   },
   {
    "duration": 92,
    "start_time": "2024-05-08T18:34:42.171Z"
   },
   {
    "duration": 24,
    "start_time": "2024-05-08T18:34:42.264Z"
   },
   {
    "duration": 12,
    "start_time": "2024-05-08T18:34:42.289Z"
   },
   {
    "duration": 4,
    "start_time": "2024-05-08T18:34:42.303Z"
   },
   {
    "duration": 6,
    "start_time": "2024-05-08T18:34:42.309Z"
   },
   {
    "duration": 3278,
    "start_time": "2024-05-08T18:34:42.316Z"
   },
   {
    "duration": 3,
    "start_time": "2024-05-08T18:34:45.596Z"
   },
   {
    "duration": 365,
    "start_time": "2024-05-08T18:34:45.600Z"
   },
   {
    "duration": 3,
    "start_time": "2024-05-08T18:34:45.966Z"
   },
   {
    "duration": 8,
    "start_time": "2024-05-08T18:34:45.971Z"
   },
   {
    "duration": 5,
    "start_time": "2024-05-08T18:34:45.980Z"
   },
   {
    "duration": 8,
    "start_time": "2024-05-08T18:34:45.986Z"
   },
   {
    "duration": 4,
    "start_time": "2024-05-08T18:34:45.996Z"
   },
   {
    "duration": 153,
    "start_time": "2024-05-08T18:34:46.001Z"
   },
   {
    "duration": 0,
    "start_time": "2024-05-08T18:34:46.156Z"
   },
   {
    "duration": 1740,
    "start_time": "2024-05-08T18:35:32.116Z"
   },
   {
    "duration": 97,
    "start_time": "2024-05-08T18:35:33.858Z"
   },
   {
    "duration": 26,
    "start_time": "2024-05-08T18:35:33.957Z"
   },
   {
    "duration": 17,
    "start_time": "2024-05-08T18:35:33.984Z"
   },
   {
    "duration": 5,
    "start_time": "2024-05-08T18:35:34.004Z"
   },
   {
    "duration": 6,
    "start_time": "2024-05-08T18:35:34.010Z"
   },
   {
    "duration": 3201,
    "start_time": "2024-05-08T18:35:34.017Z"
   },
   {
    "duration": 4,
    "start_time": "2024-05-08T18:35:37.220Z"
   },
   {
    "duration": 355,
    "start_time": "2024-05-08T18:35:37.225Z"
   },
   {
    "duration": 3,
    "start_time": "2024-05-08T18:35:37.582Z"
   },
   {
    "duration": 13,
    "start_time": "2024-05-08T18:35:37.587Z"
   },
   {
    "duration": 12,
    "start_time": "2024-05-08T18:35:37.601Z"
   },
   {
    "duration": 7,
    "start_time": "2024-05-08T18:35:37.614Z"
   },
   {
    "duration": 19,
    "start_time": "2024-05-08T18:35:37.623Z"
   },
   {
    "duration": 175,
    "start_time": "2024-05-08T18:35:37.644Z"
   },
   {
    "duration": 0,
    "start_time": "2024-05-08T18:35:37.820Z"
   },
   {
    "duration": 1701,
    "start_time": "2024-05-08T18:37:50.340Z"
   },
   {
    "duration": 96,
    "start_time": "2024-05-08T18:37:52.043Z"
   },
   {
    "duration": 27,
    "start_time": "2024-05-08T18:37:52.141Z"
   },
   {
    "duration": 15,
    "start_time": "2024-05-08T18:37:52.170Z"
   },
   {
    "duration": 7,
    "start_time": "2024-05-08T18:37:52.187Z"
   },
   {
    "duration": 12,
    "start_time": "2024-05-08T18:37:52.195Z"
   },
   {
    "duration": 3257,
    "start_time": "2024-05-08T18:37:52.209Z"
   },
   {
    "duration": 3,
    "start_time": "2024-05-08T18:37:55.468Z"
   },
   {
    "duration": 353,
    "start_time": "2024-05-08T18:37:55.473Z"
   },
   {
    "duration": 3,
    "start_time": "2024-05-08T18:37:55.828Z"
   },
   {
    "duration": 14,
    "start_time": "2024-05-08T18:37:55.833Z"
   },
   {
    "duration": 9,
    "start_time": "2024-05-08T18:37:55.849Z"
   },
   {
    "duration": 6,
    "start_time": "2024-05-08T18:37:55.860Z"
   },
   {
    "duration": 6,
    "start_time": "2024-05-08T18:37:55.867Z"
   },
   {
    "duration": 32,
    "start_time": "2024-05-08T18:37:55.874Z"
   },
   {
    "duration": 135,
    "start_time": "2024-05-08T18:37:55.907Z"
   },
   {
    "duration": 1638,
    "start_time": "2024-05-08T18:39:45.405Z"
   },
   {
    "duration": 93,
    "start_time": "2024-05-08T18:39:47.045Z"
   },
   {
    "duration": 27,
    "start_time": "2024-05-08T18:39:47.140Z"
   },
   {
    "duration": 14,
    "start_time": "2024-05-08T18:39:47.169Z"
   },
   {
    "duration": 11,
    "start_time": "2024-05-08T18:39:47.185Z"
   },
   {
    "duration": 8,
    "start_time": "2024-05-08T18:39:47.197Z"
   },
   {
    "duration": 3343,
    "start_time": "2024-05-08T18:39:47.207Z"
   },
   {
    "duration": 3,
    "start_time": "2024-05-08T18:39:50.552Z"
   },
   {
    "duration": 335,
    "start_time": "2024-05-08T18:39:50.556Z"
   },
   {
    "duration": 4,
    "start_time": "2024-05-08T18:39:50.892Z"
   },
   {
    "duration": 15,
    "start_time": "2024-05-08T18:39:50.897Z"
   },
   {
    "duration": 5,
    "start_time": "2024-05-08T18:39:50.913Z"
   },
   {
    "duration": 9,
    "start_time": "2024-05-08T18:39:50.920Z"
   },
   {
    "duration": 8,
    "start_time": "2024-05-08T18:39:50.931Z"
   },
   {
    "duration": 48,
    "start_time": "2024-05-08T18:39:50.940Z"
   },
   {
    "duration": 7,
    "start_time": "2024-05-08T18:39:50.990Z"
   },
   {
    "duration": 18,
    "start_time": "2024-05-08T18:39:50.998Z"
   },
   {
    "duration": 1669,
    "start_time": "2024-05-08T18:40:40.776Z"
   },
   {
    "duration": 96,
    "start_time": "2024-05-08T18:40:42.446Z"
   },
   {
    "duration": 24,
    "start_time": "2024-05-08T18:40:42.543Z"
   },
   {
    "duration": 12,
    "start_time": "2024-05-08T18:40:42.569Z"
   },
   {
    "duration": 45,
    "start_time": "2024-05-08T18:40:42.583Z"
   },
   {
    "duration": 21,
    "start_time": "2024-05-08T18:40:42.629Z"
   },
   {
    "duration": 3314,
    "start_time": "2024-05-08T18:40:42.652Z"
   },
   {
    "duration": 4,
    "start_time": "2024-05-08T18:40:45.968Z"
   },
   {
    "duration": 341,
    "start_time": "2024-05-08T18:40:45.973Z"
   },
   {
    "duration": 5,
    "start_time": "2024-05-08T18:40:46.316Z"
   },
   {
    "duration": 25,
    "start_time": "2024-05-08T18:40:46.323Z"
   },
   {
    "duration": 12,
    "start_time": "2024-05-08T18:40:46.349Z"
   },
   {
    "duration": 10,
    "start_time": "2024-05-08T18:40:46.362Z"
   },
   {
    "duration": 4,
    "start_time": "2024-05-08T18:40:46.375Z"
   },
   {
    "duration": 16,
    "start_time": "2024-05-08T18:40:46.380Z"
   },
   {
    "duration": 3,
    "start_time": "2024-05-08T18:40:46.398Z"
   },
   {
    "duration": 7,
    "start_time": "2024-05-08T18:40:46.403Z"
   },
   {
    "duration": 6,
    "start_time": "2024-05-08T18:40:46.411Z"
   },
   {
    "duration": 818,
    "start_time": "2024-05-08T18:42:18.643Z"
   },
   {
    "duration": 1682,
    "start_time": "2024-05-08T18:43:22.374Z"
   },
   {
    "duration": 93,
    "start_time": "2024-05-08T18:43:24.058Z"
   },
   {
    "duration": 24,
    "start_time": "2024-05-08T18:43:24.152Z"
   },
   {
    "duration": 12,
    "start_time": "2024-05-08T18:43:24.177Z"
   },
   {
    "duration": 17,
    "start_time": "2024-05-08T18:43:24.191Z"
   },
   {
    "duration": 7,
    "start_time": "2024-05-08T18:43:24.210Z"
   },
   {
    "duration": 3268,
    "start_time": "2024-05-08T18:43:24.218Z"
   },
   {
    "duration": 3,
    "start_time": "2024-05-08T18:43:27.488Z"
   },
   {
    "duration": 365,
    "start_time": "2024-05-08T18:43:27.492Z"
   },
   {
    "duration": 3,
    "start_time": "2024-05-08T18:43:27.858Z"
   },
   {
    "duration": 5,
    "start_time": "2024-05-08T18:43:27.863Z"
   },
   {
    "duration": 5,
    "start_time": "2024-05-08T18:43:27.869Z"
   },
   {
    "duration": 7,
    "start_time": "2024-05-08T18:43:27.875Z"
   },
   {
    "duration": 3,
    "start_time": "2024-05-08T18:43:27.884Z"
   },
   {
    "duration": 29,
    "start_time": "2024-05-08T18:43:27.888Z"
   },
   {
    "duration": 3,
    "start_time": "2024-05-08T18:43:27.918Z"
   },
   {
    "duration": 12,
    "start_time": "2024-05-08T18:43:27.922Z"
   },
   {
    "duration": 11,
    "start_time": "2024-05-08T18:43:27.935Z"
   },
   {
    "duration": 804,
    "start_time": "2024-05-08T18:43:27.948Z"
   },
   {
    "duration": 4,
    "start_time": "2024-05-08T18:43:28.754Z"
   },
   {
    "duration": 895,
    "start_time": "2024-05-08T18:43:28.759Z"
   },
   {
    "duration": 1668,
    "start_time": "2024-05-08T18:51:06.286Z"
   },
   {
    "duration": 90,
    "start_time": "2024-05-08T18:51:07.956Z"
   },
   {
    "duration": 24,
    "start_time": "2024-05-08T18:51:08.048Z"
   },
   {
    "duration": 12,
    "start_time": "2024-05-08T18:51:08.074Z"
   },
   {
    "duration": 4,
    "start_time": "2024-05-08T18:51:08.088Z"
   },
   {
    "duration": 9,
    "start_time": "2024-05-08T18:51:08.094Z"
   },
   {
    "duration": 3222,
    "start_time": "2024-05-08T18:51:08.104Z"
   },
   {
    "duration": 2,
    "start_time": "2024-05-08T18:51:11.328Z"
   },
   {
    "duration": 366,
    "start_time": "2024-05-08T18:51:11.331Z"
   },
   {
    "duration": 3,
    "start_time": "2024-05-08T18:51:11.699Z"
   },
   {
    "duration": 20,
    "start_time": "2024-05-08T18:51:11.704Z"
   },
   {
    "duration": 30,
    "start_time": "2024-05-08T18:51:11.726Z"
   },
   {
    "duration": 26,
    "start_time": "2024-05-08T18:51:11.757Z"
   },
   {
    "duration": 34,
    "start_time": "2024-05-08T18:51:11.785Z"
   },
   {
    "duration": 38,
    "start_time": "2024-05-08T18:51:11.820Z"
   },
   {
    "duration": 28,
    "start_time": "2024-05-08T18:51:11.859Z"
   },
   {
    "duration": 33,
    "start_time": "2024-05-08T18:51:11.888Z"
   },
   {
    "duration": 35,
    "start_time": "2024-05-08T18:51:11.923Z"
   },
   {
    "duration": 26,
    "start_time": "2024-05-08T18:51:11.959Z"
   },
   {
    "duration": 771,
    "start_time": "2024-05-08T18:51:11.987Z"
   },
   {
    "duration": 247,
    "start_time": "2024-05-08T18:51:12.760Z"
   },
   {
    "duration": 3,
    "start_time": "2024-05-08T18:51:13.009Z"
   },
   {
    "duration": 45,
    "start_time": "2024-05-08T18:51:13.014Z"
   },
   {
    "duration": 466,
    "start_time": "2024-05-08T18:51:39.687Z"
   },
   {
    "duration": 4,
    "start_time": "2024-05-08T19:02:03.498Z"
   },
   {
    "duration": 122,
    "start_time": "2024-05-08T19:02:03.730Z"
   },
   {
    "duration": 1718,
    "start_time": "2024-05-08T19:02:44.738Z"
   },
   {
    "duration": 97,
    "start_time": "2024-05-08T19:02:46.458Z"
   },
   {
    "duration": 25,
    "start_time": "2024-05-08T19:02:46.557Z"
   },
   {
    "duration": 22,
    "start_time": "2024-05-08T19:02:46.584Z"
   },
   {
    "duration": 15,
    "start_time": "2024-05-08T19:02:46.608Z"
   },
   {
    "duration": 16,
    "start_time": "2024-05-08T19:02:46.625Z"
   },
   {
    "duration": 3335,
    "start_time": "2024-05-08T19:02:46.643Z"
   },
   {
    "duration": 3,
    "start_time": "2024-05-08T19:02:49.980Z"
   },
   {
    "duration": 370,
    "start_time": "2024-05-08T19:02:49.984Z"
   },
   {
    "duration": 3,
    "start_time": "2024-05-08T19:02:50.356Z"
   },
   {
    "duration": 14,
    "start_time": "2024-05-08T19:02:50.361Z"
   },
   {
    "duration": 27,
    "start_time": "2024-05-08T19:02:50.377Z"
   },
   {
    "duration": 15,
    "start_time": "2024-05-08T19:02:50.406Z"
   },
   {
    "duration": 23,
    "start_time": "2024-05-08T19:02:50.423Z"
   },
   {
    "duration": 47,
    "start_time": "2024-05-08T19:02:50.448Z"
   },
   {
    "duration": 19,
    "start_time": "2024-05-08T19:02:50.497Z"
   },
   {
    "duration": 1657,
    "start_time": "2024-05-08T19:03:57.281Z"
   },
   {
    "duration": 96,
    "start_time": "2024-05-08T19:03:58.939Z"
   },
   {
    "duration": 25,
    "start_time": "2024-05-08T19:03:59.037Z"
   },
   {
    "duration": 13,
    "start_time": "2024-05-08T19:03:59.064Z"
   },
   {
    "duration": 5,
    "start_time": "2024-05-08T19:03:59.079Z"
   },
   {
    "duration": 8,
    "start_time": "2024-05-08T19:03:59.085Z"
   },
   {
    "duration": 3288,
    "start_time": "2024-05-08T19:03:59.094Z"
   },
   {
    "duration": 3,
    "start_time": "2024-05-08T19:04:02.384Z"
   },
   {
    "duration": 366,
    "start_time": "2024-05-08T19:04:02.388Z"
   },
   {
    "duration": 3,
    "start_time": "2024-05-08T19:04:02.756Z"
   },
   {
    "duration": 26,
    "start_time": "2024-05-08T19:04:02.760Z"
   },
   {
    "duration": 43,
    "start_time": "2024-05-08T19:04:02.788Z"
   },
   {
    "duration": 21,
    "start_time": "2024-05-08T19:04:02.832Z"
   },
   {
    "duration": 27,
    "start_time": "2024-05-08T19:04:02.855Z"
   },
   {
    "duration": 24,
    "start_time": "2024-05-08T19:04:02.883Z"
   },
   {
    "duration": 16,
    "start_time": "2024-05-08T19:04:02.908Z"
   },
   {
    "duration": 27,
    "start_time": "2024-05-08T19:04:02.925Z"
   },
   {
    "duration": 20,
    "start_time": "2024-05-08T19:04:02.954Z"
   },
   {
    "duration": 31,
    "start_time": "2024-05-08T19:04:02.975Z"
   },
   {
    "duration": 26552,
    "start_time": "2024-05-08T19:04:03.007Z"
   },
   {
    "duration": 176,
    "start_time": "2024-05-08T19:04:29.561Z"
   },
   {
    "duration": 1638,
    "start_time": "2024-05-08T19:04:51.314Z"
   },
   {
    "duration": 99,
    "start_time": "2024-05-08T19:04:52.954Z"
   },
   {
    "duration": 25,
    "start_time": "2024-05-08T19:04:53.054Z"
   },
   {
    "duration": 31,
    "start_time": "2024-05-08T19:04:53.081Z"
   },
   {
    "duration": 38,
    "start_time": "2024-05-08T19:04:53.113Z"
   },
   {
    "duration": 27,
    "start_time": "2024-05-08T19:04:53.153Z"
   },
   {
    "duration": 3185,
    "start_time": "2024-05-08T19:04:53.181Z"
   },
   {
    "duration": 3,
    "start_time": "2024-05-08T19:04:56.367Z"
   },
   {
    "duration": 354,
    "start_time": "2024-05-08T19:04:56.371Z"
   },
   {
    "duration": 3,
    "start_time": "2024-05-08T19:04:56.727Z"
   },
   {
    "duration": 19,
    "start_time": "2024-05-08T19:04:56.731Z"
   },
   {
    "duration": 17,
    "start_time": "2024-05-08T19:04:56.752Z"
   },
   {
    "duration": 18,
    "start_time": "2024-05-08T19:04:56.771Z"
   },
   {
    "duration": 29,
    "start_time": "2024-05-08T19:04:56.792Z"
   },
   {
    "duration": 23,
    "start_time": "2024-05-08T19:04:56.822Z"
   },
   {
    "duration": 7,
    "start_time": "2024-05-08T19:04:56.847Z"
   },
   {
    "duration": 8,
    "start_time": "2024-05-08T19:04:56.856Z"
   },
   {
    "duration": 9,
    "start_time": "2024-05-08T19:04:56.865Z"
   },
   {
    "duration": 3,
    "start_time": "2024-05-08T19:04:56.876Z"
   },
   {
    "duration": 25781,
    "start_time": "2024-05-08T19:04:56.880Z"
   },
   {
    "duration": 6,
    "start_time": "2024-05-08T19:05:22.662Z"
   },
   {
    "duration": 3,
    "start_time": "2024-05-08T19:06:01.853Z"
   },
   {
    "duration": 20879,
    "start_time": "2024-05-08T19:06:02.166Z"
   },
   {
    "duration": 1814,
    "start_time": "2024-05-09T02:20:11.963Z"
   },
   {
    "duration": 126,
    "start_time": "2024-05-09T02:20:13.778Z"
   },
   {
    "duration": 30,
    "start_time": "2024-05-09T02:20:13.906Z"
   },
   {
    "duration": 16,
    "start_time": "2024-05-09T02:20:13.937Z"
   },
   {
    "duration": 4,
    "start_time": "2024-05-09T02:20:13.956Z"
   },
   {
    "duration": 5,
    "start_time": "2024-05-09T02:20:13.961Z"
   },
   {
    "duration": 2965,
    "start_time": "2024-05-09T02:20:13.967Z"
   },
   {
    "duration": 3,
    "start_time": "2024-05-09T02:20:16.933Z"
   },
   {
    "duration": 325,
    "start_time": "2024-05-09T02:20:16.937Z"
   },
   {
    "duration": 3,
    "start_time": "2024-05-09T02:20:17.264Z"
   },
   {
    "duration": 77,
    "start_time": "2024-05-09T02:20:17.268Z"
   },
   {
    "duration": 13,
    "start_time": "2024-05-09T02:20:17.347Z"
   },
   {
    "duration": 16,
    "start_time": "2024-05-09T02:20:17.361Z"
   },
   {
    "duration": 10,
    "start_time": "2024-05-09T02:20:17.380Z"
   },
   {
    "duration": 16,
    "start_time": "2024-05-09T02:20:17.392Z"
   },
   {
    "duration": 156,
    "start_time": "2024-05-09T02:20:17.409Z"
   },
   {
    "duration": 0,
    "start_time": "2024-05-09T02:20:17.566Z"
   },
   {
    "duration": 0,
    "start_time": "2024-05-09T02:20:17.568Z"
   },
   {
    "duration": 0,
    "start_time": "2024-05-09T02:20:17.569Z"
   },
   {
    "duration": 0,
    "start_time": "2024-05-09T02:20:17.570Z"
   },
   {
    "duration": 0,
    "start_time": "2024-05-09T02:20:17.572Z"
   },
   {
    "duration": 0,
    "start_time": "2024-05-09T02:20:17.573Z"
   },
   {
    "duration": 1533,
    "start_time": "2024-05-09T02:22:27.006Z"
   },
   {
    "duration": 77,
    "start_time": "2024-05-09T02:22:28.541Z"
   },
   {
    "duration": 21,
    "start_time": "2024-05-09T02:22:28.619Z"
   },
   {
    "duration": 12,
    "start_time": "2024-05-09T02:22:28.641Z"
   },
   {
    "duration": 3,
    "start_time": "2024-05-09T02:22:28.655Z"
   },
   {
    "duration": 5,
    "start_time": "2024-05-09T02:22:28.659Z"
   },
   {
    "duration": 2949,
    "start_time": "2024-05-09T02:22:28.665Z"
   },
   {
    "duration": 3,
    "start_time": "2024-05-09T02:22:31.617Z"
   },
   {
    "duration": 380,
    "start_time": "2024-05-09T02:22:31.622Z"
   },
   {
    "duration": 4,
    "start_time": "2024-05-09T02:22:32.003Z"
   },
   {
    "duration": 44,
    "start_time": "2024-05-09T02:22:32.008Z"
   },
   {
    "duration": 39,
    "start_time": "2024-05-09T02:22:32.054Z"
   },
   {
    "duration": 39,
    "start_time": "2024-05-09T02:22:32.095Z"
   },
   {
    "duration": 55,
    "start_time": "2024-05-09T02:22:32.137Z"
   },
   {
    "duration": 20,
    "start_time": "2024-05-09T02:22:32.194Z"
   },
   {
    "duration": 21,
    "start_time": "2024-05-09T02:22:32.215Z"
   },
   {
    "duration": 127,
    "start_time": "2024-05-09T02:22:32.237Z"
   },
   {
    "duration": 0,
    "start_time": "2024-05-09T02:22:32.366Z"
   },
   {
    "duration": 0,
    "start_time": "2024-05-09T02:22:32.367Z"
   },
   {
    "duration": 0,
    "start_time": "2024-05-09T02:22:32.369Z"
   },
   {
    "duration": 0,
    "start_time": "2024-05-09T02:22:32.370Z"
   },
   {
    "duration": 0,
    "start_time": "2024-05-09T02:22:32.371Z"
   },
   {
    "duration": 1529,
    "start_time": "2024-05-09T02:25:23.111Z"
   },
   {
    "duration": 91,
    "start_time": "2024-05-09T02:25:24.641Z"
   },
   {
    "duration": 22,
    "start_time": "2024-05-09T02:25:24.733Z"
   },
   {
    "duration": 11,
    "start_time": "2024-05-09T02:25:24.756Z"
   },
   {
    "duration": 18,
    "start_time": "2024-05-09T02:25:24.768Z"
   },
   {
    "duration": 17,
    "start_time": "2024-05-09T02:25:24.787Z"
   },
   {
    "duration": 2867,
    "start_time": "2024-05-09T02:25:24.805Z"
   },
   {
    "duration": 3,
    "start_time": "2024-05-09T02:25:27.673Z"
   },
   {
    "duration": 307,
    "start_time": "2024-05-09T02:25:27.677Z"
   },
   {
    "duration": 3,
    "start_time": "2024-05-09T02:25:27.986Z"
   },
   {
    "duration": 32,
    "start_time": "2024-05-09T02:25:27.990Z"
   },
   {
    "duration": 11,
    "start_time": "2024-05-09T02:25:28.023Z"
   },
   {
    "duration": 4,
    "start_time": "2024-05-09T02:25:28.035Z"
   },
   {
    "duration": 5,
    "start_time": "2024-05-09T02:25:28.041Z"
   },
   {
    "duration": 5,
    "start_time": "2024-05-09T02:25:28.047Z"
   },
   {
    "duration": 3,
    "start_time": "2024-05-09T02:25:28.053Z"
   },
   {
    "duration": 4,
    "start_time": "2024-05-09T02:25:28.057Z"
   },
   {
    "duration": 137,
    "start_time": "2024-05-09T02:25:28.062Z"
   },
   {
    "duration": 0,
    "start_time": "2024-05-09T02:25:28.200Z"
   },
   {
    "duration": 0,
    "start_time": "2024-05-09T02:25:28.201Z"
   },
   {
    "duration": 0,
    "start_time": "2024-05-09T02:25:28.202Z"
   },
   {
    "duration": 0,
    "start_time": "2024-05-09T02:25:28.206Z"
   },
   {
    "duration": 0,
    "start_time": "2024-05-09T02:25:28.208Z"
   },
   {
    "duration": 0,
    "start_time": "2024-05-09T02:25:28.210Z"
   },
   {
    "duration": 1627,
    "start_time": "2024-05-09T02:26:10.192Z"
   },
   {
    "duration": 82,
    "start_time": "2024-05-09T02:26:11.823Z"
   },
   {
    "duration": 24,
    "start_time": "2024-05-09T02:26:11.906Z"
   },
   {
    "duration": 10,
    "start_time": "2024-05-09T02:26:11.932Z"
   },
   {
    "duration": 5,
    "start_time": "2024-05-09T02:26:11.944Z"
   },
   {
    "duration": 16,
    "start_time": "2024-05-09T02:26:11.951Z"
   },
   {
    "duration": 2908,
    "start_time": "2024-05-09T02:26:11.968Z"
   },
   {
    "duration": 3,
    "start_time": "2024-05-09T02:26:14.878Z"
   },
   {
    "duration": 358,
    "start_time": "2024-05-09T02:26:14.883Z"
   },
   {
    "duration": 3,
    "start_time": "2024-05-09T02:26:15.242Z"
   },
   {
    "duration": 25,
    "start_time": "2024-05-09T02:26:15.246Z"
   },
   {
    "duration": 25,
    "start_time": "2024-05-09T02:26:15.272Z"
   },
   {
    "duration": 6,
    "start_time": "2024-05-09T02:26:15.298Z"
   },
   {
    "duration": 6,
    "start_time": "2024-05-09T02:26:15.306Z"
   },
   {
    "duration": 17,
    "start_time": "2024-05-09T02:26:15.313Z"
   },
   {
    "duration": 15,
    "start_time": "2024-05-09T02:26:15.332Z"
   },
   {
    "duration": 6,
    "start_time": "2024-05-09T02:26:15.348Z"
   },
   {
    "duration": 23,
    "start_time": "2024-05-09T02:26:15.355Z"
   },
   {
    "duration": 19,
    "start_time": "2024-05-09T02:26:15.379Z"
   },
   {
    "duration": 24,
    "start_time": "2024-05-09T02:26:15.399Z"
   },
   {
    "duration": 11,
    "start_time": "2024-05-09T02:26:15.424Z"
   },
   {
    "duration": 17,
    "start_time": "2024-05-09T02:26:15.437Z"
   },
   {
    "duration": 38052,
    "start_time": "2024-05-09T02:26:15.455Z"
   },
   {
    "duration": 14,
    "start_time": "2024-05-09T02:26:53.509Z"
   },
   {
    "duration": 1550,
    "start_time": "2024-05-09T02:27:55.643Z"
   },
   {
    "duration": 83,
    "start_time": "2024-05-09T02:27:57.195Z"
   },
   {
    "duration": 26,
    "start_time": "2024-05-09T02:27:57.282Z"
   },
   {
    "duration": 13,
    "start_time": "2024-05-09T02:27:57.310Z"
   },
   {
    "duration": 8,
    "start_time": "2024-05-09T02:27:57.325Z"
   },
   {
    "duration": 11,
    "start_time": "2024-05-09T02:27:57.334Z"
   },
   {
    "duration": 2858,
    "start_time": "2024-05-09T02:27:57.346Z"
   },
   {
    "duration": 7,
    "start_time": "2024-05-09T02:28:00.206Z"
   },
   {
    "duration": 408,
    "start_time": "2024-05-09T02:28:00.215Z"
   },
   {
    "duration": 4,
    "start_time": "2024-05-09T02:28:00.624Z"
   },
   {
    "duration": 58,
    "start_time": "2024-05-09T02:28:00.630Z"
   },
   {
    "duration": 50,
    "start_time": "2024-05-09T02:28:00.690Z"
   },
   {
    "duration": 48,
    "start_time": "2024-05-09T02:28:00.743Z"
   },
   {
    "duration": 93,
    "start_time": "2024-05-09T02:28:00.792Z"
   },
   {
    "duration": 111,
    "start_time": "2024-05-09T02:28:00.887Z"
   },
   {
    "duration": 88,
    "start_time": "2024-05-09T02:28:01.000Z"
   },
   {
    "duration": 69,
    "start_time": "2024-05-09T02:28:01.090Z"
   },
   {
    "duration": 65,
    "start_time": "2024-05-09T02:28:01.162Z"
   },
   {
    "duration": 52,
    "start_time": "2024-05-09T02:28:01.229Z"
   },
   {
    "duration": 36,
    "start_time": "2024-05-09T02:28:01.283Z"
   },
   {
    "duration": 37,
    "start_time": "2024-05-09T02:28:01.320Z"
   },
   {
    "duration": 63,
    "start_time": "2024-05-09T02:28:01.359Z"
   },
   {
    "duration": 37667,
    "start_time": "2024-05-09T02:28:01.424Z"
   },
   {
    "duration": 8,
    "start_time": "2024-05-09T02:28:39.093Z"
   },
   {
    "duration": 11,
    "start_time": "2024-05-09T02:28:39.103Z"
   },
   {
    "duration": 182203,
    "start_time": "2024-05-09T02:28:39.115Z"
   },
   {
    "duration": 6,
    "start_time": "2024-05-09T02:31:41.320Z"
   },
   {
    "duration": 257,
    "start_time": "2024-05-09T02:31:41.327Z"
   },
   {
    "duration": 5,
    "start_time": "2024-05-09T02:31:41.586Z"
   },
   {
    "duration": 55,
    "start_time": "2024-05-09T02:34:25.045Z"
   },
   {
    "duration": 1584,
    "start_time": "2024-05-09T02:36:10.424Z"
   },
   {
    "duration": 84,
    "start_time": "2024-05-09T02:36:12.010Z"
   },
   {
    "duration": 29,
    "start_time": "2024-05-09T02:36:12.095Z"
   },
   {
    "duration": 12,
    "start_time": "2024-05-09T02:36:12.125Z"
   },
   {
    "duration": 7,
    "start_time": "2024-05-09T02:36:12.139Z"
   },
   {
    "duration": 10,
    "start_time": "2024-05-09T02:36:12.147Z"
   },
   {
    "duration": 2958,
    "start_time": "2024-05-09T02:36:12.158Z"
   },
   {
    "duration": 3,
    "start_time": "2024-05-09T02:36:15.118Z"
   },
   {
    "duration": 375,
    "start_time": "2024-05-09T02:36:15.124Z"
   },
   {
    "duration": 3,
    "start_time": "2024-05-09T02:36:15.500Z"
   },
   {
    "duration": 6,
    "start_time": "2024-05-09T02:36:15.504Z"
   },
   {
    "duration": 3,
    "start_time": "2024-05-09T02:36:15.512Z"
   },
   {
    "duration": 4,
    "start_time": "2024-05-09T02:36:15.517Z"
   },
   {
    "duration": 3,
    "start_time": "2024-05-09T02:36:15.524Z"
   },
   {
    "duration": 17,
    "start_time": "2024-05-09T02:36:15.529Z"
   },
   {
    "duration": 6,
    "start_time": "2024-05-09T02:36:15.547Z"
   },
   {
    "duration": 19,
    "start_time": "2024-05-09T02:36:15.554Z"
   },
   {
    "duration": 9,
    "start_time": "2024-05-09T02:36:15.574Z"
   },
   {
    "duration": 4,
    "start_time": "2024-05-09T02:36:15.584Z"
   },
   {
    "duration": 18,
    "start_time": "2024-05-09T02:36:15.589Z"
   },
   {
    "duration": 12,
    "start_time": "2024-05-09T02:36:15.608Z"
   },
   {
    "duration": 43,
    "start_time": "2024-05-09T02:36:15.621Z"
   },
   {
    "duration": 0,
    "start_time": "2024-05-09T02:36:15.665Z"
   },
   {
    "duration": 1,
    "start_time": "2024-05-09T02:36:15.666Z"
   },
   {
    "duration": 1681,
    "start_time": "2024-05-09T02:36:26.175Z"
   },
   {
    "duration": 84,
    "start_time": "2024-05-09T02:36:27.858Z"
   },
   {
    "duration": 28,
    "start_time": "2024-05-09T02:36:27.944Z"
   },
   {
    "duration": 15,
    "start_time": "2024-05-09T02:36:27.974Z"
   },
   {
    "duration": 11,
    "start_time": "2024-05-09T02:36:28.001Z"
   },
   {
    "duration": 7,
    "start_time": "2024-05-09T02:36:28.017Z"
   },
   {
    "duration": 3034,
    "start_time": "2024-05-09T02:36:28.026Z"
   },
   {
    "duration": 3,
    "start_time": "2024-05-09T02:36:31.062Z"
   },
   {
    "duration": 399,
    "start_time": "2024-05-09T02:36:31.067Z"
   },
   {
    "duration": 4,
    "start_time": "2024-05-09T02:36:31.468Z"
   },
   {
    "duration": 24,
    "start_time": "2024-05-09T02:36:31.473Z"
   },
   {
    "duration": 26,
    "start_time": "2024-05-09T02:36:31.499Z"
   },
   {
    "duration": 11,
    "start_time": "2024-05-09T02:36:31.526Z"
   },
   {
    "duration": 8,
    "start_time": "2024-05-09T02:36:31.540Z"
   },
   {
    "duration": 37,
    "start_time": "2024-05-09T02:36:31.549Z"
   },
   {
    "duration": 16,
    "start_time": "2024-05-09T02:36:31.587Z"
   },
   {
    "duration": 32,
    "start_time": "2024-05-09T02:36:31.605Z"
   },
   {
    "duration": 50,
    "start_time": "2024-05-09T02:36:31.638Z"
   },
   {
    "duration": 21,
    "start_time": "2024-05-09T02:36:31.689Z"
   },
   {
    "duration": 17,
    "start_time": "2024-05-09T02:36:31.711Z"
   },
   {
    "duration": 15,
    "start_time": "2024-05-09T02:36:31.730Z"
   },
   {
    "duration": 38275,
    "start_time": "2024-05-09T02:36:31.746Z"
   },
   {
    "duration": 5,
    "start_time": "2024-05-09T02:37:10.023Z"
   },
   {
    "duration": 1611,
    "start_time": "2024-05-09T02:44:07.810Z"
   },
   {
    "duration": 84,
    "start_time": "2024-05-09T02:44:09.423Z"
   },
   {
    "duration": 28,
    "start_time": "2024-05-09T02:44:09.508Z"
   },
   {
    "duration": 11,
    "start_time": "2024-05-09T02:44:09.538Z"
   },
   {
    "duration": 4,
    "start_time": "2024-05-09T02:44:09.550Z"
   },
   {
    "duration": 6,
    "start_time": "2024-05-09T02:44:09.556Z"
   },
   {
    "duration": 2985,
    "start_time": "2024-05-09T02:44:09.563Z"
   },
   {
    "duration": 2,
    "start_time": "2024-05-09T02:44:12.549Z"
   },
   {
    "duration": 332,
    "start_time": "2024-05-09T02:44:12.553Z"
   },
   {
    "duration": 14,
    "start_time": "2024-05-09T02:44:12.887Z"
   },
   {
    "duration": 6,
    "start_time": "2024-05-09T02:44:12.905Z"
   },
   {
    "duration": 9,
    "start_time": "2024-05-09T02:44:12.912Z"
   },
   {
    "duration": 13,
    "start_time": "2024-05-09T02:44:12.923Z"
   },
   {
    "duration": 16,
    "start_time": "2024-05-09T02:44:12.937Z"
   },
   {
    "duration": 14,
    "start_time": "2024-05-09T02:44:12.954Z"
   },
   {
    "duration": 29,
    "start_time": "2024-05-09T02:44:12.969Z"
   },
   {
    "duration": 14,
    "start_time": "2024-05-09T02:44:12.999Z"
   },
   {
    "duration": 28,
    "start_time": "2024-05-09T02:44:13.014Z"
   },
   {
    "duration": 6,
    "start_time": "2024-05-09T02:44:13.043Z"
   },
   {
    "duration": 4,
    "start_time": "2024-05-09T02:44:13.050Z"
   },
   {
    "duration": 10,
    "start_time": "2024-05-09T02:44:13.055Z"
   },
   {
    "duration": 38395,
    "start_time": "2024-05-09T02:44:13.066Z"
   },
   {
    "duration": 4,
    "start_time": "2024-05-09T02:44:51.462Z"
   },
   {
    "duration": 6,
    "start_time": "2024-05-09T02:44:51.468Z"
   },
   {
    "duration": 8,
    "start_time": "2024-05-09T02:44:51.475Z"
   },
   {
    "duration": 2563432,
    "start_time": "2024-05-09T02:44:51.484Z"
   },
   {
    "duration": 8,
    "start_time": "2024-05-09T03:27:34.918Z"
   },
   {
    "duration": 4,
    "start_time": "2024-05-09T03:27:34.928Z"
   },
   {
    "duration": 71,
    "start_time": "2024-05-09T03:27:34.933Z"
   },
   {
    "duration": 0,
    "start_time": "2024-05-09T03:27:35.005Z"
   },
   {
    "duration": 0,
    "start_time": "2024-05-09T03:27:35.007Z"
   },
   {
    "duration": 409661,
    "start_time": "2024-05-09T03:30:16.645Z"
   },
   {
    "duration": 16,
    "start_time": "2024-05-09T03:37:06.308Z"
   },
   {
    "duration": 183,
    "start_time": "2024-05-09T03:37:06.326Z"
   },
   {
    "duration": 203,
    "start_time": "2024-05-09T03:39:04.560Z"
   },
   {
    "duration": 7,
    "start_time": "2024-05-09T03:50:49.622Z"
   },
   {
    "duration": 314,
    "start_time": "2024-05-09T03:50:50.080Z"
   },
   {
    "duration": 186,
    "start_time": "2024-05-09T03:52:56.675Z"
   },
   {
    "duration": 185,
    "start_time": "2024-05-09T03:54:28.145Z"
   },
   {
    "duration": 188,
    "start_time": "2024-05-09T03:57:51.272Z"
   },
   {
    "duration": 3,
    "start_time": "2024-05-09T03:59:05.170Z"
   },
   {
    "duration": 392,
    "start_time": "2024-05-09T03:59:07.596Z"
   },
   {
    "duration": 385215,
    "start_time": "2024-05-09T04:00:03.406Z"
   },
   {
    "duration": 90,
    "start_time": "2024-05-09T04:06:28.623Z"
   },
   {
    "duration": 1636,
    "start_time": "2024-05-09T04:07:26.030Z"
   },
   {
    "duration": 90,
    "start_time": "2024-05-09T04:07:27.668Z"
   },
   {
    "duration": 22,
    "start_time": "2024-05-09T04:07:27.759Z"
   },
   {
    "duration": 22,
    "start_time": "2024-05-09T04:07:27.782Z"
   },
   {
    "duration": 7,
    "start_time": "2024-05-09T04:07:27.806Z"
   },
   {
    "duration": 12,
    "start_time": "2024-05-09T04:07:27.815Z"
   },
   {
    "duration": 2948,
    "start_time": "2024-05-09T04:07:27.828Z"
   },
   {
    "duration": 3,
    "start_time": "2024-05-09T04:07:30.777Z"
   },
   {
    "duration": 437,
    "start_time": "2024-05-09T04:07:30.781Z"
   },
   {
    "duration": 4,
    "start_time": "2024-05-09T04:07:31.222Z"
   },
   {
    "duration": 91,
    "start_time": "2024-05-09T04:07:31.229Z"
   },
   {
    "duration": 38,
    "start_time": "2024-05-09T04:07:31.322Z"
   },
   {
    "duration": 95,
    "start_time": "2024-05-09T04:07:31.362Z"
   },
   {
    "duration": 31,
    "start_time": "2024-05-09T04:07:31.460Z"
   },
   {
    "duration": 21,
    "start_time": "2024-05-09T04:07:31.492Z"
   },
   {
    "duration": 42,
    "start_time": "2024-05-09T04:07:31.514Z"
   },
   {
    "duration": 63,
    "start_time": "2024-05-09T04:07:31.558Z"
   },
   {
    "duration": 52,
    "start_time": "2024-05-09T04:07:31.623Z"
   },
   {
    "duration": 33,
    "start_time": "2024-05-09T04:07:31.676Z"
   },
   {
    "duration": 64,
    "start_time": "2024-05-09T04:07:31.711Z"
   },
   {
    "duration": 30,
    "start_time": "2024-05-09T04:07:31.776Z"
   },
   {
    "duration": 38309,
    "start_time": "2024-05-09T04:07:31.807Z"
   },
   {
    "duration": 7,
    "start_time": "2024-05-09T04:08:10.117Z"
   },
   {
    "duration": 130,
    "start_time": "2024-05-09T04:08:10.125Z"
   },
   {
    "duration": 0,
    "start_time": "2024-05-09T04:08:10.257Z"
   },
   {
    "duration": 0,
    "start_time": "2024-05-09T04:08:10.258Z"
   },
   {
    "duration": 0,
    "start_time": "2024-05-09T04:08:10.259Z"
   },
   {
    "duration": 0,
    "start_time": "2024-05-09T04:08:10.260Z"
   },
   {
    "duration": 0,
    "start_time": "2024-05-09T04:08:10.261Z"
   },
   {
    "duration": 0,
    "start_time": "2024-05-09T04:08:10.261Z"
   },
   {
    "duration": 0,
    "start_time": "2024-05-09T04:08:10.262Z"
   },
   {
    "duration": 0,
    "start_time": "2024-05-09T04:08:10.263Z"
   },
   {
    "duration": 0,
    "start_time": "2024-05-09T04:08:10.264Z"
   },
   {
    "duration": 3,
    "start_time": "2024-05-09T04:10:44.576Z"
   },
   {
    "duration": 292,
    "start_time": "2024-05-09T04:10:45.134Z"
   },
   {
    "duration": 1585,
    "start_time": "2024-05-09T04:11:35.643Z"
   },
   {
    "duration": 97,
    "start_time": "2024-05-09T04:11:37.230Z"
   },
   {
    "duration": 24,
    "start_time": "2024-05-09T04:11:37.328Z"
   },
   {
    "duration": 16,
    "start_time": "2024-05-09T04:11:37.354Z"
   },
   {
    "duration": 20,
    "start_time": "2024-05-09T04:11:37.371Z"
   },
   {
    "duration": 13,
    "start_time": "2024-05-09T04:11:37.392Z"
   },
   {
    "duration": 2909,
    "start_time": "2024-05-09T04:11:37.407Z"
   },
   {
    "duration": 4,
    "start_time": "2024-05-09T04:11:40.318Z"
   },
   {
    "duration": 330,
    "start_time": "2024-05-09T04:11:40.324Z"
   },
   {
    "duration": 4,
    "start_time": "2024-05-09T04:11:40.656Z"
   },
   {
    "duration": 11,
    "start_time": "2024-05-09T04:11:40.661Z"
   },
   {
    "duration": 5,
    "start_time": "2024-05-09T04:11:40.673Z"
   },
   {
    "duration": 10,
    "start_time": "2024-05-09T04:11:40.679Z"
   },
   {
    "duration": 12,
    "start_time": "2024-05-09T04:11:40.690Z"
   },
   {
    "duration": 8,
    "start_time": "2024-05-09T04:11:40.703Z"
   },
   {
    "duration": 6,
    "start_time": "2024-05-09T04:11:40.712Z"
   },
   {
    "duration": 14,
    "start_time": "2024-05-09T04:11:40.720Z"
   },
   {
    "duration": 3,
    "start_time": "2024-05-09T04:11:40.735Z"
   },
   {
    "duration": 6,
    "start_time": "2024-05-09T04:11:40.740Z"
   },
   {
    "duration": 5,
    "start_time": "2024-05-09T04:11:40.747Z"
   },
   {
    "duration": 8,
    "start_time": "2024-05-09T04:11:40.753Z"
   },
   {
    "duration": 38171,
    "start_time": "2024-05-09T04:11:40.762Z"
   },
   {
    "duration": 4,
    "start_time": "2024-05-09T04:12:18.934Z"
   },
   {
    "duration": 56,
    "start_time": "2024-05-09T04:12:18.939Z"
   },
   {
    "duration": 308,
    "start_time": "2024-05-09T04:12:18.996Z"
   },
   {
    "duration": 9,
    "start_time": "2024-05-09T04:12:19.306Z"
   },
   {
    "duration": 14,
    "start_time": "2024-05-09T04:12:19.317Z"
   },
   {
    "duration": 2732488,
    "start_time": "2024-05-09T04:12:19.334Z"
   },
   {
    "duration": 12,
    "start_time": "2024-05-09T04:57:51.902Z"
   },
   {
    "duration": 12,
    "start_time": "2024-05-09T04:57:51.916Z"
   },
   {
    "duration": 271785,
    "start_time": "2024-05-09T04:57:51.930Z"
   },
   {
    "duration": 11,
    "start_time": "2024-05-09T05:02:23.716Z"
   },
   {
    "duration": 264,
    "start_time": "2024-05-09T05:02:23.801Z"
   },
   {
    "duration": 42,
    "start_time": "2024-05-09T06:46:42.539Z"
   },
   {
    "duration": 1672,
    "start_time": "2024-05-10T01:00:46.052Z"
   },
   {
    "duration": 128,
    "start_time": "2024-05-10T01:00:47.725Z"
   },
   {
    "duration": 23,
    "start_time": "2024-05-10T01:00:47.854Z"
   },
   {
    "duration": 19,
    "start_time": "2024-05-10T01:00:47.878Z"
   },
   {
    "duration": 12,
    "start_time": "2024-05-10T01:00:47.899Z"
   },
   {
    "duration": 4,
    "start_time": "2024-05-10T01:00:47.912Z"
   },
   {
    "duration": 2787,
    "start_time": "2024-05-10T01:00:47.917Z"
   },
   {
    "duration": 4,
    "start_time": "2024-05-10T01:00:50.706Z"
   },
   {
    "duration": 314,
    "start_time": "2024-05-10T01:00:50.711Z"
   },
   {
    "duration": 3,
    "start_time": "2024-05-10T01:00:51.026Z"
   },
   {
    "duration": 12,
    "start_time": "2024-05-10T01:00:51.030Z"
   },
   {
    "duration": 6,
    "start_time": "2024-05-10T01:00:51.043Z"
   },
   {
    "duration": 8,
    "start_time": "2024-05-10T01:00:51.051Z"
   },
   {
    "duration": 16,
    "start_time": "2024-05-10T01:00:51.062Z"
   },
   {
    "duration": 21,
    "start_time": "2024-05-10T01:00:51.079Z"
   },
   {
    "duration": 15,
    "start_time": "2024-05-10T01:00:51.101Z"
   },
   {
    "duration": 16,
    "start_time": "2024-05-10T01:00:51.117Z"
   },
   {
    "duration": 2,
    "start_time": "2024-05-10T01:00:51.134Z"
   },
   {
    "duration": 10,
    "start_time": "2024-05-10T01:00:51.137Z"
   },
   {
    "duration": 10,
    "start_time": "2024-05-10T01:00:51.148Z"
   },
   {
    "duration": 22,
    "start_time": "2024-05-10T01:00:51.159Z"
   },
   {
    "duration": 35832,
    "start_time": "2024-05-10T01:00:51.182Z"
   },
   {
    "duration": 3,
    "start_time": "2024-05-10T01:01:27.016Z"
   },
   {
    "duration": 17,
    "start_time": "2024-05-10T01:01:27.021Z"
   },
   {
    "duration": 285,
    "start_time": "2024-05-10T01:01:27.039Z"
   },
   {
    "duration": 5,
    "start_time": "2024-05-10T01:01:27.325Z"
   },
   {
    "duration": 11,
    "start_time": "2024-05-10T01:01:27.332Z"
   },
   {
    "duration": 1500364,
    "start_time": "2024-05-10T01:01:27.345Z"
   },
   {
    "duration": 6,
    "start_time": "2024-05-10T01:26:27.711Z"
   },
   {
    "duration": 15,
    "start_time": "2024-05-10T01:26:27.718Z"
   },
   {
    "duration": 196273,
    "start_time": "2024-05-10T01:26:27.735Z"
   },
   {
    "duration": 4,
    "start_time": "2024-05-10T01:29:44.010Z"
   },
   {
    "duration": 248,
    "start_time": "2024-05-10T01:29:44.015Z"
   },
   {
    "duration": 3555484,
    "start_time": "2024-05-10T10:22:30.387Z"
   },
   {
    "duration": 8,
    "start_time": "2024-05-10T11:21:45.873Z"
   },
   {
    "duration": 12,
    "start_time": "2024-05-10T11:21:45.883Z"
   },
   {
    "duration": 280095,
    "start_time": "2024-05-10T11:21:45.896Z"
   },
   {
    "duration": 78,
    "start_time": "2024-05-10T11:26:25.992Z"
   },
   {
    "duration": 254,
    "start_time": "2024-05-10T11:26:26.071Z"
   },
   {
    "duration": 1696,
    "start_time": "2024-05-11T05:02:15.796Z"
   },
   {
    "duration": 127,
    "start_time": "2024-05-11T05:02:19.351Z"
   },
   {
    "duration": 13,
    "start_time": "2024-05-11T05:02:20.864Z"
   },
   {
    "duration": 29,
    "start_time": "2024-05-11T05:02:21.628Z"
   },
   {
    "duration": 18,
    "start_time": "2024-05-11T05:02:41.754Z"
   },
   {
    "duration": 3,
    "start_time": "2024-05-11T05:02:44.485Z"
   },
   {
    "duration": 30,
    "start_time": "2024-05-11T05:02:45.191Z"
   },
   {
    "duration": 10,
    "start_time": "2024-05-11T05:02:45.387Z"
   },
   {
    "duration": 16,
    "start_time": "2024-05-11T05:02:45.711Z"
   },
   {
    "duration": 18,
    "start_time": "2024-05-11T05:02:52.281Z"
   },
   {
    "duration": 19,
    "start_time": "2024-05-11T05:03:01.317Z"
   },
   {
    "duration": 4,
    "start_time": "2024-05-11T05:03:04.613Z"
   },
   {
    "duration": 27,
    "start_time": "2024-05-11T05:03:05.193Z"
   },
   {
    "duration": 9,
    "start_time": "2024-05-11T05:03:05.398Z"
   },
   {
    "duration": 20,
    "start_time": "2024-05-11T05:03:05.913Z"
   },
   {
    "duration": 4,
    "start_time": "2024-05-11T05:06:29.162Z"
   },
   {
    "duration": 27,
    "start_time": "2024-05-11T05:06:29.968Z"
   },
   {
    "duration": 10,
    "start_time": "2024-05-11T05:06:30.418Z"
   },
   {
    "duration": 16,
    "start_time": "2024-05-11T05:06:30.910Z"
   },
   {
    "duration": 9,
    "start_time": "2024-05-11T05:06:33.296Z"
   },
   {
    "duration": 4,
    "start_time": "2024-05-11T05:06:34.122Z"
   },
   {
    "duration": 5,
    "start_time": "2024-05-11T05:06:34.350Z"
   },
   {
    "duration": 2880,
    "start_time": "2024-05-11T05:06:35.780Z"
   },
   {
    "duration": 2871,
    "start_time": "2024-05-11T05:08:30.520Z"
   },
   {
    "duration": 3,
    "start_time": "2024-05-11T05:13:33.094Z"
   },
   {
    "duration": 319,
    "start_time": "2024-05-11T05:13:33.985Z"
   },
   {
    "duration": 3,
    "start_time": "2024-05-11T05:21:08.644Z"
   },
   {
    "duration": 4,
    "start_time": "2024-05-11T05:21:09.140Z"
   },
   {
    "duration": 5,
    "start_time": "2024-05-11T05:21:28.487Z"
   },
   {
    "duration": 5,
    "start_time": "2024-05-11T05:21:42.820Z"
   },
   {
    "duration": 3,
    "start_time": "2024-05-11T05:22:05.594Z"
   },
   {
    "duration": 4,
    "start_time": "2024-05-11T05:22:05.957Z"
   },
   {
    "duration": 4,
    "start_time": "2024-05-11T05:22:06.331Z"
   },
   {
    "duration": 3,
    "start_time": "2024-05-11T05:22:06.793Z"
   },
   {
    "duration": 3,
    "start_time": "2024-05-11T05:22:07.459Z"
   },
   {
    "duration": 4,
    "start_time": "2024-05-11T05:22:07.830Z"
   },
   {
    "duration": 5,
    "start_time": "2024-05-11T05:22:08.281Z"
   },
   {
    "duration": 4,
    "start_time": "2024-05-11T05:24:17.230Z"
   },
   {
    "duration": 5,
    "start_time": "2024-05-11T05:24:17.625Z"
   },
   {
    "duration": 5,
    "start_time": "2024-05-11T05:24:18.024Z"
   },
   {
    "duration": 3,
    "start_time": "2024-05-11T05:24:19.977Z"
   },
   {
    "duration": 4,
    "start_time": "2024-05-11T05:24:20.906Z"
   },
   {
    "duration": 3,
    "start_time": "2024-05-11T05:24:21.470Z"
   },
   {
    "duration": 5,
    "start_time": "2024-05-11T05:24:21.887Z"
   },
   {
    "duration": 3,
    "start_time": "2024-05-11T05:26:01.818Z"
   },
   {
    "duration": 4,
    "start_time": "2024-05-11T05:26:01.986Z"
   },
   {
    "duration": 5,
    "start_time": "2024-05-11T05:26:02.268Z"
   },
   {
    "duration": 4,
    "start_time": "2024-05-11T05:26:02.636Z"
   },
   {
    "duration": 4,
    "start_time": "2024-05-11T05:26:03.571Z"
   },
   {
    "duration": 4,
    "start_time": "2024-05-11T05:26:05.025Z"
   },
   {
    "duration": 5,
    "start_time": "2024-05-11T05:26:05.963Z"
   },
   {
    "duration": 4,
    "start_time": "2024-05-11T05:27:01.228Z"
   },
   {
    "duration": 1605,
    "start_time": "2024-05-11T05:27:25.025Z"
   },
   {
    "duration": 85,
    "start_time": "2024-05-11T05:27:26.632Z"
   },
   {
    "duration": 10,
    "start_time": "2024-05-11T05:27:27.505Z"
   },
   {
    "duration": 21,
    "start_time": "2024-05-11T05:27:27.929Z"
   },
   {
    "duration": 9,
    "start_time": "2024-05-11T05:27:29.431Z"
   },
   {
    "duration": 4,
    "start_time": "2024-05-11T05:27:29.891Z"
   },
   {
    "duration": 4,
    "start_time": "2024-05-11T05:27:30.104Z"
   },
   {
    "duration": 2759,
    "start_time": "2024-05-11T05:27:30.973Z"
   },
   {
    "duration": 2,
    "start_time": "2024-05-11T05:27:42.231Z"
   },
   {
    "duration": 310,
    "start_time": "2024-05-11T05:27:42.778Z"
   },
   {
    "duration": 4,
    "start_time": "2024-05-11T05:27:46.483Z"
   },
   {
    "duration": 6,
    "start_time": "2024-05-11T05:27:50.364Z"
   },
   {
    "duration": 5,
    "start_time": "2024-05-11T05:27:56.906Z"
   },
   {
    "duration": 4,
    "start_time": "2024-05-11T05:28:00.294Z"
   },
   {
    "duration": 5,
    "start_time": "2024-05-11T05:28:19.050Z"
   },
   {
    "duration": 121,
    "start_time": "2024-05-11T05:28:55.909Z"
   },
   {
    "duration": 4,
    "start_time": "2024-05-11T05:29:01.649Z"
   },
   {
    "duration": 4,
    "start_time": "2024-05-11T05:29:02.426Z"
   },
   {
    "duration": 4,
    "start_time": "2024-05-11T05:29:04.190Z"
   },
   {
    "duration": 5,
    "start_time": "2024-05-11T05:29:47.754Z"
   },
   {
    "duration": 2,
    "start_time": "2024-05-11T05:29:48.921Z"
   },
   {
    "duration": 11,
    "start_time": "2024-05-11T05:29:52.370Z"
   },
   {
    "duration": 3,
    "start_time": "2024-05-11T05:29:53.395Z"
   },
   {
    "duration": 4,
    "start_time": "2024-05-11T05:29:57.551Z"
   },
   {
    "duration": 4,
    "start_time": "2024-05-11T05:30:00.035Z"
   },
   {
    "duration": 2,
    "start_time": "2024-05-11T05:30:01.260Z"
   },
   {
    "duration": 3,
    "start_time": "2024-05-11T05:35:54.106Z"
   },
   {
    "duration": 6,
    "start_time": "2024-05-11T05:35:54.591Z"
   },
   {
    "duration": 4,
    "start_time": "2024-05-11T05:35:55.677Z"
   },
   {
    "duration": 36235,
    "start_time": "2024-05-11T05:35:56.271Z"
   },
   {
    "duration": 4504,
    "start_time": "2024-05-11T05:36:37.132Z"
   },
   {
    "duration": 11185,
    "start_time": "2024-05-11T05:36:47.402Z"
   },
   {
    "duration": 0,
    "start_time": "2024-05-11T05:36:58.588Z"
   },
   {
    "duration": 1520,
    "start_time": "2024-05-11T05:37:14.000Z"
   },
   {
    "duration": 83,
    "start_time": "2024-05-11T05:37:15.521Z"
   },
   {
    "duration": 9,
    "start_time": "2024-05-11T05:37:15.606Z"
   },
   {
    "duration": 30,
    "start_time": "2024-05-11T05:37:15.616Z"
   },
   {
    "duration": 9,
    "start_time": "2024-05-11T05:37:16.440Z"
   },
   {
    "duration": 5,
    "start_time": "2024-05-11T05:37:16.648Z"
   },
   {
    "duration": 4,
    "start_time": "2024-05-11T05:37:17.005Z"
   },
   {
    "duration": 2846,
    "start_time": "2024-05-11T05:37:18.225Z"
   },
   {
    "duration": 2,
    "start_time": "2024-05-11T05:37:21.324Z"
   },
   {
    "duration": 323,
    "start_time": "2024-05-11T05:37:21.851Z"
   },
   {
    "duration": 3,
    "start_time": "2024-05-11T05:37:24.480Z"
   },
   {
    "duration": 5,
    "start_time": "2024-05-11T05:37:25.018Z"
   },
   {
    "duration": 5,
    "start_time": "2024-05-11T05:37:25.827Z"
   },
   {
    "duration": 4,
    "start_time": "2024-05-11T05:37:26.123Z"
   },
   {
    "duration": 5,
    "start_time": "2024-05-11T05:37:26.548Z"
   },
   {
    "duration": 3,
    "start_time": "2024-05-11T05:37:28.318Z"
   },
   {
    "duration": 3,
    "start_time": "2024-05-11T05:37:28.882Z"
   },
   {
    "duration": 5,
    "start_time": "2024-05-11T05:37:29.439Z"
   },
   {
    "duration": 6,
    "start_time": "2024-05-11T05:37:30.381Z"
   },
   {
    "duration": 3,
    "start_time": "2024-05-11T05:37:31.528Z"
   },
   {
    "duration": 12,
    "start_time": "2024-05-11T05:37:32.352Z"
   },
   {
    "duration": 3,
    "start_time": "2024-05-11T05:37:33.113Z"
   },
   {
    "duration": 5,
    "start_time": "2024-05-11T05:37:36.182Z"
   },
   {
    "duration": 4,
    "start_time": "2024-05-11T05:37:37.198Z"
   },
   {
    "duration": 3,
    "start_time": "2024-05-11T05:37:39.129Z"
   },
   {
    "duration": 4,
    "start_time": "2024-05-11T05:37:40.122Z"
   },
   {
    "duration": 4,
    "start_time": "2024-05-11T05:37:42.834Z"
   },
   {
    "duration": 51,
    "start_time": "2024-05-11T05:38:10.860Z"
   },
   {
    "duration": 4,
    "start_time": "2024-05-11T05:38:25.772Z"
   },
   {
    "duration": 3,
    "start_time": "2024-05-11T05:38:27.784Z"
   },
   {
    "duration": 36264,
    "start_time": "2024-05-11T05:38:28.270Z"
   },
   {
    "duration": 4,
    "start_time": "2024-05-11T05:39:04.536Z"
   },
   {
    "duration": 5,
    "start_time": "2024-05-11T05:39:11.940Z"
   },
   {
    "duration": 5,
    "start_time": "2024-05-11T05:39:16.536Z"
   },
   {
    "duration": 270,
    "start_time": "2024-05-11T05:39:17.655Z"
   },
   {
    "duration": 7,
    "start_time": "2024-05-11T05:39:22.163Z"
   },
   {
    "duration": 3,
    "start_time": "2024-05-11T05:39:23.851Z"
   },
   {
    "duration": 1533,
    "start_time": "2024-05-11T06:09:04.921Z"
   },
   {
    "duration": 97,
    "start_time": "2024-05-11T06:09:07.747Z"
   },
   {
    "duration": 9,
    "start_time": "2024-05-11T06:09:08.146Z"
   },
   {
    "duration": 20,
    "start_time": "2024-05-11T06:09:08.375Z"
   },
   {
    "duration": 10,
    "start_time": "2024-05-11T06:09:11.200Z"
   },
   {
    "duration": 4,
    "start_time": "2024-05-11T06:09:11.676Z"
   },
   {
    "duration": 5,
    "start_time": "2024-05-11T06:09:11.921Z"
   },
   {
    "duration": 2782,
    "start_time": "2024-05-11T06:09:16.350Z"
   },
   {
    "duration": 3,
    "start_time": "2024-05-11T06:09:19.134Z"
   },
   {
    "duration": 326,
    "start_time": "2024-05-11T06:09:19.860Z"
   },
   {
    "duration": 3,
    "start_time": "2024-05-11T06:09:21.764Z"
   },
   {
    "duration": 5,
    "start_time": "2024-05-11T06:09:22.275Z"
   },
   {
    "duration": 4,
    "start_time": "2024-05-11T06:09:22.611Z"
   },
   {
    "duration": 3,
    "start_time": "2024-05-11T06:09:23.055Z"
   },
   {
    "duration": 4,
    "start_time": "2024-05-11T06:09:23.346Z"
   },
   {
    "duration": 3,
    "start_time": "2024-05-11T06:09:24.016Z"
   },
   {
    "duration": 4,
    "start_time": "2024-05-11T06:09:24.220Z"
   },
   {
    "duration": 3,
    "start_time": "2024-05-11T06:09:24.426Z"
   },
   {
    "duration": 7,
    "start_time": "2024-05-11T06:09:25.219Z"
   },
   {
    "duration": 3,
    "start_time": "2024-05-11T06:09:26.056Z"
   },
   {
    "duration": 12,
    "start_time": "2024-05-11T06:09:26.544Z"
   },
   {
    "duration": 3,
    "start_time": "2024-05-11T06:09:27.303Z"
   },
   {
    "duration": 6,
    "start_time": "2024-05-11T06:09:29.284Z"
   },
   {
    "duration": 3,
    "start_time": "2024-05-11T06:09:30.186Z"
   },
   {
    "duration": 5,
    "start_time": "2024-05-11T06:09:31.840Z"
   },
   {
    "duration": 3,
    "start_time": "2024-05-11T06:09:33.097Z"
   },
   {
    "duration": 36036,
    "start_time": "2024-05-11T06:09:33.741Z"
   },
   {
    "duration": 5,
    "start_time": "2024-05-11T06:10:14.431Z"
   },
   {
    "duration": 4,
    "start_time": "2024-05-11T06:10:21.465Z"
   },
   {
    "duration": 3,
    "start_time": "2024-05-11T06:10:22.401Z"
   },
   {
    "duration": 281,
    "start_time": "2024-05-11T06:10:27.541Z"
   },
   {
    "duration": 5,
    "start_time": "2024-05-11T06:10:33.185Z"
   },
   {
    "duration": 3,
    "start_time": "2024-05-11T06:10:36.404Z"
   },
   {
    "duration": 4,
    "start_time": "2024-05-11T06:13:46.754Z"
   },
   {
    "duration": 5,
    "start_time": "2024-05-11T06:13:47.814Z"
   },
   {
    "duration": 122182,
    "start_time": "2024-05-11T06:13:49.176Z"
   },
   {
    "duration": 5,
    "start_time": "2024-05-11T06:18:01.717Z"
   },
   {
    "duration": 4,
    "start_time": "2024-05-11T06:18:02.687Z"
   },
   {
    "duration": 105565,
    "start_time": "2024-05-11T06:18:03.461Z"
   },
   {
    "duration": 1592,
    "start_time": "2024-05-11T06:20:03.503Z"
   },
   {
    "duration": 95,
    "start_time": "2024-05-11T06:20:05.098Z"
   },
   {
    "duration": 10,
    "start_time": "2024-05-11T06:20:05.195Z"
   },
   {
    "duration": 26,
    "start_time": "2024-05-11T06:20:05.207Z"
   },
   {
    "duration": 13,
    "start_time": "2024-05-11T06:20:06.643Z"
   },
   {
    "duration": 5,
    "start_time": "2024-05-11T06:20:06.830Z"
   },
   {
    "duration": 5,
    "start_time": "2024-05-11T06:20:07.011Z"
   },
   {
    "duration": 2832,
    "start_time": "2024-05-11T06:20:07.540Z"
   },
   {
    "duration": 3,
    "start_time": "2024-05-11T06:20:10.374Z"
   },
   {
    "duration": 383,
    "start_time": "2024-05-11T06:20:10.378Z"
   },
   {
    "duration": 4,
    "start_time": "2024-05-11T06:20:10.762Z"
   },
   {
    "duration": 21,
    "start_time": "2024-05-11T06:20:10.767Z"
   },
   {
    "duration": 4,
    "start_time": "2024-05-11T06:20:10.905Z"
   },
   {
    "duration": 3,
    "start_time": "2024-05-11T06:20:11.100Z"
   },
   {
    "duration": 5,
    "start_time": "2024-05-11T06:20:11.345Z"
   },
   {
    "duration": 3,
    "start_time": "2024-05-11T06:20:12.983Z"
   },
   {
    "duration": 4,
    "start_time": "2024-05-11T06:20:13.354Z"
   },
   {
    "duration": 4,
    "start_time": "2024-05-11T06:20:13.727Z"
   },
   {
    "duration": 5,
    "start_time": "2024-05-11T06:20:14.563Z"
   },
   {
    "duration": 2,
    "start_time": "2024-05-11T06:20:15.255Z"
   },
   {
    "duration": 12,
    "start_time": "2024-05-11T06:20:15.916Z"
   },
   {
    "duration": 3,
    "start_time": "2024-05-11T06:20:16.575Z"
   },
   {
    "duration": 4,
    "start_time": "2024-05-11T06:20:18.312Z"
   },
   {
    "duration": 3,
    "start_time": "2024-05-11T06:20:19.030Z"
   },
   {
    "duration": 4,
    "start_time": "2024-05-11T06:20:19.978Z"
   },
   {
    "duration": 3,
    "start_time": "2024-05-11T06:20:23.680Z"
   },
   {
    "duration": 37086,
    "start_time": "2024-05-11T06:20:24.281Z"
   },
   {
    "duration": 4,
    "start_time": "2024-05-11T06:21:01.369Z"
   },
   {
    "duration": 58,
    "start_time": "2024-05-11T06:21:01.374Z"
   },
   {
    "duration": 341,
    "start_time": "2024-05-11T06:21:01.434Z"
   },
   {
    "duration": 6,
    "start_time": "2024-05-11T06:21:01.776Z"
   },
   {
    "duration": 12,
    "start_time": "2024-05-11T06:21:01.783Z"
   },
   {
    "duration": 1599813,
    "start_time": "2024-05-11T06:21:01.796Z"
   },
   {
    "duration": 118,
    "start_time": "2024-05-11T07:47:58.904Z"
   },
   {
    "duration": 1448,
    "start_time": "2024-05-11T07:56:15.040Z"
   },
   {
    "duration": 77,
    "start_time": "2024-05-11T07:56:16.489Z"
   },
   {
    "duration": 9,
    "start_time": "2024-05-11T07:56:16.567Z"
   },
   {
    "duration": 31,
    "start_time": "2024-05-11T07:56:16.577Z"
   },
   {
    "duration": 8,
    "start_time": "2024-05-11T07:56:16.610Z"
   },
   {
    "duration": 10,
    "start_time": "2024-05-11T07:56:16.619Z"
   },
   {
    "duration": 5,
    "start_time": "2024-05-11T07:56:16.630Z"
   },
   {
    "duration": 2724,
    "start_time": "2024-05-11T07:56:16.636Z"
   },
   {
    "duration": 2,
    "start_time": "2024-05-11T07:56:19.361Z"
   },
   {
    "duration": 324,
    "start_time": "2024-05-11T07:56:19.364Z"
   },
   {
    "duration": 4,
    "start_time": "2024-05-11T07:56:19.689Z"
   },
   {
    "duration": 16,
    "start_time": "2024-05-11T07:56:19.694Z"
   },
   {
    "duration": 16,
    "start_time": "2024-05-11T07:56:19.712Z"
   },
   {
    "duration": 6,
    "start_time": "2024-05-11T07:56:19.731Z"
   },
   {
    "duration": 7,
    "start_time": "2024-05-11T07:56:19.738Z"
   },
   {
    "duration": 10,
    "start_time": "2024-05-11T07:56:19.746Z"
   },
   {
    "duration": 14,
    "start_time": "2024-05-11T07:56:19.758Z"
   },
   {
    "duration": 8,
    "start_time": "2024-05-11T07:56:19.773Z"
   },
   {
    "duration": 13,
    "start_time": "2024-05-11T07:56:19.782Z"
   },
   {
    "duration": 15,
    "start_time": "2024-05-11T07:56:19.796Z"
   },
   {
    "duration": 25,
    "start_time": "2024-05-11T07:56:19.812Z"
   },
   {
    "duration": 7,
    "start_time": "2024-05-11T07:56:19.838Z"
   },
   {
    "duration": 14,
    "start_time": "2024-05-11T07:56:19.847Z"
   },
   {
    "duration": 31,
    "start_time": "2024-05-11T07:56:19.862Z"
   },
   {
    "duration": 21,
    "start_time": "2024-05-11T07:56:19.894Z"
   },
   {
    "duration": 12,
    "start_time": "2024-05-11T07:56:19.916Z"
   },
   {
    "duration": 35851,
    "start_time": "2024-05-11T07:56:19.930Z"
   },
   {
    "duration": 4,
    "start_time": "2024-05-11T07:56:55.782Z"
   },
   {
    "duration": 32,
    "start_time": "2024-05-11T07:56:55.787Z"
   },
   {
    "duration": 287,
    "start_time": "2024-05-11T07:56:55.820Z"
   },
   {
    "duration": 5,
    "start_time": "2024-05-11T07:56:56.108Z"
   },
   {
    "duration": 19,
    "start_time": "2024-05-11T07:56:56.114Z"
   },
   {
    "duration": 4,
    "start_time": "2024-05-11T07:56:56.134Z"
   },
   {
    "duration": 1581572,
    "start_time": "2024-05-11T07:56:56.139Z"
   },
   {
    "duration": 8,
    "start_time": "2024-05-11T08:23:17.712Z"
   },
   {
    "duration": 19,
    "start_time": "2024-05-11T08:23:17.721Z"
   },
   {
    "duration": 237164,
    "start_time": "2024-05-11T08:23:17.741Z"
   },
   {
    "duration": 4,
    "start_time": "2024-05-11T08:27:14.906Z"
   },
   {
    "duration": 250,
    "start_time": "2024-05-11T08:27:14.911Z"
   },
   {
    "duration": 3,
    "start_time": "2024-05-11T08:30:56.860Z"
   },
   {
    "duration": 281,
    "start_time": "2024-05-11T08:30:57.943Z"
   },
   {
    "duration": 3,
    "start_time": "2024-05-11T08:33:56.526Z"
   },
   {
    "duration": 290,
    "start_time": "2024-05-11T08:33:57.042Z"
   },
   {
    "duration": 4,
    "start_time": "2024-05-11T08:35:07.519Z"
   },
   {
    "duration": 3,
    "start_time": "2024-05-11T08:35:08.001Z"
   },
   {
    "duration": 195,
    "start_time": "2024-05-11T08:35:19.774Z"
   },
   {
    "duration": 2,
    "start_time": "2024-05-11T08:36:06.736Z"
   },
   {
    "duration": 356,
    "start_time": "2024-05-11T08:36:16.862Z"
   },
   {
    "duration": 8,
    "start_time": "2024-05-11T08:48:05.969Z"
   },
   {
    "duration": 1572,
    "start_time": "2024-05-11T08:59:42.860Z"
   },
   {
    "duration": 87,
    "start_time": "2024-05-11T08:59:44.433Z"
   },
   {
    "duration": 9,
    "start_time": "2024-05-11T08:59:44.521Z"
   },
   {
    "duration": 44,
    "start_time": "2024-05-11T08:59:44.532Z"
   },
   {
    "duration": 34,
    "start_time": "2024-05-11T08:59:44.577Z"
   },
   {
    "duration": 14,
    "start_time": "2024-05-11T08:59:44.614Z"
   },
   {
    "duration": 16,
    "start_time": "2024-05-11T08:59:44.629Z"
   },
   {
    "duration": 2841,
    "start_time": "2024-05-11T08:59:44.647Z"
   },
   {
    "duration": 3,
    "start_time": "2024-05-11T08:59:47.489Z"
   },
   {
    "duration": 335,
    "start_time": "2024-05-11T08:59:47.495Z"
   },
   {
    "duration": 4,
    "start_time": "2024-05-11T08:59:47.831Z"
   },
   {
    "duration": 14,
    "start_time": "2024-05-11T08:59:47.836Z"
   },
   {
    "duration": 6,
    "start_time": "2024-05-11T08:59:47.851Z"
   },
   {
    "duration": 16,
    "start_time": "2024-05-11T08:59:47.858Z"
   },
   {
    "duration": 5,
    "start_time": "2024-05-11T08:59:47.875Z"
   },
   {
    "duration": 5,
    "start_time": "2024-05-11T08:59:47.881Z"
   },
   {
    "duration": 5,
    "start_time": "2024-05-11T08:59:47.887Z"
   },
   {
    "duration": 5,
    "start_time": "2024-05-11T08:59:47.893Z"
   },
   {
    "duration": 7,
    "start_time": "2024-05-11T08:59:47.899Z"
   },
   {
    "duration": 5,
    "start_time": "2024-05-11T08:59:47.907Z"
   },
   {
    "duration": 18,
    "start_time": "2024-05-11T08:59:47.914Z"
   },
   {
    "duration": 4,
    "start_time": "2024-05-11T08:59:47.934Z"
   },
   {
    "duration": 4,
    "start_time": "2024-05-11T08:59:47.939Z"
   },
   {
    "duration": 15,
    "start_time": "2024-05-11T08:59:47.944Z"
   },
   {
    "duration": 7,
    "start_time": "2024-05-11T08:59:47.960Z"
   },
   {
    "duration": 14,
    "start_time": "2024-05-11T08:59:47.968Z"
   },
   {
    "duration": 37197,
    "start_time": "2024-05-11T08:59:47.984Z"
   },
   {
    "duration": 4,
    "start_time": "2024-05-11T09:00:25.184Z"
   },
   {
    "duration": 44,
    "start_time": "2024-05-11T09:00:25.189Z"
   },
   {
    "duration": 0,
    "start_time": "2024-05-11T09:00:25.234Z"
   },
   {
    "duration": 0,
    "start_time": "2024-05-11T09:00:25.235Z"
   },
   {
    "duration": 0,
    "start_time": "2024-05-11T09:00:25.236Z"
   },
   {
    "duration": 0,
    "start_time": "2024-05-11T09:00:25.237Z"
   },
   {
    "duration": 0,
    "start_time": "2024-05-11T09:00:25.237Z"
   },
   {
    "duration": 0,
    "start_time": "2024-05-11T09:00:25.238Z"
   },
   {
    "duration": 0,
    "start_time": "2024-05-11T09:00:25.239Z"
   },
   {
    "duration": 0,
    "start_time": "2024-05-11T09:00:25.240Z"
   },
   {
    "duration": 0,
    "start_time": "2024-05-11T09:00:25.241Z"
   },
   {
    "duration": 0,
    "start_time": "2024-05-11T09:00:25.242Z"
   },
   {
    "duration": 0,
    "start_time": "2024-05-11T09:00:25.243Z"
   },
   {
    "duration": 0,
    "start_time": "2024-05-11T09:00:25.244Z"
   },
   {
    "duration": 4,
    "start_time": "2024-05-11T09:01:00.289Z"
   },
   {
    "duration": 293,
    "start_time": "2024-05-11T09:01:00.936Z"
   },
   {
    "duration": 4,
    "start_time": "2024-05-11T09:01:04.174Z"
   },
   {
    "duration": 4,
    "start_time": "2024-05-11T09:01:04.752Z"
   },
   {
    "duration": 3,
    "start_time": "2024-05-11T09:01:04.931Z"
   },
   {
    "duration": 1765921,
    "start_time": "2024-05-11T09:01:05.088Z"
   },
   {
    "duration": 7,
    "start_time": "2024-05-11T09:30:31.011Z"
   },
   {
    "duration": 132,
    "start_time": "2024-05-11T09:30:31.019Z"
   },
   {
    "duration": 221850,
    "start_time": "2024-05-11T09:30:31.153Z"
   },
   {
    "duration": 3,
    "start_time": "2024-05-11T09:34:13.005Z"
   },
   {
    "duration": 21,
    "start_time": "2024-05-11T09:34:13.009Z"
   },
   {
    "duration": 304,
    "start_time": "2024-05-11T09:34:13.031Z"
   },
   {
    "duration": 275,
    "start_time": "2024-05-11T09:46:38.500Z"
   },
   {
    "duration": 1559,
    "start_time": "2024-05-11T09:57:36.292Z"
   },
   {
    "duration": 80,
    "start_time": "2024-05-11T09:57:37.853Z"
   },
   {
    "duration": 12,
    "start_time": "2024-05-11T09:57:37.935Z"
   },
   {
    "duration": 27,
    "start_time": "2024-05-11T09:57:37.949Z"
   },
   {
    "duration": 8,
    "start_time": "2024-05-11T09:57:37.978Z"
   },
   {
    "duration": 14,
    "start_time": "2024-05-11T09:57:37.988Z"
   },
   {
    "duration": 7,
    "start_time": "2024-05-11T09:57:38.003Z"
   },
   {
    "duration": 2749,
    "start_time": "2024-05-11T09:57:38.011Z"
   },
   {
    "duration": 2,
    "start_time": "2024-05-11T09:57:40.761Z"
   },
   {
    "duration": 328,
    "start_time": "2024-05-11T09:57:40.766Z"
   },
   {
    "duration": 7,
    "start_time": "2024-05-11T09:57:41.095Z"
   },
   {
    "duration": 10,
    "start_time": "2024-05-11T09:57:41.103Z"
   },
   {
    "duration": 10,
    "start_time": "2024-05-11T09:57:41.114Z"
   },
   {
    "duration": 13,
    "start_time": "2024-05-11T09:57:41.125Z"
   },
   {
    "duration": 6,
    "start_time": "2024-05-11T09:57:41.139Z"
   },
   {
    "duration": 15,
    "start_time": "2024-05-11T09:57:41.146Z"
   },
   {
    "duration": 7,
    "start_time": "2024-05-11T09:57:41.162Z"
   },
   {
    "duration": 9,
    "start_time": "2024-05-11T09:57:41.170Z"
   },
   {
    "duration": 14,
    "start_time": "2024-05-11T09:57:41.180Z"
   },
   {
    "duration": 4,
    "start_time": "2024-05-11T09:57:41.195Z"
   },
   {
    "duration": 15,
    "start_time": "2024-05-11T09:57:41.200Z"
   },
   {
    "duration": 4,
    "start_time": "2024-05-11T09:57:41.216Z"
   },
   {
    "duration": 4,
    "start_time": "2024-05-11T09:57:41.221Z"
   },
   {
    "duration": 11,
    "start_time": "2024-05-11T09:57:41.226Z"
   },
   {
    "duration": 10,
    "start_time": "2024-05-11T09:57:41.238Z"
   },
   {
    "duration": 26,
    "start_time": "2024-05-11T09:57:41.249Z"
   },
   {
    "duration": 35949,
    "start_time": "2024-05-11T09:57:41.276Z"
   },
   {
    "duration": 4,
    "start_time": "2024-05-11T09:58:17.228Z"
   },
   {
    "duration": 13,
    "start_time": "2024-05-11T09:58:17.233Z"
   },
   {
    "duration": 280,
    "start_time": "2024-05-11T09:58:17.247Z"
   },
   {
    "duration": 5,
    "start_time": "2024-05-11T09:58:17.529Z"
   },
   {
    "duration": 14,
    "start_time": "2024-05-11T09:58:17.535Z"
   },
   {
    "duration": 21,
    "start_time": "2024-05-11T09:58:17.550Z"
   },
   {
    "duration": 1756429,
    "start_time": "2024-05-11T09:58:17.573Z"
   },
   {
    "duration": 7,
    "start_time": "2024-05-11T10:27:34.003Z"
   },
   {
    "duration": 18,
    "start_time": "2024-05-11T10:27:34.011Z"
   },
   {
    "duration": 177971,
    "start_time": "2024-05-11T10:27:34.031Z"
   },
   {
    "duration": 4,
    "start_time": "2024-05-11T10:30:32.003Z"
   },
   {
    "duration": 58,
    "start_time": "2024-05-11T10:30:32.008Z"
   },
   {
    "duration": 334,
    "start_time": "2024-05-11T10:30:32.067Z"
   },
   {
    "duration": 3294,
    "start_time": "2024-05-11T11:42:57.208Z"
   },
   {
    "duration": 30,
    "start_time": "2024-05-11T11:43:00.505Z"
   },
   {
    "duration": 100,
    "start_time": "2024-05-11T11:43:00.536Z"
   },
   {
    "duration": 98,
    "start_time": "2024-05-11T11:43:00.637Z"
   },
   {
    "duration": 89,
    "start_time": "2024-05-11T11:43:00.737Z"
   },
   {
    "duration": 68,
    "start_time": "2024-05-11T11:43:00.828Z"
   },
   {
    "duration": 56,
    "start_time": "2024-05-11T11:43:00.897Z"
   },
   {
    "duration": 3589,
    "start_time": "2024-05-11T11:43:00.955Z"
   },
   {
    "duration": 3,
    "start_time": "2024-05-11T11:43:04.546Z"
   },
   {
    "duration": 403,
    "start_time": "2024-05-11T11:43:04.550Z"
   },
   {
    "duration": 4,
    "start_time": "2024-05-11T11:43:04.955Z"
   },
   {
    "duration": 5,
    "start_time": "2024-05-11T11:43:04.970Z"
   },
   {
    "duration": 9,
    "start_time": "2024-05-11T11:43:04.976Z"
   },
   {
    "duration": 15,
    "start_time": "2024-05-11T11:43:04.987Z"
   },
   {
    "duration": 8,
    "start_time": "2024-05-11T11:43:05.003Z"
   },
   {
    "duration": 10,
    "start_time": "2024-05-11T11:43:05.012Z"
   },
   {
    "duration": 18,
    "start_time": "2024-05-11T11:43:05.023Z"
   },
   {
    "duration": 34,
    "start_time": "2024-05-11T11:43:05.043Z"
   },
   {
    "duration": 41,
    "start_time": "2024-05-11T11:43:05.078Z"
   },
   {
    "duration": 7,
    "start_time": "2024-05-11T11:43:05.121Z"
   },
   {
    "duration": 22,
    "start_time": "2024-05-11T11:43:05.130Z"
   },
   {
    "duration": 14,
    "start_time": "2024-05-11T11:43:05.154Z"
   },
   {
    "duration": 6,
    "start_time": "2024-05-11T11:43:05.169Z"
   },
   {
    "duration": 14,
    "start_time": "2024-05-11T11:43:05.176Z"
   },
   {
    "duration": 13,
    "start_time": "2024-05-11T11:43:05.192Z"
   },
   {
    "duration": 15,
    "start_time": "2024-05-11T11:43:05.206Z"
   },
   {
    "duration": 50473,
    "start_time": "2024-05-11T11:43:05.222Z"
   },
   {
    "duration": 5,
    "start_time": "2024-05-11T11:43:55.696Z"
   },
   {
    "duration": 16,
    "start_time": "2024-05-11T11:43:55.702Z"
   },
   {
    "duration": 431,
    "start_time": "2024-05-11T11:43:55.720Z"
   },
   {
    "duration": 5,
    "start_time": "2024-05-11T11:43:56.153Z"
   },
   {
    "duration": 7,
    "start_time": "2024-05-11T11:43:56.170Z"
   },
   {
    "duration": 27,
    "start_time": "2024-05-11T11:43:56.179Z"
   },
   {
    "duration": 1997969,
    "start_time": "2024-05-11T11:43:56.207Z"
   },
   {
    "duration": 10,
    "start_time": "2024-05-11T12:17:14.178Z"
   },
   {
    "duration": 30,
    "start_time": "2024-05-11T12:17:14.190Z"
   },
   {
    "duration": 318667,
    "start_time": "2024-05-11T12:17:14.222Z"
   },
   {
    "duration": 4,
    "start_time": "2024-05-11T12:22:32.891Z"
   },
   {
    "duration": 3,
    "start_time": "2024-05-11T12:22:32.970Z"
   },
   {
    "duration": 378,
    "start_time": "2024-05-11T12:22:32.974Z"
   }
  ],
  "kernelspec": {
   "display_name": "Python 3 (ipykernel)",
   "language": "python",
   "name": "python3"
  },
  "language_info": {
   "codemirror_mode": {
    "name": "ipython",
    "version": 3
   },
   "file_extension": ".py",
   "mimetype": "text/x-python",
   "name": "python",
   "nbconvert_exporter": "python",
   "pygments_lexer": "ipython3",
   "version": "3.9.5"
  },
  "toc": {
   "base_numbering": 1,
   "nav_menu": {},
   "number_sections": false,
   "sideBar": true,
   "skip_h1_title": false,
   "title_cell": "Table of Contents",
   "title_sidebar": "Contents",
   "toc_cell": false,
   "toc_position": {},
   "toc_section_display": true,
   "toc_window_display": false
  },
  "varInspector": {
   "cols": {
    "lenName": 16,
    "lenType": 16,
    "lenVar": 40
   },
   "kernels_config": {
    "python": {
     "delete_cmd_postfix": "",
     "delete_cmd_prefix": "del ",
     "library": "var_list.py",
     "varRefreshCmd": "print(var_dic_list())"
    },
    "r": {
     "delete_cmd_postfix": ") ",
     "delete_cmd_prefix": "rm(",
     "library": "var_list.r",
     "varRefreshCmd": "cat(var_dic_list()) "
    }
   },
   "types_to_exclude": [
    "module",
    "function",
    "builtin_function_or_method",
    "instance",
    "_Feature"
   ],
   "window_display": false
  }
 },
 "nbformat": 4,
 "nbformat_minor": 5
}
