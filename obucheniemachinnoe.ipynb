{
 "cells": [
  {
   "cell_type": "markdown",
   "metadata": {},
   "source": [
    "# Отток клиентов"
   ]
  },
  {
   "cell_type": "markdown",
   "metadata": {},
   "source": [
    "Из «Бета-Банка» стали уходить клиенты. Каждый месяц. Немного, но заметно. Банковские маркетологи посчитали: сохранять текущих клиентов дешевле, чем привлекать новых.\n",
    "\n",
    "Нужно спрогнозировать, уйдёт клиент из банка в ближайшее время или нет. Вам предоставлены исторические данные о поведении клиентов и расторжении договоров с банком. \n",
    "\n",
    "Постройте модель с предельно большим значением *F1*-меры. Чтобы сдать проект успешно, нужно довести метрику до 0.59. Проверьте *F1*-меру на тестовой выборке самостоятельно.\n",
    "\n",
    "Дополнительно измеряйте *AUC-ROC*, сравнивайте её значение с *F1*-мерой.\n",
    "\n",
    "Источник данных: [https://www.kaggle.com/barelydedicated/bank-customer-churn-modeling](https://www.kaggle.com/barelydedicated/bank-customer-churn-modeling)"
   ]
  },
  {
   "cell_type": "markdown",
   "metadata": {},
   "source": [
    "Цель: спрогнозировать, уйдёт ли клиент из банка в ближайшее время. Для этого необходимо построить модель  с предельно большим значением F1-меры, метрику необходимо довести до 0.59. \n",
    "\n",
    "Задачи:\n",
    "1. Загрузить и подготовить данные. \n",
    "2.  Исследовать баланс классов, обучить модель без учёта дисбаланса. \n",
    "3. Улучшить качество модели, учитывая дисбаланс классов. Обучить разные модели и найти лучшую.\n",
    "4. Провести финальное тестирование."
   ]
  },
  {
   "cell_type": "markdown",
   "metadata": {},
   "source": [
    "Имеется файл с данными. Описание:\n",
    "\n",
    "RowNumber – индекс строки в данных;\n",
    "CustomerId – уникальный идентификатор клиента;\n",
    "Surname – фамилия;\n",
    "CreditScore – кредитный рейтинг;\n",
    "Geography – страна проживания;\n",
    "Gender – пол;\n",
    "Age – возраст;\n",
    "Tenure – сколько лет человек является клиентом банка;\n",
    "Balance – баланс на счёте;\n",
    "NumOfProducts – количество продуктов банка, используемых клиентом;\n",
    "HasCrCard – наличие кредитной карты;\n",
    "IsActiveMember – активность клиента;\n",
    "EstimatedSalary – предполагаемая зарплата."
   ]
  },
  {
   "cell_type": "markdown",
   "metadata": {},
   "source": [
    "Целевым фактором является Exited – факт ухода клиента."
   ]
  },
  {
   "cell_type": "markdown",
   "metadata": {},
   "source": [
    "## Подготовка данных"
   ]
  },
  {
   "cell_type": "code",
   "execution_count": 216,
   "metadata": {},
   "outputs": [],
   "source": [
    "import pandas as pd\n",
    "import numpy as np\n",
    "import matplotlib.pyplot as plt\n",
    "import seaborn as sns\n",
    "\n",
    "from sklearn.tree import DecisionTreeClassifier\n",
    "from sklearn.ensemble import RandomForestClassifier\n",
    "from sklearn.linear_model import LogisticRegression\n",
    "from sklearn.model_selection import train_test_split\n",
    "from sklearn.metrics import accuracy_score, f1_score, precision_score, recall_score, roc_auc_score, roc_curve\n",
    "from sklearn.preprocessing import StandardScaler\n",
    "from sklearn.utils import shuffle\n",
    "from tqdm import tqdm"
   ]
  },
  {
   "cell_type": "code",
   "execution_count": 217,
   "metadata": {},
   "outputs": [],
   "source": [
    "df=pd.read_csv(\"/datasets/Churn.csv\")"
   ]
  },
  {
   "cell_type": "code",
   "execution_count": 218,
   "metadata": {},
   "outputs": [
    {
     "name": "stdout",
     "output_type": "stream",
     "text": [
      "<class 'pandas.core.frame.DataFrame'>\n",
      "RangeIndex: 10000 entries, 0 to 9999\n",
      "Data columns (total 14 columns):\n",
      " #   Column           Non-Null Count  Dtype  \n",
      "---  ------           --------------  -----  \n",
      " 0   RowNumber        10000 non-null  int64  \n",
      " 1   CustomerId       10000 non-null  int64  \n",
      " 2   Surname          10000 non-null  object \n",
      " 3   CreditScore      10000 non-null  int64  \n",
      " 4   Geography        10000 non-null  object \n",
      " 5   Gender           10000 non-null  object \n",
      " 6   Age              10000 non-null  int64  \n",
      " 7   Tenure           9091 non-null   float64\n",
      " 8   Balance          10000 non-null  float64\n",
      " 9   NumOfProducts    10000 non-null  int64  \n",
      " 10  HasCrCard        10000 non-null  int64  \n",
      " 11  IsActiveMember   10000 non-null  int64  \n",
      " 12  EstimatedSalary  10000 non-null  float64\n",
      " 13  Exited           10000 non-null  int64  \n",
      "dtypes: float64(3), int64(8), object(3)\n",
      "memory usage: 1.1+ MB\n"
     ]
    }
   ],
   "source": [
    "df.info()"
   ]
  },
  {
   "cell_type": "code",
   "execution_count": 219,
   "metadata": {
    "scrolled": true
   },
   "outputs": [
    {
     "data": {
      "text/html": [
       "<div>\n",
       "<style scoped>\n",
       "    .dataframe tbody tr th:only-of-type {\n",
       "        vertical-align: middle;\n",
       "    }\n",
       "\n",
       "    .dataframe tbody tr th {\n",
       "        vertical-align: top;\n",
       "    }\n",
       "\n",
       "    .dataframe thead th {\n",
       "        text-align: right;\n",
       "    }\n",
       "</style>\n",
       "<table border=\"1\" class=\"dataframe\">\n",
       "  <thead>\n",
       "    <tr style=\"text-align: right;\">\n",
       "      <th></th>\n",
       "      <th>RowNumber</th>\n",
       "      <th>CustomerId</th>\n",
       "      <th>Surname</th>\n",
       "      <th>CreditScore</th>\n",
       "      <th>Geography</th>\n",
       "      <th>Gender</th>\n",
       "      <th>Age</th>\n",
       "      <th>Tenure</th>\n",
       "      <th>Balance</th>\n",
       "      <th>NumOfProducts</th>\n",
       "      <th>HasCrCard</th>\n",
       "      <th>IsActiveMember</th>\n",
       "      <th>EstimatedSalary</th>\n",
       "      <th>Exited</th>\n",
       "    </tr>\n",
       "  </thead>\n",
       "  <tbody>\n",
       "    <tr>\n",
       "      <th>0</th>\n",
       "      <td>1</td>\n",
       "      <td>15634602</td>\n",
       "      <td>Hargrave</td>\n",
       "      <td>619</td>\n",
       "      <td>France</td>\n",
       "      <td>Female</td>\n",
       "      <td>42</td>\n",
       "      <td>2.0</td>\n",
       "      <td>0.00</td>\n",
       "      <td>1</td>\n",
       "      <td>1</td>\n",
       "      <td>1</td>\n",
       "      <td>101348.88</td>\n",
       "      <td>1</td>\n",
       "    </tr>\n",
       "    <tr>\n",
       "      <th>1</th>\n",
       "      <td>2</td>\n",
       "      <td>15647311</td>\n",
       "      <td>Hill</td>\n",
       "      <td>608</td>\n",
       "      <td>Spain</td>\n",
       "      <td>Female</td>\n",
       "      <td>41</td>\n",
       "      <td>1.0</td>\n",
       "      <td>83807.86</td>\n",
       "      <td>1</td>\n",
       "      <td>0</td>\n",
       "      <td>1</td>\n",
       "      <td>112542.58</td>\n",
       "      <td>0</td>\n",
       "    </tr>\n",
       "    <tr>\n",
       "      <th>2</th>\n",
       "      <td>3</td>\n",
       "      <td>15619304</td>\n",
       "      <td>Onio</td>\n",
       "      <td>502</td>\n",
       "      <td>France</td>\n",
       "      <td>Female</td>\n",
       "      <td>42</td>\n",
       "      <td>8.0</td>\n",
       "      <td>159660.80</td>\n",
       "      <td>3</td>\n",
       "      <td>1</td>\n",
       "      <td>0</td>\n",
       "      <td>113931.57</td>\n",
       "      <td>1</td>\n",
       "    </tr>\n",
       "    <tr>\n",
       "      <th>3</th>\n",
       "      <td>4</td>\n",
       "      <td>15701354</td>\n",
       "      <td>Boni</td>\n",
       "      <td>699</td>\n",
       "      <td>France</td>\n",
       "      <td>Female</td>\n",
       "      <td>39</td>\n",
       "      <td>1.0</td>\n",
       "      <td>0.00</td>\n",
       "      <td>2</td>\n",
       "      <td>0</td>\n",
       "      <td>0</td>\n",
       "      <td>93826.63</td>\n",
       "      <td>0</td>\n",
       "    </tr>\n",
       "    <tr>\n",
       "      <th>4</th>\n",
       "      <td>5</td>\n",
       "      <td>15737888</td>\n",
       "      <td>Mitchell</td>\n",
       "      <td>850</td>\n",
       "      <td>Spain</td>\n",
       "      <td>Female</td>\n",
       "      <td>43</td>\n",
       "      <td>2.0</td>\n",
       "      <td>125510.82</td>\n",
       "      <td>1</td>\n",
       "      <td>1</td>\n",
       "      <td>1</td>\n",
       "      <td>79084.10</td>\n",
       "      <td>0</td>\n",
       "    </tr>\n",
       "    <tr>\n",
       "      <th>5</th>\n",
       "      <td>6</td>\n",
       "      <td>15574012</td>\n",
       "      <td>Chu</td>\n",
       "      <td>645</td>\n",
       "      <td>Spain</td>\n",
       "      <td>Male</td>\n",
       "      <td>44</td>\n",
       "      <td>8.0</td>\n",
       "      <td>113755.78</td>\n",
       "      <td>2</td>\n",
       "      <td>1</td>\n",
       "      <td>0</td>\n",
       "      <td>149756.71</td>\n",
       "      <td>1</td>\n",
       "    </tr>\n",
       "    <tr>\n",
       "      <th>6</th>\n",
       "      <td>7</td>\n",
       "      <td>15592531</td>\n",
       "      <td>Bartlett</td>\n",
       "      <td>822</td>\n",
       "      <td>France</td>\n",
       "      <td>Male</td>\n",
       "      <td>50</td>\n",
       "      <td>7.0</td>\n",
       "      <td>0.00</td>\n",
       "      <td>2</td>\n",
       "      <td>1</td>\n",
       "      <td>1</td>\n",
       "      <td>10062.80</td>\n",
       "      <td>0</td>\n",
       "    </tr>\n",
       "    <tr>\n",
       "      <th>7</th>\n",
       "      <td>8</td>\n",
       "      <td>15656148</td>\n",
       "      <td>Obinna</td>\n",
       "      <td>376</td>\n",
       "      <td>Germany</td>\n",
       "      <td>Female</td>\n",
       "      <td>29</td>\n",
       "      <td>4.0</td>\n",
       "      <td>115046.74</td>\n",
       "      <td>4</td>\n",
       "      <td>1</td>\n",
       "      <td>0</td>\n",
       "      <td>119346.88</td>\n",
       "      <td>1</td>\n",
       "    </tr>\n",
       "    <tr>\n",
       "      <th>8</th>\n",
       "      <td>9</td>\n",
       "      <td>15792365</td>\n",
       "      <td>He</td>\n",
       "      <td>501</td>\n",
       "      <td>France</td>\n",
       "      <td>Male</td>\n",
       "      <td>44</td>\n",
       "      <td>4.0</td>\n",
       "      <td>142051.07</td>\n",
       "      <td>2</td>\n",
       "      <td>0</td>\n",
       "      <td>1</td>\n",
       "      <td>74940.50</td>\n",
       "      <td>0</td>\n",
       "    </tr>\n",
       "    <tr>\n",
       "      <th>9</th>\n",
       "      <td>10</td>\n",
       "      <td>15592389</td>\n",
       "      <td>H?</td>\n",
       "      <td>684</td>\n",
       "      <td>France</td>\n",
       "      <td>Male</td>\n",
       "      <td>27</td>\n",
       "      <td>2.0</td>\n",
       "      <td>134603.88</td>\n",
       "      <td>1</td>\n",
       "      <td>1</td>\n",
       "      <td>1</td>\n",
       "      <td>71725.73</td>\n",
       "      <td>0</td>\n",
       "    </tr>\n",
       "    <tr>\n",
       "      <th>10</th>\n",
       "      <td>11</td>\n",
       "      <td>15767821</td>\n",
       "      <td>Bearce</td>\n",
       "      <td>528</td>\n",
       "      <td>France</td>\n",
       "      <td>Male</td>\n",
       "      <td>31</td>\n",
       "      <td>6.0</td>\n",
       "      <td>102016.72</td>\n",
       "      <td>2</td>\n",
       "      <td>0</td>\n",
       "      <td>0</td>\n",
       "      <td>80181.12</td>\n",
       "      <td>0</td>\n",
       "    </tr>\n",
       "    <tr>\n",
       "      <th>11</th>\n",
       "      <td>12</td>\n",
       "      <td>15737173</td>\n",
       "      <td>Andrews</td>\n",
       "      <td>497</td>\n",
       "      <td>Spain</td>\n",
       "      <td>Male</td>\n",
       "      <td>24</td>\n",
       "      <td>3.0</td>\n",
       "      <td>0.00</td>\n",
       "      <td>2</td>\n",
       "      <td>1</td>\n",
       "      <td>0</td>\n",
       "      <td>76390.01</td>\n",
       "      <td>0</td>\n",
       "    </tr>\n",
       "    <tr>\n",
       "      <th>12</th>\n",
       "      <td>13</td>\n",
       "      <td>15632264</td>\n",
       "      <td>Kay</td>\n",
       "      <td>476</td>\n",
       "      <td>France</td>\n",
       "      <td>Female</td>\n",
       "      <td>34</td>\n",
       "      <td>10.0</td>\n",
       "      <td>0.00</td>\n",
       "      <td>2</td>\n",
       "      <td>1</td>\n",
       "      <td>0</td>\n",
       "      <td>26260.98</td>\n",
       "      <td>0</td>\n",
       "    </tr>\n",
       "    <tr>\n",
       "      <th>13</th>\n",
       "      <td>14</td>\n",
       "      <td>15691483</td>\n",
       "      <td>Chin</td>\n",
       "      <td>549</td>\n",
       "      <td>France</td>\n",
       "      <td>Female</td>\n",
       "      <td>25</td>\n",
       "      <td>5.0</td>\n",
       "      <td>0.00</td>\n",
       "      <td>2</td>\n",
       "      <td>0</td>\n",
       "      <td>0</td>\n",
       "      <td>190857.79</td>\n",
       "      <td>0</td>\n",
       "    </tr>\n",
       "    <tr>\n",
       "      <th>14</th>\n",
       "      <td>15</td>\n",
       "      <td>15600882</td>\n",
       "      <td>Scott</td>\n",
       "      <td>635</td>\n",
       "      <td>Spain</td>\n",
       "      <td>Female</td>\n",
       "      <td>35</td>\n",
       "      <td>7.0</td>\n",
       "      <td>0.00</td>\n",
       "      <td>2</td>\n",
       "      <td>1</td>\n",
       "      <td>1</td>\n",
       "      <td>65951.65</td>\n",
       "      <td>0</td>\n",
       "    </tr>\n",
       "  </tbody>\n",
       "</table>\n",
       "</div>"
      ],
      "text/plain": [
       "    RowNumber  CustomerId   Surname  CreditScore Geography  Gender  Age  \\\n",
       "0           1    15634602  Hargrave          619    France  Female   42   \n",
       "1           2    15647311      Hill          608     Spain  Female   41   \n",
       "2           3    15619304      Onio          502    France  Female   42   \n",
       "3           4    15701354      Boni          699    France  Female   39   \n",
       "4           5    15737888  Mitchell          850     Spain  Female   43   \n",
       "5           6    15574012       Chu          645     Spain    Male   44   \n",
       "6           7    15592531  Bartlett          822    France    Male   50   \n",
       "7           8    15656148    Obinna          376   Germany  Female   29   \n",
       "8           9    15792365        He          501    France    Male   44   \n",
       "9          10    15592389        H?          684    France    Male   27   \n",
       "10         11    15767821    Bearce          528    France    Male   31   \n",
       "11         12    15737173   Andrews          497     Spain    Male   24   \n",
       "12         13    15632264       Kay          476    France  Female   34   \n",
       "13         14    15691483      Chin          549    France  Female   25   \n",
       "14         15    15600882     Scott          635     Spain  Female   35   \n",
       "\n",
       "    Tenure    Balance  NumOfProducts  HasCrCard  IsActiveMember  \\\n",
       "0      2.0       0.00              1          1               1   \n",
       "1      1.0   83807.86              1          0               1   \n",
       "2      8.0  159660.80              3          1               0   \n",
       "3      1.0       0.00              2          0               0   \n",
       "4      2.0  125510.82              1          1               1   \n",
       "5      8.0  113755.78              2          1               0   \n",
       "6      7.0       0.00              2          1               1   \n",
       "7      4.0  115046.74              4          1               0   \n",
       "8      4.0  142051.07              2          0               1   \n",
       "9      2.0  134603.88              1          1               1   \n",
       "10     6.0  102016.72              2          0               0   \n",
       "11     3.0       0.00              2          1               0   \n",
       "12    10.0       0.00              2          1               0   \n",
       "13     5.0       0.00              2          0               0   \n",
       "14     7.0       0.00              2          1               1   \n",
       "\n",
       "    EstimatedSalary  Exited  \n",
       "0         101348.88       1  \n",
       "1         112542.58       0  \n",
       "2         113931.57       1  \n",
       "3          93826.63       0  \n",
       "4          79084.10       0  \n",
       "5         149756.71       1  \n",
       "6          10062.80       0  \n",
       "7         119346.88       1  \n",
       "8          74940.50       0  \n",
       "9          71725.73       0  \n",
       "10         80181.12       0  \n",
       "11         76390.01       0  \n",
       "12         26260.98       0  \n",
       "13        190857.79       0  \n",
       "14         65951.65       0  "
      ]
     },
     "metadata": {},
     "output_type": "display_data"
    }
   ],
   "source": [
    "display(df.head(15))"
   ]
  },
  {
   "cell_type": "code",
   "execution_count": 220,
   "metadata": {},
   "outputs": [],
   "source": [
    "df['Exited'].unique()\n",
    "number_subs_exit = df['Exited'].value_counts()"
   ]
  },
  {
   "cell_type": "code",
   "execution_count": 221,
   "metadata": {},
   "outputs": [
    {
     "data": {
      "image/png": "[encoded data removed]",
      "text/plain": [
       "<Figure size 648x648 with 1 Axes>"
      ]
     },
     "metadata": {},
     "output_type": "display_data"
    }
   ],
   "source": [
    "df['Exited'].value_counts().plot( kind = 'pie', y = number_subs_exit,figsize=(9,9), autopct = '%1.0f%%',\n",
    "title = 'Процентное соотношение пользователей по факту ухода');"
   ]
  },
  {
   "cell_type": "code",
   "execution_count": 222,
   "metadata": {},
   "outputs": [
    {
     "data": {
      "text/plain": [
       "array(['France', 'Spain', 'Germany'], dtype=object)"
      ]
     },
     "execution_count": 222,
     "metadata": {},
     "output_type": "execute_result"
    }
   ],
   "source": [
    "df['Geography'].unique()"
   ]
  },
  {
   "cell_type": "code",
   "execution_count": 223,
   "metadata": {},
   "outputs": [
    {
     "name": "stdout",
     "output_type": "stream",
     "text": [
      "France     5014\n",
      "Germany    2509\n",
      "Spain      2477\n",
      "Name: Geography, dtype: int64\n"
     ]
    }
   ],
   "source": [
    "number_subs_geo = df['Geography'].value_counts()\n",
    "print (number_subs_geo)"
   ]
  },
  {
   "cell_type": "code",
   "execution_count": 224,
   "metadata": {},
   "outputs": [
    {
     "data": {
      "image/png": "[encoded data removed]",
      "text/plain": [
       "<Figure size 648x648 with 1 Axes>"
      ]
     },
     "metadata": {},
     "output_type": "display_data"
    }
   ],
   "source": [
    "df['Geography'].value_counts().plot( kind = 'pie', y = number_subs_geo,figsize=(9,9), autopct = '%1.0f%%',\n",
    "title = 'Процентное соотношение пользователей по географическому признаку');"
   ]
  },
  {
   "cell_type": "code",
   "execution_count": 225,
   "metadata": {},
   "outputs": [
    {
     "data": {
      "text/plain": [
       "array(['Female', 'Male'], dtype=object)"
      ]
     },
     "execution_count": 225,
     "metadata": {},
     "output_type": "execute_result"
    }
   ],
   "source": [
    "df['Gender'].unique()"
   ]
  },
  {
   "cell_type": "code",
   "execution_count": 226,
   "metadata": {},
   "outputs": [
    {
     "name": "stdout",
     "output_type": "stream",
     "text": [
      "Male      5457\n",
      "Female    4543\n",
      "Name: Gender, dtype: int64\n"
     ]
    }
   ],
   "source": [
    "number_subs_gender = df['Gender'].value_counts()\n",
    "print (number_subs_gender)"
   ]
  },
  {
   "cell_type": "code",
   "execution_count": 227,
   "metadata": {},
   "outputs": [
    {
     "data": {
      "image/png": "[encoded data removed]",
      "text/plain": [
       "<Figure size 648x648 with 1 Axes>"
      ]
     },
     "metadata": {},
     "output_type": "display_data"
    }
   ],
   "source": [
    "df['Gender'].value_counts().plot( kind = 'pie', y = number_subs_gender,figsize=(9,9), autopct = '%1.0f%%',\n",
    "title = 'Процентное соотношение пользователей по гендеру');"
   ]
  },
  {
   "cell_type": "code",
   "execution_count": 228,
   "metadata": {},
   "outputs": [
    {
     "data": {
      "text/plain": [
       "array([1, 3, 2, 4])"
      ]
     },
     "execution_count": 228,
     "metadata": {},
     "output_type": "execute_result"
    }
   ],
   "source": [
    "df['NumOfProducts'].unique()"
   ]
  },
  {
   "cell_type": "code",
   "execution_count": 229,
   "metadata": {},
   "outputs": [
    {
     "name": "stdout",
     "output_type": "stream",
     "text": [
      "1    5084\n",
      "2    4590\n",
      "3     266\n",
      "4      60\n",
      "Name: NumOfProducts, dtype: int64\n"
     ]
    }
   ],
   "source": [
    "number_subs_num = df['NumOfProducts'].value_counts()\n",
    "print (number_subs_num)"
   ]
  },
  {
   "cell_type": "code",
   "execution_count": 230,
   "metadata": {},
   "outputs": [
    {
     "data": {
      "image/png": "[encoded data removed]",
      "text/plain": [
       "<Figure size 648x648 with 1 Axes>"
      ]
     },
     "metadata": {},
     "output_type": "display_data"
    }
   ],
   "source": [
    "df['NumOfProducts'].value_counts().plot( kind = 'pie', y = number_subs_num,figsize=(9,9), autopct = '%1.0f%%',\n",
    "title = 'Процентное соотношение пользователей по количеству продуктов банка');"
   ]
  },
  {
   "cell_type": "code",
   "execution_count": 231,
   "metadata": {},
   "outputs": [
    {
     "data": {
      "text/plain": [
       "array([1, 0])"
      ]
     },
     "execution_count": 231,
     "metadata": {},
     "output_type": "execute_result"
    }
   ],
   "source": [
    "df['HasCrCard'].unique()"
   ]
  },
  {
   "cell_type": "code",
   "execution_count": 232,
   "metadata": {},
   "outputs": [
    {
     "name": "stdout",
     "output_type": "stream",
     "text": [
      "1    7055\n",
      "0    2945\n",
      "Name: HasCrCard, dtype: int64\n"
     ]
    }
   ],
   "source": [
    "number_subs_numcreditcards = df['HasCrCard'].value_counts()\n",
    "print (number_subs_numcreditcards )"
   ]
  },
  {
   "cell_type": "code",
   "execution_count": 233,
   "metadata": {},
   "outputs": [
    {
     "data": {
      "image/png": "[encoded data removed]",
      "text/plain": [
       "<Figure size 648x648 with 1 Axes>"
      ]
     },
     "metadata": {},
     "output_type": "display_data"
    }
   ],
   "source": [
    "df['HasCrCard'].value_counts().plot( kind = 'pie', y = number_subs_numcreditcards,figsize=(9,9), autopct = '%1.0f%%',\n",
    "title = 'Процентное соотношение пользователей по наличию кредитных карт (есть или нет)');"
   ]
  },
  {
   "cell_type": "code",
   "execution_count": 234,
   "metadata": {},
   "outputs": [
    {
     "data": {
      "text/plain": [
       "array([1, 0])"
      ]
     },
     "execution_count": 234,
     "metadata": {},
     "output_type": "execute_result"
    }
   ],
   "source": [
    "df['IsActiveMember'].unique()"
   ]
  },
  {
   "cell_type": "code",
   "execution_count": 235,
   "metadata": {},
   "outputs": [
    {
     "name": "stdout",
     "output_type": "stream",
     "text": [
      "1    5151\n",
      "0    4849\n",
      "Name: IsActiveMember, dtype: int64\n"
     ]
    }
   ],
   "source": [
    "number_subs_numactive= df['IsActiveMember'].value_counts()\n",
    "print (number_subs_numactive)"
   ]
  },
  {
   "cell_type": "code",
   "execution_count": 236,
   "metadata": {},
   "outputs": [
    {
     "data": {
      "image/png": "[encoded data removed]",
      "text/plain": [
       "<Figure size 648x648 with 1 Axes>"
      ]
     },
     "metadata": {},
     "output_type": "display_data"
    }
   ],
   "source": [
    "df['IsActiveMember'].value_counts().plot( kind = 'pie', y = number_subs_numactive,figsize=(9,9), autopct = '%1.0f%%',\n",
    "title = 'Процентное соотношение пользователей по активности (активен или нет)');"
   ]
  },
  {
   "cell_type": "markdown",
   "metadata": {},
   "source": [
    "Имеются пропуски в Tenure (сколько лет человек является клиентом банка). Посмотрим распределение данных в зависимости от других колонок в таблицах."
   ]
  },
  {
   "cell_type": "code",
   "execution_count": 237,
   "metadata": {},
   "outputs": [],
   "source": [
    "def fill_na_with_random_mean(df, Tenure):\n",
    "    mean_value = df[Tenure].mean()\n",
    "    std_deviation = df[Tenure].std()\n",
    "    null_count = df[Tenure].isnull().sum()\n",
    "    random_values = np.random.normal(loc=mean_value, scale=std_deviation, size=null_count)\n",
    "    df.loc[df[Tenure].isnull(), Tenure] = random_values"
   ]
  },
  {
   "cell_type": "code",
   "execution_count": 238,
   "metadata": {},
   "outputs": [],
   "source": [
    "fill_na_with_random_mean(df, 'Tenure')"
   ]
  },
  {
   "cell_type": "code",
   "execution_count": 239,
   "metadata": {},
   "outputs": [
    {
     "name": "stdout",
     "output_type": "stream",
     "text": [
      "<class 'pandas.core.frame.DataFrame'>\n",
      "RangeIndex: 10000 entries, 0 to 9999\n",
      "Data columns (total 14 columns):\n",
      " #   Column           Non-Null Count  Dtype  \n",
      "---  ------           --------------  -----  \n",
      " 0   RowNumber        10000 non-null  int64  \n",
      " 1   CustomerId       10000 non-null  int64  \n",
      " 2   Surname          10000 non-null  object \n",
      " 3   CreditScore      10000 non-null  int64  \n",
      " 4   Geography        10000 non-null  object \n",
      " 5   Gender           10000 non-null  object \n",
      " 6   Age              10000 non-null  int64  \n",
      " 7   Tenure           10000 non-null  float64\n",
      " 8   Balance          10000 non-null  float64\n",
      " 9   NumOfProducts    10000 non-null  int64  \n",
      " 10  HasCrCard        10000 non-null  int64  \n",
      " 11  IsActiveMember   10000 non-null  int64  \n",
      " 12  EstimatedSalary  10000 non-null  float64\n",
      " 13  Exited           10000 non-null  int64  \n",
      "dtypes: float64(3), int64(8), object(3)\n",
      "memory usage: 1.1+ MB\n"
     ]
    }
   ],
   "source": [
    "df.info()"
   ]
  },
  {
   "cell_type": "code",
   "execution_count": 240,
   "metadata": {},
   "outputs": [
    {
     "data": {
      "text/plain": [
       "array([ 2.        ,  1.        ,  8.        ,  7.        ,  4.        ,\n",
       "        6.        ,  3.        , 10.        ,  5.        ,  9.        ,\n",
       "        0.        , -0.67457486,  4.60395509,  5.35335061,  6.78901802,\n",
       "        3.89366878,  6.70765166,  2.44748951,  5.71591134,  5.84458128,\n",
       "        3.1619672 ,  1.02279507,  6.08651806,  5.49510261,  5.11327095,\n",
       "        5.5813231 , 10.42191521,  5.37581487,  7.8426069 ,  0.99539927,\n",
       "        5.28620242, -0.05731021,  9.39732912,  0.5262933 ,  8.12954012,\n",
       "        0.82629965,  6.44698263,  3.56156631,  5.69096733,  4.23503935,\n",
       "        6.23155413,  6.69886309,  3.28185808,  1.87443838, 10.43456046,\n",
       "        9.95242033,  6.80050518,  0.52754178,  4.00899069,  7.51850895,\n",
       "        4.29740683,  4.38167201,  3.14144975,  2.24553712,  0.17001535,\n",
       "       10.14010941,  2.53267919,  4.28329554,  4.77967058,  2.51572236,\n",
       "        3.67344888,  8.79597992,  4.41897764,  3.81853558, -1.02924339,\n",
       "        3.37218918,  2.89033767,  7.61755465,  7.13443188,  4.27152416,\n",
       "        8.7317603 ,  7.49272129, 12.66509205,  8.826743  ,  4.14004026,\n",
       "        6.58776931,  6.46450345,  2.33218483,  7.19586292,  7.27260484,\n",
       "        1.90132138,  6.00586956,  4.63019272,  2.49962525,  2.20893932,\n",
       "        0.40936912,  3.88948573,  8.7764197 ,  2.03666115,  8.60603866,\n",
       "        6.72574236,  2.46596016,  5.0069803 ,  4.21359906,  5.79531778,\n",
       "        3.46063595,  4.35756228,  2.46522663,  5.11306981,  5.52272366,\n",
       "        6.23971552,  9.80249364,  5.36283814,  6.50749716,  4.49228435,\n",
       "        8.37822458,  8.86726983,  6.06571258,  3.82893748,  5.48686206,\n",
       "        5.76428371,  2.65448592,  3.42055796,  5.56904534,  7.90811535,\n",
       "        2.83441553,  3.23078821,  5.65954302,  4.8094575 ,  3.39940562,\n",
       "        3.93652455,  7.6638483 ,  1.18436971,  4.95754402,  3.31524531,\n",
       "        6.41759409,  2.09952093,  6.02585542,  0.09666604,  8.84260034,\n",
       "        4.28387014,  3.20963773, -2.90097623,  3.7508039 ,  9.80644582,\n",
       "        5.08025236,  6.06511772,  3.7365448 ,  5.99950344,  1.92563293,\n",
       "        5.64359808,  5.17970511,  8.89407973,  9.7835721 ,  8.26744372,\n",
       "        4.646104  ,  3.59531493,  4.91137207,  2.64598894,  5.90080999,\n",
       "        6.92471387,  3.24715663,  4.41805318,  4.83414862,  2.00552553,\n",
       "       -1.68874125,  5.36971529,  6.03717051,  5.86063393,  6.26847154,\n",
       "        2.59179513,  1.46184928,  8.28564318,  1.45004336,  2.99307836,\n",
       "        8.3484291 ,  8.22012586,  7.17295038,  9.93832534,  5.808339  ,\n",
       "        0.79994304,  5.91383387,  1.33126041,  7.93535697,  5.9571919 ,\n",
       "        0.60070451,  8.75674585,  4.58317144, -0.69743855,  5.46715721,\n",
       "        6.7674888 ,  2.51635554,  1.47642312,  3.77525974,  6.38736859,\n",
       "        7.2981173 ,  7.16748825,  7.60309192,  1.44969767,  4.3608349 ,\n",
       "       10.54489215,  5.7952798 ,  4.82060214,  7.4871873 ,  0.97088318,\n",
       "        5.53391031,  5.44279041,  4.07056695,  5.587961  ,  3.35863285,\n",
       "        6.01736978,  1.73638078,  2.98139572,  1.51157028,  0.96628722,\n",
       "        7.05766777,  5.97654049,  1.67196597,  6.14103677,  3.12814747,\n",
       "        5.96351642, 11.52820348,  4.35827194,  4.959985  ,  1.00364735,\n",
       "        5.13801775,  7.16368856,  8.40040236, -1.12902057,  3.33697263,\n",
       "        5.97392796,  2.50955452,  1.22702419,  3.46504312,  2.26337173,\n",
       "        3.37645459,  6.4002075 ,  6.03332157,  7.38844732, -1.42505694,\n",
       "        5.91932455,  7.57816583,  2.8738296 ,  7.39683412,  7.94600891,\n",
       "        5.07821264,  6.45102017,  4.40608463,  3.56286883,  1.79107503,\n",
       "        2.51338925,  7.72047534,  8.63364569,  7.74364813,  8.10455666,\n",
       "        4.13390116,  8.77767079,  4.78686165, 10.15570857,  9.36760712,\n",
       "        9.62051133,  7.82556311,  4.81242346,  8.93979007,  2.47900347,\n",
       "        4.87076533,  3.987411  , -1.27620715,  5.01385848,  6.12607676,\n",
       "        6.22764605,  8.82296322,  9.03828863,  6.66864289,  4.94594705,\n",
       "        4.44945754,  2.79846838, -1.21735394,  5.59863083,  3.4682333 ,\n",
       "       -0.99636407,  5.99938452,  4.42032427,  7.78348584,  2.94979928,\n",
       "        5.53086918,  8.7202625 ,  8.88313377,  7.64660572,  6.18984395,\n",
       "        5.72620731,  1.17772337, 10.20650436,  1.69210963,  1.8079071 ,\n",
       "        4.28242866,  2.06215722,  2.66993698,  7.57492784,  3.05095544,\n",
       "        9.88041513, 10.45574083, 11.57808477,  4.94299888,  3.69399965,\n",
       "        4.37635288, 10.21990352,  3.2795514 ,  8.65532051,  8.54453488,\n",
       "        4.80325065,  4.53376388,  8.87439598,  4.78422868,  2.78946087,\n",
       "        9.92354818,  2.78582188, -2.36112739,  6.50055298,  1.58211671,\n",
       "        6.71777797,  1.82969051,  3.93564919,  3.62073009,  7.65046354,\n",
       "        3.59657798,  5.62935883,  3.99318272,  6.01999531,  8.06364769,\n",
       "        7.24703054, 10.88009465,  7.9731011 ,  2.15850881,  0.57795175,\n",
       "        3.29745662,  7.50087076,  6.9549642 ,  4.39609815,  7.14365946,\n",
       "        6.65680921,  1.72232005,  7.47143437,  4.70479754,  3.94477789,\n",
       "       -0.0578577 ,  5.6294013 ,  5.10781478,  6.11228222,  4.84623013,\n",
       "        7.68442655,  7.01578757,  8.25555502,  9.24000608,  6.38524562,\n",
       "        4.01496578,  1.72978462,  5.16858184,  5.76560939,  3.63033429,\n",
       "        0.83329069,  1.51317163,  3.69058341,  4.38751936,  7.20171618,\n",
       "        2.60635153,  4.64511676, -0.27145958,  1.64856015, -4.29363089,\n",
       "        8.05361307,  8.16351176,  7.22720468,  6.58037053,  2.59170836,\n",
       "        8.468125  ,  2.16907917,  5.94368536,  1.2971699 ,  3.59634462,\n",
       "        0.03436415,  5.18502526,  9.39176327,  9.22136014,  7.21458568,\n",
       "        5.33379819,  2.96990467,  1.01056717,  9.69944539,  1.37000354,\n",
       "        4.34568687,  4.11518885,  1.18440444,  3.11627787,  3.76467203,\n",
       "        4.59329068,  9.10599689,  7.88376071,  3.06937927,  6.10789635,\n",
       "        4.02638458,  6.72531161,  4.73717366,  3.50903047,  8.24885623,\n",
       "        7.67063667,  5.73025063,  4.7632675 ,  0.04159989,  5.98205702,\n",
       "        8.71326841,  5.50488664,  1.69005536,  2.55058249,  3.89206046,\n",
       "        6.08024583,  2.52428902,  5.00880026,  5.44849128,  4.45146415,\n",
       "        5.10919657,  2.14008325,  5.93679257,  4.47629113,  3.42586204,\n",
       "        3.31099078,  3.73187455,  6.21722181,  3.53287687,  6.88525826,\n",
       "        6.37011491,  1.46662666,  6.3402403 ,  1.12959361,  9.43095047,\n",
       "        6.01769966,  2.43142043,  6.39743138,  9.73929316,  4.92511975,\n",
       "        0.49106673,  6.07532017,  7.02182484,  4.18990288,  2.91227116,\n",
       "        6.82691768,  6.47356433,  2.11092364,  6.91908017,  5.75778766,\n",
       "        6.07436663,  7.31262565,  3.87936617,  7.27321212,  3.45545459,\n",
       "        2.67652783,  7.16669515,  4.35212863,  4.58465187,  2.0483985 ,\n",
       "       -0.03417088,  9.01423415,  3.98294735,  6.2387463 ,  1.39068695,\n",
       "        5.69522235,  4.80516741,  8.29697953,  3.53330587,  3.74892483,\n",
       "        5.73000903,  4.53673746,  7.26774477,  1.77904378,  4.73477158,\n",
       "        5.65696219,  4.05569718,  9.95210035,  4.27069884,  6.8177216 ,\n",
       "        2.18294089,  4.44160127,  5.29384006,  3.98926843,  9.4567533 ,\n",
       "        4.42514908,  6.18463315,  5.91738232,  7.07118213,  3.11615374,\n",
       "        4.59504677,  6.57018875,  3.02513984,  5.46557005,  0.90249766,\n",
       "        1.56410957,  4.32197469,  3.58154189,  4.81163229,  2.29589647,\n",
       "        4.15773744,  7.7424753 ,  1.57005564,  3.78674291, 12.39358713,\n",
       "        6.29171995,  6.71683391, -2.78186272,  4.62320004,  3.4582358 ,\n",
       "        3.74964257,  4.53265971,  5.13067392,  4.46710027,  3.81177129,\n",
       "        4.00053452, -1.66053461, 10.68700307,  0.98115752,  4.96512865,\n",
       "        3.26756201,  0.23510615,  5.30050242,  7.68493909,  9.71029594,\n",
       "        5.32520519,  4.18600537,  2.01397856,  0.88413493, -1.90399554,\n",
       "        3.23903626,  2.43633672,  2.3939632 ,  5.83615467,  5.02694971,\n",
       "        3.39013581,  4.86091393,  3.17833148,  8.35356215,  6.80259339,\n",
       "        0.84456051,  4.29636703,  3.47802232,  2.14308518,  0.78278771,\n",
       "        1.91441174,  2.6978978 ,  4.61696143,  2.47486315,  4.30468006,\n",
       "        6.67713897,  5.70983263,  7.89887976,  7.29719664,  1.99808941,\n",
       "        4.43562184,  2.44835438,  8.77296685,  4.9941744 ,  4.5861633 ,\n",
       "        3.58094913,  5.68794484,  3.74742309,  5.43419387,  8.06339042,\n",
       "        0.21017028,  4.00801623,  4.84757121,  8.4441606 ,  3.25223922,\n",
       "        4.85363157,  6.20215729,  8.79360384,  3.9073706 ,  1.72239315,\n",
       "        2.23248968,  5.37163668,  6.80729448,  5.227877  ,  1.79200047,\n",
       "        5.5381186 ,  6.16673711,  8.31478078,  9.40379419,  3.51978951,\n",
       "       -0.57987366, -0.26350281,  6.75436834,  0.98457985,  6.36471139,\n",
       "       10.14469931,  0.02872388,  6.83695425,  5.9817323 ,  6.3679189 ,\n",
       "        4.35866278,  6.10150741,  2.96319662,  4.55609749,  4.22417407,\n",
       "        6.6043036 ,  0.81822095, 10.05922148,  3.66697408,  5.0386442 ,\n",
       "        3.60617648,  3.97547265,  3.29686077,  7.69911476,  8.29445626,\n",
       "        3.45344647,  5.5399356 , 10.36849854,  4.95892944,  6.57447315,\n",
       "        4.49194489,  9.47846343,  7.51477105,  3.63168006,  3.14210705,\n",
       "        8.56051287, 10.86230503,  2.63245332,  5.96663309,  6.75329379,\n",
       "        4.48896916,  5.7501917 ,  2.06934091,  5.38587325,  2.68103953,\n",
       "        4.8230056 ,  4.47102474,  4.48656955,  5.1025523 ,  2.71498108,\n",
       "        7.12665239,  3.59862695,  5.78958516,  7.490559  ,  5.08372991,\n",
       "        4.74410519,  7.90819803,  5.47823131,  2.47846932,  1.88325656,\n",
       "        1.12371288, -1.62529664,  6.67999757,  8.13763339,  5.1936812 ,\n",
       "        6.52504321,  4.87857068,  4.68293946,  9.22791298,  5.65007195,\n",
       "        6.47653906,  6.54486045,  3.13427065,  3.87788479,  1.77822775,\n",
       "        9.20345847,  5.9377558 ,  4.27504023,  8.90337329,  9.80676296,\n",
       "        1.56158956,  7.26018891,  4.13549852,  4.00363911,  3.96545868,\n",
       "        5.71440928,  2.14322318,  2.27168716,  4.70877248,  2.62133614,\n",
       "        4.21648175,  3.9402923 ,  3.80243918,  5.47159166,  0.23322824,\n",
       "        8.13445773,  7.96467504,  5.31911783,  5.12261819,  8.65425199,\n",
       "        5.89273406,  2.80678473,  0.19699854,  1.75330351,  6.27031892,\n",
       "        2.31318223, 12.66724137,  7.00859586,  4.15692868, 10.36180127,\n",
       "        6.70968703,  4.91576692,  2.08278691,  6.03430502,  5.80574738,\n",
       "        9.60957598,  6.41931174,  5.41218267,  6.68741441,  5.99623191,\n",
       "        7.9410775 , 11.62667314,  0.93865852,  0.3137827 ,  0.59709457,\n",
       "        5.34485089,  2.16615146,  7.96503278, -2.4804068 ,  5.41297077,\n",
       "        6.56541803,  2.1310547 ,  6.06358933, -0.84345623,  5.18606045,\n",
       "        9.24122051,  5.07516937, -0.65906111,  0.3663717 ,  3.78775758,\n",
       "        7.77987105,  2.44837671,  3.18424493,  2.68752274,  1.67485231,\n",
       "        2.44755814,  1.80290104,  3.80931272,  4.22610344,  6.54376639,\n",
       "        4.73363228,  3.52090583,  1.62375538,  2.29613058,  5.76983078,\n",
       "       -0.82720229,  9.1198838 ,  3.08953669,  4.66984394,  7.48185248,\n",
       "        8.58673873, -0.24883563, 10.38975903,  7.26601933,  1.98380474,\n",
       "        5.63957016,  7.9811105 ,  6.40524207,  7.49961494,  1.66721438,\n",
       "        5.29353271,  4.64549553,  4.07849426,  6.71944899,  6.56934077,\n",
       "        1.40463414,  4.0411752 ,  5.11194019,  8.04840231,  3.23985248,\n",
       "        8.66201485,  6.05908887,  5.18472365, -0.30677128, 12.82460906,\n",
       "       10.34907599,  5.71839161, 13.28537346,  5.34535741,  5.99553331,\n",
       "        7.20744364, 14.17048673,  6.68626047,  6.61233181,  9.05815066,\n",
       "        4.51767376,  1.91201597,  8.46199793,  5.71998181,  5.75709748,\n",
       "        7.74482962,  3.57659034,  4.88820413,  1.53121732,  7.01175645,\n",
       "        5.55290081,  2.25921511,  3.39025594,  5.80949529,  0.04771439,\n",
       "        5.78367949,  3.40821015,  3.7774492 ,  6.9781573 ,  5.24194803,\n",
       "        6.79858542,  3.72530094,  2.10165574,  3.73350847,  7.7141012 ,\n",
       "        6.67875589,  6.14933045,  1.01182689,  5.82666871,  1.9144155 ,\n",
       "        0.59110767,  8.91972436,  7.33336537,  3.02901867,  8.16849132,\n",
       "        8.86244202,  4.08591344,  1.49036842,  3.77761942,  5.89197669,\n",
       "        1.96258319,  4.45160528, -0.07550705,  4.81580981,  7.22170415,\n",
       "        7.60889909,  5.80252461,  2.13855919,  3.24329727,  2.72461445,\n",
       "        5.24811839,  3.91043878,  5.98236498,  2.87674767,  5.14895836,\n",
       "        2.15445231,  8.94221681,  8.21840824,  3.75765031,  5.73459546,\n",
       "        0.86977246,  8.58078702, 12.31661818,  2.53444517,  8.06221439,\n",
       "        7.59957678,  5.26105108,  2.29808125,  2.91320516,  2.08491458,\n",
       "        8.31027001,  0.70181107,  8.0398474 ,  3.82690754,  0.70481423,\n",
       "        6.48298335,  3.80104383,  4.26937697,  2.42709252,  2.51220576,\n",
       "       -1.0078201 ,  4.65975518,  9.50136829,  7.443711  ,  5.73246269,\n",
       "        2.76431602,  4.23826664,  4.37917318,  3.92496569,  4.662222  ,\n",
       "        3.41350547,  0.6317502 ,  2.61642399,  5.46720427,  2.2874947 ,\n",
       "        3.43237705, -0.24610388,  7.54228387,  3.61034305,  7.54846022,\n",
       "        1.69874147,  8.50973409,  9.39095711,  1.38313678, 11.23483224,\n",
       "        2.2760909 , -1.20353929,  6.13806761,  6.6917317 ,  6.74061877,\n",
       "        6.86408651,  2.50351708, 10.28599906,  8.31377602, -2.6565092 ,\n",
       "        3.11866894,  6.88255436,  7.01961111,  6.92707084,  4.18653227,\n",
       "        9.22055168,  5.06754509,  5.46797824,  3.76212623,  6.69940234,\n",
       "        2.14969821,  1.37798657,  7.43281697,  3.26367612,  7.22758217,\n",
       "        2.92419829, 10.56942437,  0.59025675,  2.9757266 ,  6.63993982,\n",
       "        6.76028025,  4.55477632, -0.46282082,  6.79663338,  5.96107658,\n",
       "        7.67913092, -0.65819041,  5.17561538,  1.28441816,  6.3395887 ,\n",
       "        8.91745143,  5.42754419,  3.37539969,  7.57220691,  1.81022346])"
      ]
     },
     "execution_count": 240,
     "metadata": {},
     "output_type": "execute_result"
    }
   ],
   "source": [
    "df['Tenure'].unique()"
   ]
  },
  {
   "cell_type": "code",
   "execution_count": 241,
   "metadata": {},
   "outputs": [
    {
     "data": {
      "text/plain": [
       "<AxesSubplot:xlabel='Tenure'>"
      ]
     },
     "execution_count": 241,
     "metadata": {},
     "output_type": "execute_result"
    },
    {
     "data": {
      "image/png": "[encoded data removed]",
      "text/plain": [
       "<Figure size 432x288 with 1 Axes>"
      ]
     },
     "metadata": {
      "needs_background": "light"
     },
     "output_type": "display_data"
    }
   ],
   "source": [
    "sns.boxplot(x=df['Tenure'])"
   ]
  },
  {
   "cell_type": "code",
   "execution_count": 242,
   "metadata": {},
   "outputs": [
    {
     "data": {
      "text/plain": [
       "<AxesSubplot:xlabel='CreditScore'>"
      ]
     },
     "execution_count": 242,
     "metadata": {},
     "output_type": "execute_result"
    },
    {
     "data": {
      "image/png": "[encoded data removed]",
      "text/plain": [
       "<Figure size 432x288 with 1 Axes>"
      ]
     },
     "metadata": {
      "needs_background": "light"
     },
     "output_type": "display_data"
    }
   ],
   "source": [
    "sns.boxplot(x=df['CreditScore'])"
   ]
  },
  {
   "cell_type": "code",
   "execution_count": 243,
   "metadata": {},
   "outputs": [
    {
     "data": {
      "text/plain": [
       "<AxesSubplot:xlabel='EstimatedSalary'>"
      ]
     },
     "execution_count": 243,
     "metadata": {},
     "output_type": "execute_result"
    },
    {
     "data": {
      "image/png": "[encoded data removed]",
      "text/plain": [
       "<Figure size 432x288 with 1 Axes>"
      ]
     },
     "metadata": {
      "needs_background": "light"
     },
     "output_type": "display_data"
    }
   ],
   "source": [
    "sns.boxplot(x=df['EstimatedSalary'])"
   ]
  },
  {
   "cell_type": "code",
   "execution_count": 244,
   "metadata": {},
   "outputs": [
    {
     "name": "stdout",
     "output_type": "stream",
     "text": [
      "<class 'pandas.core.frame.DataFrame'>\n",
      "RangeIndex: 10000 entries, 0 to 9999\n",
      "Data columns (total 14 columns):\n",
      " #   Column           Non-Null Count  Dtype  \n",
      "---  ------           --------------  -----  \n",
      " 0   RowNumber        10000 non-null  int64  \n",
      " 1   CustomerId       10000 non-null  int64  \n",
      " 2   Surname          10000 non-null  object \n",
      " 3   CreditScore      10000 non-null  int64  \n",
      " 4   Geography        10000 non-null  object \n",
      " 5   Gender           10000 non-null  object \n",
      " 6   Age              10000 non-null  int64  \n",
      " 7   Tenure           10000 non-null  float64\n",
      " 8   Balance          10000 non-null  float64\n",
      " 9   NumOfProducts    10000 non-null  int64  \n",
      " 10  HasCrCard        10000 non-null  int64  \n",
      " 11  IsActiveMember   10000 non-null  int64  \n",
      " 12  EstimatedSalary  10000 non-null  float64\n",
      " 13  Exited           10000 non-null  int64  \n",
      "dtypes: float64(3), int64(8), object(3)\n",
      "memory usage: 1.1+ MB\n"
     ]
    }
   ],
   "source": [
    "df.info()"
   ]
  },
  {
   "cell_type": "code",
   "execution_count": 245,
   "metadata": {},
   "outputs": [],
   "source": [
    "df = pd.get_dummies(df, columns=['Geography', 'Gender'], drop_first=True)"
   ]
  },
  {
   "cell_type": "code",
   "execution_count": 246,
   "metadata": {},
   "outputs": [
    {
     "name": "stdout",
     "output_type": "stream",
     "text": [
      "<class 'pandas.core.frame.DataFrame'>\n",
      "RangeIndex: 10000 entries, 0 to 9999\n",
      "Data columns (total 15 columns):\n",
      " #   Column             Non-Null Count  Dtype  \n",
      "---  ------             --------------  -----  \n",
      " 0   RowNumber          10000 non-null  int64  \n",
      " 1   CustomerId         10000 non-null  int64  \n",
      " 2   Surname            10000 non-null  object \n",
      " 3   CreditScore        10000 non-null  int64  \n",
      " 4   Age                10000 non-null  int64  \n",
      " 5   Tenure             10000 non-null  float64\n",
      " 6   Balance            10000 non-null  float64\n",
      " 7   NumOfProducts      10000 non-null  int64  \n",
      " 8   HasCrCard          10000 non-null  int64  \n",
      " 9   IsActiveMember     10000 non-null  int64  \n",
      " 10  EstimatedSalary    10000 non-null  float64\n",
      " 11  Exited             10000 non-null  int64  \n",
      " 12  Geography_Germany  10000 non-null  uint8  \n",
      " 13  Geography_Spain    10000 non-null  uint8  \n",
      " 14  Gender_Male        10000 non-null  uint8  \n",
      "dtypes: float64(3), int64(8), object(1), uint8(3)\n",
      "memory usage: 966.9+ KB\n"
     ]
    }
   ],
   "source": [
    "df.info()"
   ]
  },
  {
   "cell_type": "markdown",
   "metadata": {},
   "source": [
    "Уберем ненужные данные из таблицы:"
   ]
  },
  {
   "cell_type": "code",
   "execution_count": 247,
   "metadata": {},
   "outputs": [],
   "source": [
    "df = df.drop(['RowNumber', 'CustomerId', 'Surname'], axis=1)"
   ]
  },
  {
   "cell_type": "code",
   "execution_count": 248,
   "metadata": {},
   "outputs": [
    {
     "name": "stdout",
     "output_type": "stream",
     "text": [
      "<class 'pandas.core.frame.DataFrame'>\n",
      "RangeIndex: 10000 entries, 0 to 9999\n",
      "Data columns (total 12 columns):\n",
      " #   Column             Non-Null Count  Dtype  \n",
      "---  ------             --------------  -----  \n",
      " 0   CreditScore        10000 non-null  int64  \n",
      " 1   Age                10000 non-null  int64  \n",
      " 2   Tenure             10000 non-null  float64\n",
      " 3   Balance            10000 non-null  float64\n",
      " 4   NumOfProducts      10000 non-null  int64  \n",
      " 5   HasCrCard          10000 non-null  int64  \n",
      " 6   IsActiveMember     10000 non-null  int64  \n",
      " 7   EstimatedSalary    10000 non-null  float64\n",
      " 8   Exited             10000 non-null  int64  \n",
      " 9   Geography_Germany  10000 non-null  uint8  \n",
      " 10  Geography_Spain    10000 non-null  uint8  \n",
      " 11  Gender_Male        10000 non-null  uint8  \n",
      "dtypes: float64(3), int64(6), uint8(3)\n",
      "memory usage: 732.5 KB\n"
     ]
    }
   ],
   "source": [
    "df.info()"
   ]
  },
  {
   "cell_type": "markdown",
   "metadata": {},
   "source": [
    "pd.get_dummies() преобразует каждую категориальную переменную в набор бинарных (фиктивных) столбцов, представляющих различные категории. Каждая категория становится отдельным столбцом, и в этом столбце устанавливается значение 1, если элемент соответствует данной категории, и 0 в противном случае."
   ]
  },
  {
   "cell_type": "markdown",
   "metadata": {},
   "source": [
    "Проанализированы данные. \n",
    "\n",
    "1) Клиенты живут в трех странах: Франция (50%), Испания (25%), Германия (25%).\n",
    "\n",
    "2) 45% клиентов являются женщинами. 55% мужчинами.\n",
    "\n",
    "3) Клиенты пользуются от 1 до 4-х продуктов. 4-мя продуктами пользуются всего 60 человек. Тремя всего 266. Одним продуктом пользуются 51% (5084). Двумя продуктами - 46% (4590).\n",
    "\n",
    "4) У 71% людей есть кредитная карта (7055).\n",
    "\n",
    "5) Около 48% пользователей не являются активными. Вероятнее всего, в этом и заключается проблема.\n",
    "\n",
    "6) Удалены пропуски в Tenure (сколько лет человек пользуется банком). В среднем от 2 до 7 лет.\n",
    "\n",
    "7) Кредитный рейтинг в среднем от 580 до 710. \n",
    "\n",
    "8) Предполагаемая зарплата варьируется от 50000 до 150000.\n",
    "\n",
    "9) Данные из столбцов гендера и географии преобразованы в числовые."
   ]
  },
  {
   "cell_type": "markdown",
   "metadata": {},
   "source": [
    "В целевом факторе Exited 80% пользователей остались, 20% ушли."
   ]
  },
  {
   "cell_type": "markdown",
   "metadata": {},
   "source": [
    "## Исследование задачи"
   ]
  },
  {
   "cell_type": "code",
   "execution_count": 249,
   "metadata": {},
   "outputs": [
    {
     "data": {
      "text/plain": [
       "(10000, 12)"
      ]
     },
     "metadata": {},
     "output_type": "display_data"
    }
   ],
   "source": [
    "display (df.shape)"
   ]
  },
  {
   "cell_type": "code",
   "execution_count": 250,
   "metadata": {},
   "outputs": [],
   "source": [
    "target = df['Exited']\n",
    "features = df.drop('Exited', axis=1)\n",
    "features_com, features_test, target_com, target_test = train_test_split(\n",
    "    features, target, test_size=0.2, random_state=12345, stratify = target)\n",
    "features_train, features_valid, target_train, target_valid = train_test_split(\n",
    "    features_com, target_com, test_size=0.25, random_state=12345, stratify = target_com)"
   ]
  },
  {
   "cell_type": "code",
   "execution_count": 251,
   "metadata": {},
   "outputs": [
    {
     "data": {
      "text/plain": [
       "(2000,)"
      ]
     },
     "metadata": {},
     "output_type": "display_data"
    },
    {
     "data": {
      "text/plain": [
       "(2000,)"
      ]
     },
     "metadata": {},
     "output_type": "display_data"
    },
    {
     "data": {
      "text/plain": [
       "(6000,)"
      ]
     },
     "metadata": {},
     "output_type": "display_data"
    }
   ],
   "source": [
    "display (target_test.shape)\n",
    "display (target_valid.shape)\n",
    "display (target_train.shape)"
   ]
  },
  {
   "cell_type": "markdown",
   "metadata": {},
   "source": [
    "Масштабирование и стандартизация признаков, пересоздание индексов в целевых переменных для трех наборов данных:"
   ]
  },
  {
   "cell_type": "code",
   "execution_count": 252,
   "metadata": {},
   "outputs": [],
   "source": [
    "pd.options.mode.chained_assignment = None\n",
    "\n",
    "\n",
    "scaler = StandardScaler()\n",
    "scaler.fit(features_train)\n",
    "features_train = pd.DataFrame(scaler.transform(features_train))\n",
    "target_train = target_train.reset_index(drop = True)\n",
    "\n",
    "scaler.fit(features_valid)\n",
    "features_valid = pd.DataFrame(scaler.transform(features_valid))\n",
    "target_valid = target_valid.reset_index(drop = True)\n",
    "\n",
    "scaler.fit(features_test)\n",
    "features_test = pd.DataFrame(scaler.transform(features_test))\n",
    "target_test = target_test.reset_index(drop = True)"
   ]
  },
  {
   "cell_type": "markdown",
   "metadata": {},
   "source": [
    "Дерево решений:"
   ]
  },
  {
   "cell_type": "code",
   "execution_count": 253,
   "metadata": {},
   "outputs": [
    {
     "name": "stdout",
     "output_type": "stream",
     "text": [
      "Лучшие метрики (F1, Precision, Recall) для лучшей модели: (0.5833333333333334, 0.7024221453287197, 0.4987714987714988)\n",
      "Глубина для лучшей модели: 8\n"
     ]
    }
   ],
   "source": [
    "\n",
    "def calculate_metrics(model, features, target):\n",
    "    predicted = model.predict(features)\n",
    "    f1 = f1_score(target, predicted)\n",
    "    precision = precision_score(target, predicted)\n",
    "    recall = recall_score(target, predicted)\n",
    "    return f1, precision, recall\n",
    "\n",
    "best_model = None\n",
    "best_metrics = (0, 0, 0)  \n",
    "best_depth = 0\n",
    "\n",
    "for depth in range(3, 21):\n",
    "    model = DecisionTreeClassifier(random_state=12345, max_depth=depth)\n",
    "    model.fit(features_train, target_train)\n",
    "    f1, precision, recall = calculate_metrics(model, features_valid, target_valid)\n",
    "    \n",
    "    if f1 > best_metrics[0]:\n",
    "        best_model = model\n",
    "        best_metrics = (f1, precision, recall)\n",
    "        best_depth = depth\n",
    "\n",
    "print('Лучшие метрики (F1, Precision, Recall) для лучшей модели:', best_metrics)\n",
    "print('Глубина для лучшей модели:', best_depth)\n"
   ]
  },
  {
   "cell_type": "markdown",
   "metadata": {},
   "source": [
    "Максимальная доля правильных ответов при 0.5833333333333334 и глубине дерева = 8"
   ]
  },
  {
   "cell_type": "markdown",
   "metadata": {},
   "source": [
    "Случайный лес:"
   ]
  },
  {
   "cell_type": "code",
   "execution_count": 256,
   "metadata": {},
   "outputs": [
    {
     "name": "stderr",
     "output_type": "stream",
     "text": [
      "Ищем лучший depth: 100%|██████████| 19/19 [01:07<00:00,  3.55s/it]"
     ]
    },
    {
     "name": "stdout",
     "output_type": "stream",
     "text": [
      "F1 лучшей модели: 0.5938461538461538\n",
      "Глубина для лучшей модели: 13\n",
      "Количество деревьев для лучшей модели: 30\n"
     ]
    },
    {
     "name": "stderr",
     "output_type": "stream",
     "text": [
      "\n"
     ]
    }
   ],
   "source": [
    "best_model = None\n",
    "best_depth = 0\n",
    "best_n_estimators = 0\n",
    "best_result = 0\n",
    "\n",
    "# Перебор двух гиперпараметров: глубины деревьев и количества деревьев\n",
    "for depth in tqdm(range(3, 22), desc=\"Ищем лучший depth\"):\n",
    "    for n_estimators in range(10, 101, 10):\n",
    "        model = RandomForestClassifier(random_state=12345, max_depth=depth, n_estimators=n_estimators) \n",
    "        model.fit(features_train, target_train)\n",
    "        predicted_valid = model.predict(features_valid)\n",
    "        result = f1_score(target_valid, predicted_valid)\n",
    "        \n",
    "        if result > best_result:\n",
    "            best_model = model\n",
    "            best_result = result\n",
    "            best_depth = depth\n",
    "            best_n_estimators = n_estimators\n",
    "\n",
    "print('F1 лучшей модели:', best_result)\n",
    "print('Глубина для лучшей модели:', best_depth)\n",
    "print('Количество деревьев для лучшей модели:', best_n_estimators)"
   ]
  },
  {
   "cell_type": "markdown",
   "metadata": {},
   "source": [
    "Максимальная доля правильных ответов F1 лучшей модели: 0.5938461538461538\n",
    "Глубина для лучшей модели: 13\n",
    "Количество деревьев для лучшей модели: 30"
   ]
  },
  {
   "cell_type": "markdown",
   "metadata": {},
   "source": [
    "Логистическая регрессия "
   ]
  },
  {
   "cell_type": "code",
   "execution_count": 259,
   "metadata": {},
   "outputs": [
    {
     "name": "stdout",
     "output_type": "stream",
     "text": [
      "f1: 0.32462686567164173\n"
     ]
    }
   ],
   "source": [
    "model = LogisticRegression(random_state=12345, solver='lbfgs', max_iter=1000)\n",
    "model.fit(features_train, target_train)\n",
    "predicted_valid = model.predict(features_valid)\n",
    "result = f1_score(target_valid, predicted_valid)\n",
    "\n",
    "print('f1:', result)"
   ]
  },
  {
   "cell_type": "markdown",
   "metadata": {},
   "source": [
    "Максимальная доля правильных ответов при 0.32462686567164173"
   ]
  },
  {
   "cell_type": "markdown",
   "metadata": {},
   "source": [
    "Проведено исследование задачи.\n",
    "\n",
    "Получены три выборки: тестовая, валидационная, обучающая.\n",
    "\n",
    "Произведено масштабирование и стандартизация признаков, пересоздание индексов в целевых переменных для трех наборов данных.\n",
    "\n",
    "Дерево решений показало f1 0.5833333333333334 и глубине дерева = 8.\n",
    "\n",
    "Случайный лес показал F1 лучшей модели: 0.5938461538461538\n",
    "Глубина для лучшей модели: 13\n",
    "Количество деревьев для лучшей модели: 30\n",
    "\n",
    "Хуже всего - логистическая регрессия. f1 логистической регрессии: 0.32462686567164173."
   ]
  },
  {
   "cell_type": "markdown",
   "metadata": {},
   "source": [
    "## Борьба с дисбалансом"
   ]
  },
  {
   "cell_type": "code",
   "execution_count": 260,
   "metadata": {},
   "outputs": [
    {
     "data": {
      "image/png": "[encoded data removed]",
      "text/plain": [
       "<Figure size 648x648 with 1 Axes>"
      ]
     },
     "metadata": {},
     "output_type": "display_data"
    }
   ],
   "source": [
    "df['Exited'].value_counts().plot( kind = 'pie', y = number_subs_geo,figsize=(9,9), autopct = '%1.0f%%',\n",
    "title = 'Процентное соотношение пользователей по факту ухода');"
   ]
  },
  {
   "cell_type": "markdown",
   "metadata": {},
   "source": [
    "Как было проанализировано в первом пункте, 80% пользователей остались, 20% ушли"
   ]
  },
  {
   "cell_type": "markdown",
   "metadata": {},
   "source": [
    "В теме 4 был показан момент с аргументом class_weight, который помогает сделать классы более сбалансированными. Опробуем на логистической регрессии:"
   ]
  },
  {
   "cell_type": "code",
   "execution_count": 261,
   "metadata": {},
   "outputs": [
    {
     "name": "stdout",
     "output_type": "stream",
     "text": [
      "f1: 0.5091225021720243\n"
     ]
    }
   ],
   "source": [
    "model = LogisticRegression(random_state=12345, solver='liblinear',class_weight='balanced', max_iter=1000)\n",
    "model.fit(features_train, target_train)\n",
    "predicted_valid = model.predict(features_valid)\n",
    "result = f1_score(target_valid, predicted_valid)\n",
    "\n",
    "print('f1:', result)"
   ]
  },
  {
   "cell_type": "code",
   "execution_count": 262,
   "metadata": {},
   "outputs": [
    {
     "name": "stderr",
     "output_type": "stream",
     "text": [
      "Ищем лучший depth: 100%|██████████| 19/19 [01:06<00:00,  3.50s/it]"
     ]
    },
    {
     "name": "stdout",
     "output_type": "stream",
     "text": [
      "F1 лучшей модели: 0.638150289017341\n",
      "Глубина для лучшей модели: 9\n",
      "Количество деревьев для лучшей модели: 80\n"
     ]
    },
    {
     "name": "stderr",
     "output_type": "stream",
     "text": [
      "\n"
     ]
    }
   ],
   "source": [
    "best_model = None\n",
    "best_depth = 0\n",
    "best_n_estimators = 0\n",
    "best_result = 0\n",
    "\n",
    "# Перебор двух гиперпараметров: глубины деревьев и количества деревьев\n",
    "for depth in tqdm(range(3, 22), desc=\"Ищем лучший depth\"):\n",
    "    for n_estimators in range(10, 101, 10):\n",
    "        model = RandomForestClassifier(random_state=12345, max_depth=depth, n_estimators=n_estimators, class_weight='balanced') \n",
    "        model.fit(features_train, target_train)\n",
    "        predicted_valid = model.predict(features_valid)\n",
    "        result = f1_score(target_valid, predicted_valid)\n",
    "        \n",
    "        if result > best_result:\n",
    "            best_model = model\n",
    "            best_result = result\n",
    "            best_depth = depth\n",
    "            best_n_estimators = n_estimators\n",
    "\n",
    "print('F1 лучшей модели:', best_result)\n",
    "print('Глубина для лучшей модели:', best_depth)\n",
    "print('Количество деревьев для лучшей модели:', best_n_estimators)"
   ]
  },
  {
   "cell_type": "markdown",
   "metadata": {},
   "source": [
    "Показатель точности ответов увеличился"
   ]
  },
  {
   "cell_type": "markdown",
   "metadata": {},
   "source": [
    "Сделаем увеличение выборки с помощью upsampled как показано в курсе"
   ]
  },
  {
   "cell_type": "code",
   "execution_count": 264,
   "metadata": {},
   "outputs": [
    {
     "name": "stdout",
     "output_type": "stream",
     "text": [
      "Количество объектов положительного класса: 4892\n",
      "Количество объектов отрицательного класса: 4777\n"
     ]
    }
   ],
   "source": [
    "def upsample(features, target, repeat):\n",
    "    features_zeros = features[target == 0]\n",
    "    features_ones = features[target == 1]\n",
    "    target_zeros = target[target == 0]\n",
    "    target_ones = target[target == 1]\n",
    "\n",
    "    features_upsampled = pd.concat([features_zeros] + [features_ones] * repeat)\n",
    "    target_upsampled = pd.concat([target_zeros] + [target_ones] * repeat)\n",
    "    \n",
    "    features_upsampled, target_upsampled = shuffle(\n",
    "        features_upsampled, target_upsampled, random_state=12345)\n",
    "    \n",
    "    return features_upsampled, target_upsampled\n",
    "\n",
    "features_upsampled, target_upsampled = upsample(features_train, target_train, 4)\n",
    "\n",
    "positive_count = target_upsampled.sum()\n",
    "negative_count = len(target_upsampled) - positive_count\n",
    "print(f'Количество объектов положительного класса: {positive_count}')\n",
    "print(f'Количество объектов отрицательного класса: {negative_count}')"
   ]
  },
  {
   "cell_type": "code",
   "execution_count": 265,
   "metadata": {},
   "outputs": [
    {
     "name": "stdout",
     "output_type": "stream",
     "text": [
      "Лучшие метрики (F1, Precision, Recall) для лучшей модели: (0.578096947935368, 0.45544554455445546, 0.7911547911547911)\n",
      "Глубина для лучшей модели: 6\n"
     ]
    }
   ],
   "source": [
    "\n",
    "best_model = None\n",
    "best_metrics = (0, 0, 0)  \n",
    "best_depth = 0\n",
    "\n",
    "for depth in range(1, 21):\n",
    "    model = DecisionTreeClassifier(random_state=12345, max_depth=depth)\n",
    "    model.fit(features_upsampled, target_upsampled)\n",
    "    f1, precision, recall = calculate_metrics(model, features_valid, target_valid)\n",
    "    \n",
    "    if f1 > best_metrics[0]:\n",
    "        best_model = model\n",
    "        best_metrics = (f1, precision, recall)\n",
    "        best_depth = depth\n",
    "\n",
    "print('Лучшие метрики (F1, Precision, Recall) для лучшей модели:', best_metrics)\n",
    "print('Глубина для лучшей модели:', best_depth)"
   ]
  },
  {
   "cell_type": "markdown",
   "metadata": {},
   "source": [
    "Максимальная доля правильных ответов при 0.578096947935368 и глубине дерева = 6"
   ]
  },
  {
   "cell_type": "code",
   "execution_count": 266,
   "metadata": {},
   "outputs": [
    {
     "name": "stderr",
     "output_type": "stream",
     "text": [
      "Ищем лучший depth: 100%|██████████| 19/19 [01:30<00:00,  4.74s/it]"
     ]
    },
    {
     "name": "stdout",
     "output_type": "stream",
     "text": [
      "F1 лучшей модели: 0.6418079096045197\n",
      "Глубина для лучшей модели: 11\n",
      "Количество деревьев для лучшей модели: 90\n"
     ]
    },
    {
     "name": "stderr",
     "output_type": "stream",
     "text": [
      "\n"
     ]
    }
   ],
   "source": [
    "best_model = None\n",
    "best_depth = 0\n",
    "best_n_estimators = 0\n",
    "best_result = 0\n",
    "\n",
    "# Перебор двух гиперпараметров: глубины деревьев и количества деревьев\n",
    "for depth in tqdm(range(3, 22), desc=\"Ищем лучший depth\"):\n",
    "    for n_estimators in range(10, 101, 10):\n",
    "        model = RandomForestClassifier(random_state=12345, max_depth=depth, n_estimators=n_estimators) \n",
    "        model.fit(features_upsampled, target_upsampled)\n",
    "        predicted_valid = model.predict(features_valid)\n",
    "        result = f1_score(target_valid, predicted_valid)\n",
    "        \n",
    "        if result > best_result:\n",
    "            best_model = model\n",
    "            best_result = result\n",
    "            best_depth = depth\n",
    "            best_n_estimators = n_estimators\n",
    "\n",
    "print('F1 лучшей модели:', best_result)\n",
    "print('Глубина для лучшей модели:', best_depth)\n",
    "print('Количество деревьев для лучшей модели:', best_n_estimators)"
   ]
  },
  {
   "cell_type": "markdown",
   "metadata": {},
   "source": [
    "Максимальная доля правильных ответов при F1 лучшей модели: 0.6418079096045197\n",
    "Глубина для лучшей модели: 11\n",
    "Количество деревьев для лучшей модели: 90"
   ]
  },
  {
   "cell_type": "code",
   "execution_count": 267,
   "metadata": {},
   "outputs": [
    {
     "name": "stdout",
     "output_type": "stream",
     "text": [
      "f1: 0.5086206896551725\n"
     ]
    }
   ],
   "source": [
    "model = LogisticRegression(random_state=12345, solver='lbfgs', max_iter=1000)\n",
    "model.fit(features_upsampled, target_upsampled)\n",
    "predicted_valid = model.predict(features_valid)\n",
    "result = f1_score(target_valid, predicted_valid)\n",
    "\n",
    "print('f1:', result)"
   ]
  },
  {
   "cell_type": "markdown",
   "metadata": {},
   "source": [
    "Максимальная доля правильных ответов при 0.5086206896551725. "
   ]
  },
  {
   "cell_type": "markdown",
   "metadata": {},
   "source": [
    "При upsampled лучше всего оказалась модель RandomForestClassifier с показателем 0.6063100137174211."
   ]
  },
  {
   "cell_type": "markdown",
   "metadata": {},
   "source": [
    "Сделаем уменьшение выборки с помощью downsample как показано в курсе"
   ]
  },
  {
   "cell_type": "code",
   "execution_count": 268,
   "metadata": {},
   "outputs": [
    {
     "name": "stdout",
     "output_type": "stream",
     "text": [
      "Количество объектов положительного класса: 1223\n",
      "Количество объектов отрицательного класса: 1194\n"
     ]
    }
   ],
   "source": [
    "def downsample(features, target, fraction):\n",
    "    features_zeros = features[target == 0]\n",
    "    features_ones = features[target == 1]\n",
    "    target_zeros = target[target == 0]\n",
    "    target_ones = target[target == 1]\n",
    "\n",
    "    features_downsampled = pd.concat(\n",
    "        [features_zeros.sample(frac=fraction, random_state=12345)] + [features_ones])\n",
    "    target_downsampled = pd.concat(\n",
    "        [target_zeros.sample(frac=fraction, random_state=12345)] + [target_ones])\n",
    "\n",
    "    features_downsampled, target_downsampled = shuffle(\n",
    "        features_downsampled, target_downsampled, random_state=12345)\n",
    "\n",
    "    return features_downsampled, target_downsampled\n",
    "\n",
    "features_downsampled, target_downsampled = downsample(features_train, target_train, 0.25)\n",
    "\n",
    "positive_count = target_downsampled.sum()\n",
    "negative_count = len(target_downsampled) - positive_count\n",
    "print(f'Количество объектов положительного класса: {positive_count}')\n",
    "print(f'Количество объектов отрицательного класса: {negative_count}')"
   ]
  },
  {
   "cell_type": "code",
   "execution_count": 269,
   "metadata": {},
   "outputs": [
    {
     "name": "stdout",
     "output_type": "stream",
     "text": [
      "Лучшие метрики (F1, Precision, Recall) для лучшей модели: (0.5955734406438632, 0.504258943781942, 0.7272727272727273)\n",
      "Глубина для лучшей модели: 6\n"
     ]
    }
   ],
   "source": [
    "\n",
    "best_model = None\n",
    "best_metrics = (0, 0, 0)  \n",
    "best_depth = 0\n",
    "\n",
    "for depth in range(3, 21):\n",
    "    model = DecisionTreeClassifier(random_state=12345, max_depth=depth)\n",
    "    model.fit(features_downsampled, target_downsampled)\n",
    "    f1, precision, recall = calculate_metrics(model, features_valid, target_valid)\n",
    "    \n",
    "    if f1 > best_metrics[0]:\n",
    "        best_model = model\n",
    "        best_metrics = (f1, precision, recall)\n",
    "        best_depth = depth\n",
    "\n",
    "print('Лучшие метрики (F1, Precision, Recall) для лучшей модели:', best_metrics)\n",
    "print('Глубина для лучшей модели:', best_depth)"
   ]
  },
  {
   "cell_type": "markdown",
   "metadata": {},
   "source": [
    "Максимальная доля правильных ответов при 0.5955734406438632 и глубине дерева = 6"
   ]
  },
  {
   "cell_type": "code",
   "execution_count": 270,
   "metadata": {},
   "outputs": [
    {
     "name": "stderr",
     "output_type": "stream",
     "text": [
      "Ищем лучший depth: 100%|██████████| 19/19 [00:36<00:00,  1.93s/it]"
     ]
    },
    {
     "name": "stdout",
     "output_type": "stream",
     "text": [
      "F1 лучшей модели: 0.6187192118226602\n",
      "Глубина для лучшей модели: 7\n",
      "Количество деревьев для лучшей модели: 100\n"
     ]
    },
    {
     "name": "stderr",
     "output_type": "stream",
     "text": [
      "\n"
     ]
    }
   ],
   "source": [
    "best_model = None\n",
    "best_depth = 0\n",
    "best_n_estimators = 0\n",
    "best_result = 0\n",
    "\n",
    "# Перебор двух гиперпараметров: глубины деревьев и количества деревьев\n",
    "for depth in tqdm(range(3, 22), desc=\"Ищем лучший depth\"):\n",
    "    for n_estimators in range(10, 101, 10):\n",
    "        model = RandomForestClassifier(random_state=12345, max_depth=depth, n_estimators=n_estimators) \n",
    "        model.fit(features_downsampled, target_downsampled)\n",
    "        predicted_valid = model.predict(features_valid)\n",
    "        result = f1_score(target_valid, predicted_valid)\n",
    "        \n",
    "        if result > best_result:\n",
    "            best_model = model\n",
    "            best_result = result\n",
    "            best_depth = depth\n",
    "            best_n_estimators = n_estimators\n",
    "\n",
    "print('F1 лучшей модели:', best_result)\n",
    "print('Глубина для лучшей модели:', best_depth)\n",
    "print('Количество деревьев для лучшей модели:', best_n_estimators)"
   ]
  },
  {
   "cell_type": "markdown",
   "metadata": {},
   "source": [
    "Максимальная доля правильных ответов F1 лучшей модели: 0.6187192118226602\n",
    "Глубина для лучшей модели: 7\n",
    "Количество деревьев для лучшей модели: 100"
   ]
  },
  {
   "cell_type": "code",
   "execution_count": 271,
   "metadata": {},
   "outputs": [
    {
     "name": "stdout",
     "output_type": "stream",
     "text": [
      "f1: 0.5043029259896729\n"
     ]
    }
   ],
   "source": [
    "model = LogisticRegression(random_state=12345, solver='lbfgs', max_iter=1000)\n",
    "model.fit(features_downsampled, target_downsampled)\n",
    "predicted_valid = model.predict(features_valid)\n",
    "result = f1_score(target_valid, predicted_valid)\n",
    "\n",
    "print('f1:', result)"
   ]
  },
  {
   "cell_type": "markdown",
   "metadata": {},
   "source": [
    "Максимальная доля правильных ответов при 0.5043029259896729. Данные со взвешиванием практически равны, значит frac определен верно."
   ]
  },
  {
   "cell_type": "markdown",
   "metadata": {},
   "source": [
    "Проведена работа с дисбалансом. Проведено увеличение (4) и уменьшение выборки (0.25). Учитывая, что количество оставшихся - 80%, а ушедших - 20%, это верно.\n",
    "\n",
    "Сделаны функции для downsampled и upsampled.\n",
    "\n",
    "Проанализирован результат дерева решений, случайного леса и логистической регрессии."
   ]
  },
  {
   "cell_type": "markdown",
   "metadata": {},
   "source": [
    "Самой лучшей моделью является случайный лес. Параметры лучшей модели: F1 лучшей модели: 0.6418079096045197 Глубина для лучшей модели: 11 Количество деревьев для лучшей модели: 90"
   ]
  },
  {
   "cell_type": "markdown",
   "metadata": {},
   "source": [
    "## Тестирование модели"
   ]
  },
  {
   "cell_type": "code",
   "execution_count": 273,
   "metadata": {},
   "outputs": [
    {
     "name": "stdout",
     "output_type": "stream",
     "text": [
      "f1: 0.6198439241917504\n"
     ]
    }
   ],
   "source": [
    "model = RandomForestClassifier(random_state=12345, n_estimators=90, max_depth=11) \n",
    "model.fit(features_upsampled, target_upsampled)\n",
    "predicted = model.predict(features_test)\n",
    "result = f1_score(target_test, predicted)\n",
    "print('f1:', result)"
   ]
  },
  {
   "cell_type": "markdown",
   "metadata": {},
   "source": [
    "Удалось достичь f1-меры 0.6198439241917504"
   ]
  },
  {
   "cell_type": "markdown",
   "metadata": {},
   "source": [
    "Чтобы понять, как сильно модель отличается от случайной, необходимо посчитать площадь под roc-кривой, auc-roc случайной модели равна 0.5."
   ]
  },
  {
   "cell_type": "code",
   "execution_count": 274,
   "metadata": {},
   "outputs": [
    {
     "data": {
      "text/plain": [
       "0.8636880331795586"
      ]
     },
     "execution_count": 274,
     "metadata": {},
     "output_type": "execute_result"
    }
   ],
   "source": [
    "probabilities_test = model.predict_proba(features_test)\n",
    "probabilities_one_test = probabilities_test[:, 1]\n",
    "auc_roc = roc_auc_score(target_test, probabilities_one_test)\n",
    "auc_roc"
   ]
  },
  {
   "cell_type": "markdown",
   "metadata": {},
   "source": [
    "Значение 0.8636880331795586 близко к 1, что означает, что модель имеет хорошую способность разделять классы и делать верные прогнозы. Чем ближе значение AUC-ROC к 1, тем лучше модель."
   ]
  },
  {
   "cell_type": "code",
   "execution_count": 275,
   "metadata": {},
   "outputs": [
    {
     "data": {
      "image/png": "[encoded data removed]",
      "text/plain": [
       "<Figure size 576x432 with 1 Axes>"
      ]
     },
     "metadata": {
      "needs_background": "light"
     },
     "output_type": "display_data"
    }
   ],
   "source": [
    "fpr, tpr, thresholds = roc_curve(target_test, probabilities_one_test)\n",
    "roc_auc = auc(fpr, tpr)\n",
    "\n",
    "plt.figure(figsize=(8, 6))\n",
    "plt.plot(fpr, tpr, color='darkorange', lw=2, label=f'ROC-кривая (площадь = {roc_auc:.2f})')\n",
    "plt.plot([0, 1], [0, 1], color='navy', lw=2, linestyle='--')\n",
    "plt.xlim([0.0, 1.0])\n",
    "plt.ylim([0.0, 1.05])\n",
    "plt.xlabel('Ложно-положительная ошибка')\n",
    "plt.ylabel('Истинно-положительная ошибка')\n",
    "plt.title('Характеристика работы классификатора (ROC)')\n",
    "plt.legend(loc='lower right')\n",
    "plt.show()"
   ]
  },
  {
   "cell_type": "markdown",
   "metadata": {},
   "source": [
    "## Вывод"
   ]
  },
  {
   "cell_type": "markdown",
   "metadata": {},
   "source": [
    "\n",
    "\n",
    "Была загружена и изучена статистика клиентов \"Бета-Банка\". \n",
    "\n",
    "В первом пункте были подготовлены и изучены данные, включая их равномерность и значимость. Были удалены ненужные данные и переформатированы нужные.\n",
    "\n",
    "Во втором пункте были подготовлены три выборки, также произведено масштабирование признаков, использованы дерево решений, случайный лес и регрессия. \n",
    "\n",
    "В третьем пункте были сбалансированы классы. Были написаны функции upsampled и downsampled. был проанализирован результат дерева решений, случайного леса и логистической регрессии. \n",
    "\n",
    "Лучшей моделью стал случайный лес с количеством деревьев = 90, глубина = 1.\n",
    "\n",
    "Затем была протестирована модель с подобранными параметрами. В итоге удалось достичь f1: 0.6198439241917504. AUC-ROC при этом составил 0.8636880331795586."
   ]
  },
  {
   "cell_type": "markdown",
   "metadata": {},
   "source": [
    "Цель: спрогнозировать, уйдёт ли клиент из банка в ближайшее время. Для этого необходимо построить модель с предельно большим значением F1-меры, метрику необходимо довести до 0.59. Достигнута."
   ]
  },
  {
   "cell_type": "markdown",
   "metadata": {},
   "source": [
    "Все недочеты исправлены, прошу максимально быстро дать ответ по принятию или необходимости доработки проекта. Все необходимые параметры в соответствии с чек-листом и задачами выполнены. "
   ]
  }
 ],
 "metadata": {
  "ExecuteTimeLog": [
   {
    "duration": 1763,
    "start_time": "2023-11-02T11:27:42.894Z"
   },
   {
    "duration": 103,
    "start_time": "2023-11-02T11:27:44.660Z"
   },
   {
    "duration": 16,
    "start_time": "2023-11-02T11:27:44.765Z"
   },
   {
    "duration": 21,
    "start_time": "2023-11-02T11:27:44.832Z"
   },
   {
    "duration": 6,
    "start_time": "2023-11-02T11:30:55.815Z"
   },
   {
    "duration": 6,
    "start_time": "2023-11-02T11:31:06.447Z"
   },
   {
    "duration": 5,
    "start_time": "2023-11-02T11:31:26.173Z"
   },
   {
    "duration": 5,
    "start_time": "2023-11-02T11:31:36.413Z"
   },
   {
    "duration": 5,
    "start_time": "2023-11-02T11:32:01.183Z"
   },
   {
    "duration": 120,
    "start_time": "2023-11-02T11:33:21.760Z"
   },
   {
    "duration": 12,
    "start_time": "2023-11-02T11:34:00.826Z"
   },
   {
    "duration": 4,
    "start_time": "2023-11-02T11:34:06.463Z"
   },
   {
    "duration": 43,
    "start_time": "2023-11-02T11:34:06.961Z"
   },
   {
    "duration": 13,
    "start_time": "2023-11-02T11:34:07.007Z"
   },
   {
    "duration": 23,
    "start_time": "2023-11-02T11:34:07.022Z"
   },
   {
    "duration": 5,
    "start_time": "2023-11-02T11:34:07.221Z"
   },
   {
    "duration": 13,
    "start_time": "2023-11-02T11:34:08.091Z"
   },
   {
    "duration": 5,
    "start_time": "2023-11-02T11:34:53.796Z"
   },
   {
    "duration": 6,
    "start_time": "2023-11-02T11:35:05.270Z"
   },
   {
    "duration": 0,
    "start_time": "2023-11-02T11:35:30.543Z"
   },
   {
    "duration": 0,
    "start_time": "2023-11-02T11:35:30.544Z"
   },
   {
    "duration": 0,
    "start_time": "2023-11-02T11:35:30.545Z"
   },
   {
    "duration": 0,
    "start_time": "2023-11-02T11:35:30.546Z"
   },
   {
    "duration": 0,
    "start_time": "2023-11-02T11:35:30.548Z"
   },
   {
    "duration": 0,
    "start_time": "2023-11-02T11:35:30.549Z"
   },
   {
    "duration": 0,
    "start_time": "2023-11-02T11:35:30.550Z"
   },
   {
    "duration": 0,
    "start_time": "2023-11-02T11:35:30.551Z"
   },
   {
    "duration": 0,
    "start_time": "2023-11-02T11:35:30.552Z"
   },
   {
    "duration": 5,
    "start_time": "2023-11-02T11:35:30.749Z"
   },
   {
    "duration": 3,
    "start_time": "2023-11-02T11:35:54.229Z"
   },
   {
    "duration": 41,
    "start_time": "2023-11-02T11:35:54.995Z"
   },
   {
    "duration": 12,
    "start_time": "2023-11-02T11:35:55.490Z"
   },
   {
    "duration": 15,
    "start_time": "2023-11-02T11:35:55.907Z"
   },
   {
    "duration": 5,
    "start_time": "2023-11-02T11:35:56.411Z"
   },
   {
    "duration": 6,
    "start_time": "2023-11-02T11:35:56.972Z"
   },
   {
    "duration": 155,
    "start_time": "2023-11-02T11:35:57.388Z"
   },
   {
    "duration": 5,
    "start_time": "2023-11-02T11:35:57.981Z"
   },
   {
    "duration": 5,
    "start_time": "2023-11-02T11:35:58.810Z"
   },
   {
    "duration": 4,
    "start_time": "2023-11-02T11:37:21.951Z"
   },
   {
    "duration": 132,
    "start_time": "2023-11-02T11:37:53.547Z"
   },
   {
    "duration": 126,
    "start_time": "2023-11-02T11:38:20.492Z"
   },
   {
    "duration": 5,
    "start_time": "2023-11-02T11:39:00.956Z"
   },
   {
    "duration": 202,
    "start_time": "2023-11-02T11:39:32.018Z"
   },
   {
    "duration": 4,
    "start_time": "2023-11-02T11:40:45.093Z"
   },
   {
    "duration": 115,
    "start_time": "2023-11-02T11:41:15.054Z"
   },
   {
    "duration": 1495,
    "start_time": "2023-11-02T11:45:31.823Z"
   },
   {
    "duration": 15,
    "start_time": "2023-11-02T11:46:48.680Z"
   },
   {
    "duration": 11,
    "start_time": "2023-11-02T11:46:52.602Z"
   },
   {
    "duration": 5,
    "start_time": "2023-11-02T11:46:58.750Z"
   },
   {
    "duration": 10,
    "start_time": "2023-11-02T11:47:06.141Z"
   },
   {
    "duration": 14,
    "start_time": "2023-11-02T11:47:09.212Z"
   },
   {
    "duration": 5,
    "start_time": "2023-11-02T11:47:20.644Z"
   },
   {
    "duration": 102,
    "start_time": "2023-11-02T11:48:08.655Z"
   },
   {
    "duration": 7,
    "start_time": "2023-11-02T11:49:02.529Z"
   },
   {
    "duration": 87,
    "start_time": "2023-11-02T11:49:20.403Z"
   },
   {
    "duration": 112,
    "start_time": "2023-11-02T11:50:01.757Z"
   },
   {
    "duration": 5,
    "start_time": "2023-11-02T11:58:03.799Z"
   },
   {
    "duration": 13,
    "start_time": "2023-11-02T12:06:32.175Z"
   },
   {
    "duration": 9,
    "start_time": "2023-11-02T12:06:33.199Z"
   },
   {
    "duration": 11,
    "start_time": "2023-11-02T12:06:40.693Z"
   },
   {
    "duration": 12,
    "start_time": "2023-11-02T12:06:47.544Z"
   },
   {
    "duration": 17,
    "start_time": "2023-11-02T12:06:50.916Z"
   },
   {
    "duration": 16,
    "start_time": "2023-11-02T12:06:51.261Z"
   },
   {
    "duration": 3,
    "start_time": "2023-11-02T12:07:23.229Z"
   },
   {
    "duration": 40,
    "start_time": "2023-11-02T12:07:23.399Z"
   },
   {
    "duration": 12,
    "start_time": "2023-11-02T12:07:23.550Z"
   },
   {
    "duration": 16,
    "start_time": "2023-11-02T12:07:23.698Z"
   },
   {
    "duration": 5,
    "start_time": "2023-11-02T12:07:23.839Z"
   },
   {
    "duration": 5,
    "start_time": "2023-11-02T12:07:23.993Z"
   },
   {
    "duration": 231,
    "start_time": "2023-11-02T12:07:24.147Z"
   },
   {
    "duration": 5,
    "start_time": "2023-11-02T12:07:24.379Z"
   },
   {
    "duration": 5,
    "start_time": "2023-11-02T12:07:24.465Z"
   },
   {
    "duration": 141,
    "start_time": "2023-11-02T12:07:24.631Z"
   },
   {
    "duration": 5,
    "start_time": "2023-11-02T12:07:24.803Z"
   },
   {
    "duration": 4,
    "start_time": "2023-11-02T12:07:24.951Z"
   },
   {
    "duration": 119,
    "start_time": "2023-11-02T12:07:25.101Z"
   },
   {
    "duration": 5,
    "start_time": "2023-11-02T12:07:25.266Z"
   },
   {
    "duration": 92,
    "start_time": "2023-11-02T12:07:25.428Z"
   },
   {
    "duration": 196,
    "start_time": "2023-11-02T12:07:25.595Z"
   },
   {
    "duration": 1399,
    "start_time": "2023-11-02T12:07:25.910Z"
   },
   {
    "duration": 5,
    "start_time": "2023-11-02T12:07:27.311Z"
   },
   {
    "duration": 25,
    "start_time": "2023-11-02T12:07:27.318Z"
   },
   {
    "duration": 9,
    "start_time": "2023-11-02T12:07:27.345Z"
   },
   {
    "duration": 101,
    "start_time": "2023-11-02T12:07:27.356Z"
   },
   {
    "duration": 206,
    "start_time": "2023-11-02T12:07:27.458Z"
   },
   {
    "duration": 112,
    "start_time": "2023-11-02T12:07:27.666Z"
   },
   {
    "duration": 24,
    "start_time": "2023-11-02T12:07:27.780Z"
   },
   {
    "duration": 9,
    "start_time": "2023-11-02T12:07:27.805Z"
   },
   {
    "duration": 11,
    "start_time": "2023-11-02T12:07:27.816Z"
   },
   {
    "duration": 1752,
    "start_time": "2023-11-02T12:08:55.605Z"
   },
   {
    "duration": 4,
    "start_time": "2023-11-02T12:09:02.479Z"
   },
   {
    "duration": 40,
    "start_time": "2023-11-02T12:09:02.853Z"
   },
   {
    "duration": 13,
    "start_time": "2023-11-02T12:09:03.033Z"
   },
   {
    "duration": 17,
    "start_time": "2023-11-02T12:09:03.206Z"
   },
   {
    "duration": 6,
    "start_time": "2023-11-02T12:09:03.362Z"
   },
   {
    "duration": 6,
    "start_time": "2023-11-02T12:09:03.530Z"
   },
   {
    "duration": 120,
    "start_time": "2023-11-02T12:09:03.763Z"
   },
   {
    "duration": 5,
    "start_time": "2023-11-02T12:09:06.182Z"
   },
   {
    "duration": 6,
    "start_time": "2023-11-02T12:09:28.479Z"
   },
   {
    "duration": 102,
    "start_time": "2023-11-02T12:09:53.931Z"
   },
   {
    "duration": 4,
    "start_time": "2023-11-02T12:10:44.780Z"
   },
   {
    "duration": 41,
    "start_time": "2023-11-02T12:10:45.118Z"
   },
   {
    "duration": 13,
    "start_time": "2023-11-02T12:10:45.306Z"
   },
   {
    "duration": 17,
    "start_time": "2023-11-02T12:10:45.478Z"
   },
   {
    "duration": 5,
    "start_time": "2023-11-02T12:10:45.650Z"
   },
   {
    "duration": 7,
    "start_time": "2023-11-02T12:10:45.868Z"
   },
   {
    "duration": 116,
    "start_time": "2023-11-02T12:10:46.107Z"
   },
   {
    "duration": 5,
    "start_time": "2023-11-02T12:10:46.370Z"
   },
   {
    "duration": 6,
    "start_time": "2023-11-02T12:10:46.799Z"
   },
   {
    "duration": 105,
    "start_time": "2023-11-02T12:10:46.972Z"
   },
   {
    "duration": 5,
    "start_time": "2023-11-02T12:10:47.175Z"
   },
   {
    "duration": 4,
    "start_time": "2023-11-02T12:10:47.391Z"
   },
   {
    "duration": 122,
    "start_time": "2023-11-02T12:10:47.611Z"
   },
   {
    "duration": 4,
    "start_time": "2023-11-02T12:10:47.809Z"
   },
   {
    "duration": 5,
    "start_time": "2023-11-02T12:10:48.029Z"
   },
   {
    "duration": 113,
    "start_time": "2023-11-02T12:10:48.214Z"
   },
   {
    "duration": 4,
    "start_time": "2023-11-02T12:10:48.410Z"
   },
   {
    "duration": 4,
    "start_time": "2023-11-02T12:10:48.579Z"
   },
   {
    "duration": 108,
    "start_time": "2023-11-02T12:10:48.767Z"
   },
   {
    "duration": 1437,
    "start_time": "2023-11-02T12:10:49.314Z"
   },
   {
    "duration": 5,
    "start_time": "2023-11-02T12:10:50.753Z"
   },
   {
    "duration": 19,
    "start_time": "2023-11-02T12:10:54.785Z"
   },
   {
    "duration": 5,
    "start_time": "2023-11-02T12:10:55.167Z"
   },
   {
    "duration": 88,
    "start_time": "2023-11-02T12:10:55.407Z"
   },
   {
    "duration": 88,
    "start_time": "2023-11-02T12:10:55.693Z"
   },
   {
    "duration": 110,
    "start_time": "2023-11-02T12:10:55.882Z"
   },
   {
    "duration": 13,
    "start_time": "2023-11-02T12:10:56.113Z"
   },
   {
    "duration": 10,
    "start_time": "2023-11-02T12:10:56.303Z"
   },
   {
    "duration": 14,
    "start_time": "2023-11-02T12:10:57.678Z"
   },
   {
    "duration": 3,
    "start_time": "2023-11-02T12:11:03.348Z"
   },
   {
    "duration": 38,
    "start_time": "2023-11-02T12:11:03.517Z"
   },
   {
    "duration": 15,
    "start_time": "2023-11-02T12:11:03.676Z"
   },
   {
    "duration": 58,
    "start_time": "2023-11-02T12:11:03.842Z"
   },
   {
    "duration": 5,
    "start_time": "2023-11-02T12:11:03.997Z"
   },
   {
    "duration": 6,
    "start_time": "2023-11-02T12:11:04.145Z"
   },
   {
    "duration": 118,
    "start_time": "2023-11-02T12:11:04.309Z"
   },
   {
    "duration": 6,
    "start_time": "2023-11-02T12:11:04.459Z"
   },
   {
    "duration": 7,
    "start_time": "2023-11-02T12:11:04.614Z"
   },
   {
    "duration": 109,
    "start_time": "2023-11-02T12:11:04.792Z"
   },
   {
    "duration": 5,
    "start_time": "2023-11-02T12:11:04.961Z"
   },
   {
    "duration": 5,
    "start_time": "2023-11-02T12:11:05.130Z"
   },
   {
    "duration": 125,
    "start_time": "2023-11-02T12:11:05.305Z"
   },
   {
    "duration": 5,
    "start_time": "2023-11-02T12:11:05.467Z"
   },
   {
    "duration": 5,
    "start_time": "2023-11-02T12:11:05.637Z"
   },
   {
    "duration": 108,
    "start_time": "2023-11-02T12:11:05.817Z"
   },
   {
    "duration": 5,
    "start_time": "2023-11-02T12:11:05.984Z"
   },
   {
    "duration": 4,
    "start_time": "2023-11-02T12:11:06.170Z"
   },
   {
    "duration": 111,
    "start_time": "2023-11-02T12:11:06.342Z"
   },
   {
    "duration": 1567,
    "start_time": "2023-11-02T12:11:06.694Z"
   },
   {
    "duration": 5,
    "start_time": "2023-11-02T12:11:08.263Z"
   },
   {
    "duration": 27,
    "start_time": "2023-11-02T12:11:08.270Z"
   },
   {
    "duration": 16,
    "start_time": "2023-11-02T12:11:08.326Z"
   },
   {
    "duration": 106,
    "start_time": "2023-11-02T12:11:08.522Z"
   },
   {
    "duration": 98,
    "start_time": "2023-11-02T12:11:08.742Z"
   },
   {
    "duration": 128,
    "start_time": "2023-11-02T12:11:08.950Z"
   },
   {
    "duration": 13,
    "start_time": "2023-11-02T12:11:09.123Z"
   },
   {
    "duration": 10,
    "start_time": "2023-11-02T12:11:09.310Z"
   },
   {
    "duration": 13,
    "start_time": "2023-11-02T12:11:09.506Z"
   },
   {
    "duration": 3,
    "start_time": "2023-11-02T12:12:36.521Z"
   },
   {
    "duration": 5,
    "start_time": "2023-11-02T12:12:57.922Z"
   },
   {
    "duration": 8,
    "start_time": "2023-11-02T12:14:23.660Z"
   },
   {
    "duration": 10,
    "start_time": "2023-11-02T12:14:50.407Z"
   },
   {
    "duration": 9,
    "start_time": "2023-11-02T12:15:19.601Z"
   },
   {
    "duration": 8,
    "start_time": "2023-11-02T12:15:34.412Z"
   },
   {
    "duration": 10,
    "start_time": "2023-11-02T12:23:25.680Z"
   },
   {
    "duration": 3,
    "start_time": "2023-11-02T12:24:05.045Z"
   },
   {
    "duration": 41,
    "start_time": "2023-11-02T12:24:05.518Z"
   },
   {
    "duration": 104,
    "start_time": "2023-11-02T12:24:05.680Z"
   },
   {
    "duration": 15,
    "start_time": "2023-11-02T12:24:05.889Z"
   },
   {
    "duration": 28,
    "start_time": "2023-11-02T12:24:06.036Z"
   },
   {
    "duration": 80,
    "start_time": "2023-11-02T12:24:06.210Z"
   },
   {
    "duration": 162,
    "start_time": "2023-11-02T12:24:06.376Z"
   },
   {
    "duration": 33,
    "start_time": "2023-11-02T12:24:06.554Z"
   },
   {
    "duration": 115,
    "start_time": "2023-11-02T12:24:06.712Z"
   },
   {
    "duration": 105,
    "start_time": "2023-11-02T12:24:06.879Z"
   },
   {
    "duration": 127,
    "start_time": "2023-11-02T12:24:07.015Z"
   },
   {
    "duration": 156,
    "start_time": "2023-11-02T12:24:07.184Z"
   },
   {
    "duration": 121,
    "start_time": "2023-11-02T12:24:07.469Z"
   },
   {
    "duration": 4,
    "start_time": "2023-11-02T12:24:07.647Z"
   },
   {
    "duration": 4,
    "start_time": "2023-11-02T12:24:07.815Z"
   },
   {
    "duration": 107,
    "start_time": "2023-11-02T12:24:07.983Z"
   },
   {
    "duration": 6,
    "start_time": "2023-11-02T12:24:08.711Z"
   },
   {
    "duration": 5,
    "start_time": "2023-11-02T12:24:09.171Z"
   },
   {
    "duration": 104,
    "start_time": "2023-11-02T12:24:09.710Z"
   },
   {
    "duration": 1522,
    "start_time": "2023-11-02T12:24:10.260Z"
   },
   {
    "duration": 5,
    "start_time": "2023-11-02T12:24:12.464Z"
   },
   {
    "duration": 13,
    "start_time": "2023-11-02T12:24:12.821Z"
   },
   {
    "duration": 5,
    "start_time": "2023-11-02T12:24:12.999Z"
   },
   {
    "duration": 90,
    "start_time": "2023-11-02T12:24:13.154Z"
   },
   {
    "duration": 83,
    "start_time": "2023-11-02T12:24:13.322Z"
   },
   {
    "duration": 100,
    "start_time": "2023-11-02T12:24:13.472Z"
   },
   {
    "duration": 11,
    "start_time": "2023-11-02T12:24:13.634Z"
   },
   {
    "duration": 9,
    "start_time": "2023-11-02T12:24:13.787Z"
   },
   {
    "duration": 12,
    "start_time": "2023-11-02T12:24:13.948Z"
   },
   {
    "duration": 5,
    "start_time": "2023-11-02T12:24:14.622Z"
   },
   {
    "duration": 5,
    "start_time": "2023-11-02T12:24:14.820Z"
   },
   {
    "duration": 8,
    "start_time": "2023-11-02T12:24:15.224Z"
   },
   {
    "duration": 9,
    "start_time": "2023-11-02T12:24:15.536Z"
   },
   {
    "duration": 7,
    "start_time": "2023-11-02T12:24:15.751Z"
   },
   {
    "duration": 9,
    "start_time": "2023-11-02T12:24:16.078Z"
   },
   {
    "duration": 20,
    "start_time": "2023-11-02T12:24:16.495Z"
   },
   {
    "duration": 13,
    "start_time": "2023-11-02T12:27:46.528Z"
   },
   {
    "duration": 5,
    "start_time": "2023-11-02T12:27:50.678Z"
   },
   {
    "duration": 12,
    "start_time": "2023-11-02T12:27:51.064Z"
   },
   {
    "duration": 3,
    "start_time": "2023-11-02T12:27:54.364Z"
   },
   {
    "duration": 5,
    "start_time": "2023-11-02T12:27:54.706Z"
   },
   {
    "duration": 8,
    "start_time": "2023-11-02T12:27:54.913Z"
   },
   {
    "duration": 7,
    "start_time": "2023-11-02T12:27:55.303Z"
   },
   {
    "duration": 8,
    "start_time": "2023-11-02T12:27:55.729Z"
   },
   {
    "duration": 8,
    "start_time": "2023-11-02T12:27:56.048Z"
   },
   {
    "duration": 14,
    "start_time": "2023-11-02T12:27:57.987Z"
   },
   {
    "duration": 3,
    "start_time": "2023-11-02T12:30:22.671Z"
   },
   {
    "duration": 7,
    "start_time": "2023-11-02T12:30:23.108Z"
   },
   {
    "duration": 5,
    "start_time": "2023-11-02T12:30:23.762Z"
   },
   {
    "duration": 7,
    "start_time": "2023-11-02T12:30:28.861Z"
   },
   {
    "duration": 7,
    "start_time": "2023-11-02T12:33:49.089Z"
   },
   {
    "duration": 5,
    "start_time": "2023-11-02T12:33:49.400Z"
   },
   {
    "duration": 10,
    "start_time": "2023-11-02T12:33:49.750Z"
   },
   {
    "duration": 9,
    "start_time": "2023-11-02T12:33:55.193Z"
   },
   {
    "duration": 13,
    "start_time": "2023-11-02T12:33:55.533Z"
   },
   {
    "duration": 5,
    "start_time": "2023-11-02T12:34:03.833Z"
   },
   {
    "duration": 4,
    "start_time": "2023-11-02T12:34:06.634Z"
   },
   {
    "duration": 8,
    "start_time": "2023-11-02T12:34:06.929Z"
   },
   {
    "duration": 13,
    "start_time": "2023-11-02T12:34:42.829Z"
   },
   {
    "duration": 4,
    "start_time": "2023-11-02T12:34:49.802Z"
   },
   {
    "duration": 19,
    "start_time": "2023-11-02T12:34:50.694Z"
   },
   {
    "duration": 4,
    "start_time": "2023-11-02T12:36:29.046Z"
   },
   {
    "duration": 44,
    "start_time": "2023-11-02T12:36:29.217Z"
   },
   {
    "duration": 12,
    "start_time": "2023-11-02T12:36:29.374Z"
   },
   {
    "duration": 18,
    "start_time": "2023-11-02T12:36:29.541Z"
   },
   {
    "duration": 6,
    "start_time": "2023-11-02T12:36:29.715Z"
   },
   {
    "duration": 6,
    "start_time": "2023-11-02T12:36:29.878Z"
   },
   {
    "duration": 130,
    "start_time": "2023-11-02T12:36:30.046Z"
   },
   {
    "duration": 5,
    "start_time": "2023-11-02T12:36:30.213Z"
   },
   {
    "duration": 6,
    "start_time": "2023-11-02T12:36:30.379Z"
   },
   {
    "duration": 114,
    "start_time": "2023-11-02T12:36:30.531Z"
   },
   {
    "duration": 6,
    "start_time": "2023-11-02T12:36:30.705Z"
   },
   {
    "duration": 27,
    "start_time": "2023-11-02T12:36:30.874Z"
   },
   {
    "duration": 130,
    "start_time": "2023-11-02T12:36:31.047Z"
   },
   {
    "duration": 51,
    "start_time": "2023-11-02T12:36:31.218Z"
   },
   {
    "duration": 5,
    "start_time": "2023-11-02T12:36:31.410Z"
   },
   {
    "duration": 241,
    "start_time": "2023-11-02T12:36:31.590Z"
   },
   {
    "duration": 4,
    "start_time": "2023-11-02T12:36:31.833Z"
   },
   {
    "duration": 6,
    "start_time": "2023-11-02T12:36:31.939Z"
   },
   {
    "duration": 128,
    "start_time": "2023-11-02T12:36:32.123Z"
   },
   {
    "duration": 1498,
    "start_time": "2023-11-02T12:36:33.664Z"
   },
   {
    "duration": 5,
    "start_time": "2023-11-02T12:36:35.164Z"
   },
   {
    "duration": 30,
    "start_time": "2023-11-02T12:36:35.171Z"
   },
   {
    "duration": 8,
    "start_time": "2023-11-02T12:36:35.204Z"
   },
   {
    "duration": 110,
    "start_time": "2023-11-02T12:36:35.214Z"
   },
   {
    "duration": 97,
    "start_time": "2023-11-02T12:36:35.326Z"
   },
   {
    "duration": 117,
    "start_time": "2023-11-02T12:36:35.425Z"
   },
   {
    "duration": 13,
    "start_time": "2023-11-02T12:36:35.544Z"
   },
   {
    "duration": 23,
    "start_time": "2023-11-02T12:36:35.559Z"
   },
   {
    "duration": 24,
    "start_time": "2023-11-02T12:36:35.584Z"
   },
   {
    "duration": 5,
    "start_time": "2023-11-02T12:36:35.921Z"
   },
   {
    "duration": 15,
    "start_time": "2023-11-02T12:36:36.167Z"
   },
   {
    "duration": 3,
    "start_time": "2023-11-02T12:36:37.846Z"
   },
   {
    "duration": 8,
    "start_time": "2023-11-02T12:36:38.231Z"
   },
   {
    "duration": 5,
    "start_time": "2023-11-02T12:36:38.770Z"
   },
   {
    "duration": 8,
    "start_time": "2023-11-02T12:36:39.133Z"
   },
   {
    "duration": 5,
    "start_time": "2023-11-02T12:36:39.627Z"
   },
   {
    "duration": 8,
    "start_time": "2023-11-02T12:36:39.882Z"
   },
   {
    "duration": 8,
    "start_time": "2023-11-02T12:36:40.150Z"
   },
   {
    "duration": 4,
    "start_time": "2023-11-02T12:36:40.352Z"
   },
   {
    "duration": 18,
    "start_time": "2023-11-02T12:36:40.813Z"
   },
   {
    "duration": 13,
    "start_time": "2023-11-02T12:38:40.261Z"
   },
   {
    "duration": 140,
    "start_time": "2023-11-02T12:44:07.452Z"
   },
   {
    "duration": 4,
    "start_time": "2023-11-02T12:44:54.997Z"
   },
   {
    "duration": 42,
    "start_time": "2023-11-02T12:44:55.390Z"
   },
   {
    "duration": 14,
    "start_time": "2023-11-02T12:44:55.576Z"
   },
   {
    "duration": 16,
    "start_time": "2023-11-02T12:44:55.739Z"
   },
   {
    "duration": 6,
    "start_time": "2023-11-02T12:44:55.925Z"
   },
   {
    "duration": 5,
    "start_time": "2023-11-02T12:44:56.133Z"
   },
   {
    "duration": 122,
    "start_time": "2023-11-02T12:44:56.303Z"
   },
   {
    "duration": 6,
    "start_time": "2023-11-02T12:44:56.461Z"
   },
   {
    "duration": 6,
    "start_time": "2023-11-02T12:44:56.629Z"
   },
   {
    "duration": 107,
    "start_time": "2023-11-02T12:44:56.806Z"
   },
   {
    "duration": 5,
    "start_time": "2023-11-02T12:44:56.959Z"
   },
   {
    "duration": 4,
    "start_time": "2023-11-02T12:44:57.118Z"
   },
   {
    "duration": 125,
    "start_time": "2023-11-02T12:44:57.309Z"
   },
   {
    "duration": 5,
    "start_time": "2023-11-02T12:44:57.487Z"
   },
   {
    "duration": 5,
    "start_time": "2023-11-02T12:44:57.659Z"
   },
   {
    "duration": 113,
    "start_time": "2023-11-02T12:44:57.840Z"
   },
   {
    "duration": 4,
    "start_time": "2023-11-02T12:45:18.451Z"
   },
   {
    "duration": 41,
    "start_time": "2023-11-02T12:45:18.819Z"
   },
   {
    "duration": 13,
    "start_time": "2023-11-02T12:45:19.040Z"
   },
   {
    "duration": 17,
    "start_time": "2023-11-02T12:45:19.269Z"
   },
   {
    "duration": 5,
    "start_time": "2023-11-02T12:45:19.793Z"
   },
   {
    "duration": 5,
    "start_time": "2023-11-02T12:45:20.011Z"
   },
   {
    "duration": 116,
    "start_time": "2023-11-02T12:45:20.187Z"
   },
   {
    "duration": 5,
    "start_time": "2023-11-02T12:45:20.356Z"
   },
   {
    "duration": 7,
    "start_time": "2023-11-02T12:45:20.541Z"
   },
   {
    "duration": 112,
    "start_time": "2023-11-02T12:45:20.861Z"
   },
   {
    "duration": 5,
    "start_time": "2023-11-02T12:45:21.063Z"
   },
   {
    "duration": 5,
    "start_time": "2023-11-02T12:45:21.236Z"
   },
   {
    "duration": 123,
    "start_time": "2023-11-02T12:45:21.412Z"
   },
   {
    "duration": 5,
    "start_time": "2023-11-02T12:45:21.587Z"
   },
   {
    "duration": 5,
    "start_time": "2023-11-02T12:45:21.767Z"
   },
   {
    "duration": 115,
    "start_time": "2023-11-02T12:45:21.948Z"
   },
   {
    "duration": 4,
    "start_time": "2023-11-02T12:45:22.131Z"
   },
   {
    "duration": 5,
    "start_time": "2023-11-02T12:45:22.338Z"
   },
   {
    "duration": 111,
    "start_time": "2023-11-02T12:45:22.546Z"
   },
   {
    "duration": 1563,
    "start_time": "2023-11-02T12:45:22.943Z"
   },
   {
    "duration": 6,
    "start_time": "2023-11-02T12:45:24.508Z"
   },
   {
    "duration": 25,
    "start_time": "2023-11-02T12:45:24.515Z"
   },
   {
    "duration": 6,
    "start_time": "2023-11-02T12:45:26.766Z"
   },
   {
    "duration": 94,
    "start_time": "2023-11-02T12:45:26.954Z"
   },
   {
    "duration": 86,
    "start_time": "2023-11-02T12:45:27.136Z"
   },
   {
    "duration": 105,
    "start_time": "2023-11-02T12:45:27.313Z"
   },
   {
    "duration": 12,
    "start_time": "2023-11-02T12:45:27.475Z"
   },
   {
    "duration": 9,
    "start_time": "2023-11-02T12:45:27.667Z"
   },
   {
    "duration": 12,
    "start_time": "2023-11-02T12:45:27.844Z"
   },
   {
    "duration": 7,
    "start_time": "2023-11-02T12:45:28.204Z"
   },
   {
    "duration": 14,
    "start_time": "2023-11-02T12:45:28.536Z"
   },
   {
    "duration": 3,
    "start_time": "2023-11-02T12:45:29.281Z"
   },
   {
    "duration": 7,
    "start_time": "2023-11-02T12:45:29.462Z"
   },
   {
    "duration": 183,
    "start_time": "2023-11-02T12:45:29.640Z"
   },
   {
    "duration": 59,
    "start_time": "2023-11-02T12:45:29.825Z"
   },
   {
    "duration": 5,
    "start_time": "2023-11-02T12:45:30.007Z"
   },
   {
    "duration": 8,
    "start_time": "2023-11-02T12:45:30.202Z"
   },
   {
    "duration": 8,
    "start_time": "2023-11-02T12:45:30.394Z"
   },
   {
    "duration": 4,
    "start_time": "2023-11-02T12:45:30.594Z"
   },
   {
    "duration": 15,
    "start_time": "2023-11-02T12:45:31.020Z"
   },
   {
    "duration": 499,
    "start_time": "2023-11-02T12:45:31.220Z"
   },
   {
    "duration": 434,
    "start_time": "2023-11-02T12:46:03.774Z"
   },
   {
    "duration": 13,
    "start_time": "2023-11-02T12:54:13.735Z"
   },
   {
    "duration": 11,
    "start_time": "2023-11-02T12:54:26.344Z"
   },
   {
    "duration": 10489,
    "start_time": "2023-11-02T12:54:34.223Z"
   },
   {
    "duration": 10362,
    "start_time": "2023-11-02T12:54:50.449Z"
   },
   {
    "duration": 10,
    "start_time": "2023-11-02T12:56:02.160Z"
   },
   {
    "duration": 91,
    "start_time": "2023-11-02T12:56:02.515Z"
   },
   {
    "duration": 14,
    "start_time": "2023-11-02T12:56:03.228Z"
   },
   {
    "duration": 460,
    "start_time": "2023-11-02T12:56:04.296Z"
   },
   {
    "duration": 10441,
    "start_time": "2023-11-02T12:56:07.538Z"
   },
   {
    "duration": 10381,
    "start_time": "2023-11-02T12:56:37.972Z"
   },
   {
    "duration": 10511,
    "start_time": "2023-11-02T12:57:39.399Z"
   },
   {
    "duration": 99,
    "start_time": "2023-11-02T13:15:35.678Z"
   },
   {
    "duration": 5,
    "start_time": "2023-11-02T13:16:21.304Z"
   },
   {
    "duration": 119,
    "start_time": "2023-11-02T13:16:52.440Z"
   },
   {
    "duration": 113,
    "start_time": "2023-11-02T13:17:16.833Z"
   },
   {
    "duration": 4,
    "start_time": "2023-11-02T13:17:36.161Z"
   },
   {
    "duration": 39,
    "start_time": "2023-11-02T13:17:36.376Z"
   },
   {
    "duration": 16,
    "start_time": "2023-11-02T13:17:36.558Z"
   },
   {
    "duration": 16,
    "start_time": "2023-11-02T13:17:36.872Z"
   },
   {
    "duration": 5,
    "start_time": "2023-11-02T13:17:37.076Z"
   },
   {
    "duration": 111,
    "start_time": "2023-11-02T13:17:37.317Z"
   },
   {
    "duration": 5,
    "start_time": "2023-11-02T13:17:37.509Z"
   },
   {
    "duration": 6,
    "start_time": "2023-11-02T13:17:37.738Z"
   },
   {
    "duration": 118,
    "start_time": "2023-11-02T13:17:38.182Z"
   },
   {
    "duration": 5,
    "start_time": "2023-11-02T13:17:38.875Z"
   },
   {
    "duration": 6,
    "start_time": "2023-11-02T13:17:39.379Z"
   },
   {
    "duration": 106,
    "start_time": "2023-11-02T13:17:39.684Z"
   },
   {
    "duration": 5,
    "start_time": "2023-11-02T13:17:39.935Z"
   },
   {
    "duration": 5,
    "start_time": "2023-11-02T13:17:40.176Z"
   },
   {
    "duration": 125,
    "start_time": "2023-11-02T13:17:40.388Z"
   },
   {
    "duration": 5,
    "start_time": "2023-11-02T13:17:40.592Z"
   },
   {
    "duration": 5,
    "start_time": "2023-11-02T13:17:40.777Z"
   },
   {
    "duration": 112,
    "start_time": "2023-11-02T13:17:40.980Z"
   },
   {
    "duration": 5,
    "start_time": "2023-11-02T13:17:41.393Z"
   },
   {
    "duration": 5,
    "start_time": "2023-11-02T13:17:41.615Z"
   },
   {
    "duration": 173,
    "start_time": "2023-11-02T13:17:41.852Z"
   },
   {
    "duration": 1554,
    "start_time": "2023-11-02T13:17:42.253Z"
   },
   {
    "duration": 6,
    "start_time": "2023-11-02T13:17:43.809Z"
   },
   {
    "duration": 73,
    "start_time": "2023-11-02T13:17:43.817Z"
   },
   {
    "duration": 29,
    "start_time": "2023-11-02T13:17:43.892Z"
   },
   {
    "duration": 111,
    "start_time": "2023-11-02T13:17:44.027Z"
   },
   {
    "duration": 88,
    "start_time": "2023-11-02T13:17:44.940Z"
   },
   {
    "duration": 125,
    "start_time": "2023-11-02T13:17:45.031Z"
   },
   {
    "duration": 15,
    "start_time": "2023-11-02T13:17:45.158Z"
   },
   {
    "duration": 10,
    "start_time": "2023-11-02T13:17:45.543Z"
   },
   {
    "duration": 13,
    "start_time": "2023-11-02T13:17:45.976Z"
   },
   {
    "duration": 5,
    "start_time": "2023-11-02T13:17:46.332Z"
   },
   {
    "duration": 12,
    "start_time": "2023-11-02T13:17:46.546Z"
   },
   {
    "duration": 4,
    "start_time": "2023-11-02T13:17:47.935Z"
   },
   {
    "duration": 7,
    "start_time": "2023-11-02T13:17:48.138Z"
   },
   {
    "duration": 4,
    "start_time": "2023-11-02T13:17:48.325Z"
   },
   {
    "duration": 9,
    "start_time": "2023-11-02T13:17:48.509Z"
   },
   {
    "duration": 5,
    "start_time": "2023-11-02T13:17:48.690Z"
   },
   {
    "duration": 8,
    "start_time": "2023-11-02T13:17:48.879Z"
   },
   {
    "duration": 7,
    "start_time": "2023-11-02T13:17:49.098Z"
   },
   {
    "duration": 4,
    "start_time": "2023-11-02T13:17:49.503Z"
   },
   {
    "duration": 15,
    "start_time": "2023-11-02T13:17:49.871Z"
   },
   {
    "duration": 437,
    "start_time": "2023-11-02T13:17:50.237Z"
   },
   {
    "duration": 10587,
    "start_time": "2023-11-02T13:17:50.676Z"
   },
   {
    "duration": 114,
    "start_time": "2023-11-02T13:18:01.265Z"
   },
   {
    "duration": 174,
    "start_time": "2023-11-02T13:20:49.229Z"
   },
   {
    "duration": 21,
    "start_time": "2023-11-02T13:41:12.397Z"
   },
   {
    "duration": 22,
    "start_time": "2023-11-02T13:48:23.790Z"
   },
   {
    "duration": 4,
    "start_time": "2023-11-02T13:49:02.830Z"
   },
   {
    "duration": 40,
    "start_time": "2023-11-02T13:49:03.396Z"
   },
   {
    "duration": 13,
    "start_time": "2023-11-02T13:49:03.567Z"
   },
   {
    "duration": 16,
    "start_time": "2023-11-02T13:49:03.773Z"
   },
   {
    "duration": 5,
    "start_time": "2023-11-02T13:49:03.971Z"
   },
   {
    "duration": 109,
    "start_time": "2023-11-02T13:49:04.150Z"
   },
   {
    "duration": 4,
    "start_time": "2023-11-02T13:49:04.320Z"
   },
   {
    "duration": 7,
    "start_time": "2023-11-02T13:49:04.501Z"
   },
   {
    "duration": 141,
    "start_time": "2023-11-02T13:49:04.674Z"
   },
   {
    "duration": 4,
    "start_time": "2023-11-02T13:49:04.848Z"
   },
   {
    "duration": 5,
    "start_time": "2023-11-02T13:49:05.007Z"
   },
   {
    "duration": 103,
    "start_time": "2023-11-02T13:49:05.191Z"
   },
   {
    "duration": 4,
    "start_time": "2023-11-02T13:49:05.364Z"
   },
   {
    "duration": 5,
    "start_time": "2023-11-02T13:49:05.546Z"
   },
   {
    "duration": 125,
    "start_time": "2023-11-02T13:49:05.730Z"
   },
   {
    "duration": 6,
    "start_time": "2023-11-02T13:49:05.920Z"
   },
   {
    "duration": 5,
    "start_time": "2023-11-02T13:49:06.338Z"
   },
   {
    "duration": 137,
    "start_time": "2023-11-02T13:49:06.506Z"
   },
   {
    "duration": 591,
    "start_time": "2023-11-02T13:49:06.677Z"
   },
   {
    "duration": 32,
    "start_time": "2023-11-02T13:49:07.271Z"
   },
   {
    "duration": 112,
    "start_time": "2023-11-02T13:49:07.305Z"
   },
   {
    "duration": 1596,
    "start_time": "2023-11-02T13:49:07.419Z"
   },
   {
    "duration": 6,
    "start_time": "2023-11-02T13:49:09.017Z"
   },
   {
    "duration": 48,
    "start_time": "2023-11-02T13:49:09.025Z"
   },
   {
    "duration": 20,
    "start_time": "2023-11-02T13:49:09.075Z"
   },
   {
    "duration": 106,
    "start_time": "2023-11-02T13:49:09.097Z"
   },
   {
    "duration": 103,
    "start_time": "2023-11-02T13:49:09.205Z"
   },
   {
    "duration": 126,
    "start_time": "2023-11-02T13:49:09.310Z"
   },
   {
    "duration": 12,
    "start_time": "2023-11-02T13:49:09.438Z"
   },
   {
    "duration": 13,
    "start_time": "2023-11-02T13:49:09.452Z"
   },
   {
    "duration": 99,
    "start_time": "2023-11-02T13:49:09.468Z"
   },
   {
    "duration": 33,
    "start_time": "2023-11-02T13:49:09.569Z"
   },
   {
    "duration": 44,
    "start_time": "2023-11-02T13:49:09.604Z"
   },
   {
    "duration": 3,
    "start_time": "2023-11-02T13:49:10.411Z"
   },
   {
    "duration": 7,
    "start_time": "2023-11-02T13:49:10.597Z"
   },
   {
    "duration": 4,
    "start_time": "2023-11-02T13:49:10.780Z"
   },
   {
    "duration": 8,
    "start_time": "2023-11-02T13:49:11.005Z"
   },
   {
    "duration": 4,
    "start_time": "2023-11-02T13:49:11.190Z"
   },
   {
    "duration": 8,
    "start_time": "2023-11-02T13:49:11.386Z"
   },
   {
    "duration": 8,
    "start_time": "2023-11-02T13:49:11.571Z"
   },
   {
    "duration": 4,
    "start_time": "2023-11-02T13:49:11.731Z"
   },
   {
    "duration": 14,
    "start_time": "2023-11-02T13:49:12.110Z"
   },
   {
    "duration": 446,
    "start_time": "2023-11-02T13:49:12.497Z"
   },
   {
    "duration": 10629,
    "start_time": "2023-11-02T13:49:13.126Z"
   },
   {
    "duration": 147,
    "start_time": "2023-11-02T13:49:23.757Z"
   },
   {
    "duration": 206,
    "start_time": "2023-11-02T13:49:23.907Z"
   },
   {
    "duration": 18,
    "start_time": "2023-11-02T13:49:24.116Z"
   },
   {
    "duration": 99,
    "start_time": "2023-11-02T13:49:24.207Z"
   },
   {
    "duration": 375,
    "start_time": "2023-11-02T13:52:09.130Z"
   },
   {
    "duration": 19122,
    "start_time": "2023-11-02T13:52:27.821Z"
   },
   {
    "duration": 17993,
    "start_time": "2023-11-02T13:52:58.256Z"
   },
   {
    "duration": 726,
    "start_time": "2023-11-02T13:55:01.540Z"
   },
   {
    "duration": 211,
    "start_time": "2023-11-02T13:56:37.296Z"
   },
   {
    "duration": 128,
    "start_time": "2023-11-02T13:57:05.379Z"
   },
   {
    "duration": 122,
    "start_time": "2023-11-02T13:57:46.583Z"
   },
   {
    "duration": 10,
    "start_time": "2023-11-02T14:01:30.505Z"
   },
   {
    "duration": 9,
    "start_time": "2023-11-02T14:02:03.321Z"
   },
   {
    "duration": 9,
    "start_time": "2023-11-02T14:03:18.374Z"
   },
   {
    "duration": 527,
    "start_time": "2023-11-02T14:03:18.848Z"
   },
   {
    "duration": 14259,
    "start_time": "2023-11-02T14:03:46.652Z"
   },
   {
    "duration": 89,
    "start_time": "2023-11-02T14:04:12.022Z"
   },
   {
    "duration": 112,
    "start_time": "2023-11-02T14:04:13.299Z"
   },
   {
    "duration": 109,
    "start_time": "2023-11-02T14:04:14.129Z"
   },
   {
    "duration": 11,
    "start_time": "2023-11-02T14:05:03.987Z"
   },
   {
    "duration": 229,
    "start_time": "2023-11-02T14:05:53.019Z"
   },
   {
    "duration": 11,
    "start_time": "2023-11-02T14:07:26.027Z"
   },
   {
    "duration": 11,
    "start_time": "2023-11-02T14:07:35.993Z"
   },
   {
    "duration": 6101,
    "start_time": "2023-11-02T14:07:41.124Z"
   },
   {
    "duration": 58,
    "start_time": "2023-11-02T14:09:50.945Z"
   },
   {
    "duration": 77,
    "start_time": "2023-11-02T14:09:51.526Z"
   },
   {
    "duration": 886,
    "start_time": "2023-11-02T14:28:54.622Z"
   },
   {
    "duration": 343,
    "start_time": "2023-11-02T14:29:05.450Z"
   },
   {
    "duration": 751,
    "start_time": "2023-11-02T14:29:29.950Z"
   },
   {
    "duration": 309,
    "start_time": "2023-11-02T14:29:37.697Z"
   },
   {
    "duration": 362,
    "start_time": "2023-11-02T14:30:12.039Z"
   },
   {
    "duration": 560,
    "start_time": "2023-11-02T14:30:31.753Z"
   },
   {
    "duration": 14055,
    "start_time": "2023-11-02T14:30:38.408Z"
   },
   {
    "duration": 311,
    "start_time": "2023-11-02T14:31:06.870Z"
   },
   {
    "duration": 320,
    "start_time": "2023-11-02T14:31:37.735Z"
   },
   {
    "duration": 752,
    "start_time": "2023-11-02T14:31:46.260Z"
   },
   {
    "duration": 21558,
    "start_time": "2023-11-02T14:34:19.533Z"
   },
   {
    "duration": 6,
    "start_time": "2023-11-02T14:34:46.917Z"
   },
   {
    "duration": 39,
    "start_time": "2023-11-02T14:34:47.082Z"
   },
   {
    "duration": 12,
    "start_time": "2023-11-02T14:34:47.237Z"
   },
   {
    "duration": 16,
    "start_time": "2023-11-02T14:34:47.428Z"
   },
   {
    "duration": 5,
    "start_time": "2023-11-02T14:34:47.567Z"
   },
   {
    "duration": 111,
    "start_time": "2023-11-02T14:34:47.886Z"
   },
   {
    "duration": 5,
    "start_time": "2023-11-02T14:34:48.087Z"
   },
   {
    "duration": 6,
    "start_time": "2023-11-02T14:34:48.248Z"
   },
   {
    "duration": 115,
    "start_time": "2023-11-02T14:34:48.410Z"
   },
   {
    "duration": 5,
    "start_time": "2023-11-02T14:34:48.586Z"
   },
   {
    "duration": 5,
    "start_time": "2023-11-02T14:34:48.739Z"
   },
   {
    "duration": 107,
    "start_time": "2023-11-02T14:34:48.888Z"
   },
   {
    "duration": 5,
    "start_time": "2023-11-02T14:34:49.187Z"
   },
   {
    "duration": 5,
    "start_time": "2023-11-02T14:34:49.405Z"
   },
   {
    "duration": 126,
    "start_time": "2023-11-02T14:34:49.587Z"
   },
   {
    "duration": 5,
    "start_time": "2023-11-02T14:34:49.760Z"
   },
   {
    "duration": 4,
    "start_time": "2023-11-02T14:34:49.912Z"
   },
   {
    "duration": 264,
    "start_time": "2023-11-02T14:34:50.078Z"
   },
   {
    "duration": 5,
    "start_time": "2023-11-02T14:34:50.345Z"
   },
   {
    "duration": 4,
    "start_time": "2023-11-02T14:34:50.414Z"
   },
   {
    "duration": 110,
    "start_time": "2023-11-02T14:34:50.599Z"
   },
   {
    "duration": 1392,
    "start_time": "2023-11-02T14:34:50.969Z"
   },
   {
    "duration": 7,
    "start_time": "2023-11-02T14:34:52.363Z"
   },
   {
    "duration": 31,
    "start_time": "2023-11-02T14:34:52.371Z"
   },
   {
    "duration": 25,
    "start_time": "2023-11-02T14:34:52.404Z"
   },
   {
    "duration": 125,
    "start_time": "2023-11-02T14:34:52.431Z"
   },
   {
    "duration": 96,
    "start_time": "2023-11-02T14:34:52.559Z"
   },
   {
    "duration": 113,
    "start_time": "2023-11-02T14:34:52.657Z"
   },
   {
    "duration": 12,
    "start_time": "2023-11-02T14:34:52.772Z"
   },
   {
    "duration": 27,
    "start_time": "2023-11-02T14:34:52.802Z"
   },
   {
    "duration": 34,
    "start_time": "2023-11-02T14:34:52.830Z"
   },
   {
    "duration": 6,
    "start_time": "2023-11-02T14:34:53.025Z"
   },
   {
    "duration": 11,
    "start_time": "2023-11-02T14:34:53.226Z"
   },
   {
    "duration": 3,
    "start_time": "2023-11-02T14:34:54.101Z"
   },
   {
    "duration": 9,
    "start_time": "2023-11-02T14:34:54.281Z"
   },
   {
    "duration": 5,
    "start_time": "2023-11-02T14:34:54.466Z"
   },
   {
    "duration": 10,
    "start_time": "2023-11-02T14:34:54.637Z"
   },
   {
    "duration": 6,
    "start_time": "2023-11-02T14:34:54.806Z"
   },
   {
    "duration": 8,
    "start_time": "2023-11-02T14:34:54.987Z"
   },
   {
    "duration": 8,
    "start_time": "2023-11-02T14:34:55.189Z"
   },
   {
    "duration": 6,
    "start_time": "2023-11-02T14:34:55.365Z"
   },
   {
    "duration": 13,
    "start_time": "2023-11-02T14:34:55.732Z"
   },
   {
    "duration": 438,
    "start_time": "2023-11-02T14:34:56.143Z"
   },
   {
    "duration": 10715,
    "start_time": "2023-11-02T14:34:56.743Z"
   },
   {
    "duration": 148,
    "start_time": "2023-11-02T14:35:07.460Z"
   },
   {
    "duration": 120,
    "start_time": "2023-11-02T14:35:07.700Z"
   },
   {
    "duration": 79,
    "start_time": "2023-11-02T14:35:07.822Z"
   },
   {
    "duration": 104,
    "start_time": "2023-11-02T14:35:07.904Z"
   },
   {
    "duration": 583,
    "start_time": "2023-11-02T14:35:08.010Z"
   },
   {
    "duration": 21571,
    "start_time": "2023-11-02T14:35:08.595Z"
   },
   {
    "duration": 435,
    "start_time": "2023-11-02T14:35:30.168Z"
   },
   {
    "duration": 295,
    "start_time": "2023-11-02T14:35:30.608Z"
   },
   {
    "duration": 101,
    "start_time": "2023-11-02T14:35:30.907Z"
   },
   {
    "duration": 446,
    "start_time": "2023-11-02T14:35:31.010Z"
   },
   {
    "duration": 6230,
    "start_time": "2023-11-02T14:35:31.458Z"
   },
   {
    "duration": 112,
    "start_time": "2023-11-02T14:35:37.690Z"
   },
   {
    "duration": 203,
    "start_time": "2023-11-02T14:35:37.804Z"
   },
   {
    "duration": 870,
    "start_time": "2023-11-02T14:35:38.013Z"
   },
   {
    "duration": 333,
    "start_time": "2023-11-02T14:36:54.334Z"
   },
   {
    "duration": 309,
    "start_time": "2023-11-02T14:37:04.447Z"
   },
   {
    "duration": 344,
    "start_time": "2023-11-02T14:37:09.689Z"
   },
   {
    "duration": 9,
    "start_time": "2023-11-02T14:38:29.104Z"
   },
   {
    "duration": 9,
    "start_time": "2023-11-02T14:38:31.225Z"
   },
   {
    "duration": 572,
    "start_time": "2023-11-02T14:38:31.402Z"
   },
   {
    "duration": 21873,
    "start_time": "2023-11-02T14:38:31.976Z"
   },
   {
    "duration": 154,
    "start_time": "2023-11-02T14:38:53.851Z"
   },
   {
    "duration": 295,
    "start_time": "2023-11-02T14:38:54.007Z"
   },
   {
    "duration": 98,
    "start_time": "2023-11-02T14:38:54.308Z"
   },
   {
    "duration": 293,
    "start_time": "2023-11-02T14:38:54.408Z"
   },
   {
    "duration": 5948,
    "start_time": "2023-11-02T14:38:54.703Z"
   },
   {
    "duration": 151,
    "start_time": "2023-11-02T14:39:00.653Z"
   },
   {
    "duration": 294,
    "start_time": "2023-11-02T14:39:00.808Z"
   },
   {
    "duration": 420,
    "start_time": "2023-11-02T14:39:01.104Z"
   },
   {
    "duration": 10,
    "start_time": "2023-11-02T14:40:09.671Z"
   },
   {
    "duration": 587,
    "start_time": "2023-11-02T14:40:10.261Z"
   },
   {
    "duration": 14,
    "start_time": "2023-11-02T14:42:39.679Z"
   },
   {
    "duration": 5,
    "start_time": "2023-11-02T14:42:44.812Z"
   },
   {
    "duration": 18,
    "start_time": "2023-11-02T14:42:54.168Z"
   },
   {
    "duration": 4,
    "start_time": "2023-11-02T14:42:59.115Z"
   },
   {
    "duration": 41,
    "start_time": "2023-11-02T14:42:59.263Z"
   },
   {
    "duration": 14,
    "start_time": "2023-11-02T14:42:59.446Z"
   },
   {
    "duration": 16,
    "start_time": "2023-11-02T14:42:59.619Z"
   },
   {
    "duration": 5,
    "start_time": "2023-11-02T14:42:59.778Z"
   },
   {
    "duration": 115,
    "start_time": "2023-11-02T14:43:00.009Z"
   },
   {
    "duration": 5,
    "start_time": "2023-11-02T14:43:01.947Z"
   },
   {
    "duration": 333,
    "start_time": "2023-11-02T14:43:02.140Z"
   },
   {
    "duration": 257,
    "start_time": "2023-11-02T14:43:03.789Z"
   },
   {
    "duration": 5,
    "start_time": "2023-11-02T14:43:04.149Z"
   },
   {
    "duration": 7,
    "start_time": "2023-11-02T14:43:06.625Z"
   },
   {
    "duration": 110,
    "start_time": "2023-11-02T14:43:06.985Z"
   },
   {
    "duration": 5,
    "start_time": "2023-11-02T14:43:07.218Z"
   },
   {
    "duration": 6,
    "start_time": "2023-11-02T14:43:07.408Z"
   },
   {
    "duration": 127,
    "start_time": "2023-11-02T14:43:07.587Z"
   },
   {
    "duration": 5,
    "start_time": "2023-11-02T14:43:07.747Z"
   },
   {
    "duration": 5,
    "start_time": "2023-11-02T14:43:07.929Z"
   },
   {
    "duration": 111,
    "start_time": "2023-11-02T14:43:08.117Z"
   },
   {
    "duration": 4,
    "start_time": "2023-11-02T14:43:08.313Z"
   },
   {
    "duration": 5,
    "start_time": "2023-11-02T14:43:08.486Z"
   },
   {
    "duration": 120,
    "start_time": "2023-11-02T14:43:08.650Z"
   },
   {
    "duration": 1429,
    "start_time": "2023-11-02T14:43:09.007Z"
   },
   {
    "duration": 5,
    "start_time": "2023-11-02T14:43:10.438Z"
   },
   {
    "duration": 37,
    "start_time": "2023-11-02T14:43:10.445Z"
   },
   {
    "duration": 17,
    "start_time": "2023-11-02T14:43:10.484Z"
   },
   {
    "duration": 105,
    "start_time": "2023-11-02T14:43:10.503Z"
   },
   {
    "duration": 104,
    "start_time": "2023-11-02T14:43:10.610Z"
   },
   {
    "duration": 115,
    "start_time": "2023-11-02T14:43:10.716Z"
   },
   {
    "duration": 12,
    "start_time": "2023-11-02T14:43:10.833Z"
   },
   {
    "duration": 14,
    "start_time": "2023-11-02T14:43:10.847Z"
   },
   {
    "duration": 33,
    "start_time": "2023-11-02T14:43:10.863Z"
   },
   {
    "duration": 5,
    "start_time": "2023-11-02T14:43:11.005Z"
   },
   {
    "duration": 11,
    "start_time": "2023-11-02T14:43:11.173Z"
   },
   {
    "duration": 3,
    "start_time": "2023-11-02T14:43:12.242Z"
   },
   {
    "duration": 4,
    "start_time": "2023-11-02T14:43:12.432Z"
   },
   {
    "duration": 12,
    "start_time": "2023-11-02T14:43:12.612Z"
   },
   {
    "duration": 18,
    "start_time": "2023-11-02T14:43:12.972Z"
   },
   {
    "duration": 418,
    "start_time": "2023-11-02T14:43:13.341Z"
   },
   {
    "duration": 10995,
    "start_time": "2023-11-02T14:43:13.871Z"
   },
   {
    "duration": 138,
    "start_time": "2023-11-02T14:43:24.869Z"
   },
   {
    "duration": 117,
    "start_time": "2023-11-02T14:43:25.101Z"
   },
   {
    "duration": 16,
    "start_time": "2023-11-02T14:43:25.220Z"
   },
   {
    "duration": 103,
    "start_time": "2023-11-02T14:43:25.302Z"
   },
   {
    "duration": 567,
    "start_time": "2023-11-02T14:43:25.406Z"
   },
   {
    "duration": 21854,
    "start_time": "2023-11-02T14:43:25.974Z"
   },
   {
    "duration": 177,
    "start_time": "2023-11-02T14:43:47.830Z"
   },
   {
    "duration": 302,
    "start_time": "2023-11-02T14:43:48.009Z"
   },
   {
    "duration": 100,
    "start_time": "2023-11-02T14:43:48.407Z"
   },
   {
    "duration": 265,
    "start_time": "2023-11-02T14:43:48.509Z"
   },
   {
    "duration": 6025,
    "start_time": "2023-11-02T14:43:48.776Z"
   },
   {
    "duration": 100,
    "start_time": "2023-11-02T14:43:54.803Z"
   },
   {
    "duration": 199,
    "start_time": "2023-11-02T14:43:54.907Z"
   },
   {
    "duration": 453,
    "start_time": "2023-11-02T14:43:55.108Z"
   },
   {
    "duration": 4,
    "start_time": "2023-11-02T15:05:40.671Z"
   },
   {
    "duration": 4,
    "start_time": "2023-11-02T15:05:40.987Z"
   },
   {
    "duration": 12,
    "start_time": "2023-11-02T15:05:41.360Z"
   },
   {
    "duration": 8,
    "start_time": "2023-11-02T15:06:08.983Z"
   },
   {
    "duration": 7,
    "start_time": "2023-11-02T15:06:18.313Z"
   },
   {
    "duration": 7,
    "start_time": "2023-11-02T15:06:34.198Z"
   },
   {
    "duration": 19,
    "start_time": "2023-11-02T15:06:40.798Z"
   },
   {
    "duration": 451,
    "start_time": "2023-11-02T15:06:41.785Z"
   },
   {
    "duration": 10843,
    "start_time": "2023-11-02T15:07:08.053Z"
   },
   {
    "duration": 96,
    "start_time": "2023-11-02T15:07:42.514Z"
   },
   {
    "duration": 124,
    "start_time": "2023-11-02T15:07:53.127Z"
   },
   {
    "duration": 21,
    "start_time": "2023-11-02T15:07:56.839Z"
   },
   {
    "duration": 10,
    "start_time": "2023-11-02T15:08:08.796Z"
   },
   {
    "duration": 553,
    "start_time": "2023-11-02T15:08:09.374Z"
   },
   {
    "duration": 21728,
    "start_time": "2023-11-02T15:08:24.554Z"
   },
   {
    "duration": 152,
    "start_time": "2023-11-02T15:08:58.562Z"
   },
   {
    "duration": 201,
    "start_time": "2023-11-02T15:09:00.001Z"
   },
   {
    "duration": 157,
    "start_time": "2023-11-02T15:09:20.543Z"
   },
   {
    "duration": 185,
    "start_time": "2023-11-02T15:09:46.423Z"
   },
   {
    "duration": 10,
    "start_time": "2023-11-02T15:09:50.398Z"
   },
   {
    "duration": 6118,
    "start_time": "2023-11-02T15:10:01.274Z"
   },
   {
    "duration": 61,
    "start_time": "2023-11-02T15:10:25.046Z"
   },
   {
    "duration": 90,
    "start_time": "2023-11-02T15:10:25.812Z"
   },
   {
    "duration": 384,
    "start_time": "2023-11-02T15:10:56.242Z"
   },
   {
    "duration": 105,
    "start_time": "2023-11-02T15:11:07.999Z"
   },
   {
    "duration": 84,
    "start_time": "2023-11-02T15:11:08.319Z"
   },
   {
    "duration": 393,
    "start_time": "2023-11-02T15:11:29.064Z"
   },
   {
    "duration": 110,
    "start_time": "2023-11-02T15:14:16.095Z"
   },
   {
    "duration": 17,
    "start_time": "2023-11-02T15:14:17.798Z"
   },
   {
    "duration": 11,
    "start_time": "2023-11-02T15:14:20.691Z"
   },
   {
    "duration": 582,
    "start_time": "2023-11-02T15:14:22.797Z"
   },
   {
    "duration": 391,
    "start_time": "2023-11-02T15:15:55.895Z"
   },
   {
    "duration": 29,
    "start_time": "2023-11-02T15:16:43.864Z"
   },
   {
    "duration": 4,
    "start_time": "2023-11-02T15:17:19.934Z"
   },
   {
    "duration": 28,
    "start_time": "2023-11-02T15:17:24.822Z"
   },
   {
    "duration": 4,
    "start_time": "2023-11-02T15:21:02.613Z"
   },
   {
    "duration": 41,
    "start_time": "2023-11-02T15:21:02.763Z"
   },
   {
    "duration": 13,
    "start_time": "2023-11-02T15:21:02.934Z"
   },
   {
    "duration": 16,
    "start_time": "2023-11-02T15:21:03.099Z"
   },
   {
    "duration": 69,
    "start_time": "2023-11-02T15:21:03.264Z"
   },
   {
    "duration": 137,
    "start_time": "2023-11-02T15:21:03.426Z"
   },
   {
    "duration": 5,
    "start_time": "2023-11-02T15:21:03.590Z"
   },
   {
    "duration": 5,
    "start_time": "2023-11-02T15:21:03.744Z"
   },
   {
    "duration": 121,
    "start_time": "2023-11-02T15:21:03.916Z"
   },
   {
    "duration": 5,
    "start_time": "2023-11-02T15:21:04.243Z"
   },
   {
    "duration": 5,
    "start_time": "2023-11-02T15:21:04.429Z"
   },
   {
    "duration": 153,
    "start_time": "2023-11-02T15:21:04.602Z"
   },
   {
    "duration": 5,
    "start_time": "2023-11-02T15:21:04.782Z"
   },
   {
    "duration": 5,
    "start_time": "2023-11-02T15:21:04.956Z"
   },
   {
    "duration": 119,
    "start_time": "2023-11-02T15:21:05.128Z"
   },
   {
    "duration": 5,
    "start_time": "2023-11-02T15:21:05.298Z"
   },
   {
    "duration": 5,
    "start_time": "2023-11-02T15:21:05.462Z"
   },
   {
    "duration": 108,
    "start_time": "2023-11-02T15:21:05.630Z"
   },
   {
    "duration": 5,
    "start_time": "2023-11-02T15:21:05.798Z"
   },
   {
    "duration": 48,
    "start_time": "2023-11-02T15:21:05.954Z"
   },
   {
    "duration": 107,
    "start_time": "2023-11-02T15:21:06.122Z"
   },
   {
    "duration": 1386,
    "start_time": "2023-11-02T15:21:06.457Z"
   },
   {
    "duration": 5,
    "start_time": "2023-11-02T15:21:07.845Z"
   },
   {
    "duration": 30,
    "start_time": "2023-11-02T15:21:07.851Z"
   },
   {
    "duration": 16,
    "start_time": "2023-11-02T15:21:07.883Z"
   },
   {
    "duration": 347,
    "start_time": "2023-11-02T15:21:07.900Z"
   },
   {
    "duration": 100,
    "start_time": "2023-11-02T15:21:08.249Z"
   },
   {
    "duration": 154,
    "start_time": "2023-11-02T15:21:08.351Z"
   },
   {
    "duration": 12,
    "start_time": "2023-11-02T15:21:08.508Z"
   },
   {
    "duration": 10,
    "start_time": "2023-11-02T15:21:08.610Z"
   },
   {
    "duration": 13,
    "start_time": "2023-11-02T15:21:08.804Z"
   },
   {
    "duration": 5,
    "start_time": "2023-11-02T15:21:09.136Z"
   },
   {
    "duration": 12,
    "start_time": "2023-11-02T15:21:09.308Z"
   },
   {
    "duration": 4,
    "start_time": "2023-11-02T15:21:10.160Z"
   },
   {
    "duration": 5,
    "start_time": "2023-11-02T15:21:10.330Z"
   },
   {
    "duration": 12,
    "start_time": "2023-11-02T15:21:10.519Z"
   },
   {
    "duration": 8,
    "start_time": "2023-11-02T15:21:10.674Z"
   },
   {
    "duration": 8,
    "start_time": "2023-11-02T15:21:10.843Z"
   },
   {
    "duration": 8,
    "start_time": "2023-11-02T15:21:11.020Z"
   },
   {
    "duration": 18,
    "start_time": "2023-11-02T15:21:11.374Z"
   },
   {
    "duration": 435,
    "start_time": "2023-11-02T15:21:11.707Z"
   },
   {
    "duration": 10635,
    "start_time": "2023-11-02T15:21:12.248Z"
   },
   {
    "duration": 222,
    "start_time": "2023-11-02T15:21:22.885Z"
   },
   {
    "duration": 184,
    "start_time": "2023-11-02T15:21:23.200Z"
   },
   {
    "duration": 116,
    "start_time": "2023-11-02T15:21:23.386Z"
   },
   {
    "duration": 101,
    "start_time": "2023-11-02T15:21:23.505Z"
   },
   {
    "duration": 569,
    "start_time": "2023-11-02T15:21:23.608Z"
   },
   {
    "duration": 22148,
    "start_time": "2023-11-02T15:21:24.179Z"
   },
   {
    "duration": 175,
    "start_time": "2023-11-02T15:21:46.328Z"
   },
   {
    "duration": 202,
    "start_time": "2023-11-02T15:21:46.505Z"
   },
   {
    "duration": 98,
    "start_time": "2023-11-02T15:21:46.712Z"
   },
   {
    "duration": 281,
    "start_time": "2023-11-02T15:21:46.901Z"
   },
   {
    "duration": 6068,
    "start_time": "2023-11-02T15:21:47.184Z"
   },
   {
    "duration": 153,
    "start_time": "2023-11-02T15:21:53.254Z"
   },
   {
    "duration": 293,
    "start_time": "2023-11-02T15:21:53.409Z"
   },
   {
    "duration": 466,
    "start_time": "2023-11-02T15:21:53.708Z"
   },
   {
    "duration": 31,
    "start_time": "2023-11-02T15:21:54.176Z"
   },
   {
    "duration": 898,
    "start_time": "2023-11-02T15:27:48.365Z"
   },
   {
    "duration": 13,
    "start_time": "2023-11-02T15:28:33.418Z"
   },
   {
    "duration": 898,
    "start_time": "2023-11-02T15:28:37.749Z"
   },
   {
    "duration": 934,
    "start_time": "2023-11-02T15:31:08.330Z"
   },
   {
    "duration": 56,
    "start_time": "2023-11-02T15:31:09.328Z"
   },
   {
    "duration": 10898,
    "start_time": "2023-11-02T15:33:37.279Z"
   },
   {
    "duration": 279,
    "start_time": "2023-11-02T15:33:58.326Z"
   },
   {
    "duration": 18,
    "start_time": "2023-11-02T15:34:07.711Z"
   },
   {
    "duration": 21,
    "start_time": "2023-11-02T15:35:24.671Z"
   },
   {
    "duration": 4,
    "start_time": "2023-11-02T15:36:49.570Z"
   },
   {
    "duration": 49,
    "start_time": "2023-11-02T15:36:49.575Z"
   },
   {
    "duration": 13,
    "start_time": "2023-11-02T15:36:49.626Z"
   },
   {
    "duration": 52,
    "start_time": "2023-11-02T15:36:49.641Z"
   },
   {
    "duration": 21,
    "start_time": "2023-11-02T15:36:49.695Z"
   },
   {
    "duration": 114,
    "start_time": "2023-11-02T15:36:49.718Z"
   },
   {
    "duration": 5,
    "start_time": "2023-11-02T15:36:49.834Z"
   },
   {
    "duration": 22,
    "start_time": "2023-11-02T15:36:49.841Z"
   },
   {
    "duration": 127,
    "start_time": "2023-11-02T15:36:49.865Z"
   },
   {
    "duration": 10,
    "start_time": "2023-11-02T15:36:49.994Z"
   },
   {
    "duration": 54,
    "start_time": "2023-11-02T15:36:50.005Z"
   },
   {
    "duration": 132,
    "start_time": "2023-11-02T15:36:50.061Z"
   },
   {
    "duration": 7,
    "start_time": "2023-11-02T15:36:50.195Z"
   },
   {
    "duration": 28,
    "start_time": "2023-11-02T15:36:50.205Z"
   },
   {
    "duration": 144,
    "start_time": "2023-11-02T15:36:50.234Z"
   },
   {
    "duration": 5,
    "start_time": "2023-11-02T15:36:50.380Z"
   },
   {
    "duration": 15,
    "start_time": "2023-11-02T15:36:50.402Z"
   },
   {
    "duration": 155,
    "start_time": "2023-11-02T15:36:50.419Z"
   },
   {
    "duration": 4,
    "start_time": "2023-11-02T15:36:50.576Z"
   },
   {
    "duration": 21,
    "start_time": "2023-11-02T15:36:50.582Z"
   },
   {
    "duration": 122,
    "start_time": "2023-11-02T15:36:50.605Z"
   },
   {
    "duration": 1523,
    "start_time": "2023-11-02T15:36:50.730Z"
   },
   {
    "duration": 5,
    "start_time": "2023-11-02T15:36:52.255Z"
   },
   {
    "duration": 34,
    "start_time": "2023-11-02T15:36:52.262Z"
   },
   {
    "duration": 21,
    "start_time": "2023-11-02T15:36:52.298Z"
   },
   {
    "duration": 110,
    "start_time": "2023-11-02T15:36:52.321Z"
   },
   {
    "duration": 107,
    "start_time": "2023-11-02T15:36:52.433Z"
   },
   {
    "duration": 124,
    "start_time": "2023-11-02T15:36:52.542Z"
   },
   {
    "duration": 14,
    "start_time": "2023-11-02T15:36:52.668Z"
   },
   {
    "duration": 21,
    "start_time": "2023-11-02T15:36:52.684Z"
   },
   {
    "duration": 44,
    "start_time": "2023-11-02T15:36:52.706Z"
   },
   {
    "duration": 7,
    "start_time": "2023-11-02T15:36:52.752Z"
   },
   {
    "duration": 53,
    "start_time": "2023-11-02T15:36:52.761Z"
   },
   {
    "duration": 40,
    "start_time": "2023-11-02T15:36:52.816Z"
   },
   {
    "duration": 30,
    "start_time": "2023-11-02T15:36:52.858Z"
   },
   {
    "duration": 27,
    "start_time": "2023-11-02T15:36:52.889Z"
   },
   {
    "duration": 30,
    "start_time": "2023-11-02T15:36:52.918Z"
   },
   {
    "duration": 18,
    "start_time": "2023-11-02T15:36:52.950Z"
   },
   {
    "duration": 16,
    "start_time": "2023-11-02T15:36:52.970Z"
   },
   {
    "duration": 25,
    "start_time": "2023-11-02T15:36:52.988Z"
   },
   {
    "duration": 459,
    "start_time": "2023-11-02T15:36:53.019Z"
   },
   {
    "duration": 10458,
    "start_time": "2023-11-02T15:36:53.480Z"
   },
   {
    "duration": 267,
    "start_time": "2023-11-02T15:37:03.940Z"
   },
   {
    "duration": 272,
    "start_time": "2023-11-02T15:37:04.209Z"
   },
   {
    "duration": 27,
    "start_time": "2023-11-02T15:37:04.482Z"
   },
   {
    "duration": 92,
    "start_time": "2023-11-02T15:37:04.511Z"
   },
   {
    "duration": 695,
    "start_time": "2023-11-02T15:37:04.607Z"
   },
   {
    "duration": 21600,
    "start_time": "2023-11-02T15:37:05.304Z"
   },
   {
    "duration": 297,
    "start_time": "2023-11-02T15:37:26.906Z"
   },
   {
    "duration": 294,
    "start_time": "2023-11-02T15:37:27.207Z"
   },
   {
    "duration": 102,
    "start_time": "2023-11-02T15:37:27.504Z"
   },
   {
    "duration": 237,
    "start_time": "2023-11-02T15:37:27.607Z"
   },
   {
    "duration": 6036,
    "start_time": "2023-11-02T15:37:27.846Z"
   },
   {
    "duration": 121,
    "start_time": "2023-11-02T15:37:33.883Z"
   },
   {
    "duration": 195,
    "start_time": "2023-11-02T15:37:34.008Z"
   },
   {
    "duration": 1081,
    "start_time": "2023-11-02T15:37:34.205Z"
   },
   {
    "duration": 63,
    "start_time": "2023-11-02T15:37:35.287Z"
   },
   {
    "duration": 750,
    "start_time": "2023-11-02T15:38:17.808Z"
   },
   {
    "duration": 49,
    "start_time": "2023-11-02T15:38:26.949Z"
   },
   {
    "duration": 304,
    "start_time": "2023-11-02T15:39:25.782Z"
   },
   {
    "duration": 740,
    "start_time": "2023-11-02T15:39:30.774Z"
   },
   {
    "duration": 45,
    "start_time": "2023-11-02T15:40:07.979Z"
   },
   {
    "duration": 3371,
    "start_time": "2023-11-02T18:31:57.198Z"
   },
   {
    "duration": 95,
    "start_time": "2023-11-02T18:32:00.571Z"
   },
   {
    "duration": 63,
    "start_time": "2023-11-02T18:32:00.667Z"
   },
   {
    "duration": 50,
    "start_time": "2023-11-02T18:32:00.733Z"
   },
   {
    "duration": 44,
    "start_time": "2023-11-02T18:32:00.785Z"
   },
   {
    "duration": 191,
    "start_time": "2023-11-02T18:32:00.831Z"
   },
   {
    "duration": 0,
    "start_time": "2023-11-02T18:32:01.026Z"
   },
   {
    "duration": 0,
    "start_time": "2023-11-02T18:32:01.029Z"
   },
   {
    "duration": 0,
    "start_time": "2023-11-02T18:32:01.030Z"
   },
   {
    "duration": 0,
    "start_time": "2023-11-02T18:32:01.032Z"
   },
   {
    "duration": 0,
    "start_time": "2023-11-02T18:32:01.034Z"
   },
   {
    "duration": 0,
    "start_time": "2023-11-02T18:32:01.035Z"
   },
   {
    "duration": 0,
    "start_time": "2023-11-02T18:32:01.036Z"
   },
   {
    "duration": 0,
    "start_time": "2023-11-02T18:32:01.038Z"
   },
   {
    "duration": 0,
    "start_time": "2023-11-02T18:32:01.039Z"
   },
   {
    "duration": 0,
    "start_time": "2023-11-02T18:32:01.041Z"
   },
   {
    "duration": 0,
    "start_time": "2023-11-02T18:32:01.042Z"
   },
   {
    "duration": 0,
    "start_time": "2023-11-02T18:32:01.044Z"
   },
   {
    "duration": 0,
    "start_time": "2023-11-02T18:32:01.045Z"
   },
   {
    "duration": 0,
    "start_time": "2023-11-02T18:32:01.046Z"
   },
   {
    "duration": 0,
    "start_time": "2023-11-02T18:32:01.048Z"
   },
   {
    "duration": 0,
    "start_time": "2023-11-02T18:32:01.050Z"
   },
   {
    "duration": 0,
    "start_time": "2023-11-02T18:32:01.051Z"
   },
   {
    "duration": 0,
    "start_time": "2023-11-02T18:32:01.053Z"
   },
   {
    "duration": 0,
    "start_time": "2023-11-02T18:32:01.054Z"
   },
   {
    "duration": 0,
    "start_time": "2023-11-02T18:32:01.056Z"
   },
   {
    "duration": 0,
    "start_time": "2023-11-02T18:32:01.057Z"
   },
   {
    "duration": 0,
    "start_time": "2023-11-02T18:32:01.058Z"
   },
   {
    "duration": 0,
    "start_time": "2023-11-02T18:32:01.060Z"
   },
   {
    "duration": 0,
    "start_time": "2023-11-02T18:32:01.110Z"
   },
   {
    "duration": 0,
    "start_time": "2023-11-02T18:32:01.111Z"
   },
   {
    "duration": 0,
    "start_time": "2023-11-02T18:32:01.112Z"
   },
   {
    "duration": 0,
    "start_time": "2023-11-02T18:32:01.130Z"
   },
   {
    "duration": 0,
    "start_time": "2023-11-02T18:32:01.131Z"
   },
   {
    "duration": 0,
    "start_time": "2023-11-02T18:32:01.132Z"
   },
   {
    "duration": 0,
    "start_time": "2023-11-02T18:32:01.133Z"
   },
   {
    "duration": 0,
    "start_time": "2023-11-02T18:32:01.134Z"
   },
   {
    "duration": 0,
    "start_time": "2023-11-02T18:32:01.135Z"
   },
   {
    "duration": 0,
    "start_time": "2023-11-02T18:32:01.136Z"
   },
   {
    "duration": 0,
    "start_time": "2023-11-02T18:32:01.137Z"
   },
   {
    "duration": 0,
    "start_time": "2023-11-02T18:32:01.138Z"
   },
   {
    "duration": 0,
    "start_time": "2023-11-02T18:32:01.139Z"
   },
   {
    "duration": 0,
    "start_time": "2023-11-02T18:32:01.140Z"
   },
   {
    "duration": 0,
    "start_time": "2023-11-02T18:32:01.141Z"
   },
   {
    "duration": 0,
    "start_time": "2023-11-02T18:32:01.142Z"
   },
   {
    "duration": 0,
    "start_time": "2023-11-02T18:32:01.143Z"
   },
   {
    "duration": 0,
    "start_time": "2023-11-02T18:32:01.143Z"
   },
   {
    "duration": 0,
    "start_time": "2023-11-02T18:32:01.145Z"
   },
   {
    "duration": 0,
    "start_time": "2023-11-02T18:32:01.145Z"
   },
   {
    "duration": 0,
    "start_time": "2023-11-02T18:32:01.147Z"
   },
   {
    "duration": 1,
    "start_time": "2023-11-02T18:32:01.148Z"
   },
   {
    "duration": 0,
    "start_time": "2023-11-02T18:32:01.150Z"
   },
   {
    "duration": 0,
    "start_time": "2023-11-02T18:32:01.151Z"
   },
   {
    "duration": 0,
    "start_time": "2023-11-02T18:32:01.152Z"
   },
   {
    "duration": 0,
    "start_time": "2023-11-02T18:32:01.153Z"
   },
   {
    "duration": 0,
    "start_time": "2023-11-02T18:32:01.213Z"
   },
   {
    "duration": 0,
    "start_time": "2023-11-02T18:32:01.213Z"
   },
   {
    "duration": 1413,
    "start_time": "2023-11-02T18:35:23.270Z"
   },
   {
    "duration": 5,
    "start_time": "2023-11-02T18:36:11.337Z"
   },
   {
    "duration": 12,
    "start_time": "2023-11-02T18:36:18.450Z"
   },
   {
    "duration": 3203,
    "start_time": "2023-11-02T18:39:44.788Z"
   },
   {
    "duration": 44,
    "start_time": "2023-11-02T18:39:47.993Z"
   },
   {
    "duration": 14,
    "start_time": "2023-11-02T18:39:48.039Z"
   },
   {
    "duration": 25,
    "start_time": "2023-11-02T18:39:48.055Z"
   },
   {
    "duration": 5,
    "start_time": "2023-11-02T18:39:48.082Z"
   },
   {
    "duration": 1601,
    "start_time": "2023-11-02T18:39:48.088Z"
   },
   {
    "duration": 0,
    "start_time": "2023-11-02T18:39:49.692Z"
   },
   {
    "duration": 0,
    "start_time": "2023-11-02T18:39:49.693Z"
   },
   {
    "duration": 0,
    "start_time": "2023-11-02T18:39:49.694Z"
   },
   {
    "duration": 0,
    "start_time": "2023-11-02T18:39:49.695Z"
   },
   {
    "duration": 0,
    "start_time": "2023-11-02T18:39:49.695Z"
   },
   {
    "duration": 0,
    "start_time": "2023-11-02T18:39:49.697Z"
   },
   {
    "duration": 0,
    "start_time": "2023-11-02T18:39:49.698Z"
   },
   {
    "duration": 0,
    "start_time": "2023-11-02T18:39:49.698Z"
   },
   {
    "duration": 0,
    "start_time": "2023-11-02T18:39:49.699Z"
   },
   {
    "duration": 0,
    "start_time": "2023-11-02T18:39:49.700Z"
   },
   {
    "duration": 0,
    "start_time": "2023-11-02T18:39:49.701Z"
   },
   {
    "duration": 0,
    "start_time": "2023-11-02T18:39:49.703Z"
   },
   {
    "duration": 0,
    "start_time": "2023-11-02T18:39:49.704Z"
   },
   {
    "duration": 0,
    "start_time": "2023-11-02T18:39:49.705Z"
   },
   {
    "duration": 0,
    "start_time": "2023-11-02T18:39:49.706Z"
   },
   {
    "duration": 0,
    "start_time": "2023-11-02T18:39:49.707Z"
   },
   {
    "duration": 0,
    "start_time": "2023-11-02T18:39:49.708Z"
   },
   {
    "duration": 0,
    "start_time": "2023-11-02T18:39:49.709Z"
   },
   {
    "duration": 0,
    "start_time": "2023-11-02T18:39:49.710Z"
   },
   {
    "duration": 0,
    "start_time": "2023-11-02T18:39:49.711Z"
   },
   {
    "duration": 0,
    "start_time": "2023-11-02T18:39:49.712Z"
   },
   {
    "duration": 0,
    "start_time": "2023-11-02T18:39:49.713Z"
   },
   {
    "duration": 0,
    "start_time": "2023-11-02T18:39:49.714Z"
   },
   {
    "duration": 0,
    "start_time": "2023-11-02T18:39:49.715Z"
   },
   {
    "duration": 0,
    "start_time": "2023-11-02T18:39:49.716Z"
   },
   {
    "duration": 0,
    "start_time": "2023-11-02T18:39:49.717Z"
   },
   {
    "duration": 0,
    "start_time": "2023-11-02T18:39:49.718Z"
   },
   {
    "duration": 0,
    "start_time": "2023-11-02T18:39:49.718Z"
   },
   {
    "duration": 0,
    "start_time": "2023-11-02T18:39:49.719Z"
   },
   {
    "duration": 0,
    "start_time": "2023-11-02T18:39:49.720Z"
   },
   {
    "duration": 0,
    "start_time": "2023-11-02T18:39:49.721Z"
   },
   {
    "duration": 0,
    "start_time": "2023-11-02T18:39:49.722Z"
   },
   {
    "duration": 0,
    "start_time": "2023-11-02T18:39:49.723Z"
   },
   {
    "duration": 0,
    "start_time": "2023-11-02T18:39:49.724Z"
   },
   {
    "duration": 0,
    "start_time": "2023-11-02T18:39:49.725Z"
   },
   {
    "duration": 0,
    "start_time": "2023-11-02T18:39:49.726Z"
   },
   {
    "duration": 0,
    "start_time": "2023-11-02T18:39:49.727Z"
   },
   {
    "duration": 0,
    "start_time": "2023-11-02T18:39:49.728Z"
   },
   {
    "duration": 1,
    "start_time": "2023-11-02T18:39:49.729Z"
   },
   {
    "duration": 0,
    "start_time": "2023-11-02T18:39:49.731Z"
   },
   {
    "duration": 0,
    "start_time": "2023-11-02T18:39:49.732Z"
   },
   {
    "duration": 0,
    "start_time": "2023-11-02T18:39:49.734Z"
   },
   {
    "duration": 0,
    "start_time": "2023-11-02T18:39:49.735Z"
   },
   {
    "duration": 0,
    "start_time": "2023-11-02T18:39:49.736Z"
   },
   {
    "duration": 0,
    "start_time": "2023-11-02T18:39:49.738Z"
   },
   {
    "duration": 0,
    "start_time": "2023-11-02T18:39:49.739Z"
   },
   {
    "duration": 0,
    "start_time": "2023-11-02T18:39:49.740Z"
   },
   {
    "duration": 0,
    "start_time": "2023-11-02T18:39:49.741Z"
   },
   {
    "duration": 0,
    "start_time": "2023-11-02T18:39:49.741Z"
   },
   {
    "duration": 0,
    "start_time": "2023-11-02T18:39:49.742Z"
   },
   {
    "duration": 0,
    "start_time": "2023-11-02T18:39:49.743Z"
   },
   {
    "duration": 988,
    "start_time": "2023-11-02T19:02:20.446Z"
   },
   {
    "duration": 669,
    "start_time": "2023-11-02T19:02:27.128Z"
   },
   {
    "duration": 160,
    "start_time": "2023-11-02T19:02:27.799Z"
   },
   {
    "duration": 15,
    "start_time": "2023-11-02T19:02:27.960Z"
   },
   {
    "duration": 19,
    "start_time": "2023-11-02T19:02:28.054Z"
   },
   {
    "duration": 4,
    "start_time": "2023-11-02T19:02:28.219Z"
   },
   {
    "duration": 1245,
    "start_time": "2023-11-02T19:02:28.392Z"
   },
   {
    "duration": 0,
    "start_time": "2023-11-02T19:02:29.639Z"
   },
   {
    "duration": 0,
    "start_time": "2023-11-02T19:02:29.640Z"
   },
   {
    "duration": 0,
    "start_time": "2023-11-02T19:02:29.642Z"
   },
   {
    "duration": 0,
    "start_time": "2023-11-02T19:02:29.643Z"
   },
   {
    "duration": 15,
    "start_time": "2023-11-02T19:02:34.199Z"
   },
   {
    "duration": 4,
    "start_time": "2023-11-02T19:03:52.960Z"
   },
   {
    "duration": 118,
    "start_time": "2023-11-02T19:03:53.285Z"
   },
   {
    "duration": 5,
    "start_time": "2023-11-02T19:03:55.760Z"
   },
   {
    "duration": 12,
    "start_time": "2023-11-02T19:03:57.725Z"
   },
   {
    "duration": 5,
    "start_time": "2023-11-02T19:04:08.523Z"
   },
   {
    "duration": 108,
    "start_time": "2023-11-02T19:04:09.804Z"
   },
   {
    "duration": 5,
    "start_time": "2023-11-02T19:04:10.178Z"
   },
   {
    "duration": 6,
    "start_time": "2023-11-02T19:04:10.916Z"
   },
   {
    "duration": 103,
    "start_time": "2023-11-02T19:04:11.728Z"
   },
   {
    "duration": 4,
    "start_time": "2023-11-02T19:04:12.516Z"
   },
   {
    "duration": 5,
    "start_time": "2023-11-02T19:04:12.958Z"
   },
   {
    "duration": 109,
    "start_time": "2023-11-02T19:04:13.413Z"
   },
   {
    "duration": 4,
    "start_time": "2023-11-02T19:04:13.763Z"
   },
   {
    "duration": 6,
    "start_time": "2023-11-02T19:04:14.168Z"
   },
   {
    "duration": 182,
    "start_time": "2023-11-02T19:04:14.506Z"
   },
   {
    "duration": 5,
    "start_time": "2023-11-02T19:04:14.893Z"
   },
   {
    "duration": 5,
    "start_time": "2023-11-02T19:04:15.737Z"
   },
   {
    "duration": 103,
    "start_time": "2023-11-02T19:04:16.207Z"
   },
   {
    "duration": 1318,
    "start_time": "2023-11-02T19:04:34.529Z"
   },
   {
    "duration": 10,
    "start_time": "2023-11-02T19:13:29.030Z"
   },
   {
    "duration": 3,
    "start_time": "2023-11-02T19:14:11.931Z"
   },
   {
    "duration": 18,
    "start_time": "2023-11-02T19:14:12.314Z"
   },
   {
    "duration": 3,
    "start_time": "2023-11-02T19:14:31.093Z"
   },
   {
    "duration": 39,
    "start_time": "2023-11-02T19:14:31.721Z"
   },
   {
    "duration": 11,
    "start_time": "2023-11-02T19:14:31.882Z"
   },
   {
    "duration": 15,
    "start_time": "2023-11-02T19:14:32.039Z"
   },
   {
    "duration": 4,
    "start_time": "2023-11-02T19:14:32.199Z"
   },
   {
    "duration": 108,
    "start_time": "2023-11-02T19:14:32.355Z"
   },
   {
    "duration": 5,
    "start_time": "2023-11-02T19:14:32.679Z"
   },
   {
    "duration": 6,
    "start_time": "2023-11-02T19:14:32.824Z"
   },
   {
    "duration": 120,
    "start_time": "2023-11-02T19:14:33.255Z"
   },
   {
    "duration": 6,
    "start_time": "2023-11-02T19:14:34.401Z"
   },
   {
    "duration": 6,
    "start_time": "2023-11-02T19:14:34.838Z"
   },
   {
    "duration": 107,
    "start_time": "2023-11-02T19:14:35.199Z"
   },
   {
    "duration": 5,
    "start_time": "2023-11-02T19:14:35.409Z"
   },
   {
    "duration": 5,
    "start_time": "2023-11-02T19:14:35.605Z"
   },
   {
    "duration": 208,
    "start_time": "2023-11-02T19:14:35.930Z"
   },
   {
    "duration": 7,
    "start_time": "2023-11-02T19:14:36.139Z"
   },
   {
    "duration": 6,
    "start_time": "2023-11-02T19:14:36.288Z"
   },
   {
    "duration": 102,
    "start_time": "2023-11-02T19:14:37.048Z"
   },
   {
    "duration": 4,
    "start_time": "2023-11-02T19:14:37.153Z"
   },
   {
    "duration": 30,
    "start_time": "2023-11-02T19:14:37.159Z"
   },
   {
    "duration": 107,
    "start_time": "2023-11-02T19:14:37.191Z"
   },
   {
    "duration": 3,
    "start_time": "2023-11-02T19:14:38.549Z"
   },
   {
    "duration": 6,
    "start_time": "2023-11-02T19:14:39.033Z"
   },
   {
    "duration": 5,
    "start_time": "2023-11-02T19:14:43.626Z"
   },
   {
    "duration": 12,
    "start_time": "2023-11-02T19:14:44.255Z"
   },
   {
    "duration": 11,
    "start_time": "2023-11-02T19:15:22.124Z"
   },
   {
    "duration": 90,
    "start_time": "2023-11-02T19:15:38.135Z"
   },
   {
    "duration": 79,
    "start_time": "2023-11-02T19:15:38.565Z"
   },
   {
    "duration": 105,
    "start_time": "2023-11-02T19:15:39.763Z"
   },
   {
    "duration": 10,
    "start_time": "2023-11-02T19:17:53.838Z"
   },
   {
    "duration": 3,
    "start_time": "2023-11-02T19:17:56.887Z"
   },
   {
    "duration": 4,
    "start_time": "2023-11-02T19:17:57.064Z"
   },
   {
    "duration": 11,
    "start_time": "2023-11-02T19:17:57.245Z"
   },
   {
    "duration": 9,
    "start_time": "2023-11-02T19:17:57.735Z"
   },
   {
    "duration": 12,
    "start_time": "2023-11-02T19:18:04.614Z"
   },
   {
    "duration": 4,
    "start_time": "2023-11-02T19:18:05.388Z"
   },
   {
    "duration": 13,
    "start_time": "2023-11-02T19:18:06.553Z"
   },
   {
    "duration": 3,
    "start_time": "2023-11-02T19:18:08.725Z"
   },
   {
    "duration": 5,
    "start_time": "2023-11-02T19:18:09.089Z"
   },
   {
    "duration": 13,
    "start_time": "2023-11-02T19:18:09.402Z"
   },
   {
    "duration": 8,
    "start_time": "2023-11-02T19:18:10.127Z"
   },
   {
    "duration": 10,
    "start_time": "2023-11-02T19:18:22.598Z"
   },
   {
    "duration": 10,
    "start_time": "2023-11-02T19:18:22.929Z"
   },
   {
    "duration": 4,
    "start_time": "2023-11-02T19:18:30.413Z"
   },
   {
    "duration": 39,
    "start_time": "2023-11-02T19:18:30.913Z"
   },
   {
    "duration": 12,
    "start_time": "2023-11-02T19:18:31.087Z"
   },
   {
    "duration": 16,
    "start_time": "2023-11-02T19:18:31.253Z"
   },
   {
    "duration": 4,
    "start_time": "2023-11-02T19:18:31.417Z"
   },
   {
    "duration": 106,
    "start_time": "2023-11-02T19:18:31.579Z"
   },
   {
    "duration": 4,
    "start_time": "2023-11-02T19:18:32.982Z"
   },
   {
    "duration": 5,
    "start_time": "2023-11-02T19:18:33.202Z"
   },
   {
    "duration": 103,
    "start_time": "2023-11-02T19:18:33.403Z"
   },
   {
    "duration": 5,
    "start_time": "2023-11-02T19:18:33.600Z"
   },
   {
    "duration": 5,
    "start_time": "2023-11-02T19:18:33.777Z"
   },
   {
    "duration": 104,
    "start_time": "2023-11-02T19:18:33.960Z"
   },
   {
    "duration": 5,
    "start_time": "2023-11-02T19:18:34.150Z"
   },
   {
    "duration": 4,
    "start_time": "2023-11-02T19:18:34.337Z"
   },
   {
    "duration": 112,
    "start_time": "2023-11-02T19:18:34.512Z"
   },
   {
    "duration": 5,
    "start_time": "2023-11-02T19:18:34.696Z"
   },
   {
    "duration": 6,
    "start_time": "2023-11-02T19:18:34.998Z"
   },
   {
    "duration": 106,
    "start_time": "2023-11-02T19:18:35.180Z"
   },
   {
    "duration": 4,
    "start_time": "2023-11-02T19:18:35.380Z"
   },
   {
    "duration": 5,
    "start_time": "2023-11-02T19:18:35.564Z"
   },
   {
    "duration": 98,
    "start_time": "2023-11-02T19:18:35.736Z"
   },
   {
    "duration": 3,
    "start_time": "2023-11-02T19:18:36.802Z"
   },
   {
    "duration": 8,
    "start_time": "2023-11-02T19:18:36.807Z"
   },
   {
    "duration": 12,
    "start_time": "2023-11-02T19:18:37.286Z"
   },
   {
    "duration": 10,
    "start_time": "2023-11-02T19:18:37.486Z"
   },
   {
    "duration": 92,
    "start_time": "2023-11-02T19:18:37.689Z"
   },
   {
    "duration": 77,
    "start_time": "2023-11-02T19:18:37.904Z"
   },
   {
    "duration": 92,
    "start_time": "2023-11-02T19:18:38.123Z"
   },
   {
    "duration": 11,
    "start_time": "2023-11-02T19:18:38.610Z"
   },
   {
    "duration": 9,
    "start_time": "2023-11-02T19:18:38.798Z"
   },
   {
    "duration": 12,
    "start_time": "2023-11-02T19:18:39.195Z"
   },
   {
    "duration": 5,
    "start_time": "2023-11-02T19:18:39.583Z"
   },
   {
    "duration": 11,
    "start_time": "2023-11-02T19:18:39.957Z"
   },
   {
    "duration": 3,
    "start_time": "2023-11-02T19:18:41.253Z"
   },
   {
    "duration": 4,
    "start_time": "2023-11-02T19:18:41.451Z"
   },
   {
    "duration": 12,
    "start_time": "2023-11-02T19:18:41.613Z"
   },
   {
    "duration": 9,
    "start_time": "2023-11-02T19:18:41.955Z"
   },
   {
    "duration": 10,
    "start_time": "2023-11-02T19:18:57.733Z"
   },
   {
    "duration": 8,
    "start_time": "2023-11-02T19:19:11.871Z"
   },
   {
    "duration": 3,
    "start_time": "2023-11-02T19:19:21.921Z"
   },
   {
    "duration": 4,
    "start_time": "2023-11-02T19:19:22.203Z"
   },
   {
    "duration": 10,
    "start_time": "2023-11-02T19:19:22.467Z"
   },
   {
    "duration": 10,
    "start_time": "2023-11-02T19:19:23.021Z"
   },
   {
    "duration": 8,
    "start_time": "2023-11-02T19:19:26.882Z"
   },
   {
    "duration": 9,
    "start_time": "2023-11-02T19:19:27.080Z"
   },
   {
    "duration": 17,
    "start_time": "2023-11-02T19:19:27.749Z"
   },
   {
    "duration": 4,
    "start_time": "2023-11-02T19:19:44.694Z"
   },
   {
    "duration": 38,
    "start_time": "2023-11-02T19:19:47.831Z"
   },
   {
    "duration": 12,
    "start_time": "2023-11-02T19:19:48.284Z"
   },
   {
    "duration": 15,
    "start_time": "2023-11-02T19:19:48.521Z"
   },
   {
    "duration": 4,
    "start_time": "2023-11-02T19:19:48.729Z"
   },
   {
    "duration": 187,
    "start_time": "2023-11-02T19:19:48.926Z"
   },
   {
    "duration": 4,
    "start_time": "2023-11-02T19:19:49.512Z"
   },
   {
    "duration": 6,
    "start_time": "2023-11-02T19:19:49.702Z"
   },
   {
    "duration": 117,
    "start_time": "2023-11-02T19:19:49.905Z"
   },
   {
    "duration": 4,
    "start_time": "2023-11-02T19:19:50.091Z"
   },
   {
    "duration": 5,
    "start_time": "2023-11-02T19:19:50.282Z"
   },
   {
    "duration": 97,
    "start_time": "2023-11-02T19:19:50.481Z"
   },
   {
    "duration": 4,
    "start_time": "2023-11-02T19:19:50.670Z"
   },
   {
    "duration": 5,
    "start_time": "2023-11-02T19:19:50.861Z"
   },
   {
    "duration": 113,
    "start_time": "2023-11-02T19:19:51.057Z"
   },
   {
    "duration": 4,
    "start_time": "2023-11-02T19:19:51.264Z"
   },
   {
    "duration": 4,
    "start_time": "2023-11-02T19:19:51.614Z"
   },
   {
    "duration": 102,
    "start_time": "2023-11-02T19:19:51.811Z"
   },
   {
    "duration": 4,
    "start_time": "2023-11-02T19:19:52.030Z"
   },
   {
    "duration": 4,
    "start_time": "2023-11-02T19:19:52.226Z"
   },
   {
    "duration": 106,
    "start_time": "2023-11-02T19:19:52.420Z"
   },
   {
    "duration": 3,
    "start_time": "2023-11-02T19:19:53.394Z"
   },
   {
    "duration": 5,
    "start_time": "2023-11-02T19:19:53.597Z"
   },
   {
    "duration": 15,
    "start_time": "2023-11-02T19:19:54.217Z"
   },
   {
    "duration": 10,
    "start_time": "2023-11-02T19:19:54.475Z"
   },
   {
    "duration": 87,
    "start_time": "2023-11-02T19:19:54.769Z"
   },
   {
    "duration": 89,
    "start_time": "2023-11-02T19:19:55.019Z"
   },
   {
    "duration": 96,
    "start_time": "2023-11-02T19:19:55.259Z"
   },
   {
    "duration": 12,
    "start_time": "2023-11-02T19:19:55.764Z"
   },
   {
    "duration": 9,
    "start_time": "2023-11-02T19:19:55.989Z"
   },
   {
    "duration": 14,
    "start_time": "2023-11-02T19:19:56.418Z"
   },
   {
    "duration": 5,
    "start_time": "2023-11-02T19:19:56.837Z"
   },
   {
    "duration": 11,
    "start_time": "2023-11-02T19:19:57.273Z"
   },
   {
    "duration": 3,
    "start_time": "2023-11-02T19:19:58.889Z"
   },
   {
    "duration": 4,
    "start_time": "2023-11-02T19:19:59.080Z"
   },
   {
    "duration": 13,
    "start_time": "2023-11-02T19:19:59.313Z"
   },
   {
    "duration": 10,
    "start_time": "2023-11-02T19:19:59.701Z"
   },
   {
    "duration": 3,
    "start_time": "2023-11-02T19:21:12.223Z"
   },
   {
    "duration": 4,
    "start_time": "2023-11-02T19:21:12.837Z"
   },
   {
    "duration": 12,
    "start_time": "2023-11-02T19:21:13.214Z"
   },
   {
    "duration": 9,
    "start_time": "2023-11-02T19:21:13.994Z"
   },
   {
    "duration": 26,
    "start_time": "2023-11-02T19:21:25.166Z"
   },
   {
    "duration": 27,
    "start_time": "2023-11-02T19:21:39.023Z"
   },
   {
    "duration": 3,
    "start_time": "2023-11-02T19:22:01.588Z"
   },
   {
    "duration": 24,
    "start_time": "2023-11-02T19:22:02.650Z"
   },
   {
    "duration": 24,
    "start_time": "2023-11-02T19:22:58.665Z"
   },
   {
    "duration": 17,
    "start_time": "2023-11-02T19:23:12.612Z"
   },
   {
    "duration": 473,
    "start_time": "2023-11-02T19:23:25.966Z"
   },
   {
    "duration": 39,
    "start_time": "2023-11-02T19:26:11.085Z"
   },
   {
    "duration": 10,
    "start_time": "2023-11-02T19:28:38.756Z"
   },
   {
    "duration": 3,
    "start_time": "2023-11-02T19:28:49.802Z"
   },
   {
    "duration": 14,
    "start_time": "2023-11-02T19:29:06.401Z"
   },
   {
    "duration": 5,
    "start_time": "2023-11-02T19:29:38.072Z"
   },
   {
    "duration": 10,
    "start_time": "2023-11-02T19:31:12.466Z"
   },
   {
    "duration": 12,
    "start_time": "2023-11-02T19:31:34.989Z"
   },
   {
    "duration": 18,
    "start_time": "2023-11-02T19:31:36.409Z"
   },
   {
    "duration": 487,
    "start_time": "2023-11-02T19:31:37.230Z"
   },
   {
    "duration": 4,
    "start_time": "2023-11-02T19:32:08.410Z"
   },
   {
    "duration": 11,
    "start_time": "2023-11-02T19:32:20.048Z"
   },
   {
    "duration": 11,
    "start_time": "2023-11-02T19:33:01.984Z"
   },
   {
    "duration": 8,
    "start_time": "2023-11-02T19:33:22.187Z"
   },
   {
    "duration": 6,
    "start_time": "2023-11-02T19:33:54.366Z"
   },
   {
    "duration": 22,
    "start_time": "2023-11-02T19:33:55.151Z"
   },
   {
    "duration": 483,
    "start_time": "2023-11-02T19:33:55.743Z"
   },
   {
    "duration": 11,
    "start_time": "2023-11-02T19:37:38.761Z"
   },
   {
    "duration": 7,
    "start_time": "2023-11-02T19:38:04.438Z"
   },
   {
    "duration": 60853,
    "start_time": "2023-11-02T19:38:20.130Z"
   },
   {
    "duration": 223,
    "start_time": "2023-11-02T19:40:30.922Z"
   },
   {
    "duration": 113,
    "start_time": "2023-11-02T19:40:36.221Z"
   },
   {
    "duration": 17,
    "start_time": "2023-11-02T19:40:39.621Z"
   },
   {
    "duration": 11,
    "start_time": "2023-11-02T19:43:00.786Z"
   },
   {
    "duration": 10,
    "start_time": "2023-11-02T19:44:23.081Z"
   },
   {
    "duration": 9,
    "start_time": "2023-11-02T19:44:26.817Z"
   },
   {
    "duration": 11,
    "start_time": "2023-11-02T19:44:37.464Z"
   },
   {
    "duration": 84911,
    "start_time": "2023-11-02T19:47:03.455Z"
   },
   {
    "duration": 631,
    "start_time": "2023-11-02T19:49:14.738Z"
   },
   {
    "duration": 544,
    "start_time": "2023-11-02T19:52:07.164Z"
   },
   {
    "duration": 504,
    "start_time": "2023-11-02T19:53:00.300Z"
   },
   {
    "duration": 10,
    "start_time": "2023-11-02T19:55:10.138Z"
   },
   {
    "duration": 218,
    "start_time": "2023-11-02T19:55:24.888Z"
   },
   {
    "duration": 6081,
    "start_time": "2023-11-02T19:55:26.102Z"
   },
   {
    "duration": 67,
    "start_time": "2023-11-02T19:55:32.185Z"
   },
   {
    "duration": 292,
    "start_time": "2023-11-02T19:55:32.253Z"
   },
   {
    "duration": 857,
    "start_time": "2023-11-02T19:55:32.547Z"
   },
   {
    "duration": 252,
    "start_time": "2023-11-02T19:57:56.604Z"
   },
   {
    "duration": 33069,
    "start_time": "2023-11-02T19:59:35.339Z"
   },
   {
    "duration": 83949,
    "start_time": "2023-11-02T20:02:30.740Z"
   },
   {
    "duration": 279,
    "start_time": "2023-11-02T20:03:54.690Z"
   },
   {
    "duration": 617,
    "start_time": "2023-11-02T20:06:05.136Z"
   },
   {
    "duration": 65118,
    "start_time": "2023-11-02T20:09:49.773Z"
   },
   {
    "duration": 11,
    "start_time": "2023-11-02T20:13:19.701Z"
   },
   {
    "duration": 7,
    "start_time": "2023-11-02T20:13:30.053Z"
   },
   {
    "duration": 13,
    "start_time": "2023-11-02T20:13:34.846Z"
   },
   {
    "duration": 64,
    "start_time": "2023-11-02T20:13:52.530Z"
   },
   {
    "duration": 154,
    "start_time": "2023-11-02T20:13:53.254Z"
   },
   {
    "duration": 3,
    "start_time": "2023-11-02T20:14:34.925Z"
   },
   {
    "duration": 7,
    "start_time": "2023-11-02T20:18:49.357Z"
   },
   {
    "duration": 42,
    "start_time": "2023-11-02T20:18:49.879Z"
   },
   {
    "duration": 14,
    "start_time": "2023-11-02T20:18:50.038Z"
   },
   {
    "duration": 16,
    "start_time": "2023-11-02T20:18:50.226Z"
   },
   {
    "duration": 4,
    "start_time": "2023-11-02T20:18:50.399Z"
   },
   {
    "duration": 113,
    "start_time": "2023-11-02T20:18:50.571Z"
   },
   {
    "duration": 5,
    "start_time": "2023-11-02T20:18:51.695Z"
   },
   {
    "duration": 5,
    "start_time": "2023-11-02T20:18:51.873Z"
   },
   {
    "duration": 134,
    "start_time": "2023-11-02T20:18:52.044Z"
   },
   {
    "duration": 4,
    "start_time": "2023-11-02T20:18:53.428Z"
   },
   {
    "duration": 6,
    "start_time": "2023-11-02T20:18:53.666Z"
   },
   {
    "duration": 135,
    "start_time": "2023-11-02T20:18:53.950Z"
   },
   {
    "duration": 7,
    "start_time": "2023-11-02T20:18:54.269Z"
   },
   {
    "duration": 6,
    "start_time": "2023-11-02T20:18:54.643Z"
   },
   {
    "duration": 126,
    "start_time": "2023-11-02T20:18:54.884Z"
   },
   {
    "duration": 4,
    "start_time": "2023-11-02T20:18:55.135Z"
   },
   {
    "duration": 6,
    "start_time": "2023-11-02T20:18:55.548Z"
   },
   {
    "duration": 212,
    "start_time": "2023-11-02T20:18:55.755Z"
   },
   {
    "duration": 5,
    "start_time": "2023-11-02T20:18:55.970Z"
   },
   {
    "duration": 5,
    "start_time": "2023-11-02T20:18:56.140Z"
   },
   {
    "duration": 135,
    "start_time": "2023-11-02T20:18:56.339Z"
   },
   {
    "duration": 6,
    "start_time": "2023-11-02T20:18:58.066Z"
   },
   {
    "duration": 5,
    "start_time": "2023-11-02T20:18:58.279Z"
   },
   {
    "duration": 12,
    "start_time": "2023-11-02T20:18:59.773Z"
   },
   {
    "duration": 20,
    "start_time": "2023-11-02T20:19:00.155Z"
   },
   {
    "duration": 122,
    "start_time": "2023-11-02T20:19:00.649Z"
   },
   {
    "duration": 103,
    "start_time": "2023-11-02T20:19:01.127Z"
   },
   {
    "duration": 122,
    "start_time": "2023-11-02T20:19:01.688Z"
   },
   {
    "duration": 11,
    "start_time": "2023-11-02T20:19:02.570Z"
   },
   {
    "duration": 10,
    "start_time": "2023-11-02T20:19:03.019Z"
   },
   {
    "duration": 12,
    "start_time": "2023-11-02T20:19:25.720Z"
   },
   {
    "duration": 6,
    "start_time": "2023-11-02T20:19:26.408Z"
   },
   {
    "duration": 17,
    "start_time": "2023-11-02T20:19:26.936Z"
   },
   {
    "duration": 4,
    "start_time": "2023-11-02T20:19:29.468Z"
   },
   {
    "duration": 13,
    "start_time": "2023-11-02T20:19:29.970Z"
   },
   {
    "duration": 6,
    "start_time": "2023-11-02T20:19:30.384Z"
   },
   {
    "duration": 17,
    "start_time": "2023-11-02T20:19:31.988Z"
   },
   {
    "duration": 534,
    "start_time": "2023-11-02T20:19:33.117Z"
   },
   {
    "duration": 65448,
    "start_time": "2023-11-02T20:19:42.576Z"
   },
   {
    "duration": 141,
    "start_time": "2023-11-02T20:20:48.027Z"
   },
   {
    "duration": 67399,
    "start_time": "2023-11-02T20:21:31.961Z"
   },
   {
    "duration": 687,
    "start_time": "2023-11-02T20:22:39.362Z"
   },
   {
    "duration": 207,
    "start_time": "2023-11-02T20:22:40.052Z"
   },
   {
    "duration": 361,
    "start_time": "2023-11-02T20:22:44.197Z"
   },
   {
    "duration": 114,
    "start_time": "2023-11-02T20:22:46.405Z"
   },
   {
    "duration": 18,
    "start_time": "2023-11-02T20:22:47.994Z"
   },
   {
    "duration": 66579,
    "start_time": "2023-11-02T20:22:48.557Z"
   },
   {
    "duration": 13,
    "start_time": "2023-11-02T20:23:55.144Z"
   },
   {
    "duration": 16,
    "start_time": "2023-11-02T20:23:58.152Z"
   },
   {
    "duration": 666,
    "start_time": "2023-11-02T20:23:59.030Z"
   },
   {
    "duration": 90126,
    "start_time": "2023-11-02T20:23:59.859Z"
   },
   {
    "duration": 467,
    "start_time": "2023-11-02T20:25:29.988Z"
   },
   {
    "duration": 15,
    "start_time": "2023-11-02T20:25:34.379Z"
   },
   {
    "duration": 301,
    "start_time": "2023-11-02T20:25:35.151Z"
   },
   {
    "duration": 36704,
    "start_time": "2023-11-02T20:25:36.437Z"
   },
   {
    "duration": 132,
    "start_time": "2023-11-02T20:26:13.142Z"
   },
   {
    "duration": 613,
    "start_time": "2023-11-02T20:32:52.312Z"
   },
   {
    "duration": 719,
    "start_time": "2023-11-02T20:33:45.265Z"
   },
   {
    "duration": 48,
    "start_time": "2023-11-02T20:33:55.508Z"
   },
   {
    "duration": 152,
    "start_time": "2023-11-02T20:33:56.475Z"
   }
  ],
  "kernelspec": {
   "display_name": "Python 3 (ipykernel)",
   "language": "python",
   "name": "python3"
  },
  "language_info": {
   "codemirror_mode": {
    "name": "ipython",
    "version": 3
   },
   "file_extension": ".py",
   "mimetype": "text/x-python",
   "name": "python",
   "nbconvert_exporter": "python",
   "pygments_lexer": "ipython3",
   "version": "3.9.5"
  },
  "toc": {
   "base_numbering": 1,
   "nav_menu": {},
   "number_sections": true,
   "sideBar": true,
   "skip_h1_title": true,
   "title_cell": "Содержание",
   "title_sidebar": "Contents",
   "toc_cell": true,
   "toc_position": {},
   "toc_section_display": true,
   "toc_window_display": false
  }
 },
 "nbformat": 4,
 "nbformat_minor": 2
}
