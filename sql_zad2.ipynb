{
 "cells": [
  {
   "cell_type": "markdown",
   "metadata": {},
   "source": [
    "Найдите количество вопросов, которые набрали больше 300 очков или как минимум 100 раз были добавлены в «Закладки»."
   ]
  },
  {
   "cell_type": "code",
   "execution_count": null,
   "metadata": {},
   "outputs": [],
   "source": [
    "SELECT COUNT(*)\n",
    "FROM stackoverflow.posts\n",
    "WHERE (score > 300 OR favorites_count >= 100) AND post_type_id = (SELECT id FROM stackoverflow.post_types WHERE type = 'Question');"
   ]
  },
  {
   "cell_type": "markdown",
   "metadata": {},
   "source": [
    "\n",
    "Сколько в среднем в день задавали вопросов с 1 по 18 ноября 2008 включительно? Результат округлите до целого числа."
   ]
  },
  {
   "cell_type": "code",
   "execution_count": null,
   "metadata": {},
   "outputs": [],
   "source": [
    "WITH questions AS (\n",
    "  SELECT DATE_TRUNC('day', creation_date)::date AS question_date,\n",
    "         COUNT(*) AS count\n",
    "  FROM stackoverflow.posts\n",
    "  JOIN stackoverflow.post_types ON stackoverflow.posts.post_type_id = stackoverflow.post_types.id\n",
    "  WHERE stackoverflow.post_types.type = 'Question'\n",
    "    AND creation_date::date BETWEEN '2008-11-01' AND '2008-11-18'\n",
    "  GROUP BY question_date\n",
    ")\n",
    "SELECT ROUND(AVG(count))::int AS average_questions_per_day\n",
    "FROM questions;"
   ]
  },
  {
   "cell_type": "markdown",
   "metadata": {},
   "source": [
    "Сколько пользователей получили значки сразу в день регистрации? Выведите количество уникальных пользователей."
   ]
  },
  {
   "cell_type": "code",
   "execution_count": null,
   "metadata": {},
   "outputs": [],
   "source": [
    "SELECT COUNT(DISTINCT stackoverflow.users.id) AS users_with_badges_on_registration_day\n",
    "FROM stackoverflow.users\n",
    "JOIN stackoverflow.badges\n",
    "ON stackoverflow.users.id = stackoverflow.badges.user_id\n",
    "WHERE DATE_TRUNC('day', stackoverflow.users.creation_date) = DATE_TRUNC('day', stackoverflow.badges.creation_date);"
   ]
  },
  {
   "cell_type": "markdown",
   "metadata": {},
   "source": [
    "Сколько уникальных постов пользователя с именем Joel Coehoorn получили хотя бы один голос?"
   ]
  },
  {
   "cell_type": "code",
   "execution_count": null,
   "metadata": {},
   "outputs": [],
   "source": [
    "SELECT COUNT(DISTINCT posts.id) AS unique_posts_with_votes\n",
    "FROM stackoverflow.users\n",
    "JOIN stackoverflow.posts ON users.id = posts.user_id\n",
    "LEFT JOIN stackoverflow.votes ON posts.id = votes.post_id\n",
    "WHERE users.display_name = 'Joel Coehoorn' AND votes.id IS NOT NULL;"
   ]
  },
  {
   "cell_type": "markdown",
   "metadata": {},
   "source": [
    "\n",
    "Выгрузите все поля таблицы vote_types. Добавьте к таблице поле rank, в которое войдут номера записей в обратном порядке. Таблица должна быть отсортирована по полю id."
   ]
  },
  {
   "cell_type": "code",
   "execution_count": null,
   "metadata": {},
   "outputs": [],
   "source": [
    "SELECT *,\n",
    "       RANK() OVER (ORDER BY id DESC) AS rank\n",
    "FROM stackoverflow.vote_types\n",
    "ORDER BY id;"
   ]
  },
  {
   "cell_type": "markdown",
   "metadata": {},
   "source": [
    "Отберите 10 пользователей, которые поставили больше всего голосов типа Close. Отобразите таблицу из двух полей: идентификатором пользователя и количеством голосов. Отсортируйте данные сначала по убыванию количества голосов, потом по убыванию значения идентификатора пользователя."
   ]
  },
  {
   "cell_type": "code",
   "execution_count": null,
   "metadata": {},
   "outputs": [],
   "source": [
    "SELECT votes.user_id AS user_votes,\n",
    "       COUNT (votes.id) AS votes_cnt\n",
    "FROM stackoverflow.votes\n",
    "JOIN stackoverflow.vote_types\n",
    "ON vote_types.id = stackoverflow.votes.vote_type_id\n",
    "WHERE vote_types.name = 'Close'  \n",
    "GROUP BY user_votes\n",
    "ORDER BY votes_cnt DESC,\n",
    "         user_votes DESC\n",
    "LIMIT 10;"
   ]
  },
  {
   "cell_type": "markdown",
   "metadata": {},
   "source": [
    "\n",
    "Отберите 10 пользователей по количеству значков, полученных в период с 15 ноября по 15 декабря 2008 года включительно.\n",
    "Отобразите несколько полей:\n",
    "идентификатор пользователя;\n",
    "число значков;\n",
    "место в рейтинге — чем больше значков, тем выше рейтинг.\n",
    "Пользователям, которые набрали одинаковое количество значков, присвойте одно и то же место в рейтинге.\n",
    "Отсортируйте записи по количеству значков по убыванию, а затем по возрастанию значения идентификатора пользователя."
   ]
  },
  {
   "cell_type": "code",
   "execution_count": null,
   "metadata": {},
   "outputs": [],
   "source": [
    "SELECT user_id,\n",
    "       COUNT(id),\n",
    "       DENSE_RANK() OVER (ORDER BY COUNT(id) DESC)\n",
    "FROM stackoverflow.badges\n",
    "WHERE creation_date::date BETWEEN '2008-11-15' AND '2008-12-15'\n",
    "GROUP BY user_id\n",
    "ORDER BY COUNT(id) DESC,\n",
    "         user_id\n",
    "LIMIT 10;"
   ]
  },
  {
   "cell_type": "markdown",
   "metadata": {},
   "source": [
    "\n",
    "Сколько в среднем очков получает пост каждого пользователя?\n",
    "Сформируйте таблицу из следующих полей:\n",
    "заголовок поста;\n",
    "идентификатор пользователя;\n",
    "число очков поста;\n",
    "среднее число очков пользователя за пост, округлённое до целого числа.\n",
    "Не учитывайте посты без заголовка, а также те, что набрали ноль очков."
   ]
  },
  {
   "cell_type": "code",
   "execution_count": null,
   "metadata": {},
   "outputs": [],
   "source": [
    "SELECT title, user_id, score,\n",
    "       ROUND(AVG(score) OVER (PARTITION BY user_id))::int\n",
    "FROM stackoverflow.posts     \n",
    "WHERE title IS NOT NULL\n",
    "      AND score != 0; "
   ]
  },
  {
   "cell_type": "markdown",
   "metadata": {},
   "source": [
    "Отобразите заголовки постов, которые были написаны пользователями, получившими более 1000 значков. Посты без заголовков не должны попасть в список."
   ]
  },
  {
   "cell_type": "code",
   "execution_count": null,
   "metadata": {},
   "outputs": [],
   "source": [
    "SELECT title\n",
    "FROM stackoverflow.posts\n",
    "WHERE title IS NOT NULL AND\n",
    "      user_id IN (\n",
    "              SELECT user_id \n",
    "              FROM stackoverflow.badges\n",
    "              GROUP BY user_id\n",
    "              HAVING COUNT(id) > 1000);"
   ]
  },
  {
   "cell_type": "markdown",
   "metadata": {},
   "source": [
    "Напишите запрос, который выгрузит данные о пользователях из Канады (англ. Canada). Разделите пользователей на три группы в зависимости от количества просмотров их профилей:\n",
    "пользователям с числом просмотров больше либо равным 350 присвойте группу 1;\n",
    "пользователям с числом просмотров меньше 350, но больше либо равно 100 — группу 2;\n",
    "пользователям с числом просмотров меньше 100 — группу 3.\n",
    "Отобразите в итоговой таблице идентификатор пользователя, количество просмотров профиля и группу. Пользователи с количеством просмотров меньше либо равным нулю не должны войти в итоговую таблицу."
   ]
  },
  {
   "cell_type": "code",
   "execution_count": null,
   "metadata": {},
   "outputs": [],
   "source": [
    "SELECT id,\n",
    "       views,\n",
    "       CASE\n",
    "          WHEN views >= 350 THEN 1\n",
    "          WHEN views >= 100 THEN 2\n",
    "          ELSE 3\n",
    "       END AS group\n",
    "FROM stackoverflow.users\n",
    "WHERE TRIM(location) LIKE '%Canada%'\n",
    "      AND views > 0\n",
    "ORDER BY views DESC;"
   ]
  },
  {
   "cell_type": "markdown",
   "metadata": {},
   "source": [
    "Дополните предыдущий запрос. Отобразите лидеров каждой группы — пользователей, которые набрали максимальное число просмотров в своей группе. Выведите поля с идентификатором пользователя, группой и количеством просмотров. Отсортируйте таблицу по убыванию просмотров, а затем по возрастанию значения идентификатора."
   ]
  },
  {
   "cell_type": "code",
   "execution_count": null,
   "metadata": {},
   "outputs": [],
   "source": [
    "WITH canadian_users AS\n",
    "(SELECT id AS user_id,\n",
    "        views AS views_cnt,\n",
    "        CASE\n",
    "           WHEN views < 100 THEN 3\n",
    "           WHEN views >= 100 AND views < 350  THEN 2\n",
    "           ELSE 1\n",
    "        END AS groups\n",
    "FROM stackoverflow.users\n",
    "WHERE TRIM(location) LIKE '%Canada%' AND views > 0\n",
    ")\n",
    "\n",
    "SELECT user_id,\n",
    "       groups,\n",
    "       views_cnt\n",
    "FROM (   \n",
    "          SELECT user_id,\n",
    "                 views_cnt,\n",
    "                 groups,\n",
    "                 MAX(views_cnt) OVER (PARTITION BY groups ORDER BY views_cnt DESC) AS max_views\n",
    "            FROM canadian_users\n",
    "         ) AS max_canadian\n",
    "WHERE views_cnt =  max_views\n",
    "ORDER BY views_cnt DESC, user_id;"
   ]
  },
  {
   "cell_type": "markdown",
   "metadata": {},
   "source": [
    "\n",
    "Посчитайте ежедневный прирост новых пользователей в ноябре 2008 года. Сформируйте таблицу с полями:\n",
    "номер дня;\n",
    "число пользователей, зарегистрированных в этот день;\n",
    "сумму пользователей с накоплением."
   ]
  },
  {
   "cell_type": "code",
   "execution_count": null,
   "metadata": {},
   "outputs": [],
   "source": [
    "SELECT RANK() OVER (ORDER BY days) AS rank,\n",
    "       users_cnt,\n",
    "       SUM(users_cnt) OVER (ORDER BY days)::int AS cum\n",
    "FROM (\n",
    "    SELECT CAST(DATE_TRUNC('day', creation_date) AS date) AS days,\n",
    "           COUNT(id) AS users_cnt\n",
    "    FROM stackoverflow.users\n",
    "    WHERE DATE_TRUNC('day', creation_date) BETWEEN '2008-11-01' AND '2008-11-30'\n",
    "    GROUP BY CAST(DATE_TRUNC('day', creation_date) AS date)\n",
    ") AS t1;"
   ]
  },
  {
   "cell_type": "markdown",
   "metadata": {},
   "source": [
    "Для каждого пользователя, который написал хотя бы один пост, найдите интервал между регистрацией и временем создания первого поста. Отобразите:\n",
    "идентификатор пользователя;\n",
    "разницу во времени между регистрацией и первым постом."
   ]
  },
  {
   "cell_type": "code",
   "execution_count": null,
   "metadata": {},
   "outputs": [],
   "source": [
    "WITH first_posts AS \n",
    "(\n",
    "    SELECT user_id, \n",
    "           creation_date,\n",
    "           RANK() OVER (PARTITION BY user_id ORDER BY creation_date ASC) AS first_pub_rank\n",
    "    FROM stackoverflow.posts\n",
    ")\n",
    "\n",
    "SELECT first_posts.user_id,\n",
    "       first_posts.creation_date - stackoverflow.users.creation_date AS days_between_first_post_and_registration\n",
    "FROM first_posts\n",
    "JOIN stackoverflow.users ON first_posts.user_id = stackoverflow.users.id\n",
    "WHERE first_posts.first_pub_rank = 1\n",
    "ORDER BY first_posts.user_id;"
   ]
  },
  {
   "cell_type": "markdown",
   "metadata": {},
   "source": [
    "Выведите общую сумму просмотров у постов, опубликованных в каждый месяц 2008 года. Если данных за какой-либо месяц в базе нет, такой месяц можно пропустить. Результат отсортируйте по убыванию общего количества просмотров."
   ]
  },
  {
   "cell_type": "code",
   "execution_count": null,
   "metadata": {},
   "outputs": [],
   "source": [
    "SELECT DATE_TRUNC('month', creation_date)::date AS month_date,\n",
    "       SUM(views_count) AS total_views\n",
    "FROM stackoverflow.posts\n",
    "WHERE EXTRACT(YEAR FROM creation_date) = 2008\n",
    "GROUP BY DATE_TRUNC('month', creation_date)\n",
    "ORDER BY total_views DESC;"
   ]
  },
  {
   "cell_type": "markdown",
   "metadata": {},
   "source": [
    "Выведите имена самых активных пользователей, которые в первый месяц после регистрации (включая день регистрации) дали больше 100 ответов. Вопросы, которые задавали пользователи, не учитывайте. Для каждого имени пользователя выведите количество уникальных значений user_id. Отсортируйте результат по полю с именами в лексикографическом порядке."
   ]
  },
  {
   "cell_type": "code",
   "execution_count": null,
   "metadata": {},
   "outputs": [],
   "source": [
    "SELECT display_name,\n",
    "       COUNT(DISTINCT user_id)\n",
    "FROM stackoverflow.posts\n",
    "JOIN stackoverflow.users ON posts.user_id=users.id\n",
    "JOIN stackoverflow.post_types ON post_types.id=posts.post_type_id\n",
    "WHERE posts.creation_date::date BETWEEN users.creation_date::date AND (users.creation_date::date + INTERVAL '1 month') \n",
    "      AND post_types.type LIKE 'Answer'\n",
    "GROUP BY display_name\n",
    "HAVING COUNT(posts.id) > 100\n",
    "ORDER BY display_name;"
   ]
  },
  {
   "cell_type": "markdown",
   "metadata": {},
   "source": [
    "Выведите количество постов за 2008 год по месяцам. Отберите посты от пользователей, которые зарегистрировались в сентябре 2008 года и сделали хотя бы один пост в декабре того же года. Отсортируйте таблицу по значению месяца по убыванию."
   ]
  },
  {
   "cell_type": "code",
   "execution_count": null,
   "metadata": {},
   "outputs": [],
   "source": [
    "WITH users AS\n",
    "(\n",
    "SELECT users.id\n",
    "FROM stackoverflow.posts\n",
    "JOIN stackoverflow.users ON posts.user_id=users.id\n",
    "WHERE (users.creation_date::date BETWEEN '2008-09-01' AND '2008-09-30')\n",
    "AND (posts.creation_date::date BETWEEN '2008-12-01' AND '2008-12-31')\n",
    "GROUP BY users.id\n",
    ")\n",
    "\n",
    "SELECT DATE_TRUNC('month', posts.creation_date)::date AS month,\n",
    "       COUNT(posts.id)\n",
    "FROM stackoverflow.posts\n",
    "WHERE posts.user_id IN \n",
    "(\n",
    "SELECT id\n",
    "FROM users\n",
    ")\n",
    "AND DATE_TRUNC('year', posts.creation_date)::date = '2008-01-01'\n",
    "GROUP BY DATE_TRUNC('month', posts.creation_date)::date\n",
    "ORDER BY DATE_TRUNC('month', posts.creation_date)::date DESC;"
   ]
  },
  {
   "cell_type": "markdown",
   "metadata": {},
   "source": [
    "Используя данные о постах, выведите несколько полей:\n",
    "идентификатор пользователя, который написал пост;\n",
    "дата создания поста;\n",
    "количество просмотров у текущего поста;\n",
    "сумма просмотров постов автора с накоплением.\n",
    "Данные в таблице должны быть отсортированы по возрастанию идентификаторов пользователей, а данные об одном и том же пользователе — по возрастанию даты создания поста."
   ]
  },
  {
   "cell_type": "code",
   "execution_count": null,
   "metadata": {},
   "outputs": [],
   "source": [
    "SELECT user_id, creation_date, views_count,\n",
    "       SUM(views_count) OVER (PARTITION BY user_id ORDER BY creation_date) AS cumulative_count\n",
    "FROM stackoverflow.posts\n",
    "ORDER BY user_id, creation_date;"
   ]
  },
  {
   "cell_type": "markdown",
   "metadata": {},
   "source": [
    "Сколько в среднем дней в период с 1 по 7 декабря 2008 года включительно пользователи взаимодействовали с платформой? Для каждого пользователя отберите дни, в которые он или она опубликовали хотя бы один пост. Нужно получить одно целое число — не забудьте округлить результат."
   ]
  },
  {
   "cell_type": "code",
   "execution_count": null,
   "metadata": {},
   "outputs": [],
   "source": [
    "WITH temp AS\n",
    "(\n",
    "SELECT user_id,\n",
    "       COUNT(DISTINCT DATE_TRUNC('day', creation_date)::date) AS days_active\n",
    "FROM stackoverflow.posts\n",
    "WHERE creation_date::date BETWEEN '2008-12-01' AND '2008-12-07'\n",
    "GROUP BY user_id\n",
    ")\n",
    "SELECT ROUND(AVG(days_active))::int AS average_days_active\n",
    "FROM temp;"
   ]
  },
  {
   "cell_type": "markdown",
   "metadata": {},
   "source": [
    "На сколько процентов менялось количество постов ежемесячно с 1 сентября по 31 декабря 2008 года? Отобразите таблицу со следующими полями:\n",
    "Номер месяца.\n",
    "Количество постов за месяц.\n",
    "Процент, который показывает, насколько изменилось количество постов в текущем месяце по сравнению с предыдущим.\n",
    "Если постов стало меньше, значение процента должно быть отрицательным, если больше — положительным. Округлите значение процента до двух знаков после запятой.\n",
    "Напомним, что при делении одного целого числа на другое в PostgreSQL в результате получится целое число, округлённое до ближайшего целого вниз. Чтобы этого избежать, переведите делимое в тип numeric."
   ]
  },
  {
   "cell_type": "code",
   "execution_count": null,
   "metadata": {},
   "outputs": [],
   "source": [
    "WITH temp AS\n",
    "(\n",
    "SELECT EXTRACT(MONTH FROM creation_date)::int AS month,\n",
    "       COUNT(id) AS posts_count\n",
    "FROM stackoverflow.posts\n",
    "WHERE creation_date >= '2008-09-01' AND creation_date <= '2008-12-31'\n",
    "GROUP BY month\n",
    ")\n",
    "SELECT month,\n",
    "       posts_count,\n",
    "       ROUND((posts_count::numeric / LAG(posts_count) OVER (ORDER BY month) - 1) * 100, 2) AS change_percentage\n",
    "FROM temp\n",
    "ORDER BY month;"
   ]
  },
  {
   "cell_type": "markdown",
   "metadata": {},
   "source": [
    "Найдите пользователя, который опубликовал больше всего постов за всё время с момента регистрации. Выведите данные его активности за октябрь 2008 года в таком виде:\n",
    "номер недели;\n",
    "дата и время последнего поста, опубликованного на этой неделе."
   ]
  },
  {
   "cell_type": "code",
   "execution_count": null,
   "metadata": {},
   "outputs": [],
   "source": [
    "WITH most_active_user AS (\n",
    "    SELECT user_id\n",
    "    FROM stackoverflow.posts\n",
    "    GROUP BY user_id\n",
    "    ORDER BY COUNT(id) DESC\n",
    "    LIMIT 1\n",
    ")\n",
    "\n",
    ", october_posts AS (\n",
    "    SELECT\n",
    "        EXTRACT(WEEK FROM creation_date) AS week_number,\n",
    "        creation_date,\n",
    "        ROW_NUMBER() OVER (PARTITION BY EXTRACT(WEEK FROM creation_date) ORDER BY creation_date DESC) AS rn\n",
    "    FROM stackoverflow.posts\n",
    "    WHERE user_id = (SELECT user_id FROM most_active_user)\n",
    "          AND EXTRACT(MONTH FROM creation_date) = 10\n",
    "          AND EXTRACT(YEAR FROM creation_date) = 2008\n",
    ")\n",
    "\n",
    "SELECT week_number, MAX(creation_date) AS last_post_date\n",
    "FROM october_posts\n",
    "WHERE rn = 1\n",
    "GROUP BY week_number\n",
    "ORDER BY week_number;"
   ]
  }
 ],
 "metadata": {
  "kernelspec": {
   "display_name": "Python 3",
   "language": "python",
   "name": "python3"
  },
  "language_info": {
   "name": "python",
   "version": "3.10.0"
  }
 },
 "nbformat": 4,
 "nbformat_minor": 2
}
