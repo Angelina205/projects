{
 "cells": [
  {
   "cell_type": "markdown",
   "metadata": {},
   "source": [
    "# Прогнозирование оттока клиентов в сети отелей «Как в гостях»"
   ]
  },
  {
   "cell_type": "markdown",
   "metadata": {},
   "source": [
    "Цель: Нужно разработать систему, которая предсказывает отказ от брони. Если модель покажет, что бронь будет отменена, то клиенту предлагается внести депозит. Размер депозита — 80% от стоимости номера за одни сутки и затрат на разовую уборку. Деньги будут списаны со счёта клиента, если он всё же отменит бронь."
   ]
  },
  {
   "cell_type": "markdown",
   "metadata": {},
   "source": [
    "Стоимость номеров отеля:\n",
    "- категория A: за ночь — 1 000, разовое обслуживание — 400;\n",
    "- категория B: за ночь — 800, разовое обслуживание — 350;\n",
    "- категория C: за ночь — 600, разовое обслуживание — 350;\n",
    "- категория D: за ночь — 550, разовое обслуживание — 150;\n",
    "- категория E: за ночь — 500, разовое обслуживание — 150;\n",
    "- категория F: за ночь — 450, разовое обслуживание — 150;\n",
    "- категория G: за ночь — 350, разовое обслуживание — 150."
   ]
  },
  {
   "cell_type": "markdown",
   "metadata": {},
   "source": [
    "В ценовой политике отеля используются сезонные коэффициенты: \n",
    "- весной и осенью цены повышаются на 20%, летом — на 40%.\n",
    "\n",
    "Убытки отеля в случае отмены брони номера — это стоимость одной уборки и одной ночи с учётом сезонного коэффициента.\n",
    "\n",
    "На разработку системы прогнозирования заложен бюджет — 400 000. \n",
    "\n",
    "При этом необходимо учесть, что внедрение модели должно окупиться за тестовый период. Затраты на разработку должны быть меньше той выручки, которую система принесёт компании."
   ]
  },
  {
   "cell_type": "markdown",
   "metadata": {},
   "source": [
    "В таблицах hotel_train и hotel_test содержатся одинаковые столбцы:\n",
    "- id — номер записи;\n",
    "- adults — количество взрослых постояльцев;\n",
    "- arrival_date_year — год заезда;\n",
    "- arrival_date_month — месяц заезда;\n",
    "- arrival_date_week_number — неделя заезда;\n",
    "- arrival_date_day_of_month — день заезда;\n",
    "- babies — количество младенцев;\n",
    "- booking_changes — количество изменений параметров заказа;\n",
    "- children — количество детей от 3 до 14 лет;\n",
    "- country — гражданство постояльца;\n",
    "- customer_type — тип заказчика:\n",
    "\n",
    "Contract — договор с юридическим лицом;\n",
    "\n",
    "Group — групповой заезд;\n",
    "\n",
    "Transient — не связано с договором или групповым заездом;\n",
    "\n",
    "Transient-party — не связано с договором или групповым заездом, но связано с бронированием типа Transient.\n",
    "\n",
    "- days_in_waiting_list — сколько дней заказ ожидал подтверждения;\n",
    "- distribution_channel — канал дистрибуции заказа;\n",
    "- is_canceled — отмена заказа;\n",
    "- is_repeated_guest — признак того, что гость бронирует номер второй раз;\n",
    "- lead_time — количество дней между датой бронирования и датой прибытия;\n",
    "- meal — опции заказа:\n",
    "\n",
    "SC — нет дополнительных опций;\n",
    "\n",
    "BB — включён завтрак;\n",
    "\n",
    "HB — включён завтрак и обед;\n",
    "\n",
    "FB — включён завтрак, обед и ужин.\n",
    "\n",
    "- previous_bookings_not_canceled — количество подтверждённых заказов у клиента;\n",
    "- previous_cancellations — количество отменённых заказов у клиента;\n",
    "- required_car_parking_spaces — необходимость места для автомобиля;\n",
    "- reserved_room_type — тип забронированной комнаты;\n",
    "- stays_in_weekend_nights — количество ночей в выходные дни;\n",
    "- stays_in_week_nights — количество ночей в будние дни;\n",
    "- total_nights — общее количество ночей;\n",
    "- total_of_special_requests — количество специальных отметок."
   ]
  },
  {
   "cell_type": "markdown",
   "metadata": {},
   "source": [
    "Задачи:\n",
    "\n",
    "1. открыть файлы с данными;\n",
    "2. провести предобработку и исследовательский анализ данных;\n",
    "3. вычислить бизнес-метрику;\n",
    "4. разработать модель ML;\n",
    "5. выявить признаки \"ненадёжного\" клиента;\n",
    "6. написать общий вывод."
   ]
  },
  {
   "cell_type": "markdown",
   "metadata": {},
   "source": [
    "### Шаг 1. Откройте файлы с данными"
   ]
  },
  {
   "cell_type": "code",
   "execution_count": 64,
   "metadata": {},
   "outputs": [],
   "source": [
    "import pandas as pd\n",
    "import matplotlib.pyplot as plt\n",
    "import seaborn as sns\n",
    "import math\n",
    "import numpy as np\n",
    "\n",
    "from sklearn.preprocessing import OneHotEncoder, StandardScaler, MinMaxScaler\n",
    "from sklearn.linear_model import LogisticRegression\n",
    "from sklearn.tree import DecisionTreeClassifier\n",
    "from sklearn.ensemble import RandomForestClassifier\n",
    "from sklearn.metrics import f1_score, roc_auc_score, roc_curve\n",
    "from sklearn.model_selection import cross_val_score\n",
    "from tqdm import tqdm\n",
    "from sklearn.metrics import accuracy_score"
   ]
  },
  {
   "cell_type": "code",
   "execution_count": 65,
   "metadata": {},
   "outputs": [],
   "source": [
    "hotel_train = pd.read_csv('/datasets/hotel_train.csv')\n",
    "hotel_test = pd.read_csv('/datasets/hotel_test.csv')"
   ]
  },
  {
   "cell_type": "code",
   "execution_count": 66,
   "metadata": {},
   "outputs": [
    {
     "name": "stdout",
     "output_type": "stream",
     "text": [
      "<class 'pandas.core.frame.DataFrame'>\n",
      "RangeIndex: 32412 entries, 0 to 32411\n",
      "Data columns (total 25 columns):\n",
      " #   Column                          Non-Null Count  Dtype  \n",
      "---  ------                          --------------  -----  \n",
      " 0   id                              32412 non-null  int64  \n",
      " 1   is_canceled                     32412 non-null  int64  \n",
      " 2   lead_time                       32412 non-null  float64\n",
      " 3   arrival_date_year               32412 non-null  int64  \n",
      " 4   arrival_date_month              32412 non-null  object \n",
      " 5   arrival_date_week_number        32412 non-null  int64  \n",
      " 6   arrival_date_day_of_month       32412 non-null  int64  \n",
      " 7   stays_in_weekend_nights         32412 non-null  int64  \n",
      " 8   stays_in_week_nights            32412 non-null  int64  \n",
      " 9   adults                          32412 non-null  float64\n",
      " 10  children                        32412 non-null  float64\n",
      " 11  babies                          32412 non-null  float64\n",
      " 12  meal                            32412 non-null  object \n",
      " 13  country                         32412 non-null  object \n",
      " 14  distribution_channel            32412 non-null  object \n",
      " 15  is_repeated_guest               32412 non-null  int64  \n",
      " 16  previous_cancellations          32412 non-null  int64  \n",
      " 17  previous_bookings_not_canceled  32412 non-null  int64  \n",
      " 18  reserved_room_type              32412 non-null  object \n",
      " 19  booking_changes                 32412 non-null  int64  \n",
      " 20  days_in_waiting_list            32412 non-null  int64  \n",
      " 21  customer_type                   32412 non-null  object \n",
      " 22  required_car_parking_spaces     32412 non-null  int64  \n",
      " 23  total_of_special_requests       32412 non-null  int64  \n",
      " 24  total_nights                    32412 non-null  int64  \n",
      "dtypes: float64(4), int64(15), object(6)\n",
      "memory usage: 6.2+ MB\n"
     ]
    }
   ],
   "source": [
    "hotel_test.info()"
   ]
  },
  {
   "cell_type": "code",
   "execution_count": 67,
   "metadata": {},
   "outputs": [
    {
     "data": {
      "text/html": [
       "<div>\n",
       "<style scoped>\n",
       "    .dataframe tbody tr th:only-of-type {\n",
       "        vertical-align: middle;\n",
       "    }\n",
       "\n",
       "    .dataframe tbody tr th {\n",
       "        vertical-align: top;\n",
       "    }\n",
       "\n",
       "    .dataframe thead th {\n",
       "        text-align: right;\n",
       "    }\n",
       "</style>\n",
       "<table border=\"1\" class=\"dataframe\">\n",
       "  <thead>\n",
       "    <tr style=\"text-align: right;\">\n",
       "      <th></th>\n",
       "      <th>id</th>\n",
       "      <th>is_canceled</th>\n",
       "      <th>lead_time</th>\n",
       "      <th>arrival_date_year</th>\n",
       "      <th>arrival_date_month</th>\n",
       "      <th>arrival_date_week_number</th>\n",
       "      <th>arrival_date_day_of_month</th>\n",
       "      <th>stays_in_weekend_nights</th>\n",
       "      <th>stays_in_week_nights</th>\n",
       "      <th>adults</th>\n",
       "      <th>...</th>\n",
       "      <th>is_repeated_guest</th>\n",
       "      <th>previous_cancellations</th>\n",
       "      <th>previous_bookings_not_canceled</th>\n",
       "      <th>reserved_room_type</th>\n",
       "      <th>booking_changes</th>\n",
       "      <th>days_in_waiting_list</th>\n",
       "      <th>customer_type</th>\n",
       "      <th>required_car_parking_spaces</th>\n",
       "      <th>total_of_special_requests</th>\n",
       "      <th>total_nights</th>\n",
       "    </tr>\n",
       "  </thead>\n",
       "  <tbody>\n",
       "    <tr>\n",
       "      <th>0</th>\n",
       "      <td>6086</td>\n",
       "      <td>1</td>\n",
       "      <td>74.0</td>\n",
       "      <td>2017</td>\n",
       "      <td>January</td>\n",
       "      <td>1</td>\n",
       "      <td>1</td>\n",
       "      <td>1</td>\n",
       "      <td>0</td>\n",
       "      <td>2.0</td>\n",
       "      <td>...</td>\n",
       "      <td>0</td>\n",
       "      <td>0</td>\n",
       "      <td>0</td>\n",
       "      <td>A</td>\n",
       "      <td>0</td>\n",
       "      <td>0</td>\n",
       "      <td>Transient</td>\n",
       "      <td>0</td>\n",
       "      <td>0</td>\n",
       "      <td>1</td>\n",
       "    </tr>\n",
       "    <tr>\n",
       "      <th>1</th>\n",
       "      <td>6087</td>\n",
       "      <td>1</td>\n",
       "      <td>62.0</td>\n",
       "      <td>2017</td>\n",
       "      <td>January</td>\n",
       "      <td>1</td>\n",
       "      <td>1</td>\n",
       "      <td>2</td>\n",
       "      <td>2</td>\n",
       "      <td>2.0</td>\n",
       "      <td>...</td>\n",
       "      <td>0</td>\n",
       "      <td>0</td>\n",
       "      <td>0</td>\n",
       "      <td>A</td>\n",
       "      <td>0</td>\n",
       "      <td>0</td>\n",
       "      <td>Transient</td>\n",
       "      <td>0</td>\n",
       "      <td>1</td>\n",
       "      <td>4</td>\n",
       "    </tr>\n",
       "    <tr>\n",
       "      <th>2</th>\n",
       "      <td>6088</td>\n",
       "      <td>1</td>\n",
       "      <td>62.0</td>\n",
       "      <td>2017</td>\n",
       "      <td>January</td>\n",
       "      <td>1</td>\n",
       "      <td>1</td>\n",
       "      <td>2</td>\n",
       "      <td>2</td>\n",
       "      <td>2.0</td>\n",
       "      <td>...</td>\n",
       "      <td>0</td>\n",
       "      <td>0</td>\n",
       "      <td>0</td>\n",
       "      <td>A</td>\n",
       "      <td>0</td>\n",
       "      <td>0</td>\n",
       "      <td>Transient</td>\n",
       "      <td>0</td>\n",
       "      <td>1</td>\n",
       "      <td>4</td>\n",
       "    </tr>\n",
       "    <tr>\n",
       "      <th>3</th>\n",
       "      <td>6089</td>\n",
       "      <td>1</td>\n",
       "      <td>71.0</td>\n",
       "      <td>2017</td>\n",
       "      <td>January</td>\n",
       "      <td>1</td>\n",
       "      <td>1</td>\n",
       "      <td>2</td>\n",
       "      <td>2</td>\n",
       "      <td>1.0</td>\n",
       "      <td>...</td>\n",
       "      <td>0</td>\n",
       "      <td>0</td>\n",
       "      <td>0</td>\n",
       "      <td>A</td>\n",
       "      <td>0</td>\n",
       "      <td>0</td>\n",
       "      <td>Transient</td>\n",
       "      <td>0</td>\n",
       "      <td>1</td>\n",
       "      <td>4</td>\n",
       "    </tr>\n",
       "    <tr>\n",
       "      <th>4</th>\n",
       "      <td>6090</td>\n",
       "      <td>1</td>\n",
       "      <td>172.0</td>\n",
       "      <td>2017</td>\n",
       "      <td>January</td>\n",
       "      <td>1</td>\n",
       "      <td>1</td>\n",
       "      <td>2</td>\n",
       "      <td>5</td>\n",
       "      <td>2.0</td>\n",
       "      <td>...</td>\n",
       "      <td>0</td>\n",
       "      <td>0</td>\n",
       "      <td>0</td>\n",
       "      <td>A</td>\n",
       "      <td>0</td>\n",
       "      <td>0</td>\n",
       "      <td>Transient</td>\n",
       "      <td>0</td>\n",
       "      <td>0</td>\n",
       "      <td>7</td>\n",
       "    </tr>\n",
       "    <tr>\n",
       "      <th>5</th>\n",
       "      <td>6091</td>\n",
       "      <td>1</td>\n",
       "      <td>52.0</td>\n",
       "      <td>2017</td>\n",
       "      <td>January</td>\n",
       "      <td>1</td>\n",
       "      <td>1</td>\n",
       "      <td>2</td>\n",
       "      <td>5</td>\n",
       "      <td>1.0</td>\n",
       "      <td>...</td>\n",
       "      <td>0</td>\n",
       "      <td>0</td>\n",
       "      <td>0</td>\n",
       "      <td>A</td>\n",
       "      <td>0</td>\n",
       "      <td>0</td>\n",
       "      <td>Transient</td>\n",
       "      <td>0</td>\n",
       "      <td>0</td>\n",
       "      <td>7</td>\n",
       "    </tr>\n",
       "    <tr>\n",
       "      <th>6</th>\n",
       "      <td>6092</td>\n",
       "      <td>1</td>\n",
       "      <td>143.0</td>\n",
       "      <td>2017</td>\n",
       "      <td>January</td>\n",
       "      <td>1</td>\n",
       "      <td>2</td>\n",
       "      <td>1</td>\n",
       "      <td>1</td>\n",
       "      <td>2.0</td>\n",
       "      <td>...</td>\n",
       "      <td>0</td>\n",
       "      <td>0</td>\n",
       "      <td>0</td>\n",
       "      <td>A</td>\n",
       "      <td>1</td>\n",
       "      <td>0</td>\n",
       "      <td>Transient</td>\n",
       "      <td>0</td>\n",
       "      <td>1</td>\n",
       "      <td>2</td>\n",
       "    </tr>\n",
       "    <tr>\n",
       "      <th>7</th>\n",
       "      <td>6093</td>\n",
       "      <td>1</td>\n",
       "      <td>21.0</td>\n",
       "      <td>2017</td>\n",
       "      <td>January</td>\n",
       "      <td>1</td>\n",
       "      <td>2</td>\n",
       "      <td>1</td>\n",
       "      <td>3</td>\n",
       "      <td>2.0</td>\n",
       "      <td>...</td>\n",
       "      <td>0</td>\n",
       "      <td>0</td>\n",
       "      <td>0</td>\n",
       "      <td>A</td>\n",
       "      <td>0</td>\n",
       "      <td>0</td>\n",
       "      <td>Transient</td>\n",
       "      <td>0</td>\n",
       "      <td>1</td>\n",
       "      <td>4</td>\n",
       "    </tr>\n",
       "    <tr>\n",
       "      <th>8</th>\n",
       "      <td>6094</td>\n",
       "      <td>1</td>\n",
       "      <td>89.0</td>\n",
       "      <td>2017</td>\n",
       "      <td>January</td>\n",
       "      <td>1</td>\n",
       "      <td>2</td>\n",
       "      <td>1</td>\n",
       "      <td>3</td>\n",
       "      <td>2.0</td>\n",
       "      <td>...</td>\n",
       "      <td>0</td>\n",
       "      <td>0</td>\n",
       "      <td>0</td>\n",
       "      <td>E</td>\n",
       "      <td>0</td>\n",
       "      <td>0</td>\n",
       "      <td>Transient</td>\n",
       "      <td>0</td>\n",
       "      <td>0</td>\n",
       "      <td>4</td>\n",
       "    </tr>\n",
       "    <tr>\n",
       "      <th>9</th>\n",
       "      <td>6095</td>\n",
       "      <td>1</td>\n",
       "      <td>48.0</td>\n",
       "      <td>2017</td>\n",
       "      <td>January</td>\n",
       "      <td>1</td>\n",
       "      <td>2</td>\n",
       "      <td>1</td>\n",
       "      <td>4</td>\n",
       "      <td>2.0</td>\n",
       "      <td>...</td>\n",
       "      <td>0</td>\n",
       "      <td>0</td>\n",
       "      <td>0</td>\n",
       "      <td>A</td>\n",
       "      <td>1</td>\n",
       "      <td>0</td>\n",
       "      <td>Transient</td>\n",
       "      <td>0</td>\n",
       "      <td>2</td>\n",
       "      <td>5</td>\n",
       "    </tr>\n",
       "  </tbody>\n",
       "</table>\n",
       "<p>10 rows × 25 columns</p>\n",
       "</div>"
      ],
      "text/plain": [
       "     id  is_canceled  lead_time  arrival_date_year arrival_date_month  \\\n",
       "0  6086            1       74.0               2017            January   \n",
       "1  6087            1       62.0               2017            January   \n",
       "2  6088            1       62.0               2017            January   \n",
       "3  6089            1       71.0               2017            January   \n",
       "4  6090            1      172.0               2017            January   \n",
       "5  6091            1       52.0               2017            January   \n",
       "6  6092            1      143.0               2017            January   \n",
       "7  6093            1       21.0               2017            January   \n",
       "8  6094            1       89.0               2017            January   \n",
       "9  6095            1       48.0               2017            January   \n",
       "\n",
       "   arrival_date_week_number  arrival_date_day_of_month  \\\n",
       "0                         1                          1   \n",
       "1                         1                          1   \n",
       "2                         1                          1   \n",
       "3                         1                          1   \n",
       "4                         1                          1   \n",
       "5                         1                          1   \n",
       "6                         1                          2   \n",
       "7                         1                          2   \n",
       "8                         1                          2   \n",
       "9                         1                          2   \n",
       "\n",
       "   stays_in_weekend_nights  stays_in_week_nights  adults  ...  \\\n",
       "0                        1                     0     2.0  ...   \n",
       "1                        2                     2     2.0  ...   \n",
       "2                        2                     2     2.0  ...   \n",
       "3                        2                     2     1.0  ...   \n",
       "4                        2                     5     2.0  ...   \n",
       "5                        2                     5     1.0  ...   \n",
       "6                        1                     1     2.0  ...   \n",
       "7                        1                     3     2.0  ...   \n",
       "8                        1                     3     2.0  ...   \n",
       "9                        1                     4     2.0  ...   \n",
       "\n",
       "   is_repeated_guest  previous_cancellations previous_bookings_not_canceled  \\\n",
       "0                  0                       0                              0   \n",
       "1                  0                       0                              0   \n",
       "2                  0                       0                              0   \n",
       "3                  0                       0                              0   \n",
       "4                  0                       0                              0   \n",
       "5                  0                       0                              0   \n",
       "6                  0                       0                              0   \n",
       "7                  0                       0                              0   \n",
       "8                  0                       0                              0   \n",
       "9                  0                       0                              0   \n",
       "\n",
       "  reserved_room_type booking_changes  days_in_waiting_list  customer_type  \\\n",
       "0   A                              0                     0      Transient   \n",
       "1   A                              0                     0      Transient   \n",
       "2   A                              0                     0      Transient   \n",
       "3   A                              0                     0      Transient   \n",
       "4   A                              0                     0      Transient   \n",
       "5   A                              0                     0      Transient   \n",
       "6   A                              1                     0      Transient   \n",
       "7   A                              0                     0      Transient   \n",
       "8   E                              0                     0      Transient   \n",
       "9   A                              1                     0      Transient   \n",
       "\n",
       "   required_car_parking_spaces total_of_special_requests  total_nights  \n",
       "0                            0                         0             1  \n",
       "1                            0                         1             4  \n",
       "2                            0                         1             4  \n",
       "3                            0                         1             4  \n",
       "4                            0                         0             7  \n",
       "5                            0                         0             7  \n",
       "6                            0                         1             2  \n",
       "7                            0                         1             4  \n",
       "8                            0                         0             4  \n",
       "9                            0                         2             5  \n",
       "\n",
       "[10 rows x 25 columns]"
      ]
     },
     "execution_count": 67,
     "metadata": {},
     "output_type": "execute_result"
    }
   ],
   "source": [
    "hotel_test.head(10)"
   ]
  },
  {
   "cell_type": "code",
   "execution_count": 68,
   "metadata": {},
   "outputs": [
    {
     "name": "stdout",
     "output_type": "stream",
     "text": [
      "<class 'pandas.core.frame.DataFrame'>\n",
      "RangeIndex: 65229 entries, 0 to 65228\n",
      "Data columns (total 25 columns):\n",
      " #   Column                          Non-Null Count  Dtype  \n",
      "---  ------                          --------------  -----  \n",
      " 0   id                              65229 non-null  int64  \n",
      " 1   is_canceled                     65229 non-null  int64  \n",
      " 2   lead_time                       65229 non-null  float64\n",
      " 3   arrival_date_year               65229 non-null  int64  \n",
      " 4   arrival_date_month              65229 non-null  object \n",
      " 5   arrival_date_week_number        65229 non-null  int64  \n",
      " 6   arrival_date_day_of_month       65229 non-null  int64  \n",
      " 7   stays_in_weekend_nights         65229 non-null  int64  \n",
      " 8   stays_in_week_nights            65229 non-null  int64  \n",
      " 9   adults                          65229 non-null  float64\n",
      " 10  children                        65229 non-null  float64\n",
      " 11  babies                          65229 non-null  float64\n",
      " 12  meal                            65229 non-null  object \n",
      " 13  country                         65229 non-null  object \n",
      " 14  distribution_channel            65229 non-null  object \n",
      " 15  is_repeated_guest               65229 non-null  int64  \n",
      " 16  previous_cancellations          65229 non-null  int64  \n",
      " 17  previous_bookings_not_canceled  65229 non-null  int64  \n",
      " 18  reserved_room_type              65229 non-null  object \n",
      " 19  booking_changes                 65229 non-null  int64  \n",
      " 20  days_in_waiting_list            65229 non-null  int64  \n",
      " 21  customer_type                   65229 non-null  object \n",
      " 22  required_car_parking_spaces     65229 non-null  int64  \n",
      " 23  total_of_special_requests       65229 non-null  int64  \n",
      " 24  total_nights                    65229 non-null  int64  \n",
      "dtypes: float64(4), int64(15), object(6)\n",
      "memory usage: 12.4+ MB\n"
     ]
    }
   ],
   "source": [
    "hotel_train.info()"
   ]
  },
  {
   "cell_type": "code",
   "execution_count": 69,
   "metadata": {},
   "outputs": [
    {
     "data": {
      "text/html": [
       "<div>\n",
       "<style scoped>\n",
       "    .dataframe tbody tr th:only-of-type {\n",
       "        vertical-align: middle;\n",
       "    }\n",
       "\n",
       "    .dataframe tbody tr th {\n",
       "        vertical-align: top;\n",
       "    }\n",
       "\n",
       "    .dataframe thead th {\n",
       "        text-align: right;\n",
       "    }\n",
       "</style>\n",
       "<table border=\"1\" class=\"dataframe\">\n",
       "  <thead>\n",
       "    <tr style=\"text-align: right;\">\n",
       "      <th></th>\n",
       "      <th>id</th>\n",
       "      <th>is_canceled</th>\n",
       "      <th>lead_time</th>\n",
       "      <th>arrival_date_year</th>\n",
       "      <th>arrival_date_month</th>\n",
       "      <th>arrival_date_week_number</th>\n",
       "      <th>arrival_date_day_of_month</th>\n",
       "      <th>stays_in_weekend_nights</th>\n",
       "      <th>stays_in_week_nights</th>\n",
       "      <th>adults</th>\n",
       "      <th>...</th>\n",
       "      <th>is_repeated_guest</th>\n",
       "      <th>previous_cancellations</th>\n",
       "      <th>previous_bookings_not_canceled</th>\n",
       "      <th>reserved_room_type</th>\n",
       "      <th>booking_changes</th>\n",
       "      <th>days_in_waiting_list</th>\n",
       "      <th>customer_type</th>\n",
       "      <th>required_car_parking_spaces</th>\n",
       "      <th>total_of_special_requests</th>\n",
       "      <th>total_nights</th>\n",
       "    </tr>\n",
       "  </thead>\n",
       "  <tbody>\n",
       "    <tr>\n",
       "      <th>0</th>\n",
       "      <td>0</td>\n",
       "      <td>0</td>\n",
       "      <td>7.0</td>\n",
       "      <td>2015</td>\n",
       "      <td>July</td>\n",
       "      <td>27</td>\n",
       "      <td>1</td>\n",
       "      <td>0</td>\n",
       "      <td>1</td>\n",
       "      <td>1.0</td>\n",
       "      <td>...</td>\n",
       "      <td>0</td>\n",
       "      <td>0</td>\n",
       "      <td>0</td>\n",
       "      <td>A</td>\n",
       "      <td>0</td>\n",
       "      <td>0</td>\n",
       "      <td>Transient</td>\n",
       "      <td>0</td>\n",
       "      <td>0</td>\n",
       "      <td>1</td>\n",
       "    </tr>\n",
       "    <tr>\n",
       "      <th>1</th>\n",
       "      <td>1</td>\n",
       "      <td>0</td>\n",
       "      <td>14.0</td>\n",
       "      <td>2015</td>\n",
       "      <td>July</td>\n",
       "      <td>27</td>\n",
       "      <td>1</td>\n",
       "      <td>0</td>\n",
       "      <td>2</td>\n",
       "      <td>2.0</td>\n",
       "      <td>...</td>\n",
       "      <td>0</td>\n",
       "      <td>0</td>\n",
       "      <td>0</td>\n",
       "      <td>A</td>\n",
       "      <td>0</td>\n",
       "      <td>0</td>\n",
       "      <td>Transient</td>\n",
       "      <td>0</td>\n",
       "      <td>1</td>\n",
       "      <td>2</td>\n",
       "    </tr>\n",
       "    <tr>\n",
       "      <th>2</th>\n",
       "      <td>2</td>\n",
       "      <td>0</td>\n",
       "      <td>0.0</td>\n",
       "      <td>2015</td>\n",
       "      <td>July</td>\n",
       "      <td>27</td>\n",
       "      <td>1</td>\n",
       "      <td>0</td>\n",
       "      <td>2</td>\n",
       "      <td>2.0</td>\n",
       "      <td>...</td>\n",
       "      <td>0</td>\n",
       "      <td>0</td>\n",
       "      <td>0</td>\n",
       "      <td>C</td>\n",
       "      <td>0</td>\n",
       "      <td>0</td>\n",
       "      <td>Transient</td>\n",
       "      <td>0</td>\n",
       "      <td>0</td>\n",
       "      <td>2</td>\n",
       "    </tr>\n",
       "    <tr>\n",
       "      <th>3</th>\n",
       "      <td>3</td>\n",
       "      <td>0</td>\n",
       "      <td>9.0</td>\n",
       "      <td>2015</td>\n",
       "      <td>July</td>\n",
       "      <td>27</td>\n",
       "      <td>1</td>\n",
       "      <td>0</td>\n",
       "      <td>2</td>\n",
       "      <td>2.0</td>\n",
       "      <td>...</td>\n",
       "      <td>0</td>\n",
       "      <td>0</td>\n",
       "      <td>0</td>\n",
       "      <td>C</td>\n",
       "      <td>0</td>\n",
       "      <td>0</td>\n",
       "      <td>Transient</td>\n",
       "      <td>0</td>\n",
       "      <td>1</td>\n",
       "      <td>2</td>\n",
       "    </tr>\n",
       "    <tr>\n",
       "      <th>4</th>\n",
       "      <td>4</td>\n",
       "      <td>1</td>\n",
       "      <td>85.0</td>\n",
       "      <td>2015</td>\n",
       "      <td>July</td>\n",
       "      <td>27</td>\n",
       "      <td>1</td>\n",
       "      <td>0</td>\n",
       "      <td>3</td>\n",
       "      <td>2.0</td>\n",
       "      <td>...</td>\n",
       "      <td>0</td>\n",
       "      <td>0</td>\n",
       "      <td>0</td>\n",
       "      <td>A</td>\n",
       "      <td>0</td>\n",
       "      <td>0</td>\n",
       "      <td>Transient</td>\n",
       "      <td>0</td>\n",
       "      <td>1</td>\n",
       "      <td>3</td>\n",
       "    </tr>\n",
       "    <tr>\n",
       "      <th>5</th>\n",
       "      <td>5</td>\n",
       "      <td>1</td>\n",
       "      <td>75.0</td>\n",
       "      <td>2015</td>\n",
       "      <td>July</td>\n",
       "      <td>27</td>\n",
       "      <td>1</td>\n",
       "      <td>0</td>\n",
       "      <td>3</td>\n",
       "      <td>2.0</td>\n",
       "      <td>...</td>\n",
       "      <td>0</td>\n",
       "      <td>0</td>\n",
       "      <td>0</td>\n",
       "      <td>D</td>\n",
       "      <td>0</td>\n",
       "      <td>0</td>\n",
       "      <td>Transient</td>\n",
       "      <td>0</td>\n",
       "      <td>0</td>\n",
       "      <td>3</td>\n",
       "    </tr>\n",
       "    <tr>\n",
       "      <th>6</th>\n",
       "      <td>6</td>\n",
       "      <td>1</td>\n",
       "      <td>23.0</td>\n",
       "      <td>2015</td>\n",
       "      <td>July</td>\n",
       "      <td>27</td>\n",
       "      <td>1</td>\n",
       "      <td>0</td>\n",
       "      <td>4</td>\n",
       "      <td>2.0</td>\n",
       "      <td>...</td>\n",
       "      <td>0</td>\n",
       "      <td>0</td>\n",
       "      <td>0</td>\n",
       "      <td>E</td>\n",
       "      <td>0</td>\n",
       "      <td>0</td>\n",
       "      <td>Transient</td>\n",
       "      <td>0</td>\n",
       "      <td>0</td>\n",
       "      <td>4</td>\n",
       "    </tr>\n",
       "    <tr>\n",
       "      <th>7</th>\n",
       "      <td>7</td>\n",
       "      <td>0</td>\n",
       "      <td>18.0</td>\n",
       "      <td>2015</td>\n",
       "      <td>July</td>\n",
       "      <td>27</td>\n",
       "      <td>1</td>\n",
       "      <td>0</td>\n",
       "      <td>4</td>\n",
       "      <td>2.0</td>\n",
       "      <td>...</td>\n",
       "      <td>0</td>\n",
       "      <td>0</td>\n",
       "      <td>0</td>\n",
       "      <td>G</td>\n",
       "      <td>1</td>\n",
       "      <td>0</td>\n",
       "      <td>Transient</td>\n",
       "      <td>0</td>\n",
       "      <td>1</td>\n",
       "      <td>4</td>\n",
       "    </tr>\n",
       "    <tr>\n",
       "      <th>8</th>\n",
       "      <td>8</td>\n",
       "      <td>0</td>\n",
       "      <td>68.0</td>\n",
       "      <td>2015</td>\n",
       "      <td>July</td>\n",
       "      <td>27</td>\n",
       "      <td>1</td>\n",
       "      <td>0</td>\n",
       "      <td>4</td>\n",
       "      <td>2.0</td>\n",
       "      <td>...</td>\n",
       "      <td>0</td>\n",
       "      <td>0</td>\n",
       "      <td>0</td>\n",
       "      <td>D</td>\n",
       "      <td>0</td>\n",
       "      <td>0</td>\n",
       "      <td>Transient</td>\n",
       "      <td>0</td>\n",
       "      <td>3</td>\n",
       "      <td>4</td>\n",
       "    </tr>\n",
       "    <tr>\n",
       "      <th>9</th>\n",
       "      <td>9</td>\n",
       "      <td>0</td>\n",
       "      <td>37.0</td>\n",
       "      <td>2015</td>\n",
       "      <td>July</td>\n",
       "      <td>27</td>\n",
       "      <td>1</td>\n",
       "      <td>0</td>\n",
       "      <td>4</td>\n",
       "      <td>2.0</td>\n",
       "      <td>...</td>\n",
       "      <td>0</td>\n",
       "      <td>0</td>\n",
       "      <td>0</td>\n",
       "      <td>E</td>\n",
       "      <td>0</td>\n",
       "      <td>0</td>\n",
       "      <td>Contract</td>\n",
       "      <td>0</td>\n",
       "      <td>0</td>\n",
       "      <td>4</td>\n",
       "    </tr>\n",
       "  </tbody>\n",
       "</table>\n",
       "<p>10 rows × 25 columns</p>\n",
       "</div>"
      ],
      "text/plain": [
       "   id  is_canceled  lead_time  arrival_date_year arrival_date_month  \\\n",
       "0   0            0        7.0               2015               July   \n",
       "1   1            0       14.0               2015               July   \n",
       "2   2            0        0.0               2015               July   \n",
       "3   3            0        9.0               2015               July   \n",
       "4   4            1       85.0               2015               July   \n",
       "5   5            1       75.0               2015               July   \n",
       "6   6            1       23.0               2015               July   \n",
       "7   7            0       18.0               2015               July   \n",
       "8   8            0       68.0               2015               July   \n",
       "9   9            0       37.0               2015               July   \n",
       "\n",
       "   arrival_date_week_number  arrival_date_day_of_month  \\\n",
       "0                        27                          1   \n",
       "1                        27                          1   \n",
       "2                        27                          1   \n",
       "3                        27                          1   \n",
       "4                        27                          1   \n",
       "5                        27                          1   \n",
       "6                        27                          1   \n",
       "7                        27                          1   \n",
       "8                        27                          1   \n",
       "9                        27                          1   \n",
       "\n",
       "   stays_in_weekend_nights  stays_in_week_nights  adults  ...  \\\n",
       "0                        0                     1     1.0  ...   \n",
       "1                        0                     2     2.0  ...   \n",
       "2                        0                     2     2.0  ...   \n",
       "3                        0                     2     2.0  ...   \n",
       "4                        0                     3     2.0  ...   \n",
       "5                        0                     3     2.0  ...   \n",
       "6                        0                     4     2.0  ...   \n",
       "7                        0                     4     2.0  ...   \n",
       "8                        0                     4     2.0  ...   \n",
       "9                        0                     4     2.0  ...   \n",
       "\n",
       "   is_repeated_guest  previous_cancellations previous_bookings_not_canceled  \\\n",
       "0                  0                       0                              0   \n",
       "1                  0                       0                              0   \n",
       "2                  0                       0                              0   \n",
       "3                  0                       0                              0   \n",
       "4                  0                       0                              0   \n",
       "5                  0                       0                              0   \n",
       "6                  0                       0                              0   \n",
       "7                  0                       0                              0   \n",
       "8                  0                       0                              0   \n",
       "9                  0                       0                              0   \n",
       "\n",
       "  reserved_room_type booking_changes  days_in_waiting_list  customer_type  \\\n",
       "0   A                              0                     0      Transient   \n",
       "1   A                              0                     0      Transient   \n",
       "2   C                              0                     0      Transient   \n",
       "3   C                              0                     0      Transient   \n",
       "4   A                              0                     0      Transient   \n",
       "5   D                              0                     0      Transient   \n",
       "6   E                              0                     0      Transient   \n",
       "7   G                              1                     0      Transient   \n",
       "8   D                              0                     0      Transient   \n",
       "9   E                              0                     0       Contract   \n",
       "\n",
       "   required_car_parking_spaces total_of_special_requests  total_nights  \n",
       "0                            0                         0             1  \n",
       "1                            0                         1             2  \n",
       "2                            0                         0             2  \n",
       "3                            0                         1             2  \n",
       "4                            0                         1             3  \n",
       "5                            0                         0             3  \n",
       "6                            0                         0             4  \n",
       "7                            0                         1             4  \n",
       "8                            0                         3             4  \n",
       "9                            0                         0             4  \n",
       "\n",
       "[10 rows x 25 columns]"
      ]
     },
     "execution_count": 69,
     "metadata": {},
     "output_type": "execute_result"
    }
   ],
   "source": [
    "hotel_train.head(10)"
   ]
  },
  {
   "cell_type": "code",
   "execution_count": 70,
   "metadata": {},
   "outputs": [
    {
     "data": {
      "text/html": [
       "<div>\n",
       "<style scoped>\n",
       "    .dataframe tbody tr th:only-of-type {\n",
       "        vertical-align: middle;\n",
       "    }\n",
       "\n",
       "    .dataframe tbody tr th {\n",
       "        vertical-align: top;\n",
       "    }\n",
       "\n",
       "    .dataframe thead th {\n",
       "        text-align: right;\n",
       "    }\n",
       "</style>\n",
       "<table border=\"1\" class=\"dataframe\">\n",
       "  <thead>\n",
       "    <tr style=\"text-align: right;\">\n",
       "      <th></th>\n",
       "      <th>id</th>\n",
       "      <th>is_canceled</th>\n",
       "      <th>lead_time</th>\n",
       "      <th>arrival_date_year</th>\n",
       "      <th>arrival_date_week_number</th>\n",
       "      <th>arrival_date_day_of_month</th>\n",
       "      <th>stays_in_weekend_nights</th>\n",
       "      <th>stays_in_week_nights</th>\n",
       "      <th>adults</th>\n",
       "      <th>children</th>\n",
       "      <th>babies</th>\n",
       "      <th>is_repeated_guest</th>\n",
       "      <th>previous_cancellations</th>\n",
       "      <th>previous_bookings_not_canceled</th>\n",
       "      <th>booking_changes</th>\n",
       "      <th>days_in_waiting_list</th>\n",
       "      <th>required_car_parking_spaces</th>\n",
       "      <th>total_of_special_requests</th>\n",
       "      <th>total_nights</th>\n",
       "    </tr>\n",
       "  </thead>\n",
       "  <tbody>\n",
       "    <tr>\n",
       "      <th>count</th>\n",
       "      <td>32412.000000</td>\n",
       "      <td>32412.000000</td>\n",
       "      <td>32412.000000</td>\n",
       "      <td>32412.0</td>\n",
       "      <td>32412.000000</td>\n",
       "      <td>32412.000000</td>\n",
       "      <td>32412.000000</td>\n",
       "      <td>32412.00000</td>\n",
       "      <td>32412.000000</td>\n",
       "      <td>32412.000000</td>\n",
       "      <td>32412.000000</td>\n",
       "      <td>32412.000000</td>\n",
       "      <td>32412.000000</td>\n",
       "      <td>32412.000000</td>\n",
       "      <td>32412.000000</td>\n",
       "      <td>32412.000000</td>\n",
       "      <td>32412.000000</td>\n",
       "      <td>32412.000000</td>\n",
       "      <td>32412.000000</td>\n",
       "    </tr>\n",
       "    <tr>\n",
       "      <th>mean</th>\n",
       "      <td>60131.505183</td>\n",
       "      <td>0.388467</td>\n",
       "      <td>97.587869</td>\n",
       "      <td>2017.0</td>\n",
       "      <td>17.804054</td>\n",
       "      <td>15.656948</td>\n",
       "      <td>0.867888</td>\n",
       "      <td>2.34009</td>\n",
       "      <td>1.858602</td>\n",
       "      <td>0.083765</td>\n",
       "      <td>0.005523</td>\n",
       "      <td>0.031377</td>\n",
       "      <td>0.011601</td>\n",
       "      <td>0.171418</td>\n",
       "      <td>0.216741</td>\n",
       "      <td>0.262341</td>\n",
       "      <td>0.046248</td>\n",
       "      <td>0.657781</td>\n",
       "      <td>3.207979</td>\n",
       "    </tr>\n",
       "    <tr>\n",
       "      <th>std</th>\n",
       "      <td>29953.586177</td>\n",
       "      <td>0.487409</td>\n",
       "      <td>86.507146</td>\n",
       "      <td>0.0</td>\n",
       "      <td>9.177384</td>\n",
       "      <td>8.766429</td>\n",
       "      <td>0.853394</td>\n",
       "      <td>1.37517</td>\n",
       "      <td>0.489341</td>\n",
       "      <td>0.343470</td>\n",
       "      <td>0.075757</td>\n",
       "      <td>0.174338</td>\n",
       "      <td>0.180473</td>\n",
       "      <td>1.875170</td>\n",
       "      <td>0.640551</td>\n",
       "      <td>4.733027</td>\n",
       "      <td>0.219367</td>\n",
       "      <td>0.834341</td>\n",
       "      <td>1.738683</td>\n",
       "    </tr>\n",
       "    <tr>\n",
       "      <th>min</th>\n",
       "      <td>6086.000000</td>\n",
       "      <td>0.000000</td>\n",
       "      <td>0.000000</td>\n",
       "      <td>2017.0</td>\n",
       "      <td>1.000000</td>\n",
       "      <td>1.000000</td>\n",
       "      <td>0.000000</td>\n",
       "      <td>0.00000</td>\n",
       "      <td>0.000000</td>\n",
       "      <td>0.000000</td>\n",
       "      <td>0.000000</td>\n",
       "      <td>0.000000</td>\n",
       "      <td>0.000000</td>\n",
       "      <td>0.000000</td>\n",
       "      <td>0.000000</td>\n",
       "      <td>0.000000</td>\n",
       "      <td>0.000000</td>\n",
       "      <td>0.000000</td>\n",
       "      <td>1.000000</td>\n",
       "    </tr>\n",
       "    <tr>\n",
       "      <th>25%</th>\n",
       "      <td>45291.750000</td>\n",
       "      <td>0.000000</td>\n",
       "      <td>23.000000</td>\n",
       "      <td>2017.0</td>\n",
       "      <td>10.000000</td>\n",
       "      <td>8.000000</td>\n",
       "      <td>0.000000</td>\n",
       "      <td>1.00000</td>\n",
       "      <td>2.000000</td>\n",
       "      <td>0.000000</td>\n",
       "      <td>0.000000</td>\n",
       "      <td>0.000000</td>\n",
       "      <td>0.000000</td>\n",
       "      <td>0.000000</td>\n",
       "      <td>0.000000</td>\n",
       "      <td>0.000000</td>\n",
       "      <td>0.000000</td>\n",
       "      <td>0.000000</td>\n",
       "      <td>2.000000</td>\n",
       "    </tr>\n",
       "    <tr>\n",
       "      <th>50%</th>\n",
       "      <td>53394.500000</td>\n",
       "      <td>0.000000</td>\n",
       "      <td>76.000000</td>\n",
       "      <td>2017.0</td>\n",
       "      <td>18.000000</td>\n",
       "      <td>15.500000</td>\n",
       "      <td>1.000000</td>\n",
       "      <td>2.00000</td>\n",
       "      <td>2.000000</td>\n",
       "      <td>0.000000</td>\n",
       "      <td>0.000000</td>\n",
       "      <td>0.000000</td>\n",
       "      <td>0.000000</td>\n",
       "      <td>0.000000</td>\n",
       "      <td>0.000000</td>\n",
       "      <td>0.000000</td>\n",
       "      <td>0.000000</td>\n",
       "      <td>0.000000</td>\n",
       "      <td>3.000000</td>\n",
       "    </tr>\n",
       "    <tr>\n",
       "      <th>75%</th>\n",
       "      <td>89800.250000</td>\n",
       "      <td>1.000000</td>\n",
       "      <td>155.000000</td>\n",
       "      <td>2017.0</td>\n",
       "      <td>25.000000</td>\n",
       "      <td>23.000000</td>\n",
       "      <td>2.000000</td>\n",
       "      <td>3.00000</td>\n",
       "      <td>2.000000</td>\n",
       "      <td>0.000000</td>\n",
       "      <td>0.000000</td>\n",
       "      <td>0.000000</td>\n",
       "      <td>0.000000</td>\n",
       "      <td>0.000000</td>\n",
       "      <td>0.000000</td>\n",
       "      <td>0.000000</td>\n",
       "      <td>0.000000</td>\n",
       "      <td>1.000000</td>\n",
       "      <td>4.000000</td>\n",
       "    </tr>\n",
       "    <tr>\n",
       "      <th>max</th>\n",
       "      <td>97903.000000</td>\n",
       "      <td>1.000000</td>\n",
       "      <td>373.000000</td>\n",
       "      <td>2017.0</td>\n",
       "      <td>35.000000</td>\n",
       "      <td>31.000000</td>\n",
       "      <td>4.000000</td>\n",
       "      <td>6.00000</td>\n",
       "      <td>4.000000</td>\n",
       "      <td>3.000000</td>\n",
       "      <td>2.000000</td>\n",
       "      <td>1.000000</td>\n",
       "      <td>6.000000</td>\n",
       "      <td>72.000000</td>\n",
       "      <td>18.000000</td>\n",
       "      <td>223.000000</td>\n",
       "      <td>8.000000</td>\n",
       "      <td>5.000000</td>\n",
       "      <td>10.000000</td>\n",
       "    </tr>\n",
       "  </tbody>\n",
       "</table>\n",
       "</div>"
      ],
      "text/plain": [
       "                 id   is_canceled     lead_time  arrival_date_year  \\\n",
       "count  32412.000000  32412.000000  32412.000000            32412.0   \n",
       "mean   60131.505183      0.388467     97.587869             2017.0   \n",
       "std    29953.586177      0.487409     86.507146                0.0   \n",
       "min     6086.000000      0.000000      0.000000             2017.0   \n",
       "25%    45291.750000      0.000000     23.000000             2017.0   \n",
       "50%    53394.500000      0.000000     76.000000             2017.0   \n",
       "75%    89800.250000      1.000000    155.000000             2017.0   \n",
       "max    97903.000000      1.000000    373.000000             2017.0   \n",
       "\n",
       "       arrival_date_week_number  arrival_date_day_of_month  \\\n",
       "count              32412.000000               32412.000000   \n",
       "mean                  17.804054                  15.656948   \n",
       "std                    9.177384                   8.766429   \n",
       "min                    1.000000                   1.000000   \n",
       "25%                   10.000000                   8.000000   \n",
       "50%                   18.000000                  15.500000   \n",
       "75%                   25.000000                  23.000000   \n",
       "max                   35.000000                  31.000000   \n",
       "\n",
       "       stays_in_weekend_nights  stays_in_week_nights        adults  \\\n",
       "count             32412.000000           32412.00000  32412.000000   \n",
       "mean                  0.867888               2.34009      1.858602   \n",
       "std                   0.853394               1.37517      0.489341   \n",
       "min                   0.000000               0.00000      0.000000   \n",
       "25%                   0.000000               1.00000      2.000000   \n",
       "50%                   1.000000               2.00000      2.000000   \n",
       "75%                   2.000000               3.00000      2.000000   \n",
       "max                   4.000000               6.00000      4.000000   \n",
       "\n",
       "           children        babies  is_repeated_guest  previous_cancellations  \\\n",
       "count  32412.000000  32412.000000       32412.000000            32412.000000   \n",
       "mean       0.083765      0.005523           0.031377                0.011601   \n",
       "std        0.343470      0.075757           0.174338                0.180473   \n",
       "min        0.000000      0.000000           0.000000                0.000000   \n",
       "25%        0.000000      0.000000           0.000000                0.000000   \n",
       "50%        0.000000      0.000000           0.000000                0.000000   \n",
       "75%        0.000000      0.000000           0.000000                0.000000   \n",
       "max        3.000000      2.000000           1.000000                6.000000   \n",
       "\n",
       "       previous_bookings_not_canceled  booking_changes  days_in_waiting_list  \\\n",
       "count                    32412.000000     32412.000000          32412.000000   \n",
       "mean                         0.171418         0.216741              0.262341   \n",
       "std                          1.875170         0.640551              4.733027   \n",
       "min                          0.000000         0.000000              0.000000   \n",
       "25%                          0.000000         0.000000              0.000000   \n",
       "50%                          0.000000         0.000000              0.000000   \n",
       "75%                          0.000000         0.000000              0.000000   \n",
       "max                         72.000000        18.000000            223.000000   \n",
       "\n",
       "       required_car_parking_spaces  total_of_special_requests  total_nights  \n",
       "count                 32412.000000               32412.000000  32412.000000  \n",
       "mean                      0.046248                   0.657781      3.207979  \n",
       "std                       0.219367                   0.834341      1.738683  \n",
       "min                       0.000000                   0.000000      1.000000  \n",
       "25%                       0.000000                   0.000000      2.000000  \n",
       "50%                       0.000000                   0.000000      3.000000  \n",
       "75%                       0.000000                   1.000000      4.000000  \n",
       "max                       8.000000                   5.000000     10.000000  "
      ]
     },
     "execution_count": 70,
     "metadata": {},
     "output_type": "execute_result"
    }
   ],
   "source": [
    "hotel_test.describe()"
   ]
  },
  {
   "cell_type": "code",
   "execution_count": 71,
   "metadata": {
    "scrolled": true
   },
   "outputs": [
    {
     "data": {
      "text/html": [
       "<div>\n",
       "<style scoped>\n",
       "    .dataframe tbody tr th:only-of-type {\n",
       "        vertical-align: middle;\n",
       "    }\n",
       "\n",
       "    .dataframe tbody tr th {\n",
       "        vertical-align: top;\n",
       "    }\n",
       "\n",
       "    .dataframe thead th {\n",
       "        text-align: right;\n",
       "    }\n",
       "</style>\n",
       "<table border=\"1\" class=\"dataframe\">\n",
       "  <thead>\n",
       "    <tr style=\"text-align: right;\">\n",
       "      <th></th>\n",
       "      <th>id</th>\n",
       "      <th>is_canceled</th>\n",
       "      <th>lead_time</th>\n",
       "      <th>arrival_date_year</th>\n",
       "      <th>arrival_date_week_number</th>\n",
       "      <th>arrival_date_day_of_month</th>\n",
       "      <th>stays_in_weekend_nights</th>\n",
       "      <th>stays_in_week_nights</th>\n",
       "      <th>adults</th>\n",
       "      <th>children</th>\n",
       "      <th>babies</th>\n",
       "      <th>is_repeated_guest</th>\n",
       "      <th>previous_cancellations</th>\n",
       "      <th>previous_bookings_not_canceled</th>\n",
       "      <th>booking_changes</th>\n",
       "      <th>days_in_waiting_list</th>\n",
       "      <th>required_car_parking_spaces</th>\n",
       "      <th>total_of_special_requests</th>\n",
       "      <th>total_nights</th>\n",
       "    </tr>\n",
       "  </thead>\n",
       "  <tbody>\n",
       "    <tr>\n",
       "      <th>count</th>\n",
       "      <td>65229.000000</td>\n",
       "      <td>65229.000000</td>\n",
       "      <td>65229.000000</td>\n",
       "      <td>65229.000000</td>\n",
       "      <td>65229.000000</td>\n",
       "      <td>65229.000000</td>\n",
       "      <td>65229.000000</td>\n",
       "      <td>65229.000000</td>\n",
       "      <td>65229.000000</td>\n",
       "      <td>65229.000000</td>\n",
       "      <td>65229.000000</td>\n",
       "      <td>65229.000000</td>\n",
       "      <td>65229.000000</td>\n",
       "      <td>65229.000000</td>\n",
       "      <td>65229.000000</td>\n",
       "      <td>65229.000000</td>\n",
       "      <td>65229.000000</td>\n",
       "      <td>65229.000000</td>\n",
       "      <td>65229.000000</td>\n",
       "    </tr>\n",
       "    <tr>\n",
       "      <th>mean</th>\n",
       "      <td>43544.069172</td>\n",
       "      <td>0.368609</td>\n",
       "      <td>96.337917</td>\n",
       "      <td>2015.719021</td>\n",
       "      <td>31.339772</td>\n",
       "      <td>15.847813</td>\n",
       "      <td>0.825185</td>\n",
       "      <td>2.224793</td>\n",
       "      <td>1.836576</td>\n",
       "      <td>0.074890</td>\n",
       "      <td>0.007236</td>\n",
       "      <td>0.027151</td>\n",
       "      <td>0.128915</td>\n",
       "      <td>0.107713</td>\n",
       "      <td>0.194269</td>\n",
       "      <td>3.334422</td>\n",
       "      <td>0.056647</td>\n",
       "      <td>0.512763</td>\n",
       "      <td>3.049978</td>\n",
       "    </tr>\n",
       "    <tr>\n",
       "      <th>std</th>\n",
       "      <td>25614.858971</td>\n",
       "      <td>0.482431</td>\n",
       "      <td>96.127545</td>\n",
       "      <td>0.449481</td>\n",
       "      <td>13.464024</td>\n",
       "      <td>8.748182</td>\n",
       "      <td>0.853477</td>\n",
       "      <td>1.354992</td>\n",
       "      <td>0.480245</td>\n",
       "      <td>0.334243</td>\n",
       "      <td>0.098790</td>\n",
       "      <td>0.162523</td>\n",
       "      <td>0.965326</td>\n",
       "      <td>1.326638</td>\n",
       "      <td>0.593838</td>\n",
       "      <td>18.239606</td>\n",
       "      <td>0.232094</td>\n",
       "      <td>0.752590</td>\n",
       "      <td>1.738108</td>\n",
       "    </tr>\n",
       "    <tr>\n",
       "      <th>min</th>\n",
       "      <td>0.000000</td>\n",
       "      <td>0.000000</td>\n",
       "      <td>0.000000</td>\n",
       "      <td>2015.000000</td>\n",
       "      <td>1.000000</td>\n",
       "      <td>1.000000</td>\n",
       "      <td>0.000000</td>\n",
       "      <td>0.000000</td>\n",
       "      <td>0.000000</td>\n",
       "      <td>0.000000</td>\n",
       "      <td>0.000000</td>\n",
       "      <td>0.000000</td>\n",
       "      <td>0.000000</td>\n",
       "      <td>0.000000</td>\n",
       "      <td>0.000000</td>\n",
       "      <td>0.000000</td>\n",
       "      <td>0.000000</td>\n",
       "      <td>0.000000</td>\n",
       "      <td>1.000000</td>\n",
       "    </tr>\n",
       "    <tr>\n",
       "      <th>25%</th>\n",
       "      <td>19108.000000</td>\n",
       "      <td>0.000000</td>\n",
       "      <td>17.000000</td>\n",
       "      <td>2015.000000</td>\n",
       "      <td>21.000000</td>\n",
       "      <td>8.000000</td>\n",
       "      <td>0.000000</td>\n",
       "      <td>1.000000</td>\n",
       "      <td>2.000000</td>\n",
       "      <td>0.000000</td>\n",
       "      <td>0.000000</td>\n",
       "      <td>0.000000</td>\n",
       "      <td>0.000000</td>\n",
       "      <td>0.000000</td>\n",
       "      <td>0.000000</td>\n",
       "      <td>0.000000</td>\n",
       "      <td>0.000000</td>\n",
       "      <td>0.000000</td>\n",
       "      <td>2.000000</td>\n",
       "    </tr>\n",
       "    <tr>\n",
       "      <th>50%</th>\n",
       "      <td>40554.000000</td>\n",
       "      <td>0.000000</td>\n",
       "      <td>64.000000</td>\n",
       "      <td>2016.000000</td>\n",
       "      <td>34.000000</td>\n",
       "      <td>16.000000</td>\n",
       "      <td>1.000000</td>\n",
       "      <td>2.000000</td>\n",
       "      <td>2.000000</td>\n",
       "      <td>0.000000</td>\n",
       "      <td>0.000000</td>\n",
       "      <td>0.000000</td>\n",
       "      <td>0.000000</td>\n",
       "      <td>0.000000</td>\n",
       "      <td>0.000000</td>\n",
       "      <td>0.000000</td>\n",
       "      <td>0.000000</td>\n",
       "      <td>0.000000</td>\n",
       "      <td>3.000000</td>\n",
       "    </tr>\n",
       "    <tr>\n",
       "      <th>75%</th>\n",
       "      <td>67414.000000</td>\n",
       "      <td>1.000000</td>\n",
       "      <td>151.000000</td>\n",
       "      <td>2016.000000</td>\n",
       "      <td>42.000000</td>\n",
       "      <td>23.000000</td>\n",
       "      <td>2.000000</td>\n",
       "      <td>3.000000</td>\n",
       "      <td>2.000000</td>\n",
       "      <td>0.000000</td>\n",
       "      <td>0.000000</td>\n",
       "      <td>0.000000</td>\n",
       "      <td>0.000000</td>\n",
       "      <td>0.000000</td>\n",
       "      <td>0.000000</td>\n",
       "      <td>0.000000</td>\n",
       "      <td>0.000000</td>\n",
       "      <td>1.000000</td>\n",
       "      <td>4.000000</td>\n",
       "    </tr>\n",
       "    <tr>\n",
       "      <th>max</th>\n",
       "      <td>84121.000000</td>\n",
       "      <td>1.000000</td>\n",
       "      <td>374.000000</td>\n",
       "      <td>2016.000000</td>\n",
       "      <td>53.000000</td>\n",
       "      <td>31.000000</td>\n",
       "      <td>4.000000</td>\n",
       "      <td>6.000000</td>\n",
       "      <td>4.000000</td>\n",
       "      <td>3.000000</td>\n",
       "      <td>10.000000</td>\n",
       "      <td>1.000000</td>\n",
       "      <td>26.000000</td>\n",
       "      <td>58.000000</td>\n",
       "      <td>17.000000</td>\n",
       "      <td>259.000000</td>\n",
       "      <td>3.000000</td>\n",
       "      <td>5.000000</td>\n",
       "      <td>10.000000</td>\n",
       "    </tr>\n",
       "  </tbody>\n",
       "</table>\n",
       "</div>"
      ],
      "text/plain": [
       "                 id   is_canceled     lead_time  arrival_date_year  \\\n",
       "count  65229.000000  65229.000000  65229.000000       65229.000000   \n",
       "mean   43544.069172      0.368609     96.337917        2015.719021   \n",
       "std    25614.858971      0.482431     96.127545           0.449481   \n",
       "min        0.000000      0.000000      0.000000        2015.000000   \n",
       "25%    19108.000000      0.000000     17.000000        2015.000000   \n",
       "50%    40554.000000      0.000000     64.000000        2016.000000   \n",
       "75%    67414.000000      1.000000    151.000000        2016.000000   \n",
       "max    84121.000000      1.000000    374.000000        2016.000000   \n",
       "\n",
       "       arrival_date_week_number  arrival_date_day_of_month  \\\n",
       "count              65229.000000               65229.000000   \n",
       "mean                  31.339772                  15.847813   \n",
       "std                   13.464024                   8.748182   \n",
       "min                    1.000000                   1.000000   \n",
       "25%                   21.000000                   8.000000   \n",
       "50%                   34.000000                  16.000000   \n",
       "75%                   42.000000                  23.000000   \n",
       "max                   53.000000                  31.000000   \n",
       "\n",
       "       stays_in_weekend_nights  stays_in_week_nights        adults  \\\n",
       "count             65229.000000          65229.000000  65229.000000   \n",
       "mean                  0.825185              2.224793      1.836576   \n",
       "std                   0.853477              1.354992      0.480245   \n",
       "min                   0.000000              0.000000      0.000000   \n",
       "25%                   0.000000              1.000000      2.000000   \n",
       "50%                   1.000000              2.000000      2.000000   \n",
       "75%                   2.000000              3.000000      2.000000   \n",
       "max                   4.000000              6.000000      4.000000   \n",
       "\n",
       "           children        babies  is_repeated_guest  previous_cancellations  \\\n",
       "count  65229.000000  65229.000000       65229.000000            65229.000000   \n",
       "mean       0.074890      0.007236           0.027151                0.128915   \n",
       "std        0.334243      0.098790           0.162523                0.965326   \n",
       "min        0.000000      0.000000           0.000000                0.000000   \n",
       "25%        0.000000      0.000000           0.000000                0.000000   \n",
       "50%        0.000000      0.000000           0.000000                0.000000   \n",
       "75%        0.000000      0.000000           0.000000                0.000000   \n",
       "max        3.000000     10.000000           1.000000               26.000000   \n",
       "\n",
       "       previous_bookings_not_canceled  booking_changes  days_in_waiting_list  \\\n",
       "count                    65229.000000     65229.000000          65229.000000   \n",
       "mean                         0.107713         0.194269              3.334422   \n",
       "std                          1.326638         0.593838             18.239606   \n",
       "min                          0.000000         0.000000              0.000000   \n",
       "25%                          0.000000         0.000000              0.000000   \n",
       "50%                          0.000000         0.000000              0.000000   \n",
       "75%                          0.000000         0.000000              0.000000   \n",
       "max                         58.000000        17.000000            259.000000   \n",
       "\n",
       "       required_car_parking_spaces  total_of_special_requests  total_nights  \n",
       "count                 65229.000000               65229.000000  65229.000000  \n",
       "mean                      0.056647                   0.512763      3.049978  \n",
       "std                       0.232094                   0.752590      1.738108  \n",
       "min                       0.000000                   0.000000      1.000000  \n",
       "25%                       0.000000                   0.000000      2.000000  \n",
       "50%                       0.000000                   0.000000      3.000000  \n",
       "75%                       0.000000                   1.000000      4.000000  \n",
       "max                       3.000000                   5.000000     10.000000  "
      ]
     },
     "execution_count": 71,
     "metadata": {},
     "output_type": "execute_result"
    }
   ],
   "source": [
    "hotel_train.describe()"
   ]
  },
  {
   "cell_type": "markdown",
   "metadata": {},
   "source": [
    "Импортированы необходимые библиотеки, получена первичная информация о двух датафрейма для проведения дальнейшего анализа."
   ]
  },
  {
   "cell_type": "markdown",
   "metadata": {},
   "source": [
    "### Шаг 2. Предобработка и исследовательский анализ данных"
   ]
  },
  {
   "cell_type": "code",
   "execution_count": 72,
   "metadata": {},
   "outputs": [],
   "source": [
    "#hotel_test.isnull().sum()"
   ]
  },
  {
   "cell_type": "code",
   "execution_count": 73,
   "metadata": {
    "scrolled": true
   },
   "outputs": [
    {
     "data": {
      "text/plain": [
       "0"
      ]
     },
     "execution_count": 73,
     "metadata": {},
     "output_type": "execute_result"
    }
   ],
   "source": [
    "hotel_test.duplicated().sum()"
   ]
  },
  {
   "cell_type": "code",
   "execution_count": 74,
   "metadata": {},
   "outputs": [],
   "source": [
    "#hotel_train.isnull().sum()"
   ]
  },
  {
   "cell_type": "code",
   "execution_count": 75,
   "metadata": {},
   "outputs": [
    {
     "data": {
      "text/plain": [
       "0"
      ]
     },
     "execution_count": 75,
     "metadata": {},
     "output_type": "execute_result"
    }
   ],
   "source": [
    "hotel_train.duplicated().sum()"
   ]
  },
  {
   "cell_type": "markdown",
   "metadata": {},
   "source": [
    "Пропусков и явных дубликатов в датафреймах нет"
   ]
  },
  {
   "cell_type": "code",
   "execution_count": 76,
   "metadata": {},
   "outputs": [
    {
     "data": {
      "text/plain": [
       "array(['Transient', 'Contract', 'Transient-Party', 'Group'], dtype=object)"
      ]
     },
     "execution_count": 76,
     "metadata": {},
     "output_type": "execute_result"
    }
   ],
   "source": [
    "hotel_train['customer_type'].unique()"
   ]
  },
  {
   "cell_type": "code",
   "execution_count": 77,
   "metadata": {},
   "outputs": [
    {
     "data": {
      "text/plain": [
       "array(['Transient', 'Transient-Party', 'Contract', 'Group'], dtype=object)"
      ]
     },
     "execution_count": 77,
     "metadata": {},
     "output_type": "execute_result"
    }
   ],
   "source": [
    "hotel_test ['customer_type'].unique()"
   ]
  },
  {
   "cell_type": "code",
   "execution_count": 78,
   "metadata": {},
   "outputs": [
    {
     "data": {
      "text/plain": [
       "array(['BB       ', 'FB       ', 'HB       ', 'SC       ', 'SC'],\n",
       "      dtype=object)"
      ]
     },
     "execution_count": 78,
     "metadata": {},
     "output_type": "execute_result"
    }
   ],
   "source": [
    "hotel_train['meal'].unique()"
   ]
  },
  {
   "cell_type": "code",
   "execution_count": 79,
   "metadata": {},
   "outputs": [],
   "source": [
    "hotel_train['meal'] = hotel_train['meal'].str.strip()"
   ]
  },
  {
   "cell_type": "code",
   "execution_count": 80,
   "metadata": {},
   "outputs": [
    {
     "data": {
      "text/plain": [
       "array(['BB', 'FB', 'HB', 'SC'], dtype=object)"
      ]
     },
     "execution_count": 80,
     "metadata": {},
     "output_type": "execute_result"
    }
   ],
   "source": [
    "hotel_train['meal'].unique()"
   ]
  },
  {
   "cell_type": "code",
   "execution_count": 81,
   "metadata": {},
   "outputs": [
    {
     "data": {
      "text/plain": [
       "array(['BB       ', 'HB       ', 'SC', 'FB       ', 'SC       '],\n",
       "      dtype=object)"
      ]
     },
     "execution_count": 81,
     "metadata": {},
     "output_type": "execute_result"
    }
   ],
   "source": [
    "hotel_test['meal'].unique()"
   ]
  },
  {
   "cell_type": "code",
   "execution_count": 82,
   "metadata": {},
   "outputs": [],
   "source": [
    "hotel_test['meal'] = hotel_test['meal'].str.strip()"
   ]
  },
  {
   "cell_type": "code",
   "execution_count": 83,
   "metadata": {},
   "outputs": [
    {
     "data": {
      "text/plain": [
       "array(['BB', 'HB', 'SC', 'FB'], dtype=object)"
      ]
     },
     "execution_count": 83,
     "metadata": {},
     "output_type": "execute_result"
    }
   ],
   "source": [
    "hotel_test['meal'].unique()"
   ]
  },
  {
   "cell_type": "markdown",
   "metadata": {},
   "source": [
    "Проверка на неявные дубликаты и замена при необходимости."
   ]
  },
  {
   "cell_type": "code",
   "execution_count": 84,
   "metadata": {},
   "outputs": [
    {
     "data": {
      "text/plain": [
       "array([2., 1., 3., 4., 0.])"
      ]
     },
     "execution_count": 84,
     "metadata": {},
     "output_type": "execute_result"
    }
   ],
   "source": [
    "hotel_test['adults'].unique()"
   ]
  },
  {
   "cell_type": "code",
   "execution_count": 85,
   "metadata": {},
   "outputs": [
    {
     "data": {
      "text/plain": [
       "array([1., 2., 3., 4., 0.])"
      ]
     },
     "execution_count": 85,
     "metadata": {},
     "output_type": "execute_result"
    }
   ],
   "source": [
    "hotel_train['adults'].unique()"
   ]
  },
  {
   "cell_type": "code",
   "execution_count": 86,
   "metadata": {},
   "outputs": [
    {
     "data": {
      "text/plain": [
       "array([2017])"
      ]
     },
     "execution_count": 86,
     "metadata": {},
     "output_type": "execute_result"
    }
   ],
   "source": [
    "hotel_test['arrival_date_year'].unique()"
   ]
  },
  {
   "cell_type": "code",
   "execution_count": 87,
   "metadata": {},
   "outputs": [
    {
     "data": {
      "text/plain": [
       "array([2015, 2016])"
      ]
     },
     "execution_count": 87,
     "metadata": {},
     "output_type": "execute_result"
    }
   ],
   "source": [
    "hotel_train['arrival_date_year'].unique()"
   ]
  },
  {
   "cell_type": "code",
   "execution_count": 88,
   "metadata": {},
   "outputs": [
    {
     "data": {
      "text/plain": [
       "array(['January', 'February', 'March', 'April', 'May', 'June', 'July',\n",
       "       'August'], dtype=object)"
      ]
     },
     "execution_count": 88,
     "metadata": {},
     "output_type": "execute_result"
    }
   ],
   "source": [
    "hotel_test['arrival_date_month'].unique()"
   ]
  },
  {
   "cell_type": "code",
   "execution_count": 89,
   "metadata": {},
   "outputs": [
    {
     "data": {
      "text/plain": [
       "array(['July', 'August', 'September', 'October', 'November', 'December',\n",
       "       'January', 'February', 'March', 'April', 'May', 'June'],\n",
       "      dtype=object)"
      ]
     },
     "execution_count": 89,
     "metadata": {},
     "output_type": "execute_result"
    }
   ],
   "source": [
    "hotel_train['arrival_date_month'].unique()"
   ]
  },
  {
   "cell_type": "code",
   "execution_count": 90,
   "metadata": {},
   "outputs": [
    {
     "data": {
      "text/plain": [
       "array([ 1,  2,  3,  4,  5,  6,  7,  8,  9, 11, 12, 13, 14, 16, 17, 19, 20,\n",
       "       21, 22, 23, 24, 25, 26, 27, 28, 29, 30, 31, 10, 15, 18])"
      ]
     },
     "execution_count": 90,
     "metadata": {},
     "output_type": "execute_result"
    }
   ],
   "source": [
    "hotel_test['arrival_date_day_of_month'].unique()"
   ]
  },
  {
   "cell_type": "code",
   "execution_count": 91,
   "metadata": {},
   "outputs": [
    {
     "data": {
      "text/plain": [
       "array([ 1,  2,  3,  4,  5,  6,  7,  8,  9, 10, 11, 12, 13, 14, 15, 16, 17,\n",
       "       18, 19, 20, 21, 22, 23, 24, 25, 26, 27, 28, 29, 30, 31])"
      ]
     },
     "execution_count": 91,
     "metadata": {},
     "output_type": "execute_result"
    }
   ],
   "source": [
    "hotel_train['arrival_date_day_of_month'].unique()"
   ]
  },
  {
   "cell_type": "code",
   "execution_count": 92,
   "metadata": {},
   "outputs": [
    {
     "data": {
      "text/plain": [
       "array([0., 1., 2.])"
      ]
     },
     "execution_count": 92,
     "metadata": {},
     "output_type": "execute_result"
    }
   ],
   "source": [
    "hotel_test['babies'].unique()"
   ]
  },
  {
   "cell_type": "code",
   "execution_count": 93,
   "metadata": {},
   "outputs": [
    {
     "data": {
      "text/plain": [
       "array([ 0.,  1.,  2., 10.,  9.])"
      ]
     },
     "execution_count": 93,
     "metadata": {},
     "output_type": "execute_result"
    }
   ],
   "source": [
    "hotel_train['babies'].unique()"
   ]
  },
  {
   "cell_type": "code",
   "execution_count": 94,
   "metadata": {},
   "outputs": [
    {
     "name": "stdout",
     "output_type": "stream",
     "text": [
      "1\n"
     ]
    }
   ],
   "source": [
    "print ((hotel_train['babies'] == 10).sum())"
   ]
  },
  {
   "cell_type": "code",
   "execution_count": 95,
   "metadata": {},
   "outputs": [
    {
     "name": "stdout",
     "output_type": "stream",
     "text": [
      "1\n"
     ]
    }
   ],
   "source": [
    "print ((hotel_train['babies'] == 9).sum())"
   ]
  },
  {
   "cell_type": "markdown",
   "metadata": {},
   "source": [
    "Эти данные являются выбросами, заменим 10 на 1, а 9 на 0"
   ]
  },
  {
   "cell_type": "code",
   "execution_count": 96,
   "metadata": {},
   "outputs": [],
   "source": [
    "hotel_train['babies'] = hotel_train['babies'].replace({10: 1, 9: 0})"
   ]
  },
  {
   "cell_type": "code",
   "execution_count": 97,
   "metadata": {},
   "outputs": [
    {
     "data": {
      "text/plain": [
       "array([0., 1., 2.])"
      ]
     },
     "execution_count": 97,
     "metadata": {},
     "output_type": "execute_result"
    }
   ],
   "source": [
    "hotel_train['babies'].unique()"
   ]
  },
  {
   "cell_type": "markdown",
   "metadata": {},
   "source": [
    "замена прошла успешно"
   ]
  },
  {
   "cell_type": "code",
   "execution_count": 98,
   "metadata": {},
   "outputs": [
    {
     "data": {
      "text/plain": [
       "array([ 0,  1,  3,  2,  4,  5,  6, 10, 16,  7,  9, 13,  8, 14, 15, 17])"
      ]
     },
     "execution_count": 98,
     "metadata": {},
     "output_type": "execute_result"
    }
   ],
   "source": [
    "hotel_train['booking_changes'].unique()"
   ]
  },
  {
   "cell_type": "code",
   "execution_count": 99,
   "metadata": {},
   "outputs": [
    {
     "data": {
      "text/plain": [
       "array([ 0,  1,  2,  3,  4,  6,  5,  7, 18, 15, 16, 14,  8, 11, 10])"
      ]
     },
     "execution_count": 99,
     "metadata": {},
     "output_type": "execute_result"
    }
   ],
   "source": [
    "hotel_test['booking_changes'].unique()"
   ]
  },
  {
   "cell_type": "code",
   "execution_count": 100,
   "metadata": {},
   "outputs": [
    {
     "data": {
      "text/plain": [
       "array([0., 1., 2., 3.])"
      ]
     },
     "execution_count": 100,
     "metadata": {},
     "output_type": "execute_result"
    }
   ],
   "source": [
    "hotel_train['children'].unique()"
   ]
  },
  {
   "cell_type": "code",
   "execution_count": 101,
   "metadata": {},
   "outputs": [
    {
     "data": {
      "text/plain": [
       "array([0., 2., 1., 3.])"
      ]
     },
     "execution_count": 101,
     "metadata": {},
     "output_type": "execute_result"
    }
   ],
   "source": [
    "hotel_test['children'].unique()"
   ]
  },
  {
   "cell_type": "code",
   "execution_count": 102,
   "metadata": {
    "scrolled": true
   },
   "outputs": [
    {
     "data": {
      "text/plain": [
       "array(['GBR', 'PRT', 'ESP', 'IRL', 'FRA', 'ROU', 'NOR', 'USA', 'DEU',\n",
       "       'BEL', 'CHE', 'CN', 'GRC', 'NLD', 'ARG', 'RUS', 'SWE', 'POL',\n",
       "       'EST', 'CZE', 'ITA', 'FIN', 'DNK', 'MOZ', 'BWA', 'LUX', 'BRA',\n",
       "       'SVN', 'ALB', 'CHN', 'MEX', 'MAR', 'SMR', 'LVA', 'CHL', 'AUT',\n",
       "       'LTU', 'TUR', 'ISR', 'IND', 'CYM', 'AUS', 'CPV', 'ZWE', 'DZA',\n",
       "       'KOR', 'CRI', 'HUN', 'TUN', 'ARE', 'HRV', 'HKG', 'IRN', 'GIB',\n",
       "       'JEY', 'URY', 'ZAF', 'COL', 'GGY', 'KWT', 'CYP', 'KAZ', 'THA',\n",
       "       'DOM', 'NGA', 'BLR', 'VEN', 'UKR', 'ARM', 'JPN', 'LKA', 'MYS',\n",
       "       'BIH', 'MUS', 'OMN', 'SUR', 'JAM', 'BGR', 'CIV', 'SRB', 'JOR',\n",
       "       'SYR', 'PHL', 'PRI', 'SGP', 'BDI', 'LBN', 'AGO', 'VNM', 'AZE',\n",
       "       'PLW', 'NZL', 'EGY', 'MDV', 'CMR', 'MLT', 'SVK', 'MWI', 'STP',\n",
       "       'TWN', 'IDN', 'SEN', 'PER', 'SAU', 'KNA', 'ETH', 'ECU', 'IRQ',\n",
       "       'AND', 'HND', 'PAK', 'GEO', 'ZMB', 'QAT', 'KHM', 'MCO', 'BGD',\n",
       "       'ISL', 'UZB', 'IMN', 'TJK', 'NIC', 'BEN', 'MAC', 'VGB', 'TZA',\n",
       "       'GAB', 'MKD', 'TMP', 'GLP', 'KEN', 'LIE', 'MMR', 'PAN', 'BFA',\n",
       "       'LBY', 'GNB', 'MLI', 'BHR', 'NAM', 'BOL', 'SYC', 'PRY', 'BRB',\n",
       "       'ABW', 'SLV', 'DMA', 'CUB', 'PYF', 'UGA', 'GUY', 'LCA', 'ATA',\n",
       "       'RWA', 'MNE'], dtype=object)"
      ]
     },
     "execution_count": 102,
     "metadata": {},
     "output_type": "execute_result"
    }
   ],
   "source": [
    "hotel_train['country'].unique()"
   ]
  },
  {
   "cell_type": "code",
   "execution_count": 103,
   "metadata": {
    "scrolled": true
   },
   "outputs": [
    {
     "data": {
      "text/plain": [
       "array(['PRT', 'AUT', 'BEL', 'DEU', 'BRA', 'GBR', 'ESP', 'FRA', 'ITA',\n",
       "       'LUX', 'CHE', 'EST', 'NGA', 'IRL', 'CN', 'POL', 'AUS', 'NLD',\n",
       "       'KOR', 'ROU', 'USA', 'CHL', 'DNK', 'FIN', 'RUS', 'SWE', 'HUN',\n",
       "       'HRV', 'MDV', 'ZAF', 'ISR', 'NOR', 'CHN', 'ARE', 'MAR', 'COL',\n",
       "       'FJI', 'LVA', 'LBN', 'PHL', 'HKG', 'SYC', 'GIB', 'AGO', 'MYS',\n",
       "       'MDG', 'IDN', 'LTU', 'ISL', 'TUR', 'ARG', 'JPN', 'SVN', 'SVK',\n",
       "       'BGR', 'CAF', 'JAM', 'UZB', 'UKR', 'IND', 'CZE', 'URY', 'NZL',\n",
       "       'NPL', 'SRB', 'CPV', 'IRN', 'KAZ', 'BHS', 'SUR', 'CUB', 'PAK',\n",
       "       'MAC', 'CYP', 'JOR', 'GRC', 'KWT', 'TWN', 'VNM', 'SGP', 'DOM',\n",
       "       'VEN', 'SEN', 'BLR', 'TZA', 'LIE', 'GNB', 'SAU', 'DZA', 'PER',\n",
       "       'AZE', 'EGY', 'ETH', 'KEN', 'THA', 'MLT', 'ECU', 'AND', 'IMN',\n",
       "       'BHR', 'TUN', 'MNE', 'MEX', 'BEN', 'MOZ', 'UMI', 'JEY', 'MYT',\n",
       "       'QAT', 'BGD', 'GAB', 'CIV', 'ZWE', 'GTM', 'ALB', 'GHA', 'ATA',\n",
       "       'ASM', 'PAN', 'CRI', 'MCO', 'MUS', 'SYR', 'TGO', 'IRQ', 'LKA',\n",
       "       'BIH', 'PRY', 'MRT', 'ABW', 'NCL', 'STP', 'KIR', 'SDN', 'PRI',\n",
       "       'ATF', 'CMR', 'TJK', 'LBY', 'SLE', 'SLV', 'LAO', 'FRO'],\n",
       "      dtype=object)"
      ]
     },
     "execution_count": 103,
     "metadata": {},
     "output_type": "execute_result"
    }
   ],
   "source": [
    "hotel_test['country'].unique()"
   ]
  },
  {
   "cell_type": "code",
   "execution_count": 104,
   "metadata": {},
   "outputs": [
    {
     "data": {
      "text/plain": [
       "array([  0,  50,  47,  65, 122,  75, 101, 150, 125,  22, 142,   2,  13,\n",
       "        44,  38,  48,  33,  77,  21,  80,  59,  40,  58,  89,  53,  49,\n",
       "        60,  69,  87,  91,  57,  99, 111,  79,  98,  85,  63,  15,   3,\n",
       "        20,  93,   4,  41,  34, 224,  31,  39,  56, 187, 176,  71,  55,\n",
       "        96, 236, 259, 207, 215, 160, 120,  30,  32,  27,  62,  24, 108,\n",
       "       147,   5,  14, 107,  70,   8,  35, 178, 174, 162,  68,  11, 193,\n",
       "        10,  76,  17,  45,   6,  19,  28,  42,  25,  46,   9,   1,  43,\n",
       "        72,  12,  61,  81,  74, 167])"
      ]
     },
     "execution_count": 104,
     "metadata": {},
     "output_type": "execute_result"
    }
   ],
   "source": [
    "hotel_train['days_in_waiting_list'].unique()"
   ]
  },
  {
   "cell_type": "code",
   "execution_count": 105,
   "metadata": {},
   "outputs": [
    {
     "data": {
      "text/plain": [
       "array([  0,  14,  60, 100, 121,  61,   5,   1, 107,  43, 122,  83,   4,\n",
       "       113,  18,  20, 185,  93, 109,  34,   6,  13,   8, 154,  64,  99,\n",
       "        76,  16,  22,  28,  21,   9, 165,   2,  44,  17,  53,  38,  50,\n",
       "       111,  25,  46,   7,  47,  27,  49,  84,  30, 175, 183,  39,  56,\n",
       "        31,  10,  15,  23,  63,  33,  32,  11,  35, 117,  57,  12,  80,\n",
       "        71,  54,  59,  26,  73, 223, 105,  65,  36,  98])"
      ]
     },
     "execution_count": 105,
     "metadata": {},
     "output_type": "execute_result"
    }
   ],
   "source": [
    "hotel_test['days_in_waiting_list'].unique()"
   ]
  },
  {
   "cell_type": "code",
   "execution_count": 106,
   "metadata": {},
   "outputs": [
    {
     "data": {
      "text/plain": [
       "array(['Direct', 'TA/TO', 'Corporate', 'GDS'], dtype=object)"
      ]
     },
     "execution_count": 106,
     "metadata": {},
     "output_type": "execute_result"
    }
   ],
   "source": [
    "hotel_train['distribution_channel'].unique()"
   ]
  },
  {
   "cell_type": "code",
   "execution_count": 107,
   "metadata": {},
   "outputs": [
    {
     "data": {
      "text/plain": [
       "array(['TA/TO', 'Direct', 'Corporate', 'GDS'], dtype=object)"
      ]
     },
     "execution_count": 107,
     "metadata": {},
     "output_type": "execute_result"
    }
   ],
   "source": [
    "hotel_test['distribution_channel'].unique()"
   ]
  },
  {
   "cell_type": "code",
   "execution_count": 108,
   "metadata": {},
   "outputs": [
    {
     "data": {
      "text/plain": [
       "array([0, 1])"
      ]
     },
     "execution_count": 108,
     "metadata": {},
     "output_type": "execute_result"
    }
   ],
   "source": [
    "hotel_train['is_canceled'].unique()"
   ]
  },
  {
   "cell_type": "code",
   "execution_count": 109,
   "metadata": {},
   "outputs": [
    {
     "data": {
      "text/plain": [
       "array([1, 0])"
      ]
     },
     "execution_count": 109,
     "metadata": {},
     "output_type": "execute_result"
    }
   ],
   "source": [
    "hotel_test['is_canceled'].unique()"
   ]
  },
  {
   "cell_type": "code",
   "execution_count": 110,
   "metadata": {},
   "outputs": [
    {
     "data": {
      "text/plain": [
       "array([0, 1])"
      ]
     },
     "execution_count": 110,
     "metadata": {},
     "output_type": "execute_result"
    }
   ],
   "source": [
    "hotel_train['is_repeated_guest'].unique()"
   ]
  },
  {
   "cell_type": "code",
   "execution_count": 111,
   "metadata": {},
   "outputs": [
    {
     "data": {
      "text/plain": [
       "array([0, 1])"
      ]
     },
     "execution_count": 111,
     "metadata": {},
     "output_type": "execute_result"
    }
   ],
   "source": [
    "hotel_test['is_repeated_guest'].unique()"
   ]
  },
  {
   "cell_type": "code",
   "execution_count": 112,
   "metadata": {
    "scrolled": true
   },
   "outputs": [
    {
     "data": {
      "text/plain": [
       "array([  7.,  14.,   0.,   9.,  85.,  75.,  23.,  18.,  68.,  37.,  72.,\n",
       "        48.,  77.,  99.,  40.,  15.,  36.,  70.,  45.,  16., 107.,  47.,\n",
       "        96., 113.,  50.,   3.,   1.,  10.,   5.,  17.,  93.,  71.,  63.,\n",
       "        62., 101.,   2.,  81.,  12., 109., 102.,   4.,  92.,  95.,  86.,\n",
       "        78.,  29.,  30.,  51.,  33.,   8., 100.,  80.,  97.,  64.,  90.,\n",
       "        27.,  82.,  94., 115., 111.,  98.,  66., 104.,  65.,  55.,  21.,\n",
       "        88.,  43.,  54., 280.,  24., 103., 249.,  13.,  79.,  35.,  31.,\n",
       "        34.,  44., 304., 117.,  84., 110.,  59., 116.,  91.,  42.,  60.,\n",
       "       321.,  32.,  56.,  41.,  76.,  49.,  73., 112.,  39.,  58.,  57.,\n",
       "        19.,  53.,  38.,   6., 108.,  26., 123.,  28., 118.,  46.,  69.,\n",
       "        52.,  89.,  61.,  22.,  67., 105.,  25.,  11.,  87., 299.,  74.,\n",
       "       298., 119.,  20.,  83., 136., 129., 124., 130., 131., 139., 122.,\n",
       "       106., 137., 120., 135., 150., 143., 151., 126., 147., 128., 156.,\n",
       "       132., 164., 159., 161., 333., 149., 154., 297., 163., 314., 323.,\n",
       "       340., 142., 302., 175., 166., 114., 140., 157., 310., 172., 145.,\n",
       "       121., 127., 178., 152., 158., 125., 185., 177., 165., 200., 192.,\n",
       "       174., 134., 350., 283., 160., 133., 148., 153., 155., 171., 146.,\n",
       "       241., 193., 235., 194., 209., 238., 215., 141., 189., 223., 169.,\n",
       "       202., 211., 168., 230., 203., 188., 232., 187., 219., 196., 190.,\n",
       "       228., 176., 197., 201., 186., 199., 180., 207., 138., 162., 224.,\n",
       "       144., 222., 275., 212., 214., 183., 218., 206., 208., 191., 181.,\n",
       "       229., 179., 173., 253., 260., 262., 236., 256., 234., 254., 237.,\n",
       "       195., 259., 239., 205., 213., 258., 274., 217., 210., 220., 248.,\n",
       "       307., 221., 233., 276., 225., 311., 264., 312., 204., 227., 290.,\n",
       "       250., 182., 270., 198., 282., 257., 291., 269., 286., 240., 266.,\n",
       "       271., 277., 328., 231., 268., 247., 273., 300., 301., 267., 244.,\n",
       "       167., 306., 293., 294., 272., 322., 295., 252., 170., 226., 246.,\n",
       "       255., 265., 317., 292., 324., 327., 356., 309., 305., 281., 263.,\n",
       "       284., 251., 285., 243., 325., 245., 345., 360., 348., 346., 316.,\n",
       "       315., 330., 347., 373., 361., 242., 354., 363., 334., 335., 336.,\n",
       "       261., 343., 338., 289., 339., 342., 184., 337., 364., 365., 303.,\n",
       "       288., 355., 279., 318., 216., 287., 319., 329., 296., 362., 344.,\n",
       "       351., 358., 372., 320., 349., 308., 326., 278., 332., 331., 341.,\n",
       "       353., 367., 374., 359., 313., 352.])"
      ]
     },
     "execution_count": 112,
     "metadata": {},
     "output_type": "execute_result"
    }
   ],
   "source": [
    "hotel_train['lead_time'].unique()"
   ]
  },
  {
   "cell_type": "code",
   "execution_count": 113,
   "metadata": {
    "scrolled": true
   },
   "outputs": [
    {
     "data": {
      "text/plain": [
       "array([ 74.,  62.,  71., 172.,  52., 143.,  21.,  89.,  48.,  31.,  20.,\n",
       "       173.,  23.,  46., 149.,  44.,  68.,   6.,  43., 112.,  59.,  93.,\n",
       "         4., 115., 187.,  11.,   2.,  15.,  66., 113., 125., 161., 154.,\n",
       "         1.,   0.,  35.,  37.,  60., 129.,  78.,  10.,  82.,   8.,  22.,\n",
       "        33., 108.,  87., 106.,  45.,  40.,  17.,   5.,  16.,   3.,  41.,\n",
       "       135., 123., 128.,  47.,  12., 124., 160.,  58.,  65., 281.,  24.,\n",
       "        30.,  27.,   9.,  94., 219.,  84.,  79.,  72.,  36., 292., 186.,\n",
       "        85., 169., 166.,  28.,  83., 111.,  54., 200.,  80., 102.,  95.,\n",
       "       170., 307., 298.,  55.,  77.,  32.,  25., 238.,   7.,  19., 211.,\n",
       "       137.,  39.,  18., 206.,  42., 179., 205., 142.,  38.,  92.,  56.,\n",
       "        29., 119.,  73., 320.,  34., 127.,  69.,  13., 140.,  14., 164.,\n",
       "        51.,  70., 120.,  76., 105.,  50., 191.,  26.,  75., 116., 184.,\n",
       "        53.,  49.,  63., 194., 167., 312., 171., 218.,  86., 100., 146.,\n",
       "        64., 148.,  81.,  88.,  57., 339., 332., 133., 208.,  61., 177.,\n",
       "       157., 278., 285., 210., 232., 139., 134., 204., 201., 216., 340.,\n",
       "       350., 214., 226., 273., 103., 136., 176., 180., 192., 175., 145.,\n",
       "       162., 174., 117., 255., 364., 121., 240., 152., 252., 223., 155.,\n",
       "       351., 313., 233., 212., 188., 217., 220., 141., 203., 153., 246.,\n",
       "       261.,  90., 230., 159., 224.,  98., 229., 272., 267., 239., 158.,\n",
       "       132., 131., 221., 104., 144., 126., 228., 287.,  96., 213., 296.,\n",
       "       234.,  67., 253., 266., 245., 225., 302., 215., 109., 251., 243.,\n",
       "       308., 209., 237., 202., 183., 295., 227., 319., 257., 156., 231.,\n",
       "       303., 288., 150., 189., 338., 101., 305., 284., 258., 322., 107.,\n",
       "       178., 333., 165., 262., 207., 300., 263., 259., 280., 317., 352.,\n",
       "       297., 355., 311., 337., 198., 222., 247., 289., 314., 279., 138.,\n",
       "       309., 241., 264.,  99., 274., 323., 310., 326., 318., 321.,  91.,\n",
       "       304., 122., 193., 114., 130.,  97., 151., 110., 254., 250., 248.,\n",
       "       368., 331., 277., 147., 244., 282., 294., 336., 325., 275., 163.,\n",
       "       330., 196., 353., 197., 268., 271., 269., 270., 345., 334., 168.,\n",
       "       256., 181., 118., 182., 372., 195., 335., 199., 358., 357., 329.,\n",
       "       328., 265., 306., 291., 342., 315., 301., 344., 327., 236., 185.,\n",
       "       190., 276., 290., 260., 361., 286., 299., 249., 347., 283., 293.,\n",
       "       316., 349., 356., 359., 242., 235., 346., 348., 373., 324., 366.,\n",
       "       365., 341., 354., 343., 367.])"
      ]
     },
     "execution_count": 113,
     "metadata": {},
     "output_type": "execute_result"
    }
   ],
   "source": [
    "hotel_test['lead_time'].unique()"
   ]
  },
  {
   "cell_type": "code",
   "execution_count": 114,
   "metadata": {},
   "outputs": [
    {
     "data": {
      "text/plain": [
       "array([ 0,  1,  2,  3,  4,  5,  6, 10, 12, 13, 15, 21,  7,  9,  8, 11, 14,\n",
       "       18, 22, 16, 17, 19, 20, 23, 24, 26, 27, 28, 29, 30, 31, 32, 33, 34,\n",
       "       35, 36, 37, 38, 39, 40, 41, 42, 43, 44, 45, 47, 48, 49, 50, 51, 52,\n",
       "       53, 54, 55, 56, 57, 58, 25])"
      ]
     },
     "execution_count": 114,
     "metadata": {},
     "output_type": "execute_result"
    }
   ],
   "source": [
    "hotel_train['previous_bookings_not_canceled'].unique()"
   ]
  },
  {
   "cell_type": "code",
   "execution_count": 115,
   "metadata": {},
   "outputs": [
    {
     "data": {
      "text/plain": [
       "array([ 0,  3,  2,  5,  6,  7,  8, 10, 11, 12,  4,  1,  9, 25, 27, 28, 30,\n",
       "       13, 14, 23, 24, 26, 16, 15, 17, 18, 58, 59, 60, 61, 62, 63, 64, 65,\n",
       "       66, 67, 68, 69, 70, 71, 72, 19, 29, 20, 21, 22])"
      ]
     },
     "execution_count": 115,
     "metadata": {},
     "output_type": "execute_result"
    }
   ],
   "source": [
    "hotel_test['previous_bookings_not_canceled'].unique()"
   ]
  },
  {
   "cell_type": "code",
   "execution_count": 116,
   "metadata": {},
   "outputs": [
    {
     "data": {
      "text/plain": [
       "array([0, 1, 2, 3])"
      ]
     },
     "execution_count": 116,
     "metadata": {},
     "output_type": "execute_result"
    }
   ],
   "source": [
    "hotel_train['required_car_parking_spaces'].unique()"
   ]
  },
  {
   "cell_type": "code",
   "execution_count": 117,
   "metadata": {},
   "outputs": [
    {
     "data": {
      "text/plain": [
       "array([0, 1, 2, 8, 3])"
      ]
     },
     "execution_count": 117,
     "metadata": {},
     "output_type": "execute_result"
    }
   ],
   "source": [
    "hotel_test['required_car_parking_spaces'].unique()"
   ]
  },
  {
   "cell_type": "code",
   "execution_count": 118,
   "metadata": {},
   "outputs": [],
   "source": [
    "rows_for_8 = hotel_test[hotel_test['required_car_parking_spaces'] == 8]"
   ]
  },
  {
   "cell_type": "code",
   "execution_count": 119,
   "metadata": {},
   "outputs": [
    {
     "name": "stdout",
     "output_type": "stream",
     "text": [
      "Количество строк со значением 8: 2\n"
     ]
    }
   ],
   "source": [
    "print(f\"Количество строк со значением 8: {rows_for_8.shape[0]}\")\n"
   ]
  },
  {
   "cell_type": "code",
   "execution_count": 120,
   "metadata": {},
   "outputs": [
    {
     "data": {
      "text/html": [
       "<div>\n",
       "<style scoped>\n",
       "    .dataframe tbody tr th:only-of-type {\n",
       "        vertical-align: middle;\n",
       "    }\n",
       "\n",
       "    .dataframe tbody tr th {\n",
       "        vertical-align: top;\n",
       "    }\n",
       "\n",
       "    .dataframe thead th {\n",
       "        text-align: right;\n",
       "    }\n",
       "</style>\n",
       "<table border=\"1\" class=\"dataframe\">\n",
       "  <thead>\n",
       "    <tr style=\"text-align: right;\">\n",
       "      <th></th>\n",
       "      <th>id</th>\n",
       "      <th>is_canceled</th>\n",
       "      <th>lead_time</th>\n",
       "      <th>arrival_date_year</th>\n",
       "      <th>arrival_date_month</th>\n",
       "      <th>arrival_date_week_number</th>\n",
       "      <th>arrival_date_day_of_month</th>\n",
       "      <th>stays_in_weekend_nights</th>\n",
       "      <th>stays_in_week_nights</th>\n",
       "      <th>adults</th>\n",
       "      <th>...</th>\n",
       "      <th>is_repeated_guest</th>\n",
       "      <th>previous_cancellations</th>\n",
       "      <th>previous_bookings_not_canceled</th>\n",
       "      <th>reserved_room_type</th>\n",
       "      <th>booking_changes</th>\n",
       "      <th>days_in_waiting_list</th>\n",
       "      <th>customer_type</th>\n",
       "      <th>required_car_parking_spaces</th>\n",
       "      <th>total_of_special_requests</th>\n",
       "      <th>total_nights</th>\n",
       "    </tr>\n",
       "  </thead>\n",
       "  <tbody>\n",
       "    <tr>\n",
       "      <th>2549</th>\n",
       "      <td>17717</td>\n",
       "      <td>0</td>\n",
       "      <td>26.0</td>\n",
       "      <td>2017</td>\n",
       "      <td>March</td>\n",
       "      <td>11</td>\n",
       "      <td>14</td>\n",
       "      <td>0</td>\n",
       "      <td>5</td>\n",
       "      <td>2.0</td>\n",
       "      <td>...</td>\n",
       "      <td>1</td>\n",
       "      <td>0</td>\n",
       "      <td>2</td>\n",
       "      <td>E</td>\n",
       "      <td>1</td>\n",
       "      <td>0</td>\n",
       "      <td>Transient-Party</td>\n",
       "      <td>8</td>\n",
       "      <td>1</td>\n",
       "      <td>5</td>\n",
       "    </tr>\n",
       "    <tr>\n",
       "      <th>2550</th>\n",
       "      <td>17718</td>\n",
       "      <td>0</td>\n",
       "      <td>138.0</td>\n",
       "      <td>2017</td>\n",
       "      <td>March</td>\n",
       "      <td>12</td>\n",
       "      <td>19</td>\n",
       "      <td>2</td>\n",
       "      <td>2</td>\n",
       "      <td>2.0</td>\n",
       "      <td>...</td>\n",
       "      <td>1</td>\n",
       "      <td>0</td>\n",
       "      <td>2</td>\n",
       "      <td>E</td>\n",
       "      <td>1</td>\n",
       "      <td>122</td>\n",
       "      <td>Transient-Party</td>\n",
       "      <td>8</td>\n",
       "      <td>0</td>\n",
       "      <td>4</td>\n",
       "    </tr>\n",
       "  </tbody>\n",
       "</table>\n",
       "<p>2 rows × 25 columns</p>\n",
       "</div>"
      ],
      "text/plain": [
       "         id  is_canceled  lead_time  arrival_date_year arrival_date_month  \\\n",
       "2549  17717            0       26.0               2017              March   \n",
       "2550  17718            0      138.0               2017              March   \n",
       "\n",
       "      arrival_date_week_number  arrival_date_day_of_month  \\\n",
       "2549                        11                         14   \n",
       "2550                        12                         19   \n",
       "\n",
       "      stays_in_weekend_nights  stays_in_week_nights  adults  ...  \\\n",
       "2549                        0                     5     2.0  ...   \n",
       "2550                        2                     2     2.0  ...   \n",
       "\n",
       "      is_repeated_guest  previous_cancellations  \\\n",
       "2549                  1                       0   \n",
       "2550                  1                       0   \n",
       "\n",
       "     previous_bookings_not_canceled reserved_room_type booking_changes  \\\n",
       "2549                              2   E                              1   \n",
       "2550                              2   E                              1   \n",
       "\n",
       "      days_in_waiting_list    customer_type  required_car_parking_spaces  \\\n",
       "2549                     0  Transient-Party                            8   \n",
       "2550                   122  Transient-Party                            8   \n",
       "\n",
       "     total_of_special_requests  total_nights  \n",
       "2549                         1             5  \n",
       "2550                         0             4  \n",
       "\n",
       "[2 rows x 25 columns]"
      ]
     },
     "metadata": {},
     "output_type": "display_data"
    }
   ],
   "source": [
    "display(rows_for_8)"
   ]
  },
  {
   "cell_type": "markdown",
   "metadata": {},
   "source": [
    "Вряд ли у клиента 8 машин под каждый день недели, поэтому, скорее всего, произошла ошибка при указании необходимых машин. По полученным данным оказалось, что там 2 гостя и 1 возможный приглашенный гость. Следовательно, необходимо заменить 8 на 3."
   ]
  },
  {
   "cell_type": "code",
   "execution_count": 121,
   "metadata": {},
   "outputs": [],
   "source": [
    "hotel_test['required_car_parking_spaces'] = hotel_test['required_car_parking_spaces'].replace(8, 3)"
   ]
  },
  {
   "cell_type": "code",
   "execution_count": 122,
   "metadata": {},
   "outputs": [
    {
     "data": {
      "text/plain": [
       "array([0, 1, 2, 3])"
      ]
     },
     "execution_count": 122,
     "metadata": {},
     "output_type": "execute_result"
    }
   ],
   "source": [
    "hotel_test['required_car_parking_spaces'].unique()"
   ]
  },
  {
   "cell_type": "code",
   "execution_count": 123,
   "metadata": {},
   "outputs": [
    {
     "data": {
      "text/plain": [
       "array(['A               ', 'C               ', 'D               ',\n",
       "       'E               ', 'G               ', 'F               ',\n",
       "       'B               '], dtype=object)"
      ]
     },
     "execution_count": 123,
     "metadata": {},
     "output_type": "execute_result"
    }
   ],
   "source": [
    "hotel_train['reserved_room_type'].unique()"
   ]
  },
  {
   "cell_type": "code",
   "execution_count": 124,
   "metadata": {},
   "outputs": [
    {
     "data": {
      "text/plain": [
       "array(['A               ', 'E               ', 'G               ',\n",
       "       'D               ', 'F               ', 'C               ',\n",
       "       'B               '], dtype=object)"
      ]
     },
     "execution_count": 124,
     "metadata": {},
     "output_type": "execute_result"
    }
   ],
   "source": [
    "hotel_test['reserved_room_type'].unique()"
   ]
  },
  {
   "cell_type": "code",
   "execution_count": 125,
   "metadata": {},
   "outputs": [],
   "source": [
    "hotel_test['reserved_room_type'] = hotel_test['reserved_room_type'].str.strip()\n",
    "hotel_train['reserved_room_type'] = hotel_train['reserved_room_type'].str.strip()"
   ]
  },
  {
   "cell_type": "code",
   "execution_count": 126,
   "metadata": {},
   "outputs": [
    {
     "data": {
      "text/plain": [
       "array(['A', 'C', 'D', 'E', 'G', 'F', 'B'], dtype=object)"
      ]
     },
     "execution_count": 126,
     "metadata": {},
     "output_type": "execute_result"
    }
   ],
   "source": [
    "hotel_train['reserved_room_type'].unique()"
   ]
  },
  {
   "cell_type": "code",
   "execution_count": 127,
   "metadata": {},
   "outputs": [
    {
     "data": {
      "text/plain": [
       "array(['A', 'E', 'G', 'D', 'F', 'C', 'B'], dtype=object)"
      ]
     },
     "execution_count": 127,
     "metadata": {},
     "output_type": "execute_result"
    }
   ],
   "source": [
    "hotel_test['reserved_room_type'].unique()"
   ]
  },
  {
   "cell_type": "markdown",
   "metadata": {},
   "source": [
    "Убрали лишние пробелы"
   ]
  },
  {
   "cell_type": "code",
   "execution_count": 128,
   "metadata": {},
   "outputs": [
    {
     "data": {
      "text/plain": [
       "array([1, 2, 3, 4, 5, 6, 0])"
      ]
     },
     "execution_count": 128,
     "metadata": {},
     "output_type": "execute_result"
    }
   ],
   "source": [
    "hotel_train['stays_in_week_nights'].unique()"
   ]
  },
  {
   "cell_type": "code",
   "execution_count": 129,
   "metadata": {},
   "outputs": [
    {
     "data": {
      "text/plain": [
       "array([0, 2, 5, 1, 3, 4, 6])"
      ]
     },
     "execution_count": 129,
     "metadata": {},
     "output_type": "execute_result"
    }
   ],
   "source": [
    "hotel_test['stays_in_week_nights'].unique()"
   ]
  },
  {
   "cell_type": "code",
   "execution_count": 130,
   "metadata": {},
   "outputs": [
    {
     "data": {
      "text/plain": [
       "array([0, 2, 1, 4, 3])"
      ]
     },
     "execution_count": 130,
     "metadata": {},
     "output_type": "execute_result"
    }
   ],
   "source": [
    "hotel_train['stays_in_weekend_nights'].unique()"
   ]
  },
  {
   "cell_type": "code",
   "execution_count": 131,
   "metadata": {},
   "outputs": [
    {
     "data": {
      "text/plain": [
       "array([1, 2, 0, 4, 3])"
      ]
     },
     "execution_count": 131,
     "metadata": {},
     "output_type": "execute_result"
    }
   ],
   "source": [
    "hotel_test['stays_in_weekend_nights'].unique()"
   ]
  },
  {
   "cell_type": "code",
   "execution_count": 132,
   "metadata": {},
   "outputs": [
    {
     "data": {
      "text/plain": [
       "array([ 1,  2,  3,  4,  6,  7,  5,  8, 10,  9])"
      ]
     },
     "execution_count": 132,
     "metadata": {},
     "output_type": "execute_result"
    }
   ],
   "source": [
    "hotel_train['total_nights'].unique()"
   ]
  },
  {
   "cell_type": "code",
   "execution_count": 133,
   "metadata": {},
   "outputs": [
    {
     "data": {
      "text/plain": [
       "array([ 1,  4,  7,  2,  5,  6,  3,  8,  9, 10])"
      ]
     },
     "execution_count": 133,
     "metadata": {},
     "output_type": "execute_result"
    }
   ],
   "source": [
    "hotel_test['total_nights'].unique()"
   ]
  },
  {
   "cell_type": "code",
   "execution_count": 134,
   "metadata": {},
   "outputs": [
    {
     "data": {
      "text/plain": [
       "array([0, 1, 3, 2, 4, 5])"
      ]
     },
     "execution_count": 134,
     "metadata": {},
     "output_type": "execute_result"
    }
   ],
   "source": [
    "hotel_train['total_of_special_requests'].unique()"
   ]
  },
  {
   "cell_type": "code",
   "execution_count": 135,
   "metadata": {},
   "outputs": [
    {
     "data": {
      "text/plain": [
       "array([0, 1, 2, 3, 4, 5])"
      ]
     },
     "execution_count": 135,
     "metadata": {},
     "output_type": "execute_result"
    }
   ],
   "source": [
    "hotel_test['total_of_special_requests'].unique()"
   ]
  },
  {
   "cell_type": "markdown",
   "metadata": {},
   "source": [
    "Проверка странных значений в столбцах закончена"
   ]
  },
  {
   "cell_type": "markdown",
   "metadata": {},
   "source": [
    "Проведем проверку на строки с заселением людей без взрослых или только детей. Удалим их."
   ]
  },
  {
   "cell_type": "code",
   "execution_count": 136,
   "metadata": {},
   "outputs": [
    {
     "data": {
      "text/plain": [
       "151"
      ]
     },
     "execution_count": 136,
     "metadata": {},
     "output_type": "execute_result"
    }
   ],
   "source": [
    "hotel_train.query('(children > 0 | babies > 0) & adults == 0').shape[0]"
   ]
  },
  {
   "cell_type": "code",
   "execution_count": 137,
   "metadata": {},
   "outputs": [
    {
     "data": {
      "text/plain": [
       "62"
      ]
     },
     "execution_count": 137,
     "metadata": {},
     "output_type": "execute_result"
    }
   ],
   "source": [
    "hotel_test.query('(children > 0 | babies > 0) & adults == 0').shape[0]"
   ]
  },
  {
   "cell_type": "code",
   "execution_count": 138,
   "metadata": {},
   "outputs": [],
   "source": [
    "hotel_train.drop(hotel_train.query('(children > 0 | babies > 0) & adults == 0').index, inplace=True)\n",
    "hotel_test.drop(hotel_test.query('(children > 0 | babies > 0) & adults == 0').index, inplace=True)"
   ]
  },
  {
   "cell_type": "code",
   "execution_count": 139,
   "metadata": {},
   "outputs": [
    {
     "data": {
      "text/plain": [
       "0"
      ]
     },
     "execution_count": 139,
     "metadata": {},
     "output_type": "execute_result"
    }
   ],
   "source": [
    "hotel_train.query('(children > 0 | babies > 0) & adults == 0').shape[0]"
   ]
  },
  {
   "cell_type": "code",
   "execution_count": 140,
   "metadata": {},
   "outputs": [
    {
     "data": {
      "text/plain": [
       "0"
      ]
     },
     "execution_count": 140,
     "metadata": {},
     "output_type": "execute_result"
    }
   ],
   "source": [
    "hotel_test.query('(children > 0 | babies > 0) & adults == 0').shape[0]"
   ]
  },
  {
   "cell_type": "code",
   "execution_count": 141,
   "metadata": {},
   "outputs": [
    {
     "data": {
      "text/plain": [
       "15"
      ]
     },
     "execution_count": 141,
     "metadata": {},
     "output_type": "execute_result"
    }
   ],
   "source": [
    "hotel_train.query('adults == 0').shape[0]"
   ]
  },
  {
   "cell_type": "code",
   "execution_count": 142,
   "metadata": {},
   "outputs": [
    {
     "data": {
      "text/plain": [
       "7"
      ]
     },
     "execution_count": 142,
     "metadata": {},
     "output_type": "execute_result"
    }
   ],
   "source": [
    "hotel_test.query('adults == 0').shape[0]"
   ]
  },
  {
   "cell_type": "code",
   "execution_count": 143,
   "metadata": {},
   "outputs": [],
   "source": [
    "hotel_train.drop(hotel_train.query('adults == 0').index, inplace=True)\n",
    "hotel_test.drop(hotel_test.query('adults == 0').index, inplace=True)"
   ]
  },
  {
   "cell_type": "code",
   "execution_count": 144,
   "metadata": {},
   "outputs": [
    {
     "data": {
      "text/plain": [
       "0"
      ]
     },
     "execution_count": 144,
     "metadata": {},
     "output_type": "execute_result"
    }
   ],
   "source": [
    "hotel_train.query('adults == 0').shape[0]"
   ]
  },
  {
   "cell_type": "code",
   "execution_count": 145,
   "metadata": {},
   "outputs": [
    {
     "data": {
      "text/plain": [
       "0"
      ]
     },
     "execution_count": 145,
     "metadata": {},
     "output_type": "execute_result"
    }
   ],
   "source": [
    "hotel_test.query('adults == 0').shape[0]"
   ]
  },
  {
   "cell_type": "markdown",
   "metadata": {},
   "source": [
    "Странные строки с заселением удалены."
   ]
  },
  {
   "cell_type": "code",
   "execution_count": 146,
   "metadata": {},
   "outputs": [],
   "source": [
    "def convert_int64(dataframe):\n",
    "    columns_to_convert = ['lead_time', 'adults', 'children', 'babies']\n",
    "    for col in columns_to_convert:\n",
    "        dataframe[col] = dataframe[col].astype('int64')\n",
    "    return dataframe"
   ]
  },
  {
   "cell_type": "code",
   "execution_count": 147,
   "metadata": {},
   "outputs": [],
   "source": [
    "hotel_test = convert_int64(hotel_test)\n",
    "hotel_train = convert_int64(hotel_train)"
   ]
  },
  {
   "cell_type": "code",
   "execution_count": 148,
   "metadata": {},
   "outputs": [
    {
     "name": "stdout",
     "output_type": "stream",
     "text": [
      "<class 'pandas.core.frame.DataFrame'>\n",
      "Int64Index: 32343 entries, 0 to 32411\n",
      "Data columns (total 25 columns):\n",
      " #   Column                          Non-Null Count  Dtype \n",
      "---  ------                          --------------  ----- \n",
      " 0   id                              32343 non-null  int64 \n",
      " 1   is_canceled                     32343 non-null  int64 \n",
      " 2   lead_time                       32343 non-null  int64 \n",
      " 3   arrival_date_year               32343 non-null  int64 \n",
      " 4   arrival_date_month              32343 non-null  object\n",
      " 5   arrival_date_week_number        32343 non-null  int64 \n",
      " 6   arrival_date_day_of_month       32343 non-null  int64 \n",
      " 7   stays_in_weekend_nights         32343 non-null  int64 \n",
      " 8   stays_in_week_nights            32343 non-null  int64 \n",
      " 9   adults                          32343 non-null  int64 \n",
      " 10  children                        32343 non-null  int64 \n",
      " 11  babies                          32343 non-null  int64 \n",
      " 12  meal                            32343 non-null  object\n",
      " 13  country                         32343 non-null  object\n",
      " 14  distribution_channel            32343 non-null  object\n",
      " 15  is_repeated_guest               32343 non-null  int64 \n",
      " 16  previous_cancellations          32343 non-null  int64 \n",
      " 17  previous_bookings_not_canceled  32343 non-null  int64 \n",
      " 18  reserved_room_type              32343 non-null  object\n",
      " 19  booking_changes                 32343 non-null  int64 \n",
      " 20  days_in_waiting_list            32343 non-null  int64 \n",
      " 21  customer_type                   32343 non-null  object\n",
      " 22  required_car_parking_spaces     32343 non-null  int64 \n",
      " 23  total_of_special_requests       32343 non-null  int64 \n",
      " 24  total_nights                    32343 non-null  int64 \n",
      "dtypes: int64(19), object(6)\n",
      "memory usage: 6.4+ MB\n"
     ]
    }
   ],
   "source": [
    "hotel_test.info()"
   ]
  },
  {
   "cell_type": "code",
   "execution_count": 149,
   "metadata": {},
   "outputs": [
    {
     "name": "stdout",
     "output_type": "stream",
     "text": [
      "<class 'pandas.core.frame.DataFrame'>\n",
      "Int64Index: 65063 entries, 0 to 65228\n",
      "Data columns (total 25 columns):\n",
      " #   Column                          Non-Null Count  Dtype \n",
      "---  ------                          --------------  ----- \n",
      " 0   id                              65063 non-null  int64 \n",
      " 1   is_canceled                     65063 non-null  int64 \n",
      " 2   lead_time                       65063 non-null  int64 \n",
      " 3   arrival_date_year               65063 non-null  int64 \n",
      " 4   arrival_date_month              65063 non-null  object\n",
      " 5   arrival_date_week_number        65063 non-null  int64 \n",
      " 6   arrival_date_day_of_month       65063 non-null  int64 \n",
      " 7   stays_in_weekend_nights         65063 non-null  int64 \n",
      " 8   stays_in_week_nights            65063 non-null  int64 \n",
      " 9   adults                          65063 non-null  int64 \n",
      " 10  children                        65063 non-null  int64 \n",
      " 11  babies                          65063 non-null  int64 \n",
      " 12  meal                            65063 non-null  object\n",
      " 13  country                         65063 non-null  object\n",
      " 14  distribution_channel            65063 non-null  object\n",
      " 15  is_repeated_guest               65063 non-null  int64 \n",
      " 16  previous_cancellations          65063 non-null  int64 \n",
      " 17  previous_bookings_not_canceled  65063 non-null  int64 \n",
      " 18  reserved_room_type              65063 non-null  object\n",
      " 19  booking_changes                 65063 non-null  int64 \n",
      " 20  days_in_waiting_list            65063 non-null  int64 \n",
      " 21  customer_type                   65063 non-null  object\n",
      " 22  required_car_parking_spaces     65063 non-null  int64 \n",
      " 23  total_of_special_requests       65063 non-null  int64 \n",
      " 24  total_nights                    65063 non-null  int64 \n",
      "dtypes: int64(19), object(6)\n",
      "memory usage: 12.9+ MB\n"
     ]
    }
   ],
   "source": [
    "hotel_train.info()"
   ]
  },
  {
   "cell_type": "markdown",
   "metadata": {},
   "source": [
    "Перевод прошел успешно"
   ]
  },
  {
   "cell_type": "code",
   "execution_count": 150,
   "metadata": {},
   "outputs": [],
   "source": [
    "hotel_train.reset_index(drop=True, inplace=True)\n",
    "hotel_test.reset_index(drop=True, inplace=True)"
   ]
  },
  {
   "cell_type": "markdown",
   "metadata": {},
   "source": [
    "1. Не найдены пропуски в датафреймах. Также отсутствуют явные дубликаты. \n",
    "\n",
    "2. Далее началась проверка столбцов, где может быть проблема с неявными дубликатами. Исправлены проблемы с колонкой meal. \n",
    "\n",
    "3. В hotel_test представлены данные по 2017 году, в hotel_train по 2015 и 2016. Исправлена проблема с колонкой babies. Исправлена проблема с колонкой required_car_parking_spaces. Убраны странные проблемы в reserved_room_type. \n",
    "\n",
    "4. Произведено удаление строк без постояльцев или с постояльцами-только детьми\n",
    "\n",
    "5. 'lead_time', 'adults', 'children', 'babies' переведены из float64 в int64.\n",
    "\n",
    "6. Срошены индексы"
   ]
  },
  {
   "cell_type": "markdown",
   "metadata": {},
   "source": [
    "### Шаг 3. Формулировка ML-задачи на основе бизнес-задачи"
   ]
  },
  {
   "cell_type": "markdown",
   "metadata": {},
   "source": [
    "Цель: снижения убытков от отмены бронирьования, предсказать вероятность отмены и предложить клиентам вносить депозиты."
   ]
  },
  {
   "cell_type": "markdown",
   "metadata": {},
   "source": [
    "Необходимо разработать модель машинного обучения, которая сможет предсказать вероятность отмены бронирования для каждого заказа на основе имеющихся данных."
   ]
  },
  {
   "cell_type": "markdown",
   "metadata": {},
   "source": [
    "Признаки, которые будут использованы:\n",
    "- 'adults', \n",
    "- 'arrival_date_week_number', \n",
    "- 'babies', 'children', \n",
    "- 'customer_type', \n",
    "- 'country',\n",
    "- 'days_in_waiting_list', \n",
    "- 'is_repeated_guest', \n",
    "- 'lead_time', \n",
    "- 'meal', \n",
    "- 'previous_bookings_not_canceled',\n",
    "- 'previous_cancellations', \n",
    "- 'required_car_parking_spaces', \n",
    "- 'reserved_room_type', \n",
    "- 'stays_in_weekend_nights',\n",
    "- 'stays_in_week_nights', \n",
    "- 'total_of_special_requests', \n",
    "- 'is_canceled'"
   ]
  },
  {
   "cell_type": "markdown",
   "metadata": {},
   "source": [
    "Id не несет никакой информации. Информация, связанная с датами не нужна, так как имеется номер недели. Total_nights не нужен, так как уже имеется информация по 'stays_in_weekend_nights','stays_in_week_nights'"
   ]
  },
  {
   "cell_type": "markdown",
   "metadata": {},
   "source": [
    "Целевым признаком является 'is_canceled'"
   ]
  },
  {
   "cell_type": "markdown",
   "metadata": {},
   "source": [
    "Воспользуемся метриками оценки модели F1-мерой и ROC AUC ."
   ]
  },
  {
   "cell_type": "markdown",
   "metadata": {},
   "source": [
    "F1 метрика является одной из лучших метрик для задач, в которых нужно ответить: да или нет (1 или 0). Здесь необходимо предсказывать: отменит бронирование или нет. Метрика F1 учитывает долю правильных предсказаний положительного класса и споосбность модели обнаружить все положительные случаи. "
   ]
  },
  {
   "cell_type": "markdown",
   "metadata": {},
   "source": [
    "ROC AUC измеряет способность модели определять различия между классами. Благодаря ROC AUC можно понять, разделяет ли модель положительные и отрицательные классы. Она может показать, насколько хорошо модель предсказывает вероятность отмены бронирования."
   ]
  },
  {
   "cell_type": "markdown",
   "metadata": {},
   "source": [
    "Расчет прибыли отеля до внедрения депозитов:"
   ]
  },
  {
   "cell_type": "code",
   "execution_count": 151,
   "metadata": {},
   "outputs": [
    {
     "name": "stdout",
     "output_type": "stream",
     "text": [
      "Общая прибыль отеля до внедрения депозитов: 49776700.0\n"
     ]
    }
   ],
   "source": [
    "def calculate_hotel_profit(df):\n",
    "    # определение стоимости номеров и затрат на уборку для каждой категории\n",
    "    room_cost = {\n",
    "        'A': {'night_cost': 1000, 'cleaning_cost': 400},\n",
    "        'B': {'night_cost': 800, 'cleaning_cost': 350},\n",
    "        'C': {'night_cost': 600, 'cleaning_cost': 350},\n",
    "        'D': {'night_cost': 550, 'cleaning_cost': 150},\n",
    "        'E': {'night_cost': 500, 'cleaning_cost': 150},\n",
    "        'F': {'night_cost': 450, 'cleaning_cost': 150},\n",
    "        'G': {'night_cost': 350, 'cleaning_cost': 150},\n",
    "    }\n",
    "\n",
    "    # сезонные коэффициенты\n",
    "    season_coefficients = {\n",
    "        'spring': 1.2,\n",
    "        'summer': 1.4,\n",
    "        'autumn': 1.2,\n",
    "        'winter': 1.0,\n",
    "    }\n",
    "\n",
    "    total_profit = 0\n",
    "\n",
    "    for index, row in df.iterrows():\n",
    "        room_category = row['reserved_room_type']\n",
    "        nights = row['total_nights']\n",
    "        season = row['arrival_date_month']\n",
    "\n",
    "        # расчёт стоимости проживания и убытков от отмены бронирования\n",
    "        if room_category in room_cost:\n",
    "            night_cost = room_cost[room_category]['night_cost']\n",
    "            cleaning_cost = room_cost[room_category]['cleaning_cost']\n",
    "\n",
    "            # расчёт сезонного коэфа\n",
    "            season_coefficient = season_coefficients.get(season.lower(), 1.0)\n",
    "\n",
    "            # стоимость проживания\n",
    "            total_accommodation_cost = night_cost * nights * season_coefficient\n",
    "\n",
    "            # убытки при отмене бронирования\n",
    "            cancellation_loss = (night_cost + cleaning_cost) * season_coefficient\n",
    "\n",
    "            # прибыль от проживания минус убытки от отмены\n",
    "            order_profit = total_accommodation_cost - cancellation_loss\n",
    "\n",
    "            total_profit += order_profit\n",
    "\n",
    "    return total_profit\n",
    "\n",
    "total_hotel_profit = calculate_hotel_profit(hotel_test)\n",
    "print(f\"Общая прибыль отеля до внедрения депозитов: {total_hotel_profit}\")"
   ]
  },
  {
   "cell_type": "markdown",
   "metadata": {},
   "source": [
    "Сформулирована задача и посчитана прибыль до внедрения депозитов"
   ]
  },
  {
   "cell_type": "markdown",
   "metadata": {},
   "source": [
    "### Шаг 4. Разработка модели ML"
   ]
  },
  {
   "cell_type": "code",
   "execution_count": 152,
   "metadata": {},
   "outputs": [],
   "source": [
    "columns_features = ['adults', 'arrival_date_week_number', 'babies', 'children', 'customer_type', 'country',\n",
    "                    'days_in_waiting_list', 'is_repeated_guest', 'lead_time', 'meal', 'previous_bookings_not_canceled',\n",
    "                   'previous_cancellations', 'required_car_parking_spaces', 'reserved_room_type', 'stays_in_weekend_nights',\n",
    "                   'stays_in_week_nights', 'total_of_special_requests', 'is_canceled' ]"
   ]
  },
  {
   "cell_type": "code",
   "execution_count": 153,
   "metadata": {},
   "outputs": [],
   "source": [
    "features_train_ohe = hotel_train[columns_features]\n",
    "features_test_ohe = hotel_test[columns_features]"
   ]
  },
  {
   "cell_type": "code",
   "execution_count": 154,
   "metadata": {},
   "outputs": [],
   "source": [
    "target_train = features_train_ohe['is_canceled']\n",
    "target_test = features_test_ohe['is_canceled']\n",
    "features_train = features_train_ohe.drop('is_canceled', axis=1)\n",
    "features_test = features_test_ohe.drop('is_canceled', axis=1)"
   ]
  },
  {
   "cell_type": "code",
   "execution_count": 155,
   "metadata": {},
   "outputs": [],
   "source": [
    "onehot = OneHotEncoder(handle_unknown='ignore')\n",
    "onehot.fit(features_train)\n",
    "features_train = onehot.transform(features_train) \n",
    "features_test = onehot.transform(features_test)"
   ]
  },
  {
   "cell_type": "markdown",
   "metadata": {},
   "source": [
    "Воспользуемся OneHotEncoder из библиотеки scikit-learn для кодирования категориальных признаков в числовые значения, чтобы их можно было использовать в моделях"
   ]
  },
  {
   "cell_type": "markdown",
   "metadata": {},
   "source": [
    "Оценка модели с использованием DecisionTreeClassifier и кросс-валидации для разной глубины дерева. Вычисляем качества модели с использованием кросс-валидации (CV=5) и метрикой f1"
   ]
  },
  {
   "cell_type": "code",
   "execution_count": 156,
   "metadata": {},
   "outputs": [
    {
     "name": "stderr",
     "output_type": "stream",
     "text": [
      "100%|██████████| 18/18 [00:49<00:00,  2.76s/it]"
     ]
    },
    {
     "name": "stdout",
     "output_type": "stream",
     "text": [
      "Лучшая F1-оценка: 0.6640659953773396 достигается с глубиной дерева 5\n"
     ]
    },
    {
     "name": "stderr",
     "output_type": "stream",
     "text": [
      "\n"
     ]
    }
   ],
   "source": [
    "best_depth = 0\n",
    "best_f1_score = 0\n",
    "\n",
    "\n",
    "for depth in tqdm(range(3, 21)):\n",
    "    model = DecisionTreeClassifier(random_state=12345, max_depth=depth, class_weight='balanced')\n",
    "\n",
    "    scores = cross_val_score(model, features_train, target_train, cv=5, scoring='f1')\n",
    "    average_f1_score = sum(scores) / len(scores)\n",
    "\n",
    "    if average_f1_score > best_f1_score:\n",
    "        best_f1_score = average_f1_score\n",
    "        best_depth = depth\n",
    "\n",
    "print(f\"Лучшая F1-оценка: {best_f1_score} достигается с глубиной дерева {best_depth}\")"
   ]
  },
  {
   "cell_type": "markdown",
   "metadata": {},
   "source": [
    "Оценка модели с использованием RandomForestClassifier и кросс-валидации для разного количества деревьев.Вычисление качества модели с использованием кросс-валидации (CV=5) и метрики f1"
   ]
  },
  {
   "cell_type": "code",
   "execution_count": 61,
   "metadata": {},
   "outputs": [
    {
     "name": "stderr",
     "output_type": "stream",
     "text": [
      "100%|██████████| 9/9 [03:33<00:00, 23.77s/it]"
     ]
    },
    {
     "name": "stdout",
     "output_type": "stream",
     "text": [
      "Лучшая F1-оценка: 0.4771353325807481 достигается с 7 деревьями\n"
     ]
    },
    {
     "name": "stderr",
     "output_type": "stream",
     "text": [
      "\n"
     ]
    }
   ],
   "source": [
    "best_estimators = 0\n",
    "best_f1_score = 0\n",
    "\n",
    "for est in tqdm(range(3, 12)):\n",
    "    model = RandomForestClassifier(random_state=12345, n_estimators=est, class_weight='balanced')\n",
    "\n",
    "\n",
    "    scores = cross_val_score(model, features_train, target_train, cv=5, scoring='f1')\n",
    "    average_f1_score = sum(scores) / len(scores)\n",
    "\n",
    "    if average_f1_score > best_f1_score:\n",
    "        best_f1_score = average_f1_score\n",
    "        best_estimators = est\n",
    "\n",
    "print(f\"Лучшая F1-оценка: {best_f1_score} достигается с {best_estimators} деревьями\")"
   ]
  },
  {
   "cell_type": "markdown",
   "metadata": {},
   "source": [
    "Вычисление качества модели LogisticRegression с кросс-валидацией (CV=5) и метрикой f1"
   ]
  },
  {
   "cell_type": "code",
   "execution_count": 52,
   "metadata": {},
   "outputs": [],
   "source": [
    "#model = LogisticRegression(random_state=12345, solver='liblinear', class_weight='balanced')\n",
    "\n",
    "#scores = cross_val_score(model, features_train, target_train, cv=5, scoring='f1')\n",
    "\n",
    "#average_f1_score = sum(scores) / len(scores)\n",
    "#print(f\"Среднее значение F1-оценки: {average_f1_score}\")"
   ]
  },
  {
   "cell_type": "code",
   "execution_count": 157,
   "metadata": {},
   "outputs": [],
   "source": [
    "numeric_columns = ['lead_time', 'days_in_waiting_list', 'previous_bookings_not_canceled', 'previous_cancellations']\n",
    "categorical_columns = ['customer_type', 'country', 'meal', 'reserved_room_type']"
   ]
  },
  {
   "cell_type": "code",
   "execution_count": 158,
   "metadata": {},
   "outputs": [],
   "source": [
    "scaler = StandardScaler()"
   ]
  },
  {
   "cell_type": "code",
   "execution_count": 159,
   "metadata": {},
   "outputs": [],
   "source": [
    "features_train_numeric_scaled = scaler.fit_transform(features_train_ohe[numeric_columns])\n",
    "features_train_cat_encoded = onehot.fit_transform(features_train_ohe[categorical_columns])"
   ]
  },
  {
   "cell_type": "code",
   "execution_count": 160,
   "metadata": {},
   "outputs": [],
   "source": [
    "features_train_transformed = features_train_numeric_scaled\n",
    "features_train_transformed = np.concatenate([features_train_transformed, features_train_cat_encoded.toarray()], axis=1)"
   ]
  },
  {
   "cell_type": "code",
   "execution_count": 161,
   "metadata": {},
   "outputs": [
    {
     "name": "stdout",
     "output_type": "stream",
     "text": [
      "Среднее значение F1-оценки: 0.6161445683553172\n"
     ]
    }
   ],
   "source": [
    "model = LogisticRegression(random_state=12345, solver='liblinear', class_weight='balanced')\n",
    "model.fit(features_train_transformed, target_train)\n",
    "scores = cross_val_score(model, features_train_transformed, target_train, cv=5, scoring='f1')\n",
    "average_f1_score = scores.mean()\n",
    "print(f\"Среднее значение F1-оценки: {average_f1_score}\")"
   ]
  },
  {
   "cell_type": "markdown",
   "metadata": {},
   "source": [
    "Лучшей моделью является DecisionTreeClassifier с глубиной дерева 5"
   ]
  },
  {
   "cell_type": "code",
   "execution_count": 162,
   "metadata": {},
   "outputs": [
    {
     "name": "stdout",
     "output_type": "stream",
     "text": [
      "Значение F1-меры на тестовой выборке: 0.6370904177457494\n",
      "Значение метрики AUC-ROC: 0.7765707327368188\n"
     ]
    },
    {
     "data": {
      "image/png": "[encoded data removed]",
      "text/plain": [
       "<Figure size 576x432 with 1 Axes>"
      ]
     },
     "metadata": {},
     "output_type": "display_data"
    }
   ],
   "source": [
    "model =  DecisionTreeClassifier(random_state=12345, max_depth=5, class_weight='balanced')\n",
    "model.fit(features_train, target_train)\n",
    "\n",
    "\n",
    "predicted_test = model.predict(features_test)\n",
    "probabilities_test = model.predict_proba(features_test)\n",
    "probabilities_one_test = probabilities_test[:, 1]\n",
    "test_f1_score = f1_score(target_test, predicted_test )\n",
    "auc_roc = roc_auc_score(target_test, probabilities_one_test)\n",
    "\n",
    "print('Значение F1-меры на тестовой выборке:', test_f1_score) \n",
    "print('Значение метрики AUC-ROC:', auc_roc)\n",
    "\n",
    "sns.set(font_scale=1)\n",
    "fpr, tpr, thresholds = roc_curve(target_test, probabilities_one_test)\n",
    "\n",
    "plt.figure(figsize=(8, 6))  \n",
    "plt.plot(fpr, tpr, label='ROC-кривая')\n",
    "plt.plot([0, 1], [0, 1], linestyle='--')\n",
    "plt.xlabel('Ложно-положительное срабатывание (FPR)')\n",
    "plt.ylabel('Истинно-положительное срабатывание (TPR)')\n",
    "plt.title('ROC-кривая')  \n",
    "plt.xlim([0.0, 1.0])\n",
    "plt.ylim([0.0, 1.0])\n",
    "plt.legend(loc='lower right')  \n",
    "plt.grid(True)  \n",
    "plt.show()"
   ]
  },
  {
   "cell_type": "markdown",
   "metadata": {},
   "source": [
    "Необходимо добавить предсказания в датафрейм, чтобы в дальнейшем провести анализ прибыли, которая разработанная модель может принести за год"
   ]
  },
  {
   "cell_type": "code",
   "execution_count": 163,
   "metadata": {},
   "outputs": [],
   "source": [
    "model =  DecisionTreeClassifier(random_state=12345, max_depth=5, class_weight='balanced')\n",
    "model.fit(features_train, target_train)\n",
    "predictions_test = model.predict(features_test)"
   ]
  },
  {
   "cell_type": "code",
   "execution_count": 164,
   "metadata": {},
   "outputs": [],
   "source": [
    "hotel_test['prediction_test'] = predictions_test"
   ]
  },
  {
   "cell_type": "code",
   "execution_count": 165,
   "metadata": {},
   "outputs": [
    {
     "name": "stdout",
     "output_type": "stream",
     "text": [
      "<class 'pandas.core.frame.DataFrame'>\n",
      "RangeIndex: 32343 entries, 0 to 32342\n",
      "Data columns (total 26 columns):\n",
      " #   Column                          Non-Null Count  Dtype \n",
      "---  ------                          --------------  ----- \n",
      " 0   id                              32343 non-null  int64 \n",
      " 1   is_canceled                     32343 non-null  int64 \n",
      " 2   lead_time                       32343 non-null  int64 \n",
      " 3   arrival_date_year               32343 non-null  int64 \n",
      " 4   arrival_date_month              32343 non-null  object\n",
      " 5   arrival_date_week_number        32343 non-null  int64 \n",
      " 6   arrival_date_day_of_month       32343 non-null  int64 \n",
      " 7   stays_in_weekend_nights         32343 non-null  int64 \n",
      " 8   stays_in_week_nights            32343 non-null  int64 \n",
      " 9   adults                          32343 non-null  int64 \n",
      " 10  children                        32343 non-null  int64 \n",
      " 11  babies                          32343 non-null  int64 \n",
      " 12  meal                            32343 non-null  object\n",
      " 13  country                         32343 non-null  object\n",
      " 14  distribution_channel            32343 non-null  object\n",
      " 15  is_repeated_guest               32343 non-null  int64 \n",
      " 16  previous_cancellations          32343 non-null  int64 \n",
      " 17  previous_bookings_not_canceled  32343 non-null  int64 \n",
      " 18  reserved_room_type              32343 non-null  object\n",
      " 19  booking_changes                 32343 non-null  int64 \n",
      " 20  days_in_waiting_list            32343 non-null  int64 \n",
      " 21  customer_type                   32343 non-null  object\n",
      " 22  required_car_parking_spaces     32343 non-null  int64 \n",
      " 23  total_of_special_requests       32343 non-null  int64 \n",
      " 24  total_nights                    32343 non-null  int64 \n",
      " 25  prediction_test                 32343 non-null  int64 \n",
      "dtypes: int64(20), object(6)\n",
      "memory usage: 6.4+ MB\n"
     ]
    }
   ],
   "source": [
    "hotel_test.info()"
   ]
  },
  {
   "cell_type": "code",
   "execution_count": 166,
   "metadata": {},
   "outputs": [
    {
     "data": {
      "text/html": [
       "<div>\n",
       "<style scoped>\n",
       "    .dataframe tbody tr th:only-of-type {\n",
       "        vertical-align: middle;\n",
       "    }\n",
       "\n",
       "    .dataframe tbody tr th {\n",
       "        vertical-align: top;\n",
       "    }\n",
       "\n",
       "    .dataframe thead th {\n",
       "        text-align: right;\n",
       "    }\n",
       "</style>\n",
       "<table border=\"1\" class=\"dataframe\">\n",
       "  <thead>\n",
       "    <tr style=\"text-align: right;\">\n",
       "      <th></th>\n",
       "      <th>id</th>\n",
       "      <th>is_canceled</th>\n",
       "      <th>lead_time</th>\n",
       "      <th>arrival_date_year</th>\n",
       "      <th>arrival_date_month</th>\n",
       "      <th>arrival_date_week_number</th>\n",
       "      <th>arrival_date_day_of_month</th>\n",
       "      <th>stays_in_weekend_nights</th>\n",
       "      <th>stays_in_week_nights</th>\n",
       "      <th>adults</th>\n",
       "      <th>...</th>\n",
       "      <th>previous_cancellations</th>\n",
       "      <th>previous_bookings_not_canceled</th>\n",
       "      <th>reserved_room_type</th>\n",
       "      <th>booking_changes</th>\n",
       "      <th>days_in_waiting_list</th>\n",
       "      <th>customer_type</th>\n",
       "      <th>required_car_parking_spaces</th>\n",
       "      <th>total_of_special_requests</th>\n",
       "      <th>total_nights</th>\n",
       "      <th>prediction_test</th>\n",
       "    </tr>\n",
       "  </thead>\n",
       "  <tbody>\n",
       "    <tr>\n",
       "      <th>0</th>\n",
       "      <td>6086</td>\n",
       "      <td>1</td>\n",
       "      <td>74</td>\n",
       "      <td>2017</td>\n",
       "      <td>January</td>\n",
       "      <td>1</td>\n",
       "      <td>1</td>\n",
       "      <td>1</td>\n",
       "      <td>0</td>\n",
       "      <td>2</td>\n",
       "      <td>...</td>\n",
       "      <td>0</td>\n",
       "      <td>0</td>\n",
       "      <td>A</td>\n",
       "      <td>0</td>\n",
       "      <td>0</td>\n",
       "      <td>Transient</td>\n",
       "      <td>0</td>\n",
       "      <td>0</td>\n",
       "      <td>1</td>\n",
       "      <td>1</td>\n",
       "    </tr>\n",
       "    <tr>\n",
       "      <th>1</th>\n",
       "      <td>6087</td>\n",
       "      <td>1</td>\n",
       "      <td>62</td>\n",
       "      <td>2017</td>\n",
       "      <td>January</td>\n",
       "      <td>1</td>\n",
       "      <td>1</td>\n",
       "      <td>2</td>\n",
       "      <td>2</td>\n",
       "      <td>2</td>\n",
       "      <td>...</td>\n",
       "      <td>0</td>\n",
       "      <td>0</td>\n",
       "      <td>A</td>\n",
       "      <td>0</td>\n",
       "      <td>0</td>\n",
       "      <td>Transient</td>\n",
       "      <td>0</td>\n",
       "      <td>1</td>\n",
       "      <td>4</td>\n",
       "      <td>0</td>\n",
       "    </tr>\n",
       "    <tr>\n",
       "      <th>2</th>\n",
       "      <td>6088</td>\n",
       "      <td>1</td>\n",
       "      <td>62</td>\n",
       "      <td>2017</td>\n",
       "      <td>January</td>\n",
       "      <td>1</td>\n",
       "      <td>1</td>\n",
       "      <td>2</td>\n",
       "      <td>2</td>\n",
       "      <td>2</td>\n",
       "      <td>...</td>\n",
       "      <td>0</td>\n",
       "      <td>0</td>\n",
       "      <td>A</td>\n",
       "      <td>0</td>\n",
       "      <td>0</td>\n",
       "      <td>Transient</td>\n",
       "      <td>0</td>\n",
       "      <td>1</td>\n",
       "      <td>4</td>\n",
       "      <td>0</td>\n",
       "    </tr>\n",
       "    <tr>\n",
       "      <th>3</th>\n",
       "      <td>6089</td>\n",
       "      <td>1</td>\n",
       "      <td>71</td>\n",
       "      <td>2017</td>\n",
       "      <td>January</td>\n",
       "      <td>1</td>\n",
       "      <td>1</td>\n",
       "      <td>2</td>\n",
       "      <td>2</td>\n",
       "      <td>1</td>\n",
       "      <td>...</td>\n",
       "      <td>0</td>\n",
       "      <td>0</td>\n",
       "      <td>A</td>\n",
       "      <td>0</td>\n",
       "      <td>0</td>\n",
       "      <td>Transient</td>\n",
       "      <td>0</td>\n",
       "      <td>1</td>\n",
       "      <td>4</td>\n",
       "      <td>0</td>\n",
       "    </tr>\n",
       "    <tr>\n",
       "      <th>4</th>\n",
       "      <td>6090</td>\n",
       "      <td>1</td>\n",
       "      <td>172</td>\n",
       "      <td>2017</td>\n",
       "      <td>January</td>\n",
       "      <td>1</td>\n",
       "      <td>1</td>\n",
       "      <td>2</td>\n",
       "      <td>5</td>\n",
       "      <td>2</td>\n",
       "      <td>...</td>\n",
       "      <td>0</td>\n",
       "      <td>0</td>\n",
       "      <td>A</td>\n",
       "      <td>0</td>\n",
       "      <td>0</td>\n",
       "      <td>Transient</td>\n",
       "      <td>0</td>\n",
       "      <td>0</td>\n",
       "      <td>7</td>\n",
       "      <td>1</td>\n",
       "    </tr>\n",
       "    <tr>\n",
       "      <th>5</th>\n",
       "      <td>6091</td>\n",
       "      <td>1</td>\n",
       "      <td>52</td>\n",
       "      <td>2017</td>\n",
       "      <td>January</td>\n",
       "      <td>1</td>\n",
       "      <td>1</td>\n",
       "      <td>2</td>\n",
       "      <td>5</td>\n",
       "      <td>1</td>\n",
       "      <td>...</td>\n",
       "      <td>0</td>\n",
       "      <td>0</td>\n",
       "      <td>A</td>\n",
       "      <td>0</td>\n",
       "      <td>0</td>\n",
       "      <td>Transient</td>\n",
       "      <td>0</td>\n",
       "      <td>0</td>\n",
       "      <td>7</td>\n",
       "      <td>1</td>\n",
       "    </tr>\n",
       "    <tr>\n",
       "      <th>6</th>\n",
       "      <td>6092</td>\n",
       "      <td>1</td>\n",
       "      <td>143</td>\n",
       "      <td>2017</td>\n",
       "      <td>January</td>\n",
       "      <td>1</td>\n",
       "      <td>2</td>\n",
       "      <td>1</td>\n",
       "      <td>1</td>\n",
       "      <td>2</td>\n",
       "      <td>...</td>\n",
       "      <td>0</td>\n",
       "      <td>0</td>\n",
       "      <td>A</td>\n",
       "      <td>1</td>\n",
       "      <td>0</td>\n",
       "      <td>Transient</td>\n",
       "      <td>0</td>\n",
       "      <td>1</td>\n",
       "      <td>2</td>\n",
       "      <td>0</td>\n",
       "    </tr>\n",
       "    <tr>\n",
       "      <th>7</th>\n",
       "      <td>6093</td>\n",
       "      <td>1</td>\n",
       "      <td>21</td>\n",
       "      <td>2017</td>\n",
       "      <td>January</td>\n",
       "      <td>1</td>\n",
       "      <td>2</td>\n",
       "      <td>1</td>\n",
       "      <td>3</td>\n",
       "      <td>2</td>\n",
       "      <td>...</td>\n",
       "      <td>0</td>\n",
       "      <td>0</td>\n",
       "      <td>A</td>\n",
       "      <td>0</td>\n",
       "      <td>0</td>\n",
       "      <td>Transient</td>\n",
       "      <td>0</td>\n",
       "      <td>1</td>\n",
       "      <td>4</td>\n",
       "      <td>0</td>\n",
       "    </tr>\n",
       "    <tr>\n",
       "      <th>8</th>\n",
       "      <td>6094</td>\n",
       "      <td>1</td>\n",
       "      <td>89</td>\n",
       "      <td>2017</td>\n",
       "      <td>January</td>\n",
       "      <td>1</td>\n",
       "      <td>2</td>\n",
       "      <td>1</td>\n",
       "      <td>3</td>\n",
       "      <td>2</td>\n",
       "      <td>...</td>\n",
       "      <td>0</td>\n",
       "      <td>0</td>\n",
       "      <td>E</td>\n",
       "      <td>0</td>\n",
       "      <td>0</td>\n",
       "      <td>Transient</td>\n",
       "      <td>0</td>\n",
       "      <td>0</td>\n",
       "      <td>4</td>\n",
       "      <td>1</td>\n",
       "    </tr>\n",
       "    <tr>\n",
       "      <th>9</th>\n",
       "      <td>6095</td>\n",
       "      <td>1</td>\n",
       "      <td>48</td>\n",
       "      <td>2017</td>\n",
       "      <td>January</td>\n",
       "      <td>1</td>\n",
       "      <td>2</td>\n",
       "      <td>1</td>\n",
       "      <td>4</td>\n",
       "      <td>2</td>\n",
       "      <td>...</td>\n",
       "      <td>0</td>\n",
       "      <td>0</td>\n",
       "      <td>A</td>\n",
       "      <td>1</td>\n",
       "      <td>0</td>\n",
       "      <td>Transient</td>\n",
       "      <td>0</td>\n",
       "      <td>2</td>\n",
       "      <td>5</td>\n",
       "      <td>0</td>\n",
       "    </tr>\n",
       "  </tbody>\n",
       "</table>\n",
       "<p>10 rows × 26 columns</p>\n",
       "</div>"
      ],
      "text/plain": [
       "     id  is_canceled  lead_time  arrival_date_year arrival_date_month  \\\n",
       "0  6086            1         74               2017            January   \n",
       "1  6087            1         62               2017            January   \n",
       "2  6088            1         62               2017            January   \n",
       "3  6089            1         71               2017            January   \n",
       "4  6090            1        172               2017            January   \n",
       "5  6091            1         52               2017            January   \n",
       "6  6092            1        143               2017            January   \n",
       "7  6093            1         21               2017            January   \n",
       "8  6094            1         89               2017            January   \n",
       "9  6095            1         48               2017            January   \n",
       "\n",
       "   arrival_date_week_number  arrival_date_day_of_month  \\\n",
       "0                         1                          1   \n",
       "1                         1                          1   \n",
       "2                         1                          1   \n",
       "3                         1                          1   \n",
       "4                         1                          1   \n",
       "5                         1                          1   \n",
       "6                         1                          2   \n",
       "7                         1                          2   \n",
       "8                         1                          2   \n",
       "9                         1                          2   \n",
       "\n",
       "   stays_in_weekend_nights  stays_in_week_nights  adults  ...  \\\n",
       "0                        1                     0       2  ...   \n",
       "1                        2                     2       2  ...   \n",
       "2                        2                     2       2  ...   \n",
       "3                        2                     2       1  ...   \n",
       "4                        2                     5       2  ...   \n",
       "5                        2                     5       1  ...   \n",
       "6                        1                     1       2  ...   \n",
       "7                        1                     3       2  ...   \n",
       "8                        1                     3       2  ...   \n",
       "9                        1                     4       2  ...   \n",
       "\n",
       "   previous_cancellations  previous_bookings_not_canceled reserved_room_type  \\\n",
       "0                       0                               0                  A   \n",
       "1                       0                               0                  A   \n",
       "2                       0                               0                  A   \n",
       "3                       0                               0                  A   \n",
       "4                       0                               0                  A   \n",
       "5                       0                               0                  A   \n",
       "6                       0                               0                  A   \n",
       "7                       0                               0                  A   \n",
       "8                       0                               0                  E   \n",
       "9                       0                               0                  A   \n",
       "\n",
       "  booking_changes days_in_waiting_list  customer_type  \\\n",
       "0               0                    0      Transient   \n",
       "1               0                    0      Transient   \n",
       "2               0                    0      Transient   \n",
       "3               0                    0      Transient   \n",
       "4               0                    0      Transient   \n",
       "5               0                    0      Transient   \n",
       "6               1                    0      Transient   \n",
       "7               0                    0      Transient   \n",
       "8               0                    0      Transient   \n",
       "9               1                    0      Transient   \n",
       "\n",
       "   required_car_parking_spaces  total_of_special_requests total_nights  \\\n",
       "0                            0                          0            1   \n",
       "1                            0                          1            4   \n",
       "2                            0                          1            4   \n",
       "3                            0                          1            4   \n",
       "4                            0                          0            7   \n",
       "5                            0                          0            7   \n",
       "6                            0                          1            2   \n",
       "7                            0                          1            4   \n",
       "8                            0                          0            4   \n",
       "9                            0                          2            5   \n",
       "\n",
       "   prediction_test  \n",
       "0                1  \n",
       "1                0  \n",
       "2                0  \n",
       "3                0  \n",
       "4                1  \n",
       "5                1  \n",
       "6                0  \n",
       "7                0  \n",
       "8                1  \n",
       "9                0  \n",
       "\n",
       "[10 rows x 26 columns]"
      ]
     },
     "execution_count": 166,
     "metadata": {},
     "output_type": "execute_result"
    }
   ],
   "source": [
    "hotel_test.head(10)"
   ]
  },
  {
   "cell_type": "markdown",
   "metadata": {},
   "source": [
    "Добавление прошло успешно."
   ]
  },
  {
   "cell_type": "markdown",
   "metadata": {},
   "source": [
    "Функция для подсчёта прибыли с учетом внедрения депозитов."
   ]
  },
  {
   "cell_type": "code",
   "execution_count": 167,
   "metadata": {},
   "outputs": [],
   "source": [
    "def count_revenue_with_deposit(row):\n",
    "    room_cost = {\n",
    "        'A': {'night_cost': 1000, 'cleaning_cost': 400},\n",
    "        'B': {'night_cost': 800, 'cleaning_cost': 350},\n",
    "        'C': {'night_cost': 600, 'cleaning_cost': 350},\n",
    "        'D': {'night_cost': 550, 'cleaning_cost': 150},\n",
    "        'E': {'night_cost': 500, 'cleaning_cost': 150},\n",
    "        'F': {'night_cost': 450, 'cleaning_cost': 150},\n",
    "        'G': {'night_cost': 350, 'cleaning_cost': 150},\n",
    "    }\n",
    "\n",
    "    season_coefficients = {\n",
    "        'spring': 1.2,\n",
    "        'summer': 1.4,\n",
    "        'autumn': 1.2,\n",
    "        'winter': 1.0,\n",
    "    }\n",
    "\n",
    "    #необходимые данные из строки\n",
    "    room_type = row['reserved_room_type']  \n",
    "    month = row['arrival_date_month']  \n",
    "    week_nights = row['stays_in_week_nights']  #\n",
    "    weekend_nights = row['stays_in_weekend_nights']  \n",
    "\n",
    "    #стоимость и затраты на подготовку для данного типа номера\n",
    "    price = room_cost[room_type]['night_cost']  #стоимость за ночь\n",
    "    prepare_cost = room_cost[room_type]['cleaning_cost']  #стоимость подготовки номера\n",
    "\n",
    "    #общее количество ночей\n",
    "    total_nights = week_nights + weekend_nights\n",
    "    \n",
    "    #размер депозита в зависимости от предсказания модели\n",
    "    if row['prediction_test'] == 1:\n",
    "        deposit = 0.8 * price  #размер депозита составляет 80% от стоимости номера за одну ночь\n",
    "    else:\n",
    "        deposit = 0  #если бронь не отменяется, депозит не взимается\n",
    "    \n",
    "    # Расчет дохода\n",
    "    if row['is_canceled'] == 0:  #если бронь не отменена\n",
    "        # расчет количества ночей для подготовки (каждые две ночи)\n",
    "        prepare_nights = math.floor((total_nights - 1) / 2)\n",
    "        \n",
    "        # сезонные коэффициенты при расчете дохода\n",
    "        if month.lower() in season_coefficients:  # наличие месяца в сезонных коэффициентах\n",
    "            season_multiplier = season_coefficients[month.lower()]  # коэффициент для месяца\n",
    "        else:\n",
    "            season_multiplier = 1.2  # если месяц не найден, используем дефолтное значение\n",
    "        \n",
    "        # расчет дохода от проживания\n",
    "        revenue = season_multiplier * price * total_nights - prepare_cost - prepare_nights * prepare_cost\n",
    "    else:  # если бронь отменена\n",
    "        revenue = deposit - prepare_cost  # затраты на подготовку из депозита\n",
    "    \n",
    "    return revenue"
   ]
  },
  {
   "cell_type": "code",
   "execution_count": 168,
   "metadata": {},
   "outputs": [
    {
     "name": "stdout",
     "output_type": "stream",
     "text": [
      "53481670.0\n"
     ]
    }
   ],
   "source": [
    "total_revenue_deposit = hotel_test.apply(count_revenue_with_deposit, axis=1).sum()\n",
    "print(total_revenue_deposit)"
   ]
  },
  {
   "cell_type": "markdown",
   "metadata": {},
   "source": [
    "Прибыль при внедрении депозитов могла бы составить: 53481670.0"
   ]
  },
  {
   "cell_type": "code",
   "execution_count": 169,
   "metadata": {},
   "outputs": [
    {
     "name": "stdout",
     "output_type": "stream",
     "text": [
      "В случае внедрения депозита отель получит прибыль на 3704970.0 больше, чем при использовании модели без депозита\n"
     ]
    }
   ],
   "source": [
    "print(f\"В случае внедрения депозита отель получит прибыль на {total_revenue_deposit - total_hotel_profit} больше, чем при использовании модели без депозита\")"
   ]
  },
  {
   "cell_type": "code",
   "execution_count": 170,
   "metadata": {},
   "outputs": [
    {
     "name": "stdout",
     "output_type": "stream",
     "text": [
      "Учитывая стоимость системы прогнозирования: 3304970.0\n"
     ]
    }
   ],
   "source": [
    "SYSTEMA_PROGNOZA=400000\n",
    "total_profit_hotel_prognoz=total_revenue_deposit - total_hotel_profit-SYSTEMA_PROGNOZA\n",
    "print(f\"Учитывая стоимость системы прогнозирования: {total_profit_hotel_prognoz}\")"
   ]
  },
  {
   "cell_type": "markdown",
   "metadata": {},
   "source": [
    "1. Использована OneHotEncoder из библиотеки scikit-learn для кодирования категориальных признаков в числовые значения, чтобы их можно было использовать в моделях.\n",
    "2. Проведены оценки модели с использованием DecisionTreeClassifier, RandomForestClassifier  с использованием кросс-валидации (CV=5) и метрики f1. Также проведено вычисление качества модели LogisticRegression с кросс-валидацией (CV=5) и метрикой f1.\n",
    "3. Лучшей моделью является DecisionTreeClassifier с глубиной дерева 5, F1-оценка: 0.6640659953773396.\n",
    "4. \n",
    "- Значение F1-меры на тестовой выборке: 0.6370904177457494\n",
    "- Значение метрики AUC-ROC: 0.7765707327368188\n",
    "- Построена ROC-кривая.\n",
    "5. Предсказания добавлены в датафрейм\n",
    "6. Разработана функция для подсчёта прибыли с учетом внедрения депозитов. Прибыль при внедрении депозитов могла бы составить: 53481670.0\n",
    "7. С учетом затрата на разработку модели отель получил бы на 3304970.0 рублей больше. "
   ]
  },
  {
   "cell_type": "markdown",
   "metadata": {},
   "source": [
    "### Шаг 5. Опишите портрет «ненадёжного» клиента"
   ]
  },
  {
   "cell_type": "code",
   "execution_count": 171,
   "metadata": {},
   "outputs": [],
   "source": [
    "canceled_with_deposit = hotel_test.query('is_canceled==1 and prediction_test==1')"
   ]
  },
  {
   "cell_type": "code",
   "execution_count": 172,
   "metadata": {},
   "outputs": [
    {
     "name": "stdout",
     "output_type": "stream",
     "text": [
      "<class 'pandas.core.frame.DataFrame'>\n",
      "Int64Index: 8487 entries, 0 to 26034\n",
      "Data columns (total 26 columns):\n",
      " #   Column                          Non-Null Count  Dtype \n",
      "---  ------                          --------------  ----- \n",
      " 0   id                              8487 non-null   int64 \n",
      " 1   is_canceled                     8487 non-null   int64 \n",
      " 2   lead_time                       8487 non-null   int64 \n",
      " 3   arrival_date_year               8487 non-null   int64 \n",
      " 4   arrival_date_month              8487 non-null   object\n",
      " 5   arrival_date_week_number        8487 non-null   int64 \n",
      " 6   arrival_date_day_of_month       8487 non-null   int64 \n",
      " 7   stays_in_weekend_nights         8487 non-null   int64 \n",
      " 8   stays_in_week_nights            8487 non-null   int64 \n",
      " 9   adults                          8487 non-null   int64 \n",
      " 10  children                        8487 non-null   int64 \n",
      " 11  babies                          8487 non-null   int64 \n",
      " 12  meal                            8487 non-null   object\n",
      " 13  country                         8487 non-null   object\n",
      " 14  distribution_channel            8487 non-null   object\n",
      " 15  is_repeated_guest               8487 non-null   int64 \n",
      " 16  previous_cancellations          8487 non-null   int64 \n",
      " 17  previous_bookings_not_canceled  8487 non-null   int64 \n",
      " 18  reserved_room_type              8487 non-null   object\n",
      " 19  booking_changes                 8487 non-null   int64 \n",
      " 20  days_in_waiting_list            8487 non-null   int64 \n",
      " 21  customer_type                   8487 non-null   object\n",
      " 22  required_car_parking_spaces     8487 non-null   int64 \n",
      " 23  total_of_special_requests       8487 non-null   int64 \n",
      " 24  total_nights                    8487 non-null   int64 \n",
      " 25  prediction_test                 8487 non-null   int64 \n",
      "dtypes: int64(20), object(6)\n",
      "memory usage: 1.7+ MB\n"
     ]
    }
   ],
   "source": [
    "canceled_with_deposit.info()"
   ]
  },
  {
   "cell_type": "code",
   "execution_count": 173,
   "metadata": {},
   "outputs": [
    {
     "data": {
      "text/html": [
       "<div>\n",
       "<style scoped>\n",
       "    .dataframe tbody tr th:only-of-type {\n",
       "        vertical-align: middle;\n",
       "    }\n",
       "\n",
       "    .dataframe tbody tr th {\n",
       "        vertical-align: top;\n",
       "    }\n",
       "\n",
       "    .dataframe thead th {\n",
       "        text-align: right;\n",
       "    }\n",
       "</style>\n",
       "<table border=\"1\" class=\"dataframe\">\n",
       "  <thead>\n",
       "    <tr style=\"text-align: right;\">\n",
       "      <th></th>\n",
       "      <th>id</th>\n",
       "      <th>is_canceled</th>\n",
       "      <th>lead_time</th>\n",
       "      <th>arrival_date_year</th>\n",
       "      <th>arrival_date_month</th>\n",
       "      <th>arrival_date_week_number</th>\n",
       "      <th>arrival_date_day_of_month</th>\n",
       "      <th>stays_in_weekend_nights</th>\n",
       "      <th>stays_in_week_nights</th>\n",
       "      <th>adults</th>\n",
       "      <th>...</th>\n",
       "      <th>previous_cancellations</th>\n",
       "      <th>previous_bookings_not_canceled</th>\n",
       "      <th>reserved_room_type</th>\n",
       "      <th>booking_changes</th>\n",
       "      <th>days_in_waiting_list</th>\n",
       "      <th>customer_type</th>\n",
       "      <th>required_car_parking_spaces</th>\n",
       "      <th>total_of_special_requests</th>\n",
       "      <th>total_nights</th>\n",
       "      <th>prediction_test</th>\n",
       "    </tr>\n",
       "  </thead>\n",
       "  <tbody>\n",
       "    <tr>\n",
       "      <th>0</th>\n",
       "      <td>6086</td>\n",
       "      <td>1</td>\n",
       "      <td>74</td>\n",
       "      <td>2017</td>\n",
       "      <td>January</td>\n",
       "      <td>1</td>\n",
       "      <td>1</td>\n",
       "      <td>1</td>\n",
       "      <td>0</td>\n",
       "      <td>2</td>\n",
       "      <td>...</td>\n",
       "      <td>0</td>\n",
       "      <td>0</td>\n",
       "      <td>A</td>\n",
       "      <td>0</td>\n",
       "      <td>0</td>\n",
       "      <td>Transient</td>\n",
       "      <td>0</td>\n",
       "      <td>0</td>\n",
       "      <td>1</td>\n",
       "      <td>1</td>\n",
       "    </tr>\n",
       "    <tr>\n",
       "      <th>4</th>\n",
       "      <td>6090</td>\n",
       "      <td>1</td>\n",
       "      <td>172</td>\n",
       "      <td>2017</td>\n",
       "      <td>January</td>\n",
       "      <td>1</td>\n",
       "      <td>1</td>\n",
       "      <td>2</td>\n",
       "      <td>5</td>\n",
       "      <td>2</td>\n",
       "      <td>...</td>\n",
       "      <td>0</td>\n",
       "      <td>0</td>\n",
       "      <td>A</td>\n",
       "      <td>0</td>\n",
       "      <td>0</td>\n",
       "      <td>Transient</td>\n",
       "      <td>0</td>\n",
       "      <td>0</td>\n",
       "      <td>7</td>\n",
       "      <td>1</td>\n",
       "    </tr>\n",
       "    <tr>\n",
       "      <th>5</th>\n",
       "      <td>6091</td>\n",
       "      <td>1</td>\n",
       "      <td>52</td>\n",
       "      <td>2017</td>\n",
       "      <td>January</td>\n",
       "      <td>1</td>\n",
       "      <td>1</td>\n",
       "      <td>2</td>\n",
       "      <td>5</td>\n",
       "      <td>1</td>\n",
       "      <td>...</td>\n",
       "      <td>0</td>\n",
       "      <td>0</td>\n",
       "      <td>A</td>\n",
       "      <td>0</td>\n",
       "      <td>0</td>\n",
       "      <td>Transient</td>\n",
       "      <td>0</td>\n",
       "      <td>0</td>\n",
       "      <td>7</td>\n",
       "      <td>1</td>\n",
       "    </tr>\n",
       "    <tr>\n",
       "      <th>8</th>\n",
       "      <td>6094</td>\n",
       "      <td>1</td>\n",
       "      <td>89</td>\n",
       "      <td>2017</td>\n",
       "      <td>January</td>\n",
       "      <td>1</td>\n",
       "      <td>2</td>\n",
       "      <td>1</td>\n",
       "      <td>3</td>\n",
       "      <td>2</td>\n",
       "      <td>...</td>\n",
       "      <td>0</td>\n",
       "      <td>0</td>\n",
       "      <td>E</td>\n",
       "      <td>0</td>\n",
       "      <td>0</td>\n",
       "      <td>Transient</td>\n",
       "      <td>0</td>\n",
       "      <td>0</td>\n",
       "      <td>4</td>\n",
       "      <td>1</td>\n",
       "    </tr>\n",
       "    <tr>\n",
       "      <th>10</th>\n",
       "      <td>6096</td>\n",
       "      <td>1</td>\n",
       "      <td>31</td>\n",
       "      <td>2017</td>\n",
       "      <td>January</td>\n",
       "      <td>1</td>\n",
       "      <td>2</td>\n",
       "      <td>1</td>\n",
       "      <td>4</td>\n",
       "      <td>2</td>\n",
       "      <td>...</td>\n",
       "      <td>0</td>\n",
       "      <td>0</td>\n",
       "      <td>G</td>\n",
       "      <td>0</td>\n",
       "      <td>0</td>\n",
       "      <td>Transient</td>\n",
       "      <td>0</td>\n",
       "      <td>0</td>\n",
       "      <td>5</td>\n",
       "      <td>1</td>\n",
       "    </tr>\n",
       "    <tr>\n",
       "      <th>13</th>\n",
       "      <td>6099</td>\n",
       "      <td>1</td>\n",
       "      <td>23</td>\n",
       "      <td>2017</td>\n",
       "      <td>January</td>\n",
       "      <td>1</td>\n",
       "      <td>3</td>\n",
       "      <td>0</td>\n",
       "      <td>2</td>\n",
       "      <td>2</td>\n",
       "      <td>...</td>\n",
       "      <td>0</td>\n",
       "      <td>0</td>\n",
       "      <td>D</td>\n",
       "      <td>0</td>\n",
       "      <td>0</td>\n",
       "      <td>Transient</td>\n",
       "      <td>0</td>\n",
       "      <td>0</td>\n",
       "      <td>2</td>\n",
       "      <td>1</td>\n",
       "    </tr>\n",
       "    <tr>\n",
       "      <th>14</th>\n",
       "      <td>6100</td>\n",
       "      <td>1</td>\n",
       "      <td>46</td>\n",
       "      <td>2017</td>\n",
       "      <td>January</td>\n",
       "      <td>1</td>\n",
       "      <td>3</td>\n",
       "      <td>0</td>\n",
       "      <td>3</td>\n",
       "      <td>2</td>\n",
       "      <td>...</td>\n",
       "      <td>0</td>\n",
       "      <td>0</td>\n",
       "      <td>G</td>\n",
       "      <td>0</td>\n",
       "      <td>0</td>\n",
       "      <td>Transient</td>\n",
       "      <td>0</td>\n",
       "      <td>0</td>\n",
       "      <td>3</td>\n",
       "      <td>1</td>\n",
       "    </tr>\n",
       "    <tr>\n",
       "      <th>15</th>\n",
       "      <td>6102</td>\n",
       "      <td>1</td>\n",
       "      <td>149</td>\n",
       "      <td>2017</td>\n",
       "      <td>January</td>\n",
       "      <td>1</td>\n",
       "      <td>3</td>\n",
       "      <td>0</td>\n",
       "      <td>5</td>\n",
       "      <td>2</td>\n",
       "      <td>...</td>\n",
       "      <td>0</td>\n",
       "      <td>0</td>\n",
       "      <td>G</td>\n",
       "      <td>0</td>\n",
       "      <td>0</td>\n",
       "      <td>Transient</td>\n",
       "      <td>0</td>\n",
       "      <td>0</td>\n",
       "      <td>5</td>\n",
       "      <td>1</td>\n",
       "    </tr>\n",
       "    <tr>\n",
       "      <th>16</th>\n",
       "      <td>6103</td>\n",
       "      <td>1</td>\n",
       "      <td>44</td>\n",
       "      <td>2017</td>\n",
       "      <td>January</td>\n",
       "      <td>1</td>\n",
       "      <td>3</td>\n",
       "      <td>2</td>\n",
       "      <td>5</td>\n",
       "      <td>2</td>\n",
       "      <td>...</td>\n",
       "      <td>0</td>\n",
       "      <td>0</td>\n",
       "      <td>A</td>\n",
       "      <td>0</td>\n",
       "      <td>0</td>\n",
       "      <td>Transient</td>\n",
       "      <td>0</td>\n",
       "      <td>0</td>\n",
       "      <td>7</td>\n",
       "      <td>1</td>\n",
       "    </tr>\n",
       "    <tr>\n",
       "      <th>18</th>\n",
       "      <td>6105</td>\n",
       "      <td>1</td>\n",
       "      <td>6</td>\n",
       "      <td>2017</td>\n",
       "      <td>January</td>\n",
       "      <td>1</td>\n",
       "      <td>4</td>\n",
       "      <td>0</td>\n",
       "      <td>1</td>\n",
       "      <td>1</td>\n",
       "      <td>...</td>\n",
       "      <td>0</td>\n",
       "      <td>0</td>\n",
       "      <td>A</td>\n",
       "      <td>0</td>\n",
       "      <td>0</td>\n",
       "      <td>Transient</td>\n",
       "      <td>0</td>\n",
       "      <td>0</td>\n",
       "      <td>1</td>\n",
       "      <td>1</td>\n",
       "    </tr>\n",
       "  </tbody>\n",
       "</table>\n",
       "<p>10 rows × 26 columns</p>\n",
       "</div>"
      ],
      "text/plain": [
       "      id  is_canceled  lead_time  arrival_date_year arrival_date_month  \\\n",
       "0   6086            1         74               2017            January   \n",
       "4   6090            1        172               2017            January   \n",
       "5   6091            1         52               2017            January   \n",
       "8   6094            1         89               2017            January   \n",
       "10  6096            1         31               2017            January   \n",
       "13  6099            1         23               2017            January   \n",
       "14  6100            1         46               2017            January   \n",
       "15  6102            1        149               2017            January   \n",
       "16  6103            1         44               2017            January   \n",
       "18  6105            1          6               2017            January   \n",
       "\n",
       "    arrival_date_week_number  arrival_date_day_of_month  \\\n",
       "0                          1                          1   \n",
       "4                          1                          1   \n",
       "5                          1                          1   \n",
       "8                          1                          2   \n",
       "10                         1                          2   \n",
       "13                         1                          3   \n",
       "14                         1                          3   \n",
       "15                         1                          3   \n",
       "16                         1                          3   \n",
       "18                         1                          4   \n",
       "\n",
       "    stays_in_weekend_nights  stays_in_week_nights  adults  ...  \\\n",
       "0                         1                     0       2  ...   \n",
       "4                         2                     5       2  ...   \n",
       "5                         2                     5       1  ...   \n",
       "8                         1                     3       2  ...   \n",
       "10                        1                     4       2  ...   \n",
       "13                        0                     2       2  ...   \n",
       "14                        0                     3       2  ...   \n",
       "15                        0                     5       2  ...   \n",
       "16                        2                     5       2  ...   \n",
       "18                        0                     1       1  ...   \n",
       "\n",
       "    previous_cancellations  previous_bookings_not_canceled reserved_room_type  \\\n",
       "0                        0                               0                  A   \n",
       "4                        0                               0                  A   \n",
       "5                        0                               0                  A   \n",
       "8                        0                               0                  E   \n",
       "10                       0                               0                  G   \n",
       "13                       0                               0                  D   \n",
       "14                       0                               0                  G   \n",
       "15                       0                               0                  G   \n",
       "16                       0                               0                  A   \n",
       "18                       0                               0                  A   \n",
       "\n",
       "   booking_changes days_in_waiting_list  customer_type  \\\n",
       "0                0                    0      Transient   \n",
       "4                0                    0      Transient   \n",
       "5                0                    0      Transient   \n",
       "8                0                    0      Transient   \n",
       "10               0                    0      Transient   \n",
       "13               0                    0      Transient   \n",
       "14               0                    0      Transient   \n",
       "15               0                    0      Transient   \n",
       "16               0                    0      Transient   \n",
       "18               0                    0      Transient   \n",
       "\n",
       "    required_car_parking_spaces  total_of_special_requests total_nights  \\\n",
       "0                             0                          0            1   \n",
       "4                             0                          0            7   \n",
       "5                             0                          0            7   \n",
       "8                             0                          0            4   \n",
       "10                            0                          0            5   \n",
       "13                            0                          0            2   \n",
       "14                            0                          0            3   \n",
       "15                            0                          0            5   \n",
       "16                            0                          0            7   \n",
       "18                            0                          0            1   \n",
       "\n",
       "    prediction_test  \n",
       "0                 1  \n",
       "4                 1  \n",
       "5                 1  \n",
       "8                 1  \n",
       "10                1  \n",
       "13                1  \n",
       "14                1  \n",
       "15                1  \n",
       "16                1  \n",
       "18                1  \n",
       "\n",
       "[10 rows x 26 columns]"
      ]
     },
     "execution_count": 173,
     "metadata": {},
     "output_type": "execute_result"
    }
   ],
   "source": [
    "canceled_with_deposit.head(10)"
   ]
  },
  {
   "cell_type": "code",
   "execution_count": 174,
   "metadata": {},
   "outputs": [
    {
     "data": {
      "text/html": [
       "<div>\n",
       "<style scoped>\n",
       "    .dataframe tbody tr th:only-of-type {\n",
       "        vertical-align: middle;\n",
       "    }\n",
       "\n",
       "    .dataframe tbody tr th {\n",
       "        vertical-align: top;\n",
       "    }\n",
       "\n",
       "    .dataframe thead th {\n",
       "        text-align: right;\n",
       "    }\n",
       "</style>\n",
       "<table border=\"1\" class=\"dataframe\">\n",
       "  <thead>\n",
       "    <tr style=\"text-align: right;\">\n",
       "      <th></th>\n",
       "      <th>id</th>\n",
       "      <th>is_canceled</th>\n",
       "      <th>lead_time</th>\n",
       "      <th>arrival_date_year</th>\n",
       "      <th>arrival_date_week_number</th>\n",
       "      <th>arrival_date_day_of_month</th>\n",
       "      <th>stays_in_weekend_nights</th>\n",
       "      <th>stays_in_week_nights</th>\n",
       "      <th>adults</th>\n",
       "      <th>children</th>\n",
       "      <th>babies</th>\n",
       "      <th>is_repeated_guest</th>\n",
       "      <th>previous_cancellations</th>\n",
       "      <th>previous_bookings_not_canceled</th>\n",
       "      <th>booking_changes</th>\n",
       "      <th>days_in_waiting_list</th>\n",
       "      <th>required_car_parking_spaces</th>\n",
       "      <th>total_of_special_requests</th>\n",
       "      <th>total_nights</th>\n",
       "      <th>prediction_test</th>\n",
       "    </tr>\n",
       "  </thead>\n",
       "  <tbody>\n",
       "    <tr>\n",
       "      <th>count</th>\n",
       "      <td>8487.000000</td>\n",
       "      <td>8487.0</td>\n",
       "      <td>8487.000000</td>\n",
       "      <td>8487.0</td>\n",
       "      <td>8487.000000</td>\n",
       "      <td>8487.000000</td>\n",
       "      <td>8487.000000</td>\n",
       "      <td>8487.000000</td>\n",
       "      <td>8487.000000</td>\n",
       "      <td>8487.000000</td>\n",
       "      <td>8487.000000</td>\n",
       "      <td>8487.000000</td>\n",
       "      <td>8487.000000</td>\n",
       "      <td>8487.000000</td>\n",
       "      <td>8487.000000</td>\n",
       "      <td>8487.000000</td>\n",
       "      <td>8487.0</td>\n",
       "      <td>8487.0</td>\n",
       "      <td>8487.000000</td>\n",
       "      <td>8487.0</td>\n",
       "    </tr>\n",
       "    <tr>\n",
       "      <th>mean</th>\n",
       "      <td>43976.032049</td>\n",
       "      <td>1.0</td>\n",
       "      <td>122.794038</td>\n",
       "      <td>2017.0</td>\n",
       "      <td>17.647107</td>\n",
       "      <td>15.666195</td>\n",
       "      <td>0.831154</td>\n",
       "      <td>2.355485</td>\n",
       "      <td>1.879934</td>\n",
       "      <td>0.072817</td>\n",
       "      <td>0.000943</td>\n",
       "      <td>0.001885</td>\n",
       "      <td>0.002121</td>\n",
       "      <td>0.006363</td>\n",
       "      <td>0.073642</td>\n",
       "      <td>0.550842</td>\n",
       "      <td>0.0</td>\n",
       "      <td>0.0</td>\n",
       "      <td>3.186638</td>\n",
       "      <td>1.0</td>\n",
       "    </tr>\n",
       "    <tr>\n",
       "      <th>std</th>\n",
       "      <td>15139.471747</td>\n",
       "      <td>0.0</td>\n",
       "      <td>83.109052</td>\n",
       "      <td>0.0</td>\n",
       "      <td>8.378508</td>\n",
       "      <td>8.700582</td>\n",
       "      <td>0.854005</td>\n",
       "      <td>1.269881</td>\n",
       "      <td>0.465730</td>\n",
       "      <td>0.331225</td>\n",
       "      <td>0.030689</td>\n",
       "      <td>0.043381</td>\n",
       "      <td>0.068623</td>\n",
       "      <td>0.299984</td>\n",
       "      <td>0.365069</td>\n",
       "      <td>6.325262</td>\n",
       "      <td>0.0</td>\n",
       "      <td>0.0</td>\n",
       "      <td>1.556023</td>\n",
       "      <td>0.0</td>\n",
       "    </tr>\n",
       "    <tr>\n",
       "      <th>min</th>\n",
       "      <td>6086.000000</td>\n",
       "      <td>1.0</td>\n",
       "      <td>0.000000</td>\n",
       "      <td>2017.0</td>\n",
       "      <td>1.000000</td>\n",
       "      <td>1.000000</td>\n",
       "      <td>0.000000</td>\n",
       "      <td>0.000000</td>\n",
       "      <td>1.000000</td>\n",
       "      <td>0.000000</td>\n",
       "      <td>0.000000</td>\n",
       "      <td>0.000000</td>\n",
       "      <td>0.000000</td>\n",
       "      <td>0.000000</td>\n",
       "      <td>0.000000</td>\n",
       "      <td>0.000000</td>\n",
       "      <td>0.0</td>\n",
       "      <td>0.0</td>\n",
       "      <td>1.000000</td>\n",
       "      <td>1.0</td>\n",
       "    </tr>\n",
       "    <tr>\n",
       "      <th>25%</th>\n",
       "      <td>46198.500000</td>\n",
       "      <td>1.0</td>\n",
       "      <td>56.000000</td>\n",
       "      <td>2017.0</td>\n",
       "      <td>11.000000</td>\n",
       "      <td>8.000000</td>\n",
       "      <td>0.000000</td>\n",
       "      <td>1.000000</td>\n",
       "      <td>2.000000</td>\n",
       "      <td>0.000000</td>\n",
       "      <td>0.000000</td>\n",
       "      <td>0.000000</td>\n",
       "      <td>0.000000</td>\n",
       "      <td>0.000000</td>\n",
       "      <td>0.000000</td>\n",
       "      <td>0.000000</td>\n",
       "      <td>0.0</td>\n",
       "      <td>0.0</td>\n",
       "      <td>2.000000</td>\n",
       "      <td>1.0</td>\n",
       "    </tr>\n",
       "    <tr>\n",
       "      <th>50%</th>\n",
       "      <td>49070.000000</td>\n",
       "      <td>1.0</td>\n",
       "      <td>111.000000</td>\n",
       "      <td>2017.0</td>\n",
       "      <td>18.000000</td>\n",
       "      <td>15.000000</td>\n",
       "      <td>1.000000</td>\n",
       "      <td>2.000000</td>\n",
       "      <td>2.000000</td>\n",
       "      <td>0.000000</td>\n",
       "      <td>0.000000</td>\n",
       "      <td>0.000000</td>\n",
       "      <td>0.000000</td>\n",
       "      <td>0.000000</td>\n",
       "      <td>0.000000</td>\n",
       "      <td>0.000000</td>\n",
       "      <td>0.0</td>\n",
       "      <td>0.0</td>\n",
       "      <td>3.000000</td>\n",
       "      <td>1.0</td>\n",
       "    </tr>\n",
       "    <tr>\n",
       "      <th>75%</th>\n",
       "      <td>51942.000000</td>\n",
       "      <td>1.0</td>\n",
       "      <td>173.000000</td>\n",
       "      <td>2017.0</td>\n",
       "      <td>24.000000</td>\n",
       "      <td>23.000000</td>\n",
       "      <td>2.000000</td>\n",
       "      <td>3.000000</td>\n",
       "      <td>2.000000</td>\n",
       "      <td>0.000000</td>\n",
       "      <td>0.000000</td>\n",
       "      <td>0.000000</td>\n",
       "      <td>0.000000</td>\n",
       "      <td>0.000000</td>\n",
       "      <td>0.000000</td>\n",
       "      <td>0.000000</td>\n",
       "      <td>0.0</td>\n",
       "      <td>0.0</td>\n",
       "      <td>4.000000</td>\n",
       "      <td>1.0</td>\n",
       "    </tr>\n",
       "    <tr>\n",
       "      <th>max</th>\n",
       "      <td>91576.000000</td>\n",
       "      <td>1.0</td>\n",
       "      <td>373.000000</td>\n",
       "      <td>2017.0</td>\n",
       "      <td>35.000000</td>\n",
       "      <td>31.000000</td>\n",
       "      <td>4.000000</td>\n",
       "      <td>6.000000</td>\n",
       "      <td>4.000000</td>\n",
       "      <td>3.000000</td>\n",
       "      <td>1.000000</td>\n",
       "      <td>1.000000</td>\n",
       "      <td>4.000000</td>\n",
       "      <td>26.000000</td>\n",
       "      <td>5.000000</td>\n",
       "      <td>183.000000</td>\n",
       "      <td>0.0</td>\n",
       "      <td>0.0</td>\n",
       "      <td>10.000000</td>\n",
       "      <td>1.0</td>\n",
       "    </tr>\n",
       "  </tbody>\n",
       "</table>\n",
       "</div>"
      ],
      "text/plain": [
       "                 id  is_canceled    lead_time  arrival_date_year  \\\n",
       "count   8487.000000       8487.0  8487.000000             8487.0   \n",
       "mean   43976.032049          1.0   122.794038             2017.0   \n",
       "std    15139.471747          0.0    83.109052                0.0   \n",
       "min     6086.000000          1.0     0.000000             2017.0   \n",
       "25%    46198.500000          1.0    56.000000             2017.0   \n",
       "50%    49070.000000          1.0   111.000000             2017.0   \n",
       "75%    51942.000000          1.0   173.000000             2017.0   \n",
       "max    91576.000000          1.0   373.000000             2017.0   \n",
       "\n",
       "       arrival_date_week_number  arrival_date_day_of_month  \\\n",
       "count               8487.000000                8487.000000   \n",
       "mean                  17.647107                  15.666195   \n",
       "std                    8.378508                   8.700582   \n",
       "min                    1.000000                   1.000000   \n",
       "25%                   11.000000                   8.000000   \n",
       "50%                   18.000000                  15.000000   \n",
       "75%                   24.000000                  23.000000   \n",
       "max                   35.000000                  31.000000   \n",
       "\n",
       "       stays_in_weekend_nights  stays_in_week_nights       adults  \\\n",
       "count              8487.000000           8487.000000  8487.000000   \n",
       "mean                  0.831154              2.355485     1.879934   \n",
       "std                   0.854005              1.269881     0.465730   \n",
       "min                   0.000000              0.000000     1.000000   \n",
       "25%                   0.000000              1.000000     2.000000   \n",
       "50%                   1.000000              2.000000     2.000000   \n",
       "75%                   2.000000              3.000000     2.000000   \n",
       "max                   4.000000              6.000000     4.000000   \n",
       "\n",
       "          children       babies  is_repeated_guest  previous_cancellations  \\\n",
       "count  8487.000000  8487.000000        8487.000000             8487.000000   \n",
       "mean      0.072817     0.000943           0.001885                0.002121   \n",
       "std       0.331225     0.030689           0.043381                0.068623   \n",
       "min       0.000000     0.000000           0.000000                0.000000   \n",
       "25%       0.000000     0.000000           0.000000                0.000000   \n",
       "50%       0.000000     0.000000           0.000000                0.000000   \n",
       "75%       0.000000     0.000000           0.000000                0.000000   \n",
       "max       3.000000     1.000000           1.000000                4.000000   \n",
       "\n",
       "       previous_bookings_not_canceled  booking_changes  days_in_waiting_list  \\\n",
       "count                     8487.000000      8487.000000           8487.000000   \n",
       "mean                         0.006363         0.073642              0.550842   \n",
       "std                          0.299984         0.365069              6.325262   \n",
       "min                          0.000000         0.000000              0.000000   \n",
       "25%                          0.000000         0.000000              0.000000   \n",
       "50%                          0.000000         0.000000              0.000000   \n",
       "75%                          0.000000         0.000000              0.000000   \n",
       "max                         26.000000         5.000000            183.000000   \n",
       "\n",
       "       required_car_parking_spaces  total_of_special_requests  total_nights  \\\n",
       "count                       8487.0                     8487.0   8487.000000   \n",
       "mean                           0.0                        0.0      3.186638   \n",
       "std                            0.0                        0.0      1.556023   \n",
       "min                            0.0                        0.0      1.000000   \n",
       "25%                            0.0                        0.0      2.000000   \n",
       "50%                            0.0                        0.0      3.000000   \n",
       "75%                            0.0                        0.0      4.000000   \n",
       "max                            0.0                        0.0     10.000000   \n",
       "\n",
       "       prediction_test  \n",
       "count           8487.0  \n",
       "mean               1.0  \n",
       "std                0.0  \n",
       "min                1.0  \n",
       "25%                1.0  \n",
       "50%                1.0  \n",
       "75%                1.0  \n",
       "max                1.0  "
      ]
     },
     "execution_count": 174,
     "metadata": {},
     "output_type": "execute_result"
    }
   ],
   "source": [
    "canceled_with_deposit.describe()"
   ]
  },
  {
   "cell_type": "code",
   "execution_count": 175,
   "metadata": {
    "scrolled": false
   },
   "outputs": [
    {
     "data": {
      "image/png": "[encoded data removed]",
      "text/plain": [
       "<Figure size 648x648 with 1 Axes>"
      ]
     },
     "metadata": {},
     "output_type": "display_data"
    }
   ],
   "source": [
    "canceled_with_deposit['adults'].value_counts().plot( kind = 'pie',figsize=(9,9), autopct = '%1.0f%%',\n",
    "title = 'Количество взрослых в отмененных заказах');"
   ]
  },
  {
   "cell_type": "markdown",
   "metadata": {},
   "source": [
    "В большинстве случаев при отмене было зарегестрировано 2 человека."
   ]
  },
  {
   "cell_type": "code",
   "execution_count": 176,
   "metadata": {},
   "outputs": [
    {
     "data": {
      "text/plain": [
       "0    0.948156\n",
       "1    0.030989\n",
       "2    0.020738\n",
       "3    0.000118\n",
       "Name: children, dtype: float64"
      ]
     },
     "execution_count": 176,
     "metadata": {},
     "output_type": "execute_result"
    }
   ],
   "source": [
    "canceled_with_deposit['children'].value_counts(normalize=True)"
   ]
  },
  {
   "cell_type": "code",
   "execution_count": 177,
   "metadata": {},
   "outputs": [
    {
     "data": {
      "text/plain": [
       "0    0.999057\n",
       "1    0.000943\n",
       "Name: babies, dtype: float64"
      ]
     },
     "execution_count": 177,
     "metadata": {},
     "output_type": "execute_result"
    }
   ],
   "source": [
    "canceled_with_deposit['babies'].value_counts(normalize=True)"
   ]
  },
  {
   "cell_type": "markdown",
   "metadata": {},
   "source": [
    "В большинстве случаев отмены у постояльцев не было детей"
   ]
  },
  {
   "cell_type": "code",
   "execution_count": 178,
   "metadata": {},
   "outputs": [
    {
     "data": {
      "text/plain": [
       "Transient          0.916225\n",
       "Transient-Party    0.078944\n",
       "Contract           0.004124\n",
       "Group              0.000707\n",
       "Name: customer_type, dtype: float64"
      ]
     },
     "execution_count": 178,
     "metadata": {},
     "output_type": "execute_result"
    }
   ],
   "source": [
    "canceled_with_deposit['customer_type'].value_counts(normalize=True)"
   ]
  },
  {
   "cell_type": "markdown",
   "metadata": {},
   "source": [
    "Отмена не связана с договором или групповым заездом."
   ]
  },
  {
   "cell_type": "code",
   "execution_count": 179,
   "metadata": {},
   "outputs": [
    {
     "data": {
      "text/plain": [
       "0    0.998115\n",
       "1    0.001885\n",
       "Name: is_repeated_guest, dtype: float64"
      ]
     },
     "execution_count": 179,
     "metadata": {},
     "output_type": "execute_result"
    }
   ],
   "source": [
    "canceled_with_deposit['is_repeated_guest'].value_counts(normalize=True)"
   ]
  },
  {
   "cell_type": "markdown",
   "metadata": {},
   "source": [
    "Гость не бронировал ранее номер"
   ]
  },
  {
   "cell_type": "code",
   "execution_count": 180,
   "metadata": {},
   "outputs": [
    {
     "data": {
      "text/plain": [
       "0    1.0\n",
       "Name: required_car_parking_spaces, dtype: float64"
      ]
     },
     "execution_count": 180,
     "metadata": {},
     "output_type": "execute_result"
    }
   ],
   "source": [
    "canceled_with_deposit['required_car_parking_spaces'].value_counts(normalize=True)"
   ]
  },
  {
   "cell_type": "markdown",
   "metadata": {},
   "source": [
    "Гость также не запрашивает автомобиль"
   ]
  },
  {
   "cell_type": "markdown",
   "metadata": {},
   "source": [
    "Далее рассмотрим количество отмененных бронирований с учетом времени, которое оставалось до заезда. Так как записей много, проведу группировку данных и на основе их найду способ для лучшего вычисления информации."
   ]
  },
  {
   "cell_type": "code",
   "execution_count": 181,
   "metadata": {},
   "outputs": [
    {
     "data": {
      "image/png": "[encoded data removed]",
      "text/plain": [
       "<Figure size 720x432 with 1 Axes>"
      ]
     },
     "metadata": {},
     "output_type": "display_data"
    }
   ],
   "source": [
    "lead_time_counts = canceled_with_deposit['lead_time'].value_counts(normalize=True)\n",
    "\n",
    "plt.figure(figsize=(10, 6))\n",
    "lead_time_counts.head(20).plot(kind='bar')\n",
    "plt.title('Распределение гостей по количеству времени до заезда')\n",
    "plt.xlabel('Количество дней')\n",
    "plt.ylabel('Частота')\n",
    "plt.show()"
   ]
  },
  {
   "cell_type": "code",
   "execution_count": 182,
   "metadata": {},
   "outputs": [
    {
     "data": {
      "text/html": [
       "<div>\n",
       "<style scoped>\n",
       "    .dataframe tbody tr th:only-of-type {\n",
       "        vertical-align: middle;\n",
       "    }\n",
       "\n",
       "    .dataframe tbody tr th {\n",
       "        vertical-align: top;\n",
       "    }\n",
       "\n",
       "    .dataframe thead th {\n",
       "        text-align: right;\n",
       "    }\n",
       "</style>\n",
       "<table border=\"1\" class=\"dataframe\">\n",
       "  <thead>\n",
       "    <tr style=\"text-align: right;\">\n",
       "      <th></th>\n",
       "      <th>Условие</th>\n",
       "      <th>Процент</th>\n",
       "    </tr>\n",
       "  </thead>\n",
       "  <tbody>\n",
       "    <tr>\n",
       "      <th>0</th>\n",
       "      <td>менее 30</td>\n",
       "      <td>12.713562</td>\n",
       "    </tr>\n",
       "    <tr>\n",
       "      <th>1</th>\n",
       "      <td>более 30 и менее или равно 60</td>\n",
       "      <td>15.176152</td>\n",
       "    </tr>\n",
       "    <tr>\n",
       "      <th>2</th>\n",
       "      <td>более 60 и менее или равно 90</td>\n",
       "      <td>13.019913</td>\n",
       "    </tr>\n",
       "    <tr>\n",
       "      <th>3</th>\n",
       "      <td>более 90</td>\n",
       "      <td>58.748674</td>\n",
       "    </tr>\n",
       "  </tbody>\n",
       "</table>\n",
       "</div>"
      ],
      "text/plain": [
       "                         Условие    Процент\n",
       "0                       менее 30  12.713562\n",
       "1  более 30 и менее или равно 60  15.176152\n",
       "2  более 60 и менее или равно 90  13.019913\n",
       "3                       более 90  58.748674"
      ]
     },
     "metadata": {},
     "output_type": "display_data"
    }
   ],
   "source": [
    "total_records = canceled_with_deposit.shape[0]\n",
    "conditions = {\n",
    "    'менее 30': canceled_with_deposit[canceled_with_deposit['lead_time'] < 30].shape[0],\n",
    "    'более 30 и менее или равно 60': canceled_with_deposit[(canceled_with_deposit['lead_time'] > 30) \n",
    "                                                           & (canceled_with_deposit['lead_time'] <= 60)].shape[0],\n",
    "    'более 60 и менее или равно 90': canceled_with_deposit[(canceled_with_deposit['lead_time'] > 60) \n",
    "                                                           & (canceled_with_deposit['lead_time'] <= 90)].shape[0],\n",
    "    'более 90': canceled_with_deposit[canceled_with_deposit['lead_time'] > 90].shape[0]\n",
    "}\n",
    "\n",
    "\n",
    "for key in conditions:\n",
    "    conditions[key] = (conditions[key] / total_records) * 100\n",
    "\n",
    "\n",
    "lead_time_counts = pd.DataFrame(conditions.items(), columns=['Условие', 'Процент'])\n",
    "display (lead_time_counts)"
   ]
  },
  {
   "cell_type": "markdown",
   "metadata": {},
   "source": [
    "Около 60% постояльцев отменили номера, которые были забранированы за 90 дней."
   ]
  },
  {
   "cell_type": "code",
   "execution_count": 183,
   "metadata": {},
   "outputs": [
    {
     "data": {
      "image/png": "[encoded data removed]",
      "text/plain": [
       "<Figure size 648x648 with 1 Axes>"
      ]
     },
     "metadata": {},
     "output_type": "display_data"
    }
   ],
   "source": [
    "canceled_with_deposit['meal'].value_counts().plot( kind = 'pie',figsize=(9,9), autopct = '%1.0f%%',\n",
    "title = 'По опциям заказа с едой');"
   ]
  },
  {
   "cell_type": "markdown",
   "metadata": {},
   "source": [
    "В 83% гости заказывали только завтрак, в 12% ничего, в 5% завтрак и обед."
   ]
  },
  {
   "cell_type": "code",
   "execution_count": 184,
   "metadata": {},
   "outputs": [
    {
     "data": {
      "text/plain": [
       "3     0.329445\n",
       "2     0.245788\n",
       "4     0.167550\n",
       "1     0.103570\n",
       "5     0.067633\n",
       "7     0.060092\n",
       "6     0.018499\n",
       "8     0.004949\n",
       "10    0.001296\n",
       "9     0.001178\n",
       "Name: total_nights, dtype: float64"
      ]
     },
     "execution_count": 184,
     "metadata": {},
     "output_type": "execute_result"
    }
   ],
   "source": [
    "canceled_with_deposit['total_nights'].value_counts(normalize=True)"
   ]
  },
  {
   "cell_type": "code",
   "execution_count": 185,
   "metadata": {},
   "outputs": [
    {
     "data": {
      "image/png": "[encoded data removed]",
      "text/plain": [
       "<Figure size 648x648 with 1 Axes>"
      ]
     },
     "metadata": {},
     "output_type": "display_data"
    }
   ],
   "source": [
    "canceled_with_deposit['total_nights'].value_counts().plot( kind = 'pie',figsize=(9,9), autopct = '%1.0f%%',\n",
    "title = 'По количеству дней');"
   ]
  },
  {
   "cell_type": "markdown",
   "metadata": {},
   "source": [
    "Чаще всего заказы отменяли гости, хотевшие остановиться на 2-4 ночи (знаю о слишком большом количестве данных для круговой диаграммы, но так нагляднее и быстрее понять)"
   ]
  },
  {
   "cell_type": "code",
   "execution_count": 120,
   "metadata": {},
   "outputs": [
    {
     "data": {
      "text/plain": [
       "0    1.0\n",
       "Name: total_of_special_requests, dtype: float64"
      ]
     },
     "execution_count": 120,
     "metadata": {},
     "output_type": "execute_result"
    }
   ],
   "source": [
    "canceled_with_deposit['total_of_special_requests'].value_counts(normalize=True)"
   ]
  },
  {
   "cell_type": "markdown",
   "metadata": {},
   "source": [
    "У гостей не было специальных меток."
   ]
  },
  {
   "cell_type": "markdown",
   "metadata": {},
   "source": [
    "Самым ненадежным клиентом является человек, бронирующий отель за более, чем 60 дней, хотящий остановиться на 2-4 ночи, заказывавший только завтрак или ничего, не бронирующий место под автомобиль, не имеющий специальных отметок и ранее не останавливающийся в этом отеле."
   ]
  },
  {
   "cell_type": "markdown",
   "metadata": {},
   "source": [
    "### Шаг 6. Напишите общий вывод"
   ]
  },
  {
   "cell_type": "markdown",
   "metadata": {},
   "source": [
    "1. Произведено открытие файлов с данными.\n",
    "- получена первичная информация о двух датафреймах: hotel_train  и hotel_test;\n",
    "- выведена описательная информация о датафреймах, которую можно будет использовать при дальнейшем анализе в предобработке данных."
   ]
  },
  {
   "cell_type": "markdown",
   "metadata": {},
   "source": [
    "2. Предобработка и исследовательский анализ.\n",
    "- проверены пропуски и дубликаты;\n",
    "- произведена работа с неявными дубликатами, убраны лишние пробелы и неявные дубликаты, которые могут вызвать проблемы в дальнейшем;\n",
    "- получена информация обо всех столбцах в датафреймах;\n",
    "- убраны странные записи в датафрейме с 0 количеством взрослых;\n",
    "- 'lead_time', 'adults', 'children', 'babies' переведены из float64 в int64;\n",
    "- сброешны индексы."
   ]
  },
  {
   "cell_type": "markdown",
   "metadata": {},
   "source": [
    "3. Произведён анализ бизнес-задачи.\n",
    "- написана функция def calculate_hotel_profit для расчёта прибыли отеля до внедрения депозитов."
   ]
  },
  {
   "cell_type": "markdown",
   "metadata": {},
   "source": [
    "4. Разработка модели ML.\n",
    "- произведена подготовка данных перед использований моделей;\n",
    "- использованы DecisionTreeClassifier, RandomForestClassifier,  LogisticRegression с кросс-валидацией (CV=5) и метрикой f1;\n",
    "- к  DecisionTreeClassifier и RandomForestClassifier для удобства добавлен подсчёт времени;\n",
    "- лучшей моделью является DecisionTreeClassifier с глубиной дерева 5, она использована для предсказаний отмены;\n",
    "- информация добавлена в датафрейм;\n",
    "- написана функция def count_revenue_with_deposit для подсчёта прибыли с учетом внедрения депозитов."
   ]
  },
  {
   "cell_type": "markdown",
   "metadata": {},
   "source": [
    "5. Описан портрет \"ненадёжного\" клиента. Самым ненадежным клиентом является человек, бронирующий отель за более, чем 60 дней, хотящий остановиться на 2-4 ночи, заказывавший только завтрак или ничего, не бронирующий место под автомобиль, не имеющий специальных отметок и ранее не останавливающийся в этом отеле."
   ]
  },
  {
   "cell_type": "markdown",
   "metadata": {},
   "source": [
    "Разработана функция для подсчёта прибыли с учетом внедрения депозитов. Прибыль при внедрении депозитов могла бы составить: 53481670.0. С учетом затрата на разработку модели отель получил бы на 3304970.0 рублей больше."
   ]
  },
  {
   "cell_type": "markdown",
   "metadata": {},
   "source": [
    "Заказчик может вводить систему депозитов, также может ввести минимальное количество дней до отдыха (90 дней) или внести какие-либо иные правки по своему усмотрению, связанные с тем, что люди, бронирующие отель за более чем 60 дней более склонны к отмене. "
   ]
  }
 ],
 "metadata": {
  "ExecuteTimeLog": [
   {
    "duration": 1453,
    "start_time": "2023-11-16T13:04:06.803Z"
   },
   {
    "duration": 3,
    "start_time": "2023-11-16T13:05:03.201Z"
   },
   {
    "duration": 465,
    "start_time": "2023-11-16T13:05:03.566Z"
   },
   {
    "duration": 23,
    "start_time": "2023-11-16T13:23:51.297Z"
   },
   {
    "duration": 27,
    "start_time": "2023-11-16T13:24:09.967Z"
   },
   {
    "duration": 29,
    "start_time": "2023-11-16T13:24:26.732Z"
   },
   {
    "duration": 21,
    "start_time": "2023-11-16T13:24:53.276Z"
   },
   {
    "duration": 39,
    "start_time": "2023-11-16T13:25:23.974Z"
   },
   {
    "duration": 22,
    "start_time": "2023-11-16T13:26:42.922Z"
   },
   {
    "duration": 15,
    "start_time": "2023-11-16T13:27:01.409Z"
   },
   {
    "duration": 15,
    "start_time": "2023-11-16T13:28:00.166Z"
   },
   {
    "duration": 23,
    "start_time": "2023-11-16T13:28:08.719Z"
   },
   {
    "duration": 32,
    "start_time": "2023-11-16T13:28:34.964Z"
   },
   {
    "duration": 61,
    "start_time": "2023-11-16T13:28:46.591Z"
   },
   {
    "duration": 8,
    "start_time": "2023-11-16T13:36:20.815Z"
   },
   {
    "duration": 7,
    "start_time": "2023-11-16T13:36:36.566Z"
   },
   {
    "duration": 7,
    "start_time": "2023-11-16T13:37:02.253Z"
   },
   {
    "duration": 7,
    "start_time": "2023-11-16T13:37:26.417Z"
   },
   {
    "duration": 25,
    "start_time": "2023-11-16T13:39:28.043Z"
   },
   {
    "duration": 7,
    "start_time": "2023-11-16T13:39:28.916Z"
   },
   {
    "duration": 16,
    "start_time": "2023-11-16T13:39:28.925Z"
   },
   {
    "duration": 8,
    "start_time": "2023-11-16T13:39:39.848Z"
   },
   {
    "duration": 7,
    "start_time": "2023-11-16T13:39:49.864Z"
   },
   {
    "duration": 3,
    "start_time": "2023-11-16T13:49:25.682Z"
   },
   {
    "duration": 9,
    "start_time": "2023-11-16T13:49:26.154Z"
   },
   {
    "duration": 20,
    "start_time": "2023-11-16T13:49:48.523Z"
   },
   {
    "duration": 30,
    "start_time": "2023-11-16T13:50:06.307Z"
   },
   {
    "duration": 7,
    "start_time": "2023-11-16T13:51:13.873Z"
   },
   {
    "duration": 22,
    "start_time": "2023-11-16T13:51:14.664Z"
   },
   {
    "duration": 28,
    "start_time": "2023-11-16T13:51:14.811Z"
   },
   {
    "duration": 71,
    "start_time": "2023-11-16T13:53:42.297Z"
   },
   {
    "duration": 86,
    "start_time": "2023-11-16T13:53:42.840Z"
   },
   {
    "duration": 4,
    "start_time": "2023-11-16T13:59:30.925Z"
   },
   {
    "duration": 6,
    "start_time": "2023-11-16T13:59:31.590Z"
   },
   {
    "duration": 18,
    "start_time": "2023-11-16T13:59:31.772Z"
   },
   {
    "duration": 26,
    "start_time": "2023-11-16T13:59:32.129Z"
   },
   {
    "duration": 6,
    "start_time": "2023-11-16T14:08:19.031Z"
   },
   {
    "duration": 5,
    "start_time": "2023-11-16T14:08:40.438Z"
   },
   {
    "duration": 5,
    "start_time": "2023-11-16T14:08:52.115Z"
   },
   {
    "duration": 5,
    "start_time": "2023-11-16T14:09:16.355Z"
   },
   {
    "duration": 5,
    "start_time": "2023-11-16T14:09:16.897Z"
   },
   {
    "duration": 5,
    "start_time": "2023-11-16T14:09:39.493Z"
   },
   {
    "duration": 6,
    "start_time": "2023-11-16T14:09:39.759Z"
   },
   {
    "duration": 4,
    "start_time": "2023-11-16T14:10:06.216Z"
   },
   {
    "duration": 4,
    "start_time": "2023-11-16T14:10:06.517Z"
   },
   {
    "duration": 5,
    "start_time": "2023-11-16T14:10:28.861Z"
   },
   {
    "duration": 5,
    "start_time": "2023-11-16T14:10:29.359Z"
   },
   {
    "duration": 5,
    "start_time": "2023-11-16T14:13:07.100Z"
   },
   {
    "duration": 4,
    "start_time": "2023-11-16T14:13:15.749Z"
   },
   {
    "duration": 6,
    "start_time": "2023-11-16T14:14:35.744Z"
   },
   {
    "duration": 4,
    "start_time": "2023-11-16T14:14:43.958Z"
   },
   {
    "duration": 5,
    "start_time": "2023-11-16T14:15:16.769Z"
   },
   {
    "duration": 5,
    "start_time": "2023-11-16T14:15:17.208Z"
   },
   {
    "duration": 5,
    "start_time": "2023-11-16T14:15:36.673Z"
   },
   {
    "duration": 4,
    "start_time": "2023-11-16T14:15:36.958Z"
   },
   {
    "duration": 8,
    "start_time": "2023-11-16T14:16:41.011Z"
   },
   {
    "duration": 6,
    "start_time": "2023-11-16T14:16:41.289Z"
   },
   {
    "duration": 4,
    "start_time": "2023-11-16T14:17:12.029Z"
   },
   {
    "duration": 4,
    "start_time": "2023-11-16T14:17:12.303Z"
   },
   {
    "duration": 8,
    "start_time": "2023-11-16T14:17:41.644Z"
   },
   {
    "duration": 19,
    "start_time": "2023-11-16T14:17:41.654Z"
   },
   {
    "duration": 5,
    "start_time": "2023-11-16T14:18:09.249Z"
   },
   {
    "duration": 5,
    "start_time": "2023-11-16T14:18:09.534Z"
   },
   {
    "duration": 5,
    "start_time": "2023-11-16T14:18:25.444Z"
   },
   {
    "duration": 27,
    "start_time": "2023-11-16T14:18:25.451Z"
   },
   {
    "duration": 7,
    "start_time": "2023-11-16T14:18:44.659Z"
   },
   {
    "duration": 7,
    "start_time": "2023-11-16T14:18:44.930Z"
   },
   {
    "duration": 5,
    "start_time": "2023-11-16T14:19:07.052Z"
   },
   {
    "duration": 4,
    "start_time": "2023-11-16T14:19:07.691Z"
   },
   {
    "duration": 4,
    "start_time": "2023-11-16T14:19:27.118Z"
   },
   {
    "duration": 24,
    "start_time": "2023-11-16T14:19:27.124Z"
   },
   {
    "duration": 4,
    "start_time": "2023-11-16T14:22:46.521Z"
   },
   {
    "duration": 102,
    "start_time": "2023-11-16T14:22:46.737Z"
   },
   {
    "duration": 15,
    "start_time": "2023-11-16T14:22:47.196Z"
   },
   {
    "duration": 3,
    "start_time": "2023-11-16T14:22:58.609Z"
   },
   {
    "duration": 15,
    "start_time": "2023-11-16T14:22:59.831Z"
   },
   {
    "duration": 4,
    "start_time": "2023-11-16T14:24:25.996Z"
   },
   {
    "duration": 5,
    "start_time": "2023-11-16T14:24:34.984Z"
   },
   {
    "duration": 7,
    "start_time": "2023-11-16T14:25:38.325Z"
   },
   {
    "duration": 6,
    "start_time": "2023-11-16T14:25:38.793Z"
   },
   {
    "duration": 30,
    "start_time": "2023-11-16T14:28:16.739Z"
   },
   {
    "duration": 6,
    "start_time": "2023-11-16T14:28:23.672Z"
   },
   {
    "duration": 6,
    "start_time": "2023-11-16T14:28:31.143Z"
   },
   {
    "duration": 4,
    "start_time": "2023-11-16T14:29:17.185Z"
   },
   {
    "duration": 4,
    "start_time": "2023-11-16T14:29:17.561Z"
   },
   {
    "duration": 5,
    "start_time": "2023-11-16T14:29:46.639Z"
   },
   {
    "duration": 5,
    "start_time": "2023-11-16T14:29:46.915Z"
   },
   {
    "duration": 4,
    "start_time": "2023-11-16T14:29:47.888Z"
   },
   {
    "duration": 5,
    "start_time": "2023-11-16T14:29:48.149Z"
   },
   {
    "duration": 4,
    "start_time": "2023-11-16T14:30:07.890Z"
   },
   {
    "duration": 4,
    "start_time": "2023-11-16T14:30:08.180Z"
   },
   {
    "duration": 5,
    "start_time": "2023-11-16T14:30:22.634Z"
   },
   {
    "duration": 4,
    "start_time": "2023-11-16T14:30:22.927Z"
   },
   {
    "duration": 3,
    "start_time": "2023-11-16T15:03:01.152Z"
   },
   {
    "duration": 259,
    "start_time": "2023-11-16T15:03:01.621Z"
   },
   {
    "duration": 21,
    "start_time": "2023-11-16T15:03:02.098Z"
   },
   {
    "duration": 23,
    "start_time": "2023-11-16T15:03:02.765Z"
   },
   {
    "duration": 27,
    "start_time": "2023-11-16T15:03:03.160Z"
   },
   {
    "duration": 21,
    "start_time": "2023-11-16T15:03:04.050Z"
   },
   {
    "duration": 67,
    "start_time": "2023-11-16T15:03:04.519Z"
   },
   {
    "duration": 79,
    "start_time": "2023-11-16T15:03:04.982Z"
   },
   {
    "duration": 14,
    "start_time": "2023-11-16T15:03:05.719Z"
   },
   {
    "duration": 29,
    "start_time": "2023-11-16T15:03:06.181Z"
   },
   {
    "duration": 22,
    "start_time": "2023-11-16T15:03:06.604Z"
   },
   {
    "duration": 51,
    "start_time": "2023-11-16T15:03:07.325Z"
   },
   {
    "duration": 7,
    "start_time": "2023-11-16T15:03:07.637Z"
   },
   {
    "duration": 6,
    "start_time": "2023-11-16T15:03:07.879Z"
   },
   {
    "duration": 7,
    "start_time": "2023-11-16T15:03:08.298Z"
   },
   {
    "duration": 25,
    "start_time": "2023-11-16T15:03:08.930Z"
   },
   {
    "duration": 7,
    "start_time": "2023-11-16T15:03:09.116Z"
   },
   {
    "duration": 5,
    "start_time": "2023-11-16T15:03:09.524Z"
   },
   {
    "duration": 13,
    "start_time": "2023-11-16T15:03:09.891Z"
   },
   {
    "duration": 6,
    "start_time": "2023-11-16T15:03:10.299Z"
   },
   {
    "duration": 5,
    "start_time": "2023-11-16T15:03:10.964Z"
   },
   {
    "duration": 4,
    "start_time": "2023-11-16T15:03:11.166Z"
   },
   {
    "duration": 5,
    "start_time": "2023-11-16T15:03:11.378Z"
   },
   {
    "duration": 4,
    "start_time": "2023-11-16T15:03:11.579Z"
   },
   {
    "duration": 5,
    "start_time": "2023-11-16T15:03:12.157Z"
   },
   {
    "duration": 6,
    "start_time": "2023-11-16T15:03:12.192Z"
   },
   {
    "duration": 4,
    "start_time": "2023-11-16T15:03:12.461Z"
   },
   {
    "duration": 4,
    "start_time": "2023-11-16T15:03:13.086Z"
   },
   {
    "duration": 4,
    "start_time": "2023-11-16T15:03:13.314Z"
   },
   {
    "duration": 5,
    "start_time": "2023-11-16T15:03:13.536Z"
   },
   {
    "duration": 4,
    "start_time": "2023-11-16T15:03:13.777Z"
   },
   {
    "duration": 4,
    "start_time": "2023-11-16T15:03:14.049Z"
   },
   {
    "duration": 4,
    "start_time": "2023-11-16T15:03:14.971Z"
   },
   {
    "duration": 5,
    "start_time": "2023-11-16T15:03:15.186Z"
   },
   {
    "duration": 5,
    "start_time": "2023-11-16T15:03:16.416Z"
   },
   {
    "duration": 5,
    "start_time": "2023-11-16T15:03:16.729Z"
   },
   {
    "duration": 5,
    "start_time": "2023-11-16T15:03:17.299Z"
   },
   {
    "duration": 5,
    "start_time": "2023-11-16T15:03:17.625Z"
   },
   {
    "duration": 8,
    "start_time": "2023-11-16T15:03:18.101Z"
   },
   {
    "duration": 6,
    "start_time": "2023-11-16T15:03:18.571Z"
   },
   {
    "duration": 4,
    "start_time": "2023-11-16T15:03:18.989Z"
   },
   {
    "duration": 4,
    "start_time": "2023-11-16T15:03:19.222Z"
   },
   {
    "duration": 7,
    "start_time": "2023-11-16T15:03:19.468Z"
   },
   {
    "duration": 6,
    "start_time": "2023-11-16T15:03:19.891Z"
   },
   {
    "duration": 5,
    "start_time": "2023-11-16T15:03:20.168Z"
   },
   {
    "duration": 4,
    "start_time": "2023-11-16T15:03:20.417Z"
   },
   {
    "duration": 4,
    "start_time": "2023-11-16T15:03:20.688Z"
   },
   {
    "duration": 5,
    "start_time": "2023-11-16T15:03:20.941Z"
   },
   {
    "duration": 7,
    "start_time": "2023-11-16T15:03:21.435Z"
   },
   {
    "duration": 7,
    "start_time": "2023-11-16T15:03:21.834Z"
   },
   {
    "duration": 5,
    "start_time": "2023-11-16T15:03:22.079Z"
   },
   {
    "duration": 4,
    "start_time": "2023-11-16T15:03:22.488Z"
   },
   {
    "duration": 4,
    "start_time": "2023-11-16T15:03:23.037Z"
   },
   {
    "duration": 4,
    "start_time": "2023-11-16T15:03:23.095Z"
   },
   {
    "duration": 4,
    "start_time": "2023-11-16T15:03:23.312Z"
   },
   {
    "duration": 3,
    "start_time": "2023-11-16T15:03:24.002Z"
   },
   {
    "duration": 18,
    "start_time": "2023-11-16T15:03:24.107Z"
   },
   {
    "duration": 4,
    "start_time": "2023-11-16T15:03:25.240Z"
   },
   {
    "duration": 13,
    "start_time": "2023-11-16T15:03:25.246Z"
   },
   {
    "duration": 14,
    "start_time": "2023-11-16T15:03:25.261Z"
   },
   {
    "duration": 6,
    "start_time": "2023-11-16T15:03:25.535Z"
   },
   {
    "duration": 34,
    "start_time": "2023-11-16T15:03:25.748Z"
   },
   {
    "duration": 7,
    "start_time": "2023-11-16T15:03:27.262Z"
   },
   {
    "duration": 6,
    "start_time": "2023-11-16T15:03:27.272Z"
   },
   {
    "duration": 5,
    "start_time": "2023-11-16T15:03:27.362Z"
   },
   {
    "duration": 13,
    "start_time": "2023-11-16T15:03:27.369Z"
   },
   {
    "duration": 6,
    "start_time": "2023-11-16T15:03:27.384Z"
   },
   {
    "duration": 5,
    "start_time": "2023-11-16T15:03:27.584Z"
   },
   {
    "duration": 5,
    "start_time": "2023-11-16T15:03:27.835Z"
   },
   {
    "duration": 4,
    "start_time": "2023-11-16T15:03:28.088Z"
   },
   {
    "duration": 4,
    "start_time": "2023-11-16T15:03:28.309Z"
   },
   {
    "duration": 5,
    "start_time": "2023-11-16T15:03:28.494Z"
   },
   {
    "duration": 3,
    "start_time": "2023-11-16T15:03:28.714Z"
   },
   {
    "duration": 9,
    "start_time": "2023-11-16T15:03:29.254Z"
   },
   {
    "duration": 19,
    "start_time": "2023-11-16T15:03:29.729Z"
   },
   {
    "duration": 32,
    "start_time": "2023-11-16T15:03:29.951Z"
   },
   {
    "duration": 4,
    "start_time": "2023-11-16T15:11:46.938Z"
   },
   {
    "duration": 17,
    "start_time": "2023-11-16T15:22:41.035Z"
   },
   {
    "duration": 10,
    "start_time": "2023-11-16T15:22:41.543Z"
   },
   {
    "duration": 27,
    "start_time": "2023-11-16T15:24:05.554Z"
   },
   {
    "duration": 10,
    "start_time": "2023-11-16T15:24:11.483Z"
   },
   {
    "duration": 13,
    "start_time": "2023-11-16T15:24:16.028Z"
   },
   {
    "duration": 7,
    "start_time": "2023-11-16T15:24:43.160Z"
   },
   {
    "duration": 26,
    "start_time": "2023-11-16T15:24:43.168Z"
   },
   {
    "duration": 7,
    "start_time": "2023-11-16T15:25:17.392Z"
   },
   {
    "duration": 6,
    "start_time": "2023-11-16T15:25:17.685Z"
   },
   {
    "duration": 25,
    "start_time": "2023-11-16T15:26:06.575Z"
   },
   {
    "duration": 8,
    "start_time": "2023-11-16T15:26:14.439Z"
   },
   {
    "duration": 8,
    "start_time": "2023-11-16T15:26:14.775Z"
   },
   {
    "duration": 3,
    "start_time": "2023-11-16T15:28:23.105Z"
   },
   {
    "duration": 2,
    "start_time": "2023-11-16T15:28:56.308Z"
   },
   {
    "duration": 237,
    "start_time": "2023-11-16T15:28:57.711Z"
   },
   {
    "duration": 20,
    "start_time": "2023-11-16T15:28:57.970Z"
   },
   {
    "duration": 26,
    "start_time": "2023-11-16T15:28:58.216Z"
   },
   {
    "duration": 41,
    "start_time": "2023-11-16T15:28:58.429Z"
   },
   {
    "duration": 26,
    "start_time": "2023-11-16T15:28:58.638Z"
   },
   {
    "duration": 78,
    "start_time": "2023-11-16T15:28:58.824Z"
   },
   {
    "duration": 82,
    "start_time": "2023-11-16T15:28:58.992Z"
   },
   {
    "duration": 14,
    "start_time": "2023-11-16T15:28:59.611Z"
   },
   {
    "duration": 28,
    "start_time": "2023-11-16T15:28:59.816Z"
   },
   {
    "duration": 22,
    "start_time": "2023-11-16T15:29:00.009Z"
   },
   {
    "duration": 51,
    "start_time": "2023-11-16T15:29:00.529Z"
   },
   {
    "duration": 8,
    "start_time": "2023-11-16T15:29:00.612Z"
   },
   {
    "duration": 7,
    "start_time": "2023-11-16T15:29:00.793Z"
   },
   {
    "duration": 11,
    "start_time": "2023-11-16T15:29:01.016Z"
   },
   {
    "duration": 37,
    "start_time": "2023-11-16T15:29:01.253Z"
   },
   {
    "duration": 7,
    "start_time": "2023-11-16T15:29:02.066Z"
   },
   {
    "duration": 18,
    "start_time": "2023-11-16T15:29:02.075Z"
   },
   {
    "duration": 24,
    "start_time": "2023-11-16T15:29:02.162Z"
   },
   {
    "duration": 6,
    "start_time": "2023-11-16T15:29:02.464Z"
   },
   {
    "duration": 5,
    "start_time": "2023-11-16T15:29:03.061Z"
   },
   {
    "duration": 5,
    "start_time": "2023-11-16T15:29:03.291Z"
   },
   {
    "duration": 5,
    "start_time": "2023-11-16T15:29:03.531Z"
   },
   {
    "duration": 5,
    "start_time": "2023-11-16T15:29:04.360Z"
   },
   {
    "duration": 7,
    "start_time": "2023-11-16T15:29:04.368Z"
   },
   {
    "duration": 10,
    "start_time": "2023-11-16T15:29:04.377Z"
   },
   {
    "duration": 6,
    "start_time": "2023-11-16T15:29:04.462Z"
   },
   {
    "duration": 6,
    "start_time": "2023-11-16T15:29:04.690Z"
   },
   {
    "duration": 5,
    "start_time": "2023-11-16T15:29:05.408Z"
   },
   {
    "duration": 8,
    "start_time": "2023-11-16T15:29:05.415Z"
   },
   {
    "duration": 24,
    "start_time": "2023-11-16T15:29:05.424Z"
   },
   {
    "duration": 4,
    "start_time": "2023-11-16T15:29:05.541Z"
   },
   {
    "duration": 4,
    "start_time": "2023-11-16T15:29:06.244Z"
   },
   {
    "duration": 4,
    "start_time": "2023-11-16T15:29:06.475Z"
   },
   {
    "duration": 4,
    "start_time": "2023-11-16T15:29:06.939Z"
   },
   {
    "duration": 5,
    "start_time": "2023-11-16T15:29:07.154Z"
   },
   {
    "duration": 5,
    "start_time": "2023-11-16T15:29:07.348Z"
   },
   {
    "duration": 5,
    "start_time": "2023-11-16T15:29:07.577Z"
   },
   {
    "duration": 7,
    "start_time": "2023-11-16T15:29:07.804Z"
   },
   {
    "duration": 6,
    "start_time": "2023-11-16T15:29:08.025Z"
   },
   {
    "duration": 5,
    "start_time": "2023-11-16T15:29:08.271Z"
   },
   {
    "duration": 5,
    "start_time": "2023-11-16T15:29:08.497Z"
   },
   {
    "duration": 8,
    "start_time": "2023-11-16T15:29:08.716Z"
   },
   {
    "duration": 6,
    "start_time": "2023-11-16T15:29:08.916Z"
   },
   {
    "duration": 5,
    "start_time": "2023-11-16T15:29:09.122Z"
   },
   {
    "duration": 5,
    "start_time": "2023-11-16T15:29:09.324Z"
   },
   {
    "duration": 5,
    "start_time": "2023-11-16T15:29:09.969Z"
   },
   {
    "duration": 22,
    "start_time": "2023-11-16T15:29:09.975Z"
   },
   {
    "duration": 9,
    "start_time": "2023-11-16T15:29:10.385Z"
   },
   {
    "duration": 7,
    "start_time": "2023-11-16T15:29:10.677Z"
   },
   {
    "duration": 5,
    "start_time": "2023-11-16T15:29:10.686Z"
   },
   {
    "duration": 4,
    "start_time": "2023-11-16T15:29:10.788Z"
   },
   {
    "duration": 5,
    "start_time": "2023-11-16T15:29:11.022Z"
   },
   {
    "duration": 4,
    "start_time": "2023-11-16T15:29:11.297Z"
   },
   {
    "duration": 4,
    "start_time": "2023-11-16T15:29:11.545Z"
   },
   {
    "duration": 3,
    "start_time": "2023-11-16T15:29:11.777Z"
   },
   {
    "duration": 17,
    "start_time": "2023-11-16T15:29:11.988Z"
   },
   {
    "duration": 3,
    "start_time": "2023-11-16T15:29:12.428Z"
   },
   {
    "duration": 5,
    "start_time": "2023-11-16T15:29:12.638Z"
   },
   {
    "duration": 8,
    "start_time": "2023-11-16T15:29:12.852Z"
   },
   {
    "duration": 6,
    "start_time": "2023-11-16T15:29:13.074Z"
   },
   {
    "duration": 30,
    "start_time": "2023-11-16T15:29:13.254Z"
   },
   {
    "duration": 7,
    "start_time": "2023-11-16T15:29:13.471Z"
   },
   {
    "duration": 9,
    "start_time": "2023-11-16T15:29:13.681Z"
   },
   {
    "duration": 6,
    "start_time": "2023-11-16T15:29:14.357Z"
   },
   {
    "duration": 13,
    "start_time": "2023-11-16T15:29:14.365Z"
   },
   {
    "duration": 6,
    "start_time": "2023-11-16T15:29:14.484Z"
   },
   {
    "duration": 5,
    "start_time": "2023-11-16T15:29:14.664Z"
   },
   {
    "duration": 6,
    "start_time": "2023-11-16T15:29:14.872Z"
   },
   {
    "duration": 6,
    "start_time": "2023-11-16T15:29:15.067Z"
   },
   {
    "duration": 4,
    "start_time": "2023-11-16T15:29:15.295Z"
   },
   {
    "duration": 5,
    "start_time": "2023-11-16T15:29:15.793Z"
   },
   {
    "duration": 31,
    "start_time": "2023-11-16T15:29:15.799Z"
   },
   {
    "duration": 12,
    "start_time": "2023-11-16T15:29:15.889Z"
   },
   {
    "duration": 20,
    "start_time": "2023-11-16T15:29:16.497Z"
   },
   {
    "duration": 8,
    "start_time": "2023-11-16T15:29:16.520Z"
   },
   {
    "duration": 9,
    "start_time": "2023-11-16T15:29:16.840Z"
   },
   {
    "duration": 46,
    "start_time": "2023-11-16T15:29:16.852Z"
   },
   {
    "duration": 7,
    "start_time": "2023-11-16T15:29:16.936Z"
   },
   {
    "duration": 23,
    "start_time": "2023-11-16T15:29:17.133Z"
   },
   {
    "duration": 7,
    "start_time": "2023-11-16T15:29:17.359Z"
   },
   {
    "duration": 7,
    "start_time": "2023-11-16T15:29:17.554Z"
   },
   {
    "duration": 3,
    "start_time": "2023-11-16T15:29:17.756Z"
   },
   {
    "duration": 11,
    "start_time": "2023-11-16T15:29:18.220Z"
   },
   {
    "duration": 30,
    "start_time": "2023-11-16T15:29:18.460Z"
   },
   {
    "duration": 45,
    "start_time": "2023-11-16T15:29:19.025Z"
   },
   {
    "duration": 3,
    "start_time": "2023-11-16T15:29:19.114Z"
   },
   {
    "duration": 319,
    "start_time": "2023-11-16T17:37:04.343Z"
   },
   {
    "duration": 233,
    "start_time": "2023-11-16T17:37:04.710Z"
   },
   {
    "duration": 20,
    "start_time": "2023-11-16T17:37:05.219Z"
   },
   {
    "duration": 23,
    "start_time": "2023-11-16T17:37:05.949Z"
   },
   {
    "duration": 26,
    "start_time": "2023-11-16T17:37:06.328Z"
   },
   {
    "duration": 21,
    "start_time": "2023-11-16T17:37:06.678Z"
   },
   {
    "duration": 69,
    "start_time": "2023-11-16T17:37:06.875Z"
   },
   {
    "duration": 77,
    "start_time": "2023-11-16T17:37:07.115Z"
   },
   {
    "duration": 15,
    "start_time": "2023-11-16T17:37:07.669Z"
   },
   {
    "duration": 29,
    "start_time": "2023-11-16T17:37:07.834Z"
   },
   {
    "duration": 22,
    "start_time": "2023-11-16T17:37:08.019Z"
   },
   {
    "duration": 48,
    "start_time": "2023-11-16T17:37:08.196Z"
   },
   {
    "duration": 9,
    "start_time": "2023-11-16T17:37:08.654Z"
   },
   {
    "duration": 6,
    "start_time": "2023-11-16T17:37:09.017Z"
   },
   {
    "duration": 7,
    "start_time": "2023-11-16T17:37:09.210Z"
   },
   {
    "duration": 32,
    "start_time": "2023-11-16T17:37:09.380Z"
   },
   {
    "duration": 7,
    "start_time": "2023-11-16T17:37:09.570Z"
   },
   {
    "duration": 6,
    "start_time": "2023-11-16T17:37:09.769Z"
   },
   {
    "duration": 14,
    "start_time": "2023-11-16T17:37:09.945Z"
   },
   {
    "duration": 7,
    "start_time": "2023-11-16T17:37:10.127Z"
   },
   {
    "duration": 4,
    "start_time": "2023-11-16T17:37:10.797Z"
   },
   {
    "duration": 24,
    "start_time": "2023-11-16T17:37:10.803Z"
   },
   {
    "duration": 5,
    "start_time": "2023-11-16T17:37:10.903Z"
   },
   {
    "duration": 5,
    "start_time": "2023-11-16T17:37:11.067Z"
   },
   {
    "duration": 6,
    "start_time": "2023-11-16T17:37:11.834Z"
   },
   {
    "duration": 30,
    "start_time": "2023-11-16T17:37:11.841Z"
   },
   {
    "duration": 14,
    "start_time": "2023-11-16T17:37:11.873Z"
   },
   {
    "duration": 5,
    "start_time": "2023-11-16T17:37:11.957Z"
   },
   {
    "duration": 5,
    "start_time": "2023-11-16T17:37:12.162Z"
   },
   {
    "duration": 5,
    "start_time": "2023-11-16T17:37:12.639Z"
   },
   {
    "duration": 4,
    "start_time": "2023-11-16T17:37:13.027Z"
   },
   {
    "duration": 4,
    "start_time": "2023-11-16T17:37:13.228Z"
   },
   {
    "duration": 4,
    "start_time": "2023-11-16T17:37:13.639Z"
   },
   {
    "duration": 5,
    "start_time": "2023-11-16T17:37:13.873Z"
   },
   {
    "duration": 4,
    "start_time": "2023-11-16T17:37:14.298Z"
   },
   {
    "duration": 4,
    "start_time": "2023-11-16T17:37:14.515Z"
   },
   {
    "duration": 5,
    "start_time": "2023-11-16T17:37:14.697Z"
   },
   {
    "duration": 5,
    "start_time": "2023-11-16T17:37:14.901Z"
   },
   {
    "duration": 8,
    "start_time": "2023-11-16T17:37:15.073Z"
   },
   {
    "duration": 6,
    "start_time": "2023-11-16T17:37:15.239Z"
   },
   {
    "duration": 5,
    "start_time": "2023-11-16T17:37:15.409Z"
   },
   {
    "duration": 4,
    "start_time": "2023-11-16T17:37:15.612Z"
   },
   {
    "duration": 8,
    "start_time": "2023-11-16T17:37:15.799Z"
   },
   {
    "duration": 7,
    "start_time": "2023-11-16T17:37:15.980Z"
   },
   {
    "duration": 3,
    "start_time": "2023-11-16T17:37:16.182Z"
   },
   {
    "duration": 4,
    "start_time": "2023-11-16T17:37:16.472Z"
   },
   {
    "duration": 5,
    "start_time": "2023-11-16T17:37:16.676Z"
   },
   {
    "duration": 5,
    "start_time": "2023-11-16T17:37:17.231Z"
   },
   {
    "duration": 8,
    "start_time": "2023-11-16T17:37:17.332Z"
   },
   {
    "duration": 8,
    "start_time": "2023-11-16T17:37:18.156Z"
   },
   {
    "duration": 7,
    "start_time": "2023-11-16T17:37:18.166Z"
   },
   {
    "duration": 4,
    "start_time": "2023-11-16T17:37:18.259Z"
   },
   {
    "duration": 11,
    "start_time": "2023-11-16T17:37:18.265Z"
   },
   {
    "duration": 5,
    "start_time": "2023-11-16T17:37:18.336Z"
   },
   {
    "duration": 4,
    "start_time": "2023-11-16T17:37:18.514Z"
   },
   {
    "duration": 3,
    "start_time": "2023-11-16T17:37:18.721Z"
   },
   {
    "duration": 18,
    "start_time": "2023-11-16T17:37:18.915Z"
   },
   {
    "duration": 4,
    "start_time": "2023-11-16T17:37:19.360Z"
   },
   {
    "duration": 4,
    "start_time": "2023-11-16T17:37:19.589Z"
   },
   {
    "duration": 9,
    "start_time": "2023-11-16T17:37:19.802Z"
   },
   {
    "duration": 6,
    "start_time": "2023-11-16T17:37:20.000Z"
   },
   {
    "duration": 34,
    "start_time": "2023-11-16T17:37:20.592Z"
   },
   {
    "duration": 10,
    "start_time": "2023-11-16T17:37:20.629Z"
   },
   {
    "duration": 8,
    "start_time": "2023-11-16T17:37:20.694Z"
   },
   {
    "duration": 5,
    "start_time": "2023-11-16T17:37:20.975Z"
   },
   {
    "duration": 4,
    "start_time": "2023-11-16T17:37:21.154Z"
   },
   {
    "duration": 5,
    "start_time": "2023-11-16T17:37:21.502Z"
   },
   {
    "duration": 5,
    "start_time": "2023-11-16T17:37:21.689Z"
   },
   {
    "duration": 5,
    "start_time": "2023-11-16T17:37:22.338Z"
   },
   {
    "duration": 5,
    "start_time": "2023-11-16T17:37:22.346Z"
   },
   {
    "duration": 4,
    "start_time": "2023-11-16T17:37:22.446Z"
   },
   {
    "duration": 6,
    "start_time": "2023-11-16T17:37:22.470Z"
   },
   {
    "duration": 9,
    "start_time": "2023-11-16T17:37:23.040Z"
   },
   {
    "duration": 8,
    "start_time": "2023-11-16T17:37:23.231Z"
   },
   {
    "duration": 20,
    "start_time": "2023-11-16T17:37:23.426Z"
   },
   {
    "duration": 8,
    "start_time": "2023-11-16T17:37:23.936Z"
   },
   {
    "duration": 36,
    "start_time": "2023-11-16T17:37:23.946Z"
   },
   {
    "duration": 7,
    "start_time": "2023-11-16T17:37:24.045Z"
   },
   {
    "duration": 6,
    "start_time": "2023-11-16T17:37:24.193Z"
   },
   {
    "duration": 25,
    "start_time": "2023-11-16T17:37:24.367Z"
   },
   {
    "duration": 7,
    "start_time": "2023-11-16T17:37:24.548Z"
   },
   {
    "duration": 11,
    "start_time": "2023-11-16T17:37:24.719Z"
   },
   {
    "duration": 4,
    "start_time": "2023-11-16T17:37:25.103Z"
   },
   {
    "duration": 12,
    "start_time": "2023-11-16T17:37:25.812Z"
   },
   {
    "duration": 41,
    "start_time": "2023-11-16T17:37:25.826Z"
   },
   {
    "duration": 38,
    "start_time": "2023-11-16T17:37:25.913Z"
   },
   {
    "duration": 3,
    "start_time": "2023-11-16T17:37:26.373Z"
   },
   {
    "duration": 4,
    "start_time": "2023-11-16T17:46:25.067Z"
   },
   {
    "duration": 20,
    "start_time": "2023-11-16T17:46:25.419Z"
   },
   {
    "duration": 24,
    "start_time": "2023-11-16T17:46:25.783Z"
   },
   {
    "duration": 11,
    "start_time": "2023-11-16T17:48:05.192Z"
   },
   {
    "duration": 8,
    "start_time": "2023-11-16T17:48:05.383Z"
   },
   {
    "duration": 192,
    "start_time": "2023-11-16T17:48:05.813Z"
   },
   {
    "duration": 5,
    "start_time": "2023-11-16T19:56:03.788Z"
   },
   {
    "duration": 222,
    "start_time": "2023-11-16T19:56:03.933Z"
   },
   {
    "duration": 21,
    "start_time": "2023-11-16T19:56:04.157Z"
   },
   {
    "duration": 21,
    "start_time": "2023-11-16T19:56:04.286Z"
   },
   {
    "duration": 26,
    "start_time": "2023-11-16T19:56:04.454Z"
   },
   {
    "duration": 22,
    "start_time": "2023-11-16T19:56:04.606Z"
   },
   {
    "duration": 64,
    "start_time": "2023-11-16T19:56:04.761Z"
   },
   {
    "duration": 74,
    "start_time": "2023-11-16T19:56:04.923Z"
   },
   {
    "duration": 21,
    "start_time": "2023-11-16T19:56:05.430Z"
   },
   {
    "duration": 30,
    "start_time": "2023-11-16T19:56:05.601Z"
   },
   {
    "duration": 29,
    "start_time": "2023-11-16T19:56:05.774Z"
   },
   {
    "duration": 62,
    "start_time": "2023-11-16T19:56:05.931Z"
   },
   {
    "duration": 9,
    "start_time": "2023-11-16T19:56:06.256Z"
   },
   {
    "duration": 6,
    "start_time": "2023-11-16T19:56:06.425Z"
   },
   {
    "duration": 7,
    "start_time": "2023-11-16T19:56:06.620Z"
   },
   {
    "duration": 35,
    "start_time": "2023-11-16T19:56:06.790Z"
   },
   {
    "duration": 7,
    "start_time": "2023-11-16T19:56:06.943Z"
   },
   {
    "duration": 6,
    "start_time": "2023-11-16T19:56:07.106Z"
   },
   {
    "duration": 15,
    "start_time": "2023-11-16T19:56:07.267Z"
   },
   {
    "duration": 5,
    "start_time": "2023-11-16T19:56:07.420Z"
   },
   {
    "duration": 5,
    "start_time": "2023-11-16T19:56:07.756Z"
   },
   {
    "duration": 5,
    "start_time": "2023-11-16T19:56:07.922Z"
   },
   {
    "duration": 4,
    "start_time": "2023-11-16T19:56:08.114Z"
   },
   {
    "duration": 5,
    "start_time": "2023-11-16T19:56:08.285Z"
   },
   {
    "duration": 7,
    "start_time": "2023-11-16T19:56:08.457Z"
   },
   {
    "duration": 9,
    "start_time": "2023-11-16T19:56:08.630Z"
   },
   {
    "duration": 4,
    "start_time": "2023-11-16T19:56:08.796Z"
   },
   {
    "duration": 4,
    "start_time": "2023-11-16T19:56:08.975Z"
   },
   {
    "duration": 5,
    "start_time": "2023-11-16T19:56:09.153Z"
   },
   {
    "duration": 4,
    "start_time": "2023-11-16T19:56:09.323Z"
   },
   {
    "duration": 4,
    "start_time": "2023-11-16T19:56:09.484Z"
   },
   {
    "duration": 5,
    "start_time": "2023-11-16T19:56:09.654Z"
   },
   {
    "duration": 4,
    "start_time": "2023-11-16T19:56:09.981Z"
   },
   {
    "duration": 5,
    "start_time": "2023-11-16T19:56:10.140Z"
   },
   {
    "duration": 4,
    "start_time": "2023-11-16T19:56:10.478Z"
   },
   {
    "duration": 5,
    "start_time": "2023-11-16T19:56:10.637Z"
   },
   {
    "duration": 5,
    "start_time": "2023-11-16T19:56:10.797Z"
   },
   {
    "duration": 5,
    "start_time": "2023-11-16T19:56:10.968Z"
   },
   {
    "duration": 7,
    "start_time": "2023-11-16T19:56:11.149Z"
   },
   {
    "duration": 5,
    "start_time": "2023-11-16T19:56:11.308Z"
   },
   {
    "duration": 5,
    "start_time": "2023-11-16T19:56:11.480Z"
   },
   {
    "duration": 5,
    "start_time": "2023-11-16T19:56:11.648Z"
   },
   {
    "duration": 7,
    "start_time": "2023-11-16T19:56:11.834Z"
   },
   {
    "duration": 6,
    "start_time": "2023-11-16T19:56:12.003Z"
   },
   {
    "duration": 5,
    "start_time": "2023-11-16T19:56:12.179Z"
   },
   {
    "duration": 4,
    "start_time": "2023-11-16T19:56:12.342Z"
   },
   {
    "duration": 4,
    "start_time": "2023-11-16T19:56:12.507Z"
   },
   {
    "duration": 4,
    "start_time": "2023-11-16T19:56:12.673Z"
   },
   {
    "duration": 11,
    "start_time": "2023-11-16T19:56:12.828Z"
   },
   {
    "duration": 8,
    "start_time": "2023-11-16T19:56:12.999Z"
   },
   {
    "duration": 6,
    "start_time": "2023-11-16T19:56:13.168Z"
   },
   {
    "duration": 6,
    "start_time": "2023-11-16T19:56:13.326Z"
   },
   {
    "duration": 7,
    "start_time": "2023-11-16T19:56:13.484Z"
   },
   {
    "duration": 4,
    "start_time": "2023-11-16T19:56:13.648Z"
   },
   {
    "duration": 4,
    "start_time": "2023-11-16T19:56:13.806Z"
   },
   {
    "duration": 3,
    "start_time": "2023-11-16T19:56:13.961Z"
   },
   {
    "duration": 18,
    "start_time": "2023-11-16T19:56:14.143Z"
   },
   {
    "duration": 4,
    "start_time": "2023-11-16T19:56:14.510Z"
   },
   {
    "duration": 5,
    "start_time": "2023-11-16T19:56:14.696Z"
   },
   {
    "duration": 7,
    "start_time": "2023-11-16T19:56:14.884Z"
   },
   {
    "duration": 6,
    "start_time": "2023-11-16T19:56:15.065Z"
   },
   {
    "duration": 29,
    "start_time": "2023-11-16T19:56:15.242Z"
   },
   {
    "duration": 6,
    "start_time": "2023-11-16T19:56:15.416Z"
   },
   {
    "duration": 5,
    "start_time": "2023-11-16T19:56:15.578Z"
   },
   {
    "duration": 8,
    "start_time": "2023-11-16T19:56:15.906Z"
   },
   {
    "duration": 9,
    "start_time": "2023-11-16T19:56:16.070Z"
   },
   {
    "duration": 5,
    "start_time": "2023-11-16T19:56:16.229Z"
   },
   {
    "duration": 5,
    "start_time": "2023-11-16T19:56:16.381Z"
   },
   {
    "duration": 4,
    "start_time": "2023-11-16T19:56:16.544Z"
   },
   {
    "duration": 5,
    "start_time": "2023-11-16T19:56:16.701Z"
   },
   {
    "duration": 5,
    "start_time": "2023-11-16T19:56:16.862Z"
   },
   {
    "duration": 4,
    "start_time": "2023-11-16T19:56:17.025Z"
   },
   {
    "duration": 9,
    "start_time": "2023-11-16T19:56:17.515Z"
   },
   {
    "duration": 8,
    "start_time": "2023-11-16T19:56:17.713Z"
   },
   {
    "duration": 20,
    "start_time": "2023-11-16T19:56:17.884Z"
   },
   {
    "duration": 8,
    "start_time": "2023-11-16T19:56:18.066Z"
   },
   {
    "duration": 8,
    "start_time": "2023-11-16T19:56:18.225Z"
   },
   {
    "duration": 6,
    "start_time": "2023-11-16T19:56:18.408Z"
   },
   {
    "duration": 7,
    "start_time": "2023-11-16T19:56:18.574Z"
   },
   {
    "duration": 21,
    "start_time": "2023-11-16T19:56:18.754Z"
   },
   {
    "duration": 7,
    "start_time": "2023-11-16T19:56:18.934Z"
   },
   {
    "duration": 7,
    "start_time": "2023-11-16T19:56:19.119Z"
   },
   {
    "duration": 3,
    "start_time": "2023-11-16T19:56:19.869Z"
   },
   {
    "duration": 11,
    "start_time": "2023-11-16T19:56:19.874Z"
   },
   {
    "duration": 19,
    "start_time": "2023-11-16T19:56:20.011Z"
   },
   {
    "duration": 26,
    "start_time": "2023-11-16T19:56:20.192Z"
   },
   {
    "duration": 3,
    "start_time": "2023-11-16T19:56:20.588Z"
   },
   {
    "duration": 3,
    "start_time": "2023-11-16T19:56:23.157Z"
   },
   {
    "duration": 20,
    "start_time": "2023-11-16T19:56:23.348Z"
   },
   {
    "duration": 9,
    "start_time": "2023-11-16T19:56:23.546Z"
   },
   {
    "duration": 167,
    "start_time": "2023-11-16T19:56:23.731Z"
   },
   {
    "duration": 14105,
    "start_time": "2023-11-16T19:58:42.238Z"
   },
   {
    "duration": 14078,
    "start_time": "2023-11-16T19:59:14.824Z"
   },
   {
    "duration": 9,
    "start_time": "2023-11-16T20:08:25.234Z"
   },
   {
    "duration": 4,
    "start_time": "2023-11-16T20:21:33.016Z"
   },
   {
    "duration": 242,
    "start_time": "2023-11-16T20:21:34.944Z"
   },
   {
    "duration": 20,
    "start_time": "2023-11-16T20:21:35.283Z"
   },
   {
    "duration": 48,
    "start_time": "2023-11-16T20:21:36.038Z"
   },
   {
    "duration": 44,
    "start_time": "2023-11-16T20:21:36.299Z"
   },
   {
    "duration": 29,
    "start_time": "2023-11-16T20:21:36.479Z"
   },
   {
    "duration": 85,
    "start_time": "2023-11-16T20:21:36.661Z"
   },
   {
    "duration": 87,
    "start_time": "2023-11-16T20:21:37.066Z"
   },
   {
    "duration": 14,
    "start_time": "2023-11-16T20:21:38.152Z"
   },
   {
    "duration": 38,
    "start_time": "2023-11-16T20:21:38.551Z"
   },
   {
    "duration": 22,
    "start_time": "2023-11-16T20:21:38.737Z"
   },
   {
    "duration": 53,
    "start_time": "2023-11-16T20:21:38.935Z"
   },
   {
    "duration": 8,
    "start_time": "2023-11-16T20:21:39.449Z"
   },
   {
    "duration": 5,
    "start_time": "2023-11-16T20:21:39.633Z"
   },
   {
    "duration": 8,
    "start_time": "2023-11-16T20:21:39.820Z"
   },
   {
    "duration": 26,
    "start_time": "2023-11-16T20:21:40.006Z"
   },
   {
    "duration": 7,
    "start_time": "2023-11-16T20:21:40.199Z"
   },
   {
    "duration": 5,
    "start_time": "2023-11-16T20:21:40.393Z"
   },
   {
    "duration": 14,
    "start_time": "2023-11-16T20:21:40.584Z"
   },
   {
    "duration": 9,
    "start_time": "2023-11-16T20:21:40.776Z"
   },
   {
    "duration": 5,
    "start_time": "2023-11-16T20:21:41.135Z"
   },
   {
    "duration": 4,
    "start_time": "2023-11-16T20:21:41.297Z"
   },
   {
    "duration": 10,
    "start_time": "2023-11-16T20:21:41.465Z"
   },
   {
    "duration": 5,
    "start_time": "2023-11-16T20:21:41.640Z"
   },
   {
    "duration": 6,
    "start_time": "2023-11-16T20:21:41.827Z"
   },
   {
    "duration": 8,
    "start_time": "2023-11-16T20:21:42.039Z"
   },
   {
    "duration": 4,
    "start_time": "2023-11-16T20:21:42.231Z"
   },
   {
    "duration": 5,
    "start_time": "2023-11-16T20:21:42.417Z"
   },
   {
    "duration": 4,
    "start_time": "2023-11-16T20:21:42.586Z"
   },
   {
    "duration": 6,
    "start_time": "2023-11-16T20:21:42.783Z"
   },
   {
    "duration": 5,
    "start_time": "2023-11-16T20:21:42.949Z"
   },
   {
    "duration": 5,
    "start_time": "2023-11-16T20:21:43.126Z"
   },
   {
    "duration": 4,
    "start_time": "2023-11-16T20:21:43.483Z"
   },
   {
    "duration": 7,
    "start_time": "2023-11-16T20:21:43.666Z"
   },
   {
    "duration": 6,
    "start_time": "2023-11-16T20:21:44.076Z"
   },
   {
    "duration": 7,
    "start_time": "2023-11-16T20:21:44.260Z"
   },
   {
    "duration": 5,
    "start_time": "2023-11-16T20:21:44.430Z"
   },
   {
    "duration": 6,
    "start_time": "2023-11-16T20:21:44.613Z"
   },
   {
    "duration": 11,
    "start_time": "2023-11-16T20:21:44.784Z"
   },
   {
    "duration": 14,
    "start_time": "2023-11-16T20:21:44.963Z"
   },
   {
    "duration": 4,
    "start_time": "2023-11-16T20:21:45.155Z"
   },
   {
    "duration": 5,
    "start_time": "2023-11-16T20:21:45.339Z"
   },
   {
    "duration": 8,
    "start_time": "2023-11-16T20:21:45.508Z"
   },
   {
    "duration": 6,
    "start_time": "2023-11-16T20:21:45.701Z"
   },
   {
    "duration": 16,
    "start_time": "2023-11-16T20:21:45.865Z"
   },
   {
    "duration": 4,
    "start_time": "2023-11-16T20:21:46.023Z"
   },
   {
    "duration": 4,
    "start_time": "2023-11-16T20:21:46.191Z"
   },
   {
    "duration": 4,
    "start_time": "2023-11-16T20:21:46.359Z"
   },
   {
    "duration": 7,
    "start_time": "2023-11-16T20:21:46.530Z"
   },
   {
    "duration": 96,
    "start_time": "2023-11-16T20:21:46.688Z"
   },
   {
    "duration": 6,
    "start_time": "2023-11-16T20:21:46.870Z"
   },
   {
    "duration": 4,
    "start_time": "2023-11-16T20:21:47.017Z"
   },
   {
    "duration": 5,
    "start_time": "2023-11-16T20:21:47.188Z"
   },
   {
    "duration": 5,
    "start_time": "2023-11-16T20:21:47.354Z"
   },
   {
    "duration": 5,
    "start_time": "2023-11-16T20:21:47.521Z"
   },
   {
    "duration": 4,
    "start_time": "2023-11-16T20:21:47.689Z"
   },
   {
    "duration": 24,
    "start_time": "2023-11-16T20:21:47.859Z"
   },
   {
    "duration": 4,
    "start_time": "2023-11-16T20:21:48.195Z"
   },
   {
    "duration": 5,
    "start_time": "2023-11-16T20:21:48.372Z"
   },
   {
    "duration": 8,
    "start_time": "2023-11-16T20:21:48.553Z"
   },
   {
    "duration": 6,
    "start_time": "2023-11-16T20:21:48.726Z"
   },
   {
    "duration": 31,
    "start_time": "2023-11-16T20:21:48.886Z"
   },
   {
    "duration": 20,
    "start_time": "2023-11-16T20:21:49.056Z"
   },
   {
    "duration": 6,
    "start_time": "2023-11-16T20:21:49.231Z"
   },
   {
    "duration": 7,
    "start_time": "2023-11-16T20:21:49.581Z"
   },
   {
    "duration": 5,
    "start_time": "2023-11-16T20:21:49.754Z"
   },
   {
    "duration": 5,
    "start_time": "2023-11-16T20:21:49.919Z"
   },
   {
    "duration": 5,
    "start_time": "2023-11-16T20:21:50.098Z"
   },
   {
    "duration": 11,
    "start_time": "2023-11-16T20:21:50.272Z"
   },
   {
    "duration": 5,
    "start_time": "2023-11-16T20:21:50.447Z"
   },
   {
    "duration": 6,
    "start_time": "2023-11-16T20:21:50.615Z"
   },
   {
    "duration": 4,
    "start_time": "2023-11-16T20:21:50.785Z"
   },
   {
    "duration": 9,
    "start_time": "2023-11-16T20:21:51.328Z"
   },
   {
    "duration": 8,
    "start_time": "2023-11-16T20:21:51.493Z"
   },
   {
    "duration": 29,
    "start_time": "2023-11-16T20:21:51.662Z"
   },
   {
    "duration": 8,
    "start_time": "2023-11-16T20:21:51.892Z"
   },
   {
    "duration": 11,
    "start_time": "2023-11-16T20:21:52.081Z"
   },
   {
    "duration": 7,
    "start_time": "2023-11-16T20:21:52.251Z"
   },
   {
    "duration": 7,
    "start_time": "2023-11-16T20:21:52.436Z"
   },
   {
    "duration": 34,
    "start_time": "2023-11-16T20:21:52.623Z"
   },
   {
    "duration": 17,
    "start_time": "2023-11-16T20:21:52.784Z"
   },
   {
    "duration": 11,
    "start_time": "2023-11-16T20:21:52.972Z"
   },
   {
    "duration": 4,
    "start_time": "2023-11-16T20:21:53.342Z"
   },
   {
    "duration": 9,
    "start_time": "2023-11-16T20:21:53.748Z"
   },
   {
    "duration": 34,
    "start_time": "2023-11-16T20:21:53.939Z"
   },
   {
    "duration": 27,
    "start_time": "2023-11-16T20:21:54.127Z"
   },
   {
    "duration": 3,
    "start_time": "2023-11-16T20:21:54.519Z"
   },
   {
    "duration": 3,
    "start_time": "2023-11-16T20:21:57.647Z"
   },
   {
    "duration": 23,
    "start_time": "2023-11-16T20:21:58.184Z"
   },
   {
    "duration": 11,
    "start_time": "2023-11-16T20:21:58.841Z"
   },
   {
    "duration": 200,
    "start_time": "2023-11-16T20:21:59.520Z"
   },
   {
    "duration": 15677,
    "start_time": "2023-11-16T20:22:00.635Z"
   },
   {
    "duration": 241910,
    "start_time": "2023-11-16T20:22:16.314Z"
   },
   {
    "duration": 16321,
    "start_time": "2023-11-16T20:26:53.661Z"
   },
   {
    "duration": 101718,
    "start_time": "2023-11-16T20:27:09.984Z"
   },
   {
    "duration": 4,
    "start_time": "2023-11-16T20:41:23.232Z"
   },
   {
    "duration": 13,
    "start_time": "2023-11-16T20:55:11.815Z"
   },
   {
    "duration": 10,
    "start_time": "2023-11-16T20:55:17.326Z"
   },
   {
    "duration": 4,
    "start_time": "2023-11-16T20:55:39.454Z"
   },
   {
    "duration": 48115,
    "start_time": "2023-11-16T20:55:44.953Z"
   },
   {
    "duration": 3,
    "start_time": "2023-11-16T21:13:28.963Z"
   },
   {
    "duration": 197,
    "start_time": "2023-11-16T21:13:29.636Z"
   },
   {
    "duration": 21,
    "start_time": "2023-11-16T21:13:30.164Z"
   },
   {
    "duration": 29,
    "start_time": "2023-11-16T21:13:30.575Z"
   },
   {
    "duration": 27,
    "start_time": "2023-11-16T21:13:30.779Z"
   },
   {
    "duration": 21,
    "start_time": "2023-11-16T21:13:31.008Z"
   },
   {
    "duration": 89,
    "start_time": "2023-11-16T21:13:31.217Z"
   },
   {
    "duration": 82,
    "start_time": "2023-11-16T21:13:31.427Z"
   },
   {
    "duration": 15,
    "start_time": "2023-11-16T21:13:31.919Z"
   },
   {
    "duration": 40,
    "start_time": "2023-11-16T21:13:32.074Z"
   },
   {
    "duration": 31,
    "start_time": "2023-11-16T21:13:32.247Z"
   },
   {
    "duration": 61,
    "start_time": "2023-11-16T21:13:32.400Z"
   },
   {
    "duration": 8,
    "start_time": "2023-11-16T21:13:32.724Z"
   },
   {
    "duration": 5,
    "start_time": "2023-11-16T21:13:32.890Z"
   },
   {
    "duration": 7,
    "start_time": "2023-11-16T21:13:33.040Z"
   },
   {
    "duration": 24,
    "start_time": "2023-11-16T21:13:33.197Z"
   },
   {
    "duration": 6,
    "start_time": "2023-11-16T21:13:33.355Z"
   },
   {
    "duration": 8,
    "start_time": "2023-11-16T21:13:33.526Z"
   },
   {
    "duration": 13,
    "start_time": "2023-11-16T21:13:33.693Z"
   },
   {
    "duration": 6,
    "start_time": "2023-11-16T21:13:33.853Z"
   },
   {
    "duration": 5,
    "start_time": "2023-11-16T21:13:34.185Z"
   },
   {
    "duration": 6,
    "start_time": "2023-11-16T21:13:34.336Z"
   },
   {
    "duration": 5,
    "start_time": "2023-11-16T21:13:34.496Z"
   },
   {
    "duration": 4,
    "start_time": "2023-11-16T21:13:34.648Z"
   },
   {
    "duration": 8,
    "start_time": "2023-11-16T21:13:34.815Z"
   },
   {
    "duration": 11,
    "start_time": "2023-11-16T21:13:34.984Z"
   },
   {
    "duration": 5,
    "start_time": "2023-11-16T21:13:35.163Z"
   },
   {
    "duration": 5,
    "start_time": "2023-11-16T21:13:35.332Z"
   },
   {
    "duration": 6,
    "start_time": "2023-11-16T21:13:35.506Z"
   },
   {
    "duration": 4,
    "start_time": "2023-11-16T21:13:35.671Z"
   },
   {
    "duration": 5,
    "start_time": "2023-11-16T21:13:35.839Z"
   },
   {
    "duration": 5,
    "start_time": "2023-11-16T21:13:36.013Z"
   },
   {
    "duration": 5,
    "start_time": "2023-11-16T21:13:36.351Z"
   },
   {
    "duration": 5,
    "start_time": "2023-11-16T21:13:36.515Z"
   },
   {
    "duration": 8,
    "start_time": "2023-11-16T21:13:36.865Z"
   },
   {
    "duration": 5,
    "start_time": "2023-11-16T21:13:37.040Z"
   },
   {
    "duration": 5,
    "start_time": "2023-11-16T21:13:37.216Z"
   },
   {
    "duration": 5,
    "start_time": "2023-11-16T21:13:37.385Z"
   },
   {
    "duration": 10,
    "start_time": "2023-11-16T21:13:37.551Z"
   },
   {
    "duration": 7,
    "start_time": "2023-11-16T21:13:37.721Z"
   },
   {
    "duration": 6,
    "start_time": "2023-11-16T21:13:37.912Z"
   },
   {
    "duration": 5,
    "start_time": "2023-11-16T21:13:38.080Z"
   },
   {
    "duration": 10,
    "start_time": "2023-11-16T21:13:38.246Z"
   },
   {
    "duration": 8,
    "start_time": "2023-11-16T21:13:38.422Z"
   },
   {
    "duration": 5,
    "start_time": "2023-11-16T21:13:38.601Z"
   },
   {
    "duration": 5,
    "start_time": "2023-11-16T21:13:38.785Z"
   },
   {
    "duration": 5,
    "start_time": "2023-11-16T21:13:38.958Z"
   },
   {
    "duration": 4,
    "start_time": "2023-11-16T21:13:39.143Z"
   },
   {
    "duration": 9,
    "start_time": "2023-11-16T21:13:39.329Z"
   },
   {
    "duration": 9,
    "start_time": "2023-11-16T21:13:39.510Z"
   },
   {
    "duration": 5,
    "start_time": "2023-11-16T21:13:39.691Z"
   },
   {
    "duration": 5,
    "start_time": "2023-11-16T21:13:39.874Z"
   },
   {
    "duration": 6,
    "start_time": "2023-11-16T21:13:40.048Z"
   },
   {
    "duration": 6,
    "start_time": "2023-11-16T21:13:40.223Z"
   },
   {
    "duration": 4,
    "start_time": "2023-11-16T21:13:40.400Z"
   },
   {
    "duration": 3,
    "start_time": "2023-11-16T21:13:40.581Z"
   },
   {
    "duration": 18,
    "start_time": "2023-11-16T21:13:40.758Z"
   },
   {
    "duration": 4,
    "start_time": "2023-11-16T21:13:41.113Z"
   },
   {
    "duration": 5,
    "start_time": "2023-11-16T21:13:41.291Z"
   },
   {
    "duration": 11,
    "start_time": "2023-11-16T21:13:41.471Z"
   },
   {
    "duration": 8,
    "start_time": "2023-11-16T21:13:41.640Z"
   },
   {
    "duration": 36,
    "start_time": "2023-11-16T21:13:41.811Z"
   },
   {
    "duration": 7,
    "start_time": "2023-11-16T21:13:41.996Z"
   },
   {
    "duration": 6,
    "start_time": "2023-11-16T21:13:42.175Z"
   },
   {
    "duration": 5,
    "start_time": "2023-11-16T21:13:42.529Z"
   },
   {
    "duration": 5,
    "start_time": "2023-11-16T21:13:42.709Z"
   },
   {
    "duration": 5,
    "start_time": "2023-11-16T21:13:42.885Z"
   },
   {
    "duration": 5,
    "start_time": "2023-11-16T21:13:43.061Z"
   },
   {
    "duration": 5,
    "start_time": "2023-11-16T21:13:43.244Z"
   },
   {
    "duration": 5,
    "start_time": "2023-11-16T21:13:43.431Z"
   },
   {
    "duration": 5,
    "start_time": "2023-11-16T21:13:43.610Z"
   },
   {
    "duration": 5,
    "start_time": "2023-11-16T21:13:43.803Z"
   },
   {
    "duration": 10,
    "start_time": "2023-11-16T21:13:44.399Z"
   },
   {
    "duration": 9,
    "start_time": "2023-11-16T21:13:44.568Z"
   },
   {
    "duration": 20,
    "start_time": "2023-11-16T21:13:44.763Z"
   },
   {
    "duration": 11,
    "start_time": "2023-11-16T21:13:44.942Z"
   },
   {
    "duration": 11,
    "start_time": "2023-11-16T21:13:45.120Z"
   },
   {
    "duration": 8,
    "start_time": "2023-11-16T21:13:45.311Z"
   },
   {
    "duration": 8,
    "start_time": "2023-11-16T21:13:45.483Z"
   },
   {
    "duration": 21,
    "start_time": "2023-11-16T21:13:45.660Z"
   },
   {
    "duration": 10,
    "start_time": "2023-11-16T21:13:45.848Z"
   },
   {
    "duration": 10,
    "start_time": "2023-11-16T21:13:46.039Z"
   },
   {
    "duration": 4,
    "start_time": "2023-11-16T21:13:46.441Z"
   },
   {
    "duration": 10,
    "start_time": "2023-11-16T21:13:46.887Z"
   },
   {
    "duration": 30,
    "start_time": "2023-11-16T21:13:47.083Z"
   },
   {
    "duration": 40,
    "start_time": "2023-11-16T21:13:47.281Z"
   },
   {
    "duration": 4,
    "start_time": "2023-11-16T21:13:47.649Z"
   },
   {
    "duration": 3,
    "start_time": "2023-11-16T21:13:49.483Z"
   },
   {
    "duration": 18,
    "start_time": "2023-11-16T21:13:49.663Z"
   },
   {
    "duration": 10,
    "start_time": "2023-11-16T21:13:49.851Z"
   },
   {
    "duration": 166,
    "start_time": "2023-11-16T21:13:50.025Z"
   },
   {
    "duration": 50413,
    "start_time": "2023-11-16T21:13:50.682Z"
   },
   {
    "duration": 745528,
    "start_time": "2023-11-16T21:14:41.097Z"
   },
   {
    "duration": 1581,
    "start_time": "2023-11-17T08:42:39.476Z"
   },
   {
    "duration": 899,
    "start_time": "2023-11-17T08:42:41.059Z"
   },
   {
    "duration": 24,
    "start_time": "2023-11-17T08:42:41.960Z"
   },
   {
    "duration": 22,
    "start_time": "2023-11-17T08:42:44.384Z"
   },
   {
    "duration": 27,
    "start_time": "2023-11-17T08:42:45.223Z"
   },
   {
    "duration": 18,
    "start_time": "2023-11-17T08:42:45.681Z"
   },
   {
    "duration": 62,
    "start_time": "2023-11-17T08:42:45.921Z"
   },
   {
    "duration": 72,
    "start_time": "2023-11-17T08:42:46.140Z"
   },
   {
    "duration": 15,
    "start_time": "2023-11-17T08:42:46.697Z"
   },
   {
    "duration": 28,
    "start_time": "2023-11-17T08:42:46.859Z"
   },
   {
    "duration": 21,
    "start_time": "2023-11-17T08:42:47.043Z"
   },
   {
    "duration": 58,
    "start_time": "2023-11-17T08:42:47.216Z"
   },
   {
    "duration": 7,
    "start_time": "2023-11-17T08:42:47.574Z"
   },
   {
    "duration": 5,
    "start_time": "2023-11-17T08:42:47.747Z"
   },
   {
    "duration": 7,
    "start_time": "2023-11-17T08:42:47.913Z"
   },
   {
    "duration": 24,
    "start_time": "2023-11-17T08:42:48.250Z"
   },
   {
    "duration": 7,
    "start_time": "2023-11-17T08:42:48.471Z"
   },
   {
    "duration": 5,
    "start_time": "2023-11-17T08:42:48.654Z"
   },
   {
    "duration": 16,
    "start_time": "2023-11-17T08:42:48.825Z"
   },
   {
    "duration": 5,
    "start_time": "2023-11-17T08:42:48.987Z"
   },
   {
    "duration": 4,
    "start_time": "2023-11-17T08:42:49.313Z"
   },
   {
    "duration": 4,
    "start_time": "2023-11-17T08:42:49.679Z"
   },
   {
    "duration": 4,
    "start_time": "2023-11-17T08:42:49.842Z"
   },
   {
    "duration": 4,
    "start_time": "2023-11-17T08:42:50.015Z"
   },
   {
    "duration": 7,
    "start_time": "2023-11-17T08:42:50.212Z"
   },
   {
    "duration": 6,
    "start_time": "2023-11-17T08:42:50.402Z"
   },
   {
    "duration": 6,
    "start_time": "2023-11-17T08:42:50.578Z"
   },
   {
    "duration": 6,
    "start_time": "2023-11-17T08:42:50.773Z"
   },
   {
    "duration": 5,
    "start_time": "2023-11-17T08:42:50.957Z"
   },
   {
    "duration": 5,
    "start_time": "2023-11-17T08:42:51.138Z"
   },
   {
    "duration": 5,
    "start_time": "2023-11-17T08:42:51.329Z"
   },
   {
    "duration": 5,
    "start_time": "2023-11-17T08:42:51.513Z"
   },
   {
    "duration": 5,
    "start_time": "2023-11-17T08:42:51.903Z"
   },
   {
    "duration": 4,
    "start_time": "2023-11-17T08:42:52.100Z"
   },
   {
    "duration": 4,
    "start_time": "2023-11-17T08:42:52.503Z"
   },
   {
    "duration": 4,
    "start_time": "2023-11-17T08:42:52.715Z"
   },
   {
    "duration": 5,
    "start_time": "2023-11-17T08:42:52.908Z"
   },
   {
    "duration": 4,
    "start_time": "2023-11-17T08:42:53.095Z"
   },
   {
    "duration": 7,
    "start_time": "2023-11-17T08:42:53.275Z"
   },
   {
    "duration": 6,
    "start_time": "2023-11-17T08:42:53.475Z"
   },
   {
    "duration": 5,
    "start_time": "2023-11-17T08:42:53.676Z"
   },
   {
    "duration": 5,
    "start_time": "2023-11-17T08:42:53.870Z"
   },
   {
    "duration": 6,
    "start_time": "2023-11-17T08:42:54.073Z"
   },
   {
    "duration": 6,
    "start_time": "2023-11-17T08:42:54.272Z"
   },
   {
    "duration": 4,
    "start_time": "2023-11-17T08:42:54.477Z"
   },
   {
    "duration": 5,
    "start_time": "2023-11-17T08:42:54.645Z"
   },
   {
    "duration": 5,
    "start_time": "2023-11-17T08:42:54.843Z"
   },
   {
    "duration": 5,
    "start_time": "2023-11-17T08:42:55.043Z"
   },
   {
    "duration": 7,
    "start_time": "2023-11-17T08:42:55.241Z"
   },
   {
    "duration": 6,
    "start_time": "2023-11-17T08:42:55.506Z"
   },
   {
    "duration": 4,
    "start_time": "2023-11-17T08:42:55.673Z"
   },
   {
    "duration": 4,
    "start_time": "2023-11-17T08:42:55.937Z"
   },
   {
    "duration": 4,
    "start_time": "2023-11-17T08:42:56.140Z"
   },
   {
    "duration": 4,
    "start_time": "2023-11-17T08:42:56.375Z"
   },
   {
    "duration": 4,
    "start_time": "2023-11-17T08:42:56.585Z"
   },
   {
    "duration": 3,
    "start_time": "2023-11-17T08:42:58.508Z"
   },
   {
    "duration": 16,
    "start_time": "2023-11-17T08:42:58.719Z"
   },
   {
    "duration": 3,
    "start_time": "2023-11-17T08:42:59.172Z"
   },
   {
    "duration": 4,
    "start_time": "2023-11-17T08:42:59.412Z"
   },
   {
    "duration": 6,
    "start_time": "2023-11-17T08:42:59.649Z"
   },
   {
    "duration": 6,
    "start_time": "2023-11-17T08:42:59.883Z"
   },
   {
    "duration": 29,
    "start_time": "2023-11-17T08:43:00.132Z"
   },
   {
    "duration": 7,
    "start_time": "2023-11-17T08:43:00.599Z"
   },
   {
    "duration": 5,
    "start_time": "2023-11-17T08:43:00.849Z"
   },
   {
    "duration": 5,
    "start_time": "2023-11-17T08:43:01.318Z"
   },
   {
    "duration": 5,
    "start_time": "2023-11-17T08:43:01.529Z"
   },
   {
    "duration": 4,
    "start_time": "2023-11-17T08:43:01.736Z"
   },
   {
    "duration": 4,
    "start_time": "2023-11-17T08:43:01.916Z"
   },
   {
    "duration": 125,
    "start_time": "2023-11-17T08:43:02.120Z"
   },
   {
    "duration": 173,
    "start_time": "2023-11-17T08:43:02.324Z"
   },
   {
    "duration": 123,
    "start_time": "2023-11-17T08:43:02.528Z"
   },
   {
    "duration": 218,
    "start_time": "2023-11-17T08:43:02.718Z"
   },
   {
    "duration": 8,
    "start_time": "2023-11-17T08:43:03.338Z"
   },
   {
    "duration": 8,
    "start_time": "2023-11-17T08:43:03.558Z"
   },
   {
    "duration": 70,
    "start_time": "2023-11-17T08:43:03.752Z"
   },
   {
    "duration": 8,
    "start_time": "2023-11-17T08:43:03.984Z"
   },
   {
    "duration": 81,
    "start_time": "2023-11-17T08:43:04.170Z"
   },
   {
    "duration": 206,
    "start_time": "2023-11-17T08:43:04.376Z"
   },
   {
    "duration": 424,
    "start_time": "2023-11-17T08:43:04.583Z"
   },
   {
    "duration": 487,
    "start_time": "2023-11-17T08:43:05.008Z"
   },
   {
    "duration": 217,
    "start_time": "2023-11-17T08:43:05.497Z"
   },
   {
    "duration": 18,
    "start_time": "2023-11-17T08:43:05.716Z"
   },
   {
    "duration": 3,
    "start_time": "2023-11-17T08:43:06.439Z"
   },
   {
    "duration": 8,
    "start_time": "2023-11-17T08:43:06.842Z"
   },
   {
    "duration": 22,
    "start_time": "2023-11-17T08:43:07.041Z"
   },
   {
    "duration": 26,
    "start_time": "2023-11-17T08:43:07.296Z"
   },
   {
    "duration": 3,
    "start_time": "2023-11-17T08:43:07.717Z"
   },
   {
    "duration": 3,
    "start_time": "2023-11-17T08:43:09.826Z"
   },
   {
    "duration": 19,
    "start_time": "2023-11-17T08:43:10.380Z"
   },
   {
    "duration": 12,
    "start_time": "2023-11-17T08:43:10.615Z"
   },
   {
    "duration": 181,
    "start_time": "2023-11-17T08:43:10.812Z"
   },
   {
    "duration": 47897,
    "start_time": "2023-11-17T08:43:11.633Z"
   },
   {
    "duration": 3,
    "start_time": "2023-11-17T08:58:41.092Z"
   },
   {
    "duration": 227,
    "start_time": "2023-11-17T08:58:42.000Z"
   },
   {
    "duration": 18,
    "start_time": "2023-11-17T08:58:42.361Z"
   },
   {
    "duration": 20,
    "start_time": "2023-11-17T08:58:42.565Z"
   },
   {
    "duration": 25,
    "start_time": "2023-11-17T08:58:42.955Z"
   },
   {
    "duration": 20,
    "start_time": "2023-11-17T08:58:43.120Z"
   },
   {
    "duration": 63,
    "start_time": "2023-11-17T08:58:43.307Z"
   },
   {
    "duration": 71,
    "start_time": "2023-11-17T08:58:43.479Z"
   },
   {
    "duration": 14,
    "start_time": "2023-11-17T08:58:44.009Z"
   },
   {
    "duration": 28,
    "start_time": "2023-11-17T08:58:44.216Z"
   },
   {
    "duration": 22,
    "start_time": "2023-11-17T08:58:44.393Z"
   },
   {
    "duration": 45,
    "start_time": "2023-11-17T08:58:44.567Z"
   },
   {
    "duration": 7,
    "start_time": "2023-11-17T08:58:44.920Z"
   },
   {
    "duration": 5,
    "start_time": "2023-11-17T08:58:45.082Z"
   },
   {
    "duration": 7,
    "start_time": "2023-11-17T08:58:45.240Z"
   },
   {
    "duration": 24,
    "start_time": "2023-11-17T08:58:45.402Z"
   },
   {
    "duration": 7,
    "start_time": "2023-11-17T08:58:45.571Z"
   },
   {
    "duration": 5,
    "start_time": "2023-11-17T08:58:45.751Z"
   },
   {
    "duration": 13,
    "start_time": "2023-11-17T08:58:45.925Z"
   },
   {
    "duration": 5,
    "start_time": "2023-11-17T08:58:46.103Z"
   },
   {
    "duration": 4,
    "start_time": "2023-11-17T08:58:46.457Z"
   },
   {
    "duration": 4,
    "start_time": "2023-11-17T08:58:46.637Z"
   },
   {
    "duration": 4,
    "start_time": "2023-11-17T08:58:46.816Z"
   },
   {
    "duration": 4,
    "start_time": "2023-11-17T08:58:46.981Z"
   },
   {
    "duration": 5,
    "start_time": "2023-11-17T08:58:47.157Z"
   },
   {
    "duration": 9,
    "start_time": "2023-11-17T08:58:47.332Z"
   },
   {
    "duration": 4,
    "start_time": "2023-11-17T08:58:47.499Z"
   },
   {
    "duration": 4,
    "start_time": "2023-11-17T08:58:47.687Z"
   },
   {
    "duration": 4,
    "start_time": "2023-11-17T08:58:47.866Z"
   },
   {
    "duration": 3,
    "start_time": "2023-11-17T08:58:48.047Z"
   },
   {
    "duration": 4,
    "start_time": "2023-11-17T08:58:48.235Z"
   },
   {
    "duration": 4,
    "start_time": "2023-11-17T08:58:48.414Z"
   },
   {
    "duration": 4,
    "start_time": "2023-11-17T08:58:48.757Z"
   },
   {
    "duration": 4,
    "start_time": "2023-11-17T08:58:48.930Z"
   },
   {
    "duration": 4,
    "start_time": "2023-11-17T08:58:49.282Z"
   },
   {
    "duration": 4,
    "start_time": "2023-11-17T08:58:49.458Z"
   },
   {
    "duration": 4,
    "start_time": "2023-11-17T08:58:49.623Z"
   },
   {
    "duration": 4,
    "start_time": "2023-11-17T08:58:49.823Z"
   },
   {
    "duration": 7,
    "start_time": "2023-11-17T08:58:49.988Z"
   },
   {
    "duration": 6,
    "start_time": "2023-11-17T08:58:50.160Z"
   },
   {
    "duration": 5,
    "start_time": "2023-11-17T08:58:50.333Z"
   },
   {
    "duration": 4,
    "start_time": "2023-11-17T08:58:50.498Z"
   },
   {
    "duration": 7,
    "start_time": "2023-11-17T08:58:50.676Z"
   },
   {
    "duration": 5,
    "start_time": "2023-11-17T08:58:50.856Z"
   },
   {
    "duration": 4,
    "start_time": "2023-11-17T08:58:51.249Z"
   },
   {
    "duration": 4,
    "start_time": "2023-11-17T08:58:51.419Z"
   },
   {
    "duration": 4,
    "start_time": "2023-11-17T08:58:51.617Z"
   },
   {
    "duration": 4,
    "start_time": "2023-11-17T08:58:51.815Z"
   },
   {
    "duration": 7,
    "start_time": "2023-11-17T08:58:52.009Z"
   },
   {
    "duration": 6,
    "start_time": "2023-11-17T08:58:52.182Z"
   },
   {
    "duration": 4,
    "start_time": "2023-11-17T08:58:52.368Z"
   },
   {
    "duration": 5,
    "start_time": "2023-11-17T08:58:52.557Z"
   },
   {
    "duration": 5,
    "start_time": "2023-11-17T08:58:52.743Z"
   },
   {
    "duration": 4,
    "start_time": "2023-11-17T08:58:52.923Z"
   },
   {
    "duration": 4,
    "start_time": "2023-11-17T08:58:53.109Z"
   },
   {
    "duration": 2,
    "start_time": "2023-11-17T08:58:53.289Z"
   },
   {
    "duration": 16,
    "start_time": "2023-11-17T08:58:53.465Z"
   },
   {
    "duration": 3,
    "start_time": "2023-11-17T08:58:53.831Z"
   },
   {
    "duration": 4,
    "start_time": "2023-11-17T08:58:54.005Z"
   },
   {
    "duration": 7,
    "start_time": "2023-11-17T08:58:54.185Z"
   },
   {
    "duration": 5,
    "start_time": "2023-11-17T08:58:54.352Z"
   },
   {
    "duration": 31,
    "start_time": "2023-11-17T08:58:54.547Z"
   },
   {
    "duration": 6,
    "start_time": "2023-11-17T08:58:54.734Z"
   },
   {
    "duration": 6,
    "start_time": "2023-11-17T08:58:54.936Z"
   },
   {
    "duration": 5,
    "start_time": "2023-11-17T08:58:55.317Z"
   },
   {
    "duration": 4,
    "start_time": "2023-11-17T08:58:55.507Z"
   },
   {
    "duration": 4,
    "start_time": "2023-11-17T08:58:55.687Z"
   },
   {
    "duration": 5,
    "start_time": "2023-11-17T08:58:55.872Z"
   },
   {
    "duration": 4,
    "start_time": "2023-11-17T08:58:56.066Z"
   },
   {
    "duration": 4,
    "start_time": "2023-11-17T08:58:56.248Z"
   },
   {
    "duration": 4,
    "start_time": "2023-11-17T08:58:56.448Z"
   },
   {
    "duration": 4,
    "start_time": "2023-11-17T08:58:56.627Z"
   },
   {
    "duration": 8,
    "start_time": "2023-11-17T08:58:57.278Z"
   },
   {
    "duration": 10,
    "start_time": "2023-11-17T08:58:57.470Z"
   },
   {
    "duration": 20,
    "start_time": "2023-11-17T08:58:57.665Z"
   },
   {
    "duration": 8,
    "start_time": "2023-11-17T08:58:57.854Z"
   },
   {
    "duration": 8,
    "start_time": "2023-11-17T08:58:58.060Z"
   },
   {
    "duration": 6,
    "start_time": "2023-11-17T08:58:58.239Z"
   },
   {
    "duration": 6,
    "start_time": "2023-11-17T08:58:58.438Z"
   },
   {
    "duration": 22,
    "start_time": "2023-11-17T08:58:58.644Z"
   },
   {
    "duration": 7,
    "start_time": "2023-11-17T08:58:58.845Z"
   },
   {
    "duration": 7,
    "start_time": "2023-11-17T08:58:59.077Z"
   },
   {
    "duration": 2,
    "start_time": "2023-11-17T08:58:59.428Z"
   },
   {
    "duration": 8,
    "start_time": "2023-11-17T08:58:59.803Z"
   },
   {
    "duration": 18,
    "start_time": "2023-11-17T08:58:59.995Z"
   },
   {
    "duration": 27,
    "start_time": "2023-11-17T08:59:00.213Z"
   },
   {
    "duration": 2,
    "start_time": "2023-11-17T08:59:01.076Z"
   },
   {
    "duration": 1885,
    "start_time": "2023-11-17T09:00:16.232Z"
   },
   {
    "duration": 1918,
    "start_time": "2023-11-17T09:24:57.449Z"
   },
   {
    "duration": 3,
    "start_time": "2023-11-17T09:26:24.960Z"
   },
   {
    "duration": 20,
    "start_time": "2023-11-17T09:26:25.371Z"
   },
   {
    "duration": 10,
    "start_time": "2023-11-17T09:26:26.273Z"
   },
   {
    "duration": 165,
    "start_time": "2023-11-17T09:26:26.938Z"
   },
   {
    "duration": 46749,
    "start_time": "2023-11-17T09:26:30.112Z"
   },
   {
    "duration": 695033,
    "start_time": "2023-11-17T09:27:16.863Z"
   },
   {
    "duration": 95,
    "start_time": "2023-11-17T09:42:40.995Z"
   },
   {
    "duration": 3027,
    "start_time": "2023-11-17T09:42:41.282Z"
   },
   {
    "duration": 3035,
    "start_time": "2023-11-17T09:42:48.246Z"
   },
   {
    "duration": 414,
    "start_time": "2023-11-17T09:54:57.698Z"
   },
   {
    "duration": 261,
    "start_time": "2023-11-17T09:58:50.349Z"
   },
   {
    "duration": 154,
    "start_time": "2023-11-17T09:59:15.358Z"
   },
   {
    "duration": 331,
    "start_time": "2023-11-17T09:59:32.188Z"
   },
   {
    "duration": 136,
    "start_time": "2023-11-17T10:04:19.609Z"
   },
   {
    "duration": 9,
    "start_time": "2023-11-17T10:05:12.804Z"
   },
   {
    "duration": 137,
    "start_time": "2023-11-17T10:05:19.679Z"
   },
   {
    "duration": 4,
    "start_time": "2023-11-17T10:05:20.003Z"
   },
   {
    "duration": 19,
    "start_time": "2023-11-17T10:05:31.089Z"
   },
   {
    "duration": 4,
    "start_time": "2023-11-17T10:05:43.053Z"
   },
   {
    "duration": 17,
    "start_time": "2023-11-17T10:05:43.292Z"
   },
   {
    "duration": 17,
    "start_time": "2023-11-17T10:05:57.620Z"
   },
   {
    "duration": 7,
    "start_time": "2023-11-17T10:51:34.386Z"
   },
   {
    "duration": 2001,
    "start_time": "2023-11-17T10:51:38.126Z"
   },
   {
    "duration": 5,
    "start_time": "2023-11-17T10:58:06.064Z"
   },
   {
    "duration": 1188,
    "start_time": "2023-11-17T10:58:06.348Z"
   },
   {
    "duration": 9,
    "start_time": "2023-11-17T10:58:36.933Z"
   },
   {
    "duration": 5,
    "start_time": "2023-11-17T11:07:18.851Z"
   },
   {
    "duration": 1209,
    "start_time": "2023-11-17T11:07:19.056Z"
   },
   {
    "duration": 4,
    "start_time": "2023-11-17T11:07:44.562Z"
   },
   {
    "duration": 236,
    "start_time": "2023-11-17T11:07:45.380Z"
   },
   {
    "duration": 19,
    "start_time": "2023-11-17T11:07:45.618Z"
   },
   {
    "duration": 23,
    "start_time": "2023-11-17T11:07:45.908Z"
   },
   {
    "duration": 27,
    "start_time": "2023-11-17T11:07:46.095Z"
   },
   {
    "duration": 19,
    "start_time": "2023-11-17T11:07:46.286Z"
   },
   {
    "duration": 62,
    "start_time": "2023-11-17T11:07:46.466Z"
   },
   {
    "duration": 75,
    "start_time": "2023-11-17T11:07:46.661Z"
   },
   {
    "duration": 14,
    "start_time": "2023-11-17T11:07:47.280Z"
   },
   {
    "duration": 30,
    "start_time": "2023-11-17T11:07:47.493Z"
   },
   {
    "duration": 24,
    "start_time": "2023-11-17T11:07:47.678Z"
   },
   {
    "duration": 53,
    "start_time": "2023-11-17T11:07:47.877Z"
   },
   {
    "duration": 7,
    "start_time": "2023-11-17T11:07:48.319Z"
   },
   {
    "duration": 6,
    "start_time": "2023-11-17T11:07:48.553Z"
   },
   {
    "duration": 7,
    "start_time": "2023-11-17T11:07:48.811Z"
   },
   {
    "duration": 25,
    "start_time": "2023-11-17T11:07:49.016Z"
   },
   {
    "duration": 7,
    "start_time": "2023-11-17T11:07:49.218Z"
   },
   {
    "duration": 5,
    "start_time": "2023-11-17T11:07:49.426Z"
   },
   {
    "duration": 14,
    "start_time": "2023-11-17T11:07:49.628Z"
   },
   {
    "duration": 6,
    "start_time": "2023-11-17T11:07:49.812Z"
   },
   {
    "duration": 5,
    "start_time": "2023-11-17T11:07:50.193Z"
   },
   {
    "duration": 4,
    "start_time": "2023-11-17T11:07:50.392Z"
   },
   {
    "duration": 5,
    "start_time": "2023-11-17T11:07:50.582Z"
   },
   {
    "duration": 4,
    "start_time": "2023-11-17T11:07:50.771Z"
   },
   {
    "duration": 6,
    "start_time": "2023-11-17T11:07:50.976Z"
   },
   {
    "duration": 7,
    "start_time": "2023-11-17T11:07:51.171Z"
   },
   {
    "duration": 5,
    "start_time": "2023-11-17T11:07:51.362Z"
   },
   {
    "duration": 4,
    "start_time": "2023-11-17T11:07:51.561Z"
   },
   {
    "duration": 4,
    "start_time": "2023-11-17T11:07:51.755Z"
   },
   {
    "duration": 5,
    "start_time": "2023-11-17T11:07:53.447Z"
   },
   {
    "duration": 5,
    "start_time": "2023-11-17T11:07:53.633Z"
   },
   {
    "duration": 3,
    "start_time": "2023-11-17T11:07:53.818Z"
   },
   {
    "duration": 4,
    "start_time": "2023-11-17T11:07:54.175Z"
   },
   {
    "duration": 4,
    "start_time": "2023-11-17T11:07:54.359Z"
   },
   {
    "duration": 5,
    "start_time": "2023-11-17T11:07:55.503Z"
   },
   {
    "duration": 4,
    "start_time": "2023-11-17T11:07:55.708Z"
   },
   {
    "duration": 4,
    "start_time": "2023-11-17T11:07:55.994Z"
   },
   {
    "duration": 5,
    "start_time": "2023-11-17T11:07:56.220Z"
   },
   {
    "duration": 7,
    "start_time": "2023-11-17T11:07:56.438Z"
   },
   {
    "duration": 6,
    "start_time": "2023-11-17T11:07:56.797Z"
   },
   {
    "duration": 5,
    "start_time": "2023-11-17T11:07:56.995Z"
   },
   {
    "duration": 5,
    "start_time": "2023-11-17T11:07:57.193Z"
   },
   {
    "duration": 9,
    "start_time": "2023-11-17T11:07:57.393Z"
   },
   {
    "duration": 6,
    "start_time": "2023-11-17T11:07:57.590Z"
   },
   {
    "duration": 4,
    "start_time": "2023-11-17T11:07:57.823Z"
   },
   {
    "duration": 4,
    "start_time": "2023-11-17T11:07:58.044Z"
   },
   {
    "duration": 4,
    "start_time": "2023-11-17T11:07:58.371Z"
   },
   {
    "duration": 4,
    "start_time": "2023-11-17T11:07:58.503Z"
   },
   {
    "duration": 8,
    "start_time": "2023-11-17T11:07:58.634Z"
   },
   {
    "duration": 6,
    "start_time": "2023-11-17T11:07:59.311Z"
   },
   {
    "duration": 5,
    "start_time": "2023-11-17T11:07:59.502Z"
   },
   {
    "duration": 4,
    "start_time": "2023-11-17T11:07:59.876Z"
   },
   {
    "duration": 4,
    "start_time": "2023-11-17T11:08:00.076Z"
   },
   {
    "duration": 4,
    "start_time": "2023-11-17T11:08:00.399Z"
   },
   {
    "duration": 4,
    "start_time": "2023-11-17T11:08:00.625Z"
   },
   {
    "duration": 3,
    "start_time": "2023-11-17T11:08:00.834Z"
   },
   {
    "duration": 16,
    "start_time": "2023-11-17T11:08:01.037Z"
   },
   {
    "duration": 3,
    "start_time": "2023-11-17T11:08:01.420Z"
   },
   {
    "duration": 5,
    "start_time": "2023-11-17T11:08:01.644Z"
   },
   {
    "duration": 7,
    "start_time": "2023-11-17T11:08:01.868Z"
   },
   {
    "duration": 5,
    "start_time": "2023-11-17T11:08:03.565Z"
   },
   {
    "duration": 39,
    "start_time": "2023-11-17T11:08:03.771Z"
   },
   {
    "duration": 6,
    "start_time": "2023-11-17T11:08:03.975Z"
   },
   {
    "duration": 5,
    "start_time": "2023-11-17T11:08:04.158Z"
   },
   {
    "duration": 5,
    "start_time": "2023-11-17T11:08:04.506Z"
   },
   {
    "duration": 5,
    "start_time": "2023-11-17T11:08:04.687Z"
   },
   {
    "duration": 4,
    "start_time": "2023-11-17T11:08:04.869Z"
   },
   {
    "duration": 4,
    "start_time": "2023-11-17T11:08:05.070Z"
   },
   {
    "duration": 4,
    "start_time": "2023-11-17T11:08:05.263Z"
   },
   {
    "duration": 16,
    "start_time": "2023-11-17T11:08:05.457Z"
   },
   {
    "duration": 4,
    "start_time": "2023-11-17T11:08:05.648Z"
   },
   {
    "duration": 4,
    "start_time": "2023-11-17T11:08:05.849Z"
   },
   {
    "duration": 8,
    "start_time": "2023-11-17T11:08:06.432Z"
   },
   {
    "duration": 8,
    "start_time": "2023-11-17T11:08:06.644Z"
   },
   {
    "duration": 19,
    "start_time": "2023-11-17T11:08:06.861Z"
   },
   {
    "duration": 8,
    "start_time": "2023-11-17T11:08:07.061Z"
   },
   {
    "duration": 9,
    "start_time": "2023-11-17T11:08:07.296Z"
   },
   {
    "duration": 7,
    "start_time": "2023-11-17T11:08:07.493Z"
   },
   {
    "duration": 7,
    "start_time": "2023-11-17T11:08:07.696Z"
   },
   {
    "duration": 19,
    "start_time": "2023-11-17T11:08:07.887Z"
   },
   {
    "duration": 7,
    "start_time": "2023-11-17T11:08:08.095Z"
   },
   {
    "duration": 7,
    "start_time": "2023-11-17T11:08:08.304Z"
   },
   {
    "duration": 3,
    "start_time": "2023-11-17T11:08:08.724Z"
   },
   {
    "duration": 10,
    "start_time": "2023-11-17T11:08:09.861Z"
   },
   {
    "duration": 22,
    "start_time": "2023-11-17T11:08:10.224Z"
   },
   {
    "duration": 31,
    "start_time": "2023-11-17T11:08:10.608Z"
   },
   {
    "duration": 3,
    "start_time": "2023-11-17T11:08:11.382Z"
   },
   {
    "duration": 119,
    "start_time": "2023-11-17T11:08:14.355Z"
   },
   {
    "duration": 1981,
    "start_time": "2023-11-17T11:08:15.599Z"
   },
   {
    "duration": 3,
    "start_time": "2023-11-17T11:08:17.582Z"
   },
   {
    "duration": 19,
    "start_time": "2023-11-17T11:08:17.985Z"
   },
   {
    "duration": 9,
    "start_time": "2023-11-17T11:08:19.654Z"
   },
   {
    "duration": 161,
    "start_time": "2023-11-17T11:08:20.024Z"
   },
   {
    "duration": 47926,
    "start_time": "2023-11-17T11:08:22.660Z"
   },
   {
    "duration": 2938,
    "start_time": "2023-11-17T11:09:13.935Z"
   },
   {
    "duration": 326,
    "start_time": "2023-11-17T11:09:18.395Z"
   },
   {
    "duration": 136,
    "start_time": "2023-11-17T11:09:19.497Z"
   },
   {
    "duration": 3,
    "start_time": "2023-11-17T11:09:19.984Z"
   },
   {
    "duration": 19,
    "start_time": "2023-11-17T11:09:20.220Z"
   },
   {
    "duration": 18,
    "start_time": "2023-11-17T11:09:20.691Z"
   },
   {
    "duration": 7,
    "start_time": "2023-11-17T11:09:21.489Z"
   },
   {
    "duration": 1332,
    "start_time": "2023-11-17T11:09:21.638Z"
   },
   {
    "duration": 6,
    "start_time": "2023-11-17T11:14:14.252Z"
   },
   {
    "duration": 1978,
    "start_time": "2023-11-17T11:14:24.156Z"
   },
   {
    "duration": 6,
    "start_time": "2023-11-17T11:20:45.305Z"
   },
   {
    "duration": 10,
    "start_time": "2023-11-17T11:20:56.618Z"
   },
   {
    "duration": 5,
    "start_time": "2023-11-17T11:21:26.211Z"
   },
   {
    "duration": 9,
    "start_time": "2023-11-17T11:21:26.516Z"
   },
   {
    "duration": 10,
    "start_time": "2023-11-17T11:21:51.552Z"
   },
   {
    "duration": 90,
    "start_time": "2023-11-17T11:22:14.671Z"
   },
   {
    "duration": 9,
    "start_time": "2023-11-17T11:22:15.027Z"
   },
   {
    "duration": 1182,
    "start_time": "2023-11-17T11:22:56.958Z"
   },
   {
    "duration": 615,
    "start_time": "2023-11-17T11:23:36.217Z"
   },
   {
    "duration": 635,
    "start_time": "2023-11-17T12:12:35.711Z"
   },
   {
    "duration": 6,
    "start_time": "2023-11-17T12:12:47.329Z"
   },
   {
    "duration": 614,
    "start_time": "2023-11-17T12:12:47.462Z"
   },
   {
    "duration": 7,
    "start_time": "2023-11-17T12:31:01.691Z"
   },
   {
    "duration": 617,
    "start_time": "2023-11-17T12:31:02.545Z"
   },
   {
    "duration": 7,
    "start_time": "2023-11-17T12:31:08.872Z"
   },
   {
    "duration": 615,
    "start_time": "2023-11-17T12:31:09.199Z"
   },
   {
    "duration": 2,
    "start_time": "2023-11-17T12:34:18.440Z"
   },
   {
    "duration": 635,
    "start_time": "2023-11-17T12:34:21.851Z"
   },
   {
    "duration": 2,
    "start_time": "2023-11-17T12:34:22.488Z"
   },
   {
    "duration": 14,
    "start_time": "2023-11-17T12:34:32.955Z"
   },
   {
    "duration": 3,
    "start_time": "2023-11-17T12:34:40.165Z"
   },
   {
    "duration": 3,
    "start_time": "2023-11-17T12:35:25.932Z"
   },
   {
    "duration": 2,
    "start_time": "2023-11-17T12:36:32.178Z"
   },
   {
    "duration": 4,
    "start_time": "2023-11-17T12:37:28.764Z"
   },
   {
    "duration": 3,
    "start_time": "2023-11-17T12:38:56.479Z"
   },
   {
    "duration": 3,
    "start_time": "2023-11-17T12:39:27.131Z"
   },
   {
    "duration": 324,
    "start_time": "2023-11-17T12:46:49.173Z"
   },
   {
    "duration": 11,
    "start_time": "2023-11-17T13:49:35.080Z"
   },
   {
    "duration": 13,
    "start_time": "2023-11-17T13:49:44.748Z"
   },
   {
    "duration": 16,
    "start_time": "2023-11-17T13:50:35.514Z"
   },
   {
    "duration": 61,
    "start_time": "2023-11-17T13:51:02.220Z"
   },
   {
    "duration": 13,
    "start_time": "2023-11-17T13:56:17.274Z"
   },
   {
    "duration": 165,
    "start_time": "2023-11-17T13:56:29.818Z"
   },
   {
    "duration": 157,
    "start_time": "2023-11-17T13:56:56.466Z"
   },
   {
    "duration": 169,
    "start_time": "2023-11-17T13:57:01.139Z"
   },
   {
    "duration": 10,
    "start_time": "2023-11-17T13:58:40.365Z"
   },
   {
    "duration": 118,
    "start_time": "2023-11-17T13:59:37.441Z"
   },
   {
    "duration": 110,
    "start_time": "2023-11-17T14:00:10.379Z"
   },
   {
    "duration": 128,
    "start_time": "2023-11-17T14:00:28.744Z"
   },
   {
    "duration": 108,
    "start_time": "2023-11-17T14:00:34.885Z"
   },
   {
    "duration": 94,
    "start_time": "2023-11-17T14:00:58.872Z"
   },
   {
    "duration": 108,
    "start_time": "2023-11-17T14:01:15.475Z"
   },
   {
    "duration": 6,
    "start_time": "2023-11-17T14:03:11.723Z"
   },
   {
    "duration": 107,
    "start_time": "2023-11-17T14:03:26.423Z"
   },
   {
    "duration": 7,
    "start_time": "2023-11-17T14:03:55.616Z"
   },
   {
    "duration": 8,
    "start_time": "2023-11-17T14:04:17.824Z"
   },
   {
    "duration": 7,
    "start_time": "2023-11-17T14:05:27.772Z"
   },
   {
    "duration": 7,
    "start_time": "2023-11-17T14:05:41.110Z"
   },
   {
    "duration": 228,
    "start_time": "2023-11-17T14:06:23.538Z"
   },
   {
    "duration": 6,
    "start_time": "2023-11-17T14:07:46.150Z"
   },
   {
    "duration": 6,
    "start_time": "2023-11-17T14:08:54.845Z"
   },
   {
    "duration": 6,
    "start_time": "2023-11-17T14:11:24.240Z"
   },
   {
    "duration": 8,
    "start_time": "2023-11-17T14:11:39.440Z"
   },
   {
    "duration": 233,
    "start_time": "2023-11-17T14:12:36.102Z"
   },
   {
    "duration": 13,
    "start_time": "2023-11-17T14:14:45.173Z"
   },
   {
    "duration": 17,
    "start_time": "2023-11-17T14:15:51.156Z"
   },
   {
    "duration": 14,
    "start_time": "2023-11-17T14:16:05.111Z"
   },
   {
    "duration": 13,
    "start_time": "2023-11-17T14:16:20.335Z"
   },
   {
    "duration": 1653,
    "start_time": "2023-11-17T14:18:43.776Z"
   },
   {
    "duration": 116,
    "start_time": "2023-11-17T14:18:52.732Z"
   },
   {
    "duration": 7,
    "start_time": "2023-11-17T14:20:14.608Z"
   },
   {
    "duration": 150,
    "start_time": "2023-11-17T14:20:33.390Z"
   },
   {
    "duration": 125,
    "start_time": "2023-11-17T14:22:13.083Z"
   },
   {
    "duration": 114,
    "start_time": "2023-11-17T14:22:53.705Z"
   },
   {
    "duration": 120,
    "start_time": "2023-11-17T14:23:08.172Z"
   },
   {
    "duration": 143,
    "start_time": "2023-11-17T14:26:20.606Z"
   },
   {
    "duration": 5,
    "start_time": "2023-11-17T15:38:14.236Z"
   },
   {
    "duration": 227,
    "start_time": "2023-11-17T15:38:15.140Z"
   },
   {
    "duration": 21,
    "start_time": "2023-11-17T15:38:15.631Z"
   },
   {
    "duration": 21,
    "start_time": "2023-11-17T15:38:16.113Z"
   },
   {
    "duration": 28,
    "start_time": "2023-11-17T15:38:16.475Z"
   },
   {
    "duration": 20,
    "start_time": "2023-11-17T15:38:16.672Z"
   },
   {
    "duration": 65,
    "start_time": "2023-11-17T15:38:16.856Z"
   },
   {
    "duration": 76,
    "start_time": "2023-11-17T15:38:17.014Z"
   },
   {
    "duration": 15,
    "start_time": "2023-11-17T15:38:17.796Z"
   },
   {
    "duration": 28,
    "start_time": "2023-11-17T15:38:17.972Z"
   },
   {
    "duration": 24,
    "start_time": "2023-11-17T15:38:18.302Z"
   },
   {
    "duration": 48,
    "start_time": "2023-11-17T15:38:18.491Z"
   },
   {
    "duration": 7,
    "start_time": "2023-11-17T15:38:18.840Z"
   },
   {
    "duration": 6,
    "start_time": "2023-11-17T15:38:19.022Z"
   },
   {
    "duration": 7,
    "start_time": "2023-11-17T15:38:19.192Z"
   },
   {
    "duration": 24,
    "start_time": "2023-11-17T15:38:19.378Z"
   },
   {
    "duration": 10,
    "start_time": "2023-11-17T15:38:19.562Z"
   },
   {
    "duration": 7,
    "start_time": "2023-11-17T15:38:19.727Z"
   },
   {
    "duration": 14,
    "start_time": "2023-11-17T15:38:19.889Z"
   },
   {
    "duration": 5,
    "start_time": "2023-11-17T15:38:22.275Z"
   },
   {
    "duration": 4,
    "start_time": "2023-11-17T15:38:22.978Z"
   },
   {
    "duration": 5,
    "start_time": "2023-11-17T15:38:23.174Z"
   },
   {
    "duration": 4,
    "start_time": "2023-11-17T15:38:23.412Z"
   },
   {
    "duration": 4,
    "start_time": "2023-11-17T15:38:23.593Z"
   },
   {
    "duration": 6,
    "start_time": "2023-11-17T15:38:23.781Z"
   },
   {
    "duration": 6,
    "start_time": "2023-11-17T15:38:23.990Z"
   },
   {
    "duration": 4,
    "start_time": "2023-11-17T15:38:24.381Z"
   },
   {
    "duration": 4,
    "start_time": "2023-11-17T15:38:24.584Z"
   },
   {
    "duration": 4,
    "start_time": "2023-11-17T15:38:25.130Z"
   },
   {
    "duration": 4,
    "start_time": "2023-11-17T15:38:25.329Z"
   },
   {
    "duration": 5,
    "start_time": "2023-11-17T15:38:25.616Z"
   },
   {
    "duration": 4,
    "start_time": "2023-11-17T15:38:25.920Z"
   },
   {
    "duration": 4,
    "start_time": "2023-11-17T15:38:26.403Z"
   },
   {
    "duration": 4,
    "start_time": "2023-11-17T15:38:26.648Z"
   },
   {
    "duration": 4,
    "start_time": "2023-11-17T15:38:27.076Z"
   },
   {
    "duration": 4,
    "start_time": "2023-11-17T15:38:27.250Z"
   },
   {
    "duration": 6,
    "start_time": "2023-11-17T15:38:27.457Z"
   },
   {
    "duration": 5,
    "start_time": "2023-11-17T15:38:27.848Z"
   },
   {
    "duration": 8,
    "start_time": "2023-11-17T15:38:28.033Z"
   },
   {
    "duration": 6,
    "start_time": "2023-11-17T15:38:28.227Z"
   },
   {
    "duration": 4,
    "start_time": "2023-11-17T15:38:28.416Z"
   },
   {
    "duration": 4,
    "start_time": "2023-11-17T15:38:28.570Z"
   },
   {
    "duration": 6,
    "start_time": "2023-11-17T15:38:28.767Z"
   },
   {
    "duration": 7,
    "start_time": "2023-11-17T15:38:28.946Z"
   },
   {
    "duration": 5,
    "start_time": "2023-11-17T15:38:29.142Z"
   },
   {
    "duration": 5,
    "start_time": "2023-11-17T15:38:29.325Z"
   },
   {
    "duration": 6,
    "start_time": "2023-11-17T15:38:29.895Z"
   },
   {
    "duration": 5,
    "start_time": "2023-11-17T15:38:30.132Z"
   },
   {
    "duration": 10,
    "start_time": "2023-11-17T15:38:30.386Z"
   },
   {
    "duration": 9,
    "start_time": "2023-11-17T15:38:30.608Z"
   },
   {
    "duration": 6,
    "start_time": "2023-11-17T15:38:30.821Z"
   },
   {
    "duration": 5,
    "start_time": "2023-11-17T15:38:31.372Z"
   },
   {
    "duration": 6,
    "start_time": "2023-11-17T15:38:31.505Z"
   },
   {
    "duration": 5,
    "start_time": "2023-11-17T15:38:31.639Z"
   },
   {
    "duration": 5,
    "start_time": "2023-11-17T15:38:31.805Z"
   },
   {
    "duration": 4,
    "start_time": "2023-11-17T15:38:32.157Z"
   },
   {
    "duration": 25,
    "start_time": "2023-11-17T15:38:32.357Z"
   },
   {
    "duration": 5,
    "start_time": "2023-11-17T15:38:32.731Z"
   },
   {
    "duration": 5,
    "start_time": "2023-11-17T15:38:32.904Z"
   },
   {
    "duration": 12,
    "start_time": "2023-11-17T15:38:33.084Z"
   },
   {
    "duration": 10,
    "start_time": "2023-11-17T15:38:33.252Z"
   },
   {
    "duration": 53,
    "start_time": "2023-11-17T15:38:33.429Z"
   },
   {
    "duration": 6,
    "start_time": "2023-11-17T15:38:33.595Z"
   },
   {
    "duration": 6,
    "start_time": "2023-11-17T15:38:33.778Z"
   },
   {
    "duration": 4,
    "start_time": "2023-11-17T15:38:34.139Z"
   },
   {
    "duration": 6,
    "start_time": "2023-11-17T15:38:34.655Z"
   },
   {
    "duration": 4,
    "start_time": "2023-11-17T15:38:34.827Z"
   },
   {
    "duration": 4,
    "start_time": "2023-11-17T15:38:35.000Z"
   },
   {
    "duration": 4,
    "start_time": "2023-11-17T15:38:35.330Z"
   },
   {
    "duration": 5,
    "start_time": "2023-11-17T15:38:35.523Z"
   },
   {
    "duration": 5,
    "start_time": "2023-11-17T15:38:35.912Z"
   },
   {
    "duration": 4,
    "start_time": "2023-11-17T15:38:36.080Z"
   },
   {
    "duration": 9,
    "start_time": "2023-11-17T15:38:36.640Z"
   },
   {
    "duration": 9,
    "start_time": "2023-11-17T15:38:36.823Z"
   },
   {
    "duration": 19,
    "start_time": "2023-11-17T15:38:36.991Z"
   },
   {
    "duration": 8,
    "start_time": "2023-11-17T15:38:37.175Z"
   },
   {
    "duration": 15,
    "start_time": "2023-11-17T15:38:37.353Z"
   },
   {
    "duration": 7,
    "start_time": "2023-11-17T15:38:37.539Z"
   },
   {
    "duration": 6,
    "start_time": "2023-11-17T15:38:37.748Z"
   },
   {
    "duration": 21,
    "start_time": "2023-11-17T15:38:38.099Z"
   },
   {
    "duration": 8,
    "start_time": "2023-11-17T15:38:38.288Z"
   },
   {
    "duration": 7,
    "start_time": "2023-11-17T15:38:38.482Z"
   },
   {
    "duration": 3,
    "start_time": "2023-11-17T15:38:38.880Z"
   },
   {
    "duration": 9,
    "start_time": "2023-11-17T15:38:39.275Z"
   },
   {
    "duration": 37,
    "start_time": "2023-11-17T15:38:39.460Z"
   },
   {
    "duration": 35,
    "start_time": "2023-11-17T15:38:39.642Z"
   },
   {
    "duration": 4,
    "start_time": "2023-11-17T15:38:40.053Z"
   },
   {
    "duration": 2143,
    "start_time": "2023-11-17T15:38:42.798Z"
   },
   {
    "duration": 3,
    "start_time": "2023-11-17T15:38:48.968Z"
   },
   {
    "duration": 21,
    "start_time": "2023-11-17T15:38:50.201Z"
   },
   {
    "duration": 11,
    "start_time": "2023-11-17T15:38:50.606Z"
   },
   {
    "duration": 204,
    "start_time": "2023-11-17T15:38:51.000Z"
   },
   {
    "duration": 49850,
    "start_time": "2023-11-17T15:38:54.009Z"
   },
   {
    "duration": 2690,
    "start_time": "2023-11-17T15:40:19.181Z"
   },
   {
    "duration": 328,
    "start_time": "2023-11-17T15:40:23.502Z"
   },
   {
    "duration": 133,
    "start_time": "2023-11-17T15:40:24.619Z"
   },
   {
    "duration": 4,
    "start_time": "2023-11-17T15:40:25.435Z"
   },
   {
    "duration": 18,
    "start_time": "2023-11-17T15:40:25.644Z"
   },
   {
    "duration": 18,
    "start_time": "2023-11-17T15:40:26.061Z"
   },
   {
    "duration": 7,
    "start_time": "2023-11-17T15:40:26.742Z"
   },
   {
    "duration": 615,
    "start_time": "2023-11-17T15:40:26.935Z"
   },
   {
    "duration": 4,
    "start_time": "2023-11-17T15:40:27.556Z"
   },
   {
    "duration": 3,
    "start_time": "2023-11-17T15:40:27.679Z"
   },
   {
    "duration": 8,
    "start_time": "2023-11-17T15:40:28.646Z"
   },
   {
    "duration": 13,
    "start_time": "2023-11-17T15:40:29.208Z"
   },
   {
    "duration": 18,
    "start_time": "2023-11-17T15:40:29.999Z"
   },
   {
    "duration": 56,
    "start_time": "2023-11-17T15:40:30.381Z"
   },
   {
    "duration": 119,
    "start_time": "2023-11-17T15:40:30.880Z"
   },
   {
    "duration": 7,
    "start_time": "2023-11-17T15:40:31.651Z"
   },
   {
    "duration": 5,
    "start_time": "2023-11-17T15:40:32.085Z"
   },
   {
    "duration": 8,
    "start_time": "2023-11-17T15:40:32.574Z"
   },
   {
    "duration": 5,
    "start_time": "2023-11-17T15:40:33.208Z"
   },
   {
    "duration": 6,
    "start_time": "2023-11-17T15:40:33.851Z"
   },
   {
    "duration": 238,
    "start_time": "2023-11-17T15:40:34.586Z"
   },
   {
    "duration": 12,
    "start_time": "2023-11-17T15:40:34.936Z"
   },
   {
    "duration": 123,
    "start_time": "2023-11-17T15:40:35.395Z"
   },
   {
    "duration": 6,
    "start_time": "2023-11-17T15:40:35.777Z"
   },
   {
    "duration": 259,
    "start_time": "2023-11-17T15:40:36.011Z"
   },
   {
    "duration": 245,
    "start_time": "2023-11-17T15:42:33.088Z"
   },
   {
    "duration": 14,
    "start_time": "2023-11-17T15:42:34.695Z"
   },
   {
    "duration": 116,
    "start_time": "2023-11-17T15:42:40.092Z"
   },
   {
    "duration": 5,
    "start_time": "2023-11-17T15:42:41.035Z"
   },
   {
    "duration": 144,
    "start_time": "2023-11-17T15:42:41.483Z"
   },
   {
    "duration": 6,
    "start_time": "2023-11-17T15:44:34.391Z"
   },
   {
    "duration": 111,
    "start_time": "2023-11-17T15:46:36.935Z"
   },
   {
    "duration": 91,
    "start_time": "2023-11-17T15:46:50.460Z"
   },
   {
    "duration": 110,
    "start_time": "2023-11-17T15:46:56.721Z"
   },
   {
    "duration": 2608,
    "start_time": "2023-11-18T10:46:56.303Z"
   },
   {
    "duration": 858,
    "start_time": "2023-11-18T10:46:58.913Z"
   },
   {
    "duration": 27,
    "start_time": "2023-11-18T10:46:59.773Z"
   },
   {
    "duration": 33,
    "start_time": "2023-11-18T10:46:59.802Z"
   },
   {
    "duration": 44,
    "start_time": "2023-11-18T10:46:59.838Z"
   },
   {
    "duration": 19,
    "start_time": "2023-11-18T10:46:59.883Z"
   },
   {
    "duration": 77,
    "start_time": "2023-11-18T10:46:59.904Z"
   },
   {
    "duration": 83,
    "start_time": "2023-11-18T10:46:59.983Z"
   },
   {
    "duration": 14,
    "start_time": "2023-11-18T10:47:00.067Z"
   },
   {
    "duration": 54,
    "start_time": "2023-11-18T10:47:00.082Z"
   },
   {
    "duration": 21,
    "start_time": "2023-11-18T10:47:00.137Z"
   },
   {
    "duration": 75,
    "start_time": "2023-11-18T10:47:00.160Z"
   },
   {
    "duration": 7,
    "start_time": "2023-11-18T10:47:00.236Z"
   },
   {
    "duration": 34,
    "start_time": "2023-11-18T10:47:00.246Z"
   },
   {
    "duration": 31,
    "start_time": "2023-11-18T10:47:00.282Z"
   },
   {
    "duration": 49,
    "start_time": "2023-11-18T10:47:00.315Z"
   },
   {
    "duration": 27,
    "start_time": "2023-11-18T10:47:00.365Z"
   },
   {
    "duration": 23,
    "start_time": "2023-11-18T10:47:00.393Z"
   },
   {
    "duration": 35,
    "start_time": "2023-11-18T10:47:00.418Z"
   },
   {
    "duration": 39,
    "start_time": "2023-11-18T10:47:00.455Z"
   },
   {
    "duration": 32,
    "start_time": "2023-11-18T10:47:00.495Z"
   },
   {
    "duration": 28,
    "start_time": "2023-11-18T10:47:00.529Z"
   },
   {
    "duration": 34,
    "start_time": "2023-11-18T10:47:00.559Z"
   },
   {
    "duration": 32,
    "start_time": "2023-11-18T10:47:00.595Z"
   },
   {
    "duration": 25,
    "start_time": "2023-11-18T10:47:00.629Z"
   },
   {
    "duration": 31,
    "start_time": "2023-11-18T10:47:00.656Z"
   },
   {
    "duration": 46,
    "start_time": "2023-11-18T10:47:00.689Z"
   },
   {
    "duration": 32,
    "start_time": "2023-11-18T10:47:00.737Z"
   },
   {
    "duration": 27,
    "start_time": "2023-11-18T10:47:00.771Z"
   },
   {
    "duration": 25,
    "start_time": "2023-11-18T10:47:00.800Z"
   },
   {
    "duration": 41,
    "start_time": "2023-11-18T10:47:00.827Z"
   },
   {
    "duration": 41,
    "start_time": "2023-11-18T10:47:00.869Z"
   },
   {
    "duration": 44,
    "start_time": "2023-11-18T10:47:00.911Z"
   },
   {
    "duration": 52,
    "start_time": "2023-11-18T10:47:00.956Z"
   },
   {
    "duration": 24,
    "start_time": "2023-11-18T10:47:01.010Z"
   },
   {
    "duration": 52,
    "start_time": "2023-11-18T10:47:01.035Z"
   },
   {
    "duration": 40,
    "start_time": "2023-11-18T10:47:01.089Z"
   },
   {
    "duration": 38,
    "start_time": "2023-11-18T10:47:01.131Z"
   },
   {
    "duration": 51,
    "start_time": "2023-11-18T10:47:01.171Z"
   },
   {
    "duration": 44,
    "start_time": "2023-11-18T10:47:01.223Z"
   },
   {
    "duration": 74,
    "start_time": "2023-11-18T10:47:01.272Z"
   },
   {
    "duration": 64,
    "start_time": "2023-11-18T10:47:01.348Z"
   },
   {
    "duration": 109,
    "start_time": "2023-11-18T10:47:01.414Z"
   },
   {
    "duration": 37,
    "start_time": "2023-11-18T10:47:01.525Z"
   },
   {
    "duration": 41,
    "start_time": "2023-11-18T10:47:01.564Z"
   },
   {
    "duration": 50,
    "start_time": "2023-11-18T10:47:01.606Z"
   },
   {
    "duration": 119,
    "start_time": "2023-11-18T10:47:01.658Z"
   },
   {
    "duration": 77,
    "start_time": "2023-11-18T10:47:01.778Z"
   },
   {
    "duration": 76,
    "start_time": "2023-11-18T10:47:01.857Z"
   },
   {
    "duration": 44,
    "start_time": "2023-11-18T10:47:01.934Z"
   },
   {
    "duration": 26,
    "start_time": "2023-11-18T10:47:01.980Z"
   },
   {
    "duration": 48,
    "start_time": "2023-11-18T10:47:02.008Z"
   },
   {
    "duration": 46,
    "start_time": "2023-11-18T10:47:02.058Z"
   },
   {
    "duration": 31,
    "start_time": "2023-11-18T10:47:02.105Z"
   },
   {
    "duration": 36,
    "start_time": "2023-11-18T10:47:02.138Z"
   },
   {
    "duration": 48,
    "start_time": "2023-11-18T10:47:02.176Z"
   },
   {
    "duration": 102,
    "start_time": "2023-11-18T10:47:02.225Z"
   },
   {
    "duration": 32,
    "start_time": "2023-11-18T10:47:02.328Z"
   },
   {
    "duration": 40,
    "start_time": "2023-11-18T10:47:02.361Z"
   },
   {
    "duration": 44,
    "start_time": "2023-11-18T10:47:02.402Z"
   },
   {
    "duration": 37,
    "start_time": "2023-11-18T10:47:02.448Z"
   },
   {
    "duration": 63,
    "start_time": "2023-11-18T10:47:02.486Z"
   },
   {
    "duration": 19,
    "start_time": "2023-11-18T10:47:02.550Z"
   },
   {
    "duration": 31,
    "start_time": "2023-11-18T10:47:02.571Z"
   },
   {
    "duration": 39,
    "start_time": "2023-11-18T10:47:02.604Z"
   },
   {
    "duration": 41,
    "start_time": "2023-11-18T10:47:02.645Z"
   },
   {
    "duration": 54,
    "start_time": "2023-11-18T10:47:02.688Z"
   },
   {
    "duration": 41,
    "start_time": "2023-11-18T10:47:02.744Z"
   },
   {
    "duration": 38,
    "start_time": "2023-11-18T10:47:02.787Z"
   },
   {
    "duration": 30,
    "start_time": "2023-11-18T10:47:02.828Z"
   },
   {
    "duration": 39,
    "start_time": "2023-11-18T10:47:02.860Z"
   },
   {
    "duration": 37,
    "start_time": "2023-11-18T10:47:02.901Z"
   },
   {
    "duration": 38,
    "start_time": "2023-11-18T10:47:02.940Z"
   },
   {
    "duration": 38,
    "start_time": "2023-11-18T10:47:02.980Z"
   },
   {
    "duration": 56,
    "start_time": "2023-11-18T10:47:03.019Z"
   },
   {
    "duration": 8,
    "start_time": "2023-11-18T10:47:03.076Z"
   },
   {
    "duration": 11,
    "start_time": "2023-11-18T10:47:03.085Z"
   },
   {
    "duration": 15,
    "start_time": "2023-11-18T10:47:03.097Z"
   },
   {
    "duration": 19,
    "start_time": "2023-11-18T10:47:03.113Z"
   },
   {
    "duration": 42,
    "start_time": "2023-11-18T10:47:03.133Z"
   },
   {
    "duration": 7,
    "start_time": "2023-11-18T10:47:03.176Z"
   },
   {
    "duration": 13,
    "start_time": "2023-11-18T10:47:03.184Z"
   },
   {
    "duration": 8,
    "start_time": "2023-11-18T10:47:03.198Z"
   },
   {
    "duration": 27,
    "start_time": "2023-11-18T10:47:03.207Z"
   },
   {
    "duration": 38,
    "start_time": "2023-11-18T10:47:03.236Z"
   },
   {
    "duration": 42,
    "start_time": "2023-11-18T10:47:03.276Z"
   },
   {
    "duration": 23,
    "start_time": "2023-11-18T10:47:03.320Z"
   },
   {
    "duration": 1956,
    "start_time": "2023-11-18T10:47:03.344Z"
   },
   {
    "duration": 3,
    "start_time": "2023-11-18T10:47:05.302Z"
   },
   {
    "duration": 110,
    "start_time": "2023-11-18T10:47:05.306Z"
   },
   {
    "duration": 89,
    "start_time": "2023-11-18T10:47:05.418Z"
   },
   {
    "duration": 226,
    "start_time": "2023-11-18T10:47:05.509Z"
   },
   {
    "duration": 46953,
    "start_time": "2023-11-18T10:47:05.737Z"
   },
   {
    "duration": 700728,
    "start_time": "2023-11-18T10:47:52.691Z"
   },
   {
    "duration": 2508,
    "start_time": "2023-11-18T10:59:33.421Z"
   },
   {
    "duration": 340,
    "start_time": "2023-11-18T10:59:35.931Z"
   },
   {
    "duration": 144,
    "start_time": "2023-11-18T10:59:36.272Z"
   },
   {
    "duration": 3,
    "start_time": "2023-11-18T10:59:36.419Z"
   },
   {
    "duration": 21,
    "start_time": "2023-11-18T10:59:36.423Z"
   },
   {
    "duration": 17,
    "start_time": "2023-11-18T10:59:36.445Z"
   },
   {
    "duration": 8,
    "start_time": "2023-11-18T10:59:36.463Z"
   },
   {
    "duration": 633,
    "start_time": "2023-11-18T10:59:36.472Z"
   },
   {
    "duration": 3,
    "start_time": "2023-11-18T10:59:37.106Z"
   },
   {
    "duration": 18,
    "start_time": "2023-11-18T10:59:37.117Z"
   },
   {
    "duration": 31,
    "start_time": "2023-11-18T10:59:37.137Z"
   },
   {
    "duration": 33,
    "start_time": "2023-11-18T10:59:37.169Z"
   },
   {
    "duration": 40,
    "start_time": "2023-11-18T10:59:37.204Z"
   },
   {
    "duration": 64,
    "start_time": "2023-11-18T10:59:37.246Z"
   },
   {
    "duration": 113,
    "start_time": "2023-11-18T10:59:37.312Z"
   },
   {
    "duration": 6,
    "start_time": "2023-11-18T10:59:37.427Z"
   },
   {
    "duration": 29,
    "start_time": "2023-11-18T10:59:37.434Z"
   },
   {
    "duration": 23,
    "start_time": "2023-11-18T10:59:37.464Z"
   },
   {
    "duration": 34,
    "start_time": "2023-11-18T10:59:37.488Z"
   },
   {
    "duration": 21,
    "start_time": "2023-11-18T10:59:37.524Z"
   },
   {
    "duration": 343,
    "start_time": "2023-11-18T10:59:37.546Z"
   },
   {
    "duration": 13,
    "start_time": "2023-11-18T10:59:37.890Z"
   },
   {
    "duration": 116,
    "start_time": "2023-11-18T10:59:37.904Z"
   },
   {
    "duration": 6,
    "start_time": "2023-11-18T10:59:38.021Z"
   },
   {
    "duration": 156,
    "start_time": "2023-11-18T10:59:38.028Z"
   },
   {
    "duration": 5,
    "start_time": "2023-11-18T10:59:38.186Z"
   },
   {
    "duration": 47,
    "start_time": "2023-11-18T15:32:20.421Z"
   },
   {
    "duration": 5,
    "start_time": "2023-11-18T15:32:31.340Z"
   },
   {
    "duration": 6,
    "start_time": "2023-11-18T15:32:32.200Z"
   },
   {
    "duration": 8,
    "start_time": "2023-11-18T15:32:33.163Z"
   },
   {
    "duration": 5,
    "start_time": "2023-11-18T15:32:33.700Z"
   },
   {
    "duration": 5,
    "start_time": "2023-11-18T15:32:33.915Z"
   },
   {
    "duration": 5,
    "start_time": "2023-11-18T15:32:34.145Z"
   },
   {
    "duration": 1645,
    "start_time": "2023-11-18T15:32:39.358Z"
   },
   {
    "duration": 844,
    "start_time": "2023-11-18T15:32:41.006Z"
   },
   {
    "duration": 22,
    "start_time": "2023-11-18T15:32:41.851Z"
   },
   {
    "duration": 24,
    "start_time": "2023-11-18T15:32:41.875Z"
   },
   {
    "duration": 28,
    "start_time": "2023-11-18T15:32:42.901Z"
   },
   {
    "duration": 20,
    "start_time": "2023-11-18T15:32:43.533Z"
   },
   {
    "duration": 63,
    "start_time": "2023-11-18T15:32:44.557Z"
   },
   {
    "duration": 81,
    "start_time": "2023-11-18T15:32:45.833Z"
   },
   {
    "duration": 3,
    "start_time": "2023-11-18T15:32:47.858Z"
   },
   {
    "duration": 2,
    "start_time": "2023-11-18T15:32:49.088Z"
   },
   {
    "duration": 23,
    "start_time": "2023-11-18T15:32:49.979Z"
   },
   {
    "duration": 57,
    "start_time": "2023-11-18T15:32:50.782Z"
   },
   {
    "duration": 7,
    "start_time": "2023-11-18T15:32:57.579Z"
   },
   {
    "duration": 5,
    "start_time": "2023-11-18T15:32:58.252Z"
   },
   {
    "duration": 6,
    "start_time": "2023-11-18T15:32:58.705Z"
   },
   {
    "duration": 30,
    "start_time": "2023-11-18T15:32:59.222Z"
   },
   {
    "duration": 28,
    "start_time": "2023-11-18T15:34:00.597Z"
   },
   {
    "duration": 2,
    "start_time": "2023-11-18T15:34:01.382Z"
   },
   {
    "duration": 53,
    "start_time": "2023-11-18T15:34:01.787Z"
   },
   {
    "duration": 7,
    "start_time": "2023-11-18T15:34:02.782Z"
   },
   {
    "duration": 5,
    "start_time": "2023-11-18T15:34:03.252Z"
   },
   {
    "duration": 8,
    "start_time": "2023-11-18T15:34:04.248Z"
   },
   {
    "duration": 82,
    "start_time": "2023-11-18T15:37:36.415Z"
   },
   {
    "duration": 2,
    "start_time": "2023-11-18T15:50:43.724Z"
   },
   {
    "duration": 70,
    "start_time": "2023-11-18T15:51:28.184Z"
   },
   {
    "duration": 3,
    "start_time": "2023-11-18T15:51:39.430Z"
   },
   {
    "duration": 14,
    "start_time": "2023-11-18T15:51:40.351Z"
   },
   {
    "duration": 14,
    "start_time": "2023-11-18T15:51:41.370Z"
   },
   {
    "duration": 188,
    "start_time": "2023-11-18T15:51:41.796Z"
   },
   {
    "duration": 3,
    "start_time": "2023-11-18T15:52:03.561Z"
   },
   {
    "duration": 14,
    "start_time": "2023-11-18T15:52:04.499Z"
   },
   {
    "duration": 3,
    "start_time": "2023-11-18T15:52:42.473Z"
   },
   {
    "duration": 17,
    "start_time": "2023-11-18T15:52:42.841Z"
   },
   {
    "duration": 12,
    "start_time": "2023-11-18T15:53:03.372Z"
   },
   {
    "duration": 2,
    "start_time": "2023-11-18T15:53:08.263Z"
   },
   {
    "duration": 12,
    "start_time": "2023-11-18T15:53:08.786Z"
   },
   {
    "duration": 10,
    "start_time": "2023-11-18T15:53:37.809Z"
   },
   {
    "duration": 2,
    "start_time": "2023-11-18T15:53:40.979Z"
   },
   {
    "duration": 13,
    "start_time": "2023-11-18T15:53:41.589Z"
   },
   {
    "duration": 6,
    "start_time": "2023-11-18T15:57:41.969Z"
   },
   {
    "duration": 3,
    "start_time": "2023-11-18T15:57:42.490Z"
   },
   {
    "duration": 2,
    "start_time": "2023-11-18T15:58:13.087Z"
   },
   {
    "duration": 1203,
    "start_time": "2023-11-18T15:59:04.281Z"
   },
   {
    "duration": 3223,
    "start_time": "2023-11-18T15:59:22.702Z"
   },
   {
    "duration": 2,
    "start_time": "2023-11-18T15:59:35.489Z"
   },
   {
    "duration": 3,
    "start_time": "2023-11-18T16:00:22.472Z"
   },
   {
    "duration": 3,
    "start_time": "2023-11-18T16:00:34.961Z"
   },
   {
    "duration": 2,
    "start_time": "2023-11-18T16:01:00.851Z"
   },
   {
    "duration": 12,
    "start_time": "2023-11-18T16:01:13.975Z"
   },
   {
    "duration": 69,
    "start_time": "2023-11-18T16:01:47.925Z"
   },
   {
    "duration": 154,
    "start_time": "2023-11-18T16:02:06.030Z"
   },
   {
    "duration": 2703,
    "start_time": "2023-11-18T16:03:00.170Z"
   },
   {
    "duration": 350,
    "start_time": "2023-11-18T16:03:08.216Z"
   },
   {
    "duration": 213913,
    "start_time": "2023-11-18T16:05:58.745Z"
   },
   {
    "duration": 6,
    "start_time": "2023-11-18T16:19:19.754Z"
   },
   {
    "duration": 3,
    "start_time": "2023-11-18T16:19:43.482Z"
   },
   {
    "duration": 4,
    "start_time": "2023-11-18T16:19:47.417Z"
   },
   {
    "duration": 216,
    "start_time": "2023-11-18T16:19:49.742Z"
   },
   {
    "duration": 19,
    "start_time": "2023-11-18T16:19:50.716Z"
   },
   {
    "duration": 20,
    "start_time": "2023-11-18T16:19:58.118Z"
   },
   {
    "duration": 28,
    "start_time": "2023-11-18T16:19:59.080Z"
   },
   {
    "duration": 20,
    "start_time": "2023-11-18T16:19:59.873Z"
   },
   {
    "duration": 69,
    "start_time": "2023-11-18T16:20:00.351Z"
   },
   {
    "duration": 82,
    "start_time": "2023-11-18T16:20:01.941Z"
   },
   {
    "duration": 2,
    "start_time": "2023-11-18T16:20:03.606Z"
   },
   {
    "duration": 27,
    "start_time": "2023-11-18T16:20:04.365Z"
   },
   {
    "duration": 2,
    "start_time": "2023-11-18T16:20:04.858Z"
   },
   {
    "duration": 49,
    "start_time": "2023-11-18T16:20:05.142Z"
   },
   {
    "duration": 7,
    "start_time": "2023-11-18T16:20:06.675Z"
   },
   {
    "duration": 5,
    "start_time": "2023-11-18T16:20:06.997Z"
   },
   {
    "duration": 7,
    "start_time": "2023-11-18T16:20:07.209Z"
   },
   {
    "duration": 25,
    "start_time": "2023-11-18T16:20:07.590Z"
   },
   {
    "duration": 7,
    "start_time": "2023-11-18T16:20:07.897Z"
   },
   {
    "duration": 7,
    "start_time": "2023-11-18T16:20:08.182Z"
   },
   {
    "duration": 14,
    "start_time": "2023-11-18T16:20:08.410Z"
   },
   {
    "duration": 6,
    "start_time": "2023-11-18T16:20:08.625Z"
   },
   {
    "duration": 4,
    "start_time": "2023-11-18T16:20:09.372Z"
   },
   {
    "duration": 5,
    "start_time": "2023-11-18T16:20:09.617Z"
   },
   {
    "duration": 5,
    "start_time": "2023-11-18T16:20:09.835Z"
   },
   {
    "duration": 6,
    "start_time": "2023-11-18T16:20:10.018Z"
   },
   {
    "duration": 5,
    "start_time": "2023-11-18T16:20:10.210Z"
   },
   {
    "duration": 7,
    "start_time": "2023-11-18T16:20:10.409Z"
   },
   {
    "duration": 5,
    "start_time": "2023-11-18T16:20:10.620Z"
   },
   {
    "duration": 4,
    "start_time": "2023-11-18T16:20:10.828Z"
   },
   {
    "duration": 5,
    "start_time": "2023-11-18T16:20:11.067Z"
   },
   {
    "duration": 4,
    "start_time": "2023-11-18T16:20:11.235Z"
   },
   {
    "duration": 6,
    "start_time": "2023-11-18T16:20:11.477Z"
   },
   {
    "duration": 4,
    "start_time": "2023-11-18T16:20:11.678Z"
   },
   {
    "duration": 5,
    "start_time": "2023-11-18T16:20:12.115Z"
   },
   {
    "duration": 4,
    "start_time": "2023-11-18T16:20:12.579Z"
   },
   {
    "duration": 4,
    "start_time": "2023-11-18T16:20:13.013Z"
   },
   {
    "duration": 5,
    "start_time": "2023-11-18T16:20:13.223Z"
   },
   {
    "duration": 4,
    "start_time": "2023-11-18T16:20:13.450Z"
   },
   {
    "duration": 4,
    "start_time": "2023-11-18T16:20:13.647Z"
   },
   {
    "duration": 7,
    "start_time": "2023-11-18T16:20:13.855Z"
   },
   {
    "duration": 6,
    "start_time": "2023-11-18T16:20:14.425Z"
   },
   {
    "duration": 5,
    "start_time": "2023-11-18T16:20:14.620Z"
   },
   {
    "duration": 4,
    "start_time": "2023-11-18T16:20:14.825Z"
   },
   {
    "duration": 6,
    "start_time": "2023-11-18T16:20:15.015Z"
   },
   {
    "duration": 5,
    "start_time": "2023-11-18T16:20:15.220Z"
   },
   {
    "duration": 5,
    "start_time": "2023-11-18T16:20:15.440Z"
   },
   {
    "duration": 5,
    "start_time": "2023-11-18T16:20:15.657Z"
   },
   {
    "duration": 5,
    "start_time": "2023-11-18T16:20:15.887Z"
   },
   {
    "duration": 5,
    "start_time": "2023-11-18T16:20:16.095Z"
   },
   {
    "duration": 8,
    "start_time": "2023-11-18T16:20:16.308Z"
   },
   {
    "duration": 7,
    "start_time": "2023-11-18T16:20:16.504Z"
   },
   {
    "duration": 6,
    "start_time": "2023-11-18T16:20:16.719Z"
   },
   {
    "duration": 4,
    "start_time": "2023-11-18T16:20:16.911Z"
   },
   {
    "duration": 5,
    "start_time": "2023-11-18T16:20:17.104Z"
   },
   {
    "duration": 5,
    "start_time": "2023-11-18T16:20:17.321Z"
   },
   {
    "duration": 4,
    "start_time": "2023-11-18T16:20:17.537Z"
   },
   {
    "duration": 3,
    "start_time": "2023-11-18T16:20:17.753Z"
   },
   {
    "duration": 26,
    "start_time": "2023-11-18T16:20:17.970Z"
   },
   {
    "duration": 4,
    "start_time": "2023-11-18T16:20:18.745Z"
   },
   {
    "duration": 5,
    "start_time": "2023-11-18T16:20:19.003Z"
   },
   {
    "duration": 10,
    "start_time": "2023-11-18T16:20:19.226Z"
   },
   {
    "duration": 8,
    "start_time": "2023-11-18T16:20:19.450Z"
   },
   {
    "duration": 43,
    "start_time": "2023-11-18T16:20:19.680Z"
   },
   {
    "duration": 7,
    "start_time": "2023-11-18T16:20:19.930Z"
   },
   {
    "duration": 5,
    "start_time": "2023-11-18T16:20:20.155Z"
   },
   {
    "duration": 5,
    "start_time": "2023-11-18T16:20:20.739Z"
   },
   {
    "duration": 4,
    "start_time": "2023-11-18T16:20:20.963Z"
   },
   {
    "duration": 5,
    "start_time": "2023-11-18T16:20:21.219Z"
   },
   {
    "duration": 4,
    "start_time": "2023-11-18T16:20:21.445Z"
   },
   {
    "duration": 5,
    "start_time": "2023-11-18T16:20:21.632Z"
   },
   {
    "duration": 5,
    "start_time": "2023-11-18T16:20:21.833Z"
   },
   {
    "duration": 4,
    "start_time": "2023-11-18T16:20:22.082Z"
   },
   {
    "duration": 4,
    "start_time": "2023-11-18T16:20:22.313Z"
   },
   {
    "duration": 10,
    "start_time": "2023-11-18T16:20:23.580Z"
   },
   {
    "duration": 7,
    "start_time": "2023-11-18T16:20:23.932Z"
   },
   {
    "duration": 18,
    "start_time": "2023-11-18T16:20:24.143Z"
   },
   {
    "duration": 8,
    "start_time": "2023-11-18T16:20:24.407Z"
   },
   {
    "duration": 9,
    "start_time": "2023-11-18T16:20:24.596Z"
   },
   {
    "duration": 8,
    "start_time": "2023-11-18T16:20:24.820Z"
   },
   {
    "duration": 6,
    "start_time": "2023-11-18T16:20:25.061Z"
   },
   {
    "duration": 20,
    "start_time": "2023-11-18T16:20:25.330Z"
   },
   {
    "duration": 8,
    "start_time": "2023-11-18T16:20:25.560Z"
   },
   {
    "duration": 9,
    "start_time": "2023-11-18T16:20:25.776Z"
   },
   {
    "duration": 4,
    "start_time": "2023-11-18T16:20:26.164Z"
   },
   {
    "duration": 13,
    "start_time": "2023-11-18T16:20:27.285Z"
   },
   {
    "duration": 26,
    "start_time": "2023-11-18T16:20:27.518Z"
   },
   {
    "duration": 29,
    "start_time": "2023-11-18T16:20:27.740Z"
   },
   {
    "duration": 3,
    "start_time": "2023-11-18T16:20:28.178Z"
   },
   {
    "duration": 2018,
    "start_time": "2023-11-18T16:20:33.145Z"
   },
   {
    "duration": 2,
    "start_time": "2023-11-18T16:20:39.625Z"
   },
   {
    "duration": 15,
    "start_time": "2023-11-18T16:20:40.758Z"
   },
   {
    "duration": 8,
    "start_time": "2023-11-18T16:20:41.249Z"
   },
   {
    "duration": 180,
    "start_time": "2023-11-18T16:20:41.589Z"
   },
   {
    "duration": 49608,
    "start_time": "2023-11-18T16:20:42.799Z"
   },
   {
    "duration": 2,
    "start_time": "2023-11-18T16:21:45.929Z"
   },
   {
    "duration": 2,
    "start_time": "2023-11-18T16:21:46.301Z"
   },
   {
    "duration": 77,
    "start_time": "2023-11-18T16:21:46.821Z"
   },
   {
    "duration": 155,
    "start_time": "2023-11-18T16:21:47.213Z"
   },
   {
    "duration": 2573,
    "start_time": "2023-11-18T16:21:47.599Z"
   },
   {
    "duration": 329,
    "start_time": "2023-11-18T16:21:52.411Z"
   },
   {
    "duration": 148,
    "start_time": "2023-11-18T16:21:54.378Z"
   },
   {
    "duration": 3,
    "start_time": "2023-11-18T16:21:54.774Z"
   },
   {
    "duration": 20,
    "start_time": "2023-11-18T16:21:55.338Z"
   },
   {
    "duration": 18,
    "start_time": "2023-11-18T16:21:55.898Z"
   },
   {
    "duration": 77,
    "start_time": "2023-11-18T16:21:57.324Z"
   },
   {
    "duration": 635,
    "start_time": "2023-11-18T16:22:02.277Z"
   },
   {
    "duration": 3,
    "start_time": "2023-11-18T16:22:03.048Z"
   },
   {
    "duration": 3,
    "start_time": "2023-11-18T16:22:03.459Z"
   },
   {
    "duration": 7,
    "start_time": "2023-11-18T16:22:05.068Z"
   },
   {
    "duration": 13,
    "start_time": "2023-11-18T16:22:05.786Z"
   },
   {
    "duration": 17,
    "start_time": "2023-11-18T16:22:06.487Z"
   },
   {
    "duration": 61,
    "start_time": "2023-11-18T16:22:07.013Z"
   },
   {
    "duration": 123,
    "start_time": "2023-11-18T16:22:07.910Z"
   },
   {
    "duration": 9,
    "start_time": "2023-11-18T16:22:38.361Z"
   },
   {
    "duration": 9,
    "start_time": "2023-11-18T16:22:38.735Z"
   },
   {
    "duration": 10,
    "start_time": "2023-11-18T16:22:39.323Z"
   },
   {
    "duration": 6,
    "start_time": "2023-11-18T16:22:40.084Z"
   },
   {
    "duration": 6,
    "start_time": "2023-11-18T16:22:40.536Z"
   },
   {
    "duration": 248,
    "start_time": "2023-11-18T16:22:41.296Z"
   },
   {
    "duration": 22,
    "start_time": "2023-11-18T16:23:37.577Z"
   },
   {
    "duration": 130,
    "start_time": "2023-11-18T16:24:21.055Z"
   },
   {
    "duration": 8,
    "start_time": "2023-11-18T16:24:27.452Z"
   },
   {
    "duration": 163,
    "start_time": "2023-11-18T16:24:27.738Z"
   }
  ],
  "kernelspec": {
   "display_name": "Python 3 (ipykernel)",
   "language": "python",
   "name": "python3"
  },
  "language_info": {
   "codemirror_mode": {
    "name": "ipython",
    "version": 3
   },
   "file_extension": ".py",
   "mimetype": "text/x-python",
   "name": "python",
   "nbconvert_exporter": "python",
   "pygments_lexer": "ipython3",
   "version": "3.9.5"
  },
  "toc": {
   "base_numbering": 1,
   "nav_menu": {},
   "number_sections": true,
   "sideBar": true,
   "skip_h1_title": true,
   "title_cell": "Table of Contents",
   "title_sidebar": "Contents",
   "toc_cell": false,
   "toc_position": {},
   "toc_section_display": true,
   "toc_window_display": false
  }
 },
 "nbformat": 4,
 "nbformat_minor": 2
}
