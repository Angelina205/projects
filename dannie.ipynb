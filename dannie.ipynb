{
 "cells": [
  {
   "cell_type": "markdown",
   "metadata": {
    "toc": true
   },
   "source": [
    "<h1>Содержание<span class=\"tocSkip\"></span></h1>\n",
    "<div class=\"toc\"><ul class=\"toc-item\"><li><span><a href=\"#Загрузка-данных\" data-toc-modified-id=\"Загрузка-данных-1\"><span class=\"toc-item-num\">1&nbsp;&nbsp;</span>Загрузка данных</a></span></li><li><span><a href=\"#Умножение-матриц\" data-toc-modified-id=\"Умножение-матриц-2\"><span class=\"toc-item-num\">2&nbsp;&nbsp;</span>Умножение матриц</a></span></li><li><span><a href=\"#Проверка-алгоритма\" data-toc-modified-id=\"Проверка-алгоритма-3\"><span class=\"toc-item-num\">3&nbsp;&nbsp;</span>Проверка алгоритма</a></span></li><li><span><a href=\"#Чек-лист-проверки\" data-toc-modified-id=\"Чек-лист-проверки-4\"><span class=\"toc-item-num\">4&nbsp;&nbsp;</span>Чек-лист проверки</a></span></li></ul></div>"
   ]
  },
  {
   "cell_type": "markdown",
   "metadata": {},
   "source": [
    "Имеется проект, необходимо:\n",
    "\n",
    "• загрузить и изучить данные;\n",
    "\n",
    "• отметить на вопрос:\n",
    "\n",
    " Признаки умножают на обратимую матрицу. Изменится ли качество линейной регрессии? (Её можно обучить заново.)\n",
    " \n",
    " a. Изменится. Приведите примеры матриц.\n",
    " \n",
    " b. Не изменится. Укажите, как связаны параметры линейной регрессии в исходной задаче и в преобразованной.\n",
    " \n",
    "• предложить алгоритм преобразования данных для решения задачи и обосновать, почему качество линейной регрессии не поменяется;\n",
    "\n",
    "• запрограммировать алгоритм, применив матричные операции и проверить, что качество линейной регрессии из sklearn не отличается до и после преобразования, применить метрику R2."
   ]
  },
  {
   "cell_type": "markdown",
   "metadata": {},
   "source": [
    "Имеется датасет /datasets/insurance.csv с признаками: пол, возраст, зарплата, количество членов семьи застрахованного.\n",
    "\n",
    "Целевым признаком является количество страховых выплат клиенту за последние 5 лет."
   ]
  },
  {
   "cell_type": "markdown",
   "metadata": {},
   "source": [
    "# Защита персональных данных клиентов"
   ]
  },
  {
   "cell_type": "markdown",
   "metadata": {},
   "source": [
    "Вам нужно защитить данные клиентов страховой компании «Хоть потоп». Разработайте такой метод преобразования данных, чтобы по ним было сложно восстановить персональную информацию. Обоснуйте корректность его работы.\n",
    "\n",
    "Нужно защитить данные, чтобы при преобразовании качество моделей машинного обучения не ухудшилось. Подбирать наилучшую модель не требуется."
   ]
  },
  {
   "cell_type": "markdown",
   "metadata": {},
   "source": [
    "## Загрузка данных"
   ]
  },
  {
   "cell_type": "code",
   "execution_count": 74,
   "metadata": {},
   "outputs": [],
   "source": [
    "import pandas as pd\n",
    "import numpy as np\n",
    "import matplotlib.pyplot as plt\n",
    "from sklearn.linear_model import LinearRegression\n",
    "from sklearn.metrics import r2_score\n",
    "from sklearn.model_selection import train_test_split"
   ]
  },
  {
   "cell_type": "code",
   "execution_count": 75,
   "metadata": {},
   "outputs": [],
   "source": [
    "data = pd.read_csv('/datasets/insurance.csv')"
   ]
  },
  {
   "cell_type": "code",
   "execution_count": 76,
   "metadata": {
    "scrolled": true
   },
   "outputs": [
    {
     "name": "stdout",
     "output_type": "stream",
     "text": [
      "<class 'pandas.core.frame.DataFrame'>\n",
      "RangeIndex: 5000 entries, 0 to 4999\n",
      "Data columns (total 5 columns):\n",
      " #   Column             Non-Null Count  Dtype  \n",
      "---  ------             --------------  -----  \n",
      " 0   Пол                5000 non-null   int64  \n",
      " 1   Возраст            5000 non-null   float64\n",
      " 2   Зарплата           5000 non-null   float64\n",
      " 3   Члены семьи        5000 non-null   int64  \n",
      " 4   Страховые выплаты  5000 non-null   int64  \n",
      "dtypes: float64(2), int64(3)\n",
      "memory usage: 195.4 KB\n"
     ]
    }
   ],
   "source": [
    "data.info()"
   ]
  },
  {
   "cell_type": "code",
   "execution_count": 77,
   "metadata": {},
   "outputs": [
    {
     "data": {
      "text/html": [
       "<div>\n",
       "<style scoped>\n",
       "    .dataframe tbody tr th:only-of-type {\n",
       "        vertical-align: middle;\n",
       "    }\n",
       "\n",
       "    .dataframe tbody tr th {\n",
       "        vertical-align: top;\n",
       "    }\n",
       "\n",
       "    .dataframe thead th {\n",
       "        text-align: right;\n",
       "    }\n",
       "</style>\n",
       "<table border=\"1\" class=\"dataframe\">\n",
       "  <thead>\n",
       "    <tr style=\"text-align: right;\">\n",
       "      <th></th>\n",
       "      <th>Пол</th>\n",
       "      <th>Возраст</th>\n",
       "      <th>Зарплата</th>\n",
       "      <th>Члены семьи</th>\n",
       "      <th>Страховые выплаты</th>\n",
       "    </tr>\n",
       "  </thead>\n",
       "  <tbody>\n",
       "    <tr>\n",
       "      <th>0</th>\n",
       "      <td>1</td>\n",
       "      <td>41.0</td>\n",
       "      <td>49600.0</td>\n",
       "      <td>1</td>\n",
       "      <td>0</td>\n",
       "    </tr>\n",
       "    <tr>\n",
       "      <th>1</th>\n",
       "      <td>0</td>\n",
       "      <td>46.0</td>\n",
       "      <td>38000.0</td>\n",
       "      <td>1</td>\n",
       "      <td>1</td>\n",
       "    </tr>\n",
       "    <tr>\n",
       "      <th>2</th>\n",
       "      <td>0</td>\n",
       "      <td>29.0</td>\n",
       "      <td>21000.0</td>\n",
       "      <td>0</td>\n",
       "      <td>0</td>\n",
       "    </tr>\n",
       "    <tr>\n",
       "      <th>3</th>\n",
       "      <td>0</td>\n",
       "      <td>21.0</td>\n",
       "      <td>41700.0</td>\n",
       "      <td>2</td>\n",
       "      <td>0</td>\n",
       "    </tr>\n",
       "    <tr>\n",
       "      <th>4</th>\n",
       "      <td>1</td>\n",
       "      <td>28.0</td>\n",
       "      <td>26100.0</td>\n",
       "      <td>0</td>\n",
       "      <td>0</td>\n",
       "    </tr>\n",
       "    <tr>\n",
       "      <th>5</th>\n",
       "      <td>1</td>\n",
       "      <td>43.0</td>\n",
       "      <td>41000.0</td>\n",
       "      <td>2</td>\n",
       "      <td>1</td>\n",
       "    </tr>\n",
       "    <tr>\n",
       "      <th>6</th>\n",
       "      <td>1</td>\n",
       "      <td>39.0</td>\n",
       "      <td>39700.0</td>\n",
       "      <td>2</td>\n",
       "      <td>0</td>\n",
       "    </tr>\n",
       "    <tr>\n",
       "      <th>7</th>\n",
       "      <td>1</td>\n",
       "      <td>25.0</td>\n",
       "      <td>38600.0</td>\n",
       "      <td>4</td>\n",
       "      <td>0</td>\n",
       "    </tr>\n",
       "    <tr>\n",
       "      <th>8</th>\n",
       "      <td>1</td>\n",
       "      <td>36.0</td>\n",
       "      <td>49700.0</td>\n",
       "      <td>1</td>\n",
       "      <td>0</td>\n",
       "    </tr>\n",
       "    <tr>\n",
       "      <th>9</th>\n",
       "      <td>1</td>\n",
       "      <td>32.0</td>\n",
       "      <td>51700.0</td>\n",
       "      <td>1</td>\n",
       "      <td>0</td>\n",
       "    </tr>\n",
       "  </tbody>\n",
       "</table>\n",
       "</div>"
      ],
      "text/plain": [
       "   Пол  Возраст  Зарплата  Члены семьи  Страховые выплаты\n",
       "0    1     41.0   49600.0            1                  0\n",
       "1    0     46.0   38000.0            1                  1\n",
       "2    0     29.0   21000.0            0                  0\n",
       "3    0     21.0   41700.0            2                  0\n",
       "4    1     28.0   26100.0            0                  0\n",
       "5    1     43.0   41000.0            2                  1\n",
       "6    1     39.0   39700.0            2                  0\n",
       "7    1     25.0   38600.0            4                  0\n",
       "8    1     36.0   49700.0            1                  0\n",
       "9    1     32.0   51700.0            1                  0"
      ]
     },
     "metadata": {},
     "output_type": "display_data"
    }
   ],
   "source": [
    "display(data.head(10))"
   ]
  },
  {
   "cell_type": "code",
   "execution_count": 78,
   "metadata": {
    "scrolled": false
   },
   "outputs": [
    {
     "name": "stdout",
     "output_type": "stream",
     "text": [
      "Уникальные значения для колонки \"Пол\":\n",
      "[1 0]\n",
      "Уникальные значения для колонки \"Возраст\":\n",
      "[41. 46. 29. 21. 28. 43. 39. 25. 36. 32. 38. 23. 40. 34. 26. 42. 27. 33.\n",
      " 47. 30. 19. 31. 22. 20. 24. 18. 37. 48. 45. 44. 52. 49. 35. 56. 65. 55.\n",
      " 57. 54. 50. 53. 51. 58. 59. 60. 61. 62.]\n",
      "Уникальные значения для колонки \"Члены семьи\":\n",
      "[1 0 2 4 3 5 6]\n",
      "Уникальные значения для колонки \"Страховые выплаты\":\n",
      "[0 1 2 3 5 4]\n"
     ]
    }
   ],
   "source": [
    "for column in data.columns:\n",
    "    if column != 'Зарплата':\n",
    "        unique_values = data[column].unique()\n",
    "        print(f'Уникальные значения для колонки \"{column}\":')\n",
    "        print(unique_values)"
   ]
  },
  {
   "cell_type": "code",
   "execution_count": 79,
   "metadata": {},
   "outputs": [
    {
     "data": {
      "image/png": "[encoded data removed]",
      "text/plain": [
       "<Figure size 720x432 with 1 Axes>"
      ]
     },
     "metadata": {
      "needs_background": "light"
     },
     "output_type": "display_data"
    }
   ],
   "source": [
    "plt.figure(figsize=(10, 6))\n",
    "plt.hist(data['Зарплата'], bins=30, color='skyblue', edgecolor='black')\n",
    "plt.title('Гистограмма колонки \"Зарплаты\"')\n",
    "plt.xlabel('Зарплата')\n",
    "plt.ylabel('Количество')\n",
    "plt.grid(True)\n",
    "plt.show()"
   ]
  },
  {
   "cell_type": "code",
   "execution_count": 80,
   "metadata": {},
   "outputs": [
    {
     "data": {
      "image/png": "[encoded data removed]",
      "text/plain": [
       "<Figure size 720x432 with 1 Axes>"
      ]
     },
     "metadata": {
      "needs_background": "light"
     },
     "output_type": "display_data"
    }
   ],
   "source": [
    "plt.figure(figsize=(10, 6))\n",
    "plt.hist(data['Возраст'], bins=30, color='lightgreen', edgecolor='black')\n",
    "plt.title('Гистограмма колонки \"Возраста\"')\n",
    "plt.xlabel('Возраст')\n",
    "plt.ylabel('Количество')\n",
    "plt.grid(True)\n",
    "plt.show()"
   ]
  },
  {
   "cell_type": "markdown",
   "metadata": {},
   "source": [
    "• Пол: либо мужской, либо женский\n",
    "\n",
    "• Возраст: от 19 до 65 лет\n",
    "\n",
    "• Члены семьи: от 0 до 6\n",
    "\n",
    "• Страховые выплаты: от 0 до 5"
   ]
  },
  {
   "cell_type": "markdown",
   "metadata": {},
   "source": [
    "Пропусков в таблице нет."
   ]
  },
  {
   "cell_type": "markdown",
   "metadata": {},
   "source": [
    "## Умножение матриц"
   ]
  },
  {
   "cell_type": "markdown",
   "metadata": {},
   "source": [
    "В этом задании вы можете записывать формулы в *Jupyter Notebook.*\n",
    "\n",
    "Чтобы записать формулу внутри текста, окружите её символами доллара \\\\$; если снаружи —  двойными символами \\\\$\\\\$. Эти формулы записываются на языке вёрстки *LaTeX.* \n",
    "\n",
    "Для примера мы записали формулы линейной регрессии. Можете их скопировать и отредактировать, чтобы решить задачу.\n",
    "\n",
    "Работать в *LaTeX* необязательно."
   ]
  },
  {
   "cell_type": "markdown",
   "metadata": {},
   "source": [
    "Обозначения:\n",
    "\n",
    "- $X$ — матрица признаков (нулевой столбец состоит из единиц)\n",
    "\n",
    "- $y$ — вектор целевого признака\n",
    "\n",
    "- $P$ — матрица, на которую умножаются признаки\n",
    "\n",
    "- $w$ — вектор весов линейной регрессии (нулевой элемент равен сдвигу)"
   ]
  },
  {
   "cell_type": "markdown",
   "metadata": {},
   "source": [
    "Предсказания:\n",
    "\n",
    "$$\n",
    "a = Xw\n",
    "$$\n",
    "\n",
    "Задача обучения:\n",
    "\n",
    "$$\n",
    "w = \\arg\\min_w MSE(Xw, y)\n",
    "$$\n",
    "\n",
    "Формула обучения:\n",
    "\n",
    "$$\n",
    "w = (X^T X)^{-1} X^T y\n",
    "$$"
   ]
  },
  {
   "cell_type": "markdown",
   "metadata": {},
   "source": [
    "**Ответ:** ...\n",
    "\n",
    "Признаки умножают на обратимую матрицу. Изменится ли качество линейной регрессии? (Её можно обучить заново.)\n",
    "\n",
    " a. Изменится. Приведите примеры матриц.\n",
    " \n",
    " b. Не изменится. Укажите, как связаны параметры линейной регрессии в исходной задаче и в преобразованной.\n",
    " \n",
    "\n"
   ]
  },
  {
   "cell_type": "markdown",
   "metadata": {},
   "source": [
    "Ответ b."
   ]
  },
  {
   "cell_type": "markdown",
   "metadata": {},
   "source": [
    "Если умножить матрицу признаков X на обратимую матрицу, например, Y, чтобы получить матрицу признаков X', то:"
   ]
  },
  {
   "cell_type": "markdown",
   "metadata": {},
   "source": [
    "$$X'=XY$$"
   ]
  },
  {
   "cell_type": "markdown",
   "metadata": {},
   "source": [
    "$$ a'=X'w'=(XY)w'=X(Yw')$$ =>"
   ]
  },
  {
   "cell_type": "markdown",
   "metadata": {},
   "source": [
    "=> $$a'=X(Yw')$$"
   ]
  },
  {
   "cell_type": "markdown",
   "metadata": {},
   "source": [
    "Из условий задачи: w-это вектор весов линейной регрессии, а w'-вектор весов в линейной регрессии в преобразованной формуле."
   ]
  },
  {
   "cell_type": "markdown",
   "metadata": {},
   "source": [
    "$$w'=Yw$$"
   ]
  },
  {
   "cell_type": "markdown",
   "metadata": {},
   "source": [
    "Т.о. параметры лр в новой задаче имеют взаимосвязь с параметрами лр в задаче изз условия при умножении на обратимую матрицу Y"
   ]
  },
  {
   "cell_type": "markdown",
   "metadata": {},
   "source": [
    "Т.о. => $$a'=X(Yw')= XYY^{-1}w' = Xw = a$$"
   ]
  },
  {
   "cell_type": "markdown",
   "metadata": {},
   "source": [
    "Ответ b доказан."
   ]
  },
  {
   "cell_type": "markdown",
   "metadata": {},
   "source": [
    "Воспользуюсь формулой из задания. Если признаки умножают на обратимую матрицу, то новые параметры модели вычисляются как:\n",
    "\n",
    "$$\n",
    "w_{new} = (\\hat{X}^T\\hat{X})^{-1}\\hat{X}^Ty\n",
    "$$\n",
    "\n",
    "$\\hat{X}$ - матрица признаков, умноженная на обратимую матрицу. Подставим выражение для $\\hat{X}$:\n",
    "\n",
    "$$\n",
    "\\hat{X} = XP\n",
    "$$\n",
    "\n",
    "Ыормула для новых параметров:\n",
    "\n",
    "$$\n",
    "w_{new} = ((XP)^T(XP))^{-1}(XP)^Ty\n",
    "$$\n",
    "\n",
    "УПо св-ву транспонирования и обратимости матриц: выражение $(XP)^T(XP)$ = $P^TX^TXP$. \n",
    "\n",
    "Т.о. новые параметры модели:\n",
    "\n",
    "$$\n",
    "w_{new} = (P^TX^TXP)^{-1}P^TX^Ty\n",
    "$$\n",
    "\n",
    "Матрица $(X^TX)^{-1}X^T$ является псевдообратной, =>:\n",
    "\n",
    "$$\n",
    "(X^TX)^{-1}X^T = (X^TX)^{\\dagger}\n",
    "$$\n",
    "\n",
    "Поэтому выражение $$(P^TX^TXP)^{-1}P^TX^T$$ сокращается до $$P^{-1}(X^TX)^{\\dagger}$$\n",
    "\n",
    "Т.о. параметры модели после умножения признаков на обратимую матрицу выражаются через параметры модели до преобразования => качество модели не изменится. "
   ]
  },
  {
   "cell_type": "markdown",
   "metadata": {},
   "source": [
    "Параметры обозначаются как $w$, после преобразования обозначим их как $w_{\\text{новые}}$. Если $\\hat{X} = XP$, где $P$ — обратимая матрица, тогда $w_{\\text{н}}$ выражаются через $w$ следующим образом:\n",
    "\n",
    "$$\n",
    "w_{\\text{н}} = (X^TX)^{-1}X^Ty\n",
    "$$\n",
    "\n",
    "$$\n",
    "w_{\\text{н}} = ((XP)^T(XP))^{-1}(XP)^Ty\n",
    "$$\n",
    "\n",
    "$$\n",
    "w_{\\text{н}} = (P^TX^TXP)^{-1}P^TX^Ty\n",
    "$$\n",
    "\n",
    "$$\n",
    "w_{\\text{н}} = (P^T(X^TX)P)^{-1}P^TX^Ty\n",
    "$$\n",
    "\n",
    "Т.к. $(X^TX)^{-1}X^T$ — это псевдообратная матрица, выражение упрощается до:\n",
    "\n",
    "$$\n",
    "w_{\\text{н}} = (P^T(X^TX)P)^{-1}P^TX^Ty = P^{-1}(X^TX)^{\\dagger}X^Ty\n",
    "$$\n",
    "\n",
    "$X^TX$ не изменится при умножении на обратимую матриц, => $(X^TX)^{\\dagger}X^T$ — это исходные веса $w$.\n",
    "\n",
    "Т.о., $w_{\\text{н}} = P^{-1}w$ => новые параметры модели связаны с исходными параметрами умножением на обратимую матрицу $P$. Как говорилось ранее, ачество модели не изменится после умножения признаков на обратимую матрицу."
   ]
  },
  {
   "cell_type": "markdown",
   "metadata": {},
   "source": [
    "**Алгоритм**\n",
    "\n",
    "Каждый признак (колонку с данными) необходимо умножить на обратимую матрицу. Данное действие не изменит связь между ними и исходными переменными. Линейную регрессию надо будет обучить на новых признаках. После обучения модели, как сказано в условии, нужно применить метрику R2. "
   ]
  },
  {
   "cell_type": "markdown",
   "metadata": {},
   "source": [
    "Матрица необратима, если ее определитель равен нулю. Если он равен нулю => система лин ур имеет бесконечное количество решений. В таком случае необходимо перегенерировать матрицу."
   ]
  },
  {
   "cell_type": "markdown",
   "metadata": {},
   "source": [
    "**Обоснование**\n",
    "\n",
    "Как уже было написано в предыдущем пункте, при умножении признаков на обратимую матрицу не изменяется взаимозависимость между признаками и целевой переменной. Предсказания модели на новых признаках будут такие же, как и на признаках в условии, качество модели при этом не изменится."
   ]
  },
  {
   "cell_type": "markdown",
   "metadata": {},
   "source": [
    "## Проверка алгоритма"
   ]
  },
  {
   "cell_type": "code",
   "execution_count": 81,
   "metadata": {},
   "outputs": [],
   "source": [
    "X = data[['Пол', 'Возраст', 'Зарплата', 'Члены семьи']]\n",
    "G = data['Страховые выплаты']"
   ]
  },
  {
   "cell_type": "markdown",
   "metadata": {},
   "source": [
    "Определяем признаки и целевой признаки для обучения модели."
   ]
  },
  {
   "cell_type": "code",
   "execution_count": 82,
   "metadata": {},
   "outputs": [],
   "source": [
    "X_normalized = (X - X.mean()) / X.std()"
   ]
  },
  {
   "cell_type": "markdown",
   "metadata": {},
   "source": [
    "Нормализирование признаков."
   ]
  },
  {
   "cell_type": "code",
   "execution_count": 83,
   "metadata": {},
   "outputs": [],
   "source": [
    "def generate_mat (size):\n",
    "    while True:\n",
    "        matrix = np.random.rand(size, size)\n",
    "        if np.linalg.det(matrix) != 0:\n",
    "            return matrix"
   ]
  },
  {
   "cell_type": "markdown",
   "metadata": {},
   "source": [
    "Генерация в функции generate_mat происходит до тех пор, пока определитель не равен нулю. Функция из ранее импорт. библ. numpy."
   ]
  },
  {
   "cell_type": "code",
   "execution_count": 84,
   "metadata": {},
   "outputs": [],
   "source": [
    "Y = generate_mat (X_normalized.shape[1])"
   ]
  },
  {
   "cell_type": "markdown",
   "metadata": {},
   "source": [
    "Обратимая матрица"
   ]
  },
  {
   "cell_type": "code",
   "execution_count": 85,
   "metadata": {},
   "outputs": [],
   "source": [
    "X_transformed = X_normalized.dot(Y)"
   ]
  },
  {
   "cell_type": "markdown",
   "metadata": {},
   "source": [
    "Умножение признаков на обратимую матрицу Р."
   ]
  },
  {
   "cell_type": "code",
   "execution_count": 86,
   "metadata": {},
   "outputs": [],
   "source": [
    "X_train, X_test, G_train, G_test = train_test_split(X_transformed, G, \n",
    "                                                    test_size=0.2, random_state=42)"
   ]
  },
  {
   "cell_type": "code",
   "execution_count": 87,
   "metadata": {},
   "outputs": [],
   "source": [
    "model_original = LinearRegression()\n",
    "model_original.fit(X_train, G_train)\n",
    "G_original = model_original.predict(X_test)\n",
    "r2_original = r2_score(G_test, G_original)"
   ]
  },
  {
   "cell_type": "code",
   "execution_count": 88,
   "metadata": {},
   "outputs": [
    {
     "name": "stdout",
     "output_type": "stream",
     "text": [
      "R2 до преобразования данных: 0.43686949231379957\n"
     ]
    }
   ],
   "source": [
    "print(\"R2 до преобразования данных:\", r2_original)"
   ]
  },
  {
   "cell_type": "code",
   "execution_count": 89,
   "metadata": {},
   "outputs": [],
   "source": [
    "model_transformed = LinearRegression()\n",
    "model_transformed.fit(X_train, G_train)\n",
    "G_transformed = model_transformed.predict(X_test)\n",
    "r2_transformed = r2_score(G_test, G_transformed)"
   ]
  },
  {
   "cell_type": "code",
   "execution_count": 90,
   "metadata": {
    "scrolled": true
   },
   "outputs": [
    {
     "name": "stdout",
     "output_type": "stream",
     "text": [
      "R2 после преобразования данных: 0.43686949231379957\n"
     ]
    }
   ],
   "source": [
    "print(\"R2 после преобразования данных:\", r2_transformed)"
   ]
  },
  {
   "cell_type": "markdown",
   "metadata": {},
   "source": [
    "**Вывод**"
   ]
  },
  {
   "cell_type": "markdown",
   "metadata": {},
   "source": [
    "Проведено исследование данных страховых выплат за последние 5 лет. Всего есть 5000 строк данных, в которых содержатся данные о возрасте, зарплате, численности членов семьи и количестве выплат."
   ]
  },
  {
   "cell_type": "markdown",
   "metadata": {},
   "source": [
    "Проведено преобразование признаков с использованием обрамой матрицы, что сохранило характеристики данных и обеспечило анонимность клиентов при работе с информацией. Коэффициент детерминации R2 показал, что до и после преобразования значения R2 не менялись (0,4368694), что позволяет сделать вывод, что качестве линейной регрессии не меняется при преобразовании данных. Следовательно, данный метод эффективен для сохранения анонимности клиентов."
   ]
  }
 ],
 "metadata": {
  "ExecuteTimeLog": [
   {
    "duration": 1085,
    "start_time": "2024-03-03T17:41:43.036Z"
   },
   {
    "duration": 86,
    "start_time": "2024-03-03T17:42:05.720Z"
   },
   {
    "duration": 17,
    "start_time": "2024-03-03T17:42:41.645Z"
   },
   {
    "duration": 10,
    "start_time": "2024-03-03T17:43:15.380Z"
   },
   {
    "duration": 9,
    "start_time": "2024-03-03T17:43:16.178Z"
   },
   {
    "duration": 13,
    "start_time": "2024-03-03T17:44:18.270Z"
   },
   {
    "duration": 6,
    "start_time": "2024-03-03T17:44:58.698Z"
   },
   {
    "duration": 6,
    "start_time": "2024-03-03T17:46:46.910Z"
   },
   {
    "duration": 6,
    "start_time": "2024-03-03T17:46:56.298Z"
   },
   {
    "duration": 415,
    "start_time": "2024-03-03T17:47:12.753Z"
   },
   {
    "duration": 30,
    "start_time": "2024-03-03T17:47:13.170Z"
   },
   {
    "duration": 11,
    "start_time": "2024-03-03T17:47:13.201Z"
   },
   {
    "duration": 10,
    "start_time": "2024-03-03T17:47:13.310Z"
   },
   {
    "duration": 6,
    "start_time": "2024-03-03T17:47:13.513Z"
   },
   {
    "duration": 189,
    "start_time": "2024-03-03T17:47:13.802Z"
   },
   {
    "duration": 175,
    "start_time": "2024-03-03T17:47:27.985Z"
   },
   {
    "duration": 177,
    "start_time": "2024-03-03T17:47:43.422Z"
   },
   {
    "duration": 178,
    "start_time": "2024-03-03T17:47:57.163Z"
   },
   {
    "duration": 246,
    "start_time": "2024-03-03T17:48:47.402Z"
   },
   {
    "duration": 172,
    "start_time": "2024-03-03T17:48:56.269Z"
   },
   {
    "duration": 170,
    "start_time": "2024-03-03T17:49:22.262Z"
   },
   {
    "duration": 44,
    "start_time": "2024-03-04T10:10:15.393Z"
   },
   {
    "duration": 1351,
    "start_time": "2024-03-04T10:10:20.054Z"
   },
   {
    "duration": 72,
    "start_time": "2024-03-04T10:10:21.406Z"
   },
   {
    "duration": 10,
    "start_time": "2024-03-04T10:10:21.479Z"
   },
   {
    "duration": 13,
    "start_time": "2024-03-04T10:10:21.685Z"
   },
   {
    "duration": 5,
    "start_time": "2024-03-04T10:10:21.860Z"
   },
   {
    "duration": 159,
    "start_time": "2024-03-04T10:10:22.043Z"
   },
   {
    "duration": 154,
    "start_time": "2024-03-04T10:10:22.215Z"
   },
   {
    "duration": 4,
    "start_time": "2024-03-04T10:10:25.866Z"
   },
   {
    "duration": 7,
    "start_time": "2024-03-04T10:10:26.228Z"
   },
   {
    "duration": 3,
    "start_time": "2024-03-04T10:10:55.278Z"
   },
   {
    "duration": 4,
    "start_time": "2024-03-04T10:14:06.284Z"
   },
   {
    "duration": 5,
    "start_time": "2024-03-04T10:14:06.707Z"
   },
   {
    "duration": 2,
    "start_time": "2024-03-04T10:14:07.154Z"
   },
   {
    "duration": 3,
    "start_time": "2024-03-04T10:14:07.398Z"
   },
   {
    "duration": 5,
    "start_time": "2024-03-04T10:14:07.614Z"
   },
   {
    "duration": 69,
    "start_time": "2024-03-04T10:14:43.502Z"
   },
   {
    "duration": 2,
    "start_time": "2024-03-04T10:14:49.529Z"
   },
   {
    "duration": 2,
    "start_time": "2024-03-04T10:14:49.903Z"
   },
   {
    "duration": 4,
    "start_time": "2024-03-04T10:14:50.329Z"
   },
   {
    "duration": 11,
    "start_time": "2024-03-04T10:14:50.725Z"
   },
   {
    "duration": 11,
    "start_time": "2024-03-04T10:15:15.842Z"
   },
   {
    "duration": 8,
    "start_time": "2024-03-04T10:15:20.945Z"
   },
   {
    "duration": 2,
    "start_time": "2024-03-04T10:17:12.391Z"
   },
   {
    "duration": 2,
    "start_time": "2024-03-04T10:17:12.609Z"
   },
   {
    "duration": 4,
    "start_time": "2024-03-04T10:17:12.802Z"
   },
   {
    "duration": 6,
    "start_time": "2024-03-04T10:17:12.962Z"
   },
   {
    "duration": 12,
    "start_time": "2024-03-04T10:17:13.141Z"
   },
   {
    "duration": 7,
    "start_time": "2024-03-04T10:17:13.335Z"
   },
   {
    "duration": 3,
    "start_time": "2024-03-04T10:19:36.811Z"
   },
   {
    "duration": 3,
    "start_time": "2024-03-04T10:19:37.060Z"
   },
   {
    "duration": 4,
    "start_time": "2024-03-04T10:19:37.250Z"
   },
   {
    "duration": 6,
    "start_time": "2024-03-04T10:19:37.436Z"
   },
   {
    "duration": 7,
    "start_time": "2024-03-04T10:19:37.615Z"
   },
   {
    "duration": 3,
    "start_time": "2024-03-04T10:19:38.226Z"
   },
   {
    "duration": 3,
    "start_time": "2024-03-04T10:21:16.225Z"
   },
   {
    "duration": 6,
    "start_time": "2024-03-04T10:21:16.583Z"
   },
   {
    "duration": 3,
    "start_time": "2024-03-04T10:21:16.886Z"
   },
   {
    "duration": 3,
    "start_time": "2024-03-04T10:21:17.200Z"
   },
   {
    "duration": 4,
    "start_time": "2024-03-04T10:21:17.538Z"
   },
   {
    "duration": 7,
    "start_time": "2024-03-04T10:21:17.712Z"
   },
   {
    "duration": 2,
    "start_time": "2024-03-04T10:21:18.191Z"
   },
   {
    "duration": 7,
    "start_time": "2024-03-04T10:21:18.783Z"
   },
   {
    "duration": 2,
    "start_time": "2024-03-04T10:21:19.317Z"
   },
   {
    "duration": 3,
    "start_time": "2024-03-04T10:40:22.865Z"
   },
   {
    "duration": 25,
    "start_time": "2024-03-04T10:40:23.163Z"
   },
   {
    "duration": 9,
    "start_time": "2024-03-04T10:40:23.564Z"
   },
   {
    "duration": 8,
    "start_time": "2024-03-04T10:40:23.946Z"
   },
   {
    "duration": 2,
    "start_time": "2024-03-04T10:40:36.074Z"
   },
   {
    "duration": 26,
    "start_time": "2024-03-04T10:40:36.259Z"
   },
   {
    "duration": 9,
    "start_time": "2024-03-04T10:40:36.430Z"
   },
   {
    "duration": 9,
    "start_time": "2024-03-04T10:40:36.609Z"
   },
   {
    "duration": 6,
    "start_time": "2024-03-04T10:40:36.779Z"
   },
   {
    "duration": 145,
    "start_time": "2024-03-04T10:40:36.940Z"
   },
   {
    "duration": 144,
    "start_time": "2024-03-04T10:40:37.101Z"
   },
   {
    "duration": 3,
    "start_time": "2024-03-04T10:40:41.130Z"
   },
   {
    "duration": 5,
    "start_time": "2024-03-04T10:40:41.481Z"
   },
   {
    "duration": 2,
    "start_time": "2024-03-04T10:40:41.840Z"
   },
   {
    "duration": 3,
    "start_time": "2024-03-04T10:40:42.233Z"
   },
   {
    "duration": 4,
    "start_time": "2024-03-04T10:40:42.854Z"
   },
   {
    "duration": 7,
    "start_time": "2024-03-04T10:40:54.515Z"
   },
   {
    "duration": 3,
    "start_time": "2024-03-04T10:40:54.736Z"
   },
   {
    "duration": 6,
    "start_time": "2024-03-04T10:40:54.925Z"
   },
   {
    "duration": 2,
    "start_time": "2024-03-04T10:40:55.213Z"
   },
   {
    "duration": 4,
    "start_time": "2024-03-04T10:41:32.658Z"
   },
   {
    "duration": 6,
    "start_time": "2024-03-04T10:41:33.221Z"
   },
   {
    "duration": 3,
    "start_time": "2024-03-04T10:41:33.828Z"
   },
   {
    "duration": 3,
    "start_time": "2024-03-04T10:41:34.542Z"
   },
   {
    "duration": 3,
    "start_time": "2024-03-04T10:41:35.218Z"
   },
   {
    "duration": 7,
    "start_time": "2024-03-04T10:41:35.592Z"
   },
   {
    "duration": 3,
    "start_time": "2024-03-04T10:41:36.016Z"
   },
   {
    "duration": 6,
    "start_time": "2024-03-04T10:41:36.315Z"
   },
   {
    "duration": 3,
    "start_time": "2024-03-04T10:41:36.853Z"
   },
   {
    "duration": 3549,
    "start_time": "2024-03-04T11:00:22.634Z"
   },
   {
    "duration": 91,
    "start_time": "2024-03-04T11:00:26.185Z"
   },
   {
    "duration": 12,
    "start_time": "2024-03-04T11:00:26.278Z"
   },
   {
    "duration": 15,
    "start_time": "2024-03-04T11:00:26.292Z"
   },
   {
    "duration": 17,
    "start_time": "2024-03-04T11:00:26.308Z"
   },
   {
    "duration": 202,
    "start_time": "2024-03-04T11:00:26.326Z"
   },
   {
    "duration": 194,
    "start_time": "2024-03-04T11:00:26.530Z"
   },
   {
    "duration": 4,
    "start_time": "2024-03-04T11:00:26.725Z"
   },
   {
    "duration": 13,
    "start_time": "2024-03-04T11:00:26.731Z"
   },
   {
    "duration": 13,
    "start_time": "2024-03-04T11:00:26.746Z"
   },
   {
    "duration": 5,
    "start_time": "2024-03-04T11:00:26.761Z"
   },
   {
    "duration": 5,
    "start_time": "2024-03-04T11:00:26.770Z"
   },
   {
    "duration": 12,
    "start_time": "2024-03-04T11:00:26.776Z"
   },
   {
    "duration": 11,
    "start_time": "2024-03-04T11:00:26.790Z"
   },
   {
    "duration": 17,
    "start_time": "2024-03-04T11:00:26.803Z"
   },
   {
    "duration": 6,
    "start_time": "2024-03-04T11:00:26.822Z"
   },
   {
    "duration": 3,
    "start_time": "2024-03-04T14:02:14.582Z"
   },
   {
    "duration": 26,
    "start_time": "2024-03-04T14:02:14.735Z"
   },
   {
    "duration": 9,
    "start_time": "2024-03-04T14:02:14.894Z"
   },
   {
    "duration": 8,
    "start_time": "2024-03-04T14:02:15.044Z"
   },
   {
    "duration": 5,
    "start_time": "2024-03-04T14:02:15.205Z"
   },
   {
    "duration": 147,
    "start_time": "2024-03-04T14:02:15.377Z"
   },
   {
    "duration": 197,
    "start_time": "2024-03-04T14:02:15.544Z"
   },
   {
    "duration": 4,
    "start_time": "2024-03-04T14:02:20.012Z"
   },
   {
    "duration": 5,
    "start_time": "2024-03-04T14:02:20.520Z"
   },
   {
    "duration": 3,
    "start_time": "2024-03-04T14:02:20.866Z"
   },
   {
    "duration": 2,
    "start_time": "2024-03-04T14:02:21.054Z"
   },
   {
    "duration": 3,
    "start_time": "2024-03-04T14:02:21.659Z"
   },
   {
    "duration": 5,
    "start_time": "2024-03-04T14:02:22.395Z"
   },
   {
    "duration": 6,
    "start_time": "2024-03-04T14:02:26.636Z"
   },
   {
    "duration": 3,
    "start_time": "2024-03-04T14:02:26.979Z"
   },
   {
    "duration": 6,
    "start_time": "2024-03-04T14:02:27.354Z"
   },
   {
    "duration": 3,
    "start_time": "2024-03-04T14:02:27.808Z"
   }
  ],
  "kernelspec": {
   "display_name": "Python 3 (ipykernel)",
   "language": "python",
   "name": "python3"
  },
  "language_info": {
   "codemirror_mode": {
    "name": "ipython",
    "version": 3
   },
   "file_extension": ".py",
   "mimetype": "text/x-python",
   "name": "python",
   "nbconvert_exporter": "python",
   "pygments_lexer": "ipython3",
   "version": "3.9.5"
  },
  "toc": {
   "base_numbering": 1,
   "nav_menu": {},
   "number_sections": true,
   "sideBar": true,
   "skip_h1_title": true,
   "title_cell": "Содержание",
   "title_sidebar": "Contents",
   "toc_cell": true,
   "toc_position": {
    "height": "calc(100% - 180px)",
    "left": "10px",
    "top": "150px",
    "width": "319.797px"
   },
   "toc_section_display": true,
   "toc_window_display": false
  }
 },
 "nbformat": 4,
 "nbformat_minor": 2
}
