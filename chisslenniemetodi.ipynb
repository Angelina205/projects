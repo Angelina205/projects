{
 "cells": [
  {
   "cell_type": "markdown",
   "metadata": {
    "id": "__N844NoQPPs"
   },
   "source": [
    "# Определение стоимости автомобилей"
   ]
  },
  {
   "cell_type": "markdown",
   "metadata": {
    "id": "d7xmlHvMQPPt"
   },
   "source": [
    "Сервис по продаже автомобилей с пробегом «Не бит, не крашен» разрабатывает приложение для привлечения новых клиентов. В нём можно быстро узнать рыночную стоимость своего автомобиля. В вашем распоряжении исторические данные: технические характеристики, комплектации и цены автомобилей. Вам нужно построить модель для определения стоимости.\n",
    "\n",
    "Заказчику важны:\n",
    "\n",
    "- качество предсказания;\n",
    "- скорость предсказания;\n",
    "- время обучения."
   ]
  },
  {
   "cell_type": "markdown",
   "metadata": {
    "id": "3kcj8qOyQPPt"
   },
   "source": [
    "Основные шаги:\n",
    "\n",
    "1. Загрузите данные, путь к файлу: /datasets/autos.csv.\n",
    "\n",
    "2. Изучите данные. Заполните пропущенные значения и обработайте аномалии в столбцах. Если среди признаков имеются неинформативные, удалите их.\n",
    "\n",
    "3. Подготовьте выборки для обучения моделей.\n",
    "\n",
    "4. Обучите разные модели, одна из которых — LightGBM, как минимум одна — не бустинг. Для каждой модели попробуйте разные гиперпараметры.\n",
    "\n",
    "5. Проанализируйте время обучения, время предсказания и качество моделей.\n",
    "\n",
    "6. Опираясь на критерии заказчика, выберете лучшую модель, проверьте её качество на тестовой выборке."
   ]
  },
  {
   "cell_type": "markdown",
   "metadata": {
    "id": "o_ta9HS_QPPt"
   },
   "source": [
    "Признаки:\n",
    "\n",
    "• DateCrawled — дата скачивания анкеты из базы\n",
    "\n",
    "• VehicleType — тип автомобильного кузова\n",
    "\n",
    "• RegistrationYear — год регистрации автомобиля\n",
    "\n",
    "• Gearbox — тип коробки передач\n",
    "\n",
    "• Power — мощность (л. с.)\n",
    "\n",
    "• Model — модель автомобиля\n",
    "\n",
    "• Kilometer — пробег (км)\n",
    "\n",
    "• RegistrationMonth — месяц регистрации автомобиля\n",
    "\n",
    "• FuelType — тип топлива\n",
    "\n",
    "• Brand — марка автомобиля\n",
    "\n",
    "• Repaired — была машина в ремонте или нет\n",
    "\n",
    "• DateCreated — дата создания анкеты\n",
    "\n",
    "• NumberOfPictures — количество фотографий автомобиля\n",
    "\n",
    "• PostalCode — почтовый индекс владельца анкеты (пользователя)\n",
    "\n",
    "• LastSeen — дата последней активности пользователя\n",
    "\n",
    "\n",
    "Целевой признак\n",
    "\n",
    "• Price — цена (евро)"
   ]
  },
  {
   "cell_type": "markdown",
   "metadata": {
    "id": "-ux5APo2QPPu"
   },
   "source": [
    "## Подготовка данных"
   ]
  },
  {
   "cell_type": "code",
   "execution_count": 1,
   "metadata": {
    "colab": {
     "base_uri": "https://localhost:8080/"
    },
    "id": "P0eprT5pQYhl",
    "outputId": "6a5db3cd-5b31-4da2-f854-948656f36ac1"
   },
   "outputs": [
    {
     "name": "stdout",
     "output_type": "stream",
     "text": [
      "Requirement already satisfied: scikit-learn in /usr/local/lib/python3.10/dist-packages (1.2.2)\n",
      "Collecting scikit-learn\n",
      "  Downloading scikit_learn-1.4.1.post1-cp310-cp310-manylinux_2_17_x86_64.manylinux2014_x86_64.whl (12.1 MB)\n",
      "\u001b[2K     \u001b[90m━━━━━━━━━━━━━━━━━━━━━━━━━━━━━━━━━━━━━━━━\u001b[0m \u001b[32m12.1/12.1 MB\u001b[0m \u001b[31m49.4 MB/s\u001b[0m eta \u001b[36m0:00:00\u001b[0m\n",
      "\u001b[?25hRequirement already satisfied: numpy<2.0,>=1.19.5 in /usr/local/lib/python3.10/dist-packages (from scikit-learn) (1.25.2)\n",
      "Requirement already satisfied: scipy>=1.6.0 in /usr/local/lib/python3.10/dist-packages (from scikit-learn) (1.11.4)\n",
      "Requirement already satisfied: joblib>=1.2.0 in /usr/local/lib/python3.10/dist-packages (from scikit-learn) (1.3.2)\n",
      "Requirement already satisfied: threadpoolctl>=2.0.0 in /usr/local/lib/python3.10/dist-packages (from scikit-learn) (3.3.0)\n",
      "Installing collected packages: scikit-learn\n",
      "  Attempting uninstall: scikit-learn\n",
      "    Found existing installation: scikit-learn 1.2.2\n",
      "    Uninstalling scikit-learn-1.2.2:\n",
      "      Successfully uninstalled scikit-learn-1.2.2\n",
      "Successfully installed scikit-learn-1.4.1.post1\n"
     ]
    }
   ],
   "source": [
    "!pip install -U scikit-learn"
   ]
  },
  {
   "cell_type": "code",
   "execution_count": 2,
   "metadata": {
    "id": "peRnVRUUQPPu"
   },
   "outputs": [],
   "source": [
    "from math import sqrt\n",
    "import time\n",
    "\n",
    "import pandas as pd\n",
    "import numpy as np\n",
    "import matplotlib.pyplot as plt\n",
    "import seaborn as sns\n",
    "\n",
    "from sklearn.model_selection import train_test_split\n",
    "from sklearn.preprocessing import LabelEncoder, StandardScaler, OneHotEncoder, OrdinalEncoder\n",
    "from sklearn.compose import ColumnTransformer\n",
    "from sklearn.metrics import mean_squared_error\n",
    "from sklearn.model_selection import GridSearchCV\n",
    "\n",
    "from sklearn.linear_model import LinearRegression\n",
    "from sklearn.ensemble import RandomForestRegressor\n",
    "from sklearn.tree import DecisionTreeRegressor\n",
    "\n",
    "import lightgbm as lgb\n",
    "from lightgbm.callback import early_stopping, log_evaluation\n",
    "\n",
    "from scipy.stats import spearmanr\n",
    "\n",
    "from tqdm import tqdm"
   ]
  },
  {
   "cell_type": "code",
   "execution_count": 3,
   "metadata": {
    "id": "o8pk82HvQPPv"
   },
   "outputs": [],
   "source": [
    "data = pd.read_csv('datasets/autos.csv')"
   ]
  },
  {
   "cell_type": "code",
   "execution_count": 4,
   "metadata": {
    "colab": {
     "base_uri": "https://localhost:8080/",
     "height": 730
    },
    "id": "qhQLod5LQPPw",
    "outputId": "5797095f-c6cb-4c87-d4c1-b3c296bbdb03"
   },
   "outputs": [
    {
     "data": {
      "application/vnd.google.colaboratory.intrinsic+json": {
       "type": "dataframe",
       "variable_name": "data"
      },
      "text/html": [
       "\n",
       "  <div id=\"df-e932ac04-bc08-4343-a047-597f1d12b4f3\" class=\"colab-df-container\">\n",
       "    <div>\n",
       "<style scoped>\n",
       "    .dataframe tbody tr th:only-of-type {\n",
       "        vertical-align: middle;\n",
       "    }\n",
       "\n",
       "    .dataframe tbody tr th {\n",
       "        vertical-align: top;\n",
       "    }\n",
       "\n",
       "    .dataframe thead th {\n",
       "        text-align: right;\n",
       "    }\n",
       "</style>\n",
       "<table border=\"1\" class=\"dataframe\">\n",
       "  <thead>\n",
       "    <tr style=\"text-align: right;\">\n",
       "      <th></th>\n",
       "      <th>DateCrawled</th>\n",
       "      <th>Price</th>\n",
       "      <th>VehicleType</th>\n",
       "      <th>RegistrationYear</th>\n",
       "      <th>Gearbox</th>\n",
       "      <th>Power</th>\n",
       "      <th>Model</th>\n",
       "      <th>Kilometer</th>\n",
       "      <th>RegistrationMonth</th>\n",
       "      <th>FuelType</th>\n",
       "      <th>Brand</th>\n",
       "      <th>Repaired</th>\n",
       "      <th>DateCreated</th>\n",
       "      <th>NumberOfPictures</th>\n",
       "      <th>PostalCode</th>\n",
       "      <th>LastSeen</th>\n",
       "    </tr>\n",
       "  </thead>\n",
       "  <tbody>\n",
       "    <tr>\n",
       "      <th>0</th>\n",
       "      <td>2016-03-24 11:52:17</td>\n",
       "      <td>480</td>\n",
       "      <td>NaN</td>\n",
       "      <td>1993</td>\n",
       "      <td>manual</td>\n",
       "      <td>0</td>\n",
       "      <td>golf</td>\n",
       "      <td>150000</td>\n",
       "      <td>0</td>\n",
       "      <td>petrol</td>\n",
       "      <td>volkswagen</td>\n",
       "      <td>NaN</td>\n",
       "      <td>2016-03-24 00:00:00</td>\n",
       "      <td>0</td>\n",
       "      <td>70435</td>\n",
       "      <td>2016-04-07 03:16:57</td>\n",
       "    </tr>\n",
       "    <tr>\n",
       "      <th>1</th>\n",
       "      <td>2016-03-24 10:58:45</td>\n",
       "      <td>18300</td>\n",
       "      <td>coupe</td>\n",
       "      <td>2011</td>\n",
       "      <td>manual</td>\n",
       "      <td>190</td>\n",
       "      <td>NaN</td>\n",
       "      <td>125000</td>\n",
       "      <td>5</td>\n",
       "      <td>gasoline</td>\n",
       "      <td>audi</td>\n",
       "      <td>yes</td>\n",
       "      <td>2016-03-24 00:00:00</td>\n",
       "      <td>0</td>\n",
       "      <td>66954</td>\n",
       "      <td>2016-04-07 01:46:50</td>\n",
       "    </tr>\n",
       "    <tr>\n",
       "      <th>2</th>\n",
       "      <td>2016-03-14 12:52:21</td>\n",
       "      <td>9800</td>\n",
       "      <td>suv</td>\n",
       "      <td>2004</td>\n",
       "      <td>auto</td>\n",
       "      <td>163</td>\n",
       "      <td>grand</td>\n",
       "      <td>125000</td>\n",
       "      <td>8</td>\n",
       "      <td>gasoline</td>\n",
       "      <td>jeep</td>\n",
       "      <td>NaN</td>\n",
       "      <td>2016-03-14 00:00:00</td>\n",
       "      <td>0</td>\n",
       "      <td>90480</td>\n",
       "      <td>2016-04-05 12:47:46</td>\n",
       "    </tr>\n",
       "    <tr>\n",
       "      <th>3</th>\n",
       "      <td>2016-03-17 16:54:04</td>\n",
       "      <td>1500</td>\n",
       "      <td>small</td>\n",
       "      <td>2001</td>\n",
       "      <td>manual</td>\n",
       "      <td>75</td>\n",
       "      <td>golf</td>\n",
       "      <td>150000</td>\n",
       "      <td>6</td>\n",
       "      <td>petrol</td>\n",
       "      <td>volkswagen</td>\n",
       "      <td>no</td>\n",
       "      <td>2016-03-17 00:00:00</td>\n",
       "      <td>0</td>\n",
       "      <td>91074</td>\n",
       "      <td>2016-03-17 17:40:17</td>\n",
       "    </tr>\n",
       "    <tr>\n",
       "      <th>4</th>\n",
       "      <td>2016-03-31 17:25:20</td>\n",
       "      <td>3600</td>\n",
       "      <td>small</td>\n",
       "      <td>2008</td>\n",
       "      <td>manual</td>\n",
       "      <td>69</td>\n",
       "      <td>fabia</td>\n",
       "      <td>90000</td>\n",
       "      <td>7</td>\n",
       "      <td>gasoline</td>\n",
       "      <td>skoda</td>\n",
       "      <td>no</td>\n",
       "      <td>2016-03-31 00:00:00</td>\n",
       "      <td>0</td>\n",
       "      <td>60437</td>\n",
       "      <td>2016-04-06 10:17:21</td>\n",
       "    </tr>\n",
       "    <tr>\n",
       "      <th>5</th>\n",
       "      <td>2016-04-04 17:36:23</td>\n",
       "      <td>650</td>\n",
       "      <td>sedan</td>\n",
       "      <td>1995</td>\n",
       "      <td>manual</td>\n",
       "      <td>102</td>\n",
       "      <td>3er</td>\n",
       "      <td>150000</td>\n",
       "      <td>10</td>\n",
       "      <td>petrol</td>\n",
       "      <td>bmw</td>\n",
       "      <td>yes</td>\n",
       "      <td>2016-04-04 00:00:00</td>\n",
       "      <td>0</td>\n",
       "      <td>33775</td>\n",
       "      <td>2016-04-06 19:17:07</td>\n",
       "    </tr>\n",
       "    <tr>\n",
       "      <th>6</th>\n",
       "      <td>2016-04-01 20:48:51</td>\n",
       "      <td>2200</td>\n",
       "      <td>convertible</td>\n",
       "      <td>2004</td>\n",
       "      <td>manual</td>\n",
       "      <td>109</td>\n",
       "      <td>2_reihe</td>\n",
       "      <td>150000</td>\n",
       "      <td>8</td>\n",
       "      <td>petrol</td>\n",
       "      <td>peugeot</td>\n",
       "      <td>no</td>\n",
       "      <td>2016-04-01 00:00:00</td>\n",
       "      <td>0</td>\n",
       "      <td>67112</td>\n",
       "      <td>2016-04-05 18:18:39</td>\n",
       "    </tr>\n",
       "    <tr>\n",
       "      <th>7</th>\n",
       "      <td>2016-03-21 18:54:38</td>\n",
       "      <td>0</td>\n",
       "      <td>sedan</td>\n",
       "      <td>1980</td>\n",
       "      <td>manual</td>\n",
       "      <td>50</td>\n",
       "      <td>other</td>\n",
       "      <td>40000</td>\n",
       "      <td>7</td>\n",
       "      <td>petrol</td>\n",
       "      <td>volkswagen</td>\n",
       "      <td>no</td>\n",
       "      <td>2016-03-21 00:00:00</td>\n",
       "      <td>0</td>\n",
       "      <td>19348</td>\n",
       "      <td>2016-03-25 16:47:58</td>\n",
       "    </tr>\n",
       "    <tr>\n",
       "      <th>8</th>\n",
       "      <td>2016-04-04 23:42:13</td>\n",
       "      <td>14500</td>\n",
       "      <td>bus</td>\n",
       "      <td>2014</td>\n",
       "      <td>manual</td>\n",
       "      <td>125</td>\n",
       "      <td>c_max</td>\n",
       "      <td>30000</td>\n",
       "      <td>8</td>\n",
       "      <td>petrol</td>\n",
       "      <td>ford</td>\n",
       "      <td>NaN</td>\n",
       "      <td>2016-04-04 00:00:00</td>\n",
       "      <td>0</td>\n",
       "      <td>94505</td>\n",
       "      <td>2016-04-04 23:42:13</td>\n",
       "    </tr>\n",
       "    <tr>\n",
       "      <th>9</th>\n",
       "      <td>2016-03-17 10:53:50</td>\n",
       "      <td>999</td>\n",
       "      <td>small</td>\n",
       "      <td>1998</td>\n",
       "      <td>manual</td>\n",
       "      <td>101</td>\n",
       "      <td>golf</td>\n",
       "      <td>150000</td>\n",
       "      <td>0</td>\n",
       "      <td>NaN</td>\n",
       "      <td>volkswagen</td>\n",
       "      <td>NaN</td>\n",
       "      <td>2016-03-17 00:00:00</td>\n",
       "      <td>0</td>\n",
       "      <td>27472</td>\n",
       "      <td>2016-03-31 17:17:06</td>\n",
       "    </tr>\n",
       "  </tbody>\n",
       "</table>\n",
       "</div>\n",
       "    <div class=\"colab-df-buttons\">\n",
       "\n",
       "  <div class=\"colab-df-container\">\n",
       "    <button class=\"colab-df-convert\" onclick=\"convertToInteractive('df-e932ac04-bc08-4343-a047-597f1d12b4f3')\"\n",
       "            title=\"Convert this dataframe to an interactive table.\"\n",
       "            style=\"display:none;\">\n",
       "\n",
       "  <svg xmlns=\"http://www.w3.org/2000/svg\" height=\"24px\" viewBox=\"0 -960 960 960\">\n",
       "    <path d=\"M120-120v-720h720v720H120Zm60-500h600v-160H180v160Zm220 220h160v-160H400v160Zm0 220h160v-160H400v160ZM180-400h160v-160H180v160Zm440 0h160v-160H620v160ZM180-180h160v-160H180v160Zm440 0h160v-160H620v160Z\"/>\n",
       "  </svg>\n",
       "    </button>\n",
       "\n",
       "  <style>\n",
       "    .colab-df-container {\n",
       "      display:flex;\n",
       "      gap: 12px;\n",
       "    }\n",
       "\n",
       "    .colab-df-convert {\n",
       "      background-color: #E8F0FE;\n",
       "      border: none;\n",
       "      border-radius: 50%;\n",
       "      cursor: pointer;\n",
       "      display: none;\n",
       "      fill: #1967D2;\n",
       "      height: 32px;\n",
       "      padding: 0 0 0 0;\n",
       "      width: 32px;\n",
       "    }\n",
       "\n",
       "    .colab-df-convert:hover {\n",
       "      background-color: #E2EBFA;\n",
       "      box-shadow: 0px 1px 2px rgba(60, 64, 67, 0.3), 0px 1px 3px 1px rgba(60, 64, 67, 0.15);\n",
       "      fill: #174EA6;\n",
       "    }\n",
       "\n",
       "    .colab-df-buttons div {\n",
       "      margin-bottom: 4px;\n",
       "    }\n",
       "\n",
       "    [theme=dark] .colab-df-convert {\n",
       "      background-color: #3B4455;\n",
       "      fill: #D2E3FC;\n",
       "    }\n",
       "\n",
       "    [theme=dark] .colab-df-convert:hover {\n",
       "      background-color: #434B5C;\n",
       "      box-shadow: 0px 1px 3px 1px rgba(0, 0, 0, 0.15);\n",
       "      filter: drop-shadow(0px 1px 2px rgba(0, 0, 0, 0.3));\n",
       "      fill: #FFFFFF;\n",
       "    }\n",
       "  </style>\n",
       "\n",
       "    <script>\n",
       "      const buttonEl =\n",
       "        document.querySelector('#df-e932ac04-bc08-4343-a047-597f1d12b4f3 button.colab-df-convert');\n",
       "      buttonEl.style.display =\n",
       "        google.colab.kernel.accessAllowed ? 'block' : 'none';\n",
       "\n",
       "      async function convertToInteractive(key) {\n",
       "        const element = document.querySelector('#df-e932ac04-bc08-4343-a047-597f1d12b4f3');\n",
       "        const dataTable =\n",
       "          await google.colab.kernel.invokeFunction('convertToInteractive',\n",
       "                                                    [key], {});\n",
       "        if (!dataTable) return;\n",
       "\n",
       "        const docLinkHtml = 'Like what you see? Visit the ' +\n",
       "          '<a target=\"_blank\" href=https://colab.research.google.com/notebooks/data_table.ipynb>data table notebook</a>'\n",
       "          + ' to learn more about interactive tables.';\n",
       "        element.innerHTML = '';\n",
       "        dataTable['output_type'] = 'display_data';\n",
       "        await google.colab.output.renderOutput(dataTable, element);\n",
       "        const docLink = document.createElement('div');\n",
       "        docLink.innerHTML = docLinkHtml;\n",
       "        element.appendChild(docLink);\n",
       "      }\n",
       "    </script>\n",
       "  </div>\n",
       "\n",
       "\n",
       "<div id=\"df-d8d297d9-1b75-43a2-a0c7-464bc0ee61b1\">\n",
       "  <button class=\"colab-df-quickchart\" onclick=\"quickchart('df-d8d297d9-1b75-43a2-a0c7-464bc0ee61b1')\"\n",
       "            title=\"Suggest charts\"\n",
       "            style=\"display:none;\">\n",
       "\n",
       "<svg xmlns=\"http://www.w3.org/2000/svg\" height=\"24px\"viewBox=\"0 0 24 24\"\n",
       "     width=\"24px\">\n",
       "    <g>\n",
       "        <path d=\"M19 3H5c-1.1 0-2 .9-2 2v14c0 1.1.9 2 2 2h14c1.1 0 2-.9 2-2V5c0-1.1-.9-2-2-2zM9 17H7v-7h2v7zm4 0h-2V7h2v10zm4 0h-2v-4h2v4z\"/>\n",
       "    </g>\n",
       "</svg>\n",
       "  </button>\n",
       "\n",
       "<style>\n",
       "  .colab-df-quickchart {\n",
       "      --bg-color: #E8F0FE;\n",
       "      --fill-color: #1967D2;\n",
       "      --hover-bg-color: #E2EBFA;\n",
       "      --hover-fill-color: #174EA6;\n",
       "      --disabled-fill-color: #AAA;\n",
       "      --disabled-bg-color: #DDD;\n",
       "  }\n",
       "\n",
       "  [theme=dark] .colab-df-quickchart {\n",
       "      --bg-color: #3B4455;\n",
       "      --fill-color: #D2E3FC;\n",
       "      --hover-bg-color: #434B5C;\n",
       "      --hover-fill-color: #FFFFFF;\n",
       "      --disabled-bg-color: #3B4455;\n",
       "      --disabled-fill-color: #666;\n",
       "  }\n",
       "\n",
       "  .colab-df-quickchart {\n",
       "    background-color: var(--bg-color);\n",
       "    border: none;\n",
       "    border-radius: 50%;\n",
       "    cursor: pointer;\n",
       "    display: none;\n",
       "    fill: var(--fill-color);\n",
       "    height: 32px;\n",
       "    padding: 0;\n",
       "    width: 32px;\n",
       "  }\n",
       "\n",
       "  .colab-df-quickchart:hover {\n",
       "    background-color: var(--hover-bg-color);\n",
       "    box-shadow: 0 1px 2px rgba(60, 64, 67, 0.3), 0 1px 3px 1px rgba(60, 64, 67, 0.15);\n",
       "    fill: var(--button-hover-fill-color);\n",
       "  }\n",
       "\n",
       "  .colab-df-quickchart-complete:disabled,\n",
       "  .colab-df-quickchart-complete:disabled:hover {\n",
       "    background-color: var(--disabled-bg-color);\n",
       "    fill: var(--disabled-fill-color);\n",
       "    box-shadow: none;\n",
       "  }\n",
       "\n",
       "  .colab-df-spinner {\n",
       "    border: 2px solid var(--fill-color);\n",
       "    border-color: transparent;\n",
       "    border-bottom-color: var(--fill-color);\n",
       "    animation:\n",
       "      spin 1s steps(1) infinite;\n",
       "  }\n",
       "\n",
       "  @keyframes spin {\n",
       "    0% {\n",
       "      border-color: transparent;\n",
       "      border-bottom-color: var(--fill-color);\n",
       "      border-left-color: var(--fill-color);\n",
       "    }\n",
       "    20% {\n",
       "      border-color: transparent;\n",
       "      border-left-color: var(--fill-color);\n",
       "      border-top-color: var(--fill-color);\n",
       "    }\n",
       "    30% {\n",
       "      border-color: transparent;\n",
       "      border-left-color: var(--fill-color);\n",
       "      border-top-color: var(--fill-color);\n",
       "      border-right-color: var(--fill-color);\n",
       "    }\n",
       "    40% {\n",
       "      border-color: transparent;\n",
       "      border-right-color: var(--fill-color);\n",
       "      border-top-color: var(--fill-color);\n",
       "    }\n",
       "    60% {\n",
       "      border-color: transparent;\n",
       "      border-right-color: var(--fill-color);\n",
       "    }\n",
       "    80% {\n",
       "      border-color: transparent;\n",
       "      border-right-color: var(--fill-color);\n",
       "      border-bottom-color: var(--fill-color);\n",
       "    }\n",
       "    90% {\n",
       "      border-color: transparent;\n",
       "      border-bottom-color: var(--fill-color);\n",
       "    }\n",
       "  }\n",
       "</style>\n",
       "\n",
       "  <script>\n",
       "    async function quickchart(key) {\n",
       "      const quickchartButtonEl =\n",
       "        document.querySelector('#' + key + ' button');\n",
       "      quickchartButtonEl.disabled = true;  // To prevent multiple clicks.\n",
       "      quickchartButtonEl.classList.add('colab-df-spinner');\n",
       "      try {\n",
       "        const charts = await google.colab.kernel.invokeFunction(\n",
       "            'suggestCharts', [key], {});\n",
       "      } catch (error) {\n",
       "        console.error('Error during call to suggestCharts:', error);\n",
       "      }\n",
       "      quickchartButtonEl.classList.remove('colab-df-spinner');\n",
       "      quickchartButtonEl.classList.add('colab-df-quickchart-complete');\n",
       "    }\n",
       "    (() => {\n",
       "      let quickchartButtonEl =\n",
       "        document.querySelector('#df-d8d297d9-1b75-43a2-a0c7-464bc0ee61b1 button');\n",
       "      quickchartButtonEl.style.display =\n",
       "        google.colab.kernel.accessAllowed ? 'block' : 'none';\n",
       "    })();\n",
       "  </script>\n",
       "</div>\n",
       "    </div>\n",
       "  </div>\n"
      ],
      "text/plain": [
       "           DateCrawled  Price  VehicleType  RegistrationYear Gearbox  Power  \\\n",
       "0  2016-03-24 11:52:17    480          NaN              1993  manual      0   \n",
       "1  2016-03-24 10:58:45  18300        coupe              2011  manual    190   \n",
       "2  2016-03-14 12:52:21   9800          suv              2004    auto    163   \n",
       "3  2016-03-17 16:54:04   1500        small              2001  manual     75   \n",
       "4  2016-03-31 17:25:20   3600        small              2008  manual     69   \n",
       "5  2016-04-04 17:36:23    650        sedan              1995  manual    102   \n",
       "6  2016-04-01 20:48:51   2200  convertible              2004  manual    109   \n",
       "7  2016-03-21 18:54:38      0        sedan              1980  manual     50   \n",
       "8  2016-04-04 23:42:13  14500          bus              2014  manual    125   \n",
       "9  2016-03-17 10:53:50    999        small              1998  manual    101   \n",
       "\n",
       "     Model  Kilometer  RegistrationMonth  FuelType       Brand Repaired  \\\n",
       "0     golf     150000                  0    petrol  volkswagen      NaN   \n",
       "1      NaN     125000                  5  gasoline        audi      yes   \n",
       "2    grand     125000                  8  gasoline        jeep      NaN   \n",
       "3     golf     150000                  6    petrol  volkswagen       no   \n",
       "4    fabia      90000                  7  gasoline       skoda       no   \n",
       "5      3er     150000                 10    petrol         bmw      yes   \n",
       "6  2_reihe     150000                  8    petrol     peugeot       no   \n",
       "7    other      40000                  7    petrol  volkswagen       no   \n",
       "8    c_max      30000                  8    petrol        ford      NaN   \n",
       "9     golf     150000                  0       NaN  volkswagen      NaN   \n",
       "\n",
       "           DateCreated  NumberOfPictures  PostalCode             LastSeen  \n",
       "0  2016-03-24 00:00:00                 0       70435  2016-04-07 03:16:57  \n",
       "1  2016-03-24 00:00:00                 0       66954  2016-04-07 01:46:50  \n",
       "2  2016-03-14 00:00:00                 0       90480  2016-04-05 12:47:46  \n",
       "3  2016-03-17 00:00:00                 0       91074  2016-03-17 17:40:17  \n",
       "4  2016-03-31 00:00:00                 0       60437  2016-04-06 10:17:21  \n",
       "5  2016-04-04 00:00:00                 0       33775  2016-04-06 19:17:07  \n",
       "6  2016-04-01 00:00:00                 0       67112  2016-04-05 18:18:39  \n",
       "7  2016-03-21 00:00:00                 0       19348  2016-03-25 16:47:58  \n",
       "8  2016-04-04 00:00:00                 0       94505  2016-04-04 23:42:13  \n",
       "9  2016-03-17 00:00:00                 0       27472  2016-03-31 17:17:06  "
      ]
     },
     "execution_count": 4,
     "metadata": {},
     "output_type": "execute_result"
    }
   ],
   "source": [
    "data.head(10)"
   ]
  },
  {
   "cell_type": "code",
   "execution_count": 5,
   "metadata": {
    "colab": {
     "base_uri": "https://localhost:8080/"
    },
    "id": "15hNnoytQPPx",
    "outputId": "19908c66-94ec-4e12-d3c3-ce370df3c03e"
   },
   "outputs": [
    {
     "name": "stdout",
     "output_type": "stream",
     "text": [
      "<class 'pandas.core.frame.DataFrame'>\n",
      "RangeIndex: 354369 entries, 0 to 354368\n",
      "Data columns (total 16 columns):\n",
      " #   Column             Non-Null Count   Dtype \n",
      "---  ------             --------------   ----- \n",
      " 0   DateCrawled        354369 non-null  object\n",
      " 1   Price              354369 non-null  int64 \n",
      " 2   VehicleType        316879 non-null  object\n",
      " 3   RegistrationYear   354369 non-null  int64 \n",
      " 4   Gearbox            334536 non-null  object\n",
      " 5   Power              354369 non-null  int64 \n",
      " 6   Model              334664 non-null  object\n",
      " 7   Kilometer          354369 non-null  int64 \n",
      " 8   RegistrationMonth  354369 non-null  int64 \n",
      " 9   FuelType           321474 non-null  object\n",
      " 10  Brand              354369 non-null  object\n",
      " 11  Repaired           283215 non-null  object\n",
      " 12  DateCreated        354369 non-null  object\n",
      " 13  NumberOfPictures   354369 non-null  int64 \n",
      " 14  PostalCode         354369 non-null  int64 \n",
      " 15  LastSeen           354369 non-null  object\n",
      "dtypes: int64(7), object(9)\n",
      "memory usage: 43.3+ MB\n"
     ]
    }
   ],
   "source": [
    "data.info()"
   ]
  },
  {
   "cell_type": "markdown",
   "metadata": {
    "id": "CV1NbyEFQPPx"
   },
   "source": [
    "Работа с пропущенными значениями:"
   ]
  },
  {
   "cell_type": "code",
   "execution_count": 6,
   "metadata": {
    "colab": {
     "base_uri": "https://localhost:8080/"
    },
    "id": "oIvsfNwYQPPx",
    "outputId": "f44ff6d0-67d6-4da2-c4e0-34917d858f73"
   },
   "outputs": [
    {
     "name": "stdout",
     "output_type": "stream",
     "text": [
      "DateCrawled              0\n",
      "Price                    0\n",
      "VehicleType          37490\n",
      "RegistrationYear         0\n",
      "Gearbox              19833\n",
      "Power                    0\n",
      "Model                19705\n",
      "Kilometer                0\n",
      "RegistrationMonth        0\n",
      "FuelType             32895\n",
      "Brand                    0\n",
      "Repaired             71154\n",
      "DateCreated              0\n",
      "NumberOfPictures         0\n",
      "PostalCode               0\n",
      "LastSeen                 0\n",
      "dtype: int64\n"
     ]
    }
   ],
   "source": [
    "print(data.isnull().sum())"
   ]
  },
  {
   "cell_type": "code",
   "execution_count": 7,
   "metadata": {
    "colab": {
     "base_uri": "https://localhost:8080/"
    },
    "id": "tWpIXAwgQPPx",
    "outputId": "b36d9002-cdb9-4200-91e0-c9c8152bacdd"
   },
   "outputs": [
    {
     "name": "stdout",
     "output_type": "stream",
     "text": [
      "4\n"
     ]
    }
   ],
   "source": [
    "print (data.duplicated().sum())"
   ]
  },
  {
   "cell_type": "code",
   "execution_count": 8,
   "metadata": {
    "id": "trArdefcQPPx"
   },
   "outputs": [],
   "source": [
    "data = data.drop_duplicates()"
   ]
  },
  {
   "cell_type": "code",
   "execution_count": 9,
   "metadata": {
    "colab": {
     "base_uri": "https://localhost:8080/"
    },
    "id": "IjXHSDfSQPPy",
    "outputId": "fa51bde5-351a-4b5c-b971-fd69058b5c03"
   },
   "outputs": [
    {
     "name": "stdout",
     "output_type": "stream",
     "text": [
      "0\n"
     ]
    }
   ],
   "source": [
    "print (data.duplicated().sum())"
   ]
  },
  {
   "cell_type": "markdown",
   "metadata": {
    "id": "NM2pz1VSQPPy"
   },
   "source": [
    "Найдено 4 дубликата, они удалены"
   ]
  },
  {
   "cell_type": "code",
   "execution_count": 10,
   "metadata": {
    "colab": {
     "base_uri": "https://localhost:8080/"
    },
    "id": "uxtpi9ENQPPy",
    "outputId": "443062dc-e528-4d1c-e63a-bc2615c02eba"
   },
   "outputs": [
    {
     "name": "stdout",
     "output_type": "stream",
     "text": [
      "2016-04-07 14:36:58\n"
     ]
    }
   ],
   "source": [
    "print (data['DateCrawled'].max())"
   ]
  },
  {
   "cell_type": "markdown",
   "metadata": {
    "id": "6rkZkkg8QPPy"
   },
   "source": [
    "DateCrawled, DateCreated, NumberOfPictures, PostalCode, LastSeen не несут полезной информации, их можно удалить."
   ]
  },
  {
   "cell_type": "markdown",
   "metadata": {
    "id": "luUfhuozQPPz"
   },
   "source": [
    "Рассмотрю несколько ситуаций:"
   ]
  },
  {
   "cell_type": "markdown",
   "metadata": {
    "id": "jueuJj9TQPP0"
   },
   "source": [
    "Рассмотрю несколько ситуаций:\n",
    "\n",
    "1. Месяц регистрации не должен влиять на стоимость автомобиля\n",
    "2. Но смотря на мсесяц, пользователь может оценивать новизну машины\n",
    "\n",
    "Для анализа рассмотрим коэффициент корреляции Спирмена и P-значение, которое позволит оценить статистическую значимость."
   ]
  },
  {
   "cell_type": "markdown",
   "metadata": {
    "id": "UO71pRrKQPP0"
   },
   "source": [
    "Коэффициент корреляции Спирмена очень низкий, отсутствует корреляция между месяцем регистрации и ценой автомобиля. p-значение показывает на незначимость. Следовательно, удаление данного признака верное."
   ]
  },
  {
   "cell_type": "code",
   "execution_count": 11,
   "metadata": {
    "id": "W50YMMDVQPP0"
   },
   "outputs": [],
   "source": [
    "correlation, p_value = spearmanr(data['RegistrationMonth'], data['Price'])"
   ]
  },
  {
   "cell_type": "code",
   "execution_count": 12,
   "metadata": {
    "colab": {
     "base_uri": "https://localhost:8080/"
    },
    "id": "ZtaYSP5FQPP_",
    "outputId": "8d2e9ade-9c63-4d17-eda8-570cc12cba16"
   },
   "outputs": [
    {
     "name": "stdout",
     "output_type": "stream",
     "text": [
      "Коэффициент корреляции Спирмена 0.15524540362154113\n",
      "P-значение 0.0\n"
     ]
    }
   ],
   "source": [
    "print('Коэффициент корреляции Спирмена', correlation)\n",
    "print('P-значение', p_value)"
   ]
  },
  {
   "cell_type": "code",
   "execution_count": 13,
   "metadata": {
    "id": "UqDqvkkIQPP_"
   },
   "outputs": [],
   "source": [
    "data.drop(columns=['DateCrawled', 'DateCreated', 'NumberOfPictures', 'PostalCode', 'LastSeen'], inplace=True)"
   ]
  },
  {
   "cell_type": "code",
   "execution_count": 14,
   "metadata": {
    "colab": {
     "base_uri": "https://localhost:8080/"
    },
    "id": "xlOJpgyWQPP_",
    "outputId": "8b47031e-e270-40fd-94bc-5727d07406a1"
   },
   "outputs": [
    {
     "name": "stdout",
     "output_type": "stream",
     "text": [
      "[nan 'coupe' 'suv' 'small' 'sedan' 'convertible' 'bus' 'wagon' 'other']\n"
     ]
    }
   ],
   "source": [
    "print (data['VehicleType'].unique())"
   ]
  },
  {
   "cell_type": "code",
   "execution_count": 15,
   "metadata": {
    "id": "kBZtSItQQPP_"
   },
   "outputs": [],
   "source": [
    "data['VehicleType'].fillna('unknown', inplace=True)"
   ]
  },
  {
   "cell_type": "markdown",
   "metadata": {
    "id": "7g_ST42sQPQA"
   },
   "source": [
    "Заменим пропуски в VehicleType — тип автомобильного кузова, словом unknown"
   ]
  },
  {
   "cell_type": "code",
   "execution_count": 16,
   "metadata": {
    "colab": {
     "base_uri": "https://localhost:8080/"
    },
    "id": "LQ9ONaz5QPQA",
    "outputId": "bba43bbd-9dbc-446d-b07b-9f0a4c2f31ab"
   },
   "outputs": [
    {
     "name": "stdout",
     "output_type": "stream",
     "text": [
      "['manual' 'auto' nan]\n"
     ]
    }
   ],
   "source": [
    "print (data['Gearbox'].unique())"
   ]
  },
  {
   "cell_type": "code",
   "execution_count": 17,
   "metadata": {
    "id": "9G4tKE-vQPQA"
   },
   "outputs": [],
   "source": [
    "data['Gearbox'].fillna('unknown', inplace=True)"
   ]
  },
  {
   "cell_type": "markdown",
   "metadata": {
    "id": "CAVSW4WvQPQA"
   },
   "source": [
    "Заменим пропуски в Gearbox — тип коробки передач, словом unknown"
   ]
  },
  {
   "cell_type": "code",
   "execution_count": 18,
   "metadata": {
    "colab": {
     "base_uri": "https://localhost:8080/"
    },
    "id": "NdSzGbAcQPQA",
    "outputId": "3801b6ec-3fb8-4561-e8c8-27fae58d6ae6"
   },
   "outputs": [
    {
     "name": "stdout",
     "output_type": "stream",
     "text": [
      "['golf' nan 'grand' 'fabia' '3er' '2_reihe' 'other' 'c_max' '3_reihe'\n",
      " 'passat' 'navara' 'ka' 'polo' 'twingo' 'a_klasse' 'scirocco' '5er'\n",
      " 'meriva' 'arosa' 'c4' 'civic' 'transporter' 'punto' 'e_klasse' 'clio'\n",
      " 'kadett' 'kangoo' 'corsa' 'one' 'fortwo' '1er' 'b_klasse' 'signum'\n",
      " 'astra' 'a8' 'jetta' 'fiesta' 'c_klasse' 'micra' 'vito' 'sprinter' '156'\n",
      " 'escort' 'forester' 'xc_reihe' 'scenic' 'a4' 'a1' 'insignia' 'combo'\n",
      " 'focus' 'tt' 'a6' 'jazz' 'omega' 'slk' '7er' '80' '147' '100' 'z_reihe'\n",
      " 'sportage' 'sorento' 'v40' 'ibiza' 'mustang' 'eos' 'touran' 'getz' 'a3'\n",
      " 'almera' 'megane' 'lupo' 'r19' 'zafira' 'caddy' 'mondeo' 'cordoba' 'colt'\n",
      " 'impreza' 'vectra' 'berlingo' 'tiguan' 'i_reihe' 'espace' 'sharan'\n",
      " '6_reihe' 'panda' 'up' 'seicento' 'ceed' '5_reihe' 'yeti' 'octavia' 'mii'\n",
      " 'rx_reihe' '6er' 'modus' 'fox' 'matiz' 'beetle' 'c1' 'rio' 'touareg'\n",
      " 'logan' 'spider' 'cuore' 's_max' 'a2' 'galaxy' 'c3' 'viano' 's_klasse'\n",
      " '1_reihe' 'avensis' 'roomster' 'sl' 'kaefer' 'santa' 'cooper' 'leon'\n",
      " '4_reihe' 'a5' '500' 'laguna' 'ptcruiser' 'clk' 'primera' 'x_reihe'\n",
      " 'exeo' '159' 'transit' 'juke' 'qashqai' 'carisma' 'accord' 'corolla'\n",
      " 'lanos' 'phaeton' 'verso' 'swift' 'rav' 'picanto' 'boxster' 'kalos'\n",
      " 'superb' 'stilo' 'alhambra' 'mx_reihe' 'roadster' 'ypsilon' 'cayenne'\n",
      " 'galant' 'justy' '90' 'sirion' 'crossfire' 'agila' 'duster' 'cr_reihe'\n",
      " 'v50' 'c_reihe' 'v_klasse' 'm_klasse' 'yaris' 'c5' 'aygo' 'cc' 'carnival'\n",
      " 'fusion' '911' 'bora' 'forfour' 'm_reihe' 'cl' 'tigra' '300c' 'spark'\n",
      " 'v70' 'kuga' 'x_type' 'ducato' 's_type' 'x_trail' 'toledo' 'altea'\n",
      " 'voyager' 'calibra' 'bravo' 'antara' 'tucson' 'citigo' 'jimny' 'wrangler'\n",
      " 'lybra' 'q7' 'lancer' 'captiva' 'c2' 'discovery' 'freelander' 'sandero'\n",
      " 'note' '900' 'cherokee' 'clubman' 'samara' 'defender' '601' 'cx_reihe'\n",
      " 'legacy' 'pajero' 'auris' 'niva' 's60' 'nubira' 'vivaro' 'g_klasse'\n",
      " 'lodgy' '850' 'range_rover' 'q3' 'serie_2' 'glk' 'charade' 'croma'\n",
      " 'outlander' 'doblo' 'musa' 'move' '9000' 'v60' '145' 'aveo' '200' 'b_max'\n",
      " 'range_rover_sport' 'terios' 'rangerover' 'q5' 'range_rover_evoque'\n",
      " 'materia' 'delta' 'gl' 'kalina' 'amarok' 'elefantino' 'i3' 'kappa'\n",
      " 'serie_3' 'serie_1']\n"
     ]
    }
   ],
   "source": [
    "print (data['Model'].unique())"
   ]
  },
  {
   "cell_type": "code",
   "execution_count": 19,
   "metadata": {
    "id": "1ywitQnJQPQB"
   },
   "outputs": [],
   "source": [
    "data['Model'].fillna('unknown', inplace=True)"
   ]
  },
  {
   "cell_type": "code",
   "execution_count": 20,
   "metadata": {
    "id": "hqPv5G01QPQB"
   },
   "outputs": [],
   "source": [
    "data['Model'] = data['Model'].replace({'rangerover': 'range_rover'})"
   ]
  },
  {
   "cell_type": "markdown",
   "metadata": {
    "id": "PAGz3A4NQPQB"
   },
   "source": [
    "Аналогично для Model — модель автомобиля"
   ]
  },
  {
   "cell_type": "code",
   "execution_count": 21,
   "metadata": {
    "colab": {
     "base_uri": "https://localhost:8080/"
    },
    "id": "Is8oqIxgQPQB",
    "outputId": "ed744a25-c2ae-4fc8-df13-9438f7e4e106",
    "scrolled": true
   },
   "outputs": [
    {
     "name": "stdout",
     "output_type": "stream",
     "text": [
      "['petrol' 'gasoline' nan 'lpg' 'other' 'hybrid' 'cng' 'electric']\n"
     ]
    }
   ],
   "source": [
    "print (data['FuelType'].unique())"
   ]
  },
  {
   "cell_type": "code",
   "execution_count": 22,
   "metadata": {
    "id": "_FeDx7yxQPQC"
   },
   "outputs": [],
   "source": [
    "data['FuelType'].fillna('unknown', inplace=True)"
   ]
  },
  {
   "cell_type": "code",
   "execution_count": 23,
   "metadata": {
    "id": "k4yMlcItQPQC"
   },
   "outputs": [],
   "source": [
    "data['FuelType'] = data['FuelType'].replace({'gasoline': 'petrol'})"
   ]
  },
  {
   "cell_type": "markdown",
   "metadata": {
    "id": "x2FZpmHqQPQC"
   },
   "source": [
    "Аналогично для FuelType — тип топлива"
   ]
  },
  {
   "cell_type": "code",
   "execution_count": 24,
   "metadata": {
    "colab": {
     "base_uri": "https://localhost:8080/"
    },
    "id": "2wE21_PMQPQD",
    "outputId": "55c542f8-6084-4082-c1f1-15e0ae952248"
   },
   "outputs": [
    {
     "name": "stdout",
     "output_type": "stream",
     "text": [
      "[nan 'yes' 'no']\n"
     ]
    }
   ],
   "source": [
    "print (data['Repaired'].unique())"
   ]
  },
  {
   "cell_type": "code",
   "execution_count": 25,
   "metadata": {
    "id": "gLu8MallQPQD"
   },
   "outputs": [],
   "source": [
    "repaired_cars_counts = data['Repaired'].value_counts()"
   ]
  },
  {
   "cell_type": "code",
   "execution_count": 26,
   "metadata": {
    "colab": {
     "base_uri": "https://localhost:8080/",
     "height": 521
    },
    "id": "xkGgi-3jQPQD",
    "outputId": "0c945694-f25e-46da-f40b-584f5cd21d96"
   },
   "outputs": [
    {
     "data": {
      "image/png": "[encoded data removed]",
      "text/plain": [
       "<Figure size 800x600 with 1 Axes>"
      ]
     },
     "metadata": {},
     "output_type": "display_data"
    }
   ],
   "source": [
    "plt.figure(figsize=(8, 6))\n",
    "plt.pie(repaired_cars_counts, labels=repaired_cars_counts.index, autopct='%1.1f%%', startangle=140)\n",
    "plt.title('Распределение да/нет в колонке \"Repaired\"')\n",
    "plt.axis('equal')\n",
    "plt.show()"
   ]
  },
  {
   "cell_type": "markdown",
   "metadata": {
    "id": "nL2dbob2QPQD"
   },
   "source": [
    "учитывая процентное соотношение между \"да\" и \"нет\", можно сделать вывод, что пользователи просто проигнорировали вопрос, подразумевая ответ да."
   ]
  },
  {
   "cell_type": "code",
   "execution_count": 27,
   "metadata": {
    "id": "eJW40sRyQPQD"
   },
   "outputs": [],
   "source": [
    "data['Repaired'].fillna('yes', inplace=True)"
   ]
  },
  {
   "cell_type": "code",
   "execution_count": 28,
   "metadata": {
    "colab": {
     "base_uri": "https://localhost:8080/"
    },
    "id": "7mb0FX2DQPQD",
    "outputId": "432725d6-b449-40e7-e8f4-67de060040e0",
    "scrolled": true
   },
   "outputs": [
    {
     "name": "stdout",
     "output_type": "stream",
     "text": [
      "Price                0\n",
      "VehicleType          0\n",
      "RegistrationYear     0\n",
      "Gearbox              0\n",
      "Power                0\n",
      "Model                0\n",
      "Kilometer            0\n",
      "RegistrationMonth    0\n",
      "FuelType             0\n",
      "Brand                0\n",
      "Repaired             0\n",
      "dtype: int64\n"
     ]
    }
   ],
   "source": [
    "print(data.isnull().sum())"
   ]
  },
  {
   "cell_type": "code",
   "execution_count": 29,
   "metadata": {
    "colab": {
     "base_uri": "https://localhost:8080/"
    },
    "id": "u6x-5cy4QPQD",
    "outputId": "2035a9a7-7644-422b-842f-1bc888be7273"
   },
   "outputs": [
    {
     "name": "stdout",
     "output_type": "stream",
     "text": [
      "<class 'pandas.core.frame.DataFrame'>\n",
      "Int64Index: 354365 entries, 0 to 354368\n",
      "Data columns (total 11 columns):\n",
      " #   Column             Non-Null Count   Dtype \n",
      "---  ------             --------------   ----- \n",
      " 0   Price              354365 non-null  int64 \n",
      " 1   VehicleType        354365 non-null  object\n",
      " 2   RegistrationYear   354365 non-null  int64 \n",
      " 3   Gearbox            354365 non-null  object\n",
      " 4   Power              354365 non-null  int64 \n",
      " 5   Model              354365 non-null  object\n",
      " 6   Kilometer          354365 non-null  int64 \n",
      " 7   RegistrationMonth  354365 non-null  int64 \n",
      " 8   FuelType           354365 non-null  object\n",
      " 9   Brand              354365 non-null  object\n",
      " 10  Repaired           354365 non-null  object\n",
      "dtypes: int64(5), object(6)\n",
      "memory usage: 32.4+ MB\n"
     ]
    }
   ],
   "source": [
    "data.info()"
   ]
  },
  {
   "cell_type": "markdown",
   "metadata": {
    "id": "xzy-iAeQQPQE"
   },
   "source": [
    "Все пропущенные значения заполнены."
   ]
  },
  {
   "cell_type": "markdown",
   "metadata": {
    "id": "pURvQ_vXQPQE"
   },
   "source": [
    "Работа с аномалиями:"
   ]
  },
  {
   "cell_type": "code",
   "execution_count": 30,
   "metadata": {
    "colab": {
     "base_uri": "https://localhost:8080/",
     "height": 473
    },
    "id": "WULj_OJrQPQE",
    "outputId": "980e99f2-38ca-4a99-fc7e-f484c0fbaec7"
   },
   "outputs": [
    {
     "data": {
      "image/png": "[encoded data removed]",
      "text/plain": [
       "<Figure size 1000x500 with 1 Axes>"
      ]
     },
     "metadata": {},
     "output_type": "display_data"
    }
   ],
   "source": [
    "plt.figure(figsize=(10, 5))\n",
    "sns.boxplot(data=data['Price'])\n",
    "plt.title('Столбец \"Price\"')\n",
    "plt.xlabel('Цена')\n",
    "plt.show()"
   ]
  },
  {
   "cell_type": "code",
   "execution_count": 31,
   "metadata": {
    "id": "n34gEeNzQPQE"
   },
   "outputs": [],
   "source": [
    "data = data[data['Price'] <= 15500]"
   ]
  },
  {
   "cell_type": "code",
   "execution_count": 32,
   "metadata": {
    "id": "_M0U-v8KQPQF"
   },
   "outputs": [],
   "source": [
    "data = data[data['Price'] >= 1000]"
   ]
  },
  {
   "cell_type": "code",
   "execution_count": 33,
   "metadata": {
    "colab": {
     "base_uri": "https://localhost:8080/"
    },
    "id": "a4BrpTMeQPQF",
    "outputId": "98d3adc9-d408-4ee0-b5bc-f3c7cdfe5a9c"
   },
   "outputs": [
    {
     "name": "stdout",
     "output_type": "stream",
     "text": [
      "               Price  RegistrationYear          Power      Kilometer  \\\n",
      "count  257613.000000     257613.000000  257613.000000  257613.000000   \n",
      "mean     4990.599760       2004.451491     118.250744  127712.498981   \n",
      "std      3667.274979         54.766956     195.509870   36896.050824   \n",
      "min      1000.000000       1000.000000       0.000000    5000.000000   \n",
      "25%      2000.000000       2000.000000      75.000000  125000.000000   \n",
      "50%      3800.000000       2004.000000     110.000000  150000.000000   \n",
      "75%      6999.000000       2008.000000     150.000000  150000.000000   \n",
      "max     15500.000000       9999.000000   20000.000000  150000.000000   \n",
      "\n",
      "       RegistrationMonth  \n",
      "count      257613.000000  \n",
      "mean            6.002174  \n",
      "std             3.613627  \n",
      "min             0.000000  \n",
      "25%             3.000000  \n",
      "50%             6.000000  \n",
      "75%             9.000000  \n",
      "max            12.000000  \n"
     ]
    }
   ],
   "source": [
    "print(data.describe())"
   ]
  },
  {
   "cell_type": "markdown",
   "metadata": {
    "id": "edDY-z5AQPQF"
   },
   "source": [
    "Удалим все аномальные значения в цене."
   ]
  },
  {
   "cell_type": "code",
   "execution_count": 34,
   "metadata": {
    "colab": {
     "base_uri": "https://localhost:8080/"
    },
    "id": "Tn3I3Z_SQPQG",
    "outputId": "a32f5a52-724d-4f51-9129-da15087089bf"
   },
   "outputs": [
    {
     "name": "stdout",
     "output_type": "stream",
     "text": [
      "[ 8  6  7 12  2  1  4  5  9 11  0  3 10]\n"
     ]
    }
   ],
   "source": [
    "print (data['RegistrationMonth'].unique())"
   ]
  },
  {
   "cell_type": "code",
   "execution_count": 35,
   "metadata": {
    "colab": {
     "base_uri": "https://localhost:8080/"
    },
    "id": "9DwXPYieQPQG",
    "outputId": "ae22d0cf-5659-455b-cfce-09a18c4347f1"
   },
   "outputs": [
    {
     "name": "stdout",
     "output_type": "stream",
     "text": [
      "Количество строк с месяцем регистрации 0: 17411\n"
     ]
    }
   ],
   "source": [
    "print(\"Количество строк с месяцем регистрации 0:\", (data['RegistrationMonth'] == 0).sum())"
   ]
  },
  {
   "cell_type": "code",
   "execution_count": 36,
   "metadata": {
    "id": "M6xS2HA-QPQG"
   },
   "outputs": [],
   "source": [
    "data = data[data['RegistrationMonth'] !=0]"
   ]
  },
  {
   "cell_type": "markdown",
   "metadata": {
    "id": "QBwupRmtQPQG"
   },
   "source": [
    "Удалим все нулевые значения в месяце регистрации"
   ]
  },
  {
   "cell_type": "code",
   "execution_count": 37,
   "metadata": {
    "colab": {
     "base_uri": "https://localhost:8080/",
     "height": 487
    },
    "id": "GW0Bll7WQPQH",
    "outputId": "f679332f-b9a1-4089-ba60-018882e4bccb"
   },
   "outputs": [
    {
     "data": {
      "image/png": "[encoded data removed]",
      "text/plain": [
       "<Figure size 1000x500 with 1 Axes>"
      ]
     },
     "metadata": {},
     "output_type": "display_data"
    }
   ],
   "source": [
    "plt.figure(figsize=(10, 5))\n",
    "sns.boxplot(data=data, x='RegistrationYear')\n",
    "plt.title('Столбец RegistrationYear')\n",
    "plt.xlabel('Год регистрации')\n",
    "plt.show()"
   ]
  },
  {
   "cell_type": "code",
   "execution_count": 38,
   "metadata": {
    "colab": {
     "base_uri": "https://localhost:8080/",
     "height": 269
    },
    "id": "OfiX9ELmQPQH",
    "outputId": "83bd5d97-9d44-4f2d-8c38-e0bfbb363d35"
   },
   "outputs": [
    {
     "data": {
      "application/vnd.google.colaboratory.intrinsic+json": {
       "summary": "{\n  \"name\": \"display (data[data['RegistrationYear'] > 2024])\",\n  \"rows\": 7,\n  \"fields\": [\n    {\n      \"column\": \"Price\",\n      \"properties\": {\n        \"dtype\": \"number\",\n        \"std\": 5269,\n        \"min\": 1700,\n        \"max\": 15000,\n        \"num_unique_values\": 7,\n        \"samples\": [\n          5000,\n          9000,\n          4000\n        ],\n        \"semantic_type\": \"\",\n        \"description\": \"\"\n      }\n    },\n    {\n      \"column\": \"VehicleType\",\n      \"properties\": {\n        \"dtype\": \"category\",\n        \"num_unique_values\": 1,\n        \"samples\": [\n          \"unknown\"\n        ],\n        \"semantic_type\": \"\",\n        \"description\": \"\"\n      }\n    },\n    {\n      \"column\": \"RegistrationYear\",\n      \"properties\": {\n        \"dtype\": \"number\",\n        \"std\": 1715,\n        \"min\": 2800,\n        \"max\": 7100,\n        \"num_unique_values\": 5,\n        \"samples\": [\n          5000\n        ],\n        \"semantic_type\": \"\",\n        \"description\": \"\"\n      }\n    },\n    {\n      \"column\": \"Gearbox\",\n      \"properties\": {\n        \"dtype\": \"category\",\n        \"num_unique_values\": 3,\n        \"samples\": [\n          \"manual\"\n        ],\n        \"semantic_type\": \"\",\n        \"description\": \"\"\n      }\n    },\n    {\n      \"column\": \"Power\",\n      \"properties\": {\n        \"dtype\": \"number\",\n        \"std\": 149,\n        \"min\": 0,\n        \"max\": 420,\n        \"num_unique_values\": 5,\n        \"samples\": [\n          420\n        ],\n        \"semantic_type\": \"\",\n        \"description\": \"\"\n      }\n    },\n    {\n      \"column\": \"Model\",\n      \"properties\": {\n        \"dtype\": \"string\",\n        \"num_unique_values\": 7,\n        \"samples\": [\n          \"corsa\"\n        ],\n        \"semantic_type\": \"\",\n        \"description\": \"\"\n      }\n    },\n    {\n      \"column\": \"Kilometer\",\n      \"properties\": {\n        \"dtype\": \"number\",\n        \"std\": 2439,\n        \"min\": 5000,\n        \"max\": 10000,\n        \"num_unique_values\": 2,\n        \"samples\": [\n          10000\n        ],\n        \"semantic_type\": \"\",\n        \"description\": \"\"\n      }\n    },\n    {\n      \"column\": \"RegistrationMonth\",\n      \"properties\": {\n        \"dtype\": \"number\",\n        \"std\": 2,\n        \"min\": 3,\n        \"max\": 9,\n        \"num_unique_values\": 6,\n        \"samples\": [\n          9\n        ],\n        \"semantic_type\": \"\",\n        \"description\": \"\"\n      }\n    },\n    {\n      \"column\": \"FuelType\",\n      \"properties\": {\n        \"dtype\": \"category\",\n        \"num_unique_values\": 2,\n        \"samples\": [\n          \"unknown\"\n        ],\n        \"semantic_type\": \"\",\n        \"description\": \"\"\n      }\n    },\n    {\n      \"column\": \"Brand\",\n      \"properties\": {\n        \"dtype\": \"string\",\n        \"num_unique_values\": 5,\n        \"samples\": [\n          \"subaru\"\n        ],\n        \"semantic_type\": \"\",\n        \"description\": \"\"\n      }\n    },\n    {\n      \"column\": \"Repaired\",\n      \"properties\": {\n        \"dtype\": \"category\",\n        \"num_unique_values\": 2,\n        \"samples\": [\n          \"no\"\n        ],\n        \"semantic_type\": \"\",\n        \"description\": \"\"\n      }\n    }\n  ]\n}",
       "type": "dataframe"
      },
      "text/html": [
       "\n",
       "  <div id=\"df-c4cf76d4-3eca-45c1-9f31-a54867227f1f\" class=\"colab-df-container\">\n",
       "    <div>\n",
       "<style scoped>\n",
       "    .dataframe tbody tr th:only-of-type {\n",
       "        vertical-align: middle;\n",
       "    }\n",
       "\n",
       "    .dataframe tbody tr th {\n",
       "        vertical-align: top;\n",
       "    }\n",
       "\n",
       "    .dataframe thead th {\n",
       "        text-align: right;\n",
       "    }\n",
       "</style>\n",
       "<table border=\"1\" class=\"dataframe\">\n",
       "  <thead>\n",
       "    <tr style=\"text-align: right;\">\n",
       "      <th></th>\n",
       "      <th>Price</th>\n",
       "      <th>VehicleType</th>\n",
       "      <th>RegistrationYear</th>\n",
       "      <th>Gearbox</th>\n",
       "      <th>Power</th>\n",
       "      <th>Model</th>\n",
       "      <th>Kilometer</th>\n",
       "      <th>RegistrationMonth</th>\n",
       "      <th>FuelType</th>\n",
       "      <th>Brand</th>\n",
       "      <th>Repaired</th>\n",
       "    </tr>\n",
       "  </thead>\n",
       "  <tbody>\n",
       "    <tr>\n",
       "      <th>46741</th>\n",
       "      <td>5000</td>\n",
       "      <td>unknown</td>\n",
       "      <td>2900</td>\n",
       "      <td>manual</td>\n",
       "      <td>120</td>\n",
       "      <td>corsa</td>\n",
       "      <td>5000</td>\n",
       "      <td>9</td>\n",
       "      <td>petrol</td>\n",
       "      <td>opel</td>\n",
       "      <td>yes</td>\n",
       "    </tr>\n",
       "    <tr>\n",
       "      <th>79903</th>\n",
       "      <td>9000</td>\n",
       "      <td>unknown</td>\n",
       "      <td>5000</td>\n",
       "      <td>manual</td>\n",
       "      <td>420</td>\n",
       "      <td>impreza</td>\n",
       "      <td>5000</td>\n",
       "      <td>6</td>\n",
       "      <td>petrol</td>\n",
       "      <td>subaru</td>\n",
       "      <td>no</td>\n",
       "    </tr>\n",
       "    <tr>\n",
       "      <th>255866</th>\n",
       "      <td>1700</td>\n",
       "      <td>unknown</td>\n",
       "      <td>2800</td>\n",
       "      <td>manual</td>\n",
       "      <td>98</td>\n",
       "      <td>unknown</td>\n",
       "      <td>5000</td>\n",
       "      <td>7</td>\n",
       "      <td>petrol</td>\n",
       "      <td>volkswagen</td>\n",
       "      <td>yes</td>\n",
       "    </tr>\n",
       "    <tr>\n",
       "      <th>263113</th>\n",
       "      <td>10900</td>\n",
       "      <td>unknown</td>\n",
       "      <td>7000</td>\n",
       "      <td>unknown</td>\n",
       "      <td>0</td>\n",
       "      <td>polo</td>\n",
       "      <td>10000</td>\n",
       "      <td>3</td>\n",
       "      <td>unknown</td>\n",
       "      <td>volkswagen</td>\n",
       "      <td>yes</td>\n",
       "    </tr>\n",
       "    <tr>\n",
       "      <th>275090</th>\n",
       "      <td>14800</td>\n",
       "      <td>unknown</td>\n",
       "      <td>5000</td>\n",
       "      <td>auto</td>\n",
       "      <td>0</td>\n",
       "      <td>5er</td>\n",
       "      <td>5000</td>\n",
       "      <td>8</td>\n",
       "      <td>petrol</td>\n",
       "      <td>bmw</td>\n",
       "      <td>yes</td>\n",
       "    </tr>\n",
       "    <tr>\n",
       "      <th>308414</th>\n",
       "      <td>4000</td>\n",
       "      <td>unknown</td>\n",
       "      <td>7100</td>\n",
       "      <td>manual</td>\n",
       "      <td>0</td>\n",
       "      <td>panda</td>\n",
       "      <td>10000</td>\n",
       "      <td>3</td>\n",
       "      <td>unknown</td>\n",
       "      <td>fiat</td>\n",
       "      <td>yes</td>\n",
       "    </tr>\n",
       "    <tr>\n",
       "      <th>322234</th>\n",
       "      <td>15000</td>\n",
       "      <td>unknown</td>\n",
       "      <td>5000</td>\n",
       "      <td>unknown</td>\n",
       "      <td>155</td>\n",
       "      <td>golf</td>\n",
       "      <td>5000</td>\n",
       "      <td>5</td>\n",
       "      <td>petrol</td>\n",
       "      <td>volkswagen</td>\n",
       "      <td>yes</td>\n",
       "    </tr>\n",
       "  </tbody>\n",
       "</table>\n",
       "</div>\n",
       "    <div class=\"colab-df-buttons\">\n",
       "\n",
       "  <div class=\"colab-df-container\">\n",
       "    <button class=\"colab-df-convert\" onclick=\"convertToInteractive('df-c4cf76d4-3eca-45c1-9f31-a54867227f1f')\"\n",
       "            title=\"Convert this dataframe to an interactive table.\"\n",
       "            style=\"display:none;\">\n",
       "\n",
       "  <svg xmlns=\"http://www.w3.org/2000/svg\" height=\"24px\" viewBox=\"0 -960 960 960\">\n",
       "    <path d=\"M120-120v-720h720v720H120Zm60-500h600v-160H180v160Zm220 220h160v-160H400v160Zm0 220h160v-160H400v160ZM180-400h160v-160H180v160Zm440 0h160v-160H620v160ZM180-180h160v-160H180v160Zm440 0h160v-160H620v160Z\"/>\n",
       "  </svg>\n",
       "    </button>\n",
       "\n",
       "  <style>\n",
       "    .colab-df-container {\n",
       "      display:flex;\n",
       "      gap: 12px;\n",
       "    }\n",
       "\n",
       "    .colab-df-convert {\n",
       "      background-color: #E8F0FE;\n",
       "      border: none;\n",
       "      border-radius: 50%;\n",
       "      cursor: pointer;\n",
       "      display: none;\n",
       "      fill: #1967D2;\n",
       "      height: 32px;\n",
       "      padding: 0 0 0 0;\n",
       "      width: 32px;\n",
       "    }\n",
       "\n",
       "    .colab-df-convert:hover {\n",
       "      background-color: #E2EBFA;\n",
       "      box-shadow: 0px 1px 2px rgba(60, 64, 67, 0.3), 0px 1px 3px 1px rgba(60, 64, 67, 0.15);\n",
       "      fill: #174EA6;\n",
       "    }\n",
       "\n",
       "    .colab-df-buttons div {\n",
       "      margin-bottom: 4px;\n",
       "    }\n",
       "\n",
       "    [theme=dark] .colab-df-convert {\n",
       "      background-color: #3B4455;\n",
       "      fill: #D2E3FC;\n",
       "    }\n",
       "\n",
       "    [theme=dark] .colab-df-convert:hover {\n",
       "      background-color: #434B5C;\n",
       "      box-shadow: 0px 1px 3px 1px rgba(0, 0, 0, 0.15);\n",
       "      filter: drop-shadow(0px 1px 2px rgba(0, 0, 0, 0.3));\n",
       "      fill: #FFFFFF;\n",
       "    }\n",
       "  </style>\n",
       "\n",
       "    <script>\n",
       "      const buttonEl =\n",
       "        document.querySelector('#df-c4cf76d4-3eca-45c1-9f31-a54867227f1f button.colab-df-convert');\n",
       "      buttonEl.style.display =\n",
       "        google.colab.kernel.accessAllowed ? 'block' : 'none';\n",
       "\n",
       "      async function convertToInteractive(key) {\n",
       "        const element = document.querySelector('#df-c4cf76d4-3eca-45c1-9f31-a54867227f1f');\n",
       "        const dataTable =\n",
       "          await google.colab.kernel.invokeFunction('convertToInteractive',\n",
       "                                                    [key], {});\n",
       "        if (!dataTable) return;\n",
       "\n",
       "        const docLinkHtml = 'Like what you see? Visit the ' +\n",
       "          '<a target=\"_blank\" href=https://colab.research.google.com/notebooks/data_table.ipynb>data table notebook</a>'\n",
       "          + ' to learn more about interactive tables.';\n",
       "        element.innerHTML = '';\n",
       "        dataTable['output_type'] = 'display_data';\n",
       "        await google.colab.output.renderOutput(dataTable, element);\n",
       "        const docLink = document.createElement('div');\n",
       "        docLink.innerHTML = docLinkHtml;\n",
       "        element.appendChild(docLink);\n",
       "      }\n",
       "    </script>\n",
       "  </div>\n",
       "\n",
       "\n",
       "<div id=\"df-da8633f8-f2f7-4a53-b375-ed89f5226941\">\n",
       "  <button class=\"colab-df-quickchart\" onclick=\"quickchart('df-da8633f8-f2f7-4a53-b375-ed89f5226941')\"\n",
       "            title=\"Suggest charts\"\n",
       "            style=\"display:none;\">\n",
       "\n",
       "<svg xmlns=\"http://www.w3.org/2000/svg\" height=\"24px\"viewBox=\"0 0 24 24\"\n",
       "     width=\"24px\">\n",
       "    <g>\n",
       "        <path d=\"M19 3H5c-1.1 0-2 .9-2 2v14c0 1.1.9 2 2 2h14c1.1 0 2-.9 2-2V5c0-1.1-.9-2-2-2zM9 17H7v-7h2v7zm4 0h-2V7h2v10zm4 0h-2v-4h2v4z\"/>\n",
       "    </g>\n",
       "</svg>\n",
       "  </button>\n",
       "\n",
       "<style>\n",
       "  .colab-df-quickchart {\n",
       "      --bg-color: #E8F0FE;\n",
       "      --fill-color: #1967D2;\n",
       "      --hover-bg-color: #E2EBFA;\n",
       "      --hover-fill-color: #174EA6;\n",
       "      --disabled-fill-color: #AAA;\n",
       "      --disabled-bg-color: #DDD;\n",
       "  }\n",
       "\n",
       "  [theme=dark] .colab-df-quickchart {\n",
       "      --bg-color: #3B4455;\n",
       "      --fill-color: #D2E3FC;\n",
       "      --hover-bg-color: #434B5C;\n",
       "      --hover-fill-color: #FFFFFF;\n",
       "      --disabled-bg-color: #3B4455;\n",
       "      --disabled-fill-color: #666;\n",
       "  }\n",
       "\n",
       "  .colab-df-quickchart {\n",
       "    background-color: var(--bg-color);\n",
       "    border: none;\n",
       "    border-radius: 50%;\n",
       "    cursor: pointer;\n",
       "    display: none;\n",
       "    fill: var(--fill-color);\n",
       "    height: 32px;\n",
       "    padding: 0;\n",
       "    width: 32px;\n",
       "  }\n",
       "\n",
       "  .colab-df-quickchart:hover {\n",
       "    background-color: var(--hover-bg-color);\n",
       "    box-shadow: 0 1px 2px rgba(60, 64, 67, 0.3), 0 1px 3px 1px rgba(60, 64, 67, 0.15);\n",
       "    fill: var(--button-hover-fill-color);\n",
       "  }\n",
       "\n",
       "  .colab-df-quickchart-complete:disabled,\n",
       "  .colab-df-quickchart-complete:disabled:hover {\n",
       "    background-color: var(--disabled-bg-color);\n",
       "    fill: var(--disabled-fill-color);\n",
       "    box-shadow: none;\n",
       "  }\n",
       "\n",
       "  .colab-df-spinner {\n",
       "    border: 2px solid var(--fill-color);\n",
       "    border-color: transparent;\n",
       "    border-bottom-color: var(--fill-color);\n",
       "    animation:\n",
       "      spin 1s steps(1) infinite;\n",
       "  }\n",
       "\n",
       "  @keyframes spin {\n",
       "    0% {\n",
       "      border-color: transparent;\n",
       "      border-bottom-color: var(--fill-color);\n",
       "      border-left-color: var(--fill-color);\n",
       "    }\n",
       "    20% {\n",
       "      border-color: transparent;\n",
       "      border-left-color: var(--fill-color);\n",
       "      border-top-color: var(--fill-color);\n",
       "    }\n",
       "    30% {\n",
       "      border-color: transparent;\n",
       "      border-left-color: var(--fill-color);\n",
       "      border-top-color: var(--fill-color);\n",
       "      border-right-color: var(--fill-color);\n",
       "    }\n",
       "    40% {\n",
       "      border-color: transparent;\n",
       "      border-right-color: var(--fill-color);\n",
       "      border-top-color: var(--fill-color);\n",
       "    }\n",
       "    60% {\n",
       "      border-color: transparent;\n",
       "      border-right-color: var(--fill-color);\n",
       "    }\n",
       "    80% {\n",
       "      border-color: transparent;\n",
       "      border-right-color: var(--fill-color);\n",
       "      border-bottom-color: var(--fill-color);\n",
       "    }\n",
       "    90% {\n",
       "      border-color: transparent;\n",
       "      border-bottom-color: var(--fill-color);\n",
       "    }\n",
       "  }\n",
       "</style>\n",
       "\n",
       "  <script>\n",
       "    async function quickchart(key) {\n",
       "      const quickchartButtonEl =\n",
       "        document.querySelector('#' + key + ' button');\n",
       "      quickchartButtonEl.disabled = true;  // To prevent multiple clicks.\n",
       "      quickchartButtonEl.classList.add('colab-df-spinner');\n",
       "      try {\n",
       "        const charts = await google.colab.kernel.invokeFunction(\n",
       "            'suggestCharts', [key], {});\n",
       "      } catch (error) {\n",
       "        console.error('Error during call to suggestCharts:', error);\n",
       "      }\n",
       "      quickchartButtonEl.classList.remove('colab-df-spinner');\n",
       "      quickchartButtonEl.classList.add('colab-df-quickchart-complete');\n",
       "    }\n",
       "    (() => {\n",
       "      let quickchartButtonEl =\n",
       "        document.querySelector('#df-da8633f8-f2f7-4a53-b375-ed89f5226941 button');\n",
       "      quickchartButtonEl.style.display =\n",
       "        google.colab.kernel.accessAllowed ? 'block' : 'none';\n",
       "    })();\n",
       "  </script>\n",
       "</div>\n",
       "    </div>\n",
       "  </div>\n"
      ],
      "text/plain": [
       "        Price VehicleType  RegistrationYear  Gearbox  Power    Model  \\\n",
       "46741    5000     unknown              2900   manual    120    corsa   \n",
       "79903    9000     unknown              5000   manual    420  impreza   \n",
       "255866   1700     unknown              2800   manual     98  unknown   \n",
       "263113  10900     unknown              7000  unknown      0     polo   \n",
       "275090  14800     unknown              5000     auto      0      5er   \n",
       "308414   4000     unknown              7100   manual      0    panda   \n",
       "322234  15000     unknown              5000  unknown    155     golf   \n",
       "\n",
       "        Kilometer  RegistrationMonth FuelType       Brand Repaired  \n",
       "46741        5000                  9   petrol        opel      yes  \n",
       "79903        5000                  6   petrol      subaru       no  \n",
       "255866       5000                  7   petrol  volkswagen      yes  \n",
       "263113      10000                  3  unknown  volkswagen      yes  \n",
       "275090       5000                  8   petrol         bmw      yes  \n",
       "308414      10000                  3  unknown        fiat      yes  \n",
       "322234       5000                  5   petrol  volkswagen      yes  "
      ]
     },
     "metadata": {},
     "output_type": "display_data"
    }
   ],
   "source": [
    "display (data[data['RegistrationYear'] > 2024])"
   ]
  },
  {
   "cell_type": "code",
   "execution_count": 39,
   "metadata": {
    "id": "rT8WjAV0QPQH"
   },
   "outputs": [],
   "source": [
    "data = data[data['RegistrationYear'] <= 2020]"
   ]
  },
  {
   "cell_type": "code",
   "execution_count": 40,
   "metadata": {
    "colab": {
     "base_uri": "https://localhost:8080/",
     "height": 487
    },
    "id": "F6Er9DPvQPQH",
    "outputId": "cd1d7d76-9674-4dfa-ad65-661976bfa2d0"
   },
   "outputs": [
    {
     "data": {
      "image/png": "[encoded data removed]",
      "text/plain": [
       "<Figure size 1000x500 with 1 Axes>"
      ]
     },
     "metadata": {},
     "output_type": "display_data"
    }
   ],
   "source": [
    "plt.figure(figsize=(10, 5))\n",
    "sns.boxplot(data=data, x='RegistrationYear')\n",
    "plt.title('Столбец \"RegistrationYear\"')\n",
    "plt.xlabel('Год регистрации')\n",
    "plt.show()"
   ]
  },
  {
   "cell_type": "code",
   "execution_count": 41,
   "metadata": {
    "colab": {
     "base_uri": "https://localhost:8080/",
     "height": 1000
    },
    "id": "K2lT8fOMQPQH",
    "outputId": "383735fa-deee-4212-b327-68734fbf6c1c"
   },
   "outputs": [
    {
     "data": {
      "application/vnd.google.colaboratory.intrinsic+json": {
       "summary": "{\n  \"name\": \"display (data[data['RegistrationYear'] <= 1940])\",\n  \"rows\": 35,\n  \"fields\": [\n    {\n      \"column\": \"Price\",\n      \"properties\": {\n        \"dtype\": \"number\",\n        \"std\": 4355,\n        \"min\": 1234,\n        \"max\": 15000,\n        \"num_unique_values\": 30,\n        \"samples\": [\n          4500,\n          10000,\n          4700\n        ],\n        \"semantic_type\": \"\",\n        \"description\": \"\"\n      }\n    },\n    {\n      \"column\": \"VehicleType\",\n      \"properties\": {\n        \"dtype\": \"category\",\n        \"num_unique_values\": 6,\n        \"samples\": [\n          \"convertible\",\n          \"unknown\",\n          \"coupe\"\n        ],\n        \"semantic_type\": \"\",\n        \"description\": \"\"\n      }\n    },\n    {\n      \"column\": \"RegistrationYear\",\n      \"properties\": {\n        \"dtype\": \"number\",\n        \"std\": 204,\n        \"min\": 1000,\n        \"max\": 1940,\n        \"num_unique_values\": 17,\n        \"samples\": [\n          1925,\n          1500,\n          1234\n        ],\n        \"semantic_type\": \"\",\n        \"description\": \"\"\n      }\n    },\n    {\n      \"column\": \"Gearbox\",\n      \"properties\": {\n        \"dtype\": \"category\",\n        \"num_unique_values\": 3,\n        \"samples\": [\n          \"unknown\",\n          \"manual\",\n          \"auto\"\n        ],\n        \"semantic_type\": \"\",\n        \"description\": \"\"\n      }\n    },\n    {\n      \"column\": \"Power\",\n      \"properties\": {\n        \"dtype\": \"number\",\n        \"std\": 64,\n        \"min\": 0,\n        \"max\": 290,\n        \"num_unique_values\": 15,\n        \"samples\": [\n          290,\n          150,\n          0\n        ],\n        \"semantic_type\": \"\",\n        \"description\": \"\"\n      }\n    },\n    {\n      \"column\": \"Model\",\n      \"properties\": {\n        \"dtype\": \"category\",\n        \"num_unique_values\": 8,\n        \"samples\": [\n          \"impreza\",\n          \"2_reihe\",\n          \"unknown\"\n        ],\n        \"semantic_type\": \"\",\n        \"description\": \"\"\n      }\n    },\n    {\n      \"column\": \"Kilometer\",\n      \"properties\": {\n        \"dtype\": \"number\",\n        \"std\": 48901,\n        \"min\": 5000,\n        \"max\": 150000,\n        \"num_unique_values\": 11,\n        \"samples\": [\n          50000,\n          5000,\n          100000\n        ],\n        \"semantic_type\": \"\",\n        \"description\": \"\"\n      }\n    },\n    {\n      \"column\": \"RegistrationMonth\",\n      \"properties\": {\n        \"dtype\": \"number\",\n        \"std\": 2,\n        \"min\": 1,\n        \"max\": 10,\n        \"num_unique_values\": 9,\n        \"samples\": [\n          10,\n          3,\n          5\n        ],\n        \"semantic_type\": \"\",\n        \"description\": \"\"\n      }\n    },\n    {\n      \"column\": \"FuelType\",\n      \"properties\": {\n        \"dtype\": \"category\",\n        \"num_unique_values\": 2,\n        \"samples\": [\n          \"petrol\",\n          \"unknown\"\n        ],\n        \"semantic_type\": \"\",\n        \"description\": \"\"\n      }\n    },\n    {\n      \"column\": \"Brand\",\n      \"properties\": {\n        \"dtype\": \"category\",\n        \"num_unique_values\": 11,\n        \"samples\": [\n          \"volkswagen\",\n          \"sonstige_autos\"\n        ],\n        \"semantic_type\": \"\",\n        \"description\": \"\"\n      }\n    },\n    {\n      \"column\": \"Repaired\",\n      \"properties\": {\n        \"dtype\": \"category\",\n        \"num_unique_values\": 2,\n        \"samples\": [\n          \"yes\",\n          \"no\"\n        ],\n        \"semantic_type\": \"\",\n        \"description\": \"\"\n      }\n    }\n  ]\n}",
       "type": "dataframe"
      },
      "text/html": [
       "\n",
       "  <div id=\"df-aa816557-1ec1-4ae0-9751-78d517d0a437\" class=\"colab-df-container\">\n",
       "    <div>\n",
       "<style scoped>\n",
       "    .dataframe tbody tr th:only-of-type {\n",
       "        vertical-align: middle;\n",
       "    }\n",
       "\n",
       "    .dataframe tbody tr th {\n",
       "        vertical-align: top;\n",
       "    }\n",
       "\n",
       "    .dataframe thead th {\n",
       "        text-align: right;\n",
       "    }\n",
       "</style>\n",
       "<table border=\"1\" class=\"dataframe\">\n",
       "  <thead>\n",
       "    <tr style=\"text-align: right;\">\n",
       "      <th></th>\n",
       "      <th>Price</th>\n",
       "      <th>VehicleType</th>\n",
       "      <th>RegistrationYear</th>\n",
       "      <th>Gearbox</th>\n",
       "      <th>Power</th>\n",
       "      <th>Model</th>\n",
       "      <th>Kilometer</th>\n",
       "      <th>RegistrationMonth</th>\n",
       "      <th>FuelType</th>\n",
       "      <th>Brand</th>\n",
       "      <th>Repaired</th>\n",
       "    </tr>\n",
       "  </thead>\n",
       "  <tbody>\n",
       "    <tr>\n",
       "      <th>2273</th>\n",
       "      <td>1800</td>\n",
       "      <td>convertible</td>\n",
       "      <td>1925</td>\n",
       "      <td>unknown</td>\n",
       "      <td>0</td>\n",
       "      <td>unknown</td>\n",
       "      <td>5000</td>\n",
       "      <td>1</td>\n",
       "      <td>unknown</td>\n",
       "      <td>sonstige_autos</td>\n",
       "      <td>no</td>\n",
       "    </tr>\n",
       "    <tr>\n",
       "      <th>18224</th>\n",
       "      <td>7999</td>\n",
       "      <td>unknown</td>\n",
       "      <td>1500</td>\n",
       "      <td>manual</td>\n",
       "      <td>224</td>\n",
       "      <td>impreza</td>\n",
       "      <td>5000</td>\n",
       "      <td>3</td>\n",
       "      <td>unknown</td>\n",
       "      <td>subaru</td>\n",
       "      <td>yes</td>\n",
       "    </tr>\n",
       "    <tr>\n",
       "      <th>22621</th>\n",
       "      <td>14000</td>\n",
       "      <td>sedan</td>\n",
       "      <td>1929</td>\n",
       "      <td>manual</td>\n",
       "      <td>30</td>\n",
       "      <td>unknown</td>\n",
       "      <td>5000</td>\n",
       "      <td>7</td>\n",
       "      <td>petrol</td>\n",
       "      <td>sonstige_autos</td>\n",
       "      <td>yes</td>\n",
       "    </tr>\n",
       "    <tr>\n",
       "      <th>26216</th>\n",
       "      <td>15000</td>\n",
       "      <td>small</td>\n",
       "      <td>1940</td>\n",
       "      <td>manual</td>\n",
       "      <td>24</td>\n",
       "      <td>unknown</td>\n",
       "      <td>5000</td>\n",
       "      <td>7</td>\n",
       "      <td>petrol</td>\n",
       "      <td>sonstige_autos</td>\n",
       "      <td>no</td>\n",
       "    </tr>\n",
       "    <tr>\n",
       "      <th>29933</th>\n",
       "      <td>12900</td>\n",
       "      <td>sedan</td>\n",
       "      <td>1940</td>\n",
       "      <td>manual</td>\n",
       "      <td>0</td>\n",
       "      <td>unknown</td>\n",
       "      <td>150000</td>\n",
       "      <td>4</td>\n",
       "      <td>petrol</td>\n",
       "      <td>ford</td>\n",
       "      <td>yes</td>\n",
       "    </tr>\n",
       "    <tr>\n",
       "      <th>33638</th>\n",
       "      <td>5400</td>\n",
       "      <td>small</td>\n",
       "      <td>1937</td>\n",
       "      <td>manual</td>\n",
       "      <td>0</td>\n",
       "      <td>other</td>\n",
       "      <td>20000</td>\n",
       "      <td>3</td>\n",
       "      <td>petrol</td>\n",
       "      <td>opel</td>\n",
       "      <td>no</td>\n",
       "    </tr>\n",
       "    <tr>\n",
       "      <th>34055</th>\n",
       "      <td>2900</td>\n",
       "      <td>small</td>\n",
       "      <td>1937</td>\n",
       "      <td>manual</td>\n",
       "      <td>34</td>\n",
       "      <td>other</td>\n",
       "      <td>40000</td>\n",
       "      <td>7</td>\n",
       "      <td>petrol</td>\n",
       "      <td>ford</td>\n",
       "      <td>yes</td>\n",
       "    </tr>\n",
       "    <tr>\n",
       "      <th>37953</th>\n",
       "      <td>9500</td>\n",
       "      <td>other</td>\n",
       "      <td>1937</td>\n",
       "      <td>unknown</td>\n",
       "      <td>0</td>\n",
       "      <td>other</td>\n",
       "      <td>20000</td>\n",
       "      <td>4</td>\n",
       "      <td>unknown</td>\n",
       "      <td>ford</td>\n",
       "      <td>yes</td>\n",
       "    </tr>\n",
       "    <tr>\n",
       "      <th>38875</th>\n",
       "      <td>1234</td>\n",
       "      <td>unknown</td>\n",
       "      <td>1234</td>\n",
       "      <td>unknown</td>\n",
       "      <td>26</td>\n",
       "      <td>unknown</td>\n",
       "      <td>5000</td>\n",
       "      <td>1</td>\n",
       "      <td>unknown</td>\n",
       "      <td>trabant</td>\n",
       "      <td>yes</td>\n",
       "    </tr>\n",
       "    <tr>\n",
       "      <th>62803</th>\n",
       "      <td>3400</td>\n",
       "      <td>small</td>\n",
       "      <td>1910</td>\n",
       "      <td>manual</td>\n",
       "      <td>90</td>\n",
       "      <td>beetle</td>\n",
       "      <td>90000</td>\n",
       "      <td>4</td>\n",
       "      <td>unknown</td>\n",
       "      <td>volkswagen</td>\n",
       "      <td>no</td>\n",
       "    </tr>\n",
       "    <tr>\n",
       "      <th>66198</th>\n",
       "      <td>1300</td>\n",
       "      <td>unknown</td>\n",
       "      <td>1000</td>\n",
       "      <td>auto</td>\n",
       "      <td>0</td>\n",
       "      <td>unknown</td>\n",
       "      <td>5000</td>\n",
       "      <td>6</td>\n",
       "      <td>petrol</td>\n",
       "      <td>sonstige_autos</td>\n",
       "      <td>yes</td>\n",
       "    </tr>\n",
       "    <tr>\n",
       "      <th>78477</th>\n",
       "      <td>8990</td>\n",
       "      <td>sedan</td>\n",
       "      <td>1937</td>\n",
       "      <td>unknown</td>\n",
       "      <td>0</td>\n",
       "      <td>unknown</td>\n",
       "      <td>150000</td>\n",
       "      <td>7</td>\n",
       "      <td>petrol</td>\n",
       "      <td>sonstige_autos</td>\n",
       "      <td>yes</td>\n",
       "    </tr>\n",
       "    <tr>\n",
       "      <th>108326</th>\n",
       "      <td>14000</td>\n",
       "      <td>sedan</td>\n",
       "      <td>1936</td>\n",
       "      <td>unknown</td>\n",
       "      <td>0</td>\n",
       "      <td>500</td>\n",
       "      <td>5000</td>\n",
       "      <td>1</td>\n",
       "      <td>unknown</td>\n",
       "      <td>fiat</td>\n",
       "      <td>no</td>\n",
       "    </tr>\n",
       "    <tr>\n",
       "      <th>113259</th>\n",
       "      <td>8000</td>\n",
       "      <td>sedan</td>\n",
       "      <td>1937</td>\n",
       "      <td>manual</td>\n",
       "      <td>0</td>\n",
       "      <td>unknown</td>\n",
       "      <td>50000</td>\n",
       "      <td>5</td>\n",
       "      <td>petrol</td>\n",
       "      <td>sonstige_autos</td>\n",
       "      <td>no</td>\n",
       "    </tr>\n",
       "    <tr>\n",
       "      <th>137324</th>\n",
       "      <td>11500</td>\n",
       "      <td>convertible</td>\n",
       "      <td>1929</td>\n",
       "      <td>manual</td>\n",
       "      <td>15</td>\n",
       "      <td>other</td>\n",
       "      <td>5000</td>\n",
       "      <td>1</td>\n",
       "      <td>unknown</td>\n",
       "      <td>bmw</td>\n",
       "      <td>yes</td>\n",
       "    </tr>\n",
       "    <tr>\n",
       "      <th>146207</th>\n",
       "      <td>12999</td>\n",
       "      <td>small</td>\n",
       "      <td>1938</td>\n",
       "      <td>manual</td>\n",
       "      <td>40</td>\n",
       "      <td>2_reihe</td>\n",
       "      <td>70000</td>\n",
       "      <td>1</td>\n",
       "      <td>petrol</td>\n",
       "      <td>peugeot</td>\n",
       "      <td>no</td>\n",
       "    </tr>\n",
       "    <tr>\n",
       "      <th>149465</th>\n",
       "      <td>10000</td>\n",
       "      <td>sedan</td>\n",
       "      <td>1938</td>\n",
       "      <td>manual</td>\n",
       "      <td>24</td>\n",
       "      <td>unknown</td>\n",
       "      <td>30000</td>\n",
       "      <td>7</td>\n",
       "      <td>petrol</td>\n",
       "      <td>sonstige_autos</td>\n",
       "      <td>yes</td>\n",
       "    </tr>\n",
       "    <tr>\n",
       "      <th>218241</th>\n",
       "      <td>7999</td>\n",
       "      <td>unknown</td>\n",
       "      <td>1800</td>\n",
       "      <td>unknown</td>\n",
       "      <td>290</td>\n",
       "      <td>golf</td>\n",
       "      <td>5000</td>\n",
       "      <td>6</td>\n",
       "      <td>unknown</td>\n",
       "      <td>volkswagen</td>\n",
       "      <td>yes</td>\n",
       "    </tr>\n",
       "    <tr>\n",
       "      <th>218297</th>\n",
       "      <td>6000</td>\n",
       "      <td>convertible</td>\n",
       "      <td>1932</td>\n",
       "      <td>unknown</td>\n",
       "      <td>0</td>\n",
       "      <td>other</td>\n",
       "      <td>30000</td>\n",
       "      <td>8</td>\n",
       "      <td>unknown</td>\n",
       "      <td>ford</td>\n",
       "      <td>no</td>\n",
       "    </tr>\n",
       "    <tr>\n",
       "      <th>229913</th>\n",
       "      <td>7500</td>\n",
       "      <td>small</td>\n",
       "      <td>1938</td>\n",
       "      <td>manual</td>\n",
       "      <td>18</td>\n",
       "      <td>unknown</td>\n",
       "      <td>5000</td>\n",
       "      <td>3</td>\n",
       "      <td>unknown</td>\n",
       "      <td>sonstige_autos</td>\n",
       "      <td>yes</td>\n",
       "    </tr>\n",
       "    <tr>\n",
       "      <th>230095</th>\n",
       "      <td>11500</td>\n",
       "      <td>convertible</td>\n",
       "      <td>1929</td>\n",
       "      <td>manual</td>\n",
       "      <td>15</td>\n",
       "      <td>other</td>\n",
       "      <td>5000</td>\n",
       "      <td>1</td>\n",
       "      <td>petrol</td>\n",
       "      <td>bmw</td>\n",
       "      <td>yes</td>\n",
       "    </tr>\n",
       "    <tr>\n",
       "      <th>235505</th>\n",
       "      <td>9999</td>\n",
       "      <td>convertible</td>\n",
       "      <td>1928</td>\n",
       "      <td>manual</td>\n",
       "      <td>40</td>\n",
       "      <td>other</td>\n",
       "      <td>150000</td>\n",
       "      <td>6</td>\n",
       "      <td>petrol</td>\n",
       "      <td>ford</td>\n",
       "      <td>yes</td>\n",
       "    </tr>\n",
       "    <tr>\n",
       "      <th>237933</th>\n",
       "      <td>11000</td>\n",
       "      <td>sedan</td>\n",
       "      <td>1929</td>\n",
       "      <td>unknown</td>\n",
       "      <td>0</td>\n",
       "      <td>unknown</td>\n",
       "      <td>60000</td>\n",
       "      <td>1</td>\n",
       "      <td>petrol</td>\n",
       "      <td>sonstige_autos</td>\n",
       "      <td>no</td>\n",
       "    </tr>\n",
       "    <tr>\n",
       "      <th>244423</th>\n",
       "      <td>3000</td>\n",
       "      <td>other</td>\n",
       "      <td>1934</td>\n",
       "      <td>unknown</td>\n",
       "      <td>0</td>\n",
       "      <td>unknown</td>\n",
       "      <td>90000</td>\n",
       "      <td>1</td>\n",
       "      <td>petrol</td>\n",
       "      <td>sonstige_autos</td>\n",
       "      <td>no</td>\n",
       "    </tr>\n",
       "    <tr>\n",
       "      <th>247198</th>\n",
       "      <td>5500</td>\n",
       "      <td>sedan</td>\n",
       "      <td>1937</td>\n",
       "      <td>manual</td>\n",
       "      <td>0</td>\n",
       "      <td>other</td>\n",
       "      <td>30000</td>\n",
       "      <td>3</td>\n",
       "      <td>petrol</td>\n",
       "      <td>opel</td>\n",
       "      <td>no</td>\n",
       "    </tr>\n",
       "    <tr>\n",
       "      <th>263175</th>\n",
       "      <td>1700</td>\n",
       "      <td>sedan</td>\n",
       "      <td>1938</td>\n",
       "      <td>manual</td>\n",
       "      <td>0</td>\n",
       "      <td>unknown</td>\n",
       "      <td>100000</td>\n",
       "      <td>4</td>\n",
       "      <td>petrol</td>\n",
       "      <td>sonstige_autos</td>\n",
       "      <td>yes</td>\n",
       "    </tr>\n",
       "    <tr>\n",
       "      <th>263574</th>\n",
       "      <td>4700</td>\n",
       "      <td>other</td>\n",
       "      <td>1931</td>\n",
       "      <td>auto</td>\n",
       "      <td>40</td>\n",
       "      <td>other</td>\n",
       "      <td>150000</td>\n",
       "      <td>1</td>\n",
       "      <td>petrol</td>\n",
       "      <td>ford</td>\n",
       "      <td>yes</td>\n",
       "    </tr>\n",
       "    <tr>\n",
       "      <th>266438</th>\n",
       "      <td>8500</td>\n",
       "      <td>convertible</td>\n",
       "      <td>1938</td>\n",
       "      <td>manual</td>\n",
       "      <td>0</td>\n",
       "      <td>unknown</td>\n",
       "      <td>5000</td>\n",
       "      <td>6</td>\n",
       "      <td>petrol</td>\n",
       "      <td>sonstige_autos</td>\n",
       "      <td>yes</td>\n",
       "    </tr>\n",
       "    <tr>\n",
       "      <th>281071</th>\n",
       "      <td>14500</td>\n",
       "      <td>sedan</td>\n",
       "      <td>1935</td>\n",
       "      <td>unknown</td>\n",
       "      <td>0</td>\n",
       "      <td>other</td>\n",
       "      <td>50000</td>\n",
       "      <td>1</td>\n",
       "      <td>unknown</td>\n",
       "      <td>opel</td>\n",
       "      <td>no</td>\n",
       "    </tr>\n",
       "    <tr>\n",
       "      <th>295868</th>\n",
       "      <td>14900</td>\n",
       "      <td>coupe</td>\n",
       "      <td>1937</td>\n",
       "      <td>manual</td>\n",
       "      <td>150</td>\n",
       "      <td>unknown</td>\n",
       "      <td>10000</td>\n",
       "      <td>5</td>\n",
       "      <td>petrol</td>\n",
       "      <td>sonstige_autos</td>\n",
       "      <td>no</td>\n",
       "    </tr>\n",
       "    <tr>\n",
       "      <th>302827</th>\n",
       "      <td>4500</td>\n",
       "      <td>other</td>\n",
       "      <td>1938</td>\n",
       "      <td>manual</td>\n",
       "      <td>0</td>\n",
       "      <td>unknown</td>\n",
       "      <td>5000</td>\n",
       "      <td>10</td>\n",
       "      <td>unknown</td>\n",
       "      <td>sonstige_autos</td>\n",
       "      <td>yes</td>\n",
       "    </tr>\n",
       "    <tr>\n",
       "      <th>324049</th>\n",
       "      <td>8750</td>\n",
       "      <td>convertible</td>\n",
       "      <td>1923</td>\n",
       "      <td>manual</td>\n",
       "      <td>8</td>\n",
       "      <td>c3</td>\n",
       "      <td>5000</td>\n",
       "      <td>1</td>\n",
       "      <td>petrol</td>\n",
       "      <td>citroen</td>\n",
       "      <td>no</td>\n",
       "    </tr>\n",
       "    <tr>\n",
       "      <th>334901</th>\n",
       "      <td>1300</td>\n",
       "      <td>unknown</td>\n",
       "      <td>1910</td>\n",
       "      <td>unknown</td>\n",
       "      <td>0</td>\n",
       "      <td>unknown</td>\n",
       "      <td>5000</td>\n",
       "      <td>9</td>\n",
       "      <td>unknown</td>\n",
       "      <td>audi</td>\n",
       "      <td>yes</td>\n",
       "    </tr>\n",
       "    <tr>\n",
       "      <th>338109</th>\n",
       "      <td>7000</td>\n",
       "      <td>coupe</td>\n",
       "      <td>1937</td>\n",
       "      <td>manual</td>\n",
       "      <td>85</td>\n",
       "      <td>other</td>\n",
       "      <td>5000</td>\n",
       "      <td>8</td>\n",
       "      <td>petrol</td>\n",
       "      <td>ford</td>\n",
       "      <td>yes</td>\n",
       "    </tr>\n",
       "    <tr>\n",
       "      <th>351682</th>\n",
       "      <td>11500</td>\n",
       "      <td>unknown</td>\n",
       "      <td>1800</td>\n",
       "      <td>unknown</td>\n",
       "      <td>16</td>\n",
       "      <td>other</td>\n",
       "      <td>5000</td>\n",
       "      <td>6</td>\n",
       "      <td>petrol</td>\n",
       "      <td>fiat</td>\n",
       "      <td>yes</td>\n",
       "    </tr>\n",
       "  </tbody>\n",
       "</table>\n",
       "</div>\n",
       "    <div class=\"colab-df-buttons\">\n",
       "\n",
       "  <div class=\"colab-df-container\">\n",
       "    <button class=\"colab-df-convert\" onclick=\"convertToInteractive('df-aa816557-1ec1-4ae0-9751-78d517d0a437')\"\n",
       "            title=\"Convert this dataframe to an interactive table.\"\n",
       "            style=\"display:none;\">\n",
       "\n",
       "  <svg xmlns=\"http://www.w3.org/2000/svg\" height=\"24px\" viewBox=\"0 -960 960 960\">\n",
       "    <path d=\"M120-120v-720h720v720H120Zm60-500h600v-160H180v160Zm220 220h160v-160H400v160Zm0 220h160v-160H400v160ZM180-400h160v-160H180v160Zm440 0h160v-160H620v160ZM180-180h160v-160H180v160Zm440 0h160v-160H620v160Z\"/>\n",
       "  </svg>\n",
       "    </button>\n",
       "\n",
       "  <style>\n",
       "    .colab-df-container {\n",
       "      display:flex;\n",
       "      gap: 12px;\n",
       "    }\n",
       "\n",
       "    .colab-df-convert {\n",
       "      background-color: #E8F0FE;\n",
       "      border: none;\n",
       "      border-radius: 50%;\n",
       "      cursor: pointer;\n",
       "      display: none;\n",
       "      fill: #1967D2;\n",
       "      height: 32px;\n",
       "      padding: 0 0 0 0;\n",
       "      width: 32px;\n",
       "    }\n",
       "\n",
       "    .colab-df-convert:hover {\n",
       "      background-color: #E2EBFA;\n",
       "      box-shadow: 0px 1px 2px rgba(60, 64, 67, 0.3), 0px 1px 3px 1px rgba(60, 64, 67, 0.15);\n",
       "      fill: #174EA6;\n",
       "    }\n",
       "\n",
       "    .colab-df-buttons div {\n",
       "      margin-bottom: 4px;\n",
       "    }\n",
       "\n",
       "    [theme=dark] .colab-df-convert {\n",
       "      background-color: #3B4455;\n",
       "      fill: #D2E3FC;\n",
       "    }\n",
       "\n",
       "    [theme=dark] .colab-df-convert:hover {\n",
       "      background-color: #434B5C;\n",
       "      box-shadow: 0px 1px 3px 1px rgba(0, 0, 0, 0.15);\n",
       "      filter: drop-shadow(0px 1px 2px rgba(0, 0, 0, 0.3));\n",
       "      fill: #FFFFFF;\n",
       "    }\n",
       "  </style>\n",
       "\n",
       "    <script>\n",
       "      const buttonEl =\n",
       "        document.querySelector('#df-aa816557-1ec1-4ae0-9751-78d517d0a437 button.colab-df-convert');\n",
       "      buttonEl.style.display =\n",
       "        google.colab.kernel.accessAllowed ? 'block' : 'none';\n",
       "\n",
       "      async function convertToInteractive(key) {\n",
       "        const element = document.querySelector('#df-aa816557-1ec1-4ae0-9751-78d517d0a437');\n",
       "        const dataTable =\n",
       "          await google.colab.kernel.invokeFunction('convertToInteractive',\n",
       "                                                    [key], {});\n",
       "        if (!dataTable) return;\n",
       "\n",
       "        const docLinkHtml = 'Like what you see? Visit the ' +\n",
       "          '<a target=\"_blank\" href=https://colab.research.google.com/notebooks/data_table.ipynb>data table notebook</a>'\n",
       "          + ' to learn more about interactive tables.';\n",
       "        element.innerHTML = '';\n",
       "        dataTable['output_type'] = 'display_data';\n",
       "        await google.colab.output.renderOutput(dataTable, element);\n",
       "        const docLink = document.createElement('div');\n",
       "        docLink.innerHTML = docLinkHtml;\n",
       "        element.appendChild(docLink);\n",
       "      }\n",
       "    </script>\n",
       "  </div>\n",
       "\n",
       "\n",
       "<div id=\"df-d407c37c-5516-43d7-a1a4-eb5cb9d7c1b6\">\n",
       "  <button class=\"colab-df-quickchart\" onclick=\"quickchart('df-d407c37c-5516-43d7-a1a4-eb5cb9d7c1b6')\"\n",
       "            title=\"Suggest charts\"\n",
       "            style=\"display:none;\">\n",
       "\n",
       "<svg xmlns=\"http://www.w3.org/2000/svg\" height=\"24px\"viewBox=\"0 0 24 24\"\n",
       "     width=\"24px\">\n",
       "    <g>\n",
       "        <path d=\"M19 3H5c-1.1 0-2 .9-2 2v14c0 1.1.9 2 2 2h14c1.1 0 2-.9 2-2V5c0-1.1-.9-2-2-2zM9 17H7v-7h2v7zm4 0h-2V7h2v10zm4 0h-2v-4h2v4z\"/>\n",
       "    </g>\n",
       "</svg>\n",
       "  </button>\n",
       "\n",
       "<style>\n",
       "  .colab-df-quickchart {\n",
       "      --bg-color: #E8F0FE;\n",
       "      --fill-color: #1967D2;\n",
       "      --hover-bg-color: #E2EBFA;\n",
       "      --hover-fill-color: #174EA6;\n",
       "      --disabled-fill-color: #AAA;\n",
       "      --disabled-bg-color: #DDD;\n",
       "  }\n",
       "\n",
       "  [theme=dark] .colab-df-quickchart {\n",
       "      --bg-color: #3B4455;\n",
       "      --fill-color: #D2E3FC;\n",
       "      --hover-bg-color: #434B5C;\n",
       "      --hover-fill-color: #FFFFFF;\n",
       "      --disabled-bg-color: #3B4455;\n",
       "      --disabled-fill-color: #666;\n",
       "  }\n",
       "\n",
       "  .colab-df-quickchart {\n",
       "    background-color: var(--bg-color);\n",
       "    border: none;\n",
       "    border-radius: 50%;\n",
       "    cursor: pointer;\n",
       "    display: none;\n",
       "    fill: var(--fill-color);\n",
       "    height: 32px;\n",
       "    padding: 0;\n",
       "    width: 32px;\n",
       "  }\n",
       "\n",
       "  .colab-df-quickchart:hover {\n",
       "    background-color: var(--hover-bg-color);\n",
       "    box-shadow: 0 1px 2px rgba(60, 64, 67, 0.3), 0 1px 3px 1px rgba(60, 64, 67, 0.15);\n",
       "    fill: var(--button-hover-fill-color);\n",
       "  }\n",
       "\n",
       "  .colab-df-quickchart-complete:disabled,\n",
       "  .colab-df-quickchart-complete:disabled:hover {\n",
       "    background-color: var(--disabled-bg-color);\n",
       "    fill: var(--disabled-fill-color);\n",
       "    box-shadow: none;\n",
       "  }\n",
       "\n",
       "  .colab-df-spinner {\n",
       "    border: 2px solid var(--fill-color);\n",
       "    border-color: transparent;\n",
       "    border-bottom-color: var(--fill-color);\n",
       "    animation:\n",
       "      spin 1s steps(1) infinite;\n",
       "  }\n",
       "\n",
       "  @keyframes spin {\n",
       "    0% {\n",
       "      border-color: transparent;\n",
       "      border-bottom-color: var(--fill-color);\n",
       "      border-left-color: var(--fill-color);\n",
       "    }\n",
       "    20% {\n",
       "      border-color: transparent;\n",
       "      border-left-color: var(--fill-color);\n",
       "      border-top-color: var(--fill-color);\n",
       "    }\n",
       "    30% {\n",
       "      border-color: transparent;\n",
       "      border-left-color: var(--fill-color);\n",
       "      border-top-color: var(--fill-color);\n",
       "      border-right-color: var(--fill-color);\n",
       "    }\n",
       "    40% {\n",
       "      border-color: transparent;\n",
       "      border-right-color: var(--fill-color);\n",
       "      border-top-color: var(--fill-color);\n",
       "    }\n",
       "    60% {\n",
       "      border-color: transparent;\n",
       "      border-right-color: var(--fill-color);\n",
       "    }\n",
       "    80% {\n",
       "      border-color: transparent;\n",
       "      border-right-color: var(--fill-color);\n",
       "      border-bottom-color: var(--fill-color);\n",
       "    }\n",
       "    90% {\n",
       "      border-color: transparent;\n",
       "      border-bottom-color: var(--fill-color);\n",
       "    }\n",
       "  }\n",
       "</style>\n",
       "\n",
       "  <script>\n",
       "    async function quickchart(key) {\n",
       "      const quickchartButtonEl =\n",
       "        document.querySelector('#' + key + ' button');\n",
       "      quickchartButtonEl.disabled = true;  // To prevent multiple clicks.\n",
       "      quickchartButtonEl.classList.add('colab-df-spinner');\n",
       "      try {\n",
       "        const charts = await google.colab.kernel.invokeFunction(\n",
       "            'suggestCharts', [key], {});\n",
       "      } catch (error) {\n",
       "        console.error('Error during call to suggestCharts:', error);\n",
       "      }\n",
       "      quickchartButtonEl.classList.remove('colab-df-spinner');\n",
       "      quickchartButtonEl.classList.add('colab-df-quickchart-complete');\n",
       "    }\n",
       "    (() => {\n",
       "      let quickchartButtonEl =\n",
       "        document.querySelector('#df-d407c37c-5516-43d7-a1a4-eb5cb9d7c1b6 button');\n",
       "      quickchartButtonEl.style.display =\n",
       "        google.colab.kernel.accessAllowed ? 'block' : 'none';\n",
       "    })();\n",
       "  </script>\n",
       "</div>\n",
       "    </div>\n",
       "  </div>\n"
      ],
      "text/plain": [
       "        Price  VehicleType  RegistrationYear  Gearbox  Power    Model  \\\n",
       "2273     1800  convertible              1925  unknown      0  unknown   \n",
       "18224    7999      unknown              1500   manual    224  impreza   \n",
       "22621   14000        sedan              1929   manual     30  unknown   \n",
       "26216   15000        small              1940   manual     24  unknown   \n",
       "29933   12900        sedan              1940   manual      0  unknown   \n",
       "33638    5400        small              1937   manual      0    other   \n",
       "34055    2900        small              1937   manual     34    other   \n",
       "37953    9500        other              1937  unknown      0    other   \n",
       "38875    1234      unknown              1234  unknown     26  unknown   \n",
       "62803    3400        small              1910   manual     90   beetle   \n",
       "66198    1300      unknown              1000     auto      0  unknown   \n",
       "78477    8990        sedan              1937  unknown      0  unknown   \n",
       "108326  14000        sedan              1936  unknown      0      500   \n",
       "113259   8000        sedan              1937   manual      0  unknown   \n",
       "137324  11500  convertible              1929   manual     15    other   \n",
       "146207  12999        small              1938   manual     40  2_reihe   \n",
       "149465  10000        sedan              1938   manual     24  unknown   \n",
       "218241   7999      unknown              1800  unknown    290     golf   \n",
       "218297   6000  convertible              1932  unknown      0    other   \n",
       "229913   7500        small              1938   manual     18  unknown   \n",
       "230095  11500  convertible              1929   manual     15    other   \n",
       "235505   9999  convertible              1928   manual     40    other   \n",
       "237933  11000        sedan              1929  unknown      0  unknown   \n",
       "244423   3000        other              1934  unknown      0  unknown   \n",
       "247198   5500        sedan              1937   manual      0    other   \n",
       "263175   1700        sedan              1938   manual      0  unknown   \n",
       "263574   4700        other              1931     auto     40    other   \n",
       "266438   8500  convertible              1938   manual      0  unknown   \n",
       "281071  14500        sedan              1935  unknown      0    other   \n",
       "295868  14900        coupe              1937   manual    150  unknown   \n",
       "302827   4500        other              1938   manual      0  unknown   \n",
       "324049   8750  convertible              1923   manual      8       c3   \n",
       "334901   1300      unknown              1910  unknown      0  unknown   \n",
       "338109   7000        coupe              1937   manual     85    other   \n",
       "351682  11500      unknown              1800  unknown     16    other   \n",
       "\n",
       "        Kilometer  RegistrationMonth FuelType           Brand Repaired  \n",
       "2273         5000                  1  unknown  sonstige_autos       no  \n",
       "18224        5000                  3  unknown          subaru      yes  \n",
       "22621        5000                  7   petrol  sonstige_autos      yes  \n",
       "26216        5000                  7   petrol  sonstige_autos       no  \n",
       "29933      150000                  4   petrol            ford      yes  \n",
       "33638       20000                  3   petrol            opel       no  \n",
       "34055       40000                  7   petrol            ford      yes  \n",
       "37953       20000                  4  unknown            ford      yes  \n",
       "38875        5000                  1  unknown         trabant      yes  \n",
       "62803       90000                  4  unknown      volkswagen       no  \n",
       "66198        5000                  6   petrol  sonstige_autos      yes  \n",
       "78477      150000                  7   petrol  sonstige_autos      yes  \n",
       "108326       5000                  1  unknown            fiat       no  \n",
       "113259      50000                  5   petrol  sonstige_autos       no  \n",
       "137324       5000                  1  unknown             bmw      yes  \n",
       "146207      70000                  1   petrol         peugeot       no  \n",
       "149465      30000                  7   petrol  sonstige_autos      yes  \n",
       "218241       5000                  6  unknown      volkswagen      yes  \n",
       "218297      30000                  8  unknown            ford       no  \n",
       "229913       5000                  3  unknown  sonstige_autos      yes  \n",
       "230095       5000                  1   petrol             bmw      yes  \n",
       "235505     150000                  6   petrol            ford      yes  \n",
       "237933      60000                  1   petrol  sonstige_autos       no  \n",
       "244423      90000                  1   petrol  sonstige_autos       no  \n",
       "247198      30000                  3   petrol            opel       no  \n",
       "263175     100000                  4   petrol  sonstige_autos      yes  \n",
       "263574     150000                  1   petrol            ford      yes  \n",
       "266438       5000                  6   petrol  sonstige_autos      yes  \n",
       "281071      50000                  1  unknown            opel       no  \n",
       "295868      10000                  5   petrol  sonstige_autos       no  \n",
       "302827       5000                 10  unknown  sonstige_autos      yes  \n",
       "324049       5000                  1   petrol         citroen       no  \n",
       "334901       5000                  9  unknown            audi      yes  \n",
       "338109       5000                  8   petrol            ford      yes  \n",
       "351682       5000                  6   petrol            fiat      yes  "
      ]
     },
     "metadata": {},
     "output_type": "display_data"
    }
   ],
   "source": [
    "display (data[data['RegistrationYear'] <= 1940])"
   ]
  },
  {
   "cell_type": "code",
   "execution_count": 42,
   "metadata": {
    "id": "daChZhA8QPQH"
   },
   "outputs": [],
   "source": [
    "data = data[data['RegistrationYear'] >= 1940]"
   ]
  },
  {
   "cell_type": "code",
   "execution_count": 43,
   "metadata": {
    "id": "ziX3Kl8dQPQI"
   },
   "outputs": [],
   "source": [
    "data = data[data['RegistrationYear'] <= 2016]"
   ]
  },
  {
   "cell_type": "code",
   "execution_count": 44,
   "metadata": {
    "colab": {
     "base_uri": "https://localhost:8080/"
    },
    "id": "wYEwMNRrQPQI",
    "outputId": "0ff234ad-cd80-4e67-8075-419303745ed0"
   },
   "outputs": [
    {
     "name": "stdout",
     "output_type": "stream",
     "text": [
      "Максимальный год регистрации 2016\n"
     ]
    }
   ],
   "source": [
    "print('Максимальный год регистрации', data['RegistrationYear'].max())"
   ]
  },
  {
   "cell_type": "markdown",
   "metadata": {
    "id": "TwULOINWQPQJ"
   },
   "source": [
    "Удалили все странные значения из RegistrationYear"
   ]
  },
  {
   "cell_type": "code",
   "execution_count": 45,
   "metadata": {
    "colab": {
     "base_uri": "https://localhost:8080/",
     "height": 564
    },
    "id": "diE9KCf1QPQJ",
    "outputId": "c9ac8bfd-b7d4-4612-b6f0-789eae993ef9"
   },
   "outputs": [
    {
     "data": {
      "image/png": "[encoded data removed]",
      "text/plain": [
       "<Figure size 800x600 with 1 Axes>"
      ]
     },
     "metadata": {},
     "output_type": "display_data"
    }
   ],
   "source": [
    "plt.figure(figsize=(8, 6))\n",
    "sns.boxplot(x=data['Power'])\n",
    "plt.title('Boxplot для столбца \"Мощность\"')\n",
    "plt.xlabel('Мощность')\n",
    "plt.show()"
   ]
  },
  {
   "cell_type": "code",
   "execution_count": 46,
   "metadata": {
    "id": "dmjxv8wgQPQJ"
   },
   "outputs": [],
   "source": [
    "data=data[(data['Power'] >= 20) & (data['Power'] <= 600)]"
   ]
  },
  {
   "cell_type": "markdown",
   "metadata": {
    "id": "AwdXDEVTQPQJ"
   },
   "source": [
    "Удаление аномальных значений из столбца Power — мощность (л. с.)"
   ]
  },
  {
   "cell_type": "code",
   "execution_count": 47,
   "metadata": {
    "colab": {
     "base_uri": "https://localhost:8080/",
     "height": 564
    },
    "id": "0pmJMrQgQPQJ",
    "outputId": "59c52240-4e54-4f6c-ce59-1a8c85e20f9c"
   },
   "outputs": [
    {
     "data": {
      "image/png": "[encoded data removed]",
      "text/plain": [
       "<Figure size 800x600 with 1 Axes>"
      ]
     },
     "metadata": {},
     "output_type": "display_data"
    }
   ],
   "source": [
    "plt.figure(figsize=(8, 6))\n",
    "sns.boxplot(x=data['Kilometer'])\n",
    "plt.title('Boxplot для столбца \"Километраж\"')\n",
    "plt.xlabel('Пробег')\n",
    "plt.show()"
   ]
  },
  {
   "cell_type": "code",
   "execution_count": 48,
   "metadata": {
    "colab": {
     "base_uri": "https://localhost:8080/",
     "height": 564
    },
    "id": "u3rSeL8qQPQK",
    "outputId": "641132a5-cb39-4e82-9161-3bc7e52af76e"
   },
   "outputs": [
    {
     "data": {
      "image/png": "[encoded data removed]",
      "text/plain": [
       "<Figure size 800x600 with 1 Axes>"
      ]
     },
     "metadata": {},
     "output_type": "display_data"
    }
   ],
   "source": [
    "plt.figure(figsize=(8, 6))\n",
    "sns.boxplot(x=data['Price'])\n",
    "plt.title('Boxplot для столбца \"Цена\"')\n",
    "plt.xlabel('Цена (в евро)')\n",
    "plt.show()"
   ]
  },
  {
   "cell_type": "code",
   "execution_count": 49,
   "metadata": {
    "colab": {
     "base_uri": "https://localhost:8080/"
    },
    "id": "q6QnB1T9QPQK",
    "outputId": "ebf7745e-978f-45de-8bf4-d9f4bd246786"
   },
   "outputs": [
    {
     "name": "stdout",
     "output_type": "stream",
     "text": [
      "5815\n"
     ]
    }
   ],
   "source": [
    "print ((data['Price'] > 14000).sum())"
   ]
  },
  {
   "cell_type": "code",
   "execution_count": 50,
   "metadata": {
    "id": "V4r5F9cJQPQK"
   },
   "outputs": [],
   "source": [
    "data = data[data['Price'] <= 14000]"
   ]
  },
  {
   "cell_type": "code",
   "execution_count": 51,
   "metadata": {
    "colab": {
     "base_uri": "https://localhost:8080/"
    },
    "id": "c6LgeCp-QPQK",
    "outputId": "3f10c91c-d7c6-43bc-bf02-9cfd264ef275"
   },
   "outputs": [
    {
     "name": "stdout",
     "output_type": "stream",
     "text": [
      "<class 'pandas.core.frame.DataFrame'>\n",
      "Int64Index: 212396 entries, 2 to 354368\n",
      "Data columns (total 11 columns):\n",
      " #   Column             Non-Null Count   Dtype \n",
      "---  ------             --------------   ----- \n",
      " 0   Price              212396 non-null  int64 \n",
      " 1   VehicleType        212396 non-null  object\n",
      " 2   RegistrationYear   212396 non-null  int64 \n",
      " 3   Gearbox            212396 non-null  object\n",
      " 4   Power              212396 non-null  int64 \n",
      " 5   Model              212396 non-null  object\n",
      " 6   Kilometer          212396 non-null  int64 \n",
      " 7   RegistrationMonth  212396 non-null  int64 \n",
      " 8   FuelType           212396 non-null  object\n",
      " 9   Brand              212396 non-null  object\n",
      " 10  Repaired           212396 non-null  object\n",
      "dtypes: int64(5), object(6)\n",
      "memory usage: 19.4+ MB\n"
     ]
    }
   ],
   "source": [
    "data.info()"
   ]
  },
  {
   "cell_type": "markdown",
   "metadata": {
    "id": "4yVUAuh9QPQK"
   },
   "source": [
    "Работа с аномальными значениями закончена."
   ]
  },
  {
   "cell_type": "code",
   "execution_count": 52,
   "metadata": {
    "colab": {
     "base_uri": "https://localhost:8080/"
    },
    "id": "_7reFoqxQPQL",
    "outputId": "af769eb8-3a1d-4238-b307-2b9d4631a893"
   },
   "outputs": [
    {
     "name": "stdout",
     "output_type": "stream",
     "text": [
      "['grand' 'golf' 'fabia' '2_reihe' '3_reihe' 'passat' 'twingo' 'c_max'\n",
      " 'a_klasse' 'scirocco' '5er' 'civic' 'transporter' 'e_klasse' 'other'\n",
      " 'one' 'fortwo' '1er' 'b_klasse' '3er' 'a8' 'jetta' 'c_klasse' 'micra'\n",
      " 'vito' 'sprinter' 'forester' 'xc_reihe' 'fiesta' 'scenic' 'focus' 'a4'\n",
      " 'tt' 'astra' 'a6' 'jazz' 'polo' 'slk' '7er' 'combo' '80' '147' 'unknown'\n",
      " 'z_reihe' 'sorento' 'ibiza' 'eos' 'touran' 'getz' 'insignia' 'ka'\n",
      " 'almera' 'megane' 'a3' 'lupo' 'cordoba' 'clio' 'a1' 'berlingo' 'tiguan'\n",
      " '6_reihe' 'c4' 'panda' 'up' 'i_reihe' 'ceed' 'yeti' 'octavia' 'zafira'\n",
      " 'mii' 'rx_reihe' 'corsa' 'punto' 'fox' 'vectra' 'matiz' 'beetle' 'rio'\n",
      " 'logan' 'spider' 'cuore' 's_max' 'modus' 'a2' 'c3' 'mondeo' 'sharan'\n",
      " 'avensis' 'viano' 'roomster' 'sl' 'kaefer' 'santa' 'leon' 'cooper'\n",
      " '4_reihe' 'sportage' 'caddy' 'ptcruiser' 'clk' 'primera' 's_klasse'\n",
      " 'galaxy' '159' 'transit' 'juke' 'x_reihe' 'espace' 'carisma' 'accord'\n",
      " 'corolla' 'phaeton' 'verso' 'swift' 'rav' 'colt' 'picanto' 'boxster'\n",
      " 'stilo' 'alhambra' 'touareg' 'roadster' '90' 'signum' 'crossfire' 'agila'\n",
      " 'duster' 'kangoo' 'v50' 'mx_reihe' '500' 'meriva' 'c_reihe' 'v_klasse'\n",
      " 'm_klasse' 'yaris' 'c5' 'aygo' 'cc' 'bora' 'forfour' 'tigra' '156' '300c'\n",
      " '100' 'cr_reihe' 'escort' 'spark' '5_reihe' 'ducato' 's_type' 'x_trail'\n",
      " 'toledo' 'altea' 'qashqai' 'arosa' 'voyager' 'carnival' 'v70' 'omega'\n",
      " 'cl' 'tucson' 'x_type' 'c1' 'citigo' 'jimny' 'wrangler' 'lybra' 'captiva'\n",
      " 'fusion' 'discovery' 'freelander' 'sandero' 'note' 'kadett' 'impreza'\n",
      " 'kuga' 'navara' 'laguna' 'antara' 'sirion' '900' '1_reihe' 'defender'\n",
      " 'lancer' 'legacy' 'pajero' 'auris' 'cayenne' 'c2' 'niva' 's60' 'clubman'\n",
      " 'm_reihe' 'nubira' 'vivaro' 'g_klasse' 'galant' 'cherokee' '850'\n",
      " 'ypsilon' 'superb' 'justy' 'serie_2' 'calibra' 'exeo' 'charade' 'v40'\n",
      " 'croma' 'q7' 'outlander' 'doblo' 'musa' '6er' 'a5' 'seicento' '9000'\n",
      " 'kalos' 'v60' 'bravo' 'r19' '200' '601' 'b_max' 'lanos' 'cx_reihe'\n",
      " 'range_rover_sport' 'aveo' 'range_rover' 'mustang' 'q5'\n",
      " 'range_rover_evoque' 'materia' 'terios' 'lodgy' 'glk' 'delta' 'kalina'\n",
      " 'i3' '911' '145' 'samara' 'kappa' 'serie_3' 'amarok' 'move' 'elefantino'\n",
      " 'gl' 'q3']\n"
     ]
    }
   ],
   "source": [
    "print(data['Model'].unique())"
   ]
  },
  {
   "cell_type": "code",
   "execution_count": 53,
   "metadata": {
    "colab": {
     "base_uri": "https://localhost:8080/"
    },
    "id": "-rKj7TL_QPQL",
    "outputId": "3c4bf195-70ba-4a88-9585-c5c5cf97c346"
   },
   "outputs": [
    {
     "name": "stdout",
     "output_type": "stream",
     "text": [
      "golf        17384\n",
      "other       14279\n",
      "3er         13443\n",
      "passat       6739\n",
      "a4           6680\n",
      "polo         6516\n",
      "astra        6254\n",
      "unknown      5906\n",
      "5er          5689\n",
      "c_klasse     5605\n",
      "corsa        5516\n",
      "e_klasse     4785\n",
      "a3           4211\n",
      "a6           4058\n",
      "Name: Model, dtype: int64\n"
     ]
    }
   ],
   "source": [
    "model_counts = data['Model'].value_counts()\n",
    "top_14_models = model_counts.head(14)\n",
    "print(top_14_models)"
   ]
  },
  {
   "cell_type": "code",
   "execution_count": 54,
   "metadata": {
    "id": "oD2wH1hdQPQL"
   },
   "outputs": [],
   "source": [
    "top_14_models = data['Model'].value_counts().head(14).index\n",
    "data['Model'] = data['Model'].where(data['Model'].isin(top_14_models), other='other')"
   ]
  },
  {
   "cell_type": "code",
   "execution_count": 55,
   "metadata": {
    "colab": {
     "base_uri": "https://localhost:8080/"
    },
    "id": "nB91gjJ-QPQL",
    "outputId": "9388cfe1-4217-452c-f9fe-1e276ae4a995"
   },
   "outputs": [
    {
     "name": "stdout",
     "output_type": "stream",
     "text": [
      "['other' 'golf' 'passat' '5er' 'e_klasse' '3er' 'c_klasse' 'a4' 'astra'\n",
      " 'a6' 'polo' 'unknown' 'a3' 'corsa']\n"
     ]
    }
   ],
   "source": [
    "print(data['Model'].unique())"
   ]
  },
  {
   "cell_type": "code",
   "execution_count": 56,
   "metadata": {
    "id": "a8ouFaJNQPQM"
   },
   "outputs": [],
   "source": [
    "data.drop(columns=['RegistrationMonth'], inplace=True)"
   ]
  },
  {
   "cell_type": "code",
   "execution_count": 57,
   "metadata": {
    "colab": {
     "base_uri": "https://localhost:8080/"
    },
    "id": "rjcgmR5EQPQM",
    "outputId": "cc021a0a-942f-4e3e-f00c-4bb9cd7ce734"
   },
   "outputs": [
    {
     "name": "stdout",
     "output_type": "stream",
     "text": [
      "30231\n"
     ]
    }
   ],
   "source": [
    "print (data.duplicated().sum())"
   ]
  },
  {
   "cell_type": "code",
   "execution_count": 58,
   "metadata": {
    "id": "IZIixUvoQPQM"
   },
   "outputs": [],
   "source": [
    "data = data.drop_duplicates()"
   ]
  },
  {
   "cell_type": "code",
   "execution_count": 59,
   "metadata": {
    "colab": {
     "base_uri": "https://localhost:8080/"
    },
    "id": "DbAU1gdrQPQM",
    "outputId": "e8686da9-a271-4140-c948-183bbdcf4ab6"
   },
   "outputs": [
    {
     "name": "stdout",
     "output_type": "stream",
     "text": [
      "0\n"
     ]
    }
   ],
   "source": [
    "print (data.duplicated().sum())"
   ]
  },
  {
   "cell_type": "code",
   "execution_count": 60,
   "metadata": {
    "colab": {
     "base_uri": "https://localhost:8080/"
    },
    "id": "sPACVoMhQPQM",
    "outputId": "1c85d9cf-6555-4fb8-8c92-307c1df9cdb9"
   },
   "outputs": [
    {
     "name": "stdout",
     "output_type": "stream",
     "text": [
      "<class 'pandas.core.frame.DataFrame'>\n",
      "Int64Index: 182165 entries, 2 to 354368\n",
      "Data columns (total 10 columns):\n",
      " #   Column            Non-Null Count   Dtype \n",
      "---  ------            --------------   ----- \n",
      " 0   Price             182165 non-null  int64 \n",
      " 1   VehicleType       182165 non-null  object\n",
      " 2   RegistrationYear  182165 non-null  int64 \n",
      " 3   Gearbox           182165 non-null  object\n",
      " 4   Power             182165 non-null  int64 \n",
      " 5   Model             182165 non-null  object\n",
      " 6   Kilometer         182165 non-null  int64 \n",
      " 7   FuelType          182165 non-null  object\n",
      " 8   Brand             182165 non-null  object\n",
      " 9   Repaired          182165 non-null  object\n",
      "dtypes: int64(4), object(6)\n",
      "memory usage: 15.3+ MB\n"
     ]
    }
   ],
   "source": [
    "data.info()"
   ]
  },
  {
   "cell_type": "markdown",
   "metadata": {
    "id": "Xn_t5CP4QPQM"
   },
   "source": [
    "Проведена подготовка данных. Удалены неинформативные признаки, заполнены пропущенные значения, убраны аномальные значения, данные готовы к следующему этапу."
   ]
  },
  {
   "cell_type": "markdown",
   "metadata": {
    "id": "4TfDm_x5QPQM"
   },
   "source": [
    "## Обучение моделей"
   ]
  },
  {
   "cell_type": "code",
   "execution_count": 61,
   "metadata": {
    "id": "6I7Y0CSyQPQN"
   },
   "outputs": [],
   "source": [
    "x = data.drop('Price', axis=1)\n",
    "y = data['Price']\n",
    "\n",
    "x_train_val, x_test, y_train_val, y_test = train_test_split(x, y, test_size=0.2, random_state=123)\n",
    "x_train, x_val, y_train, y_val = train_test_split(x_train_val, y_train_val, test_size=0.25, random_state=123)"
   ]
  },
  {
   "cell_type": "code",
   "execution_count": 62,
   "metadata": {
    "id": "UkuX_4yXQPQN"
   },
   "outputs": [],
   "source": [
    "categorical_features = ['VehicleType', 'Gearbox', 'Model', 'FuelType', 'Brand', 'Repaired']"
   ]
  },
  {
   "cell_type": "markdown",
   "metadata": {
    "id": "Xsbm9ASjQPQO"
   },
   "source": [
    "Линейные модели:"
   ]
  },
  {
   "cell_type": "code",
   "execution_count": 63,
   "metadata": {
    "id": "unRvuH2tQPQO"
   },
   "outputs": [],
   "source": [
    "column_transformer_ohe = ColumnTransformer(transformers=[\n",
    "    ('ohe', OneHotEncoder(handle_unknown='ignore', drop='first'), categorical_features)], remainder='passthrough')"
   ]
  },
  {
   "cell_type": "markdown",
   "metadata": {
    "id": "fTcUaTc9QPQO"
   },
   "source": [
    "Я ставила handle_unknown='error', у меня появлялась такая проблема:\n",
    "\n",
    "column_transformer_ohe = ColumnTransformer(transformers=[\n",
    "    ('ohe', OneHotEncoder(handle_unknown='error'), categorical_features)], remainder='passthrough')\n",
    "\n",
    "x_train_ohe = column_transformer_ohe.fit_transform(x_train)\n",
    "x_val_ohe = column_transformer_ohe.transform(x_val)\n",
    "x_test_ohe = column_transformer_ohe.transform(x_test)\n",
    "\n",
    "ValueError: Found unknown categories ['elefantino'] in column 2 during transform"
   ]
  },
  {
   "cell_type": "markdown",
   "metadata": {
    "id": "JhPsLFLEQPQP"
   },
   "source": [
    "Нелинейные модели:"
   ]
  },
  {
   "cell_type": "code",
   "execution_count": 64,
   "metadata": {
    "id": "FaTIvOB8QPQP"
   },
   "outputs": [],
   "source": [
    "column_transformer_ordinal = ColumnTransformer(transformers=[\n",
    "    ('ordinal', OrdinalEncoder(), categorical_features)], remainder='passthrough')"
   ]
  },
  {
   "cell_type": "code",
   "execution_count": 65,
   "metadata": {
    "id": "N5n-pyuAQPQP"
   },
   "outputs": [],
   "source": [
    "x_train_ohe = column_transformer_ohe.fit_transform(x_train)\n",
    "x_val_ohe = column_transformer_ohe.transform(x_val)\n",
    "x_test_ohe = column_transformer_ohe.transform(x_test)"
   ]
  },
  {
   "cell_type": "code",
   "execution_count": 66,
   "metadata": {
    "id": "IKUMddRMQPQQ"
   },
   "outputs": [],
   "source": [
    "x_train_ordinal = column_transformer_ordinal.fit_transform(x_train)\n",
    "x_val_ordinal = column_transformer_ordinal.transform(x_val)\n",
    "x_test_ordinal = column_transformer_ordinal.transform(x_test)"
   ]
  },
  {
   "cell_type": "markdown",
   "metadata": {
    "id": "WpH1A2W3QPQQ"
   },
   "source": [
    "сделаю масштабирование числовых признаков"
   ]
  },
  {
   "cell_type": "markdown",
   "metadata": {
    "id": "eogQzrAKQPQQ"
   },
   "source": [
    "(with_mean=False) из-за проблем с матрицами, использую игнорирование центрирования, чтобы использовать масштабирование."
   ]
  },
  {
   "cell_type": "code",
   "execution_count": 67,
   "metadata": {
    "id": "MtxwpcrXQPQQ"
   },
   "outputs": [],
   "source": [
    "scaler = StandardScaler(with_mean=False)"
   ]
  },
  {
   "cell_type": "code",
   "execution_count": 68,
   "metadata": {
    "id": "wnoxwiXDQPQQ"
   },
   "outputs": [],
   "source": [
    "x_train_scaled = scaler.fit_transform(x_train_ohe)\n",
    "x_val_scaled = scaler.transform(x_val_ohe)\n",
    "x_test_scaled = scaler.transform(x_test_ohe)"
   ]
  },
  {
   "cell_type": "code",
   "execution_count": 69,
   "metadata": {
    "id": "-FkvL-glQPQQ"
   },
   "outputs": [],
   "source": [
    "def train_model(model, x_train, y_train, x_val, y_val):\n",
    "    start_time = time.time()\n",
    "    model.fit(x_train, y_train)\n",
    "    training_time = time.time() - start_time\n",
    "\n",
    "    start_time = time.time()\n",
    "    y_pred = model.predict(x_val)\n",
    "    prediction_time = time.time() - start_time\n",
    "\n",
    "    rmse = np.sqrt(mean_squared_error(y_val, y_pred))\n",
    "    return rmse, training_time, prediction_time"
   ]
  },
  {
   "cell_type": "markdown",
   "metadata": {
    "id": "7cFgD8zBQPQQ"
   },
   "source": [
    "Функция принимает данные, обучает модель на тренировочных данных, измеряет время обучения, предсказания, рассчитывает rmse, возвращает все необходимые данные."
   ]
  },
  {
   "cell_type": "code",
   "execution_count": 70,
   "metadata": {
    "colab": {
     "base_uri": "https://localhost:8080/"
    },
    "id": "AvVloc5JQPQR",
    "outputId": "7f058652-9896-4f49-c6ea-e948cce5fa14",
    "scrolled": true
   },
   "outputs": [
    {
     "name": "stdout",
     "output_type": "stream",
     "text": [
      "Линейная регрессия RMSE: 2311.5194, Время обучения: 0.48 сек, Время предсказания: 0.00 сек\n"
     ]
    }
   ],
   "source": [
    "linear_model = LinearRegression()\n",
    "linear_rmse, linear_train_time, linear_predict_time = train_model(linear_model,x_train_scaled,\n",
    "                                                                               y_train, x_val_scaled, y_val)\n",
    "\n",
    "print(f'Линейная регрессия RMSE: {linear_rmse:.4f}, '\n",
    "      f'Время обучения: {linear_train_time:.2f} сек, '\n",
    "      f'Время предсказания: {linear_predict_time:.2f} сек')"
   ]
  },
  {
   "cell_type": "code",
   "execution_count": 71,
   "metadata": {
    "colab": {
     "base_uri": "https://localhost:8080/"
    },
    "id": "1UEhhHiHQPQR",
    "outputId": "395c41dd-346f-4b06-e197-14d59e41b9be"
   },
   "outputs": [
    {
     "name": "stderr",
     "output_type": "stream",
     "text": [
      "100%|██████████| 4/4 [00:53<00:00, 13.45s/it]"
     ]
    },
    {
     "name": "stdout",
     "output_type": "stream",
     "text": [
      "Лучший RMSE случайного леса: 1681.5808 с лучшими параметрами: {'n_estimators': 100, 'max_depth': 9}, Время обучения: 10.87 сек, Время предсказания: 0.23 сек\n"
     ]
    },
    {
     "name": "stderr",
     "output_type": "stream",
     "text": [
      "\n"
     ]
    }
   ],
   "source": [
    "best_rmse_rf = float('inf')\n",
    "best_train_time_rf = float('inf')\n",
    "best_predict_time_rf = float('inf')\n",
    "for n_estimators in tqdm(range(10, 101, 30)):\n",
    "    for max_depth in range(3, 12, 3):\n",
    "        model = RandomForestRegressor(n_estimators=n_estimators, max_depth=max_depth, min_samples_split=10, n_jobs=-1, random_state=123)\n",
    "        rmse, train_time, predict_time = train_model(model, x_train_ordinal, y_train, x_val_ordinal, y_val)\n",
    "        if rmse < best_rmse_rf:\n",
    "            best_rmse_rf = rmse\n",
    "            best_params_rf = {'n_estimators': n_estimators, 'max_depth': max_depth}\n",
    "            best_train_time_rf, best_predict_time_rf = train_time, predict_time\n",
    "\n",
    "print(f'Лучший RMSE случайного леса: {best_rmse_rf:.4f} с лучшими параметрами: {best_params_rf}, '\n",
    "      f'Время обучения: {best_train_time_rf:.2f} сек, Время предсказания: {best_predict_time_rf:.2f} сек')"
   ]
  },
  {
   "cell_type": "code",
   "execution_count": 72,
   "metadata": {
    "colab": {
     "base_uri": "https://localhost:8080/"
    },
    "id": "gFS_kObmQPQR",
    "outputId": "f07b9917-fb49-43e3-9cd4-65728da095de"
   },
   "outputs": [
    {
     "name": "stderr",
     "output_type": "stream",
     "text": [
      "  0%|          | 0/4 [00:00<?, ?it/s]"
     ]
    },
    {
     "name": "stdout",
     "output_type": "stream",
     "text": [
      "[LightGBM] [Info] Auto-choosing row-wise multi-threading, the overhead of testing was 0.008610 seconds.\n",
      "You can set `force_row_wise=true` to remove the overhead.\n",
      "And if memory is not enough, you can set `force_col_wise=true`.\n",
      "[LightGBM] [Info] Total Bins 373\n",
      "[LightGBM] [Info] Number of data points in the train set: 109299, number of used features: 9\n",
      "[LightGBM] [Info] Start training from score 5046.526062\n",
      "[LightGBM] [Info] Auto-choosing col-wise multi-threading, the overhead of testing was 0.013604 seconds.\n",
      "You can set `force_col_wise=true` to remove the overhead.\n",
      "[LightGBM] [Info] Total Bins 373\n",
      "[LightGBM] [Info] Number of data points in the train set: 109299, number of used features: 9\n",
      "[LightGBM] [Info] Start training from score 5046.526062\n",
      "[LightGBM] [Info] Auto-choosing col-wise multi-threading, the overhead of testing was 0.013088 seconds.\n",
      "You can set `force_col_wise=true` to remove the overhead.\n",
      "[LightGBM] [Info] Total Bins 373\n",
      "[LightGBM] [Info] Number of data points in the train set: 109299, number of used features: 9\n",
      "[LightGBM] [Info] Start training from score 5046.526062\n"
     ]
    },
    {
     "name": "stderr",
     "output_type": "stream",
     "text": [
      " 25%|██▌       | 1/4 [00:03<00:11,  3.73s/it]"
     ]
    },
    {
     "name": "stdout",
     "output_type": "stream",
     "text": [
      "[LightGBM] [Info] Auto-choosing col-wise multi-threading, the overhead of testing was 0.013240 seconds.\n",
      "You can set `force_col_wise=true` to remove the overhead.\n",
      "[LightGBM] [Info] Total Bins 373\n",
      "[LightGBM] [Info] Number of data points in the train set: 109299, number of used features: 9\n",
      "[LightGBM] [Info] Start training from score 5046.526062\n",
      "[LightGBM] [Info] Auto-choosing row-wise multi-threading, the overhead of testing was 0.011986 seconds.\n",
      "You can set `force_row_wise=true` to remove the overhead.\n",
      "And if memory is not enough, you can set `force_col_wise=true`.\n",
      "[LightGBM] [Info] Total Bins 373\n",
      "[LightGBM] [Info] Number of data points in the train set: 109299, number of used features: 9\n",
      "[LightGBM] [Info] Start training from score 5046.526062\n",
      "[LightGBM] [Info] Auto-choosing col-wise multi-threading, the overhead of testing was 0.013302 seconds.\n",
      "You can set `force_col_wise=true` to remove the overhead.\n",
      "[LightGBM] [Info] Total Bins 373\n",
      "[LightGBM] [Info] Number of data points in the train set: 109299, number of used features: 9\n",
      "[LightGBM] [Info] Start training from score 5046.526062\n"
     ]
    },
    {
     "name": "stderr",
     "output_type": "stream",
     "text": [
      " 50%|█████     | 2/4 [00:08<00:08,  4.39s/it]"
     ]
    },
    {
     "name": "stdout",
     "output_type": "stream",
     "text": [
      "[LightGBM] [Info] Auto-choosing col-wise multi-threading, the overhead of testing was 0.013294 seconds.\n",
      "You can set `force_col_wise=true` to remove the overhead.\n",
      "[LightGBM] [Info] Total Bins 373\n",
      "[LightGBM] [Info] Number of data points in the train set: 109299, number of used features: 9\n",
      "[LightGBM] [Info] Start training from score 5046.526062\n",
      "[LightGBM] [Info] Auto-choosing col-wise multi-threading, the overhead of testing was 0.013239 seconds.\n",
      "You can set `force_col_wise=true` to remove the overhead.\n",
      "[LightGBM] [Info] Total Bins 373\n",
      "[LightGBM] [Info] Number of data points in the train set: 109299, number of used features: 9\n",
      "[LightGBM] [Info] Start training from score 5046.526062\n",
      "[LightGBM] [Info] Auto-choosing col-wise multi-threading, the overhead of testing was 0.014591 seconds.\n",
      "You can set `force_col_wise=true` to remove the overhead.\n",
      "[LightGBM] [Info] Total Bins 373\n",
      "[LightGBM] [Info] Number of data points in the train set: 109299, number of used features: 9\n",
      "[LightGBM] [Info] Start training from score 5046.526062\n"
     ]
    },
    {
     "name": "stderr",
     "output_type": "stream",
     "text": [
      " 75%|███████▌  | 3/4 [00:13<00:04,  4.44s/it]"
     ]
    },
    {
     "name": "stdout",
     "output_type": "stream",
     "text": [
      "[LightGBM] [Info] Auto-choosing row-wise multi-threading, the overhead of testing was 0.007765 seconds.\n",
      "You can set `force_row_wise=true` to remove the overhead.\n",
      "And if memory is not enough, you can set `force_col_wise=true`.\n",
      "[LightGBM] [Info] Total Bins 373\n",
      "[LightGBM] [Info] Number of data points in the train set: 109299, number of used features: 9\n",
      "[LightGBM] [Info] Start training from score 5046.526062\n",
      "[LightGBM] [Info] Auto-choosing col-wise multi-threading, the overhead of testing was 0.013644 seconds.\n",
      "You can set `force_col_wise=true` to remove the overhead.\n",
      "[LightGBM] [Info] Total Bins 373\n",
      "[LightGBM] [Info] Number of data points in the train set: 109299, number of used features: 9\n",
      "[LightGBM] [Info] Start training from score 5046.526062\n",
      "[LightGBM] [Info] Auto-choosing col-wise multi-threading, the overhead of testing was 0.013170 seconds.\n",
      "You can set `force_col_wise=true` to remove the overhead.\n",
      "[LightGBM] [Info] Total Bins 373\n",
      "[LightGBM] [Info] Number of data points in the train set: 109299, number of used features: 9\n",
      "[LightGBM] [Info] Start training from score 5046.526062\n"
     ]
    },
    {
     "name": "stderr",
     "output_type": "stream",
     "text": [
      "100%|██████████| 4/4 [00:17<00:00,  4.48s/it]"
     ]
    },
    {
     "name": "stdout",
     "output_type": "stream",
     "text": [
      "Лучший RMSE LightGBM: 1481.4066 с лучшими параметрами: {'num_leaves': 50, 'learning_rate': 0.1}, Время обучения: 1.29 сек, Время предсказания: 0.34 сек\n"
     ]
    },
    {
     "name": "stderr",
     "output_type": "stream",
     "text": [
      "\n"
     ]
    }
   ],
   "source": [
    "best_rmse_lgb = float('inf')\n",
    "best_train_time_lgb = float('inf')\n",
    "best_predict_time_lgb = float('inf')\n",
    "\n",
    "for num_leaves in tqdm(range(20, 51, 10)):\n",
    "    for learning_rate in [0.01, 0.05, 0.1]:\n",
    "        model = lgb.LGBMRegressor(num_leaves=num_leaves, learning_rate=learning_rate, n_estimators=100, random_state=123)\n",
    "        rmse, train_time, predict_time = train_model(model, x_train_ordinal, y_train, x_val_ordinal, y_val)\n",
    "        if rmse < best_rmse_lgb:\n",
    "            best_rmse_lgb = rmse\n",
    "            best_params_lgb = {'num_leaves': num_leaves, 'learning_rate': learning_rate}\n",
    "            best_train_time_lgb, best_predict_time_lgb = train_time, predict_time\n",
    "\n",
    "print(f'Лучший RMSE LightGBM: {best_rmse_lgb:.4f} с лучшими параметрами: {best_params_lgb}, '\n",
    "      f'Время обучения: {best_train_time_lgb:.2f} сек, Время предсказания: {best_predict_time_lgb:.2f} сек')"
   ]
  },
  {
   "cell_type": "markdown",
   "metadata": {
    "id": "_dU7emY1QPQR"
   },
   "source": [
    "## Анализ моделей"
   ]
  },
  {
   "cell_type": "markdown",
   "metadata": {
    "id": "vSDBkluuQPQR"
   },
   "source": [
    "В прошлом пункте были использованы следующие модели: линейная регрессия, рандомный лес и LightGBM."
   ]
  },
  {
   "cell_type": "markdown",
   "metadata": {
    "id": "tvAUFkzuQPQS"
   },
   "source": [
    "Лучший результат RMSE у линейной регрессии: 2311.519\n",
    "\n",
    "Лучший результат RMSE у Рандомного леса: 1681.5808\n",
    "\n",
    "Лучший результат RMSE у LightGBM: 1481.4066"
   ]
  },
  {
   "cell_type": "markdown",
   "metadata": {
    "id": "RmJNertpQPQS"
   },
   "source": [
    "Линейная регрессия работает быстрее всех моделей, но ее качество существенно хуже остальных моделей. Максимально оптимизированы модели Рандомного Леса и LGBM."
   ]
  },
  {
   "cell_type": "markdown",
   "metadata": {
    "id": "UhRNSrOeQPQS"
   },
   "source": [
    "Критерии, которые важны заказчику:\n",
    "    \n",
    "• качество предсказания;\n",
    "\n",
    "• время обучения модели;\n",
    "\n",
    "• время предсказания модели."
   ]
  },
  {
   "cell_type": "markdown",
   "metadata": {
    "id": "LHr4QXW_QPQS"
   },
   "source": [
    "Линейная регрессия RMSE: 2311.5194, Время обучения: 1.48 сек, Время предсказания: 0.00 сек"
   ]
  },
  {
   "cell_type": "markdown",
   "metadata": {
    "id": "yj8KCqnRQPQS"
   },
   "source": [
    "Лучший RMSE случайного леса: 1681.5808 с лучшими параметрами: {'n_estimators': 100, 'max_depth': 9}, Время обучения: 8.94 сек, Время предсказания: 0.25 сек"
   ]
  },
  {
   "cell_type": "markdown",
   "metadata": {
    "id": "PclF4cyaQPQS"
   },
   "source": [
    "Лучший RMSE LightGBM: 1481.4066 с лучшими параметрами: {'num_leaves': 50, 'learning_rate': 0.1}, Время обучения: 50.60 сек, Время предсказания: 0.30 сек"
   ]
  },
  {
   "cell_type": "markdown",
   "metadata": {
    "id": "UVtqaS9aQPQS"
   },
   "source": [
    "Из всех моделей выбираем RMSE LightGBM."
   ]
  },
  {
   "cell_type": "code",
   "execution_count": 73,
   "metadata": {
    "colab": {
     "base_uri": "https://localhost:8080/"
    },
    "id": "7ZJLiD7NQPQS",
    "outputId": "9f58c1f2-9981-4f2f-c71e-9d13db181a8f"
   },
   "outputs": [
    {
     "name": "stdout",
     "output_type": "stream",
     "text": [
      "[LightGBM] [Info] Auto-choosing row-wise multi-threading, the overhead of testing was 0.011923 seconds.\n",
      "You can set `force_row_wise=true` to remove the overhead.\n",
      "And if memory is not enough, you can set `force_col_wise=true`.\n",
      "[LightGBM] [Info] Total Bins 373\n",
      "[LightGBM] [Info] Number of data points in the train set: 109299, number of used features: 9\n",
      "[LightGBM] [Info] Start training from score 5046.526062\n",
      "RMSE LightGBM на тестовой выборке: 1501.6815\n"
     ]
    }
   ],
   "source": [
    "best_lgb_model = lgb.LGBMRegressor(num_leaves=best_params_lgb['num_leaves'],\n",
    "                                   learning_rate=best_params_lgb['learning_rate'],\n",
    "                                   n_estimators=100,\n",
    "                                   random_state=123)\n",
    "best_lgb_model.fit(x_train_ordinal, y_train)\n",
    "y_test_pred_lgb = best_lgb_model.predict(x_test_ordinal)\n",
    "rmse_test_lgb = np.sqrt(mean_squared_error(y_test, y_test_pred_lgb))\n",
    "print(f'RMSE LightGBM на тестовой выборке: {rmse_test_lgb:.4f}')"
   ]
  },
  {
   "cell_type": "markdown",
   "metadata": {
    "id": "nUuwgq8dQPQT"
   },
   "source": [
    "В ходе работы выполнены все основные шаги:"
   ]
  },
  {
   "cell_type": "markdown",
   "metadata": {
    "id": "HfY-Vy5HQPQT"
   },
   "source": [
    "1. Загрузите данные, путь к файлу: /datasets/autos.csv.\n",
    "2. Изучите данные. Заполните пропущенные значения и обработайте аномалии в столбцах. Если среди признаков имеются неинформативные, удалите их.\n",
    "3. Подготовьте выборки для обучения моделей.\n",
    "4. Обучите разные модели, одна из которых — LightGBM, как минимум одна — не бустинг. Для каждой модели попробуйте разные гиперпараметры.\n",
    "5. Проанализируйте время обучения, время предсказания и качество моделей.\n",
    "6. Опираясь на критерии заказчика, выберете лучшую модель, проверьте её качество на тестовой выборке."
   ]
  },
  {
   "cell_type": "markdown",
   "metadata": {
    "id": "Iq-A_75mQPQT"
   },
   "source": [
    "Во время подготовки данных:\n",
    "\n",
    "1. Удалены неинформативные признаки.\n",
    "2. Обработаны пропущенные значения, заменены на наиболее подходящие.\n",
    "3. Удалены дубликаты данных.\n",
    "4. Проведена работа с выбросами и аномальными значениями."
   ]
  },
  {
   "cell_type": "markdown",
   "metadata": {
    "id": "ogBAhdO7QPQT"
   },
   "source": [
    "Была проведена предобработка данных: преобразование категориальных признаков в числовые через LabelEncoder, а также масштабирование числовых признаков через StandardScaler. Были использоованы модели линейной регрессии, случайного леса и LightGBM. Найдены лучшие гиперпараметры для каждой модели, качество моделей было оценено с помощью RMSE."
   ]
  },
  {
   "cell_type": "markdown",
   "metadata": {
    "id": "i1giAHPlQPQT"
   },
   "source": [
    "Все полученные результаты меньше 2500, что соответствует задаче. Также были максимально оптимизированы все модели. В итоге, получена лучшая модель и проделаны все необходимые рассчеты."
   ]
  },
  {
   "cell_type": "markdown",
   "metadata": {
    "id": "rp9MM3HGQPQT"
   },
   "source": [
    "В последнем тесте на тестовой выборке получен результат RMSE LightGBM: 1501.6815"
   ]
  }
 ],
 "metadata": {
  "ExecuteTimeLog": [
   {
    "duration": 893,
    "start_time": "2024-03-08T08:01:52.959Z"
   },
   {
    "duration": 3046,
    "start_time": "2024-03-08T08:01:54.341Z"
   },
   {
    "duration": 18,
    "start_time": "2024-03-08T08:01:57.389Z"
   },
   {
    "duration": 162,
    "start_time": "2024-03-08T08:01:57.409Z"
   },
   {
    "duration": 160,
    "start_time": "2024-03-08T08:27:38.223Z"
   },
   {
    "duration": 511,
    "start_time": "2024-03-08T08:36:00.850Z"
   },
   {
    "duration": 484,
    "start_time": "2024-03-08T08:36:17.296Z"
   },
   {
    "duration": 93,
    "start_time": "2024-03-08T08:36:58.066Z"
   },
   {
    "duration": 504,
    "start_time": "2024-03-08T08:37:07.216Z"
   },
   {
    "duration": 560,
    "start_time": "2024-03-08T08:37:20.873Z"
   },
   {
    "duration": 536,
    "start_time": "2024-03-08T08:37:25.937Z"
   },
   {
    "duration": 24,
    "start_time": "2024-03-08T08:38:50.005Z"
   },
   {
    "duration": 866,
    "start_time": "2024-03-09T09:41:04.757Z"
   },
   {
    "duration": 3055,
    "start_time": "2024-03-09T09:41:05.626Z"
   },
   {
    "duration": 18,
    "start_time": "2024-03-09T09:41:08.683Z"
   },
   {
    "duration": 159,
    "start_time": "2024-03-09T09:41:08.703Z"
   },
   {
    "duration": 156,
    "start_time": "2024-03-09T09:41:08.863Z"
   },
   {
    "duration": 513,
    "start_time": "2024-03-09T09:41:09.021Z"
   },
   {
    "duration": 591,
    "start_time": "2024-03-09T09:41:09.536Z"
   },
   {
    "duration": 507,
    "start_time": "2024-03-09T09:41:10.130Z"
   },
   {
    "duration": 23,
    "start_time": "2024-03-09T09:41:10.640Z"
   },
   {
    "duration": 38,
    "start_time": "2024-03-09T09:50:35.570Z"
   },
   {
    "duration": 23,
    "start_time": "2024-03-09T09:50:37.541Z"
   },
   {
    "duration": 22,
    "start_time": "2024-03-09T09:52:10.961Z"
   },
   {
    "duration": 21,
    "start_time": "2024-03-09T09:52:24.340Z"
   },
   {
    "duration": 24,
    "start_time": "2024-03-09T09:53:30.421Z"
   },
   {
    "duration": 20,
    "start_time": "2024-03-09T09:53:40.364Z"
   },
   {
    "duration": 40,
    "start_time": "2024-03-09T09:54:33.139Z"
   },
   {
    "duration": 54,
    "start_time": "2024-03-09T09:54:47.047Z"
   },
   {
    "duration": 39,
    "start_time": "2024-03-09T09:55:04.552Z"
   },
   {
    "duration": 83,
    "start_time": "2024-03-09T10:06:59.175Z"
   },
   {
    "duration": 25,
    "start_time": "2024-03-09T10:06:59.321Z"
   },
   {
    "duration": 20,
    "start_time": "2024-03-09T10:06:59.478Z"
   },
   {
    "duration": 23,
    "start_time": "2024-03-09T10:06:59.803Z"
   },
   {
    "duration": 19,
    "start_time": "2024-03-09T10:06:59.967Z"
   },
   {
    "duration": 25,
    "start_time": "2024-03-09T10:07:00.295Z"
   },
   {
    "duration": 20,
    "start_time": "2024-03-09T10:07:00.666Z"
   },
   {
    "duration": 3,
    "start_time": "2024-03-09T10:07:14.062Z"
   },
   {
    "duration": 907,
    "start_time": "2024-03-09T10:07:14.434Z"
   },
   {
    "duration": 15,
    "start_time": "2024-03-09T10:07:15.343Z"
   },
   {
    "duration": 216,
    "start_time": "2024-03-09T10:07:15.360Z"
   },
   {
    "duration": 143,
    "start_time": "2024-03-09T10:07:15.695Z"
   },
   {
    "duration": 415,
    "start_time": "2024-03-09T10:07:16.309Z"
   },
   {
    "duration": 467,
    "start_time": "2024-03-09T10:07:16.762Z"
   },
   {
    "duration": 487,
    "start_time": "2024-03-09T10:07:17.231Z"
   },
   {
    "duration": 30,
    "start_time": "2024-03-09T10:07:18.444Z"
   },
   {
    "duration": 23,
    "start_time": "2024-03-09T10:07:19.192Z"
   },
   {
    "duration": 21,
    "start_time": "2024-03-09T10:07:19.615Z"
   },
   {
    "duration": 22,
    "start_time": "2024-03-09T10:07:20.201Z"
   },
   {
    "duration": 20,
    "start_time": "2024-03-09T10:07:20.428Z"
   },
   {
    "duration": 23,
    "start_time": "2024-03-09T10:07:20.965Z"
   },
   {
    "duration": 20,
    "start_time": "2024-03-09T10:07:21.601Z"
   },
   {
    "duration": 40,
    "start_time": "2024-03-09T10:10:27.957Z"
   },
   {
    "duration": 23,
    "start_time": "2024-03-09T10:10:39.170Z"
   },
   {
    "duration": 21,
    "start_time": "2024-03-09T10:10:39.559Z"
   },
   {
    "duration": 21,
    "start_time": "2024-03-09T10:11:12.485Z"
   },
   {
    "duration": 16,
    "start_time": "2024-03-09T10:13:09.039Z"
   },
   {
    "duration": 37,
    "start_time": "2024-03-09T10:13:28.382Z"
   },
   {
    "duration": 11,
    "start_time": "2024-03-09T10:14:41.052Z"
   },
   {
    "duration": 10,
    "start_time": "2024-03-09T10:14:48.058Z"
   },
   {
    "duration": 104,
    "start_time": "2024-03-09T10:14:58.219Z"
   },
   {
    "duration": 24,
    "start_time": "2024-03-09T10:15:35.981Z"
   },
   {
    "duration": 36,
    "start_time": "2024-03-09T10:15:36.265Z"
   },
   {
    "duration": 89,
    "start_time": "2024-03-09T10:15:36.790Z"
   },
   {
    "duration": 141,
    "start_time": "2024-03-09T10:19:00.187Z"
   },
   {
    "duration": 52,
    "start_time": "2024-03-09T14:14:07.504Z"
   },
   {
    "duration": 824,
    "start_time": "2024-03-09T14:14:12.421Z"
   },
   {
    "duration": 2884,
    "start_time": "2024-03-09T14:14:13.247Z"
   },
   {
    "duration": 19,
    "start_time": "2024-03-09T14:14:16.133Z"
   },
   {
    "duration": 180,
    "start_time": "2024-03-09T14:14:16.154Z"
   },
   {
    "duration": 153,
    "start_time": "2024-03-09T14:14:16.336Z"
   },
   {
    "duration": 496,
    "start_time": "2024-03-09T14:14:16.491Z"
   },
   {
    "duration": 576,
    "start_time": "2024-03-09T14:14:16.989Z"
   },
   {
    "duration": 509,
    "start_time": "2024-03-09T14:14:17.567Z"
   },
   {
    "duration": 38,
    "start_time": "2024-03-09T14:14:18.080Z"
   },
   {
    "duration": 23,
    "start_time": "2024-03-09T14:14:18.121Z"
   },
   {
    "duration": 40,
    "start_time": "2024-03-09T14:14:18.145Z"
   },
   {
    "duration": 24,
    "start_time": "2024-03-09T14:14:18.187Z"
   },
   {
    "duration": 22,
    "start_time": "2024-03-09T14:14:18.213Z"
   },
   {
    "duration": 44,
    "start_time": "2024-03-09T14:14:18.237Z"
   },
   {
    "duration": 20,
    "start_time": "2024-03-09T14:14:18.283Z"
   },
   {
    "duration": 24,
    "start_time": "2024-03-09T14:14:18.304Z"
   },
   {
    "duration": 28,
    "start_time": "2024-03-09T14:14:18.330Z"
   },
   {
    "duration": 35,
    "start_time": "2024-03-09T14:14:18.359Z"
   },
   {
    "duration": 48,
    "start_time": "2024-03-09T14:14:18.395Z"
   },
   {
    "duration": 123,
    "start_time": "2024-03-09T14:14:18.445Z"
   },
   {
    "duration": 26,
    "start_time": "2024-03-09T14:14:18.569Z"
   },
   {
    "duration": 93,
    "start_time": "2024-03-09T14:14:34.169Z"
   },
   {
    "duration": 102,
    "start_time": "2024-03-09T14:16:31.099Z"
   },
   {
    "duration": 40,
    "start_time": "2024-03-09T14:18:35.347Z"
   },
   {
    "duration": 585,
    "start_time": "2024-03-09T14:18:47.130Z"
   },
   {
    "duration": 223,
    "start_time": "2024-03-09T14:18:52.335Z"
   },
   {
    "duration": 152,
    "start_time": "2024-03-09T14:19:50.970Z"
   },
   {
    "duration": 1535,
    "start_time": "2024-03-09T14:19:58.052Z"
   },
   {
    "duration": 33,
    "start_time": "2024-03-09T14:20:06.592Z"
   },
   {
    "duration": 167,
    "start_time": "2024-03-09T14:20:36.682Z"
   },
   {
    "duration": 33,
    "start_time": "2024-03-09T14:22:39.030Z"
   },
   {
    "duration": 137,
    "start_time": "2024-03-09T14:22:39.471Z"
   },
   {
    "duration": 1436,
    "start_time": "2024-03-09T14:23:50.270Z"
   },
   {
    "duration": 6,
    "start_time": "2024-03-09T14:24:21.623Z"
   },
   {
    "duration": 5,
    "start_time": "2024-03-09T14:25:01.626Z"
   },
   {
    "duration": 5,
    "start_time": "2024-03-09T14:26:07.863Z"
   },
   {
    "duration": 29,
    "start_time": "2024-03-09T14:27:06.188Z"
   },
   {
    "duration": 119,
    "start_time": "2024-03-09T14:27:18.023Z"
   },
   {
    "duration": 23,
    "start_time": "2024-03-09T14:27:27.878Z"
   },
   {
    "duration": 5,
    "start_time": "2024-03-09T14:27:34.729Z"
   },
   {
    "duration": 1598,
    "start_time": "2024-03-09T14:29:24.853Z"
   },
   {
    "duration": 4,
    "start_time": "2024-03-09T14:30:46.363Z"
   },
   {
    "duration": 1534,
    "start_time": "2024-03-09T14:32:47.296Z"
   },
   {
    "duration": 1580,
    "start_time": "2024-03-09T14:33:15.528Z"
   },
   {
    "duration": 214,
    "start_time": "2024-03-09T14:33:31.206Z"
   },
   {
    "duration": 4,
    "start_time": "2024-03-09T14:33:59.629Z"
   },
   {
    "duration": 114,
    "start_time": "2024-03-09T14:34:00.203Z"
   },
   {
    "duration": 4,
    "start_time": "2024-03-09T14:34:07.463Z"
   },
   {
    "duration": 115,
    "start_time": "2024-03-09T14:34:07.965Z"
   },
   {
    "duration": 5,
    "start_time": "2024-03-09T14:34:56.129Z"
   },
   {
    "duration": 16,
    "start_time": "2024-03-09T14:35:30.460Z"
   },
   {
    "duration": 15,
    "start_time": "2024-03-09T14:35:48.787Z"
   },
   {
    "duration": 17,
    "start_time": "2024-03-09T14:36:20.007Z"
   },
   {
    "duration": 22,
    "start_time": "2024-03-09T14:36:24.960Z"
   },
   {
    "duration": 135,
    "start_time": "2024-03-09T14:36:34.655Z"
   },
   {
    "duration": 122,
    "start_time": "2024-03-09T14:37:12.169Z"
   },
   {
    "duration": 19,
    "start_time": "2024-03-09T14:37:53.565Z"
   },
   {
    "duration": 9,
    "start_time": "2024-03-09T14:37:59.019Z"
   },
   {
    "duration": 4,
    "start_time": "2024-03-09T14:38:12.922Z"
   },
   {
    "duration": 105,
    "start_time": "2024-03-09T14:39:49.386Z"
   },
   {
    "duration": 4,
    "start_time": "2024-03-09T14:42:25.761Z"
   },
   {
    "duration": 111,
    "start_time": "2024-03-09T14:42:32.267Z"
   },
   {
    "duration": 3,
    "start_time": "2024-03-09T14:42:52.494Z"
   },
   {
    "duration": 106,
    "start_time": "2024-03-09T14:42:53.593Z"
   },
   {
    "duration": 4,
    "start_time": "2024-03-09T14:42:58.576Z"
   },
   {
    "duration": 110,
    "start_time": "2024-03-09T14:42:59.444Z"
   },
   {
    "duration": 3,
    "start_time": "2024-03-09T14:43:14.624Z"
   },
   {
    "duration": 884,
    "start_time": "2024-03-09T14:43:14.859Z"
   },
   {
    "duration": 15,
    "start_time": "2024-03-09T14:43:15.744Z"
   },
   {
    "duration": 158,
    "start_time": "2024-03-09T14:43:15.760Z"
   },
   {
    "duration": 138,
    "start_time": "2024-03-09T14:43:15.919Z"
   },
   {
    "duration": 407,
    "start_time": "2024-03-09T14:43:16.059Z"
   },
   {
    "duration": 419,
    "start_time": "2024-03-09T14:43:16.467Z"
   },
   {
    "duration": 463,
    "start_time": "2024-03-09T14:43:16.888Z"
   },
   {
    "duration": 37,
    "start_time": "2024-03-09T14:43:17.353Z"
   },
   {
    "duration": 28,
    "start_time": "2024-03-09T14:43:17.392Z"
   },
   {
    "duration": 20,
    "start_time": "2024-03-09T14:43:17.422Z"
   },
   {
    "duration": 46,
    "start_time": "2024-03-09T14:43:17.444Z"
   },
   {
    "duration": 26,
    "start_time": "2024-03-09T14:43:17.491Z"
   },
   {
    "duration": 21,
    "start_time": "2024-03-09T14:43:17.857Z"
   },
   {
    "duration": 20,
    "start_time": "2024-03-09T14:43:18.054Z"
   },
   {
    "duration": 22,
    "start_time": "2024-03-09T14:43:18.428Z"
   },
   {
    "duration": 21,
    "start_time": "2024-03-09T14:43:18.635Z"
   },
   {
    "duration": 22,
    "start_time": "2024-03-09T14:43:18.999Z"
   },
   {
    "duration": 34,
    "start_time": "2024-03-09T14:43:19.173Z"
   },
   {
    "duration": 91,
    "start_time": "2024-03-09T14:43:19.344Z"
   },
   {
    "duration": 22,
    "start_time": "2024-03-09T14:43:19.734Z"
   },
   {
    "duration": 92,
    "start_time": "2024-03-09T14:43:19.939Z"
   },
   {
    "duration": 97,
    "start_time": "2024-03-09T14:43:20.102Z"
   },
   {
    "duration": 158,
    "start_time": "2024-03-09T14:43:20.640Z"
   },
   {
    "duration": 23,
    "start_time": "2024-03-09T14:43:20.812Z"
   },
   {
    "duration": 5,
    "start_time": "2024-03-09T14:43:21.361Z"
   },
   {
    "duration": 4,
    "start_time": "2024-03-09T14:43:21.552Z"
   },
   {
    "duration": 21,
    "start_time": "2024-03-09T14:43:21.731Z"
   },
   {
    "duration": 125,
    "start_time": "2024-03-09T14:43:22.094Z"
   },
   {
    "duration": 14,
    "start_time": "2024-03-09T14:43:22.280Z"
   },
   {
    "duration": 26,
    "start_time": "2024-03-09T14:43:22.480Z"
   },
   {
    "duration": 201,
    "start_time": "2024-03-09T14:43:22.874Z"
   },
   {
    "duration": 17,
    "start_time": "2024-03-09T14:43:23.109Z"
   },
   {
    "duration": 19,
    "start_time": "2024-03-09T14:43:23.807Z"
   },
   {
    "duration": 130,
    "start_time": "2024-03-09T14:43:24.783Z"
   },
   {
    "duration": 19,
    "start_time": "2024-03-09T14:43:25.788Z"
   },
   {
    "duration": 120,
    "start_time": "2024-03-09T14:43:26.461Z"
   },
   {
    "duration": 3,
    "start_time": "2024-03-09T14:44:38.148Z"
   },
   {
    "duration": 795,
    "start_time": "2024-03-09T14:44:38.569Z"
   },
   {
    "duration": 15,
    "start_time": "2024-03-09T14:44:39.366Z"
   },
   {
    "duration": 150,
    "start_time": "2024-03-09T14:44:39.383Z"
   },
   {
    "duration": 145,
    "start_time": "2024-03-09T14:44:39.535Z"
   },
   {
    "duration": 423,
    "start_time": "2024-03-09T14:44:39.681Z"
   },
   {
    "duration": 434,
    "start_time": "2024-03-09T14:44:40.107Z"
   },
   {
    "duration": 437,
    "start_time": "2024-03-09T14:44:40.543Z"
   },
   {
    "duration": 24,
    "start_time": "2024-03-09T14:44:40.982Z"
   },
   {
    "duration": 23,
    "start_time": "2024-03-09T14:44:41.008Z"
   },
   {
    "duration": 27,
    "start_time": "2024-03-09T14:44:41.032Z"
   },
   {
    "duration": 36,
    "start_time": "2024-03-09T14:44:41.061Z"
   },
   {
    "duration": 19,
    "start_time": "2024-03-09T14:44:41.224Z"
   },
   {
    "duration": 24,
    "start_time": "2024-03-09T14:44:41.599Z"
   },
   {
    "duration": 19,
    "start_time": "2024-03-09T14:44:41.798Z"
   },
   {
    "duration": 22,
    "start_time": "2024-03-09T14:44:42.190Z"
   },
   {
    "duration": 27,
    "start_time": "2024-03-09T14:44:42.364Z"
   },
   {
    "duration": 22,
    "start_time": "2024-03-09T14:44:42.784Z"
   },
   {
    "duration": 33,
    "start_time": "2024-03-09T14:44:42.983Z"
   },
   {
    "duration": 88,
    "start_time": "2024-03-09T14:44:43.208Z"
   },
   {
    "duration": 21,
    "start_time": "2024-03-09T14:44:43.561Z"
   },
   {
    "duration": 95,
    "start_time": "2024-03-09T14:44:43.743Z"
   },
   {
    "duration": 100,
    "start_time": "2024-03-09T14:44:43.934Z"
   },
   {
    "duration": 187,
    "start_time": "2024-03-09T14:44:44.513Z"
   },
   {
    "duration": 21,
    "start_time": "2024-03-09T14:44:44.712Z"
   },
   {
    "duration": 5,
    "start_time": "2024-03-09T14:44:45.097Z"
   },
   {
    "duration": 4,
    "start_time": "2024-03-09T14:44:45.293Z"
   },
   {
    "duration": 21,
    "start_time": "2024-03-09T14:44:45.508Z"
   },
   {
    "duration": 117,
    "start_time": "2024-03-09T14:44:45.905Z"
   },
   {
    "duration": 14,
    "start_time": "2024-03-09T14:44:46.114Z"
   },
   {
    "duration": 20,
    "start_time": "2024-03-09T14:44:46.315Z"
   },
   {
    "duration": 123,
    "start_time": "2024-03-09T14:44:46.507Z"
   },
   {
    "duration": 18,
    "start_time": "2024-03-09T14:44:46.720Z"
   },
   {
    "duration": 20,
    "start_time": "2024-03-09T14:44:46.905Z"
   },
   {
    "duration": 97,
    "start_time": "2024-03-09T14:45:29.019Z"
   },
   {
    "duration": 1504,
    "start_time": "2024-03-09T14:46:13.395Z"
   },
   {
    "duration": 137,
    "start_time": "2024-03-09T14:46:43.900Z"
   },
   {
    "duration": 22,
    "start_time": "2024-03-09T14:48:02.256Z"
   },
   {
    "duration": 133,
    "start_time": "2024-03-09T14:48:08.671Z"
   },
   {
    "duration": 118,
    "start_time": "2024-03-09T14:48:43.927Z"
   },
   {
    "duration": 23,
    "start_time": "2024-03-09T14:48:57.906Z"
   },
   {
    "duration": 267,
    "start_time": "2024-03-09T14:51:01.177Z"
   },
   {
    "duration": 131,
    "start_time": "2024-03-09T14:52:51.001Z"
   },
   {
    "duration": 4,
    "start_time": "2024-03-09T14:54:20.714Z"
   },
   {
    "duration": 5,
    "start_time": "2024-03-09T14:54:32.634Z"
   },
   {
    "duration": 1513,
    "start_time": "2024-03-09T14:54:57.414Z"
   },
   {
    "duration": 17,
    "start_time": "2024-03-09T14:55:05.597Z"
   },
   {
    "duration": 80,
    "start_time": "2024-03-09T14:56:04.542Z"
   },
   {
    "duration": 1790,
    "start_time": "2024-03-14T07:28:46.262Z"
   },
   {
    "duration": 1168,
    "start_time": "2024-03-14T07:28:48.054Z"
   },
   {
    "duration": 18,
    "start_time": "2024-03-14T07:28:49.224Z"
   },
   {
    "duration": 172,
    "start_time": "2024-03-14T07:28:49.245Z"
   },
   {
    "duration": 162,
    "start_time": "2024-03-14T07:28:49.423Z"
   },
   {
    "duration": 502,
    "start_time": "2024-03-14T07:28:49.587Z"
   },
   {
    "duration": 567,
    "start_time": "2024-03-14T07:28:50.091Z"
   },
   {
    "duration": 487,
    "start_time": "2024-03-14T07:28:50.661Z"
   },
   {
    "duration": 37,
    "start_time": "2024-03-14T07:28:51.150Z"
   },
   {
    "duration": 34,
    "start_time": "2024-03-14T07:28:51.190Z"
   },
   {
    "duration": 71,
    "start_time": "2024-03-14T07:28:51.226Z"
   },
   {
    "duration": 63,
    "start_time": "2024-03-14T07:28:51.298Z"
   },
   {
    "duration": 42,
    "start_time": "2024-03-14T07:28:51.362Z"
   },
   {
    "duration": 59,
    "start_time": "2024-03-14T07:28:51.406Z"
   },
   {
    "duration": 56,
    "start_time": "2024-03-14T07:28:51.467Z"
   },
   {
    "duration": 36,
    "start_time": "2024-03-14T07:28:51.524Z"
   },
   {
    "duration": 44,
    "start_time": "2024-03-14T07:28:51.562Z"
   },
   {
    "duration": 37,
    "start_time": "2024-03-14T07:28:51.642Z"
   },
   {
    "duration": 36,
    "start_time": "2024-03-14T07:28:51.830Z"
   },
   {
    "duration": 123,
    "start_time": "2024-03-14T07:28:52.019Z"
   },
   {
    "duration": 23,
    "start_time": "2024-03-14T07:28:52.434Z"
   },
   {
    "duration": 94,
    "start_time": "2024-03-14T07:28:52.649Z"
   },
   {
    "duration": 102,
    "start_time": "2024-03-14T07:28:52.831Z"
   },
   {
    "duration": 3,
    "start_time": "2024-03-14T07:29:01.152Z"
   },
   {
    "duration": 950,
    "start_time": "2024-03-14T07:29:01.546Z"
   },
   {
    "duration": 16,
    "start_time": "2024-03-14T07:29:02.498Z"
   },
   {
    "duration": 169,
    "start_time": "2024-03-14T07:29:02.515Z"
   },
   {
    "duration": 152,
    "start_time": "2024-03-14T07:29:02.686Z"
   },
   {
    "duration": 477,
    "start_time": "2024-03-14T07:29:02.840Z"
   },
   {
    "duration": 458,
    "start_time": "2024-03-14T07:29:03.319Z"
   },
   {
    "duration": 449,
    "start_time": "2024-03-14T07:29:03.780Z"
   },
   {
    "duration": 35,
    "start_time": "2024-03-14T07:29:04.231Z"
   },
   {
    "duration": 23,
    "start_time": "2024-03-14T07:29:04.268Z"
   },
   {
    "duration": 40,
    "start_time": "2024-03-14T07:29:04.292Z"
   },
   {
    "duration": 26,
    "start_time": "2024-03-14T07:29:04.334Z"
   },
   {
    "duration": 54,
    "start_time": "2024-03-14T07:29:04.362Z"
   },
   {
    "duration": 24,
    "start_time": "2024-03-14T07:29:04.594Z"
   },
   {
    "duration": 21,
    "start_time": "2024-03-14T07:29:04.779Z"
   },
   {
    "duration": 24,
    "start_time": "2024-03-14T07:29:05.154Z"
   },
   {
    "duration": 19,
    "start_time": "2024-03-14T07:29:05.331Z"
   },
   {
    "duration": 24,
    "start_time": "2024-03-14T07:29:05.680Z"
   },
   {
    "duration": 36,
    "start_time": "2024-03-14T07:29:05.861Z"
   },
   {
    "duration": 10,
    "start_time": "2024-03-14T07:29:06.031Z"
   },
   {
    "duration": 21,
    "start_time": "2024-03-14T07:29:06.392Z"
   },
   {
    "duration": 5,
    "start_time": "2024-03-14T07:29:28.211Z"
   },
   {
    "duration": 819,
    "start_time": "2024-03-14T07:29:28.641Z"
   },
   {
    "duration": 15,
    "start_time": "2024-03-14T07:29:29.652Z"
   },
   {
    "duration": 145,
    "start_time": "2024-03-14T07:29:29.824Z"
   },
   {
    "duration": 143,
    "start_time": "2024-03-14T07:29:30.148Z"
   },
   {
    "duration": 442,
    "start_time": "2024-03-14T07:29:30.326Z"
   },
   {
    "duration": 481,
    "start_time": "2024-03-14T07:29:30.770Z"
   },
   {
    "duration": 481,
    "start_time": "2024-03-14T07:29:31.253Z"
   },
   {
    "duration": 24,
    "start_time": "2024-03-14T07:29:31.736Z"
   },
   {
    "duration": 29,
    "start_time": "2024-03-14T07:29:31.762Z"
   },
   {
    "duration": 36,
    "start_time": "2024-03-14T07:29:31.793Z"
   },
   {
    "duration": 22,
    "start_time": "2024-03-14T07:29:31.923Z"
   },
   {
    "duration": 20,
    "start_time": "2024-03-14T07:29:32.099Z"
   },
   {
    "duration": 27,
    "start_time": "2024-03-14T07:29:32.467Z"
   },
   {
    "duration": 18,
    "start_time": "2024-03-14T07:29:32.639Z"
   },
   {
    "duration": 24,
    "start_time": "2024-03-14T07:29:33.014Z"
   },
   {
    "duration": 22,
    "start_time": "2024-03-14T07:29:33.199Z"
   },
   {
    "duration": 22,
    "start_time": "2024-03-14T07:29:33.551Z"
   },
   {
    "duration": 35,
    "start_time": "2024-03-14T07:29:33.727Z"
   },
   {
    "duration": 104,
    "start_time": "2024-03-14T07:29:33.904Z"
   },
   {
    "duration": 21,
    "start_time": "2024-03-14T07:29:34.257Z"
   },
   {
    "duration": 94,
    "start_time": "2024-03-14T07:29:34.591Z"
   },
   {
    "duration": 109,
    "start_time": "2024-03-14T07:29:34.799Z"
   },
   {
    "duration": 187,
    "start_time": "2024-03-14T07:29:35.425Z"
   },
   {
    "duration": 24,
    "start_time": "2024-03-14T07:29:35.639Z"
   },
   {
    "duration": 6,
    "start_time": "2024-03-14T07:29:36.026Z"
   },
   {
    "duration": 4,
    "start_time": "2024-03-14T07:29:36.235Z"
   },
   {
    "duration": 21,
    "start_time": "2024-03-14T07:29:36.414Z"
   },
   {
    "duration": 125,
    "start_time": "2024-03-14T07:29:36.771Z"
   },
   {
    "duration": 16,
    "start_time": "2024-03-14T07:29:36.962Z"
   },
   {
    "duration": 21,
    "start_time": "2024-03-14T07:29:37.158Z"
   },
   {
    "duration": 122,
    "start_time": "2024-03-14T07:29:37.359Z"
   },
   {
    "duration": 21,
    "start_time": "2024-03-14T07:29:37.569Z"
   },
   {
    "duration": 21,
    "start_time": "2024-03-14T07:29:37.782Z"
   },
   {
    "duration": 211,
    "start_time": "2024-03-14T07:29:38.223Z"
   },
   {
    "duration": 21,
    "start_time": "2024-03-14T07:29:38.451Z"
   },
   {
    "duration": 178,
    "start_time": "2024-03-14T07:29:38.969Z"
   },
   {
    "duration": 143,
    "start_time": "2024-03-14T07:29:39.205Z"
   },
   {
    "duration": 5,
    "start_time": "2024-03-14T07:29:39.395Z"
   },
   {
    "duration": 23,
    "start_time": "2024-03-14T07:29:39.612Z"
   },
   {
    "duration": 88,
    "start_time": "2024-03-14T07:29:39.807Z"
   },
   {
    "duration": 343,
    "start_time": "2024-03-14T07:30:39.676Z"
   },
   {
    "duration": 11,
    "start_time": "2024-03-14T07:31:21.015Z"
   },
   {
    "duration": 25,
    "start_time": "2024-03-14T07:31:49.567Z"
   },
   {
    "duration": 72,
    "start_time": "2024-03-14T07:31:52.106Z"
   },
   {
    "duration": 15,
    "start_time": "2024-03-14T07:31:52.784Z"
   },
   {
    "duration": 46,
    "start_time": "2024-03-14T07:31:59.474Z"
   },
   {
    "duration": 11,
    "start_time": "2024-03-14T07:32:01.593Z"
   },
   {
    "duration": 49,
    "start_time": "2024-03-14T07:32:07.130Z"
   },
   {
    "duration": 11,
    "start_time": "2024-03-14T07:32:07.484Z"
   },
   {
    "duration": 10,
    "start_time": "2024-03-14T07:32:13.005Z"
   },
   {
    "duration": 74,
    "start_time": "2024-03-14T07:32:17.601Z"
   },
   {
    "duration": 49,
    "start_time": "2024-03-14T07:32:18.018Z"
   },
   {
    "duration": 10,
    "start_time": "2024-03-14T07:32:18.217Z"
   },
   {
    "duration": 207,
    "start_time": "2024-03-14T07:33:02.085Z"
   },
   {
    "duration": 10,
    "start_time": "2024-03-14T07:36:39.135Z"
   },
   {
    "duration": 68,
    "start_time": "2024-03-14T07:36:43.611Z"
   },
   {
    "duration": 41,
    "start_time": "2024-03-14T07:36:43.982Z"
   },
   {
    "duration": 188,
    "start_time": "2024-03-14T07:36:44.207Z"
   },
   {
    "duration": 10,
    "start_time": "2024-03-14T07:36:44.661Z"
   },
   {
    "duration": 75,
    "start_time": "2024-03-14T07:37:09.571Z"
   },
   {
    "duration": 177,
    "start_time": "2024-03-14T07:37:10.301Z"
   },
   {
    "duration": 45,
    "start_time": "2024-03-14T07:37:10.939Z"
   },
   {
    "duration": 10,
    "start_time": "2024-03-14T07:37:11.406Z"
   },
   {
    "duration": 10,
    "start_time": "2024-03-14T07:38:02.741Z"
   },
   {
    "duration": 269,
    "start_time": "2024-03-14T07:38:49.655Z"
   },
   {
    "duration": 11,
    "start_time": "2024-03-14T07:39:27.069Z"
   },
   {
    "duration": 10,
    "start_time": "2024-03-14T07:39:33.156Z"
   },
   {
    "duration": 205,
    "start_time": "2024-03-14T07:39:39.518Z"
   },
   {
    "duration": 17823,
    "start_time": "2024-03-14T07:41:01.213Z"
   },
   {
    "duration": 26148,
    "start_time": "2024-03-14T07:41:42.616Z"
   },
   {
    "duration": 43003,
    "start_time": "2024-03-14T07:42:12.294Z"
   },
   {
    "duration": 3,
    "start_time": "2024-03-14T07:42:58.730Z"
   },
   {
    "duration": 13970,
    "start_time": "2024-03-14T07:42:59.608Z"
   },
   {
    "duration": 9,
    "start_time": "2024-03-14T07:44:53.391Z"
   },
   {
    "duration": 12173,
    "start_time": "2024-03-14T07:47:10.233Z"
   },
   {
    "duration": 2,
    "start_time": "2024-03-14T07:47:34.331Z"
   },
   {
    "duration": 703305,
    "start_time": "2024-03-14T07:47:34.785Z"
   },
   {
    "duration": 1043,
    "start_time": "2024-03-14T08:01:53.931Z"
   },
   {
    "duration": 1101,
    "start_time": "2024-03-14T08:06:14.577Z"
   },
   {
    "duration": 17455,
    "start_time": "2024-03-14T08:10:51.148Z"
   },
   {
    "duration": 2,
    "start_time": "2024-03-14T08:12:30.200Z"
   },
   {
    "duration": 17766,
    "start_time": "2024-03-14T08:12:30.722Z"
   },
   {
    "duration": 14,
    "start_time": "2024-03-14T08:15:04.292Z"
   },
   {
    "duration": 7393,
    "start_time": "2024-03-14T08:15:11.851Z"
   },
   {
    "duration": 10,
    "start_time": "2024-03-14T08:16:59.104Z"
   },
   {
    "duration": 7607,
    "start_time": "2024-03-14T08:17:08.529Z"
   },
   {
    "duration": 16,
    "start_time": "2024-03-14T08:24:14.837Z"
   },
   {
    "duration": 74693,
    "start_time": "2024-03-14T08:24:22.706Z"
   },
   {
    "duration": 1141,
    "start_time": "2024-03-14T08:27:27.033Z"
   },
   {
    "duration": 1199,
    "start_time": "2024-03-14T08:27:34.131Z"
   },
   {
    "duration": 108328,
    "start_time": "2024-03-14T08:27:37.830Z"
   },
   {
    "duration": 3,
    "start_time": "2024-03-14T08:29:51.712Z"
   },
   {
    "duration": 991,
    "start_time": "2024-03-14T08:29:52.045Z"
   },
   {
    "duration": 23,
    "start_time": "2024-03-14T08:29:53.640Z"
   },
   {
    "duration": 193,
    "start_time": "2024-03-14T08:29:54.069Z"
   },
   {
    "duration": 195,
    "start_time": "2024-03-14T08:29:54.669Z"
   },
   {
    "duration": 564,
    "start_time": "2024-03-14T08:29:54.941Z"
   },
   {
    "duration": 544,
    "start_time": "2024-03-14T08:29:55.507Z"
   },
   {
    "duration": 51,
    "start_time": "2024-03-14T08:30:00.642Z"
   },
   {
    "duration": 0,
    "start_time": "2024-03-14T08:30:00.695Z"
   },
   {
    "duration": 0,
    "start_time": "2024-03-14T08:30:00.696Z"
   },
   {
    "duration": 0,
    "start_time": "2024-03-14T08:30:00.697Z"
   },
   {
    "duration": 1,
    "start_time": "2024-03-14T08:30:00.698Z"
   },
   {
    "duration": 0,
    "start_time": "2024-03-14T08:30:00.699Z"
   },
   {
    "duration": 0,
    "start_time": "2024-03-14T08:30:00.701Z"
   },
   {
    "duration": 0,
    "start_time": "2024-03-14T08:30:00.702Z"
   },
   {
    "duration": 0,
    "start_time": "2024-03-14T08:30:00.703Z"
   },
   {
    "duration": 0,
    "start_time": "2024-03-14T08:30:00.703Z"
   },
   {
    "duration": 1684,
    "start_time": "2024-03-14T08:30:14.803Z"
   },
   {
    "duration": 1300,
    "start_time": "2024-03-14T08:30:17.020Z"
   },
   {
    "duration": 22,
    "start_time": "2024-03-14T08:30:18.855Z"
   },
   {
    "duration": 159,
    "start_time": "2024-03-14T08:30:19.301Z"
   },
   {
    "duration": 163,
    "start_time": "2024-03-14T08:30:19.815Z"
   },
   {
    "duration": 555,
    "start_time": "2024-03-14T08:30:20.018Z"
   },
   {
    "duration": 600,
    "start_time": "2024-03-14T08:30:20.576Z"
   },
   {
    "duration": 539,
    "start_time": "2024-03-14T08:30:21.177Z"
   },
   {
    "duration": 42,
    "start_time": "2024-03-14T08:30:21.719Z"
   },
   {
    "duration": 23,
    "start_time": "2024-03-14T08:30:21.763Z"
   },
   {
    "duration": 40,
    "start_time": "2024-03-14T08:30:21.788Z"
   },
   {
    "duration": 22,
    "start_time": "2024-03-14T08:30:22.444Z"
   },
   {
    "duration": 35,
    "start_time": "2024-03-14T08:30:22.974Z"
   },
   {
    "duration": 25,
    "start_time": "2024-03-14T08:30:23.407Z"
   },
   {
    "duration": 19,
    "start_time": "2024-03-14T08:30:23.629Z"
   },
   {
    "duration": 22,
    "start_time": "2024-03-14T08:30:24.076Z"
   },
   {
    "duration": 21,
    "start_time": "2024-03-14T08:30:24.261Z"
   },
   {
    "duration": 24,
    "start_time": "2024-03-14T08:30:24.658Z"
   },
   {
    "duration": 51,
    "start_time": "2024-03-14T08:30:24.864Z"
   },
   {
    "duration": 111,
    "start_time": "2024-03-14T08:30:25.053Z"
   },
   {
    "duration": 24,
    "start_time": "2024-03-14T08:30:25.494Z"
   },
   {
    "duration": 109,
    "start_time": "2024-03-14T08:30:25.699Z"
   },
   {
    "duration": 125,
    "start_time": "2024-03-14T08:30:25.891Z"
   },
   {
    "duration": 192,
    "start_time": "2024-03-14T08:30:26.470Z"
   },
   {
    "duration": 36,
    "start_time": "2024-03-14T08:30:26.663Z"
   },
   {
    "duration": 6,
    "start_time": "2024-03-14T08:30:27.053Z"
   },
   {
    "duration": 5,
    "start_time": "2024-03-14T08:30:27.248Z"
   },
   {
    "duration": 32,
    "start_time": "2024-03-14T08:30:27.428Z"
   },
   {
    "duration": 123,
    "start_time": "2024-03-14T08:30:27.843Z"
   },
   {
    "duration": 16,
    "start_time": "2024-03-14T08:30:28.046Z"
   },
   {
    "duration": 21,
    "start_time": "2024-03-14T08:30:28.237Z"
   },
   {
    "duration": 134,
    "start_time": "2024-03-14T08:30:28.429Z"
   },
   {
    "duration": 26,
    "start_time": "2024-03-14T08:30:28.622Z"
   },
   {
    "duration": 25,
    "start_time": "2024-03-14T08:30:28.827Z"
   },
   {
    "duration": 229,
    "start_time": "2024-03-14T08:30:29.230Z"
   },
   {
    "duration": 28,
    "start_time": "2024-03-14T08:30:29.468Z"
   },
   {
    "duration": 202,
    "start_time": "2024-03-14T08:30:30.134Z"
   },
   {
    "duration": 146,
    "start_time": "2024-03-14T08:30:30.355Z"
   },
   {
    "duration": 5,
    "start_time": "2024-03-14T08:30:30.568Z"
   },
   {
    "duration": 21,
    "start_time": "2024-03-14T08:30:30.761Z"
   },
   {
    "duration": 94,
    "start_time": "2024-03-14T08:30:30.967Z"
   },
   {
    "duration": 350,
    "start_time": "2024-03-14T08:30:31.754Z"
   },
   {
    "duration": 90,
    "start_time": "2024-03-14T08:30:33.228Z"
   },
   {
    "duration": 64,
    "start_time": "2024-03-14T08:30:41.588Z"
   },
   {
    "duration": 236,
    "start_time": "2024-03-14T08:30:42.143Z"
   },
   {
    "duration": 100,
    "start_time": "2024-03-14T08:32:41.531Z"
   },
   {
    "duration": 3,
    "start_time": "2024-03-14T08:33:02.841Z"
   },
   {
    "duration": 70,
    "start_time": "2024-03-14T08:33:08.094Z"
   },
   {
    "duration": 43,
    "start_time": "2024-03-14T08:33:08.703Z"
   },
   {
    "duration": 193,
    "start_time": "2024-03-14T08:33:10.224Z"
   },
   {
    "duration": 105,
    "start_time": "2024-03-14T08:33:11.328Z"
   },
   {
    "duration": 842008,
    "start_time": "2024-03-14T08:34:26.459Z"
   },
   {
    "duration": 276595,
    "start_time": "2024-03-14T08:50:54.769Z"
   },
   {
    "duration": 0,
    "start_time": "2024-03-14T08:55:31.367Z"
   },
   {
    "duration": 813245,
    "start_time": "2024-03-14T08:55:33.872Z"
   },
   {
    "duration": 2033105,
    "start_time": "2024-03-14T09:09:07.124Z"
   },
   {
    "duration": 84,
    "start_time": "2024-03-14T09:58:46.691Z"
   },
   {
    "duration": 108209,
    "start_time": "2024-03-14T10:01:29.223Z"
   },
   {
    "duration": 71260,
    "start_time": "2024-03-14T10:06:44.094Z"
   },
   {
    "duration": 5,
    "start_time": "2024-03-14T11:03:30.473Z"
   },
   {
    "duration": 911,
    "start_time": "2024-03-14T11:03:31.106Z"
   },
   {
    "duration": 16,
    "start_time": "2024-03-14T11:03:32.773Z"
   },
   {
    "duration": 217,
    "start_time": "2024-03-14T11:03:33.416Z"
   },
   {
    "duration": 150,
    "start_time": "2024-03-14T11:03:33.880Z"
   },
   {
    "duration": 444,
    "start_time": "2024-03-14T11:03:34.052Z"
   },
   {
    "duration": 488,
    "start_time": "2024-03-14T11:03:34.498Z"
   },
   {
    "duration": 515,
    "start_time": "2024-03-14T11:03:34.988Z"
   },
   {
    "duration": 34,
    "start_time": "2024-03-14T11:03:35.505Z"
   },
   {
    "duration": 25,
    "start_time": "2024-03-14T11:03:35.541Z"
   },
   {
    "duration": 48,
    "start_time": "2024-03-14T11:03:35.568Z"
   },
   {
    "duration": 29,
    "start_time": "2024-03-14T11:03:35.636Z"
   },
   {
    "duration": 21,
    "start_time": "2024-03-14T11:03:35.816Z"
   },
   {
    "duration": 26,
    "start_time": "2024-03-14T11:03:36.157Z"
   },
   {
    "duration": 21,
    "start_time": "2024-03-14T11:03:36.334Z"
   },
   {
    "duration": 23,
    "start_time": "2024-03-14T11:03:36.694Z"
   },
   {
    "duration": 20,
    "start_time": "2024-03-14T11:03:36.886Z"
   },
   {
    "duration": 22,
    "start_time": "2024-03-14T11:03:37.256Z"
   },
   {
    "duration": 33,
    "start_time": "2024-03-14T11:03:37.445Z"
   },
   {
    "duration": 115,
    "start_time": "2024-03-14T11:03:37.620Z"
   },
   {
    "duration": 21,
    "start_time": "2024-03-14T11:03:37.976Z"
   },
   {
    "duration": 93,
    "start_time": "2024-03-14T11:03:38.156Z"
   },
   {
    "duration": 99,
    "start_time": "2024-03-14T11:03:38.377Z"
   },
   {
    "duration": 171,
    "start_time": "2024-03-14T11:03:38.970Z"
   },
   {
    "duration": 30,
    "start_time": "2024-03-14T11:03:39.152Z"
   },
   {
    "duration": 6,
    "start_time": "2024-03-14T11:03:39.521Z"
   },
   {
    "duration": 5,
    "start_time": "2024-03-14T11:03:39.728Z"
   },
   {
    "duration": 20,
    "start_time": "2024-03-14T11:03:39.906Z"
   },
   {
    "duration": 117,
    "start_time": "2024-03-14T11:03:40.261Z"
   },
   {
    "duration": 15,
    "start_time": "2024-03-14T11:03:40.444Z"
   },
   {
    "duration": 21,
    "start_time": "2024-03-14T11:03:40.633Z"
   },
   {
    "duration": 118,
    "start_time": "2024-03-14T11:03:40.813Z"
   },
   {
    "duration": 24,
    "start_time": "2024-03-14T11:03:41.000Z"
   },
   {
    "duration": 26,
    "start_time": "2024-03-14T11:03:41.187Z"
   },
   {
    "duration": 134,
    "start_time": "2024-03-14T11:03:41.539Z"
   },
   {
    "duration": 20,
    "start_time": "2024-03-14T11:03:41.742Z"
   },
   {
    "duration": 198,
    "start_time": "2024-03-14T11:03:42.133Z"
   },
   {
    "duration": 138,
    "start_time": "2024-03-14T11:03:42.351Z"
   },
   {
    "duration": 4,
    "start_time": "2024-03-14T11:03:42.590Z"
   },
   {
    "duration": 19,
    "start_time": "2024-03-14T11:03:42.815Z"
   },
   {
    "duration": 84,
    "start_time": "2024-03-14T11:03:43.009Z"
   },
   {
    "duration": 347,
    "start_time": "2024-03-14T11:03:43.812Z"
   },
   {
    "duration": 63,
    "start_time": "2024-03-14T11:03:44.240Z"
   },
   {
    "duration": 211,
    "start_time": "2024-03-14T11:03:44.704Z"
   },
   {
    "duration": 240,
    "start_time": "2024-03-14T11:03:45.384Z"
   },
   {
    "duration": 816635,
    "start_time": "2024-03-14T11:03:45.658Z"
   },
   {
    "duration": 5057854,
    "start_time": "2024-03-14T11:17:22.295Z"
   },
   {
    "duration": 8517,
    "start_time": "2024-03-14T12:41:40.222Z"
   },
   {
    "duration": 1896,
    "start_time": "2024-03-16T08:03:04.308Z"
   },
   {
    "duration": 1321,
    "start_time": "2024-03-16T08:03:06.206Z"
   },
   {
    "duration": 27,
    "start_time": "2024-03-16T08:03:07.530Z"
   },
   {
    "duration": 222,
    "start_time": "2024-03-16T08:03:07.559Z"
   },
   {
    "duration": 195,
    "start_time": "2024-03-16T08:03:07.784Z"
   },
   {
    "duration": 553,
    "start_time": "2024-03-16T08:03:07.981Z"
   },
   {
    "duration": 611,
    "start_time": "2024-03-16T08:03:08.537Z"
   },
   {
    "duration": 521,
    "start_time": "2024-03-16T08:03:09.150Z"
   },
   {
    "duration": 49,
    "start_time": "2024-03-16T08:03:09.673Z"
   },
   {
    "duration": 30,
    "start_time": "2024-03-16T08:03:09.726Z"
   },
   {
    "duration": 21,
    "start_time": "2024-03-16T08:03:09.758Z"
   },
   {
    "duration": 50,
    "start_time": "2024-03-16T08:03:09.781Z"
   },
   {
    "duration": 25,
    "start_time": "2024-03-16T08:03:09.833Z"
   },
   {
    "duration": 24,
    "start_time": "2024-03-16T08:03:09.861Z"
   },
   {
    "duration": 24,
    "start_time": "2024-03-16T08:03:09.887Z"
   },
   {
    "duration": 40,
    "start_time": "2024-03-16T08:03:09.913Z"
   },
   {
    "duration": 21,
    "start_time": "2024-03-16T08:03:09.955Z"
   },
   {
    "duration": 24,
    "start_time": "2024-03-16T08:03:09.977Z"
   },
   {
    "duration": 51,
    "start_time": "2024-03-16T08:03:10.015Z"
   },
   {
    "duration": 129,
    "start_time": "2024-03-16T08:03:10.067Z"
   },
   {
    "duration": 42,
    "start_time": "2024-03-16T08:03:10.198Z"
   },
   {
    "duration": 118,
    "start_time": "2024-03-16T08:03:10.245Z"
   },
   {
    "duration": 144,
    "start_time": "2024-03-16T08:03:10.365Z"
   },
   {
    "duration": 216,
    "start_time": "2024-03-16T08:03:10.517Z"
   },
   {
    "duration": 34,
    "start_time": "2024-03-16T08:03:10.741Z"
   },
   {
    "duration": 7,
    "start_time": "2024-03-16T08:03:10.777Z"
   },
   {
    "duration": 6,
    "start_time": "2024-03-16T08:03:10.786Z"
   },
   {
    "duration": 56,
    "start_time": "2024-03-16T08:03:10.793Z"
   },
   {
    "duration": 139,
    "start_time": "2024-03-16T08:03:10.851Z"
   },
   {
    "duration": 15,
    "start_time": "2024-03-16T08:03:10.991Z"
   },
   {
    "duration": 25,
    "start_time": "2024-03-16T08:03:11.021Z"
   },
   {
    "duration": 212,
    "start_time": "2024-03-16T08:03:11.048Z"
   },
   {
    "duration": 20,
    "start_time": "2024-03-16T08:03:11.261Z"
   },
   {
    "duration": 50,
    "start_time": "2024-03-16T08:03:11.283Z"
   },
   {
    "duration": 147,
    "start_time": "2024-03-16T08:03:11.337Z"
   },
   {
    "duration": 20,
    "start_time": "2024-03-16T08:03:11.486Z"
   },
   {
    "duration": 238,
    "start_time": "2024-03-16T08:03:11.507Z"
   },
   {
    "duration": 196,
    "start_time": "2024-03-16T08:03:11.746Z"
   },
   {
    "duration": 4,
    "start_time": "2024-03-16T08:03:11.948Z"
   },
   {
    "duration": 20,
    "start_time": "2024-03-16T08:03:11.954Z"
   },
   {
    "duration": 93,
    "start_time": "2024-03-16T08:03:11.978Z"
   },
   {
    "duration": 2,
    "start_time": "2024-03-16T08:03:12.073Z"
   },
   {
    "duration": 399,
    "start_time": "2024-03-16T08:03:12.077Z"
   },
   {
    "duration": 79,
    "start_time": "2024-03-16T08:03:12.478Z"
   },
   {
    "duration": 230,
    "start_time": "2024-03-16T08:03:12.559Z"
   },
   {
    "duration": 225,
    "start_time": "2024-03-16T08:03:12.790Z"
   },
   {
    "duration": 18326,
    "start_time": "2024-03-16T08:03:13.018Z"
   },
   {
    "duration": 0,
    "start_time": "2024-03-16T08:03:31.346Z"
   },
   {
    "duration": 0,
    "start_time": "2024-03-16T08:03:31.348Z"
   },
   {
    "duration": 8,
    "start_time": "2024-03-16T08:08:23.311Z"
   },
   {
    "duration": 58,
    "start_time": "2024-03-16T08:09:31.284Z"
   },
   {
    "duration": 4,
    "start_time": "2024-03-16T08:09:36.587Z"
   },
   {
    "duration": 1164,
    "start_time": "2024-03-16T08:23:25.199Z"
   },
   {
    "duration": 9,
    "start_time": "2024-03-16T08:23:37.413Z"
   },
   {
    "duration": 957,
    "start_time": "2024-03-16T08:23:38.375Z"
   },
   {
    "duration": 18,
    "start_time": "2024-03-16T08:23:39.335Z"
   },
   {
    "duration": 186,
    "start_time": "2024-03-16T08:23:39.355Z"
   },
   {
    "duration": 181,
    "start_time": "2024-03-16T08:23:40.302Z"
   },
   {
    "duration": 434,
    "start_time": "2024-03-16T08:23:41.257Z"
   },
   {
    "duration": 530,
    "start_time": "2024-03-16T08:23:41.700Z"
   },
   {
    "duration": 509,
    "start_time": "2024-03-16T08:23:42.233Z"
   },
   {
    "duration": 347,
    "start_time": "2024-03-16T08:23:43.900Z"
   },
   {
    "duration": 43,
    "start_time": "2024-03-16T08:25:35.518Z"
   },
   {
    "duration": 28,
    "start_time": "2024-03-16T08:25:50.052Z"
   },
   {
    "duration": 62,
    "start_time": "2024-03-16T08:26:58.077Z"
   },
   {
    "duration": 5,
    "start_time": "2024-03-16T08:27:30.155Z"
   },
   {
    "duration": 4,
    "start_time": "2024-03-16T08:36:26.058Z"
   },
   {
    "duration": 936,
    "start_time": "2024-03-16T08:36:27.631Z"
   },
   {
    "duration": 15,
    "start_time": "2024-03-16T08:36:28.569Z"
   },
   {
    "duration": 164,
    "start_time": "2024-03-16T08:36:28.585Z"
   },
   {
    "duration": 164,
    "start_time": "2024-03-16T08:36:28.751Z"
   },
   {
    "duration": 453,
    "start_time": "2024-03-16T08:36:29.278Z"
   },
   {
    "duration": 493,
    "start_time": "2024-03-16T08:36:29.734Z"
   },
   {
    "duration": 472,
    "start_time": "2024-03-16T08:36:30.229Z"
   },
   {
    "duration": 31,
    "start_time": "2024-03-16T08:36:30.703Z"
   },
   {
    "duration": 81,
    "start_time": "2024-03-16T08:36:30.738Z"
   },
   {
    "duration": 4,
    "start_time": "2024-03-16T08:36:32.046Z"
   },
   {
    "duration": 22,
    "start_time": "2024-03-16T08:36:32.457Z"
   },
   {
    "duration": 33,
    "start_time": "2024-03-16T08:36:32.718Z"
   },
   {
    "duration": 41,
    "start_time": "2024-03-16T08:36:33.511Z"
   },
   {
    "duration": 27,
    "start_time": "2024-03-16T08:36:33.726Z"
   },
   {
    "duration": 25,
    "start_time": "2024-03-16T08:36:34.189Z"
   },
   {
    "duration": 20,
    "start_time": "2024-03-16T08:36:35.282Z"
   },
   {
    "duration": 29,
    "start_time": "2024-03-16T08:36:35.485Z"
   },
   {
    "duration": 23,
    "start_time": "2024-03-16T08:36:35.946Z"
   },
   {
    "duration": 20,
    "start_time": "2024-03-16T08:36:36.686Z"
   },
   {
    "duration": 45,
    "start_time": "2024-03-16T08:36:36.914Z"
   },
   {
    "duration": 22,
    "start_time": "2024-03-16T08:36:37.364Z"
   },
   {
    "duration": 35,
    "start_time": "2024-03-16T08:36:37.653Z"
   },
   {
    "duration": 104,
    "start_time": "2024-03-16T08:36:38.273Z"
   },
   {
    "duration": 22,
    "start_time": "2024-03-16T08:36:39.115Z"
   },
   {
    "duration": 112,
    "start_time": "2024-03-16T08:36:39.571Z"
   },
   {
    "duration": 113,
    "start_time": "2024-03-16T08:36:40.253Z"
   },
   {
    "duration": 187,
    "start_time": "2024-03-16T08:36:43.704Z"
   },
   {
    "duration": 22,
    "start_time": "2024-03-16T08:36:44.248Z"
   },
   {
    "duration": 24,
    "start_time": "2024-03-16T08:36:46.902Z"
   },
   {
    "duration": 63,
    "start_time": "2024-03-16T08:36:47.583Z"
   },
   {
    "duration": 5,
    "start_time": "2024-03-16T08:37:10.477Z"
   },
   {
    "duration": 4,
    "start_time": "2024-03-16T08:37:10.981Z"
   },
   {
    "duration": 16,
    "start_time": "2024-03-16T08:37:11.373Z"
   },
   {
    "duration": 143,
    "start_time": "2024-03-16T08:37:12.768Z"
   },
   {
    "duration": 17,
    "start_time": "2024-03-16T08:37:13.223Z"
   },
   {
    "duration": 18,
    "start_time": "2024-03-16T08:37:14.165Z"
   },
   {
    "duration": 148,
    "start_time": "2024-03-16T08:37:14.684Z"
   },
   {
    "duration": 19,
    "start_time": "2024-03-16T08:37:15.492Z"
   },
   {
    "duration": 17,
    "start_time": "2024-03-16T08:37:15.999Z"
   },
   {
    "duration": 21,
    "start_time": "2024-03-16T08:37:16.462Z"
   },
   {
    "duration": 3,
    "start_time": "2024-03-16T08:37:24.568Z"
   },
   {
    "duration": 162,
    "start_time": "2024-03-16T08:37:26.284Z"
   },
   {
    "duration": 4,
    "start_time": "2024-03-16T08:37:33.170Z"
   },
   {
    "duration": 141,
    "start_time": "2024-03-16T08:37:34.233Z"
   },
   {
    "duration": 17,
    "start_time": "2024-03-16T08:37:34.957Z"
   },
   {
    "duration": 177,
    "start_time": "2024-03-16T08:37:36.138Z"
   },
   {
    "duration": 119,
    "start_time": "2024-03-16T08:37:36.494Z"
   },
   {
    "duration": 4,
    "start_time": "2024-03-16T08:37:37.206Z"
   },
   {
    "duration": 15,
    "start_time": "2024-03-16T08:37:37.602Z"
   },
   {
    "duration": 78,
    "start_time": "2024-03-16T08:37:38.024Z"
   },
   {
    "duration": 115,
    "start_time": "2024-03-16T08:38:58.144Z"
   },
   {
    "duration": 129,
    "start_time": "2024-03-16T08:39:15.771Z"
   },
   {
    "duration": 98,
    "start_time": "2024-03-16T08:39:21.735Z"
   },
   {
    "duration": 901,
    "start_time": "2024-03-16T08:39:33.140Z"
   },
   {
    "duration": 6,
    "start_time": "2024-03-16T08:43:21.699Z"
   },
   {
    "duration": 180,
    "start_time": "2024-03-16T08:48:27.420Z"
   },
   {
    "duration": 169,
    "start_time": "2024-03-16T08:48:32.856Z"
   },
   {
    "duration": 4,
    "start_time": "2024-03-16T08:48:49.840Z"
   },
   {
    "duration": 955,
    "start_time": "2024-03-16T08:48:50.888Z"
   },
   {
    "duration": 17,
    "start_time": "2024-03-16T08:48:51.844Z"
   },
   {
    "duration": 178,
    "start_time": "2024-03-16T08:48:51.883Z"
   },
   {
    "duration": 171,
    "start_time": "2024-03-16T08:48:53.369Z"
   },
   {
    "duration": 460,
    "start_time": "2024-03-16T08:48:54.542Z"
   },
   {
    "duration": 496,
    "start_time": "2024-03-16T08:48:55.004Z"
   },
   {
    "duration": 471,
    "start_time": "2024-03-16T08:48:55.502Z"
   },
   {
    "duration": 39,
    "start_time": "2024-03-16T08:48:55.975Z"
   },
   {
    "duration": 29,
    "start_time": "2024-03-16T08:48:56.127Z"
   },
   {
    "duration": 3,
    "start_time": "2024-03-16T08:48:57.376Z"
   },
   {
    "duration": 37,
    "start_time": "2024-03-16T08:48:57.760Z"
   },
   {
    "duration": 21,
    "start_time": "2024-03-16T08:48:57.978Z"
   },
   {
    "duration": 23,
    "start_time": "2024-03-16T08:48:58.625Z"
   },
   {
    "duration": 30,
    "start_time": "2024-03-16T08:48:59.004Z"
   },
   {
    "duration": 24,
    "start_time": "2024-03-16T08:48:59.465Z"
   },
   {
    "duration": 33,
    "start_time": "2024-03-16T08:49:00.475Z"
   },
   {
    "duration": 30,
    "start_time": "2024-03-16T08:49:00.682Z"
   },
   {
    "duration": 24,
    "start_time": "2024-03-16T08:49:01.040Z"
   },
   {
    "duration": 27,
    "start_time": "2024-03-16T08:49:01.622Z"
   },
   {
    "duration": 50,
    "start_time": "2024-03-16T08:49:01.804Z"
   },
   {
    "duration": 22,
    "start_time": "2024-03-16T08:49:02.135Z"
   },
   {
    "duration": 48,
    "start_time": "2024-03-16T08:49:02.297Z"
   },
   {
    "duration": 103,
    "start_time": "2024-03-16T08:49:02.482Z"
   },
   {
    "duration": 28,
    "start_time": "2024-03-16T08:49:02.870Z"
   },
   {
    "duration": 116,
    "start_time": "2024-03-16T08:49:03.086Z"
   },
   {
    "duration": 113,
    "start_time": "2024-03-16T08:49:03.294Z"
   },
   {
    "duration": 313,
    "start_time": "2024-03-16T08:49:04.328Z"
   },
   {
    "duration": 23,
    "start_time": "2024-03-16T08:49:04.643Z"
   },
   {
    "duration": 20,
    "start_time": "2024-03-16T08:49:05.664Z"
   },
   {
    "duration": 52,
    "start_time": "2024-03-16T08:49:05.903Z"
   },
   {
    "duration": 5,
    "start_time": "2024-03-16T08:49:07.006Z"
   },
   {
    "duration": 4,
    "start_time": "2024-03-16T08:49:07.447Z"
   },
   {
    "duration": 21,
    "start_time": "2024-03-16T08:49:07.811Z"
   },
   {
    "duration": 135,
    "start_time": "2024-03-16T08:49:09.169Z"
   },
   {
    "duration": 22,
    "start_time": "2024-03-16T08:49:09.811Z"
   },
   {
    "duration": 26,
    "start_time": "2024-03-16T08:49:10.319Z"
   },
   {
    "duration": 130,
    "start_time": "2024-03-16T08:49:11.190Z"
   },
   {
    "duration": 28,
    "start_time": "2024-03-16T08:49:11.600Z"
   },
   {
    "duration": 16,
    "start_time": "2024-03-16T08:49:11.888Z"
   },
   {
    "duration": 17,
    "start_time": "2024-03-16T08:49:12.752Z"
   },
   {
    "duration": 5,
    "start_time": "2024-03-16T08:49:13.826Z"
   },
   {
    "duration": 144,
    "start_time": "2024-03-16T08:49:14.288Z"
   },
   {
    "duration": 22,
    "start_time": "2024-03-16T08:49:14.500Z"
   },
   {
    "duration": 180,
    "start_time": "2024-03-16T08:49:15.133Z"
   },
   {
    "duration": 129,
    "start_time": "2024-03-16T08:49:15.340Z"
   },
   {
    "duration": 5,
    "start_time": "2024-03-16T08:49:15.586Z"
   },
   {
    "duration": 17,
    "start_time": "2024-03-16T08:49:15.865Z"
   },
   {
    "duration": 78,
    "start_time": "2024-03-16T08:49:16.369Z"
   },
   {
    "duration": 115,
    "start_time": "2024-03-16T08:49:18.890Z"
   },
   {
    "duration": 122,
    "start_time": "2024-03-16T08:49:19.303Z"
   },
   {
    "duration": 95,
    "start_time": "2024-03-16T08:49:19.514Z"
   },
   {
    "duration": 66,
    "start_time": "2024-03-16T08:49:19.766Z"
   },
   {
    "duration": 44,
    "start_time": "2024-03-16T08:53:05.426Z"
   },
   {
    "duration": 44,
    "start_time": "2024-03-16T08:53:22.240Z"
   },
   {
    "duration": 4,
    "start_time": "2024-03-16T08:53:41.053Z"
   },
   {
    "duration": 3,
    "start_time": "2024-03-16T08:54:11.885Z"
   },
   {
    "duration": 3,
    "start_time": "2024-03-16T08:54:16.173Z"
   },
   {
    "duration": 386,
    "start_time": "2024-03-16T08:54:39.770Z"
   },
   {
    "duration": 45,
    "start_time": "2024-03-16T08:56:11.652Z"
   },
   {
    "duration": 3,
    "start_time": "2024-03-16T08:56:12.006Z"
   },
   {
    "duration": 3,
    "start_time": "2024-03-16T08:56:12.802Z"
   },
   {
    "duration": 379,
    "start_time": "2024-03-16T08:56:13.029Z"
   },
   {
    "duration": 2,
    "start_time": "2024-03-16T08:56:13.874Z"
   },
   {
    "duration": 15,
    "start_time": "2024-03-16T08:56:14.192Z"
   },
   {
    "duration": 4,
    "start_time": "2024-03-16T08:57:22.431Z"
   },
   {
    "duration": 41,
    "start_time": "2024-03-16T08:57:22.869Z"
   },
   {
    "duration": 3,
    "start_time": "2024-03-16T08:59:00.644Z"
   },
   {
    "duration": 45,
    "start_time": "2024-03-16T08:59:00.985Z"
   },
   {
    "duration": 3902,
    "start_time": "2024-03-16T09:01:05.316Z"
   },
   {
    "duration": 79,
    "start_time": "2024-03-16T09:04:34.044Z"
   },
   {
    "duration": 5,
    "start_time": "2024-03-16T09:05:59.211Z"
   },
   {
    "duration": 71,
    "start_time": "2024-03-16T09:06:52.428Z"
   },
   {
    "duration": 3,
    "start_time": "2024-03-16T09:06:52.850Z"
   },
   {
    "duration": 8,
    "start_time": "2024-03-16T09:06:53.615Z"
   },
   {
    "duration": 392,
    "start_time": "2024-03-16T09:06:54.520Z"
   },
   {
    "duration": 15,
    "start_time": "2024-03-16T09:08:41.280Z"
   },
   {
    "duration": 4,
    "start_time": "2024-03-16T09:10:32.313Z"
   },
   {
    "duration": 920,
    "start_time": "2024-03-16T09:10:33.715Z"
   },
   {
    "duration": 22,
    "start_time": "2024-03-16T09:10:34.637Z"
   },
   {
    "duration": 181,
    "start_time": "2024-03-16T09:10:34.660Z"
   },
   {
    "duration": 178,
    "start_time": "2024-03-16T09:10:34.843Z"
   },
   {
    "duration": 474,
    "start_time": "2024-03-16T09:10:35.025Z"
   },
   {
    "duration": 488,
    "start_time": "2024-03-16T09:10:35.501Z"
   },
   {
    "duration": 482,
    "start_time": "2024-03-16T09:10:35.990Z"
   },
   {
    "duration": 42,
    "start_time": "2024-03-16T09:10:36.475Z"
   },
   {
    "duration": 31,
    "start_time": "2024-03-16T09:10:36.520Z"
   },
   {
    "duration": 4,
    "start_time": "2024-03-16T09:10:37.058Z"
   },
   {
    "duration": 32,
    "start_time": "2024-03-16T09:10:37.408Z"
   },
   {
    "duration": 29,
    "start_time": "2024-03-16T09:10:37.587Z"
   },
   {
    "duration": 37,
    "start_time": "2024-03-16T09:10:38.109Z"
   },
   {
    "duration": 20,
    "start_time": "2024-03-16T09:10:38.286Z"
   },
   {
    "duration": 23,
    "start_time": "2024-03-16T09:10:38.637Z"
   },
   {
    "duration": 29,
    "start_time": "2024-03-16T09:10:39.157Z"
   },
   {
    "duration": 31,
    "start_time": "2024-03-16T09:10:39.346Z"
   },
   {
    "duration": 23,
    "start_time": "2024-03-16T09:10:39.738Z"
   },
   {
    "duration": 21,
    "start_time": "2024-03-16T09:10:40.328Z"
   },
   {
    "duration": 43,
    "start_time": "2024-03-16T09:10:40.512Z"
   },
   {
    "duration": 24,
    "start_time": "2024-03-16T09:10:40.889Z"
   },
   {
    "duration": 36,
    "start_time": "2024-03-16T09:10:41.073Z"
   },
   {
    "duration": 98,
    "start_time": "2024-03-16T09:10:41.280Z"
   },
   {
    "duration": 28,
    "start_time": "2024-03-16T09:10:41.721Z"
   },
   {
    "duration": 103,
    "start_time": "2024-03-16T09:10:41.995Z"
   },
   {
    "duration": 108,
    "start_time": "2024-03-16T09:10:42.191Z"
   },
   {
    "duration": 177,
    "start_time": "2024-03-16T09:10:42.967Z"
   },
   {
    "duration": 25,
    "start_time": "2024-03-16T09:10:43.149Z"
   },
   {
    "duration": 24,
    "start_time": "2024-03-16T09:10:44.068Z"
   },
   {
    "duration": 52,
    "start_time": "2024-03-16T09:10:44.238Z"
   },
   {
    "duration": 8,
    "start_time": "2024-03-16T09:10:44.612Z"
   },
   {
    "duration": 5,
    "start_time": "2024-03-16T09:10:44.849Z"
   },
   {
    "duration": 17,
    "start_time": "2024-03-16T09:10:45.038Z"
   },
   {
    "duration": 151,
    "start_time": "2024-03-16T09:10:45.709Z"
   },
   {
    "duration": 12,
    "start_time": "2024-03-16T09:10:45.970Z"
   },
   {
    "duration": 17,
    "start_time": "2024-03-16T09:10:46.194Z"
   },
   {
    "duration": 135,
    "start_time": "2024-03-16T09:10:46.437Z"
   },
   {
    "duration": 18,
    "start_time": "2024-03-16T09:10:46.647Z"
   },
   {
    "duration": 16,
    "start_time": "2024-03-16T09:10:47.289Z"
   },
   {
    "duration": 20,
    "start_time": "2024-03-16T09:10:47.307Z"
   },
   {
    "duration": 4,
    "start_time": "2024-03-16T09:10:47.835Z"
   },
   {
    "duration": 134,
    "start_time": "2024-03-16T09:10:48.273Z"
   },
   {
    "duration": 19,
    "start_time": "2024-03-16T09:10:48.506Z"
   },
   {
    "duration": 189,
    "start_time": "2024-03-16T09:10:49.615Z"
   },
   {
    "duration": 127,
    "start_time": "2024-03-16T09:10:49.817Z"
   },
   {
    "duration": 4,
    "start_time": "2024-03-16T09:10:50.051Z"
   },
   {
    "duration": 15,
    "start_time": "2024-03-16T09:10:50.653Z"
   },
   {
    "duration": 76,
    "start_time": "2024-03-16T09:10:50.861Z"
   },
   {
    "duration": 101,
    "start_time": "2024-03-16T09:10:52.010Z"
   },
   {
    "duration": 113,
    "start_time": "2024-03-16T09:10:52.273Z"
   },
   {
    "duration": 93,
    "start_time": "2024-03-16T09:10:52.540Z"
   },
   {
    "duration": 71,
    "start_time": "2024-03-16T09:10:52.809Z"
   },
   {
    "duration": 76,
    "start_time": "2024-03-16T09:10:54.355Z"
   },
   {
    "duration": 5,
    "start_time": "2024-03-16T09:10:54.825Z"
   },
   {
    "duration": 3,
    "start_time": "2024-03-16T09:10:55.581Z"
   },
   {
    "duration": 397,
    "start_time": "2024-03-16T09:10:55.983Z"
   },
   {
    "duration": 3,
    "start_time": "2024-03-16T09:10:57.205Z"
   },
   {
    "duration": 28,
    "start_time": "2024-03-16T09:10:57.565Z"
   },
   {
    "duration": 2890,
    "start_time": "2024-03-16T09:10:58.427Z"
   },
   {
    "duration": 4279,
    "start_time": "2024-03-16T09:22:44.179Z"
   },
   {
    "duration": 1528,
    "start_time": "2024-03-16T09:29:23.842Z"
   },
   {
    "duration": 949,
    "start_time": "2024-03-16T09:29:25.372Z"
   },
   {
    "duration": 22,
    "start_time": "2024-03-16T09:29:26.327Z"
   },
   {
    "duration": 153,
    "start_time": "2024-03-16T09:29:26.351Z"
   },
   {
    "duration": 156,
    "start_time": "2024-03-16T09:29:26.514Z"
   },
   {
    "duration": 488,
    "start_time": "2024-03-16T09:29:26.671Z"
   },
   {
    "duration": 536,
    "start_time": "2024-03-16T09:29:27.160Z"
   },
   {
    "duration": 494,
    "start_time": "2024-03-16T09:29:27.698Z"
   },
   {
    "duration": 40,
    "start_time": "2024-03-16T09:29:28.194Z"
   },
   {
    "duration": 37,
    "start_time": "2024-03-16T09:29:28.236Z"
   },
   {
    "duration": 141,
    "start_time": "2024-03-16T09:29:28.274Z"
   },
   {
    "duration": 0,
    "start_time": "2024-03-16T09:29:28.420Z"
   },
   {
    "duration": 0,
    "start_time": "2024-03-16T09:29:28.422Z"
   },
   {
    "duration": 0,
    "start_time": "2024-03-16T09:29:28.428Z"
   },
   {
    "duration": 0,
    "start_time": "2024-03-16T09:29:28.429Z"
   },
   {
    "duration": 0,
    "start_time": "2024-03-16T09:29:28.431Z"
   },
   {
    "duration": 0,
    "start_time": "2024-03-16T09:29:28.432Z"
   },
   {
    "duration": 0,
    "start_time": "2024-03-16T09:29:28.434Z"
   },
   {
    "duration": 0,
    "start_time": "2024-03-16T09:29:28.435Z"
   },
   {
    "duration": 0,
    "start_time": "2024-03-16T09:29:28.437Z"
   },
   {
    "duration": 0,
    "start_time": "2024-03-16T09:29:28.438Z"
   },
   {
    "duration": 0,
    "start_time": "2024-03-16T09:29:28.439Z"
   },
   {
    "duration": 0,
    "start_time": "2024-03-16T09:29:28.441Z"
   },
   {
    "duration": 0,
    "start_time": "2024-03-16T09:29:28.442Z"
   },
   {
    "duration": 0,
    "start_time": "2024-03-16T09:29:28.444Z"
   },
   {
    "duration": 0,
    "start_time": "2024-03-16T09:29:28.445Z"
   },
   {
    "duration": 0,
    "start_time": "2024-03-16T09:29:28.447Z"
   },
   {
    "duration": 0,
    "start_time": "2024-03-16T09:29:28.449Z"
   },
   {
    "duration": 0,
    "start_time": "2024-03-16T09:29:28.450Z"
   },
   {
    "duration": 0,
    "start_time": "2024-03-16T09:29:28.452Z"
   },
   {
    "duration": 0,
    "start_time": "2024-03-16T09:29:28.453Z"
   },
   {
    "duration": 0,
    "start_time": "2024-03-16T09:29:28.455Z"
   },
   {
    "duration": 0,
    "start_time": "2024-03-16T09:29:28.456Z"
   },
   {
    "duration": 1,
    "start_time": "2024-03-16T09:29:28.457Z"
   },
   {
    "duration": 0,
    "start_time": "2024-03-16T09:29:28.459Z"
   },
   {
    "duration": 0,
    "start_time": "2024-03-16T09:29:28.461Z"
   },
   {
    "duration": 0,
    "start_time": "2024-03-16T09:29:28.462Z"
   },
   {
    "duration": 0,
    "start_time": "2024-03-16T09:29:28.464Z"
   },
   {
    "duration": 0,
    "start_time": "2024-03-16T09:29:28.515Z"
   },
   {
    "duration": 0,
    "start_time": "2024-03-16T09:29:28.516Z"
   },
   {
    "duration": 0,
    "start_time": "2024-03-16T09:29:28.517Z"
   },
   {
    "duration": 0,
    "start_time": "2024-03-16T09:29:28.518Z"
   },
   {
    "duration": 0,
    "start_time": "2024-03-16T09:29:28.525Z"
   },
   {
    "duration": 0,
    "start_time": "2024-03-16T09:29:28.526Z"
   },
   {
    "duration": 0,
    "start_time": "2024-03-16T09:29:28.527Z"
   },
   {
    "duration": 0,
    "start_time": "2024-03-16T09:29:28.529Z"
   },
   {
    "duration": 0,
    "start_time": "2024-03-16T09:29:28.530Z"
   },
   {
    "duration": 0,
    "start_time": "2024-03-16T09:29:28.531Z"
   },
   {
    "duration": 0,
    "start_time": "2024-03-16T09:29:28.533Z"
   },
   {
    "duration": 0,
    "start_time": "2024-03-16T09:29:28.535Z"
   },
   {
    "duration": 0,
    "start_time": "2024-03-16T09:29:28.536Z"
   },
   {
    "duration": 0,
    "start_time": "2024-03-16T09:29:28.537Z"
   },
   {
    "duration": 0,
    "start_time": "2024-03-16T09:29:28.538Z"
   },
   {
    "duration": 0,
    "start_time": "2024-03-16T09:29:28.539Z"
   },
   {
    "duration": 0,
    "start_time": "2024-03-16T09:29:28.540Z"
   },
   {
    "duration": 0,
    "start_time": "2024-03-16T09:29:28.541Z"
   },
   {
    "duration": 0,
    "start_time": "2024-03-16T09:29:28.542Z"
   },
   {
    "duration": 0,
    "start_time": "2024-03-16T09:29:28.543Z"
   },
   {
    "duration": 0,
    "start_time": "2024-03-16T09:29:28.544Z"
   },
   {
    "duration": 0,
    "start_time": "2024-03-16T09:29:28.546Z"
   },
   {
    "duration": 0,
    "start_time": "2024-03-16T09:29:28.547Z"
   },
   {
    "duration": 0,
    "start_time": "2024-03-16T09:29:28.548Z"
   },
   {
    "duration": 76,
    "start_time": "2024-03-16T09:31:20.183Z"
   },
   {
    "duration": 4,
    "start_time": "2024-03-16T09:31:32.493Z"
   },
   {
    "duration": 954,
    "start_time": "2024-03-16T09:31:33.573Z"
   },
   {
    "duration": 15,
    "start_time": "2024-03-16T09:31:34.530Z"
   },
   {
    "duration": 172,
    "start_time": "2024-03-16T09:31:34.546Z"
   },
   {
    "duration": 161,
    "start_time": "2024-03-16T09:31:34.729Z"
   },
   {
    "duration": 465,
    "start_time": "2024-03-16T09:31:35.253Z"
   },
   {
    "duration": 469,
    "start_time": "2024-03-16T09:31:35.721Z"
   },
   {
    "duration": 473,
    "start_time": "2024-03-16T09:31:36.192Z"
   },
   {
    "duration": 31,
    "start_time": "2024-03-16T09:31:36.667Z"
   },
   {
    "duration": 27,
    "start_time": "2024-03-16T09:31:36.942Z"
   },
   {
    "duration": 75,
    "start_time": "2024-03-16T09:31:38.285Z"
   },
   {
    "duration": 65,
    "start_time": "2024-03-16T09:31:50.246Z"
   },
   {
    "duration": 10,
    "start_time": "2024-03-16T09:31:51.414Z"
   },
   {
    "duration": 64,
    "start_time": "2024-03-16T09:32:01.958Z"
   },
   {
    "duration": 3,
    "start_time": "2024-03-16T09:32:02.400Z"
   },
   {
    "duration": 872,
    "start_time": "2024-03-16T09:33:21.376Z"
   },
   {
    "duration": 15,
    "start_time": "2024-03-16T09:33:23.651Z"
   },
   {
    "duration": 161,
    "start_time": "2024-03-16T09:33:23.846Z"
   },
   {
    "duration": 168,
    "start_time": "2024-03-16T09:33:24.590Z"
   },
   {
    "duration": 455,
    "start_time": "2024-03-16T09:33:25.519Z"
   },
   {
    "duration": 508,
    "start_time": "2024-03-16T09:33:26.119Z"
   },
   {
    "duration": 448,
    "start_time": "2024-03-16T09:33:26.629Z"
   },
   {
    "duration": 35,
    "start_time": "2024-03-16T09:33:27.902Z"
   },
   {
    "duration": 68,
    "start_time": "2024-03-16T09:33:30.566Z"
   },
   {
    "duration": 3,
    "start_time": "2024-03-16T09:33:31.192Z"
   },
   {
    "duration": 26,
    "start_time": "2024-03-16T09:33:33.726Z"
   },
   {
    "duration": 24,
    "start_time": "2024-03-16T09:33:34.447Z"
   },
   {
    "duration": 1582,
    "start_time": "2024-03-16T09:35:09.584Z"
   },
   {
    "duration": 933,
    "start_time": "2024-03-16T09:35:11.168Z"
   },
   {
    "duration": 31,
    "start_time": "2024-03-16T09:35:12.104Z"
   },
   {
    "duration": 187,
    "start_time": "2024-03-16T09:35:12.137Z"
   },
   {
    "duration": 159,
    "start_time": "2024-03-16T09:35:12.328Z"
   },
   {
    "duration": 532,
    "start_time": "2024-03-16T09:35:12.489Z"
   },
   {
    "duration": 548,
    "start_time": "2024-03-16T09:35:13.023Z"
   },
   {
    "duration": 502,
    "start_time": "2024-03-16T09:35:13.573Z"
   },
   {
    "duration": 29,
    "start_time": "2024-03-16T09:35:14.077Z"
   },
   {
    "duration": 91,
    "start_time": "2024-03-16T09:35:14.107Z"
   },
   {
    "duration": 20,
    "start_time": "2024-03-16T09:35:14.200Z"
   },
   {
    "duration": 38,
    "start_time": "2024-03-16T09:35:14.228Z"
   },
   {
    "duration": 22,
    "start_time": "2024-03-16T09:35:14.268Z"
   },
   {
    "duration": 38,
    "start_time": "2024-03-16T09:35:14.293Z"
   },
   {
    "duration": 21,
    "start_time": "2024-03-16T09:35:14.333Z"
   },
   {
    "duration": 31,
    "start_time": "2024-03-16T09:35:14.356Z"
   },
   {
    "duration": 31,
    "start_time": "2024-03-16T09:35:14.389Z"
   },
   {
    "duration": 23,
    "start_time": "2024-03-16T09:35:14.421Z"
   },
   {
    "duration": 32,
    "start_time": "2024-03-16T09:35:14.446Z"
   },
   {
    "duration": 42,
    "start_time": "2024-03-16T09:35:14.479Z"
   },
   {
    "duration": 26,
    "start_time": "2024-03-16T09:35:14.524Z"
   },
   {
    "duration": 34,
    "start_time": "2024-03-16T09:35:14.552Z"
   },
   {
    "duration": 34,
    "start_time": "2024-03-16T09:35:14.588Z"
   },
   {
    "duration": 38,
    "start_time": "2024-03-16T09:35:14.623Z"
   },
   {
    "duration": 119,
    "start_time": "2024-03-16T09:35:14.663Z"
   },
   {
    "duration": 21,
    "start_time": "2024-03-16T09:35:14.784Z"
   },
   {
    "duration": 147,
    "start_time": "2024-03-16T09:35:14.817Z"
   },
   {
    "duration": 109,
    "start_time": "2024-03-16T09:35:14.966Z"
   },
   {
    "duration": 194,
    "start_time": "2024-03-16T09:35:15.077Z"
   },
   {
    "duration": 50,
    "start_time": "2024-03-16T09:35:15.273Z"
   },
   {
    "duration": 25,
    "start_time": "2024-03-16T09:35:15.325Z"
   },
   {
    "duration": 52,
    "start_time": "2024-03-16T09:35:15.351Z"
   },
   {
    "duration": 13,
    "start_time": "2024-03-16T09:35:15.416Z"
   },
   {
    "duration": 13,
    "start_time": "2024-03-16T09:35:15.431Z"
   },
   {
    "duration": 34,
    "start_time": "2024-03-16T09:35:15.446Z"
   },
   {
    "duration": 138,
    "start_time": "2024-03-16T09:35:15.482Z"
   },
   {
    "duration": 16,
    "start_time": "2024-03-16T09:35:15.622Z"
   },
   {
    "duration": 17,
    "start_time": "2024-03-16T09:35:15.640Z"
   },
   {
    "duration": 213,
    "start_time": "2024-03-16T09:35:15.659Z"
   },
   {
    "duration": 17,
    "start_time": "2024-03-16T09:35:15.874Z"
   },
   {
    "duration": 35,
    "start_time": "2024-03-16T09:35:15.896Z"
   },
   {
    "duration": 17,
    "start_time": "2024-03-16T09:35:15.932Z"
   },
   {
    "duration": 3,
    "start_time": "2024-03-16T09:35:15.951Z"
   },
   {
    "duration": 152,
    "start_time": "2024-03-16T09:35:15.956Z"
   },
   {
    "duration": 24,
    "start_time": "2024-03-16T09:35:16.110Z"
   },
   {
    "duration": 196,
    "start_time": "2024-03-16T09:35:16.137Z"
   },
   {
    "duration": 132,
    "start_time": "2024-03-16T09:35:16.335Z"
   },
   {
    "duration": 4,
    "start_time": "2024-03-16T09:35:16.468Z"
   },
   {
    "duration": 34,
    "start_time": "2024-03-16T09:35:16.474Z"
   },
   {
    "duration": 74,
    "start_time": "2024-03-16T09:35:16.510Z"
   },
   {
    "duration": 111,
    "start_time": "2024-03-16T09:35:16.586Z"
   },
   {
    "duration": 126,
    "start_time": "2024-03-16T09:35:16.699Z"
   },
   {
    "duration": 103,
    "start_time": "2024-03-16T09:35:16.832Z"
   },
   {
    "duration": 60,
    "start_time": "2024-03-16T09:35:16.937Z"
   },
   {
    "duration": 93,
    "start_time": "2024-03-16T09:35:16.998Z"
   },
   {
    "duration": 3,
    "start_time": "2024-03-16T09:35:17.092Z"
   },
   {
    "duration": 13,
    "start_time": "2024-03-16T09:35:17.097Z"
   },
   {
    "duration": 432,
    "start_time": "2024-03-16T09:35:17.111Z"
   },
   {
    "duration": 2,
    "start_time": "2024-03-16T09:35:17.545Z"
   },
   {
    "duration": 50,
    "start_time": "2024-03-16T09:35:17.549Z"
   },
   {
    "duration": 2736,
    "start_time": "2024-03-16T09:35:17.601Z"
   },
   {
    "duration": 624638,
    "start_time": "2024-03-16T09:35:20.516Z"
   },
   {
    "duration": 0,
    "start_time": "2024-03-16T09:45:45.155Z"
   },
   {
    "duration": 397867,
    "start_time": "2024-03-16T09:49:00.543Z"
   },
   {
    "duration": 477829,
    "start_time": "2024-03-16T09:55:45.100Z"
   },
   {
    "duration": 1524,
    "start_time": "2024-03-16T10:07:34.378Z"
   },
   {
    "duration": 943,
    "start_time": "2024-03-16T10:07:35.904Z"
   },
   {
    "duration": 20,
    "start_time": "2024-03-16T10:07:36.849Z"
   },
   {
    "duration": 183,
    "start_time": "2024-03-16T10:07:36.871Z"
   },
   {
    "duration": 151,
    "start_time": "2024-03-16T10:07:37.056Z"
   },
   {
    "duration": 524,
    "start_time": "2024-03-16T10:07:37.215Z"
   },
   {
    "duration": 528,
    "start_time": "2024-03-16T10:07:37.740Z"
   },
   {
    "duration": 487,
    "start_time": "2024-03-16T10:07:38.270Z"
   },
   {
    "duration": 29,
    "start_time": "2024-03-16T10:07:38.759Z"
   },
   {
    "duration": 86,
    "start_time": "2024-03-16T10:07:38.790Z"
   },
   {
    "duration": 3,
    "start_time": "2024-03-16T10:07:38.878Z"
   },
   {
    "duration": 73,
    "start_time": "2024-03-16T10:07:38.883Z"
   },
   {
    "duration": 25,
    "start_time": "2024-03-16T10:07:38.958Z"
   },
   {
    "duration": 24,
    "start_time": "2024-03-16T10:07:38.985Z"
   },
   {
    "duration": 32,
    "start_time": "2024-03-16T10:07:39.010Z"
   },
   {
    "duration": 22,
    "start_time": "2024-03-16T10:07:39.044Z"
   },
   {
    "duration": 32,
    "start_time": "2024-03-16T10:07:39.067Z"
   },
   {
    "duration": 43,
    "start_time": "2024-03-16T10:07:39.101Z"
   },
   {
    "duration": 30,
    "start_time": "2024-03-16T10:07:39.146Z"
   },
   {
    "duration": 38,
    "start_time": "2024-03-16T10:07:39.178Z"
   },
   {
    "duration": 33,
    "start_time": "2024-03-16T10:07:39.219Z"
   },
   {
    "duration": 33,
    "start_time": "2024-03-16T10:07:39.254Z"
   },
   {
    "duration": 31,
    "start_time": "2024-03-16T10:07:39.289Z"
   },
   {
    "duration": 39,
    "start_time": "2024-03-16T10:07:39.324Z"
   },
   {
    "duration": 110,
    "start_time": "2024-03-16T10:07:39.365Z"
   },
   {
    "duration": 21,
    "start_time": "2024-03-16T10:07:39.476Z"
   },
   {
    "duration": 111,
    "start_time": "2024-03-16T10:07:39.499Z"
   },
   {
    "duration": 115,
    "start_time": "2024-03-16T10:07:39.618Z"
   },
   {
    "duration": 184,
    "start_time": "2024-03-16T10:07:39.734Z"
   },
   {
    "duration": 37,
    "start_time": "2024-03-16T10:07:39.921Z"
   },
   {
    "duration": 27,
    "start_time": "2024-03-16T10:07:39.959Z"
   },
   {
    "duration": 68,
    "start_time": "2024-03-16T10:07:39.988Z"
   },
   {
    "duration": 5,
    "start_time": "2024-03-16T10:07:40.058Z"
   },
   {
    "duration": 16,
    "start_time": "2024-03-16T10:07:40.065Z"
   },
   {
    "duration": 20,
    "start_time": "2024-03-16T10:07:40.083Z"
   },
   {
    "duration": 154,
    "start_time": "2024-03-16T10:07:40.105Z"
   },
   {
    "duration": 12,
    "start_time": "2024-03-16T10:07:40.261Z"
   },
   {
    "duration": 20,
    "start_time": "2024-03-16T10:07:40.275Z"
   },
   {
    "duration": 224,
    "start_time": "2024-03-16T10:07:40.297Z"
   },
   {
    "duration": 19,
    "start_time": "2024-03-16T10:07:40.525Z"
   },
   {
    "duration": 19,
    "start_time": "2024-03-16T10:07:40.546Z"
   },
   {
    "duration": 18,
    "start_time": "2024-03-16T10:07:40.567Z"
   },
   {
    "duration": 31,
    "start_time": "2024-03-16T10:07:40.587Z"
   },
   {
    "duration": 138,
    "start_time": "2024-03-16T10:07:40.620Z"
   },
   {
    "duration": 17,
    "start_time": "2024-03-16T10:07:40.759Z"
   },
   {
    "duration": 206,
    "start_time": "2024-03-16T10:07:40.777Z"
   },
   {
    "duration": 120,
    "start_time": "2024-03-16T10:07:40.984Z"
   },
   {
    "duration": 15,
    "start_time": "2024-03-16T10:07:41.106Z"
   },
   {
    "duration": 15,
    "start_time": "2024-03-16T10:07:41.128Z"
   },
   {
    "duration": 70,
    "start_time": "2024-03-16T10:07:41.145Z"
   },
   {
    "duration": 115,
    "start_time": "2024-03-16T10:07:41.216Z"
   },
   {
    "duration": 122,
    "start_time": "2024-03-16T10:07:41.334Z"
   },
   {
    "duration": 102,
    "start_time": "2024-03-16T10:07:41.458Z"
   },
   {
    "duration": 73,
    "start_time": "2024-03-16T10:07:41.561Z"
   },
   {
    "duration": 88,
    "start_time": "2024-03-16T10:07:41.635Z"
   },
   {
    "duration": 6,
    "start_time": "2024-03-16T10:07:41.726Z"
   },
   {
    "duration": 11,
    "start_time": "2024-03-16T10:07:41.734Z"
   },
   {
    "duration": 401,
    "start_time": "2024-03-16T10:07:41.747Z"
   },
   {
    "duration": 2,
    "start_time": "2024-03-16T10:07:42.150Z"
   },
   {
    "duration": 35,
    "start_time": "2024-03-16T10:07:42.154Z"
   },
   {
    "duration": 2743,
    "start_time": "2024-03-16T10:07:42.191Z"
   },
   {
    "duration": 394199,
    "start_time": "2024-03-16T10:07:44.936Z"
   },
   {
    "duration": 708093,
    "start_time": "2024-03-16T10:14:19.137Z"
   },
   {
    "duration": 0,
    "start_time": "2024-03-16T10:26:07.232Z"
   },
   {
    "duration": 4,
    "start_time": "2024-03-16T10:26:09.755Z"
   },
   {
    "duration": 1392411,
    "start_time": "2024-03-16T10:26:56.030Z"
   },
   {
    "duration": 1543,
    "start_time": "2024-03-16T11:15:57.987Z"
   },
   {
    "duration": 943,
    "start_time": "2024-03-16T11:15:59.532Z"
   },
   {
    "duration": 21,
    "start_time": "2024-03-16T11:16:00.476Z"
   },
   {
    "duration": 167,
    "start_time": "2024-03-16T11:16:00.506Z"
   },
   {
    "duration": 146,
    "start_time": "2024-03-16T11:16:00.674Z"
   },
   {
    "duration": 518,
    "start_time": "2024-03-16T11:16:00.821Z"
   },
   {
    "duration": 528,
    "start_time": "2024-03-16T11:16:01.341Z"
   },
   {
    "duration": 482,
    "start_time": "2024-03-16T11:16:01.870Z"
   },
   {
    "duration": 31,
    "start_time": "2024-03-16T11:16:02.353Z"
   },
   {
    "duration": 140,
    "start_time": "2024-03-16T11:16:02.387Z"
   },
   {
    "duration": 0,
    "start_time": "2024-03-16T11:16:02.530Z"
   },
   {
    "duration": 0,
    "start_time": "2024-03-16T11:16:02.532Z"
   },
   {
    "duration": 0,
    "start_time": "2024-03-16T11:16:02.532Z"
   },
   {
    "duration": 0,
    "start_time": "2024-03-16T11:16:02.533Z"
   },
   {
    "duration": 0,
    "start_time": "2024-03-16T11:16:02.535Z"
   },
   {
    "duration": 0,
    "start_time": "2024-03-16T11:16:02.536Z"
   },
   {
    "duration": 0,
    "start_time": "2024-03-16T11:16:02.537Z"
   },
   {
    "duration": 0,
    "start_time": "2024-03-16T11:16:02.538Z"
   },
   {
    "duration": 0,
    "start_time": "2024-03-16T11:16:02.539Z"
   },
   {
    "duration": 0,
    "start_time": "2024-03-16T11:16:02.539Z"
   },
   {
    "duration": 0,
    "start_time": "2024-03-16T11:16:02.540Z"
   },
   {
    "duration": 0,
    "start_time": "2024-03-16T11:16:02.541Z"
   },
   {
    "duration": 0,
    "start_time": "2024-03-16T11:16:02.542Z"
   },
   {
    "duration": 0,
    "start_time": "2024-03-16T11:16:02.544Z"
   },
   {
    "duration": 0,
    "start_time": "2024-03-16T11:16:02.545Z"
   },
   {
    "duration": 0,
    "start_time": "2024-03-16T11:16:02.546Z"
   },
   {
    "duration": 0,
    "start_time": "2024-03-16T11:16:02.547Z"
   },
   {
    "duration": 0,
    "start_time": "2024-03-16T11:16:02.549Z"
   },
   {
    "duration": 0,
    "start_time": "2024-03-16T11:16:02.550Z"
   },
   {
    "duration": 0,
    "start_time": "2024-03-16T11:16:02.551Z"
   },
   {
    "duration": 0,
    "start_time": "2024-03-16T11:16:02.552Z"
   },
   {
    "duration": 0,
    "start_time": "2024-03-16T11:16:02.553Z"
   },
   {
    "duration": 0,
    "start_time": "2024-03-16T11:16:02.553Z"
   },
   {
    "duration": 0,
    "start_time": "2024-03-16T11:16:02.554Z"
   },
   {
    "duration": 0,
    "start_time": "2024-03-16T11:16:02.555Z"
   },
   {
    "duration": 0,
    "start_time": "2024-03-16T11:16:02.557Z"
   },
   {
    "duration": 0,
    "start_time": "2024-03-16T11:16:02.558Z"
   },
   {
    "duration": 0,
    "start_time": "2024-03-16T11:16:02.559Z"
   },
   {
    "duration": 0,
    "start_time": "2024-03-16T11:16:02.560Z"
   },
   {
    "duration": 0,
    "start_time": "2024-03-16T11:16:02.561Z"
   },
   {
    "duration": 0,
    "start_time": "2024-03-16T11:16:02.562Z"
   },
   {
    "duration": 0,
    "start_time": "2024-03-16T11:16:02.615Z"
   },
   {
    "duration": 0,
    "start_time": "2024-03-16T11:16:02.617Z"
   },
   {
    "duration": 0,
    "start_time": "2024-03-16T11:16:02.618Z"
   },
   {
    "duration": 0,
    "start_time": "2024-03-16T11:16:02.619Z"
   },
   {
    "duration": 0,
    "start_time": "2024-03-16T11:16:02.620Z"
   },
   {
    "duration": 0,
    "start_time": "2024-03-16T11:16:02.621Z"
   },
   {
    "duration": 1,
    "start_time": "2024-03-16T11:16:02.622Z"
   },
   {
    "duration": 0,
    "start_time": "2024-03-16T11:16:02.623Z"
   },
   {
    "duration": 0,
    "start_time": "2024-03-16T11:16:02.624Z"
   },
   {
    "duration": 0,
    "start_time": "2024-03-16T11:16:02.625Z"
   },
   {
    "duration": 0,
    "start_time": "2024-03-16T11:16:02.626Z"
   },
   {
    "duration": 0,
    "start_time": "2024-03-16T11:16:02.627Z"
   },
   {
    "duration": 0,
    "start_time": "2024-03-16T11:16:02.628Z"
   },
   {
    "duration": 0,
    "start_time": "2024-03-16T11:16:02.629Z"
   },
   {
    "duration": 0,
    "start_time": "2024-03-16T11:16:02.631Z"
   },
   {
    "duration": 0,
    "start_time": "2024-03-16T11:16:02.632Z"
   },
   {
    "duration": 0,
    "start_time": "2024-03-16T11:16:02.633Z"
   },
   {
    "duration": 0,
    "start_time": "2024-03-16T11:16:02.634Z"
   },
   {
    "duration": 0,
    "start_time": "2024-03-16T11:16:02.635Z"
   },
   {
    "duration": 0,
    "start_time": "2024-03-16T11:16:02.636Z"
   },
   {
    "duration": 0,
    "start_time": "2024-03-16T11:16:02.637Z"
   },
   {
    "duration": 0,
    "start_time": "2024-03-16T11:16:02.639Z"
   },
   {
    "duration": 0,
    "start_time": "2024-03-16T11:16:02.640Z"
   },
   {
    "duration": 0,
    "start_time": "2024-03-16T11:16:02.641Z"
   },
   {
    "duration": 0,
    "start_time": "2024-03-16T11:16:02.642Z"
   },
   {
    "duration": 0,
    "start_time": "2024-03-16T11:16:02.643Z"
   },
   {
    "duration": 1532,
    "start_time": "2024-03-16T11:18:19.521Z"
   },
   {
    "duration": 936,
    "start_time": "2024-03-16T11:18:21.055Z"
   },
   {
    "duration": 24,
    "start_time": "2024-03-16T11:18:21.993Z"
   },
   {
    "duration": 172,
    "start_time": "2024-03-16T11:18:22.020Z"
   },
   {
    "duration": 151,
    "start_time": "2024-03-16T11:18:22.194Z"
   },
   {
    "duration": 473,
    "start_time": "2024-03-16T11:18:22.347Z"
   },
   {
    "duration": 506,
    "start_time": "2024-03-16T11:18:22.822Z"
   },
   {
    "duration": 437,
    "start_time": "2024-03-16T11:18:23.330Z"
   },
   {
    "duration": 28,
    "start_time": "2024-03-16T11:18:23.769Z"
   },
   {
    "duration": 76,
    "start_time": "2024-03-16T11:18:23.800Z"
   },
   {
    "duration": 4,
    "start_time": "2024-03-16T11:18:23.877Z"
   },
   {
    "duration": 45,
    "start_time": "2024-03-16T11:18:23.882Z"
   },
   {
    "duration": 23,
    "start_time": "2024-03-16T11:18:23.929Z"
   },
   {
    "duration": 25,
    "start_time": "2024-03-16T11:18:23.954Z"
   },
   {
    "duration": 45,
    "start_time": "2024-03-16T11:18:23.980Z"
   },
   {
    "duration": 26,
    "start_time": "2024-03-16T11:18:24.027Z"
   },
   {
    "duration": 42,
    "start_time": "2024-03-16T11:18:24.054Z"
   },
   {
    "duration": 20,
    "start_time": "2024-03-16T11:18:24.097Z"
   },
   {
    "duration": 29,
    "start_time": "2024-03-16T11:18:24.119Z"
   },
   {
    "duration": 23,
    "start_time": "2024-03-16T11:18:24.150Z"
   },
   {
    "duration": 21,
    "start_time": "2024-03-16T11:18:24.174Z"
   },
   {
    "duration": 61,
    "start_time": "2024-03-16T11:18:24.196Z"
   },
   {
    "duration": 23,
    "start_time": "2024-03-16T11:18:24.259Z"
   },
   {
    "duration": 55,
    "start_time": "2024-03-16T11:18:24.284Z"
   },
   {
    "duration": 121,
    "start_time": "2024-03-16T11:18:24.341Z"
   },
   {
    "duration": 22,
    "start_time": "2024-03-16T11:18:24.464Z"
   },
   {
    "duration": 108,
    "start_time": "2024-03-16T11:18:24.488Z"
   },
   {
    "duration": 104,
    "start_time": "2024-03-16T11:18:24.601Z"
   },
   {
    "duration": 200,
    "start_time": "2024-03-16T11:18:24.715Z"
   },
   {
    "duration": 36,
    "start_time": "2024-03-16T11:18:24.916Z"
   },
   {
    "duration": 25,
    "start_time": "2024-03-16T11:18:24.954Z"
   },
   {
    "duration": 74,
    "start_time": "2024-03-16T11:18:24.981Z"
   },
   {
    "duration": 6,
    "start_time": "2024-03-16T11:18:25.057Z"
   },
   {
    "duration": 6,
    "start_time": "2024-03-16T11:18:25.064Z"
   },
   {
    "duration": 43,
    "start_time": "2024-03-16T11:18:25.072Z"
   },
   {
    "duration": 130,
    "start_time": "2024-03-16T11:18:25.117Z"
   },
   {
    "duration": 13,
    "start_time": "2024-03-16T11:18:25.249Z"
   },
   {
    "duration": 23,
    "start_time": "2024-03-16T11:18:25.264Z"
   },
   {
    "duration": 203,
    "start_time": "2024-03-16T11:18:25.289Z"
   },
   {
    "duration": 22,
    "start_time": "2024-03-16T11:18:25.494Z"
   },
   {
    "duration": 17,
    "start_time": "2024-03-16T11:18:25.518Z"
   },
   {
    "duration": 16,
    "start_time": "2024-03-16T11:18:25.537Z"
   },
   {
    "duration": 4,
    "start_time": "2024-03-16T11:18:25.555Z"
   },
   {
    "duration": 161,
    "start_time": "2024-03-16T11:18:25.561Z"
   },
   {
    "duration": 18,
    "start_time": "2024-03-16T11:18:25.724Z"
   },
   {
    "duration": 196,
    "start_time": "2024-03-16T11:18:25.744Z"
   },
   {
    "duration": 134,
    "start_time": "2024-03-16T11:18:25.943Z"
   },
   {
    "duration": 4,
    "start_time": "2024-03-16T11:18:26.078Z"
   },
   {
    "duration": 20,
    "start_time": "2024-03-16T11:18:26.083Z"
   },
   {
    "duration": 73,
    "start_time": "2024-03-16T11:18:26.105Z"
   },
   {
    "duration": 104,
    "start_time": "2024-03-16T11:18:26.179Z"
   },
   {
    "duration": 108,
    "start_time": "2024-03-16T11:18:26.284Z"
   },
   {
    "duration": 93,
    "start_time": "2024-03-16T11:18:26.393Z"
   },
   {
    "duration": 63,
    "start_time": "2024-03-16T11:18:26.488Z"
   },
   {
    "duration": 73,
    "start_time": "2024-03-16T11:18:26.552Z"
   },
   {
    "duration": 3,
    "start_time": "2024-03-16T11:18:26.626Z"
   },
   {
    "duration": 4,
    "start_time": "2024-03-16T11:18:26.630Z"
   },
   {
    "duration": 391,
    "start_time": "2024-03-16T11:18:26.635Z"
   },
   {
    "duration": 3,
    "start_time": "2024-03-16T11:18:27.027Z"
   },
   {
    "duration": 32,
    "start_time": "2024-03-16T11:18:27.031Z"
   },
   {
    "duration": 4058,
    "start_time": "2024-03-16T11:18:27.065Z"
   },
   {
    "duration": 378390,
    "start_time": "2024-03-16T11:18:31.217Z"
   },
   {
    "duration": 74515,
    "start_time": "2024-03-16T11:24:49.608Z"
   },
   {
    "duration": 5,
    "start_time": "2024-03-16T11:26:04.125Z"
   },
   {
    "duration": 88,
    "start_time": "2024-03-16T11:26:04.132Z"
   },
   {
    "duration": 0,
    "start_time": "2024-03-16T11:26:04.221Z"
   },
   {
    "duration": 0,
    "start_time": "2024-03-16T11:26:04.223Z"
   },
   {
    "duration": 3597,
    "start_time": "2024-03-16T11:28:02.419Z"
   },
   {
    "duration": 13565,
    "start_time": "2024-03-16T11:28:06.018Z"
   },
   {
    "duration": 76,
    "start_time": "2024-03-16T11:28:33.267Z"
   },
   {
    "duration": 84503,
    "start_time": "2024-03-16T11:28:42.499Z"
   },
   {
    "duration": 79,
    "start_time": "2024-03-16T11:30:07.004Z"
   },
   {
    "duration": 70,
    "start_time": "2024-03-16T11:30:35.155Z"
   },
   {
    "duration": 0,
    "start_time": "2024-03-16T11:38:23.624Z"
   },
   {
    "duration": 17,
    "start_time": "2024-03-16T11:47:04.910Z"
   },
   {
    "duration": 5,
    "start_time": "2024-03-16T11:48:48.406Z"
   },
   {
    "duration": 3605,
    "start_time": "2024-03-16T11:48:48.910Z"
   },
   {
    "duration": 82207,
    "start_time": "2024-03-16T11:48:52.518Z"
   },
   {
    "duration": 6900,
    "start_time": "2024-03-16T11:50:14.727Z"
   },
   {
    "duration": 1523,
    "start_time": "2024-03-16T11:55:29.120Z"
   },
   {
    "duration": 951,
    "start_time": "2024-03-16T11:55:30.645Z"
   },
   {
    "duration": 29,
    "start_time": "2024-03-16T11:55:31.599Z"
   },
   {
    "duration": 163,
    "start_time": "2024-03-16T11:55:31.631Z"
   },
   {
    "duration": 158,
    "start_time": "2024-03-16T11:55:31.795Z"
   },
   {
    "duration": 480,
    "start_time": "2024-03-16T11:55:31.955Z"
   },
   {
    "duration": 515,
    "start_time": "2024-03-16T11:55:32.437Z"
   },
   {
    "duration": 475,
    "start_time": "2024-03-16T11:55:32.954Z"
   },
   {
    "duration": 43,
    "start_time": "2024-03-16T11:55:33.431Z"
   },
   {
    "duration": 83,
    "start_time": "2024-03-16T11:55:33.478Z"
   },
   {
    "duration": 4,
    "start_time": "2024-03-16T11:55:33.563Z"
   },
   {
    "duration": 52,
    "start_time": "2024-03-16T11:55:33.568Z"
   },
   {
    "duration": 46,
    "start_time": "2024-03-16T11:55:33.622Z"
   },
   {
    "duration": 45,
    "start_time": "2024-03-16T11:55:33.669Z"
   },
   {
    "duration": 23,
    "start_time": "2024-03-16T11:55:33.716Z"
   },
   {
    "duration": 21,
    "start_time": "2024-03-16T11:55:33.741Z"
   },
   {
    "duration": 27,
    "start_time": "2024-03-16T11:55:33.764Z"
   },
   {
    "duration": 36,
    "start_time": "2024-03-16T11:55:33.793Z"
   },
   {
    "duration": 30,
    "start_time": "2024-03-16T11:55:33.831Z"
   },
   {
    "duration": 22,
    "start_time": "2024-03-16T11:55:33.863Z"
   },
   {
    "duration": 37,
    "start_time": "2024-03-16T11:55:33.887Z"
   },
   {
    "duration": 33,
    "start_time": "2024-03-16T11:55:33.925Z"
   },
   {
    "duration": 22,
    "start_time": "2024-03-16T11:55:33.959Z"
   },
   {
    "duration": 54,
    "start_time": "2024-03-16T11:55:33.982Z"
   },
   {
    "duration": 110,
    "start_time": "2024-03-16T11:55:34.038Z"
   },
   {
    "duration": 22,
    "start_time": "2024-03-16T11:55:34.150Z"
   },
   {
    "duration": 110,
    "start_time": "2024-03-16T11:55:34.174Z"
   },
   {
    "duration": 102,
    "start_time": "2024-03-16T11:55:34.288Z"
   },
   {
    "duration": 206,
    "start_time": "2024-03-16T11:55:34.391Z"
   },
   {
    "duration": 53,
    "start_time": "2024-03-16T11:55:34.599Z"
   },
   {
    "duration": 37,
    "start_time": "2024-03-16T11:55:34.654Z"
   },
   {
    "duration": 72,
    "start_time": "2024-03-16T11:55:34.694Z"
   },
   {
    "duration": 7,
    "start_time": "2024-03-16T11:55:34.768Z"
   },
   {
    "duration": 16,
    "start_time": "2024-03-16T11:55:34.777Z"
   },
   {
    "duration": 44,
    "start_time": "2024-03-16T11:55:34.794Z"
   },
   {
    "duration": 155,
    "start_time": "2024-03-16T11:55:34.841Z"
   },
   {
    "duration": 25,
    "start_time": "2024-03-16T11:55:34.998Z"
   },
   {
    "duration": 22,
    "start_time": "2024-03-16T11:55:35.024Z"
   },
   {
    "duration": 193,
    "start_time": "2024-03-16T11:55:35.047Z"
   },
   {
    "duration": 17,
    "start_time": "2024-03-16T11:55:35.241Z"
   },
   {
    "duration": 29,
    "start_time": "2024-03-16T11:55:35.259Z"
   },
   {
    "duration": 25,
    "start_time": "2024-03-16T11:55:35.290Z"
   },
   {
    "duration": 3,
    "start_time": "2024-03-16T11:55:35.317Z"
   },
   {
    "duration": 139,
    "start_time": "2024-03-16T11:55:35.322Z"
   },
   {
    "duration": 16,
    "start_time": "2024-03-16T11:55:35.463Z"
   },
   {
    "duration": 191,
    "start_time": "2024-03-16T11:55:35.480Z"
   },
   {
    "duration": 131,
    "start_time": "2024-03-16T11:55:35.673Z"
   },
   {
    "duration": 5,
    "start_time": "2024-03-16T11:55:35.815Z"
   },
   {
    "duration": 19,
    "start_time": "2024-03-16T11:55:35.822Z"
   },
   {
    "duration": 80,
    "start_time": "2024-03-16T11:55:35.843Z"
   },
   {
    "duration": 99,
    "start_time": "2024-03-16T11:55:35.925Z"
   },
   {
    "duration": 139,
    "start_time": "2024-03-16T11:55:36.026Z"
   },
   {
    "duration": 108,
    "start_time": "2024-03-16T11:55:36.167Z"
   },
   {
    "duration": 64,
    "start_time": "2024-03-16T11:55:36.277Z"
   },
   {
    "duration": 74,
    "start_time": "2024-03-16T11:55:36.343Z"
   },
   {
    "duration": 2,
    "start_time": "2024-03-16T11:55:36.419Z"
   },
   {
    "duration": 4,
    "start_time": "2024-03-16T11:55:36.423Z"
   },
   {
    "duration": 374,
    "start_time": "2024-03-16T11:55:36.429Z"
   },
   {
    "duration": 3,
    "start_time": "2024-03-16T11:55:36.805Z"
   },
   {
    "duration": 40,
    "start_time": "2024-03-16T11:55:36.815Z"
   },
   {
    "duration": 2466,
    "start_time": "2024-03-16T11:55:36.857Z"
   },
   {
    "duration": 380697,
    "start_time": "2024-03-16T11:55:39.325Z"
   },
   {
    "duration": 140585,
    "start_time": "2024-03-16T12:02:00.024Z"
   },
   {
    "duration": 0,
    "start_time": "2024-03-16T12:04:20.615Z"
   },
   {
    "duration": 0,
    "start_time": "2024-03-16T12:04:20.616Z"
   },
   {
    "duration": 0,
    "start_time": "2024-03-16T12:04:20.618Z"
   },
   {
    "duration": 0,
    "start_time": "2024-03-16T12:04:20.619Z"
   },
   {
    "duration": 1504,
    "start_time": "2024-03-16T12:11:38.036Z"
   },
   {
    "duration": 952,
    "start_time": "2024-03-16T12:11:39.542Z"
   },
   {
    "duration": 25,
    "start_time": "2024-03-16T12:11:40.496Z"
   },
   {
    "duration": 165,
    "start_time": "2024-03-16T12:11:40.524Z"
   },
   {
    "duration": 171,
    "start_time": "2024-03-16T12:11:40.691Z"
   },
   {
    "duration": 499,
    "start_time": "2024-03-16T12:11:40.864Z"
   },
   {
    "duration": 511,
    "start_time": "2024-03-16T12:11:41.364Z"
   },
   {
    "duration": 487,
    "start_time": "2024-03-16T12:11:41.877Z"
   },
   {
    "duration": 30,
    "start_time": "2024-03-16T12:11:42.365Z"
   },
   {
    "duration": 91,
    "start_time": "2024-03-16T12:11:42.397Z"
   },
   {
    "duration": 4,
    "start_time": "2024-03-16T12:11:42.490Z"
   },
   {
    "duration": 49,
    "start_time": "2024-03-16T12:11:42.496Z"
   },
   {
    "duration": 28,
    "start_time": "2024-03-16T12:11:42.547Z"
   },
   {
    "duration": 23,
    "start_time": "2024-03-16T12:11:42.577Z"
   },
   {
    "duration": 32,
    "start_time": "2024-03-16T12:11:42.602Z"
   },
   {
    "duration": 25,
    "start_time": "2024-03-16T12:11:42.635Z"
   },
   {
    "duration": 37,
    "start_time": "2024-03-16T12:11:42.662Z"
   },
   {
    "duration": 21,
    "start_time": "2024-03-16T12:11:42.701Z"
   },
   {
    "duration": 31,
    "start_time": "2024-03-16T12:11:42.723Z"
   },
   {
    "duration": 23,
    "start_time": "2024-03-16T12:11:42.756Z"
   },
   {
    "duration": 42,
    "start_time": "2024-03-16T12:11:42.780Z"
   },
   {
    "duration": 48,
    "start_time": "2024-03-16T12:11:42.825Z"
   },
   {
    "duration": 23,
    "start_time": "2024-03-16T12:11:42.875Z"
   },
   {
    "duration": 50,
    "start_time": "2024-03-16T12:11:42.900Z"
   },
   {
    "duration": 110,
    "start_time": "2024-03-16T12:11:42.952Z"
   },
   {
    "duration": 21,
    "start_time": "2024-03-16T12:11:43.064Z"
   },
   {
    "duration": 115,
    "start_time": "2024-03-16T12:11:43.087Z"
   },
   {
    "duration": 121,
    "start_time": "2024-03-16T12:11:43.207Z"
   },
   {
    "duration": 193,
    "start_time": "2024-03-16T12:11:43.330Z"
   },
   {
    "duration": 34,
    "start_time": "2024-03-16T12:11:43.525Z"
   },
   {
    "duration": 28,
    "start_time": "2024-03-16T12:11:43.560Z"
   },
   {
    "duration": 68,
    "start_time": "2024-03-16T12:11:43.590Z"
   },
   {
    "duration": 5,
    "start_time": "2024-03-16T12:11:43.659Z"
   },
   {
    "duration": 32,
    "start_time": "2024-03-16T12:11:43.665Z"
   },
   {
    "duration": 31,
    "start_time": "2024-03-16T12:11:43.698Z"
   },
   {
    "duration": 134,
    "start_time": "2024-03-16T12:11:43.730Z"
   },
   {
    "duration": 13,
    "start_time": "2024-03-16T12:11:43.866Z"
   },
   {
    "duration": 32,
    "start_time": "2024-03-16T12:11:43.880Z"
   },
   {
    "duration": 195,
    "start_time": "2024-03-16T12:11:43.914Z"
   },
   {
    "duration": 20,
    "start_time": "2024-03-16T12:11:44.110Z"
   },
   {
    "duration": 28,
    "start_time": "2024-03-16T12:11:44.132Z"
   },
   {
    "duration": 22,
    "start_time": "2024-03-16T12:11:44.162Z"
   },
   {
    "duration": 6,
    "start_time": "2024-03-16T12:11:44.186Z"
   },
   {
    "duration": 148,
    "start_time": "2024-03-16T12:11:44.193Z"
   },
   {
    "duration": 18,
    "start_time": "2024-03-16T12:11:44.343Z"
   },
   {
    "duration": 190,
    "start_time": "2024-03-16T12:11:44.362Z"
   },
   {
    "duration": 132,
    "start_time": "2024-03-16T12:11:44.554Z"
   },
   {
    "duration": 4,
    "start_time": "2024-03-16T12:11:44.687Z"
   },
   {
    "duration": 42,
    "start_time": "2024-03-16T12:11:44.693Z"
   },
   {
    "duration": 107,
    "start_time": "2024-03-16T12:11:44.737Z"
   },
   {
    "duration": 98,
    "start_time": "2024-03-16T12:11:44.846Z"
   },
   {
    "duration": 110,
    "start_time": "2024-03-16T12:11:44.946Z"
   },
   {
    "duration": 92,
    "start_time": "2024-03-16T12:11:45.058Z"
   },
   {
    "duration": 69,
    "start_time": "2024-03-16T12:11:45.152Z"
   },
   {
    "duration": 69,
    "start_time": "2024-03-16T12:11:45.223Z"
   },
   {
    "duration": 3,
    "start_time": "2024-03-16T12:11:45.293Z"
   },
   {
    "duration": 18,
    "start_time": "2024-03-16T12:11:45.315Z"
   },
   {
    "duration": 397,
    "start_time": "2024-03-16T12:11:45.335Z"
   },
   {
    "duration": 3,
    "start_time": "2024-03-16T12:11:45.734Z"
   },
   {
    "duration": 48,
    "start_time": "2024-03-16T12:11:45.739Z"
   },
   {
    "duration": 6,
    "start_time": "2024-03-16T12:11:45.788Z"
   },
   {
    "duration": 3429,
    "start_time": "2024-03-16T12:11:45.795Z"
   },
   {
    "duration": 122990,
    "start_time": "2024-03-16T12:11:49.316Z"
   },
   {
    "duration": 0,
    "start_time": "2024-03-16T12:13:52.308Z"
   },
   {
    "duration": 1551,
    "start_time": "2024-03-16T12:22:06.994Z"
   },
   {
    "duration": 982,
    "start_time": "2024-03-16T12:22:08.547Z"
   },
   {
    "duration": 19,
    "start_time": "2024-03-16T12:22:09.531Z"
   },
   {
    "duration": 181,
    "start_time": "2024-03-16T12:22:09.552Z"
   },
   {
    "duration": 154,
    "start_time": "2024-03-16T12:22:09.735Z"
   },
   {
    "duration": 548,
    "start_time": "2024-03-16T12:22:09.891Z"
   },
   {
    "duration": 538,
    "start_time": "2024-03-16T12:22:10.440Z"
   },
   {
    "duration": 515,
    "start_time": "2024-03-16T12:22:10.980Z"
   },
   {
    "duration": 38,
    "start_time": "2024-03-16T12:22:11.497Z"
   },
   {
    "duration": 108,
    "start_time": "2024-03-16T12:22:11.538Z"
   },
   {
    "duration": 5,
    "start_time": "2024-03-16T12:22:11.648Z"
   },
   {
    "duration": 54,
    "start_time": "2024-03-16T12:22:11.655Z"
   },
   {
    "duration": 38,
    "start_time": "2024-03-16T12:22:11.711Z"
   },
   {
    "duration": 24,
    "start_time": "2024-03-16T12:22:11.751Z"
   },
   {
    "duration": 22,
    "start_time": "2024-03-16T12:22:11.776Z"
   },
   {
    "duration": 33,
    "start_time": "2024-03-16T12:22:11.800Z"
   },
   {
    "duration": 24,
    "start_time": "2024-03-16T12:22:11.835Z"
   },
   {
    "duration": 36,
    "start_time": "2024-03-16T12:22:11.860Z"
   },
   {
    "duration": 44,
    "start_time": "2024-03-16T12:22:11.897Z"
   },
   {
    "duration": 21,
    "start_time": "2024-03-16T12:22:11.943Z"
   },
   {
    "duration": 20,
    "start_time": "2024-03-16T12:22:11.966Z"
   },
   {
    "duration": 54,
    "start_time": "2024-03-16T12:22:11.988Z"
   },
   {
    "duration": 22,
    "start_time": "2024-03-16T12:22:12.044Z"
   },
   {
    "duration": 57,
    "start_time": "2024-03-16T12:22:12.068Z"
   },
   {
    "duration": 110,
    "start_time": "2024-03-16T12:22:12.131Z"
   },
   {
    "duration": 24,
    "start_time": "2024-03-16T12:22:12.243Z"
   },
   {
    "duration": 123,
    "start_time": "2024-03-16T12:22:12.269Z"
   },
   {
    "duration": 131,
    "start_time": "2024-03-16T12:22:12.396Z"
   },
   {
    "duration": 196,
    "start_time": "2024-03-16T12:22:12.528Z"
   },
   {
    "duration": 45,
    "start_time": "2024-03-16T12:22:12.728Z"
   },
   {
    "duration": 26,
    "start_time": "2024-03-16T12:22:12.774Z"
   },
   {
    "duration": 80,
    "start_time": "2024-03-16T12:22:12.802Z"
   },
   {
    "duration": 8,
    "start_time": "2024-03-16T12:22:12.884Z"
   },
   {
    "duration": 6,
    "start_time": "2024-03-16T12:22:12.894Z"
   },
   {
    "duration": 29,
    "start_time": "2024-03-16T12:22:12.920Z"
   },
   {
    "duration": 173,
    "start_time": "2024-03-16T12:22:12.951Z"
   },
   {
    "duration": 15,
    "start_time": "2024-03-16T12:22:13.131Z"
   },
   {
    "duration": 17,
    "start_time": "2024-03-16T12:22:13.148Z"
   },
   {
    "duration": 227,
    "start_time": "2024-03-16T12:22:13.167Z"
   },
   {
    "duration": 31,
    "start_time": "2024-03-16T12:22:13.395Z"
   },
   {
    "duration": 18,
    "start_time": "2024-03-16T12:22:13.430Z"
   },
   {
    "duration": 18,
    "start_time": "2024-03-16T12:22:13.450Z"
   },
   {
    "duration": 4,
    "start_time": "2024-03-16T12:22:13.470Z"
   },
   {
    "duration": 167,
    "start_time": "2024-03-16T12:22:13.476Z"
   },
   {
    "duration": 17,
    "start_time": "2024-03-16T12:22:13.644Z"
   },
   {
    "duration": 203,
    "start_time": "2024-03-16T12:22:13.663Z"
   },
   {
    "duration": 156,
    "start_time": "2024-03-16T12:22:13.867Z"
   },
   {
    "duration": 8,
    "start_time": "2024-03-16T12:22:14.030Z"
   },
   {
    "duration": 16,
    "start_time": "2024-03-16T12:22:14.039Z"
   },
   {
    "duration": 86,
    "start_time": "2024-03-16T12:22:14.057Z"
   },
   {
    "duration": 132,
    "start_time": "2024-03-16T12:22:14.145Z"
   },
   {
    "duration": 133,
    "start_time": "2024-03-16T12:22:14.279Z"
   },
   {
    "duration": 140,
    "start_time": "2024-03-16T12:22:14.414Z"
   },
   {
    "duration": 100,
    "start_time": "2024-03-16T12:22:14.556Z"
   },
   {
    "duration": 93,
    "start_time": "2024-03-16T12:22:14.658Z"
   },
   {
    "duration": 4,
    "start_time": "2024-03-16T12:22:14.753Z"
   },
   {
    "duration": 11,
    "start_time": "2024-03-16T12:22:14.758Z"
   },
   {
    "duration": 443,
    "start_time": "2024-03-16T12:22:14.771Z"
   },
   {
    "duration": 9,
    "start_time": "2024-03-16T12:22:15.222Z"
   },
   {
    "duration": 41,
    "start_time": "2024-03-16T12:22:15.233Z"
   },
   {
    "duration": 5,
    "start_time": "2024-03-16T12:22:15.276Z"
   },
   {
    "duration": 3038,
    "start_time": "2024-03-16T12:22:15.283Z"
   },
   {
    "duration": 397315,
    "start_time": "2024-03-16T12:22:18.327Z"
   },
   {
    "duration": 59430,
    "start_time": "2024-03-16T12:28:55.644Z"
   },
   {
    "duration": 5,
    "start_time": "2024-03-16T12:32:50.981Z"
   },
   {
    "duration": 535852,
    "start_time": "2024-03-16T12:32:54.869Z"
   },
   {
    "duration": 4,
    "start_time": "2024-03-16T12:43:33.859Z"
   },
   {
    "duration": 7,
    "start_time": "2024-03-16T12:43:45.571Z"
   },
   {
    "duration": 364426,
    "start_time": "2024-03-16T12:43:48.421Z"
   },
   {
    "duration": 5,
    "start_time": "2024-03-16T12:59:15.409Z"
   },
   {
    "duration": 1575,
    "start_time": "2024-03-16T13:01:08.948Z"
   },
   {
    "duration": 984,
    "start_time": "2024-03-16T13:01:10.525Z"
   },
   {
    "duration": 29,
    "start_time": "2024-03-16T13:01:11.511Z"
   },
   {
    "duration": 169,
    "start_time": "2024-03-16T13:01:11.543Z"
   },
   {
    "duration": 162,
    "start_time": "2024-03-16T13:01:11.713Z"
   },
   {
    "duration": 553,
    "start_time": "2024-03-16T13:01:11.877Z"
   },
   {
    "duration": 549,
    "start_time": "2024-03-16T13:01:12.432Z"
   },
   {
    "duration": 519,
    "start_time": "2024-03-16T13:01:12.983Z"
   },
   {
    "duration": 46,
    "start_time": "2024-03-16T13:01:13.504Z"
   },
   {
    "duration": 100,
    "start_time": "2024-03-16T13:01:13.553Z"
   },
   {
    "duration": 5,
    "start_time": "2024-03-16T13:01:13.655Z"
   },
   {
    "duration": 42,
    "start_time": "2024-03-16T13:01:13.661Z"
   },
   {
    "duration": 40,
    "start_time": "2024-03-16T13:01:13.705Z"
   },
   {
    "duration": 23,
    "start_time": "2024-03-16T13:01:13.747Z"
   },
   {
    "duration": 33,
    "start_time": "2024-03-16T13:01:13.772Z"
   },
   {
    "duration": 37,
    "start_time": "2024-03-16T13:01:13.807Z"
   },
   {
    "duration": 29,
    "start_time": "2024-03-16T13:01:13.846Z"
   },
   {
    "duration": 21,
    "start_time": "2024-03-16T13:01:13.877Z"
   },
   {
    "duration": 64,
    "start_time": "2024-03-16T13:01:13.900Z"
   },
   {
    "duration": 37,
    "start_time": "2024-03-16T13:01:13.966Z"
   },
   {
    "duration": 36,
    "start_time": "2024-03-16T13:01:14.005Z"
   },
   {
    "duration": 34,
    "start_time": "2024-03-16T13:01:14.042Z"
   },
   {
    "duration": 23,
    "start_time": "2024-03-16T13:01:14.077Z"
   },
   {
    "duration": 53,
    "start_time": "2024-03-16T13:01:14.102Z"
   },
   {
    "duration": 131,
    "start_time": "2024-03-16T13:01:14.157Z"
   },
   {
    "duration": 22,
    "start_time": "2024-03-16T13:01:14.290Z"
   },
   {
    "duration": 122,
    "start_time": "2024-03-16T13:01:14.319Z"
   },
   {
    "duration": 113,
    "start_time": "2024-03-16T13:01:14.445Z"
   },
   {
    "duration": 190,
    "start_time": "2024-03-16T13:01:14.559Z"
   },
   {
    "duration": 35,
    "start_time": "2024-03-16T13:01:14.751Z"
   },
   {
    "duration": 51,
    "start_time": "2024-03-16T13:01:14.787Z"
   },
   {
    "duration": 59,
    "start_time": "2024-03-16T13:01:14.843Z"
   },
   {
    "duration": 24,
    "start_time": "2024-03-16T13:01:14.904Z"
   },
   {
    "duration": 24,
    "start_time": "2024-03-16T13:01:14.929Z"
   },
   {
    "duration": 38,
    "start_time": "2024-03-16T13:01:14.955Z"
   },
   {
    "duration": 175,
    "start_time": "2024-03-16T13:01:14.995Z"
   },
   {
    "duration": 13,
    "start_time": "2024-03-16T13:01:15.171Z"
   },
   {
    "duration": 43,
    "start_time": "2024-03-16T13:01:15.186Z"
   },
   {
    "duration": 219,
    "start_time": "2024-03-16T13:01:15.231Z"
   },
   {
    "duration": 18,
    "start_time": "2024-03-16T13:01:15.452Z"
   },
   {
    "duration": 40,
    "start_time": "2024-03-16T13:01:15.471Z"
   },
   {
    "duration": 46,
    "start_time": "2024-03-16T13:01:15.513Z"
   },
   {
    "duration": 17,
    "start_time": "2024-03-16T13:01:15.560Z"
   },
   {
    "duration": 158,
    "start_time": "2024-03-16T13:01:15.578Z"
   },
   {
    "duration": 17,
    "start_time": "2024-03-16T13:01:15.738Z"
   },
   {
    "duration": 232,
    "start_time": "2024-03-16T13:01:15.757Z"
   },
   {
    "duration": 167,
    "start_time": "2024-03-16T13:01:15.992Z"
   },
   {
    "duration": 6,
    "start_time": "2024-03-16T13:01:16.161Z"
   },
   {
    "duration": 22,
    "start_time": "2024-03-16T13:01:16.168Z"
   },
   {
    "duration": 93,
    "start_time": "2024-03-16T13:01:16.191Z"
   },
   {
    "duration": 120,
    "start_time": "2024-03-16T13:01:16.286Z"
   },
   {
    "duration": 138,
    "start_time": "2024-03-16T13:01:16.408Z"
   },
   {
    "duration": 106,
    "start_time": "2024-03-16T13:01:16.547Z"
   },
   {
    "duration": 75,
    "start_time": "2024-03-16T13:01:16.655Z"
   },
   {
    "duration": 66,
    "start_time": "2024-03-16T13:01:16.732Z"
   },
   {
    "duration": 3,
    "start_time": "2024-03-16T13:01:16.800Z"
   },
   {
    "duration": 27,
    "start_time": "2024-03-16T13:01:16.804Z"
   },
   {
    "duration": 424,
    "start_time": "2024-03-16T13:01:16.834Z"
   },
   {
    "duration": 3,
    "start_time": "2024-03-16T13:01:17.260Z"
   },
   {
    "duration": 46,
    "start_time": "2024-03-16T13:01:17.264Z"
   },
   {
    "duration": 12,
    "start_time": "2024-03-16T13:01:17.314Z"
   },
   {
    "duration": 2590,
    "start_time": "2024-03-16T13:01:17.328Z"
   },
   {
    "duration": 6,
    "start_time": "2024-03-16T13:01:19.920Z"
   },
   {
    "duration": 83150,
    "start_time": "2024-03-16T13:01:19.928Z"
   },
   {
    "duration": 0,
    "start_time": "2024-03-16T13:02:43.080Z"
   },
   {
    "duration": 0,
    "start_time": "2024-03-16T13:02:43.081Z"
   },
   {
    "duration": 0,
    "start_time": "2024-03-16T13:02:43.083Z"
   },
   {
    "duration": 0,
    "start_time": "2024-03-16T13:02:43.084Z"
   },
   {
    "duration": 0,
    "start_time": "2024-03-16T13:02:43.084Z"
   },
   {
    "duration": 0,
    "start_time": "2024-03-16T13:02:43.086Z"
   },
   {
    "duration": 7,
    "start_time": "2024-03-16T13:11:55.038Z"
   },
   {
    "duration": 3488,
    "start_time": "2024-03-16T13:11:55.837Z"
   },
   {
    "duration": 3,
    "start_time": "2024-03-16T13:11:59.456Z"
   },
   {
    "duration": 108353,
    "start_time": "2024-03-16T13:12:04.710Z"
   },
   {
    "duration": 0,
    "start_time": "2024-03-16T13:13:53.065Z"
   },
   {
    "duration": 0,
    "start_time": "2024-03-16T13:13:53.066Z"
   },
   {
    "duration": 0,
    "start_time": "2024-03-16T13:13:53.067Z"
   },
   {
    "duration": 18,
    "start_time": "2024-03-16T13:15:51.911Z"
   },
   {
    "duration": 2990,
    "start_time": "2024-03-16T13:15:52.343Z"
   },
   {
    "duration": 203889,
    "start_time": "2024-03-16T13:16:17.063Z"
   },
   {
    "duration": 0,
    "start_time": "2024-03-16T13:19:40.955Z"
   },
   {
    "duration": 35338,
    "start_time": "2024-03-16T13:19:44.392Z"
   },
   {
    "duration": 89,
    "start_time": "2024-03-16T13:23:42.034Z"
   },
   {
    "duration": 3,
    "start_time": "2024-03-16T13:23:42.272Z"
   },
   {
    "duration": 3,
    "start_time": "2024-03-16T13:23:42.627Z"
   },
   {
    "duration": 424,
    "start_time": "2024-03-16T13:23:42.808Z"
   },
   {
    "duration": 3,
    "start_time": "2024-03-16T13:23:43.360Z"
   },
   {
    "duration": 27,
    "start_time": "2024-03-16T13:23:43.553Z"
   },
   {
    "duration": 3156,
    "start_time": "2024-03-16T13:23:43.760Z"
   },
   {
    "duration": 127357,
    "start_time": "2024-03-16T13:24:01.978Z"
   },
   {
    "duration": 1532,
    "start_time": "2024-03-16T13:26:46.047Z"
   },
   {
    "duration": 1017,
    "start_time": "2024-03-16T13:26:47.580Z"
   },
   {
    "duration": 25,
    "start_time": "2024-03-16T13:26:48.598Z"
   },
   {
    "duration": 172,
    "start_time": "2024-03-16T13:26:48.629Z"
   },
   {
    "duration": 221,
    "start_time": "2024-03-16T13:26:48.803Z"
   },
   {
    "duration": 530,
    "start_time": "2024-03-16T13:26:49.029Z"
   },
   {
    "duration": 595,
    "start_time": "2024-03-16T13:26:49.560Z"
   },
   {
    "duration": 547,
    "start_time": "2024-03-16T13:26:50.157Z"
   },
   {
    "duration": 36,
    "start_time": "2024-03-16T13:26:50.706Z"
   },
   {
    "duration": 116,
    "start_time": "2024-03-16T13:26:50.745Z"
   },
   {
    "duration": 4,
    "start_time": "2024-03-16T13:26:50.862Z"
   },
   {
    "duration": 39,
    "start_time": "2024-03-16T13:26:50.867Z"
   },
   {
    "duration": 36,
    "start_time": "2024-03-16T13:26:50.907Z"
   },
   {
    "duration": 22,
    "start_time": "2024-03-16T13:26:50.945Z"
   },
   {
    "duration": 33,
    "start_time": "2024-03-16T13:26:50.968Z"
   },
   {
    "duration": 38,
    "start_time": "2024-03-16T13:26:51.003Z"
   },
   {
    "duration": 26,
    "start_time": "2024-03-16T13:26:51.043Z"
   },
   {
    "duration": 33,
    "start_time": "2024-03-16T13:26:51.071Z"
   },
   {
    "duration": 46,
    "start_time": "2024-03-16T13:26:51.106Z"
   },
   {
    "duration": 49,
    "start_time": "2024-03-16T13:26:51.154Z"
   },
   {
    "duration": 31,
    "start_time": "2024-03-16T13:26:51.205Z"
   },
   {
    "duration": 35,
    "start_time": "2024-03-16T13:26:51.238Z"
   },
   {
    "duration": 23,
    "start_time": "2024-03-16T13:26:51.274Z"
   },
   {
    "duration": 50,
    "start_time": "2024-03-16T13:26:51.299Z"
   },
   {
    "duration": 123,
    "start_time": "2024-03-16T13:26:51.350Z"
   },
   {
    "duration": 24,
    "start_time": "2024-03-16T13:26:51.475Z"
   },
   {
    "duration": 133,
    "start_time": "2024-03-16T13:26:51.500Z"
   },
   {
    "duration": 115,
    "start_time": "2024-03-16T13:26:51.639Z"
   },
   {
    "duration": 198,
    "start_time": "2024-03-16T13:26:51.756Z"
   },
   {
    "duration": 37,
    "start_time": "2024-03-16T13:26:51.955Z"
   },
   {
    "duration": 43,
    "start_time": "2024-03-16T13:26:51.994Z"
   },
   {
    "duration": 53,
    "start_time": "2024-03-16T13:26:52.039Z"
   },
   {
    "duration": 22,
    "start_time": "2024-03-16T13:26:52.093Z"
   },
   {
    "duration": 12,
    "start_time": "2024-03-16T13:26:52.116Z"
   },
   {
    "duration": 28,
    "start_time": "2024-03-16T13:26:52.130Z"
   },
   {
    "duration": 136,
    "start_time": "2024-03-16T13:26:52.160Z"
   },
   {
    "duration": 30,
    "start_time": "2024-03-16T13:26:52.297Z"
   },
   {
    "duration": 27,
    "start_time": "2024-03-16T13:26:52.329Z"
   },
   {
    "duration": 203,
    "start_time": "2024-03-16T13:26:52.358Z"
   },
   {
    "duration": 19,
    "start_time": "2024-03-16T13:26:52.563Z"
   },
   {
    "duration": 37,
    "start_time": "2024-03-16T13:26:52.584Z"
   },
   {
    "duration": 17,
    "start_time": "2024-03-16T13:26:52.628Z"
   },
   {
    "duration": 4,
    "start_time": "2024-03-16T13:26:52.647Z"
   },
   {
    "duration": 163,
    "start_time": "2024-03-16T13:26:52.652Z"
   },
   {
    "duration": 23,
    "start_time": "2024-03-16T13:26:52.817Z"
   },
   {
    "duration": 219,
    "start_time": "2024-03-16T13:26:52.843Z"
   },
   {
    "duration": 132,
    "start_time": "2024-03-16T13:26:53.064Z"
   },
   {
    "duration": 4,
    "start_time": "2024-03-16T13:26:53.198Z"
   },
   {
    "duration": 30,
    "start_time": "2024-03-16T13:26:53.203Z"
   },
   {
    "duration": 68,
    "start_time": "2024-03-16T13:26:53.235Z"
   },
   {
    "duration": 127,
    "start_time": "2024-03-16T13:26:53.304Z"
   },
   {
    "duration": 110,
    "start_time": "2024-03-16T13:26:53.433Z"
   },
   {
    "duration": 104,
    "start_time": "2024-03-16T13:26:53.545Z"
   },
   {
    "duration": 76,
    "start_time": "2024-03-16T13:26:53.651Z"
   },
   {
    "duration": 73,
    "start_time": "2024-03-16T13:26:53.728Z"
   },
   {
    "duration": 13,
    "start_time": "2024-03-16T13:26:53.802Z"
   },
   {
    "duration": 10,
    "start_time": "2024-03-16T13:26:53.816Z"
   },
   {
    "duration": 423,
    "start_time": "2024-03-16T13:26:53.828Z"
   },
   {
    "duration": 3,
    "start_time": "2024-03-16T13:26:54.253Z"
   },
   {
    "duration": 34,
    "start_time": "2024-03-16T13:26:54.257Z"
   },
   {
    "duration": 2847,
    "start_time": "2024-03-16T13:26:54.293Z"
   },
   {
    "duration": 393684,
    "start_time": "2024-03-16T13:26:57.222Z"
   },
   {
    "duration": 736912,
    "start_time": "2024-03-16T13:33:30.919Z"
   },
   {
    "duration": 9,
    "start_time": "2024-03-16T13:45:47.836Z"
   },
   {
    "duration": 3171,
    "start_time": "2024-03-16T13:45:47.846Z"
   },
   {
    "duration": 85871,
    "start_time": "2024-03-16T13:45:51.027Z"
   },
   {
    "duration": 0,
    "start_time": "2024-03-16T13:47:16.900Z"
   },
   {
    "duration": 5,
    "start_time": "2024-03-16T13:52:34.823Z"
   },
   {
    "duration": 3070,
    "start_time": "2024-03-16T13:52:35.148Z"
   },
   {
    "duration": 84780,
    "start_time": "2024-03-16T13:52:38.221Z"
   },
   {
    "duration": 30,
    "start_time": "2024-03-16T13:57:51.661Z"
   },
   {
    "duration": 4,
    "start_time": "2024-03-16T13:57:52.109Z"
   },
   {
    "duration": 12,
    "start_time": "2024-03-16T13:57:52.693Z"
   },
   {
    "duration": 4,
    "start_time": "2024-03-16T13:58:12.293Z"
   },
   {
    "duration": 13,
    "start_time": "2024-03-16T13:58:24.365Z"
   },
   {
    "duration": 3,
    "start_time": "2024-03-16T13:58:26.653Z"
   },
   {
    "duration": 13,
    "start_time": "2024-03-16T13:58:26.965Z"
   },
   {
    "duration": 5,
    "start_time": "2024-03-16T14:00:06.773Z"
   },
   {
    "duration": 77,
    "start_time": "2024-03-16T14:00:16.294Z"
   },
   {
    "duration": 2,
    "start_time": "2024-03-16T14:00:16.494Z"
   },
   {
    "duration": 3,
    "start_time": "2024-03-16T14:00:16.837Z"
   },
   {
    "duration": 418,
    "start_time": "2024-03-16T14:00:17.013Z"
   },
   {
    "duration": 2,
    "start_time": "2024-03-16T14:00:17.582Z"
   },
   {
    "duration": 27,
    "start_time": "2024-03-16T14:00:17.749Z"
   },
   {
    "duration": 4,
    "start_time": "2024-03-16T14:00:17.941Z"
   },
   {
    "duration": 13,
    "start_time": "2024-03-16T14:00:18.158Z"
   },
   {
    "duration": 19,
    "start_time": "2024-03-16T14:00:19.101Z"
   },
   {
    "duration": 4,
    "start_time": "2024-03-16T14:01:44.950Z"
   },
   {
    "duration": 15,
    "start_time": "2024-03-16T14:01:55.927Z"
   },
   {
    "duration": 4,
    "start_time": "2024-03-16T14:01:58.478Z"
   },
   {
    "duration": 13,
    "start_time": "2024-03-16T14:01:58.886Z"
   },
   {
    "duration": 5,
    "start_time": "2024-03-16T14:02:26.782Z"
   },
   {
    "duration": 4,
    "start_time": "2024-03-16T14:02:36.471Z"
   },
   {
    "duration": 3229,
    "start_time": "2024-03-16T14:02:36.990Z"
   },
   {
    "duration": 473089,
    "start_time": "2024-03-16T14:03:25.240Z"
   },
   {
    "duration": 778504,
    "start_time": "2024-03-16T14:11:18.333Z"
   },
   {
    "duration": 4,
    "start_time": "2024-03-16T15:07:59.683Z"
   },
   {
    "duration": 78,
    "start_time": "2024-03-16T15:08:11.875Z"
   },
   {
    "duration": 3,
    "start_time": "2024-03-16T15:08:12.574Z"
   },
   {
    "duration": 3,
    "start_time": "2024-03-16T15:08:13.369Z"
   },
   {
    "duration": 377,
    "start_time": "2024-03-16T15:08:13.551Z"
   },
   {
    "duration": 2,
    "start_time": "2024-03-16T15:08:14.112Z"
   },
   {
    "duration": 26,
    "start_time": "2024-03-16T15:08:14.572Z"
   },
   {
    "duration": 4,
    "start_time": "2024-03-16T15:08:15.072Z"
   },
   {
    "duration": 3273,
    "start_time": "2024-03-16T15:08:17.850Z"
   },
   {
    "duration": 56803,
    "start_time": "2024-03-16T15:08:21.126Z"
   },
   {
    "duration": 0,
    "start_time": "2024-03-16T15:09:17.931Z"
   },
   {
    "duration": 4,
    "start_time": "2024-03-16T15:09:19.450Z"
   },
   {
    "duration": 2925,
    "start_time": "2024-03-16T15:09:20.091Z"
   },
   {
    "duration": 18730,
    "start_time": "2024-03-16T15:09:25.154Z"
   },
   {
    "duration": 1550,
    "start_time": "2024-03-16T15:10:13.006Z"
   },
   {
    "duration": 950,
    "start_time": "2024-03-16T15:10:14.558Z"
   },
   {
    "duration": 23,
    "start_time": "2024-03-16T15:10:15.509Z"
   },
   {
    "duration": 183,
    "start_time": "2024-03-16T15:10:15.535Z"
   },
   {
    "duration": 175,
    "start_time": "2024-03-16T15:10:15.722Z"
   },
   {
    "duration": 549,
    "start_time": "2024-03-16T15:10:15.898Z"
   },
   {
    "duration": 555,
    "start_time": "2024-03-16T15:10:16.448Z"
   },
   {
    "duration": 523,
    "start_time": "2024-03-16T15:10:17.005Z"
   },
   {
    "duration": 28,
    "start_time": "2024-03-16T15:10:17.534Z"
   },
   {
    "duration": 89,
    "start_time": "2024-03-16T15:10:17.565Z"
   },
   {
    "duration": 3,
    "start_time": "2024-03-16T15:10:17.656Z"
   },
   {
    "duration": 43,
    "start_time": "2024-03-16T15:10:17.661Z"
   },
   {
    "duration": 29,
    "start_time": "2024-03-16T15:10:17.715Z"
   },
   {
    "duration": 21,
    "start_time": "2024-03-16T15:10:17.745Z"
   },
   {
    "duration": 38,
    "start_time": "2024-03-16T15:10:17.767Z"
   },
   {
    "duration": 29,
    "start_time": "2024-03-16T15:10:17.807Z"
   },
   {
    "duration": 28,
    "start_time": "2024-03-16T15:10:17.837Z"
   },
   {
    "duration": 28,
    "start_time": "2024-03-16T15:10:17.866Z"
   },
   {
    "duration": 41,
    "start_time": "2024-03-16T15:10:17.895Z"
   },
   {
    "duration": 23,
    "start_time": "2024-03-16T15:10:17.937Z"
   },
   {
    "duration": 21,
    "start_time": "2024-03-16T15:10:17.962Z"
   },
   {
    "duration": 53,
    "start_time": "2024-03-16T15:10:17.984Z"
   },
   {
    "duration": 21,
    "start_time": "2024-03-16T15:10:18.039Z"
   },
   {
    "duration": 58,
    "start_time": "2024-03-16T15:10:18.062Z"
   },
   {
    "duration": 133,
    "start_time": "2024-03-16T15:10:18.123Z"
   },
   {
    "duration": 22,
    "start_time": "2024-03-16T15:10:18.258Z"
   },
   {
    "duration": 117,
    "start_time": "2024-03-16T15:10:18.281Z"
   },
   {
    "duration": 145,
    "start_time": "2024-03-16T15:10:18.403Z"
   },
   {
    "duration": 199,
    "start_time": "2024-03-16T15:10:18.550Z"
   },
   {
    "duration": 35,
    "start_time": "2024-03-16T15:10:18.751Z"
   },
   {
    "duration": 45,
    "start_time": "2024-03-16T15:10:18.788Z"
   },
   {
    "duration": 52,
    "start_time": "2024-03-16T15:10:18.835Z"
   },
   {
    "duration": 6,
    "start_time": "2024-03-16T15:10:18.889Z"
   },
   {
    "duration": 9,
    "start_time": "2024-03-16T15:10:18.916Z"
   },
   {
    "duration": 18,
    "start_time": "2024-03-16T15:10:18.927Z"
   },
   {
    "duration": 148,
    "start_time": "2024-03-16T15:10:18.947Z"
   },
   {
    "duration": 20,
    "start_time": "2024-03-16T15:10:19.097Z"
   },
   {
    "duration": 21,
    "start_time": "2024-03-16T15:10:19.124Z"
   },
   {
    "duration": 200,
    "start_time": "2024-03-16T15:10:19.147Z"
   },
   {
    "duration": 18,
    "start_time": "2024-03-16T15:10:19.348Z"
   },
   {
    "duration": 18,
    "start_time": "2024-03-16T15:10:19.367Z"
   },
   {
    "duration": 35,
    "start_time": "2024-03-16T15:10:19.386Z"
   },
   {
    "duration": 7,
    "start_time": "2024-03-16T15:10:19.423Z"
   },
   {
    "duration": 148,
    "start_time": "2024-03-16T15:10:19.432Z"
   },
   {
    "duration": 17,
    "start_time": "2024-03-16T15:10:19.581Z"
   },
   {
    "duration": 202,
    "start_time": "2024-03-16T15:10:19.599Z"
   },
   {
    "duration": 134,
    "start_time": "2024-03-16T15:10:19.803Z"
   },
   {
    "duration": 4,
    "start_time": "2024-03-16T15:10:19.939Z"
   },
   {
    "duration": 16,
    "start_time": "2024-03-16T15:10:19.944Z"
   },
   {
    "duration": 92,
    "start_time": "2024-03-16T15:10:19.961Z"
   },
   {
    "duration": 111,
    "start_time": "2024-03-16T15:10:20.054Z"
   },
   {
    "duration": 115,
    "start_time": "2024-03-16T15:10:20.167Z"
   },
   {
    "duration": 101,
    "start_time": "2024-03-16T15:10:20.284Z"
   },
   {
    "duration": 73,
    "start_time": "2024-03-16T15:10:20.387Z"
   },
   {
    "duration": 93,
    "start_time": "2024-03-16T15:10:20.462Z"
   },
   {
    "duration": 4,
    "start_time": "2024-03-16T15:10:20.557Z"
   },
   {
    "duration": 6,
    "start_time": "2024-03-16T15:10:20.563Z"
   },
   {
    "duration": 424,
    "start_time": "2024-03-16T15:10:20.570Z"
   },
   {
    "duration": 3,
    "start_time": "2024-03-16T15:10:20.996Z"
   },
   {
    "duration": 48,
    "start_time": "2024-03-16T15:10:21.001Z"
   },
   {
    "duration": 5,
    "start_time": "2024-03-16T15:10:21.051Z"
   },
   {
    "duration": 2974,
    "start_time": "2024-03-16T15:10:21.057Z"
   },
   {
    "duration": 475894,
    "start_time": "2024-03-16T15:10:24.035Z"
   },
   {
    "duration": 1635300,
    "start_time": "2024-03-16T15:18:19.931Z"
   },
   {
    "duration": 437,
    "start_time": "2024-03-16T16:02:10.281Z"
   },
   {
    "duration": 1598,
    "start_time": "2024-03-18T06:08:40.352Z"
   },
   {
    "duration": 1052,
    "start_time": "2024-03-18T06:08:44.927Z"
   },
   {
    "duration": 17,
    "start_time": "2024-03-18T06:08:45.981Z"
   },
   {
    "duration": 146,
    "start_time": "2024-03-18T06:08:45.999Z"
   },
   {
    "duration": 145,
    "start_time": "2024-03-18T06:08:46.146Z"
   },
   {
    "duration": 454,
    "start_time": "2024-03-18T06:08:47.359Z"
   },
   {
    "duration": 485,
    "start_time": "2024-03-18T06:08:47.815Z"
   },
   {
    "duration": 414,
    "start_time": "2024-03-18T06:08:48.302Z"
   },
   {
    "duration": 25,
    "start_time": "2024-03-18T06:08:49.088Z"
   },
   {
    "duration": 69,
    "start_time": "2024-03-18T06:08:53.865Z"
   },
   {
    "duration": 4,
    "start_time": "2024-03-18T06:08:54.464Z"
   },
   {
    "duration": 39,
    "start_time": "2024-03-18T06:08:55.441Z"
   },
   {
    "duration": 20,
    "start_time": "2024-03-18T06:08:56.465Z"
   },
   {
    "duration": 18,
    "start_time": "2024-03-18T06:08:57.034Z"
   },
   {
    "duration": 19,
    "start_time": "2024-03-18T06:08:58.332Z"
   },
   {
    "duration": 32,
    "start_time": "2024-03-18T06:08:59.229Z"
   },
   {
    "duration": 20,
    "start_time": "2024-03-18T06:08:59.740Z"
   },
   {
    "duration": 18,
    "start_time": "2024-03-18T06:09:01.321Z"
   },
   {
    "duration": 26,
    "start_time": "2024-03-18T06:09:02.035Z"
   },
   {
    "duration": 19,
    "start_time": "2024-03-18T06:09:02.520Z"
   },
   {
    "duration": 17,
    "start_time": "2024-03-18T06:09:03.683Z"
   },
   {
    "duration": 32,
    "start_time": "2024-03-18T06:09:03.903Z"
   },
   {
    "duration": 20,
    "start_time": "2024-03-18T06:09:04.489Z"
   },
   {
    "duration": 33,
    "start_time": "2024-03-18T06:09:04.749Z"
   },
   {
    "duration": 89,
    "start_time": "2024-03-18T06:09:04.974Z"
   },
   {
    "duration": 19,
    "start_time": "2024-03-18T06:09:05.719Z"
   },
   {
    "duration": 86,
    "start_time": "2024-03-18T06:09:05.900Z"
   },
   {
    "duration": 89,
    "start_time": "2024-03-18T06:09:06.424Z"
   },
   {
    "duration": 154,
    "start_time": "2024-03-18T06:09:07.354Z"
   },
   {
    "duration": 34,
    "start_time": "2024-03-18T06:09:07.698Z"
   },
   {
    "duration": 92,
    "start_time": "2024-03-18T06:09:22.282Z"
   },
   {
    "duration": 4,
    "start_time": "2024-03-18T06:11:28.462Z"
   },
   {
    "duration": 806,
    "start_time": "2024-03-18T06:11:29.221Z"
   },
   {
    "duration": 18,
    "start_time": "2024-03-18T06:11:30.029Z"
   },
   {
    "duration": 169,
    "start_time": "2024-03-18T06:11:30.048Z"
   },
   {
    "duration": 203,
    "start_time": "2024-03-18T06:11:30.219Z"
   },
   {
    "duration": 388,
    "start_time": "2024-03-18T06:11:30.423Z"
   },
   {
    "duration": 387,
    "start_time": "2024-03-18T06:11:30.813Z"
   },
   {
    "duration": 379,
    "start_time": "2024-03-18T06:11:31.202Z"
   },
   {
    "duration": 25,
    "start_time": "2024-03-18T06:11:31.583Z"
   },
   {
    "duration": 53,
    "start_time": "2024-03-18T06:11:32.891Z"
   },
   {
    "duration": 4,
    "start_time": "2024-03-18T06:11:33.096Z"
   },
   {
    "duration": 22,
    "start_time": "2024-03-18T06:11:33.258Z"
   },
   {
    "duration": 23,
    "start_time": "2024-03-18T06:11:33.446Z"
   },
   {
    "duration": 22,
    "start_time": "2024-03-18T06:11:33.634Z"
   },
   {
    "duration": 20,
    "start_time": "2024-03-18T06:11:34.169Z"
   },
   {
    "duration": 17,
    "start_time": "2024-03-18T06:11:34.519Z"
   },
   {
    "duration": 21,
    "start_time": "2024-03-18T06:11:34.859Z"
   },
   {
    "duration": 19,
    "start_time": "2024-03-18T06:11:35.539Z"
   },
   {
    "duration": 27,
    "start_time": "2024-03-18T06:11:35.684Z"
   },
   {
    "duration": 21,
    "start_time": "2024-03-18T06:11:36.216Z"
   },
   {
    "duration": 23,
    "start_time": "2024-03-18T06:11:36.982Z"
   },
   {
    "duration": 33,
    "start_time": "2024-03-18T06:11:37.201Z"
   },
   {
    "duration": 20,
    "start_time": "2024-03-18T06:11:37.565Z"
   },
   {
    "duration": 31,
    "start_time": "2024-03-18T06:11:37.755Z"
   },
   {
    "duration": 82,
    "start_time": "2024-03-18T06:11:37.945Z"
   },
   {
    "duration": 20,
    "start_time": "2024-03-18T06:11:38.460Z"
   },
   {
    "duration": 94,
    "start_time": "2024-03-18T06:11:38.656Z"
   },
   {
    "duration": 88,
    "start_time": "2024-03-18T06:11:38.833Z"
   },
   {
    "duration": 215,
    "start_time": "2024-03-18T06:11:39.631Z"
   },
   {
    "duration": 21,
    "start_time": "2024-03-18T06:11:39.848Z"
   },
   {
    "duration": 21,
    "start_time": "2024-03-18T06:11:41.485Z"
   },
   {
    "duration": 44,
    "start_time": "2024-03-18T06:11:41.677Z"
   },
   {
    "duration": 5,
    "start_time": "2024-03-18T06:11:42.389Z"
   },
   {
    "duration": 4,
    "start_time": "2024-03-18T06:11:42.792Z"
   },
   {
    "duration": 15,
    "start_time": "2024-03-18T06:11:43.205Z"
   },
   {
    "duration": 115,
    "start_time": "2024-03-18T06:11:44.214Z"
   },
   {
    "duration": 11,
    "start_time": "2024-03-18T06:11:44.426Z"
   },
   {
    "duration": 15,
    "start_time": "2024-03-18T06:11:44.629Z"
   },
   {
    "duration": 119,
    "start_time": "2024-03-18T06:11:44.841Z"
   },
   {
    "duration": 16,
    "start_time": "2024-03-18T06:11:45.039Z"
   },
   {
    "duration": 16,
    "start_time": "2024-03-18T06:11:45.228Z"
   },
   {
    "duration": 16,
    "start_time": "2024-03-18T06:11:45.439Z"
   },
   {
    "duration": 4,
    "start_time": "2024-03-18T06:11:49.111Z"
   },
   {
    "duration": 117,
    "start_time": "2024-03-18T06:11:49.467Z"
   },
   {
    "duration": 16,
    "start_time": "2024-03-18T06:11:49.655Z"
   },
   {
    "duration": 148,
    "start_time": "2024-03-18T06:11:50.285Z"
   },
   {
    "duration": 106,
    "start_time": "2024-03-18T06:11:50.475Z"
   },
   {
    "duration": 3,
    "start_time": "2024-03-18T06:11:50.651Z"
   },
   {
    "duration": 14,
    "start_time": "2024-03-18T06:11:50.859Z"
   },
   {
    "duration": 57,
    "start_time": "2024-03-18T06:11:51.038Z"
   },
   {
    "duration": 84,
    "start_time": "2024-03-18T06:11:54.350Z"
   },
   {
    "duration": 92,
    "start_time": "2024-03-18T06:11:54.586Z"
   },
   {
    "duration": 122,
    "start_time": "2024-03-18T06:11:54.845Z"
   },
   {
    "duration": 53,
    "start_time": "2024-03-18T06:11:55.050Z"
   },
   {
    "duration": 1340,
    "start_time": "2024-03-18T06:31:39.022Z"
   },
   {
    "duration": 746,
    "start_time": "2024-03-18T06:31:40.363Z"
   },
   {
    "duration": 15,
    "start_time": "2024-03-18T06:31:41.110Z"
   },
   {
    "duration": 139,
    "start_time": "2024-03-18T06:31:41.127Z"
   },
   {
    "duration": 127,
    "start_time": "2024-03-18T06:31:41.268Z"
   },
   {
    "duration": 432,
    "start_time": "2024-03-18T06:31:41.397Z"
   },
   {
    "duration": 464,
    "start_time": "2024-03-18T06:31:41.831Z"
   },
   {
    "duration": 408,
    "start_time": "2024-03-18T06:31:42.296Z"
   },
   {
    "duration": 26,
    "start_time": "2024-03-18T06:31:42.705Z"
   },
   {
    "duration": 81,
    "start_time": "2024-03-18T06:31:42.733Z"
   },
   {
    "duration": 3,
    "start_time": "2024-03-18T06:31:42.816Z"
   },
   {
    "duration": 50,
    "start_time": "2024-03-18T06:31:42.821Z"
   },
   {
    "duration": 20,
    "start_time": "2024-03-18T06:31:42.872Z"
   },
   {
    "duration": 19,
    "start_time": "2024-03-18T06:31:42.894Z"
   },
   {
    "duration": 36,
    "start_time": "2024-03-18T06:31:42.915Z"
   },
   {
    "duration": 21,
    "start_time": "2024-03-18T06:31:42.953Z"
   },
   {
    "duration": 30,
    "start_time": "2024-03-18T06:31:42.976Z"
   },
   {
    "duration": 21,
    "start_time": "2024-03-18T06:31:43.008Z"
   },
   {
    "duration": 31,
    "start_time": "2024-03-18T06:31:43.031Z"
   },
   {
    "duration": 23,
    "start_time": "2024-03-18T06:31:43.063Z"
   },
   {
    "duration": 25,
    "start_time": "2024-03-18T06:31:43.087Z"
   },
   {
    "duration": 42,
    "start_time": "2024-03-18T06:31:43.114Z"
   },
   {
    "duration": 33,
    "start_time": "2024-03-18T06:31:43.157Z"
   },
   {
    "duration": 35,
    "start_time": "2024-03-18T06:31:43.192Z"
   },
   {
    "duration": 91,
    "start_time": "2024-03-18T06:31:43.228Z"
   },
   {
    "duration": 25,
    "start_time": "2024-03-18T06:31:43.320Z"
   },
   {
    "duration": 92,
    "start_time": "2024-03-18T06:31:43.346Z"
   },
   {
    "duration": 112,
    "start_time": "2024-03-18T06:31:43.447Z"
   },
   {
    "duration": 162,
    "start_time": "2024-03-18T06:31:43.560Z"
   },
   {
    "duration": 45,
    "start_time": "2024-03-18T06:31:43.724Z"
   },
   {
    "duration": 26,
    "start_time": "2024-03-18T06:31:43.771Z"
   },
   {
    "duration": 57,
    "start_time": "2024-03-18T06:31:43.798Z"
   },
   {
    "duration": 5,
    "start_time": "2024-03-18T06:31:43.856Z"
   },
   {
    "duration": 5,
    "start_time": "2024-03-18T06:31:43.863Z"
   },
   {
    "duration": 17,
    "start_time": "2024-03-18T06:31:43.869Z"
   },
   {
    "duration": 130,
    "start_time": "2024-03-18T06:31:43.888Z"
   },
   {
    "duration": 12,
    "start_time": "2024-03-18T06:31:44.019Z"
   },
   {
    "duration": 16,
    "start_time": "2024-03-18T06:31:44.044Z"
   },
   {
    "duration": 173,
    "start_time": "2024-03-18T06:31:44.061Z"
   },
   {
    "duration": 22,
    "start_time": "2024-03-18T06:31:44.236Z"
   },
   {
    "duration": 37,
    "start_time": "2024-03-18T06:31:44.260Z"
   },
   {
    "duration": 15,
    "start_time": "2024-03-18T06:31:44.299Z"
   },
   {
    "duration": 4,
    "start_time": "2024-03-18T06:31:44.315Z"
   },
   {
    "duration": 117,
    "start_time": "2024-03-18T06:31:44.320Z"
   },
   {
    "duration": 19,
    "start_time": "2024-03-18T06:31:44.439Z"
   },
   {
    "duration": 160,
    "start_time": "2024-03-18T06:31:44.459Z"
   },
   {
    "duration": 120,
    "start_time": "2024-03-18T06:31:44.620Z"
   },
   {
    "duration": 4,
    "start_time": "2024-03-18T06:31:44.744Z"
   },
   {
    "duration": 17,
    "start_time": "2024-03-18T06:31:44.750Z"
   },
   {
    "duration": 81,
    "start_time": "2024-03-18T06:31:44.768Z"
   },
   {
    "duration": 81,
    "start_time": "2024-03-18T06:31:44.850Z"
   },
   {
    "duration": 100,
    "start_time": "2024-03-18T06:31:44.932Z"
   },
   {
    "duration": 86,
    "start_time": "2024-03-18T06:31:45.034Z"
   },
   {
    "duration": 61,
    "start_time": "2024-03-18T06:31:45.121Z"
   },
   {
    "duration": 74,
    "start_time": "2024-03-18T06:31:45.184Z"
   },
   {
    "duration": 3,
    "start_time": "2024-03-18T06:31:45.259Z"
   },
   {
    "duration": 25,
    "start_time": "2024-03-18T06:31:45.263Z"
   },
   {
    "duration": 147,
    "start_time": "2024-03-18T06:31:45.289Z"
   },
   {
    "duration": 0,
    "start_time": "2024-03-18T06:31:45.437Z"
   },
   {
    "duration": 0,
    "start_time": "2024-03-18T06:31:45.439Z"
   },
   {
    "duration": 0,
    "start_time": "2024-03-18T06:31:45.439Z"
   },
   {
    "duration": 0,
    "start_time": "2024-03-18T06:31:45.445Z"
   },
   {
    "duration": 0,
    "start_time": "2024-03-18T06:31:45.446Z"
   },
   {
    "duration": 0,
    "start_time": "2024-03-18T06:31:45.447Z"
   },
   {
    "duration": 0,
    "start_time": "2024-03-18T06:31:45.447Z"
   },
   {
    "duration": 0,
    "start_time": "2024-03-18T06:31:45.448Z"
   },
   {
    "duration": 0,
    "start_time": "2024-03-18T06:31:45.449Z"
   },
   {
    "duration": 1387,
    "start_time": "2024-03-18T06:59:43.527Z"
   },
   {
    "duration": 810,
    "start_time": "2024-03-18T06:59:44.916Z"
   },
   {
    "duration": 22,
    "start_time": "2024-03-18T06:59:45.728Z"
   },
   {
    "duration": 172,
    "start_time": "2024-03-18T06:59:45.752Z"
   },
   {
    "duration": 133,
    "start_time": "2024-03-18T06:59:45.925Z"
   },
   {
    "duration": 428,
    "start_time": "2024-03-18T06:59:46.059Z"
   },
   {
    "duration": 457,
    "start_time": "2024-03-18T06:59:46.489Z"
   },
   {
    "duration": 458,
    "start_time": "2024-03-18T06:59:46.947Z"
   },
   {
    "duration": 26,
    "start_time": "2024-03-18T06:59:47.407Z"
   },
   {
    "duration": 70,
    "start_time": "2024-03-18T06:59:47.444Z"
   },
   {
    "duration": 4,
    "start_time": "2024-03-18T06:59:47.515Z"
   },
   {
    "duration": 50,
    "start_time": "2024-03-18T06:59:47.520Z"
   },
   {
    "duration": 20,
    "start_time": "2024-03-18T06:59:47.571Z"
   },
   {
    "duration": 32,
    "start_time": "2024-03-18T06:59:47.592Z"
   },
   {
    "duration": 25,
    "start_time": "2024-03-18T06:59:47.626Z"
   },
   {
    "duration": 27,
    "start_time": "2024-03-18T06:59:47.653Z"
   },
   {
    "duration": 29,
    "start_time": "2024-03-18T06:59:47.682Z"
   },
   {
    "duration": 37,
    "start_time": "2024-03-18T06:59:47.712Z"
   },
   {
    "duration": 58,
    "start_time": "2024-03-18T06:59:47.751Z"
   },
   {
    "duration": 21,
    "start_time": "2024-03-18T06:59:47.810Z"
   },
   {
    "duration": 21,
    "start_time": "2024-03-18T06:59:47.832Z"
   },
   {
    "duration": 31,
    "start_time": "2024-03-18T06:59:47.855Z"
   },
   {
    "duration": 19,
    "start_time": "2024-03-18T06:59:47.888Z"
   },
   {
    "duration": 39,
    "start_time": "2024-03-18T06:59:47.909Z"
   },
   {
    "duration": 100,
    "start_time": "2024-03-18T06:59:47.949Z"
   },
   {
    "duration": 19,
    "start_time": "2024-03-18T06:59:48.050Z"
   },
   {
    "duration": 97,
    "start_time": "2024-03-18T06:59:48.071Z"
   },
   {
    "duration": 123,
    "start_time": "2024-03-18T06:59:48.172Z"
   },
   {
    "duration": 179,
    "start_time": "2024-03-18T06:59:48.296Z"
   },
   {
    "duration": 33,
    "start_time": "2024-03-18T06:59:48.476Z"
   },
   {
    "duration": 35,
    "start_time": "2024-03-18T06:59:48.510Z"
   },
   {
    "duration": 46,
    "start_time": "2024-03-18T06:59:48.546Z"
   },
   {
    "duration": 5,
    "start_time": "2024-03-18T06:59:48.593Z"
   },
   {
    "duration": 23,
    "start_time": "2024-03-18T06:59:48.599Z"
   },
   {
    "duration": 37,
    "start_time": "2024-03-18T06:59:48.623Z"
   },
   {
    "duration": 115,
    "start_time": "2024-03-18T06:59:48.662Z"
   },
   {
    "duration": 11,
    "start_time": "2024-03-18T06:59:48.778Z"
   },
   {
    "duration": 22,
    "start_time": "2024-03-18T06:59:48.791Z"
   },
   {
    "duration": 184,
    "start_time": "2024-03-18T06:59:48.814Z"
   },
   {
    "duration": 16,
    "start_time": "2024-03-18T06:59:49.000Z"
   },
   {
    "duration": 32,
    "start_time": "2024-03-18T06:59:49.017Z"
   },
   {
    "duration": 15,
    "start_time": "2024-03-18T06:59:49.051Z"
   },
   {
    "duration": 3,
    "start_time": "2024-03-18T06:59:49.068Z"
   },
   {
    "duration": 131,
    "start_time": "2024-03-18T06:59:49.072Z"
   },
   {
    "duration": 16,
    "start_time": "2024-03-18T06:59:49.205Z"
   },
   {
    "duration": 175,
    "start_time": "2024-03-18T06:59:49.222Z"
   },
   {
    "duration": 114,
    "start_time": "2024-03-18T06:59:49.399Z"
   },
   {
    "duration": 4,
    "start_time": "2024-03-18T06:59:49.515Z"
   },
   {
    "duration": 47,
    "start_time": "2024-03-18T06:59:49.520Z"
   },
   {
    "duration": 62,
    "start_time": "2024-03-18T06:59:49.569Z"
   },
   {
    "duration": 115,
    "start_time": "2024-03-18T06:59:49.633Z"
   },
   {
    "duration": 99,
    "start_time": "2024-03-18T06:59:49.750Z"
   },
   {
    "duration": 80,
    "start_time": "2024-03-18T06:59:49.851Z"
   },
   {
    "duration": 65,
    "start_time": "2024-03-18T06:59:49.933Z"
   },
   {
    "duration": 97,
    "start_time": "2024-03-18T06:59:50.000Z"
   },
   {
    "duration": 3,
    "start_time": "2024-03-18T06:59:50.098Z"
   },
   {
    "duration": 8,
    "start_time": "2024-03-18T06:59:50.102Z"
   },
   {
    "duration": 20,
    "start_time": "2024-03-18T06:59:50.112Z"
   },
   {
    "duration": 119,
    "start_time": "2024-03-18T06:59:50.133Z"
   },
   {
    "duration": 0,
    "start_time": "2024-03-18T06:59:50.253Z"
   },
   {
    "duration": 0,
    "start_time": "2024-03-18T06:59:50.254Z"
   },
   {
    "duration": 0,
    "start_time": "2024-03-18T06:59:50.256Z"
   },
   {
    "duration": 0,
    "start_time": "2024-03-18T06:59:50.257Z"
   },
   {
    "duration": 0,
    "start_time": "2024-03-18T06:59:50.257Z"
   },
   {
    "duration": 0,
    "start_time": "2024-03-18T06:59:50.258Z"
   },
   {
    "duration": 0,
    "start_time": "2024-03-18T06:59:50.259Z"
   },
   {
    "duration": 0,
    "start_time": "2024-03-18T06:59:50.260Z"
   },
   {
    "duration": 1316,
    "start_time": "2024-03-18T07:02:16.277Z"
   },
   {
    "duration": 822,
    "start_time": "2024-03-18T07:02:17.595Z"
   },
   {
    "duration": 17,
    "start_time": "2024-03-18T07:02:18.418Z"
   },
   {
    "duration": 148,
    "start_time": "2024-03-18T07:02:18.445Z"
   },
   {
    "duration": 133,
    "start_time": "2024-03-18T07:02:18.595Z"
   },
   {
    "duration": 442,
    "start_time": "2024-03-18T07:02:18.729Z"
   },
   {
    "duration": 485,
    "start_time": "2024-03-18T07:02:19.173Z"
   },
   {
    "duration": 408,
    "start_time": "2024-03-18T07:02:19.660Z"
   },
   {
    "duration": 26,
    "start_time": "2024-03-18T07:02:20.070Z"
   },
   {
    "duration": 77,
    "start_time": "2024-03-18T07:02:20.098Z"
   },
   {
    "duration": 4,
    "start_time": "2024-03-18T07:02:20.176Z"
   },
   {
    "duration": 38,
    "start_time": "2024-03-18T07:02:20.182Z"
   },
   {
    "duration": 42,
    "start_time": "2024-03-18T07:02:20.222Z"
   },
   {
    "duration": 41,
    "start_time": "2024-03-18T07:02:20.266Z"
   },
   {
    "duration": 42,
    "start_time": "2024-03-18T07:02:20.309Z"
   },
   {
    "duration": 41,
    "start_time": "2024-03-18T07:02:20.353Z"
   },
   {
    "duration": 44,
    "start_time": "2024-03-18T07:02:20.396Z"
   },
   {
    "duration": 34,
    "start_time": "2024-03-18T07:02:20.441Z"
   },
   {
    "duration": 36,
    "start_time": "2024-03-18T07:02:20.476Z"
   },
   {
    "duration": 39,
    "start_time": "2024-03-18T07:02:20.515Z"
   },
   {
    "duration": 35,
    "start_time": "2024-03-18T07:02:20.555Z"
   },
   {
    "duration": 40,
    "start_time": "2024-03-18T07:02:20.591Z"
   },
   {
    "duration": 23,
    "start_time": "2024-03-18T07:02:20.632Z"
   },
   {
    "duration": 61,
    "start_time": "2024-03-18T07:02:20.656Z"
   },
   {
    "duration": 108,
    "start_time": "2024-03-18T07:02:20.719Z"
   },
   {
    "duration": 21,
    "start_time": "2024-03-18T07:02:20.829Z"
   },
   {
    "duration": 102,
    "start_time": "2024-03-18T07:02:20.851Z"
   },
   {
    "duration": 98,
    "start_time": "2024-03-18T07:02:20.956Z"
   },
   {
    "duration": 164,
    "start_time": "2024-03-18T07:02:21.056Z"
   },
   {
    "duration": 40,
    "start_time": "2024-03-18T07:02:21.222Z"
   },
   {
    "duration": 23,
    "start_time": "2024-03-18T07:02:21.263Z"
   },
   {
    "duration": 45,
    "start_time": "2024-03-18T07:02:21.287Z"
   },
   {
    "duration": 4,
    "start_time": "2024-03-18T07:02:21.345Z"
   },
   {
    "duration": 56,
    "start_time": "2024-03-18T07:02:21.350Z"
   },
   {
    "duration": 42,
    "start_time": "2024-03-18T07:02:21.408Z"
   },
   {
    "duration": 124,
    "start_time": "2024-03-18T07:02:21.451Z"
   },
   {
    "duration": 11,
    "start_time": "2024-03-18T07:02:21.577Z"
   },
   {
    "duration": 44,
    "start_time": "2024-03-18T07:02:21.590Z"
   },
   {
    "duration": 181,
    "start_time": "2024-03-18T07:02:21.636Z"
   },
   {
    "duration": 28,
    "start_time": "2024-03-18T07:02:21.819Z"
   },
   {
    "duration": 16,
    "start_time": "2024-03-18T07:02:21.849Z"
   },
   {
    "duration": 24,
    "start_time": "2024-03-18T07:02:21.866Z"
   },
   {
    "duration": 4,
    "start_time": "2024-03-18T07:02:21.891Z"
   },
   {
    "duration": 125,
    "start_time": "2024-03-18T07:02:21.896Z"
   },
   {
    "duration": 15,
    "start_time": "2024-03-18T07:02:22.022Z"
   },
   {
    "duration": 153,
    "start_time": "2024-03-18T07:02:22.039Z"
   },
   {
    "duration": 110,
    "start_time": "2024-03-18T07:02:22.193Z"
   },
   {
    "duration": 4,
    "start_time": "2024-03-18T07:02:22.304Z"
   },
   {
    "duration": 43,
    "start_time": "2024-03-18T07:02:22.309Z"
   },
   {
    "duration": 69,
    "start_time": "2024-03-18T07:02:22.354Z"
   },
   {
    "duration": 120,
    "start_time": "2024-03-18T07:02:22.425Z"
   },
   {
    "duration": 89,
    "start_time": "2024-03-18T07:02:22.546Z"
   },
   {
    "duration": 79,
    "start_time": "2024-03-18T07:02:22.636Z"
   },
   {
    "duration": 60,
    "start_time": "2024-03-18T07:02:22.716Z"
   },
   {
    "duration": 76,
    "start_time": "2024-03-18T07:02:22.778Z"
   },
   {
    "duration": 2,
    "start_time": "2024-03-18T07:02:22.855Z"
   },
   {
    "duration": 26,
    "start_time": "2024-03-18T07:02:22.859Z"
   },
   {
    "duration": 38,
    "start_time": "2024-03-18T07:02:22.887Z"
   },
   {
    "duration": 458,
    "start_time": "2024-03-18T07:02:22.927Z"
   },
   {
    "duration": 0,
    "start_time": "2024-03-18T07:02:23.387Z"
   },
   {
    "duration": 0,
    "start_time": "2024-03-18T07:02:23.388Z"
   },
   {
    "duration": 0,
    "start_time": "2024-03-18T07:02:23.390Z"
   },
   {
    "duration": 0,
    "start_time": "2024-03-18T07:02:23.391Z"
   },
   {
    "duration": 0,
    "start_time": "2024-03-18T07:02:23.392Z"
   },
   {
    "duration": 0,
    "start_time": "2024-03-18T07:02:23.393Z"
   },
   {
    "duration": 0,
    "start_time": "2024-03-18T07:02:23.395Z"
   },
   {
    "duration": 0,
    "start_time": "2024-03-18T07:02:23.396Z"
   },
   {
    "duration": 1349,
    "start_time": "2024-03-18T07:03:55.189Z"
   },
   {
    "duration": 856,
    "start_time": "2024-03-18T07:03:56.540Z"
   },
   {
    "duration": 18,
    "start_time": "2024-03-18T07:03:57.397Z"
   },
   {
    "duration": 160,
    "start_time": "2024-03-18T07:03:57.417Z"
   },
   {
    "duration": 143,
    "start_time": "2024-03-18T07:03:57.579Z"
   },
   {
    "duration": 463,
    "start_time": "2024-03-18T07:03:57.724Z"
   },
   {
    "duration": 481,
    "start_time": "2024-03-18T07:03:58.188Z"
   },
   {
    "duration": 451,
    "start_time": "2024-03-18T07:03:58.670Z"
   },
   {
    "duration": 34,
    "start_time": "2024-03-18T07:03:59.122Z"
   },
   {
    "duration": 81,
    "start_time": "2024-03-18T07:03:59.159Z"
   },
   {
    "duration": 5,
    "start_time": "2024-03-18T07:03:59.241Z"
   },
   {
    "duration": 61,
    "start_time": "2024-03-18T07:03:59.247Z"
   },
   {
    "duration": 22,
    "start_time": "2024-03-18T07:03:59.309Z"
   },
   {
    "duration": 30,
    "start_time": "2024-03-18T07:03:59.332Z"
   },
   {
    "duration": 48,
    "start_time": "2024-03-18T07:03:59.363Z"
   },
   {
    "duration": 36,
    "start_time": "2024-03-18T07:03:59.412Z"
   },
   {
    "duration": 37,
    "start_time": "2024-03-18T07:03:59.449Z"
   },
   {
    "duration": 30,
    "start_time": "2024-03-18T07:03:59.488Z"
   },
   {
    "duration": 49,
    "start_time": "2024-03-18T07:03:59.519Z"
   },
   {
    "duration": 40,
    "start_time": "2024-03-18T07:03:59.569Z"
   },
   {
    "duration": 32,
    "start_time": "2024-03-18T07:03:59.610Z"
   },
   {
    "duration": 91,
    "start_time": "2024-03-18T07:03:59.643Z"
   },
   {
    "duration": 21,
    "start_time": "2024-03-18T07:03:59.735Z"
   },
   {
    "duration": 48,
    "start_time": "2024-03-18T07:03:59.757Z"
   },
   {
    "duration": 96,
    "start_time": "2024-03-18T07:03:59.807Z"
   },
   {
    "duration": 19,
    "start_time": "2024-03-18T07:03:59.905Z"
   },
   {
    "duration": 100,
    "start_time": "2024-03-18T07:03:59.925Z"
   },
   {
    "duration": 197,
    "start_time": "2024-03-18T07:04:00.028Z"
   },
   {
    "duration": 182,
    "start_time": "2024-03-18T07:04:00.226Z"
   },
   {
    "duration": 38,
    "start_time": "2024-03-18T07:04:00.409Z"
   },
   {
    "duration": 57,
    "start_time": "2024-03-18T07:04:00.449Z"
   },
   {
    "duration": 72,
    "start_time": "2024-03-18T07:04:00.507Z"
   },
   {
    "duration": 24,
    "start_time": "2024-03-18T07:04:00.580Z"
   },
   {
    "duration": 92,
    "start_time": "2024-03-18T07:04:00.605Z"
   },
   {
    "duration": 74,
    "start_time": "2024-03-18T07:04:00.699Z"
   },
   {
    "duration": 163,
    "start_time": "2024-03-18T07:04:00.775Z"
   },
   {
    "duration": 15,
    "start_time": "2024-03-18T07:04:00.939Z"
   },
   {
    "duration": 64,
    "start_time": "2024-03-18T07:04:00.955Z"
   },
   {
    "duration": 213,
    "start_time": "2024-03-18T07:04:01.020Z"
   },
   {
    "duration": 21,
    "start_time": "2024-03-18T07:04:01.234Z"
   },
   {
    "duration": 43,
    "start_time": "2024-03-18T07:04:01.257Z"
   },
   {
    "duration": 31,
    "start_time": "2024-03-18T07:04:01.302Z"
   },
   {
    "duration": 39,
    "start_time": "2024-03-18T07:04:01.335Z"
   },
   {
    "duration": 165,
    "start_time": "2024-03-18T07:04:01.376Z"
   },
   {
    "duration": 16,
    "start_time": "2024-03-18T07:04:01.542Z"
   },
   {
    "duration": 158,
    "start_time": "2024-03-18T07:04:01.560Z"
   },
   {
    "duration": 115,
    "start_time": "2024-03-18T07:04:01.719Z"
   },
   {
    "duration": 10,
    "start_time": "2024-03-18T07:04:01.835Z"
   },
   {
    "duration": 82,
    "start_time": "2024-03-18T07:04:01.846Z"
   },
   {
    "duration": 87,
    "start_time": "2024-03-18T07:04:01.930Z"
   },
   {
    "duration": 124,
    "start_time": "2024-03-18T07:04:02.018Z"
   },
   {
    "duration": 101,
    "start_time": "2024-03-18T07:04:02.144Z"
   },
   {
    "duration": 103,
    "start_time": "2024-03-18T07:04:02.246Z"
   },
   {
    "duration": 54,
    "start_time": "2024-03-18T07:04:02.351Z"
   },
   {
    "duration": 103,
    "start_time": "2024-03-18T07:04:02.407Z"
   },
   {
    "duration": 178,
    "start_time": "2024-03-18T07:04:02.512Z"
   },
   {
    "duration": 163,
    "start_time": "2024-03-18T07:04:02.692Z"
   },
   {
    "duration": 13,
    "start_time": "2024-03-18T07:04:02.857Z"
   },
   {
    "duration": 182,
    "start_time": "2024-03-18T07:04:02.872Z"
   },
   {
    "duration": 0,
    "start_time": "2024-03-18T07:04:03.055Z"
   },
   {
    "duration": 0,
    "start_time": "2024-03-18T07:04:03.057Z"
   },
   {
    "duration": 0,
    "start_time": "2024-03-18T07:04:03.057Z"
   },
   {
    "duration": 0,
    "start_time": "2024-03-18T07:04:03.058Z"
   },
   {
    "duration": 0,
    "start_time": "2024-03-18T07:04:03.059Z"
   },
   {
    "duration": 0,
    "start_time": "2024-03-18T07:04:03.060Z"
   },
   {
    "duration": 0,
    "start_time": "2024-03-18T07:04:03.061Z"
   },
   {
    "duration": 0,
    "start_time": "2024-03-18T07:04:03.062Z"
   },
   {
    "duration": 3,
    "start_time": "2024-03-18T07:10:03.017Z"
   },
   {
    "duration": 1374,
    "start_time": "2024-03-18T07:10:56.379Z"
   },
   {
    "duration": 834,
    "start_time": "2024-03-18T07:10:57.754Z"
   },
   {
    "duration": 18,
    "start_time": "2024-03-18T07:10:58.589Z"
   },
   {
    "duration": 146,
    "start_time": "2024-03-18T07:10:58.608Z"
   },
   {
    "duration": 137,
    "start_time": "2024-03-18T07:10:58.756Z"
   },
   {
    "duration": 436,
    "start_time": "2024-03-18T07:10:58.895Z"
   },
   {
    "duration": 475,
    "start_time": "2024-03-18T07:10:59.333Z"
   },
   {
    "duration": 436,
    "start_time": "2024-03-18T07:10:59.809Z"
   },
   {
    "duration": 26,
    "start_time": "2024-03-18T07:11:00.246Z"
   },
   {
    "duration": 117,
    "start_time": "2024-03-18T07:11:00.273Z"
   },
   {
    "duration": 10,
    "start_time": "2024-03-18T07:11:00.392Z"
   },
   {
    "duration": 115,
    "start_time": "2024-03-18T07:11:00.404Z"
   },
   {
    "duration": 239,
    "start_time": "2024-03-18T07:11:00.520Z"
   },
   {
    "duration": 185,
    "start_time": "2024-03-18T07:11:00.762Z"
   },
   {
    "duration": 125,
    "start_time": "2024-03-18T07:11:00.949Z"
   },
   {
    "duration": 164,
    "start_time": "2024-03-18T07:11:01.076Z"
   },
   {
    "duration": 68,
    "start_time": "2024-03-18T07:11:01.241Z"
   },
   {
    "duration": 44,
    "start_time": "2024-03-18T07:11:01.311Z"
   },
   {
    "duration": 57,
    "start_time": "2024-03-18T07:11:01.356Z"
   },
   {
    "duration": 41,
    "start_time": "2024-03-18T07:11:01.415Z"
   },
   {
    "duration": 45,
    "start_time": "2024-03-18T07:11:01.458Z"
   },
   {
    "duration": 89,
    "start_time": "2024-03-18T07:11:01.504Z"
   },
   {
    "duration": 49,
    "start_time": "2024-03-18T07:11:01.595Z"
   },
   {
    "duration": 52,
    "start_time": "2024-03-18T07:11:01.645Z"
   },
   {
    "duration": 127,
    "start_time": "2024-03-18T07:11:01.699Z"
   },
   {
    "duration": 48,
    "start_time": "2024-03-18T07:11:01.828Z"
   },
   {
    "duration": 125,
    "start_time": "2024-03-18T07:11:01.878Z"
   },
   {
    "duration": 106,
    "start_time": "2024-03-18T07:11:02.004Z"
   },
   {
    "duration": 163,
    "start_time": "2024-03-18T07:11:02.111Z"
   },
   {
    "duration": 34,
    "start_time": "2024-03-18T07:11:02.276Z"
   },
   {
    "duration": 109,
    "start_time": "2024-03-18T07:11:02.311Z"
   },
   {
    "duration": 181,
    "start_time": "2024-03-18T07:11:02.422Z"
   },
   {
    "duration": 61,
    "start_time": "2024-03-18T07:11:02.605Z"
   },
   {
    "duration": 89,
    "start_time": "2024-03-18T07:11:02.667Z"
   },
   {
    "duration": 75,
    "start_time": "2024-03-18T07:11:02.758Z"
   },
   {
    "duration": 169,
    "start_time": "2024-03-18T07:11:02.834Z"
   },
   {
    "duration": 11,
    "start_time": "2024-03-18T07:11:03.004Z"
   },
   {
    "duration": 64,
    "start_time": "2024-03-18T07:11:03.017Z"
   },
   {
    "duration": 192,
    "start_time": "2024-03-18T07:11:03.083Z"
   },
   {
    "duration": 15,
    "start_time": "2024-03-18T07:11:03.276Z"
   },
   {
    "duration": 37,
    "start_time": "2024-03-18T07:11:03.295Z"
   },
   {
    "duration": 24,
    "start_time": "2024-03-18T07:11:03.333Z"
   },
   {
    "duration": 29,
    "start_time": "2024-03-18T07:11:03.358Z"
   },
   {
    "duration": 134,
    "start_time": "2024-03-18T07:11:03.389Z"
   },
   {
    "duration": 21,
    "start_time": "2024-03-18T07:11:03.524Z"
   },
   {
    "duration": 163,
    "start_time": "2024-03-18T07:11:03.546Z"
   },
   {
    "duration": 116,
    "start_time": "2024-03-18T07:11:03.710Z"
   },
   {
    "duration": 178,
    "start_time": "2024-03-18T07:11:03.828Z"
   },
   {
    "duration": 51,
    "start_time": "2024-03-18T07:11:04.008Z"
   },
   {
    "duration": 75,
    "start_time": "2024-03-18T07:11:04.061Z"
   },
   {
    "duration": 86,
    "start_time": "2024-03-18T07:11:04.138Z"
   },
   {
    "duration": 101,
    "start_time": "2024-03-18T07:11:04.226Z"
   },
   {
    "duration": 88,
    "start_time": "2024-03-18T07:11:04.329Z"
   },
   {
    "duration": 61,
    "start_time": "2024-03-18T07:11:04.419Z"
   },
   {
    "duration": 73,
    "start_time": "2024-03-18T07:11:04.482Z"
   },
   {
    "duration": 3,
    "start_time": "2024-03-18T07:11:04.556Z"
   },
   {
    "duration": 9,
    "start_time": "2024-03-18T07:11:04.560Z"
   },
   {
    "duration": 12,
    "start_time": "2024-03-18T07:11:04.570Z"
   },
   {
    "duration": 411,
    "start_time": "2024-03-18T07:11:04.583Z"
   },
   {
    "duration": 0,
    "start_time": "2024-03-18T07:11:04.995Z"
   },
   {
    "duration": 0,
    "start_time": "2024-03-18T07:11:04.996Z"
   },
   {
    "duration": 0,
    "start_time": "2024-03-18T07:11:04.997Z"
   },
   {
    "duration": 0,
    "start_time": "2024-03-18T07:11:04.999Z"
   },
   {
    "duration": 0,
    "start_time": "2024-03-18T07:11:05.000Z"
   },
   {
    "duration": 0,
    "start_time": "2024-03-18T07:11:05.001Z"
   },
   {
    "duration": 0,
    "start_time": "2024-03-18T07:11:05.002Z"
   },
   {
    "duration": 0,
    "start_time": "2024-03-18T07:11:05.003Z"
   },
   {
    "duration": 1448,
    "start_time": "2024-03-18T07:14:33.769Z"
   },
   {
    "duration": 834,
    "start_time": "2024-03-18T07:14:35.219Z"
   },
   {
    "duration": 17,
    "start_time": "2024-03-18T07:14:36.054Z"
   },
   {
    "duration": 151,
    "start_time": "2024-03-18T07:14:36.073Z"
   },
   {
    "duration": 130,
    "start_time": "2024-03-18T07:14:36.225Z"
   },
   {
    "duration": 457,
    "start_time": "2024-03-18T07:14:36.357Z"
   },
   {
    "duration": 466,
    "start_time": "2024-03-18T07:14:36.815Z"
   },
   {
    "duration": 422,
    "start_time": "2024-03-18T07:14:37.283Z"
   },
   {
    "duration": 30,
    "start_time": "2024-03-18T07:14:37.706Z"
   },
   {
    "duration": 72,
    "start_time": "2024-03-18T07:14:37.746Z"
   },
   {
    "duration": 4,
    "start_time": "2024-03-18T07:14:37.820Z"
   },
   {
    "duration": 45,
    "start_time": "2024-03-18T07:14:37.825Z"
   },
   {
    "duration": 20,
    "start_time": "2024-03-18T07:14:37.872Z"
   },
   {
    "duration": 32,
    "start_time": "2024-03-18T07:14:37.894Z"
   },
   {
    "duration": 35,
    "start_time": "2024-03-18T07:14:37.928Z"
   },
   {
    "duration": 19,
    "start_time": "2024-03-18T07:14:37.964Z"
   },
   {
    "duration": 22,
    "start_time": "2024-03-18T07:14:37.984Z"
   },
   {
    "duration": 41,
    "start_time": "2024-03-18T07:14:38.007Z"
   },
   {
    "duration": 36,
    "start_time": "2024-03-18T07:14:38.049Z"
   },
   {
    "duration": 33,
    "start_time": "2024-03-18T07:14:38.086Z"
   },
   {
    "duration": 20,
    "start_time": "2024-03-18T07:14:38.121Z"
   },
   {
    "duration": 34,
    "start_time": "2024-03-18T07:14:38.145Z"
   },
   {
    "duration": 20,
    "start_time": "2024-03-18T07:14:38.180Z"
   },
   {
    "duration": 51,
    "start_time": "2024-03-18T07:14:38.202Z"
   },
   {
    "duration": 98,
    "start_time": "2024-03-18T07:14:38.255Z"
   },
   {
    "duration": 20,
    "start_time": "2024-03-18T07:14:38.354Z"
   },
   {
    "duration": 100,
    "start_time": "2024-03-18T07:14:38.375Z"
   },
   {
    "duration": 103,
    "start_time": "2024-03-18T07:14:38.479Z"
   },
   {
    "duration": 161,
    "start_time": "2024-03-18T07:14:38.584Z"
   },
   {
    "duration": 34,
    "start_time": "2024-03-18T07:14:38.747Z"
   },
   {
    "duration": 26,
    "start_time": "2024-03-18T07:14:38.782Z"
   },
   {
    "duration": 68,
    "start_time": "2024-03-18T07:14:38.809Z"
   },
   {
    "duration": 4,
    "start_time": "2024-03-18T07:14:38.879Z"
   },
   {
    "duration": 9,
    "start_time": "2024-03-18T07:14:38.884Z"
   },
   {
    "duration": 23,
    "start_time": "2024-03-18T07:14:38.894Z"
   },
   {
    "duration": 126,
    "start_time": "2024-03-18T07:14:38.919Z"
   },
   {
    "duration": 12,
    "start_time": "2024-03-18T07:14:39.046Z"
   },
   {
    "duration": 19,
    "start_time": "2024-03-18T07:14:39.059Z"
   },
   {
    "duration": 210,
    "start_time": "2024-03-18T07:14:39.079Z"
   },
   {
    "duration": 16,
    "start_time": "2024-03-18T07:14:39.291Z"
   },
   {
    "duration": 19,
    "start_time": "2024-03-18T07:14:39.308Z"
   },
   {
    "duration": 28,
    "start_time": "2024-03-18T07:14:39.328Z"
   },
   {
    "duration": 3,
    "start_time": "2024-03-18T07:14:39.358Z"
   },
   {
    "duration": 141,
    "start_time": "2024-03-18T07:14:39.362Z"
   },
   {
    "duration": 15,
    "start_time": "2024-03-18T07:14:39.504Z"
   },
   {
    "duration": 173,
    "start_time": "2024-03-18T07:14:39.521Z"
   },
   {
    "duration": 118,
    "start_time": "2024-03-18T07:14:39.695Z"
   },
   {
    "duration": 3,
    "start_time": "2024-03-18T07:14:39.815Z"
   },
   {
    "duration": 26,
    "start_time": "2024-03-18T07:14:39.819Z"
   },
   {
    "duration": 61,
    "start_time": "2024-03-18T07:14:39.846Z"
   },
   {
    "duration": 102,
    "start_time": "2024-03-18T07:14:39.909Z"
   },
   {
    "duration": 104,
    "start_time": "2024-03-18T07:14:40.013Z"
   },
   {
    "duration": 86,
    "start_time": "2024-03-18T07:14:40.118Z"
   },
   {
    "duration": 65,
    "start_time": "2024-03-18T07:14:40.205Z"
   },
   {
    "duration": 86,
    "start_time": "2024-03-18T07:14:40.271Z"
   },
   {
    "duration": 4,
    "start_time": "2024-03-18T07:14:40.359Z"
   },
   {
    "duration": 7,
    "start_time": "2024-03-18T07:14:40.364Z"
   },
   {
    "duration": 4,
    "start_time": "2024-03-18T07:14:40.374Z"
   },
   {
    "duration": 66,
    "start_time": "2024-03-18T07:14:40.379Z"
   },
   {
    "duration": 426,
    "start_time": "2024-03-18T07:14:40.446Z"
   },
   {
    "duration": 0,
    "start_time": "2024-03-18T07:14:40.873Z"
   },
   {
    "duration": 0,
    "start_time": "2024-03-18T07:14:40.874Z"
   },
   {
    "duration": 0,
    "start_time": "2024-03-18T07:14:40.875Z"
   },
   {
    "duration": 0,
    "start_time": "2024-03-18T07:14:40.876Z"
   },
   {
    "duration": 0,
    "start_time": "2024-03-18T07:14:40.877Z"
   },
   {
    "duration": 0,
    "start_time": "2024-03-18T07:14:40.878Z"
   },
   {
    "duration": 0,
    "start_time": "2024-03-18T07:14:40.879Z"
   },
   {
    "duration": 0,
    "start_time": "2024-03-18T07:14:40.879Z"
   },
   {
    "duration": 1371,
    "start_time": "2024-03-18T07:17:53.424Z"
   },
   {
    "duration": 816,
    "start_time": "2024-03-18T07:17:54.796Z"
   },
   {
    "duration": 17,
    "start_time": "2024-03-18T07:17:55.613Z"
   },
   {
    "duration": 149,
    "start_time": "2024-03-18T07:17:55.632Z"
   },
   {
    "duration": 139,
    "start_time": "2024-03-18T07:17:55.783Z"
   },
   {
    "duration": 463,
    "start_time": "2024-03-18T07:17:55.923Z"
   },
   {
    "duration": 465,
    "start_time": "2024-03-18T07:17:56.388Z"
   },
   {
    "duration": 439,
    "start_time": "2024-03-18T07:17:56.854Z"
   },
   {
    "duration": 26,
    "start_time": "2024-03-18T07:17:57.294Z"
   },
   {
    "duration": 88,
    "start_time": "2024-03-18T07:17:57.323Z"
   },
   {
    "duration": 4,
    "start_time": "2024-03-18T07:17:57.412Z"
   },
   {
    "duration": 44,
    "start_time": "2024-03-18T07:17:57.417Z"
   },
   {
    "duration": 23,
    "start_time": "2024-03-18T07:17:57.462Z"
   },
   {
    "duration": 28,
    "start_time": "2024-03-18T07:17:57.486Z"
   },
   {
    "duration": 31,
    "start_time": "2024-03-18T07:17:57.515Z"
   },
   {
    "duration": 26,
    "start_time": "2024-03-18T07:17:57.547Z"
   },
   {
    "duration": 42,
    "start_time": "2024-03-18T07:17:57.575Z"
   },
   {
    "duration": 32,
    "start_time": "2024-03-18T07:17:57.619Z"
   },
   {
    "duration": 32,
    "start_time": "2024-03-18T07:17:57.652Z"
   },
   {
    "duration": 23,
    "start_time": "2024-03-18T07:17:57.685Z"
   },
   {
    "duration": 42,
    "start_time": "2024-03-18T07:17:57.709Z"
   },
   {
    "duration": 42,
    "start_time": "2024-03-18T07:17:57.753Z"
   },
   {
    "duration": 42,
    "start_time": "2024-03-18T07:17:57.797Z"
   },
   {
    "duration": 43,
    "start_time": "2024-03-18T07:17:57.840Z"
   },
   {
    "duration": 104,
    "start_time": "2024-03-18T07:17:57.885Z"
   },
   {
    "duration": 18,
    "start_time": "2024-03-18T07:17:57.991Z"
   },
   {
    "duration": 96,
    "start_time": "2024-03-18T07:17:58.011Z"
   },
   {
    "duration": 95,
    "start_time": "2024-03-18T07:17:58.110Z"
   },
   {
    "duration": 166,
    "start_time": "2024-03-18T07:17:58.207Z"
   },
   {
    "duration": 33,
    "start_time": "2024-03-18T07:17:58.375Z"
   },
   {
    "duration": 42,
    "start_time": "2024-03-18T07:17:58.410Z"
   },
   {
    "duration": 47,
    "start_time": "2024-03-18T07:17:58.453Z"
   },
   {
    "duration": 4,
    "start_time": "2024-03-18T07:17:58.502Z"
   },
   {
    "duration": 5,
    "start_time": "2024-03-18T07:17:58.507Z"
   },
   {
    "duration": 37,
    "start_time": "2024-03-18T07:17:58.513Z"
   },
   {
    "duration": 122,
    "start_time": "2024-03-18T07:17:58.551Z"
   },
   {
    "duration": 11,
    "start_time": "2024-03-18T07:17:58.674Z"
   },
   {
    "duration": 16,
    "start_time": "2024-03-18T07:17:58.687Z"
   },
   {
    "duration": 200,
    "start_time": "2024-03-18T07:17:58.705Z"
   },
   {
    "duration": 16,
    "start_time": "2024-03-18T07:17:58.906Z"
   },
   {
    "duration": 29,
    "start_time": "2024-03-18T07:17:58.923Z"
   },
   {
    "duration": 16,
    "start_time": "2024-03-18T07:17:58.954Z"
   },
   {
    "duration": 4,
    "start_time": "2024-03-18T07:17:58.971Z"
   },
   {
    "duration": 128,
    "start_time": "2024-03-18T07:17:58.977Z"
   },
   {
    "duration": 16,
    "start_time": "2024-03-18T07:17:59.106Z"
   },
   {
    "duration": 165,
    "start_time": "2024-03-18T07:17:59.124Z"
   },
   {
    "duration": 113,
    "start_time": "2024-03-18T07:17:59.290Z"
   },
   {
    "duration": 3,
    "start_time": "2024-03-18T07:17:59.405Z"
   },
   {
    "duration": 38,
    "start_time": "2024-03-18T07:17:59.410Z"
   },
   {
    "duration": 78,
    "start_time": "2024-03-18T07:17:59.450Z"
   },
   {
    "duration": 84,
    "start_time": "2024-03-18T07:17:59.530Z"
   },
   {
    "duration": 97,
    "start_time": "2024-03-18T07:17:59.615Z"
   },
   {
    "duration": 86,
    "start_time": "2024-03-18T07:17:59.714Z"
   },
   {
    "duration": 58,
    "start_time": "2024-03-18T07:17:59.801Z"
   },
   {
    "duration": 93,
    "start_time": "2024-03-18T07:17:59.860Z"
   },
   {
    "duration": 2,
    "start_time": "2024-03-18T07:17:59.955Z"
   },
   {
    "duration": 69,
    "start_time": "2024-03-18T07:17:59.959Z"
   },
   {
    "duration": 19,
    "start_time": "2024-03-18T07:18:00.030Z"
   },
   {
    "duration": 96,
    "start_time": "2024-03-18T07:18:00.050Z"
   },
   {
    "duration": 105,
    "start_time": "2024-03-18T07:18:00.148Z"
   },
   {
    "duration": 123,
    "start_time": "2024-03-18T07:18:00.255Z"
   },
   {
    "duration": 0,
    "start_time": "2024-03-18T07:18:00.380Z"
   },
   {
    "duration": 0,
    "start_time": "2024-03-18T07:18:00.381Z"
   },
   {
    "duration": 1,
    "start_time": "2024-03-18T07:18:00.382Z"
   },
   {
    "duration": 0,
    "start_time": "2024-03-18T07:18:00.384Z"
   },
   {
    "duration": 0,
    "start_time": "2024-03-18T07:18:00.385Z"
   },
   {
    "duration": 0,
    "start_time": "2024-03-18T07:18:00.387Z"
   },
   {
    "duration": 0,
    "start_time": "2024-03-18T07:18:00.388Z"
   },
   {
    "duration": 0,
    "start_time": "2024-03-18T07:18:00.390Z"
   },
   {
    "duration": 1312,
    "start_time": "2024-03-18T07:18:32.197Z"
   },
   {
    "duration": 840,
    "start_time": "2024-03-18T07:18:33.511Z"
   },
   {
    "duration": 16,
    "start_time": "2024-03-18T07:18:34.353Z"
   },
   {
    "duration": 144,
    "start_time": "2024-03-18T07:18:34.371Z"
   },
   {
    "duration": 134,
    "start_time": "2024-03-18T07:18:34.517Z"
   },
   {
    "duration": 447,
    "start_time": "2024-03-18T07:18:34.652Z"
   },
   {
    "duration": 482,
    "start_time": "2024-03-18T07:18:35.100Z"
   },
   {
    "duration": 427,
    "start_time": "2024-03-18T07:18:35.584Z"
   },
   {
    "duration": 37,
    "start_time": "2024-03-18T07:18:36.012Z"
   },
   {
    "duration": 89,
    "start_time": "2024-03-18T07:18:36.052Z"
   },
   {
    "duration": 4,
    "start_time": "2024-03-18T07:18:36.142Z"
   },
   {
    "duration": 48,
    "start_time": "2024-03-18T07:18:36.147Z"
   },
   {
    "duration": 27,
    "start_time": "2024-03-18T07:18:36.197Z"
   },
   {
    "duration": 31,
    "start_time": "2024-03-18T07:18:36.226Z"
   },
   {
    "duration": 30,
    "start_time": "2024-03-18T07:18:36.259Z"
   },
   {
    "duration": 27,
    "start_time": "2024-03-18T07:18:36.290Z"
   },
   {
    "duration": 39,
    "start_time": "2024-03-18T07:18:36.318Z"
   },
   {
    "duration": 47,
    "start_time": "2024-03-18T07:18:36.358Z"
   },
   {
    "duration": 48,
    "start_time": "2024-03-18T07:18:36.407Z"
   },
   {
    "duration": 26,
    "start_time": "2024-03-18T07:18:36.457Z"
   },
   {
    "duration": 28,
    "start_time": "2024-03-18T07:18:36.484Z"
   },
   {
    "duration": 42,
    "start_time": "2024-03-18T07:18:36.514Z"
   },
   {
    "duration": 27,
    "start_time": "2024-03-18T07:18:36.557Z"
   },
   {
    "duration": 32,
    "start_time": "2024-03-18T07:18:36.585Z"
   },
   {
    "duration": 95,
    "start_time": "2024-03-18T07:18:36.619Z"
   },
   {
    "duration": 19,
    "start_time": "2024-03-18T07:18:36.715Z"
   },
   {
    "duration": 86,
    "start_time": "2024-03-18T07:18:36.744Z"
   },
   {
    "duration": 103,
    "start_time": "2024-03-18T07:18:36.834Z"
   },
   {
    "duration": 172,
    "start_time": "2024-03-18T07:18:36.939Z"
   },
   {
    "duration": 41,
    "start_time": "2024-03-18T07:18:37.113Z"
   },
   {
    "duration": 28,
    "start_time": "2024-03-18T07:18:37.156Z"
   },
   {
    "duration": 65,
    "start_time": "2024-03-18T07:18:37.186Z"
   },
   {
    "duration": 4,
    "start_time": "2024-03-18T07:18:37.252Z"
   },
   {
    "duration": 5,
    "start_time": "2024-03-18T07:18:37.258Z"
   },
   {
    "duration": 19,
    "start_time": "2024-03-18T07:18:37.264Z"
   },
   {
    "duration": 139,
    "start_time": "2024-03-18T07:18:37.285Z"
   },
   {
    "duration": 12,
    "start_time": "2024-03-18T07:18:37.425Z"
   },
   {
    "duration": 51,
    "start_time": "2024-03-18T07:18:37.438Z"
   },
   {
    "duration": 184,
    "start_time": "2024-03-18T07:18:37.491Z"
   },
   {
    "duration": 24,
    "start_time": "2024-03-18T07:18:37.676Z"
   },
   {
    "duration": 42,
    "start_time": "2024-03-18T07:18:37.701Z"
   },
   {
    "duration": 16,
    "start_time": "2024-03-18T07:18:37.744Z"
   },
   {
    "duration": 10,
    "start_time": "2024-03-18T07:18:37.762Z"
   },
   {
    "duration": 125,
    "start_time": "2024-03-18T07:18:37.774Z"
   },
   {
    "duration": 16,
    "start_time": "2024-03-18T07:18:37.901Z"
   },
   {
    "duration": 166,
    "start_time": "2024-03-18T07:18:37.919Z"
   },
   {
    "duration": 113,
    "start_time": "2024-03-18T07:18:38.087Z"
   },
   {
    "duration": 4,
    "start_time": "2024-03-18T07:18:38.202Z"
   },
   {
    "duration": 15,
    "start_time": "2024-03-18T07:18:38.208Z"
   },
   {
    "duration": 79,
    "start_time": "2024-03-18T07:18:38.225Z"
   },
   {
    "duration": 107,
    "start_time": "2024-03-18T07:18:38.306Z"
   },
   {
    "duration": 105,
    "start_time": "2024-03-18T07:18:38.415Z"
   },
   {
    "duration": 90,
    "start_time": "2024-03-18T07:18:38.522Z"
   },
   {
    "duration": 58,
    "start_time": "2024-03-18T07:18:38.614Z"
   },
   {
    "duration": 76,
    "start_time": "2024-03-18T07:18:38.674Z"
   },
   {
    "duration": 3,
    "start_time": "2024-03-18T07:18:38.752Z"
   },
   {
    "duration": 7,
    "start_time": "2024-03-18T07:18:38.756Z"
   },
   {
    "duration": 4,
    "start_time": "2024-03-18T07:18:38.765Z"
   },
   {
    "duration": 59,
    "start_time": "2024-03-18T07:18:38.771Z"
   },
   {
    "duration": 82,
    "start_time": "2024-03-18T07:18:38.832Z"
   },
   {
    "duration": 391,
    "start_time": "2024-03-18T07:18:38.915Z"
   },
   {
    "duration": 274,
    "start_time": "2024-03-18T07:18:39.307Z"
   },
   {
    "duration": 2,
    "start_time": "2024-03-18T07:18:39.582Z"
   },
   {
    "duration": 42,
    "start_time": "2024-03-18T07:18:39.586Z"
   },
   {
    "duration": 4,
    "start_time": "2024-03-18T07:18:39.629Z"
   },
   {
    "duration": 5312,
    "start_time": "2024-03-18T07:18:39.634Z"
   },
   {
    "duration": 60640,
    "start_time": "2024-03-18T07:18:44.948Z"
   },
   {
    "duration": 55876,
    "start_time": "2024-03-18T07:19:45.589Z"
   },
   {
    "duration": 111,
    "start_time": "2024-03-18T07:20:41.545Z"
   },
   {
    "duration": 49,
    "start_time": "2024-03-18T07:35:01.188Z"
   },
   {
    "duration": 47,
    "start_time": "2024-03-18T07:35:05.201Z"
   },
   {
    "duration": 74,
    "start_time": "2024-03-18T07:35:05.832Z"
   },
   {
    "duration": 1361,
    "start_time": "2024-03-18T07:35:12.422Z"
   },
   {
    "duration": 790,
    "start_time": "2024-03-18T07:35:13.785Z"
   },
   {
    "duration": 16,
    "start_time": "2024-03-18T07:35:14.576Z"
   },
   {
    "duration": 141,
    "start_time": "2024-03-18T07:35:14.594Z"
   },
   {
    "duration": 130,
    "start_time": "2024-03-18T07:35:14.736Z"
   },
   {
    "duration": 435,
    "start_time": "2024-03-18T07:35:14.867Z"
   },
   {
    "duration": 463,
    "start_time": "2024-03-18T07:35:15.303Z"
   },
   {
    "duration": 390,
    "start_time": "2024-03-18T07:35:15.767Z"
   },
   {
    "duration": 25,
    "start_time": "2024-03-18T07:35:16.158Z"
   },
   {
    "duration": 84,
    "start_time": "2024-03-18T07:35:16.185Z"
   },
   {
    "duration": 3,
    "start_time": "2024-03-18T07:35:16.270Z"
   },
   {
    "duration": 45,
    "start_time": "2024-03-18T07:35:16.275Z"
   },
   {
    "duration": 20,
    "start_time": "2024-03-18T07:35:16.322Z"
   },
   {
    "duration": 18,
    "start_time": "2024-03-18T07:35:16.343Z"
   },
   {
    "duration": 24,
    "start_time": "2024-03-18T07:35:16.362Z"
   },
   {
    "duration": 20,
    "start_time": "2024-03-18T07:35:16.388Z"
   },
   {
    "duration": 22,
    "start_time": "2024-03-18T07:35:16.409Z"
   },
   {
    "duration": 24,
    "start_time": "2024-03-18T07:35:16.432Z"
   },
   {
    "duration": 29,
    "start_time": "2024-03-18T07:35:16.457Z"
   },
   {
    "duration": 36,
    "start_time": "2024-03-18T07:35:16.487Z"
   },
   {
    "duration": 25,
    "start_time": "2024-03-18T07:35:16.524Z"
   },
   {
    "duration": 38,
    "start_time": "2024-03-18T07:35:16.550Z"
   },
   {
    "duration": 20,
    "start_time": "2024-03-18T07:35:16.590Z"
   },
   {
    "duration": 58,
    "start_time": "2024-03-18T07:35:16.612Z"
   },
   {
    "duration": 118,
    "start_time": "2024-03-18T07:35:16.672Z"
   },
   {
    "duration": 19,
    "start_time": "2024-03-18T07:35:16.791Z"
   },
   {
    "duration": 88,
    "start_time": "2024-03-18T07:35:16.811Z"
   },
   {
    "duration": 91,
    "start_time": "2024-03-18T07:35:16.902Z"
   },
   {
    "duration": 159,
    "start_time": "2024-03-18T07:35:16.994Z"
   },
   {
    "duration": 35,
    "start_time": "2024-03-18T07:35:17.155Z"
   },
   {
    "duration": 26,
    "start_time": "2024-03-18T07:35:17.192Z"
   },
   {
    "duration": 64,
    "start_time": "2024-03-18T07:35:17.219Z"
   },
   {
    "duration": 4,
    "start_time": "2024-03-18T07:35:17.285Z"
   },
   {
    "duration": 6,
    "start_time": "2024-03-18T07:35:17.290Z"
   },
   {
    "duration": 17,
    "start_time": "2024-03-18T07:35:17.297Z"
   },
   {
    "duration": 132,
    "start_time": "2024-03-18T07:35:17.316Z"
   },
   {
    "duration": 12,
    "start_time": "2024-03-18T07:35:17.449Z"
   },
   {
    "duration": 37,
    "start_time": "2024-03-18T07:35:17.462Z"
   },
   {
    "duration": 174,
    "start_time": "2024-03-18T07:35:17.500Z"
   },
   {
    "duration": 23,
    "start_time": "2024-03-18T07:35:17.676Z"
   },
   {
    "duration": 30,
    "start_time": "2024-03-18T07:35:17.701Z"
   },
   {
    "duration": 24,
    "start_time": "2024-03-18T07:35:17.733Z"
   },
   {
    "duration": 4,
    "start_time": "2024-03-18T07:35:17.759Z"
   },
   {
    "duration": 137,
    "start_time": "2024-03-18T07:35:17.765Z"
   },
   {
    "duration": 14,
    "start_time": "2024-03-18T07:35:17.904Z"
   },
   {
    "duration": 174,
    "start_time": "2024-03-18T07:35:17.920Z"
   },
   {
    "duration": 107,
    "start_time": "2024-03-18T07:35:18.096Z"
   },
   {
    "duration": 3,
    "start_time": "2024-03-18T07:35:18.204Z"
   },
   {
    "duration": 22,
    "start_time": "2024-03-18T07:35:18.208Z"
   },
   {
    "duration": 67,
    "start_time": "2024-03-18T07:35:18.232Z"
   },
   {
    "duration": 88,
    "start_time": "2024-03-18T07:35:18.300Z"
   },
   {
    "duration": 97,
    "start_time": "2024-03-18T07:35:18.390Z"
   },
   {
    "duration": 84,
    "start_time": "2024-03-18T07:35:18.489Z"
   },
   {
    "duration": 53,
    "start_time": "2024-03-18T07:35:18.574Z"
   },
   {
    "duration": 73,
    "start_time": "2024-03-18T07:35:18.628Z"
   },
   {
    "duration": 3,
    "start_time": "2024-03-18T07:35:18.703Z"
   },
   {
    "duration": 21,
    "start_time": "2024-03-18T07:35:18.708Z"
   },
   {
    "duration": 11,
    "start_time": "2024-03-18T07:35:18.730Z"
   },
   {
    "duration": 112,
    "start_time": "2024-03-18T07:35:18.742Z"
   },
   {
    "duration": 0,
    "start_time": "2024-03-18T07:35:18.855Z"
   },
   {
    "duration": 0,
    "start_time": "2024-03-18T07:35:18.857Z"
   },
   {
    "duration": 0,
    "start_time": "2024-03-18T07:35:18.858Z"
   },
   {
    "duration": 0,
    "start_time": "2024-03-18T07:35:18.859Z"
   },
   {
    "duration": 0,
    "start_time": "2024-03-18T07:35:18.861Z"
   },
   {
    "duration": 0,
    "start_time": "2024-03-18T07:35:18.862Z"
   },
   {
    "duration": 0,
    "start_time": "2024-03-18T07:35:18.863Z"
   },
   {
    "duration": 0,
    "start_time": "2024-03-18T07:35:18.864Z"
   },
   {
    "duration": 0,
    "start_time": "2024-03-18T07:35:18.866Z"
   },
   {
    "duration": 0,
    "start_time": "2024-03-18T07:35:18.867Z"
   },
   {
    "duration": 51,
    "start_time": "2024-03-18T07:35:31.052Z"
   },
   {
    "duration": 1344,
    "start_time": "2024-03-18T07:35:39.806Z"
   },
   {
    "duration": 780,
    "start_time": "2024-03-18T07:35:41.152Z"
   },
   {
    "duration": 19,
    "start_time": "2024-03-18T07:35:41.933Z"
   },
   {
    "duration": 137,
    "start_time": "2024-03-18T07:35:41.954Z"
   },
   {
    "duration": 131,
    "start_time": "2024-03-18T07:35:42.092Z"
   },
   {
    "duration": 412,
    "start_time": "2024-03-18T07:35:42.224Z"
   },
   {
    "duration": 438,
    "start_time": "2024-03-18T07:35:42.638Z"
   },
   {
    "duration": 401,
    "start_time": "2024-03-18T07:35:43.078Z"
   },
   {
    "duration": 24,
    "start_time": "2024-03-18T07:35:43.481Z"
   },
   {
    "duration": 79,
    "start_time": "2024-03-18T07:35:43.507Z"
   },
   {
    "duration": 2,
    "start_time": "2024-03-18T07:35:43.588Z"
   },
   {
    "duration": 35,
    "start_time": "2024-03-18T07:35:43.592Z"
   },
   {
    "duration": 32,
    "start_time": "2024-03-18T07:35:43.628Z"
   },
   {
    "duration": 25,
    "start_time": "2024-03-18T07:35:43.661Z"
   },
   {
    "duration": 29,
    "start_time": "2024-03-18T07:35:43.687Z"
   },
   {
    "duration": 23,
    "start_time": "2024-03-18T07:35:43.718Z"
   },
   {
    "duration": 22,
    "start_time": "2024-03-18T07:35:43.742Z"
   },
   {
    "duration": 21,
    "start_time": "2024-03-18T07:35:43.765Z"
   },
   {
    "duration": 25,
    "start_time": "2024-03-18T07:35:43.788Z"
   },
   {
    "duration": 34,
    "start_time": "2024-03-18T07:35:43.815Z"
   },
   {
    "duration": 17,
    "start_time": "2024-03-18T07:35:43.851Z"
   },
   {
    "duration": 37,
    "start_time": "2024-03-18T07:35:43.870Z"
   },
   {
    "duration": 43,
    "start_time": "2024-03-18T07:35:43.908Z"
   },
   {
    "duration": 33,
    "start_time": "2024-03-18T07:35:43.952Z"
   },
   {
    "duration": 101,
    "start_time": "2024-03-18T07:35:43.987Z"
   },
   {
    "duration": 19,
    "start_time": "2024-03-18T07:35:44.089Z"
   },
   {
    "duration": 89,
    "start_time": "2024-03-18T07:35:44.109Z"
   },
   {
    "duration": 92,
    "start_time": "2024-03-18T07:35:44.201Z"
   },
   {
    "duration": 159,
    "start_time": "2024-03-18T07:35:44.295Z"
   },
   {
    "duration": 33,
    "start_time": "2024-03-18T07:35:44.456Z"
   },
   {
    "duration": 22,
    "start_time": "2024-03-18T07:35:44.491Z"
   },
   {
    "duration": 59,
    "start_time": "2024-03-18T07:35:44.514Z"
   },
   {
    "duration": 4,
    "start_time": "2024-03-18T07:35:44.575Z"
   },
   {
    "duration": 3,
    "start_time": "2024-03-18T07:35:44.580Z"
   },
   {
    "duration": 18,
    "start_time": "2024-03-18T07:35:44.584Z"
   },
   {
    "duration": 127,
    "start_time": "2024-03-18T07:35:44.603Z"
   },
   {
    "duration": 13,
    "start_time": "2024-03-18T07:35:44.732Z"
   },
   {
    "duration": 15,
    "start_time": "2024-03-18T07:35:44.747Z"
   },
   {
    "duration": 173,
    "start_time": "2024-03-18T07:35:44.763Z"
   },
   {
    "duration": 21,
    "start_time": "2024-03-18T07:35:44.937Z"
   },
   {
    "duration": 15,
    "start_time": "2024-03-18T07:35:44.959Z"
   },
   {
    "duration": 15,
    "start_time": "2024-03-18T07:35:44.975Z"
   },
   {
    "duration": 3,
    "start_time": "2024-03-18T07:35:44.992Z"
   },
   {
    "duration": 139,
    "start_time": "2024-03-18T07:35:44.996Z"
   },
   {
    "duration": 15,
    "start_time": "2024-03-18T07:35:45.136Z"
   },
   {
    "duration": 192,
    "start_time": "2024-03-18T07:35:45.153Z"
   },
   {
    "duration": 113,
    "start_time": "2024-03-18T07:35:45.346Z"
   },
   {
    "duration": 4,
    "start_time": "2024-03-18T07:35:45.460Z"
   },
   {
    "duration": 50,
    "start_time": "2024-03-18T07:35:45.466Z"
   },
   {
    "duration": 62,
    "start_time": "2024-03-18T07:35:45.518Z"
   },
   {
    "duration": 112,
    "start_time": "2024-03-18T07:35:45.581Z"
   },
   {
    "duration": 95,
    "start_time": "2024-03-18T07:35:45.695Z"
   },
   {
    "duration": 83,
    "start_time": "2024-03-18T07:35:45.791Z"
   },
   {
    "duration": 52,
    "start_time": "2024-03-18T07:35:45.875Z"
   },
   {
    "duration": 76,
    "start_time": "2024-03-18T07:35:45.928Z"
   },
   {
    "duration": 3,
    "start_time": "2024-03-18T07:35:46.006Z"
   },
   {
    "duration": 4,
    "start_time": "2024-03-18T07:35:46.010Z"
   },
   {
    "duration": 4,
    "start_time": "2024-03-18T07:35:46.015Z"
   },
   {
    "duration": 67,
    "start_time": "2024-03-18T07:35:46.020Z"
   },
   {
    "duration": 78,
    "start_time": "2024-03-18T07:35:46.089Z"
   },
   {
    "duration": 374,
    "start_time": "2024-03-18T07:35:46.168Z"
   },
   {
    "duration": 258,
    "start_time": "2024-03-18T07:35:46.544Z"
   },
   {
    "duration": 3,
    "start_time": "2024-03-18T07:35:46.803Z"
   },
   {
    "duration": 43,
    "start_time": "2024-03-18T07:35:46.807Z"
   },
   {
    "duration": 4,
    "start_time": "2024-03-18T07:35:46.852Z"
   },
   {
    "duration": 5192,
    "start_time": "2024-03-18T07:35:46.857Z"
   },
   {
    "duration": 59395,
    "start_time": "2024-03-18T07:35:52.052Z"
   },
   {
    "duration": 51004,
    "start_time": "2024-03-18T07:36:51.448Z"
   },
   {
    "duration": 130,
    "start_time": "2024-03-18T07:37:42.454Z"
   },
   {
    "duration": 4283,
    "start_time": "2024-03-18T07:49:20.567Z"
   },
   {
    "duration": 233,
    "start_time": "2024-03-18T07:49:32.213Z"
   },
   {
    "duration": 3,
    "start_time": "2024-03-18T07:50:15.181Z"
   },
   {
    "duration": 11,
    "start_time": "2024-03-18T07:50:15.691Z"
   },
   {
    "duration": 4877,
    "start_time": "2024-03-18T07:52:29.370Z"
   },
   {
    "duration": 1313,
    "start_time": "2024-03-18T07:52:57.966Z"
   },
   {
    "duration": 786,
    "start_time": "2024-03-18T07:52:59.281Z"
   },
   {
    "duration": 19,
    "start_time": "2024-03-18T07:53:00.069Z"
   },
   {
    "duration": 155,
    "start_time": "2024-03-18T07:53:00.091Z"
   },
   {
    "duration": 153,
    "start_time": "2024-03-18T07:53:00.247Z"
   },
   {
    "duration": 515,
    "start_time": "2024-03-18T07:53:00.401Z"
   },
   {
    "duration": 472,
    "start_time": "2024-03-18T07:53:00.917Z"
   },
   {
    "duration": 441,
    "start_time": "2024-03-18T07:53:01.390Z"
   },
   {
    "duration": 29,
    "start_time": "2024-03-18T07:53:01.833Z"
   },
   {
    "duration": 131,
    "start_time": "2024-03-18T07:53:01.864Z"
   },
   {
    "duration": 4,
    "start_time": "2024-03-18T07:53:01.996Z"
   },
   {
    "duration": 82,
    "start_time": "2024-03-18T07:53:02.001Z"
   },
   {
    "duration": 184,
    "start_time": "2024-03-18T07:53:02.085Z"
   },
   {
    "duration": 161,
    "start_time": "2024-03-18T07:53:02.270Z"
   },
   {
    "duration": 165,
    "start_time": "2024-03-18T07:53:02.432Z"
   },
   {
    "duration": 74,
    "start_time": "2024-03-18T07:53:02.599Z"
   },
   {
    "duration": 53,
    "start_time": "2024-03-18T07:53:02.674Z"
   },
   {
    "duration": 45,
    "start_time": "2024-03-18T07:53:02.728Z"
   },
   {
    "duration": 65,
    "start_time": "2024-03-18T07:53:02.774Z"
   },
   {
    "duration": 45,
    "start_time": "2024-03-18T07:53:02.840Z"
   },
   {
    "duration": 37,
    "start_time": "2024-03-18T07:53:02.887Z"
   },
   {
    "duration": 60,
    "start_time": "2024-03-18T07:53:02.926Z"
   },
   {
    "duration": 26,
    "start_time": "2024-03-18T07:53:02.988Z"
   },
   {
    "duration": 53,
    "start_time": "2024-03-18T07:53:03.015Z"
   },
   {
    "duration": 111,
    "start_time": "2024-03-18T07:53:03.070Z"
   },
   {
    "duration": 19,
    "start_time": "2024-03-18T07:53:03.183Z"
   },
   {
    "duration": 94,
    "start_time": "2024-03-18T07:53:03.204Z"
   },
   {
    "duration": 95,
    "start_time": "2024-03-18T07:53:03.301Z"
   },
   {
    "duration": 156,
    "start_time": "2024-03-18T07:53:03.398Z"
   },
   {
    "duration": 31,
    "start_time": "2024-03-18T07:53:03.555Z"
   },
   {
    "duration": 22,
    "start_time": "2024-03-18T07:53:03.588Z"
   },
   {
    "duration": 64,
    "start_time": "2024-03-18T07:53:03.612Z"
   },
   {
    "duration": 4,
    "start_time": "2024-03-18T07:53:03.677Z"
   },
   {
    "duration": 35,
    "start_time": "2024-03-18T07:53:03.682Z"
   },
   {
    "duration": 35,
    "start_time": "2024-03-18T07:53:03.718Z"
   },
   {
    "duration": 115,
    "start_time": "2024-03-18T07:53:03.754Z"
   },
   {
    "duration": 10,
    "start_time": "2024-03-18T07:53:03.871Z"
   },
   {
    "duration": 50,
    "start_time": "2024-03-18T07:53:03.883Z"
   },
   {
    "duration": 195,
    "start_time": "2024-03-18T07:53:03.935Z"
   },
   {
    "duration": 20,
    "start_time": "2024-03-18T07:53:04.131Z"
   },
   {
    "duration": 17,
    "start_time": "2024-03-18T07:53:04.152Z"
   },
   {
    "duration": 15,
    "start_time": "2024-03-18T07:53:04.171Z"
   },
   {
    "duration": 4,
    "start_time": "2024-03-18T07:53:04.187Z"
   },
   {
    "duration": 133,
    "start_time": "2024-03-18T07:53:04.192Z"
   },
   {
    "duration": 23,
    "start_time": "2024-03-18T07:53:04.327Z"
   },
   {
    "duration": 155,
    "start_time": "2024-03-18T07:53:04.351Z"
   },
   {
    "duration": 112,
    "start_time": "2024-03-18T07:53:04.507Z"
   },
   {
    "duration": 4,
    "start_time": "2024-03-18T07:53:04.620Z"
   },
   {
    "duration": 24,
    "start_time": "2024-03-18T07:53:04.625Z"
   },
   {
    "duration": 60,
    "start_time": "2024-03-18T07:53:04.650Z"
   },
   {
    "duration": 93,
    "start_time": "2024-03-18T07:53:04.711Z"
   },
   {
    "duration": 99,
    "start_time": "2024-03-18T07:53:04.806Z"
   },
   {
    "duration": 81,
    "start_time": "2024-03-18T07:53:04.906Z"
   },
   {
    "duration": 61,
    "start_time": "2024-03-18T07:53:04.988Z"
   },
   {
    "duration": 71,
    "start_time": "2024-03-18T07:53:05.051Z"
   },
   {
    "duration": 8,
    "start_time": "2024-03-18T07:53:05.123Z"
   },
   {
    "duration": 19,
    "start_time": "2024-03-18T07:53:05.132Z"
   },
   {
    "duration": 11,
    "start_time": "2024-03-18T07:53:05.152Z"
   },
   {
    "duration": 55,
    "start_time": "2024-03-18T07:53:05.164Z"
   },
   {
    "duration": 79,
    "start_time": "2024-03-18T07:53:05.221Z"
   },
   {
    "duration": 393,
    "start_time": "2024-03-18T07:53:05.310Z"
   },
   {
    "duration": 273,
    "start_time": "2024-03-18T07:53:05.704Z"
   },
   {
    "duration": 2,
    "start_time": "2024-03-18T07:53:05.978Z"
   },
   {
    "duration": 69,
    "start_time": "2024-03-18T07:53:05.982Z"
   },
   {
    "duration": 3,
    "start_time": "2024-03-18T07:53:06.053Z"
   },
   {
    "duration": 5192,
    "start_time": "2024-03-18T07:53:06.057Z"
   },
   {
    "duration": 60393,
    "start_time": "2024-03-18T07:53:11.344Z"
   },
   {
    "duration": 56112,
    "start_time": "2024-03-18T07:54:11.746Z"
   },
   {
    "duration": 4898,
    "start_time": "2024-03-18T07:55:07.859Z"
   },
   {
    "duration": 1362,
    "start_time": "2024-03-18T08:03:18.747Z"
   },
   {
    "duration": 821,
    "start_time": "2024-03-18T08:03:20.110Z"
   },
   {
    "duration": 24,
    "start_time": "2024-03-18T08:03:20.935Z"
   },
   {
    "duration": 141,
    "start_time": "2024-03-18T08:03:20.960Z"
   },
   {
    "duration": 134,
    "start_time": "2024-03-18T08:03:21.102Z"
   },
   {
    "duration": 456,
    "start_time": "2024-03-18T08:03:21.245Z"
   },
   {
    "duration": 471,
    "start_time": "2024-03-18T08:03:21.703Z"
   },
   {
    "duration": 437,
    "start_time": "2024-03-18T08:03:22.176Z"
   },
   {
    "duration": 35,
    "start_time": "2024-03-18T08:03:22.615Z"
   },
   {
    "duration": 77,
    "start_time": "2024-03-18T08:03:22.652Z"
   },
   {
    "duration": 15,
    "start_time": "2024-03-18T08:03:22.731Z"
   },
   {
    "duration": 56,
    "start_time": "2024-03-18T08:03:22.747Z"
   },
   {
    "duration": 31,
    "start_time": "2024-03-18T08:03:22.805Z"
   },
   {
    "duration": 31,
    "start_time": "2024-03-18T08:03:22.837Z"
   },
   {
    "duration": 38,
    "start_time": "2024-03-18T08:03:22.869Z"
   },
   {
    "duration": 27,
    "start_time": "2024-03-18T08:03:22.908Z"
   },
   {
    "duration": 23,
    "start_time": "2024-03-18T08:03:22.937Z"
   },
   {
    "duration": 36,
    "start_time": "2024-03-18T08:03:22.962Z"
   },
   {
    "duration": 29,
    "start_time": "2024-03-18T08:03:22.999Z"
   },
   {
    "duration": 24,
    "start_time": "2024-03-18T08:03:23.030Z"
   },
   {
    "duration": 31,
    "start_time": "2024-03-18T08:03:23.055Z"
   },
   {
    "duration": 32,
    "start_time": "2024-03-18T08:03:23.087Z"
   },
   {
    "duration": 20,
    "start_time": "2024-03-18T08:03:23.120Z"
   },
   {
    "duration": 34,
    "start_time": "2024-03-18T08:03:23.144Z"
   },
   {
    "duration": 102,
    "start_time": "2024-03-18T08:03:23.180Z"
   },
   {
    "duration": 19,
    "start_time": "2024-03-18T08:03:23.284Z"
   },
   {
    "duration": 101,
    "start_time": "2024-03-18T08:03:23.306Z"
   },
   {
    "duration": 96,
    "start_time": "2024-03-18T08:03:23.409Z"
   },
   {
    "duration": 166,
    "start_time": "2024-03-18T08:03:23.506Z"
   },
   {
    "duration": 34,
    "start_time": "2024-03-18T08:03:23.673Z"
   },
   {
    "duration": 41,
    "start_time": "2024-03-18T08:03:23.709Z"
   },
   {
    "duration": 47,
    "start_time": "2024-03-18T08:03:23.752Z"
   },
   {
    "duration": 5,
    "start_time": "2024-03-18T08:03:23.800Z"
   },
   {
    "duration": 5,
    "start_time": "2024-03-18T08:03:23.806Z"
   },
   {
    "duration": 36,
    "start_time": "2024-03-18T08:03:23.812Z"
   },
   {
    "duration": 125,
    "start_time": "2024-03-18T08:03:23.849Z"
   },
   {
    "duration": 11,
    "start_time": "2024-03-18T08:03:23.976Z"
   },
   {
    "duration": 40,
    "start_time": "2024-03-18T08:03:23.989Z"
   },
   {
    "duration": 180,
    "start_time": "2024-03-18T08:03:24.031Z"
   },
   {
    "duration": 16,
    "start_time": "2024-03-18T08:03:24.213Z"
   },
   {
    "duration": 16,
    "start_time": "2024-03-18T08:03:24.245Z"
   },
   {
    "duration": 16,
    "start_time": "2024-03-18T08:03:24.262Z"
   },
   {
    "duration": 7,
    "start_time": "2024-03-18T08:03:24.279Z"
   },
   {
    "duration": 127,
    "start_time": "2024-03-18T08:03:24.287Z"
   },
   {
    "duration": 15,
    "start_time": "2024-03-18T08:03:24.415Z"
   },
   {
    "duration": 162,
    "start_time": "2024-03-18T08:03:24.431Z"
   },
   {
    "duration": 106,
    "start_time": "2024-03-18T08:03:24.595Z"
   },
   {
    "duration": 4,
    "start_time": "2024-03-18T08:03:24.702Z"
   },
   {
    "duration": 18,
    "start_time": "2024-03-18T08:03:24.707Z"
   },
   {
    "duration": 66,
    "start_time": "2024-03-18T08:03:24.726Z"
   },
   {
    "duration": 101,
    "start_time": "2024-03-18T08:03:24.794Z"
   },
   {
    "duration": 94,
    "start_time": "2024-03-18T08:03:24.897Z"
   },
   {
    "duration": 85,
    "start_time": "2024-03-18T08:03:24.993Z"
   },
   {
    "duration": 54,
    "start_time": "2024-03-18T08:03:25.080Z"
   },
   {
    "duration": 70,
    "start_time": "2024-03-18T08:03:25.145Z"
   },
   {
    "duration": 3,
    "start_time": "2024-03-18T08:03:25.216Z"
   },
   {
    "duration": 20,
    "start_time": "2024-03-18T08:03:25.220Z"
   },
   {
    "duration": 12,
    "start_time": "2024-03-18T08:03:25.241Z"
   },
   {
    "duration": 58,
    "start_time": "2024-03-18T08:03:25.254Z"
   },
   {
    "duration": 78,
    "start_time": "2024-03-18T08:03:25.313Z"
   },
   {
    "duration": 395,
    "start_time": "2024-03-18T08:03:25.392Z"
   },
   {
    "duration": 263,
    "start_time": "2024-03-18T08:03:25.788Z"
   },
   {
    "duration": 3,
    "start_time": "2024-03-18T08:03:26.052Z"
   },
   {
    "duration": 36,
    "start_time": "2024-03-18T08:03:26.056Z"
   },
   {
    "duration": 4,
    "start_time": "2024-03-18T08:03:26.093Z"
   },
   {
    "duration": 5155,
    "start_time": "2024-03-18T08:03:26.098Z"
   },
   {
    "duration": 61550,
    "start_time": "2024-03-18T08:03:31.255Z"
   },
   {
    "duration": 66148,
    "start_time": "2024-03-18T08:04:32.807Z"
   },
   {
    "duration": 4691,
    "start_time": "2024-03-18T08:05:38.957Z"
   },
   {
    "duration": 4,
    "start_time": "2024-03-18T08:11:39.653Z"
   },
   {
    "duration": 788,
    "start_time": "2024-03-18T08:11:41.264Z"
   },
   {
    "duration": 16,
    "start_time": "2024-03-18T08:11:42.054Z"
   },
   {
    "duration": 153,
    "start_time": "2024-03-18T08:11:42.072Z"
   },
   {
    "duration": 137,
    "start_time": "2024-03-18T08:11:42.227Z"
   },
   {
    "duration": 349,
    "start_time": "2024-03-18T08:11:42.426Z"
   },
   {
    "duration": 388,
    "start_time": "2024-03-18T08:11:42.777Z"
   },
   {
    "duration": 437,
    "start_time": "2024-03-18T08:11:43.166Z"
   },
   {
    "duration": 26,
    "start_time": "2024-03-18T08:11:43.604Z"
   },
   {
    "duration": 53,
    "start_time": "2024-03-18T08:11:45.085Z"
   },
   {
    "duration": 4,
    "start_time": "2024-03-18T08:11:45.267Z"
   },
   {
    "duration": 23,
    "start_time": "2024-03-18T08:11:45.442Z"
   },
   {
    "duration": 21,
    "start_time": "2024-03-18T08:11:45.621Z"
   },
   {
    "duration": 27,
    "start_time": "2024-03-18T08:11:45.787Z"
   },
   {
    "duration": 20,
    "start_time": "2024-03-18T08:11:46.402Z"
   },
   {
    "duration": 20,
    "start_time": "2024-03-18T08:11:46.576Z"
   },
   {
    "duration": 22,
    "start_time": "2024-03-18T08:11:46.992Z"
   },
   {
    "duration": 18,
    "start_time": "2024-03-18T08:11:48.626Z"
   },
   {
    "duration": 27,
    "start_time": "2024-03-18T08:11:48.980Z"
   },
   {
    "duration": 20,
    "start_time": "2024-03-18T08:11:51.027Z"
   },
   {
    "duration": 19,
    "start_time": "2024-03-18T08:12:01.880Z"
   },
   {
    "duration": 30,
    "start_time": "2024-03-18T08:12:02.103Z"
   },
   {
    "duration": 20,
    "start_time": "2024-03-18T08:12:02.535Z"
   },
   {
    "duration": 32,
    "start_time": "2024-03-18T08:12:02.740Z"
   },
   {
    "duration": 83,
    "start_time": "2024-03-18T08:12:02.932Z"
   },
   {
    "duration": 20,
    "start_time": "2024-03-18T08:12:03.728Z"
   },
   {
    "duration": 85,
    "start_time": "2024-03-18T08:12:03.930Z"
   },
   {
    "duration": 91,
    "start_time": "2024-03-18T08:12:04.141Z"
   },
   {
    "duration": 145,
    "start_time": "2024-03-18T08:12:04.911Z"
   },
   {
    "duration": 21,
    "start_time": "2024-03-18T08:12:05.106Z"
   },
   {
    "duration": 19,
    "start_time": "2024-03-18T08:12:06.302Z"
   },
   {
    "duration": 48,
    "start_time": "2024-03-18T08:12:06.518Z"
   },
   {
    "duration": 5,
    "start_time": "2024-03-18T08:12:06.921Z"
   },
   {
    "duration": 4,
    "start_time": "2024-03-18T08:12:07.135Z"
   },
   {
    "duration": 16,
    "start_time": "2024-03-18T08:12:07.353Z"
   },
   {
    "duration": 119,
    "start_time": "2024-03-18T08:12:08.219Z"
   },
   {
    "duration": 12,
    "start_time": "2024-03-18T08:12:08.578Z"
   },
   {
    "duration": 15,
    "start_time": "2024-03-18T08:12:08.981Z"
   },
   {
    "duration": 120,
    "start_time": "2024-03-18T08:12:09.184Z"
   },
   {
    "duration": 16,
    "start_time": "2024-03-18T08:12:09.401Z"
   },
   {
    "duration": 16,
    "start_time": "2024-03-18T08:12:09.605Z"
   },
   {
    "duration": 16,
    "start_time": "2024-03-18T08:12:09.833Z"
   },
   {
    "duration": 4,
    "start_time": "2024-03-18T08:12:11.780Z"
   },
   {
    "duration": 113,
    "start_time": "2024-03-18T08:12:12.239Z"
   },
   {
    "duration": 15,
    "start_time": "2024-03-18T08:12:12.468Z"
   },
   {
    "duration": 169,
    "start_time": "2024-03-18T08:12:13.059Z"
   },
   {
    "duration": 112,
    "start_time": "2024-03-18T08:12:13.274Z"
   },
   {
    "duration": 4,
    "start_time": "2024-03-18T08:12:13.505Z"
   },
   {
    "duration": 14,
    "start_time": "2024-03-18T08:12:13.935Z"
   },
   {
    "duration": 66,
    "start_time": "2024-03-18T08:12:14.307Z"
   },
   {
    "duration": 14,
    "start_time": "2024-03-18T08:12:15.873Z"
   },
   {
    "duration": 83,
    "start_time": "2024-03-18T08:12:16.306Z"
   },
   {
    "duration": 112,
    "start_time": "2024-03-18T08:12:16.872Z"
   },
   {
    "duration": 79,
    "start_time": "2024-03-18T08:12:18.032Z"
   },
   {
    "duration": 54,
    "start_time": "2024-03-18T08:12:18.524Z"
   },
   {
    "duration": 22,
    "start_time": "2024-03-18T08:15:30.326Z"
   },
   {
    "duration": 14,
    "start_time": "2024-03-18T08:16:39.513Z"
   },
   {
    "duration": 11,
    "start_time": "2024-03-18T08:16:46.024Z"
   },
   {
    "duration": 11,
    "start_time": "2024-03-18T08:17:05.480Z"
   },
   {
    "duration": 19,
    "start_time": "2024-03-18T08:17:05.922Z"
   },
   {
    "duration": 25,
    "start_time": "2024-03-18T08:17:06.516Z"
   },
   {
    "duration": 11,
    "start_time": "2024-03-18T08:17:06.886Z"
   },
   {
    "duration": 1346,
    "start_time": "2024-03-18T08:17:14.673Z"
   },
   {
    "duration": 792,
    "start_time": "2024-03-18T08:17:16.021Z"
   },
   {
    "duration": 16,
    "start_time": "2024-03-18T08:17:16.814Z"
   },
   {
    "duration": 145,
    "start_time": "2024-03-18T08:17:16.832Z"
   },
   {
    "duration": 139,
    "start_time": "2024-03-18T08:17:16.978Z"
   },
   {
    "duration": 488,
    "start_time": "2024-03-18T08:17:17.118Z"
   },
   {
    "duration": 478,
    "start_time": "2024-03-18T08:17:17.608Z"
   },
   {
    "duration": 457,
    "start_time": "2024-03-18T08:17:18.088Z"
   },
   {
    "duration": 40,
    "start_time": "2024-03-18T08:17:18.547Z"
   },
   {
    "duration": 96,
    "start_time": "2024-03-18T08:17:18.590Z"
   },
   {
    "duration": 4,
    "start_time": "2024-03-18T08:17:18.687Z"
   },
   {
    "duration": 47,
    "start_time": "2024-03-18T08:17:18.692Z"
   },
   {
    "duration": 28,
    "start_time": "2024-03-18T08:17:18.740Z"
   },
   {
    "duration": 45,
    "start_time": "2024-03-18T08:17:18.770Z"
   },
   {
    "duration": 20,
    "start_time": "2024-03-18T08:17:18.817Z"
   },
   {
    "duration": 18,
    "start_time": "2024-03-18T08:17:18.838Z"
   },
   {
    "duration": 30,
    "start_time": "2024-03-18T08:17:18.857Z"
   },
   {
    "duration": 45,
    "start_time": "2024-03-18T08:17:18.888Z"
   },
   {
    "duration": 68,
    "start_time": "2024-03-18T08:17:18.934Z"
   },
   {
    "duration": 20,
    "start_time": "2024-03-18T08:17:19.004Z"
   },
   {
    "duration": 36,
    "start_time": "2024-03-18T08:17:19.026Z"
   },
   {
    "duration": 34,
    "start_time": "2024-03-18T08:17:19.064Z"
   },
   {
    "duration": 21,
    "start_time": "2024-03-18T08:17:19.099Z"
   },
   {
    "duration": 45,
    "start_time": "2024-03-18T08:17:19.121Z"
   },
   {
    "duration": 93,
    "start_time": "2024-03-18T08:17:19.167Z"
   },
   {
    "duration": 19,
    "start_time": "2024-03-18T08:17:19.262Z"
   },
   {
    "duration": 115,
    "start_time": "2024-03-18T08:17:19.282Z"
   },
   {
    "duration": 102,
    "start_time": "2024-03-18T08:17:19.400Z"
   },
   {
    "duration": 176,
    "start_time": "2024-03-18T08:17:19.503Z"
   },
   {
    "duration": 32,
    "start_time": "2024-03-18T08:17:19.681Z"
   },
   {
    "duration": 40,
    "start_time": "2024-03-18T08:17:19.715Z"
   },
   {
    "duration": 49,
    "start_time": "2024-03-18T08:17:19.756Z"
   },
   {
    "duration": 4,
    "start_time": "2024-03-18T08:17:19.806Z"
   },
   {
    "duration": 14,
    "start_time": "2024-03-18T08:17:19.811Z"
   },
   {
    "duration": 28,
    "start_time": "2024-03-18T08:17:19.827Z"
   },
   {
    "duration": 137,
    "start_time": "2024-03-18T08:17:19.857Z"
   },
   {
    "duration": 12,
    "start_time": "2024-03-18T08:17:19.995Z"
   },
   {
    "duration": 31,
    "start_time": "2024-03-18T08:17:20.009Z"
   },
   {
    "duration": 194,
    "start_time": "2024-03-18T08:17:20.041Z"
   },
   {
    "duration": 20,
    "start_time": "2024-03-18T08:17:20.237Z"
   },
   {
    "duration": 27,
    "start_time": "2024-03-18T08:17:20.258Z"
   },
   {
    "duration": 16,
    "start_time": "2024-03-18T08:17:20.287Z"
   },
   {
    "duration": 18,
    "start_time": "2024-03-18T08:17:20.304Z"
   },
   {
    "duration": 127,
    "start_time": "2024-03-18T08:17:20.323Z"
   },
   {
    "duration": 16,
    "start_time": "2024-03-18T08:17:20.451Z"
   },
   {
    "duration": 157,
    "start_time": "2024-03-18T08:17:20.468Z"
   },
   {
    "duration": 106,
    "start_time": "2024-03-18T08:17:20.626Z"
   },
   {
    "duration": 10,
    "start_time": "2024-03-18T08:17:20.734Z"
   },
   {
    "duration": 23,
    "start_time": "2024-03-18T08:17:20.746Z"
   },
   {
    "duration": 78,
    "start_time": "2024-03-18T08:17:20.771Z"
   },
   {
    "duration": 27,
    "start_time": "2024-03-18T08:17:20.850Z"
   },
   {
    "duration": 41,
    "start_time": "2024-03-18T08:17:20.879Z"
   },
   {
    "duration": 53,
    "start_time": "2024-03-18T08:17:20.923Z"
   },
   {
    "duration": 14,
    "start_time": "2024-03-18T08:17:20.978Z"
   },
   {
    "duration": 109,
    "start_time": "2024-03-18T08:17:20.994Z"
   },
   {
    "duration": 104,
    "start_time": "2024-03-18T08:17:21.105Z"
   },
   {
    "duration": 82,
    "start_time": "2024-03-18T08:17:21.210Z"
   },
   {
    "duration": 57,
    "start_time": "2024-03-18T08:17:21.294Z"
   },
   {
    "duration": 68,
    "start_time": "2024-03-18T08:17:21.352Z"
   },
   {
    "duration": 3,
    "start_time": "2024-03-18T08:17:21.421Z"
   },
   {
    "duration": 20,
    "start_time": "2024-03-18T08:17:21.425Z"
   },
   {
    "duration": 20,
    "start_time": "2024-03-18T08:17:21.446Z"
   },
   {
    "duration": 61,
    "start_time": "2024-03-18T08:17:21.468Z"
   },
   {
    "duration": 75,
    "start_time": "2024-03-18T08:17:21.530Z"
   },
   {
    "duration": 382,
    "start_time": "2024-03-18T08:17:21.606Z"
   },
   {
    "duration": 282,
    "start_time": "2024-03-18T08:17:21.990Z"
   },
   {
    "duration": 3,
    "start_time": "2024-03-18T08:17:22.274Z"
   },
   {
    "duration": 56,
    "start_time": "2024-03-18T08:17:22.278Z"
   },
   {
    "duration": 4,
    "start_time": "2024-03-18T08:17:22.336Z"
   },
   {
    "duration": 1803,
    "start_time": "2024-03-18T08:17:22.342Z"
   },
   {
    "duration": 32370,
    "start_time": "2024-03-18T08:17:24.152Z"
   },
   {
    "duration": 0,
    "start_time": "2024-03-18T08:17:56.523Z"
   },
   {
    "duration": 0,
    "start_time": "2024-03-18T08:17:56.524Z"
   },
   {
    "duration": 1334,
    "start_time": "2024-03-18T08:18:21.577Z"
   },
   {
    "duration": 815,
    "start_time": "2024-03-18T08:18:22.913Z"
   },
   {
    "duration": 26,
    "start_time": "2024-03-18T08:18:23.730Z"
   },
   {
    "duration": 162,
    "start_time": "2024-03-18T08:18:23.758Z"
   },
   {
    "duration": 136,
    "start_time": "2024-03-18T08:18:23.921Z"
   },
   {
    "duration": 439,
    "start_time": "2024-03-18T08:18:24.058Z"
   },
   {
    "duration": 485,
    "start_time": "2024-03-18T08:18:24.498Z"
   },
   {
    "duration": 432,
    "start_time": "2024-03-18T08:18:24.984Z"
   },
   {
    "duration": 33,
    "start_time": "2024-03-18T08:18:25.418Z"
   },
   {
    "duration": 92,
    "start_time": "2024-03-18T08:18:25.454Z"
   },
   {
    "duration": 3,
    "start_time": "2024-03-18T08:18:25.548Z"
   },
   {
    "duration": 92,
    "start_time": "2024-03-18T08:18:25.552Z"
   },
   {
    "duration": 63,
    "start_time": "2024-03-18T08:18:25.645Z"
   },
   {
    "duration": 46,
    "start_time": "2024-03-18T08:18:25.709Z"
   },
   {
    "duration": 54,
    "start_time": "2024-03-18T08:18:25.757Z"
   },
   {
    "duration": 27,
    "start_time": "2024-03-18T08:18:25.813Z"
   },
   {
    "duration": 24,
    "start_time": "2024-03-18T08:18:25.842Z"
   },
   {
    "duration": 28,
    "start_time": "2024-03-18T08:18:25.867Z"
   },
   {
    "duration": 45,
    "start_time": "2024-03-18T08:18:25.896Z"
   },
   {
    "duration": 45,
    "start_time": "2024-03-18T08:18:25.942Z"
   },
   {
    "duration": 28,
    "start_time": "2024-03-18T08:18:25.989Z"
   },
   {
    "duration": 49,
    "start_time": "2024-03-18T08:18:26.018Z"
   },
   {
    "duration": 36,
    "start_time": "2024-03-18T08:18:26.069Z"
   },
   {
    "duration": 45,
    "start_time": "2024-03-18T08:18:26.106Z"
   },
   {
    "duration": 120,
    "start_time": "2024-03-18T08:18:26.153Z"
   },
   {
    "duration": 20,
    "start_time": "2024-03-18T08:18:26.274Z"
   },
   {
    "duration": 115,
    "start_time": "2024-03-18T08:18:26.295Z"
   },
   {
    "duration": 101,
    "start_time": "2024-03-18T08:18:26.413Z"
   },
   {
    "duration": 166,
    "start_time": "2024-03-18T08:18:26.515Z"
   },
   {
    "duration": 32,
    "start_time": "2024-03-18T08:18:26.682Z"
   },
   {
    "duration": 38,
    "start_time": "2024-03-18T08:18:26.716Z"
   },
   {
    "duration": 48,
    "start_time": "2024-03-18T08:18:26.755Z"
   },
   {
    "duration": 4,
    "start_time": "2024-03-18T08:18:26.804Z"
   },
   {
    "duration": 21,
    "start_time": "2024-03-18T08:18:26.809Z"
   },
   {
    "duration": 31,
    "start_time": "2024-03-18T08:18:26.832Z"
   },
   {
    "duration": 111,
    "start_time": "2024-03-18T08:18:26.864Z"
   },
   {
    "duration": 11,
    "start_time": "2024-03-18T08:18:26.977Z"
   },
   {
    "duration": 40,
    "start_time": "2024-03-18T08:18:26.989Z"
   },
   {
    "duration": 205,
    "start_time": "2024-03-18T08:18:27.030Z"
   },
   {
    "duration": 17,
    "start_time": "2024-03-18T08:18:27.237Z"
   },
   {
    "duration": 29,
    "start_time": "2024-03-18T08:18:27.256Z"
   },
   {
    "duration": 28,
    "start_time": "2024-03-18T08:18:27.287Z"
   },
   {
    "duration": 16,
    "start_time": "2024-03-18T08:18:27.317Z"
   },
   {
    "duration": 145,
    "start_time": "2024-03-18T08:18:27.335Z"
   },
   {
    "duration": 20,
    "start_time": "2024-03-18T08:18:27.482Z"
   },
   {
    "duration": 188,
    "start_time": "2024-03-18T08:18:27.504Z"
   },
   {
    "duration": 123,
    "start_time": "2024-03-18T08:18:27.694Z"
   },
   {
    "duration": 4,
    "start_time": "2024-03-18T08:18:27.818Z"
   },
   {
    "duration": 24,
    "start_time": "2024-03-18T08:18:27.823Z"
   },
   {
    "duration": 56,
    "start_time": "2024-03-18T08:18:27.848Z"
   },
   {
    "duration": 14,
    "start_time": "2024-03-18T08:18:27.905Z"
   },
   {
    "duration": 34,
    "start_time": "2024-03-18T08:18:27.921Z"
   },
   {
    "duration": 62,
    "start_time": "2024-03-18T08:18:27.956Z"
   },
   {
    "duration": 19,
    "start_time": "2024-03-18T08:18:28.019Z"
   },
   {
    "duration": 94,
    "start_time": "2024-03-18T08:18:28.039Z"
   },
   {
    "duration": 92,
    "start_time": "2024-03-18T08:18:28.134Z"
   },
   {
    "duration": 87,
    "start_time": "2024-03-18T08:18:28.228Z"
   },
   {
    "duration": 54,
    "start_time": "2024-03-18T08:18:28.317Z"
   },
   {
    "duration": 73,
    "start_time": "2024-03-18T08:18:28.372Z"
   },
   {
    "duration": 3,
    "start_time": "2024-03-18T08:18:28.446Z"
   },
   {
    "duration": 27,
    "start_time": "2024-03-18T08:18:28.450Z"
   },
   {
    "duration": 14,
    "start_time": "2024-03-18T08:18:28.479Z"
   },
   {
    "duration": 368,
    "start_time": "2024-03-18T08:18:28.495Z"
   },
   {
    "duration": 255,
    "start_time": "2024-03-18T08:18:28.865Z"
   },
   {
    "duration": 3,
    "start_time": "2024-03-18T08:18:29.121Z"
   },
   {
    "duration": 38,
    "start_time": "2024-03-18T08:18:29.125Z"
   },
   {
    "duration": 3,
    "start_time": "2024-03-18T08:18:29.164Z"
   },
   {
    "duration": 1976,
    "start_time": "2024-03-18T08:18:29.169Z"
   },
   {
    "duration": 57082,
    "start_time": "2024-03-18T08:18:31.148Z"
   },
   {
    "duration": 55015,
    "start_time": "2024-03-18T08:19:28.232Z"
   },
   {
    "duration": 5009,
    "start_time": "2024-03-18T08:20:23.249Z"
   },
   {
    "duration": 1297,
    "start_time": "2024-03-18T08:24:15.670Z"
   },
   {
    "duration": 822,
    "start_time": "2024-03-18T08:24:16.968Z"
   },
   {
    "duration": 16,
    "start_time": "2024-03-18T08:24:17.792Z"
   },
   {
    "duration": 141,
    "start_time": "2024-03-18T08:24:17.810Z"
   },
   {
    "duration": 133,
    "start_time": "2024-03-18T08:24:17.953Z"
   },
   {
    "duration": 441,
    "start_time": "2024-03-18T08:24:18.088Z"
   },
   {
    "duration": 456,
    "start_time": "2024-03-18T08:24:18.531Z"
   },
   {
    "duration": 418,
    "start_time": "2024-03-18T08:24:18.988Z"
   },
   {
    "duration": 38,
    "start_time": "2024-03-18T08:24:19.407Z"
   },
   {
    "duration": 71,
    "start_time": "2024-03-18T08:24:19.448Z"
   },
   {
    "duration": 3,
    "start_time": "2024-03-18T08:24:19.521Z"
   },
   {
    "duration": 52,
    "start_time": "2024-03-18T08:24:19.526Z"
   },
   {
    "duration": 24,
    "start_time": "2024-03-18T08:24:19.579Z"
   },
   {
    "duration": 23,
    "start_time": "2024-03-18T08:24:19.604Z"
   },
   {
    "duration": 27,
    "start_time": "2024-03-18T08:24:19.629Z"
   },
   {
    "duration": 19,
    "start_time": "2024-03-18T08:24:19.657Z"
   },
   {
    "duration": 42,
    "start_time": "2024-03-18T08:24:19.677Z"
   },
   {
    "duration": 22,
    "start_time": "2024-03-18T08:24:19.720Z"
   },
   {
    "duration": 50,
    "start_time": "2024-03-18T08:24:19.743Z"
   },
   {
    "duration": 20,
    "start_time": "2024-03-18T08:24:19.795Z"
   },
   {
    "duration": 34,
    "start_time": "2024-03-18T08:24:19.816Z"
   },
   {
    "duration": 38,
    "start_time": "2024-03-18T08:24:19.852Z"
   },
   {
    "duration": 20,
    "start_time": "2024-03-18T08:24:19.891Z"
   },
   {
    "duration": 38,
    "start_time": "2024-03-18T08:24:19.913Z"
   },
   {
    "duration": 87,
    "start_time": "2024-03-18T08:24:19.952Z"
   },
   {
    "duration": 22,
    "start_time": "2024-03-18T08:24:20.040Z"
   },
   {
    "duration": 89,
    "start_time": "2024-03-18T08:24:20.064Z"
   },
   {
    "duration": 96,
    "start_time": "2024-03-18T08:24:20.156Z"
   },
   {
    "duration": 155,
    "start_time": "2024-03-18T08:24:20.254Z"
   },
   {
    "duration": 34,
    "start_time": "2024-03-18T08:24:20.411Z"
   },
   {
    "duration": 26,
    "start_time": "2024-03-18T08:24:20.447Z"
   },
   {
    "duration": 46,
    "start_time": "2024-03-18T08:24:20.475Z"
   },
   {
    "duration": 23,
    "start_time": "2024-03-18T08:24:20.523Z"
   },
   {
    "duration": 13,
    "start_time": "2024-03-18T08:24:20.547Z"
   },
   {
    "duration": 37,
    "start_time": "2024-03-18T08:24:20.561Z"
   },
   {
    "duration": 119,
    "start_time": "2024-03-18T08:24:20.600Z"
   },
   {
    "duration": 12,
    "start_time": "2024-03-18T08:24:20.720Z"
   },
   {
    "duration": 25,
    "start_time": "2024-03-18T08:24:20.733Z"
   },
   {
    "duration": 170,
    "start_time": "2024-03-18T08:24:20.759Z"
   },
   {
    "duration": 21,
    "start_time": "2024-03-18T08:24:20.930Z"
   },
   {
    "duration": 19,
    "start_time": "2024-03-18T08:24:20.952Z"
   },
   {
    "duration": 14,
    "start_time": "2024-03-18T08:24:20.973Z"
   },
   {
    "duration": 15,
    "start_time": "2024-03-18T08:24:20.989Z"
   },
   {
    "duration": 120,
    "start_time": "2024-03-18T08:24:21.005Z"
   },
   {
    "duration": 22,
    "start_time": "2024-03-18T08:24:21.126Z"
   },
   {
    "duration": 151,
    "start_time": "2024-03-18T08:24:21.150Z"
   },
   {
    "duration": 116,
    "start_time": "2024-03-18T08:24:21.302Z"
   },
   {
    "duration": 4,
    "start_time": "2024-03-18T08:24:21.419Z"
   },
   {
    "duration": 39,
    "start_time": "2024-03-18T08:24:21.424Z"
   },
   {
    "duration": 65,
    "start_time": "2024-03-18T08:24:21.465Z"
   },
   {
    "duration": 20,
    "start_time": "2024-03-18T08:24:21.531Z"
   },
   {
    "duration": 22,
    "start_time": "2024-03-18T08:24:21.552Z"
   },
   {
    "duration": 38,
    "start_time": "2024-03-18T08:24:21.575Z"
   },
   {
    "duration": 19,
    "start_time": "2024-03-18T08:24:21.615Z"
   },
   {
    "duration": 89,
    "start_time": "2024-03-18T08:24:21.635Z"
   },
   {
    "duration": 99,
    "start_time": "2024-03-18T08:24:21.726Z"
   },
   {
    "duration": 87,
    "start_time": "2024-03-18T08:24:21.826Z"
   },
   {
    "duration": 60,
    "start_time": "2024-03-18T08:24:21.914Z"
   },
   {
    "duration": 77,
    "start_time": "2024-03-18T08:24:21.976Z"
   },
   {
    "duration": 2,
    "start_time": "2024-03-18T08:24:22.055Z"
   },
   {
    "duration": 5,
    "start_time": "2024-03-18T08:24:22.059Z"
   },
   {
    "duration": 11,
    "start_time": "2024-03-18T08:24:22.065Z"
   },
   {
    "duration": 376,
    "start_time": "2024-03-18T08:24:22.078Z"
   },
   {
    "duration": 272,
    "start_time": "2024-03-18T08:24:22.455Z"
   },
   {
    "duration": 3,
    "start_time": "2024-03-18T08:24:22.729Z"
   },
   {
    "duration": 40,
    "start_time": "2024-03-18T08:24:22.733Z"
   },
   {
    "duration": 5,
    "start_time": "2024-03-18T08:24:22.774Z"
   },
   {
    "duration": 1775,
    "start_time": "2024-03-18T08:24:22.780Z"
   },
   {
    "duration": 55825,
    "start_time": "2024-03-18T08:24:24.562Z"
   },
   {
    "duration": 50970,
    "start_time": "2024-03-18T08:25:20.389Z"
   },
   {
    "duration": 5584,
    "start_time": "2024-03-18T08:26:11.361Z"
   },
   {
    "duration": 1357,
    "start_time": "2024-03-18T08:28:52.126Z"
   },
   {
    "duration": 789,
    "start_time": "2024-03-18T08:28:53.485Z"
   },
   {
    "duration": 16,
    "start_time": "2024-03-18T08:28:54.275Z"
   },
   {
    "duration": 141,
    "start_time": "2024-03-18T08:28:54.293Z"
   },
   {
    "duration": 138,
    "start_time": "2024-03-18T08:28:54.435Z"
   },
   {
    "duration": 432,
    "start_time": "2024-03-18T08:28:54.574Z"
   },
   {
    "duration": 474,
    "start_time": "2024-03-18T08:28:55.008Z"
   },
   {
    "duration": 415,
    "start_time": "2024-03-18T08:28:55.484Z"
   },
   {
    "duration": 26,
    "start_time": "2024-03-18T08:28:55.900Z"
   },
   {
    "duration": 103,
    "start_time": "2024-03-18T08:28:55.928Z"
   },
   {
    "duration": 4,
    "start_time": "2024-03-18T08:28:56.033Z"
   },
   {
    "duration": 56,
    "start_time": "2024-03-18T08:28:56.038Z"
   },
   {
    "duration": 55,
    "start_time": "2024-03-18T08:28:56.095Z"
   },
   {
    "duration": 48,
    "start_time": "2024-03-18T08:28:56.152Z"
   },
   {
    "duration": 44,
    "start_time": "2024-03-18T08:28:56.202Z"
   },
   {
    "duration": 40,
    "start_time": "2024-03-18T08:28:56.247Z"
   },
   {
    "duration": 55,
    "start_time": "2024-03-18T08:28:56.289Z"
   },
   {
    "duration": 41,
    "start_time": "2024-03-18T08:28:56.345Z"
   },
   {
    "duration": 38,
    "start_time": "2024-03-18T08:28:56.387Z"
   },
   {
    "duration": 33,
    "start_time": "2024-03-18T08:28:56.427Z"
   },
   {
    "duration": 33,
    "start_time": "2024-03-18T08:28:56.462Z"
   },
   {
    "duration": 47,
    "start_time": "2024-03-18T08:28:56.496Z"
   },
   {
    "duration": 26,
    "start_time": "2024-03-18T08:28:56.545Z"
   },
   {
    "duration": 66,
    "start_time": "2024-03-18T08:28:56.572Z"
   },
   {
    "duration": 109,
    "start_time": "2024-03-18T08:28:56.640Z"
   },
   {
    "duration": 19,
    "start_time": "2024-03-18T08:28:56.750Z"
   },
   {
    "duration": 104,
    "start_time": "2024-03-18T08:28:56.770Z"
   },
   {
    "duration": 110,
    "start_time": "2024-03-18T08:28:56.877Z"
   },
   {
    "duration": 161,
    "start_time": "2024-03-18T08:28:56.989Z"
   },
   {
    "duration": 35,
    "start_time": "2024-03-18T08:28:57.151Z"
   },
   {
    "duration": 26,
    "start_time": "2024-03-18T08:28:57.187Z"
   },
   {
    "duration": 116,
    "start_time": "2024-03-18T08:28:57.215Z"
   },
   {
    "duration": 5,
    "start_time": "2024-03-18T08:28:57.332Z"
   },
   {
    "duration": 33,
    "start_time": "2024-03-18T08:28:57.338Z"
   },
   {
    "duration": 39,
    "start_time": "2024-03-18T08:28:57.372Z"
   },
   {
    "duration": 112,
    "start_time": "2024-03-18T08:28:57.414Z"
   },
   {
    "duration": 19,
    "start_time": "2024-03-18T08:28:57.527Z"
   },
   {
    "duration": 30,
    "start_time": "2024-03-18T08:28:57.547Z"
   },
   {
    "duration": 213,
    "start_time": "2024-03-18T08:28:57.578Z"
   },
   {
    "duration": 15,
    "start_time": "2024-03-18T08:28:57.793Z"
   },
   {
    "duration": 38,
    "start_time": "2024-03-18T08:28:57.809Z"
   },
   {
    "duration": 19,
    "start_time": "2024-03-18T08:28:57.849Z"
   },
   {
    "duration": 5,
    "start_time": "2024-03-18T08:28:57.870Z"
   },
   {
    "duration": 133,
    "start_time": "2024-03-18T08:28:57.877Z"
   },
   {
    "duration": 16,
    "start_time": "2024-03-18T08:28:58.012Z"
   },
   {
    "duration": 205,
    "start_time": "2024-03-18T08:28:58.029Z"
   },
   {
    "duration": 113,
    "start_time": "2024-03-18T08:28:58.236Z"
   },
   {
    "duration": 4,
    "start_time": "2024-03-18T08:28:58.350Z"
   },
   {
    "duration": 21,
    "start_time": "2024-03-18T08:28:58.356Z"
   },
   {
    "duration": 68,
    "start_time": "2024-03-18T08:28:58.378Z"
   },
   {
    "duration": 27,
    "start_time": "2024-03-18T08:28:58.448Z"
   },
   {
    "duration": 42,
    "start_time": "2024-03-18T08:28:58.476Z"
   },
   {
    "duration": 62,
    "start_time": "2024-03-18T08:28:58.520Z"
   },
   {
    "duration": 27,
    "start_time": "2024-03-18T08:28:58.584Z"
   },
   {
    "duration": 99,
    "start_time": "2024-03-18T08:28:58.612Z"
   },
   {
    "duration": 94,
    "start_time": "2024-03-18T08:28:58.712Z"
   },
   {
    "duration": 78,
    "start_time": "2024-03-18T08:28:58.808Z"
   },
   {
    "duration": 64,
    "start_time": "2024-03-18T08:28:58.888Z"
   },
   {
    "duration": 64,
    "start_time": "2024-03-18T08:28:58.953Z"
   },
   {
    "duration": 3,
    "start_time": "2024-03-18T08:28:59.018Z"
   },
   {
    "duration": 16,
    "start_time": "2024-03-18T08:28:59.022Z"
   },
   {
    "duration": 24,
    "start_time": "2024-03-18T08:28:59.039Z"
   },
   {
    "duration": 420,
    "start_time": "2024-03-18T08:28:59.065Z"
   },
   {
    "duration": 297,
    "start_time": "2024-03-18T08:28:59.486Z"
   },
   {
    "duration": 3,
    "start_time": "2024-03-18T08:28:59.784Z"
   },
   {
    "duration": 32,
    "start_time": "2024-03-18T08:28:59.789Z"
   },
   {
    "duration": 4,
    "start_time": "2024-03-18T08:28:59.822Z"
   },
   {
    "duration": 1826,
    "start_time": "2024-03-18T08:28:59.828Z"
   },
   {
    "duration": 54841,
    "start_time": "2024-03-18T08:29:01.746Z"
   },
   {
    "duration": 51669,
    "start_time": "2024-03-18T08:29:56.588Z"
   },
   {
    "duration": 6299,
    "start_time": "2024-03-18T08:30:48.259Z"
   },
   {
    "duration": 1635,
    "start_time": "2024-03-18T12:49:48.971Z"
   },
   {
    "duration": 1024,
    "start_time": "2024-03-18T12:49:50.608Z"
   },
   {
    "duration": 16,
    "start_time": "2024-03-18T12:49:51.634Z"
   },
   {
    "duration": 132,
    "start_time": "2024-03-18T12:49:51.651Z"
   },
   {
    "duration": 133,
    "start_time": "2024-03-18T12:49:51.785Z"
   },
   {
    "duration": 407,
    "start_time": "2024-03-18T12:49:51.920Z"
   },
   {
    "duration": 428,
    "start_time": "2024-03-18T12:49:52.328Z"
   },
   {
    "duration": 408,
    "start_time": "2024-03-18T12:49:52.758Z"
   },
   {
    "duration": 26,
    "start_time": "2024-03-18T12:49:53.167Z"
   },
   {
    "duration": 77,
    "start_time": "2024-03-18T12:49:53.195Z"
   },
   {
    "duration": 4,
    "start_time": "2024-03-18T12:49:53.274Z"
   },
   {
    "duration": 41,
    "start_time": "2024-03-18T12:49:53.279Z"
   },
   {
    "duration": 50,
    "start_time": "2024-03-18T12:49:53.322Z"
   },
   {
    "duration": 29,
    "start_time": "2024-03-18T12:49:53.375Z"
   },
   {
    "duration": 33,
    "start_time": "2024-03-18T12:49:53.406Z"
   },
   {
    "duration": 23,
    "start_time": "2024-03-18T12:49:53.441Z"
   },
   {
    "duration": 43,
    "start_time": "2024-03-18T12:49:53.466Z"
   },
   {
    "duration": 38,
    "start_time": "2024-03-18T12:49:53.510Z"
   },
   {
    "duration": 51,
    "start_time": "2024-03-18T12:49:53.550Z"
   },
   {
    "duration": 27,
    "start_time": "2024-03-18T12:49:53.602Z"
   },
   {
    "duration": 42,
    "start_time": "2024-03-18T12:49:53.630Z"
   },
   {
    "duration": 42,
    "start_time": "2024-03-18T12:49:53.674Z"
   },
   {
    "duration": 20,
    "start_time": "2024-03-18T12:49:53.717Z"
   },
   {
    "duration": 37,
    "start_time": "2024-03-18T12:49:53.739Z"
   },
   {
    "duration": 111,
    "start_time": "2024-03-18T12:49:53.777Z"
   },
   {
    "duration": 18,
    "start_time": "2024-03-18T12:49:53.890Z"
   },
   {
    "duration": 96,
    "start_time": "2024-03-18T12:49:53.910Z"
   },
   {
    "duration": 94,
    "start_time": "2024-03-18T12:49:54.008Z"
   },
   {
    "duration": 166,
    "start_time": "2024-03-18T12:49:54.103Z"
   },
   {
    "duration": 31,
    "start_time": "2024-03-18T12:49:54.270Z"
   },
   {
    "duration": 42,
    "start_time": "2024-03-18T12:49:54.303Z"
   },
   {
    "duration": 48,
    "start_time": "2024-03-18T12:49:54.346Z"
   },
   {
    "duration": 14,
    "start_time": "2024-03-18T12:49:54.396Z"
   },
   {
    "duration": 14,
    "start_time": "2024-03-18T12:49:54.412Z"
   },
   {
    "duration": 30,
    "start_time": "2024-03-18T12:49:54.428Z"
   },
   {
    "duration": 111,
    "start_time": "2024-03-18T12:49:54.459Z"
   },
   {
    "duration": 10,
    "start_time": "2024-03-18T12:49:54.572Z"
   },
   {
    "duration": 22,
    "start_time": "2024-03-18T12:49:54.583Z"
   },
   {
    "duration": 169,
    "start_time": "2024-03-18T12:49:54.606Z"
   },
   {
    "duration": 15,
    "start_time": "2024-03-18T12:49:54.777Z"
   },
   {
    "duration": 35,
    "start_time": "2024-03-18T12:49:54.795Z"
   },
   {
    "duration": 47,
    "start_time": "2024-03-18T12:49:54.831Z"
   },
   {
    "duration": 12,
    "start_time": "2024-03-18T12:49:54.880Z"
   },
   {
    "duration": 131,
    "start_time": "2024-03-18T12:49:54.893Z"
   },
   {
    "duration": 19,
    "start_time": "2024-03-18T12:49:55.026Z"
   },
   {
    "duration": 153,
    "start_time": "2024-03-18T12:49:55.046Z"
   },
   {
    "duration": 106,
    "start_time": "2024-03-18T12:49:55.201Z"
   },
   {
    "duration": 4,
    "start_time": "2024-03-18T12:49:55.309Z"
   },
   {
    "duration": 35,
    "start_time": "2024-03-18T12:49:55.315Z"
   },
   {
    "duration": 57,
    "start_time": "2024-03-18T12:49:55.351Z"
   },
   {
    "duration": 26,
    "start_time": "2024-03-18T12:49:55.410Z"
   },
   {
    "duration": 33,
    "start_time": "2024-03-18T12:49:55.437Z"
   },
   {
    "duration": 40,
    "start_time": "2024-03-18T12:49:55.472Z"
   },
   {
    "duration": 26,
    "start_time": "2024-03-18T12:49:55.513Z"
   },
   {
    "duration": 11,
    "start_time": "2024-03-18T12:49:55.541Z"
   },
   {
    "duration": 79,
    "start_time": "2024-03-18T12:49:55.554Z"
   },
   {
    "duration": 110,
    "start_time": "2024-03-18T12:49:55.645Z"
   },
   {
    "duration": 70,
    "start_time": "2024-03-18T12:49:55.757Z"
   },
   {
    "duration": 61,
    "start_time": "2024-03-18T12:49:55.828Z"
   },
   {
    "duration": 65,
    "start_time": "2024-03-18T12:49:55.890Z"
   },
   {
    "duration": 3,
    "start_time": "2024-03-18T12:49:55.956Z"
   },
   {
    "duration": 9,
    "start_time": "2024-03-18T12:49:55.960Z"
   },
   {
    "duration": 4,
    "start_time": "2024-03-18T12:49:55.970Z"
   },
   {
    "duration": 351,
    "start_time": "2024-03-18T12:49:55.975Z"
   },
   {
    "duration": 251,
    "start_time": "2024-03-18T12:49:56.327Z"
   },
   {
    "duration": 3,
    "start_time": "2024-03-18T12:49:56.580Z"
   },
   {
    "duration": 42,
    "start_time": "2024-03-18T12:49:56.585Z"
   },
   {
    "duration": 5,
    "start_time": "2024-03-18T12:49:56.629Z"
   },
   {
    "duration": 1610,
    "start_time": "2024-03-18T12:49:56.636Z"
   },
   {
    "duration": 43878,
    "start_time": "2024-03-18T12:49:58.249Z"
   },
   {
    "duration": 936229,
    "start_time": "2024-03-18T12:50:42.129Z"
   },
   {
    "duration": 54909,
    "start_time": "2024-03-18T13:06:18.359Z"
   },
   {
    "duration": 1336,
    "start_time": "2024-03-18T14:21:37.063Z"
   },
   {
    "duration": 762,
    "start_time": "2024-03-18T14:21:38.400Z"
   },
   {
    "duration": 19,
    "start_time": "2024-03-18T14:21:39.164Z"
   },
   {
    "duration": 144,
    "start_time": "2024-03-18T14:21:39.185Z"
   },
   {
    "duration": 144,
    "start_time": "2024-03-18T14:21:39.330Z"
   },
   {
    "duration": 412,
    "start_time": "2024-03-18T14:21:39.476Z"
   },
   {
    "duration": 443,
    "start_time": "2024-03-18T14:21:39.890Z"
   },
   {
    "duration": 432,
    "start_time": "2024-03-18T14:21:40.334Z"
   },
   {
    "duration": 25,
    "start_time": "2024-03-18T14:21:40.768Z"
   },
   {
    "duration": 79,
    "start_time": "2024-03-18T14:21:40.795Z"
   },
   {
    "duration": 4,
    "start_time": "2024-03-18T14:21:40.875Z"
   },
   {
    "duration": 55,
    "start_time": "2024-03-18T14:21:40.880Z"
   },
   {
    "duration": 29,
    "start_time": "2024-03-18T14:21:40.936Z"
   },
   {
    "duration": 35,
    "start_time": "2024-03-18T14:21:40.967Z"
   },
   {
    "duration": 26,
    "start_time": "2024-03-18T14:21:41.004Z"
   },
   {
    "duration": 37,
    "start_time": "2024-03-18T14:21:41.032Z"
   },
   {
    "duration": 46,
    "start_time": "2024-03-18T14:21:41.071Z"
   },
   {
    "duration": 43,
    "start_time": "2024-03-18T14:21:41.119Z"
   },
   {
    "duration": 36,
    "start_time": "2024-03-18T14:21:41.164Z"
   },
   {
    "duration": 22,
    "start_time": "2024-03-18T14:21:41.201Z"
   },
   {
    "duration": 20,
    "start_time": "2024-03-18T14:21:41.224Z"
   },
   {
    "duration": 49,
    "start_time": "2024-03-18T14:21:41.245Z"
   },
   {
    "duration": 18,
    "start_time": "2024-03-18T14:21:41.296Z"
   },
   {
    "duration": 48,
    "start_time": "2024-03-18T14:21:41.316Z"
   },
   {
    "duration": 100,
    "start_time": "2024-03-18T14:21:41.365Z"
   },
   {
    "duration": 29,
    "start_time": "2024-03-18T14:21:41.473Z"
   },
   {
    "duration": 98,
    "start_time": "2024-03-18T14:21:41.504Z"
   },
   {
    "duration": 128,
    "start_time": "2024-03-18T14:21:41.606Z"
   },
   {
    "duration": 190,
    "start_time": "2024-03-18T14:21:41.736Z"
   },
   {
    "duration": 38,
    "start_time": "2024-03-18T14:21:41.928Z"
   },
   {
    "duration": 25,
    "start_time": "2024-03-18T14:21:41.967Z"
   },
   {
    "duration": 56,
    "start_time": "2024-03-18T14:21:41.994Z"
   },
   {
    "duration": 5,
    "start_time": "2024-03-18T14:21:42.051Z"
   },
   {
    "duration": 29,
    "start_time": "2024-03-18T14:21:42.058Z"
   },
   {
    "duration": 17,
    "start_time": "2024-03-18T14:21:42.088Z"
   },
   {
    "duration": 129,
    "start_time": "2024-03-18T14:21:42.106Z"
   },
   {
    "duration": 14,
    "start_time": "2024-03-18T14:21:42.236Z"
   },
   {
    "duration": 34,
    "start_time": "2024-03-18T14:21:42.251Z"
   },
   {
    "duration": 164,
    "start_time": "2024-03-18T14:21:42.286Z"
   },
   {
    "duration": 16,
    "start_time": "2024-03-18T14:21:42.451Z"
   },
   {
    "duration": 29,
    "start_time": "2024-03-18T14:21:42.469Z"
   },
   {
    "duration": 25,
    "start_time": "2024-03-18T14:21:42.500Z"
   },
   {
    "duration": 18,
    "start_time": "2024-03-18T14:21:42.527Z"
   },
   {
    "duration": 137,
    "start_time": "2024-03-18T14:21:42.547Z"
   },
   {
    "duration": 14,
    "start_time": "2024-03-18T14:21:42.685Z"
   },
   {
    "duration": 183,
    "start_time": "2024-03-18T14:21:42.701Z"
   },
   {
    "duration": 128,
    "start_time": "2024-03-18T14:21:42.885Z"
   },
   {
    "duration": 3,
    "start_time": "2024-03-18T14:21:43.015Z"
   },
   {
    "duration": 48,
    "start_time": "2024-03-18T14:21:43.019Z"
   },
   {
    "duration": 71,
    "start_time": "2024-03-18T14:21:43.068Z"
   },
   {
    "duration": 22,
    "start_time": "2024-03-18T14:21:43.141Z"
   },
   {
    "duration": 48,
    "start_time": "2024-03-18T14:21:43.164Z"
   },
   {
    "duration": 49,
    "start_time": "2024-03-18T14:21:43.213Z"
   },
   {
    "duration": 19,
    "start_time": "2024-03-18T14:21:43.263Z"
   },
   {
    "duration": 34,
    "start_time": "2024-03-18T14:21:43.283Z"
   },
   {
    "duration": 92,
    "start_time": "2024-03-18T14:21:43.318Z"
   },
   {
    "duration": 102,
    "start_time": "2024-03-18T14:21:43.412Z"
   },
   {
    "duration": 88,
    "start_time": "2024-03-18T14:21:43.516Z"
   },
   {
    "duration": 70,
    "start_time": "2024-03-18T14:21:43.606Z"
   },
   {
    "duration": 92,
    "start_time": "2024-03-18T14:21:43.678Z"
   },
   {
    "duration": 2,
    "start_time": "2024-03-18T14:21:43.772Z"
   },
   {
    "duration": 16,
    "start_time": "2024-03-18T14:21:43.776Z"
   },
   {
    "duration": 21,
    "start_time": "2024-03-18T14:21:43.793Z"
   },
   {
    "duration": 146,
    "start_time": "2024-03-18T14:21:43.815Z"
   },
   {
    "duration": 0,
    "start_time": "2024-03-18T14:21:43.963Z"
   },
   {
    "duration": 0,
    "start_time": "2024-03-18T14:21:43.964Z"
   },
   {
    "duration": 0,
    "start_time": "2024-03-18T14:21:43.965Z"
   },
   {
    "duration": 0,
    "start_time": "2024-03-18T14:21:43.967Z"
   },
   {
    "duration": 0,
    "start_time": "2024-03-18T14:21:43.968Z"
   },
   {
    "duration": 0,
    "start_time": "2024-03-18T14:21:43.969Z"
   },
   {
    "duration": 0,
    "start_time": "2024-03-18T14:21:43.971Z"
   },
   {
    "duration": 0,
    "start_time": "2024-03-18T14:21:43.972Z"
   }
  ],
  "colab": {
   "provenance": []
  },
  "kernelspec": {
   "display_name": "Python 3 (ipykernel)",
   "language": "python",
   "name": "python3"
  },
  "language_info": {
   "codemirror_mode": {
    "name": "ipython",
    "version": 3
   },
   "file_extension": ".py",
   "mimetype": "text/x-python",
   "name": "python",
   "nbconvert_exporter": "python",
   "pygments_lexer": "ipython3",
   "version": "3.9.5"
  },
  "toc": {
   "base_numbering": 1,
   "nav_menu": {},
   "number_sections": true,
   "sideBar": true,
   "skip_h1_title": true,
   "title_cell": "Table of Contents",
   "title_sidebar": "Contents",
   "toc_cell": false,
   "toc_position": {},
   "toc_section_display": true,
   "toc_window_display": false
  }
 },
 "nbformat": 4,
 "nbformat_minor": 1
}
