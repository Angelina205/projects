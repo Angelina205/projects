{
 "cells": [
  {
   "cell_type": "markdown",
   "id": "a41da88c",
   "metadata": {},
   "source": [
    "Краткое описание таблиц\n",
    "collisions — общая информация о ДТП\n",
    "\n",
    "Имеет уникальный case_id. Эта таблица описывает общую информацию о ДТП. Например, где оно произошло и когда.\n",
    "parties — информация об участниках ДТП\n",
    "\n",
    "Имеет неуникальный case_id, который сопоставляется с соответствующим ДТП в таблице collisions. Каждая строка здесь описывает одну из сторон, участвующих в ДТП. Если столкнулись две машины, в этой таблице должно быть две строки с совпадением case_id. Если нужен уникальный идентификатор, это case_id and party_number.\n",
    "vehicles — информация о пострадавших машинах\n",
    "\n",
    "Имеет неуникальные case_id и неуникальные party_number, которые сопоставляются с таблицей collisions и таблицей parties. Если нужен уникальный идентификатор, это case_id and party_number."
   ]
  },
  {
   "cell_type": "markdown",
   "id": "c9e35b26",
   "metadata": {},
   "source": [
    "Вам поступил заказ: нужно создать систему, которая могла бы оценить риск ДТП по выбранному маршруту движения. Под риском понимается вероятность ДТП с любым повреждением транспортного средства. Как только водитель забронировал автомобиль, сел за руль и выбрал маршрут, система должна оценить уровень риска. Если уровень риска высок, водитель увидит предупреждение и рекомендации по маршруту.\n",
    "Идея создания такой системы находится в стадии предварительного обсуждения и проработки. Чёткого алгоритма работы и подобных решений на рынке ещё не существует. Текущая задача — понять, возможно ли предсказывать ДТП, опираясь на исторические данные одного из регионов."
   ]
  },
  {
   "cell_type": "markdown",
   "id": "1c003ec1",
   "metadata": {
    "ExecuteTime": {
     "end_time": "2022-05-05T04:58:05.692448Z",
     "start_time": "2022-05-05T04:58:05.688565Z"
    }
   },
   "source": [
    "## Подключитесь к базе. Загрузите таблицы sql"
   ]
  },
  {
   "cell_type": "code",
   "execution_count": 1,
   "id": "200f6a39",
   "metadata": {},
   "outputs": [],
   "source": [
    "import pandas as pd\n",
    "import numpy as np\n",
    "import matplotlib.pyplot as plt\n",
    "import seaborn as sns\n",
    "\n",
    "from sklearn.model_selection import train_test_split, GridSearchCV\n",
    "from sklearn.preprocessing import StandardScaler, OneHotEncoder, OrdinalEncoder\n",
    "from sklearn.compose import make_column_transformer, make_column_selector\n",
    "from sklearn.pipeline import make_pipeline\n",
    "from sklearn.linear_model import LogisticRegression\n",
    "from sklearn.svm import LinearSVC\n",
    "from sklearn.ensemble import RandomForestClassifier\n",
    "import lightgbm as lgb\n",
    "from sklearn.metrics import classification_report, accuracy_score, f1_score, confusion_matrix, ConfusionMatrixDisplay, precision_recall_curve, precision_recall_fscore_support\n",
    "from sqlalchemy import create_engine"
   ]
  },
  {
   "cell_type": "markdown",
   "id": "b3d55d9d",
   "metadata": {},
   "source": [
    "Делаю конфигурацию для подключения сервера:"
   ]
  },
  {
   "cell_type": "code",
   "execution_count": 2,
   "id": "d385d49d",
   "metadata": {},
   "outputs": [],
   "source": [
    "db_config = {\n",
    "'user': 'praktikum_student', # имя пользователя,\n",
    "'pwd': 'Sdf4$2;d-d30pp', # пароль,\n",
    "'host': 'rc1b-wcoijxj3yxfsf3fs.mdb.yandexcloud.net',\n",
    "'port': 6432, # порт подключения,\n",
    "'db': 'data-science-vehicle-db' # название базы данных,\n",
    "} "
   ]
  },
  {
   "cell_type": "markdown",
   "id": "b34a5fc4",
   "metadata": {},
   "source": [
    "Строка подключения:"
   ]
  },
  {
   "cell_type": "code",
   "execution_count": 3,
   "id": "47c00a0f",
   "metadata": {},
   "outputs": [],
   "source": [
    "connection_string = f\"postgresql://{db_config['user']}:{db_config['pwd']}@{db_config['host']}:{db_config['port']}/{db_config['db']}\""
   ]
  },
  {
   "cell_type": "markdown",
   "id": "e41df3bc",
   "metadata": {},
   "source": [
    "Создаю соединение с базой данных:"
   ]
  },
  {
   "cell_type": "code",
   "execution_count": 4,
   "id": "28dddf2a",
   "metadata": {},
   "outputs": [],
   "source": [
    "engine = create_engine(connection_string)"
   ]
  },
  {
   "cell_type": "markdown",
   "id": "b6da6de0",
   "metadata": {},
   "source": [
    "## Проведите первичное исследование таблиц"
   ]
  },
  {
   "cell_type": "markdown",
   "id": "b17011a6",
   "metadata": {},
   "source": [
    "Делаю подсчет числа виновников ДТП"
   ]
  },
  {
   "cell_type": "code",
   "execution_count": 5,
   "id": "f072b4ea",
   "metadata": {},
   "outputs": [
    {
     "data": {
      "text/html": [
       "<div>\n",
       "<style scoped>\n",
       "    .dataframe tbody tr th:only-of-type {\n",
       "        vertical-align: middle;\n",
       "    }\n",
       "\n",
       "    .dataframe tbody tr th {\n",
       "        vertical-align: top;\n",
       "    }\n",
       "\n",
       "    .dataframe thead th {\n",
       "        text-align: right;\n",
       "    }\n",
       "</style>\n",
       "<table border=\"1\" class=\"dataframe\">\n",
       "  <thead>\n",
       "    <tr style=\"text-align: right;\">\n",
       "      <th></th>\n",
       "      <th>count_parties</th>\n",
       "    </tr>\n",
       "  </thead>\n",
       "  <tbody>\n",
       "    <tr>\n",
       "      <th>0</th>\n",
       "      <td>1288127</td>\n",
       "    </tr>\n",
       "  </tbody>\n",
       "</table>\n",
       "</div>"
      ],
      "text/plain": [
       "   count_parties\n",
       "0        1288127"
      ]
     },
     "metadata": {},
     "output_type": "display_data"
    }
   ],
   "source": [
    "query = '''\n",
    "SELECT COUNT(DISTINCT id) AS count_parties\n",
    "  FROM parties\n",
    " WHERE at_fault = 1;\n",
    "'''\n",
    "data_parties = pd.read_sql_query(query, con=engine)\n",
    "display(data_parties.head())"
   ]
  },
  {
   "cell_type": "code",
   "execution_count": 6,
   "id": "0f3ce454",
   "metadata": {},
   "outputs": [
    {
     "name": "stdout",
     "output_type": "stream",
     "text": [
      "Количество виновников ДТП: 1288127\n"
     ]
    }
   ],
   "source": [
    "count_parties = data_parties['count_parties'][0]\n",
    "print(\"Количество виновников ДТП:\", count_parties)"
   ]
  },
  {
   "cell_type": "markdown",
   "id": "a3405009",
   "metadata": {},
   "source": [
    "Делаю определение размера базы данных"
   ]
  },
  {
   "cell_type": "code",
   "execution_count": 7,
   "id": "cf9e6c6e",
   "metadata": {},
   "outputs": [
    {
     "name": "stdout",
     "output_type": "stream",
     "text": [
      "Размер базы данных: 790 MB\n"
     ]
    }
   ],
   "source": [
    "query = '''\n",
    "SELECT pg_size_pretty(pg_database_size(current_database()));\n",
    "'''\n",
    "data_db_size = pd.read_sql_query(query, con=engine)\n",
    "print(\"Размер базы данных:\", data_db_size['pg_size_pretty'][0])"
   ]
  },
  {
   "cell_type": "markdown",
   "id": "4c7c199e",
   "metadata": {},
   "source": [
    "Информация о названии таблиц в базе данных"
   ]
  },
  {
   "cell_type": "code",
   "execution_count": 8,
   "id": "319e10e3",
   "metadata": {},
   "outputs": [
    {
     "name": "stdout",
     "output_type": "stream",
     "text": [
      "Названия таблиц в базе данных: ['case_ids', 'collisions', 'parties', 'vehicles']\n"
     ]
    }
   ],
   "source": [
    "query = '''\n",
    "SELECT table_name\n",
    "  FROM information_schema.tables\n",
    " WHERE table_schema NOT IN ('information_schema','pg_catalog');\n",
    "'''\n",
    "data_tables = pd.read_sql_query(query, con=engine)\n",
    "print(\"Названия таблиц в базе данных:\", data_tables['table_name'].tolist())"
   ]
  },
  {
   "cell_type": "markdown",
   "id": "468a07ea",
   "metadata": {},
   "source": [
    "Название колонок и их типы данных для каждой таблицы"
   ]
  },
  {
   "cell_type": "code",
   "execution_count": 9,
   "id": "0afa3065",
   "metadata": {},
   "outputs": [
    {
     "data": {
      "text/plain": [
       "'Колонки и их типы данных:'"
      ]
     },
     "metadata": {},
     "output_type": "display_data"
    },
    {
     "data": {
      "text/html": [
       "<div>\n",
       "<style scoped>\n",
       "    .dataframe tbody tr th:only-of-type {\n",
       "        vertical-align: middle;\n",
       "    }\n",
       "\n",
       "    .dataframe tbody tr th {\n",
       "        vertical-align: top;\n",
       "    }\n",
       "\n",
       "    .dataframe thead th {\n",
       "        text-align: right;\n",
       "    }\n",
       "</style>\n",
       "<table border=\"1\" class=\"dataframe\">\n",
       "  <thead>\n",
       "    <tr style=\"text-align: right;\">\n",
       "      <th></th>\n",
       "      <th>table_name</th>\n",
       "      <th>column_name</th>\n",
       "      <th>data_type</th>\n",
       "    </tr>\n",
       "  </thead>\n",
       "  <tbody>\n",
       "    <tr>\n",
       "      <th>0</th>\n",
       "      <td>parties</td>\n",
       "      <td>party_number</td>\n",
       "      <td>integer</td>\n",
       "    </tr>\n",
       "    <tr>\n",
       "      <th>1</th>\n",
       "      <td>collisions</td>\n",
       "      <td>intersection</td>\n",
       "      <td>integer</td>\n",
       "    </tr>\n",
       "    <tr>\n",
       "      <th>2</th>\n",
       "      <td>parties</td>\n",
       "      <td>at_fault</td>\n",
       "      <td>integer</td>\n",
       "    </tr>\n",
       "    <tr>\n",
       "      <th>3</th>\n",
       "      <td>parties</td>\n",
       "      <td>insurance_premium</td>\n",
       "      <td>integer</td>\n",
       "    </tr>\n",
       "    <tr>\n",
       "      <th>4</th>\n",
       "      <td>collisions</td>\n",
       "      <td>distance</td>\n",
       "      <td>real</td>\n",
       "    </tr>\n",
       "    <tr>\n",
       "      <th>5</th>\n",
       "      <td>collisions</td>\n",
       "      <td>collision_date</td>\n",
       "      <td>date</td>\n",
       "    </tr>\n",
       "    <tr>\n",
       "      <th>6</th>\n",
       "      <td>parties</td>\n",
       "      <td>cellphone_in_use</td>\n",
       "      <td>integer</td>\n",
       "    </tr>\n",
       "    <tr>\n",
       "      <th>7</th>\n",
       "      <td>vehicles</td>\n",
       "      <td>id</td>\n",
       "      <td>integer</td>\n",
       "    </tr>\n",
       "    <tr>\n",
       "      <th>8</th>\n",
       "      <td>collisions</td>\n",
       "      <td>collision_time</td>\n",
       "      <td>time without time zone</td>\n",
       "    </tr>\n",
       "    <tr>\n",
       "      <th>9</th>\n",
       "      <td>vehicles</td>\n",
       "      <td>party_number</td>\n",
       "      <td>integer</td>\n",
       "    </tr>\n",
       "    <tr>\n",
       "      <th>10</th>\n",
       "      <td>parties</td>\n",
       "      <td>id</td>\n",
       "      <td>integer</td>\n",
       "    </tr>\n",
       "    <tr>\n",
       "      <th>11</th>\n",
       "      <td>collisions</td>\n",
       "      <td>party_count</td>\n",
       "      <td>integer</td>\n",
       "    </tr>\n",
       "    <tr>\n",
       "      <th>12</th>\n",
       "      <td>vehicles</td>\n",
       "      <td>vehicle_age</td>\n",
       "      <td>integer</td>\n",
       "    </tr>\n",
       "    <tr>\n",
       "      <th>13</th>\n",
       "      <td>collisions</td>\n",
       "      <td>road_surface</td>\n",
       "      <td>text</td>\n",
       "    </tr>\n",
       "    <tr>\n",
       "      <th>14</th>\n",
       "      <td>collisions</td>\n",
       "      <td>road_condition_1</td>\n",
       "      <td>text</td>\n",
       "    </tr>\n",
       "    <tr>\n",
       "      <th>15</th>\n",
       "      <td>case_ids</td>\n",
       "      <td>case_id</td>\n",
       "      <td>text</td>\n",
       "    </tr>\n",
       "    <tr>\n",
       "      <th>16</th>\n",
       "      <td>collisions</td>\n",
       "      <td>control_device</td>\n",
       "      <td>text</td>\n",
       "    </tr>\n",
       "    <tr>\n",
       "      <th>17</th>\n",
       "      <td>parties</td>\n",
       "      <td>case_id</td>\n",
       "      <td>text</td>\n",
       "    </tr>\n",
       "    <tr>\n",
       "      <th>18</th>\n",
       "      <td>parties</td>\n",
       "      <td>party_type</td>\n",
       "      <td>text</td>\n",
       "    </tr>\n",
       "    <tr>\n",
       "      <th>19</th>\n",
       "      <td>parties</td>\n",
       "      <td>party_sobriety</td>\n",
       "      <td>text</td>\n",
       "    </tr>\n",
       "    <tr>\n",
       "      <th>20</th>\n",
       "      <td>parties</td>\n",
       "      <td>party_drug_physical</td>\n",
       "      <td>text</td>\n",
       "    </tr>\n",
       "    <tr>\n",
       "      <th>21</th>\n",
       "      <td>vehicles</td>\n",
       "      <td>case_id</td>\n",
       "      <td>text</td>\n",
       "    </tr>\n",
       "    <tr>\n",
       "      <th>22</th>\n",
       "      <td>vehicles</td>\n",
       "      <td>vehicle_type</td>\n",
       "      <td>text</td>\n",
       "    </tr>\n",
       "    <tr>\n",
       "      <th>23</th>\n",
       "      <td>vehicles</td>\n",
       "      <td>vehicle_transmission</td>\n",
       "      <td>text</td>\n",
       "    </tr>\n",
       "    <tr>\n",
       "      <th>24</th>\n",
       "      <td>collisions</td>\n",
       "      <td>lighting</td>\n",
       "      <td>text</td>\n",
       "    </tr>\n",
       "    <tr>\n",
       "      <th>25</th>\n",
       "      <td>case_ids</td>\n",
       "      <td>db_year</td>\n",
       "      <td>text</td>\n",
       "    </tr>\n",
       "    <tr>\n",
       "      <th>26</th>\n",
       "      <td>collisions</td>\n",
       "      <td>case_id</td>\n",
       "      <td>text</td>\n",
       "    </tr>\n",
       "    <tr>\n",
       "      <th>27</th>\n",
       "      <td>collisions</td>\n",
       "      <td>county_city_location</td>\n",
       "      <td>text</td>\n",
       "    </tr>\n",
       "    <tr>\n",
       "      <th>28</th>\n",
       "      <td>collisions</td>\n",
       "      <td>county_location</td>\n",
       "      <td>text</td>\n",
       "    </tr>\n",
       "    <tr>\n",
       "      <th>29</th>\n",
       "      <td>collisions</td>\n",
       "      <td>direction</td>\n",
       "      <td>text</td>\n",
       "    </tr>\n",
       "    <tr>\n",
       "      <th>30</th>\n",
       "      <td>collisions</td>\n",
       "      <td>weather_1</td>\n",
       "      <td>text</td>\n",
       "    </tr>\n",
       "    <tr>\n",
       "      <th>31</th>\n",
       "      <td>collisions</td>\n",
       "      <td>location_type</td>\n",
       "      <td>text</td>\n",
       "    </tr>\n",
       "    <tr>\n",
       "      <th>32</th>\n",
       "      <td>collisions</td>\n",
       "      <td>collision_damage</td>\n",
       "      <td>text</td>\n",
       "    </tr>\n",
       "    <tr>\n",
       "      <th>33</th>\n",
       "      <td>collisions</td>\n",
       "      <td>primary_collision_factor</td>\n",
       "      <td>text</td>\n",
       "    </tr>\n",
       "    <tr>\n",
       "      <th>34</th>\n",
       "      <td>collisions</td>\n",
       "      <td>pcf_violation_category</td>\n",
       "      <td>text</td>\n",
       "    </tr>\n",
       "    <tr>\n",
       "      <th>35</th>\n",
       "      <td>collisions</td>\n",
       "      <td>type_of_collision</td>\n",
       "      <td>text</td>\n",
       "    </tr>\n",
       "    <tr>\n",
       "      <th>36</th>\n",
       "      <td>collisions</td>\n",
       "      <td>motor_vehicle_involved_with</td>\n",
       "      <td>text</td>\n",
       "    </tr>\n",
       "  </tbody>\n",
       "</table>\n",
       "</div>"
      ],
      "text/plain": [
       "    table_name                  column_name               data_type\n",
       "0      parties                 party_number                 integer\n",
       "1   collisions                 intersection                 integer\n",
       "2      parties                     at_fault                 integer\n",
       "3      parties            insurance_premium                 integer\n",
       "4   collisions                     distance                    real\n",
       "5   collisions               collision_date                    date\n",
       "6      parties             cellphone_in_use                 integer\n",
       "7     vehicles                           id                 integer\n",
       "8   collisions               collision_time  time without time zone\n",
       "9     vehicles                 party_number                 integer\n",
       "10     parties                           id                 integer\n",
       "11  collisions                  party_count                 integer\n",
       "12    vehicles                  vehicle_age                 integer\n",
       "13  collisions                 road_surface                    text\n",
       "14  collisions             road_condition_1                    text\n",
       "15    case_ids                      case_id                    text\n",
       "16  collisions               control_device                    text\n",
       "17     parties                      case_id                    text\n",
       "18     parties                   party_type                    text\n",
       "19     parties               party_sobriety                    text\n",
       "20     parties          party_drug_physical                    text\n",
       "21    vehicles                      case_id                    text\n",
       "22    vehicles                 vehicle_type                    text\n",
       "23    vehicles         vehicle_transmission                    text\n",
       "24  collisions                     lighting                    text\n",
       "25    case_ids                      db_year                    text\n",
       "26  collisions                      case_id                    text\n",
       "27  collisions         county_city_location                    text\n",
       "28  collisions              county_location                    text\n",
       "29  collisions                    direction                    text\n",
       "30  collisions                    weather_1                    text\n",
       "31  collisions                location_type                    text\n",
       "32  collisions             collision_damage                    text\n",
       "33  collisions     primary_collision_factor                    text\n",
       "34  collisions       pcf_violation_category                    text\n",
       "35  collisions            type_of_collision                    text\n",
       "36  collisions  motor_vehicle_involved_with                    text"
      ]
     },
     "metadata": {},
     "output_type": "display_data"
    }
   ],
   "source": [
    "query = '''\n",
    "SELECT table_name, \n",
    "       column_name, \n",
    "       data_type \n",
    "  FROM information_schema.columns\n",
    " WHERE table_name IN ('case_ids', 'collisions', 'parties', 'vehicles');\n",
    "'''\n",
    "data_columns = pd.read_sql_query(query, con=engine)\n",
    "display (\"Колонки и их типы данных:\", data_columns)"
   ]
  },
  {
   "cell_type": "markdown",
   "id": "a83c607d",
   "metadata": {},
   "source": [
    "Проверяю первичные и внешние ключчи"
   ]
  },
  {
   "cell_type": "code",
   "execution_count": 10,
   "id": "4383e8f1",
   "metadata": {},
   "outputs": [
    {
     "data": {
      "text/plain": [
       "'Первичные и внешние ключи:'"
      ]
     },
     "metadata": {},
     "output_type": "display_data"
    },
    {
     "data": {
      "text/html": [
       "<div>\n",
       "<style scoped>\n",
       "    .dataframe tbody tr th:only-of-type {\n",
       "        vertical-align: middle;\n",
       "    }\n",
       "\n",
       "    .dataframe tbody tr th {\n",
       "        vertical-align: top;\n",
       "    }\n",
       "\n",
       "    .dataframe thead th {\n",
       "        text-align: right;\n",
       "    }\n",
       "</style>\n",
       "<table border=\"1\" class=\"dataframe\">\n",
       "  <thead>\n",
       "    <tr style=\"text-align: right;\">\n",
       "      <th></th>\n",
       "      <th>constraint_name</th>\n",
       "      <th>table_name</th>\n",
       "      <th>column_name</th>\n",
       "    </tr>\n",
       "  </thead>\n",
       "  <tbody>\n",
       "    <tr>\n",
       "      <th>0</th>\n",
       "      <td>pg_proc_oid_index</td>\n",
       "      <td>pg_proc</td>\n",
       "      <td>oid</td>\n",
       "    </tr>\n",
       "    <tr>\n",
       "      <th>1</th>\n",
       "      <td>pg_proc_proname_args_nsp_index</td>\n",
       "      <td>pg_proc</td>\n",
       "      <td>proname</td>\n",
       "    </tr>\n",
       "    <tr>\n",
       "      <th>2</th>\n",
       "      <td>pg_proc_proname_args_nsp_index</td>\n",
       "      <td>pg_proc</td>\n",
       "      <td>proargtypes</td>\n",
       "    </tr>\n",
       "    <tr>\n",
       "      <th>3</th>\n",
       "      <td>pg_proc_proname_args_nsp_index</td>\n",
       "      <td>pg_proc</td>\n",
       "      <td>pronamespace</td>\n",
       "    </tr>\n",
       "    <tr>\n",
       "      <th>4</th>\n",
       "      <td>pg_type_oid_index</td>\n",
       "      <td>pg_type</td>\n",
       "      <td>oid</td>\n",
       "    </tr>\n",
       "    <tr>\n",
       "      <th>...</th>\n",
       "      <td>...</td>\n",
       "      <td>...</td>\n",
       "      <td>...</td>\n",
       "    </tr>\n",
       "    <tr>\n",
       "      <th>162</th>\n",
       "      <td>parties_pk</td>\n",
       "      <td>parties</td>\n",
       "      <td>id</td>\n",
       "    </tr>\n",
       "    <tr>\n",
       "      <th>163</th>\n",
       "      <td>vehicles_pk</td>\n",
       "      <td>vehicles</td>\n",
       "      <td>id</td>\n",
       "    </tr>\n",
       "    <tr>\n",
       "      <th>164</th>\n",
       "      <td>collisions_case_ids_case_id_fk</td>\n",
       "      <td>collisions</td>\n",
       "      <td>case_id</td>\n",
       "    </tr>\n",
       "    <tr>\n",
       "      <th>165</th>\n",
       "      <td>parties_case_ids_case_id_fk</td>\n",
       "      <td>parties</td>\n",
       "      <td>case_id</td>\n",
       "    </tr>\n",
       "    <tr>\n",
       "      <th>166</th>\n",
       "      <td>vehicles_case_ids_case_id_fk</td>\n",
       "      <td>vehicles</td>\n",
       "      <td>case_id</td>\n",
       "    </tr>\n",
       "  </tbody>\n",
       "</table>\n",
       "<p>167 rows × 3 columns</p>\n",
       "</div>"
      ],
      "text/plain": [
       "                    constraint_name  table_name   column_name\n",
       "0                 pg_proc_oid_index     pg_proc           oid\n",
       "1    pg_proc_proname_args_nsp_index     pg_proc       proname\n",
       "2    pg_proc_proname_args_nsp_index     pg_proc   proargtypes\n",
       "3    pg_proc_proname_args_nsp_index     pg_proc  pronamespace\n",
       "4                 pg_type_oid_index     pg_type           oid\n",
       "..                              ...         ...           ...\n",
       "162                      parties_pk     parties            id\n",
       "163                     vehicles_pk    vehicles            id\n",
       "164  collisions_case_ids_case_id_fk  collisions       case_id\n",
       "165     parties_case_ids_case_id_fk     parties       case_id\n",
       "166    vehicles_case_ids_case_id_fk    vehicles       case_id\n",
       "\n",
       "[167 rows x 3 columns]"
      ]
     },
     "metadata": {},
     "output_type": "display_data"
    }
   ],
   "source": [
    "query = '''\n",
    "SELECT constraint_name,\n",
    "       table_name,\n",
    "       column_name\n",
    "  FROM information_schema.key_column_usage\n",
    "'''\n",
    "data_keys = pd.read_sql_query(query, con=engine)\n",
    "display (\"Первичные и внешние ключи:\", data_keys)"
   ]
  },
  {
   "cell_type": "markdown",
   "id": "74b4b3a9",
   "metadata": {},
   "source": [
    "Проверяю уникальность значений в столбце case_id в таблице collisions"
   ]
  },
  {
   "cell_type": "code",
   "execution_count": 11,
   "id": "5d6165b5",
   "metadata": {},
   "outputs": [
    {
     "data": {
      "text/plain": [
       "'Уникальность case_id в таблице collisions:'"
      ]
     },
     "metadata": {},
     "output_type": "display_data"
    },
    {
     "data": {
      "text/html": [
       "<div>\n",
       "<style scoped>\n",
       "    .dataframe tbody tr th:only-of-type {\n",
       "        vertical-align: middle;\n",
       "    }\n",
       "\n",
       "    .dataframe tbody tr th {\n",
       "        vertical-align: top;\n",
       "    }\n",
       "\n",
       "    .dataframe thead th {\n",
       "        text-align: right;\n",
       "    }\n",
       "</style>\n",
       "<table border=\"1\" class=\"dataframe\">\n",
       "  <thead>\n",
       "    <tr style=\"text-align: right;\">\n",
       "      <th></th>\n",
       "      <th>total_ids</th>\n",
       "      <th>unique_ids</th>\n",
       "    </tr>\n",
       "  </thead>\n",
       "  <tbody>\n",
       "    <tr>\n",
       "      <th>0</th>\n",
       "      <td>1400000</td>\n",
       "      <td>1400000</td>\n",
       "    </tr>\n",
       "  </tbody>\n",
       "</table>\n",
       "</div>"
      ],
      "text/plain": [
       "   total_ids  unique_ids\n",
       "0    1400000     1400000"
      ]
     },
     "metadata": {},
     "output_type": "display_data"
    }
   ],
   "source": [
    "query = '''\n",
    "SELECT COUNT(case_id) AS total_ids,\n",
    "       COUNT(DISTINCT case_id) AS unique_ids\n",
    "  FROM collisions;\n",
    "'''\n",
    "data_collisions_unique = pd.read_sql_query(query, con=engine)\n",
    "display (\"Уникальность case_id в таблице collisions:\", data_collisions_unique)"
   ]
  },
  {
   "cell_type": "markdown",
   "id": "d8bd4460",
   "metadata": {},
   "source": [
    "Проверка соответствия первичных и внешних ключей между таблицами"
   ]
  },
  {
   "cell_type": "code",
   "execution_count": 12,
   "id": "7e269905",
   "metadata": {},
   "outputs": [
    {
     "name": "stdout",
     "output_type": "stream",
     "text": [
      "Количество всех case_id: 1400000\n",
      "Количество уникальных case_id: 1400000\n",
      "Уникальны ли значения: True\n"
     ]
    }
   ],
   "source": [
    "total_ids = data_collisions_unique['total_ids'][0]\n",
    "unique_ids = data_collisions_unique['unique_ids'][0]\n",
    "print(\"Количество всех case_id:\", total_ids)\n",
    "print(\"Количество уникальных case_id:\", unique_ids)\n",
    "print(\"Уникальны ли значения:\", total_ids == unique_ids)"
   ]
  },
  {
   "cell_type": "markdown",
   "id": "6c9d64a3",
   "metadata": {},
   "source": [
    "1. Успешное установление соединения с базой данных.\n",
    "2. Все таблицы  (case_ids, collisions, parties, vehicles) есть в базе данных.\n",
    "3. Проверены первичные и внешние ключи.\n",
    "4. Таблицы связаны между собой через поле case_id.\n",
    "5. Уникальность значений case_id в таблице collisions подтверждена."
   ]
  },
  {
   "cell_type": "markdown",
   "id": "1c59b28f",
   "metadata": {},
   "source": [
    "##  Проведите статистический анализ факторов ДТП"
   ]
  },
  {
   "cell_type": "markdown",
   "id": "de18e12e",
   "metadata": {},
   "source": [
    "Создаю запрос для получения количества аварий по месяцам."
   ]
  },
  {
   "cell_type": "code",
   "execution_count": 13,
   "id": "c551053d",
   "metadata": {},
   "outputs": [],
   "source": [
    "query = '''\n",
    "SELECT DATE_TRUNC('month', collision_date) AS month, COUNT(*) AS accident_count\n",
    "FROM collisions\n",
    "GROUP BY month\n",
    "ORDER BY month;\n",
    "'''\n",
    "data_monthly_accidents = pd.read_sql_query(query, con=engine)"
   ]
  },
  {
   "cell_type": "markdown",
   "id": "050ce15c",
   "metadata": {},
   "source": [
    "Строю график"
   ]
  },
  {
   "cell_type": "code",
   "execution_count": 14,
   "id": "063c8f22",
   "metadata": {},
   "outputs": [
    {
     "data": {
      "image/png": "[encoded data removed]",
      "text/plain": [
       "<Figure size 864x432 with 1 Axes>"
      ]
     },
     "metadata": {
      "needs_background": "light"
     },
     "output_type": "display_data"
    }
   ],
   "source": [
    "plt.figure(figsize=(12, 6))\n",
    "plt.plot(data_monthly_accidents['month'], data_monthly_accidents['accident_count'], marker='o')\n",
    "plt.title('Количество аварий по месяцам')\n",
    "plt.xlabel('Месяц')\n",
    "plt.ylabel('Количество аварий')\n",
    "plt.grid(True)\n",
    "plt.xticks(rotation=45)\n",
    "plt.tight_layout()\n",
    "plt.show()"
   ]
  },
  {
   "cell_type": "markdown",
   "id": "1315494c",
   "metadata": {},
   "source": [
    "1. В период с 2010 по 2011 год происходит большое количество аварий - примерно 35 тыс в месяц.\n",
    "2. С 2012 по 2013 год количество аварий резко снизилось до менее 5 тыс. в месяц. \n",
    "3. С 2013 года количество аварий на низком уровне."
   ]
  },
  {
   "cell_type": "markdown",
   "id": "0b8dd31a",
   "metadata": {},
   "source": [
    "## Создайте модель для оценки водительского риска"
   ]
  },
  {
   "cell_type": "markdown",
   "id": "f316b252",
   "metadata": {},
   "source": [
    "Задачи:"
   ]
  },
  {
   "cell_type": "markdown",
   "id": "a98f3bfa",
   "metadata": {},
   "source": [
    "1. Нужно проанализировать серьёзность повреждений транспортного средства при анализе  состояния дороги в момент ДТП.\n",
    "\n",
    "Таблица: vehicles, collisions \n",
    "\n",
    "2. Нужно проанализировать зависимость типа транспортного средства от серьёзности ДТП.\n",
    "\n",
    "Таблица: vehicles, collisions\n",
    "\n",
    "3. Нужно проанализировать кол-во ДТП в зависимости от времени суток\n",
    "\n",
    "Таблица: collisions\n",
    "\n",
    "4. Нужно проанализировать влияние погоды на кол-во ДТТП\n",
    "\n",
    "Таблица: collisions\n",
    "\n",
    "5. Нужно проанализировать самые частые причины ДТП\n",
    "\n",
    "Таблица: collisions\n",
    "\n",
    "6. Нужно проанализировать, влияют ли мобильные телефоны на кол-во ДТП\n",
    "\n",
    "Таблица: parties"
   ]
  },
  {
   "cell_type": "markdown",
   "id": "f3b4d395",
   "metadata": {},
   "source": [
    "Выполнение первой задачи"
   ]
  },
  {
   "cell_type": "code",
   "execution_count": 15,
   "id": "7e33f114",
   "metadata": {},
   "outputs": [],
   "source": [
    "query = '''\n",
    "SELECT c.road_condition_1, c.collision_damage, COUNT(*) AS damage_count\n",
    "FROM collisions AS c\n",
    "JOIN vehicles AS v ON c.case_id = v.case_id\n",
    "GROUP BY c.road_condition_1, c.collision_damage\n",
    "ORDER BY damage_count DESC;\n",
    "'''\n",
    "data = pd.read_sql_query(query, con=engine)"
   ]
  },
  {
   "cell_type": "code",
   "execution_count": 16,
   "id": "640ddd20",
   "metadata": {},
   "outputs": [
    {
     "data": {
      "image/png": "[encoded data removed]",
      "text/plain": [
       "<Figure size 1008x504 with 1 Axes>"
      ]
     },
     "metadata": {
      "needs_background": "light"
     },
     "output_type": "display_data"
    }
   ],
   "source": [
    "plt.figure(figsize=(14, 7))\n",
    "for condition in data['road_condition_1'].unique():\n",
    "    subset = data[data['road_condition_1'] == condition]\n",
    "    plt.bar(subset['collision_damage'], subset['damage_count'], label=condition)\n",
    "\n",
    "plt.title('Серьёзность повреждений транспортных средств в зависимости от состояния дороги')\n",
    "plt.xlabel('Серьёзность повреждений')\n",
    "plt.ylabel('Количество случаев')\n",
    "plt.legend(title='Состояние дороги')\n",
    "plt.grid(True)\n",
    "plt.show()"
   ]
  },
  {
   "cell_type": "markdown",
   "id": "42e7bac4",
   "metadata": {},
   "source": [
    "Большинство ДТП происходит на дорогах с нормальным состоянием. На дорах с поврежденими меньше аварий.\n",
    "Вероятно, водители более осторожны на дорогах с ямами и прочими проблемами."
   ]
  },
  {
   "cell_type": "markdown",
   "id": "56e176b1",
   "metadata": {},
   "source": [
    "Выполнение второй задачи"
   ]
  },
  {
   "cell_type": "code",
   "execution_count": 17,
   "id": "3ebdb3f2",
   "metadata": {},
   "outputs": [],
   "source": [
    "query = '''\n",
    "SELECT v.vehicle_type, c.collision_damage, COUNT(*) AS damage_count\n",
    "FROM vehicles AS v\n",
    "JOIN collisions AS c ON v.case_id = c.case_id\n",
    "GROUP BY v.vehicle_type, c.collision_damage\n",
    "ORDER BY damage_count DESC;\n",
    "'''\n",
    "data = pd.read_sql_query(query, con=engine)"
   ]
  },
  {
   "cell_type": "code",
   "execution_count": 18,
   "id": "0c6cfaa9",
   "metadata": {},
   "outputs": [
    {
     "data": {
      "image/png": "[encoded data removed]",
      "text/plain": [
       "<Figure size 1008x504 with 1 Axes>"
      ]
     },
     "metadata": {
      "needs_background": "light"
     },
     "output_type": "display_data"
    }
   ],
   "source": [
    "plt.figure(figsize=(14, 7))\n",
    "for v_type in data['vehicle_type'].unique():\n",
    "    subset = data[data['vehicle_type'] == v_type]\n",
    "    plt.bar(subset['collision_damage'], subset['damage_count'], label=v_type)\n",
    "\n",
    "plt.title('Зависимость типа транспортного средства от серьёзности ДТП')\n",
    "plt.xlabel('Серьёзность повреждений')\n",
    "plt.ylabel('Количество случаев')\n",
    "plt.legend(title='Тип транспортного средства')\n",
    "plt.grid(True)\n",
    "plt.show()"
   ]
  },
  {
   "cell_type": "markdown",
   "id": "a112b39e",
   "metadata": {},
   "source": [
    "Небольших повреждений больше всего у седана. Царапин больше всего у купе. Средний повреждений меньше, чем царапн и небольших повреждений, встречаются чаще всего у купе и минивэнов. Серьезные повреждения и фатальные случаи встречаются меньше, чаще всего происходят у купе."
   ]
  },
  {
   "cell_type": "markdown",
   "id": "e2f4c6f7",
   "metadata": {},
   "source": [
    "## Проведите анализ важности факторов ДТП"
   ]
  },
  {
   "cell_type": "code",
   "execution_count": 19,
   "id": "2027b371",
   "metadata": {},
   "outputs": [],
   "source": [
    "query = '''\n",
    "SELECT *\n",
    "  FROM parties AS p\n",
    "       FULL JOIN vehicles AS v ON p.case_id = v.case_id AND p.party_number = v.party_number\n",
    "       FULL JOIN collisions AS c ON p.case_id = c.case_id\n",
    " WHERE p.party_type = 'car'\n",
    "       AND c.collision_damage != 'scratch'\n",
    "       AND c.collision_date BETWEEN '2012-01-01' AND '2012-12-31';\n",
    "'''\n",
    "data = pd.read_sql_query(query, con=engine)"
   ]
  },
  {
   "cell_type": "code",
   "execution_count": 20,
   "id": "2533b418",
   "metadata": {},
   "outputs": [
    {
     "name": "stdout",
     "output_type": "stream",
     "text": [
      "<class 'pandas.core.frame.DataFrame'>\n",
      "RangeIndex: 196837 entries, 0 to 196836\n",
      "Data columns (total 35 columns):\n",
      " #   Column                       Non-Null Count   Dtype  \n",
      "---  ------                       --------------   -----  \n",
      " 0   id                           196837 non-null  int64  \n",
      " 1   case_id                      196837 non-null  object \n",
      " 2   party_number                 196837 non-null  int64  \n",
      " 3   party_type                   196837 non-null  object \n",
      " 4   at_fault                     196837 non-null  int64  \n",
      " 5   insurance_premium            176607 non-null  float64\n",
      " 6   party_sobriety               193212 non-null  object \n",
      " 7   party_drug_physical          25148 non-null   object \n",
      " 8   cellphone_in_use             171464 non-null  float64\n",
      " 9   id                           56248 non-null   float64\n",
      " 10  case_id                      56248 non-null   object \n",
      " 11  party_number                 56248 non-null   float64\n",
      " 12  vehicle_type                 56248 non-null   object \n",
      " 13  vehicle_transmission         55389 non-null   object \n",
      " 14  vehicle_age                  54554 non-null   float64\n",
      " 15  case_id                      196837 non-null  object \n",
      " 16  county_city_location         196837 non-null  object \n",
      " 17  county_location              196837 non-null  object \n",
      " 18  distance                     196837 non-null  float64\n",
      " 19  direction                    153975 non-null  object \n",
      " 20  intersection                 195850 non-null  float64\n",
      " 21  weather_1                    196183 non-null  object \n",
      " 22  location_type                87357 non-null   object \n",
      " 23  collision_damage             196837 non-null  object \n",
      " 24  party_count                  196837 non-null  int64  \n",
      " 25  primary_collision_factor     196098 non-null  object \n",
      " 26  pcf_violation_category       193173 non-null  object \n",
      " 27  type_of_collision            195280 non-null  object \n",
      " 28  motor_vehicle_involved_with  196000 non-null  object \n",
      " 29  road_surface                 195564 non-null  object \n",
      " 30  road_condition_1             195694 non-null  object \n",
      " 31  lighting                     196116 non-null  object \n",
      " 32  control_device               195864 non-null  object \n",
      " 33  collision_date               196837 non-null  object \n",
      " 34  collision_time               195464 non-null  object \n",
      "dtypes: float64(7), int64(4), object(24)\n",
      "memory usage: 52.6+ MB\n"
     ]
    }
   ],
   "source": [
    "data.info()"
   ]
  },
  {
   "cell_type": "code",
   "execution_count": 21,
   "id": "38c154ff",
   "metadata": {},
   "outputs": [
    {
     "data": {
      "text/html": [
       "<div>\n",
       "<style scoped>\n",
       "    .dataframe tbody tr th:only-of-type {\n",
       "        vertical-align: middle;\n",
       "    }\n",
       "\n",
       "    .dataframe tbody tr th {\n",
       "        vertical-align: top;\n",
       "    }\n",
       "\n",
       "    .dataframe thead th {\n",
       "        text-align: right;\n",
       "    }\n",
       "</style>\n",
       "<table border=\"1\" class=\"dataframe\">\n",
       "  <thead>\n",
       "    <tr style=\"text-align: right;\">\n",
       "      <th></th>\n",
       "      <th>count</th>\n",
       "      <th>mean</th>\n",
       "      <th>std</th>\n",
       "      <th>min</th>\n",
       "      <th>25%</th>\n",
       "      <th>50%</th>\n",
       "      <th>75%</th>\n",
       "      <th>max</th>\n",
       "    </tr>\n",
       "  </thead>\n",
       "  <tbody>\n",
       "    <tr>\n",
       "      <th>id</th>\n",
       "      <td>196837.0</td>\n",
       "      <td>2.589799e+06</td>\n",
       "      <td>97569.718519</td>\n",
       "      <td>1687780.0</td>\n",
       "      <td>2511773.00</td>\n",
       "      <td>2593207.0</td>\n",
       "      <td>2673872.00</td>\n",
       "      <td>2752408.0</td>\n",
       "    </tr>\n",
       "    <tr>\n",
       "      <th>party_number</th>\n",
       "      <td>196837.0</td>\n",
       "      <td>1.507745e+00</td>\n",
       "      <td>0.665083</td>\n",
       "      <td>1.0</td>\n",
       "      <td>1.00</td>\n",
       "      <td>1.0</td>\n",
       "      <td>2.00</td>\n",
       "      <td>10.0</td>\n",
       "    </tr>\n",
       "    <tr>\n",
       "      <th>at_fault</th>\n",
       "      <td>196837.0</td>\n",
       "      <td>5.235144e-01</td>\n",
       "      <td>0.499448</td>\n",
       "      <td>0.0</td>\n",
       "      <td>0.00</td>\n",
       "      <td>1.0</td>\n",
       "      <td>1.00</td>\n",
       "      <td>1.0</td>\n",
       "    </tr>\n",
       "    <tr>\n",
       "      <th>insurance_premium</th>\n",
       "      <td>176607.0</td>\n",
       "      <td>3.894500e+01</td>\n",
       "      <td>16.230328</td>\n",
       "      <td>0.0</td>\n",
       "      <td>25.00</td>\n",
       "      <td>36.0</td>\n",
       "      <td>50.00</td>\n",
       "      <td>105.0</td>\n",
       "    </tr>\n",
       "    <tr>\n",
       "      <th>cellphone_in_use</th>\n",
       "      <td>171464.0</td>\n",
       "      <td>2.363178e-02</td>\n",
       "      <td>0.151899</td>\n",
       "      <td>0.0</td>\n",
       "      <td>0.00</td>\n",
       "      <td>0.0</td>\n",
       "      <td>0.00</td>\n",
       "      <td>1.0</td>\n",
       "    </tr>\n",
       "    <tr>\n",
       "      <th>id</th>\n",
       "      <td>56248.0</td>\n",
       "      <td>1.429235e+06</td>\n",
       "      <td>54399.757417</td>\n",
       "      <td>985527.0</td>\n",
       "      <td>1386472.75</td>\n",
       "      <td>1432047.0</td>\n",
       "      <td>1476086.25</td>\n",
       "      <td>1517653.0</td>\n",
       "    </tr>\n",
       "    <tr>\n",
       "      <th>party_number</th>\n",
       "      <td>56248.0</td>\n",
       "      <td>1.527432e+00</td>\n",
       "      <td>0.662507</td>\n",
       "      <td>1.0</td>\n",
       "      <td>1.00</td>\n",
       "      <td>1.0</td>\n",
       "      <td>2.00</td>\n",
       "      <td>9.0</td>\n",
       "    </tr>\n",
       "    <tr>\n",
       "      <th>vehicle_age</th>\n",
       "      <td>54554.0</td>\n",
       "      <td>4.856472e+00</td>\n",
       "      <td>3.234503</td>\n",
       "      <td>0.0</td>\n",
       "      <td>3.00</td>\n",
       "      <td>4.0</td>\n",
       "      <td>7.00</td>\n",
       "      <td>161.0</td>\n",
       "    </tr>\n",
       "    <tr>\n",
       "      <th>distance</th>\n",
       "      <td>196837.0</td>\n",
       "      <td>6.624782e+02</td>\n",
       "      <td>7915.264303</td>\n",
       "      <td>0.0</td>\n",
       "      <td>10.00</td>\n",
       "      <td>100.0</td>\n",
       "      <td>500.00</td>\n",
       "      <td>1584000.0</td>\n",
       "    </tr>\n",
       "    <tr>\n",
       "      <th>intersection</th>\n",
       "      <td>195850.0</td>\n",
       "      <td>2.018994e-01</td>\n",
       "      <td>0.401419</td>\n",
       "      <td>0.0</td>\n",
       "      <td>0.00</td>\n",
       "      <td>0.0</td>\n",
       "      <td>0.00</td>\n",
       "      <td>1.0</td>\n",
       "    </tr>\n",
       "    <tr>\n",
       "      <th>party_count</th>\n",
       "      <td>196837.0</td>\n",
       "      <td>2.106093e+00</td>\n",
       "      <td>0.726720</td>\n",
       "      <td>1.0</td>\n",
       "      <td>2.00</td>\n",
       "      <td>2.0</td>\n",
       "      <td>2.00</td>\n",
       "      <td>12.0</td>\n",
       "    </tr>\n",
       "  </tbody>\n",
       "</table>\n",
       "</div>"
      ],
      "text/plain": [
       "                      count          mean           std        min  \\\n",
       "id                 196837.0  2.589799e+06  97569.718519  1687780.0   \n",
       "party_number       196837.0  1.507745e+00      0.665083        1.0   \n",
       "at_fault           196837.0  5.235144e-01      0.499448        0.0   \n",
       "insurance_premium  176607.0  3.894500e+01     16.230328        0.0   \n",
       "cellphone_in_use   171464.0  2.363178e-02      0.151899        0.0   \n",
       "id                  56248.0  1.429235e+06  54399.757417   985527.0   \n",
       "party_number        56248.0  1.527432e+00      0.662507        1.0   \n",
       "vehicle_age         54554.0  4.856472e+00      3.234503        0.0   \n",
       "distance           196837.0  6.624782e+02   7915.264303        0.0   \n",
       "intersection       195850.0  2.018994e-01      0.401419        0.0   \n",
       "party_count        196837.0  2.106093e+00      0.726720        1.0   \n",
       "\n",
       "                          25%        50%         75%        max  \n",
       "id                 2511773.00  2593207.0  2673872.00  2752408.0  \n",
       "party_number             1.00        1.0        2.00       10.0  \n",
       "at_fault                 0.00        1.0        1.00        1.0  \n",
       "insurance_premium       25.00       36.0       50.00      105.0  \n",
       "cellphone_in_use         0.00        0.0        0.00        1.0  \n",
       "id                 1386472.75  1432047.0  1476086.25  1517653.0  \n",
       "party_number             1.00        1.0        2.00        9.0  \n",
       "vehicle_age              3.00        4.0        7.00      161.0  \n",
       "distance                10.00      100.0      500.00  1584000.0  \n",
       "intersection             0.00        0.0        0.00        1.0  \n",
       "party_count              2.00        2.0        2.00       12.0  "
      ]
     },
     "execution_count": 21,
     "metadata": {},
     "output_type": "execute_result"
    }
   ],
   "source": [
    "data.describe().transpose()"
   ]
  },
  {
   "cell_type": "markdown",
   "id": "370dbf4a",
   "metadata": {},
   "source": [
    "Удаляю стобцы, не влияющие на вероятность стать виновником ДТП:\n",
    "\n",
    "- уникальный номер (id), \n",
    "- номер случая (case_id), \n",
    "- номер участника (party_number), \n",
    "- тип участника (party_type), \n",
    "- дата ДТП (collision_date), \n",
    "- время ДТП (collision_time)."
   ]
  },
  {
   "cell_type": "markdown",
   "id": "4168d215",
   "metadata": {},
   "source": [
    "Оставленные столбцы:\n",
    "\n",
    "- страховая премия (insurance_premium), \n",
    "- трезвость участника (party_sobriety), \n",
    "- состояние участника (party_drug_physical), \n",
    "- использование телефона (cellphone_in_use), \n",
    "- тип кузова (vehicle_type), \n",
    "- тип трансмиссии (vehicle_transmission), \n",
    "- сколько лет авто (vehicle_age), \n",
    "- регион (county_location), \n",
    "- расстояние (distance), \n",
    "- направление (direction), \n",
    "- перекрёсток или нет (intersection), \n",
    "- погода (weather_1), \n",
    "- тип дороги (location_type), \n",
    "- урон (collision_damage), \n",
    "- количество участников (party_count), \n",
    "- главный фактор ДТП (primary_collision_factor), \n",
    "- категория нарушения (pcf_violation_category), \n",
    "- тип столкновения (type_of_collision), \n",
    "- тип участников (motor_vehicle_involved_with), \n",
    "- тип покрытия (road_surface), состояние дороги (road_condition_1), \n",
    "- освещённость (lighting), \n",
    "- устройство слежения (control_device)."
   ]
  },
  {
   "cell_type": "code",
   "execution_count": 22,
   "id": "30f30d3f",
   "metadata": {},
   "outputs": [],
   "source": [
    "data.drop(columns=[\n",
    "    'case_id', 'id', 'party_number', 'county_city_location', 'collision_date', 'collision_time', 'party_type'\n",
    "], inplace=True, errors='ignore')"
   ]
  },
  {
   "cell_type": "code",
   "execution_count": 23,
   "id": "4feeaf86",
   "metadata": {},
   "outputs": [
    {
     "name": "stdout",
     "output_type": "stream",
     "text": [
      "<class 'pandas.core.frame.DataFrame'>\n",
      "RangeIndex: 196837 entries, 0 to 196836\n",
      "Data columns (total 24 columns):\n",
      " #   Column                       Non-Null Count   Dtype  \n",
      "---  ------                       --------------   -----  \n",
      " 0   at_fault                     196837 non-null  int64  \n",
      " 1   insurance_premium            176607 non-null  float64\n",
      " 2   party_sobriety               193212 non-null  object \n",
      " 3   party_drug_physical          25148 non-null   object \n",
      " 4   cellphone_in_use             171464 non-null  float64\n",
      " 5   vehicle_type                 56248 non-null   object \n",
      " 6   vehicle_transmission         55389 non-null   object \n",
      " 7   vehicle_age                  54554 non-null   float64\n",
      " 8   county_location              196837 non-null  object \n",
      " 9   distance                     196837 non-null  float64\n",
      " 10  direction                    153975 non-null  object \n",
      " 11  intersection                 195850 non-null  float64\n",
      " 12  weather_1                    196183 non-null  object \n",
      " 13  location_type                87357 non-null   object \n",
      " 14  collision_damage             196837 non-null  object \n",
      " 15  party_count                  196837 non-null  int64  \n",
      " 16  primary_collision_factor     196098 non-null  object \n",
      " 17  pcf_violation_category       193173 non-null  object \n",
      " 18  type_of_collision            195280 non-null  object \n",
      " 19  motor_vehicle_involved_with  196000 non-null  object \n",
      " 20  road_surface                 195564 non-null  object \n",
      " 21  road_condition_1             195694 non-null  object \n",
      " 22  lighting                     196116 non-null  object \n",
      " 23  control_device               195864 non-null  object \n",
      "dtypes: float64(5), int64(2), object(17)\n",
      "memory usage: 36.0+ MB\n"
     ]
    }
   ],
   "source": [
    "data.info()"
   ]
  },
  {
   "cell_type": "code",
   "execution_count": 24,
   "id": "fb8bf442",
   "metadata": {},
   "outputs": [
    {
     "data": {
      "text/html": [
       "<div>\n",
       "<style scoped>\n",
       "    .dataframe tbody tr th:only-of-type {\n",
       "        vertical-align: middle;\n",
       "    }\n",
       "\n",
       "    .dataframe tbody tr th {\n",
       "        vertical-align: top;\n",
       "    }\n",
       "\n",
       "    .dataframe thead th {\n",
       "        text-align: right;\n",
       "    }\n",
       "</style>\n",
       "<table border=\"1\" class=\"dataframe\">\n",
       "  <thead>\n",
       "    <tr style=\"text-align: right;\">\n",
       "      <th></th>\n",
       "      <th>at_fault</th>\n",
       "      <th>insurance_premium</th>\n",
       "      <th>party_sobriety</th>\n",
       "      <th>party_drug_physical</th>\n",
       "      <th>cellphone_in_use</th>\n",
       "      <th>vehicle_type</th>\n",
       "      <th>vehicle_transmission</th>\n",
       "      <th>vehicle_age</th>\n",
       "      <th>county_location</th>\n",
       "      <th>distance</th>\n",
       "      <th>...</th>\n",
       "      <th>collision_damage</th>\n",
       "      <th>party_count</th>\n",
       "      <th>primary_collision_factor</th>\n",
       "      <th>pcf_violation_category</th>\n",
       "      <th>type_of_collision</th>\n",
       "      <th>motor_vehicle_involved_with</th>\n",
       "      <th>road_surface</th>\n",
       "      <th>road_condition_1</th>\n",
       "      <th>lighting</th>\n",
       "      <th>control_device</th>\n",
       "    </tr>\n",
       "  </thead>\n",
       "  <tbody>\n",
       "    <tr>\n",
       "      <th>0</th>\n",
       "      <td>0</td>\n",
       "      <td>NaN</td>\n",
       "      <td>impairment unknown</td>\n",
       "      <td>G</td>\n",
       "      <td>0.0</td>\n",
       "      <td>None</td>\n",
       "      <td>None</td>\n",
       "      <td>NaN</td>\n",
       "      <td>los angeles</td>\n",
       "      <td>128.0</td>\n",
       "      <td>...</td>\n",
       "      <td>small damage</td>\n",
       "      <td>4</td>\n",
       "      <td>vehicle code violation</td>\n",
       "      <td>speeding</td>\n",
       "      <td>rear end</td>\n",
       "      <td>other motor vehicle</td>\n",
       "      <td>dry</td>\n",
       "      <td>normal</td>\n",
       "      <td>daylight</td>\n",
       "      <td>none</td>\n",
       "    </tr>\n",
       "    <tr>\n",
       "      <th>1</th>\n",
       "      <td>0</td>\n",
       "      <td>26.0</td>\n",
       "      <td>had not been drinking</td>\n",
       "      <td>None</td>\n",
       "      <td>0.0</td>\n",
       "      <td>None</td>\n",
       "      <td>None</td>\n",
       "      <td>NaN</td>\n",
       "      <td>los angeles</td>\n",
       "      <td>900.0</td>\n",
       "      <td>...</td>\n",
       "      <td>small damage</td>\n",
       "      <td>7</td>\n",
       "      <td>vehicle code violation</td>\n",
       "      <td>speeding</td>\n",
       "      <td>rear end</td>\n",
       "      <td>other motor vehicle</td>\n",
       "      <td>dry</td>\n",
       "      <td>normal</td>\n",
       "      <td>daylight</td>\n",
       "      <td>none</td>\n",
       "    </tr>\n",
       "    <tr>\n",
       "      <th>2</th>\n",
       "      <td>0</td>\n",
       "      <td>42.0</td>\n",
       "      <td>had not been drinking</td>\n",
       "      <td>None</td>\n",
       "      <td>0.0</td>\n",
       "      <td>None</td>\n",
       "      <td>None</td>\n",
       "      <td>NaN</td>\n",
       "      <td>los angeles</td>\n",
       "      <td>90.0</td>\n",
       "      <td>...</td>\n",
       "      <td>small damage</td>\n",
       "      <td>6</td>\n",
       "      <td>vehicle code violation</td>\n",
       "      <td>speeding</td>\n",
       "      <td>rear end</td>\n",
       "      <td>other motor vehicle</td>\n",
       "      <td>dry</td>\n",
       "      <td>normal</td>\n",
       "      <td>dark with no street lights</td>\n",
       "      <td>none</td>\n",
       "    </tr>\n",
       "    <tr>\n",
       "      <th>3</th>\n",
       "      <td>0</td>\n",
       "      <td>23.0</td>\n",
       "      <td>had not been drinking</td>\n",
       "      <td>None</td>\n",
       "      <td>0.0</td>\n",
       "      <td>None</td>\n",
       "      <td>None</td>\n",
       "      <td>NaN</td>\n",
       "      <td>santa clara</td>\n",
       "      <td>500.0</td>\n",
       "      <td>...</td>\n",
       "      <td>small damage</td>\n",
       "      <td>5</td>\n",
       "      <td>vehicle code violation</td>\n",
       "      <td>speeding</td>\n",
       "      <td>rear end</td>\n",
       "      <td>other motor vehicle</td>\n",
       "      <td>dry</td>\n",
       "      <td>normal</td>\n",
       "      <td>daylight</td>\n",
       "      <td>none</td>\n",
       "    </tr>\n",
       "    <tr>\n",
       "      <th>4</th>\n",
       "      <td>0</td>\n",
       "      <td>44.0</td>\n",
       "      <td>had not been drinking</td>\n",
       "      <td>None</td>\n",
       "      <td>NaN</td>\n",
       "      <td>None</td>\n",
       "      <td>None</td>\n",
       "      <td>NaN</td>\n",
       "      <td>los angeles</td>\n",
       "      <td>707.0</td>\n",
       "      <td>...</td>\n",
       "      <td>small damage</td>\n",
       "      <td>6</td>\n",
       "      <td>vehicle code violation</td>\n",
       "      <td>speeding</td>\n",
       "      <td>rear end</td>\n",
       "      <td>other motor vehicle</td>\n",
       "      <td>dry</td>\n",
       "      <td>normal</td>\n",
       "      <td>daylight</td>\n",
       "      <td>functioning</td>\n",
       "    </tr>\n",
       "    <tr>\n",
       "      <th>5</th>\n",
       "      <td>0</td>\n",
       "      <td>NaN</td>\n",
       "      <td>impairment unknown</td>\n",
       "      <td>G</td>\n",
       "      <td>0.0</td>\n",
       "      <td>None</td>\n",
       "      <td>None</td>\n",
       "      <td>NaN</td>\n",
       "      <td>los angeles</td>\n",
       "      <td>389.0</td>\n",
       "      <td>...</td>\n",
       "      <td>middle damage</td>\n",
       "      <td>5</td>\n",
       "      <td>vehicle code violation</td>\n",
       "      <td>following too closely</td>\n",
       "      <td>rear end</td>\n",
       "      <td>other motor vehicle</td>\n",
       "      <td>dry</td>\n",
       "      <td>normal</td>\n",
       "      <td>daylight</td>\n",
       "      <td>none</td>\n",
       "    </tr>\n",
       "    <tr>\n",
       "      <th>6</th>\n",
       "      <td>0</td>\n",
       "      <td>NaN</td>\n",
       "      <td>had not been drinking</td>\n",
       "      <td>None</td>\n",
       "      <td>0.0</td>\n",
       "      <td>None</td>\n",
       "      <td>None</td>\n",
       "      <td>NaN</td>\n",
       "      <td>riverside</td>\n",
       "      <td>1056.0</td>\n",
       "      <td>...</td>\n",
       "      <td>small damage</td>\n",
       "      <td>5</td>\n",
       "      <td>vehicle code violation</td>\n",
       "      <td>speeding</td>\n",
       "      <td>rear end</td>\n",
       "      <td>other motor vehicle</td>\n",
       "      <td>dry</td>\n",
       "      <td>normal</td>\n",
       "      <td>daylight</td>\n",
       "      <td>none</td>\n",
       "    </tr>\n",
       "    <tr>\n",
       "      <th>7</th>\n",
       "      <td>1</td>\n",
       "      <td>18.0</td>\n",
       "      <td>had not been drinking</td>\n",
       "      <td>None</td>\n",
       "      <td>0.0</td>\n",
       "      <td>None</td>\n",
       "      <td>None</td>\n",
       "      <td>NaN</td>\n",
       "      <td>orange</td>\n",
       "      <td>263.0</td>\n",
       "      <td>...</td>\n",
       "      <td>severe damage</td>\n",
       "      <td>5</td>\n",
       "      <td>vehicle code violation</td>\n",
       "      <td>speeding</td>\n",
       "      <td>rear end</td>\n",
       "      <td>other motor vehicle</td>\n",
       "      <td>dry</td>\n",
       "      <td>normal</td>\n",
       "      <td>daylight</td>\n",
       "      <td>none</td>\n",
       "    </tr>\n",
       "    <tr>\n",
       "      <th>8</th>\n",
       "      <td>0</td>\n",
       "      <td>53.0</td>\n",
       "      <td>had not been drinking</td>\n",
       "      <td>None</td>\n",
       "      <td>0.0</td>\n",
       "      <td>sedan</td>\n",
       "      <td>manual</td>\n",
       "      <td>4.0</td>\n",
       "      <td>santa cruz</td>\n",
       "      <td>1200.0</td>\n",
       "      <td>...</td>\n",
       "      <td>small damage</td>\n",
       "      <td>5</td>\n",
       "      <td>vehicle code violation</td>\n",
       "      <td>speeding</td>\n",
       "      <td>rear end</td>\n",
       "      <td>other motor vehicle</td>\n",
       "      <td>wet</td>\n",
       "      <td>normal</td>\n",
       "      <td>daylight</td>\n",
       "      <td>none</td>\n",
       "    </tr>\n",
       "    <tr>\n",
       "      <th>9</th>\n",
       "      <td>0</td>\n",
       "      <td>37.0</td>\n",
       "      <td>had not been drinking</td>\n",
       "      <td>None</td>\n",
       "      <td>0.0</td>\n",
       "      <td>sedan</td>\n",
       "      <td>auto</td>\n",
       "      <td>4.0</td>\n",
       "      <td>orange</td>\n",
       "      <td>0.0</td>\n",
       "      <td>...</td>\n",
       "      <td>fatal</td>\n",
       "      <td>5</td>\n",
       "      <td>vehicle code violation</td>\n",
       "      <td>traffic signals and signs</td>\n",
       "      <td>broadside</td>\n",
       "      <td>other motor vehicle</td>\n",
       "      <td>dry</td>\n",
       "      <td>normal</td>\n",
       "      <td>daylight</td>\n",
       "      <td>functioning</td>\n",
       "    </tr>\n",
       "    <tr>\n",
       "      <th>10</th>\n",
       "      <td>0</td>\n",
       "      <td>26.0</td>\n",
       "      <td>had not been drinking</td>\n",
       "      <td>None</td>\n",
       "      <td>NaN</td>\n",
       "      <td>None</td>\n",
       "      <td>None</td>\n",
       "      <td>NaN</td>\n",
       "      <td>los angeles</td>\n",
       "      <td>0.0</td>\n",
       "      <td>...</td>\n",
       "      <td>middle damage</td>\n",
       "      <td>5</td>\n",
       "      <td>vehicle code violation</td>\n",
       "      <td>traffic signals and signs</td>\n",
       "      <td>broadside</td>\n",
       "      <td>other motor vehicle</td>\n",
       "      <td>dry</td>\n",
       "      <td>normal</td>\n",
       "      <td>daylight</td>\n",
       "      <td>functioning</td>\n",
       "    </tr>\n",
       "    <tr>\n",
       "      <th>11</th>\n",
       "      <td>0</td>\n",
       "      <td>28.0</td>\n",
       "      <td>had not been drinking</td>\n",
       "      <td>None</td>\n",
       "      <td>0.0</td>\n",
       "      <td>None</td>\n",
       "      <td>None</td>\n",
       "      <td>NaN</td>\n",
       "      <td>los angeles</td>\n",
       "      <td>1000.0</td>\n",
       "      <td>...</td>\n",
       "      <td>small damage</td>\n",
       "      <td>5</td>\n",
       "      <td>vehicle code violation</td>\n",
       "      <td>speeding</td>\n",
       "      <td>rear end</td>\n",
       "      <td>other motor vehicle</td>\n",
       "      <td>dry</td>\n",
       "      <td>normal</td>\n",
       "      <td>daylight</td>\n",
       "      <td>none</td>\n",
       "    </tr>\n",
       "    <tr>\n",
       "      <th>12</th>\n",
       "      <td>0</td>\n",
       "      <td>NaN</td>\n",
       "      <td>impairment unknown</td>\n",
       "      <td>G</td>\n",
       "      <td>0.0</td>\n",
       "      <td>None</td>\n",
       "      <td>None</td>\n",
       "      <td>NaN</td>\n",
       "      <td>los angeles</td>\n",
       "      <td>100.0</td>\n",
       "      <td>...</td>\n",
       "      <td>small damage</td>\n",
       "      <td>5</td>\n",
       "      <td>vehicle code violation</td>\n",
       "      <td>speeding</td>\n",
       "      <td>rear end</td>\n",
       "      <td>other motor vehicle</td>\n",
       "      <td>dry</td>\n",
       "      <td>normal</td>\n",
       "      <td>daylight</td>\n",
       "      <td>none</td>\n",
       "    </tr>\n",
       "    <tr>\n",
       "      <th>13</th>\n",
       "      <td>0</td>\n",
       "      <td>56.0</td>\n",
       "      <td>had not been drinking</td>\n",
       "      <td>None</td>\n",
       "      <td>0.0</td>\n",
       "      <td>None</td>\n",
       "      <td>None</td>\n",
       "      <td>NaN</td>\n",
       "      <td>los angeles</td>\n",
       "      <td>200.0</td>\n",
       "      <td>...</td>\n",
       "      <td>middle damage</td>\n",
       "      <td>5</td>\n",
       "      <td>vehicle code violation</td>\n",
       "      <td>speeding</td>\n",
       "      <td>rear end</td>\n",
       "      <td>other motor vehicle</td>\n",
       "      <td>dry</td>\n",
       "      <td>normal</td>\n",
       "      <td>daylight</td>\n",
       "      <td>functioning</td>\n",
       "    </tr>\n",
       "    <tr>\n",
       "      <th>14</th>\n",
       "      <td>0</td>\n",
       "      <td>57.0</td>\n",
       "      <td>had not been drinking</td>\n",
       "      <td>None</td>\n",
       "      <td>0.0</td>\n",
       "      <td>None</td>\n",
       "      <td>None</td>\n",
       "      <td>NaN</td>\n",
       "      <td>santa clara</td>\n",
       "      <td>528.0</td>\n",
       "      <td>...</td>\n",
       "      <td>middle damage</td>\n",
       "      <td>6</td>\n",
       "      <td>vehicle code violation</td>\n",
       "      <td>speeding</td>\n",
       "      <td>rear end</td>\n",
       "      <td>other motor vehicle</td>\n",
       "      <td>dry</td>\n",
       "      <td>normal</td>\n",
       "      <td>daylight</td>\n",
       "      <td>none</td>\n",
       "    </tr>\n",
       "  </tbody>\n",
       "</table>\n",
       "<p>15 rows × 24 columns</p>\n",
       "</div>"
      ],
      "text/plain": [
       "    at_fault  insurance_premium         party_sobriety party_drug_physical  \\\n",
       "0          0                NaN     impairment unknown                   G   \n",
       "1          0               26.0  had not been drinking                None   \n",
       "2          0               42.0  had not been drinking                None   \n",
       "3          0               23.0  had not been drinking                None   \n",
       "4          0               44.0  had not been drinking                None   \n",
       "5          0                NaN     impairment unknown                   G   \n",
       "6          0                NaN  had not been drinking                None   \n",
       "7          1               18.0  had not been drinking                None   \n",
       "8          0               53.0  had not been drinking                None   \n",
       "9          0               37.0  had not been drinking                None   \n",
       "10         0               26.0  had not been drinking                None   \n",
       "11         0               28.0  had not been drinking                None   \n",
       "12         0                NaN     impairment unknown                   G   \n",
       "13         0               56.0  had not been drinking                None   \n",
       "14         0               57.0  had not been drinking                None   \n",
       "\n",
       "    cellphone_in_use vehicle_type vehicle_transmission  vehicle_age  \\\n",
       "0                0.0         None                 None          NaN   \n",
       "1                0.0         None                 None          NaN   \n",
       "2                0.0         None                 None          NaN   \n",
       "3                0.0         None                 None          NaN   \n",
       "4                NaN         None                 None          NaN   \n",
       "5                0.0         None                 None          NaN   \n",
       "6                0.0         None                 None          NaN   \n",
       "7                0.0         None                 None          NaN   \n",
       "8                0.0        sedan               manual          4.0   \n",
       "9                0.0        sedan                 auto          4.0   \n",
       "10               NaN         None                 None          NaN   \n",
       "11               0.0         None                 None          NaN   \n",
       "12               0.0         None                 None          NaN   \n",
       "13               0.0         None                 None          NaN   \n",
       "14               0.0         None                 None          NaN   \n",
       "\n",
       "   county_location  distance  ... collision_damage  party_count  \\\n",
       "0      los angeles     128.0  ...     small damage            4   \n",
       "1      los angeles     900.0  ...     small damage            7   \n",
       "2      los angeles      90.0  ...     small damage            6   \n",
       "3      santa clara     500.0  ...     small damage            5   \n",
       "4      los angeles     707.0  ...     small damage            6   \n",
       "5      los angeles     389.0  ...    middle damage            5   \n",
       "6        riverside    1056.0  ...     small damage            5   \n",
       "7           orange     263.0  ...    severe damage            5   \n",
       "8       santa cruz    1200.0  ...     small damage            5   \n",
       "9           orange       0.0  ...            fatal            5   \n",
       "10     los angeles       0.0  ...    middle damage            5   \n",
       "11     los angeles    1000.0  ...     small damage            5   \n",
       "12     los angeles     100.0  ...     small damage            5   \n",
       "13     los angeles     200.0  ...    middle damage            5   \n",
       "14     santa clara     528.0  ...    middle damage            6   \n",
       "\n",
       "   primary_collision_factor     pcf_violation_category type_of_collision  \\\n",
       "0    vehicle code violation                   speeding          rear end   \n",
       "1    vehicle code violation                   speeding          rear end   \n",
       "2    vehicle code violation                   speeding          rear end   \n",
       "3    vehicle code violation                   speeding          rear end   \n",
       "4    vehicle code violation                   speeding          rear end   \n",
       "5    vehicle code violation      following too closely          rear end   \n",
       "6    vehicle code violation                   speeding          rear end   \n",
       "7    vehicle code violation                   speeding          rear end   \n",
       "8    vehicle code violation                   speeding          rear end   \n",
       "9    vehicle code violation  traffic signals and signs         broadside   \n",
       "10   vehicle code violation  traffic signals and signs         broadside   \n",
       "11   vehicle code violation                   speeding          rear end   \n",
       "12   vehicle code violation                   speeding          rear end   \n",
       "13   vehicle code violation                   speeding          rear end   \n",
       "14   vehicle code violation                   speeding          rear end   \n",
       "\n",
       "    motor_vehicle_involved_with road_surface road_condition_1  \\\n",
       "0           other motor vehicle          dry           normal   \n",
       "1           other motor vehicle          dry           normal   \n",
       "2           other motor vehicle          dry           normal   \n",
       "3           other motor vehicle          dry           normal   \n",
       "4           other motor vehicle          dry           normal   \n",
       "5           other motor vehicle          dry           normal   \n",
       "6           other motor vehicle          dry           normal   \n",
       "7           other motor vehicle          dry           normal   \n",
       "8           other motor vehicle          wet           normal   \n",
       "9           other motor vehicle          dry           normal   \n",
       "10          other motor vehicle          dry           normal   \n",
       "11          other motor vehicle          dry           normal   \n",
       "12          other motor vehicle          dry           normal   \n",
       "13          other motor vehicle          dry           normal   \n",
       "14          other motor vehicle          dry           normal   \n",
       "\n",
       "                      lighting control_device  \n",
       "0                     daylight           none  \n",
       "1                     daylight           none  \n",
       "2   dark with no street lights           none  \n",
       "3                     daylight           none  \n",
       "4                     daylight    functioning  \n",
       "5                     daylight           none  \n",
       "6                     daylight           none  \n",
       "7                     daylight           none  \n",
       "8                     daylight           none  \n",
       "9                     daylight    functioning  \n",
       "10                    daylight    functioning  \n",
       "11                    daylight           none  \n",
       "12                    daylight           none  \n",
       "13                    daylight    functioning  \n",
       "14                    daylight           none  \n",
       "\n",
       "[15 rows x 24 columns]"
      ]
     },
     "metadata": {},
     "output_type": "display_data"
    }
   ],
   "source": [
    "display (data.head(15))"
   ]
  },
  {
   "cell_type": "markdown",
   "id": "8c729940",
   "metadata": {},
   "source": [
    "Переименую отличающиеся столбцы:"
   ]
  },
  {
   "cell_type": "code",
   "execution_count": 25,
   "id": "6d11da66",
   "metadata": {},
   "outputs": [],
   "source": [
    "data.rename(columns={'weather_1':'weather', 'road_condition_1':'road_condition'}, inplace=True)"
   ]
  },
  {
   "cell_type": "code",
   "execution_count": 26,
   "id": "68e44a18",
   "metadata": {},
   "outputs": [
    {
     "name": "stdout",
     "output_type": "stream",
     "text": [
      "<class 'pandas.core.frame.DataFrame'>\n",
      "RangeIndex: 196837 entries, 0 to 196836\n",
      "Data columns (total 24 columns):\n",
      " #   Column                       Non-Null Count   Dtype  \n",
      "---  ------                       --------------   -----  \n",
      " 0   at_fault                     196837 non-null  int64  \n",
      " 1   insurance_premium            176607 non-null  float64\n",
      " 2   party_sobriety               193212 non-null  object \n",
      " 3   party_drug_physical          25148 non-null   object \n",
      " 4   cellphone_in_use             171464 non-null  float64\n",
      " 5   vehicle_type                 56248 non-null   object \n",
      " 6   vehicle_transmission         55389 non-null   object \n",
      " 7   vehicle_age                  54554 non-null   float64\n",
      " 8   county_location              196837 non-null  object \n",
      " 9   distance                     196837 non-null  float64\n",
      " 10  direction                    153975 non-null  object \n",
      " 11  intersection                 195850 non-null  float64\n",
      " 12  weather                      196183 non-null  object \n",
      " 13  location_type                87357 non-null   object \n",
      " 14  collision_damage             196837 non-null  object \n",
      " 15  party_count                  196837 non-null  int64  \n",
      " 16  primary_collision_factor     196098 non-null  object \n",
      " 17  pcf_violation_category       193173 non-null  object \n",
      " 18  type_of_collision            195280 non-null  object \n",
      " 19  motor_vehicle_involved_with  196000 non-null  object \n",
      " 20  road_surface                 195564 non-null  object \n",
      " 21  road_condition               195694 non-null  object \n",
      " 22  lighting                     196116 non-null  object \n",
      " 23  control_device               195864 non-null  object \n",
      "dtypes: float64(5), int64(2), object(17)\n",
      "memory usage: 36.0+ MB\n"
     ]
    }
   ],
   "source": [
    "data.info()"
   ]
  },
  {
   "cell_type": "code",
   "execution_count": 27,
   "id": "9bdc9c95",
   "metadata": {},
   "outputs": [
    {
     "data": {
      "text/html": [
       "<div>\n",
       "<style scoped>\n",
       "    .dataframe tbody tr th:only-of-type {\n",
       "        vertical-align: middle;\n",
       "    }\n",
       "\n",
       "    .dataframe tbody tr th {\n",
       "        vertical-align: top;\n",
       "    }\n",
       "\n",
       "    .dataframe thead th {\n",
       "        text-align: right;\n",
       "    }\n",
       "</style>\n",
       "<table border=\"1\" class=\"dataframe\">\n",
       "  <thead>\n",
       "    <tr style=\"text-align: right;\">\n",
       "      <th></th>\n",
       "      <th>at_fault</th>\n",
       "      <th>insurance_premium</th>\n",
       "      <th>party_sobriety</th>\n",
       "      <th>party_drug_physical</th>\n",
       "      <th>cellphone_in_use</th>\n",
       "      <th>vehicle_type</th>\n",
       "      <th>vehicle_transmission</th>\n",
       "      <th>vehicle_age</th>\n",
       "      <th>county_location</th>\n",
       "      <th>distance</th>\n",
       "      <th>...</th>\n",
       "      <th>collision_damage</th>\n",
       "      <th>party_count</th>\n",
       "      <th>primary_collision_factor</th>\n",
       "      <th>pcf_violation_category</th>\n",
       "      <th>type_of_collision</th>\n",
       "      <th>motor_vehicle_involved_with</th>\n",
       "      <th>road_surface</th>\n",
       "      <th>road_condition</th>\n",
       "      <th>lighting</th>\n",
       "      <th>control_device</th>\n",
       "    </tr>\n",
       "  </thead>\n",
       "  <tbody>\n",
       "    <tr>\n",
       "      <th>count</th>\n",
       "      <td>196837.000000</td>\n",
       "      <td>176607.000000</td>\n",
       "      <td>193212</td>\n",
       "      <td>25148</td>\n",
       "      <td>171464.000000</td>\n",
       "      <td>56248</td>\n",
       "      <td>55389</td>\n",
       "      <td>54554.000000</td>\n",
       "      <td>196837</td>\n",
       "      <td>1.968370e+05</td>\n",
       "      <td>...</td>\n",
       "      <td>196837</td>\n",
       "      <td>196837.000000</td>\n",
       "      <td>196098</td>\n",
       "      <td>193173</td>\n",
       "      <td>195280</td>\n",
       "      <td>196000</td>\n",
       "      <td>195564</td>\n",
       "      <td>195694</td>\n",
       "      <td>196116</td>\n",
       "      <td>195864</td>\n",
       "    </tr>\n",
       "    <tr>\n",
       "      <th>unique</th>\n",
       "      <td>NaN</td>\n",
       "      <td>NaN</td>\n",
       "      <td>6</td>\n",
       "      <td>5</td>\n",
       "      <td>NaN</td>\n",
       "      <td>3</td>\n",
       "      <td>2</td>\n",
       "      <td>NaN</td>\n",
       "      <td>58</td>\n",
       "      <td>NaN</td>\n",
       "      <td>...</td>\n",
       "      <td>4</td>\n",
       "      <td>NaN</td>\n",
       "      <td>5</td>\n",
       "      <td>22</td>\n",
       "      <td>7</td>\n",
       "      <td>9</td>\n",
       "      <td>4</td>\n",
       "      <td>8</td>\n",
       "      <td>5</td>\n",
       "      <td>4</td>\n",
       "    </tr>\n",
       "    <tr>\n",
       "      <th>top</th>\n",
       "      <td>NaN</td>\n",
       "      <td>NaN</td>\n",
       "      <td>had not been drinking</td>\n",
       "      <td>G</td>\n",
       "      <td>NaN</td>\n",
       "      <td>sedan</td>\n",
       "      <td>manual</td>\n",
       "      <td>NaN</td>\n",
       "      <td>los angeles</td>\n",
       "      <td>NaN</td>\n",
       "      <td>...</td>\n",
       "      <td>small damage</td>\n",
       "      <td>NaN</td>\n",
       "      <td>vehicle code violation</td>\n",
       "      <td>speeding</td>\n",
       "      <td>rear end</td>\n",
       "      <td>other motor vehicle</td>\n",
       "      <td>dry</td>\n",
       "      <td>normal</td>\n",
       "      <td>daylight</td>\n",
       "      <td>none</td>\n",
       "    </tr>\n",
       "    <tr>\n",
       "      <th>freq</th>\n",
       "      <td>NaN</td>\n",
       "      <td>NaN</td>\n",
       "      <td>157684</td>\n",
       "      <td>20525</td>\n",
       "      <td>NaN</td>\n",
       "      <td>37180</td>\n",
       "      <td>29318</td>\n",
       "      <td>NaN</td>\n",
       "      <td>64488</td>\n",
       "      <td>NaN</td>\n",
       "      <td>...</td>\n",
       "      <td>160097</td>\n",
       "      <td>NaN</td>\n",
       "      <td>186926</td>\n",
       "      <td>69309</td>\n",
       "      <td>76645</td>\n",
       "      <td>147291</td>\n",
       "      <td>175564</td>\n",
       "      <td>189563</td>\n",
       "      <td>136370</td>\n",
       "      <td>132665</td>\n",
       "    </tr>\n",
       "    <tr>\n",
       "      <th>mean</th>\n",
       "      <td>0.523514</td>\n",
       "      <td>38.945002</td>\n",
       "      <td>NaN</td>\n",
       "      <td>NaN</td>\n",
       "      <td>0.023632</td>\n",
       "      <td>NaN</td>\n",
       "      <td>NaN</td>\n",
       "      <td>4.856472</td>\n",
       "      <td>NaN</td>\n",
       "      <td>6.624782e+02</td>\n",
       "      <td>...</td>\n",
       "      <td>NaN</td>\n",
       "      <td>2.106093</td>\n",
       "      <td>NaN</td>\n",
       "      <td>NaN</td>\n",
       "      <td>NaN</td>\n",
       "      <td>NaN</td>\n",
       "      <td>NaN</td>\n",
       "      <td>NaN</td>\n",
       "      <td>NaN</td>\n",
       "      <td>NaN</td>\n",
       "    </tr>\n",
       "    <tr>\n",
       "      <th>std</th>\n",
       "      <td>0.499448</td>\n",
       "      <td>16.230328</td>\n",
       "      <td>NaN</td>\n",
       "      <td>NaN</td>\n",
       "      <td>0.151899</td>\n",
       "      <td>NaN</td>\n",
       "      <td>NaN</td>\n",
       "      <td>3.234503</td>\n",
       "      <td>NaN</td>\n",
       "      <td>7.915264e+03</td>\n",
       "      <td>...</td>\n",
       "      <td>NaN</td>\n",
       "      <td>0.726720</td>\n",
       "      <td>NaN</td>\n",
       "      <td>NaN</td>\n",
       "      <td>NaN</td>\n",
       "      <td>NaN</td>\n",
       "      <td>NaN</td>\n",
       "      <td>NaN</td>\n",
       "      <td>NaN</td>\n",
       "      <td>NaN</td>\n",
       "    </tr>\n",
       "    <tr>\n",
       "      <th>min</th>\n",
       "      <td>0.000000</td>\n",
       "      <td>0.000000</td>\n",
       "      <td>NaN</td>\n",
       "      <td>NaN</td>\n",
       "      <td>0.000000</td>\n",
       "      <td>NaN</td>\n",
       "      <td>NaN</td>\n",
       "      <td>0.000000</td>\n",
       "      <td>NaN</td>\n",
       "      <td>0.000000e+00</td>\n",
       "      <td>...</td>\n",
       "      <td>NaN</td>\n",
       "      <td>1.000000</td>\n",
       "      <td>NaN</td>\n",
       "      <td>NaN</td>\n",
       "      <td>NaN</td>\n",
       "      <td>NaN</td>\n",
       "      <td>NaN</td>\n",
       "      <td>NaN</td>\n",
       "      <td>NaN</td>\n",
       "      <td>NaN</td>\n",
       "    </tr>\n",
       "    <tr>\n",
       "      <th>25%</th>\n",
       "      <td>0.000000</td>\n",
       "      <td>25.000000</td>\n",
       "      <td>NaN</td>\n",
       "      <td>NaN</td>\n",
       "      <td>0.000000</td>\n",
       "      <td>NaN</td>\n",
       "      <td>NaN</td>\n",
       "      <td>3.000000</td>\n",
       "      <td>NaN</td>\n",
       "      <td>1.000000e+01</td>\n",
       "      <td>...</td>\n",
       "      <td>NaN</td>\n",
       "      <td>2.000000</td>\n",
       "      <td>NaN</td>\n",
       "      <td>NaN</td>\n",
       "      <td>NaN</td>\n",
       "      <td>NaN</td>\n",
       "      <td>NaN</td>\n",
       "      <td>NaN</td>\n",
       "      <td>NaN</td>\n",
       "      <td>NaN</td>\n",
       "    </tr>\n",
       "    <tr>\n",
       "      <th>50%</th>\n",
       "      <td>1.000000</td>\n",
       "      <td>36.000000</td>\n",
       "      <td>NaN</td>\n",
       "      <td>NaN</td>\n",
       "      <td>0.000000</td>\n",
       "      <td>NaN</td>\n",
       "      <td>NaN</td>\n",
       "      <td>4.000000</td>\n",
       "      <td>NaN</td>\n",
       "      <td>1.000000e+02</td>\n",
       "      <td>...</td>\n",
       "      <td>NaN</td>\n",
       "      <td>2.000000</td>\n",
       "      <td>NaN</td>\n",
       "      <td>NaN</td>\n",
       "      <td>NaN</td>\n",
       "      <td>NaN</td>\n",
       "      <td>NaN</td>\n",
       "      <td>NaN</td>\n",
       "      <td>NaN</td>\n",
       "      <td>NaN</td>\n",
       "    </tr>\n",
       "    <tr>\n",
       "      <th>75%</th>\n",
       "      <td>1.000000</td>\n",
       "      <td>50.000000</td>\n",
       "      <td>NaN</td>\n",
       "      <td>NaN</td>\n",
       "      <td>0.000000</td>\n",
       "      <td>NaN</td>\n",
       "      <td>NaN</td>\n",
       "      <td>7.000000</td>\n",
       "      <td>NaN</td>\n",
       "      <td>5.000000e+02</td>\n",
       "      <td>...</td>\n",
       "      <td>NaN</td>\n",
       "      <td>2.000000</td>\n",
       "      <td>NaN</td>\n",
       "      <td>NaN</td>\n",
       "      <td>NaN</td>\n",
       "      <td>NaN</td>\n",
       "      <td>NaN</td>\n",
       "      <td>NaN</td>\n",
       "      <td>NaN</td>\n",
       "      <td>NaN</td>\n",
       "    </tr>\n",
       "    <tr>\n",
       "      <th>max</th>\n",
       "      <td>1.000000</td>\n",
       "      <td>105.000000</td>\n",
       "      <td>NaN</td>\n",
       "      <td>NaN</td>\n",
       "      <td>1.000000</td>\n",
       "      <td>NaN</td>\n",
       "      <td>NaN</td>\n",
       "      <td>161.000000</td>\n",
       "      <td>NaN</td>\n",
       "      <td>1.584000e+06</td>\n",
       "      <td>...</td>\n",
       "      <td>NaN</td>\n",
       "      <td>12.000000</td>\n",
       "      <td>NaN</td>\n",
       "      <td>NaN</td>\n",
       "      <td>NaN</td>\n",
       "      <td>NaN</td>\n",
       "      <td>NaN</td>\n",
       "      <td>NaN</td>\n",
       "      <td>NaN</td>\n",
       "      <td>NaN</td>\n",
       "    </tr>\n",
       "  </tbody>\n",
       "</table>\n",
       "<p>11 rows × 24 columns</p>\n",
       "</div>"
      ],
      "text/plain": [
       "             at_fault  insurance_premium         party_sobriety  \\\n",
       "count   196837.000000      176607.000000                 193212   \n",
       "unique            NaN                NaN                      6   \n",
       "top               NaN                NaN  had not been drinking   \n",
       "freq              NaN                NaN                 157684   \n",
       "mean         0.523514          38.945002                    NaN   \n",
       "std          0.499448          16.230328                    NaN   \n",
       "min          0.000000           0.000000                    NaN   \n",
       "25%          0.000000          25.000000                    NaN   \n",
       "50%          1.000000          36.000000                    NaN   \n",
       "75%          1.000000          50.000000                    NaN   \n",
       "max          1.000000         105.000000                    NaN   \n",
       "\n",
       "       party_drug_physical  cellphone_in_use vehicle_type  \\\n",
       "count                25148     171464.000000        56248   \n",
       "unique                   5               NaN            3   \n",
       "top                      G               NaN        sedan   \n",
       "freq                 20525               NaN        37180   \n",
       "mean                   NaN          0.023632          NaN   \n",
       "std                    NaN          0.151899          NaN   \n",
       "min                    NaN          0.000000          NaN   \n",
       "25%                    NaN          0.000000          NaN   \n",
       "50%                    NaN          0.000000          NaN   \n",
       "75%                    NaN          0.000000          NaN   \n",
       "max                    NaN          1.000000          NaN   \n",
       "\n",
       "       vehicle_transmission   vehicle_age county_location      distance  ...  \\\n",
       "count                 55389  54554.000000          196837  1.968370e+05  ...   \n",
       "unique                    2           NaN              58           NaN  ...   \n",
       "top                  manual           NaN     los angeles           NaN  ...   \n",
       "freq                  29318           NaN           64488           NaN  ...   \n",
       "mean                    NaN      4.856472             NaN  6.624782e+02  ...   \n",
       "std                     NaN      3.234503             NaN  7.915264e+03  ...   \n",
       "min                     NaN      0.000000             NaN  0.000000e+00  ...   \n",
       "25%                     NaN      3.000000             NaN  1.000000e+01  ...   \n",
       "50%                     NaN      4.000000             NaN  1.000000e+02  ...   \n",
       "75%                     NaN      7.000000             NaN  5.000000e+02  ...   \n",
       "max                     NaN    161.000000             NaN  1.584000e+06  ...   \n",
       "\n",
       "       collision_damage    party_count primary_collision_factor  \\\n",
       "count            196837  196837.000000                   196098   \n",
       "unique                4            NaN                        5   \n",
       "top        small damage            NaN   vehicle code violation   \n",
       "freq             160097            NaN                   186926   \n",
       "mean                NaN       2.106093                      NaN   \n",
       "std                 NaN       0.726720                      NaN   \n",
       "min                 NaN       1.000000                      NaN   \n",
       "25%                 NaN       2.000000                      NaN   \n",
       "50%                 NaN       2.000000                      NaN   \n",
       "75%                 NaN       2.000000                      NaN   \n",
       "max                 NaN      12.000000                      NaN   \n",
       "\n",
       "       pcf_violation_category type_of_collision  motor_vehicle_involved_with  \\\n",
       "count                  193173            195280                       196000   \n",
       "unique                     22                 7                            9   \n",
       "top                  speeding          rear end          other motor vehicle   \n",
       "freq                    69309             76645                       147291   \n",
       "mean                      NaN               NaN                          NaN   \n",
       "std                       NaN               NaN                          NaN   \n",
       "min                       NaN               NaN                          NaN   \n",
       "25%                       NaN               NaN                          NaN   \n",
       "50%                       NaN               NaN                          NaN   \n",
       "75%                       NaN               NaN                          NaN   \n",
       "max                       NaN               NaN                          NaN   \n",
       "\n",
       "       road_surface road_condition  lighting control_device  \n",
       "count        195564         195694    196116         195864  \n",
       "unique            4              8         5              4  \n",
       "top             dry         normal  daylight           none  \n",
       "freq         175564         189563    136370         132665  \n",
       "mean            NaN            NaN       NaN            NaN  \n",
       "std             NaN            NaN       NaN            NaN  \n",
       "min             NaN            NaN       NaN            NaN  \n",
       "25%             NaN            NaN       NaN            NaN  \n",
       "50%             NaN            NaN       NaN            NaN  \n",
       "75%             NaN            NaN       NaN            NaN  \n",
       "max             NaN            NaN       NaN            NaN  \n",
       "\n",
       "[11 rows x 24 columns]"
      ]
     },
     "metadata": {},
     "output_type": "display_data"
    }
   ],
   "source": [
    "data_info = data.describe(include='all')\n",
    "display (data_info)"
   ]
  },
  {
   "cell_type": "code",
   "execution_count": 28,
   "id": "68b6ff5c",
   "metadata": {},
   "outputs": [
    {
     "name": "stdout",
     "output_type": "stream",
     "text": [
      "at_fault                            0\n",
      "insurance_premium               20230\n",
      "party_sobriety                   3625\n",
      "party_drug_physical            171689\n",
      "cellphone_in_use                25373\n",
      "vehicle_type                   140589\n",
      "vehicle_transmission           141448\n",
      "vehicle_age                    142283\n",
      "county_location                     0\n",
      "distance                            0\n",
      "direction                       42862\n",
      "intersection                      987\n",
      "weather                           654\n",
      "location_type                  109480\n",
      "collision_damage                    0\n",
      "party_count                         0\n",
      "primary_collision_factor          739\n",
      "pcf_violation_category           3664\n",
      "type_of_collision                1557\n",
      "motor_vehicle_involved_with       837\n",
      "road_surface                     1273\n",
      "road_condition                   1143\n",
      "lighting                          721\n",
      "control_device                    973\n",
      "dtype: int64\n"
     ]
    }
   ],
   "source": [
    "missing_values = data.isnull().sum()\n",
    "print(missing_values)"
   ]
  },
  {
   "cell_type": "code",
   "execution_count": 29,
   "id": "8d832576",
   "metadata": {},
   "outputs": [
    {
     "data": {
      "text/plain": [
       "array([ nan,  26.,  42.,  23.,  44.,  18.,  53.,  37.,  28.,  56.,  57.,\n",
       "        39.,  21.,  25.,  27.,  68.,  59.,  36.,  29.,  66.,  40.,  35.,\n",
       "        34.,  31.,  76.,  38.,  22.,  19.,  81.,  54.,  60.,  50.,  77.,\n",
       "        46.,  43.,  33.,  47.,  51.,  49.,  41.,  63.,  71.,  74.,  55.,\n",
       "        70.,  78.,  20.,  61.,  73.,  48.,  32.,  64.,  30.,  45.,  24.,\n",
       "        16.,  79.,  17.,  58.,  67.,  52.,  85.,  62.,  65.,  82.,  72.,\n",
       "        89.,  69.,  75.,  84.,  92.,  80., 100.,  87.,  83.,  86.,  15.,\n",
       "        14.,  12.,  13.,  88.,  90.,  95.,  91.,  93.,   0.,  94.,   7.,\n",
       "         8.,  11.,  10.,  99.,   5.,   6.,  96.,   9., 105.,   4.,   3.,\n",
       "       101.,   1.,  97.,  98., 102., 104.,   2.])"
      ]
     },
     "execution_count": 29,
     "metadata": {},
     "output_type": "execute_result"
    }
   ],
   "source": [
    "data['insurance_premium'].unique()"
   ]
  },
  {
   "cell_type": "markdown",
   "id": "878c23f3",
   "metadata": {},
   "source": [
    "insurance_premium - сумма страховой выплаты, заполню медианным значением."
   ]
  },
  {
   "cell_type": "code",
   "execution_count": 30,
   "id": "c88a9b4c",
   "metadata": {},
   "outputs": [
    {
     "data": {
      "text/plain": [
       "array([ nan,  26.,  42.,  23.,  44.,  18.,  53.,  37.,  28.,  56.,  57.,\n",
       "        39.,  21.,  25.,  27.,  68.,  59.,  36.,  29.,  66.,  40.,  35.,\n",
       "        34.,  31.,  76.,  38.,  22.,  19.,  81.,  54.,  60.,  50.,  77.,\n",
       "        46.,  43.,  33.,  47.,  51.,  49.,  41.,  63.,  71.,  74.,  55.,\n",
       "        70.,  78.,  20.,  61.,  73.,  48.,  32.,  64.,  30.,  45.,  24.,\n",
       "        16.,  79.,  17.,  58.,  67.,  52.,  85.,  62.,  65.,  82.,  72.,\n",
       "        89.,  69.,  75.,  84.,  92.,  80., 100.,  87.,  83.,  86.,  15.,\n",
       "        14.,  12.,  13.,  88.,  90.,  95.,  91.,  93.,   0.,  94.,   7.,\n",
       "         8.,  11.,  10.,  99.,   5.,   6.,  96.,   9., 105.,   4.,   3.,\n",
       "       101.,   1.,  97.,  98., 102., 104.,   2.])"
      ]
     },
     "execution_count": 30,
     "metadata": {},
     "output_type": "execute_result"
    }
   ],
   "source": [
    "data['insurance_premium'].unique()"
   ]
  },
  {
   "cell_type": "code",
   "execution_count": 31,
   "id": "dca64a33",
   "metadata": {},
   "outputs": [
    {
     "data": {
      "text/plain": [
       "array(['impairment unknown', 'had not been drinking', None,\n",
       "       'not applicable', 'had been drinking, under influence',\n",
       "       'had been drinking, not under influence',\n",
       "       'had been drinking, impairment unknown'], dtype=object)"
      ]
     },
     "execution_count": 31,
     "metadata": {},
     "output_type": "execute_result"
    }
   ],
   "source": [
    "data['party_sobriety'].unique()"
   ]
  },
  {
   "cell_type": "code",
   "execution_count": 32,
   "id": "92e2bb86",
   "metadata": {},
   "outputs": [],
   "source": [
    "data['party_sobriety'].fillna('impairment unknown', inplace=True)"
   ]
  },
  {
   "cell_type": "code",
   "execution_count": 33,
   "id": "9eb6ccf8",
   "metadata": {},
   "outputs": [],
   "source": [
    "data['party_sobriety'].replace({\n",
    "    'had been drinking, under influence': 'had been drinking',\n",
    "    'had been drinking, not under influence': 'had been drinking',\n",
    "    'had been drinking, impairment unknown': 'had been drinking',\n",
    "    'impairment unknown': 'impairment unknown',\n",
    "    'had not been drinking': 'had not been drinking',\n",
    "    'not applicable': 'not applicable'\n",
    "}, inplace=True)"
   ]
  },
  {
   "cell_type": "code",
   "execution_count": 34,
   "id": "50c3651e",
   "metadata": {},
   "outputs": [
    {
     "name": "stdout",
     "output_type": "stream",
     "text": [
      "['impairment unknown' 'had not been drinking' 'not applicable'\n",
      " 'had been drinking']\n"
     ]
    }
   ],
   "source": [
    "print(data['party_sobriety'].unique())"
   ]
  },
  {
   "cell_type": "markdown",
   "id": "3b757931",
   "metadata": {},
   "source": [
    "party_sobriety - состояние трезвости, пропуски заполним \"неизвестно\", также уберем повторы."
   ]
  },
  {
   "cell_type": "code",
   "execution_count": 35,
   "id": "41455f71",
   "metadata": {},
   "outputs": [
    {
     "name": "stdout",
     "output_type": "stream",
     "text": [
      "['G' None 'not applicable' 'sleepy/fatigued' 'under drug influence'\n",
      " 'impairment - physical']\n"
     ]
    }
   ],
   "source": [
    "print(data['party_drug_physical'].unique())"
   ]
  },
  {
   "cell_type": "code",
   "execution_count": 36,
   "id": "cdcfe229",
   "metadata": {},
   "outputs": [],
   "source": [
    "data['party_drug_physical'].replace('G', 'impairment unknown', inplace=True)\n",
    "data['party_drug_physical'].fillna('impairment unknown', inplace=True)"
   ]
  },
  {
   "cell_type": "code",
   "execution_count": 37,
   "id": "745f7b33",
   "metadata": {},
   "outputs": [
    {
     "name": "stdout",
     "output_type": "stream",
     "text": [
      "['impairment unknown' 'not applicable' 'sleepy/fatigued'\n",
      " 'under drug influence' 'impairment - physical']\n"
     ]
    }
   ],
   "source": [
    "print(data['party_drug_physical'].unique())"
   ]
  },
  {
   "cell_type": "markdown",
   "id": "f4cdc888",
   "metadata": {},
   "source": [
    "party_drug_physical: заменим G на \"неизвестно\" и заполним \"неизвестно\" пропуски."
   ]
  },
  {
   "cell_type": "code",
   "execution_count": 38,
   "id": "5acb890c",
   "metadata": {},
   "outputs": [
    {
     "name": "stdout",
     "output_type": "stream",
     "text": [
      "[ 0. nan  1.]\n"
     ]
    }
   ],
   "source": [
    "print(data['cellphone_in_use'].unique())"
   ]
  },
  {
   "cell_type": "code",
   "execution_count": 39,
   "id": "fb022eb5",
   "metadata": {},
   "outputs": [],
   "source": [
    "data['cellphone_in_use'] = data['cellphone_in_use'].astype(object)\n",
    "data['cellphone_in_use'].fillna('unknown', inplace=True)"
   ]
  },
  {
   "cell_type": "code",
   "execution_count": 40,
   "id": "2c53e659",
   "metadata": {},
   "outputs": [
    {
     "name": "stdout",
     "output_type": "stream",
     "text": [
      "[0.0 'unknown' 1.0]\n"
     ]
    }
   ],
   "source": [
    "print(data['cellphone_in_use'].unique())"
   ]
  },
  {
   "cell_type": "markdown",
   "id": "139c665e",
   "metadata": {},
   "source": [
    "cellphone_in_use дабавим значение \"неизвестно\""
   ]
  },
  {
   "cell_type": "code",
   "execution_count": 41,
   "id": "99c645b6",
   "metadata": {},
   "outputs": [
    {
     "name": "stdout",
     "output_type": "stream",
     "text": [
      "[None 'sedan' 'coupe' 'other']\n"
     ]
    }
   ],
   "source": [
    "print(data['vehicle_type'].unique())"
   ]
  },
  {
   "cell_type": "code",
   "execution_count": 42,
   "id": "62233564",
   "metadata": {},
   "outputs": [],
   "source": [
    "data['vehicle_type'].fillna('other', inplace=True)"
   ]
  },
  {
   "cell_type": "code",
   "execution_count": 43,
   "id": "538af377",
   "metadata": {},
   "outputs": [
    {
     "name": "stdout",
     "output_type": "stream",
     "text": [
      "['other' 'sedan' 'coupe']\n"
     ]
    }
   ],
   "source": [
    "print(data['vehicle_type'].unique())"
   ]
  },
  {
   "cell_type": "markdown",
   "id": "d14947ee",
   "metadata": {},
   "source": [
    "неизвестное поменяем на \"другое\""
   ]
  },
  {
   "cell_type": "code",
   "execution_count": 44,
   "id": "e14e110f",
   "metadata": {},
   "outputs": [
    {
     "name": "stdout",
     "output_type": "stream",
     "text": [
      "[None 'manual' 'auto']\n"
     ]
    }
   ],
   "source": [
    "print(data['vehicle_transmission'].unique())"
   ]
  },
  {
   "cell_type": "code",
   "execution_count": 45,
   "id": "e605de7b",
   "metadata": {},
   "outputs": [],
   "source": [
    "data['vehicle_transmission'].fillna('other', inplace=True)"
   ]
  },
  {
   "cell_type": "code",
   "execution_count": 46,
   "id": "75934ffb",
   "metadata": {},
   "outputs": [
    {
     "name": "stdout",
     "output_type": "stream",
     "text": [
      "['other' 'manual' 'auto']\n"
     ]
    }
   ],
   "source": [
    "print(data['vehicle_transmission'].unique())"
   ]
  },
  {
   "cell_type": "markdown",
   "id": "d38976ac",
   "metadata": {},
   "source": [
    "неизвестное поменяем на \"другое\""
   ]
  },
  {
   "cell_type": "code",
   "execution_count": 47,
   "id": "99ab0eac",
   "metadata": {},
   "outputs": [
    {
     "name": "stdout",
     "output_type": "stream",
     "text": [
      "[ nan   4.   3.   9.   6.  10.   0.  12.   2.   5.   1.  11.   7.   8.\n",
      "  13.  14.  16.  15.  17. 161.  19.]\n"
     ]
    }
   ],
   "source": [
    "print(data['vehicle_age'].unique())"
   ]
  },
  {
   "cell_type": "code",
   "execution_count": 48,
   "id": "b5046b52",
   "metadata": {},
   "outputs": [
    {
     "name": "stdout",
     "output_type": "stream",
     "text": [
      "3.0      11012\n",
      "4.0       7157\n",
      "2.0       6048\n",
      "5.0       5565\n",
      "6.0       3940\n",
      "7.0       3838\n",
      "8.0       3509\n",
      "0.0       3087\n",
      "9.0       2770\n",
      "1.0       2545\n",
      "10.0      1942\n",
      "11.0      1380\n",
      "12.0       879\n",
      "13.0       551\n",
      "14.0       282\n",
      "15.0        37\n",
      "16.0         6\n",
      "17.0         3\n",
      "161.0        2\n",
      "19.0         1\n",
      "Name: vehicle_age, dtype: int64\n"
     ]
    }
   ],
   "source": [
    "value_counts_vehicle = data['vehicle_age'].value_counts()\n",
    "print(value_counts_vehicle)"
   ]
  },
  {
   "cell_type": "code",
   "execution_count": 49,
   "id": "6ce0c1b0",
   "metadata": {},
   "outputs": [],
   "source": [
    "data = data[~data['vehicle_age'].isin(value_counts_vehicle[value_counts_vehicle < 30].index)]"
   ]
  },
  {
   "cell_type": "code",
   "execution_count": 50,
   "id": "d748e5aa",
   "metadata": {},
   "outputs": [],
   "source": [
    "data['vehicle_age'].fillna(data['vehicle_age'].mode()[0], inplace=True)"
   ]
  },
  {
   "cell_type": "code",
   "execution_count": 51,
   "id": "47944d65",
   "metadata": {},
   "outputs": [
    {
     "name": "stdout",
     "output_type": "stream",
     "text": [
      "[ 3.  4.  9.  6. 10.  0. 12.  2.  5.  1. 11.  7.  8. 13. 14. 15.]\n"
     ]
    }
   ],
   "source": [
    "print(data['vehicle_age'].unique())"
   ]
  },
  {
   "cell_type": "markdown",
   "id": "cdf7deae",
   "metadata": {},
   "source": [
    "В vehicle_age удалим значения, корых мало, неизвестное заменим модой"
   ]
  },
  {
   "cell_type": "code",
   "execution_count": 52,
   "id": "35c10f24",
   "metadata": {},
   "outputs": [
    {
     "name": "stdout",
     "output_type": "stream",
     "text": [
      "['north' 'south' 'east' None 'west']\n"
     ]
    }
   ],
   "source": [
    "print(data['direction'].unique())"
   ]
  },
  {
   "cell_type": "code",
   "execution_count": 53,
   "id": "b5d4690b",
   "metadata": {},
   "outputs": [],
   "source": [
    "data['direction'].fillna('unknown', inplace=True)"
   ]
  },
  {
   "cell_type": "code",
   "execution_count": 54,
   "id": "6aa21c20",
   "metadata": {},
   "outputs": [
    {
     "name": "stdout",
     "output_type": "stream",
     "text": [
      "['north' 'south' 'east' 'unknown' 'west']\n"
     ]
    }
   ],
   "source": [
    "print(data['direction'].unique())"
   ]
  },
  {
   "cell_type": "markdown",
   "id": "8a36c154",
   "metadata": {},
   "source": [
    "в \"направлении\" добавим \"неизвестно\""
   ]
  },
  {
   "cell_type": "code",
   "execution_count": 55,
   "id": "cfab5bc1",
   "metadata": {},
   "outputs": [
    {
     "name": "stdout",
     "output_type": "stream",
     "text": [
      "[ 0.  1. nan]\n"
     ]
    }
   ],
   "source": [
    "print(data['intersection'].unique())"
   ]
  },
  {
   "cell_type": "code",
   "execution_count": 56,
   "id": "fcbd8827",
   "metadata": {},
   "outputs": [],
   "source": [
    "data['intersection'].fillna('unknown', inplace=True)"
   ]
  },
  {
   "cell_type": "code",
   "execution_count": 57,
   "id": "22a6a6c5",
   "metadata": {},
   "outputs": [
    {
     "name": "stdout",
     "output_type": "stream",
     "text": [
      "[0.0 1.0 'unknown']\n"
     ]
    }
   ],
   "source": [
    "print(data['intersection'].unique())"
   ]
  },
  {
   "cell_type": "markdown",
   "id": "837adabf",
   "metadata": {},
   "source": [
    "также в intersection"
   ]
  },
  {
   "cell_type": "code",
   "execution_count": 58,
   "id": "b6576756",
   "metadata": {},
   "outputs": [
    {
     "name": "stdout",
     "output_type": "stream",
     "text": [
      "['vehicle code violation' 'unknown' None 'other than driver'\n",
      " 'other improper driving' 'fell asleep']\n"
     ]
    }
   ],
   "source": [
    "print(data['primary_collision_factor'].unique())"
   ]
  },
  {
   "cell_type": "code",
   "execution_count": 59,
   "id": "63d8db19",
   "metadata": {},
   "outputs": [],
   "source": [
    "data['primary_collision_factor'].fillna('unknown', inplace=True)"
   ]
  },
  {
   "cell_type": "code",
   "execution_count": 60,
   "id": "ea221a82",
   "metadata": {},
   "outputs": [
    {
     "name": "stdout",
     "output_type": "stream",
     "text": [
      "['vehicle code violation' 'unknown' 'other than driver'\n",
      " 'other improper driving' 'fell asleep']\n"
     ]
    }
   ],
   "source": [
    "print(data['primary_collision_factor'].unique())"
   ]
  },
  {
   "cell_type": "markdown",
   "id": "e3fd2118",
   "metadata": {},
   "source": [
    "пропуски заменим на \"неизвестно\""
   ]
  },
  {
   "cell_type": "code",
   "execution_count": 61,
   "id": "8d4e5f6f",
   "metadata": {},
   "outputs": [
    {
     "name": "stdout",
     "output_type": "stream",
     "text": [
      "['speeding' 'following too closely' 'traffic signals and signs' 'dui'\n",
      " 'unsafe lane change' 'automobile right of way'\n",
      " 'other hazardous violation' 'improper turning' 'unknown'\n",
      " 'unsafe starting or backing' 'wrong side of road' 'pedestrian violation'\n",
      " None 'other than driver (or pedestrian)' 'pedestrian right of way'\n",
      " 'improper passing' 'other improper driving' 'other equipment'\n",
      " 'impeding traffic' 'hazardous parking' 'lights' 'brakes' 'fell asleep']\n"
     ]
    }
   ],
   "source": [
    "print(data['pcf_violation_category'].unique())"
   ]
  },
  {
   "cell_type": "code",
   "execution_count": 62,
   "id": "6314a43b",
   "metadata": {},
   "outputs": [
    {
     "name": "stdout",
     "output_type": "stream",
     "text": [
      "speeding                             69305\n",
      "improper turning                     28722\n",
      "automobile right of way              20992\n",
      "unsafe lane change                   18397\n",
      "dui                                  14224\n",
      "traffic signals and signs             9162\n",
      "unsafe starting or backing            7666\n",
      "unknown                               5189\n",
      "following too closely                 4562\n",
      "wrong side of road                    3936\n",
      "other than driver (or pedestrian)     3377\n",
      "other hazardous violation             1921\n",
      "improper passing                      1895\n",
      "pedestrian violation                  1384\n",
      "other improper driving                 908\n",
      "pedestrian right of way                888\n",
      "other equipment                        248\n",
      "hazardous parking                      173\n",
      "impeding traffic                       162\n",
      "brakes                                  25\n",
      "lights                                  19\n",
      "fell asleep                              6\n",
      "Name: pcf_violation_category, dtype: int64\n"
     ]
    }
   ],
   "source": [
    "value_counts_pcf_violation = data['pcf_violation_category'].value_counts()\n",
    "print(value_counts_pcf_violation)"
   ]
  },
  {
   "cell_type": "code",
   "execution_count": 63,
   "id": "344844c4",
   "metadata": {},
   "outputs": [],
   "source": [
    "data['pcf_violation_category'] = data['pcf_violation_category'].replace(value_counts_pcf_violation[value_counts_pcf_violation < 30].index, 'unknown')"
   ]
  },
  {
   "cell_type": "code",
   "execution_count": 64,
   "id": "c30b005f",
   "metadata": {},
   "outputs": [],
   "source": [
    "data['pcf_violation_category'].fillna('unknown', inplace=True)"
   ]
  },
  {
   "cell_type": "code",
   "execution_count": 65,
   "id": "b6bae56f",
   "metadata": {},
   "outputs": [
    {
     "name": "stdout",
     "output_type": "stream",
     "text": [
      "['speeding' 'following too closely' 'traffic signals and signs' 'dui'\n",
      " 'unsafe lane change' 'automobile right of way'\n",
      " 'other hazardous violation' 'improper turning' 'unknown'\n",
      " 'unsafe starting or backing' 'wrong side of road' 'pedestrian violation'\n",
      " 'other than driver (or pedestrian)' 'pedestrian right of way'\n",
      " 'improper passing' 'other improper driving' 'other equipment'\n",
      " 'impeding traffic' 'hazardous parking']\n"
     ]
    }
   ],
   "source": [
    "print(data['pcf_violation_category'].unique())"
   ]
  },
  {
   "cell_type": "markdown",
   "id": "5ef02cfe",
   "metadata": {},
   "source": [
    "в pcf_violation_category уберем значения, которых мало, а также  заполним пропуски"
   ]
  },
  {
   "cell_type": "code",
   "execution_count": 66,
   "id": "f8e52ac3",
   "metadata": {},
   "outputs": [
    {
     "name": "stdout",
     "output_type": "stream",
     "text": [
      "['rear end' 'broadside' 'sideswipe' 'head-on' 'hit object' 'other' None\n",
      " 'overturned']\n"
     ]
    }
   ],
   "source": [
    "print(data['type_of_collision'].unique())"
   ]
  },
  {
   "cell_type": "code",
   "execution_count": 67,
   "id": "57908e96",
   "metadata": {},
   "outputs": [],
   "source": [
    "data['type_of_collision'].fillna('other', inplace=True)"
   ]
  },
  {
   "cell_type": "code",
   "execution_count": 68,
   "id": "9ab5fb1b",
   "metadata": {},
   "outputs": [
    {
     "name": "stdout",
     "output_type": "stream",
     "text": [
      "['rear end' 'broadside' 'sideswipe' 'head-on' 'hit object' 'other'\n",
      " 'overturned']\n"
     ]
    }
   ],
   "source": [
    "print(data['type_of_collision'].unique())"
   ]
  },
  {
   "cell_type": "markdown",
   "id": "731fb175",
   "metadata": {},
   "source": [
    "пропуски заполним \"другое\""
   ]
  },
  {
   "cell_type": "code",
   "execution_count": 69,
   "id": "5682b8b0",
   "metadata": {},
   "outputs": [
    {
     "name": "stdout",
     "output_type": "stream",
     "text": [
      "['other motor vehicle' 'bicycle' 'fixed object' 'non-collision'\n",
      " 'other object' 'motor vehicle on other roadway' None\n",
      " 'parked motor vehicle' 'animal' 'train']\n"
     ]
    }
   ],
   "source": [
    "print(data['motor_vehicle_involved_with'].unique())"
   ]
  },
  {
   "cell_type": "code",
   "execution_count": 70,
   "id": "5c392c1e",
   "metadata": {},
   "outputs": [
    {
     "name": "stdout",
     "output_type": "stream",
     "text": [
      "other motor vehicle               147281\n",
      "fixed object                       22892\n",
      "parked motor vehicle               10289\n",
      "other object                        6704\n",
      "non-collision                       3985\n",
      "bicycle                             2737\n",
      "motor vehicle on other roadway      1422\n",
      "animal                               656\n",
      "train                                 23\n",
      "Name: motor_vehicle_involved_with, dtype: int64\n"
     ]
    }
   ],
   "source": [
    "value_counts_motor_vehicle = data['motor_vehicle_involved_with'].value_counts()\n",
    "print(value_counts_motor_vehicle)"
   ]
  },
  {
   "cell_type": "code",
   "execution_count": 71,
   "id": "93d016a2",
   "metadata": {},
   "outputs": [],
   "source": [
    "data['motor_vehicle_involved_with'] = data['motor_vehicle_involved_with'].replace('train', 'other')"
   ]
  },
  {
   "cell_type": "code",
   "execution_count": 72,
   "id": "4f0fb60e",
   "metadata": {},
   "outputs": [],
   "source": [
    "data['motor_vehicle_involved_with'].fillna('other', inplace=True)"
   ]
  },
  {
   "cell_type": "code",
   "execution_count": 73,
   "id": "d24f06e9",
   "metadata": {},
   "outputs": [
    {
     "name": "stdout",
     "output_type": "stream",
     "text": [
      "['other motor vehicle' 'bicycle' 'fixed object' 'non-collision'\n",
      " 'other object' 'motor vehicle on other roadway' 'other'\n",
      " 'parked motor vehicle' 'animal']\n"
     ]
    }
   ],
   "source": [
    "print(data['motor_vehicle_involved_with'].unique())"
   ]
  },
  {
   "cell_type": "markdown",
   "id": "cda601ee",
   "metadata": {},
   "source": [
    "пропуски и train заменим на \"другое\""
   ]
  },
  {
   "cell_type": "code",
   "execution_count": 74,
   "id": "5b23eb12",
   "metadata": {},
   "outputs": [
    {
     "name": "stdout",
     "output_type": "stream",
     "text": [
      "['dry' 'wet' None 'snowy' 'slippery']\n"
     ]
    }
   ],
   "source": [
    "print(data['road_surface'].unique())"
   ]
  },
  {
   "cell_type": "code",
   "execution_count": 75,
   "id": "bf55d56e",
   "metadata": {},
   "outputs": [
    {
     "name": "stdout",
     "output_type": "stream",
     "text": [
      "dry         175554\n",
      "wet          18918\n",
      "snowy          926\n",
      "slippery       154\n",
      "Name: road_surface, dtype: int64\n"
     ]
    }
   ],
   "source": [
    "value_counts_road_surface = data['road_surface'].value_counts()\n",
    "print(value_counts_road_surface)"
   ]
  },
  {
   "cell_type": "code",
   "execution_count": 76,
   "id": "19ba45d8",
   "metadata": {},
   "outputs": [],
   "source": [
    "data['road_surface'].fillna('other', inplace=True)"
   ]
  },
  {
   "cell_type": "code",
   "execution_count": 77,
   "id": "fb149f02",
   "metadata": {},
   "outputs": [
    {
     "name": "stdout",
     "output_type": "stream",
     "text": [
      "['dry' 'wet' 'other' 'snowy' 'slippery']\n"
     ]
    }
   ],
   "source": [
    "print(data['road_surface'].unique())"
   ]
  },
  {
   "cell_type": "markdown",
   "id": "f00be27e",
   "metadata": {},
   "source": [
    "пропуски заменим на \"другое\""
   ]
  },
  {
   "cell_type": "code",
   "execution_count": 78,
   "id": "e6c88481",
   "metadata": {},
   "outputs": [
    {
     "name": "stdout",
     "output_type": "stream",
     "text": [
      "['normal' 'holes' 'construction' 'loose material' 'other' None\n",
      " 'obstruction' 'reduced width' 'flooded']\n"
     ]
    }
   ],
   "source": [
    "print(data['road_condition'].unique())"
   ]
  },
  {
   "cell_type": "code",
   "execution_count": 79,
   "id": "f1f55c48",
   "metadata": {},
   "outputs": [
    {
     "name": "stdout",
     "output_type": "stream",
     "text": [
      "dry         175554\n",
      "wet          18918\n",
      "snowy          926\n",
      "slippery       154\n",
      "Name: road_surface, dtype: int64\n"
     ]
    }
   ],
   "source": [
    "value_counts_road_condition = data['road_condition'].value_counts()\n",
    "print(value_counts_road_surface)"
   ]
  },
  {
   "cell_type": "code",
   "execution_count": 80,
   "id": "91e75ca8",
   "metadata": {},
   "outputs": [],
   "source": [
    "data['road_condition'].fillna('other', inplace=True)"
   ]
  },
  {
   "cell_type": "code",
   "execution_count": 81,
   "id": "21d8bb80",
   "metadata": {},
   "outputs": [
    {
     "name": "stdout",
     "output_type": "stream",
     "text": [
      "['normal' 'holes' 'construction' 'loose material' 'other' 'obstruction'\n",
      " 'reduced width' 'flooded']\n"
     ]
    }
   ],
   "source": [
    "print(data['road_condition'].unique())"
   ]
  },
  {
   "cell_type": "markdown",
   "id": "ee33d5b3",
   "metadata": {},
   "source": [
    "пропуски заменим на \"другое\""
   ]
  },
  {
   "cell_type": "code",
   "execution_count": 82,
   "id": "14fc5861",
   "metadata": {},
   "outputs": [
    {
     "name": "stdout",
     "output_type": "stream",
     "text": [
      "['daylight' 'dark with no street lights' 'dusk or dawn'\n",
      " 'dark with street lights' None 'dark with street lights not functioning']\n"
     ]
    }
   ],
   "source": [
    "print(data['lighting'].unique())"
   ]
  },
  {
   "cell_type": "code",
   "execution_count": 83,
   "id": "f6b9aafe",
   "metadata": {},
   "outputs": [
    {
     "name": "stdout",
     "output_type": "stream",
     "text": [
      "daylight                                   136360\n",
      "dark with street lights                     38094\n",
      "dark with no street lights                  14430\n",
      "dusk or dawn                                 6774\n",
      "dark with street lights not functioning       446\n",
      "Name: lighting, dtype: int64\n"
     ]
    }
   ],
   "source": [
    "value_counts_lighting = data['lighting'].value_counts()\n",
    "print(value_counts_lighting)"
   ]
  },
  {
   "cell_type": "code",
   "execution_count": 84,
   "id": "e2f9d338",
   "metadata": {},
   "outputs": [],
   "source": [
    "data['lighting'].fillna('other', inplace=True)"
   ]
  },
  {
   "cell_type": "code",
   "execution_count": 85,
   "id": "95541653",
   "metadata": {},
   "outputs": [
    {
     "name": "stdout",
     "output_type": "stream",
     "text": [
      "['daylight' 'dark with no street lights' 'dusk or dawn'\n",
      " 'dark with street lights' 'other'\n",
      " 'dark with street lights not functioning']\n"
     ]
    }
   ],
   "source": [
    "print(data['lighting'].unique())"
   ]
  },
  {
   "cell_type": "markdown",
   "id": "350c7edf",
   "metadata": {},
   "source": [
    "пропуски заменим на \"другое\""
   ]
  },
  {
   "cell_type": "code",
   "execution_count": 86,
   "id": "728acb39",
   "metadata": {},
   "outputs": [
    {
     "name": "stdout",
     "output_type": "stream",
     "text": [
      "['none' 'functioning' None 'obscured' 'not functioning']\n"
     ]
    }
   ],
   "source": [
    "print(data['control_device'].unique())"
   ]
  },
  {
   "cell_type": "code",
   "execution_count": 87,
   "id": "05dd81e5",
   "metadata": {},
   "outputs": [],
   "source": [
    "data['control_device'].fillna('none', inplace=True)"
   ]
  },
  {
   "cell_type": "code",
   "execution_count": 88,
   "id": "a6fb8653",
   "metadata": {},
   "outputs": [
    {
     "name": "stdout",
     "output_type": "stream",
     "text": [
      "['none' 'functioning' 'obscured' 'not functioning']\n"
     ]
    }
   ],
   "source": [
    "print(data['control_device'].unique())"
   ]
  },
  {
   "cell_type": "markdown",
   "id": "6725970e",
   "metadata": {},
   "source": [
    "пропуски заменим на none"
   ]
  },
  {
   "cell_type": "code",
   "execution_count": 89,
   "id": "d4525558",
   "metadata": {},
   "outputs": [
    {
     "name": "stdout",
     "output_type": "stream",
     "text": [
      "['clear' 'cloudy' 'fog' 'raining' 'other' None 'snowing' 'wind']\n"
     ]
    }
   ],
   "source": [
    "print(data['weather'].unique())"
   ]
  },
  {
   "cell_type": "code",
   "execution_count": 90,
   "id": "57257a19",
   "metadata": {},
   "outputs": [],
   "source": [
    "data['weather'].fillna('other', inplace=True)"
   ]
  },
  {
   "cell_type": "code",
   "execution_count": 91,
   "id": "05d058cb",
   "metadata": {},
   "outputs": [
    {
     "name": "stdout",
     "output_type": "stream",
     "text": [
      "['clear' 'cloudy' 'fog' 'raining' 'other' 'snowing' 'wind']\n"
     ]
    }
   ],
   "source": [
    "print(data['weather'].unique())"
   ]
  },
  {
   "cell_type": "markdown",
   "id": "7ad2e097",
   "metadata": {},
   "source": [
    "пропуски заменим на \"другое\""
   ]
  },
  {
   "cell_type": "code",
   "execution_count": 92,
   "id": "79d3b7f2",
   "metadata": {},
   "outputs": [
    {
     "name": "stdout",
     "output_type": "stream",
     "text": [
      "['highway' None 'ramp' 'intersection']\n"
     ]
    }
   ],
   "source": [
    "print(data['location_type'].unique())"
   ]
  },
  {
   "cell_type": "code",
   "execution_count": 93,
   "id": "95c1e0a3",
   "metadata": {},
   "outputs": [],
   "source": [
    "data['location_type'].fillna('other', inplace=True)"
   ]
  },
  {
   "cell_type": "code",
   "execution_count": 94,
   "id": "46998a4f",
   "metadata": {},
   "outputs": [
    {
     "name": "stdout",
     "output_type": "stream",
     "text": [
      "['highway' 'other' 'ramp' 'intersection']\n"
     ]
    }
   ],
   "source": [
    "print(data['location_type'].unique())"
   ]
  },
  {
   "cell_type": "markdown",
   "id": "6236a3c3",
   "metadata": {},
   "source": [
    "пропуски заменим на \"другое\""
   ]
  },
  {
   "cell_type": "code",
   "execution_count": 95,
   "id": "e1061344",
   "metadata": {},
   "outputs": [
    {
     "data": {
      "image/png": "[encoded data removed]",
      "text/plain": [
       "<Figure size 720x432 with 1 Axes>"
      ]
     },
     "metadata": {
      "needs_background": "light"
     },
     "output_type": "display_data"
    }
   ],
   "source": [
    "plt.figure(figsize=(10, 6))\n",
    "plt.boxplot(data['distance'].dropna(), vert=False)\n",
    "plt.title('График для столбца с дистанцией')\n",
    "plt.xlabel('Дистанция')\n",
    "plt.show()"
   ]
  },
  {
   "cell_type": "markdown",
   "id": "125c44bc",
   "metadata": {},
   "source": [
    "уберем выбросы"
   ]
  },
  {
   "cell_type": "code",
   "execution_count": 96,
   "id": "2998d3d1",
   "metadata": {},
   "outputs": [
    {
     "name": "stdout",
     "output_type": "stream",
     "text": [
      "at_fault                           0\n",
      "insurance_premium              20230\n",
      "party_sobriety                     0\n",
      "party_drug_physical                0\n",
      "cellphone_in_use                   0\n",
      "vehicle_type                       0\n",
      "vehicle_transmission               0\n",
      "vehicle_age                        0\n",
      "county_location                    0\n",
      "distance                           0\n",
      "direction                          0\n",
      "intersection                       0\n",
      "weather                            0\n",
      "location_type                      0\n",
      "collision_damage                   0\n",
      "party_count                        0\n",
      "primary_collision_factor           0\n",
      "pcf_violation_category             0\n",
      "type_of_collision                  0\n",
      "motor_vehicle_involved_with        0\n",
      "road_surface                       0\n",
      "road_condition                     0\n",
      "lighting                           0\n",
      "control_device                     0\n",
      "dtype: int64\n"
     ]
    }
   ],
   "source": [
    "missing_values = data.isnull().sum()\n",
    "print(missing_values)"
   ]
  },
  {
   "cell_type": "code",
   "execution_count": 97,
   "id": "80a6a9b0",
   "metadata": {},
   "outputs": [
    {
     "name": "stdout",
     "output_type": "stream",
     "text": [
      "<class 'pandas.core.frame.DataFrame'>\n",
      "Int64Index: 196825 entries, 0 to 196836\n",
      "Data columns (total 24 columns):\n",
      " #   Column                       Non-Null Count   Dtype  \n",
      "---  ------                       --------------   -----  \n",
      " 0   at_fault                     196825 non-null  int64  \n",
      " 1   insurance_premium            176595 non-null  float64\n",
      " 2   party_sobriety               196825 non-null  object \n",
      " 3   party_drug_physical          196825 non-null  object \n",
      " 4   cellphone_in_use             196825 non-null  object \n",
      " 5   vehicle_type                 196825 non-null  object \n",
      " 6   vehicle_transmission         196825 non-null  object \n",
      " 7   vehicle_age                  196825 non-null  float64\n",
      " 8   county_location              196825 non-null  object \n",
      " 9   distance                     196825 non-null  float64\n",
      " 10  direction                    196825 non-null  object \n",
      " 11  intersection                 196825 non-null  object \n",
      " 12  weather                      196825 non-null  object \n",
      " 13  location_type                196825 non-null  object \n",
      " 14  collision_damage             196825 non-null  object \n",
      " 15  party_count                  196825 non-null  int64  \n",
      " 16  primary_collision_factor     196825 non-null  object \n",
      " 17  pcf_violation_category       196825 non-null  object \n",
      " 18  type_of_collision            196825 non-null  object \n",
      " 19  motor_vehicle_involved_with  196825 non-null  object \n",
      " 20  road_surface                 196825 non-null  object \n",
      " 21  road_condition               196825 non-null  object \n",
      " 22  lighting                     196825 non-null  object \n",
      " 23  control_device               196825 non-null  object \n",
      "dtypes: float64(3), int64(2), object(19)\n",
      "memory usage: 37.5+ MB\n"
     ]
    }
   ],
   "source": [
    "data.info()"
   ]
  },
  {
   "cell_type": "code",
   "execution_count": 98,
   "id": "6dc0aaa9",
   "metadata": {},
   "outputs": [],
   "source": [
    "X = data.drop(columns=['at_fault'])\n",
    "y = data['at_fault']"
   ]
  },
  {
   "cell_type": "markdown",
   "id": "55291e26",
   "metadata": {},
   "source": [
    "Разделение на тестовую и тренировочную выборки"
   ]
  },
  {
   "cell_type": "code",
   "execution_count": 99,
   "id": "690e6f13",
   "metadata": {},
   "outputs": [],
   "source": [
    "X_train, X_test, y_train, y_test = train_test_split(X, y, test_size=0.2, random_state=123, stratify=y)"
   ]
  },
  {
   "cell_type": "markdown",
   "id": "5b89ed02",
   "metadata": {},
   "source": [
    "Заполняю пропуски"
   ]
  },
  {
   "cell_type": "code",
   "execution_count": 100,
   "id": "b9cb8ddd",
   "metadata": {},
   "outputs": [
    {
     "name": "stderr",
     "output_type": "stream",
     "text": [
      "/opt/conda/lib/python3.9/site-packages/pandas/core/series.py:4463: SettingWithCopyWarning: \n",
      "A value is trying to be set on a copy of a slice from a DataFrame\n",
      "\n",
      "See the caveats in the documentation: https://pandas.pydata.org/pandas-docs/stable/user_guide/indexing.html#returning-a-view-versus-a-copy\n",
      "  return super().fillna(\n"
     ]
    }
   ],
   "source": [
    "median_insurance_premium = X_train['insurance_premium'].median()\n",
    "X_train['insurance_premium'].fillna(median_insurance_premium, inplace=True)\n",
    "X_test['insurance_premium'].fillna(median_insurance_premium, inplace=True)"
   ]
  },
  {
   "cell_type": "markdown",
   "id": "91e3c54d",
   "metadata": {},
   "source": [
    "Удаляю выбросы"
   ]
  },
  {
   "cell_type": "code",
   "execution_count": 101,
   "id": "aff4a39c",
   "metadata": {},
   "outputs": [],
   "source": [
    "X_train = X_train[X_train['vehicle_age'] <= X_train['vehicle_age'].quantile(0.99)]\n",
    "y_train = y_train[X_train.index]"
   ]
  },
  {
   "cell_type": "code",
   "execution_count": 102,
   "id": "6344298c",
   "metadata": {},
   "outputs": [],
   "source": [
    "categorical_features = ['party_sobriety', 'party_drug_physical', 'cellphone_in_use', 'vehicle_type',\n",
    "                        'vehicle_transmission', 'county_location', 'direction', 'intersection',\n",
    "                        'weather', 'location_type', 'primary_collision_factor', 'pcf_violation_category',\n",
    "                        'type_of_collision', 'motor_vehicle_involved_with', 'road_surface', 'road_condition',\n",
    "                        'lighting', 'control_device', 'collision_damage']"
   ]
  },
  {
   "cell_type": "markdown",
   "id": "7d9efbfb",
   "metadata": {},
   "source": [
    "Проведена предобработка данных, проведено разделение на тестовую и тренировочную выборки."
   ]
  },
  {
   "cell_type": "markdown",
   "id": "74472ac2",
   "metadata": {},
   "source": [
    "## Найдите лучшую модель"
   ]
  },
  {
   "cell_type": "markdown",
   "id": "a967d68c",
   "metadata": {},
   "source": [
    "Используем логистическую регрессию"
   ]
  },
  {
   "cell_type": "code",
   "execution_count": 103,
   "id": "f4510186",
   "metadata": {},
   "outputs": [
    {
     "name": "stderr",
     "output_type": "stream",
     "text": [
      "/opt/conda/lib/python3.9/site-packages/pandas/core/series.py:4463: SettingWithCopyWarning: \n",
      "A value is trying to be set on a copy of a slice from a DataFrame\n",
      "\n",
      "See the caveats in the documentation: https://pandas.pydata.org/pandas-docs/stable/user_guide/indexing.html#returning-a-view-versus-a-copy\n",
      "  return super().fillna(\n",
      "/tmp/ipykernel_144/2631194238.py:5: SettingWithCopyWarning: \n",
      "A value is trying to be set on a copy of a slice from a DataFrame.\n",
      "Try using .loc[row_indexer,col_indexer] = value instead\n",
      "\n",
      "See the caveats in the documentation: https://pandas.pydata.org/pandas-docs/stable/user_guide/indexing.html#returning-a-view-versus-a-copy\n",
      "  X_test[col] = X_test[col].astype(str)\n"
     ]
    }
   ],
   "source": [
    "for col in categorical_features:\n",
    "    X_train[col].fillna('unknown', inplace=True)\n",
    "    X_test[col].fillna('unknown', inplace=True)\n",
    "    X_train[col] = X_train[col].astype(str)\n",
    "    X_test[col] = X_test[col].astype(str)"
   ]
  },
  {
   "cell_type": "code",
   "execution_count": 105,
   "id": "5c13c1d5",
   "metadata": {},
   "outputs": [],
   "source": [
    "pipe_lr = make_pipeline(\n",
    "    linear_transformer,\n",
    "    LogisticRegression(class_weight='balanced', random_state=123, n_jobs=-1)\n",
    ")"
   ]
  },
  {
   "cell_type": "code",
   "execution_count": 106,
   "id": "03ace2b5",
   "metadata": {},
   "outputs": [],
   "source": [
    "param_grid_lr = {\n",
    "    'logisticregression__solver': ['lbfgs', 'liblinear'],\n",
    "    'logisticregression__C': [0.01, 0.1],\n",
    "    'logisticregression__max_iter': [500]\n",
    "}"
   ]
  },
  {
   "cell_type": "code",
   "execution_count": 107,
   "id": "2c964629",
   "metadata": {},
   "outputs": [
    {
     "data": {
      "text/plain": [
       "GridSearchCV(cv=3,\n",
       "             estimator=Pipeline(steps=[('columntransformer',\n",
       "                                        ColumnTransformer(remainder='passthrough',\n",
       "                                                          transformers=[('onehotencoder',\n",
       "                                                                         OneHotEncoder(drop='first',\n",
       "                                                                                       dtype='uint8'),\n",
       "                                                                         <sklearn.compose._column_transformer.make_column_selector object at 0x7f3516d936a0>),\n",
       "                                                                        ('standardscaler',\n",
       "                                                                         StandardScaler(),\n",
       "                                                                         <sklearn.compose._column_transformer.make_column_selector object at 0x7f351f42d430>)])),\n",
       "                                       ('logisticregression',\n",
       "                                        LogisticRegression(class_weight='balanced',\n",
       "                                                           n_jobs=-1,\n",
       "                                                           random_state=123))]),\n",
       "             n_jobs=-1,\n",
       "             param_grid={'logisticregression__C': [0.01, 0.1],\n",
       "                         'logisticregression__max_iter': [500],\n",
       "                         'logisticregression__solver': ['lbfgs', 'liblinear']},\n",
       "             scoring='f1')"
      ]
     },
     "execution_count": 107,
     "metadata": {},
     "output_type": "execute_result"
    }
   ],
   "source": [
    "gs_lr = GridSearchCV(pipe_lr, param_grid_lr, scoring='f1', n_jobs=-1, verbose=0, cv=3)\n",
    "gs_lr.fit(X_train, y_train)"
   ]
  },
  {
   "cell_type": "code",
   "execution_count": 108,
   "id": "976a4c1f",
   "metadata": {},
   "outputs": [
    {
     "name": "stdout",
     "output_type": "stream",
     "text": [
      "Лучшие параметры для Logistic Regression: {'logisticregression__C': 0.1, 'logisticregression__max_iter': 500, 'logisticregression__solver': 'lbfgs'}\n",
      "Лучшая F1 Logistic Regression на кросс-валидации: 0.683677781692214\n"
     ]
    }
   ],
   "source": [
    "print(\"Лучшие параметры для Logistic Regression:\", gs_lr.best_params_)\n",
    "print(\"Лучшая F1 Logistic Regression на кросс-валидации:\", gs_lr.best_score_)"
   ]
  },
  {
   "cell_type": "markdown",
   "id": "45f0c48c",
   "metadata": {},
   "source": [
    "LinearSVC"
   ]
  },
  {
   "cell_type": "code",
   "execution_count": 109,
   "id": "de10d29d",
   "metadata": {},
   "outputs": [],
   "source": [
    "pipe_svc = make_pipeline(\n",
    "    linear_transformer,\n",
    "    LinearSVC(class_weight='balanced', random_state=123, max_iter=2000)\n",
    ")"
   ]
  },
  {
   "cell_type": "code",
   "execution_count": 110,
   "id": "52bab214",
   "metadata": {},
   "outputs": [],
   "source": [
    "param_grid_svc = {\n",
    "    'linearsvc__loss': ['hinge', 'squared_hinge'],\n",
    "    'linearsvc__C': [0.001, 0.01]\n",
    "}"
   ]
  },
  {
   "cell_type": "code",
   "execution_count": 111,
   "id": "dcc61fe3",
   "metadata": {},
   "outputs": [
    {
     "name": "stderr",
     "output_type": "stream",
     "text": [
      "/opt/conda/lib/python3.9/site-packages/sklearn/svm/_base.py:985: ConvergenceWarning: Liblinear failed to converge, increase the number of iterations.\n",
      "  warnings.warn(\"Liblinear failed to converge, increase \"\n",
      "/opt/conda/lib/python3.9/site-packages/sklearn/svm/_base.py:985: ConvergenceWarning: Liblinear failed to converge, increase the number of iterations.\n",
      "  warnings.warn(\"Liblinear failed to converge, increase \"\n"
     ]
    },
    {
     "data": {
      "text/plain": [
       "GridSearchCV(cv=3,\n",
       "             estimator=Pipeline(steps=[('columntransformer',\n",
       "                                        ColumnTransformer(remainder='passthrough',\n",
       "                                                          transformers=[('onehotencoder',\n",
       "                                                                         OneHotEncoder(drop='first',\n",
       "                                                                                       dtype='uint8'),\n",
       "                                                                         <sklearn.compose._column_transformer.make_column_selector object at 0x7f3516d936a0>),\n",
       "                                                                        ('standardscaler',\n",
       "                                                                         StandardScaler(),\n",
       "                                                                         <sklearn.compose._column_transformer.make_column_selector object at 0x7f351f42d430>)])),\n",
       "                                       ('linearsvc',\n",
       "                                        LinearSVC(class_weight='balanced',\n",
       "                                                  max_iter=2000,\n",
       "                                                  random_state=123))]),\n",
       "             n_jobs=-1,\n",
       "             param_grid={'linearsvc__C': [0.001, 0.01],\n",
       "                         'linearsvc__loss': ['hinge', 'squared_hinge']},\n",
       "             scoring='f1')"
      ]
     },
     "execution_count": 111,
     "metadata": {},
     "output_type": "execute_result"
    }
   ],
   "source": [
    "gs_svc = GridSearchCV(pipe_svc, param_grid_svc, scoring='f1', n_jobs=-1, verbose=0, cv=3)\n",
    "gs_svc.fit(X_train, y_train)"
   ]
  },
  {
   "cell_type": "code",
   "execution_count": 112,
   "id": "c2cb5228",
   "metadata": {},
   "outputs": [
    {
     "name": "stdout",
     "output_type": "stream",
     "text": [
      "Лучшие параметры для LinearSVC: {'linearsvc__C': 0.001, 'linearsvc__loss': 'squared_hinge'}\n",
      "Лучшая F1 LinearSVC на кросс-валидации: 0.6719357476636736\n"
     ]
    }
   ],
   "source": [
    "print(\"Лучшие параметры для LinearSVC:\", gs_svc.best_params_)\n",
    "print(\"Лучшая F1 LinearSVC на кросс-валидации:\", gs_svc.best_score_)"
   ]
  },
  {
   "cell_type": "markdown",
   "id": "e1bdabe2",
   "metadata": {},
   "source": [
    "LightGBM"
   ]
  },
  {
   "cell_type": "code",
   "execution_count": 113,
   "id": "2c5a2ad7",
   "metadata": {},
   "outputs": [],
   "source": [
    "pipe_gbm = make_pipeline(\n",
    "    ensemble_transformer,\n",
    "    lgb.LGBMClassifier(objective='binary', metric='f1', n_jobs=-1, verbosity=-1, random_state=123)\n",
    ")"
   ]
  },
  {
   "cell_type": "code",
   "execution_count": 114,
   "id": "93c6a3c5",
   "metadata": {},
   "outputs": [],
   "source": [
    "param_grid_gbm = {\n",
    "    'lgbmclassifier__max_depth': [-1, 10],\n",
    "    'lgbmclassifier__num_leaves': [10, 31],\n",
    "    'lgbmclassifier__learning_rate': [0.1, 0.2]\n",
    "}"
   ]
  },
  {
   "cell_type": "code",
   "execution_count": 115,
   "id": "1ab1d335",
   "metadata": {},
   "outputs": [
    {
     "data": {
      "text/plain": [
       "GridSearchCV(cv=3,\n",
       "             estimator=Pipeline(steps=[('columntransformer',\n",
       "                                        ColumnTransformer(remainder='passthrough',\n",
       "                                                          transformers=[('ordinalencoder',\n",
       "                                                                         OrdinalEncoder(dtype='int64',\n",
       "                                                                                        handle_unknown='use_encoded_value',\n",
       "                                                                                        unknown_value=-1),\n",
       "                                                                         <sklearn.compose._column_transformer.make_column_selector object at 0x7f3516d93b20>)])),\n",
       "                                       ('lgbmclassifier',\n",
       "                                        LGBMClassifier(metric='f1',\n",
       "                                                       objective='binary',\n",
       "                                                       random_state=123,\n",
       "                                                       verbosity=-1))]),\n",
       "             n_jobs=-1,\n",
       "             param_grid={'lgbmclassifier__learning_rate': [0.1, 0.2],\n",
       "                         'lgbmclassifier__max_depth': [-1, 10],\n",
       "                         'lgbmclassifier__num_leaves': [10, 31]},\n",
       "             scoring='f1')"
      ]
     },
     "execution_count": 115,
     "metadata": {},
     "output_type": "execute_result"
    }
   ],
   "source": [
    "gs_gbm = GridSearchCV(pipe_gbm, param_grid_gbm, scoring='f1', n_jobs=-1, verbose=0, cv=3)\n",
    "gs_gbm.fit(X_train, y_train)"
   ]
  },
  {
   "cell_type": "code",
   "execution_count": 116,
   "id": "879c7024",
   "metadata": {
    "scrolled": true
   },
   "outputs": [
    {
     "name": "stdout",
     "output_type": "stream",
     "text": [
      "Лучшие параметры для LightGBM: {'lgbmclassifier__learning_rate': 0.1, 'lgbmclassifier__max_depth': -1, 'lgbmclassifier__num_leaves': 31}\n",
      "Лучшая F1 LightGBM на кросс-валидации: 0.7182212715174527\n"
     ]
    }
   ],
   "source": [
    "print(\"Лучшие параметры для LightGBM:\", gs_gbm.best_params_)\n",
    "print(\"Лучшая F1 LightGBM на кросс-валидации:\", gs_gbm.best_score_)"
   ]
  },
  {
   "cell_type": "markdown",
   "id": "adc01b55",
   "metadata": {},
   "source": [
    "Случайный лес"
   ]
  },
  {
   "cell_type": "code",
   "execution_count": 117,
   "id": "35726723",
   "metadata": {},
   "outputs": [],
   "source": [
    "pipe_rf = make_pipeline(\n",
    "    ensemble_transformer,\n",
    "    RandomForestClassifier(class_weight='balanced', random_state=123, n_jobs=-1)\n",
    ")"
   ]
  },
  {
   "cell_type": "code",
   "execution_count": 118,
   "id": "1069316b",
   "metadata": {},
   "outputs": [],
   "source": [
    "param_grid_rf = {\n",
    "    'randomforestclassifier__n_estimators': [100, 200],\n",
    "    'randomforestclassifier__max_depth': [None, 10]\n",
    "}"
   ]
  },
  {
   "cell_type": "code",
   "execution_count": 119,
   "id": "1b7617be",
   "metadata": {},
   "outputs": [
    {
     "data": {
      "text/plain": [
       "GridSearchCV(cv=3,\n",
       "             estimator=Pipeline(steps=[('columntransformer',\n",
       "                                        ColumnTransformer(remainder='passthrough',\n",
       "                                                          transformers=[('ordinalencoder',\n",
       "                                                                         OrdinalEncoder(dtype='int64',\n",
       "                                                                                        handle_unknown='use_encoded_value',\n",
       "                                                                                        unknown_value=-1),\n",
       "                                                                         <sklearn.compose._column_transformer.make_column_selector object at 0x7f3516d93b20>)])),\n",
       "                                       ('randomforestclassifier',\n",
       "                                        RandomForestClassifier(class_weight='balanced',\n",
       "                                                               n_jobs=-1,\n",
       "                                                               random_state=123))]),\n",
       "             n_jobs=-1,\n",
       "             param_grid={'randomforestclassifier__max_depth': [None, 10],\n",
       "                         'randomforestclassifier__n_estimators': [100, 200]},\n",
       "             scoring='f1')"
      ]
     },
     "execution_count": 119,
     "metadata": {},
     "output_type": "execute_result"
    }
   ],
   "source": [
    "gs_rf = GridSearchCV(pipe_rf, param_grid_rf, scoring='f1', n_jobs=-1, verbose=0, cv=3)\n",
    "gs_rf.fit(X_train, y_train)"
   ]
  },
  {
   "cell_type": "code",
   "execution_count": 120,
   "id": "b69f78b1",
   "metadata": {},
   "outputs": [
    {
     "name": "stdout",
     "output_type": "stream",
     "text": [
      "Лучшие параметры для Random Forest: {'randomforestclassifier__max_depth': None, 'randomforestclassifier__n_estimators': 200}\n",
      "Лучшая F1 Random Forest на кросс-валидации: 0.6925626307267435\n"
     ]
    }
   ],
   "source": [
    "print(\"Лучшие параметры для Random Forest:\", gs_rf.best_params_)\n",
    "print(\"Лучшая F1 Random Forest на кросс-валидации:\", gs_rf.best_score_)"
   ]
  },
  {
   "cell_type": "code",
   "execution_count": 121,
   "id": "4b09e138",
   "metadata": {},
   "outputs": [
    {
     "data": {
      "text/html": [
       "<div>\n",
       "<style scoped>\n",
       "    .dataframe tbody tr th:only-of-type {\n",
       "        vertical-align: middle;\n",
       "    }\n",
       "\n",
       "    .dataframe tbody tr th {\n",
       "        vertical-align: top;\n",
       "    }\n",
       "\n",
       "    .dataframe thead th {\n",
       "        text-align: right;\n",
       "    }\n",
       "</style>\n",
       "<table border=\"1\" class=\"dataframe\">\n",
       "  <thead>\n",
       "    <tr style=\"text-align: right;\">\n",
       "      <th></th>\n",
       "      <th>Model</th>\n",
       "      <th>Best F1</th>\n",
       "    </tr>\n",
       "  </thead>\n",
       "  <tbody>\n",
       "    <tr>\n",
       "      <th>0</th>\n",
       "      <td>Logistic Regression</td>\n",
       "      <td>0.683678</td>\n",
       "    </tr>\n",
       "    <tr>\n",
       "      <th>1</th>\n",
       "      <td>LinearSVC</td>\n",
       "      <td>0.671936</td>\n",
       "    </tr>\n",
       "    <tr>\n",
       "      <th>2</th>\n",
       "      <td>LightGBM</td>\n",
       "      <td>0.718221</td>\n",
       "    </tr>\n",
       "    <tr>\n",
       "      <th>3</th>\n",
       "      <td>Random Forest</td>\n",
       "      <td>0.692563</td>\n",
       "    </tr>\n",
       "  </tbody>\n",
       "</table>\n",
       "</div>"
      ],
      "text/plain": [
       "                 Model   Best F1\n",
       "0  Logistic Regression  0.683678\n",
       "1            LinearSVC  0.671936\n",
       "2             LightGBM  0.718221\n",
       "3        Random Forest  0.692563"
      ]
     },
     "metadata": {},
     "output_type": "display_data"
    }
   ],
   "source": [
    "results = pd.DataFrame({\n",
    "    'Model': ['Logistic Regression', 'LinearSVC', 'LightGBM', 'Random Forest'],\n",
    "    'Best F1': [gs_lr.best_score_, gs_svc.best_score_, gs_gbm.best_score_, gs_rf.best_score_],\n",
    "})\n",
    "\n",
    "display(results)"
   ]
  },
  {
   "cell_type": "markdown",
   "id": "16a482a3",
   "metadata": {},
   "source": [
    "Выбрна метрика F1, так как она она является лучшим способом получить точные представления о качестве модели при несбалансированных данных."
   ]
  },
  {
   "cell_type": "markdown",
   "id": "4f55ee44",
   "metadata": {},
   "source": [
    "Выбрана метрика F1, так как она лучше всего показывает: произойдет что-то или нет (0 или 1). Она показывает, случится ли ДТП в конкретном случае или нет. В данной задаче важно понять, произойдет ли ДТП в конечном итоге или нет, поэтому она является лучшим вариантом."
   ]
  },
  {
   "cell_type": "markdown",
   "id": "8318951b",
   "metadata": {},
   "source": [
    "Logistic Regression:\n",
    "\n",
    "Лучшая F1: 0.671206"
   ]
  },
  {
   "cell_type": "markdown",
   "id": "b0c42aaf",
   "metadata": {},
   "source": [
    "LinearSVC\n",
    "    \n",
    "Лучшая F1: 0.672492\n",
    "    \n",
    "Эта модель немного превзошла Logistic Regression по F1-метрике."
   ]
  },
  {
   "cell_type": "markdown",
   "id": "cc3ad021",
   "metadata": {},
   "source": [
    "Random Forest\n",
    "\n",
    "Лучшая F1: 0.692382"
   ]
  },
  {
   "cell_type": "markdown",
   "id": "57a4dd7c",
   "metadata": {},
   "source": [
    "LightGBM\n",
    "\n",
    "Лучшая F1: 0.718901\n",
    "\n",
    "LightGBM показала наилучшие результаты среди рассмотренных моделей."
   ]
  },
  {
   "cell_type": "markdown",
   "id": "3a4f8a48",
   "metadata": {},
   "source": [
    "Модель LightGBM показала наилучшие результаты по метрике F1."
   ]
  },
  {
   "cell_type": "markdown",
   "id": "ad0fb405",
   "metadata": {},
   "source": [
    "## Проверьте лучшую модель в работе"
   ]
  },
  {
   "cell_type": "code",
   "execution_count": 122,
   "id": "a60870b0",
   "metadata": {},
   "outputs": [],
   "source": [
    "best_model = gs_gbm"
   ]
  },
  {
   "cell_type": "code",
   "execution_count": 123,
   "id": "97aa2363",
   "metadata": {},
   "outputs": [],
   "source": [
    "prediction_best = best_model.predict(X_test)\n",
    "f1_best = f1_score(y_test, prediction_best)\n",
    "cr_best = classification_report(y_test, prediction_best, output_dict=True, zero_division=0)"
   ]
  },
  {
   "cell_type": "code",
   "execution_count": 124,
   "id": "620fd629",
   "metadata": {},
   "outputs": [
    {
     "name": "stdout",
     "output_type": "stream",
     "text": [
      "F1 на тестовой выборке: 0.7209371533695859\n"
     ]
    },
    {
     "data": {
      "text/html": [
       "<div>\n",
       "<style scoped>\n",
       "    .dataframe tbody tr th:only-of-type {\n",
       "        vertical-align: middle;\n",
       "    }\n",
       "\n",
       "    .dataframe tbody tr th {\n",
       "        vertical-align: top;\n",
       "    }\n",
       "\n",
       "    .dataframe thead th {\n",
       "        text-align: right;\n",
       "    }\n",
       "</style>\n",
       "<table border=\"1\" class=\"dataframe\">\n",
       "  <thead>\n",
       "    <tr style=\"text-align: right;\">\n",
       "      <th></th>\n",
       "      <th>precision</th>\n",
       "      <th>recall</th>\n",
       "      <th>f1-score</th>\n",
       "      <th>support</th>\n",
       "    </tr>\n",
       "  </thead>\n",
       "  <tbody>\n",
       "    <tr>\n",
       "      <th>0</th>\n",
       "      <td>0.683442</td>\n",
       "      <td>0.838407</td>\n",
       "      <td>0.753035</td>\n",
       "      <td>18757.000000</td>\n",
       "    </tr>\n",
       "    <tr>\n",
       "      <th>1</th>\n",
       "      <td>0.814674</td>\n",
       "      <td>0.646545</td>\n",
       "      <td>0.720937</td>\n",
       "      <td>20608.000000</td>\n",
       "    </tr>\n",
       "    <tr>\n",
       "      <th>accuracy</th>\n",
       "      <td>0.737965</td>\n",
       "      <td>0.737965</td>\n",
       "      <td>0.737965</td>\n",
       "      <td>0.737965</td>\n",
       "    </tr>\n",
       "    <tr>\n",
       "      <th>macro avg</th>\n",
       "      <td>0.749058</td>\n",
       "      <td>0.742476</td>\n",
       "      <td>0.736986</td>\n",
       "      <td>39365.000000</td>\n",
       "    </tr>\n",
       "    <tr>\n",
       "      <th>weighted avg</th>\n",
       "      <td>0.752144</td>\n",
       "      <td>0.737965</td>\n",
       "      <td>0.736231</td>\n",
       "      <td>39365.000000</td>\n",
       "    </tr>\n",
       "  </tbody>\n",
       "</table>\n",
       "</div>"
      ],
      "text/plain": [
       "              precision    recall  f1-score       support\n",
       "0              0.683442  0.838407  0.753035  18757.000000\n",
       "1              0.814674  0.646545  0.720937  20608.000000\n",
       "accuracy       0.737965  0.737965  0.737965      0.737965\n",
       "macro avg      0.749058  0.742476  0.736986  39365.000000\n",
       "weighted avg   0.752144  0.737965  0.736231  39365.000000"
      ]
     },
     "metadata": {},
     "output_type": "display_data"
    }
   ],
   "source": [
    "print(\"F1 на тестовой выборке:\", f1_best)\n",
    "display(pd.DataFrame(cr_best).transpose())"
   ]
  },
  {
   "cell_type": "markdown",
   "id": "4dd96893",
   "metadata": {},
   "source": [
    "Матрица ошибок"
   ]
  },
  {
   "cell_type": "code",
   "execution_count": 125,
   "id": "38517394",
   "metadata": {},
   "outputs": [],
   "source": [
    "cm = confusion_matrix(y_test, prediction_best)\n",
    "cmd = ConfusionMatrixDisplay(cm, display_labels=best_model.classes_)"
   ]
  },
  {
   "cell_type": "code",
   "execution_count": 126,
   "id": "08cca35b",
   "metadata": {},
   "outputs": [
    {
     "data": {
      "image/png": "[encoded data removed]",
      "text/plain": [
       "<Figure size 864x576 with 2 Axes>"
      ]
     },
     "metadata": {
      "needs_background": "light"
     },
     "output_type": "display_data"
    }
   ],
   "source": [
    "#подсчитываю точность и полноту\n",
    "precision, recall, _, _ = precision_recall_fscore_support(y_test, prediction_best)\n",
    "\n",
    "fig, ax = plt.subplots(figsize=(12, 8))\n",
    "cmd.plot(ax=ax, cmap=plt.cm.Blues, colorbar=True)\n",
    "plt.title('Матрица ошибок')\n",
    "plt.xlabel('Предсказанный класс')\n",
    "plt.ylabel('Истинный класс')\n",
    "\n",
    "for i in range(cm.shape[0]):\n",
    "    for j in range(cm.shape[1]):\n",
    "        ax.text(j, i, f'{cm[i, j]}\\n(T: {precision[j]:.2f}, П: {recall[i]:.2f})', \n",
    "                ha='center', va='center', color='black', bbox=dict(facecolor='white', alpha=0.8, edgecolor='none'))\n",
    "\n",
    "\n",
    "plt.tight_layout()\n",
    "plt.show()"
   ]
  },
  {
   "cell_type": "markdown",
   "id": "d73d0c8b",
   "metadata": {},
   "source": [
    "На матрице ошибок видно, что модель LightGBM хорошо справляется с классификацией."
   ]
  },
  {
   "cell_type": "markdown",
   "id": "fee27b7a",
   "metadata": {},
   "source": [
    "1. В 15584 случаях модель LightGBM успешно предсказала отсутствие ДТП. \n",
    "2. В 13379 случаях модель LightGBM успешно предсказала ДТП.\n",
    "3. В 3173 случаях модель LightGBM ошибочно предсказала ДТП, когда его не было. Это может привести к ненужным действиям и расходам.\n",
    "4. В 7229 случаях модель LightGBM не смогла предсказать ДТП, когда оно действительно произошло. Это проблема, поскольку можно было бы предпринять дополнительные меры, чобы предотвратить последствия."
   ]
  },
  {
   "cell_type": "markdown",
   "id": "0ead309b",
   "metadata": {},
   "source": [
    "Точноость:\n",
    "Из 100% предсказанных случаев отсутствия ДТП, 68% были действительно не ДТП. Следовательно, модель LightGBM предсказывает отсутствие ДТП с точностью 68%.\n",
    "Из 100% ДТП 81% действительно был ДТП. Следует, что модель предсказывает ДТП с точностью 81%, что довольно высоко."
   ]
  },
  {
   "cell_type": "markdown",
   "id": "b0e949ad",
   "metadata": {},
   "source": [
    "Полнота: 83% из 100% ДТП действительно не произошли. LightGBM на 83% правильно предсказывает ситуации, когда ДТП не произошло.\n",
    "65% ДТП действительно выявлены как ДТП."
   ]
  },
  {
   "cell_type": "code",
   "execution_count": 127,
   "id": "ba266bfd",
   "metadata": {},
   "outputs": [
    {
     "data": {
      "image/png": "[encoded data removed]",
      "text/plain": [
       "<Figure size 864x576 with 1 Axes>"
      ]
     },
     "metadata": {
      "needs_background": "light"
     },
     "output_type": "display_data"
    }
   ],
   "source": [
    "plt.figure(figsize=(12, 8))\n",
    "plt.plot(recall, precision, marker='.')\n",
    "plt.title('Кривая полноты и точности')\n",
    "plt.xlabel('Полнота')\n",
    "plt.ylabel('Точность')\n",
    "plt.grid(True)\n",
    "plt.show()"
   ]
  },
  {
   "cell_type": "markdown",
   "id": "050fa0b4",
   "metadata": {},
   "source": [
    "Анализ важности факторов"
   ]
  },
  {
   "cell_type": "code",
   "execution_count": 128,
   "id": "f251d9e0",
   "metadata": {},
   "outputs": [],
   "source": [
    "importance = best_model.best_estimator_.named_steps['lgbmclassifier'].feature_importances_\n",
    "feature_names = X_train.columns"
   ]
  },
  {
   "cell_type": "code",
   "execution_count": 129,
   "id": "80532273",
   "metadata": {},
   "outputs": [],
   "source": [
    "feature_importance = pd.DataFrame({'Фактор': feature_names, 'Важность': importance})\n",
    "feature_importance = feature_importance.sort_values(by='Важность', ascending=False)"
   ]
  },
  {
   "cell_type": "code",
   "execution_count": 130,
   "id": "06f3d4f1",
   "metadata": {},
   "outputs": [],
   "source": [
    "translation = {\n",
    "    'insurance_premium': 'Страховая премия',\n",
    "    'pcf_violation_category': 'Нарушения ПДД',\n",
    "    'distance': 'Расстояние',\n",
    "    'county_location': 'Расположение',\n",
    "    'motor_vehicle_involved_with': 'Участие другого транспорта',\n",
    "    'party_count': 'Количество участников',\n",
    "    'type_of_collision': 'Тип столкновения',\n",
    "    'party_sobriety': 'Трезвость',\n",
    "    'primary_collision_factor': 'Основной фактор столкновения',\n",
    "    'vehicle_age': 'Возраст транспортного средства',\n",
    "    'collision_damage': 'Повреждения при столкновении',\n",
    "    'lighting': 'Освещение',\n",
    "    'direction': 'Направление',\n",
    "    'vehicle_type': 'Тип транспортного средства',\n",
    "    'party_drug_physical': 'Вменяемость водителя',\n",
    "    'location_type': 'Тип местности',\n",
    "    'vehicle_transmission': 'Тип трансмиссии',\n",
    "    'cellphone_in_use': 'Использование мобильного телефона',\n",
    "    'control_device': 'Устройство',\n",
    "    'weather': 'Погодные условия'\n",
    "}"
   ]
  },
  {
   "cell_type": "code",
   "execution_count": 131,
   "id": "5e0bb6f6",
   "metadata": {},
   "outputs": [],
   "source": [
    "feature_importance['Фактор'] = feature_importance['Фактор'].apply(lambda x: translation.get(x, x))"
   ]
  },
  {
   "cell_type": "code",
   "execution_count": 132,
   "id": "aadcc08f",
   "metadata": {},
   "outputs": [
    {
     "data": {
      "text/html": [
       "<div>\n",
       "<style scoped>\n",
       "    .dataframe tbody tr th:only-of-type {\n",
       "        vertical-align: middle;\n",
       "    }\n",
       "\n",
       "    .dataframe tbody tr th {\n",
       "        vertical-align: top;\n",
       "    }\n",
       "\n",
       "    .dataframe thead th {\n",
       "        text-align: right;\n",
       "    }\n",
       "</style>\n",
       "<table border=\"1\" class=\"dataframe\">\n",
       "  <thead>\n",
       "    <tr style=\"text-align: right;\">\n",
       "      <th></th>\n",
       "      <th>Фактор</th>\n",
       "      <th>Важность</th>\n",
       "    </tr>\n",
       "  </thead>\n",
       "  <tbody>\n",
       "    <tr>\n",
       "      <th>12</th>\n",
       "      <td>Тип местности</td>\n",
       "      <td>559</td>\n",
       "    </tr>\n",
       "    <tr>\n",
       "      <th>19</th>\n",
       "      <td>road_surface</td>\n",
       "      <td>417</td>\n",
       "    </tr>\n",
       "    <tr>\n",
       "      <th>11</th>\n",
       "      <td>Погодные условия</td>\n",
       "      <td>246</td>\n",
       "    </tr>\n",
       "    <tr>\n",
       "      <th>14</th>\n",
       "      <td>Количество участников</td>\n",
       "      <td>233</td>\n",
       "    </tr>\n",
       "    <tr>\n",
       "      <th>22</th>\n",
       "      <td>Устройство</td>\n",
       "      <td>202</td>\n",
       "    </tr>\n",
       "    <tr>\n",
       "      <th>0</th>\n",
       "      <td>Страховая премия</td>\n",
       "      <td>173</td>\n",
       "    </tr>\n",
       "    <tr>\n",
       "      <th>21</th>\n",
       "      <td>Освещение</td>\n",
       "      <td>169</td>\n",
       "    </tr>\n",
       "    <tr>\n",
       "      <th>5</th>\n",
       "      <td>Тип трансмиссии</td>\n",
       "      <td>116</td>\n",
       "    </tr>\n",
       "    <tr>\n",
       "      <th>10</th>\n",
       "      <td>intersection</td>\n",
       "      <td>103</td>\n",
       "    </tr>\n",
       "    <tr>\n",
       "      <th>13</th>\n",
       "      <td>Повреждения при столкновении</td>\n",
       "      <td>103</td>\n",
       "    </tr>\n",
       "    <tr>\n",
       "      <th>3</th>\n",
       "      <td>Использование мобильного телефона</td>\n",
       "      <td>99</td>\n",
       "    </tr>\n",
       "    <tr>\n",
       "      <th>1</th>\n",
       "      <td>Трезвость</td>\n",
       "      <td>98</td>\n",
       "    </tr>\n",
       "    <tr>\n",
       "      <th>17</th>\n",
       "      <td>Тип столкновения</td>\n",
       "      <td>94</td>\n",
       "    </tr>\n",
       "    <tr>\n",
       "      <th>20</th>\n",
       "      <td>road_condition</td>\n",
       "      <td>87</td>\n",
       "    </tr>\n",
       "    <tr>\n",
       "      <th>9</th>\n",
       "      <td>Направление</td>\n",
       "      <td>67</td>\n",
       "    </tr>\n",
       "    <tr>\n",
       "      <th>2</th>\n",
       "      <td>Вменяемость водителя</td>\n",
       "      <td>49</td>\n",
       "    </tr>\n",
       "    <tr>\n",
       "      <th>4</th>\n",
       "      <td>Тип транспортного средства</td>\n",
       "      <td>45</td>\n",
       "    </tr>\n",
       "    <tr>\n",
       "      <th>6</th>\n",
       "      <td>Возраст транспортного средства</td>\n",
       "      <td>37</td>\n",
       "    </tr>\n",
       "    <tr>\n",
       "      <th>8</th>\n",
       "      <td>Расстояние</td>\n",
       "      <td>31</td>\n",
       "    </tr>\n",
       "    <tr>\n",
       "      <th>16</th>\n",
       "      <td>Нарушения ПДД</td>\n",
       "      <td>31</td>\n",
       "    </tr>\n",
       "  </tbody>\n",
       "</table>\n",
       "</div>"
      ],
      "text/plain": [
       "                               Фактор  Важность\n",
       "12                      Тип местности       559\n",
       "19                       road_surface       417\n",
       "11                   Погодные условия       246\n",
       "14              Количество участников       233\n",
       "22                         Устройство       202\n",
       "0                    Страховая премия       173\n",
       "21                          Освещение       169\n",
       "5                     Тип трансмиссии       116\n",
       "10                       intersection       103\n",
       "13       Повреждения при столкновении       103\n",
       "3   Использование мобильного телефона        99\n",
       "1                           Трезвость        98\n",
       "17                   Тип столкновения        94\n",
       "20                     road_condition        87\n",
       "9                         Направление        67\n",
       "2                Вменяемость водителя        49\n",
       "4          Тип транспортного средства        45\n",
       "6      Возраст транспортного средства        37\n",
       "8                          Расстояние        31\n",
       "16                      Нарушения ПДД        31"
      ]
     },
     "metadata": {},
     "output_type": "display_data"
    }
   ],
   "source": [
    "display(feature_importance.head(20))"
   ]
  },
  {
   "cell_type": "code",
   "execution_count": 133,
   "id": "02f4a9f9",
   "metadata": {},
   "outputs": [
    {
     "data": {
      "image/png": "[encoded data removed]",
      "text/plain": [
       "<Figure size 864x576 with 1 Axes>"
      ]
     },
     "metadata": {
      "needs_background": "light"
     },
     "output_type": "display_data"
    }
   ],
   "source": [
    "plt.figure(figsize=(12, 8))\n",
    "sns.barplot(x='Важность', y='Фактор', data=feature_importance.head(20))\n",
    "plt.title('Важность факторов, влияющих на вероятность ДТП')\n",
    "plt.xlabel('Важность')\n",
    "plt.ylabel('Фактор')\n",
    "plt.show()"
   ]
  },
  {
   "cell_type": "code",
   "execution_count": 134,
   "id": "fa194e82",
   "metadata": {},
   "outputs": [],
   "source": [
    "df_analys = X_test.copy()\n",
    "df_analys['at_fault'] = y_test\n",
    "df_analys['insurance_premium'] = pd.cut(df_analys['insurance_premium'], bins=10)"
   ]
  },
  {
   "cell_type": "code",
   "execution_count": 135,
   "id": "cadc4657",
   "metadata": {},
   "outputs": [
    {
     "data": {
      "image/png": "[encoded data removed]",
      "text/plain": [
       "<Figure size 864x432 with 1 Axes>"
      ]
     },
     "metadata": {
      "needs_background": "light"
     },
     "output_type": "display_data"
    }
   ],
   "source": [
    "plt.figure(figsize=(12, 6))\n",
    "sns.countplot(x='insurance_premium', hue='at_fault', data=df_analys)\n",
    "plt.xlabel('Страховая премия')\n",
    "plt.ylabel('Количество ДТП')\n",
    "plt.title('Зависимость числа ДТП от страховой премии')\n",
    "plt.legend(title='ДТП (1 - произошло, 0 - не произошло)')\n",
    "plt.xticks(rotation=45)\n",
    "plt.show()"
   ]
  },
  {
   "cell_type": "markdown",
   "id": "109d0200",
   "metadata": {},
   "source": [
    " Выяснилось, что чем выше страховая премия, тем вышек риск совершения аварии.\n",
    "Что можно сделать:\n",
    "1. Внедрить систему контроля здоровья человека/его состояния (то есть проверка на трезвость и прочее перед посадкой).\n",
    "2. Анализировать поведение водителя во время поездки: превышение скорости, выезд на встречную полосу и т.д.\n",
    "3. Снизить страховые премии водителям, особенно тем, которые не ведут себя безопасно на дорогах."
   ]
  },
  {
   "cell_type": "markdown",
   "id": "f914a00d",
   "metadata": {},
   "source": [
    "\n",
    "## Выводы"
   ]
  },
  {
   "cell_type": "markdown",
   "id": "e612d020",
   "metadata": {},
   "source": [
    "Сделано успешное подключение к базе данных."
   ]
  },
  {
   "cell_type": "markdown",
   "id": "31e8d464",
   "metadata": {},
   "source": [
    "Успешное установление соединения с базой данных.\n",
    "Все таблицы (case_ids, collisions, parties, vehicles) есть в базе данных.\n",
    "Проверены первичные и внешние ключи.\n",
    "Таблицы связаны между собой через поле case_id.\n",
    "Уникальность значений case_id в таблице collisions подтверждена."
   ]
  },
  {
   "cell_type": "markdown",
   "id": "2f1ff0ff",
   "metadata": {},
   "source": [
    "В период с 2010 по 2011 год происходит большое количество аварий - примерно 35 тыс в месяц.\n",
    "С 2012 по 2013 год количество аварий резко снизилось до менее 5 тыс. в месяц.\n",
    "С 2013 года количество аварий на низком уровне.\n",
    "Шаг 3. Проведите статистический анализ факторов ДТП"
   ]
  },
  {
   "cell_type": "markdown",
   "id": "3e5a6eab",
   "metadata": {},
   "source": [
    "Приведены в порядок данные, все пропуски заполнены, несколько незначительных выбросов удалено, данные подготовлены."
   ]
  },
  {
   "cell_type": "markdown",
   "id": "c7a4af5d",
   "metadata": {},
   "source": [
    "Далее был выполнен поиск лучшей модели.\n",
    "1. Логистическая регрессия не подошла.\n",
    "2. LinearSVC не подошла.\n",
    "3. LightGBM оказалась лучшей моделью."
   ]
  },
  {
   "cell_type": "markdown",
   "id": "1ab8fa14",
   "metadata": {},
   "source": [
    "LightGBM\n",
    "\n",
    "\n",
    "Лучшие параметры для LightGBM: {'lgbmclassifier__learning_rate': 0.2, 'lgbmclassifier__max_depth': -1, 'lgbmclassifier__num_leaves': 31}\n",
    "\n",
    "Лучшая F1 LightGBM на кросс-валидации: 0.7176486450820688\n",
    "\n",
    "LightGBM показала наилучшие результаты среди рассмотренных моделей."
   ]
  },
  {
   "cell_type": "markdown",
   "id": "30321d3b",
   "metadata": {},
   "source": [
    "F1 на тестовой выборке: 0.7237998011981839"
   ]
  },
  {
   "cell_type": "markdown",
   "id": "b7d8ead7",
   "metadata": {},
   "source": [
    "На матрице ошибок видно, что модель LightGBM хорошо справляется с классификацией. График точности и полноты показывает, что модель LightGBM имеет хорошие показатели точности и полноты..\n",
    "\n",
    "Важные факторы следующие:\n",
    "\n",
    "1. Страховая премия\n",
    "2. Нарушения ПДД\n",
    "3. Расстояние\n",
    "4. Расположение\n",
    "5. Участие другого транспорта\n",
    "6. Количество участников\n",
    "7. Основной фактор столкновения\n",
    "8. Трезвость\n",
    "9. Тип столкновения\n",
    "10. Возраст транспортного средства"
   ]
  },
  {
   "cell_type": "markdown",
   "id": "44dbc727",
   "metadata": {},
   "source": [
    "Выяснилось, что чем выше страховая премия, тем вышек риск совершения аварии. Что можно сделать:\n",
    "\n",
    "1. Внедрить систему контроля здоровья человека/его состояния (то есть проверка на трезвость и прочее перед посадкой).\n",
    "2. Анализировать поведение водителя во время поездки: превышение скорости, выезд на встречную полосу и т.д.\n",
    "3. Снизить страховые премии водителям, особенно тем, которые не ведут себя безопасно на дорогах."
   ]
  },
  {
   "cell_type": "markdown",
   "id": "2a3f3c70",
   "metadata": {},
   "source": [
    "В ходе работы представлены графики, которые можно использовать во время презентации проекта."
   ]
  }
 ],
 "metadata": {
  "ExecuteTimeLog": [
   {
    "duration": 7,
    "start_time": "2024-05-23T12:41:20.126Z"
   },
   {
    "duration": 3,
    "start_time": "2024-05-23T12:58:12.380Z"
   },
   {
    "duration": 2,
    "start_time": "2024-05-23T12:58:12.831Z"
   },
   {
    "duration": 43,
    "start_time": "2024-05-23T12:58:13.182Z"
   },
   {
    "duration": 2,
    "start_time": "2024-05-23T12:58:29.133Z"
   },
   {
    "duration": 3,
    "start_time": "2024-05-23T12:58:29.766Z"
   },
   {
    "duration": 4,
    "start_time": "2024-05-23T12:58:30.559Z"
   },
   {
    "duration": 537,
    "start_time": "2024-05-23T12:59:05.888Z"
   },
   {
    "duration": 2,
    "start_time": "2024-05-23T12:59:06.626Z"
   },
   {
    "duration": 3,
    "start_time": "2024-05-23T12:59:07.297Z"
   },
   {
    "duration": 8952,
    "start_time": "2024-05-23T12:59:07.725Z"
   },
   {
    "duration": 798,
    "start_time": "2024-05-23T12:59:21.987Z"
   },
   {
    "duration": 3,
    "start_time": "2024-05-23T12:59:24.554Z"
   },
   {
    "duration": 475,
    "start_time": "2024-05-23T13:03:56.133Z"
   },
   {
    "duration": 2,
    "start_time": "2024-05-23T13:03:56.610Z"
   },
   {
    "duration": 14,
    "start_time": "2024-05-23T13:03:56.614Z"
   },
   {
    "duration": 6714,
    "start_time": "2024-05-23T13:03:56.629Z"
   },
   {
    "duration": 782,
    "start_time": "2024-05-23T13:04:03.345Z"
   },
   {
    "duration": 3,
    "start_time": "2024-05-23T13:04:04.128Z"
   },
   {
    "duration": 44,
    "start_time": "2024-05-23T13:04:04.133Z"
   },
   {
    "duration": 40,
    "start_time": "2024-05-23T13:04:04.178Z"
   },
   {
    "duration": 46,
    "start_time": "2024-05-23T13:04:04.219Z"
   },
   {
    "duration": 44,
    "start_time": "2024-05-23T13:04:04.267Z"
   },
   {
    "duration": 70,
    "start_time": "2024-05-23T13:04:04.313Z"
   },
   {
    "duration": 493,
    "start_time": "2024-05-23T13:05:54.414Z"
   },
   {
    "duration": 3,
    "start_time": "2024-05-23T13:05:54.909Z"
   },
   {
    "duration": 2,
    "start_time": "2024-05-23T13:05:54.915Z"
   },
   {
    "duration": 7171,
    "start_time": "2024-05-23T13:05:54.919Z"
   },
   {
    "duration": 797,
    "start_time": "2024-05-23T13:06:02.091Z"
   },
   {
    "duration": 3,
    "start_time": "2024-05-23T13:06:02.889Z"
   },
   {
    "duration": 65,
    "start_time": "2024-05-23T13:06:02.893Z"
   },
   {
    "duration": 38,
    "start_time": "2024-05-23T13:06:02.960Z"
   },
   {
    "duration": 42,
    "start_time": "2024-05-23T13:06:02.999Z"
   },
   {
    "duration": 67,
    "start_time": "2024-05-23T13:06:03.043Z"
   },
   {
    "duration": 768,
    "start_time": "2024-05-23T13:06:03.112Z"
   },
   {
    "duration": 4,
    "start_time": "2024-05-23T13:06:03.881Z"
   },
   {
    "duration": 465,
    "start_time": "2024-05-23T13:06:35.466Z"
   },
   {
    "duration": 3,
    "start_time": "2024-05-23T13:06:35.933Z"
   },
   {
    "duration": 15,
    "start_time": "2024-05-23T13:06:35.937Z"
   },
   {
    "duration": 6533,
    "start_time": "2024-05-23T13:06:35.953Z"
   },
   {
    "duration": 759,
    "start_time": "2024-05-23T13:06:42.487Z"
   },
   {
    "duration": 3,
    "start_time": "2024-05-23T13:06:43.247Z"
   },
   {
    "duration": 39,
    "start_time": "2024-05-23T13:06:43.252Z"
   },
   {
    "duration": 37,
    "start_time": "2024-05-23T13:06:43.293Z"
   },
   {
    "duration": 41,
    "start_time": "2024-05-23T13:06:43.332Z"
   },
   {
    "duration": 42,
    "start_time": "2024-05-23T13:06:43.374Z"
   },
   {
    "duration": 757,
    "start_time": "2024-05-23T13:06:43.418Z"
   },
   {
    "duration": 4,
    "start_time": "2024-05-23T13:06:44.176Z"
   },
   {
    "duration": 48,
    "start_time": "2024-05-23T13:12:31.441Z"
   },
   {
    "duration": 47,
    "start_time": "2024-05-23T13:12:59.626Z"
   },
   {
    "duration": 10041,
    "start_time": "2024-05-23T13:13:24.901Z"
   },
   {
    "duration": 499,
    "start_time": "2024-05-23T13:19:54.874Z"
   },
   {
    "duration": 3,
    "start_time": "2024-05-23T13:19:55.374Z"
   },
   {
    "duration": 11,
    "start_time": "2024-05-23T13:19:55.378Z"
   },
   {
    "duration": 6805,
    "start_time": "2024-05-23T13:19:55.390Z"
   },
   {
    "duration": 9455,
    "start_time": "2024-05-23T13:20:02.197Z"
   },
   {
    "duration": 3,
    "start_time": "2024-05-23T13:20:11.654Z"
   },
   {
    "duration": 39,
    "start_time": "2024-05-23T13:20:11.658Z"
   },
   {
    "duration": 36,
    "start_time": "2024-05-23T13:20:11.699Z"
   },
   {
    "duration": 45,
    "start_time": "2024-05-23T13:20:11.737Z"
   },
   {
    "duration": 46,
    "start_time": "2024-05-23T13:20:11.784Z"
   },
   {
    "duration": 4828,
    "start_time": "2024-05-23T13:20:11.831Z"
   },
   {
    "duration": 4,
    "start_time": "2024-05-23T13:20:16.660Z"
   },
   {
    "duration": 307,
    "start_time": "2024-05-23T13:20:16.665Z"
   },
   {
    "duration": 69,
    "start_time": "2024-05-23T13:20:16.974Z"
   },
   {
    "duration": 834,
    "start_time": "2024-05-23T13:22:29.739Z"
   },
   {
    "duration": 3,
    "start_time": "2024-05-23T13:22:30.575Z"
   },
   {
    "duration": 51,
    "start_time": "2024-05-23T13:22:30.580Z"
   },
   {
    "duration": 6866,
    "start_time": "2024-05-23T13:22:30.633Z"
   },
   {
    "duration": 767,
    "start_time": "2024-05-23T13:22:37.501Z"
   },
   {
    "duration": 3,
    "start_time": "2024-05-23T13:22:38.269Z"
   },
   {
    "duration": 41,
    "start_time": "2024-05-23T13:22:38.273Z"
   },
   {
    "duration": 38,
    "start_time": "2024-05-23T13:22:38.315Z"
   },
   {
    "duration": 46,
    "start_time": "2024-05-23T13:22:38.354Z"
   },
   {
    "duration": 47,
    "start_time": "2024-05-23T13:22:38.402Z"
   },
   {
    "duration": 722,
    "start_time": "2024-05-23T13:22:38.451Z"
   },
   {
    "duration": 4,
    "start_time": "2024-05-23T13:22:39.174Z"
   },
   {
    "duration": 303,
    "start_time": "2024-05-23T13:22:39.179Z"
   },
   {
    "duration": 454,
    "start_time": "2024-05-23T13:22:39.484Z"
   },
   {
    "duration": 647,
    "start_time": "2024-05-23T13:49:43.944Z"
   },
   {
    "duration": 2,
    "start_time": "2024-05-23T13:49:44.593Z"
   },
   {
    "duration": 6,
    "start_time": "2024-05-23T13:49:44.598Z"
   },
   {
    "duration": 6450,
    "start_time": "2024-05-23T13:49:44.611Z"
   },
   {
    "duration": 789,
    "start_time": "2024-05-23T13:49:51.062Z"
   },
   {
    "duration": 4,
    "start_time": "2024-05-23T13:49:51.853Z"
   },
   {
    "duration": 47,
    "start_time": "2024-05-23T13:49:51.858Z"
   },
   {
    "duration": 38,
    "start_time": "2024-05-23T13:49:51.907Z"
   },
   {
    "duration": 47,
    "start_time": "2024-05-23T13:49:51.946Z"
   },
   {
    "duration": 47,
    "start_time": "2024-05-23T13:49:51.994Z"
   },
   {
    "duration": 753,
    "start_time": "2024-05-23T13:49:52.042Z"
   },
   {
    "duration": 4,
    "start_time": "2024-05-23T13:49:52.796Z"
   },
   {
    "duration": 313,
    "start_time": "2024-05-23T13:49:52.803Z"
   },
   {
    "duration": 400,
    "start_time": "2024-05-23T13:49:53.118Z"
   },
   {
    "duration": 187,
    "start_time": "2024-05-23T13:49:53.520Z"
   },
   {
    "duration": 0,
    "start_time": "2024-05-23T13:49:53.708Z"
   },
   {
    "duration": 0,
    "start_time": "2024-05-23T13:49:53.709Z"
   },
   {
    "duration": 0,
    "start_time": "2024-05-23T13:49:53.710Z"
   },
   {
    "duration": 650,
    "start_time": "2024-05-23T13:55:16.943Z"
   },
   {
    "duration": 2,
    "start_time": "2024-05-23T13:55:17.595Z"
   },
   {
    "duration": 5,
    "start_time": "2024-05-23T13:55:17.598Z"
   },
   {
    "duration": 7498,
    "start_time": "2024-05-23T13:55:17.604Z"
   },
   {
    "duration": 774,
    "start_time": "2024-05-23T13:55:25.104Z"
   },
   {
    "duration": 3,
    "start_time": "2024-05-23T13:55:25.880Z"
   },
   {
    "duration": 55,
    "start_time": "2024-05-23T13:55:25.885Z"
   },
   {
    "duration": 37,
    "start_time": "2024-05-23T13:55:25.942Z"
   },
   {
    "duration": 46,
    "start_time": "2024-05-23T13:55:25.981Z"
   },
   {
    "duration": 47,
    "start_time": "2024-05-23T13:55:26.029Z"
   },
   {
    "duration": 747,
    "start_time": "2024-05-23T13:55:26.078Z"
   },
   {
    "duration": 4,
    "start_time": "2024-05-23T13:55:26.826Z"
   },
   {
    "duration": 303,
    "start_time": "2024-05-23T13:55:26.831Z"
   },
   {
    "duration": 429,
    "start_time": "2024-05-23T13:55:27.136Z"
   },
   {
    "duration": 583,
    "start_time": "2024-05-23T13:55:27.567Z"
   },
   {
    "duration": 262,
    "start_time": "2024-05-23T13:55:28.152Z"
   },
   {
    "duration": 177,
    "start_time": "2024-05-23T13:55:28.416Z"
   },
   {
    "duration": 0,
    "start_time": "2024-05-23T13:55:28.595Z"
   },
   {
    "duration": 716,
    "start_time": "2024-05-23T13:58:10.013Z"
   },
   {
    "duration": 3,
    "start_time": "2024-05-23T13:58:10.731Z"
   },
   {
    "duration": 5,
    "start_time": "2024-05-23T13:58:10.735Z"
   },
   {
    "duration": 6653,
    "start_time": "2024-05-23T13:58:10.741Z"
   },
   {
    "duration": 757,
    "start_time": "2024-05-23T13:58:17.396Z"
   },
   {
    "duration": 3,
    "start_time": "2024-05-23T13:58:18.155Z"
   },
   {
    "duration": 44,
    "start_time": "2024-05-23T13:58:18.159Z"
   },
   {
    "duration": 38,
    "start_time": "2024-05-23T13:58:18.204Z"
   },
   {
    "duration": 46,
    "start_time": "2024-05-23T13:58:18.244Z"
   },
   {
    "duration": 46,
    "start_time": "2024-05-23T13:58:18.291Z"
   },
   {
    "duration": 736,
    "start_time": "2024-05-23T13:58:18.339Z"
   },
   {
    "duration": 4,
    "start_time": "2024-05-23T13:58:19.076Z"
   },
   {
    "duration": 309,
    "start_time": "2024-05-23T13:58:19.081Z"
   },
   {
    "duration": 407,
    "start_time": "2024-05-23T13:58:19.392Z"
   },
   {
    "duration": 571,
    "start_time": "2024-05-23T13:58:19.800Z"
   },
   {
    "duration": 290,
    "start_time": "2024-05-23T13:58:20.372Z"
   },
   {
    "duration": 550,
    "start_time": "2024-05-23T13:58:20.663Z"
   },
   {
    "duration": 230,
    "start_time": "2024-05-23T13:58:21.214Z"
   },
   {
    "duration": 689,
    "start_time": "2024-05-23T14:35:29.718Z"
   },
   {
    "duration": 4,
    "start_time": "2024-05-23T14:35:30.408Z"
   },
   {
    "duration": 34,
    "start_time": "2024-05-23T14:35:30.413Z"
   },
   {
    "duration": 7206,
    "start_time": "2024-05-23T14:35:30.449Z"
   },
   {
    "duration": 800,
    "start_time": "2024-05-23T14:35:37.657Z"
   },
   {
    "duration": 3,
    "start_time": "2024-05-23T14:35:38.458Z"
   },
   {
    "duration": 42,
    "start_time": "2024-05-23T14:35:38.462Z"
   },
   {
    "duration": 38,
    "start_time": "2024-05-23T14:35:38.506Z"
   },
   {
    "duration": 48,
    "start_time": "2024-05-23T14:35:38.546Z"
   },
   {
    "duration": 49,
    "start_time": "2024-05-23T14:35:38.596Z"
   },
   {
    "duration": 758,
    "start_time": "2024-05-23T14:35:38.646Z"
   },
   {
    "duration": 4,
    "start_time": "2024-05-23T14:35:39.406Z"
   },
   {
    "duration": 299,
    "start_time": "2024-05-23T14:35:39.412Z"
   },
   {
    "duration": 409,
    "start_time": "2024-05-23T14:35:39.714Z"
   },
   {
    "duration": 552,
    "start_time": "2024-05-23T14:35:40.125Z"
   },
   {
    "duration": 260,
    "start_time": "2024-05-23T14:35:40.679Z"
   },
   {
    "duration": 549,
    "start_time": "2024-05-23T14:35:40.941Z"
   },
   {
    "duration": 218,
    "start_time": "2024-05-23T14:35:41.492Z"
   },
   {
    "duration": 10491,
    "start_time": "2024-05-23T14:35:41.712Z"
   },
   {
    "duration": 469,
    "start_time": "2024-05-23T14:35:52.205Z"
   },
   {
    "duration": 118,
    "start_time": "2024-05-23T14:35:52.675Z"
   },
   {
    "duration": 699,
    "start_time": "2024-05-23T14:45:29.474Z"
   },
   {
    "duration": 3,
    "start_time": "2024-05-23T14:45:30.175Z"
   },
   {
    "duration": 29,
    "start_time": "2024-05-23T14:45:30.180Z"
   },
   {
    "duration": 6708,
    "start_time": "2024-05-23T14:45:30.211Z"
   },
   {
    "duration": 956,
    "start_time": "2024-05-23T14:45:36.921Z"
   },
   {
    "duration": 3,
    "start_time": "2024-05-23T14:45:37.879Z"
   },
   {
    "duration": 41,
    "start_time": "2024-05-23T14:45:37.883Z"
   },
   {
    "duration": 38,
    "start_time": "2024-05-23T14:45:37.925Z"
   },
   {
    "duration": 47,
    "start_time": "2024-05-23T14:45:37.965Z"
   },
   {
    "duration": 47,
    "start_time": "2024-05-23T14:45:38.014Z"
   },
   {
    "duration": 757,
    "start_time": "2024-05-23T14:45:38.062Z"
   },
   {
    "duration": 4,
    "start_time": "2024-05-23T14:45:38.821Z"
   },
   {
    "duration": 299,
    "start_time": "2024-05-23T14:45:38.826Z"
   },
   {
    "duration": 404,
    "start_time": "2024-05-23T14:45:39.127Z"
   },
   {
    "duration": 556,
    "start_time": "2024-05-23T14:45:39.533Z"
   },
   {
    "duration": 261,
    "start_time": "2024-05-23T14:45:40.091Z"
   },
   {
    "duration": 542,
    "start_time": "2024-05-23T14:45:40.354Z"
   },
   {
    "duration": 250,
    "start_time": "2024-05-23T14:45:40.898Z"
   },
   {
    "duration": 12622,
    "start_time": "2024-05-23T14:45:41.149Z"
   },
   {
    "duration": 443,
    "start_time": "2024-05-23T14:45:53.773Z"
   },
   {
    "duration": 122,
    "start_time": "2024-05-23T14:45:54.217Z"
   },
   {
    "duration": 120,
    "start_time": "2024-05-23T14:45:54.341Z"
   },
   {
    "duration": 327,
    "start_time": "2024-05-23T14:45:54.462Z"
   },
   {
    "duration": 27,
    "start_time": "2024-05-23T14:45:54.790Z"
   },
   {
    "duration": 24,
    "start_time": "2024-05-23T14:46:18.793Z"
   },
   {
    "duration": 4,
    "start_time": "2024-05-23T14:47:00.999Z"
   },
   {
    "duration": 321,
    "start_time": "2024-05-23T14:47:09.618Z"
   },
   {
    "duration": 704,
    "start_time": "2024-05-23T14:47:54.479Z"
   },
   {
    "duration": 2,
    "start_time": "2024-05-23T14:47:55.185Z"
   },
   {
    "duration": 6,
    "start_time": "2024-05-23T14:47:55.189Z"
   },
   {
    "duration": 6919,
    "start_time": "2024-05-23T14:47:55.196Z"
   },
   {
    "duration": 769,
    "start_time": "2024-05-23T14:48:02.117Z"
   },
   {
    "duration": 3,
    "start_time": "2024-05-23T14:48:02.887Z"
   },
   {
    "duration": 46,
    "start_time": "2024-05-23T14:48:02.892Z"
   },
   {
    "duration": 38,
    "start_time": "2024-05-23T14:48:02.940Z"
   },
   {
    "duration": 47,
    "start_time": "2024-05-23T14:48:02.979Z"
   },
   {
    "duration": 47,
    "start_time": "2024-05-23T14:48:03.027Z"
   },
   {
    "duration": 733,
    "start_time": "2024-05-23T14:48:03.076Z"
   },
   {
    "duration": 3,
    "start_time": "2024-05-23T14:48:03.811Z"
   },
   {
    "duration": 319,
    "start_time": "2024-05-23T14:48:03.816Z"
   },
   {
    "duration": 417,
    "start_time": "2024-05-23T14:48:04.137Z"
   },
   {
    "duration": 549,
    "start_time": "2024-05-23T14:48:04.556Z"
   },
   {
    "duration": 266,
    "start_time": "2024-05-23T14:48:05.107Z"
   },
   {
    "duration": 530,
    "start_time": "2024-05-23T14:48:05.374Z"
   },
   {
    "duration": 220,
    "start_time": "2024-05-23T14:48:05.905Z"
   },
   {
    "duration": 11932,
    "start_time": "2024-05-23T14:48:06.127Z"
   },
   {
    "duration": 471,
    "start_time": "2024-05-23T14:48:18.060Z"
   },
   {
    "duration": 137,
    "start_time": "2024-05-23T14:48:18.534Z"
   },
   {
    "duration": 123,
    "start_time": "2024-05-23T14:48:18.673Z"
   },
   {
    "duration": 330,
    "start_time": "2024-05-23T14:48:18.798Z"
   },
   {
    "duration": 27,
    "start_time": "2024-05-23T14:48:19.129Z"
   },
   {
    "duration": 5,
    "start_time": "2024-05-23T14:48:19.158Z"
   },
   {
    "duration": 338,
    "start_time": "2024-05-23T14:48:19.164Z"
   },
   {
    "duration": 644,
    "start_time": "2024-05-23T14:56:44.559Z"
   },
   {
    "duration": 3,
    "start_time": "2024-05-23T14:56:45.205Z"
   },
   {
    "duration": 14,
    "start_time": "2024-05-23T14:56:45.212Z"
   },
   {
    "duration": 6782,
    "start_time": "2024-05-23T14:56:45.228Z"
   },
   {
    "duration": 786,
    "start_time": "2024-05-23T14:56:52.012Z"
   },
   {
    "duration": 3,
    "start_time": "2024-05-23T14:56:52.799Z"
   },
   {
    "duration": 40,
    "start_time": "2024-05-23T14:56:52.804Z"
   },
   {
    "duration": 37,
    "start_time": "2024-05-23T14:56:52.846Z"
   },
   {
    "duration": 45,
    "start_time": "2024-05-23T14:56:52.885Z"
   },
   {
    "duration": 46,
    "start_time": "2024-05-23T14:56:52.932Z"
   },
   {
    "duration": 786,
    "start_time": "2024-05-23T14:56:52.979Z"
   },
   {
    "duration": 5,
    "start_time": "2024-05-23T14:56:53.767Z"
   },
   {
    "duration": 314,
    "start_time": "2024-05-23T14:56:53.773Z"
   },
   {
    "duration": 399,
    "start_time": "2024-05-23T14:56:54.090Z"
   },
   {
    "duration": 570,
    "start_time": "2024-05-23T14:56:54.491Z"
   },
   {
    "duration": 270,
    "start_time": "2024-05-23T14:56:55.063Z"
   },
   {
    "duration": 1634,
    "start_time": "2024-05-23T14:56:55.334Z"
   },
   {
    "duration": 220,
    "start_time": "2024-05-23T14:56:56.969Z"
   },
   {
    "duration": 9919,
    "start_time": "2024-05-23T14:56:57.191Z"
   },
   {
    "duration": 453,
    "start_time": "2024-05-23T14:57:07.111Z"
   },
   {
    "duration": 117,
    "start_time": "2024-05-23T14:57:07.565Z"
   },
   {
    "duration": 125,
    "start_time": "2024-05-23T14:57:07.683Z"
   },
   {
    "duration": 319,
    "start_time": "2024-05-23T14:57:07.809Z"
   },
   {
    "duration": 24,
    "start_time": "2024-05-23T14:57:08.129Z"
   },
   {
    "duration": 2,
    "start_time": "2024-05-23T14:57:08.155Z"
   },
   {
    "duration": 334,
    "start_time": "2024-05-23T14:57:08.158Z"
   },
   {
    "duration": 45,
    "start_time": "2024-05-23T14:57:08.494Z"
   },
   {
    "duration": 927,
    "start_time": "2024-05-23T14:57:08.541Z"
   },
   {
    "duration": 4,
    "start_time": "2024-05-23T14:57:09.469Z"
   },
   {
    "duration": 972,
    "start_time": "2024-05-23T14:57:09.475Z"
   },
   {
    "duration": 4,
    "start_time": "2024-05-23T14:57:10.448Z"
   },
   {
    "duration": 77,
    "start_time": "2024-05-23T14:59:20.296Z"
   },
   {
    "duration": 76,
    "start_time": "2024-05-23T14:59:37.384Z"
   },
   {
    "duration": 1127,
    "start_time": "2024-05-23T15:01:20.671Z"
   },
   {
    "duration": 1053,
    "start_time": "2024-05-23T15:01:30.033Z"
   },
   {
    "duration": 294,
    "start_time": "2024-05-23T15:06:25.270Z"
   },
   {
    "duration": 6,
    "start_time": "2024-05-23T15:46:19.311Z"
   },
   {
    "duration": 77,
    "start_time": "2024-05-23T15:47:30.273Z"
   },
   {
    "duration": 6,
    "start_time": "2024-05-23T15:48:41.922Z"
   },
   {
    "duration": 681,
    "start_time": "2024-05-23T15:48:52.709Z"
   },
   {
    "duration": 3,
    "start_time": "2024-05-23T15:48:53.392Z"
   },
   {
    "duration": 4,
    "start_time": "2024-05-23T15:48:53.396Z"
   },
   {
    "duration": 6309,
    "start_time": "2024-05-23T15:48:53.401Z"
   },
   {
    "duration": 857,
    "start_time": "2024-05-23T15:48:59.712Z"
   },
   {
    "duration": 3,
    "start_time": "2024-05-23T15:49:00.570Z"
   },
   {
    "duration": 75,
    "start_time": "2024-05-23T15:49:00.574Z"
   },
   {
    "duration": 47,
    "start_time": "2024-05-23T15:49:00.650Z"
   },
   {
    "duration": 49,
    "start_time": "2024-05-23T15:49:00.699Z"
   },
   {
    "duration": 52,
    "start_time": "2024-05-23T15:49:00.750Z"
   },
   {
    "duration": 757,
    "start_time": "2024-05-23T15:49:00.803Z"
   },
   {
    "duration": 4,
    "start_time": "2024-05-23T15:49:01.562Z"
   },
   {
    "duration": 320,
    "start_time": "2024-05-23T15:49:01.567Z"
   },
   {
    "duration": 403,
    "start_time": "2024-05-23T15:49:01.889Z"
   },
   {
    "duration": 557,
    "start_time": "2024-05-23T15:49:02.293Z"
   },
   {
    "duration": 265,
    "start_time": "2024-05-23T15:49:02.852Z"
   },
   {
    "duration": 1307,
    "start_time": "2024-05-23T15:49:03.119Z"
   },
   {
    "duration": 213,
    "start_time": "2024-05-23T15:49:04.428Z"
   },
   {
    "duration": 11153,
    "start_time": "2024-05-23T15:49:04.642Z"
   },
   {
    "duration": 444,
    "start_time": "2024-05-23T15:49:15.797Z"
   },
   {
    "duration": 114,
    "start_time": "2024-05-23T15:49:16.242Z"
   },
   {
    "duration": 125,
    "start_time": "2024-05-23T15:49:16.357Z"
   },
   {
    "duration": 337,
    "start_time": "2024-05-23T15:49:16.483Z"
   },
   {
    "duration": 25,
    "start_time": "2024-05-23T15:49:16.822Z"
   },
   {
    "duration": 5,
    "start_time": "2024-05-23T15:49:16.848Z"
   },
   {
    "duration": 352,
    "start_time": "2024-05-23T15:49:16.855Z"
   },
   {
    "duration": 1157,
    "start_time": "2024-05-23T15:49:17.209Z"
   },
   {
    "duration": 312,
    "start_time": "2024-05-23T15:49:18.367Z"
   },
   {
    "duration": 81,
    "start_time": "2024-05-23T15:49:18.681Z"
   },
   {
    "duration": 6,
    "start_time": "2024-05-23T15:51:14.593Z"
   },
   {
    "duration": 6,
    "start_time": "2024-05-23T15:51:53.347Z"
   },
   {
    "duration": 6,
    "start_time": "2024-05-23T16:02:41.993Z"
   },
   {
    "duration": 983,
    "start_time": "2024-05-23T16:02:42.620Z"
   },
   {
    "duration": 0,
    "start_time": "2024-05-23T16:02:43.604Z"
   },
   {
    "duration": 8,
    "start_time": "2024-05-23T16:02:54.831Z"
   },
   {
    "duration": 22,
    "start_time": "2024-05-23T16:03:16.266Z"
   },
   {
    "duration": 7,
    "start_time": "2024-05-23T16:05:37.775Z"
   },
   {
    "duration": 8,
    "start_time": "2024-05-23T16:05:38.493Z"
   },
   {
    "duration": 6,
    "start_time": "2024-05-23T16:05:38.727Z"
   },
   {
    "duration": 22,
    "start_time": "2024-05-23T16:05:39.104Z"
   },
   {
    "duration": 17,
    "start_time": "2024-05-23T16:05:39.731Z"
   },
   {
    "duration": 79,
    "start_time": "2024-05-23T16:05:40.179Z"
   },
   {
    "duration": 16,
    "start_time": "2024-05-23T16:05:40.595Z"
   },
   {
    "duration": 12,
    "start_time": "2024-05-23T16:06:43.571Z"
   },
   {
    "duration": 13,
    "start_time": "2024-05-23T16:08:04.455Z"
   },
   {
    "duration": 11,
    "start_time": "2024-05-23T16:08:04.927Z"
   },
   {
    "duration": 17,
    "start_time": "2024-05-23T16:08:05.273Z"
   },
   {
    "duration": 35,
    "start_time": "2024-05-23T16:09:37.048Z"
   },
   {
    "duration": 16,
    "start_time": "2024-05-23T16:09:37.291Z"
   },
   {
    "duration": 16,
    "start_time": "2024-05-23T16:09:37.661Z"
   },
   {
    "duration": 11,
    "start_time": "2024-05-23T16:09:37.847Z"
   },
   {
    "duration": 16,
    "start_time": "2024-05-23T16:09:38.037Z"
   },
   {
    "duration": 16,
    "start_time": "2024-05-23T16:09:38.286Z"
   },
   {
    "duration": 16,
    "start_time": "2024-05-23T16:09:38.594Z"
   },
   {
    "duration": 4,
    "start_time": "2024-05-23T16:11:49.877Z"
   },
   {
    "duration": 4,
    "start_time": "2024-05-23T16:12:43.273Z"
   },
   {
    "duration": 16,
    "start_time": "2024-05-23T16:12:43.478Z"
   },
   {
    "duration": 15,
    "start_time": "2024-05-23T16:12:43.681Z"
   },
   {
    "duration": 22,
    "start_time": "2024-05-23T16:13:16.684Z"
   },
   {
    "duration": 21,
    "start_time": "2024-05-23T16:15:06.877Z"
   },
   {
    "duration": 5,
    "start_time": "2024-05-23T16:16:45.222Z"
   },
   {
    "duration": 26,
    "start_time": "2024-05-23T16:18:03.419Z"
   },
   {
    "duration": 21,
    "start_time": "2024-05-23T16:18:03.616Z"
   },
   {
    "duration": 26,
    "start_time": "2024-05-23T16:18:03.821Z"
   },
   {
    "duration": 27,
    "start_time": "2024-05-23T16:18:03.976Z"
   },
   {
    "duration": 19,
    "start_time": "2024-05-23T16:18:04.131Z"
   },
   {
    "duration": 27,
    "start_time": "2024-05-23T16:18:04.329Z"
   },
   {
    "duration": 6,
    "start_time": "2024-05-23T16:18:04.527Z"
   },
   {
    "duration": 5,
    "start_time": "2024-05-23T16:18:04.692Z"
   },
   {
    "duration": 5,
    "start_time": "2024-05-23T16:18:05.140Z"
   },
   {
    "duration": 6,
    "start_time": "2024-05-23T16:18:50.727Z"
   },
   {
    "duration": 6,
    "start_time": "2024-05-23T16:18:50.909Z"
   },
   {
    "duration": 5,
    "start_time": "2024-05-23T16:18:51.111Z"
   },
   {
    "duration": 27,
    "start_time": "2024-05-23T16:19:07.140Z"
   },
   {
    "duration": 5,
    "start_time": "2024-05-23T16:19:07.364Z"
   },
   {
    "duration": 6,
    "start_time": "2024-05-23T16:19:07.756Z"
   },
   {
    "duration": 5,
    "start_time": "2024-05-23T16:19:08.002Z"
   },
   {
    "duration": 677,
    "start_time": "2024-05-23T16:19:12.950Z"
   },
   {
    "duration": 3,
    "start_time": "2024-05-23T16:19:13.629Z"
   },
   {
    "duration": 4,
    "start_time": "2024-05-23T16:19:13.634Z"
   },
   {
    "duration": 6519,
    "start_time": "2024-05-23T16:19:13.639Z"
   },
   {
    "duration": 750,
    "start_time": "2024-05-23T16:19:20.160Z"
   },
   {
    "duration": 3,
    "start_time": "2024-05-23T16:19:20.911Z"
   },
   {
    "duration": 49,
    "start_time": "2024-05-23T16:19:20.916Z"
   },
   {
    "duration": 40,
    "start_time": "2024-05-23T16:19:20.966Z"
   },
   {
    "duration": 50,
    "start_time": "2024-05-23T16:19:21.007Z"
   },
   {
    "duration": 49,
    "start_time": "2024-05-23T16:19:21.058Z"
   },
   {
    "duration": 728,
    "start_time": "2024-05-23T16:19:21.109Z"
   },
   {
    "duration": 5,
    "start_time": "2024-05-23T16:19:21.838Z"
   },
   {
    "duration": 294,
    "start_time": "2024-05-23T16:19:21.845Z"
   },
   {
    "duration": 444,
    "start_time": "2024-05-23T16:19:22.142Z"
   },
   {
    "duration": 520,
    "start_time": "2024-05-23T16:19:22.588Z"
   },
   {
    "duration": 278,
    "start_time": "2024-05-23T16:19:23.110Z"
   },
   {
    "duration": 521,
    "start_time": "2024-05-23T16:19:23.389Z"
   },
   {
    "duration": 223,
    "start_time": "2024-05-23T16:19:23.912Z"
   },
   {
    "duration": 11741,
    "start_time": "2024-05-23T16:19:24.137Z"
   },
   {
    "duration": 445,
    "start_time": "2024-05-23T16:19:35.880Z"
   },
   {
    "duration": 118,
    "start_time": "2024-05-23T16:19:36.326Z"
   },
   {
    "duration": 127,
    "start_time": "2024-05-23T16:19:36.446Z"
   },
   {
    "duration": 326,
    "start_time": "2024-05-23T16:19:36.575Z"
   },
   {
    "duration": 33,
    "start_time": "2024-05-23T16:19:36.902Z"
   },
   {
    "duration": 4,
    "start_time": "2024-05-23T16:19:36.936Z"
   },
   {
    "duration": 343,
    "start_time": "2024-05-23T16:19:36.941Z"
   },
   {
    "duration": 1167,
    "start_time": "2024-05-23T16:19:37.285Z"
   },
   {
    "duration": 304,
    "start_time": "2024-05-23T16:19:38.453Z"
   },
   {
    "duration": 6,
    "start_time": "2024-05-23T16:19:38.758Z"
   },
   {
    "duration": 10,
    "start_time": "2024-05-23T16:19:38.765Z"
   },
   {
    "duration": 5,
    "start_time": "2024-05-23T16:19:38.777Z"
   },
   {
    "duration": 39,
    "start_time": "2024-05-23T16:19:38.784Z"
   },
   {
    "duration": 20,
    "start_time": "2024-05-23T16:19:38.824Z"
   },
   {
    "duration": 81,
    "start_time": "2024-05-23T16:19:38.845Z"
   },
   {
    "duration": 14,
    "start_time": "2024-05-23T16:19:38.928Z"
   },
   {
    "duration": 10,
    "start_time": "2024-05-23T16:19:38.944Z"
   },
   {
    "duration": 16,
    "start_time": "2024-05-23T16:19:38.955Z"
   },
   {
    "duration": 15,
    "start_time": "2024-05-23T16:19:38.972Z"
   },
   {
    "duration": 24,
    "start_time": "2024-05-23T16:19:38.988Z"
   },
   {
    "duration": 15,
    "start_time": "2024-05-23T16:19:39.014Z"
   },
   {
    "duration": 13,
    "start_time": "2024-05-23T16:19:39.033Z"
   },
   {
    "duration": 23,
    "start_time": "2024-05-23T16:19:39.048Z"
   },
   {
    "duration": 46,
    "start_time": "2024-05-23T16:19:39.072Z"
   },
   {
    "duration": 25,
    "start_time": "2024-05-23T16:19:39.120Z"
   },
   {
    "duration": 17,
    "start_time": "2024-05-23T16:19:39.147Z"
   },
   {
    "duration": 13,
    "start_time": "2024-05-23T16:19:39.166Z"
   },
   {
    "duration": 39,
    "start_time": "2024-05-23T16:19:39.181Z"
   },
   {
    "duration": 5,
    "start_time": "2024-05-23T16:19:39.222Z"
   },
   {
    "duration": 6,
    "start_time": "2024-05-23T16:19:39.228Z"
   },
   {
    "duration": 9,
    "start_time": "2024-05-23T16:19:39.235Z"
   },
   {
    "duration": 7,
    "start_time": "2024-05-23T16:22:30.782Z"
   },
   {
    "duration": 6,
    "start_time": "2024-05-23T16:24:51.975Z"
   },
   {
    "duration": 7,
    "start_time": "2024-05-23T16:24:52.186Z"
   },
   {
    "duration": 217,
    "start_time": "2024-05-23T16:24:52.395Z"
   },
   {
    "duration": 6,
    "start_time": "2024-05-23T16:24:52.839Z"
   },
   {
    "duration": 5,
    "start_time": "2024-05-23T16:24:53.714Z"
   },
   {
    "duration": 45,
    "start_time": "2024-05-23T16:25:46.177Z"
   },
   {
    "duration": 33,
    "start_time": "2024-05-23T16:26:43.626Z"
   },
   {
    "duration": 26,
    "start_time": "2024-05-23T16:26:43.948Z"
   },
   {
    "duration": 34,
    "start_time": "2024-05-23T16:26:44.373Z"
   },
   {
    "duration": 5,
    "start_time": "2024-05-23T16:27:00.335Z"
   },
   {
    "duration": 4,
    "start_time": "2024-05-23T16:27:22.660Z"
   },
   {
    "duration": 17,
    "start_time": "2024-05-23T16:27:22.831Z"
   },
   {
    "duration": 17,
    "start_time": "2024-05-23T16:27:23.010Z"
   },
   {
    "duration": 22,
    "start_time": "2024-05-23T16:28:20.509Z"
   },
   {
    "duration": 21,
    "start_time": "2024-05-23T16:28:38.542Z"
   },
   {
    "duration": 18,
    "start_time": "2024-05-23T16:28:38.714Z"
   },
   {
    "duration": 30,
    "start_time": "2024-05-23T16:28:38.910Z"
   },
   {
    "duration": 34,
    "start_time": "2024-05-23T16:28:55.451Z"
   },
   {
    "duration": 54,
    "start_time": "2024-05-23T16:29:28.315Z"
   },
   {
    "duration": 54,
    "start_time": "2024-05-23T16:31:32.328Z"
   },
   {
    "duration": 81,
    "start_time": "2024-05-23T16:31:32.525Z"
   },
   {
    "duration": 30,
    "start_time": "2024-05-23T16:31:32.727Z"
   },
   {
    "duration": 44,
    "start_time": "2024-05-23T16:31:33.130Z"
   },
   {
    "duration": 32,
    "start_time": "2024-05-23T16:32:21.815Z"
   },
   {
    "duration": 35,
    "start_time": "2024-05-23T16:34:16.574Z"
   },
   {
    "duration": 28,
    "start_time": "2024-05-23T16:34:16.774Z"
   },
   {
    "duration": 39,
    "start_time": "2024-05-23T16:34:16.974Z"
   },
   {
    "duration": 27,
    "start_time": "2024-05-23T16:34:42.078Z"
   },
   {
    "duration": 61,
    "start_time": "2024-05-23T16:35:27.341Z"
   },
   {
    "duration": 42,
    "start_time": "2024-05-23T16:35:33.275Z"
   },
   {
    "duration": 42,
    "start_time": "2024-05-23T16:36:40.832Z"
   },
   {
    "duration": 22,
    "start_time": "2024-05-23T16:36:41.029Z"
   },
   {
    "duration": 25,
    "start_time": "2024-05-23T16:36:41.209Z"
   },
   {
    "duration": 37,
    "start_time": "2024-05-23T16:36:48.630Z"
   },
   {
    "duration": 30,
    "start_time": "2024-05-23T16:37:10.760Z"
   },
   {
    "duration": 31,
    "start_time": "2024-05-23T16:38:19.304Z"
   },
   {
    "duration": 31,
    "start_time": "2024-05-23T16:38:19.493Z"
   },
   {
    "duration": 36,
    "start_time": "2024-05-23T16:38:19.725Z"
   },
   {
    "duration": 33,
    "start_time": "2024-05-23T16:38:58.499Z"
   },
   {
    "duration": 51,
    "start_time": "2024-05-23T16:39:27.661Z"
   },
   {
    "duration": 28,
    "start_time": "2024-05-23T16:39:30.449Z"
   },
   {
    "duration": 36,
    "start_time": "2024-05-23T16:39:30.790Z"
   },
   {
    "duration": 33,
    "start_time": "2024-05-23T16:39:31.011Z"
   },
   {
    "duration": 51,
    "start_time": "2024-05-23T16:39:44.454Z"
   },
   {
    "duration": 29,
    "start_time": "2024-05-23T16:40:20.238Z"
   },
   {
    "duration": 38,
    "start_time": "2024-05-23T16:40:25.916Z"
   },
   {
    "duration": 35,
    "start_time": "2024-05-23T16:40:53.704Z"
   },
   {
    "duration": 55,
    "start_time": "2024-05-23T16:41:19.727Z"
   },
   {
    "duration": 33,
    "start_time": "2024-05-23T16:41:59.887Z"
   },
   {
    "duration": 33,
    "start_time": "2024-05-23T16:42:23.771Z"
   },
   {
    "duration": 38,
    "start_time": "2024-05-23T16:42:23.985Z"
   },
   {
    "duration": 47,
    "start_time": "2024-05-23T16:42:24.373Z"
   },
   {
    "duration": 55,
    "start_time": "2024-05-23T16:46:27.134Z"
   },
   {
    "duration": 29,
    "start_time": "2024-05-23T16:46:27.317Z"
   },
   {
    "duration": 41,
    "start_time": "2024-05-23T16:46:27.632Z"
   },
   {
    "duration": 43,
    "start_time": "2024-05-23T16:46:27.820Z"
   },
   {
    "duration": 29,
    "start_time": "2024-05-23T16:46:28.036Z"
   },
   {
    "duration": 39,
    "start_time": "2024-05-23T16:46:28.249Z"
   },
   {
    "duration": 9,
    "start_time": "2024-05-23T16:46:28.503Z"
   },
   {
    "duration": 132,
    "start_time": "2024-05-23T16:46:28.722Z"
   },
   {
    "duration": 5,
    "start_time": "2024-05-23T16:46:28.907Z"
   },
   {
    "duration": 150,
    "start_time": "2024-05-23T16:47:31.784Z"
   },
   {
    "duration": 102,
    "start_time": "2024-05-23T16:50:26.328Z"
   },
   {
    "duration": 672,
    "start_time": "2024-05-23T16:51:28.641Z"
   },
   {
    "duration": 2,
    "start_time": "2024-05-23T16:51:29.315Z"
   },
   {
    "duration": 3,
    "start_time": "2024-05-23T16:51:29.319Z"
   },
   {
    "duration": 6575,
    "start_time": "2024-05-23T16:51:29.323Z"
   },
   {
    "duration": 778,
    "start_time": "2024-05-23T16:51:35.900Z"
   },
   {
    "duration": 3,
    "start_time": "2024-05-23T16:51:36.679Z"
   },
   {
    "duration": 42,
    "start_time": "2024-05-23T16:51:36.683Z"
   },
   {
    "duration": 37,
    "start_time": "2024-05-23T16:51:36.727Z"
   },
   {
    "duration": 46,
    "start_time": "2024-05-23T16:51:36.766Z"
   },
   {
    "duration": 47,
    "start_time": "2024-05-23T16:51:36.813Z"
   },
   {
    "duration": 767,
    "start_time": "2024-05-23T16:51:36.861Z"
   },
   {
    "duration": 3,
    "start_time": "2024-05-23T16:51:37.630Z"
   },
   {
    "duration": 311,
    "start_time": "2024-05-23T16:51:37.635Z"
   },
   {
    "duration": 427,
    "start_time": "2024-05-23T16:51:37.949Z"
   },
   {
    "duration": 6834,
    "start_time": "2024-05-23T16:51:38.378Z"
   },
   {
    "duration": 271,
    "start_time": "2024-05-23T16:51:45.213Z"
   },
   {
    "duration": 568,
    "start_time": "2024-05-23T16:51:45.485Z"
   },
   {
    "duration": 216,
    "start_time": "2024-05-23T16:51:46.054Z"
   },
   {
    "duration": 14665,
    "start_time": "2024-05-23T16:51:46.272Z"
   },
   {
    "duration": 451,
    "start_time": "2024-05-23T16:52:00.938Z"
   },
   {
    "duration": 121,
    "start_time": "2024-05-23T16:52:01.391Z"
   },
   {
    "duration": 122,
    "start_time": "2024-05-23T16:52:01.514Z"
   },
   {
    "duration": 321,
    "start_time": "2024-05-23T16:52:01.638Z"
   },
   {
    "duration": 25,
    "start_time": "2024-05-23T16:52:01.961Z"
   },
   {
    "duration": 7,
    "start_time": "2024-05-23T16:52:01.987Z"
   },
   {
    "duration": 331,
    "start_time": "2024-05-23T16:52:01.995Z"
   },
   {
    "duration": 1150,
    "start_time": "2024-05-23T16:52:02.327Z"
   },
   {
    "duration": 332,
    "start_time": "2024-05-23T16:52:03.478Z"
   },
   {
    "duration": 6,
    "start_time": "2024-05-23T16:52:03.812Z"
   },
   {
    "duration": 8,
    "start_time": "2024-05-23T16:52:03.820Z"
   },
   {
    "duration": 10,
    "start_time": "2024-05-23T16:52:03.829Z"
   },
   {
    "duration": 22,
    "start_time": "2024-05-23T16:52:03.841Z"
   },
   {
    "duration": 28,
    "start_time": "2024-05-23T16:52:03.864Z"
   },
   {
    "duration": 94,
    "start_time": "2024-05-23T16:52:03.894Z"
   },
   {
    "duration": 26,
    "start_time": "2024-05-23T16:52:03.990Z"
   },
   {
    "duration": 11,
    "start_time": "2024-05-23T16:52:04.018Z"
   },
   {
    "duration": 19,
    "start_time": "2024-05-23T16:52:04.031Z"
   },
   {
    "duration": 16,
    "start_time": "2024-05-23T16:52:04.051Z"
   },
   {
    "duration": 13,
    "start_time": "2024-05-23T16:52:04.069Z"
   },
   {
    "duration": 36,
    "start_time": "2024-05-23T16:52:04.083Z"
   },
   {
    "duration": 15,
    "start_time": "2024-05-23T16:52:04.125Z"
   },
   {
    "duration": 23,
    "start_time": "2024-05-23T16:52:04.142Z"
   },
   {
    "duration": 18,
    "start_time": "2024-05-23T16:52:04.167Z"
   },
   {
    "duration": 43,
    "start_time": "2024-05-23T16:52:04.187Z"
   },
   {
    "duration": 20,
    "start_time": "2024-05-23T16:52:04.231Z"
   },
   {
    "duration": 17,
    "start_time": "2024-05-23T16:52:04.252Z"
   },
   {
    "duration": 42,
    "start_time": "2024-05-23T16:52:04.270Z"
   },
   {
    "duration": 7,
    "start_time": "2024-05-23T16:52:04.314Z"
   },
   {
    "duration": 12,
    "start_time": "2024-05-23T16:52:04.322Z"
   },
   {
    "duration": 221,
    "start_time": "2024-05-23T16:52:04.336Z"
   },
   {
    "duration": 6,
    "start_time": "2024-05-23T16:52:04.558Z"
   },
   {
    "duration": 7,
    "start_time": "2024-05-23T16:52:04.565Z"
   },
   {
    "duration": 43,
    "start_time": "2024-05-23T16:52:04.574Z"
   },
   {
    "duration": 35,
    "start_time": "2024-05-23T16:52:04.619Z"
   },
   {
    "duration": 36,
    "start_time": "2024-05-23T16:52:04.655Z"
   },
   {
    "duration": 9,
    "start_time": "2024-05-23T16:52:04.693Z"
   },
   {
    "duration": 21,
    "start_time": "2024-05-23T16:52:04.703Z"
   },
   {
    "duration": 17,
    "start_time": "2024-05-23T16:52:04.725Z"
   },
   {
    "duration": 23,
    "start_time": "2024-05-23T16:52:04.743Z"
   },
   {
    "duration": 19,
    "start_time": "2024-05-23T16:52:04.767Z"
   },
   {
    "duration": 46,
    "start_time": "2024-05-23T16:52:04.788Z"
   },
   {
    "duration": 35,
    "start_time": "2024-05-23T16:52:04.836Z"
   },
   {
    "duration": 63,
    "start_time": "2024-05-23T16:52:04.873Z"
   },
   {
    "duration": 84,
    "start_time": "2024-05-23T16:52:04.937Z"
   },
   {
    "duration": 21,
    "start_time": "2024-05-23T16:52:05.022Z"
   },
   {
    "duration": 60,
    "start_time": "2024-05-23T16:52:05.044Z"
   },
   {
    "duration": 39,
    "start_time": "2024-05-23T16:52:05.105Z"
   },
   {
    "duration": 55,
    "start_time": "2024-05-23T16:52:05.146Z"
   },
   {
    "duration": 58,
    "start_time": "2024-05-23T16:52:05.202Z"
   },
   {
    "duration": 29,
    "start_time": "2024-05-23T16:52:05.262Z"
   },
   {
    "duration": 44,
    "start_time": "2024-05-23T16:52:05.293Z"
   },
   {
    "duration": 24,
    "start_time": "2024-05-23T16:52:05.339Z"
   },
   {
    "duration": 18,
    "start_time": "2024-05-23T16:52:05.364Z"
   },
   {
    "duration": 47,
    "start_time": "2024-05-23T16:52:05.384Z"
   },
   {
    "duration": 33,
    "start_time": "2024-05-23T16:52:05.432Z"
   },
   {
    "duration": 70,
    "start_time": "2024-05-23T16:52:05.467Z"
   },
   {
    "duration": 29,
    "start_time": "2024-05-23T16:52:05.538Z"
   },
   {
    "duration": 45,
    "start_time": "2024-05-23T16:52:05.569Z"
   },
   {
    "duration": 34,
    "start_time": "2024-05-23T16:52:05.616Z"
   },
   {
    "duration": 73,
    "start_time": "2024-05-23T16:52:05.652Z"
   },
   {
    "duration": 32,
    "start_time": "2024-05-23T16:52:05.726Z"
   },
   {
    "duration": 38,
    "start_time": "2024-05-23T16:52:05.760Z"
   },
   {
    "duration": 57,
    "start_time": "2024-05-23T16:52:05.800Z"
   },
   {
    "duration": 63,
    "start_time": "2024-05-23T16:52:05.859Z"
   },
   {
    "duration": 31,
    "start_time": "2024-05-23T16:52:05.924Z"
   },
   {
    "duration": 56,
    "start_time": "2024-05-23T16:52:05.956Z"
   },
   {
    "duration": 36,
    "start_time": "2024-05-23T16:52:06.013Z"
   },
   {
    "duration": 37,
    "start_time": "2024-05-23T16:52:06.050Z"
   },
   {
    "duration": 42,
    "start_time": "2024-05-23T16:52:06.088Z"
   },
   {
    "duration": 146,
    "start_time": "2024-05-23T16:52:06.132Z"
   },
   {
    "duration": 238,
    "start_time": "2024-05-23T16:52:06.280Z"
   },
   {
    "duration": 320,
    "start_time": "2024-05-23T16:52:06.520Z"
   },
   {
    "duration": 35,
    "start_time": "2024-05-23T16:53:20.512Z"
   },
   {
    "duration": 50,
    "start_time": "2024-05-23T16:53:54.805Z"
   },
   {
    "duration": 34,
    "start_time": "2024-05-23T16:53:55.023Z"
   },
   {
    "duration": 30,
    "start_time": "2024-05-23T16:54:02.113Z"
   },
   {
    "duration": 38,
    "start_time": "2024-05-23T16:54:02.562Z"
   },
   {
    "duration": 26,
    "start_time": "2024-05-23T16:54:26.274Z"
   },
   {
    "duration": 27,
    "start_time": "2024-05-23T16:55:06.682Z"
   },
   {
    "duration": 22,
    "start_time": "2024-05-23T16:55:06.873Z"
   },
   {
    "duration": 30,
    "start_time": "2024-05-23T16:55:07.224Z"
   },
   {
    "duration": 133,
    "start_time": "2024-05-23T16:55:08.016Z"
   },
   {
    "duration": 100,
    "start_time": "2024-05-23T16:55:08.286Z"
   },
   {
    "duration": 310,
    "start_time": "2024-05-23T16:55:08.704Z"
   },
   {
    "duration": 710,
    "start_time": "2024-05-23T17:23:54.078Z"
   },
   {
    "duration": 3,
    "start_time": "2024-05-23T17:23:54.790Z"
   },
   {
    "duration": 6,
    "start_time": "2024-05-23T17:23:54.794Z"
   },
   {
    "duration": 6841,
    "start_time": "2024-05-23T17:23:54.801Z"
   },
   {
    "duration": 814,
    "start_time": "2024-05-23T17:24:01.644Z"
   },
   {
    "duration": 3,
    "start_time": "2024-05-23T17:24:02.460Z"
   },
   {
    "duration": 41,
    "start_time": "2024-05-23T17:24:02.464Z"
   },
   {
    "duration": 39,
    "start_time": "2024-05-23T17:24:02.507Z"
   },
   {
    "duration": 49,
    "start_time": "2024-05-23T17:24:02.547Z"
   },
   {
    "duration": 49,
    "start_time": "2024-05-23T17:24:02.598Z"
   },
   {
    "duration": 770,
    "start_time": "2024-05-23T17:24:02.649Z"
   },
   {
    "duration": 4,
    "start_time": "2024-05-23T17:24:03.421Z"
   },
   {
    "duration": 296,
    "start_time": "2024-05-23T17:24:03.426Z"
   },
   {
    "duration": 414,
    "start_time": "2024-05-23T17:24:03.725Z"
   },
   {
    "duration": 566,
    "start_time": "2024-05-23T17:24:04.140Z"
   },
   {
    "duration": 275,
    "start_time": "2024-05-23T17:24:04.708Z"
   },
   {
    "duration": 547,
    "start_time": "2024-05-23T17:24:04.984Z"
   },
   {
    "duration": 216,
    "start_time": "2024-05-23T17:24:05.532Z"
   },
   {
    "duration": 12975,
    "start_time": "2024-05-23T17:24:05.750Z"
   },
   {
    "duration": 434,
    "start_time": "2024-05-23T17:24:18.726Z"
   },
   {
    "duration": 117,
    "start_time": "2024-05-23T17:24:19.162Z"
   },
   {
    "duration": 117,
    "start_time": "2024-05-23T17:24:19.280Z"
   },
   {
    "duration": 310,
    "start_time": "2024-05-23T17:24:19.399Z"
   },
   {
    "duration": 26,
    "start_time": "2024-05-23T17:24:19.710Z"
   },
   {
    "duration": 3,
    "start_time": "2024-05-23T17:24:19.737Z"
   },
   {
    "duration": 329,
    "start_time": "2024-05-23T17:24:19.742Z"
   },
   {
    "duration": 1152,
    "start_time": "2024-05-23T17:24:20.073Z"
   },
   {
    "duration": 300,
    "start_time": "2024-05-23T17:24:21.227Z"
   },
   {
    "duration": 7,
    "start_time": "2024-05-23T17:24:21.529Z"
   },
   {
    "duration": 10,
    "start_time": "2024-05-23T17:24:21.540Z"
   },
   {
    "duration": 7,
    "start_time": "2024-05-23T17:24:21.551Z"
   },
   {
    "duration": 21,
    "start_time": "2024-05-23T17:24:21.559Z"
   },
   {
    "duration": 45,
    "start_time": "2024-05-23T17:24:21.581Z"
   },
   {
    "duration": 85,
    "start_time": "2024-05-23T17:24:21.627Z"
   },
   {
    "duration": 15,
    "start_time": "2024-05-23T17:24:21.713Z"
   },
   {
    "duration": 10,
    "start_time": "2024-05-23T17:24:21.730Z"
   },
   {
    "duration": 16,
    "start_time": "2024-05-23T17:24:21.742Z"
   },
   {
    "duration": 15,
    "start_time": "2024-05-23T17:24:21.760Z"
   },
   {
    "duration": 4,
    "start_time": "2024-05-23T17:24:21.776Z"
   },
   {
    "duration": 46,
    "start_time": "2024-05-23T17:24:21.781Z"
   },
   {
    "duration": 14,
    "start_time": "2024-05-23T17:24:21.831Z"
   },
   {
    "duration": 22,
    "start_time": "2024-05-23T17:24:21.847Z"
   },
   {
    "duration": 18,
    "start_time": "2024-05-23T17:24:21.870Z"
   },
   {
    "duration": 50,
    "start_time": "2024-05-23T17:24:21.889Z"
   },
   {
    "duration": 20,
    "start_time": "2024-05-23T17:24:21.940Z"
   },
   {
    "duration": 15,
    "start_time": "2024-05-23T17:24:21.961Z"
   },
   {
    "duration": 35,
    "start_time": "2024-05-23T17:24:21.977Z"
   },
   {
    "duration": 5,
    "start_time": "2024-05-23T17:24:22.013Z"
   },
   {
    "duration": 10,
    "start_time": "2024-05-23T17:24:22.019Z"
   },
   {
    "duration": 218,
    "start_time": "2024-05-23T17:24:22.030Z"
   },
   {
    "duration": 6,
    "start_time": "2024-05-23T17:24:22.250Z"
   },
   {
    "duration": 6,
    "start_time": "2024-05-23T17:24:22.257Z"
   },
   {
    "duration": 30,
    "start_time": "2024-05-23T17:24:22.264Z"
   },
   {
    "duration": 38,
    "start_time": "2024-05-23T17:24:22.295Z"
   },
   {
    "duration": 34,
    "start_time": "2024-05-23T17:24:22.334Z"
   },
   {
    "duration": 5,
    "start_time": "2024-05-23T17:24:22.369Z"
   },
   {
    "duration": 14,
    "start_time": "2024-05-23T17:24:22.375Z"
   },
   {
    "duration": 33,
    "start_time": "2024-05-23T17:24:22.391Z"
   },
   {
    "duration": 20,
    "start_time": "2024-05-23T17:24:22.426Z"
   },
   {
    "duration": 17,
    "start_time": "2024-05-23T17:24:22.448Z"
   },
   {
    "duration": 29,
    "start_time": "2024-05-23T17:24:22.466Z"
   },
   {
    "duration": 32,
    "start_time": "2024-05-23T17:24:22.512Z"
   },
   {
    "duration": 51,
    "start_time": "2024-05-23T17:24:22.546Z"
   },
   {
    "duration": 85,
    "start_time": "2024-05-23T17:24:22.613Z"
   },
   {
    "duration": 23,
    "start_time": "2024-05-23T17:24:22.700Z"
   },
   {
    "duration": 42,
    "start_time": "2024-05-23T17:24:22.725Z"
   },
   {
    "duration": 45,
    "start_time": "2024-05-23T17:24:22.768Z"
   },
   {
    "duration": 43,
    "start_time": "2024-05-23T17:24:22.815Z"
   },
   {
    "duration": 39,
    "start_time": "2024-05-23T17:24:22.860Z"
   },
   {
    "duration": 28,
    "start_time": "2024-05-23T17:24:22.912Z"
   },
   {
    "duration": 70,
    "start_time": "2024-05-23T17:24:22.942Z"
   },
   {
    "duration": 39,
    "start_time": "2024-05-23T17:24:23.014Z"
   },
   {
    "duration": 28,
    "start_time": "2024-05-23T17:24:23.055Z"
   },
   {
    "duration": 41,
    "start_time": "2024-05-23T17:24:23.084Z"
   },
   {
    "duration": 37,
    "start_time": "2024-05-23T17:24:23.127Z"
   },
   {
    "duration": 67,
    "start_time": "2024-05-23T17:24:23.166Z"
   },
   {
    "duration": 36,
    "start_time": "2024-05-23T17:24:23.234Z"
   },
   {
    "duration": 41,
    "start_time": "2024-05-23T17:24:23.271Z"
   },
   {
    "duration": 34,
    "start_time": "2024-05-23T17:24:23.314Z"
   },
   {
    "duration": 62,
    "start_time": "2024-05-23T17:24:23.350Z"
   },
   {
    "duration": 30,
    "start_time": "2024-05-23T17:24:23.413Z"
   },
   {
    "duration": 31,
    "start_time": "2024-05-23T17:24:23.444Z"
   },
   {
    "duration": 45,
    "start_time": "2024-05-23T17:24:23.476Z"
   },
   {
    "duration": 60,
    "start_time": "2024-05-23T17:24:23.523Z"
   },
   {
    "duration": 44,
    "start_time": "2024-05-23T17:24:23.585Z"
   },
   {
    "duration": 40,
    "start_time": "2024-05-23T17:24:23.631Z"
   },
   {
    "duration": 39,
    "start_time": "2024-05-23T17:24:23.673Z"
   },
   {
    "duration": 26,
    "start_time": "2024-05-23T17:24:23.713Z"
   },
   {
    "duration": 43,
    "start_time": "2024-05-23T17:24:23.740Z"
   },
   {
    "duration": 37,
    "start_time": "2024-05-23T17:24:23.785Z"
   },
   {
    "duration": 32,
    "start_time": "2024-05-23T17:24:23.823Z"
   },
   {
    "duration": 37,
    "start_time": "2024-05-23T17:24:23.856Z"
   },
   {
    "duration": 32,
    "start_time": "2024-05-23T17:24:23.894Z"
   },
   {
    "duration": 18,
    "start_time": "2024-05-23T17:24:23.927Z"
   },
   {
    "duration": 24,
    "start_time": "2024-05-23T17:24:23.947Z"
   },
   {
    "duration": 163,
    "start_time": "2024-05-23T17:24:23.973Z"
   },
   {
    "duration": 233,
    "start_time": "2024-05-23T17:24:24.137Z"
   },
   {
    "duration": 294,
    "start_time": "2024-05-23T17:24:24.372Z"
   },
   {
    "duration": 316,
    "start_time": "2024-05-23T17:31:57.989Z"
   },
   {
    "duration": 75,
    "start_time": "2024-05-23T17:40:21.786Z"
   },
   {
    "duration": 657,
    "start_time": "2024-05-23T17:40:44.429Z"
   },
   {
    "duration": 244,
    "start_time": "2024-05-23T17:40:55.414Z"
   },
   {
    "duration": 318,
    "start_time": "2024-05-23T17:41:44.880Z"
   },
   {
    "duration": 44,
    "start_time": "2024-05-23T17:42:16.385Z"
   },
   {
    "duration": 824,
    "start_time": "2024-05-23T17:43:29.511Z"
   },
   {
    "duration": 1527,
    "start_time": "2024-05-23T17:43:31.488Z"
   },
   {
    "duration": 8,
    "start_time": "2024-05-23T17:45:02.097Z"
   },
   {
    "duration": 8,
    "start_time": "2024-05-23T17:45:05.225Z"
   },
   {
    "duration": 8,
    "start_time": "2024-05-23T17:45:05.546Z"
   },
   {
    "duration": 25,
    "start_time": "2024-05-23T17:45:07.993Z"
   },
   {
    "duration": 40,
    "start_time": "2024-05-23T17:45:08.424Z"
   },
   {
    "duration": 108,
    "start_time": "2024-05-23T17:45:08.862Z"
   },
   {
    "duration": 2124,
    "start_time": "2024-05-23T17:45:43.271Z"
   },
   {
    "duration": 751,
    "start_time": "2024-05-23T17:45:45.397Z"
   },
   {
    "duration": 41,
    "start_time": "2024-05-23T17:45:47.111Z"
   },
   {
    "duration": 44,
    "start_time": "2024-05-23T17:45:47.672Z"
   },
   {
    "duration": 103,
    "start_time": "2024-05-23T17:45:47.883Z"
   },
   {
    "duration": 101,
    "start_time": "2024-05-23T17:46:16.715Z"
   },
   {
    "duration": 44,
    "start_time": "2024-05-23T17:47:58.631Z"
   },
   {
    "duration": 15,
    "start_time": "2024-05-23T17:47:58.827Z"
   },
   {
    "duration": 2,
    "start_time": "2024-05-23T17:47:59.074Z"
   },
   {
    "duration": 188,
    "start_time": "2024-05-23T17:48:26.362Z"
   },
   {
    "duration": 42,
    "start_time": "2024-05-23T17:48:40.426Z"
   },
   {
    "duration": 2,
    "start_time": "2024-05-23T17:48:40.613Z"
   },
   {
    "duration": 106,
    "start_time": "2024-05-23T17:48:40.806Z"
   },
   {
    "duration": 3348,
    "start_time": "2024-05-23T17:49:49.300Z"
   },
   {
    "duration": 2249,
    "start_time": "2024-05-23T17:51:01.838Z"
   },
   {
    "duration": 901,
    "start_time": "2024-05-23T17:51:05.008Z"
   },
   {
    "duration": 22,
    "start_time": "2024-05-23T17:51:07.164Z"
   },
   {
    "duration": 33,
    "start_time": "2024-05-23T17:51:08.951Z"
   },
   {
    "duration": 3,
    "start_time": "2024-05-23T17:51:09.602Z"
   },
   {
    "duration": 103,
    "start_time": "2024-05-23T17:51:10.580Z"
   },
   {
    "duration": 45917,
    "start_time": "2024-05-23T17:51:13.306Z"
   },
   {
    "duration": 3,
    "start_time": "2024-05-23T17:53:30.758Z"
   },
   {
    "duration": 2169,
    "start_time": "2024-05-23T17:54:17.670Z"
   },
   {
    "duration": 817,
    "start_time": "2024-05-23T17:54:19.841Z"
   },
   {
    "duration": 20,
    "start_time": "2024-05-23T17:54:20.659Z"
   },
   {
    "duration": 30,
    "start_time": "2024-05-23T17:54:25.267Z"
   },
   {
    "duration": 1328,
    "start_time": "2024-05-23T18:00:03.459Z"
   },
   {
    "duration": 2,
    "start_time": "2024-05-23T18:00:04.789Z"
   },
   {
    "duration": 24,
    "start_time": "2024-05-23T18:00:04.792Z"
   },
   {
    "duration": 6701,
    "start_time": "2024-05-23T18:00:04.818Z"
   },
   {
    "duration": 769,
    "start_time": "2024-05-23T18:00:11.521Z"
   },
   {
    "duration": 3,
    "start_time": "2024-05-23T18:00:12.291Z"
   },
   {
    "duration": 40,
    "start_time": "2024-05-23T18:00:12.295Z"
   },
   {
    "duration": 38,
    "start_time": "2024-05-23T18:00:12.337Z"
   },
   {
    "duration": 47,
    "start_time": "2024-05-23T18:00:12.376Z"
   },
   {
    "duration": 47,
    "start_time": "2024-05-23T18:00:12.425Z"
   },
   {
    "duration": 721,
    "start_time": "2024-05-23T18:00:12.473Z"
   },
   {
    "duration": 4,
    "start_time": "2024-05-23T18:00:13.196Z"
   },
   {
    "duration": 310,
    "start_time": "2024-05-23T18:00:13.201Z"
   },
   {
    "duration": 387,
    "start_time": "2024-05-23T18:00:13.513Z"
   },
   {
    "duration": 549,
    "start_time": "2024-05-23T18:00:13.901Z"
   },
   {
    "duration": 324,
    "start_time": "2024-05-23T18:00:14.452Z"
   },
   {
    "duration": 1639,
    "start_time": "2024-05-23T18:00:14.778Z"
   },
   {
    "duration": 221,
    "start_time": "2024-05-23T18:00:16.419Z"
   },
   {
    "duration": 13287,
    "start_time": "2024-05-23T18:00:16.642Z"
   },
   {
    "duration": 433,
    "start_time": "2024-05-23T18:00:29.931Z"
   },
   {
    "duration": 118,
    "start_time": "2024-05-23T18:00:30.365Z"
   },
   {
    "duration": 122,
    "start_time": "2024-05-23T18:00:30.484Z"
   },
   {
    "duration": 331,
    "start_time": "2024-05-23T18:00:30.608Z"
   },
   {
    "duration": 25,
    "start_time": "2024-05-23T18:00:30.941Z"
   },
   {
    "duration": 47,
    "start_time": "2024-05-23T18:00:30.967Z"
   },
   {
    "duration": 385,
    "start_time": "2024-05-23T18:00:31.016Z"
   },
   {
    "duration": 1160,
    "start_time": "2024-05-23T18:00:31.403Z"
   },
   {
    "duration": 309,
    "start_time": "2024-05-23T18:00:32.566Z"
   },
   {
    "duration": 6,
    "start_time": "2024-05-23T18:00:32.876Z"
   },
   {
    "duration": 7,
    "start_time": "2024-05-23T18:00:32.884Z"
   },
   {
    "duration": 20,
    "start_time": "2024-05-23T18:00:32.892Z"
   },
   {
    "duration": 21,
    "start_time": "2024-05-23T18:00:32.914Z"
   },
   {
    "duration": 19,
    "start_time": "2024-05-23T18:00:32.936Z"
   },
   {
    "duration": 102,
    "start_time": "2024-05-23T18:00:32.956Z"
   },
   {
    "duration": 15,
    "start_time": "2024-05-23T18:00:33.059Z"
   },
   {
    "duration": 11,
    "start_time": "2024-05-23T18:00:33.075Z"
   },
   {
    "duration": 34,
    "start_time": "2024-05-23T18:00:33.087Z"
   },
   {
    "duration": 16,
    "start_time": "2024-05-23T18:00:33.123Z"
   },
   {
    "duration": 4,
    "start_time": "2024-05-23T18:00:33.140Z"
   },
   {
    "duration": 17,
    "start_time": "2024-05-23T18:00:33.145Z"
   },
   {
    "duration": 14,
    "start_time": "2024-05-23T18:00:33.164Z"
   },
   {
    "duration": 47,
    "start_time": "2024-05-23T18:00:33.179Z"
   },
   {
    "duration": 20,
    "start_time": "2024-05-23T18:00:33.228Z"
   },
   {
    "duration": 21,
    "start_time": "2024-05-23T18:00:33.249Z"
   },
   {
    "duration": 18,
    "start_time": "2024-05-23T18:00:33.272Z"
   },
   {
    "duration": 33,
    "start_time": "2024-05-23T18:00:33.291Z"
   },
   {
    "duration": 26,
    "start_time": "2024-05-23T18:00:33.326Z"
   },
   {
    "duration": 5,
    "start_time": "2024-05-23T18:00:33.353Z"
   },
   {
    "duration": 8,
    "start_time": "2024-05-23T18:00:33.359Z"
   },
   {
    "duration": 244,
    "start_time": "2024-05-23T18:00:33.369Z"
   },
   {
    "duration": 7,
    "start_time": "2024-05-23T18:00:33.615Z"
   },
   {
    "duration": 10,
    "start_time": "2024-05-23T18:00:33.626Z"
   },
   {
    "duration": 32,
    "start_time": "2024-05-23T18:00:33.638Z"
   },
   {
    "duration": 45,
    "start_time": "2024-05-23T18:00:33.672Z"
   },
   {
    "duration": 37,
    "start_time": "2024-05-23T18:00:33.718Z"
   },
   {
    "duration": 5,
    "start_time": "2024-05-23T18:00:33.757Z"
   },
   {
    "duration": 18,
    "start_time": "2024-05-23T18:00:33.763Z"
   },
   {
    "duration": 31,
    "start_time": "2024-05-23T18:00:33.782Z"
   },
   {
    "duration": 21,
    "start_time": "2024-05-23T18:00:33.814Z"
   },
   {
    "duration": 19,
    "start_time": "2024-05-23T18:00:33.836Z"
   },
   {
    "duration": 28,
    "start_time": "2024-05-23T18:00:33.856Z"
   },
   {
    "duration": 51,
    "start_time": "2024-05-23T18:00:33.886Z"
   },
   {
    "duration": 68,
    "start_time": "2024-05-23T18:00:33.938Z"
   },
   {
    "duration": 73,
    "start_time": "2024-05-23T18:00:34.008Z"
   },
   {
    "duration": 20,
    "start_time": "2024-05-23T18:00:34.082Z"
   },
   {
    "duration": 53,
    "start_time": "2024-05-23T18:00:34.103Z"
   },
   {
    "duration": 31,
    "start_time": "2024-05-23T18:00:34.158Z"
   },
   {
    "duration": 39,
    "start_time": "2024-05-23T18:00:34.190Z"
   },
   {
    "duration": 37,
    "start_time": "2024-05-23T18:00:34.230Z"
   },
   {
    "duration": 27,
    "start_time": "2024-05-23T18:00:34.268Z"
   },
   {
    "duration": 57,
    "start_time": "2024-05-23T18:00:34.296Z"
   },
   {
    "duration": 20,
    "start_time": "2024-05-23T18:00:34.354Z"
   },
   {
    "duration": 18,
    "start_time": "2024-05-23T18:00:34.375Z"
   },
   {
    "duration": 49,
    "start_time": "2024-05-23T18:00:34.395Z"
   },
   {
    "duration": 29,
    "start_time": "2024-05-23T18:00:34.446Z"
   },
   {
    "duration": 76,
    "start_time": "2024-05-23T18:00:34.477Z"
   },
   {
    "duration": 31,
    "start_time": "2024-05-23T18:00:34.554Z"
   },
   {
    "duration": 56,
    "start_time": "2024-05-23T18:00:34.586Z"
   },
   {
    "duration": 33,
    "start_time": "2024-05-23T18:00:34.643Z"
   },
   {
    "duration": 64,
    "start_time": "2024-05-23T18:00:34.678Z"
   },
   {
    "duration": 29,
    "start_time": "2024-05-23T18:00:34.743Z"
   },
   {
    "duration": 54,
    "start_time": "2024-05-23T18:00:34.778Z"
   },
   {
    "duration": 34,
    "start_time": "2024-05-23T18:00:34.833Z"
   },
   {
    "duration": 70,
    "start_time": "2024-05-23T18:00:34.868Z"
   },
   {
    "duration": 30,
    "start_time": "2024-05-23T18:00:34.939Z"
   },
   {
    "duration": 46,
    "start_time": "2024-05-23T18:00:34.971Z"
   },
   {
    "duration": 34,
    "start_time": "2024-05-23T18:00:35.018Z"
   },
   {
    "duration": 40,
    "start_time": "2024-05-23T18:00:35.054Z"
   },
   {
    "duration": 55,
    "start_time": "2024-05-23T18:00:35.095Z"
   },
   {
    "duration": 32,
    "start_time": "2024-05-23T18:00:35.152Z"
   },
   {
    "duration": 41,
    "start_time": "2024-05-23T18:00:35.186Z"
   },
   {
    "duration": 39,
    "start_time": "2024-05-23T18:00:35.228Z"
   },
   {
    "duration": 26,
    "start_time": "2024-05-23T18:00:35.268Z"
   },
   {
    "duration": 35,
    "start_time": "2024-05-23T18:00:35.295Z"
   },
   {
    "duration": 27,
    "start_time": "2024-05-23T18:00:35.331Z"
   },
   {
    "duration": 144,
    "start_time": "2024-05-23T18:00:35.360Z"
   },
   {
    "duration": 234,
    "start_time": "2024-05-23T18:00:35.506Z"
   },
   {
    "duration": 326,
    "start_time": "2024-05-23T18:00:35.742Z"
   },
   {
    "duration": 332,
    "start_time": "2024-05-23T18:00:36.070Z"
   },
   {
    "duration": 722,
    "start_time": "2024-05-23T18:00:36.403Z"
   },
   {
    "duration": 121,
    "start_time": "2024-05-23T18:00:37.126Z"
   },
   {
    "duration": 0,
    "start_time": "2024-05-23T18:00:37.248Z"
   },
   {
    "duration": 0,
    "start_time": "2024-05-23T18:00:37.250Z"
   },
   {
    "duration": 0,
    "start_time": "2024-05-23T18:00:37.251Z"
   },
   {
    "duration": 0,
    "start_time": "2024-05-23T18:00:37.252Z"
   },
   {
    "duration": 0,
    "start_time": "2024-05-23T18:00:37.253Z"
   },
   {
    "duration": 0,
    "start_time": "2024-05-23T18:00:37.254Z"
   },
   {
    "duration": 1363,
    "start_time": "2024-05-23T18:02:41.106Z"
   },
   {
    "duration": 3,
    "start_time": "2024-05-23T18:02:42.471Z"
   },
   {
    "duration": 10,
    "start_time": "2024-05-23T18:02:42.475Z"
   },
   {
    "duration": 6616,
    "start_time": "2024-05-23T18:02:42.486Z"
   },
   {
    "duration": 754,
    "start_time": "2024-05-23T18:02:49.103Z"
   },
   {
    "duration": 3,
    "start_time": "2024-05-23T18:02:49.859Z"
   },
   {
    "duration": 40,
    "start_time": "2024-05-23T18:02:49.863Z"
   },
   {
    "duration": 38,
    "start_time": "2024-05-23T18:02:49.904Z"
   },
   {
    "duration": 47,
    "start_time": "2024-05-23T18:02:49.944Z"
   },
   {
    "duration": 47,
    "start_time": "2024-05-23T18:02:49.993Z"
   },
   {
    "duration": 741,
    "start_time": "2024-05-23T18:02:50.042Z"
   },
   {
    "duration": 4,
    "start_time": "2024-05-23T18:02:50.784Z"
   },
   {
    "duration": 301,
    "start_time": "2024-05-23T18:02:50.789Z"
   },
   {
    "duration": 391,
    "start_time": "2024-05-23T18:02:51.092Z"
   },
   {
    "duration": 527,
    "start_time": "2024-05-23T18:02:51.485Z"
   },
   {
    "duration": 323,
    "start_time": "2024-05-23T18:02:52.014Z"
   },
   {
    "duration": 520,
    "start_time": "2024-05-23T18:02:52.338Z"
   },
   {
    "duration": 218,
    "start_time": "2024-05-23T18:02:52.860Z"
   },
   {
    "duration": 13339,
    "start_time": "2024-05-23T18:02:53.079Z"
   },
   {
    "duration": 447,
    "start_time": "2024-05-23T18:03:06.420Z"
   },
   {
    "duration": 118,
    "start_time": "2024-05-23T18:03:06.868Z"
   },
   {
    "duration": 133,
    "start_time": "2024-05-23T18:03:06.987Z"
   },
   {
    "duration": 327,
    "start_time": "2024-05-23T18:03:07.121Z"
   },
   {
    "duration": 24,
    "start_time": "2024-05-23T18:03:07.450Z"
   },
   {
    "duration": 3,
    "start_time": "2024-05-23T18:03:07.476Z"
   },
   {
    "duration": 336,
    "start_time": "2024-05-23T18:03:07.480Z"
   },
   {
    "duration": 1180,
    "start_time": "2024-05-23T18:03:07.818Z"
   },
   {
    "duration": 311,
    "start_time": "2024-05-23T18:03:09.001Z"
   },
   {
    "duration": 6,
    "start_time": "2024-05-23T18:03:09.313Z"
   },
   {
    "duration": 7,
    "start_time": "2024-05-23T18:03:09.320Z"
   },
   {
    "duration": 6,
    "start_time": "2024-05-23T18:03:09.328Z"
   },
   {
    "duration": 21,
    "start_time": "2024-05-23T18:03:09.335Z"
   },
   {
    "duration": 25,
    "start_time": "2024-05-23T18:03:09.357Z"
   },
   {
    "duration": 105,
    "start_time": "2024-05-23T18:03:09.384Z"
   },
   {
    "duration": 25,
    "start_time": "2024-05-23T18:03:09.490Z"
   },
   {
    "duration": 10,
    "start_time": "2024-05-23T18:03:09.517Z"
   },
   {
    "duration": 15,
    "start_time": "2024-05-23T18:03:09.528Z"
   },
   {
    "duration": 15,
    "start_time": "2024-05-23T18:03:09.544Z"
   },
   {
    "duration": 4,
    "start_time": "2024-05-23T18:03:09.560Z"
   },
   {
    "duration": 15,
    "start_time": "2024-05-23T18:03:09.565Z"
   },
   {
    "duration": 40,
    "start_time": "2024-05-23T18:03:09.582Z"
   },
   {
    "duration": 28,
    "start_time": "2024-05-23T18:03:09.623Z"
   },
   {
    "duration": 18,
    "start_time": "2024-05-23T18:03:09.653Z"
   },
   {
    "duration": 21,
    "start_time": "2024-05-23T18:03:09.672Z"
   },
   {
    "duration": 33,
    "start_time": "2024-05-23T18:03:09.695Z"
   },
   {
    "duration": 16,
    "start_time": "2024-05-23T18:03:09.729Z"
   },
   {
    "duration": 18,
    "start_time": "2024-05-23T18:03:09.746Z"
   },
   {
    "duration": 4,
    "start_time": "2024-05-23T18:03:09.766Z"
   },
   {
    "duration": 14,
    "start_time": "2024-05-23T18:03:09.772Z"
   },
   {
    "duration": 227,
    "start_time": "2024-05-23T18:03:09.787Z"
   },
   {
    "duration": 7,
    "start_time": "2024-05-23T18:03:10.016Z"
   },
   {
    "duration": 19,
    "start_time": "2024-05-23T18:03:10.024Z"
   },
   {
    "duration": 34,
    "start_time": "2024-05-23T18:03:10.045Z"
   },
   {
    "duration": 25,
    "start_time": "2024-05-23T18:03:10.081Z"
   },
   {
    "duration": 35,
    "start_time": "2024-05-23T18:03:10.107Z"
   },
   {
    "duration": 5,
    "start_time": "2024-05-23T18:03:10.144Z"
   },
   {
    "duration": 14,
    "start_time": "2024-05-23T18:03:10.151Z"
   },
   {
    "duration": 16,
    "start_time": "2024-05-23T18:03:10.167Z"
   },
   {
    "duration": 45,
    "start_time": "2024-05-23T18:03:10.184Z"
   },
   {
    "duration": 18,
    "start_time": "2024-05-23T18:03:10.230Z"
   },
   {
    "duration": 28,
    "start_time": "2024-05-23T18:03:10.249Z"
   },
   {
    "duration": 47,
    "start_time": "2024-05-23T18:03:10.278Z"
   },
   {
    "duration": 63,
    "start_time": "2024-05-23T18:03:10.326Z"
   },
   {
    "duration": 81,
    "start_time": "2024-05-23T18:03:10.391Z"
   },
   {
    "duration": 19,
    "start_time": "2024-05-23T18:03:10.474Z"
   },
   {
    "duration": 53,
    "start_time": "2024-05-23T18:03:10.494Z"
   },
   {
    "duration": 31,
    "start_time": "2024-05-23T18:03:10.548Z"
   },
   {
    "duration": 35,
    "start_time": "2024-05-23T18:03:10.580Z"
   },
   {
    "duration": 34,
    "start_time": "2024-05-23T18:03:10.617Z"
   },
   {
    "duration": 26,
    "start_time": "2024-05-23T18:03:10.652Z"
   },
   {
    "duration": 56,
    "start_time": "2024-05-23T18:03:10.680Z"
   },
   {
    "duration": 23,
    "start_time": "2024-05-23T18:03:10.737Z"
   },
   {
    "duration": 17,
    "start_time": "2024-05-23T18:03:10.761Z"
   },
   {
    "duration": 46,
    "start_time": "2024-05-23T18:03:10.779Z"
   },
   {
    "duration": 32,
    "start_time": "2024-05-23T18:03:10.826Z"
   },
   {
    "duration": 64,
    "start_time": "2024-05-23T18:03:10.859Z"
   },
   {
    "duration": 38,
    "start_time": "2024-05-23T18:03:10.924Z"
   },
   {
    "duration": 52,
    "start_time": "2024-05-23T18:03:10.963Z"
   },
   {
    "duration": 30,
    "start_time": "2024-05-23T18:03:11.017Z"
   },
   {
    "duration": 51,
    "start_time": "2024-05-23T18:03:11.049Z"
   },
   {
    "duration": 41,
    "start_time": "2024-05-23T18:03:11.102Z"
   },
   {
    "duration": 37,
    "start_time": "2024-05-23T18:03:11.149Z"
   },
   {
    "duration": 48,
    "start_time": "2024-05-23T18:03:11.188Z"
   },
   {
    "duration": 55,
    "start_time": "2024-05-23T18:03:11.237Z"
   },
   {
    "duration": 44,
    "start_time": "2024-05-23T18:03:11.293Z"
   },
   {
    "duration": 39,
    "start_time": "2024-05-23T18:03:11.339Z"
   },
   {
    "duration": 39,
    "start_time": "2024-05-23T18:03:11.379Z"
   },
   {
    "duration": 29,
    "start_time": "2024-05-23T18:03:11.419Z"
   },
   {
    "duration": 36,
    "start_time": "2024-05-23T18:03:11.449Z"
   },
   {
    "duration": 48,
    "start_time": "2024-05-23T18:03:11.486Z"
   },
   {
    "duration": 29,
    "start_time": "2024-05-23T18:03:11.536Z"
   },
   {
    "duration": 49,
    "start_time": "2024-05-23T18:03:11.567Z"
   },
   {
    "duration": 26,
    "start_time": "2024-05-23T18:03:11.617Z"
   },
   {
    "duration": 19,
    "start_time": "2024-05-23T18:03:11.645Z"
   },
   {
    "duration": 24,
    "start_time": "2024-05-23T18:03:11.665Z"
   },
   {
    "duration": 155,
    "start_time": "2024-05-23T18:03:11.690Z"
   },
   {
    "duration": 226,
    "start_time": "2024-05-23T18:03:11.847Z"
   },
   {
    "duration": 313,
    "start_time": "2024-05-23T18:03:12.075Z"
   },
   {
    "duration": 327,
    "start_time": "2024-05-23T18:03:12.390Z"
   },
   {
    "duration": 621,
    "start_time": "2024-05-23T18:03:12.718Z"
   },
   {
    "duration": 1762,
    "start_time": "2024-05-23T18:03:13.341Z"
   },
   {
    "duration": 24,
    "start_time": "2024-05-23T18:03:15.105Z"
   },
   {
    "duration": 33,
    "start_time": "2024-05-23T18:03:15.131Z"
   },
   {
    "duration": 3,
    "start_time": "2024-05-23T18:03:15.166Z"
   },
   {
    "duration": 7,
    "start_time": "2024-05-23T18:03:15.170Z"
   },
   {
    "duration": 3,
    "start_time": "2024-05-23T18:03:15.178Z"
   },
   {
    "duration": 140031,
    "start_time": "2024-05-23T18:03:15.182Z"
   },
   {
    "duration": 3,
    "start_time": "2024-05-23T18:08:18.015Z"
   },
   {
    "duration": 3,
    "start_time": "2024-05-23T18:08:18.226Z"
   },
   {
    "duration": 3,
    "start_time": "2024-05-23T18:08:18.416Z"
   },
   {
    "duration": 10936,
    "start_time": "2024-05-23T18:08:18.618Z"
   },
   {
    "duration": 2,
    "start_time": "2024-05-23T18:12:57.241Z"
   },
   {
    "duration": 3,
    "start_time": "2024-05-23T18:12:57.785Z"
   },
   {
    "duration": 88913,
    "start_time": "2024-05-23T18:12:58.146Z"
   },
   {
    "duration": 2,
    "start_time": "2024-05-23T18:16:57.882Z"
   },
   {
    "duration": 2,
    "start_time": "2024-05-23T18:16:58.300Z"
   },
   {
    "duration": 142102,
    "start_time": "2024-05-23T18:16:58.758Z"
   },
   {
    "duration": 3,
    "start_time": "2024-05-23T18:24:29.124Z"
   },
   {
    "duration": 2,
    "start_time": "2024-05-23T18:24:29.284Z"
   },
   {
    "duration": 3,
    "start_time": "2024-05-23T18:24:29.464Z"
   },
   {
    "duration": 116819,
    "start_time": "2024-05-23T18:24:29.647Z"
   },
   {
    "duration": 9,
    "start_time": "2024-05-23T18:38:59.953Z"
   },
   {
    "duration": 10,
    "start_time": "2024-05-23T18:39:31.580Z"
   },
   {
    "duration": 8,
    "start_time": "2024-05-23T18:41:23.195Z"
   },
   {
    "duration": 1372,
    "start_time": "2024-05-23T18:41:32.428Z"
   },
   {
    "duration": 3,
    "start_time": "2024-05-23T18:41:33.802Z"
   },
   {
    "duration": 37,
    "start_time": "2024-05-23T18:41:33.806Z"
   },
   {
    "duration": 6775,
    "start_time": "2024-05-23T18:41:33.845Z"
   },
   {
    "duration": 787,
    "start_time": "2024-05-23T18:41:40.621Z"
   },
   {
    "duration": 4,
    "start_time": "2024-05-23T18:41:41.410Z"
   },
   {
    "duration": 45,
    "start_time": "2024-05-23T18:41:41.415Z"
   },
   {
    "duration": 39,
    "start_time": "2024-05-23T18:41:41.461Z"
   },
   {
    "duration": 48,
    "start_time": "2024-05-23T18:41:41.501Z"
   },
   {
    "duration": 47,
    "start_time": "2024-05-23T18:41:41.552Z"
   },
   {
    "duration": 750,
    "start_time": "2024-05-23T18:41:41.600Z"
   },
   {
    "duration": 3,
    "start_time": "2024-05-23T18:41:42.352Z"
   },
   {
    "duration": 302,
    "start_time": "2024-05-23T18:41:42.357Z"
   },
   {
    "duration": 371,
    "start_time": "2024-05-23T18:41:42.661Z"
   },
   {
    "duration": 557,
    "start_time": "2024-05-23T18:41:43.034Z"
   },
   {
    "duration": 321,
    "start_time": "2024-05-23T18:41:43.593Z"
   },
   {
    "duration": 529,
    "start_time": "2024-05-23T18:41:43.915Z"
   },
   {
    "duration": 221,
    "start_time": "2024-05-23T18:41:44.445Z"
   },
   {
    "duration": 12928,
    "start_time": "2024-05-23T18:41:44.668Z"
   },
   {
    "duration": 427,
    "start_time": "2024-05-23T18:41:57.597Z"
   },
   {
    "duration": 116,
    "start_time": "2024-05-23T18:41:58.025Z"
   },
   {
    "duration": 120,
    "start_time": "2024-05-23T18:41:58.142Z"
   },
   {
    "duration": 323,
    "start_time": "2024-05-23T18:41:58.263Z"
   },
   {
    "duration": 32,
    "start_time": "2024-05-23T18:41:58.587Z"
   },
   {
    "duration": 2,
    "start_time": "2024-05-23T18:41:58.621Z"
   },
   {
    "duration": 323,
    "start_time": "2024-05-23T18:41:58.625Z"
   },
   {
    "duration": 1121,
    "start_time": "2024-05-23T18:41:58.950Z"
   },
   {
    "duration": 319,
    "start_time": "2024-05-23T18:42:00.076Z"
   },
   {
    "duration": 15,
    "start_time": "2024-05-23T18:42:00.397Z"
   },
   {
    "duration": 30,
    "start_time": "2024-05-23T18:42:00.414Z"
   },
   {
    "duration": 67,
    "start_time": "2024-05-23T18:42:00.446Z"
   },
   {
    "duration": 56,
    "start_time": "2024-05-23T18:42:00.514Z"
   },
   {
    "duration": 53,
    "start_time": "2024-05-23T18:42:00.571Z"
   },
   {
    "duration": 121,
    "start_time": "2024-05-23T18:42:00.626Z"
   },
   {
    "duration": 30,
    "start_time": "2024-05-23T18:42:00.748Z"
   },
   {
    "duration": 45,
    "start_time": "2024-05-23T18:42:00.780Z"
   },
   {
    "duration": 49,
    "start_time": "2024-05-23T18:42:00.826Z"
   },
   {
    "duration": 49,
    "start_time": "2024-05-23T18:42:00.876Z"
   },
   {
    "duration": 42,
    "start_time": "2024-05-23T18:42:00.926Z"
   },
   {
    "duration": 56,
    "start_time": "2024-05-23T18:42:00.969Z"
   },
   {
    "duration": 43,
    "start_time": "2024-05-23T18:42:01.026Z"
   },
   {
    "duration": 59,
    "start_time": "2024-05-23T18:42:01.070Z"
   },
   {
    "duration": 51,
    "start_time": "2024-05-23T18:42:01.131Z"
   },
   {
    "duration": 44,
    "start_time": "2024-05-23T18:42:01.184Z"
   },
   {
    "duration": 46,
    "start_time": "2024-05-23T18:42:01.230Z"
   },
   {
    "duration": 40,
    "start_time": "2024-05-23T18:42:01.278Z"
   },
   {
    "duration": 46,
    "start_time": "2024-05-23T18:42:01.320Z"
   },
   {
    "duration": 11,
    "start_time": "2024-05-23T18:42:01.367Z"
   },
   {
    "duration": 30,
    "start_time": "2024-05-23T18:42:01.379Z"
   },
   {
    "duration": 236,
    "start_time": "2024-05-23T18:42:01.410Z"
   },
   {
    "duration": 6,
    "start_time": "2024-05-23T18:42:01.647Z"
   },
   {
    "duration": 26,
    "start_time": "2024-05-23T18:42:01.654Z"
   },
   {
    "duration": 41,
    "start_time": "2024-05-23T18:42:01.681Z"
   },
   {
    "duration": 33,
    "start_time": "2024-05-23T18:42:01.723Z"
   },
   {
    "duration": 35,
    "start_time": "2024-05-23T18:42:01.757Z"
   },
   {
    "duration": 5,
    "start_time": "2024-05-23T18:42:01.793Z"
   },
   {
    "duration": 26,
    "start_time": "2024-05-23T18:42:01.799Z"
   },
   {
    "duration": 16,
    "start_time": "2024-05-23T18:42:01.826Z"
   },
   {
    "duration": 36,
    "start_time": "2024-05-23T18:42:01.844Z"
   },
   {
    "duration": 28,
    "start_time": "2024-05-23T18:42:01.881Z"
   },
   {
    "duration": 35,
    "start_time": "2024-05-23T18:42:01.911Z"
   },
   {
    "duration": 33,
    "start_time": "2024-05-23T18:42:01.947Z"
   },
   {
    "duration": 59,
    "start_time": "2024-05-23T18:42:01.981Z"
   },
   {
    "duration": 86,
    "start_time": "2024-05-23T18:42:02.041Z"
   },
   {
    "duration": 21,
    "start_time": "2024-05-23T18:42:02.128Z"
   },
   {
    "duration": 62,
    "start_time": "2024-05-23T18:42:02.151Z"
   },
   {
    "duration": 32,
    "start_time": "2024-05-23T18:42:02.214Z"
   },
   {
    "duration": 37,
    "start_time": "2024-05-23T18:42:02.247Z"
   },
   {
    "duration": 47,
    "start_time": "2024-05-23T18:42:02.285Z"
   },
   {
    "duration": 28,
    "start_time": "2024-05-23T18:42:02.333Z"
   },
   {
    "duration": 64,
    "start_time": "2024-05-23T18:42:02.362Z"
   },
   {
    "duration": 20,
    "start_time": "2024-05-23T18:42:02.428Z"
   },
   {
    "duration": 20,
    "start_time": "2024-05-23T18:42:02.450Z"
   },
   {
    "duration": 46,
    "start_time": "2024-05-23T18:42:02.472Z"
   },
   {
    "duration": 31,
    "start_time": "2024-05-23T18:42:02.520Z"
   },
   {
    "duration": 67,
    "start_time": "2024-05-23T18:42:02.552Z"
   },
   {
    "duration": 36,
    "start_time": "2024-05-23T18:42:02.620Z"
   },
   {
    "duration": 38,
    "start_time": "2024-05-23T18:42:02.657Z"
   },
   {
    "duration": 35,
    "start_time": "2024-05-23T18:42:02.696Z"
   },
   {
    "duration": 54,
    "start_time": "2024-05-23T18:42:02.732Z"
   },
   {
    "duration": 45,
    "start_time": "2024-05-23T18:42:02.788Z"
   },
   {
    "duration": 37,
    "start_time": "2024-05-23T18:42:02.839Z"
   },
   {
    "duration": 57,
    "start_time": "2024-05-23T18:42:02.877Z"
   },
   {
    "duration": 80,
    "start_time": "2024-05-23T18:42:02.935Z"
   },
   {
    "duration": 41,
    "start_time": "2024-05-23T18:42:03.016Z"
   },
   {
    "duration": 65,
    "start_time": "2024-05-23T18:42:03.058Z"
   },
   {
    "duration": 33,
    "start_time": "2024-05-23T18:42:03.125Z"
   },
   {
    "duration": 71,
    "start_time": "2024-05-23T18:42:03.160Z"
   },
   {
    "duration": 45,
    "start_time": "2024-05-23T18:42:03.233Z"
   },
   {
    "duration": 36,
    "start_time": "2024-05-23T18:42:03.279Z"
   },
   {
    "duration": 77,
    "start_time": "2024-05-23T18:42:03.316Z"
   },
   {
    "duration": 55,
    "start_time": "2024-05-23T18:42:03.395Z"
   },
   {
    "duration": 24,
    "start_time": "2024-05-23T18:42:03.452Z"
   },
   {
    "duration": 25,
    "start_time": "2024-05-23T18:42:03.477Z"
   },
   {
    "duration": 39,
    "start_time": "2024-05-23T18:42:03.504Z"
   },
   {
    "duration": 157,
    "start_time": "2024-05-23T18:42:03.545Z"
   },
   {
    "duration": 236,
    "start_time": "2024-05-23T18:42:03.704Z"
   },
   {
    "duration": 318,
    "start_time": "2024-05-23T18:42:03.942Z"
   },
   {
    "duration": 333,
    "start_time": "2024-05-23T18:42:04.261Z"
   },
   {
    "duration": 666,
    "start_time": "2024-05-23T18:42:04.596Z"
   },
   {
    "duration": 1745,
    "start_time": "2024-05-23T18:42:05.264Z"
   },
   {
    "duration": 20,
    "start_time": "2024-05-23T18:42:07.012Z"
   },
   {
    "duration": 32,
    "start_time": "2024-05-23T18:42:07.033Z"
   },
   {
    "duration": 3,
    "start_time": "2024-05-23T18:42:07.067Z"
   },
   {
    "duration": 4,
    "start_time": "2024-05-23T18:42:07.071Z"
   },
   {
    "duration": 3,
    "start_time": "2024-05-23T18:42:07.077Z"
   },
   {
    "duration": 11870,
    "start_time": "2024-05-23T18:42:07.081Z"
   },
   {
    "duration": 3,
    "start_time": "2024-05-23T18:42:18.952Z"
   },
   {
    "duration": 11,
    "start_time": "2024-05-23T18:42:18.956Z"
   },
   {
    "duration": 197492,
    "start_time": "2024-05-23T18:42:18.969Z"
   },
   {
    "duration": 3,
    "start_time": "2024-05-23T18:45:36.463Z"
   },
   {
    "duration": 5,
    "start_time": "2024-05-23T18:45:36.467Z"
   },
   {
    "duration": 3,
    "start_time": "2024-05-23T18:45:36.474Z"
   },
   {
    "duration": 108795,
    "start_time": "2024-05-23T18:45:36.478Z"
   },
   {
    "duration": 7,
    "start_time": "2024-05-23T18:47:25.275Z"
   },
   {
    "duration": 115,
    "start_time": "2024-05-23T18:52:19.561Z"
   },
   {
    "duration": 7,
    "start_time": "2024-05-23T18:52:52.802Z"
   },
   {
    "duration": 7,
    "start_time": "2024-05-23T18:53:04.074Z"
   },
   {
    "duration": 1847,
    "start_time": "2024-05-24T05:46:49.931Z"
   },
   {
    "duration": 3,
    "start_time": "2024-05-24T05:46:51.780Z"
   },
   {
    "duration": 8,
    "start_time": "2024-05-24T05:46:51.785Z"
   },
   {
    "duration": 6531,
    "start_time": "2024-05-24T05:46:51.795Z"
   },
   {
    "duration": 802,
    "start_time": "2024-05-24T05:46:58.327Z"
   },
   {
    "duration": 3,
    "start_time": "2024-05-24T05:46:59.131Z"
   },
   {
    "duration": 54,
    "start_time": "2024-05-24T05:46:59.136Z"
   },
   {
    "duration": 40,
    "start_time": "2024-05-24T05:46:59.192Z"
   },
   {
    "duration": 50,
    "start_time": "2024-05-24T05:46:59.233Z"
   },
   {
    "duration": 48,
    "start_time": "2024-05-24T05:46:59.286Z"
   },
   {
    "duration": 781,
    "start_time": "2024-05-24T05:46:59.335Z"
   },
   {
    "duration": 5,
    "start_time": "2024-05-24T05:47:00.117Z"
   },
   {
    "duration": 367,
    "start_time": "2024-05-24T05:47:00.124Z"
   },
   {
    "duration": 421,
    "start_time": "2024-05-24T05:47:00.493Z"
   },
   {
    "duration": 571,
    "start_time": "2024-05-24T05:47:00.916Z"
   },
   {
    "duration": 399,
    "start_time": "2024-05-24T05:47:01.489Z"
   },
   {
    "duration": 553,
    "start_time": "2024-05-24T05:47:01.890Z"
   },
   {
    "duration": 260,
    "start_time": "2024-05-24T05:47:02.445Z"
   },
   {
    "duration": 11728,
    "start_time": "2024-05-24T05:47:02.707Z"
   },
   {
    "duration": 592,
    "start_time": "2024-05-24T05:47:14.437Z"
   },
   {
    "duration": 139,
    "start_time": "2024-05-24T05:47:15.032Z"
   },
   {
    "duration": 237,
    "start_time": "2024-05-24T05:47:15.173Z"
   },
   {
    "duration": 450,
    "start_time": "2024-05-24T05:47:15.412Z"
   },
   {
    "duration": 38,
    "start_time": "2024-05-24T05:47:15.865Z"
   },
   {
    "duration": 3,
    "start_time": "2024-05-24T05:47:15.905Z"
   },
   {
    "duration": 462,
    "start_time": "2024-05-24T05:47:15.910Z"
   },
   {
    "duration": 1446,
    "start_time": "2024-05-24T05:47:16.374Z"
   },
   {
    "duration": 431,
    "start_time": "2024-05-24T05:47:17.825Z"
   },
   {
    "duration": 13,
    "start_time": "2024-05-24T05:47:18.257Z"
   },
   {
    "duration": 10,
    "start_time": "2024-05-24T05:47:18.272Z"
   },
   {
    "duration": 7,
    "start_time": "2024-05-24T05:47:18.284Z"
   },
   {
    "duration": 41,
    "start_time": "2024-05-24T05:47:18.293Z"
   },
   {
    "duration": 46,
    "start_time": "2024-05-24T05:47:18.336Z"
   },
   {
    "duration": 156,
    "start_time": "2024-05-24T05:47:18.384Z"
   },
   {
    "duration": 25,
    "start_time": "2024-05-24T05:47:18.542Z"
   },
   {
    "duration": 14,
    "start_time": "2024-05-24T05:47:18.569Z"
   },
   {
    "duration": 21,
    "start_time": "2024-05-24T05:47:18.585Z"
   },
   {
    "duration": 18,
    "start_time": "2024-05-24T05:47:18.608Z"
   },
   {
    "duration": 5,
    "start_time": "2024-05-24T05:47:18.627Z"
   },
   {
    "duration": 47,
    "start_time": "2024-05-24T05:47:18.634Z"
   },
   {
    "duration": 17,
    "start_time": "2024-05-24T05:47:18.683Z"
   },
   {
    "duration": 34,
    "start_time": "2024-05-24T05:47:18.701Z"
   },
   {
    "duration": 46,
    "start_time": "2024-05-24T05:47:18.737Z"
   },
   {
    "duration": 37,
    "start_time": "2024-05-24T05:47:18.785Z"
   },
   {
    "duration": 45,
    "start_time": "2024-05-24T05:47:18.824Z"
   },
   {
    "duration": 24,
    "start_time": "2024-05-24T05:47:18.871Z"
   },
   {
    "duration": 69,
    "start_time": "2024-05-24T05:47:18.898Z"
   },
   {
    "duration": 8,
    "start_time": "2024-05-24T05:47:18.969Z"
   },
   {
    "duration": 7,
    "start_time": "2024-05-24T05:47:18.980Z"
   },
   {
    "duration": 497,
    "start_time": "2024-05-24T05:47:18.989Z"
   },
   {
    "duration": 6,
    "start_time": "2024-05-24T05:47:19.488Z"
   },
   {
    "duration": 11,
    "start_time": "2024-05-24T05:47:19.496Z"
   },
   {
    "duration": 57,
    "start_time": "2024-05-24T05:47:19.509Z"
   },
   {
    "duration": 35,
    "start_time": "2024-05-24T05:47:19.568Z"
   },
   {
    "duration": 66,
    "start_time": "2024-05-24T05:47:19.605Z"
   },
   {
    "duration": 5,
    "start_time": "2024-05-24T05:47:19.673Z"
   },
   {
    "duration": 25,
    "start_time": "2024-05-24T05:47:19.679Z"
   },
   {
    "duration": 22,
    "start_time": "2024-05-24T05:47:19.705Z"
   },
   {
    "duration": 60,
    "start_time": "2024-05-24T05:47:19.729Z"
   },
   {
    "duration": 32,
    "start_time": "2024-05-24T05:47:19.791Z"
   },
   {
    "duration": 55,
    "start_time": "2024-05-24T05:47:19.825Z"
   },
   {
    "duration": 52,
    "start_time": "2024-05-24T05:47:19.882Z"
   },
   {
    "duration": 87,
    "start_time": "2024-05-24T05:47:19.936Z"
   },
   {
    "duration": 196,
    "start_time": "2024-05-24T05:47:20.026Z"
   },
   {
    "duration": 45,
    "start_time": "2024-05-24T05:47:20.223Z"
   },
   {
    "duration": 69,
    "start_time": "2024-05-24T05:47:20.270Z"
   },
   {
    "duration": 56,
    "start_time": "2024-05-24T05:47:20.341Z"
   },
   {
    "duration": 44,
    "start_time": "2024-05-24T05:47:20.398Z"
   },
   {
    "duration": 77,
    "start_time": "2024-05-24T05:47:20.444Z"
   },
   {
    "duration": 49,
    "start_time": "2024-05-24T05:47:20.522Z"
   },
   {
    "duration": 58,
    "start_time": "2024-05-24T05:47:20.573Z"
   },
   {
    "duration": 63,
    "start_time": "2024-05-24T05:47:20.633Z"
   },
   {
    "duration": 34,
    "start_time": "2024-05-24T05:47:20.697Z"
   },
   {
    "duration": 78,
    "start_time": "2024-05-24T05:47:20.733Z"
   },
   {
    "duration": 53,
    "start_time": "2024-05-24T05:47:20.812Z"
   },
   {
    "duration": 81,
    "start_time": "2024-05-24T05:47:20.866Z"
   },
   {
    "duration": 45,
    "start_time": "2024-05-24T05:47:20.950Z"
   },
   {
    "duration": 68,
    "start_time": "2024-05-24T05:47:20.997Z"
   },
   {
    "duration": 50,
    "start_time": "2024-05-24T05:47:21.067Z"
   },
   {
    "duration": 78,
    "start_time": "2024-05-24T05:47:21.119Z"
   },
   {
    "duration": 38,
    "start_time": "2024-05-24T05:47:21.198Z"
   },
   {
    "duration": 66,
    "start_time": "2024-05-24T05:47:21.242Z"
   },
   {
    "duration": 59,
    "start_time": "2024-05-24T05:47:21.309Z"
   },
   {
    "duration": 69,
    "start_time": "2024-05-24T05:47:21.370Z"
   },
   {
    "duration": 53,
    "start_time": "2024-05-24T05:47:21.441Z"
   },
   {
    "duration": 74,
    "start_time": "2024-05-24T05:47:21.495Z"
   },
   {
    "duration": 53,
    "start_time": "2024-05-24T05:47:21.570Z"
   },
   {
    "duration": 54,
    "start_time": "2024-05-24T05:47:21.624Z"
   },
   {
    "duration": 54,
    "start_time": "2024-05-24T05:47:21.680Z"
   },
   {
    "duration": 62,
    "start_time": "2024-05-24T05:47:21.735Z"
   },
   {
    "duration": 53,
    "start_time": "2024-05-24T05:47:21.799Z"
   },
   {
    "duration": 58,
    "start_time": "2024-05-24T05:47:21.854Z"
   },
   {
    "duration": 37,
    "start_time": "2024-05-24T05:47:21.914Z"
   },
   {
    "duration": 29,
    "start_time": "2024-05-24T05:47:21.965Z"
   },
   {
    "duration": 68,
    "start_time": "2024-05-24T05:47:21.997Z"
   },
   {
    "duration": 169,
    "start_time": "2024-05-24T05:47:22.067Z"
   },
   {
    "duration": 512,
    "start_time": "2024-05-24T05:47:22.239Z"
   },
   {
    "duration": 442,
    "start_time": "2024-05-24T05:47:22.753Z"
   },
   {
    "duration": 428,
    "start_time": "2024-05-24T05:47:23.196Z"
   },
   {
    "duration": 1185,
    "start_time": "2024-05-24T05:47:23.626Z"
   },
   {
    "duration": 3120,
    "start_time": "2024-05-24T05:47:24.813Z"
   },
   {
    "duration": 37,
    "start_time": "2024-05-24T05:47:27.935Z"
   },
   {
    "duration": 48,
    "start_time": "2024-05-24T05:47:27.974Z"
   },
   {
    "duration": 4,
    "start_time": "2024-05-24T05:47:28.024Z"
   },
   {
    "duration": 5,
    "start_time": "2024-05-24T05:47:28.029Z"
   },
   {
    "duration": 4,
    "start_time": "2024-05-24T05:47:28.036Z"
   },
   {
    "duration": 16964,
    "start_time": "2024-05-24T05:47:28.064Z"
   },
   {
    "duration": 3,
    "start_time": "2024-05-24T05:47:45.029Z"
   },
   {
    "duration": 82,
    "start_time": "2024-05-24T05:47:45.034Z"
   },
   {
    "duration": 296805,
    "start_time": "2024-05-24T05:47:45.118Z"
   },
   {
    "duration": 4,
    "start_time": "2024-05-24T05:52:41.924Z"
   },
   {
    "duration": 4,
    "start_time": "2024-05-24T05:52:41.929Z"
   },
   {
    "duration": 4,
    "start_time": "2024-05-24T05:52:41.935Z"
   },
   {
    "duration": 185764,
    "start_time": "2024-05-24T05:52:41.940Z"
   },
   {
    "duration": 10,
    "start_time": "2024-05-24T05:55:47.706Z"
   },
   {
    "duration": 1409,
    "start_time": "2024-05-24T06:03:16.408Z"
   },
   {
    "duration": 3,
    "start_time": "2024-05-24T06:03:17.820Z"
   },
   {
    "duration": 7,
    "start_time": "2024-05-24T06:03:17.825Z"
   },
   {
    "duration": 6658,
    "start_time": "2024-05-24T06:03:17.834Z"
   },
   {
    "duration": 775,
    "start_time": "2024-05-24T06:03:24.495Z"
   },
   {
    "duration": 3,
    "start_time": "2024-05-24T06:03:25.272Z"
   },
   {
    "duration": 44,
    "start_time": "2024-05-24T06:03:25.277Z"
   },
   {
    "duration": 38,
    "start_time": "2024-05-24T06:03:25.322Z"
   },
   {
    "duration": 47,
    "start_time": "2024-05-24T06:03:25.362Z"
   },
   {
    "duration": 46,
    "start_time": "2024-05-24T06:03:25.411Z"
   },
   {
    "duration": 738,
    "start_time": "2024-05-24T06:03:25.459Z"
   },
   {
    "duration": 4,
    "start_time": "2024-05-24T06:03:26.199Z"
   },
   {
    "duration": 304,
    "start_time": "2024-05-24T06:03:26.205Z"
   },
   {
    "duration": 375,
    "start_time": "2024-05-24T06:03:26.513Z"
   },
   {
    "duration": 544,
    "start_time": "2024-05-24T06:03:26.890Z"
   },
   {
    "duration": 360,
    "start_time": "2024-05-24T06:03:27.435Z"
   },
   {
    "duration": 515,
    "start_time": "2024-05-24T06:03:27.797Z"
   },
   {
    "duration": 238,
    "start_time": "2024-05-24T06:03:28.314Z"
   },
   {
    "duration": 12888,
    "start_time": "2024-05-24T06:03:28.553Z"
   },
   {
    "duration": 505,
    "start_time": "2024-05-24T06:03:41.443Z"
   },
   {
    "duration": 132,
    "start_time": "2024-05-24T06:03:41.950Z"
   },
   {
    "duration": 169,
    "start_time": "2024-05-24T06:03:42.083Z"
   },
   {
    "duration": 383,
    "start_time": "2024-05-24T06:03:42.253Z"
   },
   {
    "duration": 33,
    "start_time": "2024-05-24T06:03:42.638Z"
   },
   {
    "duration": 4,
    "start_time": "2024-05-24T06:03:42.672Z"
   },
   {
    "duration": 373,
    "start_time": "2024-05-24T06:03:42.677Z"
   },
   {
    "duration": 1220,
    "start_time": "2024-05-24T06:03:43.052Z"
   },
   {
    "duration": 340,
    "start_time": "2024-05-24T06:03:44.273Z"
   },
   {
    "duration": 6,
    "start_time": "2024-05-24T06:03:44.615Z"
   },
   {
    "duration": 14,
    "start_time": "2024-05-24T06:03:44.622Z"
   },
   {
    "duration": 6,
    "start_time": "2024-05-24T06:03:44.637Z"
   },
   {
    "duration": 40,
    "start_time": "2024-05-24T06:03:44.645Z"
   },
   {
    "duration": 28,
    "start_time": "2024-05-24T06:03:44.687Z"
   },
   {
    "duration": 124,
    "start_time": "2024-05-24T06:03:44.716Z"
   },
   {
    "duration": 24,
    "start_time": "2024-05-24T06:03:44.841Z"
   },
   {
    "duration": 13,
    "start_time": "2024-05-24T06:03:44.867Z"
   },
   {
    "duration": 24,
    "start_time": "2024-05-24T06:03:44.881Z"
   },
   {
    "duration": 15,
    "start_time": "2024-05-24T06:03:44.906Z"
   },
   {
    "duration": 5,
    "start_time": "2024-05-24T06:03:44.923Z"
   },
   {
    "duration": 44,
    "start_time": "2024-05-24T06:03:44.929Z"
   },
   {
    "duration": 15,
    "start_time": "2024-05-24T06:03:44.978Z"
   },
   {
    "duration": 61,
    "start_time": "2024-05-24T06:03:44.994Z"
   },
   {
    "duration": 42,
    "start_time": "2024-05-24T06:03:45.057Z"
   },
   {
    "duration": 64,
    "start_time": "2024-05-24T06:03:45.101Z"
   },
   {
    "duration": 34,
    "start_time": "2024-05-24T06:03:45.167Z"
   },
   {
    "duration": 46,
    "start_time": "2024-05-24T06:03:45.203Z"
   },
   {
    "duration": 44,
    "start_time": "2024-05-24T06:03:45.251Z"
   },
   {
    "duration": 8,
    "start_time": "2024-05-24T06:03:45.298Z"
   },
   {
    "duration": 7,
    "start_time": "2024-05-24T06:03:45.308Z"
   },
   {
    "duration": 405,
    "start_time": "2024-05-24T06:03:45.316Z"
   },
   {
    "duration": 8,
    "start_time": "2024-05-24T06:03:45.724Z"
   },
   {
    "duration": 7,
    "start_time": "2024-05-24T06:03:45.734Z"
   },
   {
    "duration": 58,
    "start_time": "2024-05-24T06:03:45.743Z"
   },
   {
    "duration": 37,
    "start_time": "2024-05-24T06:03:45.803Z"
   },
   {
    "duration": 61,
    "start_time": "2024-05-24T06:03:45.843Z"
   },
   {
    "duration": 4,
    "start_time": "2024-05-24T06:03:45.906Z"
   },
   {
    "duration": 18,
    "start_time": "2024-05-24T06:03:45.911Z"
   },
   {
    "duration": 35,
    "start_time": "2024-05-24T06:03:45.930Z"
   },
   {
    "duration": 34,
    "start_time": "2024-05-24T06:03:45.967Z"
   },
   {
    "duration": 27,
    "start_time": "2024-05-24T06:03:46.003Z"
   },
   {
    "duration": 59,
    "start_time": "2024-05-24T06:03:46.032Z"
   },
   {
    "duration": 43,
    "start_time": "2024-05-24T06:03:46.093Z"
   },
   {
    "duration": 68,
    "start_time": "2024-05-24T06:03:46.138Z"
   },
   {
    "duration": 115,
    "start_time": "2024-05-24T06:03:46.207Z"
   },
   {
    "duration": 25,
    "start_time": "2024-05-24T06:03:46.324Z"
   },
   {
    "duration": 59,
    "start_time": "2024-05-24T06:03:46.351Z"
   },
   {
    "duration": 41,
    "start_time": "2024-05-24T06:03:46.412Z"
   },
   {
    "duration": 32,
    "start_time": "2024-05-24T06:03:46.464Z"
   },
   {
    "duration": 53,
    "start_time": "2024-05-24T06:03:46.497Z"
   },
   {
    "duration": 46,
    "start_time": "2024-05-24T06:03:46.552Z"
   },
   {
    "duration": 48,
    "start_time": "2024-05-24T06:03:46.599Z"
   },
   {
    "duration": 52,
    "start_time": "2024-05-24T06:03:46.649Z"
   },
   {
    "duration": 28,
    "start_time": "2024-05-24T06:03:46.702Z"
   },
   {
    "duration": 49,
    "start_time": "2024-05-24T06:03:46.731Z"
   },
   {
    "duration": 49,
    "start_time": "2024-05-24T06:03:46.781Z"
   },
   {
    "duration": 72,
    "start_time": "2024-05-24T06:03:46.832Z"
   },
   {
    "duration": 31,
    "start_time": "2024-05-24T06:03:46.906Z"
   },
   {
    "duration": 54,
    "start_time": "2024-05-24T06:03:46.939Z"
   },
   {
    "duration": 41,
    "start_time": "2024-05-24T06:03:46.995Z"
   },
   {
    "duration": 67,
    "start_time": "2024-05-24T06:03:47.037Z"
   },
   {
    "duration": 32,
    "start_time": "2024-05-24T06:03:47.105Z"
   },
   {
    "duration": 63,
    "start_time": "2024-05-24T06:03:47.139Z"
   },
   {
    "duration": 48,
    "start_time": "2024-05-24T06:03:47.204Z"
   },
   {
    "duration": 78,
    "start_time": "2024-05-24T06:03:47.254Z"
   },
   {
    "duration": 42,
    "start_time": "2024-05-24T06:03:47.333Z"
   },
   {
    "duration": 55,
    "start_time": "2024-05-24T06:03:47.376Z"
   },
   {
    "duration": 54,
    "start_time": "2024-05-24T06:03:47.432Z"
   },
   {
    "duration": 34,
    "start_time": "2024-05-24T06:03:47.487Z"
   },
   {
    "duration": 54,
    "start_time": "2024-05-24T06:03:47.522Z"
   },
   {
    "duration": 43,
    "start_time": "2024-05-24T06:03:47.578Z"
   },
   {
    "duration": 50,
    "start_time": "2024-05-24T06:03:47.622Z"
   },
   {
    "duration": 44,
    "start_time": "2024-05-24T06:03:47.674Z"
   },
   {
    "duration": 47,
    "start_time": "2024-05-24T06:03:47.720Z"
   },
   {
    "duration": 28,
    "start_time": "2024-05-24T06:03:47.768Z"
   },
   {
    "duration": 34,
    "start_time": "2024-05-24T06:03:47.798Z"
   },
   {
    "duration": 144,
    "start_time": "2024-05-24T06:03:47.833Z"
   },
   {
    "duration": 390,
    "start_time": "2024-05-24T06:03:47.979Z"
   },
   {
    "duration": 378,
    "start_time": "2024-05-24T06:03:48.370Z"
   },
   {
    "duration": 400,
    "start_time": "2024-05-24T06:03:48.749Z"
   },
   {
    "duration": 915,
    "start_time": "2024-05-24T06:03:49.150Z"
   },
   {
    "duration": 2665,
    "start_time": "2024-05-24T06:03:50.067Z"
   },
   {
    "duration": 31,
    "start_time": "2024-05-24T06:03:52.734Z"
   },
   {
    "duration": 44,
    "start_time": "2024-05-24T06:03:52.766Z"
   },
   {
    "duration": 3,
    "start_time": "2024-05-24T06:03:52.812Z"
   },
   {
    "duration": 4,
    "start_time": "2024-05-24T06:03:52.816Z"
   },
   {
    "duration": 4,
    "start_time": "2024-05-24T06:03:52.821Z"
   },
   {
    "duration": 15620,
    "start_time": "2024-05-24T06:03:52.826Z"
   },
   {
    "duration": 0,
    "start_time": "2024-05-24T06:04:08.447Z"
   },
   {
    "duration": 0,
    "start_time": "2024-05-24T06:04:08.448Z"
   },
   {
    "duration": 0,
    "start_time": "2024-05-24T06:04:08.449Z"
   },
   {
    "duration": 0,
    "start_time": "2024-05-24T06:04:08.451Z"
   },
   {
    "duration": 0,
    "start_time": "2024-05-24T06:04:08.465Z"
   },
   {
    "duration": 0,
    "start_time": "2024-05-24T06:04:08.466Z"
   },
   {
    "duration": 0,
    "start_time": "2024-05-24T06:04:08.467Z"
   },
   {
    "duration": 0,
    "start_time": "2024-05-24T06:04:08.468Z"
   },
   {
    "duration": 1647,
    "start_time": "2024-05-24T06:05:44.249Z"
   },
   {
    "duration": 3,
    "start_time": "2024-05-24T06:05:45.899Z"
   },
   {
    "duration": 8,
    "start_time": "2024-05-24T06:05:45.904Z"
   },
   {
    "duration": 6826,
    "start_time": "2024-05-24T06:05:45.914Z"
   },
   {
    "duration": 765,
    "start_time": "2024-05-24T06:05:52.741Z"
   },
   {
    "duration": 4,
    "start_time": "2024-05-24T06:05:53.507Z"
   },
   {
    "duration": 49,
    "start_time": "2024-05-24T06:05:53.512Z"
   },
   {
    "duration": 36,
    "start_time": "2024-05-24T06:05:53.562Z"
   },
   {
    "duration": 46,
    "start_time": "2024-05-24T06:05:53.600Z"
   },
   {
    "duration": 46,
    "start_time": "2024-05-24T06:05:53.649Z"
   },
   {
    "duration": 753,
    "start_time": "2024-05-24T06:05:53.697Z"
   },
   {
    "duration": 4,
    "start_time": "2024-05-24T06:05:54.452Z"
   },
   {
    "duration": 307,
    "start_time": "2024-05-24T06:05:54.458Z"
   },
   {
    "duration": 390,
    "start_time": "2024-05-24T06:05:54.767Z"
   },
   {
    "duration": 544,
    "start_time": "2024-05-24T06:05:55.164Z"
   },
   {
    "duration": 370,
    "start_time": "2024-05-24T06:05:55.710Z"
   },
   {
    "duration": 544,
    "start_time": "2024-05-24T06:05:56.082Z"
   },
   {
    "duration": 232,
    "start_time": "2024-05-24T06:05:56.628Z"
   },
   {
    "duration": 13021,
    "start_time": "2024-05-24T06:05:56.862Z"
   },
   {
    "duration": 511,
    "start_time": "2024-05-24T06:06:09.884Z"
   },
   {
    "duration": 115,
    "start_time": "2024-05-24T06:06:10.396Z"
   },
   {
    "duration": 175,
    "start_time": "2024-05-24T06:06:10.513Z"
   },
   {
    "duration": 382,
    "start_time": "2024-05-24T06:06:10.690Z"
   },
   {
    "duration": 27,
    "start_time": "2024-05-24T06:06:11.073Z"
   },
   {
    "duration": 24,
    "start_time": "2024-05-24T06:06:11.102Z"
   },
   {
    "duration": 373,
    "start_time": "2024-05-24T06:06:11.128Z"
   },
   {
    "duration": 1300,
    "start_time": "2024-05-24T06:06:11.502Z"
   },
   {
    "duration": 375,
    "start_time": "2024-05-24T06:06:12.807Z"
   },
   {
    "duration": 6,
    "start_time": "2024-05-24T06:06:13.184Z"
   },
   {
    "duration": 8,
    "start_time": "2024-05-24T06:06:13.192Z"
   },
   {
    "duration": 6,
    "start_time": "2024-05-24T06:06:13.201Z"
   },
   {
    "duration": 56,
    "start_time": "2024-05-24T06:06:13.209Z"
   },
   {
    "duration": 27,
    "start_time": "2024-05-24T06:06:13.267Z"
   },
   {
    "duration": 137,
    "start_time": "2024-05-24T06:06:13.296Z"
   },
   {
    "duration": 14,
    "start_time": "2024-05-24T06:06:13.434Z"
   },
   {
    "duration": 22,
    "start_time": "2024-05-24T06:06:13.449Z"
   },
   {
    "duration": 17,
    "start_time": "2024-05-24T06:06:13.473Z"
   },
   {
    "duration": 15,
    "start_time": "2024-05-24T06:06:13.492Z"
   },
   {
    "duration": 5,
    "start_time": "2024-05-24T06:06:13.508Z"
   },
   {
    "duration": 50,
    "start_time": "2024-05-24T06:06:13.515Z"
   },
   {
    "duration": 16,
    "start_time": "2024-05-24T06:06:13.567Z"
   },
   {
    "duration": 28,
    "start_time": "2024-05-24T06:06:13.585Z"
   },
   {
    "duration": 27,
    "start_time": "2024-05-24T06:06:13.614Z"
   },
   {
    "duration": 40,
    "start_time": "2024-05-24T06:06:13.643Z"
   },
   {
    "duration": 26,
    "start_time": "2024-05-24T06:06:13.684Z"
   },
   {
    "duration": 30,
    "start_time": "2024-05-24T06:06:13.711Z"
   },
   {
    "duration": 45,
    "start_time": "2024-05-24T06:06:13.743Z"
   },
   {
    "duration": 13,
    "start_time": "2024-05-24T06:06:13.790Z"
   },
   {
    "duration": 23,
    "start_time": "2024-05-24T06:06:13.804Z"
   },
   {
    "duration": 395,
    "start_time": "2024-05-24T06:06:13.830Z"
   },
   {
    "duration": 6,
    "start_time": "2024-05-24T06:06:14.227Z"
   },
   {
    "duration": 9,
    "start_time": "2024-05-24T06:06:14.234Z"
   },
   {
    "duration": 52,
    "start_time": "2024-05-24T06:06:14.245Z"
   },
   {
    "duration": 42,
    "start_time": "2024-05-24T06:06:14.299Z"
   },
   {
    "duration": 54,
    "start_time": "2024-05-24T06:06:14.343Z"
   },
   {
    "duration": 5,
    "start_time": "2024-05-24T06:06:14.399Z"
   },
   {
    "duration": 18,
    "start_time": "2024-05-24T06:06:14.406Z"
   },
   {
    "duration": 19,
    "start_time": "2024-05-24T06:06:14.426Z"
   },
   {
    "duration": 27,
    "start_time": "2024-05-24T06:06:14.466Z"
   },
   {
    "duration": 26,
    "start_time": "2024-05-24T06:06:14.495Z"
   },
   {
    "duration": 52,
    "start_time": "2024-05-24T06:06:14.523Z"
   },
   {
    "duration": 45,
    "start_time": "2024-05-24T06:06:14.576Z"
   },
   {
    "duration": 70,
    "start_time": "2024-05-24T06:06:14.622Z"
   },
   {
    "duration": 130,
    "start_time": "2024-05-24T06:06:14.694Z"
   },
   {
    "duration": 32,
    "start_time": "2024-05-24T06:06:14.826Z"
   },
   {
    "duration": 69,
    "start_time": "2024-05-24T06:06:14.864Z"
   },
   {
    "duration": 44,
    "start_time": "2024-05-24T06:06:14.935Z"
   },
   {
    "duration": 42,
    "start_time": "2024-05-24T06:06:14.980Z"
   },
   {
    "duration": 74,
    "start_time": "2024-05-24T06:06:15.023Z"
   },
   {
    "duration": 40,
    "start_time": "2024-05-24T06:06:15.099Z"
   },
   {
    "duration": 61,
    "start_time": "2024-05-24T06:06:15.140Z"
   },
   {
    "duration": 49,
    "start_time": "2024-05-24T06:06:15.203Z"
   },
   {
    "duration": 31,
    "start_time": "2024-05-24T06:06:15.253Z"
   },
   {
    "duration": 60,
    "start_time": "2024-05-24T06:06:15.286Z"
   },
   {
    "duration": 45,
    "start_time": "2024-05-24T06:06:15.347Z"
   },
   {
    "duration": 71,
    "start_time": "2024-05-24T06:06:15.394Z"
   },
   {
    "duration": 36,
    "start_time": "2024-05-24T06:06:15.466Z"
   },
   {
    "duration": 53,
    "start_time": "2024-05-24T06:06:15.504Z"
   },
   {
    "duration": 58,
    "start_time": "2024-05-24T06:06:15.558Z"
   },
   {
    "duration": 70,
    "start_time": "2024-05-24T06:06:15.618Z"
   },
   {
    "duration": 34,
    "start_time": "2024-05-24T06:06:15.690Z"
   },
   {
    "duration": 54,
    "start_time": "2024-05-24T06:06:15.730Z"
   },
   {
    "duration": 48,
    "start_time": "2024-05-24T06:06:15.786Z"
   },
   {
    "duration": 75,
    "start_time": "2024-05-24T06:06:15.836Z"
   },
   {
    "duration": 38,
    "start_time": "2024-05-24T06:06:15.913Z"
   },
   {
    "duration": 56,
    "start_time": "2024-05-24T06:06:15.965Z"
   },
   {
    "duration": 49,
    "start_time": "2024-05-24T06:06:16.023Z"
   },
   {
    "duration": 33,
    "start_time": "2024-05-24T06:06:16.074Z"
   },
   {
    "duration": 60,
    "start_time": "2024-05-24T06:06:16.109Z"
   },
   {
    "duration": 44,
    "start_time": "2024-05-24T06:06:16.171Z"
   },
   {
    "duration": 50,
    "start_time": "2024-05-24T06:06:16.217Z"
   },
   {
    "duration": 45,
    "start_time": "2024-05-24T06:06:16.269Z"
   },
   {
    "duration": 33,
    "start_time": "2024-05-24T06:06:16.316Z"
   },
   {
    "duration": 24,
    "start_time": "2024-05-24T06:06:16.366Z"
   },
   {
    "duration": 39,
    "start_time": "2024-05-24T06:06:16.391Z"
   },
   {
    "duration": 158,
    "start_time": "2024-05-24T06:06:16.432Z"
   },
   {
    "duration": 400,
    "start_time": "2024-05-24T06:06:16.592Z"
   },
   {
    "duration": 399,
    "start_time": "2024-05-24T06:06:16.993Z"
   },
   {
    "duration": 396,
    "start_time": "2024-05-24T06:06:17.394Z"
   },
   {
    "duration": 937,
    "start_time": "2024-05-24T06:06:17.792Z"
   },
   {
    "duration": 2643,
    "start_time": "2024-05-24T06:06:18.731Z"
   },
   {
    "duration": 26,
    "start_time": "2024-05-24T06:06:21.375Z"
   },
   {
    "duration": 55,
    "start_time": "2024-05-24T06:06:21.402Z"
   },
   {
    "duration": 7,
    "start_time": "2024-05-24T06:06:21.458Z"
   },
   {
    "duration": 33,
    "start_time": "2024-05-24T06:06:21.466Z"
   },
   {
    "duration": 30,
    "start_time": "2024-05-24T06:06:21.500Z"
   },
   {
    "duration": 16304,
    "start_time": "2024-05-24T06:06:21.531Z"
   },
   {
    "duration": 3,
    "start_time": "2024-05-24T06:06:37.837Z"
   },
   {
    "duration": 24,
    "start_time": "2024-05-24T06:06:37.842Z"
   },
   {
    "duration": 180960,
    "start_time": "2024-05-24T06:06:37.868Z"
   },
   {
    "duration": 3,
    "start_time": "2024-05-24T06:09:38.830Z"
   },
   {
    "duration": 6,
    "start_time": "2024-05-24T06:09:38.834Z"
   },
   {
    "duration": 24,
    "start_time": "2024-05-24T06:09:38.841Z"
   },
   {
    "duration": 147605,
    "start_time": "2024-05-24T06:09:38.867Z"
   },
   {
    "duration": 7,
    "start_time": "2024-05-24T06:12:06.475Z"
   },
   {
    "duration": 74,
    "start_time": "2024-05-24T06:22:48.525Z"
   },
   {
    "duration": 1414,
    "start_time": "2024-05-24T06:26:31.615Z"
   },
   {
    "duration": 3,
    "start_time": "2024-05-24T06:26:33.031Z"
   },
   {
    "duration": 8,
    "start_time": "2024-05-24T06:26:33.035Z"
   },
   {
    "duration": 6685,
    "start_time": "2024-05-24T06:26:33.045Z"
   },
   {
    "duration": 766,
    "start_time": "2024-05-24T06:26:39.732Z"
   },
   {
    "duration": 4,
    "start_time": "2024-05-24T06:26:40.499Z"
   },
   {
    "duration": 37,
    "start_time": "2024-05-24T06:26:40.504Z"
   },
   {
    "duration": 35,
    "start_time": "2024-05-24T06:26:40.543Z"
   },
   {
    "duration": 44,
    "start_time": "2024-05-24T06:26:40.579Z"
   },
   {
    "duration": 45,
    "start_time": "2024-05-24T06:26:40.626Z"
   },
   {
    "duration": 756,
    "start_time": "2024-05-24T06:26:40.673Z"
   },
   {
    "duration": 4,
    "start_time": "2024-05-24T06:26:41.430Z"
   },
   {
    "duration": 303,
    "start_time": "2024-05-24T06:26:41.435Z"
   },
   {
    "duration": 395,
    "start_time": "2024-05-24T06:26:41.740Z"
   },
   {
    "duration": 534,
    "start_time": "2024-05-24T06:26:42.136Z"
   },
   {
    "duration": 371,
    "start_time": "2024-05-24T06:26:42.671Z"
   },
   {
    "duration": 524,
    "start_time": "2024-05-24T06:26:43.043Z"
   },
   {
    "duration": 222,
    "start_time": "2024-05-24T06:26:43.569Z"
   },
   {
    "duration": 13686,
    "start_time": "2024-05-24T06:26:43.792Z"
   },
   {
    "duration": 493,
    "start_time": "2024-05-24T06:26:57.479Z"
   },
   {
    "duration": 118,
    "start_time": "2024-05-24T06:26:57.974Z"
   },
   {
    "duration": 172,
    "start_time": "2024-05-24T06:26:58.093Z"
   },
   {
    "duration": 363,
    "start_time": "2024-05-24T06:26:58.267Z"
   },
   {
    "duration": 34,
    "start_time": "2024-05-24T06:26:58.631Z"
   },
   {
    "duration": 3,
    "start_time": "2024-05-24T06:26:58.666Z"
   },
   {
    "duration": 377,
    "start_time": "2024-05-24T06:26:58.671Z"
   },
   {
    "duration": 1288,
    "start_time": "2024-05-24T06:26:59.050Z"
   },
   {
    "duration": 361,
    "start_time": "2024-05-24T06:27:00.342Z"
   },
   {
    "duration": 6,
    "start_time": "2024-05-24T06:27:00.705Z"
   },
   {
    "duration": 68,
    "start_time": "2024-05-24T06:27:00.712Z"
   },
   {
    "duration": 54,
    "start_time": "2024-05-24T06:27:00.781Z"
   },
   {
    "duration": 93,
    "start_time": "2024-05-24T06:27:00.837Z"
   },
   {
    "duration": 89,
    "start_time": "2024-05-24T06:27:00.932Z"
   },
   {
    "duration": 163,
    "start_time": "2024-05-24T06:27:01.023Z"
   },
   {
    "duration": 13,
    "start_time": "2024-05-24T06:27:01.188Z"
   },
   {
    "duration": 64,
    "start_time": "2024-05-24T06:27:01.202Z"
   },
   {
    "duration": 91,
    "start_time": "2024-05-24T06:27:01.267Z"
   },
   {
    "duration": 39,
    "start_time": "2024-05-24T06:27:01.359Z"
   },
   {
    "duration": 38,
    "start_time": "2024-05-24T06:27:01.399Z"
   },
   {
    "duration": 69,
    "start_time": "2024-05-24T06:27:01.439Z"
   },
   {
    "duration": 35,
    "start_time": "2024-05-24T06:27:01.509Z"
   },
   {
    "duration": 84,
    "start_time": "2024-05-24T06:27:01.545Z"
   },
   {
    "duration": 56,
    "start_time": "2024-05-24T06:27:01.631Z"
   },
   {
    "duration": 67,
    "start_time": "2024-05-24T06:27:01.689Z"
   },
   {
    "duration": 53,
    "start_time": "2024-05-24T06:27:01.758Z"
   },
   {
    "duration": 45,
    "start_time": "2024-05-24T06:27:01.812Z"
   },
   {
    "duration": 53,
    "start_time": "2024-05-24T06:27:01.859Z"
   },
   {
    "duration": 16,
    "start_time": "2024-05-24T06:27:01.914Z"
   },
   {
    "duration": 22,
    "start_time": "2024-05-24T06:27:01.932Z"
   },
   {
    "duration": 383,
    "start_time": "2024-05-24T06:27:01.956Z"
   },
   {
    "duration": 7,
    "start_time": "2024-05-24T06:27:02.341Z"
   },
   {
    "duration": 43,
    "start_time": "2024-05-24T06:27:02.350Z"
   },
   {
    "duration": 52,
    "start_time": "2024-05-24T06:27:02.395Z"
   },
   {
    "duration": 41,
    "start_time": "2024-05-24T06:27:02.448Z"
   },
   {
    "duration": 51,
    "start_time": "2024-05-24T06:27:02.491Z"
   },
   {
    "duration": 5,
    "start_time": "2024-05-24T06:27:02.543Z"
   },
   {
    "duration": 39,
    "start_time": "2024-05-24T06:27:02.549Z"
   },
   {
    "duration": 24,
    "start_time": "2024-05-24T06:27:02.590Z"
   },
   {
    "duration": 45,
    "start_time": "2024-05-24T06:27:02.615Z"
   },
   {
    "duration": 32,
    "start_time": "2024-05-24T06:27:02.661Z"
   },
   {
    "duration": 35,
    "start_time": "2024-05-24T06:27:02.695Z"
   },
   {
    "duration": 48,
    "start_time": "2024-05-24T06:27:02.731Z"
   },
   {
    "duration": 70,
    "start_time": "2024-05-24T06:27:02.781Z"
   },
   {
    "duration": 140,
    "start_time": "2024-05-24T06:27:02.853Z"
   },
   {
    "duration": 32,
    "start_time": "2024-05-24T06:27:02.995Z"
   },
   {
    "duration": 65,
    "start_time": "2024-05-24T06:27:03.028Z"
   },
   {
    "duration": 44,
    "start_time": "2024-05-24T06:27:03.094Z"
   },
   {
    "duration": 43,
    "start_time": "2024-05-24T06:27:03.140Z"
   },
   {
    "duration": 53,
    "start_time": "2024-05-24T06:27:03.184Z"
   },
   {
    "duration": 52,
    "start_time": "2024-05-24T06:27:03.239Z"
   },
   {
    "duration": 63,
    "start_time": "2024-05-24T06:27:03.293Z"
   },
   {
    "duration": 38,
    "start_time": "2024-05-24T06:27:03.357Z"
   },
   {
    "duration": 35,
    "start_time": "2024-05-24T06:27:03.396Z"
   },
   {
    "duration": 63,
    "start_time": "2024-05-24T06:27:03.433Z"
   },
   {
    "duration": 45,
    "start_time": "2024-05-24T06:27:03.498Z"
   },
   {
    "duration": 72,
    "start_time": "2024-05-24T06:27:03.544Z"
   },
   {
    "duration": 47,
    "start_time": "2024-05-24T06:27:03.618Z"
   },
   {
    "duration": 45,
    "start_time": "2024-05-24T06:27:03.667Z"
   },
   {
    "duration": 53,
    "start_time": "2024-05-24T06:27:03.714Z"
   },
   {
    "duration": 61,
    "start_time": "2024-05-24T06:27:03.769Z"
   },
   {
    "duration": 48,
    "start_time": "2024-05-24T06:27:03.832Z"
   },
   {
    "duration": 46,
    "start_time": "2024-05-24T06:27:03.887Z"
   },
   {
    "duration": 62,
    "start_time": "2024-05-24T06:27:03.934Z"
   },
   {
    "duration": 70,
    "start_time": "2024-05-24T06:27:03.998Z"
   },
   {
    "duration": 41,
    "start_time": "2024-05-24T06:27:04.070Z"
   },
   {
    "duration": 75,
    "start_time": "2024-05-24T06:27:04.113Z"
   },
   {
    "duration": 48,
    "start_time": "2024-05-24T06:27:04.190Z"
   },
   {
    "duration": 47,
    "start_time": "2024-05-24T06:27:04.239Z"
   },
   {
    "duration": 53,
    "start_time": "2024-05-24T06:27:04.288Z"
   },
   {
    "duration": 57,
    "start_time": "2024-05-24T06:27:04.343Z"
   },
   {
    "duration": 37,
    "start_time": "2024-05-24T06:27:04.402Z"
   },
   {
    "duration": 56,
    "start_time": "2024-05-24T06:27:04.440Z"
   },
   {
    "duration": 32,
    "start_time": "2024-05-24T06:27:04.497Z"
   },
   {
    "duration": 46,
    "start_time": "2024-05-24T06:27:04.531Z"
   },
   {
    "duration": 47,
    "start_time": "2024-05-24T06:27:04.578Z"
   },
   {
    "duration": 150,
    "start_time": "2024-05-24T06:27:04.627Z"
   },
   {
    "duration": 379,
    "start_time": "2024-05-24T06:27:04.779Z"
   },
   {
    "duration": 352,
    "start_time": "2024-05-24T06:27:05.160Z"
   },
   {
    "duration": 389,
    "start_time": "2024-05-24T06:27:05.514Z"
   },
   {
    "duration": 933,
    "start_time": "2024-05-24T06:27:05.905Z"
   },
   {
    "duration": 2637,
    "start_time": "2024-05-24T06:27:06.840Z"
   },
   {
    "duration": 25,
    "start_time": "2024-05-24T06:27:09.478Z"
   },
   {
    "duration": 61,
    "start_time": "2024-05-24T06:27:09.504Z"
   },
   {
    "duration": 4,
    "start_time": "2024-05-24T06:27:09.567Z"
   },
   {
    "duration": 5,
    "start_time": "2024-05-24T06:27:09.572Z"
   },
   {
    "duration": 7,
    "start_time": "2024-05-24T06:27:09.578Z"
   },
   {
    "duration": 14735,
    "start_time": "2024-05-24T06:27:09.586Z"
   },
   {
    "duration": 3,
    "start_time": "2024-05-24T06:27:24.323Z"
   },
   {
    "duration": 9,
    "start_time": "2024-05-24T06:27:24.327Z"
   },
   {
    "duration": 279293,
    "start_time": "2024-05-24T06:27:24.337Z"
   },
   {
    "duration": 4,
    "start_time": "2024-05-24T06:32:03.632Z"
   },
   {
    "duration": 35,
    "start_time": "2024-05-24T06:32:03.638Z"
   },
   {
    "duration": 12,
    "start_time": "2024-05-24T06:32:03.675Z"
   },
   {
    "duration": 627710,
    "start_time": "2024-05-24T06:32:03.689Z"
   },
   {
    "duration": 6,
    "start_time": "2024-05-24T06:42:31.400Z"
   },
   {
    "duration": 480,
    "start_time": "2024-05-24T06:42:31.408Z"
   },
   {
    "duration": 115,
    "start_time": "2024-05-24T06:42:31.890Z"
   },
   {
    "duration": 0,
    "start_time": "2024-05-24T06:42:32.007Z"
   },
   {
    "duration": 4,
    "start_time": "2024-05-24T06:43:16.350Z"
   },
   {
    "duration": 402,
    "start_time": "2024-05-24T06:43:30.114Z"
   },
   {
    "duration": 406,
    "start_time": "2024-05-24T06:43:32.073Z"
   },
   {
    "duration": 12,
    "start_time": "2024-05-24T06:43:33.241Z"
   },
   {
    "duration": 4,
    "start_time": "2024-05-24T06:44:03.322Z"
   },
   {
    "duration": 432,
    "start_time": "2024-05-24T06:44:16.490Z"
   },
   {
    "duration": 357,
    "start_time": "2024-05-24T06:44:17.590Z"
   },
   {
    "duration": 11,
    "start_time": "2024-05-24T06:44:18.702Z"
   },
   {
    "duration": 3,
    "start_time": "2024-05-24T06:45:07.409Z"
   },
   {
    "duration": 296,
    "start_time": "2024-05-24T06:46:36.536Z"
   },
   {
    "duration": 3,
    "start_time": "2024-05-24T06:46:37.001Z"
   },
   {
    "duration": 5,
    "start_time": "2024-05-24T06:46:37.326Z"
   },
   {
    "duration": 5,
    "start_time": "2024-05-24T06:46:37.544Z"
   },
   {
    "duration": 199,
    "start_time": "2024-05-24T06:46:37.742Z"
   },
   {
    "duration": 1845,
    "start_time": "2024-05-24T17:43:48.539Z"
   },
   {
    "duration": 1539,
    "start_time": "2024-05-24T17:43:56.512Z"
   },
   {
    "duration": 4,
    "start_time": "2024-05-24T17:43:58.053Z"
   },
   {
    "duration": 17,
    "start_time": "2024-05-24T17:43:58.059Z"
   },
   {
    "duration": 4680,
    "start_time": "2024-05-24T17:43:58.079Z"
   },
   {
    "duration": 654,
    "start_time": "2024-05-24T17:44:02.761Z"
   },
   {
    "duration": 4,
    "start_time": "2024-05-24T17:44:03.417Z"
   },
   {
    "duration": 12,
    "start_time": "2024-05-24T17:44:03.423Z"
   },
   {
    "duration": 9,
    "start_time": "2024-05-24T17:44:03.437Z"
   },
   {
    "duration": 25,
    "start_time": "2024-05-24T17:44:03.447Z"
   },
   {
    "duration": 24,
    "start_time": "2024-05-24T17:44:03.475Z"
   },
   {
    "duration": 750,
    "start_time": "2024-05-24T17:44:03.501Z"
   },
   {
    "duration": 5,
    "start_time": "2024-05-24T17:44:04.252Z"
   },
   {
    "duration": 285,
    "start_time": "2024-05-24T17:44:04.258Z"
   },
   {
    "duration": 442,
    "start_time": "2024-05-24T17:44:04.544Z"
   },
   {
    "duration": 533,
    "start_time": "2024-05-24T17:44:04.988Z"
   },
   {
    "duration": 419,
    "start_time": "2024-05-24T17:44:05.524Z"
   },
   {
    "duration": 517,
    "start_time": "2024-05-24T17:44:05.945Z"
   },
   {
    "duration": 260,
    "start_time": "2024-05-24T17:44:06.464Z"
   },
   {
    "duration": 15175,
    "start_time": "2024-05-24T17:44:06.726Z"
   },
   {
    "duration": 553,
    "start_time": "2024-05-24T17:44:21.902Z"
   },
   {
    "duration": 145,
    "start_time": "2024-05-24T17:44:22.456Z"
   },
   {
    "duration": 254,
    "start_time": "2024-05-24T17:44:22.603Z"
   },
   {
    "duration": 418,
    "start_time": "2024-05-24T17:44:22.859Z"
   },
   {
    "duration": 33,
    "start_time": "2024-05-24T17:44:23.279Z"
   },
   {
    "duration": 24,
    "start_time": "2024-05-24T17:44:23.314Z"
   },
   {
    "duration": 448,
    "start_time": "2024-05-24T17:44:23.339Z"
   },
   {
    "duration": 1411,
    "start_time": "2024-05-24T17:44:23.789Z"
   },
   {
    "duration": 388,
    "start_time": "2024-05-24T17:44:25.205Z"
   },
   {
    "duration": 10,
    "start_time": "2024-05-24T17:44:25.596Z"
   },
   {
    "duration": 28,
    "start_time": "2024-05-24T17:44:25.608Z"
   },
   {
    "duration": 9,
    "start_time": "2024-05-24T17:44:25.638Z"
   },
   {
    "duration": 60,
    "start_time": "2024-05-24T17:44:25.649Z"
   },
   {
    "duration": 27,
    "start_time": "2024-05-24T17:44:25.711Z"
   },
   {
    "duration": 154,
    "start_time": "2024-05-24T17:44:25.740Z"
   },
   {
    "duration": 19,
    "start_time": "2024-05-24T17:44:25.896Z"
   },
   {
    "duration": 21,
    "start_time": "2024-05-24T17:44:25.917Z"
   },
   {
    "duration": 44,
    "start_time": "2024-05-24T17:44:25.940Z"
   },
   {
    "duration": 17,
    "start_time": "2024-05-24T17:44:25.986Z"
   },
   {
    "duration": 24,
    "start_time": "2024-05-24T17:44:26.005Z"
   },
   {
    "duration": 34,
    "start_time": "2024-05-24T17:44:26.031Z"
   },
   {
    "duration": 30,
    "start_time": "2024-05-24T17:44:26.067Z"
   },
   {
    "duration": 65,
    "start_time": "2024-05-24T17:44:26.099Z"
   },
   {
    "duration": 40,
    "start_time": "2024-05-24T17:44:26.166Z"
   },
   {
    "duration": 46,
    "start_time": "2024-05-24T17:44:26.208Z"
   },
   {
    "duration": 28,
    "start_time": "2024-05-24T17:44:26.255Z"
   },
   {
    "duration": 30,
    "start_time": "2024-05-24T17:44:26.284Z"
   },
   {
    "duration": 34,
    "start_time": "2024-05-24T17:44:26.316Z"
   },
   {
    "duration": 5,
    "start_time": "2024-05-24T17:44:26.352Z"
   },
   {
    "duration": 15,
    "start_time": "2024-05-24T17:44:26.358Z"
   },
   {
    "duration": 392,
    "start_time": "2024-05-24T17:44:26.375Z"
   },
   {
    "duration": 8,
    "start_time": "2024-05-24T17:44:26.769Z"
   },
   {
    "duration": 5,
    "start_time": "2024-05-24T17:44:26.779Z"
   },
   {
    "duration": 43,
    "start_time": "2024-05-24T17:44:26.785Z"
   },
   {
    "duration": 54,
    "start_time": "2024-05-24T17:44:26.830Z"
   },
   {
    "duration": 49,
    "start_time": "2024-05-24T17:44:26.886Z"
   },
   {
    "duration": 6,
    "start_time": "2024-05-24T17:44:26.936Z"
   },
   {
    "duration": 42,
    "start_time": "2024-05-24T17:44:26.943Z"
   },
   {
    "duration": 25,
    "start_time": "2024-05-24T17:44:26.986Z"
   },
   {
    "duration": 47,
    "start_time": "2024-05-24T17:44:27.013Z"
   },
   {
    "duration": 37,
    "start_time": "2024-05-24T17:44:27.061Z"
   },
   {
    "duration": 44,
    "start_time": "2024-05-24T17:44:27.100Z"
   },
   {
    "duration": 65,
    "start_time": "2024-05-24T17:44:27.145Z"
   },
   {
    "duration": 90,
    "start_time": "2024-05-24T17:44:27.213Z"
   },
   {
    "duration": 156,
    "start_time": "2024-05-24T17:44:27.305Z"
   },
   {
    "duration": 38,
    "start_time": "2024-05-24T17:44:27.463Z"
   },
   {
    "duration": 69,
    "start_time": "2024-05-24T17:44:27.503Z"
   },
   {
    "duration": 78,
    "start_time": "2024-05-24T17:44:27.574Z"
   },
   {
    "duration": 39,
    "start_time": "2024-05-24T17:44:27.654Z"
   },
   {
    "duration": 67,
    "start_time": "2024-05-24T17:44:27.695Z"
   },
   {
    "duration": 40,
    "start_time": "2024-05-24T17:44:27.763Z"
   },
   {
    "duration": 60,
    "start_time": "2024-05-24T17:44:27.805Z"
   },
   {
    "duration": 50,
    "start_time": "2024-05-24T17:44:27.867Z"
   },
   {
    "duration": 31,
    "start_time": "2024-05-24T17:44:27.919Z"
   },
   {
    "duration": 55,
    "start_time": "2024-05-24T17:44:27.952Z"
   },
   {
    "duration": 46,
    "start_time": "2024-05-24T17:44:28.009Z"
   },
   {
    "duration": 78,
    "start_time": "2024-05-24T17:44:28.057Z"
   },
   {
    "duration": 44,
    "start_time": "2024-05-24T17:44:28.137Z"
   },
   {
    "duration": 55,
    "start_time": "2024-05-24T17:44:28.183Z"
   },
   {
    "duration": 61,
    "start_time": "2024-05-24T17:44:28.239Z"
   },
   {
    "duration": 72,
    "start_time": "2024-05-24T17:44:28.301Z"
   },
   {
    "duration": 45,
    "start_time": "2024-05-24T17:44:28.375Z"
   },
   {
    "duration": 52,
    "start_time": "2024-05-24T17:44:28.427Z"
   },
   {
    "duration": 64,
    "start_time": "2024-05-24T17:44:28.481Z"
   },
   {
    "duration": 74,
    "start_time": "2024-05-24T17:44:28.547Z"
   },
   {
    "duration": 58,
    "start_time": "2024-05-24T17:44:28.622Z"
   },
   {
    "duration": 68,
    "start_time": "2024-05-24T17:44:28.681Z"
   },
   {
    "duration": 46,
    "start_time": "2024-05-24T17:44:28.751Z"
   },
   {
    "duration": 40,
    "start_time": "2024-05-24T17:44:28.798Z"
   },
   {
    "duration": 57,
    "start_time": "2024-05-24T17:44:28.840Z"
   },
   {
    "duration": 73,
    "start_time": "2024-05-24T17:44:28.899Z"
   },
   {
    "duration": 36,
    "start_time": "2024-05-24T17:44:28.974Z"
   },
   {
    "duration": 65,
    "start_time": "2024-05-24T17:44:29.012Z"
   },
   {
    "duration": 37,
    "start_time": "2024-05-24T17:44:29.079Z"
   },
   {
    "duration": 48,
    "start_time": "2024-05-24T17:44:29.117Z"
   },
   {
    "duration": 41,
    "start_time": "2024-05-24T17:44:29.167Z"
   },
   {
    "duration": 169,
    "start_time": "2024-05-24T17:44:29.210Z"
   },
   {
    "duration": 407,
    "start_time": "2024-05-24T17:44:29.380Z"
   },
   {
    "duration": 418,
    "start_time": "2024-05-24T17:44:29.789Z"
   },
   {
    "duration": 442,
    "start_time": "2024-05-24T17:44:30.209Z"
   },
   {
    "duration": 1053,
    "start_time": "2024-05-24T17:44:30.653Z"
   },
   {
    "duration": 2966,
    "start_time": "2024-05-24T17:44:31.707Z"
   },
   {
    "duration": 25,
    "start_time": "2024-05-24T17:44:34.675Z"
   },
   {
    "duration": 45,
    "start_time": "2024-05-24T17:44:34.702Z"
   },
   {
    "duration": 4,
    "start_time": "2024-05-24T17:44:34.748Z"
   },
   {
    "duration": 21,
    "start_time": "2024-05-24T17:44:34.753Z"
   },
   {
    "duration": 5,
    "start_time": "2024-05-24T17:44:34.776Z"
   },
   {
    "duration": 16768,
    "start_time": "2024-05-24T17:44:34.783Z"
   },
   {
    "duration": 3,
    "start_time": "2024-05-24T17:44:51.553Z"
   },
   {
    "duration": 60,
    "start_time": "2024-05-24T17:44:51.558Z"
   },
   {
    "duration": 239919,
    "start_time": "2024-05-24T17:44:51.620Z"
   },
   {
    "duration": 3,
    "start_time": "2024-05-24T17:48:51.541Z"
   },
   {
    "duration": 40,
    "start_time": "2024-05-24T17:48:51.546Z"
   },
   {
    "duration": 7,
    "start_time": "2024-05-24T17:48:51.588Z"
   },
   {
    "duration": 215389,
    "start_time": "2024-05-24T17:48:51.597Z"
   },
   {
    "duration": 6,
    "start_time": "2024-05-24T17:52:26.988Z"
   },
   {
    "duration": 489,
    "start_time": "2024-05-24T17:52:26.996Z"
   },
   {
    "duration": 435,
    "start_time": "2024-05-24T17:52:27.486Z"
   },
   {
    "duration": 3,
    "start_time": "2024-05-24T17:52:27.922Z"
   },
   {
    "duration": 23,
    "start_time": "2024-05-24T17:52:27.927Z"
   },
   {
    "duration": 14,
    "start_time": "2024-05-24T17:52:27.951Z"
   },
   {
    "duration": 199,
    "start_time": "2024-05-24T17:52:27.967Z"
   },
   {
    "duration": 123,
    "start_time": "2024-05-24T17:58:44.823Z"
   },
   {
    "duration": 71,
    "start_time": "2024-05-24T17:59:05.773Z"
   },
   {
    "duration": 156,
    "start_time": "2024-05-24T17:59:19.132Z"
   },
   {
    "duration": 11,
    "start_time": "2024-05-24T18:02:05.891Z"
   },
   {
    "duration": 270,
    "start_time": "2024-05-24T18:02:33.400Z"
   },
   {
    "duration": 287,
    "start_time": "2024-05-24T18:04:34.905Z"
   },
   {
    "duration": 1579,
    "start_time": "2024-05-24T18:23:57.684Z"
   },
   {
    "duration": 3,
    "start_time": "2024-05-24T18:23:59.265Z"
   },
   {
    "duration": 5,
    "start_time": "2024-05-24T18:23:59.269Z"
   },
   {
    "duration": 4693,
    "start_time": "2024-05-24T18:23:59.276Z"
   },
   {
    "duration": 585,
    "start_time": "2024-05-24T18:24:03.971Z"
   },
   {
    "duration": 4,
    "start_time": "2024-05-24T18:24:04.557Z"
   },
   {
    "duration": 17,
    "start_time": "2024-05-24T18:24:04.562Z"
   },
   {
    "duration": 7,
    "start_time": "2024-05-24T18:24:04.581Z"
   },
   {
    "duration": 16,
    "start_time": "2024-05-24T18:24:04.590Z"
   },
   {
    "duration": 23,
    "start_time": "2024-05-24T18:24:04.609Z"
   },
   {
    "duration": 934,
    "start_time": "2024-05-24T18:24:04.633Z"
   },
   {
    "duration": 5,
    "start_time": "2024-05-24T18:24:05.568Z"
   },
   {
    "duration": 276,
    "start_time": "2024-05-24T18:24:05.575Z"
   },
   {
    "duration": 520,
    "start_time": "2024-05-24T18:24:05.853Z"
   },
   {
    "duration": 494,
    "start_time": "2024-05-24T18:24:06.374Z"
   },
   {
    "duration": 317,
    "start_time": "2024-05-24T18:24:06.869Z"
   },
   {
    "duration": 501,
    "start_time": "2024-05-24T18:24:07.188Z"
   },
   {
    "duration": 255,
    "start_time": "2024-05-24T18:24:07.691Z"
   },
   {
    "duration": 14732,
    "start_time": "2024-05-24T18:24:07.949Z"
   },
   {
    "duration": 562,
    "start_time": "2024-05-24T18:24:22.682Z"
   },
   {
    "duration": 135,
    "start_time": "2024-05-24T18:24:23.245Z"
   },
   {
    "duration": 215,
    "start_time": "2024-05-24T18:24:23.382Z"
   },
   {
    "duration": 406,
    "start_time": "2024-05-24T18:24:23.598Z"
   },
   {
    "duration": 28,
    "start_time": "2024-05-24T18:24:24.006Z"
   },
   {
    "duration": 23,
    "start_time": "2024-05-24T18:24:24.035Z"
   },
   {
    "duration": 447,
    "start_time": "2024-05-24T18:24:24.060Z"
   },
   {
    "duration": 1383,
    "start_time": "2024-05-24T18:24:24.509Z"
   },
   {
    "duration": 416,
    "start_time": "2024-05-24T18:24:25.896Z"
   },
   {
    "duration": 7,
    "start_time": "2024-05-24T18:24:26.313Z"
   },
   {
    "duration": 16,
    "start_time": "2024-05-24T18:24:26.322Z"
   },
   {
    "duration": 7,
    "start_time": "2024-05-24T18:24:26.339Z"
   },
   {
    "duration": 49,
    "start_time": "2024-05-24T18:24:26.347Z"
   },
   {
    "duration": 53,
    "start_time": "2024-05-24T18:24:26.397Z"
   },
   {
    "duration": 134,
    "start_time": "2024-05-24T18:24:26.452Z"
   },
   {
    "duration": 16,
    "start_time": "2024-05-24T18:24:26.588Z"
   },
   {
    "duration": 14,
    "start_time": "2024-05-24T18:24:26.605Z"
   },
   {
    "duration": 20,
    "start_time": "2024-05-24T18:24:26.620Z"
   },
   {
    "duration": 55,
    "start_time": "2024-05-24T18:24:26.642Z"
   },
   {
    "duration": 5,
    "start_time": "2024-05-24T18:24:26.698Z"
   },
   {
    "duration": 29,
    "start_time": "2024-05-24T18:24:26.704Z"
   },
   {
    "duration": 18,
    "start_time": "2024-05-24T18:24:26.734Z"
   },
   {
    "duration": 35,
    "start_time": "2024-05-24T18:24:26.753Z"
   },
   {
    "duration": 22,
    "start_time": "2024-05-24T18:24:26.789Z"
   },
   {
    "duration": 37,
    "start_time": "2024-05-24T18:24:26.813Z"
   },
   {
    "duration": 41,
    "start_time": "2024-05-24T18:24:26.852Z"
   },
   {
    "duration": 28,
    "start_time": "2024-05-24T18:24:26.895Z"
   },
   {
    "duration": 51,
    "start_time": "2024-05-24T18:24:26.925Z"
   },
   {
    "duration": 6,
    "start_time": "2024-05-24T18:24:26.977Z"
   },
   {
    "duration": 14,
    "start_time": "2024-05-24T18:24:26.984Z"
   },
   {
    "duration": 421,
    "start_time": "2024-05-24T18:24:27.000Z"
   },
   {
    "duration": 7,
    "start_time": "2024-05-24T18:24:27.423Z"
   },
   {
    "duration": 16,
    "start_time": "2024-05-24T18:24:27.432Z"
   },
   {
    "duration": 53,
    "start_time": "2024-05-24T18:24:27.450Z"
   },
   {
    "duration": 35,
    "start_time": "2024-05-24T18:24:27.504Z"
   },
   {
    "duration": 63,
    "start_time": "2024-05-24T18:24:27.541Z"
   },
   {
    "duration": 6,
    "start_time": "2024-05-24T18:24:27.606Z"
   },
   {
    "duration": 23,
    "start_time": "2024-05-24T18:24:27.614Z"
   },
   {
    "duration": 38,
    "start_time": "2024-05-24T18:24:27.639Z"
   },
   {
    "duration": 75,
    "start_time": "2024-05-24T18:24:27.679Z"
   },
   {
    "duration": 32,
    "start_time": "2024-05-24T18:24:27.756Z"
   },
   {
    "duration": 41,
    "start_time": "2024-05-24T18:24:27.789Z"
   },
   {
    "duration": 56,
    "start_time": "2024-05-24T18:24:27.832Z"
   },
   {
    "duration": 67,
    "start_time": "2024-05-24T18:24:27.890Z"
   },
   {
    "duration": 178,
    "start_time": "2024-05-24T18:24:27.959Z"
   },
   {
    "duration": 41,
    "start_time": "2024-05-24T18:24:28.139Z"
   },
   {
    "duration": 68,
    "start_time": "2024-05-24T18:24:28.181Z"
   },
   {
    "duration": 56,
    "start_time": "2024-05-24T18:24:28.250Z"
   },
   {
    "duration": 37,
    "start_time": "2024-05-24T18:24:28.308Z"
   },
   {
    "duration": 71,
    "start_time": "2024-05-24T18:24:28.346Z"
   },
   {
    "duration": 41,
    "start_time": "2024-05-24T18:24:28.419Z"
   },
   {
    "duration": 55,
    "start_time": "2024-05-24T18:24:28.473Z"
   },
   {
    "duration": 67,
    "start_time": "2024-05-24T18:24:28.530Z"
   },
   {
    "duration": 33,
    "start_time": "2024-05-24T18:24:28.599Z"
   },
   {
    "duration": 61,
    "start_time": "2024-05-24T18:24:28.634Z"
   },
   {
    "duration": 56,
    "start_time": "2024-05-24T18:24:28.697Z"
   },
   {
    "duration": 76,
    "start_time": "2024-05-24T18:24:28.755Z"
   },
   {
    "duration": 42,
    "start_time": "2024-05-24T18:24:28.833Z"
   },
   {
    "duration": 48,
    "start_time": "2024-05-24T18:24:28.877Z"
   },
   {
    "duration": 64,
    "start_time": "2024-05-24T18:24:28.927Z"
   },
   {
    "duration": 73,
    "start_time": "2024-05-24T18:24:28.992Z"
   },
   {
    "duration": 41,
    "start_time": "2024-05-24T18:24:29.072Z"
   },
   {
    "duration": 69,
    "start_time": "2024-05-24T18:24:29.119Z"
   },
   {
    "duration": 53,
    "start_time": "2024-05-24T18:24:29.190Z"
   },
   {
    "duration": 81,
    "start_time": "2024-05-24T18:24:29.245Z"
   },
   {
    "duration": 37,
    "start_time": "2024-05-24T18:24:29.327Z"
   },
   {
    "duration": 69,
    "start_time": "2024-05-24T18:24:29.372Z"
   },
   {
    "duration": 48,
    "start_time": "2024-05-24T18:24:29.443Z"
   },
   {
    "duration": 39,
    "start_time": "2024-05-24T18:24:29.493Z"
   },
   {
    "duration": 65,
    "start_time": "2024-05-24T18:24:29.534Z"
   },
   {
    "duration": 48,
    "start_time": "2024-05-24T18:24:29.601Z"
   },
   {
    "duration": 49,
    "start_time": "2024-05-24T18:24:29.650Z"
   },
   {
    "duration": 61,
    "start_time": "2024-05-24T18:24:29.700Z"
   },
   {
    "duration": 34,
    "start_time": "2024-05-24T18:24:29.763Z"
   },
   {
    "duration": 30,
    "start_time": "2024-05-24T18:24:29.799Z"
   },
   {
    "duration": 47,
    "start_time": "2024-05-24T18:24:29.830Z"
   },
   {
    "duration": 163,
    "start_time": "2024-05-24T18:24:29.879Z"
   },
   {
    "duration": 451,
    "start_time": "2024-05-24T18:24:30.044Z"
   },
   {
    "duration": 425,
    "start_time": "2024-05-24T18:24:30.497Z"
   },
   {
    "duration": 469,
    "start_time": "2024-05-24T18:24:30.924Z"
   },
   {
    "duration": 1140,
    "start_time": "2024-05-24T18:24:31.394Z"
   },
   {
    "duration": 2999,
    "start_time": "2024-05-24T18:24:32.536Z"
   },
   {
    "duration": 36,
    "start_time": "2024-05-24T18:24:35.537Z"
   },
   {
    "duration": 46,
    "start_time": "2024-05-24T18:24:35.575Z"
   },
   {
    "duration": 20,
    "start_time": "2024-05-24T18:24:35.623Z"
   },
   {
    "duration": 73,
    "start_time": "2024-05-24T18:24:35.645Z"
   },
   {
    "duration": 17,
    "start_time": "2024-05-24T18:24:35.720Z"
   },
   {
    "duration": 16303,
    "start_time": "2024-05-24T18:24:35.738Z"
   },
   {
    "duration": 3,
    "start_time": "2024-05-24T18:24:52.043Z"
   },
   {
    "duration": 30,
    "start_time": "2024-05-24T18:24:52.047Z"
   },
   {
    "duration": 338566,
    "start_time": "2024-05-24T18:24:52.079Z"
   },
   {
    "duration": 4,
    "start_time": "2024-05-24T18:30:30.647Z"
   },
   {
    "duration": 173,
    "start_time": "2024-05-24T18:30:30.652Z"
   },
   {
    "duration": 57,
    "start_time": "2024-05-24T18:30:30.827Z"
   },
   {
    "duration": 136769,
    "start_time": "2024-05-24T18:30:30.886Z"
   },
   {
    "duration": 18,
    "start_time": "2024-05-24T18:32:47.656Z"
   },
   {
    "duration": 457,
    "start_time": "2024-05-24T18:32:47.676Z"
   },
   {
    "duration": 468,
    "start_time": "2024-05-24T18:32:48.135Z"
   },
   {
    "duration": 3,
    "start_time": "2024-05-24T18:32:48.605Z"
   },
   {
    "duration": 8,
    "start_time": "2024-05-24T18:32:48.610Z"
   },
   {
    "duration": 6,
    "start_time": "2024-05-24T18:32:48.620Z"
   },
   {
    "duration": 206,
    "start_time": "2024-05-24T18:32:48.628Z"
   },
   {
    "duration": 10,
    "start_time": "2024-05-24T18:32:48.836Z"
   },
   {
    "duration": 268,
    "start_time": "2024-05-24T18:32:48.847Z"
   },
   {
    "duration": 4369,
    "start_time": "2024-05-28T06:01:44.392Z"
   },
   {
    "duration": 3,
    "start_time": "2024-05-28T06:01:48.763Z"
   },
   {
    "duration": 23,
    "start_time": "2024-05-28T06:01:48.768Z"
   },
   {
    "duration": 4765,
    "start_time": "2024-05-28T06:01:48.793Z"
   },
   {
    "duration": 650,
    "start_time": "2024-05-28T06:01:53.560Z"
   },
   {
    "duration": 4,
    "start_time": "2024-05-28T06:01:54.212Z"
   },
   {
    "duration": 22,
    "start_time": "2024-05-28T06:01:54.218Z"
   },
   {
    "duration": 13,
    "start_time": "2024-05-28T06:01:54.242Z"
   },
   {
    "duration": 24,
    "start_time": "2024-05-28T06:01:54.256Z"
   },
   {
    "duration": 21,
    "start_time": "2024-05-28T06:01:54.282Z"
   },
   {
    "duration": 847,
    "start_time": "2024-05-28T06:01:54.305Z"
   },
   {
    "duration": 4,
    "start_time": "2024-05-28T06:01:55.154Z"
   },
   {
    "duration": 300,
    "start_time": "2024-05-28T06:01:55.160Z"
   },
   {
    "duration": 9,
    "start_time": "2024-05-28T06:01:59.702Z"
   },
   {
    "duration": 1841,
    "start_time": "2024-05-28T07:17:59.685Z"
   },
   {
    "duration": 4,
    "start_time": "2024-05-28T07:18:01.528Z"
   },
   {
    "duration": 3,
    "start_time": "2024-05-28T07:18:02.460Z"
   },
   {
    "duration": 7534,
    "start_time": "2024-05-28T07:18:02.864Z"
   },
   {
    "duration": 830,
    "start_time": "2024-05-28T07:18:10.400Z"
   },
   {
    "duration": 4,
    "start_time": "2024-05-28T07:18:11.232Z"
   },
   {
    "duration": 44,
    "start_time": "2024-05-28T07:18:11.238Z"
   },
   {
    "duration": 41,
    "start_time": "2024-05-28T07:18:11.284Z"
   },
   {
    "duration": 57,
    "start_time": "2024-05-28T07:18:11.327Z"
   },
   {
    "duration": 57,
    "start_time": "2024-05-28T07:18:11.386Z"
   },
   {
    "duration": 791,
    "start_time": "2024-05-28T07:18:11.445Z"
   },
   {
    "duration": 5,
    "start_time": "2024-05-28T07:18:12.238Z"
   },
   {
    "duration": 319,
    "start_time": "2024-05-28T07:18:12.245Z"
   },
   {
    "duration": 417,
    "start_time": "2024-05-28T07:18:12.566Z"
   },
   {
    "duration": 565,
    "start_time": "2024-05-28T07:18:12.985Z"
   },
   {
    "duration": 308,
    "start_time": "2024-05-28T07:18:13.552Z"
   },
   {
    "duration": 3343,
    "start_time": "2024-05-28T07:18:14.691Z"
   },
   {
    "duration": 270,
    "start_time": "2024-05-28T07:18:18.036Z"
   },
   {
    "duration": 14845,
    "start_time": "2024-05-28T07:18:18.307Z"
   },
   {
    "duration": 586,
    "start_time": "2024-05-28T07:18:33.154Z"
   },
   {
    "duration": 145,
    "start_time": "2024-05-28T07:18:33.741Z"
   },
   {
    "duration": 220,
    "start_time": "2024-05-28T07:18:33.888Z"
   },
   {
    "duration": 398,
    "start_time": "2024-05-28T07:18:34.109Z"
   },
   {
    "duration": 27,
    "start_time": "2024-05-28T07:18:34.509Z"
   },
   {
    "duration": 4,
    "start_time": "2024-05-28T07:18:34.537Z"
   },
   {
    "duration": 415,
    "start_time": "2024-05-28T07:18:34.560Z"
   },
   {
    "duration": 1373,
    "start_time": "2024-05-28T07:18:34.976Z"
   },
   {
    "duration": 411,
    "start_time": "2024-05-28T07:18:36.350Z"
   },
   {
    "duration": 9,
    "start_time": "2024-05-28T07:18:36.762Z"
   },
   {
    "duration": 36,
    "start_time": "2024-05-28T07:18:36.773Z"
   },
   {
    "duration": 35,
    "start_time": "2024-05-28T07:18:36.810Z"
   },
   {
    "duration": 33,
    "start_time": "2024-05-28T07:18:36.847Z"
   },
   {
    "duration": 156,
    "start_time": "2024-05-28T07:18:36.881Z"
   },
   {
    "duration": 23,
    "start_time": "2024-05-28T07:18:37.039Z"
   },
   {
    "duration": 20,
    "start_time": "2024-05-28T07:18:37.064Z"
   },
   {
    "duration": 28,
    "start_time": "2024-05-28T07:18:37.087Z"
   },
   {
    "duration": 50,
    "start_time": "2024-05-28T07:18:37.118Z"
   },
   {
    "duration": 7,
    "start_time": "2024-05-28T07:18:37.170Z"
   },
   {
    "duration": 46,
    "start_time": "2024-05-28T07:18:37.179Z"
   },
   {
    "duration": 35,
    "start_time": "2024-05-28T07:18:37.228Z"
   },
   {
    "duration": 32,
    "start_time": "2024-05-28T07:18:37.265Z"
   },
   {
    "duration": 35,
    "start_time": "2024-05-28T07:18:37.298Z"
   },
   {
    "duration": 46,
    "start_time": "2024-05-28T07:18:37.334Z"
   },
   {
    "duration": 35,
    "start_time": "2024-05-28T07:18:37.387Z"
   },
   {
    "duration": 39,
    "start_time": "2024-05-28T07:18:37.424Z"
   },
   {
    "duration": 40,
    "start_time": "2024-05-28T07:18:37.465Z"
   },
   {
    "duration": 5,
    "start_time": "2024-05-28T07:18:37.507Z"
   },
   {
    "duration": 8,
    "start_time": "2024-05-28T07:18:37.514Z"
   },
   {
    "duration": 424,
    "start_time": "2024-05-28T07:18:37.524Z"
   },
   {
    "duration": 11,
    "start_time": "2024-05-28T07:18:37.950Z"
   },
   {
    "duration": 5,
    "start_time": "2024-05-28T07:18:37.962Z"
   },
   {
    "duration": 57,
    "start_time": "2024-05-28T07:18:37.969Z"
   },
   {
    "duration": 45,
    "start_time": "2024-05-28T07:18:38.028Z"
   },
   {
    "duration": 49,
    "start_time": "2024-05-28T07:18:38.074Z"
   },
   {
    "duration": 5,
    "start_time": "2024-05-28T07:18:38.125Z"
   },
   {
    "duration": 39,
    "start_time": "2024-05-28T07:18:38.131Z"
   },
   {
    "duration": 20,
    "start_time": "2024-05-28T07:18:38.172Z"
   },
   {
    "duration": 57,
    "start_time": "2024-05-28T07:18:38.194Z"
   },
   {
    "duration": 33,
    "start_time": "2024-05-28T07:18:38.253Z"
   },
   {
    "duration": 41,
    "start_time": "2024-05-28T07:18:38.288Z"
   },
   {
    "duration": 66,
    "start_time": "2024-05-28T07:18:38.331Z"
   },
   {
    "duration": 75,
    "start_time": "2024-05-28T07:18:38.399Z"
   },
   {
    "duration": 156,
    "start_time": "2024-05-28T07:18:38.476Z"
   },
   {
    "duration": 45,
    "start_time": "2024-05-28T07:18:38.634Z"
   },
   {
    "duration": 70,
    "start_time": "2024-05-28T07:18:38.681Z"
   },
   {
    "duration": 60,
    "start_time": "2024-05-28T07:18:38.753Z"
   },
   {
    "duration": 59,
    "start_time": "2024-05-28T07:18:38.815Z"
   },
   {
    "duration": 60,
    "start_time": "2024-05-28T07:18:38.876Z"
   },
   {
    "duration": 56,
    "start_time": "2024-05-28T07:18:38.938Z"
   },
   {
    "duration": 66,
    "start_time": "2024-05-28T07:18:38.995Z"
   },
   {
    "duration": 37,
    "start_time": "2024-05-28T07:18:39.062Z"
   },
   {
    "duration": 32,
    "start_time": "2024-05-28T07:18:39.101Z"
   },
   {
    "duration": 64,
    "start_time": "2024-05-28T07:18:39.135Z"
   },
   {
    "duration": 51,
    "start_time": "2024-05-28T07:18:39.200Z"
   },
   {
    "duration": 73,
    "start_time": "2024-05-28T07:18:39.252Z"
   },
   {
    "duration": 47,
    "start_time": "2024-05-28T07:18:39.327Z"
   },
   {
    "duration": 50,
    "start_time": "2024-05-28T07:18:39.376Z"
   },
   {
    "duration": 63,
    "start_time": "2024-05-28T07:18:39.427Z"
   },
   {
    "duration": 71,
    "start_time": "2024-05-28T07:18:39.491Z"
   },
   {
    "duration": 36,
    "start_time": "2024-05-28T07:18:39.563Z"
   },
   {
    "duration": 65,
    "start_time": "2024-05-28T07:18:39.601Z"
   },
   {
    "duration": 50,
    "start_time": "2024-05-28T07:18:39.668Z"
   },
   {
    "duration": 80,
    "start_time": "2024-05-28T07:18:39.720Z"
   },
   {
    "duration": 42,
    "start_time": "2024-05-28T07:18:39.802Z"
   },
   {
    "duration": 74,
    "start_time": "2024-05-28T07:18:39.845Z"
   },
   {
    "duration": 61,
    "start_time": "2024-05-28T07:18:39.921Z"
   },
   {
    "duration": 43,
    "start_time": "2024-05-28T07:18:39.984Z"
   },
   {
    "duration": 67,
    "start_time": "2024-05-28T07:18:40.029Z"
   },
   {
    "duration": 49,
    "start_time": "2024-05-28T07:18:40.098Z"
   },
   {
    "duration": 49,
    "start_time": "2024-05-28T07:18:40.149Z"
   },
   {
    "duration": 54,
    "start_time": "2024-05-28T07:18:40.199Z"
   },
   {
    "duration": 35,
    "start_time": "2024-05-28T07:18:40.261Z"
   },
   {
    "duration": 40,
    "start_time": "2024-05-28T07:18:40.298Z"
   },
   {
    "duration": 46,
    "start_time": "2024-05-28T07:18:40.343Z"
   },
   {
    "duration": 179,
    "start_time": "2024-05-28T07:18:40.391Z"
   },
   {
    "duration": 423,
    "start_time": "2024-05-28T07:18:40.572Z"
   },
   {
    "duration": 429,
    "start_time": "2024-05-28T07:18:40.997Z"
   },
   {
    "duration": 328,
    "start_time": "2024-05-28T07:18:46.240Z"
   },
   {
    "duration": 348,
    "start_time": "2024-05-28T07:18:47.012Z"
   },
   {
    "duration": 10,
    "start_time": "2024-05-28T07:18:47.681Z"
   },
   {
    "duration": 180,
    "start_time": "2024-05-28T07:18:53.006Z"
   },
   {
    "duration": 3,
    "start_time": "2024-05-28T07:18:53.525Z"
   },
   {
    "duration": 661,
    "start_time": "2024-05-28T07:18:54.229Z"
   },
   {
    "duration": 492,
    "start_time": "2024-05-28T07:18:54.891Z"
   },
   {
    "duration": 1641,
    "start_time": "2024-05-28T07:20:10.220Z"
   },
   {
    "duration": 6847,
    "start_time": "2024-05-28T07:20:11.863Z"
   },
   {
    "duration": 1406,
    "start_time": "2024-05-28T07:22:07.906Z"
   },
   {
    "duration": 3323,
    "start_time": "2024-05-28T07:22:09.314Z"
   },
   {
    "duration": 1336,
    "start_time": "2024-05-28T07:22:37.444Z"
   },
   {
    "duration": 3287,
    "start_time": "2024-05-28T07:22:38.782Z"
   },
   {
    "duration": 4,
    "start_time": "2024-05-28T07:22:58.193Z"
   },
   {
    "duration": 3,
    "start_time": "2024-05-28T07:22:59.514Z"
   },
   {
    "duration": 2,
    "start_time": "2024-05-28T07:23:00.643Z"
   },
   {
    "duration": 17152,
    "start_time": "2024-05-28T07:23:01.121Z"
   },
   {
    "duration": 87,
    "start_time": "2024-05-28T07:23:18.275Z"
   },
   {
    "duration": 9,
    "start_time": "2024-05-28T07:23:18.364Z"
   },
   {
    "duration": 3,
    "start_time": "2024-05-28T07:23:18.376Z"
   },
   {
    "duration": 314321,
    "start_time": "2024-05-28T07:23:18.380Z"
   },
   {
    "duration": 5,
    "start_time": "2024-05-28T07:28:32.703Z"
   },
   {
    "duration": 7,
    "start_time": "2024-05-28T07:28:32.709Z"
   },
   {
    "duration": 4,
    "start_time": "2024-05-28T07:28:32.718Z"
   },
   {
    "duration": 6,
    "start_time": "2024-05-28T07:28:32.724Z"
   },
   {
    "duration": 325744,
    "start_time": "2024-05-28T07:28:32.732Z"
   },
   {
    "duration": 4,
    "start_time": "2024-05-28T07:33:58.478Z"
   },
   {
    "duration": 24,
    "start_time": "2024-05-28T07:33:58.483Z"
   },
   {
    "duration": 32,
    "start_time": "2024-05-28T07:33:58.508Z"
   },
   {
    "duration": 232680,
    "start_time": "2024-05-28T07:33:58.542Z"
   },
   {
    "duration": 4,
    "start_time": "2024-05-28T07:37:51.223Z"
   },
   {
    "duration": 24,
    "start_time": "2024-05-28T07:37:51.228Z"
   },
   {
    "duration": 3,
    "start_time": "2024-05-28T07:41:01.342Z"
   },
   {
    "duration": 349,
    "start_time": "2024-05-28T07:41:01.979Z"
   },
   {
    "duration": 485,
    "start_time": "2024-05-28T07:41:03.107Z"
   },
   {
    "duration": 11,
    "start_time": "2024-05-28T07:41:21.563Z"
   },
   {
    "duration": 8,
    "start_time": "2024-05-28T07:41:48.773Z"
   },
   {
    "duration": 7,
    "start_time": "2024-05-28T07:43:52.768Z"
   },
   {
    "duration": 73,
    "start_time": "2024-05-28T07:44:13.097Z"
   },
   {
    "duration": 11,
    "start_time": "2024-05-28T07:44:45.648Z"
   },
   {
    "duration": 15,
    "start_time": "2024-05-28T07:44:59.160Z"
   },
   {
    "duration": 11,
    "start_time": "2024-05-28T07:45:32.652Z"
   },
   {
    "duration": 394,
    "start_time": "2024-05-28T07:45:41.413Z"
   },
   {
    "duration": 1647,
    "start_time": "2024-05-28T07:49:02.003Z"
   },
   {
    "duration": 3,
    "start_time": "2024-05-28T07:49:03.652Z"
   },
   {
    "duration": 11,
    "start_time": "2024-05-28T07:49:03.656Z"
   },
   {
    "duration": 6968,
    "start_time": "2024-05-28T07:49:03.669Z"
   },
   {
    "duration": 801,
    "start_time": "2024-05-28T07:49:10.639Z"
   },
   {
    "duration": 5,
    "start_time": "2024-05-28T07:49:11.441Z"
   },
   {
    "duration": 64,
    "start_time": "2024-05-28T07:49:11.448Z"
   },
   {
    "duration": 47,
    "start_time": "2024-05-28T07:49:11.513Z"
   },
   {
    "duration": 50,
    "start_time": "2024-05-28T07:49:11.561Z"
   },
   {
    "duration": 128,
    "start_time": "2024-05-28T07:49:11.613Z"
   },
   {
    "duration": 764,
    "start_time": "2024-05-28T07:49:11.744Z"
   },
   {
    "duration": 4,
    "start_time": "2024-05-28T07:49:12.510Z"
   },
   {
    "duration": 333,
    "start_time": "2024-05-28T07:49:12.516Z"
   },
   {
    "duration": 394,
    "start_time": "2024-05-28T07:49:12.852Z"
   },
   {
    "duration": 571,
    "start_time": "2024-05-28T07:49:13.247Z"
   },
   {
    "duration": 335,
    "start_time": "2024-05-28T07:49:13.820Z"
   },
   {
    "duration": 545,
    "start_time": "2024-05-28T07:49:14.161Z"
   },
   {
    "duration": 277,
    "start_time": "2024-05-28T07:49:14.708Z"
   },
   {
    "duration": 13482,
    "start_time": "2024-05-28T07:49:14.987Z"
   },
   {
    "duration": 572,
    "start_time": "2024-05-28T07:49:28.471Z"
   },
   {
    "duration": 129,
    "start_time": "2024-05-28T07:49:29.045Z"
   },
   {
    "duration": 218,
    "start_time": "2024-05-28T07:49:29.177Z"
   },
   {
    "duration": 391,
    "start_time": "2024-05-28T07:49:29.397Z"
   },
   {
    "duration": 28,
    "start_time": "2024-05-28T07:49:29.790Z"
   },
   {
    "duration": 16,
    "start_time": "2024-05-28T07:49:29.819Z"
   },
   {
    "duration": 427,
    "start_time": "2024-05-28T07:49:29.837Z"
   },
   {
    "duration": 1423,
    "start_time": "2024-05-28T07:49:30.266Z"
   },
   {
    "duration": 411,
    "start_time": "2024-05-28T07:49:31.690Z"
   },
   {
    "duration": 8,
    "start_time": "2024-05-28T07:49:32.102Z"
   },
   {
    "duration": 14,
    "start_time": "2024-05-28T07:49:32.112Z"
   },
   {
    "duration": 45,
    "start_time": "2024-05-28T07:49:32.127Z"
   },
   {
    "duration": 57,
    "start_time": "2024-05-28T07:49:32.173Z"
   },
   {
    "duration": 139,
    "start_time": "2024-05-28T07:49:32.231Z"
   },
   {
    "duration": 16,
    "start_time": "2024-05-28T07:49:32.371Z"
   },
   {
    "duration": 33,
    "start_time": "2024-05-28T07:49:32.389Z"
   },
   {
    "duration": 26,
    "start_time": "2024-05-28T07:49:32.423Z"
   },
   {
    "duration": 18,
    "start_time": "2024-05-28T07:49:32.451Z"
   },
   {
    "duration": 10,
    "start_time": "2024-05-28T07:49:32.470Z"
   },
   {
    "duration": 27,
    "start_time": "2024-05-28T07:49:32.481Z"
   },
   {
    "duration": 16,
    "start_time": "2024-05-28T07:49:32.510Z"
   },
   {
    "duration": 53,
    "start_time": "2024-05-28T07:49:32.531Z"
   },
   {
    "duration": 30,
    "start_time": "2024-05-28T07:49:32.586Z"
   },
   {
    "duration": 44,
    "start_time": "2024-05-28T07:49:32.618Z"
   },
   {
    "duration": 31,
    "start_time": "2024-05-28T07:49:32.664Z"
   },
   {
    "duration": 41,
    "start_time": "2024-05-28T07:49:32.697Z"
   },
   {
    "duration": 42,
    "start_time": "2024-05-28T07:49:32.740Z"
   },
   {
    "duration": 5,
    "start_time": "2024-05-28T07:49:32.784Z"
   },
   {
    "duration": 8,
    "start_time": "2024-05-28T07:49:32.791Z"
   },
   {
    "duration": 443,
    "start_time": "2024-05-28T07:49:32.800Z"
   },
   {
    "duration": 18,
    "start_time": "2024-05-28T07:49:33.245Z"
   },
   {
    "duration": 6,
    "start_time": "2024-05-28T07:49:33.264Z"
   },
   {
    "duration": 44,
    "start_time": "2024-05-28T07:49:33.271Z"
   },
   {
    "duration": 50,
    "start_time": "2024-05-28T07:49:33.317Z"
   },
   {
    "duration": 48,
    "start_time": "2024-05-28T07:49:33.368Z"
   },
   {
    "duration": 5,
    "start_time": "2024-05-28T07:49:33.417Z"
   },
   {
    "duration": 37,
    "start_time": "2024-05-28T07:49:33.423Z"
   },
   {
    "duration": 21,
    "start_time": "2024-05-28T07:49:33.461Z"
   },
   {
    "duration": 36,
    "start_time": "2024-05-28T07:49:33.484Z"
   },
   {
    "duration": 42,
    "start_time": "2024-05-28T07:49:33.522Z"
   },
   {
    "duration": 59,
    "start_time": "2024-05-28T07:49:33.566Z"
   },
   {
    "duration": 46,
    "start_time": "2024-05-28T07:49:33.627Z"
   },
   {
    "duration": 62,
    "start_time": "2024-05-28T07:49:33.674Z"
   },
   {
    "duration": 166,
    "start_time": "2024-05-28T07:49:33.738Z"
   },
   {
    "duration": 42,
    "start_time": "2024-05-28T07:49:33.906Z"
   },
   {
    "duration": 92,
    "start_time": "2024-05-28T07:49:33.950Z"
   },
   {
    "duration": 61,
    "start_time": "2024-05-28T07:49:34.044Z"
   },
   {
    "duration": 40,
    "start_time": "2024-05-28T07:49:34.107Z"
   },
   {
    "duration": 72,
    "start_time": "2024-05-28T07:49:34.149Z"
   },
   {
    "duration": 59,
    "start_time": "2024-05-28T07:49:34.223Z"
   },
   {
    "duration": 69,
    "start_time": "2024-05-28T07:49:34.284Z"
   },
   {
    "duration": 53,
    "start_time": "2024-05-28T07:49:34.355Z"
   },
   {
    "duration": 34,
    "start_time": "2024-05-28T07:49:34.410Z"
   },
   {
    "duration": 123,
    "start_time": "2024-05-28T07:49:34.446Z"
   },
   {
    "duration": 77,
    "start_time": "2024-05-28T07:49:34.571Z"
   },
   {
    "duration": 108,
    "start_time": "2024-05-28T07:49:34.650Z"
   },
   {
    "duration": 40,
    "start_time": "2024-05-28T07:49:34.760Z"
   },
   {
    "duration": 70,
    "start_time": "2024-05-28T07:49:34.802Z"
   },
   {
    "duration": 48,
    "start_time": "2024-05-28T07:49:34.874Z"
   },
   {
    "duration": 73,
    "start_time": "2024-05-28T07:49:34.923Z"
   },
   {
    "duration": 42,
    "start_time": "2024-05-28T07:49:34.998Z"
   },
   {
    "duration": 61,
    "start_time": "2024-05-28T07:49:35.042Z"
   },
   {
    "duration": 50,
    "start_time": "2024-05-28T07:49:35.105Z"
   },
   {
    "duration": 107,
    "start_time": "2024-05-28T07:49:35.161Z"
   },
   {
    "duration": 63,
    "start_time": "2024-05-28T07:49:35.270Z"
   },
   {
    "duration": 89,
    "start_time": "2024-05-28T07:49:35.335Z"
   },
   {
    "duration": 61,
    "start_time": "2024-05-28T07:49:35.425Z"
   },
   {
    "duration": 70,
    "start_time": "2024-05-28T07:49:35.487Z"
   },
   {
    "duration": 54,
    "start_time": "2024-05-28T07:49:35.558Z"
   },
   {
    "duration": 55,
    "start_time": "2024-05-28T07:49:35.613Z"
   },
   {
    "duration": 73,
    "start_time": "2024-05-28T07:49:35.670Z"
   },
   {
    "duration": 61,
    "start_time": "2024-05-28T07:49:35.744Z"
   },
   {
    "duration": 37,
    "start_time": "2024-05-28T07:49:35.807Z"
   },
   {
    "duration": 72,
    "start_time": "2024-05-28T07:49:35.847Z"
   },
   {
    "duration": 73,
    "start_time": "2024-05-28T07:49:35.922Z"
   },
   {
    "duration": 164,
    "start_time": "2024-05-28T07:49:35.997Z"
   },
   {
    "duration": 405,
    "start_time": "2024-05-28T07:49:36.163Z"
   },
   {
    "duration": 402,
    "start_time": "2024-05-28T07:49:36.570Z"
   },
   {
    "duration": 340,
    "start_time": "2024-05-28T07:49:36.974Z"
   },
   {
    "duration": 317,
    "start_time": "2024-05-28T07:49:37.316Z"
   },
   {
    "duration": 10,
    "start_time": "2024-05-28T07:49:37.635Z"
   },
   {
    "duration": 214,
    "start_time": "2024-05-28T07:49:37.646Z"
   },
   {
    "duration": 4,
    "start_time": "2024-05-28T07:49:37.862Z"
   },
   {
    "duration": 1616,
    "start_time": "2024-05-28T07:49:37.867Z"
   },
   {
    "duration": 6670,
    "start_time": "2024-05-28T07:49:39.484Z"
   },
   {
    "duration": 4,
    "start_time": "2024-05-28T07:49:46.156Z"
   },
   {
    "duration": 45,
    "start_time": "2024-05-28T07:49:46.161Z"
   },
   {
    "duration": 12,
    "start_time": "2024-05-28T07:49:46.208Z"
   },
   {
    "duration": 15152,
    "start_time": "2024-05-28T07:49:46.222Z"
   },
   {
    "duration": 4,
    "start_time": "2024-05-28T07:50:01.461Z"
   },
   {
    "duration": 131,
    "start_time": "2024-05-28T07:50:01.467Z"
   },
   {
    "duration": 72,
    "start_time": "2024-05-28T07:50:01.600Z"
   },
   {
    "duration": 327219,
    "start_time": "2024-05-28T07:50:01.674Z"
   },
   {
    "duration": 4,
    "start_time": "2024-05-28T07:55:28.895Z"
   },
   {
    "duration": 6,
    "start_time": "2024-05-28T07:55:28.901Z"
   },
   {
    "duration": 23,
    "start_time": "2024-05-28T07:55:28.909Z"
   },
   {
    "duration": 13,
    "start_time": "2024-05-28T07:55:28.934Z"
   },
   {
    "duration": 184116,
    "start_time": "2024-05-28T07:55:28.948Z"
   },
   {
    "duration": 4,
    "start_time": "2024-05-28T07:58:33.066Z"
   },
   {
    "duration": 32,
    "start_time": "2024-05-28T07:58:33.072Z"
   },
   {
    "duration": 35,
    "start_time": "2024-05-28T07:58:33.105Z"
   },
   {
    "duration": 230779,
    "start_time": "2024-05-28T07:58:33.142Z"
   },
   {
    "duration": 4,
    "start_time": "2024-05-28T08:02:23.931Z"
   },
   {
    "duration": 71,
    "start_time": "2024-05-28T08:02:23.937Z"
   },
   {
    "duration": 49,
    "start_time": "2024-05-28T08:02:24.009Z"
   },
   {
    "duration": 352,
    "start_time": "2024-05-28T08:02:24.060Z"
   },
   {
    "duration": 11,
    "start_time": "2024-05-28T08:02:24.414Z"
   },
   {
    "duration": 220,
    "start_time": "2024-05-28T08:25:32.658Z"
   },
   {
    "duration": 29,
    "start_time": "2024-05-28T08:29:02.628Z"
   },
   {
    "duration": 124,
    "start_time": "2024-05-28T08:29:33.909Z"
   },
   {
    "duration": 6,
    "start_time": "2024-05-28T08:29:59.511Z"
   },
   {
    "duration": 280,
    "start_time": "2024-05-28T08:30:15.427Z"
   },
   {
    "duration": 376,
    "start_time": "2024-05-28T08:31:51.591Z"
   },
   {
    "duration": 369,
    "start_time": "2024-05-28T08:32:34.452Z"
   },
   {
    "duration": 367,
    "start_time": "2024-05-28T08:32:49.943Z"
   },
   {
    "duration": 465,
    "start_time": "2024-05-28T08:37:54.901Z"
   },
   {
    "duration": 147,
    "start_time": "2024-05-28T09:13:22.420Z"
   },
   {
    "duration": 142,
    "start_time": "2024-05-28T09:13:38.917Z"
   },
   {
    "duration": 153,
    "start_time": "2024-05-28T09:14:00.475Z"
   },
   {
    "duration": 3,
    "start_time": "2024-05-28T09:16:53.165Z"
   },
   {
    "duration": 5,
    "start_time": "2024-05-28T09:16:53.491Z"
   },
   {
    "duration": 12,
    "start_time": "2024-05-28T09:16:53.870Z"
   },
   {
    "duration": 11,
    "start_time": "2024-05-28T09:17:00.951Z"
   },
   {
    "duration": 14,
    "start_time": "2024-05-28T09:17:28.005Z"
   },
   {
    "duration": 282,
    "start_time": "2024-05-28T09:17:34.992Z"
   },
   {
    "duration": 3,
    "start_time": "2024-05-28T09:20:36.828Z"
   },
   {
    "duration": 5,
    "start_time": "2024-05-28T09:20:37.150Z"
   },
   {
    "duration": 4,
    "start_time": "2024-05-28T09:20:37.431Z"
   },
   {
    "duration": 5,
    "start_time": "2024-05-28T09:21:42.032Z"
   },
   {
    "duration": 8,
    "start_time": "2024-05-28T09:21:42.547Z"
   },
   {
    "duration": 287,
    "start_time": "2024-05-28T09:21:55.181Z"
   },
   {
    "duration": 4,
    "start_time": "2024-05-28T09:22:00.317Z"
   },
   {
    "duration": 8,
    "start_time": "2024-05-28T09:22:01.032Z"
   },
   {
    "duration": 326,
    "start_time": "2024-05-28T09:22:51.775Z"
   },
   {
    "duration": 10,
    "start_time": "2024-05-28T09:23:25.224Z"
   },
   {
    "duration": 94,
    "start_time": "2024-05-28T09:23:50.451Z"
   },
   {
    "duration": 5,
    "start_time": "2024-05-28T09:24:10.298Z"
   },
   {
    "duration": 4,
    "start_time": "2024-05-28T09:24:10.748Z"
   },
   {
    "duration": 9,
    "start_time": "2024-05-28T09:24:11.137Z"
   },
   {
    "duration": 299,
    "start_time": "2024-05-28T09:24:12.420Z"
   },
   {
    "duration": 61,
    "start_time": "2024-05-28T09:24:12.944Z"
   },
   {
    "duration": 297,
    "start_time": "2024-05-28T09:25:56.750Z"
   },
   {
    "duration": 12,
    "start_time": "2024-05-28T09:29:42.691Z"
   },
   {
    "duration": 12,
    "start_time": "2024-05-28T09:29:45.882Z"
   },
   {
    "duration": 15,
    "start_time": "2024-05-28T09:30:02.034Z"
   },
   {
    "duration": 260,
    "start_time": "2024-05-28T09:30:08.121Z"
   },
   {
    "duration": 389,
    "start_time": "2024-05-28T09:30:22.371Z"
   },
   {
    "duration": 1605,
    "start_time": "2024-05-28T09:35:11.878Z"
   },
   {
    "duration": 2,
    "start_time": "2024-05-28T09:35:13.485Z"
   },
   {
    "duration": 27,
    "start_time": "2024-05-28T09:35:13.489Z"
   },
   {
    "duration": 7083,
    "start_time": "2024-05-28T09:35:13.518Z"
   },
   {
    "duration": 833,
    "start_time": "2024-05-28T09:35:20.603Z"
   },
   {
    "duration": 3,
    "start_time": "2024-05-28T09:35:21.438Z"
   },
   {
    "duration": 77,
    "start_time": "2024-05-28T09:35:21.443Z"
   },
   {
    "duration": 40,
    "start_time": "2024-05-28T09:35:21.522Z"
   },
   {
    "duration": 50,
    "start_time": "2024-05-28T09:35:21.564Z"
   },
   {
    "duration": 118,
    "start_time": "2024-05-28T09:35:21.617Z"
   },
   {
    "duration": 798,
    "start_time": "2024-05-28T09:35:21.736Z"
   },
   {
    "duration": 5,
    "start_time": "2024-05-28T09:35:22.536Z"
   },
   {
    "duration": 323,
    "start_time": "2024-05-28T09:35:22.542Z"
   },
   {
    "duration": 383,
    "start_time": "2024-05-28T09:35:22.866Z"
   },
   {
    "duration": 577,
    "start_time": "2024-05-28T09:35:23.251Z"
   },
   {
    "duration": 322,
    "start_time": "2024-05-28T09:35:23.830Z"
   },
   {
    "duration": 982,
    "start_time": "2024-05-28T09:35:24.154Z"
   },
   {
    "duration": 234,
    "start_time": "2024-05-28T09:35:25.138Z"
   },
   {
    "duration": 14132,
    "start_time": "2024-05-28T09:35:25.374Z"
   },
   {
    "duration": 525,
    "start_time": "2024-05-28T09:35:39.507Z"
   },
   {
    "duration": 130,
    "start_time": "2024-05-28T09:35:40.033Z"
   },
   {
    "duration": 202,
    "start_time": "2024-05-28T09:35:40.165Z"
   },
   {
    "duration": 437,
    "start_time": "2024-05-28T09:35:40.368Z"
   },
   {
    "duration": 28,
    "start_time": "2024-05-28T09:35:40.806Z"
   },
   {
    "duration": 6,
    "start_time": "2024-05-28T09:35:40.836Z"
   },
   {
    "duration": 446,
    "start_time": "2024-05-28T09:35:40.843Z"
   },
   {
    "duration": 1376,
    "start_time": "2024-05-28T09:35:41.291Z"
   },
   {
    "duration": 413,
    "start_time": "2024-05-28T09:35:42.671Z"
   },
   {
    "duration": 7,
    "start_time": "2024-05-28T09:35:43.085Z"
   },
   {
    "duration": 6,
    "start_time": "2024-05-28T09:35:43.094Z"
   },
   {
    "duration": 29,
    "start_time": "2024-05-28T09:35:43.102Z"
   },
   {
    "duration": 48,
    "start_time": "2024-05-28T09:35:43.133Z"
   },
   {
    "duration": 142,
    "start_time": "2024-05-28T09:35:43.182Z"
   },
   {
    "duration": 15,
    "start_time": "2024-05-28T09:35:43.325Z"
   },
   {
    "duration": 25,
    "start_time": "2024-05-28T09:35:43.341Z"
   },
   {
    "duration": 30,
    "start_time": "2024-05-28T09:35:43.367Z"
   },
   {
    "duration": 19,
    "start_time": "2024-05-28T09:35:43.399Z"
   },
   {
    "duration": 5,
    "start_time": "2024-05-28T09:35:43.420Z"
   },
   {
    "duration": 40,
    "start_time": "2024-05-28T09:35:43.427Z"
   },
   {
    "duration": 18,
    "start_time": "2024-05-28T09:35:43.468Z"
   },
   {
    "duration": 45,
    "start_time": "2024-05-28T09:35:43.487Z"
   },
   {
    "duration": 45,
    "start_time": "2024-05-28T09:35:43.534Z"
   },
   {
    "duration": 41,
    "start_time": "2024-05-28T09:35:43.581Z"
   },
   {
    "duration": 39,
    "start_time": "2024-05-28T09:35:43.624Z"
   },
   {
    "duration": 54,
    "start_time": "2024-05-28T09:35:43.664Z"
   },
   {
    "duration": 35,
    "start_time": "2024-05-28T09:35:43.719Z"
   },
   {
    "duration": 7,
    "start_time": "2024-05-28T09:35:43.755Z"
   },
   {
    "duration": 8,
    "start_time": "2024-05-28T09:35:43.763Z"
   },
   {
    "duration": 450,
    "start_time": "2024-05-28T09:35:43.773Z"
   },
   {
    "duration": 6,
    "start_time": "2024-05-28T09:35:44.225Z"
   },
   {
    "duration": 7,
    "start_time": "2024-05-28T09:35:44.232Z"
   },
   {
    "duration": 57,
    "start_time": "2024-05-28T09:35:44.240Z"
   },
   {
    "duration": 35,
    "start_time": "2024-05-28T09:35:44.298Z"
   },
   {
    "duration": 59,
    "start_time": "2024-05-28T09:35:44.335Z"
   },
   {
    "duration": 5,
    "start_time": "2024-05-28T09:35:44.395Z"
   },
   {
    "duration": 21,
    "start_time": "2024-05-28T09:35:44.401Z"
   },
   {
    "duration": 42,
    "start_time": "2024-05-28T09:35:44.423Z"
   },
   {
    "duration": 34,
    "start_time": "2024-05-28T09:35:44.466Z"
   },
   {
    "duration": 30,
    "start_time": "2024-05-28T09:35:44.501Z"
   },
   {
    "duration": 59,
    "start_time": "2024-05-28T09:35:44.533Z"
   },
   {
    "duration": 51,
    "start_time": "2024-05-28T09:35:44.593Z"
   },
   {
    "duration": 67,
    "start_time": "2024-05-28T09:35:44.661Z"
   },
   {
    "duration": 149,
    "start_time": "2024-05-28T09:35:44.729Z"
   },
   {
    "duration": 37,
    "start_time": "2024-05-28T09:35:44.880Z"
   },
   {
    "duration": 78,
    "start_time": "2024-05-28T09:35:44.919Z"
   },
   {
    "duration": 51,
    "start_time": "2024-05-28T09:35:44.999Z"
   },
   {
    "duration": 78,
    "start_time": "2024-05-28T09:35:45.052Z"
   },
   {
    "duration": 87,
    "start_time": "2024-05-28T09:35:45.132Z"
   },
   {
    "duration": 46,
    "start_time": "2024-05-28T09:35:45.221Z"
   },
   {
    "duration": 89,
    "start_time": "2024-05-28T09:35:45.269Z"
   },
   {
    "duration": 48,
    "start_time": "2024-05-28T09:35:45.360Z"
   },
   {
    "duration": 34,
    "start_time": "2024-05-28T09:35:45.410Z"
   },
   {
    "duration": 82,
    "start_time": "2024-05-28T09:35:45.446Z"
   },
   {
    "duration": 49,
    "start_time": "2024-05-28T09:35:45.530Z"
   },
   {
    "duration": 81,
    "start_time": "2024-05-28T09:35:45.580Z"
   },
   {
    "duration": 68,
    "start_time": "2024-05-28T09:35:45.663Z"
   },
   {
    "duration": 56,
    "start_time": "2024-05-28T09:35:45.732Z"
   },
   {
    "duration": 49,
    "start_time": "2024-05-28T09:35:45.789Z"
   },
   {
    "duration": 81,
    "start_time": "2024-05-28T09:35:45.840Z"
   },
   {
    "duration": 55,
    "start_time": "2024-05-28T09:35:45.923Z"
   },
   {
    "duration": 53,
    "start_time": "2024-05-28T09:35:45.980Z"
   },
   {
    "duration": 66,
    "start_time": "2024-05-28T09:35:46.040Z"
   },
   {
    "duration": 80,
    "start_time": "2024-05-28T09:35:46.107Z"
   },
   {
    "duration": 59,
    "start_time": "2024-05-28T09:35:46.189Z"
   },
   {
    "duration": 123,
    "start_time": "2024-05-28T09:35:46.250Z"
   },
   {
    "duration": 50,
    "start_time": "2024-05-28T09:35:46.374Z"
   },
   {
    "duration": 46,
    "start_time": "2024-05-28T09:35:46.426Z"
   },
   {
    "duration": 53,
    "start_time": "2024-05-28T09:35:46.474Z"
   },
   {
    "duration": 55,
    "start_time": "2024-05-28T09:35:46.529Z"
   },
   {
    "duration": 45,
    "start_time": "2024-05-28T09:35:46.586Z"
   },
   {
    "duration": 57,
    "start_time": "2024-05-28T09:35:46.633Z"
   },
   {
    "duration": 56,
    "start_time": "2024-05-28T09:35:46.692Z"
   },
   {
    "duration": 56,
    "start_time": "2024-05-28T09:35:46.750Z"
   },
   {
    "duration": 38,
    "start_time": "2024-05-28T09:35:46.807Z"
   },
   {
    "duration": 155,
    "start_time": "2024-05-28T09:35:46.847Z"
   },
   {
    "duration": 449,
    "start_time": "2024-05-28T09:35:47.004Z"
   },
   {
    "duration": 421,
    "start_time": "2024-05-28T09:35:47.455Z"
   },
   {
    "duration": 327,
    "start_time": "2024-05-28T09:35:47.877Z"
   },
   {
    "duration": 295,
    "start_time": "2024-05-28T09:35:48.206Z"
   },
   {
    "duration": 10,
    "start_time": "2024-05-28T09:35:48.503Z"
   },
   {
    "duration": 212,
    "start_time": "2024-05-28T09:35:48.515Z"
   },
   {
    "duration": 3,
    "start_time": "2024-05-28T09:35:48.729Z"
   },
   {
    "duration": 1683,
    "start_time": "2024-05-28T09:35:48.734Z"
   },
   {
    "duration": 7011,
    "start_time": "2024-05-28T09:35:50.419Z"
   },
   {
    "duration": 3,
    "start_time": "2024-05-28T09:35:57.432Z"
   },
   {
    "duration": 53,
    "start_time": "2024-05-28T09:35:57.437Z"
   },
   {
    "duration": 18,
    "start_time": "2024-05-28T09:35:57.491Z"
   },
   {
    "duration": 16360,
    "start_time": "2024-05-28T09:35:57.511Z"
   },
   {
    "duration": 88,
    "start_time": "2024-05-28T09:36:13.874Z"
   },
   {
    "duration": 22,
    "start_time": "2024-05-28T09:36:13.964Z"
   },
   {
    "duration": 13,
    "start_time": "2024-05-28T09:36:13.988Z"
   },
   {
    "duration": 291542,
    "start_time": "2024-05-28T09:36:14.003Z"
   },
   {
    "duration": 3,
    "start_time": "2024-05-28T09:41:05.547Z"
   },
   {
    "duration": 22,
    "start_time": "2024-05-28T09:41:05.551Z"
   },
   {
    "duration": 61,
    "start_time": "2024-05-28T09:41:05.575Z"
   },
   {
    "duration": 34,
    "start_time": "2024-05-28T09:41:05.637Z"
   },
   {
    "duration": 140994,
    "start_time": "2024-05-28T09:41:05.672Z"
   },
   {
    "duration": 4,
    "start_time": "2024-05-28T09:43:26.668Z"
   },
   {
    "duration": 22,
    "start_time": "2024-05-28T09:43:26.674Z"
   },
   {
    "duration": 34,
    "start_time": "2024-05-28T09:43:26.697Z"
   },
   {
    "duration": 231976,
    "start_time": "2024-05-28T09:43:26.732Z"
   },
   {
    "duration": 4,
    "start_time": "2024-05-28T09:47:18.710Z"
   },
   {
    "duration": 19,
    "start_time": "2024-05-28T09:47:18.716Z"
   },
   {
    "duration": 17,
    "start_time": "2024-05-28T09:47:18.737Z"
   },
   {
    "duration": 375,
    "start_time": "2024-05-28T09:47:18.756Z"
   },
   {
    "duration": 12,
    "start_time": "2024-05-28T09:47:19.132Z"
   },
   {
    "duration": 41,
    "start_time": "2024-05-28T09:47:19.145Z"
   },
   {
    "duration": 387,
    "start_time": "2024-05-28T09:47:19.187Z"
   },
   {
    "duration": 190,
    "start_time": "2024-05-28T09:47:19.576Z"
   },
   {
    "duration": 4,
    "start_time": "2024-05-28T09:47:19.767Z"
   },
   {
    "duration": 15,
    "start_time": "2024-05-28T09:47:19.773Z"
   },
   {
    "duration": 11,
    "start_time": "2024-05-28T09:47:19.791Z"
   },
   {
    "duration": 13,
    "start_time": "2024-05-28T09:47:19.804Z"
   },
   {
    "duration": 13,
    "start_time": "2024-05-28T09:47:19.818Z"
   },
   {
    "duration": 336,
    "start_time": "2024-05-28T09:47:19.833Z"
   },
   {
    "duration": 11,
    "start_time": "2024-05-28T09:47:20.171Z"
   },
   {
    "duration": 284,
    "start_time": "2024-05-28T09:47:20.183Z"
   },
   {
    "duration": 1596,
    "start_time": "2024-05-28T10:26:46.077Z"
   },
   {
    "duration": 3,
    "start_time": "2024-05-28T10:26:47.675Z"
   },
   {
    "duration": 8,
    "start_time": "2024-05-28T10:26:47.680Z"
   },
   {
    "duration": 7023,
    "start_time": "2024-05-28T10:26:47.690Z"
   },
   {
    "duration": 789,
    "start_time": "2024-05-28T10:26:54.715Z"
   },
   {
    "duration": 4,
    "start_time": "2024-05-28T10:26:55.505Z"
   },
   {
    "duration": 64,
    "start_time": "2024-05-28T10:26:55.511Z"
   },
   {
    "duration": 38,
    "start_time": "2024-05-28T10:26:55.576Z"
   },
   {
    "duration": 48,
    "start_time": "2024-05-28T10:26:55.616Z"
   },
   {
    "duration": 119,
    "start_time": "2024-05-28T10:26:55.667Z"
   },
   {
    "duration": 760,
    "start_time": "2024-05-28T10:26:55.788Z"
   },
   {
    "duration": 5,
    "start_time": "2024-05-28T10:26:56.550Z"
   },
   {
    "duration": 342,
    "start_time": "2024-05-28T10:26:56.557Z"
   },
   {
    "duration": 393,
    "start_time": "2024-05-28T10:26:56.901Z"
   },
   {
    "duration": 557,
    "start_time": "2024-05-28T10:26:57.296Z"
   },
   {
    "duration": 310,
    "start_time": "2024-05-28T10:26:57.855Z"
   },
   {
    "duration": 544,
    "start_time": "2024-05-28T10:26:58.166Z"
   },
   {
    "duration": 238,
    "start_time": "2024-05-28T10:26:58.712Z"
   },
   {
    "duration": 14781,
    "start_time": "2024-05-28T10:26:58.952Z"
   },
   {
    "duration": 546,
    "start_time": "2024-05-28T10:27:13.734Z"
   },
   {
    "duration": 129,
    "start_time": "2024-05-28T10:27:14.282Z"
   },
   {
    "duration": 193,
    "start_time": "2024-05-28T10:27:14.413Z"
   },
   {
    "duration": 395,
    "start_time": "2024-05-28T10:27:14.607Z"
   },
   {
    "duration": 27,
    "start_time": "2024-05-28T10:27:15.004Z"
   },
   {
    "duration": 37,
    "start_time": "2024-05-28T10:27:15.032Z"
   },
   {
    "duration": 420,
    "start_time": "2024-05-28T10:27:15.071Z"
   },
   {
    "duration": 1405,
    "start_time": "2024-05-28T10:27:15.492Z"
   },
   {
    "duration": 410,
    "start_time": "2024-05-28T10:27:16.901Z"
   },
   {
    "duration": 6,
    "start_time": "2024-05-28T10:27:17.313Z"
   },
   {
    "duration": 7,
    "start_time": "2024-05-28T10:27:17.320Z"
   },
   {
    "duration": 46,
    "start_time": "2024-05-28T10:27:17.328Z"
   },
   {
    "duration": 28,
    "start_time": "2024-05-28T10:27:17.375Z"
   },
   {
    "duration": 144,
    "start_time": "2024-05-28T10:27:17.405Z"
   },
   {
    "duration": 17,
    "start_time": "2024-05-28T10:27:17.550Z"
   },
   {
    "duration": 13,
    "start_time": "2024-05-28T10:27:17.568Z"
   },
   {
    "duration": 44,
    "start_time": "2024-05-28T10:27:17.582Z"
   },
   {
    "duration": 16,
    "start_time": "2024-05-28T10:27:17.628Z"
   },
   {
    "duration": 13,
    "start_time": "2024-05-28T10:27:17.645Z"
   },
   {
    "duration": 25,
    "start_time": "2024-05-28T10:27:17.659Z"
   },
   {
    "duration": 16,
    "start_time": "2024-05-28T10:27:17.685Z"
   },
   {
    "duration": 31,
    "start_time": "2024-05-28T10:27:17.703Z"
   },
   {
    "duration": 42,
    "start_time": "2024-05-28T10:27:17.736Z"
   },
   {
    "duration": 31,
    "start_time": "2024-05-28T10:27:17.780Z"
   },
   {
    "duration": 30,
    "start_time": "2024-05-28T10:27:17.813Z"
   },
   {
    "duration": 37,
    "start_time": "2024-05-28T10:27:17.844Z"
   },
   {
    "duration": 32,
    "start_time": "2024-05-28T10:27:17.883Z"
   },
   {
    "duration": 6,
    "start_time": "2024-05-28T10:27:17.917Z"
   },
   {
    "duration": 9,
    "start_time": "2024-05-28T10:27:17.924Z"
   },
   {
    "duration": 440,
    "start_time": "2024-05-28T10:27:17.934Z"
   },
   {
    "duration": 8,
    "start_time": "2024-05-28T10:27:18.376Z"
   },
   {
    "duration": 7,
    "start_time": "2024-05-28T10:27:18.385Z"
   },
   {
    "duration": 68,
    "start_time": "2024-05-28T10:27:18.394Z"
   },
   {
    "duration": 41,
    "start_time": "2024-05-28T10:27:18.463Z"
   },
   {
    "duration": 63,
    "start_time": "2024-05-28T10:27:18.506Z"
   },
   {
    "duration": 5,
    "start_time": "2024-05-28T10:27:18.571Z"
   },
   {
    "duration": 20,
    "start_time": "2024-05-28T10:27:18.578Z"
   },
   {
    "duration": 20,
    "start_time": "2024-05-28T10:27:18.600Z"
   },
   {
    "duration": 56,
    "start_time": "2024-05-28T10:27:18.621Z"
   },
   {
    "duration": 40,
    "start_time": "2024-05-28T10:27:18.679Z"
   },
   {
    "duration": 39,
    "start_time": "2024-05-28T10:27:18.721Z"
   },
   {
    "duration": 49,
    "start_time": "2024-05-28T10:27:18.762Z"
   },
   {
    "duration": 78,
    "start_time": "2024-05-28T10:27:18.813Z"
   },
   {
    "duration": 162,
    "start_time": "2024-05-28T10:27:18.892Z"
   },
   {
    "duration": 36,
    "start_time": "2024-05-28T10:27:19.056Z"
   },
   {
    "duration": 84,
    "start_time": "2024-05-28T10:27:19.093Z"
   },
   {
    "duration": 49,
    "start_time": "2024-05-28T10:27:19.178Z"
   },
   {
    "duration": 47,
    "start_time": "2024-05-28T10:27:19.228Z"
   },
   {
    "duration": 60,
    "start_time": "2024-05-28T10:27:19.277Z"
   },
   {
    "duration": 53,
    "start_time": "2024-05-28T10:27:19.338Z"
   },
   {
    "duration": 70,
    "start_time": "2024-05-28T10:27:19.394Z"
   },
   {
    "duration": 40,
    "start_time": "2024-05-28T10:27:19.466Z"
   },
   {
    "duration": 33,
    "start_time": "2024-05-28T10:27:19.508Z"
   },
   {
    "duration": 67,
    "start_time": "2024-05-28T10:27:19.543Z"
   },
   {
    "duration": 52,
    "start_time": "2024-05-28T10:27:19.612Z"
   },
   {
    "duration": 83,
    "start_time": "2024-05-28T10:27:19.666Z"
   },
   {
    "duration": 37,
    "start_time": "2024-05-28T10:27:19.751Z"
   },
   {
    "duration": 66,
    "start_time": "2024-05-28T10:27:19.789Z"
   },
   {
    "duration": 51,
    "start_time": "2024-05-28T10:27:19.857Z"
   },
   {
    "duration": 83,
    "start_time": "2024-05-28T10:27:19.910Z"
   },
   {
    "duration": 48,
    "start_time": "2024-05-28T10:27:19.995Z"
   },
   {
    "duration": 61,
    "start_time": "2024-05-28T10:27:20.045Z"
   },
   {
    "duration": 58,
    "start_time": "2024-05-28T10:27:20.113Z"
   },
   {
    "duration": 77,
    "start_time": "2024-05-28T10:27:20.173Z"
   },
   {
    "duration": 44,
    "start_time": "2024-05-28T10:27:20.252Z"
   },
   {
    "duration": 74,
    "start_time": "2024-05-28T10:27:20.297Z"
   },
   {
    "duration": 50,
    "start_time": "2024-05-28T10:27:20.373Z"
   },
   {
    "duration": 51,
    "start_time": "2024-05-28T10:27:20.424Z"
   },
   {
    "duration": 54,
    "start_time": "2024-05-28T10:27:20.476Z"
   },
   {
    "duration": 61,
    "start_time": "2024-05-28T10:27:20.532Z"
   },
   {
    "duration": 58,
    "start_time": "2024-05-28T10:27:20.594Z"
   },
   {
    "duration": 50,
    "start_time": "2024-05-28T10:27:20.654Z"
   },
   {
    "duration": 36,
    "start_time": "2024-05-28T10:27:20.706Z"
   },
   {
    "duration": 38,
    "start_time": "2024-05-28T10:27:20.743Z"
   },
   {
    "duration": 41,
    "start_time": "2024-05-28T10:27:20.784Z"
   },
   {
    "duration": 166,
    "start_time": "2024-05-28T10:27:20.826Z"
   },
   {
    "duration": 426,
    "start_time": "2024-05-28T10:27:20.994Z"
   },
   {
    "duration": 457,
    "start_time": "2024-05-28T10:27:21.422Z"
   },
   {
    "duration": 367,
    "start_time": "2024-05-28T10:27:21.881Z"
   },
   {
    "duration": 299,
    "start_time": "2024-05-28T10:27:22.250Z"
   },
   {
    "duration": 11,
    "start_time": "2024-05-28T10:27:22.551Z"
   },
   {
    "duration": 210,
    "start_time": "2024-05-28T10:27:22.564Z"
   },
   {
    "duration": 3,
    "start_time": "2024-05-28T10:27:22.776Z"
   },
   {
    "duration": 1664,
    "start_time": "2024-05-28T10:27:22.781Z"
   },
   {
    "duration": 7078,
    "start_time": "2024-05-28T10:27:24.447Z"
   },
   {
    "duration": 4,
    "start_time": "2024-05-28T10:27:31.526Z"
   },
   {
    "duration": 112,
    "start_time": "2024-05-28T10:27:31.531Z"
   },
   {
    "duration": 31,
    "start_time": "2024-05-28T10:27:31.645Z"
   },
   {
    "duration": 14893,
    "start_time": "2024-05-28T10:27:31.677Z"
   },
   {
    "duration": 4,
    "start_time": "2024-05-28T10:27:46.572Z"
   },
   {
    "duration": 11,
    "start_time": "2024-05-28T10:27:46.578Z"
   },
   {
    "duration": 9,
    "start_time": "2024-05-28T10:27:46.590Z"
   },
   {
    "duration": 320440,
    "start_time": "2024-05-28T10:27:46.600Z"
   },
   {
    "duration": 4,
    "start_time": "2024-05-28T10:33:07.041Z"
   },
   {
    "duration": 37,
    "start_time": "2024-05-28T10:33:07.047Z"
   },
   {
    "duration": 5,
    "start_time": "2024-05-28T10:33:07.086Z"
   },
   {
    "duration": 13,
    "start_time": "2024-05-28T10:33:07.092Z"
   },
   {
    "duration": 137468,
    "start_time": "2024-05-28T10:33:07.108Z"
   },
   {
    "duration": 4,
    "start_time": "2024-05-28T10:35:24.577Z"
   },
   {
    "duration": 14,
    "start_time": "2024-05-28T10:35:24.583Z"
   },
   {
    "duration": 14,
    "start_time": "2024-05-28T10:35:24.599Z"
   },
   {
    "duration": 231903,
    "start_time": "2024-05-28T10:35:24.615Z"
   },
   {
    "duration": 4,
    "start_time": "2024-05-28T10:39:16.519Z"
   },
   {
    "duration": 13,
    "start_time": "2024-05-28T10:39:16.524Z"
   },
   {
    "duration": 14,
    "start_time": "2024-05-28T10:39:16.538Z"
   },
   {
    "duration": 333,
    "start_time": "2024-05-28T10:39:16.554Z"
   },
   {
    "duration": 12,
    "start_time": "2024-05-28T10:39:16.889Z"
   },
   {
    "duration": 56,
    "start_time": "2024-05-28T10:39:16.902Z"
   },
   {
    "duration": 373,
    "start_time": "2024-05-28T10:39:16.960Z"
   },
   {
    "duration": 181,
    "start_time": "2024-05-28T10:39:17.334Z"
   },
   {
    "duration": 4,
    "start_time": "2024-05-28T10:39:17.517Z"
   },
   {
    "duration": 7,
    "start_time": "2024-05-28T10:39:17.523Z"
   },
   {
    "duration": 8,
    "start_time": "2024-05-28T10:39:17.532Z"
   },
   {
    "duration": 21,
    "start_time": "2024-05-28T10:39:17.542Z"
   },
   {
    "duration": 13,
    "start_time": "2024-05-28T10:39:17.565Z"
   },
   {
    "duration": 343,
    "start_time": "2024-05-28T10:39:17.580Z"
   },
   {
    "duration": 12,
    "start_time": "2024-05-28T10:39:17.925Z"
   },
   {
    "duration": 281,
    "start_time": "2024-05-28T10:39:17.938Z"
   },
   {
    "duration": 132,
    "start_time": "2024-05-28T22:07:43.154Z"
   },
   {
    "duration": 0,
    "start_time": "2024-05-28T22:07:43.289Z"
   },
   {
    "duration": 0,
    "start_time": "2024-05-28T22:07:43.290Z"
   },
   {
    "duration": 0,
    "start_time": "2024-05-28T22:07:43.291Z"
   },
   {
    "duration": 0,
    "start_time": "2024-05-28T22:07:43.292Z"
   },
   {
    "duration": 0,
    "start_time": "2024-05-28T22:07:43.293Z"
   },
   {
    "duration": 0,
    "start_time": "2024-05-28T22:07:43.294Z"
   },
   {
    "duration": 0,
    "start_time": "2024-05-28T22:07:43.295Z"
   },
   {
    "duration": 0,
    "start_time": "2024-05-28T22:07:43.296Z"
   },
   {
    "duration": 0,
    "start_time": "2024-05-28T22:07:43.296Z"
   },
   {
    "duration": 0,
    "start_time": "2024-05-28T22:07:43.298Z"
   },
   {
    "duration": 0,
    "start_time": "2024-05-28T22:07:43.299Z"
   },
   {
    "duration": 0,
    "start_time": "2024-05-28T22:07:43.299Z"
   },
   {
    "duration": 0,
    "start_time": "2024-05-28T22:07:43.300Z"
   },
   {
    "duration": 0,
    "start_time": "2024-05-28T22:07:43.301Z"
   },
   {
    "duration": 0,
    "start_time": "2024-05-28T22:07:43.302Z"
   },
   {
    "duration": 0,
    "start_time": "2024-05-28T22:07:43.303Z"
   },
   {
    "duration": 0,
    "start_time": "2024-05-28T22:07:43.304Z"
   },
   {
    "duration": 0,
    "start_time": "2024-05-28T22:07:43.305Z"
   },
   {
    "duration": 0,
    "start_time": "2024-05-28T22:07:43.306Z"
   },
   {
    "duration": 0,
    "start_time": "2024-05-28T22:07:43.307Z"
   },
   {
    "duration": 0,
    "start_time": "2024-05-28T22:07:43.308Z"
   },
   {
    "duration": 0,
    "start_time": "2024-05-28T22:07:43.309Z"
   },
   {
    "duration": 0,
    "start_time": "2024-05-28T22:07:43.310Z"
   },
   {
    "duration": 0,
    "start_time": "2024-05-28T22:07:43.310Z"
   },
   {
    "duration": 0,
    "start_time": "2024-05-28T22:07:43.311Z"
   },
   {
    "duration": 0,
    "start_time": "2024-05-28T22:07:43.312Z"
   },
   {
    "duration": 0,
    "start_time": "2024-05-28T22:07:43.313Z"
   },
   {
    "duration": 0,
    "start_time": "2024-05-28T22:07:43.314Z"
   },
   {
    "duration": 0,
    "start_time": "2024-05-28T22:07:43.315Z"
   },
   {
    "duration": 0,
    "start_time": "2024-05-28T22:07:43.316Z"
   },
   {
    "duration": 0,
    "start_time": "2024-05-28T22:07:43.371Z"
   },
   {
    "duration": 0,
    "start_time": "2024-05-28T22:07:43.372Z"
   },
   {
    "duration": 0,
    "start_time": "2024-05-28T22:07:43.373Z"
   },
   {
    "duration": 0,
    "start_time": "2024-05-28T22:07:43.374Z"
   },
   {
    "duration": 0,
    "start_time": "2024-05-28T22:07:43.375Z"
   },
   {
    "duration": 0,
    "start_time": "2024-05-28T22:07:43.375Z"
   },
   {
    "duration": 0,
    "start_time": "2024-05-28T22:07:43.376Z"
   },
   {
    "duration": 0,
    "start_time": "2024-05-28T22:07:43.377Z"
   },
   {
    "duration": 0,
    "start_time": "2024-05-28T22:07:43.378Z"
   },
   {
    "duration": 8,
    "start_time": "2024-05-28T22:07:43.382Z"
   },
   {
    "duration": 0,
    "start_time": "2024-05-28T22:07:43.392Z"
   },
   {
    "duration": 0,
    "start_time": "2024-05-28T22:07:43.393Z"
   },
   {
    "duration": 0,
    "start_time": "2024-05-28T22:07:43.394Z"
   },
   {
    "duration": 0,
    "start_time": "2024-05-28T22:07:43.395Z"
   },
   {
    "duration": 0,
    "start_time": "2024-05-28T22:07:43.396Z"
   },
   {
    "duration": 1,
    "start_time": "2024-05-28T22:07:43.396Z"
   },
   {
    "duration": 0,
    "start_time": "2024-05-28T22:07:43.398Z"
   },
   {
    "duration": 0,
    "start_time": "2024-05-28T22:07:43.399Z"
   },
   {
    "duration": 0,
    "start_time": "2024-05-28T22:07:43.399Z"
   },
   {
    "duration": 0,
    "start_time": "2024-05-28T22:07:43.400Z"
   },
   {
    "duration": 0,
    "start_time": "2024-05-28T22:07:43.401Z"
   },
   {
    "duration": 0,
    "start_time": "2024-05-28T22:07:43.402Z"
   },
   {
    "duration": 0,
    "start_time": "2024-05-28T22:07:43.403Z"
   },
   {
    "duration": 0,
    "start_time": "2024-05-28T22:07:43.403Z"
   },
   {
    "duration": 0,
    "start_time": "2024-05-28T22:07:43.404Z"
   },
   {
    "duration": 0,
    "start_time": "2024-05-28T22:07:43.405Z"
   },
   {
    "duration": 0,
    "start_time": "2024-05-28T22:07:43.406Z"
   },
   {
    "duration": 0,
    "start_time": "2024-05-28T22:07:43.407Z"
   },
   {
    "duration": 0,
    "start_time": "2024-05-28T22:07:43.407Z"
   },
   {
    "duration": 0,
    "start_time": "2024-05-28T22:07:43.408Z"
   },
   {
    "duration": 0,
    "start_time": "2024-05-28T22:07:43.409Z"
   },
   {
    "duration": 0,
    "start_time": "2024-05-28T22:07:43.410Z"
   },
   {
    "duration": 0,
    "start_time": "2024-05-28T22:07:43.471Z"
   },
   {
    "duration": 0,
    "start_time": "2024-05-28T22:07:43.472Z"
   },
   {
    "duration": 0,
    "start_time": "2024-05-28T22:07:43.473Z"
   },
   {
    "duration": 0,
    "start_time": "2024-05-28T22:07:43.474Z"
   },
   {
    "duration": 10,
    "start_time": "2024-05-28T22:07:43.477Z"
   },
   {
    "duration": 0,
    "start_time": "2024-05-28T22:07:43.490Z"
   },
   {
    "duration": 0,
    "start_time": "2024-05-28T22:07:43.492Z"
   },
   {
    "duration": 0,
    "start_time": "2024-05-28T22:07:43.493Z"
   },
   {
    "duration": 0,
    "start_time": "2024-05-28T22:07:43.494Z"
   },
   {
    "duration": 0,
    "start_time": "2024-05-28T22:07:43.496Z"
   },
   {
    "duration": 0,
    "start_time": "2024-05-28T22:07:43.497Z"
   },
   {
    "duration": 0,
    "start_time": "2024-05-28T22:07:43.498Z"
   },
   {
    "duration": 0,
    "start_time": "2024-05-28T22:07:43.500Z"
   },
   {
    "duration": 0,
    "start_time": "2024-05-28T22:07:43.501Z"
   },
   {
    "duration": 0,
    "start_time": "2024-05-28T22:07:43.502Z"
   },
   {
    "duration": 0,
    "start_time": "2024-05-28T22:07:43.503Z"
   },
   {
    "duration": 0,
    "start_time": "2024-05-28T22:07:43.504Z"
   },
   {
    "duration": 0,
    "start_time": "2024-05-28T22:07:43.506Z"
   },
   {
    "duration": 0,
    "start_time": "2024-05-28T22:07:43.507Z"
   },
   {
    "duration": 0,
    "start_time": "2024-05-28T22:07:43.508Z"
   },
   {
    "duration": 0,
    "start_time": "2024-05-28T22:07:43.509Z"
   },
   {
    "duration": 0,
    "start_time": "2024-05-28T22:07:43.511Z"
   },
   {
    "duration": 0,
    "start_time": "2024-05-28T22:07:43.511Z"
   },
   {
    "duration": 0,
    "start_time": "2024-05-28T22:07:43.571Z"
   },
   {
    "duration": 0,
    "start_time": "2024-05-28T22:07:43.572Z"
   },
   {
    "duration": 0,
    "start_time": "2024-05-28T22:07:43.573Z"
   },
   {
    "duration": 0,
    "start_time": "2024-05-28T22:07:43.574Z"
   },
   {
    "duration": 0,
    "start_time": "2024-05-28T22:07:43.575Z"
   },
   {
    "duration": 0,
    "start_time": "2024-05-28T22:07:43.576Z"
   },
   {
    "duration": 0,
    "start_time": "2024-05-28T22:07:43.576Z"
   },
   {
    "duration": 0,
    "start_time": "2024-05-28T22:07:43.577Z"
   },
   {
    "duration": 0,
    "start_time": "2024-05-28T22:07:43.578Z"
   },
   {
    "duration": 0,
    "start_time": "2024-05-28T22:07:43.579Z"
   },
   {
    "duration": 0,
    "start_time": "2024-05-28T22:07:43.579Z"
   },
   {
    "duration": 0,
    "start_time": "2024-05-28T22:07:43.581Z"
   },
   {
    "duration": 10,
    "start_time": "2024-05-28T22:07:43.584Z"
   },
   {
    "duration": 0,
    "start_time": "2024-05-28T22:07:43.595Z"
   },
   {
    "duration": 0,
    "start_time": "2024-05-28T22:07:43.596Z"
   },
   {
    "duration": 0,
    "start_time": "2024-05-28T22:07:43.597Z"
   },
   {
    "duration": 0,
    "start_time": "2024-05-28T22:07:43.599Z"
   },
   {
    "duration": 0,
    "start_time": "2024-05-28T22:07:43.600Z"
   },
   {
    "duration": 0,
    "start_time": "2024-05-28T22:07:43.601Z"
   },
   {
    "duration": 0,
    "start_time": "2024-05-28T22:07:43.602Z"
   },
   {
    "duration": 3633,
    "start_time": "2024-05-28T22:08:01.586Z"
   },
   {
    "duration": 2973,
    "start_time": "2024-05-28T22:08:25.240Z"
   },
   {
    "duration": 2,
    "start_time": "2024-05-28T22:08:28.215Z"
   },
   {
    "duration": 4,
    "start_time": "2024-05-28T22:08:28.219Z"
   },
   {
    "duration": 4884,
    "start_time": "2024-05-28T22:08:28.225Z"
   },
   {
    "duration": 715,
    "start_time": "2024-05-28T22:08:33.110Z"
   },
   {
    "duration": 3,
    "start_time": "2024-05-28T22:08:33.826Z"
   },
   {
    "duration": 9,
    "start_time": "2024-05-28T22:08:33.830Z"
   },
   {
    "duration": 7,
    "start_time": "2024-05-28T22:08:33.840Z"
   },
   {
    "duration": 17,
    "start_time": "2024-05-28T22:08:33.848Z"
   },
   {
    "duration": 16,
    "start_time": "2024-05-28T22:08:33.868Z"
   },
   {
    "duration": 862,
    "start_time": "2024-05-28T22:08:33.885Z"
   },
   {
    "duration": 4,
    "start_time": "2024-05-28T22:08:34.749Z"
   },
   {
    "duration": 289,
    "start_time": "2024-05-28T22:08:34.754Z"
   },
   {
    "duration": 486,
    "start_time": "2024-05-28T22:08:35.044Z"
   },
   {
    "duration": 574,
    "start_time": "2024-05-28T22:08:35.531Z"
   },
   {
    "duration": 370,
    "start_time": "2024-05-28T22:08:36.107Z"
   },
   {
    "duration": 535,
    "start_time": "2024-05-28T22:08:36.478Z"
   },
   {
    "duration": 297,
    "start_time": "2024-05-28T22:08:37.015Z"
   },
   {
    "duration": 1539,
    "start_time": "2024-05-29T05:04:46.452Z"
   },
   {
    "duration": 3,
    "start_time": "2024-05-29T05:04:47.992Z"
   },
   {
    "duration": 3,
    "start_time": "2024-05-29T05:04:47.996Z"
   },
   {
    "duration": 4530,
    "start_time": "2024-05-29T05:04:48.001Z"
   },
   {
    "duration": 646,
    "start_time": "2024-05-29T05:04:52.533Z"
   },
   {
    "duration": 3,
    "start_time": "2024-05-29T05:04:53.181Z"
   },
   {
    "duration": 13,
    "start_time": "2024-05-29T05:04:53.185Z"
   },
   {
    "duration": 8,
    "start_time": "2024-05-29T05:04:53.200Z"
   },
   {
    "duration": 18,
    "start_time": "2024-05-29T05:04:53.209Z"
   },
   {
    "duration": 81,
    "start_time": "2024-05-29T05:04:53.230Z"
   },
   {
    "duration": 770,
    "start_time": "2024-05-29T05:04:53.313Z"
   },
   {
    "duration": 3,
    "start_time": "2024-05-29T05:04:54.085Z"
   },
   {
    "duration": 286,
    "start_time": "2024-05-29T05:04:54.089Z"
   },
   {
    "duration": 397,
    "start_time": "2024-05-29T05:04:54.377Z"
   },
   {
    "duration": 556,
    "start_time": "2024-05-29T05:04:54.784Z"
   },
   {
    "duration": 254,
    "start_time": "2024-05-29T05:04:55.342Z"
   },
   {
    "duration": 541,
    "start_time": "2024-05-29T05:04:55.598Z"
   },
   {
    "duration": 197,
    "start_time": "2024-05-29T05:04:56.140Z"
   },
   {
    "duration": 11739,
    "start_time": "2024-05-29T05:04:56.338Z"
   },
   {
    "duration": 415,
    "start_time": "2024-05-29T05:05:08.078Z"
   },
   {
    "duration": 119,
    "start_time": "2024-05-29T05:05:08.494Z"
   },
   {
    "duration": 129,
    "start_time": "2024-05-29T05:05:08.614Z"
   },
   {
    "duration": 344,
    "start_time": "2024-05-29T05:05:08.745Z"
   },
   {
    "duration": 24,
    "start_time": "2024-05-29T05:05:09.090Z"
   },
   {
    "duration": 10,
    "start_time": "2024-05-29T05:05:09.115Z"
   },
   {
    "duration": 482,
    "start_time": "2024-05-29T05:05:09.126Z"
   },
   {
    "duration": 1136,
    "start_time": "2024-05-29T05:05:09.610Z"
   },
   {
    "duration": 297,
    "start_time": "2024-05-29T05:05:10.750Z"
   },
   {
    "duration": 7,
    "start_time": "2024-05-29T05:05:11.048Z"
   },
   {
    "duration": 7,
    "start_time": "2024-05-29T05:05:11.056Z"
   },
   {
    "duration": 38,
    "start_time": "2024-05-29T05:05:11.064Z"
   },
   {
    "duration": 18,
    "start_time": "2024-05-29T05:05:11.104Z"
   },
   {
    "duration": 107,
    "start_time": "2024-05-29T05:05:11.124Z"
   },
   {
    "duration": 15,
    "start_time": "2024-05-29T05:05:11.233Z"
   },
   {
    "duration": 11,
    "start_time": "2024-05-29T05:05:11.250Z"
   },
   {
    "duration": 28,
    "start_time": "2024-05-29T05:05:11.262Z"
   },
   {
    "duration": 15,
    "start_time": "2024-05-29T05:05:11.291Z"
   },
   {
    "duration": 4,
    "start_time": "2024-05-29T05:05:11.308Z"
   },
   {
    "duration": 17,
    "start_time": "2024-05-29T05:05:11.313Z"
   },
   {
    "duration": 13,
    "start_time": "2024-05-29T05:05:11.331Z"
   },
   {
    "duration": 41,
    "start_time": "2024-05-29T05:05:11.345Z"
   },
   {
    "duration": 17,
    "start_time": "2024-05-29T05:05:11.387Z"
   },
   {
    "duration": 24,
    "start_time": "2024-05-29T05:05:11.406Z"
   },
   {
    "duration": 19,
    "start_time": "2024-05-29T05:05:11.431Z"
   },
   {
    "duration": 39,
    "start_time": "2024-05-29T05:05:11.452Z"
   },
   {
    "duration": 25,
    "start_time": "2024-05-29T05:05:11.492Z"
   },
   {
    "duration": 5,
    "start_time": "2024-05-29T05:05:11.519Z"
   },
   {
    "duration": 6,
    "start_time": "2024-05-29T05:05:11.525Z"
   },
   {
    "duration": 226,
    "start_time": "2024-05-29T05:05:11.533Z"
   },
   {
    "duration": 6,
    "start_time": "2024-05-29T05:05:11.761Z"
   },
   {
    "duration": 5,
    "start_time": "2024-05-29T05:05:11.768Z"
   },
   {
    "duration": 30,
    "start_time": "2024-05-29T05:05:11.784Z"
   },
   {
    "duration": 27,
    "start_time": "2024-05-29T05:05:11.816Z"
   },
   {
    "duration": 52,
    "start_time": "2024-05-29T05:05:11.844Z"
   },
   {
    "duration": 6,
    "start_time": "2024-05-29T05:05:11.898Z"
   },
   {
    "duration": 16,
    "start_time": "2024-05-29T05:05:11.905Z"
   },
   {
    "duration": 17,
    "start_time": "2024-05-29T05:05:11.923Z"
   },
   {
    "duration": 52,
    "start_time": "2024-05-29T05:05:11.941Z"
   },
   {
    "duration": 20,
    "start_time": "2024-05-29T05:05:11.995Z"
   },
   {
    "duration": 31,
    "start_time": "2024-05-29T05:05:12.016Z"
   },
   {
    "duration": 49,
    "start_time": "2024-05-29T05:05:12.049Z"
   },
   {
    "duration": 57,
    "start_time": "2024-05-29T05:05:12.099Z"
   },
   {
    "duration": 89,
    "start_time": "2024-05-29T05:05:12.157Z"
   },
   {
    "duration": 22,
    "start_time": "2024-05-29T05:05:12.247Z"
   },
   {
    "duration": 49,
    "start_time": "2024-05-29T05:05:12.271Z"
   },
   {
    "duration": 32,
    "start_time": "2024-05-29T05:05:12.321Z"
   },
   {
    "duration": 38,
    "start_time": "2024-05-29T05:05:12.355Z"
   },
   {
    "duration": 38,
    "start_time": "2024-05-29T05:05:12.394Z"
   },
   {
    "duration": 27,
    "start_time": "2024-05-29T05:05:12.433Z"
   },
   {
    "duration": 58,
    "start_time": "2024-05-29T05:05:12.461Z"
   },
   {
    "duration": 30,
    "start_time": "2024-05-29T05:05:12.520Z"
   },
   {
    "duration": 23,
    "start_time": "2024-05-29T05:05:12.551Z"
   },
   {
    "duration": 41,
    "start_time": "2024-05-29T05:05:12.575Z"
   },
   {
    "duration": 31,
    "start_time": "2024-05-29T05:05:12.617Z"
   },
   {
    "duration": 71,
    "start_time": "2024-05-29T05:05:12.650Z"
   },
   {
    "duration": 29,
    "start_time": "2024-05-29T05:05:12.722Z"
   },
   {
    "duration": 44,
    "start_time": "2024-05-29T05:05:12.753Z"
   },
   {
    "duration": 32,
    "start_time": "2024-05-29T05:05:12.798Z"
   },
   {
    "duration": 65,
    "start_time": "2024-05-29T05:05:12.831Z"
   },
   {
    "duration": 29,
    "start_time": "2024-05-29T05:05:12.897Z"
   },
   {
    "duration": 49,
    "start_time": "2024-05-29T05:05:12.927Z"
   },
   {
    "duration": 31,
    "start_time": "2024-05-29T05:05:12.984Z"
   },
   {
    "duration": 53,
    "start_time": "2024-05-29T05:05:13.017Z"
   },
   {
    "duration": 28,
    "start_time": "2024-05-29T05:05:13.084Z"
   },
   {
    "duration": 71,
    "start_time": "2024-05-29T05:05:13.113Z"
   },
   {
    "duration": 42,
    "start_time": "2024-05-29T05:05:13.186Z"
   },
   {
    "duration": 40,
    "start_time": "2024-05-29T05:05:13.230Z"
   },
   {
    "duration": 55,
    "start_time": "2024-05-29T05:05:13.271Z"
   },
   {
    "duration": 34,
    "start_time": "2024-05-29T05:05:13.328Z"
   },
   {
    "duration": 41,
    "start_time": "2024-05-29T05:05:13.364Z"
   },
   {
    "duration": 60,
    "start_time": "2024-05-29T05:05:13.406Z"
   },
   {
    "duration": 27,
    "start_time": "2024-05-29T05:05:13.467Z"
   },
   {
    "duration": 37,
    "start_time": "2024-05-29T05:05:13.495Z"
   },
   {
    "duration": 43,
    "start_time": "2024-05-29T05:05:13.534Z"
   },
   {
    "duration": 143,
    "start_time": "2024-05-29T05:05:13.578Z"
   },
   {
    "duration": 307,
    "start_time": "2024-05-29T05:05:13.722Z"
   },
   {
    "duration": 328,
    "start_time": "2024-05-29T05:05:14.030Z"
   },
   {
    "duration": 195,
    "start_time": "2024-05-29T05:05:14.360Z"
   },
   {
    "duration": 162,
    "start_time": "2024-05-29T05:05:14.557Z"
   },
   {
    "duration": 10,
    "start_time": "2024-05-29T05:05:14.720Z"
   },
   {
    "duration": 148,
    "start_time": "2024-05-29T05:05:14.732Z"
   },
   {
    "duration": 3,
    "start_time": "2024-05-29T05:05:14.882Z"
   },
   {
    "duration": 568,
    "start_time": "2024-05-29T05:05:14.886Z"
   },
   {
    "duration": 3,
    "start_time": "2024-05-29T05:05:15.456Z"
   },
   {
    "duration": 33,
    "start_time": "2024-05-29T05:05:15.461Z"
   },
   {
    "duration": 18,
    "start_time": "2024-05-29T05:05:15.496Z"
   },
   {
    "duration": 2497,
    "start_time": "2024-05-29T05:05:15.515Z"
   },
   {
    "duration": 1,
    "start_time": "2024-05-29T05:05:18.014Z"
   },
   {
    "duration": 0,
    "start_time": "2024-05-29T05:05:18.016Z"
   },
   {
    "duration": 0,
    "start_time": "2024-05-29T05:05:18.017Z"
   },
   {
    "duration": 0,
    "start_time": "2024-05-29T05:05:18.018Z"
   },
   {
    "duration": 0,
    "start_time": "2024-05-29T05:05:18.020Z"
   },
   {
    "duration": 0,
    "start_time": "2024-05-29T05:05:18.021Z"
   },
   {
    "duration": 0,
    "start_time": "2024-05-29T05:05:18.022Z"
   },
   {
    "duration": 0,
    "start_time": "2024-05-29T05:05:18.024Z"
   },
   {
    "duration": 0,
    "start_time": "2024-05-29T05:05:18.025Z"
   },
   {
    "duration": 0,
    "start_time": "2024-05-29T05:05:18.027Z"
   },
   {
    "duration": 0,
    "start_time": "2024-05-29T05:05:18.028Z"
   },
   {
    "duration": 0,
    "start_time": "2024-05-29T05:05:18.029Z"
   },
   {
    "duration": 0,
    "start_time": "2024-05-29T05:05:18.030Z"
   },
   {
    "duration": 0,
    "start_time": "2024-05-29T05:05:18.032Z"
   },
   {
    "duration": 0,
    "start_time": "2024-05-29T05:05:18.034Z"
   },
   {
    "duration": 0,
    "start_time": "2024-05-29T05:05:18.035Z"
   },
   {
    "duration": 0,
    "start_time": "2024-05-29T05:05:18.036Z"
   },
   {
    "duration": 0,
    "start_time": "2024-05-29T05:05:18.037Z"
   },
   {
    "duration": 0,
    "start_time": "2024-05-29T05:05:18.038Z"
   },
   {
    "duration": 0,
    "start_time": "2024-05-29T05:05:18.040Z"
   },
   {
    "duration": 0,
    "start_time": "2024-05-29T05:05:18.085Z"
   },
   {
    "duration": 0,
    "start_time": "2024-05-29T05:05:18.086Z"
   },
   {
    "duration": 0,
    "start_time": "2024-05-29T05:05:18.087Z"
   },
   {
    "duration": 0,
    "start_time": "2024-05-29T05:05:18.088Z"
   },
   {
    "duration": 0,
    "start_time": "2024-05-29T05:05:18.089Z"
   },
   {
    "duration": 0,
    "start_time": "2024-05-29T05:05:18.090Z"
   },
   {
    "duration": 0,
    "start_time": "2024-05-29T05:05:18.091Z"
   },
   {
    "duration": 0,
    "start_time": "2024-05-29T05:05:18.092Z"
   },
   {
    "duration": 1367,
    "start_time": "2024-05-29T05:07:35.938Z"
   },
   {
    "duration": 3,
    "start_time": "2024-05-29T05:07:37.307Z"
   },
   {
    "duration": 4,
    "start_time": "2024-05-29T05:07:37.312Z"
   },
   {
    "duration": 4699,
    "start_time": "2024-05-29T05:07:37.318Z"
   },
   {
    "duration": 624,
    "start_time": "2024-05-29T05:07:42.019Z"
   },
   {
    "duration": 3,
    "start_time": "2024-05-29T05:07:42.645Z"
   },
   {
    "duration": 12,
    "start_time": "2024-05-29T05:07:42.649Z"
   },
   {
    "duration": 7,
    "start_time": "2024-05-29T05:07:42.663Z"
   },
   {
    "duration": 21,
    "start_time": "2024-05-29T05:07:42.671Z"
   },
   {
    "duration": 80,
    "start_time": "2024-05-29T05:07:42.696Z"
   },
   {
    "duration": 750,
    "start_time": "2024-05-29T05:07:42.785Z"
   },
   {
    "duration": 5,
    "start_time": "2024-05-29T05:07:43.536Z"
   },
   {
    "duration": 385,
    "start_time": "2024-05-29T05:07:43.542Z"
   },
   {
    "duration": 339,
    "start_time": "2024-05-29T05:07:43.929Z"
   },
   {
    "duration": 550,
    "start_time": "2024-05-29T05:07:44.285Z"
   },
   {
    "duration": 266,
    "start_time": "2024-05-29T05:07:44.836Z"
   },
   {
    "duration": 2928,
    "start_time": "2024-05-29T05:07:45.104Z"
   },
   {
    "duration": 217,
    "start_time": "2024-05-29T05:07:48.034Z"
   },
   {
    "duration": 12060,
    "start_time": "2024-05-29T05:07:48.252Z"
   },
   {
    "duration": 424,
    "start_time": "2024-05-29T05:08:00.314Z"
   },
   {
    "duration": 128,
    "start_time": "2024-05-29T05:08:00.740Z"
   },
   {
    "duration": 145,
    "start_time": "2024-05-29T05:08:00.870Z"
   },
   {
    "duration": 344,
    "start_time": "2024-05-29T05:08:01.016Z"
   },
   {
    "duration": 34,
    "start_time": "2024-05-29T05:08:01.362Z"
   },
   {
    "duration": 103,
    "start_time": "2024-05-29T05:08:01.398Z"
   },
   {
    "duration": 362,
    "start_time": "2024-05-29T05:08:01.503Z"
   },
   {
    "duration": 1196,
    "start_time": "2024-05-29T05:08:01.866Z"
   },
   {
    "duration": 304,
    "start_time": "2024-05-29T05:08:03.067Z"
   },
   {
    "duration": 13,
    "start_time": "2024-05-29T05:08:03.372Z"
   },
   {
    "duration": 8,
    "start_time": "2024-05-29T05:08:03.387Z"
   },
   {
    "duration": 24,
    "start_time": "2024-05-29T05:08:03.396Z"
   },
   {
    "duration": 19,
    "start_time": "2024-05-29T05:08:03.421Z"
   },
   {
    "duration": 124,
    "start_time": "2024-05-29T05:08:03.442Z"
   },
   {
    "duration": 19,
    "start_time": "2024-05-29T05:08:03.567Z"
   },
   {
    "duration": 12,
    "start_time": "2024-05-29T05:08:03.588Z"
   },
   {
    "duration": 19,
    "start_time": "2024-05-29T05:08:03.602Z"
   },
   {
    "duration": 16,
    "start_time": "2024-05-29T05:08:03.622Z"
   },
   {
    "duration": 4,
    "start_time": "2024-05-29T05:08:03.639Z"
   },
   {
    "duration": 48,
    "start_time": "2024-05-29T05:08:03.645Z"
   },
   {
    "duration": 15,
    "start_time": "2024-05-29T05:08:03.694Z"
   },
   {
    "duration": 31,
    "start_time": "2024-05-29T05:08:03.710Z"
   },
   {
    "duration": 19,
    "start_time": "2024-05-29T05:08:03.742Z"
   },
   {
    "duration": 43,
    "start_time": "2024-05-29T05:08:03.762Z"
   },
   {
    "duration": 21,
    "start_time": "2024-05-29T05:08:03.807Z"
   },
   {
    "duration": 19,
    "start_time": "2024-05-29T05:08:03.830Z"
   },
   {
    "duration": 43,
    "start_time": "2024-05-29T05:08:03.850Z"
   },
   {
    "duration": 5,
    "start_time": "2024-05-29T05:08:03.895Z"
   },
   {
    "duration": 6,
    "start_time": "2024-05-29T05:08:03.902Z"
   },
   {
    "duration": 239,
    "start_time": "2024-05-29T05:08:03.910Z"
   },
   {
    "duration": 6,
    "start_time": "2024-05-29T05:08:04.150Z"
   },
   {
    "duration": 11,
    "start_time": "2024-05-29T05:08:04.158Z"
   },
   {
    "duration": 38,
    "start_time": "2024-05-29T05:08:04.171Z"
   },
   {
    "duration": 29,
    "start_time": "2024-05-29T05:08:04.211Z"
   },
   {
    "duration": 46,
    "start_time": "2024-05-29T05:08:04.241Z"
   },
   {
    "duration": 4,
    "start_time": "2024-05-29T05:08:04.288Z"
   },
   {
    "duration": 21,
    "start_time": "2024-05-29T05:08:04.294Z"
   },
   {
    "duration": 18,
    "start_time": "2024-05-29T05:08:04.316Z"
   },
   {
    "duration": 29,
    "start_time": "2024-05-29T05:08:04.335Z"
   },
   {
    "duration": 34,
    "start_time": "2024-05-29T05:08:04.366Z"
   },
   {
    "duration": 29,
    "start_time": "2024-05-29T05:08:04.402Z"
   },
   {
    "duration": 63,
    "start_time": "2024-05-29T05:08:04.433Z"
   },
   {
    "duration": 58,
    "start_time": "2024-05-29T05:08:04.498Z"
   },
   {
    "duration": 95,
    "start_time": "2024-05-29T05:08:04.558Z"
   },
   {
    "duration": 35,
    "start_time": "2024-05-29T05:08:04.654Z"
   },
   {
    "duration": 45,
    "start_time": "2024-05-29T05:08:04.690Z"
   },
   {
    "duration": 53,
    "start_time": "2024-05-29T05:08:04.737Z"
   },
   {
    "duration": 38,
    "start_time": "2024-05-29T05:08:04.791Z"
   },
   {
    "duration": 45,
    "start_time": "2024-05-29T05:08:04.831Z"
   },
   {
    "duration": 28,
    "start_time": "2024-05-29T05:08:04.884Z"
   },
   {
    "duration": 49,
    "start_time": "2024-05-29T05:08:04.913Z"
   },
   {
    "duration": 34,
    "start_time": "2024-05-29T05:08:04.964Z"
   },
   {
    "duration": 26,
    "start_time": "2024-05-29T05:08:05.000Z"
   },
   {
    "duration": 66,
    "start_time": "2024-05-29T05:08:05.027Z"
   },
   {
    "duration": 41,
    "start_time": "2024-05-29T05:08:05.095Z"
   },
   {
    "duration": 64,
    "start_time": "2024-05-29T05:08:05.138Z"
   },
   {
    "duration": 36,
    "start_time": "2024-05-29T05:08:05.204Z"
   },
   {
    "duration": 60,
    "start_time": "2024-05-29T05:08:05.241Z"
   },
   {
    "duration": 33,
    "start_time": "2024-05-29T05:08:05.302Z"
   },
   {
    "duration": 59,
    "start_time": "2024-05-29T05:08:05.336Z"
   },
   {
    "duration": 46,
    "start_time": "2024-05-29T05:08:05.396Z"
   },
   {
    "duration": 38,
    "start_time": "2024-05-29T05:08:05.443Z"
   },
   {
    "duration": 33,
    "start_time": "2024-05-29T05:08:05.488Z"
   },
   {
    "duration": 62,
    "start_time": "2024-05-29T05:08:05.522Z"
   },
   {
    "duration": 29,
    "start_time": "2024-05-29T05:08:05.586Z"
   },
   {
    "duration": 41,
    "start_time": "2024-05-29T05:08:05.617Z"
   },
   {
    "duration": 62,
    "start_time": "2024-05-29T05:08:05.659Z"
   },
   {
    "duration": 42,
    "start_time": "2024-05-29T05:08:05.722Z"
   },
   {
    "duration": 55,
    "start_time": "2024-05-29T05:08:05.765Z"
   },
   {
    "duration": 32,
    "start_time": "2024-05-29T05:08:05.822Z"
   },
   {
    "duration": 41,
    "start_time": "2024-05-29T05:08:05.855Z"
   },
   {
    "duration": 39,
    "start_time": "2024-05-29T05:08:05.897Z"
   },
   {
    "duration": 35,
    "start_time": "2024-05-29T05:08:05.938Z"
   },
   {
    "duration": 30,
    "start_time": "2024-05-29T05:08:05.974Z"
   },
   {
    "duration": 37,
    "start_time": "2024-05-29T05:08:06.005Z"
   },
   {
    "duration": 154,
    "start_time": "2024-05-29T05:08:06.044Z"
   },
   {
    "duration": 334,
    "start_time": "2024-05-29T05:08:06.200Z"
   },
   {
    "duration": 326,
    "start_time": "2024-05-29T05:08:06.535Z"
   },
   {
    "duration": 189,
    "start_time": "2024-05-29T05:08:06.862Z"
   },
   {
    "duration": 156,
    "start_time": "2024-05-29T05:08:07.052Z"
   },
   {
    "duration": 9,
    "start_time": "2024-05-29T05:08:07.209Z"
   },
   {
    "duration": 161,
    "start_time": "2024-05-29T05:08:07.219Z"
   },
   {
    "duration": 3,
    "start_time": "2024-05-29T05:08:07.384Z"
   },
   {
    "duration": 518,
    "start_time": "2024-05-29T05:08:07.388Z"
   },
   {
    "duration": 4,
    "start_time": "2024-05-29T05:08:07.907Z"
   },
   {
    "duration": 3,
    "start_time": "2024-05-29T05:08:07.912Z"
   },
   {
    "duration": 12,
    "start_time": "2024-05-29T05:08:07.917Z"
   },
   {
    "duration": 3008,
    "start_time": "2024-05-29T05:08:07.930Z"
   },
   {
    "duration": 0,
    "start_time": "2024-05-29T05:08:10.940Z"
   },
   {
    "duration": 0,
    "start_time": "2024-05-29T05:08:10.941Z"
   },
   {
    "duration": 0,
    "start_time": "2024-05-29T05:08:10.942Z"
   },
   {
    "duration": 0,
    "start_time": "2024-05-29T05:08:10.943Z"
   },
   {
    "duration": 0,
    "start_time": "2024-05-29T05:08:10.944Z"
   },
   {
    "duration": 0,
    "start_time": "2024-05-29T05:08:10.944Z"
   },
   {
    "duration": 0,
    "start_time": "2024-05-29T05:08:10.945Z"
   },
   {
    "duration": 0,
    "start_time": "2024-05-29T05:08:10.946Z"
   },
   {
    "duration": 0,
    "start_time": "2024-05-29T05:08:10.947Z"
   },
   {
    "duration": 0,
    "start_time": "2024-05-29T05:08:10.949Z"
   },
   {
    "duration": 0,
    "start_time": "2024-05-29T05:08:10.949Z"
   },
   {
    "duration": 0,
    "start_time": "2024-05-29T05:08:10.951Z"
   },
   {
    "duration": 0,
    "start_time": "2024-05-29T05:08:10.951Z"
   },
   {
    "duration": 0,
    "start_time": "2024-05-29T05:08:10.952Z"
   },
   {
    "duration": 0,
    "start_time": "2024-05-29T05:08:10.953Z"
   },
   {
    "duration": 0,
    "start_time": "2024-05-29T05:08:10.954Z"
   },
   {
    "duration": 0,
    "start_time": "2024-05-29T05:08:10.955Z"
   },
   {
    "duration": 0,
    "start_time": "2024-05-29T05:08:10.956Z"
   },
   {
    "duration": 0,
    "start_time": "2024-05-29T05:08:10.985Z"
   },
   {
    "duration": 0,
    "start_time": "2024-05-29T05:08:10.986Z"
   },
   {
    "duration": 0,
    "start_time": "2024-05-29T05:08:10.988Z"
   },
   {
    "duration": 0,
    "start_time": "2024-05-29T05:08:10.988Z"
   },
   {
    "duration": 0,
    "start_time": "2024-05-29T05:08:10.989Z"
   },
   {
    "duration": 0,
    "start_time": "2024-05-29T05:08:10.991Z"
   },
   {
    "duration": 0,
    "start_time": "2024-05-29T05:08:10.992Z"
   },
   {
    "duration": 0,
    "start_time": "2024-05-29T05:08:10.993Z"
   },
   {
    "duration": 0,
    "start_time": "2024-05-29T05:08:10.994Z"
   },
   {
    "duration": 0,
    "start_time": "2024-05-29T05:08:10.995Z"
   },
   {
    "duration": 1409,
    "start_time": "2024-05-29T05:10:50.562Z"
   },
   {
    "duration": 3,
    "start_time": "2024-05-29T05:10:51.972Z"
   },
   {
    "duration": 43,
    "start_time": "2024-05-29T05:10:51.976Z"
   },
   {
    "duration": 4701,
    "start_time": "2024-05-29T05:10:52.020Z"
   },
   {
    "duration": 611,
    "start_time": "2024-05-29T05:10:56.722Z"
   },
   {
    "duration": 4,
    "start_time": "2024-05-29T05:10:57.335Z"
   },
   {
    "duration": 11,
    "start_time": "2024-05-29T05:10:57.340Z"
   },
   {
    "duration": 5,
    "start_time": "2024-05-29T05:10:57.352Z"
   },
   {
    "duration": 15,
    "start_time": "2024-05-29T05:10:57.359Z"
   },
   {
    "duration": 69,
    "start_time": "2024-05-29T05:10:57.377Z"
   },
   {
    "duration": 747,
    "start_time": "2024-05-29T05:10:57.447Z"
   },
   {
    "duration": 3,
    "start_time": "2024-05-29T05:10:58.195Z"
   },
   {
    "duration": 286,
    "start_time": "2024-05-29T05:10:58.199Z"
   },
   {
    "duration": 375,
    "start_time": "2024-05-29T05:10:58.486Z"
   },
   {
    "duration": 551,
    "start_time": "2024-05-29T05:10:58.862Z"
   },
   {
    "duration": 255,
    "start_time": "2024-05-29T05:10:59.415Z"
   },
   {
    "duration": 559,
    "start_time": "2024-05-29T05:10:59.672Z"
   },
   {
    "duration": 199,
    "start_time": "2024-05-29T05:11:00.232Z"
   },
   {
    "duration": 11926,
    "start_time": "2024-05-29T05:11:00.433Z"
   },
   {
    "duration": 410,
    "start_time": "2024-05-29T05:11:12.361Z"
   },
   {
    "duration": 107,
    "start_time": "2024-05-29T05:11:12.772Z"
   },
   {
    "duration": 123,
    "start_time": "2024-05-29T05:11:12.880Z"
   },
   {
    "duration": 304,
    "start_time": "2024-05-29T05:11:13.004Z"
   },
   {
    "duration": 24,
    "start_time": "2024-05-29T05:11:13.309Z"
   },
   {
    "duration": 3,
    "start_time": "2024-05-29T05:11:13.335Z"
   },
   {
    "duration": 326,
    "start_time": "2024-05-29T05:11:13.339Z"
   },
   {
    "duration": 1146,
    "start_time": "2024-05-29T05:11:13.667Z"
   },
   {
    "duration": 309,
    "start_time": "2024-05-29T05:11:14.817Z"
   },
   {
    "duration": 8,
    "start_time": "2024-05-29T05:11:15.128Z"
   },
   {
    "duration": 13,
    "start_time": "2024-05-29T05:11:15.137Z"
   },
   {
    "duration": 41,
    "start_time": "2024-05-29T05:11:15.151Z"
   },
   {
    "duration": 29,
    "start_time": "2024-05-29T05:11:15.194Z"
   },
   {
    "duration": 86,
    "start_time": "2024-05-29T05:11:15.225Z"
   },
   {
    "duration": 13,
    "start_time": "2024-05-29T05:11:15.313Z"
   },
   {
    "duration": 25,
    "start_time": "2024-05-29T05:11:15.328Z"
   },
   {
    "duration": 20,
    "start_time": "2024-05-29T05:11:15.355Z"
   },
   {
    "duration": 19,
    "start_time": "2024-05-29T05:11:15.376Z"
   },
   {
    "duration": 4,
    "start_time": "2024-05-29T05:11:15.396Z"
   },
   {
    "duration": 19,
    "start_time": "2024-05-29T05:11:15.402Z"
   },
   {
    "duration": 13,
    "start_time": "2024-05-29T05:11:15.423Z"
   },
   {
    "duration": 48,
    "start_time": "2024-05-29T05:11:15.437Z"
   },
   {
    "duration": 18,
    "start_time": "2024-05-29T05:11:15.486Z"
   },
   {
    "duration": 31,
    "start_time": "2024-05-29T05:11:15.505Z"
   },
   {
    "duration": 21,
    "start_time": "2024-05-29T05:11:15.537Z"
   },
   {
    "duration": 35,
    "start_time": "2024-05-29T05:11:15.559Z"
   },
   {
    "duration": 27,
    "start_time": "2024-05-29T05:11:15.596Z"
   },
   {
    "duration": 4,
    "start_time": "2024-05-29T05:11:15.625Z"
   },
   {
    "duration": 5,
    "start_time": "2024-05-29T05:11:15.631Z"
   },
   {
    "duration": 236,
    "start_time": "2024-05-29T05:11:15.638Z"
   },
   {
    "duration": 10,
    "start_time": "2024-05-29T05:11:15.875Z"
   },
   {
    "duration": 5,
    "start_time": "2024-05-29T05:11:15.905Z"
   },
   {
    "duration": 30,
    "start_time": "2024-05-29T05:11:15.911Z"
   },
   {
    "duration": 27,
    "start_time": "2024-05-29T05:11:15.942Z"
   },
   {
    "duration": 43,
    "start_time": "2024-05-29T05:11:15.971Z"
   },
   {
    "duration": 4,
    "start_time": "2024-05-29T05:11:16.015Z"
   },
   {
    "duration": 44,
    "start_time": "2024-05-29T05:11:16.020Z"
   },
   {
    "duration": 23,
    "start_time": "2024-05-29T05:11:16.066Z"
   },
   {
    "duration": 32,
    "start_time": "2024-05-29T05:11:16.090Z"
   },
   {
    "duration": 24,
    "start_time": "2024-05-29T05:11:16.124Z"
   },
   {
    "duration": 44,
    "start_time": "2024-05-29T05:11:16.150Z"
   },
   {
    "duration": 34,
    "start_time": "2024-05-29T05:11:16.195Z"
   },
   {
    "duration": 62,
    "start_time": "2024-05-29T05:11:16.231Z"
   },
   {
    "duration": 78,
    "start_time": "2024-05-29T05:11:16.294Z"
   },
   {
    "duration": 27,
    "start_time": "2024-05-29T05:11:16.375Z"
   },
   {
    "duration": 51,
    "start_time": "2024-05-29T05:11:16.403Z"
   },
   {
    "duration": 35,
    "start_time": "2024-05-29T05:11:16.455Z"
   },
   {
    "duration": 37,
    "start_time": "2024-05-29T05:11:16.491Z"
   },
   {
    "duration": 38,
    "start_time": "2024-05-29T05:11:16.530Z"
   },
   {
    "duration": 34,
    "start_time": "2024-05-29T05:11:16.570Z"
   },
   {
    "duration": 45,
    "start_time": "2024-05-29T05:11:16.605Z"
   },
   {
    "duration": 36,
    "start_time": "2024-05-29T05:11:16.652Z"
   },
   {
    "duration": 26,
    "start_time": "2024-05-29T05:11:16.689Z"
   },
   {
    "duration": 47,
    "start_time": "2024-05-29T05:11:16.717Z"
   },
   {
    "duration": 42,
    "start_time": "2024-05-29T05:11:16.766Z"
   },
   {
    "duration": 62,
    "start_time": "2024-05-29T05:11:16.809Z"
   },
   {
    "duration": 32,
    "start_time": "2024-05-29T05:11:16.872Z"
   },
   {
    "duration": 42,
    "start_time": "2024-05-29T05:11:16.906Z"
   },
   {
    "duration": 34,
    "start_time": "2024-05-29T05:11:16.949Z"
   },
   {
    "duration": 51,
    "start_time": "2024-05-29T05:11:16.985Z"
   },
   {
    "duration": 30,
    "start_time": "2024-05-29T05:11:17.037Z"
   },
   {
    "duration": 47,
    "start_time": "2024-05-29T05:11:17.068Z"
   },
   {
    "duration": 32,
    "start_time": "2024-05-29T05:11:17.122Z"
   },
   {
    "duration": 60,
    "start_time": "2024-05-29T05:11:17.156Z"
   },
   {
    "duration": 39,
    "start_time": "2024-05-29T05:11:17.218Z"
   },
   {
    "duration": 63,
    "start_time": "2024-05-29T05:11:17.259Z"
   },
   {
    "duration": 40,
    "start_time": "2024-05-29T05:11:17.324Z"
   },
   {
    "duration": 48,
    "start_time": "2024-05-29T05:11:17.365Z"
   },
   {
    "duration": 48,
    "start_time": "2024-05-29T05:11:17.415Z"
   },
   {
    "duration": 31,
    "start_time": "2024-05-29T05:11:17.464Z"
   },
   {
    "duration": 29,
    "start_time": "2024-05-29T05:11:17.496Z"
   },
   {
    "duration": 35,
    "start_time": "2024-05-29T05:11:17.527Z"
   },
   {
    "duration": 36,
    "start_time": "2024-05-29T05:11:17.563Z"
   },
   {
    "duration": 23,
    "start_time": "2024-05-29T05:11:17.600Z"
   },
   {
    "duration": 30,
    "start_time": "2024-05-29T05:11:17.625Z"
   },
   {
    "duration": 146,
    "start_time": "2024-05-29T05:11:17.657Z"
   },
   {
    "duration": 319,
    "start_time": "2024-05-29T05:11:17.805Z"
   },
   {
    "duration": 320,
    "start_time": "2024-05-29T05:11:18.126Z"
   },
   {
    "duration": 187,
    "start_time": "2024-05-29T05:11:18.448Z"
   },
   {
    "duration": 168,
    "start_time": "2024-05-29T05:11:18.636Z"
   },
   {
    "duration": 9,
    "start_time": "2024-05-29T05:11:18.805Z"
   },
   {
    "duration": 134,
    "start_time": "2024-05-29T05:11:18.815Z"
   },
   {
    "duration": 3,
    "start_time": "2024-05-29T05:11:18.951Z"
   },
   {
    "duration": 506,
    "start_time": "2024-05-29T05:11:18.955Z"
   },
   {
    "duration": 1094,
    "start_time": "2024-05-29T05:11:19.463Z"
   },
   {
    "duration": 4,
    "start_time": "2024-05-29T05:11:20.558Z"
   },
   {
    "duration": 7,
    "start_time": "2024-05-29T05:11:20.563Z"
   },
   {
    "duration": 10,
    "start_time": "2024-05-29T05:11:20.572Z"
   },
   {
    "duration": 41104,
    "start_time": "2024-05-29T05:11:20.583Z"
   },
   {
    "duration": 4,
    "start_time": "2024-05-29T05:12:01.688Z"
   },
   {
    "duration": 35,
    "start_time": "2024-05-29T05:12:01.693Z"
   },
   {
    "duration": 20,
    "start_time": "2024-05-29T05:12:01.729Z"
   },
   {
    "duration": 40060,
    "start_time": "2024-05-29T05:12:01.750Z"
   },
   {
    "duration": 0,
    "start_time": "2024-05-29T05:12:41.811Z"
   },
   {
    "duration": 0,
    "start_time": "2024-05-29T05:12:41.812Z"
   },
   {
    "duration": 0,
    "start_time": "2024-05-29T05:12:41.813Z"
   },
   {
    "duration": 0,
    "start_time": "2024-05-29T05:12:41.814Z"
   },
   {
    "duration": 1,
    "start_time": "2024-05-29T05:12:41.814Z"
   },
   {
    "duration": 0,
    "start_time": "2024-05-29T05:12:41.815Z"
   },
   {
    "duration": 0,
    "start_time": "2024-05-29T05:12:41.816Z"
   },
   {
    "duration": 0,
    "start_time": "2024-05-29T05:12:41.817Z"
   },
   {
    "duration": 0,
    "start_time": "2024-05-29T05:12:41.818Z"
   },
   {
    "duration": 0,
    "start_time": "2024-05-29T05:12:41.819Z"
   },
   {
    "duration": 0,
    "start_time": "2024-05-29T05:12:41.820Z"
   },
   {
    "duration": 0,
    "start_time": "2024-05-29T05:12:41.821Z"
   },
   {
    "duration": 0,
    "start_time": "2024-05-29T05:12:41.822Z"
   },
   {
    "duration": 0,
    "start_time": "2024-05-29T05:12:41.823Z"
   },
   {
    "duration": 0,
    "start_time": "2024-05-29T05:12:41.824Z"
   },
   {
    "duration": 0,
    "start_time": "2024-05-29T05:12:41.825Z"
   },
   {
    "duration": 0,
    "start_time": "2024-05-29T05:12:41.826Z"
   },
   {
    "duration": 0,
    "start_time": "2024-05-29T05:12:41.826Z"
   },
   {
    "duration": 0,
    "start_time": "2024-05-29T05:12:41.827Z"
   },
   {
    "duration": 0,
    "start_time": "2024-05-29T05:12:41.828Z"
   },
   {
    "duration": 0,
    "start_time": "2024-05-29T05:12:41.829Z"
   },
   {
    "duration": 0,
    "start_time": "2024-05-29T05:12:41.830Z"
   },
   {
    "duration": 0,
    "start_time": "2024-05-29T05:12:41.831Z"
   },
   {
    "duration": 0,
    "start_time": "2024-05-29T05:12:41.832Z"
   },
   {
    "duration": 1471,
    "start_time": "2024-05-29T05:12:49.533Z"
   },
   {
    "duration": 3,
    "start_time": "2024-05-29T05:12:51.006Z"
   },
   {
    "duration": 29,
    "start_time": "2024-05-29T05:12:51.010Z"
   },
   {
    "duration": 4520,
    "start_time": "2024-05-29T05:12:51.040Z"
   },
   {
    "duration": 615,
    "start_time": "2024-05-29T05:12:55.562Z"
   },
   {
    "duration": 3,
    "start_time": "2024-05-29T05:12:56.178Z"
   },
   {
    "duration": 11,
    "start_time": "2024-05-29T05:12:56.182Z"
   },
   {
    "duration": 10,
    "start_time": "2024-05-29T05:12:56.194Z"
   },
   {
    "duration": 15,
    "start_time": "2024-05-29T05:12:56.205Z"
   },
   {
    "duration": 78,
    "start_time": "2024-05-29T05:12:56.223Z"
   },
   {
    "duration": 741,
    "start_time": "2024-05-29T05:12:56.302Z"
   },
   {
    "duration": 4,
    "start_time": "2024-05-29T05:12:57.045Z"
   },
   {
    "duration": 285,
    "start_time": "2024-05-29T05:12:57.051Z"
   },
   {
    "duration": 360,
    "start_time": "2024-05-29T05:12:57.337Z"
   },
   {
    "duration": 553,
    "start_time": "2024-05-29T05:12:57.698Z"
   },
   {
    "duration": 246,
    "start_time": "2024-05-29T05:12:58.253Z"
   },
   {
    "duration": 515,
    "start_time": "2024-05-29T05:12:58.500Z"
   },
   {
    "duration": 199,
    "start_time": "2024-05-29T05:12:59.016Z"
   },
   {
    "duration": 12268,
    "start_time": "2024-05-29T05:12:59.216Z"
   },
   {
    "duration": 408,
    "start_time": "2024-05-29T05:13:11.486Z"
   },
   {
    "duration": 120,
    "start_time": "2024-05-29T05:13:11.896Z"
   },
   {
    "duration": 129,
    "start_time": "2024-05-29T05:13:12.018Z"
   },
   {
    "duration": 324,
    "start_time": "2024-05-29T05:13:12.148Z"
   },
   {
    "duration": 31,
    "start_time": "2024-05-29T05:13:12.473Z"
   },
   {
    "duration": 7,
    "start_time": "2024-05-29T05:13:12.506Z"
   },
   {
    "duration": 312,
    "start_time": "2024-05-29T05:13:12.514Z"
   },
   {
    "duration": 1083,
    "start_time": "2024-05-29T05:13:12.828Z"
   },
   {
    "duration": 288,
    "start_time": "2024-05-29T05:13:13.915Z"
   },
   {
    "duration": 6,
    "start_time": "2024-05-29T05:13:14.204Z"
   },
   {
    "duration": 5,
    "start_time": "2024-05-29T05:13:14.211Z"
   },
   {
    "duration": 20,
    "start_time": "2024-05-29T05:13:14.217Z"
   },
   {
    "duration": 16,
    "start_time": "2024-05-29T05:13:14.239Z"
   },
   {
    "duration": 96,
    "start_time": "2024-05-29T05:13:14.257Z"
   },
   {
    "duration": 14,
    "start_time": "2024-05-29T05:13:14.354Z"
   },
   {
    "duration": 22,
    "start_time": "2024-05-29T05:13:14.370Z"
   },
   {
    "duration": 22,
    "start_time": "2024-05-29T05:13:14.393Z"
   },
   {
    "duration": 14,
    "start_time": "2024-05-29T05:13:14.416Z"
   },
   {
    "duration": 4,
    "start_time": "2024-05-29T05:13:14.432Z"
   },
   {
    "duration": 23,
    "start_time": "2024-05-29T05:13:14.437Z"
   },
   {
    "duration": 13,
    "start_time": "2024-05-29T05:13:14.462Z"
   },
   {
    "duration": 35,
    "start_time": "2024-05-29T05:13:14.476Z"
   },
   {
    "duration": 18,
    "start_time": "2024-05-29T05:13:14.513Z"
   },
   {
    "duration": 17,
    "start_time": "2024-05-29T05:13:14.533Z"
   },
   {
    "duration": 16,
    "start_time": "2024-05-29T05:13:14.552Z"
   },
   {
    "duration": 24,
    "start_time": "2024-05-29T05:13:14.570Z"
   },
   {
    "duration": 32,
    "start_time": "2024-05-29T05:13:14.595Z"
   },
   {
    "duration": 5,
    "start_time": "2024-05-29T05:13:14.628Z"
   },
   {
    "duration": 6,
    "start_time": "2024-05-29T05:13:14.634Z"
   },
   {
    "duration": 230,
    "start_time": "2024-05-29T05:13:14.641Z"
   },
   {
    "duration": 12,
    "start_time": "2024-05-29T05:13:14.872Z"
   },
   {
    "duration": 5,
    "start_time": "2024-05-29T05:13:14.885Z"
   },
   {
    "duration": 30,
    "start_time": "2024-05-29T05:13:14.891Z"
   },
   {
    "duration": 33,
    "start_time": "2024-05-29T05:13:14.922Z"
   },
   {
    "duration": 45,
    "start_time": "2024-05-29T05:13:14.956Z"
   },
   {
    "duration": 5,
    "start_time": "2024-05-29T05:13:15.002Z"
   },
   {
    "duration": 52,
    "start_time": "2024-05-29T05:13:15.008Z"
   },
   {
    "duration": 16,
    "start_time": "2024-05-29T05:13:15.062Z"
   },
   {
    "duration": 25,
    "start_time": "2024-05-29T05:13:15.079Z"
   },
   {
    "duration": 24,
    "start_time": "2024-05-29T05:13:15.105Z"
   },
   {
    "duration": 42,
    "start_time": "2024-05-29T05:13:15.131Z"
   },
   {
    "duration": 32,
    "start_time": "2024-05-29T05:13:15.175Z"
   },
   {
    "duration": 67,
    "start_time": "2024-05-29T05:13:15.208Z"
   },
   {
    "duration": 81,
    "start_time": "2024-05-29T05:13:15.276Z"
   },
   {
    "duration": 33,
    "start_time": "2024-05-29T05:13:15.359Z"
   },
   {
    "duration": 42,
    "start_time": "2024-05-29T05:13:15.394Z"
   },
   {
    "duration": 30,
    "start_time": "2024-05-29T05:13:15.438Z"
   },
   {
    "duration": 27,
    "start_time": "2024-05-29T05:13:15.485Z"
   },
   {
    "duration": 44,
    "start_time": "2024-05-29T05:13:15.514Z"
   },
   {
    "duration": 39,
    "start_time": "2024-05-29T05:13:15.560Z"
   },
   {
    "duration": 42,
    "start_time": "2024-05-29T05:13:15.600Z"
   },
   {
    "duration": 20,
    "start_time": "2024-05-29T05:13:15.644Z"
   },
   {
    "duration": 32,
    "start_time": "2024-05-29T05:13:15.665Z"
   },
   {
    "duration": 37,
    "start_time": "2024-05-29T05:13:15.698Z"
   },
   {
    "duration": 29,
    "start_time": "2024-05-29T05:13:15.737Z"
   },
   {
    "duration": 60,
    "start_time": "2024-05-29T05:13:15.767Z"
   },
   {
    "duration": 28,
    "start_time": "2024-05-29T05:13:15.828Z"
   },
   {
    "duration": 46,
    "start_time": "2024-05-29T05:13:15.858Z"
   },
   {
    "duration": 37,
    "start_time": "2024-05-29T05:13:15.906Z"
   },
   {
    "duration": 64,
    "start_time": "2024-05-29T05:13:15.945Z"
   },
   {
    "duration": 32,
    "start_time": "2024-05-29T05:13:16.011Z"
   },
   {
    "duration": 42,
    "start_time": "2024-05-29T05:13:16.044Z"
   },
   {
    "duration": 31,
    "start_time": "2024-05-29T05:13:16.091Z"
   },
   {
    "duration": 52,
    "start_time": "2024-05-29T05:13:16.123Z"
   },
   {
    "duration": 33,
    "start_time": "2024-05-29T05:13:16.177Z"
   },
   {
    "duration": 34,
    "start_time": "2024-05-29T05:13:16.212Z"
   },
   {
    "duration": 38,
    "start_time": "2024-05-29T05:13:16.247Z"
   },
   {
    "duration": 29,
    "start_time": "2024-05-29T05:13:16.287Z"
   },
   {
    "duration": 36,
    "start_time": "2024-05-29T05:13:16.317Z"
   },
   {
    "duration": 42,
    "start_time": "2024-05-29T05:13:16.355Z"
   },
   {
    "duration": 40,
    "start_time": "2024-05-29T05:13:16.398Z"
   },
   {
    "duration": 35,
    "start_time": "2024-05-29T05:13:16.439Z"
   },
   {
    "duration": 27,
    "start_time": "2024-05-29T05:13:16.476Z"
   },
   {
    "duration": 23,
    "start_time": "2024-05-29T05:13:16.505Z"
   },
   {
    "duration": 24,
    "start_time": "2024-05-29T05:13:16.530Z"
   },
   {
    "duration": 161,
    "start_time": "2024-05-29T05:13:16.556Z"
   },
   {
    "duration": 328,
    "start_time": "2024-05-29T05:13:16.719Z"
   },
   {
    "duration": 324,
    "start_time": "2024-05-29T05:13:17.048Z"
   },
   {
    "duration": 180,
    "start_time": "2024-05-29T05:13:17.374Z"
   },
   {
    "duration": 150,
    "start_time": "2024-05-29T05:13:17.555Z"
   },
   {
    "duration": 8,
    "start_time": "2024-05-29T05:13:17.706Z"
   },
   {
    "duration": 134,
    "start_time": "2024-05-29T05:13:17.716Z"
   },
   {
    "duration": 2,
    "start_time": "2024-05-29T05:13:17.851Z"
   },
   {
    "duration": 1016,
    "start_time": "2024-05-29T05:13:17.855Z"
   },
   {
    "duration": 3,
    "start_time": "2024-05-29T05:13:18.873Z"
   },
   {
    "duration": 3,
    "start_time": "2024-05-29T05:13:18.884Z"
   },
   {
    "duration": 3,
    "start_time": "2024-05-29T05:13:18.888Z"
   },
   {
    "duration": 41631,
    "start_time": "2024-05-29T05:13:18.892Z"
   },
   {
    "duration": 3,
    "start_time": "2024-05-29T05:14:00.524Z"
   },
   {
    "duration": 82,
    "start_time": "2024-05-29T05:14:00.528Z"
   },
   {
    "duration": 65,
    "start_time": "2024-05-29T05:14:00.611Z"
   },
   {
    "duration": 162769,
    "start_time": "2024-05-29T05:14:00.678Z"
   },
   {
    "duration": 3,
    "start_time": "2024-05-29T05:16:43.448Z"
   },
   {
    "duration": 7,
    "start_time": "2024-05-29T05:16:43.453Z"
   },
   {
    "duration": 2,
    "start_time": "2024-05-29T05:16:43.462Z"
   },
   {
    "duration": 147622,
    "start_time": "2024-05-29T05:16:43.466Z"
   },
   {
    "duration": 3,
    "start_time": "2024-05-29T05:19:11.090Z"
   },
   {
    "duration": 4,
    "start_time": "2024-05-29T05:19:11.094Z"
   },
   {
    "duration": 4,
    "start_time": "2024-05-29T05:19:11.099Z"
   },
   {
    "duration": 220520,
    "start_time": "2024-05-29T05:19:11.104Z"
   },
   {
    "duration": 3,
    "start_time": "2024-05-29T05:22:51.625Z"
   },
   {
    "duration": 8,
    "start_time": "2024-05-29T05:22:51.630Z"
   },
   {
    "duration": 2,
    "start_time": "2024-05-29T05:22:51.640Z"
   },
   {
    "duration": 776,
    "start_time": "2024-05-29T05:22:51.644Z"
   },
   {
    "duration": 10,
    "start_time": "2024-05-29T05:22:52.422Z"
   },
   {
    "duration": 31,
    "start_time": "2024-05-29T05:22:52.434Z"
   },
   {
    "duration": 324,
    "start_time": "2024-05-29T05:22:52.467Z"
   },
   {
    "duration": 163,
    "start_time": "2024-05-29T05:22:52.792Z"
   },
   {
    "duration": 2,
    "start_time": "2024-05-29T05:22:52.957Z"
   },
   {
    "duration": 5,
    "start_time": "2024-05-29T05:22:52.961Z"
   },
   {
    "duration": 6,
    "start_time": "2024-05-29T05:22:52.967Z"
   },
   {
    "duration": 5,
    "start_time": "2024-05-29T05:22:52.984Z"
   },
   {
    "duration": 15,
    "start_time": "2024-05-29T05:22:52.990Z"
   },
   {
    "duration": 277,
    "start_time": "2024-05-29T05:22:53.007Z"
   },
   {
    "duration": 26,
    "start_time": "2024-05-29T05:22:53.286Z"
   },
   {
    "duration": 224,
    "start_time": "2024-05-29T05:22:53.313Z"
   }
  ],
  "kernelspec": {
   "display_name": "Python 3 (ipykernel)",
   "language": "python",
   "name": "python3"
  },
  "language_info": {
   "codemirror_mode": {
    "name": "ipython",
    "version": 3
   },
   "file_extension": ".py",
   "mimetype": "text/x-python",
   "name": "python",
   "nbconvert_exporter": "python",
   "pygments_lexer": "ipython3",
   "version": "3.9.5"
  },
  "toc": {
   "base_numbering": 1,
   "nav_menu": {},
   "number_sections": false,
   "sideBar": true,
   "skip_h1_title": false,
   "title_cell": "Table of Contents",
   "title_sidebar": "Contents",
   "toc_cell": false,
   "toc_position": {},
   "toc_section_display": true,
   "toc_window_display": true
  },
  "varInspector": {
   "cols": {
    "lenName": 16,
    "lenType": 16,
    "lenVar": 40
   },
   "kernels_config": {
    "python": {
     "delete_cmd_postfix": "",
     "delete_cmd_prefix": "del ",
     "library": "var_list.py",
     "varRefreshCmd": "print(var_dic_list())"
    },
    "r": {
     "delete_cmd_postfix": ") ",
     "delete_cmd_prefix": "rm(",
     "library": "var_list.r",
     "varRefreshCmd": "cat(var_dic_list()) "
    }
   },
   "types_to_exclude": [
    "module",
    "function",
    "builtin_function_or_method",
    "instance",
    "_Feature"
   ],
   "window_display": false
  }
 },
 "nbformat": 4,
 "nbformat_minor": 5
}
