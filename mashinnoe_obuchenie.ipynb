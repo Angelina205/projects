{
 "cells": [
  {
   "cell_type": "markdown",
   "metadata": {},
   "source": [
    "# Выбор локации для скважины"
   ]
  },
  {
   "cell_type": "markdown",
   "metadata": {},
   "source": [
    "Прошу максимально быстро проверить работу, так как нужно приступить к финальному проекту, параллельно с курсами у меня сессия в магистратуре и практика, поэтому, если это возможно, указывать на все недочеты в проекте, без которых он не может быть принят. "
   ]
  },
  {
   "cell_type": "markdown",
   "metadata": {},
   "source": [
    "Допустим, вы работаете в добывающей компании «ГлавРосГосНефть». Нужно решить, где бурить новую скважину.\n",
    "\n",
    "Вам предоставлены пробы нефти в трёх регионах: в каждом 10 000 месторождений, где измерили качество нефти и объём её запасов. Постройте модель машинного обучения, которая поможет определить регион, где добыча принесёт наибольшую прибыль. Проанализируйте возможную прибыль и риски техникой *Bootstrap.*\n",
    "\n",
    "Шаги для выбора локации:\n",
    "\n",
    "- В избранном регионе ищут месторождения, для каждого определяют значения признаков;\n",
    "- Строят модель и оценивают объём запасов;\n",
    "- Выбирают месторождения с самым высокими оценками значений. Количество месторождений зависит от бюджета компании и стоимости разработки одной скважины;\n",
    "- Прибыль равна суммарной прибыли отобранных месторождений."
   ]
  },
  {
   "cell_type": "markdown",
   "metadata": {},
   "source": [
    "Условия задачи:\n",
    "- Для обучения модели подходит только линейная регрессия (остальные — недостаточно предсказуемые).\n",
    "- При разведке региона исследуют 500 точек, из которых с помощью машинного обучения выбирают 200 лучших для разработки.\n",
    "- Бюджет на разработку скважин в регионе — 10 млрд рублей.\n",
    "- При нынешних ценах один баррель сырья приносит 450 рублей дохода. Доход с каждой единицы продукта составляет 450 тыс. рублей, поскольку объём указан в тысячах баррелей.\n",
    "- После оценки рисков нужно оставить лишь те регионы, в которых вероятность убытков меньше 2.5%. Среди них выбирают регион с наибольшей средней прибылью."
   ]
  },
  {
   "cell_type": "markdown",
   "metadata": {},
   "source": [
    "Данные геологоразведки трёх регионов находятся в файлах: \n",
    "\n",
    "/datasets/geo_data_0.csv. \n",
    "\n",
    "/datasets/geo_data_1.csv. \n",
    "\n",
    "/datasets/geo_data_2.csv. \n",
    "\n",
    "\n",
    "\n",
    "- id — уникальный идентификатор скважины;\n",
    "- f0, f1, f2 — три признака точек (неважно, что они означают, но сами признаки значимы);\n",
    "- product — объём запасов в скважине (тыс. баррелей)."
   ]
  },
  {
   "cell_type": "markdown",
   "metadata": {},
   "source": [
    "Ход решения:\n",
    "\n",
    "1. Загрузите и подготовьте данные. Поясните порядок действий.\n",
    "2. Обучите и проверьте модель для каждого региона:\n",
    "\n",
    "2.1. Разбейте данные на обучающую и валидационную выборки в соотношении 75:25.\n",
    "\n",
    "2.2. Обучите модель и сделайте предсказания на валидационной выборке.\n",
    "\n",
    "2.3. Сохраните предсказания и правильные ответы на валидационной выборке.\n",
    "\n",
    "2.4. Напечатайте на экране средний запас предсказанного сырья и RMSE модели.\n",
    "\n",
    "2.5. Проанализируйте результаты.\n",
    "\n",
    "\n",
    "3. Подготовьтесь к расчёту прибыли:\n",
    "\n",
    "\n",
    "3.1. Все ключевые значения для расчётов сохраните в отдельных переменных.\n",
    "\n",
    "\n",
    "3.2. Рассчитайте достаточный объём сырья для безубыточной разработки новой скважины. Сравните полученный объём сырья со средним запасом в каждом регионе. \n",
    "\n",
    "\n",
    "3.3. Напишите выводы по этапу подготовки расчёта прибыли.\n",
    "\n",
    "\n",
    "4. Напишите функцию для расчёта прибыли по выбранным скважинам и предсказаниям модели:\n",
    " \n",
    " \n",
    "4.1. Выберите скважины с максимальными значениями предсказаний. \n",
    " \n",
    "4.2. Просуммируйте целевое значение объёма сырья, соответствующее этим предсказаниям.\n",
    "\n",
    "4.3. Рассчитайте прибыль для полученного объёма сырья.\n",
    "\n",
    "5. Посчитайте риски и прибыль для каждого региона:\n",
    "\n",
    "5.1. Примените технику Bootstrap с 1000 выборок, чтобы найти распределение прибыли.\n",
    "\n",
    "5.2. Найдите среднюю прибыль, 95%-й доверительный интервал и риск убытков. Убыток — это отрицательная прибыль.\n",
    "\n",
    "5.3. Напишите выводы: предложите регион для разработки скважин и обоснуйте выбор."
   ]
  },
  {
   "cell_type": "markdown",
   "metadata": {},
   "source": [
    "## Загрузка и подготовка данных"
   ]
  },
  {
   "cell_type": "code",
   "execution_count": 214,
   "metadata": {},
   "outputs": [],
   "source": [
    "import pandas as pd\n",
    "import numpy as np\n",
    "import seaborn as sns\n",
    "import matplotlib.pyplot as plt\n",
    "from sklearn.preprocessing import MinMaxScaler\n",
    "from sklearn.model_selection import train_test_split\n",
    "from sklearn.metrics import mean_squared_error\n",
    "from sklearn.linear_model import LinearRegression\n",
    "from scipy import stats as st"
   ]
  },
  {
   "cell_type": "code",
   "execution_count": 215,
   "metadata": {},
   "outputs": [],
   "source": [
    "data1 = pd.read_csv('/datasets/geo_data_0.csv')\n",
    "data2 = pd.read_csv('/datasets/geo_data_1.csv')\n",
    "data3 = pd.read_csv('/datasets/geo_data_2.csv')"
   ]
  },
  {
   "cell_type": "code",
   "execution_count": 216,
   "metadata": {},
   "outputs": [
    {
     "name": "stdout",
     "output_type": "stream",
     "text": [
      "<class 'pandas.core.frame.DataFrame'>\n",
      "RangeIndex: 100000 entries, 0 to 99999\n",
      "Data columns (total 5 columns):\n",
      " #   Column   Non-Null Count   Dtype  \n",
      "---  ------   --------------   -----  \n",
      " 0   id       100000 non-null  object \n",
      " 1   f0       100000 non-null  float64\n",
      " 2   f1       100000 non-null  float64\n",
      " 3   f2       100000 non-null  float64\n",
      " 4   product  100000 non-null  float64\n",
      "dtypes: float64(4), object(1)\n",
      "memory usage: 3.8+ MB\n"
     ]
    }
   ],
   "source": [
    "data1.info()"
   ]
  },
  {
   "cell_type": "code",
   "execution_count": 217,
   "metadata": {},
   "outputs": [
    {
     "data": {
      "text/html": [
       "<div>\n",
       "<style scoped>\n",
       "    .dataframe tbody tr th:only-of-type {\n",
       "        vertical-align: middle;\n",
       "    }\n",
       "\n",
       "    .dataframe tbody tr th {\n",
       "        vertical-align: top;\n",
       "    }\n",
       "\n",
       "    .dataframe thead th {\n",
       "        text-align: right;\n",
       "    }\n",
       "</style>\n",
       "<table border=\"1\" class=\"dataframe\">\n",
       "  <thead>\n",
       "    <tr style=\"text-align: right;\">\n",
       "      <th></th>\n",
       "      <th>id</th>\n",
       "      <th>f0</th>\n",
       "      <th>f1</th>\n",
       "      <th>f2</th>\n",
       "      <th>product</th>\n",
       "    </tr>\n",
       "  </thead>\n",
       "  <tbody>\n",
       "    <tr>\n",
       "      <th>0</th>\n",
       "      <td>txEyH</td>\n",
       "      <td>0.705745</td>\n",
       "      <td>-0.497823</td>\n",
       "      <td>1.221170</td>\n",
       "      <td>105.280062</td>\n",
       "    </tr>\n",
       "    <tr>\n",
       "      <th>1</th>\n",
       "      <td>2acmU</td>\n",
       "      <td>1.334711</td>\n",
       "      <td>-0.340164</td>\n",
       "      <td>4.365080</td>\n",
       "      <td>73.037750</td>\n",
       "    </tr>\n",
       "    <tr>\n",
       "      <th>2</th>\n",
       "      <td>409Wp</td>\n",
       "      <td>1.022732</td>\n",
       "      <td>0.151990</td>\n",
       "      <td>1.419926</td>\n",
       "      <td>85.265647</td>\n",
       "    </tr>\n",
       "    <tr>\n",
       "      <th>3</th>\n",
       "      <td>iJLyR</td>\n",
       "      <td>-0.032172</td>\n",
       "      <td>0.139033</td>\n",
       "      <td>2.978566</td>\n",
       "      <td>168.620776</td>\n",
       "    </tr>\n",
       "    <tr>\n",
       "      <th>4</th>\n",
       "      <td>Xdl7t</td>\n",
       "      <td>1.988431</td>\n",
       "      <td>0.155413</td>\n",
       "      <td>4.751769</td>\n",
       "      <td>154.036647</td>\n",
       "    </tr>\n",
       "    <tr>\n",
       "      <th>5</th>\n",
       "      <td>wX4Hy</td>\n",
       "      <td>0.969570</td>\n",
       "      <td>0.489775</td>\n",
       "      <td>-0.735383</td>\n",
       "      <td>64.741541</td>\n",
       "    </tr>\n",
       "    <tr>\n",
       "      <th>6</th>\n",
       "      <td>tL6pL</td>\n",
       "      <td>0.645075</td>\n",
       "      <td>0.530656</td>\n",
       "      <td>1.780266</td>\n",
       "      <td>49.055285</td>\n",
       "    </tr>\n",
       "    <tr>\n",
       "      <th>7</th>\n",
       "      <td>BYPU6</td>\n",
       "      <td>-0.400648</td>\n",
       "      <td>0.808337</td>\n",
       "      <td>-5.624670</td>\n",
       "      <td>72.943292</td>\n",
       "    </tr>\n",
       "    <tr>\n",
       "      <th>8</th>\n",
       "      <td>j9Oui</td>\n",
       "      <td>0.643105</td>\n",
       "      <td>-0.551583</td>\n",
       "      <td>2.372141</td>\n",
       "      <td>113.356160</td>\n",
       "    </tr>\n",
       "    <tr>\n",
       "      <th>9</th>\n",
       "      <td>OLuZU</td>\n",
       "      <td>2.173381</td>\n",
       "      <td>0.563698</td>\n",
       "      <td>9.441852</td>\n",
       "      <td>127.910945</td>\n",
       "    </tr>\n",
       "  </tbody>\n",
       "</table>\n",
       "</div>"
      ],
      "text/plain": [
       "      id        f0        f1        f2     product\n",
       "0  txEyH  0.705745 -0.497823  1.221170  105.280062\n",
       "1  2acmU  1.334711 -0.340164  4.365080   73.037750\n",
       "2  409Wp  1.022732  0.151990  1.419926   85.265647\n",
       "3  iJLyR -0.032172  0.139033  2.978566  168.620776\n",
       "4  Xdl7t  1.988431  0.155413  4.751769  154.036647\n",
       "5  wX4Hy  0.969570  0.489775 -0.735383   64.741541\n",
       "6  tL6pL  0.645075  0.530656  1.780266   49.055285\n",
       "7  BYPU6 -0.400648  0.808337 -5.624670   72.943292\n",
       "8  j9Oui  0.643105 -0.551583  2.372141  113.356160\n",
       "9  OLuZU  2.173381  0.563698  9.441852  127.910945"
      ]
     },
     "metadata": {},
     "output_type": "display_data"
    }
   ],
   "source": [
    "display(data1.head(10))"
   ]
  },
  {
   "cell_type": "code",
   "execution_count": 218,
   "metadata": {},
   "outputs": [
    {
     "name": "stdout",
     "output_type": "stream",
     "text": [
      "<class 'pandas.core.frame.DataFrame'>\n",
      "RangeIndex: 100000 entries, 0 to 99999\n",
      "Data columns (total 5 columns):\n",
      " #   Column   Non-Null Count   Dtype  \n",
      "---  ------   --------------   -----  \n",
      " 0   id       100000 non-null  object \n",
      " 1   f0       100000 non-null  float64\n",
      " 2   f1       100000 non-null  float64\n",
      " 3   f2       100000 non-null  float64\n",
      " 4   product  100000 non-null  float64\n",
      "dtypes: float64(4), object(1)\n",
      "memory usage: 3.8+ MB\n"
     ]
    }
   ],
   "source": [
    "data2.info()"
   ]
  },
  {
   "cell_type": "code",
   "execution_count": 219,
   "metadata": {},
   "outputs": [
    {
     "data": {
      "text/html": [
       "<div>\n",
       "<style scoped>\n",
       "    .dataframe tbody tr th:only-of-type {\n",
       "        vertical-align: middle;\n",
       "    }\n",
       "\n",
       "    .dataframe tbody tr th {\n",
       "        vertical-align: top;\n",
       "    }\n",
       "\n",
       "    .dataframe thead th {\n",
       "        text-align: right;\n",
       "    }\n",
       "</style>\n",
       "<table border=\"1\" class=\"dataframe\">\n",
       "  <thead>\n",
       "    <tr style=\"text-align: right;\">\n",
       "      <th></th>\n",
       "      <th>id</th>\n",
       "      <th>f0</th>\n",
       "      <th>f1</th>\n",
       "      <th>f2</th>\n",
       "      <th>product</th>\n",
       "    </tr>\n",
       "  </thead>\n",
       "  <tbody>\n",
       "    <tr>\n",
       "      <th>0</th>\n",
       "      <td>kBEdx</td>\n",
       "      <td>-15.001348</td>\n",
       "      <td>-8.276000</td>\n",
       "      <td>-0.005876</td>\n",
       "      <td>3.179103</td>\n",
       "    </tr>\n",
       "    <tr>\n",
       "      <th>1</th>\n",
       "      <td>62mP7</td>\n",
       "      <td>14.272088</td>\n",
       "      <td>-3.475083</td>\n",
       "      <td>0.999183</td>\n",
       "      <td>26.953261</td>\n",
       "    </tr>\n",
       "    <tr>\n",
       "      <th>2</th>\n",
       "      <td>vyE1P</td>\n",
       "      <td>6.263187</td>\n",
       "      <td>-5.948386</td>\n",
       "      <td>5.001160</td>\n",
       "      <td>134.766305</td>\n",
       "    </tr>\n",
       "    <tr>\n",
       "      <th>3</th>\n",
       "      <td>KcrkZ</td>\n",
       "      <td>-13.081196</td>\n",
       "      <td>-11.506057</td>\n",
       "      <td>4.999415</td>\n",
       "      <td>137.945408</td>\n",
       "    </tr>\n",
       "    <tr>\n",
       "      <th>4</th>\n",
       "      <td>AHL4O</td>\n",
       "      <td>12.702195</td>\n",
       "      <td>-8.147433</td>\n",
       "      <td>5.004363</td>\n",
       "      <td>134.766305</td>\n",
       "    </tr>\n",
       "    <tr>\n",
       "      <th>5</th>\n",
       "      <td>HHckp</td>\n",
       "      <td>-3.327590</td>\n",
       "      <td>-2.205276</td>\n",
       "      <td>3.003647</td>\n",
       "      <td>84.038886</td>\n",
       "    </tr>\n",
       "    <tr>\n",
       "      <th>6</th>\n",
       "      <td>h5Ujo</td>\n",
       "      <td>-11.142655</td>\n",
       "      <td>-10.133399</td>\n",
       "      <td>4.002382</td>\n",
       "      <td>110.992147</td>\n",
       "    </tr>\n",
       "    <tr>\n",
       "      <th>7</th>\n",
       "      <td>muH9x</td>\n",
       "      <td>4.234715</td>\n",
       "      <td>-0.001354</td>\n",
       "      <td>2.004588</td>\n",
       "      <td>53.906522</td>\n",
       "    </tr>\n",
       "    <tr>\n",
       "      <th>8</th>\n",
       "      <td>YiRkx</td>\n",
       "      <td>13.355129</td>\n",
       "      <td>-0.332068</td>\n",
       "      <td>4.998647</td>\n",
       "      <td>134.766305</td>\n",
       "    </tr>\n",
       "    <tr>\n",
       "      <th>9</th>\n",
       "      <td>jG6Gi</td>\n",
       "      <td>1.069227</td>\n",
       "      <td>-11.025667</td>\n",
       "      <td>4.997844</td>\n",
       "      <td>137.945408</td>\n",
       "    </tr>\n",
       "  </tbody>\n",
       "</table>\n",
       "</div>"
      ],
      "text/plain": [
       "      id         f0         f1        f2     product\n",
       "0  kBEdx -15.001348  -8.276000 -0.005876    3.179103\n",
       "1  62mP7  14.272088  -3.475083  0.999183   26.953261\n",
       "2  vyE1P   6.263187  -5.948386  5.001160  134.766305\n",
       "3  KcrkZ -13.081196 -11.506057  4.999415  137.945408\n",
       "4  AHL4O  12.702195  -8.147433  5.004363  134.766305\n",
       "5  HHckp  -3.327590  -2.205276  3.003647   84.038886\n",
       "6  h5Ujo -11.142655 -10.133399  4.002382  110.992147\n",
       "7  muH9x   4.234715  -0.001354  2.004588   53.906522\n",
       "8  YiRkx  13.355129  -0.332068  4.998647  134.766305\n",
       "9  jG6Gi   1.069227 -11.025667  4.997844  137.945408"
      ]
     },
     "metadata": {},
     "output_type": "display_data"
    }
   ],
   "source": [
    "display(data2.head(10))"
   ]
  },
  {
   "cell_type": "code",
   "execution_count": 220,
   "metadata": {},
   "outputs": [
    {
     "name": "stdout",
     "output_type": "stream",
     "text": [
      "<class 'pandas.core.frame.DataFrame'>\n",
      "RangeIndex: 100000 entries, 0 to 99999\n",
      "Data columns (total 5 columns):\n",
      " #   Column   Non-Null Count   Dtype  \n",
      "---  ------   --------------   -----  \n",
      " 0   id       100000 non-null  object \n",
      " 1   f0       100000 non-null  float64\n",
      " 2   f1       100000 non-null  float64\n",
      " 3   f2       100000 non-null  float64\n",
      " 4   product  100000 non-null  float64\n",
      "dtypes: float64(4), object(1)\n",
      "memory usage: 3.8+ MB\n"
     ]
    }
   ],
   "source": [
    "data3.info()"
   ]
  },
  {
   "cell_type": "code",
   "execution_count": 221,
   "metadata": {},
   "outputs": [
    {
     "data": {
      "text/html": [
       "<div>\n",
       "<style scoped>\n",
       "    .dataframe tbody tr th:only-of-type {\n",
       "        vertical-align: middle;\n",
       "    }\n",
       "\n",
       "    .dataframe tbody tr th {\n",
       "        vertical-align: top;\n",
       "    }\n",
       "\n",
       "    .dataframe thead th {\n",
       "        text-align: right;\n",
       "    }\n",
       "</style>\n",
       "<table border=\"1\" class=\"dataframe\">\n",
       "  <thead>\n",
       "    <tr style=\"text-align: right;\">\n",
       "      <th></th>\n",
       "      <th>id</th>\n",
       "      <th>f0</th>\n",
       "      <th>f1</th>\n",
       "      <th>f2</th>\n",
       "      <th>product</th>\n",
       "    </tr>\n",
       "  </thead>\n",
       "  <tbody>\n",
       "    <tr>\n",
       "      <th>0</th>\n",
       "      <td>fwXo0</td>\n",
       "      <td>-1.146987</td>\n",
       "      <td>0.963328</td>\n",
       "      <td>-0.828965</td>\n",
       "      <td>27.758673</td>\n",
       "    </tr>\n",
       "    <tr>\n",
       "      <th>1</th>\n",
       "      <td>WJtFt</td>\n",
       "      <td>0.262778</td>\n",
       "      <td>0.269839</td>\n",
       "      <td>-2.530187</td>\n",
       "      <td>56.069697</td>\n",
       "    </tr>\n",
       "    <tr>\n",
       "      <th>2</th>\n",
       "      <td>ovLUW</td>\n",
       "      <td>0.194587</td>\n",
       "      <td>0.289035</td>\n",
       "      <td>-5.586433</td>\n",
       "      <td>62.871910</td>\n",
       "    </tr>\n",
       "    <tr>\n",
       "      <th>3</th>\n",
       "      <td>q6cA6</td>\n",
       "      <td>2.236060</td>\n",
       "      <td>-0.553760</td>\n",
       "      <td>0.930038</td>\n",
       "      <td>114.572842</td>\n",
       "    </tr>\n",
       "    <tr>\n",
       "      <th>4</th>\n",
       "      <td>WPMUX</td>\n",
       "      <td>-0.515993</td>\n",
       "      <td>1.716266</td>\n",
       "      <td>5.899011</td>\n",
       "      <td>149.600746</td>\n",
       "    </tr>\n",
       "    <tr>\n",
       "      <th>5</th>\n",
       "      <td>LzZXx</td>\n",
       "      <td>-0.758092</td>\n",
       "      <td>0.710691</td>\n",
       "      <td>2.585887</td>\n",
       "      <td>90.222465</td>\n",
       "    </tr>\n",
       "    <tr>\n",
       "      <th>6</th>\n",
       "      <td>WBHRv</td>\n",
       "      <td>-0.574891</td>\n",
       "      <td>0.317727</td>\n",
       "      <td>1.773745</td>\n",
       "      <td>45.641478</td>\n",
       "    </tr>\n",
       "    <tr>\n",
       "      <th>7</th>\n",
       "      <td>XO8fn</td>\n",
       "      <td>-1.906649</td>\n",
       "      <td>-2.458350</td>\n",
       "      <td>-0.177097</td>\n",
       "      <td>72.480640</td>\n",
       "    </tr>\n",
       "    <tr>\n",
       "      <th>8</th>\n",
       "      <td>ybmQ5</td>\n",
       "      <td>1.776292</td>\n",
       "      <td>-0.279356</td>\n",
       "      <td>3.004156</td>\n",
       "      <td>106.616832</td>\n",
       "    </tr>\n",
       "    <tr>\n",
       "      <th>9</th>\n",
       "      <td>OilcN</td>\n",
       "      <td>-1.214452</td>\n",
       "      <td>-0.439314</td>\n",
       "      <td>5.922514</td>\n",
       "      <td>52.954532</td>\n",
       "    </tr>\n",
       "  </tbody>\n",
       "</table>\n",
       "</div>"
      ],
      "text/plain": [
       "      id        f0        f1        f2     product\n",
       "0  fwXo0 -1.146987  0.963328 -0.828965   27.758673\n",
       "1  WJtFt  0.262778  0.269839 -2.530187   56.069697\n",
       "2  ovLUW  0.194587  0.289035 -5.586433   62.871910\n",
       "3  q6cA6  2.236060 -0.553760  0.930038  114.572842\n",
       "4  WPMUX -0.515993  1.716266  5.899011  149.600746\n",
       "5  LzZXx -0.758092  0.710691  2.585887   90.222465\n",
       "6  WBHRv -0.574891  0.317727  1.773745   45.641478\n",
       "7  XO8fn -1.906649 -2.458350 -0.177097   72.480640\n",
       "8  ybmQ5  1.776292 -0.279356  3.004156  106.616832\n",
       "9  OilcN -1.214452 -0.439314  5.922514   52.954532"
      ]
     },
     "metadata": {},
     "output_type": "display_data"
    }
   ],
   "source": [
    "display(data3.head(10))"
   ]
  },
  {
   "cell_type": "code",
   "execution_count": 222,
   "metadata": {},
   "outputs": [
    {
     "data": {
      "text/plain": [
       "0"
      ]
     },
     "metadata": {},
     "output_type": "display_data"
    },
    {
     "data": {
      "text/plain": [
       "0"
      ]
     },
     "metadata": {},
     "output_type": "display_data"
    },
    {
     "data": {
      "text/plain": [
       "0"
      ]
     },
     "metadata": {},
     "output_type": "display_data"
    }
   ],
   "source": [
    "display(data1.duplicated().sum())\n",
    "display(data2.duplicated().sum())\n",
    "display(data3.duplicated().sum())"
   ]
  },
  {
   "cell_type": "markdown",
   "metadata": {},
   "source": [
    "Уникальный номер скважины не необходим при рассчётах, поэтому его можно удалить."
   ]
  },
  {
   "cell_type": "code",
   "execution_count": 223,
   "metadata": {},
   "outputs": [],
   "source": [
    "data1 = data1.drop(columns = ['id'])\n",
    "data2 = data2.drop(columns = ['id'])\n",
    "data3 = data3.drop(columns = ['id'])"
   ]
  },
  {
   "cell_type": "code",
   "execution_count": 224,
   "metadata": {},
   "outputs": [
    {
     "data": {
      "text/plain": [
       "f0         0\n",
       "f1         0\n",
       "f2         0\n",
       "product    0\n",
       "dtype: int64"
      ]
     },
     "metadata": {},
     "output_type": "display_data"
    },
    {
     "data": {
      "text/plain": [
       "f0         0\n",
       "f1         0\n",
       "f2         0\n",
       "product    0\n",
       "dtype: int64"
      ]
     },
     "metadata": {},
     "output_type": "display_data"
    },
    {
     "data": {
      "text/plain": [
       "f0         0\n",
       "f1         0\n",
       "f2         0\n",
       "product    0\n",
       "dtype: int64"
      ]
     },
     "metadata": {},
     "output_type": "display_data"
    }
   ],
   "source": [
    "display(data1.isna().sum())\n",
    "display(data2.isna().sum())\n",
    "display(data3.isna().sum())"
   ]
  },
  {
   "cell_type": "code",
   "execution_count": 225,
   "metadata": {},
   "outputs": [
    {
     "data": {
      "text/plain": [
       "0"
      ]
     },
     "metadata": {},
     "output_type": "display_data"
    },
    {
     "data": {
      "text/plain": [
       "0"
      ]
     },
     "metadata": {},
     "output_type": "display_data"
    },
    {
     "data": {
      "text/plain": [
       "0"
      ]
     },
     "metadata": {},
     "output_type": "display_data"
    }
   ],
   "source": [
    "display(data1.duplicated().sum())\n",
    "display(data2.duplicated().sum())\n",
    "display(data3.duplicated().sum())"
   ]
  },
  {
   "cell_type": "code",
   "execution_count": 226,
   "metadata": {},
   "outputs": [
    {
     "name": "stdout",
     "output_type": "stream",
     "text": [
      "<class 'pandas.core.frame.DataFrame'>\n",
      "RangeIndex: 100000 entries, 0 to 99999\n",
      "Data columns (total 4 columns):\n",
      " #   Column   Non-Null Count   Dtype  \n",
      "---  ------   --------------   -----  \n",
      " 0   f0       100000 non-null  float64\n",
      " 1   f1       100000 non-null  float64\n",
      " 2   f2       100000 non-null  float64\n",
      " 3   product  100000 non-null  float64\n",
      "dtypes: float64(4)\n",
      "memory usage: 3.1 MB\n"
     ]
    },
    {
     "data": {
      "text/plain": [
       "None"
      ]
     },
     "metadata": {},
     "output_type": "display_data"
    },
    {
     "name": "stdout",
     "output_type": "stream",
     "text": [
      "<class 'pandas.core.frame.DataFrame'>\n",
      "RangeIndex: 100000 entries, 0 to 99999\n",
      "Data columns (total 4 columns):\n",
      " #   Column   Non-Null Count   Dtype  \n",
      "---  ------   --------------   -----  \n",
      " 0   f0       100000 non-null  float64\n",
      " 1   f1       100000 non-null  float64\n",
      " 2   f2       100000 non-null  float64\n",
      " 3   product  100000 non-null  float64\n",
      "dtypes: float64(4)\n",
      "memory usage: 3.1 MB\n"
     ]
    },
    {
     "data": {
      "text/plain": [
       "None"
      ]
     },
     "metadata": {},
     "output_type": "display_data"
    },
    {
     "name": "stdout",
     "output_type": "stream",
     "text": [
      "<class 'pandas.core.frame.DataFrame'>\n",
      "RangeIndex: 100000 entries, 0 to 99999\n",
      "Data columns (total 4 columns):\n",
      " #   Column   Non-Null Count   Dtype  \n",
      "---  ------   --------------   -----  \n",
      " 0   f0       100000 non-null  float64\n",
      " 1   f1       100000 non-null  float64\n",
      " 2   f2       100000 non-null  float64\n",
      " 3   product  100000 non-null  float64\n",
      "dtypes: float64(4)\n",
      "memory usage: 3.1 MB\n"
     ]
    },
    {
     "data": {
      "text/plain": [
       "None"
      ]
     },
     "metadata": {},
     "output_type": "display_data"
    }
   ],
   "source": [
    "display(data1.info())\n",
    "display(data2.info())\n",
    "display(data3.info())"
   ]
  },
  {
   "cell_type": "markdown",
   "metadata": {},
   "source": [
    "У нас имеется 3 датафрейма по 100000 строк в каждой. Был удалён столбец с id, так как он не влияет на результаты расчётов.\n",
    "Также проверяем пропущенные значения. \n",
    "Перепроверяем количество дубликатов после удаления информации. \n",
    "Проверяем информацию о датафреймах.\n",
    "\n",
    "В этой части работы проводится предобработка данных."
   ]
  },
  {
   "cell_type": "markdown",
   "metadata": {},
   "source": [
    "## Обучение и проверка модели"
   ]
  },
  {
   "cell_type": "code",
   "execution_count": 227,
   "metadata": {},
   "outputs": [],
   "source": [
    "features1 = data1.drop(['product'], axis=1)\n",
    "target1 = data1 ['product']\n",
    "\n",
    "features2 = data2.drop(['product'], axis=1)\n",
    "target2 = data2 ['product']\n",
    "\n",
    "features3 = data3.drop(['product'], axis=1)\n",
    "target3 = data3 ['product']"
   ]
  },
  {
   "cell_type": "code",
   "execution_count": 228,
   "metadata": {},
   "outputs": [],
   "source": [
    "def data_razdel(features, target, data_number):\n",
    "    features_train, features_valid, target_train, target_valid = train_test_split(features, target, test_size=0.25, random_state=12345)\n",
    "\n",
    "    scaler = MinMaxScaler()\n",
    "    features_train = scaler.fit_transform(features_train)\n",
    "    features_valid = scaler.transform(features_valid)\n",
    "    \n",
    "    print(f'Номер датасета {data_number}:')\n",
    "    print('Тренировочная выборка:', features_train.shape, target_train.shape)\n",
    "    print('Валидационная выборка:', features_valid.shape, target_valid.shape)\n",
    "    \n",
    "    return features_train, features_valid, target_train, target_valid"
   ]
  },
  {
   "cell_type": "code",
   "execution_count": 229,
   "metadata": {},
   "outputs": [
    {
     "name": "stdout",
     "output_type": "stream",
     "text": [
      "Номер датасета 1:\n",
      "Тренировочная выборка: (75000, 3) (75000,)\n",
      "Валидационная выборка: (25000, 3) (25000,)\n",
      "Номер датасета 2:\n",
      "Тренировочная выборка: (75000, 3) (75000,)\n",
      "Валидационная выборка: (25000, 3) (25000,)\n",
      "Номер датасета 3:\n",
      "Тренировочная выборка: (75000, 3) (75000,)\n",
      "Валидационная выборка: (25000, 3) (25000,)\n"
     ]
    }
   ],
   "source": [
    "features_reg1_train, features_reg1_valid, target_reg1_train, target_reg1_valid = data_razdel(features1, target1, 1)\n",
    "features_reg2_train, features_reg2_valid, target_reg2_train, target_reg2_valid = data_razdel(features2, target2, 2)\n",
    "features_reg3_train, features_reg3_valid, target_reg3_train, target_reg3_valid = data_razdel(features3, target3, 3)"
   ]
  },
  {
   "cell_type": "code",
   "execution_count": 230,
   "metadata": {},
   "outputs": [
    {
     "name": "stdout",
     "output_type": "stream",
     "text": [
      "Регион №1. Средний запас предсказанного сырья нефти: 92.59256778438035, RMSE = 37.5794217150813\n"
     ]
    }
   ],
   "source": [
    "model_reg1 = LinearRegression()\n",
    "model_reg1.fit(features_reg1_train, target_reg1_train)\n",
    "predictions_reg1_valid = model_reg1.predict(features_reg1_valid)\n",
    "\n",
    "# оценка качества предсказаний\n",
    "mse_reg1 = mean_squared_error(target_reg1_valid, predictions_reg1_valid)\n",
    "# RMSE\n",
    "rmse_reg1 = mse_reg1**0.5\n",
    "# Среднее значение предсказанных данных\n",
    "reg1_mean = predictions_reg1_valid.mean()\n",
    "print(f'Регион №1. Средний запас предсказанного сырья нефти: {reg1_mean}, RMSE = {rmse_reg1}')"
   ]
  },
  {
   "cell_type": "code",
   "execution_count": 231,
   "metadata": {},
   "outputs": [
    {
     "name": "stdout",
     "output_type": "stream",
     "text": [
      "Регион №2. Средний запас предсказанного сырья нефти: 68.72854689544603, RMSE = 0.893099286775617\n"
     ]
    }
   ],
   "source": [
    "model_reg2 = LinearRegression()\n",
    "model_reg2.fit(features_reg2_train, target_reg2_train)\n",
    "predictions_reg2_valid = model_reg2.predict(features_reg2_valid)\n",
    "\n",
    "# оценка качества предсказаний\n",
    "mse_reg2 = mean_squared_error(target_reg2_valid, predictions_reg2_valid)\n",
    "# RMSE\n",
    "rmse_reg2 = mse_reg2**0.5\n",
    "# Среднее значение предсказанных данных\n",
    "reg2_mean = predictions_reg2_valid.mean()\n",
    "print(f'Регион №2. Средний запас предсказанного сырья нефти: {reg2_mean}, RMSE = {rmse_reg2}')"
   ]
  },
  {
   "cell_type": "code",
   "execution_count": 232,
   "metadata": {},
   "outputs": [
    {
     "name": "stdout",
     "output_type": "stream",
     "text": [
      "Регион №3. Средний запас предсказанного сырья нефти: 94.96504596800493, RMSE = 40.02970873393434\n"
     ]
    }
   ],
   "source": [
    "model_reg3 = LinearRegression()\n",
    "model_reg3.fit(features_reg3_train, target_reg3_train)\n",
    "predictions_reg3_valid = model_reg3.predict(features_reg3_valid)\n",
    "\n",
    "# оценка качества предсказаний\n",
    "mse_reg3 = mean_squared_error(target_reg3_valid, predictions_reg3_valid)\n",
    "# RMSE\n",
    "\n",
    "rmse_reg3 = mse_reg3**0.5\n",
    "# Среднее значение предсказанных данных\n",
    "\n",
    "reg3_mean = predictions_reg3_valid.mean()\n",
    "print(f'Регион №3. Средний запас предсказанного сырья нефти: {reg3_mean}, RMSE = {rmse_reg3}')"
   ]
  },
  {
   "cell_type": "markdown",
   "metadata": {},
   "source": [
    "Во втором пункте используется функция data_razdel, которая делает разделение данных на тренировочный и валидационный наборы. Также применяется MinMaxScaler для масштабирования признаков. \n",
    "\n",
    "Далее создаётся обучение и предсказание для каждого региона (не стала создавать функцию, чтобы было нагляднее видно.\n",
    "\n",
    "Регион №1. Средний запас предсказанного сырья: 92.59256778438035, RMSE = 37.5794217150813\n",
    "\n",
    "Регион №2. Средний запас предсказанного сырья: 68.72854689544603, RMSE = 0.893099286775617\n",
    "\n",
    "Регион №3. Средний запас предсказанного сырья: 94.96504596800493, RMSE = 40.02970873393434\n",
    "\n",
    "Лучшей моделью является модель для региона номер 2, поскольку у него хороший RMSE (среднеквадратичное отклонение между фактическими и предсказываемыми значениями). "
   ]
  },
  {
   "cell_type": "markdown",
   "metadata": {},
   "source": [
    "## Подготовка к расчёту прибыли"
   ]
  },
  {
   "cell_type": "markdown",
   "metadata": {},
   "source": [
    "Условия задачи:\n",
    "- Для обучения модели подходит только линейная регрессия (остальные — недостаточно предсказуемые).\n",
    "- При разведке региона исследуют 500 точек, из которых с помощью машинного обучения выбирают 200 лучших для разработки.\n",
    "- Бюджет на разработку скважин в регионе — 10 млрд рублей.\n",
    "- При нынешних ценах один баррель сырья приносит 450 рублей дохода. Доход с каждой единицы продукта составляет 450 тыс. рублей, поскольку объём указан в тысячах баррелей.\n",
    "- После оценки рисков нужно оставить лишь те регионы, в которых вероятность убытков меньше 2.5%. Среди них выбирают регион с наибольшей средней прибылью."
   ]
  },
  {
   "cell_type": "code",
   "execution_count": 233,
   "metadata": {},
   "outputs": [],
   "source": [
    "budget=10000000000\n",
    "wells_to_select=200\n",
    "revenue_per_barrel=450000\n",
    "risk_threshold=0.025"
   ]
  },
  {
   "cell_type": "code",
   "execution_count": 234,
   "metadata": {},
   "outputs": [
    {
     "data": {
      "text/plain": [
       "50000000.0"
      ]
     },
     "metadata": {},
     "output_type": "display_data"
    }
   ],
   "source": [
    "budget_one=budget/wells_to_select\n",
    "display (budget_one)"
   ]
  },
  {
   "cell_type": "code",
   "execution_count": 235,
   "metadata": {},
   "outputs": [],
   "source": [
    "predicted_volume_reg1 = reg1_mean\n",
    "predicted_volume_reg2 = reg2_mean\n",
    "predicted_volume_reg3 = reg3_mean"
   ]
  },
  {
   "cell_type": "code",
   "execution_count": 236,
   "metadata": {},
   "outputs": [
    {
     "data": {
      "text/plain": [
       "'Регион №1. Средний объем предсказанного сырья нефти: 92.59256778438035, RMSE = 37.5794217150813'"
      ]
     },
     "metadata": {},
     "output_type": "display_data"
    },
    {
     "data": {
      "text/plain": [
       "'Регион №2. Средний объем предсказанного сырья нефти: 68.72854689544603, RMSE = 0.893099286775617'"
      ]
     },
     "metadata": {},
     "output_type": "display_data"
    },
    {
     "data": {
      "text/plain": [
       "'Регион №3. Средний объем предсказанного сырья нефти: 94.96504596800493, RMSE = 40.02970873393434'"
      ]
     },
     "metadata": {},
     "output_type": "display_data"
    }
   ],
   "source": [
    "display (f'Регион №1. Средний объем предсказанного сырья нефти: {reg1_mean}, RMSE = {rmse_reg1}')\n",
    "display (f'Регион №2. Средний объем предсказанного сырья нефти: {reg2_mean}, RMSE = {rmse_reg2}')\n",
    "display (f'Регион №3. Средний объем предсказанного сырья нефти: {reg3_mean}, RMSE = {rmse_reg3}')"
   ]
  },
  {
   "cell_type": "code",
   "execution_count": 237,
   "metadata": {},
   "outputs": [
    {
     "data": {
      "text/plain": [
       "111.11111111111111"
      ]
     },
     "metadata": {},
     "output_type": "display_data"
    }
   ],
   "source": [
    "min_for_well= budget_one/revenue_per_barrel\n",
    "display (min_for_well)"
   ]
  },
  {
   "cell_type": "markdown",
   "metadata": {},
   "source": [
    "Для окупаемости скважины необходимо 111 тысяч баррелей."
   ]
  },
  {
   "cell_type": "code",
   "execution_count": 238,
   "metadata": {},
   "outputs": [
    {
     "data": {
      "image/png": "[encoded data removed]",
      "text/plain": [
       "<Figure size 720x432 with 1 Axes>"
      ]
     },
     "metadata": {
      "needs_background": "light"
     },
     "output_type": "display_data"
    }
   ],
   "source": [
    "plt.figure(figsize=(10, 6))\n",
    "plt.boxplot([data1['product'], data2['product'], data3['product']], labels=['Регион 1', 'Регион 2', 'Регион 3'])\n",
    "plt.title('Объем продукции по регионам')\n",
    "plt.ylabel('Объем продукции')\n",
    "plt.show()"
   ]
  },
  {
   "cell_type": "markdown",
   "metadata": {},
   "source": [
    "Следовательно, при разработке 200 скважин из 500, есть вероятность, что скважины принесут доход, а затем и прибыль."
   ]
  },
  {
   "cell_type": "markdown",
   "metadata": {},
   "source": [
    "1. Написана функция calculate_profit, которая учитывает предсказанный объем нефти, реальный объем нефти (из валидационных данных), цену нефти и пороговый уровень риска убытков. Функция возвращает общую прибыль, учитывая эти параметры.\n",
    "2. С помощью функции calculate_profit расчитана прибыль для каждого региона и предсказан объем нефти для каждого региона.\n",
    "3. Выведены результаты расчета прибыли для каждого региона."
   ]
  },
  {
   "cell_type": "markdown",
   "metadata": {},
   "source": [
    "## Расчёт прибыли и рисков "
   ]
  },
  {
   "cell_type": "code",
   "execution_count": 239,
   "metadata": {},
   "outputs": [],
   "source": [
    "def profit_for_region(predictions_valid, target_valid, budget, revenue_per_barrel):\n",
    "    predictions = pd.Series(predictions_valid).reset_index(drop=True)\n",
    "    target = pd.Series(target_valid).reset_index(drop=True)\n",
    "    \n",
    "    best_wells = target[predictions.sort_values(ascending=False).index][:wells_to_select]\n",
    "    \n",
    "    sum_target_best_wells = best_wells.sum()\n",
    "    \n",
    "    profit = (sum_target_best_wells * revenue_per_barrel - budget) / 1000000\n",
    "    \n",
    "    return profit, sum_target_best_wells"
   ]
  },
  {
   "cell_type": "markdown",
   "metadata": {},
   "source": [
    "1. Выберите скважины с максимальными значениями предсказаний.\n",
    "2. Просуммируйте целевое значение объёма сырья, соответствующее этим предсказаниям.\n",
    "3. Рассчитайте прибыль для полученного объёма сырья."
   ]
  },
  {
   "cell_type": "code",
   "execution_count": 240,
   "metadata": {},
   "outputs": [],
   "source": [
    "profit_reg1, sum_target_reg1 = profit_for_region(predictions_reg1_valid, target_reg1_valid, budget, revenue_per_barrel)\n",
    "profit_reg2, sum_target_reg2 = profit_for_region(predictions_reg2_valid, target_reg2_valid, budget, revenue_per_barrel)\n",
    "profit_reg3, sum_target_reg3 = profit_for_region(predictions_reg3_valid, target_reg3_valid, budget, revenue_per_barrel)"
   ]
  },
  {
   "cell_type": "code",
   "execution_count": 241,
   "metadata": {},
   "outputs": [
    {
     "name": "stdout",
     "output_type": "stream",
     "text": [
      "Прибыль в регионе 1: 3320.8260431398508 миллионов рублей, Объем сырья: 29601.83565142189 тыс. баррелей\n",
      "Прибыль в регионе 2: 2415.086696681511 миллионов рублей, Объем сырья: 27589.081548181137 тыс. баррелей\n",
      "Прибыль в регионе 3: 2710.3499635998323 миллионов рублей, Объем сырья: 28245.22214133296 тыс. баррелей\n"
     ]
    }
   ],
   "source": [
    "print(f'Прибыль в регионе 1: {profit_reg1} миллионов рублей, Объем сырья: {sum_target_reg1} тыс. баррелей')\n",
    "print(f'Прибыль в регионе 2: {profit_reg2} миллионов рублей, Объем сырья: {sum_target_reg2} тыс. баррелей')\n",
    "print(f'Прибыль в регионе 3: {profit_reg3} миллионов рублей, Объем сырья: {sum_target_reg3} тыс. баррелей')"
   ]
  },
  {
   "cell_type": "code",
   "execution_count": 242,
   "metadata": {},
   "outputs": [],
   "source": [
    "def profit_for_def (target_valid, predictions_valid, wells_to_select):\n",
    "    \n",
    "    target = target_valid.reset_index(drop = True)\n",
    "    predictions = pd.Series(predictions_valid, index = target.index)\n",
    "    best_wells = target[predictions.sort_values(ascending = False).index][:wells_to_select]\n",
    "    sum_target_best_wells = best_wells.sum()\n",
    "    \n",
    "    return (sum_target_best_wells * revenue_per_barrel - budget) / 1000000"
   ]
  },
  {
   "cell_type": "code",
   "execution_count": 243,
   "metadata": {},
   "outputs": [],
   "source": [
    "def calculate_bootstrap_profit(target, predict, n):\n",
    "    state = np.random.RandomState(12345)\n",
    "    profits = []\n",
    "    income_minus = 0       \n",
    "        \n",
    "    for i in range(1000):\n",
    "        target_subsample = target.reset_index(drop= True).sample(n, random_state=state, replace=True)\n",
    "        probs_subsample = predict[target_subsample.index]\n",
    "        profits.append(profit_for_def(target_subsample,\n",
    "                              probs_subsample, wells_to_select))\n",
    "    profits = pd.Series(profits)\n",
    "    \n",
    "    \n",
    "    income = pd.Series(profits)\n",
    "    income_minus = (income[income < 0].count()) / 1000\n",
    "\n",
    "    low = income.quantile(0.025)\n",
    "    upp = income.quantile(0.975)\n",
    "    print('Средняя прибыль в регионе равна:', income.mean())\n",
    "    print('95% доверительный интервал лежит в диапазоне: от', low, 'до', upp)\n",
    "    print('Вероятность убытка:', income_minus)"
   ]
  },
  {
   "cell_type": "code",
   "execution_count": 244,
   "metadata": {},
   "outputs": [
    {
     "name": "stdout",
     "output_type": "stream",
     "text": [
      "Средняя прибыль в регионе равна: 396.1649848023711\n",
      "95% доверительный интервал лежит в диапазоне: от -111.21554589049526 до 909.7669415534225\n",
      "Вероятность убытка: 0.069\n"
     ]
    }
   ],
   "source": [
    "calculate_bootstrap_profit(target_reg1_valid, predictions_reg1_valid, 500)"
   ]
  },
  {
   "cell_type": "code",
   "execution_count": 245,
   "metadata": {},
   "outputs": [
    {
     "name": "stdout",
     "output_type": "stream",
     "text": [
      "Средняя прибыль в регионе равна: 456.04510578666077\n",
      "95% доверительный интервал лежит в диапазоне: от 33.820509398983624 до 852.2894538660361\n",
      "Вероятность убытка: 0.015\n"
     ]
    }
   ],
   "source": [
    "calculate_bootstrap_profit(target_reg2_valid, predictions_reg2_valid, 500)"
   ]
  },
  {
   "cell_type": "code",
   "execution_count": 246,
   "metadata": {},
   "outputs": [
    {
     "name": "stdout",
     "output_type": "stream",
     "text": [
      "Средняя прибыль в регионе равна: 404.40386656835676\n",
      "95% доверительный интервал лежит в диапазоне: от -163.3504133956011 до 950.3595749237995\n",
      "Вероятность убытка: 0.076\n"
     ]
    }
   ],
   "source": [
    "calculate_bootstrap_profit(target_reg3_valid, predictions_reg3_valid, 500)"
   ]
  },
  {
   "cell_type": "markdown",
   "metadata": {},
   "source": [
    "#  Вывод"
   ]
  },
  {
   "cell_type": "markdown",
   "metadata": {},
   "source": [
    "При выборе лучших скважин из имеющихся в регионе следует, что самым прибыльным регионом оказался регион № 2.\n",
    "\n",
    "В остальных регионах вероятность убытка выше, в то время как во втором она составляет всего 1,5%.\n",
    "\n",
    "Однако разработка в других регионах тоже имеет место быть. В третьем регионе прибыль равна около 404 миллионам рублей при риске в 7,6%. В первом регионе - 396 миллионов рублей, при рисках в 6,9%."
   ]
  },
  {
   "cell_type": "markdown",
   "metadata": {},
   "source": [
    "1. Загружены данные, проведен анализ данных, удалён столбец с id, чтобы он не мешал при анализе данных, так как он не нужен.\n",
    "\n",
    "2. Обучена модель для каждого региона, проанализированы результаты.\n",
    "\n",
    "3. Проведена подготовка к расчёту прибыли. Все ключевые значения сохранены в отдельных переменных. \n",
    "\n",
    "4. Написана функция для расчета прибыли по выбранным скважинам и предсказаниям модели.\n",
    "\n",
    "5. Посчитаны риски для каждого региона."
   ]
  }
 ],
 "metadata": {
  "ExecuteTimeLog": [
   {
    "duration": 45,
    "start_time": "2023-11-12T18:14:22.744Z"
   },
   {
    "duration": 1511,
    "start_time": "2023-11-12T18:14:25.808Z"
   },
   {
    "duration": 727,
    "start_time": "2023-11-12T18:14:27.321Z"
   },
   {
    "duration": 21,
    "start_time": "2023-11-12T18:17:39.860Z"
   },
   {
    "duration": 13,
    "start_time": "2023-11-12T18:18:42.482Z"
   },
   {
    "duration": 14,
    "start_time": "2023-11-12T18:18:52.417Z"
   },
   {
    "duration": 10,
    "start_time": "2023-11-12T18:19:01.957Z"
   },
   {
    "duration": 13,
    "start_time": "2023-11-12T18:19:08.701Z"
   },
   {
    "duration": 9,
    "start_time": "2023-11-12T18:19:14.872Z"
   },
   {
    "duration": 16,
    "start_time": "2023-11-12T18:20:52.759Z"
   },
   {
    "duration": 43,
    "start_time": "2023-11-12T18:20:59.052Z"
   },
   {
    "duration": 40,
    "start_time": "2023-11-12T18:21:05.341Z"
   },
   {
    "duration": 1610,
    "start_time": "2023-11-12T18:21:11.370Z"
   },
   {
    "duration": 13,
    "start_time": "2023-11-12T18:21:20.677Z"
   },
   {
    "duration": 20,
    "start_time": "2023-11-12T18:21:41.380Z"
   },
   {
    "duration": 16,
    "start_time": "2023-11-12T18:21:47.214Z"
   },
   {
    "duration": 24,
    "start_time": "2023-11-12T18:24:08.190Z"
   },
   {
    "duration": 14,
    "start_time": "2023-11-12T18:24:13.474Z"
   },
   {
    "duration": 25,
    "start_time": "2023-11-12T18:24:22.164Z"
   },
   {
    "duration": 14,
    "start_time": "2023-11-12T18:24:28.918Z"
   },
   {
    "duration": 33,
    "start_time": "2023-11-12T18:24:43.134Z"
   },
   {
    "duration": 5,
    "start_time": "2023-11-12T18:34:20.834Z"
   },
   {
    "duration": 6,
    "start_time": "2023-11-12T18:34:42.599Z"
   },
   {
    "duration": 6,
    "start_time": "2023-11-12T18:34:54.169Z"
   },
   {
    "duration": 5,
    "start_time": "2023-11-12T18:38:00.646Z"
   },
   {
    "duration": 6,
    "start_time": "2023-11-12T18:38:00.989Z"
   },
   {
    "duration": 4,
    "start_time": "2023-11-12T18:38:01.375Z"
   },
   {
    "duration": 15,
    "start_time": "2023-11-12T18:38:01.740Z"
   },
   {
    "duration": 10,
    "start_time": "2023-11-12T18:39:57.452Z"
   },
   {
    "duration": 10,
    "start_time": "2023-11-12T18:40:32.436Z"
   },
   {
    "duration": 13,
    "start_time": "2023-11-12T18:41:18.119Z"
   },
   {
    "duration": 72,
    "start_time": "2023-11-12T18:41:20.903Z"
   },
   {
    "duration": 9,
    "start_time": "2023-11-12T18:41:24.103Z"
   },
   {
    "duration": 9,
    "start_time": "2023-11-12T18:41:24.996Z"
   },
   {
    "duration": 17,
    "start_time": "2023-11-12T18:41:40.652Z"
   },
   {
    "duration": 5,
    "start_time": "2023-11-12T18:42:13.971Z"
   },
   {
    "duration": 3,
    "start_time": "2023-11-12T18:42:14.214Z"
   },
   {
    "duration": 4,
    "start_time": "2023-11-12T18:42:14.404Z"
   },
   {
    "duration": 11,
    "start_time": "2023-11-12T18:42:14.602Z"
   },
   {
    "duration": 9,
    "start_time": "2023-11-12T18:42:14.832Z"
   },
   {
    "duration": 11,
    "start_time": "2023-11-12T18:42:15.046Z"
   },
   {
    "duration": 3,
    "start_time": "2023-11-12T18:42:57.257Z"
   },
   {
    "duration": 3,
    "start_time": "2023-11-12T18:55:45.547Z"
   },
   {
    "duration": 75,
    "start_time": "2023-11-12T18:56:57.584Z"
   },
   {
    "duration": 16,
    "start_time": "2023-11-12T18:57:38.329Z"
   },
   {
    "duration": 16,
    "start_time": "2023-11-12T18:59:16.565Z"
   },
   {
    "duration": 13,
    "start_time": "2023-11-12T18:59:20.685Z"
   },
   {
    "duration": 17,
    "start_time": "2023-11-12T19:00:52.388Z"
   },
   {
    "duration": 14,
    "start_time": "2023-11-12T19:01:13.366Z"
   },
   {
    "duration": 16,
    "start_time": "2023-11-12T19:01:39.326Z"
   },
   {
    "duration": 17,
    "start_time": "2023-11-12T19:02:17.346Z"
   },
   {
    "duration": 118,
    "start_time": "2023-11-12T19:03:46.740Z"
   },
   {
    "duration": 119,
    "start_time": "2023-11-12T19:04:01.647Z"
   },
   {
    "duration": 19,
    "start_time": "2023-11-12T19:04:09.162Z"
   },
   {
    "duration": 10,
    "start_time": "2023-11-12T19:09:08.622Z"
   },
   {
    "duration": 14,
    "start_time": "2023-11-12T19:09:08.966Z"
   },
   {
    "duration": 15,
    "start_time": "2023-11-12T19:09:50.318Z"
   },
   {
    "duration": 16,
    "start_time": "2023-11-12T19:10:47.827Z"
   },
   {
    "duration": 275,
    "start_time": "2023-11-12T19:12:50.195Z"
   },
   {
    "duration": 203,
    "start_time": "2023-11-12T19:15:05.912Z"
   },
   {
    "duration": 212,
    "start_time": "2023-11-12T19:15:36.934Z"
   },
   {
    "duration": 176,
    "start_time": "2023-11-12T19:16:09.503Z"
   },
   {
    "duration": 23,
    "start_time": "2023-11-12T19:17:14.660Z"
   },
   {
    "duration": 191,
    "start_time": "2023-11-12T19:17:53.134Z"
   },
   {
    "duration": 3,
    "start_time": "2023-11-12T19:38:41.978Z"
   },
   {
    "duration": 380,
    "start_time": "2023-11-12T19:38:42.365Z"
   },
   {
    "duration": 15,
    "start_time": "2023-11-12T19:38:42.748Z"
   },
   {
    "duration": 9,
    "start_time": "2023-11-12T19:38:43.209Z"
   },
   {
    "duration": 14,
    "start_time": "2023-11-12T19:38:43.542Z"
   },
   {
    "duration": 9,
    "start_time": "2023-11-12T19:38:43.768Z"
   },
   {
    "duration": 14,
    "start_time": "2023-11-12T19:38:43.991Z"
   },
   {
    "duration": 9,
    "start_time": "2023-11-12T19:38:44.195Z"
   },
   {
    "duration": 16,
    "start_time": "2023-11-12T19:38:44.603Z"
   },
   {
    "duration": 18,
    "start_time": "2023-11-12T19:38:45.024Z"
   },
   {
    "duration": 15,
    "start_time": "2023-11-12T19:38:45.320Z"
   },
   {
    "duration": 22,
    "start_time": "2023-11-12T19:38:46.148Z"
   },
   {
    "duration": 13,
    "start_time": "2023-11-12T19:38:46.580Z"
   },
   {
    "duration": 20,
    "start_time": "2023-11-12T19:38:46.926Z"
   },
   {
    "duration": 14,
    "start_time": "2023-11-12T19:38:47.303Z"
   },
   {
    "duration": 29,
    "start_time": "2023-11-12T19:38:47.521Z"
   },
   {
    "duration": 4,
    "start_time": "2023-11-12T19:38:48.195Z"
   },
   {
    "duration": 5,
    "start_time": "2023-11-12T19:38:48.503Z"
   },
   {
    "duration": 4,
    "start_time": "2023-11-12T19:38:48.717Z"
   },
   {
    "duration": 10,
    "start_time": "2023-11-12T19:38:48.932Z"
   },
   {
    "duration": 11,
    "start_time": "2023-11-12T19:38:49.141Z"
   },
   {
    "duration": 10,
    "start_time": "2023-11-12T19:38:49.394Z"
   },
   {
    "duration": 14,
    "start_time": "2023-11-12T19:38:49.692Z"
   },
   {
    "duration": 13,
    "start_time": "2023-11-12T19:38:49.933Z"
   },
   {
    "duration": 13,
    "start_time": "2023-11-12T19:38:50.692Z"
   },
   {
    "duration": 13,
    "start_time": "2023-11-12T19:40:51.792Z"
   },
   {
    "duration": 12,
    "start_time": "2023-11-12T19:40:52.159Z"
   },
   {
    "duration": 2,
    "start_time": "2023-11-12T19:42:21.864Z"
   },
   {
    "duration": 373,
    "start_time": "2023-11-12T19:42:22.041Z"
   },
   {
    "duration": 15,
    "start_time": "2023-11-12T19:42:22.415Z"
   },
   {
    "duration": 22,
    "start_time": "2023-11-12T19:42:22.431Z"
   },
   {
    "duration": 14,
    "start_time": "2023-11-12T19:42:22.507Z"
   },
   {
    "duration": 10,
    "start_time": "2023-11-12T19:42:22.678Z"
   },
   {
    "duration": 14,
    "start_time": "2023-11-12T19:42:22.831Z"
   },
   {
    "duration": 13,
    "start_time": "2023-11-12T19:42:23.016Z"
   },
   {
    "duration": 15,
    "start_time": "2023-11-12T19:42:23.296Z"
   },
   {
    "duration": 15,
    "start_time": "2023-11-12T19:42:23.468Z"
   },
   {
    "duration": 15,
    "start_time": "2023-11-12T19:42:23.630Z"
   },
   {
    "duration": 22,
    "start_time": "2023-11-12T19:42:23.959Z"
   },
   {
    "duration": 14,
    "start_time": "2023-11-12T19:42:24.134Z"
   },
   {
    "duration": 21,
    "start_time": "2023-11-12T19:42:24.306Z"
   },
   {
    "duration": 13,
    "start_time": "2023-11-12T19:42:24.482Z"
   },
   {
    "duration": 28,
    "start_time": "2023-11-12T19:42:24.650Z"
   },
   {
    "duration": 3,
    "start_time": "2023-11-12T19:42:24.985Z"
   },
   {
    "duration": 4,
    "start_time": "2023-11-12T19:42:28.136Z"
   },
   {
    "duration": 4,
    "start_time": "2023-11-12T19:42:28.329Z"
   },
   {
    "duration": 9,
    "start_time": "2023-11-12T19:42:28.484Z"
   },
   {
    "duration": 9,
    "start_time": "2023-11-12T19:42:28.877Z"
   },
   {
    "duration": 10,
    "start_time": "2023-11-12T19:42:29.103Z"
   },
   {
    "duration": 14,
    "start_time": "2023-11-12T19:42:29.340Z"
   },
   {
    "duration": 12,
    "start_time": "2023-11-12T19:42:30.100Z"
   },
   {
    "duration": 12,
    "start_time": "2023-11-12T19:42:30.987Z"
   },
   {
    "duration": 28,
    "start_time": "2023-11-12T19:43:50.047Z"
   },
   {
    "duration": 4,
    "start_time": "2023-11-12T19:43:50.582Z"
   },
   {
    "duration": 4,
    "start_time": "2023-11-12T19:43:50.905Z"
   },
   {
    "duration": 4,
    "start_time": "2023-11-12T19:43:51.088Z"
   },
   {
    "duration": 10,
    "start_time": "2023-11-12T19:43:51.274Z"
   },
   {
    "duration": 9,
    "start_time": "2023-11-12T19:43:51.454Z"
   },
   {
    "duration": 10,
    "start_time": "2023-11-12T19:43:51.611Z"
   },
   {
    "duration": 19,
    "start_time": "2023-11-12T19:43:51.782Z"
   },
   {
    "duration": 12,
    "start_time": "2023-11-12T19:43:51.965Z"
   },
   {
    "duration": 13,
    "start_time": "2023-11-12T19:43:52.160Z"
   },
   {
    "duration": 4,
    "start_time": "2023-11-12T19:44:06.843Z"
   },
   {
    "duration": 373,
    "start_time": "2023-11-12T19:44:07.171Z"
   },
   {
    "duration": 13,
    "start_time": "2023-11-12T19:44:07.546Z"
   },
   {
    "duration": 9,
    "start_time": "2023-11-12T19:44:07.746Z"
   },
   {
    "duration": 12,
    "start_time": "2023-11-12T19:44:08.155Z"
   },
   {
    "duration": 8,
    "start_time": "2023-11-12T19:44:08.421Z"
   },
   {
    "duration": 21,
    "start_time": "2023-11-12T19:44:08.747Z"
   },
   {
    "duration": 13,
    "start_time": "2023-11-12T19:44:09.451Z"
   },
   {
    "duration": 14,
    "start_time": "2023-11-12T19:44:35.714Z"
   },
   {
    "duration": 76,
    "start_time": "2023-11-12T19:44:35.920Z"
   },
   {
    "duration": 16,
    "start_time": "2023-11-12T19:44:36.273Z"
   },
   {
    "duration": 15,
    "start_time": "2023-11-12T19:44:36.842Z"
   },
   {
    "duration": 18,
    "start_time": "2023-11-12T19:44:37.270Z"
   },
   {
    "duration": 21,
    "start_time": "2023-11-12T19:45:16.859Z"
   },
   {
    "duration": 8,
    "start_time": "2023-11-12T19:45:17.702Z"
   },
   {
    "duration": 20,
    "start_time": "2023-11-12T19:45:18.280Z"
   },
   {
    "duration": 9,
    "start_time": "2023-11-12T19:45:19.248Z"
   },
   {
    "duration": 14,
    "start_time": "2023-11-12T19:45:19.453Z"
   },
   {
    "duration": 9,
    "start_time": "2023-11-12T19:45:19.750Z"
   },
   {
    "duration": 13,
    "start_time": "2023-11-12T19:45:20.527Z"
   },
   {
    "duration": 13,
    "start_time": "2023-11-12T19:45:21.186Z"
   },
   {
    "duration": 22,
    "start_time": "2023-11-12T19:45:21.658Z"
   },
   {
    "duration": 13,
    "start_time": "2023-11-12T19:47:32.535Z"
   },
   {
    "duration": 24,
    "start_time": "2023-11-12T19:47:33.010Z"
   },
   {
    "duration": 9,
    "start_time": "2023-11-12T19:47:33.189Z"
   },
   {
    "duration": 20,
    "start_time": "2023-11-12T19:47:33.371Z"
   },
   {
    "duration": 8,
    "start_time": "2023-11-12T19:47:33.546Z"
   },
   {
    "duration": 9,
    "start_time": "2023-11-12T19:51:20.666Z"
   },
   {
    "duration": 3,
    "start_time": "2023-11-12T19:51:31.577Z"
   },
   {
    "duration": 384,
    "start_time": "2023-11-12T19:51:31.770Z"
   },
   {
    "duration": 13,
    "start_time": "2023-11-12T19:51:32.155Z"
   },
   {
    "duration": 10,
    "start_time": "2023-11-12T19:51:32.172Z"
   },
   {
    "duration": 14,
    "start_time": "2023-11-12T19:51:32.429Z"
   },
   {
    "duration": 11,
    "start_time": "2023-11-12T19:51:32.642Z"
   },
   {
    "duration": 22,
    "start_time": "2023-11-12T19:51:32.862Z"
   },
   {
    "duration": 10,
    "start_time": "2023-11-12T19:51:33.083Z"
   },
   {
    "duration": 18,
    "start_time": "2023-11-12T19:51:33.495Z"
   },
   {
    "duration": 17,
    "start_time": "2023-11-12T19:51:33.696Z"
   },
   {
    "duration": 18,
    "start_time": "2023-11-12T19:51:34.053Z"
   },
   {
    "duration": 11,
    "start_time": "2023-11-12T19:51:34.865Z"
   },
   {
    "duration": 8,
    "start_time": "2023-11-12T19:52:10.579Z"
   },
   {
    "duration": 11,
    "start_time": "2023-11-12T19:52:18.468Z"
   },
   {
    "duration": 13,
    "start_time": "2023-11-12T19:55:23.396Z"
   },
   {
    "duration": 4,
    "start_time": "2023-11-12T19:55:23.410Z"
   },
   {
    "duration": 26,
    "start_time": "2023-11-12T19:55:23.415Z"
   },
   {
    "duration": 4,
    "start_time": "2023-11-12T19:55:23.443Z"
   },
   {
    "duration": 10,
    "start_time": "2023-11-12T19:55:23.448Z"
   },
   {
    "duration": 8,
    "start_time": "2023-11-12T19:55:23.459Z"
   },
   {
    "duration": 8,
    "start_time": "2023-11-12T19:55:23.468Z"
   },
   {
    "duration": 20,
    "start_time": "2023-11-12T19:55:23.477Z"
   },
   {
    "duration": 103,
    "start_time": "2023-11-12T19:55:23.553Z"
   },
   {
    "duration": 99,
    "start_time": "2023-11-12T19:55:23.658Z"
   },
   {
    "duration": 0,
    "start_time": "2023-11-12T19:55:25.280Z"
   },
   {
    "duration": 0,
    "start_time": "2023-11-12T19:55:25.281Z"
   },
   {
    "duration": 0,
    "start_time": "2023-11-12T19:55:25.282Z"
   },
   {
    "duration": 0,
    "start_time": "2023-11-12T19:55:25.283Z"
   },
   {
    "duration": 0,
    "start_time": "2023-11-12T19:55:25.284Z"
   },
   {
    "duration": 0,
    "start_time": "2023-11-12T19:55:25.285Z"
   },
   {
    "duration": 0,
    "start_time": "2023-11-12T19:55:25.286Z"
   },
   {
    "duration": 0,
    "start_time": "2023-11-12T19:55:25.287Z"
   },
   {
    "duration": 0,
    "start_time": "2023-11-12T19:55:25.287Z"
   },
   {
    "duration": 0,
    "start_time": "2023-11-12T19:55:25.288Z"
   },
   {
    "duration": 0,
    "start_time": "2023-11-12T19:55:25.289Z"
   },
   {
    "duration": 0,
    "start_time": "2023-11-12T19:55:25.290Z"
   },
   {
    "duration": 3,
    "start_time": "2023-11-12T19:56:58.595Z"
   },
   {
    "duration": 355,
    "start_time": "2023-11-12T19:56:59.170Z"
   },
   {
    "duration": 14,
    "start_time": "2023-11-12T19:56:59.685Z"
   },
   {
    "duration": 9,
    "start_time": "2023-11-12T19:57:00.239Z"
   },
   {
    "duration": 15,
    "start_time": "2023-11-12T19:57:00.979Z"
   },
   {
    "duration": 8,
    "start_time": "2023-11-12T19:57:01.377Z"
   },
   {
    "duration": 13,
    "start_time": "2023-11-12T19:57:01.754Z"
   },
   {
    "duration": 9,
    "start_time": "2023-11-12T19:57:01.978Z"
   },
   {
    "duration": 15,
    "start_time": "2023-11-12T19:57:02.181Z"
   },
   {
    "duration": 18,
    "start_time": "2023-11-12T19:57:02.388Z"
   },
   {
    "duration": 15,
    "start_time": "2023-11-12T19:57:02.600Z"
   },
   {
    "duration": 13,
    "start_time": "2023-11-12T19:57:03.304Z"
   },
   {
    "duration": 11,
    "start_time": "2023-11-12T19:57:03.759Z"
   },
   {
    "duration": 4,
    "start_time": "2023-11-12T19:57:04.340Z"
   },
   {
    "duration": 5,
    "start_time": "2023-11-12T19:57:05.230Z"
   },
   {
    "duration": 4,
    "start_time": "2023-11-12T19:57:05.597Z"
   },
   {
    "duration": 9,
    "start_time": "2023-11-12T19:57:06.175Z"
   },
   {
    "duration": 9,
    "start_time": "2023-11-12T19:57:06.652Z"
   },
   {
    "duration": 10,
    "start_time": "2023-11-12T19:57:07.030Z"
   },
   {
    "duration": 14,
    "start_time": "2023-11-12T19:57:07.496Z"
   },
   {
    "duration": 13,
    "start_time": "2023-11-12T19:57:09.081Z"
   },
   {
    "duration": 12,
    "start_time": "2023-11-12T19:57:10.684Z"
   },
   {
    "duration": 75,
    "start_time": "2023-11-12T20:00:29.454Z"
   },
   {
    "duration": 64,
    "start_time": "2023-11-12T20:01:03.706Z"
   },
   {
    "duration": 33,
    "start_time": "2023-11-12T20:01:37.976Z"
   },
   {
    "duration": 9,
    "start_time": "2023-11-12T20:07:02.003Z"
   },
   {
    "duration": 3,
    "start_time": "2023-11-12T20:07:04.218Z"
   },
   {
    "duration": 22,
    "start_time": "2023-11-12T20:07:04.546Z"
   },
   {
    "duration": 3,
    "start_time": "2023-11-12T20:07:48.380Z"
   },
   {
    "duration": 4,
    "start_time": "2023-11-12T20:07:49.091Z"
   },
   {
    "duration": 3,
    "start_time": "2023-11-12T20:08:06.091Z"
   },
   {
    "duration": 21,
    "start_time": "2023-11-12T20:08:06.387Z"
   },
   {
    "duration": 3,
    "start_time": "2023-11-12T20:09:25.717Z"
   },
   {
    "duration": 20,
    "start_time": "2023-11-12T20:09:26.179Z"
   },
   {
    "duration": 3,
    "start_time": "2023-11-12T20:11:09.681Z"
   },
   {
    "duration": 8,
    "start_time": "2023-11-12T20:11:10.239Z"
   },
   {
    "duration": 3,
    "start_time": "2023-11-12T20:11:36.995Z"
   },
   {
    "duration": 9,
    "start_time": "2023-11-12T20:11:37.336Z"
   },
   {
    "duration": 4,
    "start_time": "2023-11-12T20:12:39.489Z"
   },
   {
    "duration": 8,
    "start_time": "2023-11-12T20:12:39.943Z"
   },
   {
    "duration": 24,
    "start_time": "2023-11-12T20:12:52.246Z"
   },
   {
    "duration": 4,
    "start_time": "2023-11-12T20:13:13.080Z"
   },
   {
    "duration": 52,
    "start_time": "2023-11-12T20:13:13.324Z"
   },
   {
    "duration": 5,
    "start_time": "2023-11-12T20:14:43.711Z"
   },
   {
    "duration": 362,
    "start_time": "2023-11-12T20:14:43.893Z"
   },
   {
    "duration": 18,
    "start_time": "2023-11-12T20:14:44.257Z"
   },
   {
    "duration": 9,
    "start_time": "2023-11-12T20:14:44.277Z"
   },
   {
    "duration": 17,
    "start_time": "2023-11-12T20:14:44.375Z"
   },
   {
    "duration": 9,
    "start_time": "2023-11-12T20:14:44.522Z"
   },
   {
    "duration": 13,
    "start_time": "2023-11-12T20:14:44.673Z"
   },
   {
    "duration": 9,
    "start_time": "2023-11-12T20:14:44.849Z"
   },
   {
    "duration": 117,
    "start_time": "2023-11-12T20:14:45.019Z"
   },
   {
    "duration": 10,
    "start_time": "2023-11-12T20:14:45.791Z"
   },
   {
    "duration": 12,
    "start_time": "2023-11-12T20:14:45.977Z"
   },
   {
    "duration": 63,
    "start_time": "2023-11-12T20:14:46.183Z"
   },
   {
    "duration": 22,
    "start_time": "2023-11-12T20:14:46.351Z"
   },
   {
    "duration": 4,
    "start_time": "2023-11-12T20:14:46.745Z"
   },
   {
    "duration": 38,
    "start_time": "2023-11-12T20:14:47.218Z"
   },
   {
    "duration": 20,
    "start_time": "2023-11-12T20:14:47.859Z"
   },
   {
    "duration": 13,
    "start_time": "2023-11-12T20:14:48.428Z"
   },
   {
    "duration": 13,
    "start_time": "2023-11-12T20:14:48.906Z"
   },
   {
    "duration": 4,
    "start_time": "2023-11-12T20:15:02.612Z"
   },
   {
    "duration": 55,
    "start_time": "2023-11-12T20:15:02.835Z"
   },
   {
    "duration": 82,
    "start_time": "2023-11-12T21:27:27.493Z"
   },
   {
    "duration": 3,
    "start_time": "2023-11-12T21:27:33.955Z"
   },
   {
    "duration": 55,
    "start_time": "2023-11-12T21:27:34.441Z"
   },
   {
    "duration": 15,
    "start_time": "2023-11-12T21:27:35.815Z"
   },
   {
    "duration": 10,
    "start_time": "2023-11-12T21:27:36.423Z"
   },
   {
    "duration": 11,
    "start_time": "2023-11-12T21:27:36.923Z"
   },
   {
    "duration": 1710,
    "start_time": "2023-11-13T06:13:41.468Z"
   },
   {
    "duration": 809,
    "start_time": "2023-11-13T06:13:43.179Z"
   },
   {
    "duration": 16,
    "start_time": "2023-11-13T06:13:43.989Z"
   },
   {
    "duration": 13,
    "start_time": "2023-11-13T06:13:44.007Z"
   },
   {
    "duration": 15,
    "start_time": "2023-11-13T06:13:44.832Z"
   },
   {
    "duration": 9,
    "start_time": "2023-11-13T06:13:45.484Z"
   },
   {
    "duration": 15,
    "start_time": "2023-11-13T06:13:45.940Z"
   },
   {
    "duration": 10,
    "start_time": "2023-11-13T06:13:46.406Z"
   },
   {
    "duration": 130,
    "start_time": "2023-11-13T06:13:46.837Z"
   },
   {
    "duration": 16,
    "start_time": "2023-11-13T06:13:48.019Z"
   },
   {
    "duration": 12,
    "start_time": "2023-11-13T06:13:48.722Z"
   },
   {
    "duration": 80,
    "start_time": "2023-11-13T06:13:49.314Z"
   },
   {
    "duration": 28,
    "start_time": "2023-11-13T06:13:49.746Z"
   },
   {
    "duration": 6,
    "start_time": "2023-11-13T06:13:53.879Z"
   },
   {
    "duration": 120,
    "start_time": "2023-11-13T06:13:54.264Z"
   },
   {
    "duration": 11,
    "start_time": "2023-11-13T06:13:54.689Z"
   },
   {
    "duration": 11,
    "start_time": "2023-11-13T06:13:55.133Z"
   },
   {
    "duration": 4,
    "start_time": "2023-11-13T06:14:04.167Z"
   },
   {
    "duration": 10,
    "start_time": "2023-11-13T06:14:04.753Z"
   },
   {
    "duration": 3,
    "start_time": "2023-11-13T06:14:18.280Z"
   },
   {
    "duration": 420,
    "start_time": "2023-11-13T06:14:18.672Z"
   },
   {
    "duration": 18,
    "start_time": "2023-11-13T06:14:19.093Z"
   },
   {
    "duration": 10,
    "start_time": "2023-11-13T06:14:19.522Z"
   },
   {
    "duration": 15,
    "start_time": "2023-11-13T06:14:20.062Z"
   },
   {
    "duration": 11,
    "start_time": "2023-11-13T06:14:20.388Z"
   },
   {
    "duration": 14,
    "start_time": "2023-11-13T06:14:20.627Z"
   },
   {
    "duration": 10,
    "start_time": "2023-11-13T06:14:20.857Z"
   },
   {
    "duration": 132,
    "start_time": "2023-11-13T06:14:21.749Z"
   },
   {
    "duration": 13,
    "start_time": "2023-11-13T06:14:22.655Z"
   },
   {
    "duration": 12,
    "start_time": "2023-11-13T06:14:23.114Z"
   },
   {
    "duration": 87,
    "start_time": "2023-11-13T06:14:23.562Z"
   },
   {
    "duration": 27,
    "start_time": "2023-11-13T06:14:24.046Z"
   },
   {
    "duration": 5,
    "start_time": "2023-11-13T06:14:25.894Z"
   },
   {
    "duration": 11,
    "start_time": "2023-11-13T06:14:26.410Z"
   },
   {
    "duration": 10,
    "start_time": "2023-11-13T06:14:27.488Z"
   },
   {
    "duration": 10,
    "start_time": "2023-11-13T06:14:28.001Z"
   },
   {
    "duration": 11,
    "start_time": "2023-11-13T06:15:31.244Z"
   },
   {
    "duration": 4,
    "start_time": "2023-11-13T06:15:33.962Z"
   },
   {
    "duration": 9,
    "start_time": "2023-11-13T06:15:34.362Z"
   },
   {
    "duration": 51,
    "start_time": "2023-11-13T06:15:40.814Z"
   },
   {
    "duration": 5,
    "start_time": "2023-11-13T06:15:42.145Z"
   },
   {
    "duration": 15,
    "start_time": "2023-11-13T06:15:43.400Z"
   },
   {
    "duration": 9,
    "start_time": "2023-11-13T06:16:03.763Z"
   },
   {
    "duration": 8,
    "start_time": "2023-11-13T06:16:09.602Z"
   },
   {
    "duration": 10,
    "start_time": "2023-11-13T06:16:10.262Z"
   },
   {
    "duration": 10,
    "start_time": "2023-11-13T06:16:54.644Z"
   },
   {
    "duration": 5,
    "start_time": "2023-11-13T06:16:56.539Z"
   },
   {
    "duration": 10,
    "start_time": "2023-11-13T06:16:56.902Z"
   },
   {
    "duration": 4,
    "start_time": "2023-11-13T06:17:08.341Z"
   },
   {
    "duration": 438,
    "start_time": "2023-11-13T06:17:08.732Z"
   },
   {
    "duration": 15,
    "start_time": "2023-11-13T06:17:09.172Z"
   },
   {
    "duration": 15,
    "start_time": "2023-11-13T06:17:09.659Z"
   },
   {
    "duration": 25,
    "start_time": "2023-11-13T06:17:10.229Z"
   },
   {
    "duration": 16,
    "start_time": "2023-11-13T06:17:10.736Z"
   },
   {
    "duration": 24,
    "start_time": "2023-11-13T06:17:11.125Z"
   },
   {
    "duration": 11,
    "start_time": "2023-11-13T06:17:11.660Z"
   },
   {
    "duration": 134,
    "start_time": "2023-11-13T06:17:12.134Z"
   },
   {
    "duration": 15,
    "start_time": "2023-11-13T06:17:13.019Z"
   },
   {
    "duration": 13,
    "start_time": "2023-11-13T06:17:13.370Z"
   },
   {
    "duration": 78,
    "start_time": "2023-11-13T06:17:13.848Z"
   },
   {
    "duration": 27,
    "start_time": "2023-11-13T06:17:14.286Z"
   },
   {
    "duration": 4,
    "start_time": "2023-11-13T06:17:15.665Z"
   },
   {
    "duration": 11,
    "start_time": "2023-11-13T06:17:16.165Z"
   },
   {
    "duration": 4,
    "start_time": "2023-11-13T06:18:13.889Z"
   },
   {
    "duration": 9,
    "start_time": "2023-11-13T06:18:14.307Z"
   },
   {
    "duration": 7,
    "start_time": "2023-11-13T06:19:55.071Z"
   },
   {
    "duration": 4,
    "start_time": "2023-11-13T06:19:55.435Z"
   },
   {
    "duration": 80,
    "start_time": "2023-11-13T06:19:56.154Z"
   },
   {
    "duration": 9,
    "start_time": "2023-11-13T06:20:11.868Z"
   },
   {
    "duration": 4,
    "start_time": "2023-11-13T06:20:12.373Z"
   },
   {
    "duration": 44,
    "start_time": "2023-11-13T06:20:12.964Z"
   },
   {
    "duration": 92,
    "start_time": "2023-11-13T06:20:13.722Z"
   },
   {
    "duration": 14,
    "start_time": "2023-11-13T06:20:14.362Z"
   },
   {
    "duration": 13,
    "start_time": "2023-11-13T06:20:15.972Z"
   },
   {
    "duration": 2,
    "start_time": "2023-11-13T06:20:19.002Z"
   },
   {
    "duration": 3,
    "start_time": "2023-11-13T06:21:13.016Z"
   },
   {
    "duration": 4,
    "start_time": "2023-11-13T06:21:28.718Z"
   },
   {
    "duration": 7,
    "start_time": "2023-11-13T06:24:25.069Z"
   },
   {
    "duration": 5,
    "start_time": "2023-11-13T06:50:02.209Z"
   },
   {
    "duration": 196,
    "start_time": "2023-11-13T06:53:49.274Z"
   },
   {
    "duration": 176,
    "start_time": "2023-11-13T06:54:09.556Z"
   },
   {
    "duration": 3,
    "start_time": "2023-11-13T07:07:01.479Z"
   },
   {
    "duration": 4,
    "start_time": "2023-11-13T07:07:03.201Z"
   },
   {
    "duration": 3,
    "start_time": "2023-11-13T07:07:03.517Z"
   },
   {
    "duration": 16,
    "start_time": "2023-11-13T07:07:12.482Z"
   },
   {
    "duration": 11,
    "start_time": "2023-11-13T07:07:38.543Z"
   },
   {
    "duration": 3,
    "start_time": "2023-11-13T07:09:08.156Z"
   },
   {
    "duration": 2,
    "start_time": "2023-11-13T07:09:08.516Z"
   },
   {
    "duration": 11,
    "start_time": "2023-11-13T07:09:08.848Z"
   },
   {
    "duration": 12,
    "start_time": "2023-11-13T07:09:28.303Z"
   },
   {
    "duration": 3,
    "start_time": "2023-11-13T07:09:28.861Z"
   },
   {
    "duration": 11,
    "start_time": "2023-11-13T07:09:49.269Z"
   },
   {
    "duration": 3,
    "start_time": "2023-11-13T07:09:49.941Z"
   },
   {
    "duration": 11,
    "start_time": "2023-11-13T07:09:50.654Z"
   },
   {
    "duration": 6,
    "start_time": "2023-11-13T07:10:30.600Z"
   },
   {
    "duration": 4,
    "start_time": "2023-11-13T07:10:31.083Z"
   },
   {
    "duration": 7,
    "start_time": "2023-11-13T07:10:31.696Z"
   },
   {
    "duration": 4,
    "start_time": "2023-11-13T07:10:32.098Z"
   },
   {
    "duration": 168,
    "start_time": "2023-11-13T07:10:33.677Z"
   },
   {
    "duration": 3,
    "start_time": "2023-11-13T07:10:35.759Z"
   },
   {
    "duration": 5,
    "start_time": "2023-11-13T07:10:36.167Z"
   },
   {
    "duration": 4,
    "start_time": "2023-11-13T07:10:47.519Z"
   },
   {
    "duration": 4,
    "start_time": "2023-11-13T07:11:00.416Z"
   },
   {
    "duration": 7,
    "start_time": "2023-11-13T07:11:59.569Z"
   },
   {
    "duration": 8,
    "start_time": "2023-11-13T07:12:00.496Z"
   },
   {
    "duration": 4,
    "start_time": "2023-11-13T07:12:00.687Z"
   },
   {
    "duration": 164,
    "start_time": "2023-11-13T07:12:01.050Z"
   },
   {
    "duration": 167,
    "start_time": "2023-11-13T07:19:23.699Z"
   },
   {
    "duration": 3,
    "start_time": "2023-11-13T07:19:27.808Z"
   },
   {
    "duration": 4,
    "start_time": "2023-11-13T07:19:46.386Z"
   },
   {
    "duration": 5,
    "start_time": "2023-11-13T07:20:32.496Z"
   },
   {
    "duration": 10,
    "start_time": "2023-11-13T07:20:58.834Z"
   },
   {
    "duration": 4,
    "start_time": "2023-11-13T07:23:37.465Z"
   },
   {
    "duration": 444,
    "start_time": "2023-11-13T07:23:38.099Z"
   },
   {
    "duration": 20,
    "start_time": "2023-11-13T07:23:38.545Z"
   },
   {
    "duration": 12,
    "start_time": "2023-11-13T07:23:38.587Z"
   },
   {
    "duration": 16,
    "start_time": "2023-11-13T07:23:38.761Z"
   },
   {
    "duration": 11,
    "start_time": "2023-11-13T07:23:38.934Z"
   },
   {
    "duration": 17,
    "start_time": "2023-11-13T07:23:39.104Z"
   },
   {
    "duration": 11,
    "start_time": "2023-11-13T07:23:39.269Z"
   },
   {
    "duration": 142,
    "start_time": "2023-11-13T07:23:39.443Z"
   },
   {
    "duration": 14,
    "start_time": "2023-11-13T07:23:39.758Z"
   },
   {
    "duration": 14,
    "start_time": "2023-11-13T07:23:39.917Z"
   },
   {
    "duration": 78,
    "start_time": "2023-11-13T07:23:40.071Z"
   },
   {
    "duration": 27,
    "start_time": "2023-11-13T07:23:40.219Z"
   },
   {
    "duration": 8,
    "start_time": "2023-11-13T07:23:40.714Z"
   },
   {
    "duration": 4,
    "start_time": "2023-11-13T07:23:40.886Z"
   },
   {
    "duration": 49,
    "start_time": "2023-11-13T07:23:44.092Z"
   },
   {
    "duration": 28,
    "start_time": "2023-11-13T07:23:44.304Z"
   },
   {
    "duration": 23,
    "start_time": "2023-11-13T07:23:44.514Z"
   },
   {
    "duration": 15,
    "start_time": "2023-11-13T07:23:44.712Z"
   },
   {
    "duration": 6,
    "start_time": "2023-11-13T07:23:47.923Z"
   },
   {
    "duration": 3,
    "start_time": "2023-11-13T07:23:48.551Z"
   },
   {
    "duration": 6,
    "start_time": "2023-11-13T07:23:48.981Z"
   },
   {
    "duration": 8,
    "start_time": "2023-11-13T07:23:49.448Z"
   },
   {
    "duration": 6,
    "start_time": "2023-11-13T07:23:49.892Z"
   },
   {
    "duration": 4,
    "start_time": "2023-11-13T07:23:50.356Z"
   },
   {
    "duration": 170,
    "start_time": "2023-11-13T07:23:51.314Z"
   },
   {
    "duration": 90,
    "start_time": "2023-11-13T07:23:53.425Z"
   },
   {
    "duration": 4,
    "start_time": "2023-11-13T07:23:53.816Z"
   },
   {
    "duration": 3,
    "start_time": "2023-11-13T07:23:54.260Z"
   },
   {
    "duration": 5,
    "start_time": "2023-11-13T07:23:54.660Z"
   },
   {
    "duration": 7,
    "start_time": "2023-11-13T07:23:55.243Z"
   },
   {
    "duration": 9,
    "start_time": "2023-11-13T07:25:36.067Z"
   },
   {
    "duration": 6,
    "start_time": "2023-11-13T07:25:36.575Z"
   },
   {
    "duration": 11,
    "start_time": "2023-11-13T07:36:25.836Z"
   },
   {
    "duration": 6,
    "start_time": "2023-11-13T07:36:26.204Z"
   },
   {
    "duration": 6,
    "start_time": "2023-11-13T07:36:26.559Z"
   },
   {
    "duration": 5,
    "start_time": "2023-11-13T07:36:37.023Z"
   },
   {
    "duration": 5,
    "start_time": "2023-11-13T07:38:21.237Z"
   },
   {
    "duration": 5,
    "start_time": "2023-11-13T07:39:50.218Z"
   },
   {
    "duration": 21,
    "start_time": "2023-11-13T07:44:12.022Z"
   },
   {
    "duration": 11,
    "start_time": "2023-11-13T07:44:12.418Z"
   },
   {
    "duration": 8,
    "start_time": "2023-11-13T07:45:53.439Z"
   },
   {
    "duration": 2,
    "start_time": "2023-11-13T07:45:53.799Z"
   },
   {
    "duration": 3,
    "start_time": "2023-11-13T07:45:53.975Z"
   },
   {
    "duration": 4,
    "start_time": "2023-11-13T07:46:16.253Z"
   },
   {
    "duration": 6,
    "start_time": "2023-11-13T07:46:41.824Z"
   },
   {
    "duration": 1532,
    "start_time": "2023-11-13T10:43:23.479Z"
   },
   {
    "duration": 737,
    "start_time": "2023-11-13T10:43:25.013Z"
   },
   {
    "duration": 16,
    "start_time": "2023-11-13T10:43:25.751Z"
   },
   {
    "duration": 17,
    "start_time": "2023-11-13T10:43:25.769Z"
   },
   {
    "duration": 18,
    "start_time": "2023-11-13T10:43:25.787Z"
   },
   {
    "duration": 9,
    "start_time": "2023-11-13T10:43:25.806Z"
   },
   {
    "duration": 24,
    "start_time": "2023-11-13T10:43:25.816Z"
   },
   {
    "duration": 17,
    "start_time": "2023-11-13T10:43:25.842Z"
   },
   {
    "duration": 133,
    "start_time": "2023-11-13T10:43:25.861Z"
   },
   {
    "duration": 14,
    "start_time": "2023-11-13T10:43:27.365Z"
   },
   {
    "duration": 12,
    "start_time": "2023-11-13T10:43:27.954Z"
   },
   {
    "duration": 65,
    "start_time": "2023-11-13T10:43:28.559Z"
   },
   {
    "duration": 22,
    "start_time": "2023-11-13T10:43:28.750Z"
   },
   {
    "duration": 6,
    "start_time": "2023-11-13T10:43:29.346Z"
   },
   {
    "duration": 3,
    "start_time": "2023-11-13T10:43:29.549Z"
   },
   {
    "duration": 45,
    "start_time": "2023-11-13T10:43:29.739Z"
   },
   {
    "duration": 58,
    "start_time": "2023-11-13T10:43:30.000Z"
   },
   {
    "duration": 10,
    "start_time": "2023-11-13T10:43:30.331Z"
   },
   {
    "duration": 12,
    "start_time": "2023-11-13T10:43:30.726Z"
   },
   {
    "duration": 4,
    "start_time": "2023-11-13T10:43:31.690Z"
   },
   {
    "duration": 3,
    "start_time": "2023-11-13T10:43:31.861Z"
   },
   {
    "duration": 103,
    "start_time": "2023-11-13T10:43:32.107Z"
   },
   {
    "duration": 9,
    "start_time": "2023-11-13T10:43:32.312Z"
   },
   {
    "duration": 7,
    "start_time": "2023-11-13T10:43:32.522Z"
   },
   {
    "duration": 7,
    "start_time": "2023-11-13T10:43:32.754Z"
   },
   {
    "duration": 146,
    "start_time": "2023-11-13T10:47:11.770Z"
   },
   {
    "duration": 4,
    "start_time": "2023-11-13T10:47:54.448Z"
   },
   {
    "duration": 2,
    "start_time": "2023-11-13T10:48:51.634Z"
   },
   {
    "duration": 6,
    "start_time": "2023-11-13T10:48:51.977Z"
   },
   {
    "duration": 3,
    "start_time": "2023-11-13T10:50:05.502Z"
   },
   {
    "duration": 10,
    "start_time": "2023-11-13T10:51:11.441Z"
   },
   {
    "duration": 10,
    "start_time": "2023-11-13T10:51:11.763Z"
   },
   {
    "duration": 3,
    "start_time": "2023-11-13T10:56:18.180Z"
   },
   {
    "duration": 8,
    "start_time": "2023-11-13T10:56:18.560Z"
   },
   {
    "duration": 5,
    "start_time": "2023-11-13T10:56:19.069Z"
   },
   {
    "duration": 9,
    "start_time": "2023-11-13T10:56:19.546Z"
   },
   {
    "duration": 3,
    "start_time": "2023-11-13T10:56:19.981Z"
   },
   {
    "duration": 3,
    "start_time": "2023-11-13T10:56:21.281Z"
   },
   {
    "duration": 104,
    "start_time": "2023-11-13T10:56:21.657Z"
   },
   {
    "duration": 3,
    "start_time": "2023-11-13T10:56:30.645Z"
   },
   {
    "duration": 3,
    "start_time": "2023-11-13T10:59:19.268Z"
   },
   {
    "duration": 3,
    "start_time": "2023-11-13T10:59:19.805Z"
   },
   {
    "duration": 3,
    "start_time": "2023-11-13T10:59:28.743Z"
   },
   {
    "duration": 4,
    "start_time": "2023-11-13T11:10:09.416Z"
   },
   {
    "duration": 3,
    "start_time": "2023-11-13T11:11:37.983Z"
   },
   {
    "duration": 13,
    "start_time": "2023-11-13T11:11:50.896Z"
   },
   {
    "duration": 17,
    "start_time": "2023-11-13T11:12:48.419Z"
   },
   {
    "duration": 3,
    "start_time": "2023-11-13T11:12:50.537Z"
   },
   {
    "duration": 16,
    "start_time": "2023-11-13T11:12:50.755Z"
   },
   {
    "duration": 10,
    "start_time": "2023-11-13T11:15:11.341Z"
   },
   {
    "duration": 14,
    "start_time": "2023-11-13T11:15:39.399Z"
   },
   {
    "duration": 18,
    "start_time": "2023-11-13T11:16:23.614Z"
   },
   {
    "duration": 4,
    "start_time": "2023-11-13T11:18:32.153Z"
   },
   {
    "duration": 19,
    "start_time": "2023-11-13T11:18:45.816Z"
   },
   {
    "duration": 3,
    "start_time": "2023-11-13T11:19:07.441Z"
   },
   {
    "duration": 4,
    "start_time": "2023-11-13T11:19:13.135Z"
   },
   {
    "duration": 4,
    "start_time": "2023-11-13T11:31:08.623Z"
   },
   {
    "duration": 3,
    "start_time": "2023-11-13T11:31:27.938Z"
   },
   {
    "duration": 5,
    "start_time": "2023-11-13T11:43:25.366Z"
   },
   {
    "duration": 4,
    "start_time": "2023-11-13T11:43:32.365Z"
   },
   {
    "duration": 10,
    "start_time": "2023-11-13T11:43:41.223Z"
   },
   {
    "duration": 9740,
    "start_time": "2023-11-13T11:44:00.152Z"
   },
   {
    "duration": 4,
    "start_time": "2023-11-13T11:44:09.894Z"
   },
   {
    "duration": 10070,
    "start_time": "2023-11-13T11:46:30.682Z"
   },
   {
    "duration": 4,
    "start_time": "2023-11-13T11:49:23.178Z"
   },
   {
    "duration": 16,
    "start_time": "2023-11-13T11:49:23.534Z"
   },
   {
    "duration": 3,
    "start_time": "2023-11-13T11:49:23.918Z"
   },
   {
    "duration": 5,
    "start_time": "2023-11-13T11:52:16.272Z"
   },
   {
    "duration": 3495,
    "start_time": "2023-11-13T11:53:41.416Z"
   },
   {
    "duration": 3362,
    "start_time": "2023-11-13T11:53:44.914Z"
   },
   {
    "duration": 3492,
    "start_time": "2023-11-13T11:53:48.278Z"
   },
   {
    "duration": 4,
    "start_time": "2023-11-13T11:56:47.167Z"
   },
   {
    "duration": 18,
    "start_time": "2023-11-13T11:56:47.471Z"
   },
   {
    "duration": 3,
    "start_time": "2023-11-13T11:56:47.875Z"
   },
   {
    "duration": 16,
    "start_time": "2023-11-13T11:57:10.441Z"
   },
   {
    "duration": 5,
    "start_time": "2023-11-13T11:57:15.568Z"
   },
   {
    "duration": 24,
    "start_time": "2023-11-13T11:57:15.827Z"
   },
   {
    "duration": 4,
    "start_time": "2023-11-13T11:57:17.268Z"
   },
   {
    "duration": 4,
    "start_time": "2023-11-13T11:57:42.111Z"
   },
   {
    "duration": 23,
    "start_time": "2023-11-13T11:59:45.578Z"
   },
   {
    "duration": 12,
    "start_time": "2023-11-13T11:59:45.753Z"
   },
   {
    "duration": 15,
    "start_time": "2023-11-13T11:59:45.999Z"
   },
   {
    "duration": 3,
    "start_time": "2023-11-13T11:59:52.138Z"
   },
   {
    "duration": 5,
    "start_time": "2023-11-13T11:59:52.323Z"
   },
   {
    "duration": 3,
    "start_time": "2023-11-13T11:59:52.550Z"
   },
   {
    "duration": 7,
    "start_time": "2023-11-13T11:59:53.178Z"
   },
   {
    "duration": 5,
    "start_time": "2023-11-13T11:59:53.718Z"
   },
   {
    "duration": 138,
    "start_time": "2023-11-13T11:59:56.034Z"
   },
   {
    "duration": 4,
    "start_time": "2023-11-13T11:59:57.050Z"
   },
   {
    "duration": 19,
    "start_time": "2023-11-13T11:59:57.318Z"
   },
   {
    "duration": 3,
    "start_time": "2023-11-13T11:59:57.518Z"
   },
   {
    "duration": 5,
    "start_time": "2023-11-13T11:59:58.177Z"
   },
   {
    "duration": 18,
    "start_time": "2023-11-13T12:00:02.033Z"
   },
   {
    "duration": 6,
    "start_time": "2023-11-13T12:03:36.646Z"
   },
   {
    "duration": 4,
    "start_time": "2023-11-13T12:07:46.210Z"
   },
   {
    "duration": 4,
    "start_time": "2023-11-13T12:08:00.190Z"
   },
   {
    "duration": 15,
    "start_time": "2023-11-13T12:08:00.598Z"
   },
   {
    "duration": 3,
    "start_time": "2023-11-13T12:08:00.802Z"
   },
   {
    "duration": 5,
    "start_time": "2023-11-13T12:09:47.022Z"
   },
   {
    "duration": 4,
    "start_time": "2023-11-13T12:09:52.772Z"
   },
   {
    "duration": 9,
    "start_time": "2023-11-13T12:11:17.910Z"
   },
   {
    "duration": 4,
    "start_time": "2023-11-13T12:11:23.142Z"
   },
   {
    "duration": 3,
    "start_time": "2023-11-13T12:11:23.355Z"
   },
   {
    "duration": 9,
    "start_time": "2023-11-13T12:11:23.696Z"
   },
   {
    "duration": 12,
    "start_time": "2023-11-13T12:11:31.353Z"
   },
   {
    "duration": 3,
    "start_time": "2023-11-13T12:11:31.733Z"
   },
   {
    "duration": 3,
    "start_time": "2023-11-13T12:11:31.907Z"
   },
   {
    "duration": 4,
    "start_time": "2023-11-13T12:11:39.346Z"
   },
   {
    "duration": 11,
    "start_time": "2023-11-13T12:11:39.750Z"
   },
   {
    "duration": 11,
    "start_time": "2023-11-13T12:12:50.662Z"
   },
   {
    "duration": 4,
    "start_time": "2023-11-13T12:12:56.744Z"
   },
   {
    "duration": 2645,
    "start_time": "2023-11-13T12:12:56.969Z"
   },
   {
    "duration": 4,
    "start_time": "2023-11-13T12:13:02.346Z"
   },
   {
    "duration": 2676,
    "start_time": "2023-11-13T12:13:02.662Z"
   },
   {
    "duration": 3,
    "start_time": "2023-11-13T12:14:18.541Z"
   },
   {
    "duration": 16,
    "start_time": "2023-11-13T12:14:30.940Z"
   },
   {
    "duration": 4,
    "start_time": "2023-11-13T12:15:41.099Z"
   },
   {
    "duration": 23,
    "start_time": "2023-11-13T12:15:41.334Z"
   },
   {
    "duration": 4,
    "start_time": "2023-11-13T12:15:52.536Z"
   },
   {
    "duration": 9,
    "start_time": "2023-11-13T12:16:56.415Z"
   },
   {
    "duration": 3,
    "start_time": "2023-11-13T12:16:59.177Z"
   },
   {
    "duration": 23,
    "start_time": "2023-11-13T12:16:59.469Z"
   },
   {
    "duration": 3,
    "start_time": "2023-11-13T12:17:00.073Z"
   },
   {
    "duration": 4,
    "start_time": "2023-11-13T12:17:48.230Z"
   },
   {
    "duration": 22,
    "start_time": "2023-11-13T12:17:48.575Z"
   },
   {
    "duration": 4,
    "start_time": "2023-11-13T12:17:48.969Z"
   },
   {
    "duration": 4,
    "start_time": "2023-11-13T12:17:59.270Z"
   },
   {
    "duration": 2610,
    "start_time": "2023-11-13T12:17:59.667Z"
   },
   {
    "duration": 4,
    "start_time": "2023-11-13T12:18:46.394Z"
   },
   {
    "duration": 17,
    "start_time": "2023-11-13T12:18:47.096Z"
   },
   {
    "duration": 3,
    "start_time": "2023-11-13T12:18:47.458Z"
   },
   {
    "duration": 4,
    "start_time": "2023-11-13T12:18:47.739Z"
   },
   {
    "duration": 2686,
    "start_time": "2023-11-13T12:18:48.088Z"
   },
   {
    "duration": 3,
    "start_time": "2023-11-13T12:18:50.775Z"
   },
   {
    "duration": 8,
    "start_time": "2023-11-13T12:18:50.779Z"
   },
   {
    "duration": 24,
    "start_time": "2023-11-13T12:18:50.789Z"
   },
   {
    "duration": 4,
    "start_time": "2023-11-13T12:18:50.814Z"
   },
   {
    "duration": 3,
    "start_time": "2023-11-13T12:19:25.796Z"
   },
   {
    "duration": 6171,
    "start_time": "2023-11-14T05:18:01.306Z"
   },
   {
    "duration": 753,
    "start_time": "2023-11-14T05:18:07.479Z"
   },
   {
    "duration": 17,
    "start_time": "2023-11-14T05:18:08.233Z"
   },
   {
    "duration": 17,
    "start_time": "2023-11-14T05:18:08.251Z"
   },
   {
    "duration": 15,
    "start_time": "2023-11-14T05:18:08.270Z"
   },
   {
    "duration": 20,
    "start_time": "2023-11-14T05:18:08.287Z"
   },
   {
    "duration": 29,
    "start_time": "2023-11-14T05:18:08.308Z"
   },
   {
    "duration": 10,
    "start_time": "2023-11-14T05:18:08.338Z"
   },
   {
    "duration": 143,
    "start_time": "2023-11-14T05:18:08.350Z"
   },
   {
    "duration": 14,
    "start_time": "2023-11-14T05:18:08.495Z"
   },
   {
    "duration": 14,
    "start_time": "2023-11-14T05:18:08.511Z"
   },
   {
    "duration": 97,
    "start_time": "2023-11-14T05:18:08.526Z"
   },
   {
    "duration": 50,
    "start_time": "2023-11-14T05:18:08.624Z"
   },
   {
    "duration": 9,
    "start_time": "2023-11-14T05:18:08.677Z"
   },
   {
    "duration": 24,
    "start_time": "2023-11-14T05:18:08.688Z"
   },
   {
    "duration": 76,
    "start_time": "2023-11-14T05:18:08.713Z"
   },
   {
    "duration": 82,
    "start_time": "2023-11-14T05:18:08.790Z"
   },
   {
    "duration": 98,
    "start_time": "2023-11-14T05:18:08.874Z"
   },
   {
    "duration": 14,
    "start_time": "2023-11-14T05:18:08.974Z"
   },
   {
    "duration": 3,
    "start_time": "2023-11-14T05:18:09.066Z"
   },
   {
    "duration": 6,
    "start_time": "2023-11-14T05:18:09.071Z"
   },
   {
    "duration": 4,
    "start_time": "2023-11-14T05:18:09.078Z"
   },
   {
    "duration": 92,
    "start_time": "2023-11-14T05:18:09.083Z"
   },
   {
    "duration": 3,
    "start_time": "2023-11-14T05:18:09.177Z"
   },
   {
    "duration": 180,
    "start_time": "2023-11-14T05:18:09.182Z"
   },
   {
    "duration": 4,
    "start_time": "2023-11-14T05:18:09.365Z"
   },
   {
    "duration": 27,
    "start_time": "2023-11-14T05:18:09.371Z"
   },
   {
    "duration": 5,
    "start_time": "2023-11-14T05:18:09.399Z"
   },
   {
    "duration": 3,
    "start_time": "2023-11-14T05:18:15.671Z"
   },
   {
    "duration": 5,
    "start_time": "2023-11-14T05:18:31.204Z"
   },
   {
    "duration": 9,
    "start_time": "2023-11-14T05:18:33.618Z"
   },
   {
    "duration": 6,
    "start_time": "2023-11-14T05:18:46.992Z"
   },
   {
    "duration": 2,
    "start_time": "2023-11-14T05:18:49.304Z"
   },
   {
    "duration": 6,
    "start_time": "2023-11-14T05:19:01.524Z"
   },
   {
    "duration": 47,
    "start_time": "2023-11-14T08:14:41.379Z"
   },
   {
    "duration": 246,
    "start_time": "2023-11-14T08:14:41.736Z"
   },
   {
    "duration": 0,
    "start_time": "2023-11-14T08:14:41.984Z"
   },
   {
    "duration": 1744,
    "start_time": "2023-11-14T08:15:11.302Z"
   },
   {
    "duration": 1632,
    "start_time": "2023-11-14T08:15:13.048Z"
   },
   {
    "duration": 18,
    "start_time": "2023-11-14T08:15:14.682Z"
   },
   {
    "duration": 94,
    "start_time": "2023-11-14T08:15:14.702Z"
   },
   {
    "duration": 70,
    "start_time": "2023-11-14T08:15:14.798Z"
   },
   {
    "duration": 13,
    "start_time": "2023-11-14T08:15:14.870Z"
   },
   {
    "duration": 17,
    "start_time": "2023-11-14T08:15:14.884Z"
   },
   {
    "duration": 9,
    "start_time": "2023-11-14T08:15:14.902Z"
   },
   {
    "duration": 145,
    "start_time": "2023-11-14T08:15:18.318Z"
   },
   {
    "duration": 18,
    "start_time": "2023-11-14T08:15:18.927Z"
   },
   {
    "duration": 15,
    "start_time": "2023-11-14T08:15:19.122Z"
   },
   {
    "duration": 83,
    "start_time": "2023-11-14T08:15:19.311Z"
   },
   {
    "duration": 26,
    "start_time": "2023-11-14T08:15:19.490Z"
   },
   {
    "duration": 7,
    "start_time": "2023-11-14T08:15:20.303Z"
   },
   {
    "duration": 4,
    "start_time": "2023-11-14T08:15:20.499Z"
   },
   {
    "duration": 57,
    "start_time": "2023-11-14T08:15:20.705Z"
   },
   {
    "duration": 57,
    "start_time": "2023-11-14T08:15:20.887Z"
   },
   {
    "duration": 54,
    "start_time": "2023-11-14T08:15:21.091Z"
   },
   {
    "duration": 14,
    "start_time": "2023-11-14T08:15:21.336Z"
   },
   {
    "duration": 3,
    "start_time": "2023-11-14T08:15:22.767Z"
   },
   {
    "duration": 3,
    "start_time": "2023-11-14T08:15:22.961Z"
   },
   {
    "duration": 3,
    "start_time": "2023-11-14T08:15:23.176Z"
   },
   {
    "duration": 6,
    "start_time": "2023-11-14T08:15:23.421Z"
   },
   {
    "duration": 3,
    "start_time": "2023-11-14T08:15:23.662Z"
   },
   {
    "duration": 157,
    "start_time": "2023-11-14T08:15:24.126Z"
   },
   {
    "duration": 4,
    "start_time": "2023-11-14T08:15:25.154Z"
   },
   {
    "duration": 19,
    "start_time": "2023-11-14T08:15:25.540Z"
   },
   {
    "duration": 4,
    "start_time": "2023-11-14T08:15:25.749Z"
   },
   {
    "duration": 4,
    "start_time": "2023-11-14T08:15:26.004Z"
   },
   {
    "duration": 84,
    "start_time": "2023-11-14T08:15:26.612Z"
   },
   {
    "duration": 4,
    "start_time": "2023-11-14T08:15:31.769Z"
   },
   {
    "duration": 4,
    "start_time": "2023-11-14T08:15:32.256Z"
   },
   {
    "duration": 9,
    "start_time": "2023-11-14T08:15:32.784Z"
   },
   {
    "duration": 9,
    "start_time": "2023-11-14T08:15:33.522Z"
   },
   {
    "duration": 4,
    "start_time": "2023-11-14T08:18:03.517Z"
   },
   {
    "duration": 9,
    "start_time": "2023-11-14T08:18:04.166Z"
   },
   {
    "duration": 15,
    "start_time": "2023-11-14T08:18:14.359Z"
   },
   {
    "duration": 5,
    "start_time": "2023-11-14T08:19:02.978Z"
   },
   {
    "duration": 18,
    "start_time": "2023-11-14T08:19:03.474Z"
   },
   {
    "duration": 4,
    "start_time": "2023-11-14T08:19:29.970Z"
   },
   {
    "duration": 22,
    "start_time": "2023-11-14T08:19:30.304Z"
   },
   {
    "duration": 4,
    "start_time": "2023-11-14T08:20:10.898Z"
   },
   {
    "duration": 23,
    "start_time": "2023-11-14T08:20:11.231Z"
   },
   {
    "duration": 9,
    "start_time": "2023-11-14T08:20:36.777Z"
   },
   {
    "duration": 4,
    "start_time": "2023-11-14T08:20:40.611Z"
   },
   {
    "duration": 2970,
    "start_time": "2023-11-14T08:20:40.966Z"
   },
   {
    "duration": 7,
    "start_time": "2023-11-14T08:23:06.133Z"
   },
   {
    "duration": 24,
    "start_time": "2023-11-14T08:23:06.685Z"
   },
   {
    "duration": 5,
    "start_time": "2023-11-14T08:23:32.735Z"
   },
   {
    "duration": 3171,
    "start_time": "2023-11-14T08:23:33.087Z"
   },
   {
    "duration": 14,
    "start_time": "2023-11-14T08:23:42.386Z"
   },
   {
    "duration": 5,
    "start_time": "2023-11-14T08:23:44.116Z"
   },
   {
    "duration": 15,
    "start_time": "2023-11-14T08:23:44.455Z"
   },
   {
    "duration": 3020,
    "start_time": "2023-11-14T08:23:52.977Z"
   },
   {
    "duration": 4,
    "start_time": "2023-11-14T08:24:27.869Z"
   },
   {
    "duration": 3039,
    "start_time": "2023-11-14T08:24:28.253Z"
   },
   {
    "duration": 3,
    "start_time": "2023-11-14T08:24:31.294Z"
   },
   {
    "duration": 32,
    "start_time": "2023-11-14T08:24:31.298Z"
   },
   {
    "duration": 47,
    "start_time": "2023-11-14T08:24:31.332Z"
   },
   {
    "duration": 4,
    "start_time": "2023-11-14T08:24:31.452Z"
   },
   {
    "duration": 18,
    "start_time": "2023-11-14T08:24:55.535Z"
   },
   {
    "duration": 13,
    "start_time": "2023-11-14T08:25:24.087Z"
   },
   {
    "duration": 4,
    "start_time": "2023-11-14T08:25:26.106Z"
   },
   {
    "duration": 2722,
    "start_time": "2023-11-14T08:25:26.374Z"
   },
   {
    "duration": 3,
    "start_time": "2023-11-14T08:25:29.098Z"
   },
   {
    "duration": 5,
    "start_time": "2023-11-14T08:25:29.102Z"
   },
   {
    "duration": 28,
    "start_time": "2023-11-14T08:25:29.155Z"
   },
   {
    "duration": 4,
    "start_time": "2023-11-14T08:25:29.569Z"
   },
   {
    "duration": 19,
    "start_time": "2023-11-14T08:30:17.488Z"
   },
   {
    "duration": 4,
    "start_time": "2023-11-14T08:30:17.749Z"
   },
   {
    "duration": 5,
    "start_time": "2023-11-14T08:30:18.138Z"
   },
   {
    "duration": 14,
    "start_time": "2023-11-14T08:30:18.552Z"
   },
   {
    "duration": 5,
    "start_time": "2023-11-14T08:31:34.732Z"
   },
   {
    "duration": 4187,
    "start_time": "2023-11-14T08:31:35.061Z"
   },
   {
    "duration": 4,
    "start_time": "2023-11-14T08:31:39.250Z"
   },
   {
    "duration": 7,
    "start_time": "2023-11-14T08:31:39.255Z"
   },
   {
    "duration": 37,
    "start_time": "2023-11-14T08:31:39.264Z"
   },
   {
    "duration": 5,
    "start_time": "2023-11-14T08:31:39.303Z"
   },
   {
    "duration": 4,
    "start_time": "2023-11-14T08:32:38.543Z"
   },
   {
    "duration": 3865,
    "start_time": "2023-11-14T08:32:38.820Z"
   },
   {
    "duration": 3,
    "start_time": "2023-11-14T08:32:42.688Z"
   },
   {
    "duration": 24,
    "start_time": "2023-11-14T08:32:42.693Z"
   },
   {
    "duration": 32,
    "start_time": "2023-11-14T08:32:42.720Z"
   },
   {
    "duration": 5,
    "start_time": "2023-11-14T08:32:42.753Z"
   },
   {
    "duration": 5,
    "start_time": "2023-11-14T08:41:27.652Z"
   },
   {
    "duration": 6,
    "start_time": "2023-11-14T08:49:10.109Z"
   },
   {
    "duration": 16,
    "start_time": "2023-11-14T08:49:10.689Z"
   },
   {
    "duration": 5,
    "start_time": "2023-11-14T08:49:33.459Z"
   },
   {
    "duration": 14,
    "start_time": "2023-11-14T08:49:33.684Z"
   },
   {
    "duration": 6,
    "start_time": "2023-11-14T08:50:21.331Z"
   },
   {
    "duration": 4362,
    "start_time": "2023-11-14T08:50:21.552Z"
   },
   {
    "duration": 1620,
    "start_time": "2023-11-14T08:51:15.209Z"
   },
   {
    "duration": 1556,
    "start_time": "2023-11-14T08:51:16.836Z"
   },
   {
    "duration": 1620,
    "start_time": "2023-11-14T08:51:18.394Z"
   },
   {
    "duration": 3,
    "start_time": "2023-11-14T08:55:52.174Z"
   },
   {
    "duration": 448,
    "start_time": "2023-11-14T08:55:52.745Z"
   },
   {
    "duration": 17,
    "start_time": "2023-11-14T08:55:53.195Z"
   },
   {
    "duration": 11,
    "start_time": "2023-11-14T08:55:53.214Z"
   },
   {
    "duration": 18,
    "start_time": "2023-11-14T08:55:53.388Z"
   },
   {
    "duration": 10,
    "start_time": "2023-11-14T08:55:53.590Z"
   },
   {
    "duration": 16,
    "start_time": "2023-11-14T08:55:53.800Z"
   },
   {
    "duration": 10,
    "start_time": "2023-11-14T08:55:54.424Z"
   },
   {
    "duration": 136,
    "start_time": "2023-11-14T08:55:54.645Z"
   },
   {
    "duration": 12,
    "start_time": "2023-11-14T08:55:55.080Z"
   },
   {
    "duration": 13,
    "start_time": "2023-11-14T08:55:55.269Z"
   },
   {
    "duration": 82,
    "start_time": "2023-11-14T08:55:55.434Z"
   },
   {
    "duration": 26,
    "start_time": "2023-11-14T08:55:55.616Z"
   },
   {
    "duration": 7,
    "start_time": "2023-11-14T08:55:56.368Z"
   },
   {
    "duration": 5,
    "start_time": "2023-11-14T08:55:56.537Z"
   },
   {
    "duration": 58,
    "start_time": "2023-11-14T08:55:56.710Z"
   },
   {
    "duration": 76,
    "start_time": "2023-11-14T08:55:57.463Z"
   },
   {
    "duration": 15,
    "start_time": "2023-11-14T08:55:57.651Z"
   },
   {
    "duration": 17,
    "start_time": "2023-11-14T08:55:57.842Z"
   },
   {
    "duration": 3,
    "start_time": "2023-11-14T08:55:58.784Z"
   },
   {
    "duration": 5,
    "start_time": "2023-11-14T08:55:58.984Z"
   },
   {
    "duration": 2,
    "start_time": "2023-11-14T08:55:59.170Z"
   },
   {
    "duration": 7,
    "start_time": "2023-11-14T08:55:59.404Z"
   },
   {
    "duration": 4,
    "start_time": "2023-11-14T08:55:59.590Z"
   },
   {
    "duration": 167,
    "start_time": "2023-11-14T08:56:00.003Z"
   },
   {
    "duration": 5,
    "start_time": "2023-11-14T08:56:01.228Z"
   },
   {
    "duration": 19,
    "start_time": "2023-11-14T08:56:02.038Z"
   },
   {
    "duration": 232,
    "start_time": "2023-11-14T08:56:02.271Z"
   },
   {
    "duration": 6,
    "start_time": "2023-11-14T08:56:02.650Z"
   },
   {
    "duration": 1556,
    "start_time": "2023-11-14T08:56:03.207Z"
   },
   {
    "duration": 1447,
    "start_time": "2023-11-14T08:56:04.765Z"
   },
   {
    "duration": 1429,
    "start_time": "2023-11-14T08:56:06.213Z"
   },
   {
    "duration": 5,
    "start_time": "2023-11-14T08:56:36.659Z"
   },
   {
    "duration": 1429,
    "start_time": "2023-11-14T08:56:37.328Z"
   },
   {
    "duration": 1443,
    "start_time": "2023-11-14T08:56:38.759Z"
   },
   {
    "duration": 1497,
    "start_time": "2023-11-14T08:56:40.203Z"
   },
   {
    "duration": 5,
    "start_time": "2023-11-14T08:57:26.671Z"
   },
   {
    "duration": 1427,
    "start_time": "2023-11-14T08:57:29.362Z"
   },
   {
    "duration": 1450,
    "start_time": "2023-11-14T08:57:30.791Z"
   },
   {
    "duration": 1466,
    "start_time": "2023-11-14T08:57:32.243Z"
   },
   {
    "duration": 6,
    "start_time": "2023-11-14T08:58:33.784Z"
   },
   {
    "duration": 11,
    "start_time": "2023-11-14T08:58:34.560Z"
   },
   {
    "duration": 9,
    "start_time": "2023-11-14T08:58:34.920Z"
   },
   {
    "duration": 5,
    "start_time": "2023-11-14T08:59:16.136Z"
   },
   {
    "duration": 9,
    "start_time": "2023-11-14T08:59:16.824Z"
   },
   {
    "duration": 9,
    "start_time": "2023-11-14T08:59:17.176Z"
   },
   {
    "duration": 5,
    "start_time": "2023-11-14T08:59:53.307Z"
   },
   {
    "duration": 15,
    "start_time": "2023-11-14T08:59:53.946Z"
   },
   {
    "duration": 15,
    "start_time": "2023-11-14T08:59:54.508Z"
   },
   {
    "duration": 6,
    "start_time": "2023-11-14T09:04:51.389Z"
   },
   {
    "duration": 15,
    "start_time": "2023-11-14T09:04:54.416Z"
   },
   {
    "duration": 8,
    "start_time": "2023-11-14T09:05:30.559Z"
   },
   {
    "duration": 16,
    "start_time": "2023-11-14T09:05:32.227Z"
   },
   {
    "duration": 3,
    "start_time": "2023-11-14T09:06:46.804Z"
   },
   {
    "duration": 4,
    "start_time": "2023-11-14T09:06:46.974Z"
   },
   {
    "duration": 3,
    "start_time": "2023-11-14T09:06:47.213Z"
   },
   {
    "duration": 8,
    "start_time": "2023-11-14T09:06:47.403Z"
   },
   {
    "duration": 4,
    "start_time": "2023-11-14T09:06:47.783Z"
   },
   {
    "duration": 162,
    "start_time": "2023-11-14T09:06:48.446Z"
   },
   {
    "duration": 3,
    "start_time": "2023-11-14T09:06:49.728Z"
   },
   {
    "duration": 17,
    "start_time": "2023-11-14T09:06:50.153Z"
   },
   {
    "duration": 4,
    "start_time": "2023-11-14T09:06:50.472Z"
   },
   {
    "duration": 5,
    "start_time": "2023-11-14T09:06:50.707Z"
   },
   {
    "duration": 14,
    "start_time": "2023-11-14T09:06:52.210Z"
   },
   {
    "duration": 15,
    "start_time": "2023-11-14T09:06:54.371Z"
   },
   {
    "duration": 4,
    "start_time": "2023-11-14T09:08:01.649Z"
   },
   {
    "duration": 19,
    "start_time": "2023-11-14T09:08:02.572Z"
   },
   {
    "duration": 4,
    "start_time": "2023-11-14T09:08:02.751Z"
   },
   {
    "duration": 5,
    "start_time": "2023-11-14T09:08:02.928Z"
   },
   {
    "duration": 15,
    "start_time": "2023-11-14T09:08:03.478Z"
   },
   {
    "duration": 4,
    "start_time": "2023-11-14T09:08:12.160Z"
   },
   {
    "duration": 19,
    "start_time": "2023-11-14T09:08:12.552Z"
   },
   {
    "duration": 3,
    "start_time": "2023-11-14T09:08:12.748Z"
   },
   {
    "duration": 6,
    "start_time": "2023-11-14T09:08:12.947Z"
   },
   {
    "duration": 14,
    "start_time": "2023-11-14T09:08:13.548Z"
   },
   {
    "duration": 4,
    "start_time": "2023-11-14T09:09:48.397Z"
   },
   {
    "duration": 21,
    "start_time": "2023-11-14T09:09:48.783Z"
   },
   {
    "duration": 4,
    "start_time": "2023-11-14T09:09:48.992Z"
   },
   {
    "duration": 7,
    "start_time": "2023-11-14T09:09:49.191Z"
   },
   {
    "duration": 17,
    "start_time": "2023-11-14T09:09:50.068Z"
   },
   {
    "duration": 13,
    "start_time": "2023-11-14T09:09:50.735Z"
   },
   {
    "duration": 15,
    "start_time": "2023-11-14T09:09:51.123Z"
   },
   {
    "duration": 8,
    "start_time": "2023-11-14T09:12:11.001Z"
   },
   {
    "duration": 1548,
    "start_time": "2023-11-14T09:12:11.620Z"
   },
   {
    "duration": 1475,
    "start_time": "2023-11-14T09:12:13.171Z"
   },
   {
    "duration": 1501,
    "start_time": "2023-11-14T09:12:14.647Z"
   },
   {
    "duration": 5,
    "start_time": "2023-11-14T09:14:23.274Z"
   },
   {
    "duration": 16,
    "start_time": "2023-11-14T09:14:27.424Z"
   },
   {
    "duration": 8,
    "start_time": "2023-11-14T09:20:29.465Z"
   },
   {
    "duration": 5,
    "start_time": "2023-11-14T09:20:32.035Z"
   },
   {
    "duration": 4,
    "start_time": "2023-11-14T09:20:32.480Z"
   },
   {
    "duration": 25,
    "start_time": "2023-11-14T09:20:32.683Z"
   },
   {
    "duration": 4,
    "start_time": "2023-11-14T09:20:32.917Z"
   },
   {
    "duration": 8,
    "start_time": "2023-11-14T09:20:33.524Z"
   },
   {
    "duration": 23,
    "start_time": "2023-11-14T09:20:34.457Z"
   },
   {
    "duration": 4,
    "start_time": "2023-11-14T09:21:40.152Z"
   },
   {
    "duration": 19,
    "start_time": "2023-11-14T09:21:40.536Z"
   },
   {
    "duration": 4,
    "start_time": "2023-11-14T09:21:40.773Z"
   },
   {
    "duration": 6,
    "start_time": "2023-11-14T09:21:40.973Z"
   },
   {
    "duration": 1207,
    "start_time": "2023-11-14T09:21:41.835Z"
   },
   {
    "duration": 1082,
    "start_time": "2023-11-14T09:21:43.044Z"
   },
   {
    "duration": 1053,
    "start_time": "2023-11-14T09:21:44.128Z"
   },
   {
    "duration": 6,
    "start_time": "2023-11-14T09:23:02.674Z"
   },
   {
    "duration": 1088,
    "start_time": "2023-11-14T09:23:03.356Z"
   },
   {
    "duration": 1031,
    "start_time": "2023-11-14T09:23:04.446Z"
   },
   {
    "duration": 1012,
    "start_time": "2023-11-14T09:23:05.479Z"
   },
   {
    "duration": 5,
    "start_time": "2023-11-14T09:23:16.765Z"
   },
   {
    "duration": 1107,
    "start_time": "2023-11-14T09:23:16.821Z"
   },
   {
    "duration": 1099,
    "start_time": "2023-11-14T09:23:17.930Z"
   },
   {
    "duration": 1087,
    "start_time": "2023-11-14T09:23:19.030Z"
   },
   {
    "duration": 3,
    "start_time": "2023-11-14T09:23:53.910Z"
   },
   {
    "duration": 19,
    "start_time": "2023-11-14T09:23:54.473Z"
   },
   {
    "duration": 4,
    "start_time": "2023-11-14T09:23:54.815Z"
   },
   {
    "duration": 5,
    "start_time": "2023-11-14T09:23:55.180Z"
   },
   {
    "duration": 990,
    "start_time": "2023-11-14T09:23:55.859Z"
   },
   {
    "duration": 1039,
    "start_time": "2023-11-14T09:23:56.936Z"
   },
   {
    "duration": 1042,
    "start_time": "2023-11-14T09:23:57.977Z"
   },
   {
    "duration": 4,
    "start_time": "2023-11-14T09:27:30.890Z"
   },
   {
    "duration": 452,
    "start_time": "2023-11-14T09:27:31.455Z"
   },
   {
    "duration": 17,
    "start_time": "2023-11-14T09:27:31.910Z"
   },
   {
    "duration": 118,
    "start_time": "2023-11-14T09:27:31.935Z"
   },
   {
    "duration": 41,
    "start_time": "2023-11-14T09:27:32.513Z"
   },
   {
    "duration": 55,
    "start_time": "2023-11-14T09:27:32.713Z"
   },
   {
    "duration": 17,
    "start_time": "2023-11-14T09:27:33.021Z"
   },
   {
    "duration": 11,
    "start_time": "2023-11-14T09:27:33.205Z"
   },
   {
    "duration": 164,
    "start_time": "2023-11-14T09:27:33.436Z"
   },
   {
    "duration": 17,
    "start_time": "2023-11-14T09:27:34.039Z"
   },
   {
    "duration": 14,
    "start_time": "2023-11-14T09:27:34.279Z"
   },
   {
    "duration": 85,
    "start_time": "2023-11-14T09:27:34.492Z"
   },
   {
    "duration": 28,
    "start_time": "2023-11-14T09:27:34.689Z"
   },
   {
    "duration": 8,
    "start_time": "2023-11-14T09:27:35.726Z"
   },
   {
    "duration": 5,
    "start_time": "2023-11-14T09:27:35.912Z"
   },
   {
    "duration": 45,
    "start_time": "2023-11-14T09:27:36.151Z"
   },
   {
    "duration": 13,
    "start_time": "2023-11-14T09:27:36.604Z"
   },
   {
    "duration": 13,
    "start_time": "2023-11-14T09:27:37.108Z"
   },
   {
    "duration": 11,
    "start_time": "2023-11-14T09:27:37.486Z"
   },
   {
    "duration": 3,
    "start_time": "2023-11-14T09:27:39.152Z"
   },
   {
    "duration": 3,
    "start_time": "2023-11-14T09:27:39.549Z"
   },
   {
    "duration": 2,
    "start_time": "2023-11-14T09:27:40.108Z"
   },
   {
    "duration": 6,
    "start_time": "2023-11-14T09:27:40.515Z"
   },
   {
    "duration": 4,
    "start_time": "2023-11-14T09:27:41.163Z"
   },
   {
    "duration": 184,
    "start_time": "2023-11-14T09:27:42.979Z"
   },
   {
    "duration": 4,
    "start_time": "2023-11-14T09:27:44.248Z"
   },
   {
    "duration": 18,
    "start_time": "2023-11-14T09:27:44.668Z"
   },
   {
    "duration": 4,
    "start_time": "2023-11-14T09:27:45.134Z"
   },
   {
    "duration": 3,
    "start_time": "2023-11-14T09:27:45.361Z"
   },
   {
    "duration": 4,
    "start_time": "2023-11-14T09:27:45.777Z"
   },
   {
    "duration": 1076,
    "start_time": "2023-11-14T09:27:46.727Z"
   },
   {
    "duration": 1044,
    "start_time": "2023-11-14T09:27:47.805Z"
   },
   {
    "duration": 1079,
    "start_time": "2023-11-14T09:27:48.851Z"
   }
  ],
  "kernelspec": {
   "display_name": "Python 3 (ipykernel)",
   "language": "python",
   "name": "python3"
  },
  "language_info": {
   "codemirror_mode": {
    "name": "ipython",
    "version": 3
   },
   "file_extension": ".py",
   "mimetype": "text/x-python",
   "name": "python",
   "nbconvert_exporter": "python",
   "pygments_lexer": "ipython3",
   "version": "3.9.5"
  },
  "toc": {
   "base_numbering": 1,
   "nav_menu": {},
   "number_sections": true,
   "sideBar": true,
   "skip_h1_title": true,
   "title_cell": "Table of Contents",
   "title_sidebar": "Contents",
   "toc_cell": false,
   "toc_position": {},
   "toc_section_display": true,
   "toc_window_display": false
  }
 },
 "nbformat": 4,
 "nbformat_minor": 2
}
