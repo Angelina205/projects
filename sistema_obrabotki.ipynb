{
 "cells": [
  {
   "cell_type": "markdown",
   "id": "GEqQaHzsZ_bA",
   "metadata": {
    "id": "GEqQaHzsZ_bA"
   },
   "source": [
    "## Предсказание стоимости жилья\n",
    "\n",
    "В проекте вам нужно обучить модель линейной регрессии на данных о жилье в Калифорнии в 1990 году. На основе данных нужно предсказать медианную стоимость дома в жилом массиве. Обучите модель и сделайте предсказания на тестовой выборке. Для оценки качества модели используйте метрики RMSE, MAE и R2."
   ]
  },
  {
   "cell_type": "markdown",
   "id": "685a7c24",
   "metadata": {},
   "source": [
    "Когорта ds_plus 27, Ангелина, ЖЕСТКИЙ ДЕДЛАЙН: 15 февраля."
   ]
  },
  {
   "cell_type": "markdown",
   "id": "c8c2803f",
   "metadata": {},
   "source": [
    "В колонках датасета содержатся следующие данные:\n",
    "\n",
    "• longitude — широта;\n",
    "\n",
    "• latitude — долгота;\n",
    "\n",
    "• housing_median_age — медианный возраст жителей жилого массива;\n",
    "\n",
    "• total_rooms — общее количество комнат в домах жилого массива;\n",
    "\n",
    "• total_bedrooms — общее количество спален в домах жилого массива;\n",
    "\n",
    "• population — количество человек, которые проживают в жилом массиве;\n",
    "\n",
    "• households — количество домовладений в жилом массиве;\n",
    "\n",
    "• median_income — медианный доход жителей жилого массива;\n",
    "\n",
    "• median_house_value — медианная стоимость дома в жилом массиве;\n",
    "\n",
    "• ocean_proximity — близость к океану."
   ]
  },
  {
   "cell_type": "markdown",
   "id": "53871372",
   "metadata": {
    "id": "53871372"
   },
   "source": [
    "# Подготовка данных"
   ]
  },
  {
   "cell_type": "code",
   "execution_count": 1,
   "id": "df92e3ec",
   "metadata": {
    "id": "df92e3ec"
   },
   "outputs": [],
   "source": [
    "import pyspark\n",
    "from pyspark.sql import SparkSession\n",
    "from pyspark.sql import functions as F\n",
    "\n",
    "from pyspark.ml import Pipeline\n",
    "from pyspark.ml.evaluation import RegressionEvaluator\n",
    "from pyspark.ml.feature import OneHotEncoder, StringIndexer, VectorAssembler, StandardScaler\n",
    "from pyspark.ml.regression import LinearRegression"
   ]
  },
  {
   "cell_type": "markdown",
   "id": "aab10ba8",
   "metadata": {},
   "source": [
    "1. Инициализируйте локальную Spark-сессию."
   ]
  },
  {
   "cell_type": "code",
   "execution_count": 2,
   "id": "76f49d39",
   "metadata": {},
   "outputs": [],
   "source": [
    "spark = SparkSession.builder \\\n",
    "    .appName('HousingPrediction') \\\n",
    "    .getOrCreate()"
   ]
  },
  {
   "cell_type": "markdown",
   "id": "4de8a900",
   "metadata": {},
   "source": [
    "2. Прочитайте содержимое файла /datasets/housing.csv."
   ]
  },
  {
   "cell_type": "code",
   "execution_count": 3,
   "id": "9f246bec",
   "metadata": {},
   "outputs": [
    {
     "name": "stderr",
     "output_type": "stream",
     "text": [
      "                                                                                \r"
     ]
    }
   ],
   "source": [
    "file_path = '/datasets/housing.csv'\n",
    "df_housing = spark.read.csv(file_path, header=True, inferSchema=True)"
   ]
  },
  {
   "cell_type": "markdown",
   "id": "f41bb7a9",
   "metadata": {},
   "source": [
    "3. Выведите типы данных колонок датасета. Используйте методы pySpark."
   ]
  },
  {
   "cell_type": "code",
   "execution_count": 4,
   "id": "8e582ab4",
   "metadata": {
    "scrolled": true
   },
   "outputs": [
    {
     "name": "stdout",
     "output_type": "stream",
     "text": [
      "root\n",
      " |-- longitude: double (nullable = true)\n",
      " |-- latitude: double (nullable = true)\n",
      " |-- housing_median_age: double (nullable = true)\n",
      " |-- total_rooms: double (nullable = true)\n",
      " |-- total_bedrooms: double (nullable = true)\n",
      " |-- population: double (nullable = true)\n",
      " |-- households: double (nullable = true)\n",
      " |-- median_income: double (nullable = true)\n",
      " |-- median_house_value: double (nullable = true)\n",
      " |-- ocean_proximity: string (nullable = true)\n",
      "\n"
     ]
    }
   ],
   "source": [
    "df_housing.printSchema()"
   ]
  },
  {
   "cell_type": "markdown",
   "id": "0dd04002",
   "metadata": {},
   "source": [
    "double — тип данных для колонок, содержащих вещественные числа;\n",
    "string — тип данных для колонок, содержащих текстовые строки."
   ]
  },
  {
   "cell_type": "markdown",
   "id": "566422ff",
   "metadata": {},
   "source": [
    "4. Выполните предобработку данных:"
   ]
  },
  {
   "cell_type": "code",
   "execution_count": 5,
   "id": "35e387c8",
   "metadata": {},
   "outputs": [
    {
     "name": "stdout",
     "output_type": "stream",
     "text": [
      "Имеются следующие пропуски в данных:\n",
      "longitude: 0\n",
      "latitude: 0\n",
      "housing_median_age: 0\n",
      "total_rooms: 0\n",
      "total_bedrooms: 207\n",
      "population: 0\n",
      "households: 0\n",
      "median_income: 0\n",
      "median_house_value: 0\n",
      "ocean_proximity: 0\n"
     ]
    }
   ],
   "source": [
    "missing_values = {col: df_housing.filter(F.col(col).isNull()).count() for col in df_housing.columns}\n",
    "print('Имеются следующие пропуски в данных:')\n",
    "for col, count in missing_values.items():\n",
    "    print(f'{col}: {count}')"
   ]
  },
  {
   "cell_type": "code",
   "execution_count": 6,
   "id": "2428c6ff",
   "metadata": {},
   "outputs": [],
   "source": [
    "mean_total_bedrooms = df_housing.agg(F.mean('total_bedrooms')).collect()[0][0]\n",
    "df_housing = df_housing.na.fill(mean_total_bedrooms, subset=['total_bedrooms'])"
   ]
  },
  {
   "cell_type": "code",
   "execution_count": 7,
   "id": "c08bae37",
   "metadata": {},
   "outputs": [
    {
     "name": "stdout",
     "output_type": "stream",
     "text": [
      "Имеются следующие пропуски в данных:\n",
      "longitude: 0\n",
      "latitude: 0\n",
      "housing_median_age: 0\n",
      "total_rooms: 0\n",
      "total_bedrooms: 0\n",
      "population: 0\n",
      "households: 0\n",
      "median_income: 0\n",
      "median_house_value: 0\n",
      "ocean_proximity: 0\n"
     ]
    }
   ],
   "source": [
    "missing_values = {col: df_housing.filter(F.col(col).isNull()).count() for col in df_housing.columns}\n",
    "print('Имеются следующие пропуски в данных:')\n",
    "for col, count in missing_values.items():\n",
    "    print(f'{col}: {count}')"
   ]
  },
  {
   "cell_type": "markdown",
   "id": "54326cf2",
   "metadata": {},
   "source": [
    "Заполняем пропуски средним значением.После преобразований пропусков не осталось."
   ]
  },
  {
   "cell_type": "markdown",
   "id": "ad4f6357",
   "metadata": {},
   "source": [
    "Преобразуйте колонку с категориальными значениями техникой One hot encoding."
   ]
  },
  {
   "cell_type": "code",
   "execution_count": 8,
   "id": "cc73731d",
   "metadata": {},
   "outputs": [],
   "source": [
    "indexer = StringIndexer(inputCol='ocean_proximity', outputCol='ocean_proximity_index')\n",
    "encoder = OneHotEncoder(inputCol='ocean_proximity_index', outputCol='ocean_proximity_encoded')"
   ]
  },
  {
   "cell_type": "markdown",
   "id": "9f0a82f3",
   "metadata": {
    "id": "9f0a82f3"
   },
   "source": [
    "# Обучение моделей"
   ]
  },
  {
   "cell_type": "markdown",
   "id": "927773dd",
   "metadata": {},
   "source": [
    "Подготовка для первой модели:"
   ]
  },
  {
   "cell_type": "code",
   "execution_count": 9,
   "id": "8a7c9bc6",
   "metadata": {},
   "outputs": [],
   "source": [
    "train_data, test_data = df_housing.randomSplit([0.8, 0.2], seed=42)"
   ]
  },
  {
   "cell_type": "code",
   "execution_count": 10,
   "id": "a2767ead",
   "metadata": {},
   "outputs": [],
   "source": [
    "numeric_and_encoded_cols = ['longitude', 'latitude', 'housing_median_age', 'total_rooms', 'total_bedrooms',\n",
    "                            'population', 'households', 'median_income', 'ocean_proximity_encoded']\n",
    "assembler = VectorAssembler(inputCols=numeric_and_encoded_cols, outputCol='features')"
   ]
  },
  {
   "cell_type": "code",
   "execution_count": 11,
   "id": "686e9e90",
   "metadata": {},
   "outputs": [],
   "source": [
    "lr_all_data = LinearRegression(featuresCol='features', labelCol='median_house_value')"
   ]
  },
  {
   "cell_type": "code",
   "execution_count": 12,
   "id": "bd85ccae",
   "metadata": {},
   "outputs": [],
   "source": [
    "pipeline_all_data = Pipeline(stages=[indexer, encoder, assembler, lr_all_data])"
   ]
  },
  {
   "cell_type": "code",
   "execution_count": 13,
   "id": "42696577",
   "metadata": {},
   "outputs": [
    {
     "name": "stderr",
     "output_type": "stream",
     "text": [
      "24/02/11 17:22:34 WARN Instrumentation: [a6b731bd] regParam is zero, which might cause numerical instability and overfitting.\n",
      "24/02/11 17:22:35 WARN BLAS: Failed to load implementation from: com.github.fommil.netlib.NativeSystemBLAS\n",
      "24/02/11 17:22:35 WARN BLAS: Failed to load implementation from: com.github.fommil.netlib.NativeRefBLAS\n",
      "24/02/11 17:22:36 WARN LAPACK: Failed to load implementation from: com.github.fommil.netlib.NativeSystemLAPACK\n",
      "24/02/11 17:22:36 WARN LAPACK: Failed to load implementation from: com.github.fommil.netlib.NativeRefLAPACK\n",
      "                                                                                \r"
     ]
    }
   ],
   "source": [
    "model_all_data = pipeline_all_data.fit(train_data)\n",
    "predictions_all_data = model_all_data.transform(test_data)"
   ]
  },
  {
   "cell_type": "code",
   "execution_count": 14,
   "id": "66ea48aa",
   "metadata": {},
   "outputs": [],
   "source": [
    "evaluator = RegressionEvaluator(labelCol='median_house_value', metricName='rmse')\n",
    "rmse_all_data = evaluator.evaluate(predictions_all_data)\n",
    "mae_all_data = evaluator.setMetricName('mae').evaluate(predictions_all_data)\n",
    "r2_all_data = evaluator.setMetricName('r2').evaluate(predictions_all_data)"
   ]
  },
  {
   "cell_type": "code",
   "execution_count": 15,
   "id": "b5763813",
   "metadata": {},
   "outputs": [
    {
     "name": "stdout",
     "output_type": "stream",
     "text": [
      "Результаты модели, использующей все данные:\n",
      "RMSE: 70781.23017920922\n",
      "MAE: 50855.05025358481\n",
      "R2: 0.6378987876472269\n"
     ]
    }
   ],
   "source": [
    "print('Результаты модели, использующей все данные:')\n",
    "print(f'RMSE: {rmse_all_data}')\n",
    "print(f'MAE: {mae_all_data}')\n",
    "print(f'R2: {r2_all_data}')"
   ]
  },
  {
   "cell_type": "markdown",
   "id": "ae5c9687",
   "metadata": {},
   "source": [
    "Подготовка для второй модели"
   ]
  },
  {
   "cell_type": "code",
   "execution_count": 16,
   "id": "4a59671e",
   "metadata": {},
   "outputs": [],
   "source": [
    "numeric_cols = ['longitude', 'latitude', 'housing_median_age', 'total_rooms', 'total_bedrooms',\n",
    "                'population', 'households', 'median_income']\n",
    "assembler_numeric_only = VectorAssembler(inputCols=numeric_cols, outputCol='features_numeric_only')\n",
    "lr_numeric_only = LinearRegression(featuresCol='features_numeric_only', labelCol='median_house_value')\n",
    "pipeline_numeric_only = Pipeline(stages=[assembler_numeric_only, lr_numeric_only])"
   ]
  },
  {
   "cell_type": "code",
   "execution_count": 17,
   "id": "dbdef681",
   "metadata": {},
   "outputs": [
    {
     "name": "stderr",
     "output_type": "stream",
     "text": [
      "24/02/11 17:22:40 WARN Instrumentation: [883f0aed] regParam is zero, which might cause numerical instability and overfitting.\n"
     ]
    }
   ],
   "source": [
    "model_numeric_only = pipeline_numeric_only.fit(train_data)\n",
    "predictions_numeric_only = model_numeric_only.transform(test_data)"
   ]
  },
  {
   "cell_type": "code",
   "execution_count": 18,
   "id": "dd464d42",
   "metadata": {},
   "outputs": [],
   "source": [
    "evaluator = RegressionEvaluator(labelCol='median_house_value', metricName='rmse')\n",
    "rmse_numeric_only = evaluator.evaluate(predictions_numeric_only)\n",
    "mae_numeric_only = evaluator.setMetricName('mae').evaluate(predictions_numeric_only)\n",
    "r2_numeric_only = evaluator.setMetricName('r2').evaluate(predictions_numeric_only)"
   ]
  },
  {
   "cell_type": "code",
   "execution_count": 19,
   "id": "41dce13f",
   "metadata": {},
   "outputs": [
    {
     "name": "stdout",
     "output_type": "stream",
     "text": [
      "Результаты модели, использующей только числовые переменные:\n",
      "RMSE: 71782.88243199226\n",
      "MAE: 51787.84444068335\n",
      "R2: 0.6275778072465257\n"
     ]
    }
   ],
   "source": [
    "print('Результаты модели, использующей только числовые переменные:')\n",
    "print(f'RMSE: {rmse_numeric_only}')\n",
    "print(f'MAE: {mae_numeric_only}')\n",
    "print(f'R2: {r2_numeric_only}')"
   ]
  },
  {
   "cell_type": "code",
   "execution_count": 20,
   "id": "06f48c31",
   "metadata": {},
   "outputs": [],
   "source": [
    "spark.stop()"
   ]
  },
  {
   "cell_type": "markdown",
   "id": "757fd103",
   "metadata": {
    "id": "757fd103"
   },
   "source": [
    "# Анализ результатов"
   ]
  },
  {
   "cell_type": "markdown",
   "id": "96bc03b1",
   "metadata": {},
   "source": [
    "Были проведены следующие действия:\n",
    "\n",
    "1. Инициализируйте локальную Spark-сессию.\n",
    "2. Прочитайте содержимое файла /datasets/housing.csv.\n",
    "3. Выведите типы данных колонок датасета. Используйте методы pySpark.\n",
    "4. Выполните предобработку данных:\n",
    "\n",
    "• Исследуйте данные на наличие пропусков и заполните их, выбрав значения по своему усмотрению.\n",
    "\n",
    "• Преобразуйте колонку с категориальными значениями техникой One hot encoding.\n",
    "\n",
    "5. Постройте две модели линейной регрессии на разных наборах данных:\n",
    "\n",
    "• Используя все данные из файла;\n",
    "\n",
    "• Используя только числовые переменные, исключив категориальные.\n",
    "\n",
    "\n",
    "Для построения модели используйте оценщик LinearRegression из библиотеки MLlib.\n",
    "\n",
    "6. Сравните результаты работы линейной регрессии на двух наборах данных по метрикам RMSE, MAE и R2. Сделайте выводы."
   ]
  },
  {
   "cell_type": "markdown",
   "id": "17e9da6a",
   "metadata": {},
   "source": [
    "Результаты модели, использующей все данные:\n",
    "\n",
    "• RMSE: 70781.23017920922\n",
    "\n",
    "• MAE: 50855.05025358481\n",
    "\n",
    "• R2: 0.6378987876472269\n",
    "\n",
    "Результаты модели, использующей только числовые переменные:\n",
    "\n",
    "• RMSE: 0.6275778072465257\n",
    "\n",
    "• MAE: 51787.84444068335\n",
    "\n",
    "• R2: 0.6275778072465257"
   ]
  },
  {
   "cell_type": "markdown",
   "id": "0adcbce1",
   "metadata": {},
   "source": [
    "Модель, использующая все данные, демонстрирует немного лучшие результаты по метрикам RMSE и MAE, а также немного более высокий коэффициент детерминации (R2) по сравнению с моделью, использующей только числовые переменные."
   ]
  },
  {
   "cell_type": "markdown",
   "id": "78aa604c",
   "metadata": {},
   "source": [
    "Можно подвести следующий вывод:\n",
    "\n",
    "1. При включении всех данных получается лучше учесть имеющуюся информацию в таблицах и улучшить качество предсказаний.\n",
    "2. По метрикам RMSE и MAE видно, что модель, которая использовала все данные, лучше справилась с точностью предсказаний по сравнению с моделью, использующей только числовые переменные.\n",
    "3. Обе модели данных можно использовать, но при включении всех доступных переменных в модель может лучше предсказывать."
   ]
  }
 ],
 "metadata": {
  "ExecuteTimeLog": [
   {
    "duration": 220,
    "start_time": "2024-02-11T08:12:49.223Z"
   },
   {
    "duration": 14419,
    "start_time": "2024-02-11T08:12:50.385Z"
   },
   {
    "duration": 7186,
    "start_time": "2024-02-11T08:13:33.931Z"
   },
   {
    "duration": 840,
    "start_time": "2024-02-11T08:13:45.165Z"
   },
   {
    "duration": 14,
    "start_time": "2024-02-11T08:14:10.317Z"
   },
   {
    "duration": 71,
    "start_time": "2024-02-11T08:16:55.151Z"
   },
   {
    "duration": 232,
    "start_time": "2024-02-11T08:17:51.200Z"
   },
   {
    "duration": 4224,
    "start_time": "2024-02-11T08:17:53.876Z"
   },
   {
    "duration": 2623,
    "start_time": "2024-02-11T08:19:57.502Z"
   },
   {
    "duration": 450,
    "start_time": "2024-02-11T08:20:06.360Z"
   },
   {
    "duration": 357,
    "start_time": "2024-02-11T08:20:10.672Z"
   },
   {
    "duration": 2159,
    "start_time": "2024-02-11T08:20:17.833Z"
   },
   {
    "duration": 3,
    "start_time": "2024-02-11T10:14:31.330Z"
   },
   {
    "duration": 4,
    "start_time": "2024-02-11T10:14:32.140Z"
   },
   {
    "duration": 736,
    "start_time": "2024-02-11T10:14:33.271Z"
   },
   {
    "duration": 4,
    "start_time": "2024-02-11T10:14:36.525Z"
   },
   {
    "duration": 2148,
    "start_time": "2024-02-11T10:14:37.757Z"
   },
   {
    "duration": 408,
    "start_time": "2024-02-11T10:14:39.908Z"
   },
   {
    "duration": 1884,
    "start_time": "2024-02-11T10:14:40.319Z"
   },
   {
    "duration": 85,
    "start_time": "2024-02-11T10:14:42.206Z"
   },
   {
    "duration": 11,
    "start_time": "2024-02-11T10:14:42.294Z"
   },
   {
    "duration": 3,
    "start_time": "2024-02-11T10:14:42.306Z"
   },
   {
    "duration": 1615,
    "start_time": "2024-02-11T10:14:42.311Z"
   },
   {
    "duration": 389,
    "start_time": "2024-02-11T10:14:43.929Z"
   },
   {
    "duration": 488,
    "start_time": "2024-02-11T10:14:49.128Z"
   },
   {
    "duration": 455,
    "start_time": "2024-02-11T10:17:52.267Z"
   },
   {
    "duration": 116,
    "start_time": "2024-02-11T10:18:03.077Z"
   },
   {
    "duration": 3,
    "start_time": "2024-02-11T10:19:45.604Z"
   },
   {
    "duration": 3,
    "start_time": "2024-02-11T10:24:27.548Z"
   },
   {
    "duration": 3,
    "start_time": "2024-02-11T10:24:45.061Z"
   },
   {
    "duration": 141,
    "start_time": "2024-02-11T10:25:48.316Z"
   },
   {
    "duration": 2,
    "start_time": "2024-02-11T10:25:57.047Z"
   },
   {
    "duration": 111,
    "start_time": "2024-02-11T10:25:58.132Z"
   },
   {
    "duration": 3,
    "start_time": "2024-02-11T10:26:05.832Z"
   },
   {
    "duration": 103,
    "start_time": "2024-02-11T10:26:09.105Z"
   },
   {
    "duration": 49,
    "start_time": "2024-02-11T10:30:01.500Z"
   },
   {
    "duration": 23,
    "start_time": "2024-02-11T10:30:21.598Z"
   },
   {
    "duration": 4662,
    "start_time": "2024-02-11T10:30:34.930Z"
   },
   {
    "duration": 1809,
    "start_time": "2024-02-11T10:31:28.812Z"
   },
   {
    "duration": 1597,
    "start_time": "2024-02-11T10:33:10.064Z"
   },
   {
    "duration": 1677,
    "start_time": "2024-02-11T10:33:38.930Z"
   },
   {
    "duration": 3,
    "start_time": "2024-02-11T10:34:22.350Z"
   },
   {
    "duration": 11,
    "start_time": "2024-02-11T10:36:18.827Z"
   },
   {
    "duration": 1101,
    "start_time": "2024-02-11T10:36:31.251Z"
   },
   {
    "duration": 928,
    "start_time": "2024-02-11T10:36:43.292Z"
   },
   {
    "duration": 753,
    "start_time": "2024-02-11T10:36:52.859Z"
   },
   {
    "duration": 4,
    "start_time": "2024-02-11T10:37:06.350Z"
   },
   {
    "duration": 5,
    "start_time": "2024-02-11T10:37:18.587Z"
   },
   {
    "duration": 1464,
    "start_time": "2024-02-11T10:37:53.970Z"
   },
   {
    "duration": 16,
    "start_time": "2024-02-11T10:37:55.489Z"
   },
   {
    "duration": 844,
    "start_time": "2024-02-11T10:37:55.506Z"
   },
   {
    "duration": 635,
    "start_time": "2024-02-11T10:37:56.352Z"
   },
   {
    "duration": 556,
    "start_time": "2024-02-11T10:37:56.990Z"
   },
   {
    "duration": 4,
    "start_time": "2024-02-11T10:37:57.548Z"
   },
   {
    "duration": 10,
    "start_time": "2024-02-11T10:38:06.920Z"
   },
   {
    "duration": 364,
    "start_time": "2024-02-11T10:38:07.442Z"
   },
   {
    "duration": 129,
    "start_time": "2024-02-11T10:38:07.809Z"
   },
   {
    "duration": 20,
    "start_time": "2024-02-11T10:38:08.333Z"
   },
   {
    "duration": 10,
    "start_time": "2024-02-11T10:38:08.620Z"
   },
   {
    "duration": 1274,
    "start_time": "2024-02-11T10:38:09.346Z"
   },
   {
    "duration": 1227,
    "start_time": "2024-02-11T10:38:10.622Z"
   },
   {
    "duration": 49,
    "start_time": "2024-02-11T10:38:11.851Z"
   },
   {
    "duration": 647,
    "start_time": "2024-02-11T10:38:11.902Z"
   },
   {
    "duration": 706,
    "start_time": "2024-02-11T10:38:12.551Z"
   },
   {
    "duration": 526,
    "start_time": "2024-02-11T10:38:13.259Z"
   },
   {
    "duration": 6,
    "start_time": "2024-02-11T10:38:13.787Z"
   },
   {
    "duration": 5,
    "start_time": "2024-02-11T10:38:13.795Z"
   },
   {
    "duration": 3,
    "start_time": "2024-02-11T10:39:36.169Z"
   },
   {
    "duration": 3,
    "start_time": "2024-02-11T10:45:32.079Z"
   },
   {
    "duration": 4,
    "start_time": "2024-02-11T10:45:32.591Z"
   },
   {
    "duration": 284,
    "start_time": "2024-02-11T10:45:32.915Z"
   },
   {
    "duration": 3,
    "start_time": "2024-02-11T10:45:33.207Z"
   },
   {
    "duration": 1646,
    "start_time": "2024-02-11T10:45:33.653Z"
   },
   {
    "duration": 303,
    "start_time": "2024-02-11T10:45:35.301Z"
   },
   {
    "duration": 1356,
    "start_time": "2024-02-11T10:45:35.606Z"
   },
   {
    "duration": 30,
    "start_time": "2024-02-11T10:45:36.964Z"
   },
   {
    "duration": 400,
    "start_time": "2024-02-11T10:45:36.996Z"
   },
   {
    "duration": 3,
    "start_time": "2024-02-11T10:45:37.397Z"
   },
   {
    "duration": 26,
    "start_time": "2024-02-11T10:45:37.402Z"
   },
   {
    "duration": 64,
    "start_time": "2024-02-11T10:45:37.429Z"
   },
   {
    "duration": 346,
    "start_time": "2024-02-11T10:47:08.045Z"
   },
   {
    "duration": 2,
    "start_time": "2024-02-11T10:47:09.137Z"
   },
   {
    "duration": 24,
    "start_time": "2024-02-11T10:47:09.604Z"
   },
   {
    "duration": 9,
    "start_time": "2024-02-11T10:47:10.105Z"
   },
   {
    "duration": 923,
    "start_time": "2024-02-11T10:47:11.082Z"
   },
   {
    "duration": 2,
    "start_time": "2024-02-11T10:47:12.114Z"
   },
   {
    "duration": 3,
    "start_time": "2024-02-11T10:47:20.454Z"
   },
   {
    "duration": 17,
    "start_time": "2024-02-11T10:47:32.612Z"
   },
   {
    "duration": 9,
    "start_time": "2024-02-11T10:47:44.369Z"
   },
   {
    "duration": 1866,
    "start_time": "2024-02-11T10:47:58.349Z"
   },
   {
    "duration": 3,
    "start_time": "2024-02-11T10:48:41.131Z"
   },
   {
    "duration": 20,
    "start_time": "2024-02-11T10:48:41.299Z"
   },
   {
    "duration": 9,
    "start_time": "2024-02-11T10:48:41.460Z"
   },
   {
    "duration": 838,
    "start_time": "2024-02-11T10:48:41.786Z"
   },
   {
    "duration": 3,
    "start_time": "2024-02-11T10:48:42.626Z"
   },
   {
    "duration": 50,
    "start_time": "2024-02-11T10:48:42.649Z"
   },
   {
    "duration": 9,
    "start_time": "2024-02-11T10:48:42.833Z"
   },
   {
    "duration": 1296,
    "start_time": "2024-02-11T10:48:43.251Z"
   },
   {
    "duration": 752,
    "start_time": "2024-02-11T10:49:16.043Z"
   },
   {
    "duration": 491,
    "start_time": "2024-02-11T10:49:48.424Z"
   },
   {
    "duration": 508,
    "start_time": "2024-02-11T10:49:48.918Z"
   },
   {
    "duration": 499,
    "start_time": "2024-02-11T10:49:49.428Z"
   },
   {
    "duration": 61,
    "start_time": "2024-02-11T10:49:49.929Z"
   },
   {
    "duration": 6,
    "start_time": "2024-02-11T10:49:49.991Z"
   },
   {
    "duration": 255,
    "start_time": "2024-02-11T10:54:36.313Z"
   },
   {
    "duration": 6,
    "start_time": "2024-02-11T10:55:36.549Z"
   },
   {
    "duration": 2,
    "start_time": "2024-02-11T10:55:36.845Z"
   },
   {
    "duration": 3,
    "start_time": "2024-02-11T10:55:37.238Z"
   },
   {
    "duration": 3,
    "start_time": "2024-02-11T10:55:37.569Z"
   },
   {
    "duration": 237,
    "start_time": "2024-02-11T10:55:37.929Z"
   },
   {
    "duration": 15,
    "start_time": "2024-02-11T10:55:38.255Z"
   },
   {
    "duration": 16,
    "start_time": "2024-02-11T10:55:44.867Z"
   },
   {
    "duration": 17,
    "start_time": "2024-02-11T10:55:57.329Z"
   },
   {
    "duration": 25,
    "start_time": "2024-02-11T10:56:17.094Z"
   },
   {
    "duration": 14,
    "start_time": "2024-02-11T10:56:17.121Z"
   },
   {
    "duration": 15,
    "start_time": "2024-02-11T10:56:17.137Z"
   },
   {
    "duration": 3,
    "start_time": "2024-02-11T10:56:17.154Z"
   },
   {
    "duration": 4,
    "start_time": "2024-02-11T10:56:58.735Z"
   },
   {
    "duration": 5,
    "start_time": "2024-02-11T11:08:01.827Z"
   },
   {
    "duration": 4,
    "start_time": "2024-02-11T11:08:02.245Z"
   },
   {
    "duration": 379,
    "start_time": "2024-02-11T11:08:02.568Z"
   },
   {
    "duration": 4,
    "start_time": "2024-02-11T11:08:04.231Z"
   },
   {
    "duration": 1420,
    "start_time": "2024-02-11T11:08:04.769Z"
   },
   {
    "duration": 197,
    "start_time": "2024-02-11T11:08:06.192Z"
   },
   {
    "duration": 1430,
    "start_time": "2024-02-11T11:08:06.390Z"
   },
   {
    "duration": 71,
    "start_time": "2024-02-11T11:08:07.824Z"
   },
   {
    "duration": 392,
    "start_time": "2024-02-11T11:08:07.897Z"
   },
   {
    "duration": 2,
    "start_time": "2024-02-11T11:08:08.291Z"
   },
   {
    "duration": 26,
    "start_time": "2024-02-11T11:08:08.295Z"
   },
   {
    "duration": 66,
    "start_time": "2024-02-11T11:08:08.323Z"
   },
   {
    "duration": 1019,
    "start_time": "2024-02-11T11:08:08.391Z"
   },
   {
    "duration": 3,
    "start_time": "2024-02-11T11:08:09.413Z"
   },
   {
    "duration": 73,
    "start_time": "2024-02-11T11:08:09.418Z"
   },
   {
    "duration": 11,
    "start_time": "2024-02-11T11:08:09.493Z"
   },
   {
    "duration": 1300,
    "start_time": "2024-02-11T11:08:09.506Z"
   },
   {
    "duration": 857,
    "start_time": "2024-02-11T11:08:10.808Z"
   },
   {
    "duration": 752,
    "start_time": "2024-02-11T11:08:11.687Z"
   },
   {
    "duration": 470,
    "start_time": "2024-02-11T11:08:12.441Z"
   },
   {
    "duration": 4,
    "start_time": "2024-02-11T11:08:12.914Z"
   },
   {
    "duration": 20,
    "start_time": "2024-02-11T11:08:12.920Z"
   },
   {
    "duration": 3,
    "start_time": "2024-02-11T11:26:19.922Z"
   },
   {
    "duration": 3,
    "start_time": "2024-02-11T11:26:20.256Z"
   },
   {
    "duration": 240,
    "start_time": "2024-02-11T11:26:20.590Z"
   },
   {
    "duration": 4,
    "start_time": "2024-02-11T11:26:20.936Z"
   },
   {
    "duration": 1349,
    "start_time": "2024-02-11T11:26:21.468Z"
   },
   {
    "duration": 148,
    "start_time": "2024-02-11T11:26:22.819Z"
   },
   {
    "duration": 1060,
    "start_time": "2024-02-11T11:26:22.969Z"
   },
   {
    "duration": 8,
    "start_time": "2024-02-11T11:26:24.031Z"
   },
   {
    "duration": 184,
    "start_time": "2024-02-11T11:26:24.041Z"
   },
   {
    "duration": 3,
    "start_time": "2024-02-11T11:26:24.226Z"
   },
   {
    "duration": 57,
    "start_time": "2024-02-11T11:26:24.230Z"
   },
   {
    "duration": 8,
    "start_time": "2024-02-11T11:26:24.289Z"
   },
   {
    "duration": 898,
    "start_time": "2024-02-11T11:26:24.298Z"
   },
   {
    "duration": 3,
    "start_time": "2024-02-11T11:26:25.198Z"
   },
   {
    "duration": 15,
    "start_time": "2024-02-11T11:26:25.202Z"
   },
   {
    "duration": 7,
    "start_time": "2024-02-11T11:26:25.219Z"
   },
   {
    "duration": 981,
    "start_time": "2024-02-11T11:26:25.227Z"
   },
   {
    "duration": 437,
    "start_time": "2024-02-11T11:26:26.209Z"
   },
   {
    "duration": 462,
    "start_time": "2024-02-11T11:26:26.647Z"
   },
   {
    "duration": 405,
    "start_time": "2024-02-11T11:26:27.111Z"
   },
   {
    "duration": 4,
    "start_time": "2024-02-11T11:26:27.517Z"
   },
   {
    "duration": 5,
    "start_time": "2024-02-11T11:26:27.522Z"
   },
   {
    "duration": 4,
    "start_time": "2024-02-11T11:33:00.031Z"
   },
   {
    "duration": 3,
    "start_time": "2024-02-11T11:33:00.364Z"
   },
   {
    "duration": 229,
    "start_time": "2024-02-11T11:33:00.698Z"
   },
   {
    "duration": 3,
    "start_time": "2024-02-11T11:33:02.155Z"
   },
   {
    "duration": 1623,
    "start_time": "2024-02-11T11:33:02.695Z"
   },
   {
    "duration": 156,
    "start_time": "2024-02-11T11:33:04.320Z"
   },
   {
    "duration": 1030,
    "start_time": "2024-02-11T11:33:04.486Z"
   },
   {
    "duration": 8,
    "start_time": "2024-02-11T11:33:05.518Z"
   },
   {
    "duration": 269,
    "start_time": "2024-02-11T11:33:05.528Z"
   },
   {
    "duration": 2,
    "start_time": "2024-02-11T11:33:05.799Z"
   },
   {
    "duration": 23,
    "start_time": "2024-02-11T11:33:05.803Z"
   },
   {
    "duration": 8,
    "start_time": "2024-02-11T11:33:05.828Z"
   },
   {
    "duration": 819,
    "start_time": "2024-02-11T11:33:05.837Z"
   },
   {
    "duration": 3,
    "start_time": "2024-02-11T11:33:06.658Z"
   },
   {
    "duration": 31,
    "start_time": "2024-02-11T11:33:06.662Z"
   },
   {
    "duration": 6,
    "start_time": "2024-02-11T11:33:06.695Z"
   },
   {
    "duration": 988,
    "start_time": "2024-02-11T11:33:06.703Z"
   },
   {
    "duration": 444,
    "start_time": "2024-02-11T11:33:07.693Z"
   },
   {
    "duration": 455,
    "start_time": "2024-02-11T11:33:08.139Z"
   },
   {
    "duration": 380,
    "start_time": "2024-02-11T11:33:08.595Z"
   },
   {
    "duration": 5,
    "start_time": "2024-02-11T11:33:08.977Z"
   },
   {
    "duration": 23,
    "start_time": "2024-02-11T11:33:08.988Z"
   },
   {
    "duration": 498,
    "start_time": "2024-02-11T14:39:55.357Z"
   },
   {
    "duration": 75,
    "start_time": "2024-02-11T14:52:59.891Z"
   },
   {
    "duration": 3,
    "start_time": "2024-02-11T14:53:04.202Z"
   },
   {
    "duration": 14569,
    "start_time": "2024-02-11T14:53:05.092Z"
   },
   {
    "duration": 8102,
    "start_time": "2024-02-11T14:53:19.718Z"
   },
   {
    "duration": 22,
    "start_time": "2024-02-11T14:53:27.822Z"
   },
   {
    "duration": 4873,
    "start_time": "2024-02-11T14:53:27.846Z"
   },
   {
    "duration": 671,
    "start_time": "2024-02-11T14:53:36.746Z"
   },
   {
    "duration": 2615,
    "start_time": "2024-02-11T14:53:37.419Z"
   },
   {
    "duration": 83,
    "start_time": "2024-02-11T14:53:40.036Z"
   },
   {
    "duration": 12,
    "start_time": "2024-02-11T14:53:46.064Z"
   },
   {
    "duration": 10,
    "start_time": "2024-02-11T14:55:07.078Z"
   },
   {
    "duration": 35,
    "start_time": "2024-02-11T14:55:07.460Z"
   },
   {
    "duration": 3,
    "start_time": "2024-02-11T14:55:07.839Z"
   },
   {
    "duration": 25,
    "start_time": "2024-02-11T14:55:08.195Z"
   },
   {
    "duration": 5661,
    "start_time": "2024-02-11T14:55:08.575Z"
   },
   {
    "duration": 1502,
    "start_time": "2024-02-11T14:55:14.238Z"
   },
   {
    "duration": 4,
    "start_time": "2024-02-11T14:55:15.741Z"
   },
   {
    "duration": 12,
    "start_time": "2024-02-11T14:55:54.614Z"
   },
   {
    "duration": 3,
    "start_time": "2024-02-11T14:58:36.030Z"
   },
   {
    "duration": 3,
    "start_time": "2024-02-11T14:58:36.920Z"
   },
   {
    "duration": 462,
    "start_time": "2024-02-11T14:58:37.258Z"
   },
   {
    "duration": 4,
    "start_time": "2024-02-11T14:58:37.723Z"
   },
   {
    "duration": 2222,
    "start_time": "2024-02-11T14:58:38.417Z"
   },
   {
    "duration": 202,
    "start_time": "2024-02-11T14:58:40.642Z"
   },
   {
    "duration": 1541,
    "start_time": "2024-02-11T14:58:40.846Z"
   },
   {
    "duration": 32,
    "start_time": "2024-02-11T14:58:42.390Z"
   },
   {
    "duration": 7,
    "start_time": "2024-02-11T14:58:42.423Z"
   },
   {
    "duration": 6,
    "start_time": "2024-02-11T14:58:42.431Z"
   },
   {
    "duration": 6,
    "start_time": "2024-02-11T14:58:42.438Z"
   },
   {
    "duration": 9,
    "start_time": "2024-02-11T14:58:42.445Z"
   },
   {
    "duration": 2090,
    "start_time": "2024-02-11T14:58:42.455Z"
   },
   {
    "duration": 984,
    "start_time": "2024-02-11T14:58:44.548Z"
   },
   {
    "duration": 4,
    "start_time": "2024-02-11T14:58:45.533Z"
   },
   {
    "duration": 11,
    "start_time": "2024-02-11T14:58:45.538Z"
   },
   {
    "duration": 3,
    "start_time": "2024-02-11T14:58:45.550Z"
   },
   {
    "duration": 1277,
    "start_time": "2024-02-11T14:58:45.555Z"
   },
   {
    "duration": 869,
    "start_time": "2024-02-11T14:58:46.834Z"
   },
   {
    "duration": 4,
    "start_time": "2024-02-11T14:58:47.718Z"
   },
   {
    "duration": 506,
    "start_time": "2024-02-11T14:58:47.724Z"
   },
   {
    "duration": 9,
    "start_time": "2024-02-11T15:11:49.332Z"
   },
   {
    "duration": 3,
    "start_time": "2024-02-11T15:11:49.701Z"
   },
   {
    "duration": 18,
    "start_time": "2024-02-11T15:11:50.048Z"
   },
   {
    "duration": 12,
    "start_time": "2024-02-11T15:11:50.505Z"
   },
   {
    "duration": 3,
    "start_time": "2024-02-11T15:11:59.233Z"
   },
   {
    "duration": 314,
    "start_time": "2024-02-11T15:11:59.925Z"
   },
   {
    "duration": 455,
    "start_time": "2024-02-11T15:12:00.275Z"
   },
   {
    "duration": 3,
    "start_time": "2024-02-11T15:12:00.732Z"
   },
   {
    "duration": 1499,
    "start_time": "2024-02-11T15:12:01.277Z"
   },
   {
    "duration": 173,
    "start_time": "2024-02-11T15:12:02.778Z"
   },
   {
    "duration": 1423,
    "start_time": "2024-02-11T15:12:02.952Z"
   },
   {
    "duration": 9,
    "start_time": "2024-02-11T15:12:04.377Z"
   },
   {
    "duration": 14,
    "start_time": "2024-02-11T15:12:04.388Z"
   },
   {
    "duration": 43,
    "start_time": "2024-02-11T15:12:04.404Z"
   },
   {
    "duration": 22,
    "start_time": "2024-02-11T15:12:04.449Z"
   },
   {
    "duration": 26,
    "start_time": "2024-02-11T15:12:04.472Z"
   },
   {
    "duration": 1547,
    "start_time": "2024-02-11T15:12:04.499Z"
   },
   {
    "duration": 718,
    "start_time": "2024-02-11T15:12:06.048Z"
   },
   {
    "duration": 9,
    "start_time": "2024-02-11T15:12:06.767Z"
   },
   {
    "duration": 19,
    "start_time": "2024-02-11T15:12:06.777Z"
   },
   {
    "duration": 20,
    "start_time": "2024-02-11T15:12:06.798Z"
   },
   {
    "duration": 998,
    "start_time": "2024-02-11T15:12:06.820Z"
   },
   {
    "duration": 629,
    "start_time": "2024-02-11T15:12:07.820Z"
   },
   {
    "duration": 4,
    "start_time": "2024-02-11T15:12:08.451Z"
   },
   {
    "duration": 3,
    "start_time": "2024-02-11T15:14:03.936Z"
   },
   {
    "duration": 3,
    "start_time": "2024-02-11T15:14:04.639Z"
   },
   {
    "duration": 254,
    "start_time": "2024-02-11T15:14:05.094Z"
   },
   {
    "duration": 4,
    "start_time": "2024-02-11T15:14:05.559Z"
   },
   {
    "duration": 1154,
    "start_time": "2024-02-11T15:14:06.263Z"
   },
   {
    "duration": 124,
    "start_time": "2024-02-11T15:14:07.420Z"
   },
   {
    "duration": 1152,
    "start_time": "2024-02-11T15:14:07.545Z"
   },
   {
    "duration": 25,
    "start_time": "2024-02-11T15:14:08.700Z"
   },
   {
    "duration": 7,
    "start_time": "2024-02-11T15:14:08.727Z"
   },
   {
    "duration": 8,
    "start_time": "2024-02-11T15:14:08.736Z"
   },
   {
    "duration": 4,
    "start_time": "2024-02-11T15:14:08.870Z"
   },
   {
    "duration": 7,
    "start_time": "2024-02-11T15:14:09.052Z"
   },
   {
    "duration": 1424,
    "start_time": "2024-02-11T15:14:09.227Z"
   },
   {
    "duration": 631,
    "start_time": "2024-02-11T15:14:10.653Z"
   },
   {
    "duration": 5,
    "start_time": "2024-02-11T15:14:11.285Z"
   },
   {
    "duration": 28,
    "start_time": "2024-02-11T15:14:11.292Z"
   },
   {
    "duration": 3,
    "start_time": "2024-02-11T15:14:11.321Z"
   },
   {
    "duration": 817,
    "start_time": "2024-02-11T15:14:11.326Z"
   },
   {
    "duration": 537,
    "start_time": "2024-02-11T15:14:12.144Z"
   },
   {
    "duration": 3,
    "start_time": "2024-02-11T15:14:12.683Z"
   },
   {
    "duration": 139,
    "start_time": "2024-02-11T15:14:12.688Z"
   },
   {
    "duration": 3,
    "start_time": "2024-02-11T15:22:42.961Z"
   },
   {
    "duration": 244,
    "start_time": "2024-02-11T15:22:43.790Z"
   },
   {
    "duration": 325,
    "start_time": "2024-02-11T15:22:44.127Z"
   },
   {
    "duration": 3,
    "start_time": "2024-02-11T15:22:45.493Z"
   },
   {
    "duration": 1279,
    "start_time": "2024-02-11T15:22:46.198Z"
   },
   {
    "duration": 151,
    "start_time": "2024-02-11T15:22:47.480Z"
   },
   {
    "duration": 1304,
    "start_time": "2024-02-11T15:22:47.634Z"
   },
   {
    "duration": 9,
    "start_time": "2024-02-11T15:22:48.940Z"
   },
   {
    "duration": 6,
    "start_time": "2024-02-11T15:22:48.950Z"
   },
   {
    "duration": 6,
    "start_time": "2024-02-11T15:22:48.958Z"
   },
   {
    "duration": 3,
    "start_time": "2024-02-11T15:22:48.965Z"
   },
   {
    "duration": 49,
    "start_time": "2024-02-11T15:22:48.970Z"
   },
   {
    "duration": 1320,
    "start_time": "2024-02-11T15:22:49.124Z"
   },
   {
    "duration": 597,
    "start_time": "2024-02-11T15:22:50.446Z"
   },
   {
    "duration": 3,
    "start_time": "2024-02-11T15:22:51.045Z"
   },
   {
    "duration": 17,
    "start_time": "2024-02-11T15:22:51.050Z"
   },
   {
    "duration": 0,
    "start_time": "2024-02-11T15:22:51.068Z"
   },
   {
    "duration": 0,
    "start_time": "2024-02-11T15:22:51.069Z"
   },
   {
    "duration": 0,
    "start_time": "2024-02-11T15:22:51.070Z"
   },
   {
    "duration": 4,
    "start_time": "2024-02-11T15:22:51.235Z"
   },
   {
    "duration": 432,
    "start_time": "2024-02-11T15:22:51.535Z"
   },
   {
    "duration": 3,
    "start_time": "2024-02-11T15:23:09.808Z"
   },
   {
    "duration": 163,
    "start_time": "2024-02-11T15:23:10.786Z"
   },
   {
    "duration": 247,
    "start_time": "2024-02-11T15:23:11.093Z"
   },
   {
    "duration": 3,
    "start_time": "2024-02-11T15:23:29.393Z"
   },
   {
    "duration": 4,
    "start_time": "2024-02-11T15:23:30.044Z"
   },
   {
    "duration": 221,
    "start_time": "2024-02-11T15:23:30.400Z"
   },
   {
    "duration": 4,
    "start_time": "2024-02-11T15:23:32.805Z"
   },
   {
    "duration": 1258,
    "start_time": "2024-02-11T15:23:33.477Z"
   },
   {
    "duration": 125,
    "start_time": "2024-02-11T15:23:34.737Z"
   },
   {
    "duration": 1155,
    "start_time": "2024-02-11T15:23:34.864Z"
   },
   {
    "duration": 9,
    "start_time": "2024-02-11T15:23:36.022Z"
   },
   {
    "duration": 9,
    "start_time": "2024-02-11T15:23:36.032Z"
   },
   {
    "duration": 15,
    "start_time": "2024-02-11T15:23:36.043Z"
   },
   {
    "duration": 3,
    "start_time": "2024-02-11T15:23:36.077Z"
   },
   {
    "duration": 8,
    "start_time": "2024-02-11T15:23:36.254Z"
   },
   {
    "duration": 1106,
    "start_time": "2024-02-11T15:23:36.435Z"
   },
   {
    "duration": 669,
    "start_time": "2024-02-11T15:23:37.543Z"
   },
   {
    "duration": 3,
    "start_time": "2024-02-11T15:23:38.214Z"
   },
   {
    "duration": 15,
    "start_time": "2024-02-11T15:23:38.219Z"
   },
   {
    "duration": 2,
    "start_time": "2024-02-11T15:23:38.236Z"
   },
   {
    "duration": 114,
    "start_time": "2024-02-11T15:23:38.503Z"
   },
   {
    "duration": 0,
    "start_time": "2024-02-11T15:23:38.619Z"
   },
   {
    "duration": 0,
    "start_time": "2024-02-11T15:23:38.620Z"
   },
   {
    "duration": 26,
    "start_time": "2024-02-11T15:25:05.402Z"
   },
   {
    "duration": 3,
    "start_time": "2024-02-11T15:25:05.689Z"
   },
   {
    "duration": 109,
    "start_time": "2024-02-11T15:25:05.950Z"
   },
   {
    "duration": 14,
    "start_time": "2024-02-11T15:26:02.694Z"
   },
   {
    "duration": 3,
    "start_time": "2024-02-11T15:26:03.049Z"
   },
   {
    "duration": 154,
    "start_time": "2024-02-11T15:26:03.464Z"
   },
   {
    "duration": 18,
    "start_time": "2024-02-11T15:26:16.202Z"
   },
   {
    "duration": 3,
    "start_time": "2024-02-11T15:26:16.525Z"
   },
   {
    "duration": 133,
    "start_time": "2024-02-11T15:26:16.895Z"
   },
   {
    "duration": 13,
    "start_time": "2024-02-11T15:28:19.798Z"
   },
   {
    "duration": 4,
    "start_time": "2024-02-11T15:28:20.141Z"
   },
   {
    "duration": 98,
    "start_time": "2024-02-11T15:28:20.634Z"
   },
   {
    "duration": 7,
    "start_time": "2024-02-11T15:29:54.275Z"
   },
   {
    "duration": 6,
    "start_time": "2024-02-11T15:29:54.514Z"
   },
   {
    "duration": 4,
    "start_time": "2024-02-11T15:29:54.690Z"
   },
   {
    "duration": 1062,
    "start_time": "2024-02-11T15:29:54.864Z"
   },
   {
    "duration": 0,
    "start_time": "2024-02-11T15:29:55.928Z"
   },
   {
    "duration": 12,
    "start_time": "2024-02-11T15:32:27.860Z"
   },
   {
    "duration": 2,
    "start_time": "2024-02-11T15:32:28.179Z"
   },
   {
    "duration": 870,
    "start_time": "2024-02-11T15:32:28.505Z"
   },
   {
    "duration": 586,
    "start_time": "2024-02-11T15:32:29.377Z"
   },
   {
    "duration": 3,
    "start_time": "2024-02-11T15:32:29.965Z"
   },
   {
    "duration": 91,
    "start_time": "2024-02-11T15:32:29.970Z"
   },
   {
    "duration": 3,
    "start_time": "2024-02-11T15:36:54.999Z"
   },
   {
    "duration": 239,
    "start_time": "2024-02-11T15:36:55.607Z"
   },
   {
    "duration": 315,
    "start_time": "2024-02-11T15:36:55.934Z"
   },
   {
    "duration": 3,
    "start_time": "2024-02-11T15:36:56.251Z"
   },
   {
    "duration": 1027,
    "start_time": "2024-02-11T15:36:56.844Z"
   },
   {
    "duration": 175,
    "start_time": "2024-02-11T15:36:57.873Z"
   },
   {
    "duration": 1594,
    "start_time": "2024-02-11T15:36:58.050Z"
   },
   {
    "duration": 8,
    "start_time": "2024-02-11T15:36:59.646Z"
   },
   {
    "duration": 64,
    "start_time": "2024-02-11T15:36:59.656Z"
   },
   {
    "duration": 6,
    "start_time": "2024-02-11T15:36:59.721Z"
   },
   {
    "duration": 2,
    "start_time": "2024-02-11T15:36:59.729Z"
   },
   {
    "duration": 8,
    "start_time": "2024-02-11T15:36:59.732Z"
   },
   {
    "duration": 1699,
    "start_time": "2024-02-11T15:36:59.742Z"
   },
   {
    "duration": 721,
    "start_time": "2024-02-11T15:37:01.443Z"
   },
   {
    "duration": 4,
    "start_time": "2024-02-11T15:37:02.166Z"
   },
   {
    "duration": 53,
    "start_time": "2024-02-11T15:37:02.172Z"
   },
   {
    "duration": 745,
    "start_time": "2024-02-11T15:37:02.227Z"
   },
   {
    "duration": 658,
    "start_time": "2024-02-11T15:37:02.974Z"
   },
   {
    "duration": 4,
    "start_time": "2024-02-11T15:37:03.633Z"
   },
   {
    "duration": 193,
    "start_time": "2024-02-11T15:37:03.639Z"
   },
   {
    "duration": 12,
    "start_time": "2024-02-11T15:41:19.301Z"
   },
   {
    "duration": 12,
    "start_time": "2024-02-11T15:41:20.023Z"
   },
   {
    "duration": 11,
    "start_time": "2024-02-11T15:41:20.479Z"
   },
   {
    "duration": 13,
    "start_time": "2024-02-11T15:43:17.968Z"
   },
   {
    "duration": 16,
    "start_time": "2024-02-11T15:43:18.445Z"
   },
   {
    "duration": 10,
    "start_time": "2024-02-11T15:44:10.284Z"
   },
   {
    "duration": 12,
    "start_time": "2024-02-11T15:44:10.640Z"
   },
   {
    "duration": 11,
    "start_time": "2024-02-11T15:44:12.367Z"
   },
   {
    "duration": 4,
    "start_time": "2024-02-11T15:44:12.882Z"
   },
   {
    "duration": 3,
    "start_time": "2024-02-11T15:44:39.246Z"
   },
   {
    "duration": 204,
    "start_time": "2024-02-11T15:44:40.330Z"
   },
   {
    "duration": 197,
    "start_time": "2024-02-11T15:44:41.115Z"
   },
   {
    "duration": 3,
    "start_time": "2024-02-11T15:44:41.315Z"
   },
   {
    "duration": 933,
    "start_time": "2024-02-11T15:44:42.010Z"
   },
   {
    "duration": 201,
    "start_time": "2024-02-11T15:44:42.944Z"
   },
   {
    "duration": 1276,
    "start_time": "2024-02-11T15:44:43.147Z"
   },
   {
    "duration": 8,
    "start_time": "2024-02-11T15:44:44.426Z"
   },
   {
    "duration": 6,
    "start_time": "2024-02-11T15:44:44.675Z"
   },
   {
    "duration": 6,
    "start_time": "2024-02-11T15:44:44.852Z"
   },
   {
    "duration": 3,
    "start_time": "2024-02-11T15:44:45.036Z"
   },
   {
    "duration": 8,
    "start_time": "2024-02-11T15:44:45.212Z"
   },
   {
    "duration": 1020,
    "start_time": "2024-02-11T15:44:45.412Z"
   },
   {
    "duration": 608,
    "start_time": "2024-02-11T15:44:46.433Z"
   },
   {
    "duration": 4,
    "start_time": "2024-02-11T15:44:47.043Z"
   },
   {
    "duration": 13,
    "start_time": "2024-02-11T15:44:47.049Z"
   },
   {
    "duration": 1854,
    "start_time": "2024-02-11T15:44:47.064Z"
   },
   {
    "duration": 821,
    "start_time": "2024-02-11T15:44:48.920Z"
   },
   {
    "duration": 4,
    "start_time": "2024-02-11T15:44:49.742Z"
   },
   {
    "duration": 93,
    "start_time": "2024-02-11T15:44:52.384Z"
   },
   {
    "duration": 11,
    "start_time": "2024-02-11T15:45:43.445Z"
   },
   {
    "duration": 11,
    "start_time": "2024-02-11T15:45:43.891Z"
   },
   {
    "duration": 9,
    "start_time": "2024-02-11T15:45:44.400Z"
   },
   {
    "duration": 3,
    "start_time": "2024-02-11T15:45:44.928Z"
   },
   {
    "duration": 3,
    "start_time": "2024-02-11T15:45:58.980Z"
   },
   {
    "duration": 171,
    "start_time": "2024-02-11T15:45:59.957Z"
   },
   {
    "duration": 232,
    "start_time": "2024-02-11T15:46:00.335Z"
   },
   {
    "duration": 4,
    "start_time": "2024-02-11T15:46:00.699Z"
   },
   {
    "duration": 1115,
    "start_time": "2024-02-11T15:46:01.483Z"
   },
   {
    "duration": 123,
    "start_time": "2024-02-11T15:46:02.600Z"
   },
   {
    "duration": 1195,
    "start_time": "2024-02-11T15:46:02.725Z"
   },
   {
    "duration": 10,
    "start_time": "2024-02-11T15:46:03.922Z"
   },
   {
    "duration": 6,
    "start_time": "2024-02-11T15:46:03.934Z"
   },
   {
    "duration": 19,
    "start_time": "2024-02-11T15:46:04.102Z"
   },
   {
    "duration": 4,
    "start_time": "2024-02-11T15:46:04.280Z"
   },
   {
    "duration": 8,
    "start_time": "2024-02-11T15:46:04.464Z"
   },
   {
    "duration": 1052,
    "start_time": "2024-02-11T15:46:04.668Z"
   },
   {
    "duration": 596,
    "start_time": "2024-02-11T15:46:05.722Z"
   },
   {
    "duration": 4,
    "start_time": "2024-02-11T15:46:06.320Z"
   },
   {
    "duration": 11,
    "start_time": "2024-02-11T15:46:06.326Z"
   },
   {
    "duration": 687,
    "start_time": "2024-02-11T15:46:06.338Z"
   },
   {
    "duration": 493,
    "start_time": "2024-02-11T15:46:07.027Z"
   },
   {
    "duration": 3,
    "start_time": "2024-02-11T15:46:07.522Z"
   },
   {
    "duration": 59,
    "start_time": "2024-02-11T15:46:08.497Z"
   },
   {
    "duration": 3,
    "start_time": "2024-02-11T15:46:53.105Z"
   },
   {
    "duration": 130,
    "start_time": "2024-02-11T15:46:54.150Z"
   },
   {
    "duration": 430,
    "start_time": "2024-02-11T15:46:54.493Z"
   },
   {
    "duration": 4,
    "start_time": "2024-02-11T15:46:54.924Z"
   },
   {
    "duration": 1134,
    "start_time": "2024-02-11T15:46:55.467Z"
   },
   {
    "duration": 115,
    "start_time": "2024-02-11T15:46:56.603Z"
   },
   {
    "duration": 1272,
    "start_time": "2024-02-11T15:46:56.719Z"
   },
   {
    "duration": 10,
    "start_time": "2024-02-11T15:46:58.019Z"
   },
   {
    "duration": 6,
    "start_time": "2024-02-11T15:46:58.030Z"
   },
   {
    "duration": 6,
    "start_time": "2024-02-11T15:46:58.037Z"
   },
   {
    "duration": 7,
    "start_time": "2024-02-11T15:46:58.045Z"
   },
   {
    "duration": 7,
    "start_time": "2024-02-11T15:46:58.212Z"
   },
   {
    "duration": 972,
    "start_time": "2024-02-11T15:46:58.401Z"
   },
   {
    "duration": 490,
    "start_time": "2024-02-11T15:46:59.375Z"
   },
   {
    "duration": 4,
    "start_time": "2024-02-11T15:46:59.867Z"
   },
   {
    "duration": 19,
    "start_time": "2024-02-11T15:46:59.873Z"
   },
   {
    "duration": 634,
    "start_time": "2024-02-11T15:46:59.893Z"
   },
   {
    "duration": 477,
    "start_time": "2024-02-11T15:47:00.529Z"
   },
   {
    "duration": 4,
    "start_time": "2024-02-11T15:47:01.007Z"
   },
   {
    "duration": 287,
    "start_time": "2024-02-11T15:47:03.478Z"
   },
   {
    "duration": 3,
    "start_time": "2024-02-11T15:51:02.132Z"
   },
   {
    "duration": 149,
    "start_time": "2024-02-11T15:51:03.083Z"
   },
   {
    "duration": 247,
    "start_time": "2024-02-11T15:51:03.413Z"
   },
   {
    "duration": 3,
    "start_time": "2024-02-11T15:51:03.741Z"
   },
   {
    "duration": 905,
    "start_time": "2024-02-11T15:51:04.422Z"
   },
   {
    "duration": 161,
    "start_time": "2024-02-11T15:51:05.329Z"
   },
   {
    "duration": 913,
    "start_time": "2024-02-11T15:51:05.492Z"
   },
   {
    "duration": 10,
    "start_time": "2024-02-11T15:51:06.408Z"
   },
   {
    "duration": 7,
    "start_time": "2024-02-11T15:51:08.163Z"
   },
   {
    "duration": 6,
    "start_time": "2024-02-11T15:51:08.617Z"
   },
   {
    "duration": 7,
    "start_time": "2024-02-11T15:51:08.977Z"
   },
   {
    "duration": 3,
    "start_time": "2024-02-11T15:51:09.288Z"
   },
   {
    "duration": 958,
    "start_time": "2024-02-11T15:51:09.773Z"
   },
   {
    "duration": 524,
    "start_time": "2024-02-11T15:51:10.733Z"
   },
   {
    "duration": 4,
    "start_time": "2024-02-11T15:51:11.259Z"
   },
   {
    "duration": 12,
    "start_time": "2024-02-11T15:51:12.748Z"
   },
   {
    "duration": 679,
    "start_time": "2024-02-11T15:51:13.148Z"
   },
   {
    "duration": 563,
    "start_time": "2024-02-11T15:51:13.829Z"
   },
   {
    "duration": 5,
    "start_time": "2024-02-11T15:51:14.394Z"
   },
   {
    "duration": 286,
    "start_time": "2024-02-11T15:51:14.401Z"
   },
   {
    "duration": 3,
    "start_time": "2024-02-11T15:55:12.549Z"
   },
   {
    "duration": 131,
    "start_time": "2024-02-11T15:55:13.230Z"
   },
   {
    "duration": 194,
    "start_time": "2024-02-11T15:55:13.560Z"
   },
   {
    "duration": 3,
    "start_time": "2024-02-11T15:55:13.893Z"
   },
   {
    "duration": 1260,
    "start_time": "2024-02-11T15:55:14.536Z"
   },
   {
    "duration": 223,
    "start_time": "2024-02-11T15:55:15.798Z"
   },
   {
    "duration": 1303,
    "start_time": "2024-02-11T15:55:16.022Z"
   },
   {
    "duration": 8,
    "start_time": "2024-02-11T15:55:17.327Z"
   },
   {
    "duration": 7,
    "start_time": "2024-02-11T15:55:17.336Z"
   },
   {
    "duration": 13,
    "start_time": "2024-02-11T15:55:17.344Z"
   },
   {
    "duration": 19,
    "start_time": "2024-02-11T15:55:17.358Z"
   },
   {
    "duration": 9,
    "start_time": "2024-02-11T15:55:17.379Z"
   },
   {
    "duration": 1012,
    "start_time": "2024-02-11T15:55:17.524Z"
   },
   {
    "duration": 550,
    "start_time": "2024-02-11T15:55:18.538Z"
   },
   {
    "duration": 4,
    "start_time": "2024-02-11T15:55:19.089Z"
   },
   {
    "duration": 10,
    "start_time": "2024-02-11T15:55:19.094Z"
   },
   {
    "duration": 596,
    "start_time": "2024-02-11T15:55:19.105Z"
   },
   {
    "duration": 444,
    "start_time": "2024-02-11T15:55:19.702Z"
   },
   {
    "duration": 4,
    "start_time": "2024-02-11T15:55:20.147Z"
   },
   {
    "duration": 202,
    "start_time": "2024-02-11T15:55:20.153Z"
   },
   {
    "duration": 3,
    "start_time": "2024-02-11T15:57:28.197Z"
   },
   {
    "duration": 194,
    "start_time": "2024-02-11T15:57:28.925Z"
   },
   {
    "duration": 188,
    "start_time": "2024-02-11T15:57:29.342Z"
   },
   {
    "duration": 3,
    "start_time": "2024-02-11T15:57:29.696Z"
   },
   {
    "duration": 1475,
    "start_time": "2024-02-11T15:57:30.405Z"
   },
   {
    "duration": 112,
    "start_time": "2024-02-11T15:57:31.881Z"
   },
   {
    "duration": 943,
    "start_time": "2024-02-11T15:57:31.995Z"
   },
   {
    "duration": 12,
    "start_time": "2024-02-11T15:57:32.941Z"
   },
   {
    "duration": 67,
    "start_time": "2024-02-11T15:57:32.955Z"
   },
   {
    "duration": 7,
    "start_time": "2024-02-11T15:57:33.047Z"
   },
   {
    "duration": 7,
    "start_time": "2024-02-11T15:57:33.235Z"
   },
   {
    "duration": 3,
    "start_time": "2024-02-11T15:57:33.485Z"
   },
   {
    "duration": 962,
    "start_time": "2024-02-11T15:57:33.663Z"
   },
   {
    "duration": 485,
    "start_time": "2024-02-11T15:57:34.627Z"
   },
   {
    "duration": 4,
    "start_time": "2024-02-11T15:57:35.114Z"
   },
   {
    "duration": 11,
    "start_time": "2024-02-11T15:57:36.084Z"
   },
   {
    "duration": 693,
    "start_time": "2024-02-11T15:57:36.259Z"
   },
   {
    "duration": 511,
    "start_time": "2024-02-11T15:57:36.954Z"
   },
   {
    "duration": 4,
    "start_time": "2024-02-11T15:57:37.466Z"
   },
   {
    "duration": 100,
    "start_time": "2024-02-11T15:57:37.472Z"
   },
   {
    "duration": 579,
    "start_time": "2024-02-11T17:18:10.450Z"
   },
   {
    "duration": 15441,
    "start_time": "2024-02-11T17:18:11.032Z"
   },
   {
    "duration": 8898,
    "start_time": "2024-02-11T17:18:26.475Z"
   },
   {
    "duration": 16,
    "start_time": "2024-02-11T17:18:35.375Z"
   },
   {
    "duration": 5013,
    "start_time": "2024-02-11T17:18:35.393Z"
   },
   {
    "duration": 788,
    "start_time": "2024-02-11T17:18:40.408Z"
   },
   {
    "duration": 3003,
    "start_time": "2024-02-11T17:18:41.198Z"
   },
   {
    "duration": 100,
    "start_time": "2024-02-11T17:18:44.203Z"
   },
   {
    "duration": 82,
    "start_time": "2024-02-11T17:18:44.305Z"
   },
   {
    "duration": 13,
    "start_time": "2024-02-11T17:18:44.389Z"
   },
   {
    "duration": 169,
    "start_time": "2024-02-11T17:18:44.404Z"
   },
   {
    "duration": 3,
    "start_time": "2024-02-11T17:18:44.575Z"
   },
   {
    "duration": 6318,
    "start_time": "2024-02-11T17:18:44.579Z"
   },
   {
    "duration": 1572,
    "start_time": "2024-02-11T17:18:50.901Z"
   },
   {
    "duration": 4,
    "start_time": "2024-02-11T17:18:52.475Z"
   },
   {
    "duration": 10,
    "start_time": "2024-02-11T17:19:01.853Z"
   },
   {
    "duration": 9,
    "start_time": "2024-02-11T17:19:02.669Z"
   },
   {
    "duration": 8,
    "start_time": "2024-02-11T17:19:03.078Z"
   },
   {
    "duration": 3,
    "start_time": "2024-02-11T17:19:03.446Z"
   },
   {
    "duration": 2922,
    "start_time": "2024-02-11T17:19:03.871Z"
   },
   {
    "duration": 1304,
    "start_time": "2024-02-11T17:19:06.795Z"
   },
   {
    "duration": 4,
    "start_time": "2024-02-11T17:19:08.101Z"
   },
   {
    "duration": 9,
    "start_time": "2024-02-11T17:19:26.418Z"
   },
   {
    "duration": 8,
    "start_time": "2024-02-11T17:19:27.349Z"
   },
   {
    "duration": 7,
    "start_time": "2024-02-11T17:19:27.397Z"
   },
   {
    "duration": 3,
    "start_time": "2024-02-11T17:19:27.792Z"
   },
   {
    "duration": 2520,
    "start_time": "2024-02-11T17:19:28.158Z"
   },
   {
    "duration": 1166,
    "start_time": "2024-02-11T17:19:30.680Z"
   },
   {
    "duration": 26,
    "start_time": "2024-02-11T17:19:31.848Z"
   },
   {
    "duration": 25,
    "start_time": "2024-02-11T17:19:31.876Z"
   },
   {
    "duration": 9,
    "start_time": "2024-02-11T17:20:05.408Z"
   },
   {
    "duration": 8,
    "start_time": "2024-02-11T17:20:06.192Z"
   },
   {
    "duration": 7,
    "start_time": "2024-02-11T17:20:06.621Z"
   },
   {
    "duration": 4,
    "start_time": "2024-02-11T17:20:07.077Z"
   },
   {
    "duration": 1883,
    "start_time": "2024-02-11T17:20:07.526Z"
   },
   {
    "duration": 840,
    "start_time": "2024-02-11T17:20:09.474Z"
   },
   {
    "duration": 5,
    "start_time": "2024-02-11T17:20:10.316Z"
   },
   {
    "duration": 8,
    "start_time": "2024-02-11T17:20:21.122Z"
   },
   {
    "duration": 8,
    "start_time": "2024-02-11T17:20:21.906Z"
   },
   {
    "duration": 8,
    "start_time": "2024-02-11T17:20:22.306Z"
   },
   {
    "duration": 3,
    "start_time": "2024-02-11T17:20:22.726Z"
   },
   {
    "duration": 2001,
    "start_time": "2024-02-11T17:20:23.118Z"
   },
   {
    "duration": 869,
    "start_time": "2024-02-11T17:20:25.122Z"
   },
   {
    "duration": 0,
    "start_time": "2024-02-11T17:20:25.993Z"
   },
   {
    "duration": 552,
    "start_time": "2024-02-11T17:21:57.573Z"
   },
   {
    "duration": 15485,
    "start_time": "2024-02-11T17:21:58.127Z"
   },
   {
    "duration": 8687,
    "start_time": "2024-02-11T17:22:13.615Z"
   },
   {
    "duration": 77,
    "start_time": "2024-02-11T17:22:22.304Z"
   },
   {
    "duration": 5109,
    "start_time": "2024-02-11T17:22:22.385Z"
   },
   {
    "duration": 716,
    "start_time": "2024-02-11T17:22:27.496Z"
   },
   {
    "duration": 2998,
    "start_time": "2024-02-11T17:22:28.214Z"
   },
   {
    "duration": 34,
    "start_time": "2024-02-11T17:22:31.274Z"
   },
   {
    "duration": 66,
    "start_time": "2024-02-11T17:22:31.310Z"
   },
   {
    "duration": 25,
    "start_time": "2024-02-11T17:22:31.378Z"
   },
   {
    "duration": 101,
    "start_time": "2024-02-11T17:22:31.405Z"
   },
   {
    "duration": 4,
    "start_time": "2024-02-11T17:22:31.507Z"
   },
   {
    "duration": 6679,
    "start_time": "2024-02-11T17:22:31.513Z"
   },
   {
    "duration": 1606,
    "start_time": "2024-02-11T17:22:38.196Z"
   },
   {
    "duration": 4,
    "start_time": "2024-02-11T17:22:39.804Z"
   },
   {
    "duration": 72,
    "start_time": "2024-02-11T17:22:39.810Z"
   },
   {
    "duration": 1898,
    "start_time": "2024-02-11T17:22:39.884Z"
   },
   {
    "duration": 1192,
    "start_time": "2024-02-11T17:22:41.783Z"
   },
   {
    "duration": 4,
    "start_time": "2024-02-11T17:22:42.977Z"
   },
   {
    "duration": 509,
    "start_time": "2024-02-11T17:22:42.983Z"
   }
  ],
  "colab": {
   "name": "PySparkSprint.ipynb",
   "provenance": []
  },
  "kernelspec": {
   "display_name": "Python 3 (ipykernel)",
   "language": "python",
   "name": "python3"
  },
  "language_info": {
   "codemirror_mode": {
    "name": "ipython",
    "version": 3
   },
   "file_extension": ".py",
   "mimetype": "text/x-python",
   "name": "python",
   "nbconvert_exporter": "python",
   "pygments_lexer": "ipython3",
   "version": "3.9.5"
  },
  "toc": {
   "base_numbering": 1,
   "nav_menu": {},
   "number_sections": true,
   "sideBar": true,
   "skip_h1_title": true,
   "title_cell": "Table of Contents",
   "title_sidebar": "Contents",
   "toc_cell": false,
   "toc_position": {},
   "toc_section_display": true,
   "toc_window_display": false
  }
 },
 "nbformat": 4,
 "nbformat_minor": 5
}
