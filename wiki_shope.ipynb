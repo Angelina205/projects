{
 "cells": [
  {
   "cell_type": "markdown",
   "metadata": {},
   "source": [
    "# Проект для «Викишоп»"
   ]
  },
  {
   "cell_type": "markdown",
   "metadata": {},
   "source": [
    "Интернет-магазин «Викишоп» запускает новый сервис. Теперь пользователи могут редактировать и дополнять описания товаров, как в вики-сообществах. То есть клиенты предлагают свои правки и комментируют изменения других. Магазину нужен инструмент, который будет искать токсичные комментарии и отправлять их на модерацию. \n",
    "\n",
    "Обучите модель классифицировать комментарии на позитивные и негативные. В вашем распоряжении набор данных с разметкой о токсичности правок.\n",
    "\n",
    "Постройте модель со значением метрики качества *F1* не меньше 0.75. \n",
    "\n",
    "**Инструкция по выполнению проекта**\n",
    "\n",
    "1. Загрузите и подготовьте данные.\n",
    "2. Обучите разные модели. \n",
    "3. Сделайте выводы.\n",
    "\n",
    "Для выполнения проекта применять *BERT* необязательно, но вы можете попробовать.\n",
    "\n",
    "**Описание данных**\n",
    "\n",
    "Данные находятся в файле `toxic_comments.csv`. Столбец *text* в нём содержит текст комментария, а *toxic* — целевой признак."
   ]
  },
  {
   "cell_type": "markdown",
   "metadata": {},
   "source": [
    "## Подготовка"
   ]
  },
  {
   "cell_type": "code",
   "execution_count": 1,
   "metadata": {},
   "outputs": [],
   "source": [
    "import numpy as np\n",
    "import pandas as pd\n",
    "import matplotlib.pyplot as plt\n",
    "from sklearn.model_selection import train_test_split, GridSearchCV, cross_val_score\n",
    "from sklearn.feature_extraction.text import TfidfVectorizer\n",
    "from sklearn.linear_model import LogisticRegression\n",
    "from sklearn.svm import LinearSVC\n",
    "from sklearn.tree import DecisionTreeClassifier\n",
    "from sklearn.ensemble import RandomForestClassifier\n",
    "from sklearn.metrics import f1_score, roc_curve, roc_auc_score, precision_score, recall_score, accuracy_score\n",
    "from tqdm import tqdm\n",
    "import spacy\n",
    "import re\n",
    "from sklearn.utils import shuffle"
   ]
  },
  {
   "cell_type": "code",
   "execution_count": 2,
   "metadata": {},
   "outputs": [],
   "source": [
    "data = pd.read_csv('/datasets/toxic_comments.csv')"
   ]
  },
  {
   "cell_type": "code",
   "execution_count": 3,
   "metadata": {},
   "outputs": [
    {
     "name": "stdout",
     "output_type": "stream",
     "text": [
      "<class 'pandas.core.frame.DataFrame'>\n",
      "RangeIndex: 159292 entries, 0 to 159291\n",
      "Data columns (total 3 columns):\n",
      " #   Column      Non-Null Count   Dtype \n",
      "---  ------      --------------   ----- \n",
      " 0   Unnamed: 0  159292 non-null  int64 \n",
      " 1   text        159292 non-null  object\n",
      " 2   toxic       159292 non-null  int64 \n",
      "dtypes: int64(2), object(1)\n",
      "memory usage: 3.6+ MB\n"
     ]
    }
   ],
   "source": [
    "data.info()"
   ]
  },
  {
   "cell_type": "code",
   "execution_count": 4,
   "metadata": {},
   "outputs": [
    {
     "data": {
      "text/html": [
       "<div>\n",
       "<style scoped>\n",
       "    .dataframe tbody tr th:only-of-type {\n",
       "        vertical-align: middle;\n",
       "    }\n",
       "\n",
       "    .dataframe tbody tr th {\n",
       "        vertical-align: top;\n",
       "    }\n",
       "\n",
       "    .dataframe thead th {\n",
       "        text-align: right;\n",
       "    }\n",
       "</style>\n",
       "<table border=\"1\" class=\"dataframe\">\n",
       "  <thead>\n",
       "    <tr style=\"text-align: right;\">\n",
       "      <th></th>\n",
       "      <th>Unnamed: 0</th>\n",
       "      <th>text</th>\n",
       "      <th>toxic</th>\n",
       "    </tr>\n",
       "  </thead>\n",
       "  <tbody>\n",
       "    <tr>\n",
       "      <th>0</th>\n",
       "      <td>0</td>\n",
       "      <td>Explanation\\nWhy the edits made under my usern...</td>\n",
       "      <td>0</td>\n",
       "    </tr>\n",
       "    <tr>\n",
       "      <th>1</th>\n",
       "      <td>1</td>\n",
       "      <td>D'aww! He matches this background colour I'm s...</td>\n",
       "      <td>0</td>\n",
       "    </tr>\n",
       "    <tr>\n",
       "      <th>2</th>\n",
       "      <td>2</td>\n",
       "      <td>Hey man, I'm really not trying to edit war. It...</td>\n",
       "      <td>0</td>\n",
       "    </tr>\n",
       "    <tr>\n",
       "      <th>3</th>\n",
       "      <td>3</td>\n",
       "      <td>\"\\nMore\\nI can't make any real suggestions on ...</td>\n",
       "      <td>0</td>\n",
       "    </tr>\n",
       "    <tr>\n",
       "      <th>4</th>\n",
       "      <td>4</td>\n",
       "      <td>You, sir, are my hero. Any chance you remember...</td>\n",
       "      <td>0</td>\n",
       "    </tr>\n",
       "    <tr>\n",
       "      <th>5</th>\n",
       "      <td>5</td>\n",
       "      <td>\"\\n\\nCongratulations from me as well, use the ...</td>\n",
       "      <td>0</td>\n",
       "    </tr>\n",
       "    <tr>\n",
       "      <th>6</th>\n",
       "      <td>6</td>\n",
       "      <td>COCKSUCKER BEFORE YOU PISS AROUND ON MY WORK</td>\n",
       "      <td>1</td>\n",
       "    </tr>\n",
       "    <tr>\n",
       "      <th>7</th>\n",
       "      <td>7</td>\n",
       "      <td>Your vandalism to the Matt Shirvington article...</td>\n",
       "      <td>0</td>\n",
       "    </tr>\n",
       "    <tr>\n",
       "      <th>8</th>\n",
       "      <td>8</td>\n",
       "      <td>Sorry if the word 'nonsense' was offensive to ...</td>\n",
       "      <td>0</td>\n",
       "    </tr>\n",
       "    <tr>\n",
       "      <th>9</th>\n",
       "      <td>9</td>\n",
       "      <td>alignment on this subject and which are contra...</td>\n",
       "      <td>0</td>\n",
       "    </tr>\n",
       "    <tr>\n",
       "      <th>10</th>\n",
       "      <td>10</td>\n",
       "      <td>\"\\nFair use rationale for Image:Wonju.jpg\\n\\nT...</td>\n",
       "      <td>0</td>\n",
       "    </tr>\n",
       "    <tr>\n",
       "      <th>11</th>\n",
       "      <td>11</td>\n",
       "      <td>bbq \\n\\nbe a man and lets discuss it-maybe ove...</td>\n",
       "      <td>0</td>\n",
       "    </tr>\n",
       "    <tr>\n",
       "      <th>12</th>\n",
       "      <td>12</td>\n",
       "      <td>Hey... what is it..\\n@ | talk .\\nWhat is it......</td>\n",
       "      <td>1</td>\n",
       "    </tr>\n",
       "    <tr>\n",
       "      <th>13</th>\n",
       "      <td>13</td>\n",
       "      <td>Before you start throwing accusations and warn...</td>\n",
       "      <td>0</td>\n",
       "    </tr>\n",
       "    <tr>\n",
       "      <th>14</th>\n",
       "      <td>14</td>\n",
       "      <td>Oh, and the girl above started her arguments w...</td>\n",
       "      <td>0</td>\n",
       "    </tr>\n",
       "  </tbody>\n",
       "</table>\n",
       "</div>"
      ],
      "text/plain": [
       "    Unnamed: 0                                               text  toxic\n",
       "0            0  Explanation\\nWhy the edits made under my usern...      0\n",
       "1            1  D'aww! He matches this background colour I'm s...      0\n",
       "2            2  Hey man, I'm really not trying to edit war. It...      0\n",
       "3            3  \"\\nMore\\nI can't make any real suggestions on ...      0\n",
       "4            4  You, sir, are my hero. Any chance you remember...      0\n",
       "5            5  \"\\n\\nCongratulations from me as well, use the ...      0\n",
       "6            6       COCKSUCKER BEFORE YOU PISS AROUND ON MY WORK      1\n",
       "7            7  Your vandalism to the Matt Shirvington article...      0\n",
       "8            8  Sorry if the word 'nonsense' was offensive to ...      0\n",
       "9            9  alignment on this subject and which are contra...      0\n",
       "10          10  \"\\nFair use rationale for Image:Wonju.jpg\\n\\nT...      0\n",
       "11          11  bbq \\n\\nbe a man and lets discuss it-maybe ove...      0\n",
       "12          12  Hey... what is it..\\n@ | talk .\\nWhat is it......      1\n",
       "13          13  Before you start throwing accusations and warn...      0\n",
       "14          14  Oh, and the girl above started her arguments w...      0"
      ]
     },
     "execution_count": 4,
     "metadata": {},
     "output_type": "execute_result"
    }
   ],
   "source": [
    "data.head(15)"
   ]
  },
  {
   "cell_type": "code",
   "execution_count": 5,
   "metadata": {},
   "outputs": [
    {
     "name": "stdout",
     "output_type": "stream",
     "text": [
      "Unnamed: 0    0\n",
      "text          0\n",
      "toxic         0\n",
      "dtype: int64\n"
     ]
    }
   ],
   "source": [
    "print(data.isnull().sum())"
   ]
  },
  {
   "cell_type": "markdown",
   "metadata": {},
   "source": [
    "Пропущенных значений нет"
   ]
  },
  {
   "cell_type": "code",
   "execution_count": 6,
   "metadata": {},
   "outputs": [
    {
     "name": "stdout",
     "output_type": "stream",
     "text": [
      "[0 1]\n"
     ]
    }
   ],
   "source": [
    "print (data['toxic'].unique())"
   ]
  },
  {
   "cell_type": "markdown",
   "metadata": {},
   "source": [
    "Посторонних значений в стобце с целевым признаком нет."
   ]
  },
  {
   "cell_type": "code",
   "execution_count": 7,
   "metadata": {},
   "outputs": [],
   "source": [
    "data_toxic= data['toxic'].value_counts()"
   ]
  },
  {
   "cell_type": "code",
   "execution_count": 8,
   "metadata": {
    "scrolled": false
   },
   "outputs": [
    {
     "data": {
      "image/png": "[encoded data removed]",
      "text/plain": [
       "<Figure size 864x432 with 2 Axes>"
      ]
     },
     "metadata": {
      "needs_background": "light"
     },
     "output_type": "display_data"
    }
   ],
   "source": [
    "fig, axes = plt.subplots(1, 2, figsize=(12, 6))\n",
    "\n",
    "axes[0].pie(data_toxic, labels=['Нетоксичные', 'Токсичные'], autopct='%1.1f%%', startangle=140, colors=['#66b3ff','#ff9999'])\n",
    "axes[0].set_title('Доля токсичных и нетоксичных сообщений')\n",
    "\n",
    "\n",
    "axes[1].bar(data_toxic.index, data_toxic.values, color=['#66b3ff','#ff9999'])\n",
    "axes[1].set_xticks(data_toxic.index)\n",
    "axes[1].set_xticklabels(['Нетоксичные соо', 'Токсичные соо'])\n",
    "axes[1].set_title('Количество токсичных и нетоксичных сообщений')\n",
    "axes[1].set_xlabel('Тип соо')\n",
    "axes[1].set_ylabel('Количество')\n",
    "\n",
    "plt.tight_layout()\n",
    "plt.show()"
   ]
  },
  {
   "cell_type": "markdown",
   "metadata": {},
   "source": [
    "Имеется датафрейм с текстом сообщений и определением, является ли сообщение токсичным или нет. В столбце toxic только два значения: 0 и 1. На круговой и столбчатых диаграммах видно преобладание нетоксичных сообщений (примерно 9 к 1), из-за чего возникает несбалансированность данных."
   ]
  },
  {
   "cell_type": "markdown",
   "metadata": {},
   "source": [
    "## Обучение"
   ]
  },
  {
   "cell_type": "code",
   "execution_count": 9,
   "metadata": {},
   "outputs": [],
   "source": [
    "X = data['text']\n",
    "y = data['toxic']"
   ]
  },
  {
   "cell_type": "code",
   "execution_count": 10,
   "metadata": {},
   "outputs": [],
   "source": [
    "X_train, X_test, y_train, y_test = train_test_split(X, y, test_size=0.2, random_state=12345)"
   ]
  },
  {
   "cell_type": "markdown",
   "metadata": {},
   "source": [
    "Функция для лемматизации текста и удаления неалфавитных символов"
   ]
  },
  {
   "cell_type": "code",
   "execution_count": 11,
   "metadata": {},
   "outputs": [],
   "source": [
    "nlp = spacy.load('en_core_web_sm')"
   ]
  },
  {
   "cell_type": "code",
   "execution_count": 12,
   "metadata": {},
   "outputs": [],
   "source": [
    "def lemmatize_text(text):\n",
    "    text = text.lower()\n",
    "    doc = nlp(text)\n",
    "    lemm_text = ' '.join([token.lemma_ for token in doc if token.is_alpha])\n",
    "    cleared_text = re.sub(r'[^a-zA-Z]', ' ', lemm_text) \n",
    "    return \" \".join(cleared_text.split())"
   ]
  },
  {
   "cell_type": "code",
   "execution_count": 13,
   "metadata": {},
   "outputs": [
    {
     "name": "stderr",
     "output_type": "stream",
     "text": [
      "100%|██████████| 127433/127433 [39:58<00:00, 53.12it/s] \n",
      "100%|██████████| 31859/31859 [09:53<00:00, 53.64it/s]\n"
     ]
    }
   ],
   "source": [
    "tqdm.pandas()\n",
    "X_train = X_train.progress_apply(lemmatize_text)\n",
    "X_test = X_test.progress_apply(lemmatize_text)"
   ]
  },
  {
   "cell_type": "markdown",
   "metadata": {},
   "source": [
    "Векторизирую текст с помощью TF-IDF"
   ]
  },
  {
   "cell_type": "markdown",
   "metadata": {},
   "source": [
    "Преобразую тексты в TF-IDF признаки"
   ]
  },
  {
   "cell_type": "code",
   "execution_count": 14,
   "metadata": {},
   "outputs": [],
   "source": [
    "tfidf = TfidfVectorizer(max_features=10000, stop_words='english')\n",
    "X_train_tfidf = tfidf.fit_transform(X_train)\n",
    "X_test_tfidf = tfidf.transform(X_test)"
   ]
  },
  {
   "cell_type": "code",
   "execution_count": 15,
   "metadata": {},
   "outputs": [],
   "source": [
    "scores_data = []"
   ]
  },
  {
   "cell_type": "code",
   "execution_count": 16,
   "metadata": {},
   "outputs": [],
   "source": [
    "classificator = LogisticRegression()"
   ]
  },
  {
   "cell_type": "markdown",
   "metadata": {},
   "source": [
    "F1 на логистической регрессии без балансировки классов:"
   ]
  },
  {
   "cell_type": "code",
   "execution_count": 17,
   "metadata": {},
   "outputs": [
    {
     "name": "stderr",
     "output_type": "stream",
     "text": [
      "/opt/conda/lib/python3.9/site-packages/sklearn/linear_model/_logistic.py:763: ConvergenceWarning: lbfgs failed to converge (status=1):\n",
      "STOP: TOTAL NO. of ITERATIONS REACHED LIMIT.\n",
      "\n",
      "Increase the number of iterations (max_iter) or scale the data as shown in:\n",
      "    https://scikit-learn.org/stable/modules/preprocessing.html\n",
      "Please also refer to the documentation for alternative solver options:\n",
      "    https://scikit-learn.org/stable/modules/linear_model.html#logistic-regression\n",
      "  n_iter_i = _check_optimize_result(\n",
      "/opt/conda/lib/python3.9/site-packages/sklearn/linear_model/_logistic.py:763: ConvergenceWarning: lbfgs failed to converge (status=1):\n",
      "STOP: TOTAL NO. of ITERATIONS REACHED LIMIT.\n",
      "\n",
      "Increase the number of iterations (max_iter) or scale the data as shown in:\n",
      "    https://scikit-learn.org/stable/modules/preprocessing.html\n",
      "Please also refer to the documentation for alternative solver options:\n",
      "    https://scikit-learn.org/stable/modules/linear_model.html#logistic-regression\n",
      "  n_iter_i = _check_optimize_result(\n",
      "/opt/conda/lib/python3.9/site-packages/sklearn/linear_model/_logistic.py:763: ConvergenceWarning: lbfgs failed to converge (status=1):\n",
      "STOP: TOTAL NO. of ITERATIONS REACHED LIMIT.\n",
      "\n",
      "Increase the number of iterations (max_iter) or scale the data as shown in:\n",
      "    https://scikit-learn.org/stable/modules/preprocessing.html\n",
      "Please also refer to the documentation for alternative solver options:\n",
      "    https://scikit-learn.org/stable/modules/linear_model.html#logistic-regression\n",
      "  n_iter_i = _check_optimize_result(\n"
     ]
    },
    {
     "name": "stdout",
     "output_type": "stream",
     "text": [
      "F1 на CV 0.7370708724684896\n"
     ]
    },
    {
     "name": "stderr",
     "output_type": "stream",
     "text": [
      "/opt/conda/lib/python3.9/site-packages/sklearn/linear_model/_logistic.py:763: ConvergenceWarning: lbfgs failed to converge (status=1):\n",
      "STOP: TOTAL NO. of ITERATIONS REACHED LIMIT.\n",
      "\n",
      "Increase the number of iterations (max_iter) or scale the data as shown in:\n",
      "    https://scikit-learn.org/stable/modules/preprocessing.html\n",
      "Please also refer to the documentation for alternative solver options:\n",
      "    https://scikit-learn.org/stable/modules/linear_model.html#logistic-regression\n",
      "  n_iter_i = _check_optimize_result(\n"
     ]
    }
   ],
   "source": [
    "train_f1 = cross_val_score(classificator, X_train_tfidf, y_train, cv=5, scoring='f1').mean()\n",
    "print('F1 на CV', train_f1)"
   ]
  },
  {
   "cell_type": "markdown",
   "metadata": {},
   "source": [
    "F1 на кросс-валидации для лог регрессии с балансированными классами"
   ]
  },
  {
   "cell_type": "code",
   "execution_count": 18,
   "metadata": {},
   "outputs": [
    {
     "name": "stderr",
     "output_type": "stream",
     "text": [
      "/opt/conda/lib/python3.9/site-packages/sklearn/linear_model/_logistic.py:763: ConvergenceWarning: lbfgs failed to converge (status=1):\n",
      "STOP: TOTAL NO. of ITERATIONS REACHED LIMIT.\n",
      "\n",
      "Increase the number of iterations (max_iter) or scale the data as shown in:\n",
      "    https://scikit-learn.org/stable/modules/preprocessing.html\n",
      "Please also refer to the documentation for alternative solver options:\n",
      "    https://scikit-learn.org/stable/modules/linear_model.html#logistic-regression\n",
      "  n_iter_i = _check_optimize_result(\n",
      "/opt/conda/lib/python3.9/site-packages/sklearn/linear_model/_logistic.py:763: ConvergenceWarning: lbfgs failed to converge (status=1):\n",
      "STOP: TOTAL NO. of ITERATIONS REACHED LIMIT.\n",
      "\n",
      "Increase the number of iterations (max_iter) or scale the data as shown in:\n",
      "    https://scikit-learn.org/stable/modules/preprocessing.html\n",
      "Please also refer to the documentation for alternative solver options:\n",
      "    https://scikit-learn.org/stable/modules/linear_model.html#logistic-regression\n",
      "  n_iter_i = _check_optimize_result(\n",
      "/opt/conda/lib/python3.9/site-packages/sklearn/linear_model/_logistic.py:763: ConvergenceWarning: lbfgs failed to converge (status=1):\n",
      "STOP: TOTAL NO. of ITERATIONS REACHED LIMIT.\n",
      "\n",
      "Increase the number of iterations (max_iter) or scale the data as shown in:\n",
      "    https://scikit-learn.org/stable/modules/preprocessing.html\n",
      "Please also refer to the documentation for alternative solver options:\n",
      "    https://scikit-learn.org/stable/modules/linear_model.html#logistic-regression\n",
      "  n_iter_i = _check_optimize_result(\n"
     ]
    },
    {
     "name": "stdout",
     "output_type": "stream",
     "text": [
      "F1 на CV с балансированными классами 0.7264026674442485\n"
     ]
    }
   ],
   "source": [
    "classificator = LogisticRegression(class_weight='balanced')\n",
    "train_f1_balanced = cross_val_score(classificator, X_train_tfidf, y_train, cv=5, scoring='f1').mean()\n",
    "print('F1 на CV с балансированными классами', train_f1_balanced)"
   ]
  },
  {
   "cell_type": "markdown",
   "metadata": {},
   "source": [
    "Функция для подбора гиперпараметров для логистической регрессии"
   ]
  },
  {
   "cell_type": "code",
   "execution_count": 19,
   "metadata": {},
   "outputs": [],
   "source": [
    "def hyperparameters(classifier, param_grid, X, y):\n",
    "    clf = GridSearchCV(classifier, param_grid, scoring='f1', cv=5)\n",
    "    clf.fit(X, y)\n",
    "    return clf.best_params_, clf.best_score_"
   ]
  },
  {
   "cell_type": "code",
   "execution_count": 20,
   "metadata": {},
   "outputs": [
    {
     "name": "stderr",
     "output_type": "stream",
     "text": [
      "/opt/conda/lib/python3.9/site-packages/sklearn/linear_model/_logistic.py:763: ConvergenceWarning: lbfgs failed to converge (status=1):\n",
      "STOP: TOTAL NO. of ITERATIONS REACHED LIMIT.\n",
      "\n",
      "Increase the number of iterations (max_iter) or scale the data as shown in:\n",
      "    https://scikit-learn.org/stable/modules/preprocessing.html\n",
      "Please also refer to the documentation for alternative solver options:\n",
      "    https://scikit-learn.org/stable/modules/linear_model.html#logistic-regression\n",
      "  n_iter_i = _check_optimize_result(\n",
      "/opt/conda/lib/python3.9/site-packages/sklearn/linear_model/_logistic.py:763: ConvergenceWarning: lbfgs failed to converge (status=1):\n",
      "STOP: TOTAL NO. of ITERATIONS REACHED LIMIT.\n",
      "\n",
      "Increase the number of iterations (max_iter) or scale the data as shown in:\n",
      "    https://scikit-learn.org/stable/modules/preprocessing.html\n",
      "Please also refer to the documentation for alternative solver options:\n",
      "    https://scikit-learn.org/stable/modules/linear_model.html#logistic-regression\n",
      "  n_iter_i = _check_optimize_result(\n",
      "/opt/conda/lib/python3.9/site-packages/sklearn/linear_model/_logistic.py:763: ConvergenceWarning: lbfgs failed to converge (status=1):\n",
      "STOP: TOTAL NO. of ITERATIONS REACHED LIMIT.\n",
      "\n",
      "Increase the number of iterations (max_iter) or scale the data as shown in:\n",
      "    https://scikit-learn.org/stable/modules/preprocessing.html\n",
      "Please also refer to the documentation for alternative solver options:\n",
      "    https://scikit-learn.org/stable/modules/linear_model.html#logistic-regression\n",
      "  n_iter_i = _check_optimize_result(\n",
      "/opt/conda/lib/python3.9/site-packages/sklearn/linear_model/_logistic.py:763: ConvergenceWarning: lbfgs failed to converge (status=1):\n",
      "STOP: TOTAL NO. of ITERATIONS REACHED LIMIT.\n",
      "\n",
      "Increase the number of iterations (max_iter) or scale the data as shown in:\n",
      "    https://scikit-learn.org/stable/modules/preprocessing.html\n",
      "Please also refer to the documentation for alternative solver options:\n",
      "    https://scikit-learn.org/stable/modules/linear_model.html#logistic-regression\n",
      "  n_iter_i = _check_optimize_result(\n",
      "/opt/conda/lib/python3.9/site-packages/sklearn/linear_model/_logistic.py:763: ConvergenceWarning: lbfgs failed to converge (status=1):\n",
      "STOP: TOTAL NO. of ITERATIONS REACHED LIMIT.\n",
      "\n",
      "Increase the number of iterations (max_iter) or scale the data as shown in:\n",
      "    https://scikit-learn.org/stable/modules/preprocessing.html\n",
      "Please also refer to the documentation for alternative solver options:\n",
      "    https://scikit-learn.org/stable/modules/linear_model.html#logistic-regression\n",
      "  n_iter_i = _check_optimize_result(\n",
      "/opt/conda/lib/python3.9/site-packages/sklearn/linear_model/_logistic.py:763: ConvergenceWarning: lbfgs failed to converge (status=1):\n",
      "STOP: TOTAL NO. of ITERATIONS REACHED LIMIT.\n",
      "\n",
      "Increase the number of iterations (max_iter) or scale the data as shown in:\n",
      "    https://scikit-learn.org/stable/modules/preprocessing.html\n",
      "Please also refer to the documentation for alternative solver options:\n",
      "    https://scikit-learn.org/stable/modules/linear_model.html#logistic-regression\n",
      "  n_iter_i = _check_optimize_result(\n",
      "/opt/conda/lib/python3.9/site-packages/sklearn/linear_model/_logistic.py:763: ConvergenceWarning: lbfgs failed to converge (status=1):\n",
      "STOP: TOTAL NO. of ITERATIONS REACHED LIMIT.\n",
      "\n",
      "Increase the number of iterations (max_iter) or scale the data as shown in:\n",
      "    https://scikit-learn.org/stable/modules/preprocessing.html\n",
      "Please also refer to the documentation for alternative solver options:\n",
      "    https://scikit-learn.org/stable/modules/linear_model.html#logistic-regression\n",
      "  n_iter_i = _check_optimize_result(\n",
      "/opt/conda/lib/python3.9/site-packages/sklearn/linear_model/_logistic.py:763: ConvergenceWarning: lbfgs failed to converge (status=1):\n",
      "STOP: TOTAL NO. of ITERATIONS REACHED LIMIT.\n",
      "\n",
      "Increase the number of iterations (max_iter) or scale the data as shown in:\n",
      "    https://scikit-learn.org/stable/modules/preprocessing.html\n",
      "Please also refer to the documentation for alternative solver options:\n",
      "    https://scikit-learn.org/stable/modules/linear_model.html#logistic-regression\n",
      "  n_iter_i = _check_optimize_result(\n",
      "/opt/conda/lib/python3.9/site-packages/sklearn/linear_model/_logistic.py:763: ConvergenceWarning: lbfgs failed to converge (status=1):\n",
      "STOP: TOTAL NO. of ITERATIONS REACHED LIMIT.\n",
      "\n",
      "Increase the number of iterations (max_iter) or scale the data as shown in:\n",
      "    https://scikit-learn.org/stable/modules/preprocessing.html\n",
      "Please also refer to the documentation for alternative solver options:\n",
      "    https://scikit-learn.org/stable/modules/linear_model.html#logistic-regression\n",
      "  n_iter_i = _check_optimize_result(\n",
      "/opt/conda/lib/python3.9/site-packages/sklearn/linear_model/_logistic.py:763: ConvergenceWarning: lbfgs failed to converge (status=1):\n",
      "STOP: TOTAL NO. of ITERATIONS REACHED LIMIT.\n",
      "\n",
      "Increase the number of iterations (max_iter) or scale the data as shown in:\n",
      "    https://scikit-learn.org/stable/modules/preprocessing.html\n",
      "Please also refer to the documentation for alternative solver options:\n",
      "    https://scikit-learn.org/stable/modules/linear_model.html#logistic-regression\n",
      "  n_iter_i = _check_optimize_result(\n",
      "/opt/conda/lib/python3.9/site-packages/sklearn/linear_model/_logistic.py:763: ConvergenceWarning: lbfgs failed to converge (status=1):\n",
      "STOP: TOTAL NO. of ITERATIONS REACHED LIMIT.\n",
      "\n",
      "Increase the number of iterations (max_iter) or scale the data as shown in:\n",
      "    https://scikit-learn.org/stable/modules/preprocessing.html\n",
      "Please also refer to the documentation for alternative solver options:\n",
      "    https://scikit-learn.org/stable/modules/linear_model.html#logistic-regression\n",
      "  n_iter_i = _check_optimize_result(\n",
      "/opt/conda/lib/python3.9/site-packages/sklearn/linear_model/_logistic.py:763: ConvergenceWarning: lbfgs failed to converge (status=1):\n",
      "STOP: TOTAL NO. of ITERATIONS REACHED LIMIT.\n",
      "\n",
      "Increase the number of iterations (max_iter) or scale the data as shown in:\n",
      "    https://scikit-learn.org/stable/modules/preprocessing.html\n",
      "Please also refer to the documentation for alternative solver options:\n",
      "    https://scikit-learn.org/stable/modules/linear_model.html#logistic-regression\n",
      "  n_iter_i = _check_optimize_result(\n",
      "/opt/conda/lib/python3.9/site-packages/sklearn/linear_model/_logistic.py:763: ConvergenceWarning: lbfgs failed to converge (status=1):\n",
      "STOP: TOTAL NO. of ITERATIONS REACHED LIMIT.\n",
      "\n",
      "Increase the number of iterations (max_iter) or scale the data as shown in:\n",
      "    https://scikit-learn.org/stable/modules/preprocessing.html\n",
      "Please also refer to the documentation for alternative solver options:\n",
      "    https://scikit-learn.org/stable/modules/linear_model.html#logistic-regression\n",
      "  n_iter_i = _check_optimize_result(\n",
      "/opt/conda/lib/python3.9/site-packages/sklearn/linear_model/_logistic.py:763: ConvergenceWarning: lbfgs failed to converge (status=1):\n",
      "STOP: TOTAL NO. of ITERATIONS REACHED LIMIT.\n",
      "\n",
      "Increase the number of iterations (max_iter) or scale the data as shown in:\n",
      "    https://scikit-learn.org/stable/modules/preprocessing.html\n",
      "Please also refer to the documentation for alternative solver options:\n",
      "    https://scikit-learn.org/stable/modules/linear_model.html#logistic-regression\n",
      "  n_iter_i = _check_optimize_result(\n",
      "/opt/conda/lib/python3.9/site-packages/sklearn/linear_model/_logistic.py:763: ConvergenceWarning: lbfgs failed to converge (status=1):\n",
      "STOP: TOTAL NO. of ITERATIONS REACHED LIMIT.\n",
      "\n",
      "Increase the number of iterations (max_iter) or scale the data as shown in:\n",
      "    https://scikit-learn.org/stable/modules/preprocessing.html\n",
      "Please also refer to the documentation for alternative solver options:\n",
      "    https://scikit-learn.org/stable/modules/linear_model.html#logistic-regression\n",
      "  n_iter_i = _check_optimize_result(\n",
      "/opt/conda/lib/python3.9/site-packages/sklearn/linear_model/_logistic.py:763: ConvergenceWarning: lbfgs failed to converge (status=1):\n",
      "STOP: TOTAL NO. of ITERATIONS REACHED LIMIT.\n",
      "\n",
      "Increase the number of iterations (max_iter) or scale the data as shown in:\n",
      "    https://scikit-learn.org/stable/modules/preprocessing.html\n",
      "Please also refer to the documentation for alternative solver options:\n",
      "    https://scikit-learn.org/stable/modules/linear_model.html#logistic-regression\n",
      "  n_iter_i = _check_optimize_result(\n",
      "/opt/conda/lib/python3.9/site-packages/sklearn/linear_model/_logistic.py:763: ConvergenceWarning: lbfgs failed to converge (status=1):\n",
      "STOP: TOTAL NO. of ITERATIONS REACHED LIMIT.\n",
      "\n",
      "Increase the number of iterations (max_iter) or scale the data as shown in:\n",
      "    https://scikit-learn.org/stable/modules/preprocessing.html\n",
      "Please also refer to the documentation for alternative solver options:\n",
      "    https://scikit-learn.org/stable/modules/linear_model.html#logistic-regression\n",
      "  n_iter_i = _check_optimize_result(\n"
     ]
    },
    {
     "name": "stdout",
     "output_type": "stream",
     "text": [
      "Лучшие параметры, найденные на этапе разработки: {'C': 10, 'class_weight': None, 'solver': 'lbfgs'}\n"
     ]
    },
    {
     "name": "stderr",
     "output_type": "stream",
     "text": [
      "/opt/conda/lib/python3.9/site-packages/sklearn/linear_model/_logistic.py:763: ConvergenceWarning: lbfgs failed to converge (status=1):\n",
      "STOP: TOTAL NO. of ITERATIONS REACHED LIMIT.\n",
      "\n",
      "Increase the number of iterations (max_iter) or scale the data as shown in:\n",
      "    https://scikit-learn.org/stable/modules/preprocessing.html\n",
      "Please also refer to the documentation for alternative solver options:\n",
      "    https://scikit-learn.org/stable/modules/linear_model.html#logistic-regression\n",
      "  n_iter_i = _check_optimize_result(\n"
     ]
    }
   ],
   "source": [
    "hyperparams = [{'solver': ['newton-cg', 'lbfgs', 'liblinear'], 'C': [0.1, 1, 10], 'class_weight': [None, 'balanced']}]\n",
    "best_params, best_cv_f1 = hyperparameters(LogisticRegression(), hyperparams, X_train_tfidf, y_train)\n",
    "print(\"Лучшие параметры, найденные на этапе разработки:\", best_params)"
   ]
  },
  {
   "cell_type": "code",
   "execution_count": 21,
   "metadata": {},
   "outputs": [
    {
     "name": "stderr",
     "output_type": "stream",
     "text": [
      "/opt/conda/lib/python3.9/site-packages/sklearn/linear_model/_logistic.py:763: ConvergenceWarning: lbfgs failed to converge (status=1):\n",
      "STOP: TOTAL NO. of ITERATIONS REACHED LIMIT.\n",
      "\n",
      "Increase the number of iterations (max_iter) or scale the data as shown in:\n",
      "    https://scikit-learn.org/stable/modules/preprocessing.html\n",
      "Please also refer to the documentation for alternative solver options:\n",
      "    https://scikit-learn.org/stable/modules/linear_model.html#logistic-regression\n",
      "  n_iter_i = _check_optimize_result(\n"
     ]
    }
   ],
   "source": [
    "classificator = LogisticRegression()\n",
    "classificator.set_params(**best_params)\n",
    "classificator.fit(X_train_tfidf, y_train)\n",
    "test_f1_LR = f1_score(y_test, classificator.predict(X_test_tfidf))\n",
    "roc_auc_LR = roc_auc_score(y_test, classificator.predict_proba(X_test_tfidf)[:, 1])"
   ]
  },
  {
   "cell_type": "code",
   "execution_count": 22,
   "metadata": {},
   "outputs": [],
   "source": [
    "results = pd.DataFrame({\n",
    "    'Модель': ['LogisticRegression Улучшенная'],\n",
    "    'F1 на CV': [best_cv_f1],\n",
    "    'F1 на тесте': [test_f1_LR],\n",
    "    'AUC-ROC': [roc_auc_LR]\n",
    "})"
   ]
  },
  {
   "cell_type": "code",
   "execution_count": 23,
   "metadata": {
    "scrolled": true
   },
   "outputs": [
    {
     "data": {
      "text/html": [
       "<div>\n",
       "<style scoped>\n",
       "    .dataframe tbody tr th:only-of-type {\n",
       "        vertical-align: middle;\n",
       "    }\n",
       "\n",
       "    .dataframe tbody tr th {\n",
       "        vertical-align: top;\n",
       "    }\n",
       "\n",
       "    .dataframe thead th {\n",
       "        text-align: right;\n",
       "    }\n",
       "</style>\n",
       "<table border=\"1\" class=\"dataframe\">\n",
       "  <thead>\n",
       "    <tr style=\"text-align: right;\">\n",
       "      <th></th>\n",
       "      <th>Модель</th>\n",
       "      <th>F1 на CV</th>\n",
       "      <th>F1 на тесте</th>\n",
       "      <th>AUC-ROC</th>\n",
       "    </tr>\n",
       "  </thead>\n",
       "  <tbody>\n",
       "    <tr>\n",
       "      <th>0</th>\n",
       "      <td>LogisticRegression Улучшенная</td>\n",
       "      <td>0.771417</td>\n",
       "      <td>0.781605</td>\n",
       "      <td>0.966702</td>\n",
       "    </tr>\n",
       "  </tbody>\n",
       "</table>\n",
       "</div>"
      ],
      "text/plain": [
       "                          Модель  F1 на CV  F1 на тесте   AUC-ROC\n",
       "0  LogisticRegression Улучшенная  0.771417     0.781605  0.966702"
      ]
     },
     "metadata": {},
     "output_type": "display_data"
    }
   ],
   "source": [
    "display(results)"
   ]
  },
  {
   "cell_type": "markdown",
   "metadata": {},
   "source": [
    "## Выводы"
   ]
  },
  {
   "cell_type": "markdown",
   "metadata": {},
   "source": [
    "В предобработке данных сделана очистка данных /datasets/toxic_comments.csv. Столбец text в нём содержит текст комментария, а toxic — целевой признак. \n",
    "\n",
    "Текст векторизирован с использованием TF-IDF с максимальным числом признаков в 10 000. \n",
    "\n",
    "F1 на логистической регрессии с кроссвалидацией без балансировки классов: 0.7370708724684896\n",
    "\n",
    "F1 на логистической регрессии с кроссвалидацией с балансом классов: 0.7264026674442485\n",
    "\n",
    "F1 на CV с уменьшением примеров нормальных комментариев: 0.8893635741968108\n",
    "\n",
    "Лучшие параметры, найденные на этапе разработки: {'C': 10, 'class_weight': None, 'solver': 'lbfgs'}\n",
    "\n",
    "Лучший результат на тестовых данных: 0.781605"
   ]
  }
 ],
 "metadata": {
  "ExecuteTimeLog": [
   {
    "duration": 352,
    "start_time": "2024-06-25T12:32:17.049Z"
   },
   {
    "duration": 3171,
    "start_time": "2024-06-25T12:32:17.552Z"
   },
   {
    "duration": 28,
    "start_time": "2024-06-25T12:32:29.413Z"
   },
   {
    "duration": 24,
    "start_time": "2024-06-25T12:32:38.921Z"
   },
   {
    "duration": 7,
    "start_time": "2024-06-25T12:32:48.774Z"
   },
   {
    "duration": 18,
    "start_time": "2024-06-25T12:38:56.665Z"
   },
   {
    "duration": 3,
    "start_time": "2024-06-25T12:39:24.583Z"
   },
   {
    "duration": 5,
    "start_time": "2024-06-25T12:39:31.386Z"
   },
   {
    "duration": 64,
    "start_time": "2024-06-25T12:41:29.920Z"
   },
   {
    "duration": 3,
    "start_time": "2024-06-25T12:41:33.192Z"
   },
   {
    "duration": 113,
    "start_time": "2024-06-25T12:41:33.487Z"
   },
   {
    "duration": 72,
    "start_time": "2024-06-25T12:41:51.456Z"
   },
   {
    "duration": 7,
    "start_time": "2024-06-25T12:42:02.961Z"
   },
   {
    "duration": 640,
    "start_time": "2024-06-25T12:42:14.380Z"
   },
   {
    "duration": 841,
    "start_time": "2024-06-25T12:42:15.022Z"
   },
   {
    "duration": 22,
    "start_time": "2024-06-25T12:42:15.864Z"
   },
   {
    "duration": 33,
    "start_time": "2024-06-25T12:42:15.887Z"
   },
   {
    "duration": 7,
    "start_time": "2024-06-25T12:42:16.015Z"
   },
   {
    "duration": 18,
    "start_time": "2024-06-25T12:42:16.195Z"
   },
   {
    "duration": 4,
    "start_time": "2024-06-25T12:42:16.589Z"
   },
   {
    "duration": 4,
    "start_time": "2024-06-25T12:42:17.031Z"
   },
   {
    "duration": 56,
    "start_time": "2024-06-25T12:42:17.245Z"
   },
   {
    "duration": 20,
    "start_time": "2024-06-25T12:42:17.479Z"
   },
   {
    "duration": 4,
    "start_time": "2024-06-25T12:43:17.807Z"
   },
   {
    "duration": 4,
    "start_time": "2024-06-25T12:43:18.311Z"
   },
   {
    "duration": 168,
    "start_time": "2024-06-25T12:43:18.524Z"
   },
   {
    "duration": 376,
    "start_time": "2024-06-25T12:44:43.519Z"
   },
   {
    "duration": 302,
    "start_time": "2024-06-25T12:45:14.736Z"
   },
   {
    "duration": 4,
    "start_time": "2024-06-25T12:45:19.832Z"
   },
   {
    "duration": 398,
    "start_time": "2024-06-25T12:45:20.213Z"
   },
   {
    "duration": 569,
    "start_time": "2024-06-25T12:45:41.429Z"
   },
   {
    "duration": 890,
    "start_time": "2024-06-25T12:45:41.999Z"
   },
   {
    "duration": 28,
    "start_time": "2024-06-25T12:45:42.890Z"
   },
   {
    "duration": 21,
    "start_time": "2024-06-25T12:45:42.919Z"
   },
   {
    "duration": 11,
    "start_time": "2024-06-25T12:45:42.941Z"
   },
   {
    "duration": 24,
    "start_time": "2024-06-25T12:45:42.953Z"
   },
   {
    "duration": 20,
    "start_time": "2024-06-25T12:45:42.978Z"
   },
   {
    "duration": 9,
    "start_time": "2024-06-25T12:45:43.000Z"
   },
   {
    "duration": 330,
    "start_time": "2024-06-25T12:45:43.010Z"
   },
   {
    "duration": 3,
    "start_time": "2024-06-25T13:09:00.490Z"
   },
   {
    "duration": 71,
    "start_time": "2024-06-25T13:09:00.890Z"
   },
   {
    "duration": 7,
    "start_time": "2024-06-25T13:09:01.271Z"
   },
   {
    "duration": 705,
    "start_time": "2024-06-25T13:09:13.884Z"
   },
   {
    "duration": 841,
    "start_time": "2024-06-25T13:09:14.591Z"
   },
   {
    "duration": 30,
    "start_time": "2024-06-25T13:09:15.434Z"
   },
   {
    "duration": 30,
    "start_time": "2024-06-25T13:09:15.467Z"
   },
   {
    "duration": 11,
    "start_time": "2024-06-25T13:09:15.510Z"
   },
   {
    "duration": 46,
    "start_time": "2024-06-25T13:09:15.523Z"
   },
   {
    "duration": 20,
    "start_time": "2024-06-25T13:09:15.571Z"
   },
   {
    "duration": 38,
    "start_time": "2024-06-25T13:09:15.592Z"
   },
   {
    "duration": 314,
    "start_time": "2024-06-25T13:09:15.631Z"
   },
   {
    "duration": 2,
    "start_time": "2024-06-25T13:09:15.948Z"
   },
   {
    "duration": 55,
    "start_time": "2024-06-25T13:09:15.963Z"
   },
   {
    "duration": 3,
    "start_time": "2024-06-25T13:09:16.166Z"
   },
   {
    "duration": 3,
    "start_time": "2024-06-25T13:09:16.503Z"
   },
   {
    "duration": 3,
    "start_time": "2024-06-25T13:09:41.378Z"
   },
   {
    "duration": 3,
    "start_time": "2024-06-25T13:09:55.564Z"
   },
   {
    "duration": 1272,
    "start_time": "2024-06-25T13:10:40.795Z"
   },
   {
    "duration": 882,
    "start_time": "2024-06-25T13:10:42.069Z"
   },
   {
    "duration": 24,
    "start_time": "2024-06-25T13:10:42.952Z"
   },
   {
    "duration": 10,
    "start_time": "2024-06-25T13:10:42.978Z"
   },
   {
    "duration": 36,
    "start_time": "2024-06-25T13:10:42.990Z"
   },
   {
    "duration": 5,
    "start_time": "2024-06-25T13:10:43.028Z"
   },
   {
    "duration": 4,
    "start_time": "2024-06-25T13:10:43.035Z"
   },
   {
    "duration": 371,
    "start_time": "2024-06-25T13:10:43.040Z"
   },
   {
    "duration": 2,
    "start_time": "2024-06-25T13:10:43.413Z"
   },
   {
    "duration": 25,
    "start_time": "2024-06-25T13:10:43.416Z"
   },
   {
    "duration": 3,
    "start_time": "2024-06-25T13:10:43.442Z"
   },
   {
    "duration": 20,
    "start_time": "2024-06-25T13:10:43.447Z"
   },
   {
    "duration": 1228,
    "start_time": "2024-06-25T13:16:24.638Z"
   },
   {
    "duration": 880,
    "start_time": "2024-06-25T13:16:25.868Z"
   },
   {
    "duration": 17,
    "start_time": "2024-06-25T13:16:26.750Z"
   },
   {
    "duration": 12,
    "start_time": "2024-06-25T13:16:26.769Z"
   },
   {
    "duration": 32,
    "start_time": "2024-06-25T13:16:26.782Z"
   },
   {
    "duration": 17,
    "start_time": "2024-06-25T13:16:26.815Z"
   },
   {
    "duration": 6,
    "start_time": "2024-06-25T13:16:26.834Z"
   },
   {
    "duration": 323,
    "start_time": "2024-06-25T13:16:26.842Z"
   },
   {
    "duration": 2,
    "start_time": "2024-06-25T13:16:27.166Z"
   },
   {
    "duration": 28,
    "start_time": "2024-06-25T13:16:27.170Z"
   },
   {
    "duration": 3,
    "start_time": "2024-06-25T13:16:27.199Z"
   },
   {
    "duration": 3,
    "start_time": "2024-06-25T13:16:27.209Z"
   },
   {
    "duration": 233,
    "start_time": "2024-06-25T13:33:46.741Z"
   },
   {
    "duration": 1408,
    "start_time": "2024-06-25T13:35:25.445Z"
   },
   {
    "duration": 916,
    "start_time": "2024-06-25T13:35:26.855Z"
   },
   {
    "duration": 20,
    "start_time": "2024-06-25T13:35:27.773Z"
   },
   {
    "duration": 20,
    "start_time": "2024-06-25T13:35:27.795Z"
   },
   {
    "duration": 27,
    "start_time": "2024-06-25T13:35:27.817Z"
   },
   {
    "duration": 3,
    "start_time": "2024-06-25T13:35:27.846Z"
   },
   {
    "duration": 4,
    "start_time": "2024-06-25T13:35:27.851Z"
   },
   {
    "duration": 407,
    "start_time": "2024-06-25T13:35:27.856Z"
   },
   {
    "duration": 2,
    "start_time": "2024-06-25T13:35:28.264Z"
   },
   {
    "duration": 34,
    "start_time": "2024-06-25T13:35:28.268Z"
   },
   {
    "duration": 3,
    "start_time": "2024-06-25T13:35:28.303Z"
   },
   {
    "duration": 11,
    "start_time": "2024-06-25T13:35:28.308Z"
   },
   {
    "duration": 64,
    "start_time": "2024-06-25T13:35:28.320Z"
   },
   {
    "duration": 0,
    "start_time": "2024-06-25T13:35:28.385Z"
   },
   {
    "duration": 0,
    "start_time": "2024-06-25T13:35:28.386Z"
   },
   {
    "duration": 0,
    "start_time": "2024-06-25T13:35:28.387Z"
   },
   {
    "duration": 0,
    "start_time": "2024-06-25T13:35:28.388Z"
   },
   {
    "duration": 0,
    "start_time": "2024-06-25T13:35:28.389Z"
   },
   {
    "duration": 0,
    "start_time": "2024-06-25T13:35:28.390Z"
   },
   {
    "duration": 0,
    "start_time": "2024-06-25T13:35:28.391Z"
   },
   {
    "duration": 1382,
    "start_time": "2024-06-25T13:36:08.478Z"
   },
   {
    "duration": 895,
    "start_time": "2024-06-25T13:36:09.861Z"
   },
   {
    "duration": 22,
    "start_time": "2024-06-25T13:36:10.757Z"
   },
   {
    "duration": 28,
    "start_time": "2024-06-25T13:36:10.781Z"
   },
   {
    "duration": 28,
    "start_time": "2024-06-25T13:36:10.810Z"
   },
   {
    "duration": 23,
    "start_time": "2024-06-25T13:36:10.840Z"
   },
   {
    "duration": 28,
    "start_time": "2024-06-25T13:36:10.864Z"
   },
   {
    "duration": 333,
    "start_time": "2024-06-25T13:36:10.894Z"
   },
   {
    "duration": 3,
    "start_time": "2024-06-25T13:36:11.228Z"
   },
   {
    "duration": 72,
    "start_time": "2024-06-25T13:36:11.233Z"
   },
   {
    "duration": 14,
    "start_time": "2024-06-25T13:36:11.306Z"
   },
   {
    "duration": 27,
    "start_time": "2024-06-25T13:36:11.321Z"
   },
   {
    "duration": 260,
    "start_time": "2024-06-25T13:36:11.349Z"
   },
   {
    "duration": 3,
    "start_time": "2024-06-25T13:36:11.610Z"
   },
   {
    "duration": 23732,
    "start_time": "2024-06-25T13:36:11.614Z"
   },
   {
    "duration": 4385,
    "start_time": "2024-06-25T13:36:35.348Z"
   },
   {
    "duration": 239004,
    "start_time": "2024-06-25T13:36:39.735Z"
   },
   {
    "duration": 0,
    "start_time": "2024-06-25T13:40:38.741Z"
   },
   {
    "duration": 0,
    "start_time": "2024-06-25T13:40:38.742Z"
   },
   {
    "duration": 0,
    "start_time": "2024-06-25T13:40:38.743Z"
   },
   {
    "duration": 100589,
    "start_time": "2024-06-25T13:43:07.423Z"
   },
   {
    "duration": 16957,
    "start_time": "2024-06-25T13:46:24.957Z"
   },
   {
    "duration": 491897,
    "start_time": "2024-06-25T13:46:41.916Z"
   },
   {
    "duration": 754004,
    "start_time": "2024-06-25T13:57:42.711Z"
   },
   {
    "duration": 754075,
    "start_time": "2024-06-25T14:10:33.550Z"
   },
   {
    "duration": 413706,
    "start_time": "2024-06-25T14:25:58.709Z"
   },
   {
    "duration": 1402,
    "start_time": "2024-06-25T14:35:21.937Z"
   },
   {
    "duration": 895,
    "start_time": "2024-06-25T14:35:23.341Z"
   },
   {
    "duration": 23,
    "start_time": "2024-06-25T14:35:24.238Z"
   },
   {
    "duration": 47,
    "start_time": "2024-06-25T14:35:24.262Z"
   },
   {
    "duration": 101,
    "start_time": "2024-06-25T14:35:24.311Z"
   },
   {
    "duration": 6,
    "start_time": "2024-06-25T14:35:24.413Z"
   },
   {
    "duration": 5,
    "start_time": "2024-06-25T14:35:24.421Z"
   },
   {
    "duration": 360,
    "start_time": "2024-06-25T14:35:24.427Z"
   },
   {
    "duration": 3,
    "start_time": "2024-06-25T14:35:24.788Z"
   },
   {
    "duration": 54,
    "start_time": "2024-06-25T14:35:24.792Z"
   },
   {
    "duration": 3,
    "start_time": "2024-06-25T14:35:24.847Z"
   },
   {
    "duration": 8,
    "start_time": "2024-06-25T14:35:24.851Z"
   },
   {
    "duration": 248,
    "start_time": "2024-06-25T14:35:24.860Z"
   },
   {
    "duration": 4,
    "start_time": "2024-06-25T14:35:25.110Z"
   },
   {
    "duration": 23094,
    "start_time": "2024-06-25T14:35:25.115Z"
   },
   {
    "duration": 4209,
    "start_time": "2024-06-25T14:35:48.211Z"
   },
   {
    "duration": 94494,
    "start_time": "2024-06-25T14:35:52.422Z"
   },
   {
    "duration": 17818,
    "start_time": "2024-06-25T14:37:26.918Z"
   },
   {
    "duration": 1606885,
    "start_time": "2024-06-25T14:37:44.738Z"
   },
   {
    "duration": 0,
    "start_time": "2024-06-25T15:04:31.625Z"
   },
   {
    "duration": 1826594,
    "start_time": "2024-06-25T15:05:21.731Z"
   },
   {
    "duration": 9,
    "start_time": "2024-06-25T15:38:29.255Z"
   },
   {
    "duration": 116,
    "start_time": "2024-06-25T15:38:56.367Z"
   },
   {
    "duration": 239342,
    "start_time": "2024-06-25T15:39:01.333Z"
   },
   {
    "duration": 10825,
    "start_time": "2024-06-25T15:43:48.538Z"
   },
   {
    "duration": 43533,
    "start_time": "2024-06-25T15:44:01.609Z"
   },
   {
    "duration": 1466,
    "start_time": "2024-06-25T15:44:58.854Z"
   },
   {
    "duration": 848,
    "start_time": "2024-06-25T15:45:00.321Z"
   },
   {
    "duration": 38,
    "start_time": "2024-06-25T15:45:01.171Z"
   },
   {
    "duration": 231,
    "start_time": "2024-06-25T15:45:01.212Z"
   },
   {
    "duration": 149,
    "start_time": "2024-06-25T15:45:01.444Z"
   },
   {
    "duration": 133,
    "start_time": "2024-06-25T15:45:01.595Z"
   },
   {
    "duration": 100,
    "start_time": "2024-06-25T15:45:01.730Z"
   },
   {
    "duration": 482,
    "start_time": "2024-06-25T15:45:01.832Z"
   },
   {
    "duration": 3,
    "start_time": "2024-06-25T15:45:02.315Z"
   },
   {
    "duration": 87,
    "start_time": "2024-06-25T15:45:02.320Z"
   },
   {
    "duration": 48,
    "start_time": "2024-06-25T15:45:02.408Z"
   },
   {
    "duration": 96,
    "start_time": "2024-06-25T15:45:02.458Z"
   },
   {
    "duration": 284,
    "start_time": "2024-06-25T15:45:02.555Z"
   },
   {
    "duration": 4,
    "start_time": "2024-06-25T15:45:02.840Z"
   },
   {
    "duration": 24451,
    "start_time": "2024-06-25T15:45:02.845Z"
   },
   {
    "duration": 4478,
    "start_time": "2024-06-25T15:45:27.297Z"
   },
   {
    "duration": 96934,
    "start_time": "2024-06-25T15:45:31.777Z"
   },
   {
    "duration": 20880,
    "start_time": "2024-06-25T15:47:08.713Z"
   },
   {
    "duration": 298678,
    "start_time": "2024-06-25T15:47:29.594Z"
   },
   {
    "duration": 0,
    "start_time": "2024-06-25T15:52:28.274Z"
   },
   {
    "duration": 5794,
    "start_time": "2024-06-25T15:55:29.575Z"
   },
   {
    "duration": 1445,
    "start_time": "2024-06-25T15:55:41.330Z"
   },
   {
    "duration": 830,
    "start_time": "2024-06-25T15:55:42.777Z"
   },
   {
    "duration": 28,
    "start_time": "2024-06-25T15:55:43.609Z"
   },
   {
    "duration": 88,
    "start_time": "2024-06-25T15:55:43.641Z"
   },
   {
    "duration": 29,
    "start_time": "2024-06-25T15:55:43.731Z"
   },
   {
    "duration": 5,
    "start_time": "2024-06-25T15:55:43.762Z"
   },
   {
    "duration": 6,
    "start_time": "2024-06-25T15:55:43.769Z"
   },
   {
    "duration": 356,
    "start_time": "2024-06-25T15:55:43.776Z"
   },
   {
    "duration": 3,
    "start_time": "2024-06-25T15:55:44.133Z"
   },
   {
    "duration": 22,
    "start_time": "2024-06-25T15:55:44.138Z"
   },
   {
    "duration": 4,
    "start_time": "2024-06-25T15:55:44.162Z"
   },
   {
    "duration": 17,
    "start_time": "2024-06-25T15:55:44.167Z"
   },
   {
    "duration": 173,
    "start_time": "2024-06-25T15:55:44.186Z"
   },
   {
    "duration": 3,
    "start_time": "2024-06-25T15:55:44.360Z"
   },
   {
    "duration": 24139,
    "start_time": "2024-06-25T15:55:44.365Z"
   },
   {
    "duration": 4683,
    "start_time": "2024-06-25T15:56:08.506Z"
   },
   {
    "duration": 104026,
    "start_time": "2024-06-25T15:56:13.191Z"
   },
   {
    "duration": 22459,
    "start_time": "2024-06-25T15:57:57.225Z"
   },
   {
    "duration": 393778,
    "start_time": "2024-06-25T15:58:19.686Z"
   },
   {
    "duration": 0,
    "start_time": "2024-06-25T16:04:53.466Z"
   },
   {
    "duration": 360850,
    "start_time": "2024-06-25T16:07:18.272Z"
   },
   {
    "duration": 8,
    "start_time": "2024-06-25T16:15:51.923Z"
   },
   {
    "duration": 1516,
    "start_time": "2024-06-25T16:16:11.776Z"
   },
   {
    "duration": 857,
    "start_time": "2024-06-25T16:16:13.293Z"
   },
   {
    "duration": 19,
    "start_time": "2024-06-25T16:16:14.152Z"
   },
   {
    "duration": 91,
    "start_time": "2024-06-25T16:16:14.173Z"
   },
   {
    "duration": 19,
    "start_time": "2024-06-25T16:16:14.266Z"
   },
   {
    "duration": 4,
    "start_time": "2024-06-25T16:16:14.286Z"
   },
   {
    "duration": 17,
    "start_time": "2024-06-25T16:16:14.292Z"
   },
   {
    "duration": 320,
    "start_time": "2024-06-25T16:16:14.310Z"
   },
   {
    "duration": 2,
    "start_time": "2024-06-25T16:16:14.632Z"
   },
   {
    "duration": 76,
    "start_time": "2024-06-25T16:16:14.636Z"
   },
   {
    "duration": 4,
    "start_time": "2024-06-25T16:16:14.713Z"
   },
   {
    "duration": 37,
    "start_time": "2024-06-25T16:16:14.718Z"
   },
   {
    "duration": 265,
    "start_time": "2024-06-25T16:16:14.757Z"
   },
   {
    "duration": 3,
    "start_time": "2024-06-25T16:16:15.024Z"
   },
   {
    "duration": 23580,
    "start_time": "2024-06-25T16:16:15.029Z"
   },
   {
    "duration": 4262,
    "start_time": "2024-06-25T16:16:38.610Z"
   },
   {
    "duration": 97239,
    "start_time": "2024-06-25T16:16:42.873Z"
   },
   {
    "duration": 17328,
    "start_time": "2024-06-25T16:18:20.114Z"
   },
   {
    "duration": 25,
    "start_time": "2024-06-25T16:18:37.443Z"
   },
   {
    "duration": 5028,
    "start_time": "2024-06-25T16:18:37.472Z"
   },
   {
    "duration": 134,
    "start_time": "2024-06-25T16:18:42.502Z"
   },
   {
    "duration": 3,
    "start_time": "2024-06-25T16:19:08.328Z"
   },
   {
    "duration": 13,
    "start_time": "2024-06-25T16:21:32.109Z"
   },
   {
    "duration": 39127,
    "start_time": "2024-06-25T16:22:17.139Z"
   },
   {
    "duration": 2,
    "start_time": "2024-06-25T16:22:59.029Z"
   },
   {
    "duration": 4889,
    "start_time": "2024-06-25T16:22:59.212Z"
   },
   {
    "duration": 8,
    "start_time": "2024-06-25T16:23:04.103Z"
   },
   {
    "duration": 22,
    "start_time": "2024-06-25T16:23:04.112Z"
   },
   {
    "duration": 162884,
    "start_time": "2024-06-25T16:23:37.932Z"
   },
   {
    "duration": 8,
    "start_time": "2024-06-25T16:26:53.915Z"
   },
   {
    "duration": 14,
    "start_time": "2024-06-25T16:27:27.825Z"
   },
   {
    "duration": 1472,
    "start_time": "2024-06-25T16:27:58.752Z"
   },
   {
    "duration": 830,
    "start_time": "2024-06-25T16:28:00.226Z"
   },
   {
    "duration": 23,
    "start_time": "2024-06-25T16:28:01.058Z"
   },
   {
    "duration": 88,
    "start_time": "2024-06-25T16:28:01.083Z"
   },
   {
    "duration": 19,
    "start_time": "2024-06-25T16:28:01.172Z"
   },
   {
    "duration": 52,
    "start_time": "2024-06-25T16:28:01.192Z"
   },
   {
    "duration": 36,
    "start_time": "2024-06-25T16:28:01.245Z"
   },
   {
    "duration": 382,
    "start_time": "2024-06-25T16:28:01.283Z"
   },
   {
    "duration": 2,
    "start_time": "2024-06-25T16:28:01.666Z"
   },
   {
    "duration": 36,
    "start_time": "2024-06-25T16:28:01.670Z"
   },
   {
    "duration": 30,
    "start_time": "2024-06-25T16:28:01.708Z"
   },
   {
    "duration": 32,
    "start_time": "2024-06-25T16:28:01.739Z"
   },
   {
    "duration": 273,
    "start_time": "2024-06-25T16:28:01.772Z"
   },
   {
    "duration": 3,
    "start_time": "2024-06-25T16:28:02.046Z"
   },
   {
    "duration": 23602,
    "start_time": "2024-06-25T16:28:02.051Z"
   },
   {
    "duration": 4343,
    "start_time": "2024-06-25T16:28:25.654Z"
   },
   {
    "duration": 165517,
    "start_time": "2024-06-25T16:28:29.999Z"
   },
   {
    "duration": 18249,
    "start_time": "2024-06-25T16:31:15.517Z"
   },
   {
    "duration": 17,
    "start_time": "2024-06-25T16:31:33.767Z"
   },
   {
    "duration": 4895,
    "start_time": "2024-06-25T16:31:33.785Z"
   },
   {
    "duration": 3,
    "start_time": "2024-06-25T16:31:38.681Z"
   },
   {
    "duration": 252212,
    "start_time": "2024-06-25T16:35:48.360Z"
   },
   {
    "duration": 1549,
    "start_time": "2024-06-25T16:42:31.083Z"
   },
   {
    "duration": 837,
    "start_time": "2024-06-25T16:42:32.634Z"
   },
   {
    "duration": 19,
    "start_time": "2024-06-25T16:42:33.473Z"
   },
   {
    "duration": 21,
    "start_time": "2024-06-25T16:42:33.494Z"
   },
   {
    "duration": 18,
    "start_time": "2024-06-25T16:42:33.517Z"
   },
   {
    "duration": 3,
    "start_time": "2024-06-25T16:42:33.537Z"
   },
   {
    "duration": 5,
    "start_time": "2024-06-25T16:42:33.541Z"
   },
   {
    "duration": 370,
    "start_time": "2024-06-25T16:42:33.547Z"
   },
   {
    "duration": 2,
    "start_time": "2024-06-25T16:42:33.919Z"
   },
   {
    "duration": 31,
    "start_time": "2024-06-25T16:42:33.923Z"
   },
   {
    "duration": 3,
    "start_time": "2024-06-25T16:42:33.956Z"
   },
   {
    "duration": 3,
    "start_time": "2024-06-25T16:42:33.960Z"
   },
   {
    "duration": 254,
    "start_time": "2024-06-25T16:42:33.965Z"
   },
   {
    "duration": 3,
    "start_time": "2024-06-25T16:42:34.221Z"
   },
   {
    "duration": 23259,
    "start_time": "2024-06-25T16:42:34.225Z"
   },
   {
    "duration": 4425,
    "start_time": "2024-06-25T16:42:57.485Z"
   },
   {
    "duration": 95299,
    "start_time": "2024-06-25T16:43:01.911Z"
   },
   {
    "duration": 16060,
    "start_time": "2024-06-25T16:44:37.211Z"
   },
   {
    "duration": 4860,
    "start_time": "2024-06-25T16:44:53.272Z"
   },
   {
    "duration": 3,
    "start_time": "2024-06-25T16:44:58.133Z"
   },
   {
    "duration": 14,
    "start_time": "2024-06-25T16:45:17.607Z"
   },
   {
    "duration": 17254,
    "start_time": "2024-06-25T16:45:47.294Z"
   },
   {
    "duration": 15,
    "start_time": "2024-06-25T16:46:08.360Z"
   },
   {
    "duration": 16315,
    "start_time": "2024-06-25T16:46:22.928Z"
   },
   {
    "duration": 13,
    "start_time": "2024-06-25T16:46:45.944Z"
   },
   {
    "duration": 1469,
    "start_time": "2024-06-25T16:47:14.674Z"
   },
   {
    "duration": 811,
    "start_time": "2024-06-25T16:47:16.145Z"
   },
   {
    "duration": 21,
    "start_time": "2024-06-25T16:47:16.957Z"
   },
   {
    "duration": 10,
    "start_time": "2024-06-25T16:47:16.980Z"
   },
   {
    "duration": 30,
    "start_time": "2024-06-25T16:47:16.991Z"
   },
   {
    "duration": 4,
    "start_time": "2024-06-25T16:47:17.023Z"
   },
   {
    "duration": 4,
    "start_time": "2024-06-25T16:47:17.028Z"
   },
   {
    "duration": 327,
    "start_time": "2024-06-25T16:47:17.033Z"
   },
   {
    "duration": 3,
    "start_time": "2024-06-25T16:47:17.361Z"
   },
   {
    "duration": 30,
    "start_time": "2024-06-25T16:47:17.366Z"
   },
   {
    "duration": 3,
    "start_time": "2024-06-25T16:47:17.397Z"
   },
   {
    "duration": 29,
    "start_time": "2024-06-25T16:47:17.408Z"
   },
   {
    "duration": 273,
    "start_time": "2024-06-25T16:47:17.439Z"
   },
   {
    "duration": 3,
    "start_time": "2024-06-25T16:47:17.714Z"
   },
   {
    "duration": 23474,
    "start_time": "2024-06-25T16:47:17.719Z"
   },
   {
    "duration": 4294,
    "start_time": "2024-06-25T16:47:41.194Z"
   },
   {
    "duration": 95224,
    "start_time": "2024-06-25T16:47:45.490Z"
   },
   {
    "duration": 30485,
    "start_time": "2024-06-25T16:49:20.725Z"
   },
   {
    "duration": 4819,
    "start_time": "2024-06-25T16:49:51.211Z"
   },
   {
    "duration": 3,
    "start_time": "2024-06-25T16:49:56.032Z"
   },
   {
    "duration": 23,
    "start_time": "2024-06-25T16:49:56.036Z"
   },
   {
    "duration": 1607,
    "start_time": "2024-06-25T16:50:37.610Z"
   },
   {
    "duration": 838,
    "start_time": "2024-06-25T16:50:39.219Z"
   },
   {
    "duration": 23,
    "start_time": "2024-06-25T16:50:40.058Z"
   },
   {
    "duration": 9,
    "start_time": "2024-06-25T16:50:40.084Z"
   },
   {
    "duration": 31,
    "start_time": "2024-06-25T16:50:40.095Z"
   },
   {
    "duration": 18,
    "start_time": "2024-06-25T16:50:40.127Z"
   },
   {
    "duration": 4,
    "start_time": "2024-06-25T16:50:40.147Z"
   },
   {
    "duration": 365,
    "start_time": "2024-06-25T16:50:40.152Z"
   },
   {
    "duration": 2,
    "start_time": "2024-06-25T16:50:40.519Z"
   },
   {
    "duration": 39,
    "start_time": "2024-06-25T16:50:40.523Z"
   },
   {
    "duration": 10,
    "start_time": "2024-06-25T16:50:40.564Z"
   },
   {
    "duration": 10,
    "start_time": "2024-06-25T16:50:40.575Z"
   },
   {
    "duration": 273,
    "start_time": "2024-06-25T16:50:40.586Z"
   },
   {
    "duration": 3,
    "start_time": "2024-06-25T16:50:40.860Z"
   },
   {
    "duration": 23915,
    "start_time": "2024-06-25T16:50:40.865Z"
   },
   {
    "duration": 4331,
    "start_time": "2024-06-25T16:51:04.782Z"
   },
   {
    "duration": 95799,
    "start_time": "2024-06-25T16:51:09.115Z"
   },
   {
    "duration": 6627,
    "start_time": "2024-06-25T16:52:44.915Z"
   },
   {
    "duration": 4864,
    "start_time": "2024-06-25T16:52:51.543Z"
   },
   {
    "duration": 3,
    "start_time": "2024-06-25T16:52:56.409Z"
   },
   {
    "duration": 33,
    "start_time": "2024-06-25T16:52:56.414Z"
   },
   {
    "duration": 4858,
    "start_time": "2024-06-25T17:19:41.491Z"
   },
   {
    "duration": 0,
    "start_time": "2024-06-25T17:19:46.351Z"
   },
   {
    "duration": 0,
    "start_time": "2024-06-25T17:19:46.352Z"
   },
   {
    "duration": 0,
    "start_time": "2024-06-25T17:19:46.353Z"
   },
   {
    "duration": 0,
    "start_time": "2024-06-25T17:19:46.354Z"
   },
   {
    "duration": 0,
    "start_time": "2024-06-25T17:19:46.355Z"
   },
   {
    "duration": 0,
    "start_time": "2024-06-25T17:19:46.356Z"
   },
   {
    "duration": 0,
    "start_time": "2024-06-25T17:19:46.356Z"
   },
   {
    "duration": 0,
    "start_time": "2024-06-25T17:19:46.358Z"
   },
   {
    "duration": 0,
    "start_time": "2024-06-25T17:19:46.359Z"
   },
   {
    "duration": 0,
    "start_time": "2024-06-25T17:19:46.360Z"
   },
   {
    "duration": 0,
    "start_time": "2024-06-25T17:19:46.361Z"
   },
   {
    "duration": 0,
    "start_time": "2024-06-25T17:19:46.362Z"
   },
   {
    "duration": 0,
    "start_time": "2024-06-25T17:19:46.362Z"
   },
   {
    "duration": 0,
    "start_time": "2024-06-25T17:19:46.363Z"
   },
   {
    "duration": 0,
    "start_time": "2024-06-25T17:19:46.365Z"
   },
   {
    "duration": 0,
    "start_time": "2024-06-25T17:19:46.365Z"
   },
   {
    "duration": 0,
    "start_time": "2024-06-25T17:19:46.366Z"
   },
   {
    "duration": 0,
    "start_time": "2024-06-25T17:19:46.367Z"
   },
   {
    "duration": 0,
    "start_time": "2024-06-25T17:19:46.368Z"
   },
   {
    "duration": 0,
    "start_time": "2024-06-25T17:19:46.369Z"
   },
   {
    "duration": 0,
    "start_time": "2024-06-25T17:19:46.370Z"
   },
   {
    "duration": 0,
    "start_time": "2024-06-25T17:19:46.371Z"
   },
   {
    "duration": 0,
    "start_time": "2024-06-25T17:19:46.372Z"
   },
   {
    "duration": 4296,
    "start_time": "2024-06-25T17:20:54.687Z"
   },
   {
    "duration": 0,
    "start_time": "2024-06-25T17:20:58.985Z"
   },
   {
    "duration": 0,
    "start_time": "2024-06-25T17:20:58.986Z"
   },
   {
    "duration": 0,
    "start_time": "2024-06-25T17:20:58.987Z"
   },
   {
    "duration": 0,
    "start_time": "2024-06-25T17:20:58.988Z"
   },
   {
    "duration": 0,
    "start_time": "2024-06-25T17:20:58.989Z"
   },
   {
    "duration": 0,
    "start_time": "2024-06-25T17:20:58.990Z"
   },
   {
    "duration": 0,
    "start_time": "2024-06-25T17:20:58.991Z"
   },
   {
    "duration": 0,
    "start_time": "2024-06-25T17:20:58.992Z"
   },
   {
    "duration": 0,
    "start_time": "2024-06-25T17:20:58.993Z"
   },
   {
    "duration": 0,
    "start_time": "2024-06-25T17:20:59.009Z"
   },
   {
    "duration": 0,
    "start_time": "2024-06-25T17:20:59.010Z"
   },
   {
    "duration": 0,
    "start_time": "2024-06-25T17:20:59.011Z"
   },
   {
    "duration": 0,
    "start_time": "2024-06-25T17:20:59.011Z"
   },
   {
    "duration": 0,
    "start_time": "2024-06-25T17:20:59.012Z"
   },
   {
    "duration": 0,
    "start_time": "2024-06-25T17:20:59.013Z"
   },
   {
    "duration": 0,
    "start_time": "2024-06-25T17:20:59.014Z"
   },
   {
    "duration": 0,
    "start_time": "2024-06-25T17:20:59.015Z"
   },
   {
    "duration": 0,
    "start_time": "2024-06-25T17:20:59.016Z"
   },
   {
    "duration": 0,
    "start_time": "2024-06-25T17:20:59.017Z"
   },
   {
    "duration": 0,
    "start_time": "2024-06-25T17:20:59.018Z"
   },
   {
    "duration": 0,
    "start_time": "2024-06-25T17:20:59.018Z"
   },
   {
    "duration": 0,
    "start_time": "2024-06-25T17:20:59.019Z"
   },
   {
    "duration": 0,
    "start_time": "2024-06-25T17:20:59.020Z"
   },
   {
    "duration": 0,
    "start_time": "2024-06-25T17:20:59.021Z"
   },
   {
    "duration": 15936,
    "start_time": "2024-06-25T17:21:02.036Z"
   },
   {
    "duration": 3043,
    "start_time": "2024-06-25T17:21:35.850Z"
   },
   {
    "duration": 4879,
    "start_time": "2024-06-25T17:21:38.895Z"
   },
   {
    "duration": 822,
    "start_time": "2024-06-25T17:21:43.776Z"
   },
   {
    "duration": 30,
    "start_time": "2024-06-25T17:21:44.600Z"
   },
   {
    "duration": 17,
    "start_time": "2024-06-25T17:21:44.631Z"
   },
   {
    "duration": 18,
    "start_time": "2024-06-25T17:21:44.649Z"
   },
   {
    "duration": 3,
    "start_time": "2024-06-25T17:21:44.668Z"
   },
   {
    "duration": 11,
    "start_time": "2024-06-25T17:21:44.672Z"
   },
   {
    "duration": 343,
    "start_time": "2024-06-25T17:21:44.684Z"
   },
   {
    "duration": 3,
    "start_time": "2024-06-25T17:21:45.029Z"
   },
   {
    "duration": 71,
    "start_time": "2024-06-25T17:21:45.033Z"
   },
   {
    "duration": 3,
    "start_time": "2024-06-25T17:21:45.106Z"
   },
   {
    "duration": 98,
    "start_time": "2024-06-25T17:21:45.111Z"
   },
   {
    "duration": 393,
    "start_time": "2024-06-25T17:21:45.211Z"
   },
   {
    "duration": 7,
    "start_time": "2024-06-25T17:21:45.606Z"
   },
   {
    "duration": 24304,
    "start_time": "2024-06-25T17:21:45.621Z"
   },
   {
    "duration": 4348,
    "start_time": "2024-06-25T17:22:09.927Z"
   },
   {
    "duration": 102337,
    "start_time": "2024-06-25T17:22:14.276Z"
   },
   {
    "duration": 7219,
    "start_time": "2024-06-25T17:23:56.615Z"
   },
   {
    "duration": 5048,
    "start_time": "2024-06-25T17:24:03.836Z"
   },
   {
    "duration": 4,
    "start_time": "2024-06-25T17:24:08.886Z"
   },
   {
    "duration": 19,
    "start_time": "2024-06-25T17:24:08.891Z"
   },
   {
    "duration": 2421,
    "start_time": "2024-06-25T17:24:08.911Z"
   },
   {
    "duration": 155440,
    "start_time": "2024-06-25T17:24:11.333Z"
   },
   {
    "duration": 49,
    "start_time": "2024-06-25T17:27:08.928Z"
   },
   {
    "duration": 77,
    "start_time": "2024-06-25T17:29:17.104Z"
   },
   {
    "duration": 0,
    "start_time": "2024-06-25T17:29:17.183Z"
   },
   {
    "duration": 0,
    "start_time": "2024-06-25T17:29:17.184Z"
   },
   {
    "duration": 0,
    "start_time": "2024-06-25T17:29:17.185Z"
   },
   {
    "duration": 0,
    "start_time": "2024-06-25T17:29:17.186Z"
   },
   {
    "duration": 0,
    "start_time": "2024-06-25T17:29:17.187Z"
   },
   {
    "duration": 0,
    "start_time": "2024-06-25T17:29:17.188Z"
   },
   {
    "duration": 0,
    "start_time": "2024-06-25T17:29:17.189Z"
   },
   {
    "duration": 0,
    "start_time": "2024-06-25T17:29:17.190Z"
   },
   {
    "duration": 0,
    "start_time": "2024-06-25T17:29:17.191Z"
   },
   {
    "duration": 0,
    "start_time": "2024-06-25T17:29:17.193Z"
   },
   {
    "duration": 0,
    "start_time": "2024-06-25T17:29:17.194Z"
   },
   {
    "duration": 0,
    "start_time": "2024-06-25T17:29:17.195Z"
   },
   {
    "duration": 0,
    "start_time": "2024-06-25T17:29:17.196Z"
   },
   {
    "duration": 0,
    "start_time": "2024-06-25T17:29:17.197Z"
   },
   {
    "duration": 0,
    "start_time": "2024-06-25T17:29:17.198Z"
   },
   {
    "duration": 0,
    "start_time": "2024-06-25T17:29:17.199Z"
   },
   {
    "duration": 0,
    "start_time": "2024-06-25T17:29:17.201Z"
   },
   {
    "duration": 0,
    "start_time": "2024-06-25T17:29:17.201Z"
   },
   {
    "duration": 0,
    "start_time": "2024-06-25T17:29:17.202Z"
   },
   {
    "duration": 0,
    "start_time": "2024-06-25T17:29:17.204Z"
   },
   {
    "duration": 2147,
    "start_time": "2024-06-25T17:29:31.900Z"
   },
   {
    "duration": 3216,
    "start_time": "2024-06-25T17:29:34.049Z"
   },
   {
    "duration": 23,
    "start_time": "2024-06-25T17:29:37.266Z"
   },
   {
    "duration": 40,
    "start_time": "2024-06-25T17:29:37.290Z"
   },
   {
    "duration": 18,
    "start_time": "2024-06-25T17:29:37.331Z"
   },
   {
    "duration": 3,
    "start_time": "2024-06-25T17:29:37.350Z"
   },
   {
    "duration": 4,
    "start_time": "2024-06-25T17:29:37.354Z"
   },
   {
    "duration": 373,
    "start_time": "2024-06-25T17:29:37.359Z"
   },
   {
    "duration": 2,
    "start_time": "2024-06-25T17:29:37.734Z"
   },
   {
    "duration": 31,
    "start_time": "2024-06-25T17:29:37.739Z"
   },
   {
    "duration": 4,
    "start_time": "2024-06-25T17:29:37.771Z"
   },
   {
    "duration": 9,
    "start_time": "2024-06-25T17:29:37.776Z"
   },
   {
    "duration": 213,
    "start_time": "2024-06-25T17:29:37.786Z"
   },
   {
    "duration": 3,
    "start_time": "2024-06-25T17:29:38.000Z"
   },
   {
    "duration": 4918,
    "start_time": "2024-06-25T17:29:38.004Z"
   },
   {
    "duration": 0,
    "start_time": "2024-06-25T17:29:42.924Z"
   },
   {
    "duration": 0,
    "start_time": "2024-06-25T17:29:42.925Z"
   },
   {
    "duration": 0,
    "start_time": "2024-06-25T17:29:42.926Z"
   },
   {
    "duration": 0,
    "start_time": "2024-06-25T17:29:42.927Z"
   },
   {
    "duration": 0,
    "start_time": "2024-06-25T17:29:42.928Z"
   },
   {
    "duration": 0,
    "start_time": "2024-06-25T17:29:42.929Z"
   },
   {
    "duration": 1844,
    "start_time": "2024-06-25T17:31:57.093Z"
   },
   {
    "duration": 945,
    "start_time": "2024-06-25T17:31:58.938Z"
   },
   {
    "duration": 34,
    "start_time": "2024-06-25T17:31:59.884Z"
   },
   {
    "duration": 10,
    "start_time": "2024-06-25T17:31:59.920Z"
   },
   {
    "duration": 24,
    "start_time": "2024-06-25T17:31:59.931Z"
   },
   {
    "duration": 3,
    "start_time": "2024-06-25T17:31:59.957Z"
   },
   {
    "duration": 4,
    "start_time": "2024-06-25T17:31:59.961Z"
   },
   {
    "duration": 364,
    "start_time": "2024-06-25T17:31:59.966Z"
   },
   {
    "duration": 3,
    "start_time": "2024-06-25T17:32:00.331Z"
   },
   {
    "duration": 50,
    "start_time": "2024-06-25T17:32:00.336Z"
   },
   {
    "duration": 35,
    "start_time": "2024-06-25T17:32:00.388Z"
   },
   {
    "duration": 53,
    "start_time": "2024-06-25T17:32:00.425Z"
   },
   {
    "duration": 190,
    "start_time": "2024-06-25T17:32:00.479Z"
   },
   {
    "duration": 0,
    "start_time": "2024-06-25T17:32:00.671Z"
   },
   {
    "duration": 0,
    "start_time": "2024-06-25T17:32:00.673Z"
   },
   {
    "duration": 0,
    "start_time": "2024-06-25T17:32:00.674Z"
   },
   {
    "duration": 0,
    "start_time": "2024-06-25T17:32:00.675Z"
   },
   {
    "duration": 0,
    "start_time": "2024-06-25T17:32:00.676Z"
   },
   {
    "duration": 0,
    "start_time": "2024-06-25T17:32:00.678Z"
   },
   {
    "duration": 0,
    "start_time": "2024-06-25T17:32:00.679Z"
   },
   {
    "duration": 0,
    "start_time": "2024-06-25T17:32:00.680Z"
   },
   {
    "duration": 1956,
    "start_time": "2024-06-25T17:33:30.172Z"
   },
   {
    "duration": 845,
    "start_time": "2024-06-25T17:33:32.130Z"
   },
   {
    "duration": 22,
    "start_time": "2024-06-25T17:33:32.976Z"
   },
   {
    "duration": 121,
    "start_time": "2024-06-25T17:33:33.011Z"
   },
   {
    "duration": 24,
    "start_time": "2024-06-25T17:33:33.135Z"
   },
   {
    "duration": 12,
    "start_time": "2024-06-25T17:33:33.160Z"
   },
   {
    "duration": 21,
    "start_time": "2024-06-25T17:33:33.173Z"
   },
   {
    "duration": 338,
    "start_time": "2024-06-25T17:33:33.195Z"
   },
   {
    "duration": 3,
    "start_time": "2024-06-25T17:33:33.534Z"
   },
   {
    "duration": 27,
    "start_time": "2024-06-25T17:33:33.538Z"
   },
   {
    "duration": 3,
    "start_time": "2024-06-25T17:33:33.567Z"
   },
   {
    "duration": 7,
    "start_time": "2024-06-25T17:33:33.571Z"
   },
   {
    "duration": 424,
    "start_time": "2024-06-25T17:33:33.579Z"
   },
   {
    "duration": 0,
    "start_time": "2024-06-25T17:33:34.005Z"
   },
   {
    "duration": 0,
    "start_time": "2024-06-25T17:33:34.006Z"
   },
   {
    "duration": 0,
    "start_time": "2024-06-25T17:33:34.007Z"
   },
   {
    "duration": 0,
    "start_time": "2024-06-25T17:33:34.008Z"
   },
   {
    "duration": 0,
    "start_time": "2024-06-25T17:33:34.021Z"
   },
   {
    "duration": 0,
    "start_time": "2024-06-25T17:33:34.024Z"
   },
   {
    "duration": 0,
    "start_time": "2024-06-25T17:33:34.025Z"
   },
   {
    "duration": 0,
    "start_time": "2024-06-25T17:33:34.026Z"
   },
   {
    "duration": 1927,
    "start_time": "2024-06-25T17:34:48.874Z"
   },
   {
    "duration": 855,
    "start_time": "2024-06-25T17:34:50.803Z"
   },
   {
    "duration": 20,
    "start_time": "2024-06-25T17:34:51.660Z"
   },
   {
    "duration": 44,
    "start_time": "2024-06-25T17:34:51.682Z"
   },
   {
    "duration": 27,
    "start_time": "2024-06-25T17:34:51.728Z"
   },
   {
    "duration": 14,
    "start_time": "2024-06-25T17:34:51.757Z"
   },
   {
    "duration": 4,
    "start_time": "2024-06-25T17:34:51.772Z"
   },
   {
    "duration": 352,
    "start_time": "2024-06-25T17:34:51.777Z"
   },
   {
    "duration": 3,
    "start_time": "2024-06-25T17:34:52.130Z"
   },
   {
    "duration": 49,
    "start_time": "2024-06-25T17:34:52.135Z"
   },
   {
    "duration": 3,
    "start_time": "2024-06-25T17:34:52.186Z"
   },
   {
    "duration": 18,
    "start_time": "2024-06-25T17:34:52.190Z"
   },
   {
    "duration": 281,
    "start_time": "2024-06-25T17:34:52.214Z"
   },
   {
    "duration": 3,
    "start_time": "2024-06-25T17:34:52.497Z"
   },
   {
    "duration": 24463,
    "start_time": "2024-06-25T17:34:52.501Z"
   },
   {
    "duration": 4722,
    "start_time": "2024-06-25T17:35:16.965Z"
   },
   {
    "duration": 163243,
    "start_time": "2024-06-25T17:35:21.689Z"
   },
   {
    "duration": 7045,
    "start_time": "2024-06-25T17:38:05.010Z"
   },
   {
    "duration": 5012,
    "start_time": "2024-06-25T17:38:12.056Z"
   },
   {
    "duration": 3,
    "start_time": "2024-06-25T17:38:17.069Z"
   },
   {
    "duration": 165,
    "start_time": "2024-06-25T17:38:17.073Z"
   },
   {
    "duration": 14,
    "start_time": "2024-06-25T17:40:27.420Z"
   },
   {
    "duration": 1597,
    "start_time": "2024-06-26T02:57:08.597Z"
   },
   {
    "duration": 3145,
    "start_time": "2024-06-26T02:57:10.195Z"
   },
   {
    "duration": 23,
    "start_time": "2024-06-26T02:57:13.341Z"
   },
   {
    "duration": 11,
    "start_time": "2024-06-26T02:57:13.366Z"
   },
   {
    "duration": 19,
    "start_time": "2024-06-26T02:57:13.379Z"
   },
   {
    "duration": 12,
    "start_time": "2024-06-26T02:57:13.399Z"
   },
   {
    "duration": 5,
    "start_time": "2024-06-26T02:57:13.413Z"
   },
   {
    "duration": 374,
    "start_time": "2024-06-26T02:57:13.419Z"
   },
   {
    "duration": 3,
    "start_time": "2024-06-26T02:57:13.795Z"
   },
   {
    "duration": 47,
    "start_time": "2024-06-26T02:57:13.799Z"
   },
   {
    "duration": 3,
    "start_time": "2024-06-26T02:57:13.848Z"
   },
   {
    "duration": 4,
    "start_time": "2024-06-26T02:57:13.852Z"
   },
   {
    "duration": 6860,
    "start_time": "2024-06-26T02:57:13.857Z"
   },
   {
    "duration": 101793,
    "start_time": "2024-06-26T02:57:20.719Z"
   },
   {
    "duration": 8610,
    "start_time": "2024-06-26T02:59:02.521Z"
   },
   {
    "duration": 8961,
    "start_time": "2024-06-26T02:59:11.132Z"
   },
   {
    "duration": 3,
    "start_time": "2024-06-26T02:59:20.094Z"
   },
   {
    "duration": 35,
    "start_time": "2024-06-26T02:59:20.109Z"
   },
   {
    "duration": 1318,
    "start_time": "2024-06-26T03:00:22.671Z"
   },
   {
    "duration": 878,
    "start_time": "2024-06-26T03:00:23.990Z"
   },
   {
    "duration": 22,
    "start_time": "2024-06-26T03:00:24.870Z"
   },
   {
    "duration": 18,
    "start_time": "2024-06-26T03:00:24.893Z"
   },
   {
    "duration": 25,
    "start_time": "2024-06-26T03:00:24.913Z"
   },
   {
    "duration": 11,
    "start_time": "2024-06-26T03:00:24.940Z"
   },
   {
    "duration": 12,
    "start_time": "2024-06-26T03:00:24.953Z"
   },
   {
    "duration": 362,
    "start_time": "2024-06-26T03:00:24.967Z"
   },
   {
    "duration": 3,
    "start_time": "2024-06-26T03:00:25.330Z"
   },
   {
    "duration": 25,
    "start_time": "2024-06-26T03:00:25.334Z"
   },
   {
    "duration": 3,
    "start_time": "2024-06-26T03:00:25.360Z"
   },
   {
    "duration": 7,
    "start_time": "2024-06-26T03:00:25.364Z"
   },
   {
    "duration": 7146,
    "start_time": "2024-06-26T03:00:25.372Z"
   },
   {
    "duration": 88797,
    "start_time": "2024-06-26T03:00:32.520Z"
   },
   {
    "duration": 9749,
    "start_time": "2024-06-26T03:02:01.318Z"
   },
   {
    "duration": 9211,
    "start_time": "2024-06-26T03:02:11.068Z"
   },
   {
    "duration": 3,
    "start_time": "2024-06-26T03:02:20.281Z"
   },
   {
    "duration": 28,
    "start_time": "2024-06-26T03:02:20.286Z"
   },
   {
    "duration": 1472,
    "start_time": "2024-06-26T03:07:41.283Z"
   },
   {
    "duration": 0,
    "start_time": "2024-06-26T03:07:42.756Z"
   },
   {
    "duration": 0,
    "start_time": "2024-06-26T03:07:42.757Z"
   },
   {
    "duration": 0,
    "start_time": "2024-06-26T03:07:42.758Z"
   },
   {
    "duration": 0,
    "start_time": "2024-06-26T03:07:42.759Z"
   },
   {
    "duration": 0,
    "start_time": "2024-06-26T03:07:42.760Z"
   },
   {
    "duration": 0,
    "start_time": "2024-06-26T03:07:42.761Z"
   },
   {
    "duration": 0,
    "start_time": "2024-06-26T03:07:42.761Z"
   },
   {
    "duration": 0,
    "start_time": "2024-06-26T03:07:42.762Z"
   },
   {
    "duration": 0,
    "start_time": "2024-06-26T03:07:42.763Z"
   },
   {
    "duration": 0,
    "start_time": "2024-06-26T03:07:42.764Z"
   },
   {
    "duration": 0,
    "start_time": "2024-06-26T03:07:42.765Z"
   },
   {
    "duration": 0,
    "start_time": "2024-06-26T03:07:42.766Z"
   },
   {
    "duration": 0,
    "start_time": "2024-06-26T03:07:42.767Z"
   },
   {
    "duration": 0,
    "start_time": "2024-06-26T03:07:42.768Z"
   },
   {
    "duration": 0,
    "start_time": "2024-06-26T03:07:42.768Z"
   },
   {
    "duration": 0,
    "start_time": "2024-06-26T03:07:42.769Z"
   },
   {
    "duration": 0,
    "start_time": "2024-06-26T03:07:42.770Z"
   },
   {
    "duration": 0,
    "start_time": "2024-06-26T03:07:42.771Z"
   },
   {
    "duration": 0,
    "start_time": "2024-06-26T03:07:42.771Z"
   },
   {
    "duration": 0,
    "start_time": "2024-06-26T03:07:42.772Z"
   },
   {
    "duration": 7050,
    "start_time": "2024-06-26T03:08:20.613Z"
   },
   {
    "duration": 1264,
    "start_time": "2024-06-26T03:08:27.664Z"
   },
   {
    "duration": 894,
    "start_time": "2024-06-26T03:08:28.929Z"
   },
   {
    "duration": 24,
    "start_time": "2024-06-26T03:08:29.824Z"
   },
   {
    "duration": 10,
    "start_time": "2024-06-26T03:08:29.849Z"
   },
   {
    "duration": 18,
    "start_time": "2024-06-26T03:08:29.861Z"
   },
   {
    "duration": 4,
    "start_time": "2024-06-26T03:08:29.880Z"
   },
   {
    "duration": 4,
    "start_time": "2024-06-26T03:08:29.909Z"
   },
   {
    "duration": 385,
    "start_time": "2024-06-26T03:08:29.914Z"
   },
   {
    "duration": 2,
    "start_time": "2024-06-26T03:08:30.301Z"
   },
   {
    "duration": 58,
    "start_time": "2024-06-26T03:08:30.313Z"
   },
   {
    "duration": 33,
    "start_time": "2024-06-26T03:08:30.372Z"
   },
   {
    "duration": 56,
    "start_time": "2024-06-26T03:08:30.406Z"
   },
   {
    "duration": 109,
    "start_time": "2024-06-26T03:08:30.463Z"
   },
   {
    "duration": 85,
    "start_time": "2024-06-26T03:08:30.574Z"
   },
   {
    "duration": 0,
    "start_time": "2024-06-26T03:08:30.661Z"
   },
   {
    "duration": 0,
    "start_time": "2024-06-26T03:08:30.662Z"
   },
   {
    "duration": 0,
    "start_time": "2024-06-26T03:08:30.663Z"
   },
   {
    "duration": 0,
    "start_time": "2024-06-26T03:08:30.664Z"
   },
   {
    "duration": 0,
    "start_time": "2024-06-26T03:08:30.665Z"
   },
   {
    "duration": 0,
    "start_time": "2024-06-26T03:08:30.666Z"
   },
   {
    "duration": 0,
    "start_time": "2024-06-26T03:08:30.667Z"
   },
   {
    "duration": 4160,
    "start_time": "2024-06-26T03:08:37.390Z"
   },
   {
    "duration": 6728,
    "start_time": "2024-06-26T03:08:41.551Z"
   },
   {
    "duration": 7077,
    "start_time": "2024-06-26T03:08:48.280Z"
   },
   {
    "duration": 96358,
    "start_time": "2024-06-26T03:08:55.359Z"
   },
   {
    "duration": 149816,
    "start_time": "2024-06-26T03:10:31.719Z"
   },
   {
    "duration": 11018,
    "start_time": "2024-06-26T03:13:01.537Z"
   },
   {
    "duration": 3,
    "start_time": "2024-06-26T03:13:12.556Z"
   },
   {
    "duration": 113,
    "start_time": "2024-06-26T03:14:40.610Z"
   },
   {
    "duration": 7746,
    "start_time": "2024-06-26T03:14:44.931Z"
   },
   {
    "duration": 30,
    "start_time": "2024-06-26T03:14:52.679Z"
   },
   {
    "duration": 2580,
    "start_time": "2024-06-26T03:22:15.938Z"
   },
   {
    "duration": 1292,
    "start_time": "2024-06-26T03:22:18.521Z"
   },
   {
    "duration": 897,
    "start_time": "2024-06-26T03:22:19.815Z"
   },
   {
    "duration": 27,
    "start_time": "2024-06-26T03:22:20.714Z"
   },
   {
    "duration": 21,
    "start_time": "2024-06-26T03:22:20.742Z"
   },
   {
    "duration": 31,
    "start_time": "2024-06-26T03:22:20.765Z"
   },
   {
    "duration": 30,
    "start_time": "2024-06-26T03:22:20.798Z"
   },
   {
    "duration": 4,
    "start_time": "2024-06-26T03:22:20.829Z"
   },
   {
    "duration": 352,
    "start_time": "2024-06-26T03:22:20.834Z"
   },
   {
    "duration": 2,
    "start_time": "2024-06-26T03:22:21.188Z"
   },
   {
    "duration": 118,
    "start_time": "2024-06-26T03:22:21.192Z"
   },
   {
    "duration": 18,
    "start_time": "2024-06-26T03:22:21.312Z"
   },
   {
    "duration": 41,
    "start_time": "2024-06-26T03:22:21.331Z"
   },
   {
    "duration": 22,
    "start_time": "2024-06-26T03:22:21.373Z"
   },
   {
    "duration": 4315,
    "start_time": "2024-06-26T03:22:21.397Z"
   },
   {
    "duration": 6935,
    "start_time": "2024-06-26T03:22:25.713Z"
   },
   {
    "duration": 7681,
    "start_time": "2024-06-26T03:22:32.650Z"
   },
   {
    "duration": 95983,
    "start_time": "2024-06-26T03:22:40.332Z"
   },
   {
    "duration": 151504,
    "start_time": "2024-06-26T03:24:16.317Z"
   },
   {
    "duration": 10968,
    "start_time": "2024-06-26T03:26:47.823Z"
   },
   {
    "duration": 3,
    "start_time": "2024-06-26T03:26:58.792Z"
   },
   {
    "duration": 34,
    "start_time": "2024-06-26T03:26:58.796Z"
   },
   {
    "duration": 2600,
    "start_time": "2024-06-26T03:43:13.949Z"
   },
   {
    "duration": 1274,
    "start_time": "2024-06-26T03:43:16.551Z"
   },
   {
    "duration": 889,
    "start_time": "2024-06-26T03:43:17.827Z"
   },
   {
    "duration": 21,
    "start_time": "2024-06-26T03:43:18.718Z"
   },
   {
    "duration": 16,
    "start_time": "2024-06-26T03:43:18.740Z"
   },
   {
    "duration": 25,
    "start_time": "2024-06-26T03:43:18.757Z"
   },
   {
    "duration": 4,
    "start_time": "2024-06-26T03:43:18.783Z"
   },
   {
    "duration": 23,
    "start_time": "2024-06-26T03:43:18.788Z"
   },
   {
    "duration": 381,
    "start_time": "2024-06-26T03:43:18.813Z"
   },
   {
    "duration": 2,
    "start_time": "2024-06-26T03:43:19.196Z"
   },
   {
    "duration": 39,
    "start_time": "2024-06-26T03:43:19.199Z"
   },
   {
    "duration": 3,
    "start_time": "2024-06-26T03:43:19.239Z"
   },
   {
    "duration": 46,
    "start_time": "2024-06-26T03:43:19.243Z"
   },
   {
    "duration": 18,
    "start_time": "2024-06-26T03:43:19.291Z"
   },
   {
    "duration": 4211,
    "start_time": "2024-06-26T03:43:19.311Z"
   },
   {
    "duration": 7019,
    "start_time": "2024-06-26T03:43:23.523Z"
   },
   {
    "duration": 7729,
    "start_time": "2024-06-26T03:43:30.543Z"
   },
   {
    "duration": 97237,
    "start_time": "2024-06-26T03:43:38.273Z"
   },
   {
    "duration": 151902,
    "start_time": "2024-06-26T03:45:15.518Z"
   },
   {
    "duration": 11084,
    "start_time": "2024-06-26T03:47:47.421Z"
   },
   {
    "duration": 3,
    "start_time": "2024-06-26T03:47:58.509Z"
   },
   {
    "duration": 34,
    "start_time": "2024-06-26T03:47:58.514Z"
   },
   {
    "duration": 27,
    "start_time": "2024-06-26T03:49:54.022Z"
   },
   {
    "duration": 3,
    "start_time": "2024-06-26T04:05:11.522Z"
   },
   {
    "duration": 3,
    "start_time": "2024-06-26T04:05:19.570Z"
   },
   {
    "duration": 117,
    "start_time": "2024-06-26T04:11:03.907Z"
   },
   {
    "duration": 3,
    "start_time": "2024-06-26T04:11:23.624Z"
   },
   {
    "duration": 142,
    "start_time": "2024-06-26T04:11:28.252Z"
   },
   {
    "duration": 2647,
    "start_time": "2024-06-26T04:11:52.628Z"
   },
   {
    "duration": 1278,
    "start_time": "2024-06-26T04:11:55.277Z"
   },
   {
    "duration": 868,
    "start_time": "2024-06-26T04:11:56.556Z"
   },
   {
    "duration": 22,
    "start_time": "2024-06-26T04:11:57.426Z"
   },
   {
    "duration": 11,
    "start_time": "2024-06-26T04:11:57.449Z"
   },
   {
    "duration": 26,
    "start_time": "2024-06-26T04:11:57.463Z"
   },
   {
    "duration": 43,
    "start_time": "2024-06-26T04:11:57.491Z"
   },
   {
    "duration": 6,
    "start_time": "2024-06-26T04:11:57.536Z"
   },
   {
    "duration": 431,
    "start_time": "2024-06-26T04:11:57.543Z"
   },
   {
    "duration": 2,
    "start_time": "2024-06-26T04:11:57.977Z"
   },
   {
    "duration": 38,
    "start_time": "2024-06-26T04:11:57.980Z"
   },
   {
    "duration": 3,
    "start_time": "2024-06-26T04:11:58.019Z"
   },
   {
    "duration": 18,
    "start_time": "2024-06-26T04:11:58.024Z"
   },
   {
    "duration": 4,
    "start_time": "2024-06-26T04:11:58.044Z"
   },
   {
    "duration": 4160,
    "start_time": "2024-06-26T04:11:58.049Z"
   },
   {
    "duration": 6823,
    "start_time": "2024-06-26T04:12:02.210Z"
   },
   {
    "duration": 7605,
    "start_time": "2024-06-26T04:12:09.035Z"
   },
   {
    "duration": 95773,
    "start_time": "2024-06-26T04:12:16.642Z"
   },
   {
    "duration": 148912,
    "start_time": "2024-06-26T04:13:52.416Z"
   },
   {
    "duration": 11140,
    "start_time": "2024-06-26T04:16:21.330Z"
   },
   {
    "duration": 2,
    "start_time": "2024-06-26T04:16:32.472Z"
   },
   {
    "duration": 112,
    "start_time": "2024-06-26T04:16:32.475Z"
   },
   {
    "duration": 7617,
    "start_time": "2024-06-26T09:30:17.994Z"
   },
   {
    "duration": 8852,
    "start_time": "2024-06-26T09:30:25.614Z"
   },
   {
    "duration": 2591,
    "start_time": "2024-06-26T09:34:02.899Z"
   },
   {
    "duration": 4821,
    "start_time": "2024-06-26T09:34:05.493Z"
   },
   {
    "duration": 2302,
    "start_time": "2024-06-26T09:34:10.316Z"
   },
   {
    "duration": 33,
    "start_time": "2024-06-26T09:34:12.620Z"
   },
   {
    "duration": 41,
    "start_time": "2024-06-26T09:34:12.655Z"
   },
   {
    "duration": 25,
    "start_time": "2024-06-26T09:34:12.698Z"
   },
   {
    "duration": 4,
    "start_time": "2024-06-26T09:34:12.725Z"
   },
   {
    "duration": 10,
    "start_time": "2024-06-26T09:34:12.730Z"
   },
   {
    "duration": 487,
    "start_time": "2024-06-26T09:34:12.741Z"
   },
   {
    "duration": 2,
    "start_time": "2024-06-26T09:34:13.230Z"
   },
   {
    "duration": 49,
    "start_time": "2024-06-26T09:34:13.234Z"
   },
   {
    "duration": 24,
    "start_time": "2024-06-26T09:34:13.285Z"
   },
   {
    "duration": 36,
    "start_time": "2024-06-26T09:34:13.311Z"
   },
   {
    "duration": 562,
    "start_time": "2024-06-26T09:34:13.349Z"
   },
   {
    "duration": 3,
    "start_time": "2024-06-26T09:34:13.913Z"
   },
   {
    "duration": 90991,
    "start_time": "2024-06-26T09:34:13.917Z"
   },
   {
    "duration": 0,
    "start_time": "2024-06-26T09:35:44.911Z"
   },
   {
    "duration": 0,
    "start_time": "2024-06-26T09:35:44.912Z"
   },
   {
    "duration": 0,
    "start_time": "2024-06-26T09:35:44.914Z"
   },
   {
    "duration": 0,
    "start_time": "2024-06-26T09:35:44.916Z"
   },
   {
    "duration": 0,
    "start_time": "2024-06-26T09:35:44.917Z"
   },
   {
    "duration": 0,
    "start_time": "2024-06-26T09:35:44.919Z"
   },
   {
    "duration": 0,
    "start_time": "2024-06-26T09:35:44.921Z"
   },
   {
    "duration": 2738,
    "start_time": "2024-06-26T09:37:30.700Z"
   },
   {
    "duration": 4410,
    "start_time": "2024-06-26T09:37:33.441Z"
   },
   {
    "duration": 908,
    "start_time": "2024-06-26T09:37:37.853Z"
   },
   {
    "duration": 35,
    "start_time": "2024-06-26T09:37:38.763Z"
   },
   {
    "duration": 24,
    "start_time": "2024-06-26T09:37:38.800Z"
   },
   {
    "duration": 31,
    "start_time": "2024-06-26T09:37:38.826Z"
   },
   {
    "duration": 13,
    "start_time": "2024-06-26T09:37:38.859Z"
   },
   {
    "duration": 13,
    "start_time": "2024-06-26T09:37:38.874Z"
   },
   {
    "duration": 383,
    "start_time": "2024-06-26T09:37:38.889Z"
   },
   {
    "duration": 7,
    "start_time": "2024-06-26T09:37:39.275Z"
   },
   {
    "duration": 33,
    "start_time": "2024-06-26T09:37:39.283Z"
   },
   {
    "duration": 3,
    "start_time": "2024-06-26T09:37:39.318Z"
   },
   {
    "duration": 13,
    "start_time": "2024-06-26T09:37:39.322Z"
   },
   {
    "duration": 566,
    "start_time": "2024-06-26T09:37:39.338Z"
   },
   {
    "duration": 3,
    "start_time": "2024-06-26T09:37:39.905Z"
   },
   {
    "duration": 2775040,
    "start_time": "2024-06-26T09:37:39.910Z"
   },
   {
    "duration": 8158,
    "start_time": "2024-06-26T10:23:54.952Z"
   },
   {
    "duration": 8670,
    "start_time": "2024-06-26T10:24:03.112Z"
   },
   {
    "duration": 147001,
    "start_time": "2024-06-26T10:24:11.784Z"
   },
   {
    "duration": 197424,
    "start_time": "2024-06-26T10:26:38.787Z"
   },
   {
    "duration": 22121,
    "start_time": "2024-06-26T10:29:56.213Z"
   },
   {
    "duration": 4,
    "start_time": "2024-06-26T10:30:18.336Z"
   },
   {
    "duration": 15,
    "start_time": "2024-06-26T10:30:18.343Z"
   },
   {
    "duration": 19,
    "start_time": "2024-06-26T10:48:09.647Z"
   },
   {
    "duration": 18,
    "start_time": "2024-06-26T10:48:39.496Z"
   },
   {
    "duration": 186011,
    "start_time": "2024-06-26T10:55:26.483Z"
   },
   {
    "duration": 29558,
    "start_time": "2024-06-26T10:58:49.125Z"
   },
   {
    "duration": 128990,
    "start_time": "2024-06-26T10:59:28.652Z"
   },
   {
    "duration": 140003,
    "start_time": "2024-06-26T11:02:11.000Z"
   },
   {
    "duration": 5,
    "start_time": "2024-06-26T11:07:25.809Z"
   },
   {
    "duration": 425073,
    "start_time": "2024-06-26T11:07:38.031Z"
   },
   {
    "duration": 3,
    "start_time": "2024-06-26T11:33:01.676Z"
   },
   {
    "duration": 21,
    "start_time": "2024-06-26T11:33:09.048Z"
   },
   {
    "duration": 4701,
    "start_time": "2024-06-27T06:51:04.200Z"
   },
   {
    "duration": 2373,
    "start_time": "2024-06-27T06:51:09.518Z"
   },
   {
    "duration": 35,
    "start_time": "2024-06-27T06:51:11.893Z"
   },
   {
    "duration": 154,
    "start_time": "2024-06-27T06:51:11.929Z"
   },
   {
    "duration": 26,
    "start_time": "2024-06-27T06:51:12.169Z"
   },
   {
    "duration": 4,
    "start_time": "2024-06-27T06:51:13.571Z"
   },
   {
    "duration": 4,
    "start_time": "2024-06-27T06:51:14.715Z"
   },
   {
    "duration": 449,
    "start_time": "2024-06-27T06:51:16.473Z"
   },
   {
    "duration": 3,
    "start_time": "2024-06-27T06:51:20.251Z"
   },
   {
    "duration": 34,
    "start_time": "2024-06-27T06:51:20.653Z"
   },
   {
    "duration": 3,
    "start_time": "2024-06-27T06:51:21.088Z"
   },
   {
    "duration": 3,
    "start_time": "2024-06-27T06:51:21.692Z"
   },
   {
    "duration": 511,
    "start_time": "2024-06-27T06:51:22.855Z"
   },
   {
    "duration": 4,
    "start_time": "2024-06-27T06:51:23.943Z"
   },
   {
    "duration": 797434,
    "start_time": "2024-06-27T06:51:26.603Z"
   },
   {
    "duration": 8753,
    "start_time": "2024-06-27T07:07:21.024Z"
   },
   {
    "duration": 41482,
    "start_time": "2024-06-27T07:07:36.172Z"
   },
   {
    "duration": 4072,
    "start_time": "2024-06-27T07:10:25.906Z"
   },
   {
    "duration": 953,
    "start_time": "2024-06-27T07:10:29.979Z"
   },
   {
    "duration": 37,
    "start_time": "2024-06-27T07:10:30.934Z"
   },
   {
    "duration": 285,
    "start_time": "2024-06-27T07:10:30.973Z"
   },
   {
    "duration": 361,
    "start_time": "2024-06-27T07:10:31.260Z"
   },
   {
    "duration": 4,
    "start_time": "2024-06-27T07:10:34.478Z"
   },
   {
    "duration": 4,
    "start_time": "2024-06-27T07:10:36.538Z"
   },
   {
    "duration": 333,
    "start_time": "2024-06-27T07:10:37.052Z"
   },
   {
    "duration": 3,
    "start_time": "2024-06-27T07:10:38.866Z"
   },
   {
    "duration": 31,
    "start_time": "2024-06-27T07:10:42.196Z"
   },
   {
    "duration": 4,
    "start_time": "2024-06-27T07:10:43.041Z"
   },
   {
    "duration": 3,
    "start_time": "2024-06-27T07:10:44.103Z"
   },
   {
    "duration": 4157,
    "start_time": "2024-06-27T07:15:06.941Z"
   },
   {
    "duration": 910,
    "start_time": "2024-06-27T07:15:11.101Z"
   },
   {
    "duration": 41,
    "start_time": "2024-06-27T07:15:12.014Z"
   },
   {
    "duration": 351,
    "start_time": "2024-06-27T07:15:12.056Z"
   },
   {
    "duration": 25,
    "start_time": "2024-06-27T07:15:12.409Z"
   },
   {
    "duration": 24,
    "start_time": "2024-06-27T07:15:12.436Z"
   },
   {
    "duration": 9,
    "start_time": "2024-06-27T07:15:12.461Z"
   },
   {
    "duration": 378,
    "start_time": "2024-06-27T07:15:12.471Z"
   },
   {
    "duration": 4,
    "start_time": "2024-06-27T07:15:35.527Z"
   },
   {
    "duration": 30,
    "start_time": "2024-06-27T07:15:35.981Z"
   },
   {
    "duration": 3,
    "start_time": "2024-06-27T07:16:27.051Z"
   },
   {
    "duration": 35,
    "start_time": "2024-06-27T07:16:27.492Z"
   },
   {
    "duration": 539,
    "start_time": "2024-06-27T07:16:30.881Z"
   },
   {
    "duration": 4,
    "start_time": "2024-06-27T07:16:31.422Z"
   },
   {
    "duration": 622,
    "start_time": "2024-06-27T07:16:31.873Z"
   },
   {
    "duration": 5,
    "start_time": "2024-06-27T07:16:58.151Z"
   },
   {
    "duration": 921,
    "start_time": "2024-06-27T07:16:58.692Z"
   },
   {
    "duration": 37,
    "start_time": "2024-06-27T07:16:59.615Z"
   },
   {
    "duration": 8,
    "start_time": "2024-06-27T07:16:59.842Z"
   },
   {
    "duration": 26,
    "start_time": "2024-06-27T07:17:00.678Z"
   },
   {
    "duration": 4,
    "start_time": "2024-06-27T07:17:02.089Z"
   },
   {
    "duration": 753,
    "start_time": "2024-06-27T07:17:02.971Z"
   },
   {
    "duration": 738,
    "start_time": "2024-06-27T07:17:03.726Z"
   },
   {
    "duration": 2,
    "start_time": "2024-06-27T07:17:05.692Z"
   },
   {
    "duration": 34,
    "start_time": "2024-06-27T07:17:05.893Z"
   },
   {
    "duration": 478,
    "start_time": "2024-06-27T07:17:06.328Z"
   },
   {
    "duration": 4,
    "start_time": "2024-06-27T07:17:06.808Z"
   },
   {
    "duration": 2742548,
    "start_time": "2024-06-27T07:17:06.813Z"
   },
   {
    "duration": 6699,
    "start_time": "2024-06-27T08:02:49.363Z"
   },
   {
    "duration": 9,
    "start_time": "2024-06-27T08:11:54.957Z"
   },
   {
    "duration": 25,
    "start_time": "2024-06-27T08:12:06.495Z"
   },
   {
    "duration": 6,
    "start_time": "2024-06-27T08:12:19.274Z"
   },
   {
    "duration": 18,
    "start_time": "2024-06-27T08:12:23.444Z"
   },
   {
    "duration": 6,
    "start_time": "2024-06-27T08:12:25.950Z"
   },
   {
    "duration": 18,
    "start_time": "2024-06-27T08:12:27.571Z"
   },
   {
    "duration": 26,
    "start_time": "2024-06-27T08:16:24.139Z"
   },
   {
    "duration": 3,
    "start_time": "2024-06-27T08:24:35.448Z"
   },
   {
    "duration": 3,
    "start_time": "2024-06-27T08:24:47.823Z"
   },
   {
    "duration": 81179,
    "start_time": "2024-06-27T08:25:48.473Z"
   },
   {
    "duration": 81319,
    "start_time": "2024-06-27T08:27:38.731Z"
   },
   {
    "duration": 2,
    "start_time": "2024-06-27T08:33:00.229Z"
   },
   {
    "duration": 2,
    "start_time": "2024-06-27T08:33:00.505Z"
   },
   {
    "duration": 82214,
    "start_time": "2024-06-27T08:33:00.935Z"
   },
   {
    "duration": 78702,
    "start_time": "2024-06-27T08:34:23.151Z"
   },
   {
    "duration": 42,
    "start_time": "2024-06-27T08:36:32.707Z"
   },
   {
    "duration": 423376,
    "start_time": "2024-06-27T08:37:00.109Z"
   },
   {
    "duration": 19,
    "start_time": "2024-06-27T08:44:03.487Z"
   },
   {
    "duration": 0,
    "start_time": "2024-06-27T08:44:03.508Z"
   },
   {
    "duration": 0,
    "start_time": "2024-06-27T08:44:03.509Z"
   },
   {
    "duration": 0,
    "start_time": "2024-06-27T08:44:03.510Z"
   },
   {
    "duration": 0,
    "start_time": "2024-06-27T08:44:03.512Z"
   },
   {
    "duration": 915,
    "start_time": "2024-06-27T08:45:41.876Z"
   },
   {
    "duration": 14356,
    "start_time": "2024-06-27T08:45:42.793Z"
   },
   {
    "duration": 6,
    "start_time": "2024-06-27T08:45:57.245Z"
   },
   {
    "duration": 1157813,
    "start_time": "2024-06-27T08:45:57.253Z"
   },
   {
    "duration": 0,
    "start_time": "2024-06-27T09:05:15.068Z"
   },
   {
    "duration": 0,
    "start_time": "2024-06-27T09:05:15.070Z"
   },
   {
    "duration": 0,
    "start_time": "2024-06-27T09:05:15.071Z"
   },
   {
    "duration": 6,
    "start_time": "2024-06-27T09:06:36.575Z"
   },
   {
    "duration": 1194855,
    "start_time": "2024-06-27T09:06:42.925Z"
   },
   {
    "duration": 0,
    "start_time": "2024-06-27T09:26:37.782Z"
   },
   {
    "duration": 0,
    "start_time": "2024-06-27T09:26:37.783Z"
   },
   {
    "duration": 1187399,
    "start_time": "2024-06-27T09:42:58.859Z"
   },
   {
    "duration": 8,
    "start_time": "2024-06-27T10:15:35.103Z"
   },
   {
    "duration": 14342,
    "start_time": "2024-06-27T10:36:35.704Z"
   },
   {
    "duration": 4290,
    "start_time": "2024-06-27T10:48:08.218Z"
   },
   {
    "duration": 911,
    "start_time": "2024-06-27T10:48:12.510Z"
   },
   {
    "duration": 35,
    "start_time": "2024-06-27T10:48:13.422Z"
   },
   {
    "duration": 23,
    "start_time": "2024-06-27T10:48:13.459Z"
   },
   {
    "duration": 43,
    "start_time": "2024-06-27T10:48:13.483Z"
   },
   {
    "duration": 19,
    "start_time": "2024-06-27T10:48:13.528Z"
   },
   {
    "duration": 16,
    "start_time": "2024-06-27T10:48:13.548Z"
   },
   {
    "duration": 418,
    "start_time": "2024-06-27T10:48:13.566Z"
   },
   {
    "duration": 3,
    "start_time": "2024-06-27T10:48:13.986Z"
   },
   {
    "duration": 50,
    "start_time": "2024-06-27T10:48:13.991Z"
   },
   {
    "duration": 526,
    "start_time": "2024-06-27T10:48:14.043Z"
   },
   {
    "duration": 4,
    "start_time": "2024-06-27T10:48:14.570Z"
   },
   {
    "duration": 2722509,
    "start_time": "2024-06-27T10:48:14.576Z"
   },
   {
    "duration": 6617,
    "start_time": "2024-06-27T11:33:37.086Z"
   },
   {
    "duration": 3,
    "start_time": "2024-06-27T11:33:43.705Z"
   },
   {
    "duration": 7,
    "start_time": "2024-06-27T11:33:43.709Z"
   },
   {
    "duration": 83137,
    "start_time": "2024-06-27T11:33:43.718Z"
   },
   {
    "duration": 79802,
    "start_time": "2024-06-27T11:35:06.947Z"
   },
   {
    "duration": 133,
    "start_time": "2024-06-27T11:36:26.751Z"
   },
   {
    "duration": 416215,
    "start_time": "2024-06-27T11:36:26.886Z"
   },
   {
    "duration": 959,
    "start_time": "2024-06-27T11:43:23.103Z"
   },
   {
    "duration": 17391,
    "start_time": "2024-06-27T11:43:24.064Z"
   },
   {
    "duration": 4,
    "start_time": "2024-06-27T11:43:41.547Z"
   },
   {
    "duration": 421,
    "start_time": "2024-06-27T11:43:41.553Z"
   },
   {
    "duration": 0,
    "start_time": "2024-06-27T11:43:41.976Z"
   },
   {
    "duration": 0,
    "start_time": "2024-06-27T11:43:41.977Z"
   },
   {
    "duration": 0,
    "start_time": "2024-06-27T11:43:41.978Z"
   },
   {
    "duration": 1167994,
    "start_time": "2024-06-27T11:52:21.559Z"
   },
   {
    "duration": 18902,
    "start_time": "2024-06-27T12:11:49.556Z"
   },
   {
    "duration": 4,
    "start_time": "2024-06-27T12:12:08.460Z"
   },
   {
    "duration": 13,
    "start_time": "2024-06-27T12:12:08.465Z"
   },
   {
    "duration": 4880,
    "start_time": "2024-06-28T07:49:25.367Z"
   },
   {
    "duration": 3331,
    "start_time": "2024-06-28T07:49:30.249Z"
   },
   {
    "duration": 38,
    "start_time": "2024-06-28T07:49:33.582Z"
   },
   {
    "duration": 13,
    "start_time": "2024-06-28T07:49:33.623Z"
   },
   {
    "duration": 50,
    "start_time": "2024-06-28T07:49:33.638Z"
   },
   {
    "duration": 9,
    "start_time": "2024-06-28T07:49:33.689Z"
   },
   {
    "duration": 22,
    "start_time": "2024-06-28T07:49:33.699Z"
   },
   {
    "duration": 453,
    "start_time": "2024-06-28T07:49:33.723Z"
   },
   {
    "duration": 2,
    "start_time": "2024-06-28T07:49:34.178Z"
   },
   {
    "duration": 43,
    "start_time": "2024-06-28T07:49:34.182Z"
   },
   {
    "duration": 605,
    "start_time": "2024-06-28T07:49:34.227Z"
   },
   {
    "duration": 4,
    "start_time": "2024-06-28T07:49:34.834Z"
   },
   {
    "duration": 2992754,
    "start_time": "2024-06-28T07:49:34.840Z"
   },
   {
    "duration": 7549,
    "start_time": "2024-06-28T08:39:27.597Z"
   },
   {
    "duration": 3,
    "start_time": "2024-06-28T08:39:35.148Z"
   },
   {
    "duration": 9,
    "start_time": "2024-06-28T08:39:35.152Z"
   },
   {
    "duration": 80232,
    "start_time": "2024-06-28T08:39:35.163Z"
   },
   {
    "duration": 75603,
    "start_time": "2024-06-28T08:40:55.397Z"
   },
   {
    "duration": 4,
    "start_time": "2024-06-28T08:42:11.091Z"
   },
   {
    "duration": 1111399,
    "start_time": "2024-06-28T08:42:11.097Z"
   },
   {
    "duration": 15506,
    "start_time": "2024-06-28T09:00:42.498Z"
   },
   {
    "duration": 7,
    "start_time": "2024-06-28T09:00:58.006Z"
   },
   {
    "duration": 23,
    "start_time": "2024-06-28T09:00:58.015Z"
   }
  ],
  "kernelspec": {
   "display_name": "Python 3 (ipykernel)",
   "language": "python",
   "name": "python3"
  },
  "language_info": {
   "codemirror_mode": {
    "name": "ipython",
    "version": 3
   },
   "file_extension": ".py",
   "mimetype": "text/x-python",
   "name": "python",
   "nbconvert_exporter": "python",
   "pygments_lexer": "ipython3",
   "version": "3.9.5"
  },
  "toc": {
   "base_numbering": 1,
   "nav_menu": {},
   "number_sections": true,
   "sideBar": true,
   "skip_h1_title": true,
   "title_cell": "Содержание",
   "title_sidebar": "Contents",
   "toc_cell": true,
   "toc_position": {
    "height": "calc(100% - 180px)",
    "left": "10px",
    "top": "150px",
    "width": "165px"
   },
   "toc_section_display": true,
   "toc_window_display": true
  }
 },
 "nbformat": 4,
 "nbformat_minor": 2
}
